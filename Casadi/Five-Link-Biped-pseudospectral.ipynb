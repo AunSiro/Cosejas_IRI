{
 "cells": [
  {
   "cell_type": "code",
   "execution_count": null,
   "id": "b1f6cd9b",
   "metadata": {},
   "outputs": [],
   "source": [
    "import numpy as np\n",
    "import matplotlib.pyplot as plt"
   ]
  },
  {
   "cell_type": "code",
   "execution_count": null,
   "id": "9cf02b82",
   "metadata": {},
   "outputs": [],
   "source": [
    "from sympy import (symbols, simplify)\n",
    "from sympy.physics.mechanics import dynamicsymbols, init_vprinting\n",
    "from sympy.physics.mechanics import Lagrangian, ReferenceFrame, Point, Particle,inertia, RigidBody, angular_momentum"
   ]
  },
  {
   "cell_type": "code",
   "execution_count": null,
   "id": "bf1ec76d",
   "metadata": {},
   "outputs": [],
   "source": [
    "from optibot.symbolic import lagrange, diff_to_symb, SimpLagrangesMethod\n",
    "from optibot.numpy import unpack"
   ]
  },
  {
   "cell_type": "code",
   "execution_count": null,
   "id": "072a034c",
   "metadata": {},
   "outputs": [],
   "source": [
    "init_vprinting()"
   ]
  },
  {
   "cell_type": "markdown",
   "id": "adaeac40",
   "metadata": {},
   "source": [
    "### Symbolic Problem Modelling"
   ]
  },
  {
   "cell_type": "code",
   "execution_count": null,
   "id": "48219687",
   "metadata": {},
   "outputs": [],
   "source": [
    "m0, m1, m2, m3, m4, l0, l1, l2, l3, l4, t, g = symbols('m_0:5 l_0:5 t g')\n",
    "I0, I1, I2, I3, I4, d0, d1, d2, d3, d4 = symbols('I_0:5 d_0:5')\n",
    "q0, q1, q2, q3, q4 = dynamicsymbols('q_0:5')\n",
    "m0, m1, m2, m3, m4, l0, l1, l2, l3, l4, t, g, I0, I1, I2, I3, I4, d0, d1, d2, d3, d4, q0, q1, q2, q3, q4"
   ]
  },
  {
   "cell_type": "code",
   "execution_count": null,
   "id": "572b34fb",
   "metadata": {},
   "outputs": [],
   "source": [
    "N_in = ReferenceFrame('N')\n",
    "P0 = Point('P0')\n",
    "P0.set_vel(N_in, 0)\n",
    "\n",
    "N0 = N_in.orientnew('N0', 'Axis', [q0, N_in.z])\n",
    "P1 = P0.locatenew('P1', l0 * N0.y)\n",
    "P1.set_vel(N_in, P1.pos_from(P0).dt(N_in))\n",
    "CM0 = P0.locatenew('CM0', (l0-d0) * N0.y)\n",
    "CM0.set_vel(N_in, CM0.pos_from(P0).dt(N_in))\n",
    "I_0 = inertia(N0, 0, 0, I0)\n",
    "body0 = RigidBody('Stance_Tibia', CM0, N0, m0, (I_0,CM0))\n",
    "body0.potential_energy = m0 * g * CM0.pos_from(P0).dot(N_in.y)\n",
    "\n",
    "\n",
    "N1 = N_in.orientnew('N1', 'Axis', [q1, N_in.z])\n",
    "P2 = P1.locatenew('P2', l1 * N1.y)\n",
    "P2.set_vel(N_in, P2.pos_from(P0).dt(N_in))\n",
    "CM1 = P1.locatenew('CM1', (l1-d1) * N1.y)\n",
    "CM1.set_vel(N_in, CM1.pos_from(P0).dt(N_in))\n",
    "I_1 = inertia(N1, 0, 0, I1)\n",
    "body1 = RigidBody('Stance_Femur', CM1, N1, m1, (I_1,CM1))\n",
    "body1.potential_energy = m1 * g * CM1.pos_from(P0).dot(N_in.y)\n",
    "\n",
    "\n",
    "N2 = N_in.orientnew('N2', 'Axis', [q2, N_in.z])\n",
    "P3 = P2.locatenew('P3', l2 * N2.y)\n",
    "P3.set_vel(N_in, P3.pos_from(P0).dt(N_in))\n",
    "CM2 = P2.locatenew('CM2', d2 * N2.y)\n",
    "CM2.set_vel(N_in, CM2.pos_from(P0).dt(N_in))\n",
    "I_2 = inertia(N2, 0, 0, I2)\n",
    "body2 = RigidBody('Torso', CM2, N2, m2, (I_2,CM2))\n",
    "body2.potential_energy = m2 * g * CM2.pos_from(P0).dot(N_in.y)\n",
    "\n",
    "\n",
    "N3 = N_in.orientnew('N3', 'Axis', [q3, N_in.z])\n",
    "P4 = P2.locatenew('P4', -l3 * N3.y)\n",
    "P4.set_vel(N_in, P4.pos_from(P0).dt(N_in))\n",
    "CM3 = P2.locatenew('CM3', -d3 * N3.y)\n",
    "CM3.set_vel(N_in, CM3.pos_from(P0).dt(N_in))\n",
    "I_3 = inertia(N3, 0, 0, I3)\n",
    "body3 = RigidBody('Swing_Femur', CM3, N3, m3, (I_3,CM3))\n",
    "body3.potential_energy = m3 * g * CM3.pos_from(P0).dot(N_in.y)\n",
    "\n",
    "\n",
    "N4 = N_in.orientnew('N4', 'Axis', [q4, N_in.z])\n",
    "P5 = P4.locatenew('P5', -l4 * N4.y)\n",
    "P5.set_vel(N_in, P5.pos_from(P0).dt(N_in))\n",
    "CM4 = P4.locatenew('CM4', -d4 * N4.y)\n",
    "CM4.set_vel(N_in, CM4.pos_from(P0).dt(N_in))\n",
    "I_4 = inertia(N4, 0, 0, I4)\n",
    "body4 = RigidBody('Swing_Tibia', CM4, N4, m4, (I_4,CM4))\n",
    "body4.potential_energy = m4 * g * CM4.pos_from(P0).dot(N_in.y)"
   ]
  },
  {
   "cell_type": "code",
   "execution_count": null,
   "id": "95980f54",
   "metadata": {},
   "outputs": [],
   "source": [
    "Lag_simp = Lagrangian(N_in, body0, body1, body2, body3, body4)\n",
    "Lag_simp"
   ]
  },
  {
   "cell_type": "code",
   "execution_count": null,
   "id": "1e7fe237",
   "metadata": {},
   "outputs": [],
   "source": [
    "from optibot.symbolic import ImplicitLagrangesMethod"
   ]
  },
  {
   "cell_type": "code",
   "execution_count": null,
   "id": "2f931cee",
   "metadata": {},
   "outputs": [],
   "source": [
    "u0, u1, u2, u3, u4 = symbols('u_:5')\n",
    "FL = [\n",
    "    (N0, (u0-u1) * N_in.z),\n",
    "    (N1, (u1-u2) * N_in.z),\n",
    "    (N2, (u2-u3) * N_in.z),\n",
    "    (N3, (u3-u4) * N_in.z),\n",
    "    (N4, u4 * N_in.z)\n",
    "]\n",
    "LM_small = ImplicitLagrangesMethod(Lag_simp, [q0, q1, q2, q3, q4], forcelist=FL, frame=N_in)"
   ]
  },
  {
   "cell_type": "code",
   "execution_count": null,
   "id": "2fe1aa6f",
   "metadata": {},
   "outputs": [],
   "source": [
    "LM_small.form_lagranges_equations()"
   ]
  },
  {
   "cell_type": "code",
   "execution_count": null,
   "id": "c2735e6b",
   "metadata": {
    "scrolled": true
   },
   "outputs": [],
   "source": [
    "impl_x = LM_small.implicit_dynamics_x"
   ]
  },
  {
   "cell_type": "code",
   "execution_count": null,
   "id": "2c1e2b7e",
   "metadata": {},
   "outputs": [],
   "source": [
    "impl_q = LM_small.implicit_dynamics_q"
   ]
  },
  {
   "cell_type": "code",
   "execution_count": null,
   "id": "ba987f28",
   "metadata": {},
   "outputs": [],
   "source": [
    "from optibot.casadi import implicit_dynamic_q_to_casadi_function, implicit_dynamic_x_to_casadi_function\n",
    "from optibot.symbolic import find_arguments"
   ]
  },
  {
   "cell_type": "code",
   "execution_count": null,
   "id": "4f045bbd",
   "metadata": {},
   "outputs": [],
   "source": [
    "find_arguments(impl_q, list(LM_small._q), separate_as=True, separate_lambdas=True, verbose=True)"
   ]
  },
  {
   "cell_type": "code",
   "execution_count": null,
   "id": "a7253d31",
   "metadata": {},
   "outputs": [],
   "source": [
    "imp_dyn_x_f_cas = implicit_dynamic_x_to_casadi_function(impl_x, list(dynamicsymbols('x_0:10')), verbose=True)"
   ]
  },
  {
   "cell_type": "code",
   "execution_count": null,
   "id": "94932d92",
   "metadata": {},
   "outputs": [],
   "source": [
    "imp_dyn_q_f_cas = implicit_dynamic_q_to_casadi_function(impl_q, list(LM_small.q), verbose=True)"
   ]
  },
  {
   "cell_type": "markdown",
   "id": "a81cbe75",
   "metadata": {},
   "source": [
    "Lag_num = Lag_simp.subs([\n",
    "    [m0,3.2],\n",
    "    [m1,6.8],\n",
    "    [m2,20],\n",
    "    [m3,6.8],\n",
    "    [m4,3.2],\n",
    "    [l0,0.4],\n",
    "    [l1,0.4],\n",
    "    [l2,0.625],\n",
    "    [l3,0.4],\n",
    "    [l4,0.4],\n",
    "    [I0,0.93],\n",
    "    [I1,1.08],\n",
    "    [I2,2.22],\n",
    "    [I3,1.08],\n",
    "    [I4,0.93],\n",
    "    [d0,1.128],\n",
    "    [d1,0.163],\n",
    "    [d2,0.2],\n",
    "    [d3,0.163],\n",
    "    [d4,0.128],\n",
    "    [g, 9.81]\n",
    "])\n",
    "Lag_num"
   ]
  },
  {
   "cell_type": "code",
   "execution_count": null,
   "id": "0ebb0f12",
   "metadata": {},
   "outputs": [],
   "source": [
    "imp_dyn_q_f_cas"
   ]
  },
  {
   "cell_type": "code",
   "execution_count": null,
   "id": "2721faa9",
   "metadata": {},
   "outputs": [],
   "source": [
    "imp_dyn_x_f_cas"
   ]
  },
  {
   "cell_type": "code",
   "execution_count": null,
   "id": "187d2ae6",
   "metadata": {},
   "outputs": [],
   "source": [
    "from optibot.symbolic import diff_to_symb_expr"
   ]
  },
  {
   "cell_type": "code",
   "execution_count": null,
   "id": "62c52025",
   "metadata": {
    "scrolled": true
   },
   "outputs": [],
   "source": [
    "feet_x = P5.pos_from(P0).dot(N_in.x)\n",
    "feet_x = diff_to_symb_expr(feet_x)\n",
    "feet_x"
   ]
  },
  {
   "cell_type": "code",
   "execution_count": null,
   "id": "99ab5029",
   "metadata": {},
   "outputs": [],
   "source": [
    "feet_y = P5.pos_from(P0).dot(N_in.y)\n",
    "feet_y = diff_to_symb_expr(feet_y)\n",
    "feet_y"
   ]
  },
  {
   "cell_type": "code",
   "execution_count": null,
   "id": "828f68d3",
   "metadata": {},
   "outputs": [],
   "source": [
    "feet_y_vel = P5.vel(N_in).dot(N_in.y)   #pos_from(P0).dot(N_in.y)\n",
    "feet_y_vel = diff_to_symb_expr(feet_y_vel)\n",
    "feet_y_vel"
   ]
  },
  {
   "cell_type": "code",
   "execution_count": null,
   "id": "ce528447",
   "metadata": {},
   "outputs": [],
   "source": [
    "cm_pos = m0*CM0.pos_from(P0)\n",
    "cm_pos += m1*CM1.pos_from(P0)\n",
    "cm_pos += m2*CM2.pos_from(P0)\n",
    "cm_pos += m3*CM3.pos_from(P0)\n",
    "cm_pos += m4*CM4.pos_from(P0)\n",
    "cm_pos = cm_pos/(m0+m1+m2+m3+m4)\n",
    "\n",
    "sys_CM = P0.locatenew('Sys_CM', cm_pos)\n",
    "sys_CM_x = simplify(sys_CM.pos_from(P0).dot(N_in.x))\n",
    "sys_CM_y = simplify(sys_CM.pos_from(P0).dot(N_in.y))"
   ]
  },
  {
   "cell_type": "code",
   "execution_count": null,
   "id": "afd00d20",
   "metadata": {},
   "outputs": [],
   "source": [
    "from sympy import lambdify"
   ]
  },
  {
   "cell_type": "code",
   "execution_count": null,
   "id": "bbab5a63",
   "metadata": {},
   "outputs": [],
   "source": [
    "import casadi as cas\n",
    "from optibot.casadi import sympy2casadi"
   ]
  },
  {
   "cell_type": "code",
   "execution_count": null,
   "id": "dc652dcb",
   "metadata": {},
   "outputs": [],
   "source": [
    "sym_x = dynamicsymbols('q_0:5')\n",
    "sym_x = sym_x + [ii.diff() for ii in sym_x]\n",
    "sym_x = [diff_to_symb(ii) for ii in sym_x]\n",
    "sym_params = list(symbols('I_0:5 d_0:5 g l_0:2 l_3 m_0:5'))\n",
    "sym_add_params = [symbols('l_4'),]\n",
    "sym_vars = sym_x + sym_params + sym_add_params\n",
    "\n",
    "print(len(sym_vars), sym_vars)"
   ]
  },
  {
   "cell_type": "code",
   "execution_count": null,
   "id": "ec81e447",
   "metadata": {},
   "outputs": [],
   "source": [
    "cas_x_args = cas.MX.sym(\"x\", len(sym_x))\n",
    "cas_params = cas.MX.sym(\"p\", len(sym_params))\n",
    "cas_add_params = cas.MX.sym(\"p_add\", len(sym_add_params))\n",
    "cas_all_vars = [cas_x_args[ii] for ii in range(len(sym_x))]\n",
    "cas_all_vars += [cas_params[ii] for ii in range(len(sym_params))]\n",
    "cas_all_vars += [cas_add_params[ii] for ii in range(len(sym_add_params))]\n",
    "print(len(cas_all_vars), cas_all_vars)"
   ]
  },
  {
   "cell_type": "code",
   "execution_count": null,
   "id": "5322ec96",
   "metadata": {},
   "outputs": [],
   "source": [
    "_cas_expr_temp_x = sympy2casadi(feet_x, sym_vars, cas_all_vars)\n",
    "feet_x_cas = cas.Function(\n",
    "        \"Feet_x\",\n",
    "        [cas_x_args, cas_params, cas_add_params],\n",
    "        [_cas_expr_temp_x,],\n",
    "        [\"x\", \"params\", \"additional_params\"],\n",
    "        [\"feet_x_position\"],\n",
    "    )"
   ]
  },
  {
   "cell_type": "code",
   "execution_count": null,
   "id": "f9baee53",
   "metadata": {},
   "outputs": [],
   "source": [
    "feet_x_cas"
   ]
  },
  {
   "cell_type": "code",
   "execution_count": null,
   "id": "78ab102b",
   "metadata": {},
   "outputs": [],
   "source": [
    "_cas_expr_temp_y = sympy2casadi(feet_y, sym_vars, cas_all_vars)\n",
    "feet_y_cas = cas.Function(\n",
    "        \"Feet_y\",\n",
    "        [cas_x_args, cas_params, cas_add_params],\n",
    "        [_cas_expr_temp_y,],\n",
    "        [\"x\", \"params\", \"additional_params\"],\n",
    "        [\"feet_y_position\"],\n",
    "    )"
   ]
  },
  {
   "cell_type": "code",
   "execution_count": null,
   "id": "2e20fff7",
   "metadata": {},
   "outputs": [],
   "source": [
    "feet_y_cas"
   ]
  },
  {
   "cell_type": "code",
   "execution_count": null,
   "id": "6f0cfbd3",
   "metadata": {},
   "outputs": [],
   "source": [
    "_cas_expr_temp_y_vel = sympy2casadi(feet_y_vel, sym_vars, cas_all_vars)\n",
    "feet_y_vel_cas = cas.Function(\n",
    "        \"Feet_y_vel\",\n",
    "        [cas_x_args, cas_params, cas_add_params],\n",
    "        [_cas_expr_temp_y_vel,],\n",
    "        [\"x\", \"params\", \"additional_params\"],\n",
    "        [\"feet_y_speed\"],\n",
    "    )"
   ]
  },
  {
   "cell_type": "code",
   "execution_count": null,
   "id": "7a2dba5a",
   "metadata": {},
   "outputs": [],
   "source": [
    "feet_y_vel_cas"
   ]
  },
  {
   "cell_type": "code",
   "execution_count": null,
   "id": "271543e2",
   "metadata": {},
   "outputs": [],
   "source": [
    "def simetric_cond_casadi(n = 5):\n",
    "    x1 = cas.MX.sym('x_1', 2*n)\n",
    "    x2 = cas.MX.sym('x_2', 2*n)\n",
    "    cond = [x1[ii] - x2[n-1-ii] for ii in range(n)]\n",
    "    cas_funcs = cas.horzcat(*cond)\n",
    "    return cas.Function(\n",
    "        \"Sim_cond\",\n",
    "        [x1, x2],\n",
    "        [cas_funcs,],\n",
    "        [\"x_1\", \"x2\"],\n",
    "        [\"residue\"],\n",
    "    )"
   ]
  },
  {
   "cell_type": "code",
   "execution_count": null,
   "id": "9dc41926",
   "metadata": {},
   "outputs": [],
   "source": [
    "simetric_5_links = simetric_cond_casadi(5)\n",
    "simetric_5_links"
   ]
  },
  {
   "cell_type": "code",
   "execution_count": null,
   "id": "3a8b731f",
   "metadata": {},
   "outputs": [],
   "source": [
    "bodies = [body0, body1, body2, body3, body4]\n",
    "points_right = [P0, P1, P2, P2, P4]\n",
    "points_left = [P5, P4, P2, P2, P1]\n",
    "subs_key = list(zip(dynamicsymbols('q_0:5'),dynamicsymbols('q_p_0:5')))\n",
    "\n",
    "impact_eqs = []\n",
    "for ii in range(5):\n",
    "    print('calculating eq', ii)\n",
    "    print('\\tleft side')\n",
    "    left_side = angular_momentum(points_left[ii], N_in, *bodies[:5-ii]).dot(N_in.z)\n",
    "    left_side = simplify(left_side)\n",
    "    print('\\tright side')\n",
    "    right_side = angular_momentum(points_right[ii], N_in, *bodies[ii:]).dot(N_in.z)\n",
    "    right_side = simplify(right_side).subs(subs_key)\n",
    "    impact_eqs.append(left_side-right_side)\n",
    "#impact_eqs"
   ]
  },
  {
   "cell_type": "code",
   "execution_count": null,
   "id": "f3d34287",
   "metadata": {},
   "outputs": [],
   "source": [
    "for ii in range(5):\n",
    "    print(points_left[ii],bodies[:5-ii])\n",
    "for ii in range(5):\n",
    "    print(points_right[ii],bodies[ii:])"
   ]
  },
  {
   "cell_type": "code",
   "execution_count": null,
   "id": "1a75f77f",
   "metadata": {},
   "outputs": [],
   "source": [
    "def impact_cond_casadi(eqs, x1_sym, x2_sym, sym_params, sym_add_params):\n",
    "    x1_sym = [diff_to_symb(ii) for ii in x1_sym]\n",
    "    x2_sym = [diff_to_symb(ii) for ii in x2_sym]\n",
    "    eqs = [diff_to_symb_expr(ii) for ii in eqs]\n",
    "\n",
    "    all_vars = x1_sym + x2_sym + sym_params + sym_add_params\n",
    "    n = len(x1_sym)\n",
    "    cas_x1 = cas.MX.sym('x_1', n)\n",
    "    cas_x2 = cas.MX.sym('x_2', n)\n",
    "    cas_params = cas.MX.sym(\"p\", len(sym_params))\n",
    "    cas_add_params = cas.MX.sym(\"p_add\", len(sym_add_params))\n",
    "    cas_all_vars = [cas_x1[ii] for ii in range(n)]\n",
    "    cas_all_vars += [cas_x2[ii] for ii in range(n)]\n",
    "    cas_all_vars += [cas_params[ii] for ii in range(len(sym_params))]\n",
    "    cas_all_vars += [cas_add_params[ii] for ii in range(len(sym_add_params))]\n",
    "    \n",
    "    cas_funcs = []\n",
    "    for function in eqs:\n",
    "        cas_funcs.append(sympy2casadi(function, all_vars, cas_all_vars))\n",
    "    cas_funcs = cas.horzcat(*cas_funcs)\n",
    "    return cas.Function(\n",
    "        \"Sim_cond\",\n",
    "        [cas_x1, cas_x2, cas_params, cas_add_params],\n",
    "        [cas_funcs,],\n",
    "        [\"x_1\", \"x2\", 'params', 'additional_params'],\n",
    "        [\"residue\"],\n",
    "    )"
   ]
  },
  {
   "cell_type": "code",
   "execution_count": null,
   "id": "ac93f537",
   "metadata": {},
   "outputs": [],
   "source": [
    "sym_x = dynamicsymbols('q_0:5')\n",
    "sym_x = sym_x + [ii.diff() for ii in sym_x]\n",
    "subs_key = list(zip(dynamicsymbols('q_0:5'),dynamicsymbols('q_p_0:5')))\n",
    "sym_x_2 = [ii.subs(subs_key) for ii in sym_x]\n",
    "impact_cond_cas_f = impact_cond_casadi(impact_eqs, sym_x,  sym_x_2, sym_params, sym_add_params)"
   ]
  },
  {
   "cell_type": "code",
   "execution_count": null,
   "id": "6f0d6e7e",
   "metadata": {},
   "outputs": [],
   "source": [
    "impact_cond_cas_f"
   ]
  },
  {
   "cell_type": "code",
   "execution_count": null,
   "id": "8c7ef25c",
   "metadata": {},
   "outputs": [],
   "source": [
    "sys_CM_x"
   ]
  },
  {
   "cell_type": "code",
   "execution_count": null,
   "id": "7bdbe18c",
   "metadata": {},
   "outputs": [],
   "source": [
    "sym_x, sym_params"
   ]
  },
  {
   "cell_type": "code",
   "execution_count": null,
   "id": "c582149f",
   "metadata": {},
   "outputs": [],
   "source": [
    "sys_cm_np = lambdify([sym_x, sym_params], [sys_CM_x, sys_CM_y],'numpy')"
   ]
  },
  {
   "cell_type": "code",
   "execution_count": null,
   "id": "8edb4b5d",
   "metadata": {},
   "outputs": [],
   "source": [
    "ang_mom_p0 = angular_momentum(P0, N_in, *bodies).dot(N_in.z)\n",
    "ang_mom_p0_np = lambdify([sym_x, sym_params], ang_mom_p0,'numpy')"
   ]
  },
  {
   "cell_type": "code",
   "execution_count": null,
   "id": "8321b26d",
   "metadata": {},
   "outputs": [],
   "source": [
    "ang_mom_p5 = angular_momentum(P5, N_in, *bodies).dot(N_in.z)\n",
    "ang_mom_p5_np = lambdify([sym_x, sym_params, sym_add_params], ang_mom_p5,'numpy')"
   ]
  },
  {
   "cell_type": "code",
   "execution_count": null,
   "id": "a0c745d9",
   "metadata": {},
   "outputs": [],
   "source": [
    "P5_static = P5.locatenew('P5_static', 0 * N_in.y)\n",
    "P5_static.set_vel(N_in, 0 * N_in.y)"
   ]
  },
  {
   "cell_type": "code",
   "execution_count": null,
   "id": "4ca1b8cc",
   "metadata": {},
   "outputs": [],
   "source": [
    "ang_mom_p5_static = angular_momentum(P5_static, N_in, *bodies).dot(N_in.z)\n",
    "ang_mom_p5_static_np = lambdify([sym_x, sym_params, sym_add_params], ang_mom_p5_static,'numpy')"
   ]
  },
  {
   "cell_type": "code",
   "execution_count": null,
   "id": "39210284",
   "metadata": {},
   "outputs": [],
   "source": [
    "angular_momentum(P5_static, N_in, bodies[-1]).dot(N_in.z)"
   ]
  },
  {
   "cell_type": "code",
   "execution_count": null,
   "id": "9ce3e7c3",
   "metadata": {},
   "outputs": [],
   "source": [
    "angular_momentum(P5, N_in, bodies[-1]).dot(N_in.z)"
   ]
  },
  {
   "cell_type": "code",
   "execution_count": null,
   "id": "e7ee45fb",
   "metadata": {},
   "outputs": [],
   "source": [
    "from sympy.physics.mechanics import kinetic_energy, potential_energy"
   ]
  },
  {
   "cell_type": "code",
   "execution_count": null,
   "id": "7739c8d7",
   "metadata": {},
   "outputs": [],
   "source": [
    "angular_momentum(P0, N_in, bodies[0]).dot(N_in.z)"
   ]
  },
  {
   "cell_type": "code",
   "execution_count": null,
   "id": "265729fc",
   "metadata": {},
   "outputs": [],
   "source": [
    "system_energy = potential_energy(*bodies) + kinetic_energy(N_in, *bodies)"
   ]
  },
  {
   "cell_type": "code",
   "execution_count": null,
   "id": "03bd4e11",
   "metadata": {},
   "outputs": [],
   "source": [
    "system_energy_np = lambdify([sym_x, sym_params], system_energy,'numpy')"
   ]
  },
  {
   "cell_type": "code",
   "execution_count": null,
   "id": "12ac30f7",
   "metadata": {},
   "outputs": [],
   "source": [
    "mass_matrix_np = lambdify([sym_x, sym_params], LM_small.mass_matrix,'numpy')"
   ]
  },
  {
   "cell_type": "code",
   "execution_count": null,
   "id": "a6678011",
   "metadata": {},
   "outputs": [],
   "source": [
    "sym_u = symbols('u_:5')\n",
    "#F_impl_np = lambdify([sym_x, sym_u, symbols('placeholder'), sym_params], LM_small.forcing,'numpy')\n",
    "F_impl_np = lambdify([sym_x, sym_u, sym_params], LM_small.forcing,'numpy')"
   ]
  },
  {
   "cell_type": "markdown",
   "id": "c0f69168",
   "metadata": {},
   "source": [
    "### Casadi optimization"
   ]
  },
  {
   "cell_type": "code",
   "execution_count": null,
   "id": "89045c9f",
   "metadata": {},
   "outputs": [],
   "source": [
    "from optibot.casadi import accelrestriction2casadi\n",
    "from optibot.schemes import (euler_accel_restr, trapz_accel_restr, trapz_mod_accel_restr,\n",
    "                             hs_mod_accel_restr, hs_accel_restr, hs_half_x)"
   ]
  },
  {
   "cell_type": "code",
   "execution_count": null,
   "id": "ed677222",
   "metadata": {},
   "outputs": [],
   "source": [
    "I_0_n, I_1_n, I_2_n, I_3_n, I_4_n = 0.93, 1.08, 2.22, 1.08, 0.93\n",
    "d_0_n, d_1_n, d_2_n, d_3_n, d_4_n = 0.128, 0.163, 0.2, 0.163, 0.128\n",
    "g_n = 9.81\n",
    "l_0_n, l_1_n, l_2_n, l_3_n, l_4_n = 0.4, 0.4, 0.625, 0.4, 0.4\n",
    "m_0_n, m_1_n, m_2_n, m_3_n, m_4_n = 3.2, 6.8, 20, 6.8, 3.2\n",
    "params = [\n",
    "    I_0_n, I_1_n, I_2_n, I_3_n, I_4_n,\n",
    "    d_0_n, d_1_n, d_2_n, d_3_n, d_4_n,\n",
    "    g_n,\n",
    "    l_0_n, l_1_n, l_3_n,\n",
    "    m_0_n, m_1_n, m_2_n, m_3_n, m_4_n\n",
    "]\n",
    "additional_params = [l_4_n,]"
   ]
  },
  {
   "cell_type": "code",
   "execution_count": null,
   "id": "65568ead",
   "metadata": {},
   "outputs": [],
   "source": []
  },
  {
   "cell_type": "code",
   "execution_count": null,
   "id": "6a91b399",
   "metadata": {},
   "outputs": [],
   "source": [
    "opti = cas.Opti()\n",
    "p_opts = {}#{\"expand\":True,'ipopt.print_level':0, 'print_time':0}\n",
    "s_opts = {}#{\"max_iter\": 10000, 'tol': 1e-26}#, 'linear_solver' : \"MA27\"}\n",
    "opti.solver(\"ipopt\",p_opts,\n",
    "                    s_opts)"
   ]
  },
  {
   "cell_type": "code",
   "execution_count": null,
   "id": "8a495fea",
   "metadata": {},
   "outputs": [],
   "source": [
    "N = 50\n",
    "X = opti.variable(N+1,10)\n",
    "X_dot = opti.variable(N+1,10)\n",
    "U = opti.variable(N+1,5)\n",
    "U_c = opti.variable(N,5)\n",
    "X_c = opti.variable(N,10)\n",
    "X_dot_c = opti.variable(N,10)"
   ]
  },
  {
   "cell_type": "code",
   "execution_count": null,
   "id": "4fb416e9",
   "metadata": {},
   "outputs": [],
   "source": [
    "T = opti.parameter()\n",
    "u_m = opti.parameter()\n",
    "Params_opti = opti.parameter(len(params))\n",
    "Add_params_opti = opti.parameter(len(additional_params))\n",
    "D = opti.parameter()"
   ]
  },
  {
   "cell_type": "code",
   "execution_count": null,
   "id": "aa2d65a6",
   "metadata": {},
   "outputs": [],
   "source": [
    "#cost = cas.sum2((cas.sum1(U[:,:]**2)+cas.sum1(U[1:-1,:]**2))/N)\n",
    "cost = cas.sum2((4*cas.sum1(U_c[:,:]**2) + cas.sum1(U[:,:]**2)+cas.sum1(U[1:-1,:]**2))/(3*N))\n",
    "#cost = cas.sum2(cas.sum1(U**2))\n",
    "opti.minimize(cost)"
   ]
  },
  {
   "cell_type": "code",
   "execution_count": null,
   "id": "5a8c0d9c",
   "metadata": {},
   "outputs": [],
   "source": [
    "impact_cond_cas_f"
   ]
  },
  {
   "cell_type": "code",
   "execution_count": null,
   "id": "51fcabcc",
   "metadata": {},
   "outputs": [],
   "source": [
    "#Periodic gait constraint:\n",
    "opti.subject_to(simetric_5_links(X[0,:], X[-1,:]) == 0)\n",
    "opti.subject_to(impact_cond_cas_f(X[-1,:], X[0,:], Params_opti, Add_params_opti) == 0)"
   ]
  },
  {
   "cell_type": "code",
   "execution_count": null,
   "id": "9bb8a74d",
   "metadata": {},
   "outputs": [],
   "source": [
    "#Step size constraint:\n",
    "opti.subject_to(feet_x_cas(X[-1,:], Params_opti, Add_params_opti) == D)\n",
    "opti.subject_to(feet_y_cas(X[-1,:], Params_opti, Add_params_opti) == 0)"
   ]
  },
  {
   "cell_type": "code",
   "execution_count": null,
   "id": "2b3c88be",
   "metadata": {},
   "outputs": [],
   "source": [
    "#Small Feet Conditions:\n",
    "opti.subject_to(U[:,0] == 0)\n",
    "opti.subject_to(U_c[:,0] == 0)\n",
    "opti.subject_to(feet_y_vel_cas(X[0,:], Params_opti, Add_params_opti)>0)\n",
    "opti.subject_to(feet_y_vel_cas(X[-1,:], Params_opti, Add_params_opti)<0)"
   ]
  },
  {
   "cell_type": "code",
   "execution_count": null,
   "id": "66514d84",
   "metadata": {},
   "outputs": [],
   "source": [
    "#Feet over ground Restrictions:\n",
    "for ii in range(1,N):\n",
    "    opti.subject_to(feet_y_cas(X[ii,:], Params_opti, Add_params_opti) > 0)"
   ]
  },
  {
   "cell_type": "code",
   "execution_count": null,
   "id": "956ecc50",
   "metadata": {},
   "outputs": [],
   "source": [
    "imp_dyn_x_f_cas"
   ]
  },
  {
   "cell_type": "code",
   "execution_count": null,
   "id": "3051db54",
   "metadata": {},
   "outputs": [],
   "source": [
    "#Dynamics Constraints:\n",
    "for ii in range(N+1):\n",
    "    opti.subject_to(imp_dyn_x_f_cas(X[ii,:], X_dot[ii,:], U[ii,:], [], Params_opti) == 0)\n",
    "for ii in range(N):\n",
    "    opti.subject_to(X_c[ii,:] == hs_half_x(X[ii,:], X[ii+1,:], X_dot[ii,:], X_dot[ii+1,:], T/N))\n",
    "    opti.subject_to(imp_dyn_x_f_cas(X_c[ii,:], X_dot_c[ii,:], U_c[ii,:], [], Params_opti) == 0)"
   ]
  },
  {
   "cell_type": "code",
   "execution_count": null,
   "id": "c2e51940",
   "metadata": {
    "scrolled": false
   },
   "outputs": [],
   "source": [
    "#Scheme Constraints\n",
    "#cas_accel_restr = accelrestriction2casadi(trapz_accel_restr, 5)\n",
    "cas_accel_restr = accelrestriction2casadi(hs_accel_restr, 5, 5)\n",
    "for ii in range(N):\n",
    "    opti.subject_to(cas_accel_restr(X[ii,:], X[ii+1,:], X_dot[ii, 5:], X_dot[ii+1, 5:],T/N, X_dot_c[ii,5:]) == 0)"
   ]
  },
  {
   "cell_type": "code",
   "execution_count": null,
   "id": "372760e5",
   "metadata": {},
   "outputs": [],
   "source": [
    "opti.set_value(T, 0.7)#0.7\n",
    "opti.set_value(D, 0.5)"
   ]
  },
  {
   "cell_type": "code",
   "execution_count": null,
   "id": "a160b61d",
   "metadata": {},
   "outputs": [],
   "source": [
    "opti.set_value(Params_opti, params)\n",
    "opti.set_value(Add_params_opti, additional_params)"
   ]
  },
  {
   "cell_type": "markdown",
   "id": "f84d01b8",
   "metadata": {},
   "source": [
    "#set initial pose fixed, different problem\n",
    "opti.subject_to(X[0,:].T == [-0.3, 0.7, 0, -0.5, -0.6, 0,0,0,0,0])\n",
    "for ii in range(N):\n",
    "    for jj in range(5):\n",
    "        opti.subject_to(U[ii,jj] < 2)\n",
    "        \n",
    "        opti.subject_to(U[ii,jj] >-2)"
   ]
  },
  {
   "cell_type": "code",
   "execution_count": null,
   "id": "1f0b9de3",
   "metadata": {},
   "outputs": [],
   "source": [
    "q_0_guess = np.array([-0.3, 0.7, 0, -0.5, -0.6])\n",
    "q_1_guess = q_0_guess[::-1]\n",
    "s_arr = np.linspace(0, 1, N+1)\n",
    "q_guess = np.expand_dims(q_0_guess,0)+ np.expand_dims(s_arr,1)*np.expand_dims((q_1_guess - q_0_guess),0)\n",
    "\n",
    "q_dot_guess = (q_1_guess - q_0_guess) * np.ones([N+1,1])/opti.value(T)"
   ]
  },
  {
   "cell_type": "code",
   "execution_count": null,
   "id": "97e731fb",
   "metadata": {},
   "outputs": [],
   "source": [
    "opti.set_initial(X[:,:5], q_guess)\n",
    "opti.set_initial(X[:,5:], q_dot_guess)\n",
    "\n",
    "opti.set_initial(X_c[:,:5], (q_guess[:-1,:]+q_guess[1:,:])/2)\n",
    "opti.set_initial(X_c[:,5:], q_dot_guess[:-1,:])\n",
    "\n",
    "opti.set_initial(X_dot[:,:5], q_dot_guess)\n",
    "opti.set_initial(X_dot[:,5:], 0)\n",
    "\n",
    "opti.set_initial(X_dot_c[:,:5], q_dot_guess[:-1,:])\n",
    "opti.set_initial(X_dot_c[:,5:], 0)\n",
    "\n",
    "opti.set_initial(U, 0)\n",
    "opti.set_initial(U_c, 0)"
   ]
  },
  {
   "cell_type": "code",
   "execution_count": null,
   "id": "a876a587",
   "metadata": {},
   "outputs": [],
   "source": []
  },
  {
   "cell_type": "code",
   "execution_count": null,
   "id": "24c36bae",
   "metadata": {
    "scrolled": false
   },
   "outputs": [],
   "source": [
    "sol = opti.solve()"
   ]
  },
  {
   "cell_type": "code",
   "execution_count": null,
   "id": "c9a994d7",
   "metadata": {},
   "outputs": [],
   "source": [
    "U_sol = sol.value(U)\n",
    "U_c_sol = sol.value(U_c)\n",
    "X_sol = sol.value(X)\n",
    "X_c_sol = sol.value(X_c)\n",
    "X_dot_sol = sol.value(X_dot)\n",
    "X_dot_c_sol = sol.value(X_dot_c)\n",
    "T_sol = sol.value(T)\n",
    "T_sol_arr = np.linspace(0, T_sol, N+1)\n",
    "T_c_arr = (T_sol_arr[:-1]+T_sol_arr[1:])/2"
   ]
  },
  {
   "cell_type": "code",
   "execution_count": null,
   "id": "56a478df",
   "metadata": {},
   "outputs": [],
   "source": [
    "plt.figure(figsize=[14,10])\n",
    "labels= ['stance anckle', 'stance knee', 'stance hip', 'swing hip', 'swing knee']\n",
    "for ii in range(5):\n",
    "    plt.plot(T_sol_arr,U_sol[:,ii], marker = 'o', label = labels[ii])\n",
    "    plt.plot(T_c_arr,U_c_sol[:,ii], 'o', label = labels[ii] + ' u_c')\n",
    "plt.grid()\n",
    "plt.legend()"
   ]
  },
  {
   "cell_type": "markdown",
   "id": "eab55d97",
   "metadata": {},
   "source": [
    "plt.figure(figsize=[14,10])\n",
    "labels= ['stance tibia', 'stance femur', 'torso', 'swing femur', 'swing tibia']\n",
    "for ii in range(5):\n",
    "    plt.plot(T_sol_arr, X_sol[:,ii], marker = 'o', label = labels[ii])\n",
    "    plt.plot(T_c_arr,X_c_sol[:,ii], 'o', label = labels[ii] + ' x_c')\n",
    "plt.grid()\n",
    "plt.legend()"
   ]
  },
  {
   "cell_type": "code",
   "execution_count": null,
   "id": "8b133395",
   "metadata": {},
   "outputs": [],
   "source": [
    "def chain_to_draw(x,params):\n",
    "    [\n",
    "    I_0_n, I_1_n, I_2_n, I_3_n, I_4_n,\n",
    "    d_0_n, d_1_n, d_2_n, d_3_n, d_4_n,\n",
    "    g_n,\n",
    "    l_0_n, l_1_n, l_3_n,\n",
    "    m_0_n, m_1_n, m_2_n, m_3_n, m_4_n\n",
    "    ] = params\n",
    "    points_x = [0, ]\n",
    "    points_y = [0, ]\n",
    "    points_x.append(points_x[-1] - l_0_n*np.sin(x[0]))\n",
    "    points_x.append(points_x[-1] - l_1_n*np.sin(x[1]))\n",
    "    points_x.append(points_x[-1] - l_2_n*np.sin(x[2]))\n",
    "    points_x.append(points_x[-2])\n",
    "    points_x.append(points_x[-1] + l_3_n*np.sin(x[3]))\n",
    "    points_x.append(points_x[-1] + l_4_n*np.sin(x[4]))\n",
    "    \n",
    "    \n",
    "    points_y.append(points_y[-1] + l_0_n*np.cos(x[0]))\n",
    "    points_y.append(points_y[-1] + l_1_n*np.cos(x[1]))\n",
    "    points_y.append(points_y[-1] + l_2_n*np.cos(x[2]))\n",
    "    points_y.append(points_y[-2])\n",
    "    points_y.append(points_y[-1] - l_3_n*np.cos(x[3]))\n",
    "    points_y.append(points_y[-1] - l_4_n*np.cos(x[4]))\n",
    "    \n",
    "    return points_x, points_y"
   ]
  },
  {
   "cell_type": "code",
   "execution_count": null,
   "id": "d47ca290",
   "metadata": {},
   "outputs": [],
   "source": [
    "points_x, points_y = chain_to_draw(X_sol[0], params)"
   ]
  },
  {
   "cell_type": "code",
   "execution_count": null,
   "id": "ce54d361",
   "metadata": {
    "scrolled": false
   },
   "outputs": [],
   "source": [
    "plt.figure(figsize=[15,15])\n",
    "plt.grid()\n",
    "for ii in range(0, 1, 1):\n",
    "    points_x, points_y = chain_to_draw(X_sol[ii], params)\n",
    "    plt.plot(points_x, points_y, marker = 'o', lw=4, ms=12, color = plt.cm.viridis(ii/N))\n",
    "    \n",
    "\n",
    "plt.gca().set_aspect('equal')"
   ]
  },
  {
   "cell_type": "code",
   "execution_count": null,
   "id": "990872d5",
   "metadata": {},
   "outputs": [],
   "source": []
  },
  {
   "cell_type": "code",
   "execution_count": null,
   "id": "e931e7c0",
   "metadata": {},
   "outputs": [],
   "source": [
    "total_mass = m_0_n + m_1_n + m_2_n + m_3_n + m_4_n\n",
    "ang_mom_arr = [ang_mom_p0_np(X_sol[ii,:],params) for ii in range(N+1)]\n",
    "ang_mom_swing_foot_arr = [ang_mom_p5_np(X_sol[ii,:],params, additional_params) for ii in range(N+1)]\n",
    "ang_mom_swing_foot_static_arr = [ang_mom_p5_static_np(X_sol[ii,:],params, additional_params) for ii in range(N+1)]\n",
    "cm_torque_arr = [total_mass * -g_n * sys_cm_np(X_sol[ii,:], params)[0] for ii in range(N+1)]\n",
    "ang_mom_arr_deriv = np.gradient(ang_mom_arr, T_sol_arr)"
   ]
  },
  {
   "cell_type": "markdown",
   "id": "7cda7bb6",
   "metadata": {},
   "source": [
    "plt.figure(figsize=[15,10])\n",
    "\n",
    "plt.plot(T_sol_arr, ang_mom_arr, label = 'angular moment around stance foot')\n",
    "plt.plot(T_sol_arr, ang_mom_swing_foot_arr, label = 'angular moment around swing foot')\n",
    "plt.plot(T_sol_arr, ang_mom_swing_foot_static_arr, label = 'angular moment around static point at swing foot')\n",
    "plt.plot(T_sol_arr, cm_torque_arr)\n",
    "plt.plot(T_sol_arr, ang_mom_arr_deriv)\n",
    "plt.grid()\n",
    "plt.legend()"
   ]
  },
  {
   "cell_type": "code",
   "execution_count": null,
   "id": "5e7b91f6",
   "metadata": {},
   "outputs": [],
   "source": [
    "system_energy_arr = [system_energy_np(X_sol[ii,:],params) for ii in range(N+1)]\n",
    "system_energy_arr_deriv = np.gradient(system_energy_arr, T_sol_arr)\n",
    "joint_angles = -X_sol[:,:4]+X_sol[:,1:5]\n",
    "joint_speeds = -X_sol[:,5:9]+X_sol[:,6:10]\n",
    "external_power = np.sum(joint_speeds*U_sol[:,1:], axis=1)"
   ]
  },
  {
   "cell_type": "markdown",
   "id": "c097a67e",
   "metadata": {},
   "source": [
    "plt.figure(figsize=[15,10])\n",
    "\n",
    "plt.plot(T_sol_arr, system_energy_arr)\n",
    "plt.plot(T_sol_arr, system_energy_arr_deriv)\n",
    "plt.plot(T_sol_arr, external_power)\n",
    "plt.grid()"
   ]
  },
  {
   "cell_type": "markdown",
   "id": "3b57dc22",
   "metadata": {},
   "source": [
    "x_guess = X_sol.copy()\n",
    "x_guess[:,:5] = q_guess\n",
    "x_guess[:,5:] = q_dot_guess"
   ]
  },
  {
   "cell_type": "markdown",
   "id": "9f3c4949",
   "metadata": {
    "scrolled": false
   },
   "source": [
    "plt.figure(figsize=[15,15])\n",
    "plt.grid()\n",
    "for ii in range(N+1):\n",
    "    points_x, points_y = chain_to_draw(x_guess[ii], params)\n",
    "    plt.plot(points_x, points_y, color = plt.cm.viridis(ii/26))\n",
    "    \n",
    "\n",
    "plt.gca().set_aspect('equal')"
   ]
  },
  {
   "cell_type": "code",
   "execution_count": null,
   "id": "2c13008e",
   "metadata": {},
   "outputs": [],
   "source": [
    "from optibot.schemes import interpolated_array, interpolated_array_derivative\n",
    "from optibot.analysis import dynamic_error_implicit"
   ]
  },
  {
   "cell_type": "markdown",
   "id": "d5fd439e",
   "metadata": {
    "scrolled": false
   },
   "source": [
    "n_graph = 1000\n",
    "t_arr = np.linspace(0,2,n_graph)\n",
    "dyn_err_q_hs_lin, dyn_err_v_hs_lin, dyn_err_2_a_hs_lin, dyn_err_2_b_hs_lin = dynamic_error_implicit(\n",
    "    x_arr=X_sol,\n",
    "    u_arr=U_sol,\n",
    "    t_end=T_sol,\n",
    "    params = params,\n",
    "    F = F_impl_np,\n",
    "    M = mass_matrix_np,\n",
    "    lambda_arr = None,\n",
    "    scheme = 'hs_parab', \n",
    "    u_scheme='parab',\n",
    "    scheme_params={'u_c':U_c_sol,\n",
    "                  'x_dot_c': X_dot_c_sol,\n",
    "                  'x_c': X_c_sol},\n",
    "    n_interp= n_graph)\n",
    "\n",
    "\n",
    "for ii in range(5):\n",
    "    plt.figure(figsize=[14,8])\n",
    "    plt.plot(t_arr,-dyn_err_q_hs_lin[:,ii], '-', label = f'q {ii}')\n",
    "    plt.plot(np.linspace(0,2,26), np.zeros(26), 'ok')\n",
    "    plt.legend()\n",
    "    plt.grid()\n"
   ]
  },
  {
   "cell_type": "markdown",
   "id": "ac83f720",
   "metadata": {
    "scrolled": false
   },
   "source": [
    "for ii in range(5):\n",
    "    plt.figure(figsize=[14,8])\n",
    "    plt.plot(t_arr,dyn_err_v_hs_lin[:,ii], '-', label = f'q {ii}')\n",
    "    plt.plot(np.linspace(0,2,26), np.zeros(26), 'ok')\n",
    "    plt.legend()\n",
    "    plt.grid()\n",
    "    plt.figure(figsize=[14,8])\n"
   ]
  },
  {
   "cell_type": "markdown",
   "id": "8d280956",
   "metadata": {
    "scrolled": false
   },
   "source": [
    "for ii in range(5):\n",
    "    plt.figure(figsize=[14,8])\n",
    "    plt.plot(t_arr,dyn_err_2_b_hs_lin[:,ii], '-', label = f'q {ii}')\n",
    "    plt.plot(np.linspace(0,2,26), np.zeros(26), 'ok')\n",
    "    plt.legend()\n",
    "    plt.grid()\n",
    "    plt.figure(figsize=[14,8])\n"
   ]
  },
  {
   "cell_type": "markdown",
   "id": "13728f2a",
   "metadata": {},
   "source": [
    "## Sistematic comparative"
   ]
  },
  {
   "cell_type": "code",
   "execution_count": null,
   "id": "14b8d250",
   "metadata": {},
   "outputs": [],
   "source": [
    "def q_init(N):\n",
    "    q_0_guess = np.array([-0.3, 0.7, 0, -0.5, -0.6])\n",
    "    q_1_guess = q_0_guess[::-1]\n",
    "    s_arr = np.linspace(0, 1, N)\n",
    "    q_guess = np.expand_dims(q_0_guess,0)+ np.expand_dims(s_arr,1)*np.expand_dims((q_1_guess - q_0_guess),0)\n",
    "    q_dot_guess = (q_1_guess - q_0_guess) * np.ones([N,1])/opti.value(T)\n",
    "    return q_guess, q_dot_guess"
   ]
  },
  {
   "cell_type": "code",
   "execution_count": null,
   "id": "a045db4c",
   "metadata": {},
   "outputs": [],
   "source": [
    "import time\n",
    "def chrono_solve(opti, solve_repetitions):\n",
    "    cput0 = time.time()\n",
    "    for ii in range(solve_repetitions):\n",
    "        sol = opti.solve()\n",
    "    cput1 = time.time()\n",
    "    cpudt = (cput1-cput0)/solve_repetitions\n",
    "    return sol, cpudt"
   ]
  },
  {
   "cell_type": "code",
   "execution_count": null,
   "id": "d0b25268",
   "metadata": {},
   "outputs": [],
   "source": [
    "from optibot.pseudospectral import get_bary_extreme_f, coll_points, base_points, matrix_D_bary\n",
    "def get_cost_obj_trap_int(scheme, N):\n",
    "    t_arr = [-1,] + coll_points(N, scheme) + [1,]\n",
    "    t_arr = [float(ii) for ii in t_arr]\n",
    "    start_p_f = get_bary_extreme_f(scheme, N, mode = 'u', point = 'start')\n",
    "    end_p_f = get_bary_extreme_f(scheme, N, mode = 'u', point = 'end')\n",
    "    def obj_f(coefs):\n",
    "        start_p = start_p_f(coefs)\n",
    "        end_p = end_p_f(coefs)\n",
    "        coef_list = [start_p] + [coefs[jj] for jj in range(N)] + [end_p]\n",
    "        sum_res = 0\n",
    "        for jj in range(N+1):\n",
    "            sum_res += (coef_list[jj]**2+coef_list[jj+1]**2)*(t_arr[jj+1]-t_arr[jj])/2            \n",
    "        return sum_res\n",
    "    return obj_f\n",
    "\n",
    "def get_cost_obj_trap_int_cas(scheme, N):\n",
    "    u_sym = cas.SX.sym('u',N)\n",
    "    u_sympy = symbols(f'c0:{N}')\n",
    "    fun = get_cost_obj_trap_int(scheme, N)\n",
    "    sympy_expr = fun(u_sympy)\n",
    "    cas_expr = sympy2casadi(sympy_expr, u_sympy, cas.vertsplit(u_sym))\n",
    "    cas_f = cas.Function(\n",
    "        \"cost_func\",\n",
    "        [u_sym,],\n",
    "        [cas_expr,]\n",
    "    )\n",
    "    return cas_f"
   ]
  },
  {
   "cell_type": "code",
   "execution_count": null,
   "id": "16b98521",
   "metadata": {},
   "outputs": [],
   "source": [
    "def LG_end_p_fun_cas(N, precission=20):\n",
    "    from casadi import SX, vertsplit, Function\n",
    "    from optibot.casadi import sympy2casadi\n",
    "    x_cas = cas.SX.sym('x',N)\n",
    "    x_sympy = symbols(f'c0:{N}')\n",
    "    fun = get_bary_extreme_f('LG', N, mode = 'x', point = 'end')\n",
    "    sympy_expr = fun(x_sympy)\n",
    "    cas_expr = sympy2casadi(sympy_expr, x_sympy, cas.vertsplit(x_cas))\n",
    "    cas_f = cas.Function(\n",
    "        \"dynamics_q\",\n",
    "        [x_cas,],\n",
    "        [cas_expr,]\n",
    "    )\n",
    "    return cas_f"
   ]
  },
  {
   "cell_type": "code",
   "execution_count": null,
   "id": "b53f71be",
   "metadata": {},
   "outputs": [],
   "source": [
    "def opti_setup(col_points = 7, scheme = 'LGL', precission = 20, M = 1, U_dim = 1):\n",
    "    opti = cas.Opti()\n",
    "    opts = {'ipopt.print_level':0, 'print_time':0}\n",
    "    opti.solver('ipopt', opts)\n",
    "    \n",
    "    opt_dict = {\n",
    "        'LGL': [col_points,],\n",
    "        'D2': [col_points,],\n",
    "        'LG2': [col_points+2,],\n",
    "        'LGLm': [col_points+2,],\n",
    "        'LG': [col_points+1,]\n",
    "    }\n",
    "    sch_options = opt_dict[scheme]\n",
    "    N = sch_options[0]\n",
    "    \n",
    "    if scheme == 'LGL' or scheme == 'LG':\n",
    "        x_opti = opti.variable(N, 2*M)\n",
    "    else:\n",
    "        x_opti = opti.variable(N, M)\n",
    "    \n",
    "    u_opti = opti.variable(col_points, U_dim)\n",
    "    tau_arr = base_points(N, scheme, precission)\n",
    "    return opti, N, x_opti, u_opti, tau_arr\n",
    "\n",
    "def opti_start_point_constr(opti, scheme, x_opti, x_dot_opti, x_s, M=1):\n",
    "    if scheme == 'LGL':\n",
    "        opti.subject_to(x_opti[0,:].T == x_s)\n",
    "    elif scheme == 'LG':\n",
    "        opti.subject_to(x_opti[0,:].T == x_s)\n",
    "    elif scheme == 'D2':\n",
    "        opti.subject_to(x_opti[0,:].T == x_s[:M])\n",
    "        opti.subject_to(x_dot_opti[0,:].T == x_s[M:])\n",
    "    elif scheme == 'LG2':\n",
    "        opti.subject_to(x_opti[0,:].T == x_s[:M])\n",
    "        opti.subject_to(x_dot_opti[0,:].T == x_s[M:])\n",
    "    elif scheme == 'LGLm':\n",
    "        opti.subject_to(x_opti[0,:].T == x_s[:M])\n",
    "        opti.subject_to(x_dot_opti[0,:].T == x_s[M:])\n",
    "        \n",
    "def opti_end_point_constr(opti, scheme, x_opti, x_dot_opti, N, x_f, precission = 20, M=1):\n",
    "    if scheme == 'LGL':\n",
    "        opti.subject_to(x_opti[-1,:].T == x_f)\n",
    "    elif scheme == 'LG':\n",
    "        endp_f = LG_end_p_fun_cas(N, precission)\n",
    "        for ii in range(2*M):\n",
    "            opti.subject_to(endp_f(x_opti[:,ii]) == x_f[ii])\n",
    "    elif scheme == 'D2':\n",
    "        opti.subject_to(x_opti[-1,:].T == x_f[:M])\n",
    "        opti.subject_to(x_dot_opti[-1,:].T == x_f[M:])\n",
    "    elif scheme == 'LG2':\n",
    "        opti.subject_to(x_opti[-1,:].T == x_f[:M])\n",
    "        opti.subject_to(x_dot_opti[-1,:].T == x_f[M:])\n",
    "    elif scheme == 'LGLm':\n",
    "        opti.subject_to(x_opti[-1,:].T == x_f[:M])\n",
    "        opti.subject_to(x_dot_opti[-1,:].T == x_f[M:])\n",
    "        \n",
    "def opti_col_point_constr(opti, scheme, x_opti, x_dot_opti, x_dot_dot_opti, u_opti, params,\n",
    "                          dynam_f_x, dynam_f_q, N, M=1):\n",
    "    if scheme == 'LGL':\n",
    "        for ii in range(N):\n",
    "            opti.subject_to(dynam_f_x(x_opti[ii,:], x_dot_opti[ii,:], u_opti[ii,:], [], params)==0)\n",
    "            #opti.subject_to(x_opti[ii,M:] == x_dot_opti[ii,:M]) \n",
    "    if scheme == 'LG':\n",
    "        #opti.subject_to(x_opti[0,1] == x_dot_opti[0,0]) #convert starting into semicollocation point\n",
    "        for ii in range(1, N):\n",
    "            opti.subject_to(dynam_f_x(x_opti[ii,:], x_dot_opti[ii,:], u_opti[ii-1,:], [], params)==0)\n",
    "            #opti.subject_to(x_opti[ii,M:] == x_dot_opti[ii,:M])\n",
    "    elif scheme == 'D2':\n",
    "        for ii in range(N):\n",
    "            opti.subject_to(dynam_f_q(x_opti[ii,:], x_dot_opti[ii,:], x_dot_dot_opti[ii,:], u_opti[ii,:], [], params)==0)\n",
    "    elif scheme == 'LG2':\n",
    "        for ii in range(1, N-1):\n",
    "            opti.subject_to(dynam_f_q(x_opti[ii,:], x_dot_opti[ii,:], x_dot_dot_opti[ii,:], u_opti[ii-1,:], [], params)==0)\n",
    "    elif scheme == 'LGLm':\n",
    "        for ii in range(1, N-1):\n",
    "            opti.subject_to(dynam_f_q(x_opti[ii,:], x_dot_opti[ii,:], x_dot_dot_opti[ii,:], u_opti[ii-1,:], [], params)==0)\n",
    "    \n",
    "\n",
    "def opti_read_sol_arrays(scheme, sol, x_opti, u_opti, D_mat, t_f, t_0, M):\n",
    "    xx_sol = sol.value(x_opti)\n",
    "    uu_sol = sol.value(u_opti)\n",
    "    D_mat = np.array(D_mat)\n",
    "    if scheme == 'LGL':\n",
    "        qq_sol = xx_sol[:,:M]\n",
    "        vv_sol = xx_sol[:,M:]\n",
    "    elif scheme == 'LG':\n",
    "        qq_sol = xx_sol[:,:M]\n",
    "        vv_sol = xx_sol[:,M:]\n",
    "    elif scheme == 'D2':\n",
    "        qq_sol = xx_sol\n",
    "        vv_sol = 2/(t_f - t_0) * D_mat@qq_sol\n",
    "    elif scheme == 'LG2':\n",
    "        qq_sol = xx_sol\n",
    "        vv_sol = 2/(t_f - t_0) * D_mat@qq_sol\n",
    "    elif scheme == 'LGLm':\n",
    "        qq_sol = xx_sol\n",
    "        vv_sol = 2/(t_f - t_0) * D_mat@qq_sol\n",
    "    else:\n",
    "        raise ValueError(f'Unexpected scheme {scheme}')\n",
    "    return qq_sol, vv_sol, uu_sol\n",
    "\n",
    "def extract_concepts(scheme, x_opti, x_dot_opti, x_dot_dot_opti, M):\n",
    "    if scheme == 'LGL':\n",
    "        qq = x_opti[:,:M]\n",
    "        vv = x_opti[:,M:]\n",
    "        aa = x_dot_opti[:,M:]\n",
    "    elif scheme == 'LG':\n",
    "        qq = x_opti[:,:M]\n",
    "        vv = x_opti[:,M:]\n",
    "        aa = x_dot_opti[:,M:]\n",
    "    elif scheme == 'D2':\n",
    "        qq = x_opti\n",
    "        vv = x_dot_opti\n",
    "        aa = x_dot_dot_opti\n",
    "    elif scheme == 'LG2':\n",
    "        qq = x_opti\n",
    "        vv = x_dot_opti\n",
    "        aa = x_dot_dot_opti\n",
    "    elif scheme == 'LGLm':\n",
    "        qq = x_opti\n",
    "        vv = x_dot_opti\n",
    "        aa = x_dot_dot_opti\n",
    "    else:\n",
    "        raise ValueError(f'Unexpected scheme {scheme}')\n",
    "    return qq, vv, aa"
   ]
  },
  {
   "cell_type": "code",
   "execution_count": null,
   "id": "4b9e6a86",
   "metadata": {},
   "outputs": [],
   "source": [
    "_fff = get_bary_extreme_f('LG', 3, mode = 'x', point = 'end')\n",
    "_fff"
   ]
  },
  {
   "cell_type": "code",
   "execution_count": null,
   "id": "537d049f",
   "metadata": {},
   "outputs": [],
   "source": [
    "def end_LG_2d(xx):\n",
    "    N,M = xx.shape\n",
    "    res = []\n",
    "    endf = get_bary_extreme_f('LG', N, mode = 'x', point = 'end')\n",
    "    for jj in range(M):\n",
    "        res.append(endf(xx[:,jj]))\n",
    "    return cas.horzcat(*res)\n",
    "        "
   ]
  },
  {
   "cell_type": "code",
   "execution_count": null,
   "id": "665d6f96",
   "metadata": {},
   "outputs": [],
   "source": [
    "from functools import lru_cache"
   ]
  },
  {
   "cell_type": "code",
   "execution_count": null,
   "id": "017cb9c2",
   "metadata": {},
   "outputs": [],
   "source": [
    "@lru_cache(maxsize=None)\n",
    "def casadi_biped(col_points = 7, scheme = \"LG\", solve_repetitions = 1, t_end = 0.7, step_length = 0.5, precission = 20):\n",
    "    opti = cas.Opti()\n",
    "    p_opts = {\"expand\":True,'ipopt.print_level':0, 'print_time':0}\n",
    "    s_opts = {\"max_iter\": 10000, 'tol': 1e-26}#, 'linear_solver' : \"MA27\"}\n",
    "    opti.solver(\"ipopt\",p_opts,\n",
    "                        s_opts)\n",
    "    \n",
    "    if scheme not in ['LG', 'LGL', 'D2', 'LG2', 'LGLm']:\n",
    "        raise ValueError(f'Unrecognized scheme: {scheme}')\n",
    "        \n",
    "    opti, N, X, U, tau_arr = opti_setup(col_points, scheme, precission, M=5, U_dim=5)\n",
    "\n",
    "    t_0 = 0\n",
    "    u_m = opti.parameter()\n",
    "    Params_opti = opti.parameter(len(params))\n",
    "    Add_params_opti = opti.parameter(len(additional_params))\n",
    "    D = opti.parameter()\n",
    "    \n",
    "    \n",
    "    D_mat = sympy2casadi(matrix_D_bary(N, scheme,precission), [], [])\n",
    "    x_dot_opti = 2/(t_end - t_0) * D_mat@X\n",
    "    x_dot_dot_opti = 2/(t_end - t_0) * D_mat@x_dot_opti\n",
    "    \n",
    "    qq, vv, a = extract_concepts(scheme, X, x_dot_opti, x_dot_dot_opti, M = 5)\n",
    "    xx = cas.horzcat(qq,vv)\n",
    "    if scheme == 'LG':\n",
    "        xx_f = end_LG_2d(xx)\n",
    "    else:\n",
    "        xx_f = xx[-1,:]\n",
    "    \n",
    "    \n",
    "    # Cost\n",
    "    #if 'parab' in scheme:\n",
    "    #    cost = cas.sum2((4*cas.sum1(U_c[:,:]**2) + cas.sum1(U[:,:]**2)+cas.sum1(U[1:-1,:]**2))/(3*N))\n",
    "    #else:\n",
    "    #    cost = cas.sum2((cas.sum1(U[:,:]**2)+cas.sum1(U[1:-1,:]**2))/N)\n",
    "    #cost = cas.sum2(cas.sum1(U**2))\n",
    "    f_u_cost = get_cost_obj_trap_int_cas(scheme, col_points)\n",
    "    cost = 0\n",
    "    for jj in range(5):\n",
    "        cost += f_u_cost(U[:,jj])\n",
    "    \n",
    "    opti.minimize(cost)\n",
    "\n",
    "    #Periodic gait constraint:\n",
    "    opti.subject_to(simetric_5_links(xx[0,:], xx_f) == 0)\n",
    "    opti.subject_to(impact_cond_cas_f(xx[-1,:], xx[0,:], Params_opti, Add_params_opti) == 0)\n",
    "\n",
    "    #Step size constraint:\n",
    "    opti.subject_to(feet_x_cas(xx_f, Params_opti, Add_params_opti) == D)\n",
    "    opti.subject_to(feet_y_cas(xx_f, Params_opti, Add_params_opti) == 0)\n",
    "\n",
    "    #Small Feet Conditions:\n",
    "    opti.subject_to(U[:,0] == 0)\n",
    "    opti.subject_to(feet_y_vel_cas(xx[0,:], Params_opti, Add_params_opti)>0)\n",
    "    opti.subject_to(feet_y_vel_cas(xx_f, Params_opti, Add_params_opti)<0)\n",
    "    \n",
    "\n",
    "    #Feet over ground Restrictions:\n",
    "    for ii in range(1,N):\n",
    "        opti.subject_to(feet_y_cas(xx[ii,:], Params_opti, Add_params_opti) > 0)\n",
    "\n",
    "    #Dynamics Constraints:\n",
    "    opti_col_point_constr(opti, scheme, X, x_dot_opti, x_dot_dot_opti, U, Params_opti,\n",
    "                          imp_dyn_x_f_cas, imp_dyn_q_f_cas, N, M=5)\n",
    "    \n",
    "\n",
    "    \n",
    "    \n",
    "\n",
    "    \n",
    "    opti.set_value(D, step_length)#0.5\n",
    "\n",
    "    opti.set_value(Params_opti, params)\n",
    "    opti.set_value(Add_params_opti, additional_params)\n",
    "    \n",
    "    q_guess, q_dot_guess = q_init(N)\n",
    "    opti.set_initial(qq, q_guess)\n",
    "    if scheme not in ['D2', 'LG2', 'LGLm']:\n",
    "        opti.set_initial(vv, q_dot_guess)\n",
    "    opti.set_initial(U, 0)\n",
    "    \n",
    "    \n",
    "\n",
    "    sol, cpudt = chrono_solve(opti, solve_repetitions)\n",
    "\n",
    "    qq_sol, vv_sol, uu_sol = opti_read_sol_arrays(scheme, sol, X, U, D_mat, t_end, t_0, M=5)\n",
    "    sol_cost = sol.value(cost)\n",
    "    return {\n",
    "        'q':qq_sol,\n",
    "        'v':vv_sol,\n",
    "        'u':uu_sol,\n",
    "        'cpudt':cpudt,\n",
    "        #err_count,\n",
    "        'cost':sol_cost\n",
    "    }\n",
    "    "
   ]
  },
  {
   "cell_type": "code",
   "execution_count": null,
   "id": "3d7ae386",
   "metadata": {},
   "outputs": [],
   "source": [
    "import time"
   ]
  },
  {
   "cell_type": "code",
   "execution_count": null,
   "id": "422b213d",
   "metadata": {},
   "outputs": [],
   "source": [
    "schemes = ['LG','LG2']#'D2', 'LGL', \n",
    "initials = ['lin']#, 'funcs']\n",
    "solve_repetitions = 1\n",
    "N_arr = [3,4,5,6,7,8,9,10,11,12,13,14,15,16,17,18,19,20,21,22,23,24,25,30,35,40,45]#,50,55]#\n",
    "\n",
    "results = {}\n",
    "\n",
    "for scheme in schemes:\n",
    "    key = scheme\n",
    "    print('Problem:', key)\n",
    "    results[key] = {'N_arr':N_arr}\n",
    "    for N in N_arr:\n",
    "        print(f'\\tN = {N} , ', time.strftime('%H:%M:%S ', time.localtime(time.time())))\n",
    "        results[key][N] = casadi_biped(\n",
    "            col_points = N,\n",
    "            scheme = scheme,\n",
    "            solve_repetitions = solve_repetitions,\n",
    "            t_end = 0.7,\n",
    "            step_length = 0.5)"
   ]
  },
  {
   "cell_type": "code",
   "execution_count": null,
   "id": "4d8d44d9",
   "metadata": {},
   "outputs": [],
   "source": [
    "for scheme in schemes:\n",
    "    key = scheme\n",
    "    _c = []\n",
    "    _cpudt = []\n",
    "    for N in results[key]['N_arr']:\n",
    "        _c.append(results[key][N]['cost'])\n",
    "        _cpudt.append(results[key][N]['cpudt'])\n",
    "    results[key]['cost'] = np.array(_c)\n",
    "    results[key]['cpudt'] = np.array(_cpudt)"
   ]
  },
  {
   "cell_type": "code",
   "execution_count": null,
   "id": "1c47fcc1",
   "metadata": {},
   "outputs": [],
   "source": [
    "import matplotlib\n",
    "matplotlib.rcParams['pdf.fonttype'] = 42\n",
    "matplotlib.rcParams['ps.fonttype'] = 42\n",
    "plt.rcParams.update({'font.size': 15})\n",
    "oct_fig_size = [10,6]"
   ]
  },
  {
   "cell_type": "code",
   "execution_count": null,
   "id": "3f4c0c81",
   "metadata": {},
   "outputs": [],
   "source": [
    "plt.figure(figsize=oct_fig_size)\n",
    "for scheme in schemes:\n",
    "    key = scheme\n",
    "    plt.plot(results[key]['N_arr'], results[key]['cost'][:], marker = 'o', label = scheme)\n",
    "plt.yscale('log')\n",
    "plt.grid()\n",
    "plt.legend()"
   ]
  },
  {
   "cell_type": "code",
   "execution_count": null,
   "id": "37bf9bf1",
   "metadata": {},
   "outputs": [],
   "source": [
    "#titles = ['LG','LG2']#'D2', 'LGL', \n",
    "plt.figure(figsize=oct_fig_size)\n",
    "for ii in range(len(schemes)):\n",
    "    key = schemes[ii]\n",
    "    plt.plot(results[key]['N_arr'], results[key][f'cpudt'], marker = 'o', c = f'C{ii}',label = schemes[ii])\n",
    "plt.grid()\n",
    "plt.legend()\n",
    "#plt.yscale('log')\n",
    "plt.title('Biped optimization time')\n",
    "plt.xlabel('Number of collocation points')\n",
    "plt.ylabel('Time (s)')\n",
    "plt.tight_layout(pad = 0.0)\n",
    "plt.savefig(r'LG2pics/Biped_optimization_time_vs_interval_number.pdf', format='pdf')"
   ]
  },
  {
   "cell_type": "code",
   "execution_count": null,
   "id": "e4039300",
   "metadata": {},
   "outputs": [],
   "source": [
    "from optibot.pseudospectral import bary_poly\n",
    "def plot_u(uu, scheme, tf, color = 'k', t0 = 0, N_interp = 300):\n",
    "    N = len(uu)\n",
    "    tau = coll_points(N, scheme, 30)\n",
    "    b_pol = bary_poly(tau, uu)\n",
    "    coll_p_t = t0 + (1 + np.array(tau))*(tf - t0)/2\n",
    "    tau_int_arr = np.linspace(-1, 1, N_interp)\n",
    "    t_int_arr = np.linspace(t0, tf, N_interp)\n",
    "    \n",
    "    plt.plot(coll_p_t, uu, color+'o', label = 'control '+scheme)\n",
    "    \n",
    "    plt.plot(t_int_arr, b_pol(tau_int_arr), color)\n",
    "    \n",
    "def plot_x(qq, scheme, tf, color = 'k', t0 = 0, N_interp = 300, label = 'q'):\n",
    "    N = len(qq)\n",
    "    #tau = get_taus(N, scheme)\n",
    "    tau = base_points(N, scheme, 30)\n",
    "    b_pol = bary_poly(tau, qq)\n",
    "    coll_p_t = t0 + (1 + np.array(tau))*(tf - t0)/2\n",
    "    tau_int_arr = np.linspace(-1, 1, N_interp)\n",
    "    t_int_arr = np.linspace(t0, tf, N_interp)\n",
    "    \n",
    "    plt.plot(coll_p_t, qq, color+'o', label = label + ' ' +scheme)\n",
    "    \n",
    "    plt.plot(t_int_arr, b_pol(tau_int_arr), color)"
   ]
  },
  {
   "cell_type": "code",
   "execution_count": null,
   "id": "d53dca31",
   "metadata": {
    "scrolled": false
   },
   "outputs": [],
   "source": [
    "for ii in range(5):\n",
    "\n",
    "    N = 11\n",
    "    plt.figure(figsize=[16,10])\n",
    "    for jj in range(len(schemes)):\n",
    "        scheme = schemes[jj]\n",
    "        key = scheme\n",
    "        plot_x(results[key][N]['q'][:,ii], scheme, 0.7, color = f'C{jj}', t0 = 0, N_interp = 300)\n",
    "    plt.plot(T_sol_arr,X_sol[:,ii], 'k:', label = 'HS reference')\n",
    "        \n",
    "    plt.grid()\n",
    "    plt.legend()"
   ]
  },
  {
   "cell_type": "code",
   "execution_count": null,
   "id": "c35bd14b",
   "metadata": {
    "scrolled": false
   },
   "outputs": [],
   "source": [
    "for ii in range(5):\n",
    "\n",
    "    N = 11\n",
    "    plt.figure(figsize=[16,10])\n",
    "    for jj in range(len(schemes)):\n",
    "        scheme = schemes[jj]\n",
    "        key = scheme\n",
    "        plot_u(results[key][N]['u'][:,ii], scheme, 0.7, color = f'C{jj}', t0 = 0, N_interp = 300)\n",
    "    plt.plot(T_sol_arr,U_sol[:,ii], 'k:', label = 'HS reference')\n",
    "        \n",
    "    plt.grid()\n",
    "    plt.legend()"
   ]
  },
  {
   "cell_type": "markdown",
   "id": "3ebe4df9",
   "metadata": {
    "scrolled": false
   },
   "source": [
    "plt.figure(figsize=[15,15])\n",
    "plt.grid()\n",
    "N = 20\n",
    "for ii in  range(0, N+1, 2):\n",
    "    points_x, points_y = chain_to_draw(results['LG'][N]['q'][ii], params)\n",
    "    plt.plot(points_x, points_y, marker = 'o', color = plt.cm.viridis(ii/N))\n",
    "    \n",
    "\n",
    "plt.gca().set_aspect('equal')"
   ]
  },
  {
   "cell_type": "code",
   "execution_count": null,
   "id": "7bd9b3fb",
   "metadata": {},
   "outputs": [],
   "source": [
    "from optibot.analysis import generate_G"
   ]
  },
  {
   "cell_type": "code",
   "execution_count": null,
   "id": "0b7e51ce",
   "metadata": {},
   "outputs": [],
   "source": [
    "def generate_G(M, F):\n",
    "    \"\"\"\n",
    "    Generate a function G from M and F, so that from \n",
    "\n",
    "            | q''  |   |                | -1   |                 |\n",
    "            |      | = |  M(x, params)  |    @ | F(x, u, params) |\n",
    "            |lambda|   |                |      |                 |,\n",
    "    \n",
    "    we can get a function G so that:\n",
    "        \n",
    "         q'' = G(x, u) = (M(x)^-1 @  F(x, u)) [upperside]\n",
    "            \n",
    "    Parameters\n",
    "    ----------\n",
    "    M : Function of (x, params)\n",
    "        Returns a Numerical Matrix.\n",
    "    F : Function of (x, u, params)\n",
    "        Returns a Numerical Vector.\n",
    "\n",
    "    Returns\n",
    "    -------\n",
    "    G : Function of (x, u, params)\n",
    "        Equal to q'' where the collocation constraint is enforced.\n",
    "\n",
    "    \"\"\"\n",
    "\n",
    "    def G(x, u, params):\n",
    "        dim = x.shape[-1] // 2\n",
    "        mm = M(x, params)\n",
    "        ff = F(x, u, params)\n",
    "        res = np.linalg.solve(mm,ff)\n",
    "        return res[:dim]\n",
    "    return G"
   ]
  },
  {
   "cell_type": "code",
   "execution_count": null,
   "id": "9bf47a66",
   "metadata": {},
   "outputs": [],
   "source": [
    "G_nump = generate_G(F = F_impl_np,\n",
    "           M = mass_matrix_np,)"
   ]
  },
  {
   "cell_type": "code",
   "execution_count": null,
   "id": "77208730",
   "metadata": {},
   "outputs": [],
   "source": [
    "def G_nump_q(q,v,u,params):\n",
    "    q = np.array(q)\n",
    "    v = np.array(v)\n",
    "    x = np.concatenate((q,v), axis = -1)\n",
    "    return G_nump(x,u,params)"
   ]
  },
  {
   "cell_type": "code",
   "execution_count": null,
   "id": "8b958fad",
   "metadata": {},
   "outputs": [],
   "source": [
    "from optibot.pseudospectral import dynamic_error_pseudospectral, try_array_f"
   ]
  },
  {
   "cell_type": "code",
   "execution_count": null,
   "id": "a36892c6",
   "metadata": {},
   "outputs": [],
   "source": [
    "from numpy import array, piecewise, linspace, expand_dims\n",
    "from optibot.pseudospectral import extend_u_array, get_hermite_x, get_pol_u, get_pol_x\n",
    "from optibot.pseudospectral import extend_x_arrays\n",
    "from optibot.schemes import interp_2d\n",
    "def _interpolations(\n",
    "    qq,\n",
    "    vv,\n",
    "    uu,\n",
    "    scheme,\n",
    "    t0,\n",
    "    t1,\n",
    "    u_interp=\"pol\",\n",
    "    x_interp=\"pol\",\n",
    "    g_func=lambda q, v, u, p: u,\n",
    "    params=[],\n",
    "    n_interp=5000,\n",
    "):\n",
    "    \"\"\"\n",
    "    Generates arrays of equispaced points with values of dynamic error.\n",
    "    \n",
    "    If x(t) = [q(t), v(t)], and the physics equation states that x' = F(x, u),\n",
    "    which is equivalent to [q', v'] = [v , G(q, v, u)] we can define the \n",
    "    dynamic errors at a point t as:\n",
    "        dyn_q_err = q'(t) - v(t)\n",
    "        dyn_v_err = v'(t) - G(q(t), v(t), u(t))\n",
    "        dyn_2_err = q''(t) - G(q(t), v(t), u(t))\n",
    "        \n",
    "    'x_interp' and 'u_interp' define the way in which we interpolate the values\n",
    "    of q, v and u between the given points.\n",
    "\n",
    "    Parameters\n",
    "    ----------\n",
    "    qq : Numpy Array, shape = (W, N)\n",
    "        Values known of q(t)\n",
    "    vv : Numpy Array, shape = (W, N)\n",
    "        Values known of v(t)\n",
    "    uu : Numpy Array, shape = (Y, [Z])\n",
    "        Values known of x(t)\n",
    "    scheme : str\n",
    "        Pseudospectral cheme used in the optimization.\n",
    "        Acceptable values are:\n",
    "            'LG'\n",
    "            'LG_inv'\n",
    "            'LGR'\n",
    "            'LGR_inv'\n",
    "            'LGL'\n",
    "            'LGLm'\n",
    "            'LG2'\n",
    "            'D2'\n",
    "    t0 : float\n",
    "        starting time of interval of analysis\n",
    "    t1 : float\n",
    "        ending time of interval of analysis\n",
    "    u_interp :  string, optional\n",
    "        Model of the interpolation that must be used. The default is \"pol\".\n",
    "        Acceptable values are:\n",
    "            \"pol\": corresponding polynomial interpolation\n",
    "            \"lin\": lineal interpolation\n",
    "            \"smooth\": 3d order spline interpolation\n",
    "    x_interp : string, optional\n",
    "        Model of the interpolation that must be used. The default is \"pol\".\n",
    "        Acceptable values are:\n",
    "            \"pol\": corresponding polynomial interpolation\n",
    "            \"lin\": lineal interpolation\n",
    "            \"Hermite\": Hermite's 3d order spline interpolation\n",
    "    g_func : Function of (q, v, u, params)\n",
    "        A function of a dynamic sistem, so that\n",
    "            q'' = g(q, q', u, params)\n",
    "    params : list\n",
    "        Physical problem parameters to be passed to F\n",
    "    n_interp : int, default 5000\n",
    "        number of interpolation points\n",
    "\n",
    "    Raises\n",
    "    ------\n",
    "    NameError\n",
    "        When an unsupported value for scheme, x_interp or u_interp is used.\n",
    "\n",
    "    Returns\n",
    "    -------\n",
    "    err_q : Numpy array, shape = (n_interp, N)\n",
    "        equispaced values of dynamic error q'(t) - v(t).\n",
    "    err_v : Numpy array, shape = (n_interp, N)\n",
    "        equispaced values of dynamic error v'(t) - G(q(t), v(t), u(t)).\n",
    "    err_2 : Numpy array, shape = (n_interp, N)\n",
    "        equispaced values of dynamic error q''(t) - G(q(t), q'(t), u(t)).\n",
    "\n",
    "    \"\"\"\n",
    "    from scipy.interpolate import CubicHermiteSpline as hermite\n",
    "    from numpy import interp, gradient, zeros_like\n",
    "\n",
    "    scheme_opts = [\"LG\", \"LG_inv\", \"LGR\", \"LGR_inv\", \"LGL\", \"D2\", \"LG2\", \"LGLm\"]\n",
    "    if scheme not in scheme_opts:\n",
    "        NameError(f\"Invalid scheme.\\n valid options are {scheme_opts}\")\n",
    "\n",
    "    N = len(qq)\n",
    "    tau_arr = linspace(-1, 1, n_interp)\n",
    "\n",
    "    g_func = try_array_f(g_func)\n",
    "\n",
    "    if u_interp == \"pol\":\n",
    "        pol_u = get_pol_u(scheme, uu)\n",
    "        u_arr = pol_u(tau_arr)\n",
    "    elif u_interp == \"lin\":\n",
    "        tau_u, uu = extend_u_array(uu, scheme, N)\n",
    "        if len(uu.shape) == 1:\n",
    "            u_arr = interp(tau_arr, tau_u, uu)\n",
    "        elif len(uu.shape) == 2:\n",
    "            u_arr = interp_2d(tau_arr, tau_u, uu)\n",
    "        else:\n",
    "            raise ValueError(\n",
    "                f\"U has {len(uu.shape)} dimensions, values accepted are 1 and 2\"\n",
    "            )\n",
    "    elif u_interp == \"smooth\":\n",
    "        tau_u, uu = extend_u_array(uu, scheme, N)\n",
    "        uu_dot = gradient(uu, tau_u)\n",
    "        u_arr = hermite(tau_u, uu, uu_dot)(tau_arr)\n",
    "    else:\n",
    "        raise NameError(\n",
    "            'Invalid interpolation method for u.\\n valid options are \"pol\", \"lin\", \"smooth\"'\n",
    "        )\n",
    "\n",
    "    if x_interp == \"pol\":\n",
    "        tau_x = base_points(N, scheme)\n",
    "        pol_q, pol_v, pol_q_d, pol_v_d, pol_q_d_d = get_pol_x(scheme, qq, vv, t0, t1)\n",
    "        q_arr = pol_q(tau_arr)\n",
    "        v_arr = pol_v(tau_arr)\n",
    "        q_arr_d = pol_q_d(tau_arr)\n",
    "        v_arr_d = pol_v_d(tau_arr)\n",
    "        q_arr_d_d = pol_q_d_d(tau_arr)\n",
    "    elif x_interp == \"lin\":\n",
    "        tau_x, qq, vv = extend_x_arrays(qq, vv, scheme)\n",
    "        if len(qq.shape) == 1:\n",
    "            q_arr = interp(tau_arr, tau_x, qq)\n",
    "            v_arr = interp(tau_arr, tau_x, vv)\n",
    "        elif len(qq.shape) == 2:\n",
    "            q_arr = interp_2d(tau_arr, tau_x, qq)\n",
    "            v_arr = interp_2d(tau_arr, tau_x, vv)\n",
    "        else:\n",
    "            raise ValueError(\n",
    "                f\"q has {len(qq.shape)} dimensions, values accepted are 1 and 2\"\n",
    "            )\n",
    "        \n",
    "        coll_p = t0 + (1 + array(tau_x, dtype=\"float64\")) * (t1 - t0) / 2\n",
    "        t_arr_lin = linspace(t0, t1, n_interp)\n",
    "        q_arr_d = find_der_polyline(t_arr_lin, coll_p, qq)\n",
    "        v_arr_d = find_der_polyline(t_arr_lin, coll_p, vv)\n",
    "        q_arr_d_d = zeros_like(q_arr)\n",
    "    elif x_interp == \"Hermite\":\n",
    "        tau_x, qq, vv = extend_x_arrays(qq, vv, scheme)\n",
    "        aa = g_func(qq, vv, uu, params)\n",
    "        her_q, her_v, her_q_d, her_v_d, her_q_d_d = get_hermite_x(\n",
    "            qq, vv, aa, tau_x, t0, t1\n",
    "        )\n",
    "        t_arr_lin = linspace(t0, t1, n_interp)\n",
    "        q_arr = her_q(t_arr_lin)\n",
    "        v_arr = her_v(t_arr_lin)\n",
    "        q_arr_d = her_q_d(t_arr_lin)\n",
    "        v_arr_d = her_v_d(t_arr_lin)\n",
    "        q_arr_d_d = her_q_d_d(t_arr_lin)\n",
    "    else:\n",
    "        raise NameError(\n",
    "            'Invalid interpolation method for x.\\n valid options are \"pol\", \"lin\", \"Hermite\"'\n",
    "        )\n",
    "    \n",
    "    return q_arr, q_arr_d, v_arr, v_arr_d, q_arr_d_d, u_arr"
   ]
  },
  {
   "cell_type": "code",
   "execution_count": null,
   "id": "9a649479",
   "metadata": {},
   "outputs": [],
   "source": [
    "_q_arr, _q_arr_d, _v_arr, _v_arr_d, _q_arr_d_d, _u_arr = _interpolations(\n",
    "    results[key][N]['q'],\n",
    "    results[key][N]['v'],\n",
    "    results[key][N]['u'],\n",
    "    scheme,\n",
    "    t0 = 0,\n",
    "    t1 = 0.7,\n",
    "    u_interp=\"pol\",\n",
    "    x_interp=\"pol\",\n",
    "    g_func=G_nump_q,\n",
    "    params=params,\n",
    "    n_interp = 1000,\n",
    ")"
   ]
  },
  {
   "cell_type": "code",
   "execution_count": null,
   "id": "ad2b5124",
   "metadata": {
    "scrolled": true
   },
   "outputs": [],
   "source": [
    "for ii in range(5):\n",
    "#ii = 1\n",
    "\n",
    "    plt.figure(figsize=[16,10])\n",
    "    plot_x(results[key][N]['q'][:,ii],scheme, 2, color = 'k', t0 = 0, N_interp = 300)\n",
    "    plt.plot(np.linspace(0, 2, 1000), _q_arr[:,ii], label = 'q_arr')\n",
    "    plt.grid()\n",
    "    plt.legend()\n",
    "\n",
    "for ii in range(5):\n",
    "#ii = 1\n",
    "\n",
    "    plt.figure(figsize=[16,10])\n",
    "    plot_x(results[key][N]['v'][:,ii],scheme, 2, color = 'k', t0 = 0, N_interp = 300)\n",
    "    plt.plot(np.linspace(0, 2, 1000), _v_arr[:,ii], label = 'v_arr')\n",
    "    plt.plot(np.linspace(0, 2, 1000), _q_arr_d[:,ii], label = 'q_d_arr')\n",
    "    plt.grid()\n",
    "    plt.legend()"
   ]
  },
  {
   "cell_type": "code",
   "execution_count": null,
   "id": "671a2cb1",
   "metadata": {
    "scrolled": true
   },
   "outputs": [],
   "source": [
    "for ii in range(5):\n",
    "\n",
    "    plt.figure(figsize=[16,10])\n",
    "    plt.plot(np.linspace(0, 2, 1000), _g_func(_q_arr, _v_arr, _u_arr, params)[:,ii], label = 'v_arr')\n",
    "    plt.plot(np.linspace(0, 2, 1000), _q_arr_d_d[:,ii], label = 'q_d_d_arr')\n",
    "    plt.grid()\n",
    "    plt.legend()"
   ]
  },
  {
   "cell_type": "code",
   "execution_count": null,
   "id": "aa76a853",
   "metadata": {},
   "outputs": [],
   "source": []
  },
  {
   "cell_type": "code",
   "execution_count": null,
   "id": "3c84fc3d",
   "metadata": {},
   "outputs": [],
   "source": []
  },
  {
   "cell_type": "code",
   "execution_count": null,
   "id": "4c5c1a46",
   "metadata": {},
   "outputs": [],
   "source": [
    "_d_e = dynamic_error_pseudospectral(\n",
    "    results[key][N]['q'],\n",
    "    results[key][N]['v'],\n",
    "    results[key][N]['u'],\n",
    "    scheme,\n",
    "    t0 = 0,\n",
    "    t1 = 0.7,\n",
    "    u_interp=\"pol\",\n",
    "    x_interp=\"pol\",\n",
    "    g_func=G_nump_q,\n",
    "    params=params,\n",
    "    n_interp = 1000,\n",
    ")"
   ]
  },
  {
   "cell_type": "code",
   "execution_count": null,
   "id": "0d9d9d79",
   "metadata": {},
   "outputs": [],
   "source": [
    "for ii in range(3):\n",
    "    plt.figure(figsize=[14,10])\n",
    "    plt.plot(np.linspace(-1, 1, 1000), _d_e[ii])\n",
    "    plt.grid()\n",
    "    plt.plot(coll_points(N, scheme), np.zeros_like(coll_points(N, scheme)), 'ok')"
   ]
  },
  {
   "cell_type": "markdown",
   "id": "36acc23a",
   "metadata": {},
   "source": [
    "## Trapz abs err + integr"
   ]
  },
  {
   "cell_type": "code",
   "execution_count": null,
   "id": "28217221",
   "metadata": {
    "scrolled": false
   },
   "outputs": [],
   "source": [
    "N= 10\n",
    "n_interp = 1000\n",
    "_d_e = dynamic_error_pseudospectral(\n",
    "    results['LG'][N]['q'],\n",
    "    results['LG'][N]['v'],\n",
    "    results['LG'][N]['u'],\n",
    "    'LG',\n",
    "    t0 = 0,\n",
    "    t1 = 0.7,\n",
    "    u_interp=\"pol\",\n",
    "    x_interp=\"pol\",\n",
    "    g_func=G_nump_q,\n",
    "    params=params,\n",
    "    n_interp = n_interp,\n",
    ")\n",
    "_d_e_2 = dynamic_error_pseudospectral(\n",
    "    results['LG2'][N]['q'],\n",
    "    results['LG2'][N]['v'],\n",
    "    results['LG2'][N]['u'],\n",
    "    'LG2',\n",
    "    t0 = 0,\n",
    "    t1 = 0.7,\n",
    "    u_interp=\"pol\",\n",
    "    x_interp=\"pol\",\n",
    "    g_func=G_nump_q,\n",
    "    params=params,\n",
    "    n_interp = n_interp,\n",
    ")\n",
    "\n",
    "\n",
    "titles = [\n",
    "    r'First order dynamic error $\\varepsilon^{[1]}$,'+f' N = {N}',\n",
    "    r'$\\dot{v} - g(q, v, u),$'+f' N = {N}',\n",
    "    r'Second order dynamic error $\\varepsilon^{[2]}$,'+f' N = {N}'\n",
    "]\n",
    "filenames = [\n",
    "    f'first_order_dynamic_error_N_{N}',\n",
    "    f'v_dot_g_diff_N_{N}',\n",
    "    f'second_order_dynamic_error_N_{N}'\n",
    "]\n",
    "units = ['rad/s', 'rad/s^2', 'rad/s^2']\n",
    "\n",
    "\n",
    "for ii in range(3):\n",
    "    plt.figure(figsize=oct_fig_size)\n",
    "    plt.plot(np.linspace(-1, 1, n_interp), np.sum(np.abs(_d_e[ii]), axis=1), c='C0', label = 'LG')\n",
    "    plt.plot(np.linspace(-1, 1, n_interp), np.sum(np.abs(_d_e_2[ii]), axis=1),c = 'C1', label = 'LG2')\n",
    "    plt.grid()\n",
    "    plt.plot(\n",
    "        coll_points(N, scheme),\n",
    "        np.zeros_like(coll_points(N, scheme)),\n",
    "        'ok')\n",
    "    plt.legend()\n",
    "    plt.title(titles[ii])\n",
    "    plt.xlabel('Time(s)')\n",
    "    plt.ylabel(f'Dynamic error $({units[ii]})$')\n",
    "    plt.tight_layout(pad = 0.0)\n",
    "    plt.savefig(r'LG2pics/biped_'+filenames[ii]+f'.pdf', format='pdf')"
   ]
  },
  {
   "cell_type": "code",
   "execution_count": null,
   "id": "e7740df2",
   "metadata": {
    "scrolled": true
   },
   "outputs": [],
   "source": [
    "n_interp = 2000\n",
    "for scheme in schemes:\n",
    "    key = scheme \n",
    "    print('scheme: ', scheme)\n",
    "    for N in results[key]['N_arr']:\n",
    "        print(f'\\t N:{N} , ', time.strftime('%H:%M:%S ', time.localtime(time.time())))\n",
    "        _dyn_err = dynamic_error_pseudospectral(\n",
    "            results[key][N]['q'],\n",
    "            results[key][N]['v'],\n",
    "            results[key][N]['u'],\n",
    "            scheme,\n",
    "            t0 = 0,\n",
    "            t1 = 0.7,\n",
    "            u_interp=\"pol\",\n",
    "            x_interp=\"pol\",\n",
    "            g_func=G_nump_q,\n",
    "            params=params,\n",
    "            n_interp = n_interp,\n",
    "        )\n",
    "        results[key][N]['err_q_arr'] = _dyn_err[0]\n",
    "        results[key][N]['err_v_arr'] = _dyn_err[1]\n",
    "        results[key][N]['err_2_arr'] = _dyn_err[2]"
   ]
  },
  {
   "cell_type": "code",
   "execution_count": null,
   "id": "f582a549",
   "metadata": {},
   "outputs": [],
   "source": [
    "for scheme in schemes:\n",
    "    key = scheme\n",
    "    print('scheme: ', scheme)\n",
    "    _lis = []\n",
    "    for N in results[key]['N_arr']:\n",
    "        #print('\\t N:', N)\n",
    "        integ_err = np.trapz(np.abs(results[key][N]['err_2_arr']), np.linspace(0,2,n_interp), axis = 0)\n",
    "        results[key][N]['err_2_abs_integ'] = integ_err\n",
    "        _lis.append(integ_err)\n",
    "    results[key]['err_2_abs_integ_vect'] = np.array(_lis)\n",
    "    results[key]['err_2_abs_integ'] = np.sum(np.array(_lis), axis = 1)"
   ]
  },
  {
   "cell_type": "code",
   "execution_count": null,
   "id": "3acebe4b",
   "metadata": {
    "scrolled": true
   },
   "outputs": [],
   "source": [
    "for ii in range(5):\n",
    "    plt.figure(figsize=[16,10])\n",
    "    for scheme in schemes:\n",
    "        key = scheme\n",
    "        plt.plot(results[key]['N_arr'], results[key]['err_2_abs_integ_vect'][:,ii], marker = 'o', label = scheme)\n",
    "    plt.yscale('log')\n",
    "    plt.grid()\n",
    "    plt.legend()"
   ]
  },
  {
   "cell_type": "code",
   "execution_count": null,
   "id": "6763ff48",
   "metadata": {},
   "outputs": [],
   "source": [
    "plt.figure(figsize=oct_fig_size)\n",
    "for scheme in schemes:\n",
    "    key = scheme\n",
    "    plt.plot(results[key]['N_arr'], results[key]['err_2_abs_integ'], marker = 'o', label = scheme)\n",
    "plt.yscale('log')\n",
    "plt.grid()\n",
    "plt.legend()\n",
    "plt.title('Biped second order dynamic error $E^{[2]}$')\n",
    "plt.xlabel('Number of collocation points')\n",
    "plt.ylabel(f'Dynamic error ($rad/s$)')\n",
    "plt.tight_layout(pad = 0.0)\n",
    "plt.savefig(r'LG2pics/biped_second_order_dynamic_error_vs_interval_number.pdf', format='pdf')"
   ]
  },
  {
   "cell_type": "markdown",
   "id": "fb4e2781",
   "metadata": {},
   "source": [
    "from optibot.schemes import _newpoint, _calculate_missing_arrays, interp_2d, _newpoint_der\n",
    "from numpy import interp\n",
    "def dynamic_error_point(\n",
    "    x_arr,\n",
    "    u_arr,\n",
    "    t_arr,\n",
    "    t,\n",
    "    params,\n",
    "    F,\n",
    "    x_dot_arr=None,\n",
    "    scheme=\"hs_scipy\",\n",
    "    u_scheme=\"lin\",\n",
    "    scheme_params={},\n",
    "):\n",
    "    \"\"\"\n",
    "    Generate arrays of equispaced points with values of dynamic error.\n",
    "    \n",
    "    If x(t) = [q(t), v(t)], and the physics equation states that x' = F(x, u),\n",
    "    which is equivalent to [q', v'] = [v , G(q, v, u)] we can define the \n",
    "    dynamic errors at a point t as:\n",
    "        dyn_q_err = q'(t) - v(t)\n",
    "        dyn_v_err = v'(t) - G(q(t), v(t), u(t))\n",
    "        dyn_2_err_a = q''(t) - G(q(t), v(t), u(t))\n",
    "        dyn_2_err_b = q''(t) - G(q(t), q'(t), u(t))\n",
    "        \n",
    "    'scheme' and 'u_scheme' define the way in which we interpolate the values\n",
    "    of q, v and u between the given points.\n",
    "        \n",
    "    It is assumed that X and U start at t = 0 and are equispaced in time\n",
    "    in the interval (0, t_end).\n",
    "    \n",
    "\n",
    "    Parameters\n",
    "    ----------\n",
    "    x_arr : Numpy Array, shape = (W, 2N)\n",
    "        Values known of x(t)\n",
    "    u_arr : Numpy Array, shape = (W, [Y])\n",
    "        Values known of u(t)\n",
    "    t_end : float\n",
    "        ending time of interval of analysis\n",
    "    params : list\n",
    "        Physical problem parameters to be passed to F\n",
    "    F : Function of (x, u, params)\n",
    "        A function of a dynamic sistem, so that\n",
    "            x' = F(x, u, params)\n",
    "        if x_dot_arr is None and F is not, F will be used to calculate X'\n",
    "    x_dot_arr : Numpy Array, optional, shape = (W, 2N), default = None\n",
    "        Known values of X'\n",
    "        if x_dot_arr is None, F will be used to calculate X'\n",
    "    scheme : str, optional\n",
    "        Scheme to be used in the X interpolation. The default is \"hs_scipy\".\n",
    "        Acceptable values are:\n",
    "            \"trapz\" : trapezoidal scheme compatible interpolation (not lineal!)\n",
    "            \"trapz_mod\": modified trapezoidal scheme compatible interpolation (not lineal!)\n",
    "            \"hs_scipy\": 3d order polynomial that satisfies continuity in x(t) and x'(t)\n",
    "            \"hs\": Hermite-Simpson scheme compatible interpolation\n",
    "            \"hs_mod\": modified Hermite-Simpson scheme compatible interpolation\n",
    "            \"hs_parab\": Hermite-Simpson scheme compatible interpolation with parabolic U\n",
    "            \"hs_mod_parab\": modified Hermite-Simpson scheme compatible interpolation with parabolic U\n",
    "    u_scheme : string, optional\n",
    "        Model of the interpolation that must be used. The default is \"lin\".\n",
    "        Acceptable values are:\n",
    "            \"lin\": lineal interpolation\n",
    "            \"parab\": parabolic interpolation, requires central points array\n",
    "            as scheme params[0]\n",
    "    scheme_params :dict, optional\n",
    "        Aditional parameters of the scheme. The default is {}.\n",
    "    n_interp : int, optional\n",
    "        Number of interpolation points. The default is 2000.\n",
    "\n",
    "    Returns\n",
    "    -------\n",
    "    dyn_err_q : Numpy array, shape = (n_interp, N)\n",
    "        equispaced values of dynamic error q'(t) - v(t).\n",
    "    dyn_err_v : Numpy array, shape = (n_interp, N)\n",
    "        equispaced values of dynamic error v'(t) - G(q(t), v(t), u(t)).\n",
    "    dyn_err_2_a : Numpy array, shape = (n_interp, N)\n",
    "        equispaced values of dynamic error q''(t) - G(q(t), v(t), u(t)).\n",
    "    dyn_err_2_b : Numpy array, shape = (n_interp, N)\n",
    "        equispaced values of dynamic error q''(t) - G(q(t), q'(t), u(t)).\n",
    "\n",
    "    \"\"\"\n",
    "    if \"parab\" in scheme and u_scheme == \"lin\":\n",
    "        warnings.warn(\n",
    "            \"You are currently using a u-parabolic interpolation for x with a lineal interpolation of u\"\n",
    "        )\n",
    "    if \"parab\" in u_scheme and \"parab\" not in scheme:\n",
    "        warnings.warn(\n",
    "            \"You are currently using a parabolic interpolation for u with a non u-parabolic interpolation of x\"\n",
    "        )\n",
    "    N = x_arr.shape[0] - 1\n",
    "    dim = x_arr.shape[1] // 2\n",
    "    h = (t_arr[-1]-t_arr[0]) / N\n",
    "    \n",
    "    x_dot_arr = _calculate_missing_arrays(\n",
    "        X, U, h, params, F, x_dot_arr, scheme, u_scheme, scheme_params\n",
    "    )\n",
    "    if u_scheme in [\"min_err\", \"pinv_dyn\"]:\n",
    "        scheme_params[\"X\"] = X\n",
    "        scheme_params[\"scheme\"] = scheme\n",
    "        scheme_params[\"params\"] = params\n",
    "        scheme_params[\"x_dot_arr\"] = x_dot_arr\n",
    "        if u_scheme == \"min_err\":\n",
    "            if F is None:\n",
    "                raise ValueError(\n",
    "                    \"F cannot be None when using min_err as u interpolation\"\n",
    "                )\n",
    "            scheme_params[\"F\"] = F\n",
    "            \n",
    "    \n",
    "    if scheme == \"hs_scipy\":\n",
    "        X_interp = hermite(t_array, x_arr, x_dot_arr)\n",
    "        x = X_interp(t)\n",
    "    else:\n",
    "        x = array(\n",
    "                _newpoint(x_arr, x_dot_arr, h, t, params, scheme, scheme_params)\n",
    "            ).flatten()\n",
    "        \n",
    "    if u_scheme == \"lin\":\n",
    "        if len(u_arr.shape) == 1:\n",
    "            u = interp(t, t_array, u_arr)\n",
    "        elif len(u_arr.shape) == 2:\n",
    "            u = interp_2d(t, t_array, u_arr)\n",
    "        else:\n",
    "            raise ValueError(\n",
    "                f\"U has {len(u_arr.shape)} dimensions, values accepted are 1 and 2\"\n",
    "            )\n",
    "    else:\n",
    "        u = array(\n",
    "            _newpoint_u(U, h, t, u_scheme, scheme_params)\n",
    "        ).flatten()\n",
    "        \n",
    "        \n",
    "    if scheme == \"hs_scipy\":\n",
    "        X_interp = hermite(t_array, x_arr, x_dot_arr)\n",
    "        X_dot_interp = X_interp.derivative()\n",
    "        x_d = X_dot_interp(t)\n",
    "        x_d_d = X_dot_interp.derivative()(t)\n",
    "    else:\n",
    "        x_d = array(\n",
    "                _newpoint_der(x_arr, x_dot_arr, h, t, params, scheme, 1, scheme_params)\n",
    "            ).flatten()\n",
    "        x_d_d = array(\n",
    "                _newpoint_der(x_arr, x_dot_arr, h, t, params, scheme, 2, scheme_params)\n",
    "            ).flatten()\n",
    "            \n",
    "    \n",
    "    f_a = F(x, u, params)[dim:]\n",
    "    x_q = x.copy()\n",
    "    x_q[dim:] = x_d[:dim]\n",
    "    f_b = F(x_q, u, params)[dim:]\n",
    "    dyn_err_q = x_d[:dim] - x[dim:]\n",
    "    dyn_err_v = x_d[dim:] - f_a\n",
    "    dyn_err_2_a = x_d_d[:dim] - f_a\n",
    "    dyn_err_2_b = x_d_d[:dim] - f_b\n",
    "    return dyn_err_q, dyn_err_v, dyn_err_2_a, dyn_err_2_b"
   ]
  },
  {
   "cell_type": "code",
   "execution_count": null,
   "id": "6aa5c253",
   "metadata": {},
   "outputs": [],
   "source": []
  },
  {
   "cell_type": "code",
   "execution_count": null,
   "id": "0a5655ab",
   "metadata": {},
   "outputs": [],
   "source": []
  },
  {
   "cell_type": "code",
   "execution_count": null,
   "id": "96962668",
   "metadata": {},
   "outputs": [],
   "source": [
    "schemes = ['hs_parab', 'hs_mod_parab','trapz', 'trapz_mod']#'hs', 'hs_mod', \n",
    "\n",
    "\n",
    "n_graph = 3000\n",
    "t_arr = np.linspace(0,0.7,n_graph)\n",
    "for scheme in schemes:\n",
    "    key = scheme\n",
    "    if 'parab' in scheme:\n",
    "        u_scheme = 'parab'\n",
    "    else:\n",
    "        u_scheme = 'lin'\n",
    "    print('Problem:', key)\n",
    "    N_arr = results[key]['N_arr']\n",
    "    for N in N_arr:\n",
    "        print(f'\\tN = {N}')\n",
    "        dyn_err_q, dyn_err_v, _, dyn_err_2 = dynamic_error_implicit(\n",
    "            x_arr=results[key][N]['x'],\n",
    "            u_arr=results[key][N]['u'],\n",
    "            t_end=results[key][N]['t'],\n",
    "            params = params,\n",
    "            F = F_impl_np,\n",
    "            M = mass_matrix_np,\n",
    "            scheme = scheme, \n",
    "            u_scheme = u_scheme,\n",
    "            scheme_params={'u_c':results[key][N]['u_c'],\n",
    "                          'x_dot_c': results[key][N]['x_dot_c'],\n",
    "                          'x_c': results[key][N]['x_c']},\n",
    "            n_interp= n_graph)\n",
    "        results[key][N]['dyn_err_q'] = dyn_err_q\n",
    "        results[key][N]['dyn_err_v'] = dyn_err_v\n",
    "        results[key][N]['dyn_err_2'] = dyn_err_2"
   ]
  },
  {
   "cell_type": "code",
   "execution_count": null,
   "id": "d0384aee",
   "metadata": {},
   "outputs": [],
   "source": [
    "import matplotlib\n",
    "matplotlib.rcParams['pdf.fonttype'] = 42\n",
    "matplotlib.rcParams['ps.fonttype'] = 42\n",
    "plt.rcParams.update({'font.size': 15})\n",
    "oct_fig_size = [10,6]"
   ]
  },
  {
   "cell_type": "code",
   "execution_count": null,
   "id": "27c6fca7",
   "metadata": {},
   "outputs": [],
   "source": [
    "import matplotlib\n",
    "matplotlib.rcParams['pdf.fonttype'] = 42\n",
    "matplotlib.rcParams['ps.fonttype'] = 42"
   ]
  },
  {
   "cell_type": "markdown",
   "id": "75f69bcf",
   "metadata": {
    "scrolled": false
   },
   "source": [
    "schemes = ['hs_parab','hs_mod_parab', 'trapz', 'trapz_mod']\n",
    "titles = ['Hermite Simpson','2nd order Hermite Simpson', 'Trapezoidal', '2nd order Trapezoidal']\n",
    "colors = ['b', 'orange', 'g', 'r', 'purple']\n",
    "n_int = len(t_arr)\n",
    "N = 25\n",
    "interv_n = (N * t_arr)/results[scheme][N]['t']\n",
    "for kk in range(len(schemes)):\n",
    "    scheme = schemes[kk]\n",
    "    plt.figure(figsize=[14,8])\n",
    "    for ii in range(5):\n",
    "        cut_p = 0\n",
    "        for ll in range(1,N+1):\n",
    "            jj = np.searchsorted(interv_n, ll)\n",
    "            plt.plot(t_arr[cut_p:jj],results[scheme][N]['dyn_err_q'][cut_p:jj,ii], '-', c = colors[ii], label = f'$q_{ii+1}$' if cut_p == 0 else None)\n",
    "            cut_p = jj\n",
    "    plt.plot(np.linspace(0,results[scheme][N]['t'],N+1), np.zeros(N+1), 'ok')\n",
    "    plt.legend()\n",
    "    plt.grid()\n",
    "    if kk == 1:\n",
    "        plt.ylim([-0.00001, 0.00001])\n",
    "    elif kk == 3:\n",
    "        plt.ylim([-0.001, 0.001])\n",
    "    plt.title(r'First order dynamic error $\\varepsilon^{[1]}_{q_i}$,'+f' {titles[kk]} scheme')\n",
    "    plt.xlabel('Time(s)')\n",
    "    plt.ylabel('Dynamic error $(rad/s)$')\n",
    "    plt.tight_layout(pad = 0.0)\n",
    "    sch_type = titles[kk].replace(' ','_')\n",
    "    plt.savefig(f'5_link_First_Order_Dynamic_Error_{sch_type}_scheme.eps', format='eps')\n"
   ]
  },
  {
   "cell_type": "markdown",
   "id": "0e9d594c",
   "metadata": {
    "scrolled": false
   },
   "source": [
    "schemes = ['hs_parab','hs_mod_parab', 'trapz', 'trapz_mod']\n",
    "titles = ['Hermite Simpson','2nd order Hermite Simpson', 'Trapezoidal', '2nd order Trapezoidal']\n",
    "colors = ['b', 'orange', 'g', 'r', 'purple']\n",
    "n_int = len(t_arr)\n",
    "N = 25\n",
    "interv_n = (N * t_arr)/results[scheme][N]['t']\n",
    "for kk in range(len(schemes)):\n",
    "    scheme = schemes[kk]\n",
    "    plt.figure(figsize=[14,8])\n",
    "    for ii in range(5):\n",
    "        cut_p = 0\n",
    "        for ll in range(1,N+1):\n",
    "            jj = np.searchsorted(interv_n, ll)\n",
    "            plt.plot(t_arr[cut_p:jj],results[scheme][N]['dyn_err_2'][cut_p:jj,ii], '-', c = colors[ii], label = f'$q_{ii+1}$' if cut_p == 0 else None)\n",
    "            cut_p = jj\n",
    "    plt.plot(results[scheme][N]['t_array'], np.zeros(N+1), 'ok', label = 'knot & collocation points')\n",
    "    if 'hs' in scheme:\n",
    "        plt.plot(results[scheme][N]['t_c_array'], np.zeros(N), 'ow', markeredgecolor='b', label = 'collocation points')\n",
    "        plt.ylim([-0.08, 0.08])\n",
    "    else:\n",
    "        plt.ylim([-1.75, 1.75])\n",
    "    plt.legend()\n",
    "    plt.grid()\n",
    "    plt.title(r'Second order dynamic error $\\varepsilon^{{[2]}}_{{q_i}}$,'+f' {titles[kk]} scheme')\n",
    "    plt.xlabel('Time(s)')\n",
    "    plt.ylabel('Dynamic error $(rad/s^2)$')\n",
    "    plt.tight_layout(pad = 0.0)\n",
    "    sch_type = titles[kk].replace(' ','_')\n",
    "    plt.savefig(f'5_link_Second_Order_Dynamic_Error_{sch_type}_scheme.eps', format='eps')\n"
   ]
  },
  {
   "cell_type": "code",
   "execution_count": null,
   "id": "a48d8285",
   "metadata": {},
   "outputs": [],
   "source": [
    "def arr_mod(x):\n",
    "    x_1 = np.sum(x*x, axis=1)\n",
    "    return np.sqrt(x_1)\n",
    "def arr_sum(x):\n",
    "    return np.sum(np.abs(x), axis = 1)\n",
    "def arr_max(x):\n",
    "    return np.max(np.abs(x), axis = 1)"
   ]
  },
  {
   "cell_type": "code",
   "execution_count": null,
   "id": "9d0bc6dc",
   "metadata": {
    "scrolled": false
   },
   "outputs": [],
   "source": [
    "schemes = ['hs_mod_parab','hs_parab']#, 'trapz', 'trapz_mod']\n",
    "titles = ['2nd order Hermite Simpson','Hermite Simpson']#, 'Trapezoidal', 'Modified Trapezoidal']\n",
    "colors = ['b', 'orange', 'g', 'r', 'purple']\n",
    "funcs = [arr_sum,]#arr_mod,  arr_max\n",
    "func_tittles = ['Module of', 'Sum of absolute', 'Maximum of absolute']\n",
    "y_max_list = [0.12, 0.2, 0.09]\n",
    "n_int = len(t_arr)\n",
    "N = 25\n",
    "interv_n = (N * t_arr)/results[scheme][N]['t']\n",
    "for ii in range(1):\n",
    "    plt.figure(figsize=oct_fig_size)\n",
    "    for kk in [1,0]:\n",
    "        scheme = schemes[kk]\n",
    "        cut_p = 0\n",
    "        for ll in range(1,N+1):\n",
    "            jj = np.searchsorted(interv_n, ll)\n",
    "            y_plot = funcs[ii](results[scheme][N]['dyn_err_2'])\n",
    "            plt.plot(t_arr[cut_p:jj],y_plot[cut_p:jj], '-', c = f'C{kk}', label = titles[kk] if cut_p == 0 else None)\n",
    "            cut_p = jj\n",
    "    plt.plot(results[scheme][N]['t_array'], np.zeros(N+1), 'ok', label = 'knot & collocation points')\n",
    "    plt.plot(results[scheme][N]['t_c_array'], np.zeros(N), 'ow', markeredgecolor='k', label = 'collocation points')\n",
    "    plt.legend()\n",
    "    plt.grid()\n",
    "    plt.ylim([-0.01,y_max_list[ii]])\n",
    "    plt.title(r'Second order dynamic error $\\varepsilon^{[2]}$,'+f' N = {N}')\n",
    "    plt.xlabel('Time(s)')\n",
    "    plt.ylabel('Dynamic error $(rad/s^2)$')\n",
    "    plt.tight_layout(pad = 0.0)\n",
    "    sch_type = func_tittles[ii].replace(' ','_')\n",
    "    plt.savefig(f'5_link_HS_N{N}_second_order_dynamic_error.pdf', format='pdf')\n",
    "    \n"
   ]
  },
  {
   "cell_type": "code",
   "execution_count": null,
   "id": "9abccdf5",
   "metadata": {
    "scrolled": false
   },
   "outputs": [],
   "source": [
    "schemes = ['trapz', 'trapz_mod']#, 'trapz', 'trapz_mod']\n",
    "titles = ['Trapezoidal', '2nd order Trapezoidal']#, 'Trapezoidal', 'Modified Trapezoidal']\n",
    "funcs = [arr_sum,]#arr_mod,  arr_max\n",
    "#func_tittles = ['Module of', 'Sum of absolute', 'Maximum of absolute']\n",
    "y_max_list = [0.12, 0.2, 0.09]\n",
    "n_int = len(t_arr)\n",
    "N = 50\n",
    "interv_n = (N * t_arr)/results[scheme][N]['t']\n",
    "for ii in range(1):\n",
    "    plt.figure(figsize=oct_fig_size)\n",
    "    for kk in range(2):\n",
    "        scheme = schemes[kk]\n",
    "        cut_p = 0\n",
    "        for ll in range(1,N+1):\n",
    "            jj = np.searchsorted(interv_n, ll)\n",
    "            y_plot = funcs[ii](results[scheme][N]['dyn_err_2'])\n",
    "            plt.plot(t_arr[cut_p:jj],y_plot[cut_p:jj], '-', c = f'C{kk+2}', label = titles[kk] if cut_p == 0 else None)\n",
    "            cut_p = jj\n",
    "    plt.plot(results[scheme][N]['t_array'], np.zeros(N+1), 'ok', label = 'knot & collocation points')\n",
    "    #plt.plot(results[scheme][N]['t_c_array'], np.zeros(N), 'ow', markeredgecolor='k', label = 'collocation points')\n",
    "    plt.legend()\n",
    "    plt.grid()\n",
    "    #plt.ylim([-0.01,y_max_list[ii]])\n",
    "    plt.title(r'Second order dynamic error $\\varepsilon^{[2]}$,'+f' N = {N}')\n",
    "    plt.xlabel('Time(s)')\n",
    "    plt.ylabel('Dynamic error $(rad/s^2)$')\n",
    "    plt.tight_layout(pad = 0.0)\n",
    "    sch_type = func_tittles[ii].replace(' ','_')\n",
    "    plt.savefig(f'5_link_Trapezoidal_N{N}_second_order_dynamic_error.pdf', format='pdf')\n",
    "    \n"
   ]
  },
  {
   "cell_type": "code",
   "execution_count": null,
   "id": "80ef2fcc",
   "metadata": {},
   "outputs": [],
   "source": [
    "def state_error(t_arr, dyn_err, N,):\n",
    "    n_int = len(t_arr)\n",
    "    interv_n = (N * t_arr)//2\n",
    "    err = []\n",
    "    cut_p = 0\n",
    "    for ii in range(1,N+1):\n",
    "        jj = np.searchsorted(interv_n, ii)\n",
    "        err_point = np.trapz(np.abs(dyn_err[cut_p:jj+1]), t_arr[cut_p:jj+1], axis=0)\n",
    "        err.append(err_point)\n",
    "        cut_p = jj\n",
    "    err = np.array(err, dtype = float)\n",
    "    return err\n",
    "\n",
    "def total_state_error(t_arr, dyn_err):\n",
    "    errors = np.trapz(dyn_err, t_arr, axis=0)\n",
    "    return errors\n",
    "\n",
    "\n",
    "def total_state_error_abs(t_arr, dyn_err):\n",
    "    errors = np.trapz(np.abs(dyn_err), t_arr, axis=0)\n",
    "    return errors"
   ]
  },
  {
   "cell_type": "code",
   "execution_count": null,
   "id": "260e1907",
   "metadata": {},
   "outputs": [],
   "source": [
    "def integ_state_error(t_arr, dyn_err):\n",
    "    int_x = np.zeros_like(dyn_err)\n",
    "    arr_len = dyn_err.shape[0]\n",
    "    for ii in range(1,arr_len):\n",
    "        int_x[ii,:] = np.trapz(dyn_err[:ii+1,:], t_arr[:ii+1], axis=0)\n",
    "    return int_x"
   ]
  },
  {
   "cell_type": "code",
   "execution_count": null,
   "id": "5ed89ae9",
   "metadata": {},
   "outputs": [],
   "source": [
    "schemes = ['hs_parab', 'hs_mod_parab','trapz', 'trapz_mod']#'hs', 'hs_mod', \n",
    "\n",
    "t_arr = np.linspace(0,0.7,n_graph)\n",
    "for scheme in schemes:\n",
    "    key = scheme\n",
    "    print('Problem:', key)\n",
    "    N_arr = results[key]['N_arr']\n",
    "    for N in N_arr:\n",
    "        print(f'\\tN = {N}')\n",
    "        for letter in 'qv2':\n",
    "            results[key][N][f'integ_dyn_err_{letter}']= total_state_error(t_arr, results[scheme][N][f'dyn_err_{letter}'])\n",
    "            results[key][N][f'module_dyn_err_{letter}']= np.sqrt(np.dot(results[key][N][f'integ_dyn_err_{letter}'], results[key][N][f'integ_dyn_err_{letter}']))\n",
    "            results[key][N][f'sum_dyn_err_{letter}'] = np.sum(np.abs(results[key][N][f'integ_dyn_err_{letter}']))\n",
    "        "
   ]
  },
  {
   "cell_type": "code",
   "execution_count": null,
   "id": "1ccefcf8",
   "metadata": {},
   "outputs": [],
   "source": [
    "schemes = ['hs_parab', 'hs_mod_parab','trapz', 'trapz_mod']#'hs', 'hs_mod', \n",
    "\n",
    "t_arr = np.linspace(0,0.7,n_graph)\n",
    "for scheme in schemes:\n",
    "    key = scheme\n",
    "    print('Problem:', key)\n",
    "    N_arr = results[key]['N_arr']\n",
    "    for N in N_arr:\n",
    "        print(f'\\tN = {N}')\n",
    "        results[key][N]['integ_err_2'] = integ_state_error(t_arr, results[key][N]['dyn_err_2'])\n",
    "        results[key][N]['twice_integ_err_2'] = integ_state_error(t_arr, results[key][N]['integ_err_2'])\n",
    "        "
   ]
  },
  {
   "cell_type": "code",
   "execution_count": null,
   "id": "b31e3548",
   "metadata": {
    "scrolled": false
   },
   "outputs": [],
   "source": [
    "sch = [['hs_parab','hs_mod_parab'],['trapz', 'trapz_mod']]\n",
    "tit = [['Hermite Simpson','2nd order Hermite Simpson'],['Trapezoidal', '2nd order Trapezoidal']]\n",
    "colors = [f'C{ii}' for ii in [1,0,2,3]]\n",
    "n_int = len(t_arr)\n",
    "N_hh = [25,50]\n",
    "t_end = 0.7\n",
    "for hh in range(2):\n",
    "    schemes = sch[hh]\n",
    "    titles = tit[hh]\n",
    "    N = N_hh[hh]\n",
    "    interv_n = (N * t_arr)/2\n",
    "    for ii in range(5):\n",
    "        plt.figure(figsize=oct_fig_size)\n",
    "        for kk in range(len(schemes)):\n",
    "            scheme = schemes[kk]\n",
    "            key = scheme\n",
    "            cut_p = 0\n",
    "            for ll in range(1,N+1):\n",
    "                jj = np.searchsorted(interv_n, ll)\n",
    "                plt.plot(t_arr[cut_p:jj],results[key][N]['integ_err_2'][cut_p:jj,ii], '-', c = colors[2*hh+kk], label = titles[kk] if cut_p == 0 else None)\n",
    "                cut_p = jj\n",
    "        plt.plot(np.linspace(0,t_end,N+1), np.zeros(N+1), 'ok', label = 'knot & collocation points')\n",
    "        if hh == 0:\n",
    "            plt.plot(np.linspace(0,t_end,2*N+1)[1::2], np.zeros(N), 'ow', markeredgecolor='k', label = 'collocation points')\n",
    "        plt.legend()\n",
    "        plt.grid()\n",
    "        #plt.ylim([-0.00022, 0.00022])\n",
    "        plt.title(r'Integrated Second order dynamic error $\\int_{0}^{t}\\varepsilon^{[2]}_{q_'+f'{ii+1}}}'+r'(\\tau) d\\tau$,'+f'\\n{titles[0]} schemes, N = {N}')\n",
    "        plt.xlabel('Time(s)')\n",
    "        units = 'm/s' if ii == 0 else'rad/s'\n",
    "        plt.ylabel(f'Dynamic error $({units})$')\n",
    "        plt.tight_layout(pad = 0.0)\n",
    "        sch_type = titles[0].replace(' ','_')\n",
    "        plt.savefig(f'Biped_Integrated_Second_Order_Dynamic_Error_q_{ii+1}_{sch_type}_schemes_N_{N}.png', format='png')"
   ]
  },
  {
   "cell_type": "code",
   "execution_count": null,
   "id": "76f93105",
   "metadata": {
    "scrolled": false
   },
   "outputs": [],
   "source": [
    "sch = [['hs_parab','hs_mod_parab'],['trapz', 'trapz_mod']]\n",
    "tit = [['Hermite Simpson','2nd order Hermite Simpson'],['Trapezoidal', '2nd order Trapezoidal']]\n",
    "colors = [f'C{ii}' for ii in [1,0,2,3]]\n",
    "n_int = len(t_arr)\n",
    "N_hh = [25,50]\n",
    "t_end = 0.7\n",
    "for hh in range(2):\n",
    "    schemes = sch[hh]\n",
    "    titles = tit[hh]\n",
    "    N = N_hh[hh]\n",
    "    interv_n = (N * t_arr)/2\n",
    "    for ii in range(5):\n",
    "        plt.figure(figsize=oct_fig_size)\n",
    "        for kk in range(len(schemes)):\n",
    "            scheme = schemes[kk]\n",
    "            key = scheme\n",
    "            cut_p = 0\n",
    "            for ll in range(1,N+1):\n",
    "                jj = np.searchsorted(interv_n, ll)\n",
    "                plt.plot(t_arr[cut_p:jj],results[key][N]['twice_integ_err_2'][cut_p:jj,ii], '-', c = colors[2*hh+kk], label = titles[kk] if cut_p == 0 else None)\n",
    "                cut_p = jj\n",
    "        plt.plot(np.linspace(0,t_end,N+1), np.zeros(N+1), 'ok', label = 'knot & collocation points')\n",
    "        if hh == 0:\n",
    "            plt.plot(np.linspace(0,t_end,2*N+1)[1::2], np.zeros(N), 'ow', markeredgecolor='k', label = 'collocation points')\n",
    "        plt.legend()\n",
    "        plt.grid()\n",
    "        #plt.ylim([-0.00022, 0.00022])\n",
    "        plt.title(r'Twice integrated second order dynamic error $\\int_{0}^{t}\\int_{0}^{\\xi}\\varepsilon^{[2]}_{q_'+f'{ii+1}}}'+r'(\\tau) d\\tau d\\xi$,'+f'\\n{titles[0]} schemes, N = {N}')\n",
    "        plt.xlabel('Time(s)')\n",
    "        units = 'm' if ii == 0 else'rad'\n",
    "        plt.ylabel(f'Dynamic error $({units})$')\n",
    "        plt.tight_layout(pad = 0.0)\n",
    "        sch_type = titles[0].replace(' ','_')\n",
    "        plt.savefig(f'Biped_Twice_Integrated_Second_Order_Dynamic_Error_q_{ii+1}_{sch_type}_schemes_N_{N}.png', format='png')"
   ]
  },
  {
   "cell_type": "code",
   "execution_count": null,
   "id": "afc20b41",
   "metadata": {
    "scrolled": false
   },
   "outputs": [],
   "source": [
    "schemes = ['hs_mod_parab','hs_parab']#, 'trapz', 'trapz_mod']\n",
    "titles = ['2nd order Hermite Simpson','Hermite Simpson']#, 'Trapezoidal', 'Modified Trapezoidal']\n",
    "colors = ['b', 'orange', 'g', 'r', 'purple']\n",
    "funcs = [arr_sum,]#arr_mod,  arr_max\n",
    "func_tittles = ['Module of', 'Sum of absolute', 'Maximum of absolute']\n",
    "y_max_list = [0.12, 0.2, 0.09]\n",
    "n_int = len(t_arr)\n",
    "N = 25\n",
    "interv_n = (N * t_arr)/results[scheme][N]['t']\n",
    "for ii in range(1):\n",
    "    plt.figure(figsize=oct_fig_size)\n",
    "    for kk in [1,0]:\n",
    "        scheme = schemes[kk]\n",
    "        cut_p = 0\n",
    "        for ll in range(1,N+1):\n",
    "            jj = np.searchsorted(interv_n, ll)\n",
    "            y_plot = funcs[ii](results[scheme][N]['integ_err_2'])\n",
    "            plt.plot(t_arr[cut_p:jj],y_plot[cut_p:jj], '-', c = f'C{kk}', label = titles[kk] if cut_p == 0 else None)\n",
    "            cut_p = jj\n",
    "    plt.plot(results[scheme][N]['t_array'], np.zeros(N+1), 'ok', label = 'knot & collocation points')\n",
    "    plt.plot(results[scheme][N]['t_c_array'], np.zeros(N), 'ow', markeredgecolor='k', label = 'collocation points')\n",
    "    plt.legend()\n",
    "    plt.grid()\n",
    "    #plt.ylim([-0.01,y_max_list[ii]])\n",
    "    plt.title(r'Sum of absolute Integrated Second order dynamic error $\\Sigma |\\int_{0}^{t}\\varepsilon^{[2]}_{q_'+f'{ii+1}}}'+r'(\\tau) d\\tau|$,'+f' HS schemes, N = {N}')\n",
    "    plt.xlabel('Time(s)')\n",
    "    plt.ylabel('Dynamic error $(rad/s)$')\n",
    "    plt.tight_layout(pad = 0.0)\n",
    "    sch_type = func_tittles[ii].replace(' ','_')\n",
    "    plt.savefig(f'5_link_HS_N{N}_integrated_second_order_dynamic_error.png', format='png')\n",
    "    \n"
   ]
  },
  {
   "cell_type": "code",
   "execution_count": null,
   "id": "b4cd48e7",
   "metadata": {
    "scrolled": false
   },
   "outputs": [],
   "source": [
    "schemes = ['trapz', 'trapz_mod']#\n",
    "titles = ['Trapezoidal', 'Modified Trapezoidal']#\n",
    "colors = ['b', 'orange', 'g', 'r', 'purple']\n",
    "funcs = [arr_sum,]#arr_mod,  arr_max\n",
    "func_tittles = ['Module of', 'Sum of absolute', 'Maximum of absolute']\n",
    "y_max_list = [0.12, 0.2, 0.09]\n",
    "n_int = len(t_arr)\n",
    "N = 25\n",
    "interv_n = (N * t_arr)/results[scheme][N]['t']\n",
    "for ii in range(1):\n",
    "    plt.figure(figsize=oct_fig_size)\n",
    "    for kk in [1,0]:\n",
    "        scheme = schemes[kk]\n",
    "        cut_p = 0\n",
    "        for ll in range(1,N+1):\n",
    "            jj = np.searchsorted(interv_n, ll)\n",
    "            y_plot = funcs[ii](results[scheme][N]['integ_err_2'])\n",
    "            plt.plot(t_arr[cut_p:jj],y_plot[cut_p:jj], '-', c = f'C{kk+2}', label = titles[kk] if cut_p == 0 else None)\n",
    "            cut_p = jj\n",
    "    plt.plot(results[scheme][N]['t_array'], np.zeros(N+1), 'ok', label = 'knot & collocation points')\n",
    "    plt.plot(results[scheme][N]['t_c_array'], np.zeros(N), 'ow', markeredgecolor='k', label = 'collocation points')\n",
    "    plt.legend()\n",
    "    plt.grid()\n",
    "    #plt.ylim([-0.01,y_max_list[ii]])\n",
    "    plt.title(r'Sum of absolute Integrated Second order dynamic error $\\Sigma |\\int_{0}^{t}\\varepsilon^{[2]}_{q_'+f'{ii+1}}}'+r'(\\tau) d\\tau|$,'+f' Trapz schemes, N = {N}')\n",
    "    plt.xlabel('Time(s)')\n",
    "    plt.ylabel('Dynamic error $(rad/s)$')\n",
    "    plt.tight_layout(pad = 0.0)\n",
    "    sch_type = func_tittles[ii].replace(' ','_')\n",
    "    plt.savefig(f'5_link_Trapz_N{N}_integrated_second_order_dynamic_error.png', format='png')\n",
    "    \n"
   ]
  },
  {
   "cell_type": "code",
   "execution_count": null,
   "id": "fb47846a",
   "metadata": {
    "scrolled": false
   },
   "outputs": [],
   "source": [
    "schemes = ['hs_mod_parab','hs_parab']#, 'trapz', 'trapz_mod']\n",
    "titles = ['2nd order Hermite Simpson','Hermite Simpson']#, 'Trapezoidal', 'Modified Trapezoidal']\n",
    "colors = ['b', 'orange', 'g', 'r', 'purple']\n",
    "funcs = [arr_sum,]#arr_mod,  arr_max\n",
    "func_tittles = ['Module of', 'Sum of absolute', 'Maximum of absolute']\n",
    "y_max_list = [0.12, 0.2, 0.09]\n",
    "n_int = len(t_arr)\n",
    "N = 25\n",
    "interv_n = (N * t_arr)/results[scheme][N]['t']\n",
    "for ii in range(1):\n",
    "    plt.figure(figsize=oct_fig_size)\n",
    "    for kk in [1,0]:\n",
    "        scheme = schemes[kk]\n",
    "        cut_p = 0\n",
    "        for ll in range(1,N+1):\n",
    "            jj = np.searchsorted(interv_n, ll)\n",
    "            y_plot = funcs[ii](results[scheme][N]['twice_integ_err_2'])\n",
    "            plt.plot(t_arr[cut_p:jj],y_plot[cut_p:jj], '-', c = f'C{kk}', label = titles[kk] if cut_p == 0 else None)\n",
    "            cut_p = jj\n",
    "    plt.plot(results[scheme][N]['t_array'], np.zeros(N+1), 'ok', label = 'knot & collocation points')\n",
    "    plt.plot(results[scheme][N]['t_c_array'], np.zeros(N), 'ow', markeredgecolor='k', label = 'collocation points')\n",
    "    plt.legend()\n",
    "    plt.grid()\n",
    "    #plt.ylim([-0.01,y_max_list[ii]])\n",
    "    plt.title(r'Sum of absolute twice integrated second order dynamic error $\\Sigma |\\int_{0}^{t}\\int_{0}^{\\xi}\\varepsilon^{[2]}_{q_'+f'{ii+1}}}'+r'(\\tau) d\\tau d\\xi|$,'+f' HS schemes, N = {N}')\n",
    "    plt.xlabel('Time(s)')\n",
    "    plt.ylabel('Dynamic error $(rad)$')\n",
    "    plt.tight_layout(pad = 0.0)\n",
    "    sch_type = func_tittles[ii].replace(' ','_')\n",
    "    plt.savefig(f'5_link_HS_N{N}_twice_integrated_second_order_dynamic_error.png', format='png')\n",
    "    \n"
   ]
  },
  {
   "cell_type": "code",
   "execution_count": null,
   "id": "2b10c298",
   "metadata": {
    "scrolled": false
   },
   "outputs": [],
   "source": [
    "schemes = ['trapz', 'trapz_mod']#\n",
    "titles = ['Trapezoidal', 'Modified Trapezoidal']#\n",
    "colors = ['b', 'orange', 'g', 'r', 'purple']\n",
    "funcs = [arr_sum,]#arr_mod,  arr_max\n",
    "func_tittles = ['Module of', 'Sum of absolute', 'Maximum of absolute']\n",
    "y_max_list = [0.12, 0.2, 0.09]\n",
    "n_int = len(t_arr)\n",
    "N = 25\n",
    "interv_n = (N * t_arr)/results[scheme][N]['t']\n",
    "for ii in range(1):\n",
    "    plt.figure(figsize=oct_fig_size)\n",
    "    for kk in [1,0]:\n",
    "        scheme = schemes[kk]\n",
    "        cut_p = 0\n",
    "        for ll in range(1,N+1):\n",
    "            jj = np.searchsorted(interv_n, ll)\n",
    "            y_plot = funcs[ii](results[scheme][N]['twice_integ_err_2'])\n",
    "            plt.plot(t_arr[cut_p:jj],y_plot[cut_p:jj], '-', c = f'C{kk+2}', label = titles[kk] if cut_p == 0 else None)\n",
    "            cut_p = jj\n",
    "    plt.plot(results[scheme][N]['t_array'], np.zeros(N+1), 'ok', label = 'knot & collocation points')\n",
    "    plt.plot(results[scheme][N]['t_c_array'], np.zeros(N), 'ow', markeredgecolor='k', label = 'collocation points')\n",
    "    plt.legend()\n",
    "    plt.grid()\n",
    "    #plt.ylim([-0.01,y_max_list[ii]])\n",
    "    plt.title(r'Sum of absolute twice integrated second order dynamic error $\\Sigma |\\int_{0}^{t}\\int_{0}^{\\xi}\\varepsilon^{[2]}_{q_'+f'{ii+1}}}'+r'(\\tau) d\\tau d\\xi|$,'+f' Trapz schemes, N = {N}')\n",
    "    plt.xlabel('Time(s)')\n",
    "    plt.ylabel('Dynamic error $(rad)$')\n",
    "    plt.tight_layout(pad = 0.0)\n",
    "    sch_type = func_tittles[ii].replace(' ','_')\n",
    "    plt.savefig(f'5_link_Trapz_N{N}_twice_integrated_second_order_dynamic_error.png', format='png')\n",
    "    \n"
   ]
  },
  {
   "cell_type": "code",
   "execution_count": null,
   "id": "fd47e5c6",
   "metadata": {},
   "outputs": [],
   "source": [
    "schemes = ['hs_parab', 'hs_mod_parab','trapz', 'trapz_mod']#'hs', 'hs_mod', \n",
    "\n",
    "t_arr = np.linspace(0,0.7,n_graph)\n",
    "for scheme in schemes:\n",
    "    key = scheme\n",
    "    print('Problem:', key)\n",
    "    N_arr = results[key]['N_arr']\n",
    "    _sum = []\n",
    "    for N in N_arr:\n",
    "        results[key][N]['twice_integ_dyn_err_2'] = results[key][N]['twice_integ_err_2'][-1,:]\n",
    "        results[key][N][f'sum_twice_dyn_err_2'] = np.sum(np.abs(results[key][N]['twice_integ_dyn_err_2']))\n",
    "        _sum.append(results[key][N][f'sum_twice_dyn_err_2'])\n",
    "    results[key][f'sum_twice_dyn_err_2_array'] = np.array(_sum)"
   ]
  },
  {
   "cell_type": "code",
   "execution_count": null,
   "id": "4ae21888",
   "metadata": {},
   "outputs": [],
   "source": [
    "for scheme in schemes:\n",
    "    key = scheme\n",
    "    print('Problem:', key)\n",
    "    N_arr = results[key]['N_arr']\n",
    "    \n",
    "    for letter in 'qv2':\n",
    "        list_mod = []\n",
    "        list_sum = []\n",
    "        for N in N_arr:\n",
    "            #print(f'\\tN = {N}')\n",
    "            list_mod.append(results[key][N][f'module_dyn_err_{letter}'])\n",
    "            list_sum.append(results[key][N][f'sum_dyn_err_{letter}'])\n",
    "        results[key][f'module_dyn_err_{letter}_array'] = np.array(list_mod)\n",
    "        results[key][f'sum_dyn_err_{letter}_array'] = np.array(list_sum)"
   ]
  },
  {
   "cell_type": "code",
   "execution_count": null,
   "id": "d3ab743e",
   "metadata": {},
   "outputs": [],
   "source": [
    "for scheme in results.keys():\n",
    "    if 'hs' in scheme:\n",
    "        n_coll = np.array(results[scheme]['N_arr'])*2-1\n",
    "        results[scheme]['N_coll_arr'] = n_coll\n",
    "    else:\n",
    "        results[scheme]['N_coll_arr'] = results[scheme]['N_arr']\n",
    "    print(scheme, results[scheme]['N_arr'],results[scheme]['N_coll_arr'])"
   ]
  },
  {
   "cell_type": "markdown",
   "id": "08c4d464",
   "metadata": {},
   "source": [
    "schemes = ['hs_mod_parab','hs_parab', 'trapz', 'trapz_mod']\n",
    "titles = ['2nd order Hermite Simpson', 'Hermite Simpson','Trapezoidal', '2nd order Trapezoidal']\n",
    "plt.figure(figsize=[14,8])\n",
    "for ii in range(4):\n",
    "    key = schemes[ii]\n",
    "    plt.plot(results[key]['N_arr'], results[key][f'module_dyn_err_2_array'], marker = 'o',label = titles[ii])\n",
    "plt.grid()\n",
    "plt.legend()\n",
    "plt.yscale('log')\n",
    "plt.title('Module second order dynamic error')\n",
    "plt.xlabel('Number of intervals')\n",
    "plt.ylabel('Dynamic error ($rad/s^2$)')\n",
    "plt.savefig(f'5_link_Module_second_order_dynamic_error_vs_interval_number.eps', format='eps')"
   ]
  },
  {
   "cell_type": "code",
   "execution_count": null,
   "id": "2a9b3699",
   "metadata": {
    "scrolled": false
   },
   "outputs": [],
   "source": [
    "schemes_graph = ['hs_mod_parab', 'hs_parab', 'trapz', 'trapz_mod']\n",
    "titles = ['2nd order Hermite Simpson', 'Hermite Simpson','Trapezoidal', '2nd order Trapezoidal']\n",
    "colors = [f'C{ii}' for ii in range(9)]\n",
    "data_array = ['err_q_acum','err_v_acum','err_2_b_acum','cpudt']\n",
    "initial = 'lin'\n",
    "\n",
    "\n",
    "data_key = data_array[2]\n",
    "for qq in range(5):\n",
    "    #plt.figure(figsize=[10,6])\n",
    "    #plt.title(f'Biped second order dynamic error $|E^{{*[2]}}_{{q_{qq+1}}}|$')\n",
    "    for ii in [2,3,1,0]:\n",
    "        scheme = schemes_graph[ii]\n",
    "        key = scheme #+ '_' + initial\n",
    "        print(titles[ii], f'Error 2 q_{qq+1}:')\n",
    "        for nn in results[key]['N_arr']:\n",
    "            print('\\tN:', nn, 'Error:', results[key][nn]['integ_dyn_err_2'][qq])\n",
    "        N_arr = results[key]['N_arr']\n",
    "    #    if len(results[key][data_key].shape) == 1:\n",
    "    #        plt.plot(N_arr,np.abs(results[key][data_key]), marker = 'o', c = f'C{ii}',label = titles[ii])\n",
    "    #    else:\n",
    "    #        plt.plot(N_arr,np.abs(results[key][data_key][:,qq]), marker = 'o', c = f'C{ii}',label = titles[ii])\n",
    "    #plt.yscale('log')\n",
    "    #plt.xlabel('Number of intervals')\n",
    "    #plt.grid()\n",
    "    #plt.legend()\n",
    "    units = 'm/s' if qq == 0 else'rad/s'\n",
    "    #plt.ylabel(f'Dynamic error $({units})$')\n",
    "    #plt.tight_layout(pad = 0.0)\n",
    "    #plt.savefig(f'Cartpole_Integrated_Second_Order_Dynamic_Error_q_{qq+1}_vs_N.pdf', format='pdf')\n"
   ]
  },
  {
   "cell_type": "code",
   "execution_count": null,
   "id": "114a07a1",
   "metadata": {
    "scrolled": false
   },
   "outputs": [],
   "source": [
    "schemes_graph = ['hs_mod_parab', 'hs_parab', 'trapz', 'trapz_mod']\n",
    "titles = ['2nd order Hermite Simpson', 'Hermite Simpson','Trapezoidal', '2nd order Trapezoidal']\n",
    "colors = [f'C{ii}' for ii in range(9)]\n",
    "data_array = ['err_q_acum','err_v_acum','err_2_b_acum','cpudt']\n",
    "initial = 'lin'\n",
    "\n",
    "\n",
    "data_key = data_array[2]\n",
    "for qq in range(5):\n",
    "    #plt.figure(figsize=[10,6])\n",
    "    #plt.title(f'Biped second order dynamic error $|E^{{*[2]}}_{{q_{qq+1}}}|$')\n",
    "    for ii in [2,3,1,0]:\n",
    "        scheme = schemes_graph[ii]\n",
    "        key = scheme #+ '_' + initial\n",
    "        print(titles[ii], f'Error 2 q_{qq+1}:')\n",
    "        for nn in results[key]['N_arr']:\n",
    "            print('\\tN:', nn, 'Error:', results[key][nn]['twice_integ_dyn_err_2'][qq])\n",
    "        N_arr = results[key]['N_arr']\n",
    "    #    if len(results[key][data_key].shape) == 1:\n",
    "    #        plt.plot(N_arr,np.abs(results[key][data_key]), marker = 'o', c = f'C{ii}',label = titles[ii])\n",
    "    #    else:\n",
    "    #        plt.plot(N_arr,np.abs(results[key][data_key][:,qq]), marker = 'o', c = f'C{ii}',label = titles[ii])\n",
    "    #plt.yscale('log')\n",
    "    #plt.xlabel('Number of intervals')\n",
    "    #plt.grid()\n",
    "    #plt.legend()\n",
    "    units = 'm/s' if qq == 0 else'rad/s'\n",
    "    #plt.ylabel(f'Dynamic error $({units})$')\n",
    "    #plt.tight_layout(pad = 0.0)\n",
    "    #plt.savefig(f'Cartpole_Integrated_Second_Order_Dynamic_Error_q_{qq+1}_vs_N.pdf', format='pdf')\n"
   ]
  },
  {
   "cell_type": "code",
   "execution_count": null,
   "id": "ad11764a",
   "metadata": {},
   "outputs": [],
   "source": [
    "schemes = ['hs_mod_parab','hs_parab', 'trapz', 'trapz_mod']\n",
    "titles = ['2nd order Hermite Simpson', 'Hermite Simpson','Trapezoidal', '2nd order Trapezoidal']\n",
    "plt.figure(figsize=oct_fig_size)\n",
    "for ii in [2,3,1,0]:\n",
    "    key = schemes[ii]\n",
    "    plt.plot(results[key]['N_arr'], results[key][f'sum_dyn_err_2_array'], marker = 'o', c = f'C{ii}',label = titles[ii])\n",
    "plt.grid()\n",
    "plt.legend()\n",
    "plt.yscale('log')\n",
    "plt.title('5-link biped second order dynamic error $\\Sigma |E^{*[2]}_i|$')\n",
    "plt.xlabel('Number of intervals')\n",
    "plt.ylabel('Dynamic error ($rad/s$)')\n",
    "plt.tight_layout(pad = 0.0)\n",
    "plt.savefig(f'5_link_Sum_second_order_dynamic_error_vs_interval_number.png', format='png')"
   ]
  },
  {
   "cell_type": "code",
   "execution_count": null,
   "id": "2629f28b",
   "metadata": {},
   "outputs": [],
   "source": [
    "schemes = ['hs_mod_parab','hs_parab', 'trapz', 'trapz_mod']\n",
    "titles = ['2nd order Hermite Simpson', 'Hermite Simpson','Trapezoidal', '2nd order Trapezoidal']\n",
    "plt.figure(figsize=oct_fig_size)\n",
    "for ii in [2,3,1,0]:\n",
    "    key = schemes[ii]\n",
    "    plt.plot(results[key]['N_arr'], results[key][f'sum_twice_dyn_err_2_array'], marker = 'o', c = f'C{ii}',label = titles[ii])\n",
    "plt.grid()\n",
    "plt.legend()\n",
    "plt.yscale('log')\n",
    "plt.title('5-link biped twice integrated second order dynamic error $\\Sigma |EE^{*[2]}_i|$')\n",
    "plt.xlabel('Number of intervals')\n",
    "plt.ylabel('Dynamic error ($rad$)')\n",
    "plt.tight_layout(pad = 0.0)\n",
    "plt.savefig(f'5_link_Sum_twice_integ_second_order_dynamic_error_vs_interval_number.png', format='png')"
   ]
  },
  {
   "cell_type": "markdown",
   "id": "a99573b8",
   "metadata": {},
   "source": [
    "schemes = ['hs_mod_parab','hs_parab', 'trapz', 'trapz_mod']\n",
    "titles = ['Modified Hermite Simpson', 'Hermite Simpson','Trapezoidal', 'Modified Trapezoidal']\n",
    "plt.figure(figsize=[14,8])\n",
    "for ii in range(4):\n",
    "    key = schemes[ii]\n",
    "    plt.plot(results[key]['N_coll_arr'], results[key][f'sum_dyn_err_2_array'], marker = 'o',label = titles[ii])\n",
    "plt.grid()\n",
    "plt.legend()\n",
    "plt.yscale('log')\n",
    "plt.title('Added second order dynamic error')\n",
    "plt.xlabel('Number of collocation points')\n",
    "plt.ylabel('Dynamic error ($rad/s^2$)')\n",
    "plt.savefig(f'5_link_Sum_second_order_dynamic_error_vs_collocation_points_number.eps', format='eps')"
   ]
  },
  {
   "cell_type": "code",
   "execution_count": null,
   "id": "503b9b89",
   "metadata": {},
   "outputs": [],
   "source": [
    "for scheme in schemes:\n",
    "    key = scheme\n",
    "    print('Problem:', key)\n",
    "    N_arr = results[key]['N_arr']\n",
    "    list_cpudt = []\n",
    "    for N in N_arr:\n",
    "        #print(f'\\tN = {N}')\n",
    "        list_cpudt.append(results[key][N]['cpudt'])\n",
    "    results[key]['cpudt_array'] = np.array(list_cpudt)"
   ]
  },
  {
   "cell_type": "code",
   "execution_count": null,
   "id": "6fc2d3aa",
   "metadata": {},
   "outputs": [],
   "source": [
    "schemes = ['hs_mod_parab','hs_parab', 'trapz', 'trapz_mod']\n",
    "titles = ['2nd order Hermite Simpson', 'Hermite Simpson','Trapezoidal', '2nd order Trapezoidal']\n",
    "plt.figure(figsize=oct_fig_size)\n",
    "for ii in [2,3,1,0]:\n",
    "    key = schemes[ii]\n",
    "    plt.plot(results[key]['N_arr'], results[key][f'cpudt_array'], marker = 'o', c = f'C{ii}', label = titles[ii])\n",
    "plt.grid()\n",
    "plt.legend()\n",
    "#plt.yscale('log')\n",
    "plt.title('5-link biped optimization time')\n",
    "plt.xlabel('Number of intervals')\n",
    "plt.ylabel('Time (s)')\n",
    "plt.tight_layout(pad = 0.0)\n",
    "plt.savefig(f'5_link_optimization_vs_interval_number.pdf', format='pdf')"
   ]
  },
  {
   "cell_type": "markdown",
   "id": "30f0d674",
   "metadata": {},
   "source": [
    "schemes = ['hs_mod_parab','hs_parab', 'trapz', 'trapz_mod']\n",
    "titles = ['Modified Hermite Simpson', 'Hermite Simpson','Trapezoidal', 'Modified Trapezoidal']\n",
    "plt.figure(figsize=[14,8])\n",
    "for ii in range(4):\n",
    "    key = schemes[ii]\n",
    "    plt.plot(results[key]['N_coll_arr'], results[key][f'cpudt_array'], marker = 'o',label = titles[ii])\n",
    "plt.grid()\n",
    "plt.legend()\n",
    "#plt.yscale('log')\n",
    "plt.title('optimization time')\n",
    "plt.xlabel('Number of collocation points')\n",
    "plt.ylabel('time (s)')\n",
    "plt.savefig(f'5 link optimization vs collocation points number.eps', format='eps')"
   ]
  },
  {
   "cell_type": "code",
   "execution_count": null,
   "id": "12222ba2",
   "metadata": {},
   "outputs": [],
   "source": [
    "for scheme in ['hs_mod_parab', 'hs_parab', 'trapz', 'trapz_mod']:\n",
    "    key = scheme\n",
    "    for N in [25,50]:#results[key]['N_arr']:\n",
    "        print('scheme:', scheme, 'N:', N,'\\n\\ttime:', results[key][N][f'cpudt'],\n",
    "              '\\n\\tErr 1:', results[key][N]['sum_dyn_err_q'], '\\n\\tErr 2:', results[key][N]['sum_dyn_err_2'])"
   ]
  },
  {
   "cell_type": "markdown",
   "id": "267c7b22",
   "metadata": {},
   "source": [
    "## Animation"
   ]
  },
  {
   "cell_type": "code",
   "execution_count": null,
   "id": "24c3fa78",
   "metadata": {},
   "outputs": [],
   "source": [
    "from matplotlib import animation, rc\n",
    "import matplotlib.patches as patches\n",
    "from matplotlib.transforms import Affine2D\n",
    "from IPython.display import HTML"
   ]
  },
  {
   "cell_type": "code",
   "execution_count": null,
   "id": "d72b22c3",
   "metadata": {},
   "outputs": [],
   "source": [
    "matplotlib.rcParams['animation.embed_limit'] = 200"
   ]
  },
  {
   "cell_type": "code",
   "execution_count": null,
   "id": "a4f98a49",
   "metadata": {},
   "outputs": [],
   "source": [
    "def body_tray(X, params):\n",
    "    res = []\n",
    "    for ii in range(X.shape[0]):\n",
    "        res.append(list(chain_to_draw(X[ii,:], params)))\n",
    "    return np.array(res)"
   ]
  },
  {
   "cell_type": "code",
   "execution_count": null,
   "id": "ab473eb1",
   "metadata": {},
   "outputs": [],
   "source": [
    "def loop_body_tray(X, params):\n",
    "    point_tray = body_tray(X, params)\n",
    "    point_tray_loop = np.append(\n",
    "        point_tray,\n",
    "        np.expand_dims(\n",
    "            np.array(list(chain_to_draw(X[0,[4,3,2,1,0,5,6,7,8,9]],params)))\n",
    "            ,0),\n",
    "        0)\n",
    "    return point_tray_loop"
   ]
  },
  {
   "cell_type": "code",
   "execution_count": null,
   "id": "064c6630",
   "metadata": {},
   "outputs": [],
   "source": [
    "def create_anim(X, U, params, n_loops = 1):\n",
    "    [\n",
    "    I_0_n, I_1_n, I_2_n, I_3_n, I_4_n,\n",
    "    d_0_n, d_1_n, d_2_n, d_3_n, d_4_n,\n",
    "    g_n,\n",
    "    l_0_n, l_1_n, l_3_n,\n",
    "    m_0_n, m_1_n, m_2_n, m_3_n, m_4_n\n",
    "    ] = params\n",
    "    \n",
    "    N = X.shape[0]\n",
    "    fig, ax = plt.subplots()\n",
    "    draw_width = 14\n",
    "    draw_height = 14\n",
    "    \n",
    "    fig.set_dpi(300)\n",
    "    fig.set_size_inches([draw_width,draw_height])\n",
    "    ax.set_xlim(( -1, 1))\n",
    "    ax.set_ylim(( -0.2, 1.8))\n",
    "    \n",
    "    body, = ax.plot([], [], lw=4, ms = 12, marker = 'o')\n",
    "    trail, = ax.plot([], [], lw=1, color = 'k')\n",
    "    old_trail, = ax.plot([], [], lw=1, color = 'k')\n",
    "    next_trail, = ax.plot([], [], lw=1, color = 'k')\n",
    "    \n",
    "    \n",
    "    point_tray = body_tray(X, params)\n",
    "    point_tray_loop = loop_body_tray(X, params)\n",
    "    #sys_cm_point, = ax.plot([], [], 'go', ms=12)\n",
    "    #line_sys_cm, = ax.plot([], [], 'k:', lw=1)\n",
    "    \n",
    "    print_vars = [X[:,ii] for ii in range(5)]+[np.linspace(0, N-1, N, dtype=int)]\n",
    "    print_var_names = [f'q_{ii}' for ii in range(5)]+['step']\n",
    "    texts = []\n",
    "    ii = 0.8\n",
    "    for arr in print_vars:\n",
    "        texts.append(ax.text(-0.8, ii, \"\", fontsize = 12))\n",
    "        ii -= 0.2\n",
    "    \n",
    "    ax.grid()\n",
    "    \n",
    "    def init():\n",
    "        body.set_data([], [])\n",
    "        trail.set_data(point_tray_loop[0,0,-1], point_tray_loop[0,1,-1])\n",
    "        old_trail.set_data(point_tray_loop[:,0,-1]-0.5, point_tray_loop[:,1,-1])\n",
    "        #next_trail.set_data(point_tray_loop[:,0,-1]+0.5, point_tray_loop[:,1,-1])\n",
    "        #sys_cm_point.set_data([], [])\n",
    "        #line_sys_cm.set_data([], [])\n",
    "        return (body,)\n",
    "    \n",
    "    def animate(i):\n",
    "        margin_x = -0.25 + i * 0.5/N\n",
    "        trail.set_data(point_tray_loop[0:i+1,0,-1], point_tray_loop[0:i+1,1,-1])\n",
    "        #sys_cm_coords = sys_cm_np(X[i,:], params)\n",
    "        #sys_cm_point.set_data(sys_cm_coords)\n",
    "        #line_sys_cm.set_data([0, sys_cm_coords[0]], [0, sys_cm_coords[1]])\n",
    "        \n",
    "        ax.set_xlim(( -1+ margin_x, 1+ margin_x))\n",
    "        points_x, points_y = point_tray[i,:,:]\n",
    "        body.set_data(points_x, points_y) \n",
    "        \n",
    "        for ii in range(len(texts)):\n",
    "            text = texts[ii]\n",
    "            name = print_var_names[ii]\n",
    "            arr = print_vars[ii]\n",
    "            text.set_position((-0.9 + margin_x, 1.7 - 0.05*ii))\n",
    "            if name == 'step':\n",
    "                text.set_text(\"$step$ = \" + str(arr[i]))\n",
    "            else:\n",
    "                text.set_text(\"$\" + name + \"$ = %.3f\" % arr[i])\n",
    "        return (body,)\n",
    "    iterable_frames = sum([[jj for jj in range(N)]for kk in range(n_loops)], start = [])\n",
    "    anim = animation.FuncAnimation(fig, animate, init_func=init,\n",
    "                               frames=iterable_frames, interval=20, \n",
    "                               blit=True)\n",
    "    return anim\n",
    "\n",
    "\n",
    "\n"
   ]
  },
  {
   "cell_type": "code",
   "execution_count": null,
   "id": "f8bceb50",
   "metadata": {
    "scrolled": false
   },
   "outputs": [],
   "source": [
    "anim = create_anim(results['hs_mod_parab'][25]['x'][:-1,:],results['hs_mod_parab'][25]['u'], params, 20)"
   ]
  },
  {
   "cell_type": "code",
   "execution_count": null,
   "id": "58a76b44",
   "metadata": {},
   "outputs": [],
   "source": [
    "HTML(anim.to_jshtml())"
   ]
  },
  {
   "cell_type": "code",
   "execution_count": null,
   "id": "7548391e",
   "metadata": {},
   "outputs": [],
   "source": [
    "f = r\"biped_animation_hd.mp4\" \n",
    "writervideo = animation.FFMpegWriter(fps=25//0.7) \n",
    "anim.save(f, writer=writervideo)"
   ]
  },
  {
   "cell_type": "code",
   "execution_count": null,
   "id": "cc3cc1c9",
   "metadata": {},
   "outputs": [],
   "source": []
  },
  {
   "cell_type": "code",
   "execution_count": null,
   "id": "056bf6ca",
   "metadata": {},
   "outputs": [],
   "source": [
    "def __create_anim_simp(X, U, params):\n",
    "    [\n",
    "    I_0_n, I_1_n, I_2_n, I_3_n, I_4_n,\n",
    "    d_0_n, d_1_n, d_2_n, d_3_n, d_4_n,\n",
    "    g_n,\n",
    "    l_0_n, l_1_n, l_3_n,\n",
    "    m_0_n, m_1_n, m_2_n, m_3_n, m_4_n\n",
    "    ] = params\n",
    "    \n",
    "    N = X.shape[0]\n",
    "    fig, ax = plt.subplots()\n",
    "    \n",
    "    y_scale = 1\n",
    "    min_x_cart = np.min(X[:,0])\n",
    "    max_x_cart = np.max(X[:,0])\n",
    "    cart_displ = max_x_cart-min_x_cart\n",
    "    size_x = 2*y_scale + cart_displ\n",
    "    size_y = 2*y_scale\n",
    "    draw_width = 14\n",
    "    draw_height = draw_width / size_x * size_y\n",
    "    \n",
    "    x_0 = X[:,0]\n",
    "    y_0 = np.zeros_like(x_0)\n",
    "    x_1 = x_0 + l_3*np.sin(X[:,1])\n",
    "    y_1 = y_0 - l_3*np.cos(X[:,1])\n",
    "    \n",
    "    x_cm = (m_0 * x_0 + m_2 * x_1)/(m_0 + m_2)\n",
    "    y_cm = (m_0 * y_0 + m_2 * y_1)/(m_0 + m_2)\n",
    "\n",
    "    fig.set_size_inches([draw_width,draw_height])\n",
    "    ax.set_xlim(( min_x_cart-y_scale, max_x_cart+y_scale))\n",
    "    ax.set_ylim(( -y_scale, y_scale))\n",
    "\n",
    "    circle1 = plt.Circle((0, 0), l_3, color='b', ls = \":\", fill=False)\n",
    "    ax.add_artist(circle1)\n",
    "    ax.plot([min_x_cart - l_3, max_x_cart + l_3], [0,0], 'k', lw=1, ls = ':')\n",
    "\n",
    "    line1, = ax.plot([], [], lw=2)\n",
    "    line3, = ax.plot([], [], 'k', lw=1, ls = ':')\n",
    "    line_cm, = ax.plot([], [], 'g', lw=1, ls = ':')\n",
    "    point0, = ax.plot([], [], marker='o', markersize=15, color=\"red\")\n",
    "    point1, = ax.plot([], [], marker='o', markersize=15, color=\"red\")\n",
    "    point_cm, = ax.plot([], [], marker='o', markersize=10, color=\"green\")\n",
    "    u_max = max(np.max(np.abs(U[:,0])),1e-15)\n",
    "    arrow_w = 0.05*l_3\n",
    "    arrow_l = 0.2*l_3\n",
    "    u_arrow = patches.Arrow(0, 0, 0, -arrow_l, color = 'gray',width = arrow_w)\n",
    "    ax.add_patch(u_arrow)\n",
    "    \n",
    "    print_vars = [X[:,0], X[:,1], U[:,0], U[:,1], np.linspace(0, N-1, N, dtype=int)]\n",
    "    print_var_names = ['q_0', 'q_1', 'u_0', 'u_1', 'step']\n",
    "    texts = []\n",
    "    ii = 0\n",
    "    for arr in print_vars:\n",
    "        texts.append(ax.text(0.2, ii, \"\", fontsize = 12))\n",
    "        ii -= 0.08*l_3\n",
    "    \n",
    "    def init():\n",
    "        line1.set_data([], [])\n",
    "        line3.set_data([], [])\n",
    "        line_cm.set_data([], [])\n",
    "        point1.set_data([], [])\n",
    "        circle1.center = (0, 0)\n",
    "        return (line1,)\n",
    "    def animate(i):\n",
    "        circle1.center = (x_0[i], y_0[i])\n",
    "        point0.set_data(x_0[i], y_0[i])\n",
    "        line1.set_data([x_0[i], x_1[i]], [y_0[i], y_1[i]])    \n",
    "        point1.set_data(x_1[i], y_1[i])\n",
    "        point_cm.set_data(x_cm[i], y_cm[i])\n",
    "        line3.set_data(x_1[:i], y_1[:i])\n",
    "        line_cm.set_data(x_cm[:i], y_cm[:i])\n",
    "        trans = Affine2D()\n",
    "        u_arrow._patch_transform = trans.scale(U[i,0] * arrow_l / u_max, arrow_w).translate(x_0[i],0)\n",
    "        for ii in range(len(texts)):\n",
    "            text = texts[ii]\n",
    "            name = print_var_names[ii]\n",
    "            arr = print_vars[ii]\n",
    "            text.set_text(\"$\" + name + \"$ = %.6f\" % arr[i])\n",
    "        return (line1,u_arrow)\n",
    "    anim = animation.FuncAnimation(fig, animate, init_func=init,\n",
    "                               frames=N, interval=20, \n",
    "                               blit=True)\n",
    "    return anim"
   ]
  }
 ],
 "metadata": {
  "kernelspec": {
   "display_name": "Python 3 (ipykernel)",
   "language": "python",
   "name": "python3"
  },
  "language_info": {
   "codemirror_mode": {
    "name": "ipython",
    "version": 3
   },
   "file_extension": ".py",
   "mimetype": "text/x-python",
   "name": "python",
   "nbconvert_exporter": "python",
   "pygments_lexer": "ipython3",
   "version": "3.9.5"
  }
 },
 "nbformat": 4,
 "nbformat_minor": 5
}
