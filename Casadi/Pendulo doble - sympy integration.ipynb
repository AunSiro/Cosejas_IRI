{
 "cells": [
  {
   "cell_type": "markdown",
   "metadata": {},
   "source": [
    "# Step 1: mechanics with Euler-Lagrange"
   ]
  },
  {
   "cell_type": "code",
   "execution_count": 1,
   "metadata": {},
   "outputs": [],
   "source": [
    "import numpy as np\n",
    "import matplotlib.pyplot as plt\n",
    "from mpl_toolkits import mplot3d\n",
    "\n",
    "from numpy import logical_and as npand\n",
    "from numpy import logical_or as npor"
   ]
  },
  {
   "cell_type": "code",
   "execution_count": 2,
   "metadata": {},
   "outputs": [],
   "source": [
    "from sympy import (symbols, pi, I, E, cos, sin, exp, tan, simplify, expand, factor, collect,\n",
    "                   apart, cancel, expand_trig, diff, Derivative, Function, integrate, limit,\n",
    "                   series, Eq, solve, dsolve, Matrix, N, preorder_traversal, Float, solve_linear_system,\n",
    "                   eye, zeros, lambdify)\n",
    "from sympy.physics.mechanics import dynamicsymbols, init_vprinting"
   ]
  },
  {
   "cell_type": "code",
   "execution_count": 3,
   "metadata": {},
   "outputs": [],
   "source": [
    "init_vprinting()"
   ]
  },
  {
   "cell_type": "code",
   "execution_count": 17,
   "metadata": {},
   "outputs": [],
   "source": [
    "m0, m1, l0, l1, t, g = symbols('m_0 m_1 l_0 l_1 t g')"
   ]
  },
  {
   "cell_type": "code",
   "execution_count": 5,
   "metadata": {},
   "outputs": [
    {
     "data": {
      "image/png": "[encoded data removed]",
      "text/latex": [
       "$\\displaystyle \\left( \\theta_{1}, \\  \\theta_{2}\\right)$"
      ],
      "text/plain": [
       "(θ₁, θ₂)"
      ]
     },
     "execution_count": 5,
     "metadata": {},
     "output_type": "execute_result"
    }
   ],
   "source": [
    "the1, the2 = dynamicsymbols('theta_1 theta_2')\n",
    "the1, the2"
   ]
  },
  {
   "cell_type": "code",
   "execution_count": 11,
   "metadata": {},
   "outputs": [
    {
     "data": {
      "image/png": "[encoded data removed]",
      "text/latex": [
       "$\\displaystyle \\left( \\dot{\\theta}_{1}, \\  \\dot{\\theta}_{2}\\right)$"
      ],
      "text/plain": [
       "(θ₁̇, θ₂̇)"
      ]
     },
     "execution_count": 11,
     "metadata": {},
     "output_type": "execute_result"
    }
   ],
   "source": [
    "thedot1 = the1.diff(t)\n",
    "thedot2 = the2.diff(t)\n",
    "thedot1, thedot2"
   ]
  },
  {
   "cell_type": "code",
   "execution_count": 15,
   "metadata": {},
   "outputs": [
    {
     "data": {
      "image/png": "[encoded data removed]",
      "text/latex": [
       "$\\displaystyle \\frac{l_{0}^{2} m_{0} \\dot{\\theta}_{1}^{2}}{2} + \\frac{m_{1} \\left(l_{0}^{2} \\dot{\\theta}_{1}^{2} + 2 l_{0} l_{1} \\operatorname{cos}\\left(\\theta_{1} - \\theta_{2}\\right) \\dot{\\theta}_{1} \\dot{\\theta}_{2} + l_{1}^{2} \\dot{\\theta}_{2}^{2}\\right)}{2}$"
      ],
      "text/plain": [
       "  2       2      ⎛  2    2                                    2    2⎞\n",
       "l₀ ⋅m₀⋅θ₁̇    m₁⋅⎝l₀ ⋅θ₁̇  + 2⋅l₀⋅l₁⋅cos(θ₁ - θ₂)⋅θ₁̇⋅θ₂̇ + l₁ ⋅θ₂̇ ⎠\n",
       "─────────── + ───────────────────────────────────────────────────────\n",
       "     2                                   2                           "
      ]
     },
     "execution_count": 15,
     "metadata": {},
     "output_type": "execute_result"
    }
   ],
   "source": [
    "T = m0*l0**2*thedot1**2/2 + m1*(l0**2*thedot1**2 + l1**2*thedot2**2 + 2*l0*l1*thedot1*thedot2*cos(the2-the1))/2\n",
    "T"
   ]
  },
  {
   "cell_type": "code",
   "execution_count": 19,
   "metadata": {},
   "outputs": [
    {
     "data": {
      "image/png": "[encoded data removed]",
      "text/latex": [
       "$\\displaystyle - g l_{0} m_{0} \\operatorname{cos}\\left(\\theta_{1}\\right) - g m_{1} \\left(l_{0} \\operatorname{cos}\\left(\\theta_{1}\\right) + l_{1} \\operatorname{cos}\\left(\\theta_{2}\\right)\\right)$"
      ],
      "text/plain": [
       "-g⋅l₀⋅m₀⋅cos(θ₁) - g⋅m₁⋅(l₀⋅cos(θ₁) + l₁⋅cos(θ₂))"
      ]
     },
     "execution_count": 19,
     "metadata": {},
     "output_type": "execute_result"
    }
   ],
   "source": [
    "U = -m0*g*cos(the1)*l0 - m1*g*(l0*cos(the1)+l1*cos(the2))\n",
    "U"
   ]
  },
  {
   "cell_type": "code",
   "execution_count": 20,
   "metadata": {},
   "outputs": [
    {
     "data": {
      "image/png": "[encoded data removed]",
      "text/latex": [
       "$\\displaystyle g l_{0} m_{0} \\operatorname{cos}\\left(\\theta_{1}\\right) + g m_{1} \\left(l_{0} \\operatorname{cos}\\left(\\theta_{1}\\right) + l_{1} \\operatorname{cos}\\left(\\theta_{2}\\right)\\right) + \\frac{l_{0}^{2} m_{0} \\dot{\\theta}_{1}^{2}}{2} + \\frac{m_{1} \\left(l_{0}^{2} \\dot{\\theta}_{1}^{2} + 2 l_{0} l_{1} \\operatorname{cos}\\left(\\theta_{1} - \\theta_{2}\\right) \\dot{\\theta}_{1} \\dot{\\theta}_{2} + l_{1}^{2} \\dot{\\theta}_{2}^{2}\\right)}{2}$"
      ],
      "text/plain": [
       "                                                     2       2      ⎛  2    2 \n",
       "                                                   l₀ ⋅m₀⋅θ₁̇    m₁⋅⎝l₀ ⋅θ₁̇  \n",
       "g⋅l₀⋅m₀⋅cos(θ₁) + g⋅m₁⋅(l₀⋅cos(θ₁) + l₁⋅cos(θ₂)) + ─────────── + ─────────────\n",
       "                                                        2                     \n",
       "\n",
       "                                   2    2⎞\n",
       "+ 2⋅l₀⋅l₁⋅cos(θ₁ - θ₂)⋅θ₁̇⋅θ₂̇ + l₁ ⋅θ₂̇ ⎠\n",
       "──────────────────────────────────────────\n",
       "              2                           "
      ]
     },
     "execution_count": 20,
     "metadata": {},
     "output_type": "execute_result"
    }
   ],
   "source": [
    "L = T-U\n",
    "L"
   ]
  },
  {
   "cell_type": "code",
   "execution_count": 29,
   "metadata": {},
   "outputs": [],
   "source": [
    "def lagrange(expr, var):\n",
    "    vardot = var.diff(t)\n",
    "    lag1 = expr.diff(vardot).simplify().diff(t).simplify()\n",
    "    lag2 = expr.diff(var).simplify()\n",
    "    lag = lag1-lag2\n",
    "    return lag.simplify()"
   ]
  },
  {
   "cell_type": "code",
   "execution_count": 25,
   "metadata": {},
   "outputs": [
    {
     "data": {
      "image/png": "[encoded data removed]",
      "text/latex": [
       "$\\displaystyle l_{0} \\left(l_{0} m_{0} \\ddot{\\theta}_{1} + m_{1} \\left(l_{0} \\ddot{\\theta}_{1} - l_{1} \\left(\\dot{\\theta}_{1} - \\dot{\\theta}_{2}\\right) \\operatorname{sin}\\left(\\theta_{1} - \\theta_{2}\\right) \\dot{\\theta}_{2} + l_{1} \\operatorname{cos}\\left(\\theta_{1} - \\theta_{2}\\right) \\ddot{\\theta}_{2}\\right)\\right)$"
      ],
      "text/plain": [
       "l₀⋅(l₀⋅m₀⋅θ₁̈ + m₁⋅(l₀⋅θ₁̈ - l₁⋅(θ₁̇ - θ₂̇)⋅sin(θ₁ - θ₂)⋅θ₂̇ + l₁⋅cos(θ₁ - θ₂)\n",
       "⋅θ₂̈))"
      ]
     },
     "execution_count": 25,
     "metadata": {},
     "output_type": "execute_result"
    }
   ],
   "source": [
    "L.diff(thedot1).simplify().diff(t).simplify()"
   ]
  },
  {
   "cell_type": "code",
   "execution_count": 26,
   "metadata": {},
   "outputs": [
    {
     "data": {
      "image/png": "[encoded data removed]",
      "text/latex": [
       "$\\displaystyle - g l_{0} m_{0} \\operatorname{sin}\\left(\\theta_{1}\\right) - g l_{0} m_{1} \\operatorname{sin}\\left(\\theta_{1}\\right) - l_{0} l_{1} m_{1} \\operatorname{sin}\\left(\\theta_{1} - \\theta_{2}\\right) \\dot{\\theta}_{1} \\dot{\\theta}_{2}$"
      ],
      "text/plain": [
       "-g⋅l₀⋅m₀⋅sin(θ₁) - g⋅l₀⋅m₁⋅sin(θ₁) - l₀⋅l₁⋅m₁⋅sin(θ₁ - θ₂)⋅θ₁̇⋅θ₂̇"
      ]
     },
     "execution_count": 26,
     "metadata": {},
     "output_type": "execute_result"
    }
   ],
   "source": [
    "L.diff(the1)"
   ]
  },
  {
   "cell_type": "code",
   "execution_count": 30,
   "metadata": {},
   "outputs": [
    {
     "data": {
      "image/png": "[encoded data removed]",
      "text/latex": [
       "$\\displaystyle l_{0} \\left(g m_{0} \\operatorname{sin}\\left(\\theta_{1}\\right) + g m_{1} \\operatorname{sin}\\left(\\theta_{1}\\right) + l_{0} m_{0} \\ddot{\\theta}_{1} + l_{0} m_{1} \\ddot{\\theta}_{1} + l_{1} m_{1} \\operatorname{sin}\\left(\\theta_{1} - \\theta_{2}\\right) \\dot{\\theta}_{2}^{2} + l_{1} m_{1} \\operatorname{cos}\\left(\\theta_{1} - \\theta_{2}\\right) \\ddot{\\theta}_{2}\\right)$"
      ],
      "text/plain": [
       "   ⎛                                                                          \n",
       "l₀⋅⎝g⋅m₀⋅sin(θ₁) + g⋅m₁⋅sin(θ₁) + l₀⋅m₀⋅θ₁̈ + l₀⋅m₁⋅θ₁̈ + l₁⋅m₁⋅sin(θ₁ - θ₂)⋅θ\n",
       "\n",
       "  2                         ⎞\n",
       "₂̇  + l₁⋅m₁⋅cos(θ₁ - θ₂)⋅θ₂̈⎠"
      ]
     },
     "execution_count": 30,
     "metadata": {},
     "output_type": "execute_result"
    }
   ],
   "source": [
    "lagrange(L, the1)"
   ]
  },
  {
   "cell_type": "code",
   "execution_count": 31,
   "metadata": {},
   "outputs": [
    {
     "data": {
      "image/png": "[encoded data removed]",
      "text/latex": [
       "$\\displaystyle l_{1} m_{1} \\left(g \\operatorname{sin}\\left(\\theta_{2}\\right) - l_{0} \\operatorname{sin}\\left(\\theta_{1} - \\theta_{2}\\right) \\dot{\\theta}_{1}^{2} + l_{0} \\operatorname{cos}\\left(\\theta_{1} - \\theta_{2}\\right) \\ddot{\\theta}_{1} + l_{1} \\ddot{\\theta}_{2}\\right)$"
      ],
      "text/plain": [
       "      ⎛                               2                               ⎞\n",
       "l₁⋅m₁⋅⎝g⋅sin(θ₂) - l₀⋅sin(θ₁ - θ₂)⋅θ₁̇  + l₀⋅cos(θ₁ - θ₂)⋅θ₁̈ + l₁⋅θ₂̈⎠"
      ]
     },
     "execution_count": 31,
     "metadata": {},
     "output_type": "execute_result"
    }
   ],
   "source": [
    "lagrange(L, the2)"
   ]
  },
  {
   "cell_type": "markdown",
   "metadata": {},
   "source": [
    "# Step 2: conversion?"
   ]
  },
  {
   "cell_type": "code",
   "execution_count": null,
   "metadata": {},
   "outputs": [],
   "source": []
  }
 ],
 "metadata": {
  "kernelspec": {
   "display_name": "Python 3",
   "language": "python",
   "name": "python3"
  },
  "language_info": {
   "codemirror_mode": {
    "name": "ipython",
    "version": 3
   },
   "file_extension": ".py",
   "mimetype": "text/x-python",
   "name": "python",
   "nbconvert_exporter": "python",
   "pygments_lexer": "ipython3",
   "version": "3.7.3"
  }
 },
 "nbformat": 4,
 "nbformat_minor": 2
}
