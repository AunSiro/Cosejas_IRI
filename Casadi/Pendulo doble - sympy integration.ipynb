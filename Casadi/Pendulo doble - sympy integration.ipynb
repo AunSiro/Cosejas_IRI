{
 "cells": [
  {
   "cell_type": "markdown",
   "metadata": {},
   "source": [
    "# Step 1: mechanics with Euler-Lagrange"
   ]
  },
  {
   "cell_type": "code",
   "execution_count": null,
   "metadata": {},
   "outputs": [],
   "source": [
    "import numpy as np\n",
    "import matplotlib.pyplot as plt\n",
    "from mpl_toolkits import mplot3d\n",
    "\n",
    "from numpy import logical_and as npand\n",
    "from numpy import logical_or as npor\n",
    "import matplotlib"
   ]
  },
  {
   "cell_type": "code",
   "execution_count": null,
   "metadata": {},
   "outputs": [],
   "source": [
    "from sympy import (symbols, pi, I, E, cos, sin, exp, tan, simplify, expand, factor, collect,\n",
    "                   apart, cancel, expand_trig, diff, Derivative, Function, integrate, limit,\n",
    "                   series, Eq, solve, dsolve, Matrix, N, preorder_traversal, Float, solve_linear_system,\n",
    "                   eye, zeros, lambdify)\n",
    "from sympy.physics.mechanics import dynamicsymbols, init_vprinting"
   ]
  },
  {
   "cell_type": "code",
   "execution_count": null,
   "metadata": {},
   "outputs": [],
   "source": [
    "from matplotlib import animation, rc\n",
    "from IPython.display import HTML"
   ]
  },
  {
   "cell_type": "code",
   "execution_count": null,
   "metadata": {},
   "outputs": [],
   "source": [
    "init_vprinting()"
   ]
  },
  {
   "cell_type": "code",
   "execution_count": null,
   "metadata": {},
   "outputs": [],
   "source": [
    "m0, m1, l0, l1, t, g = symbols('m_0 m_1 l_0 l_1 t g')"
   ]
  },
  {
   "cell_type": "code",
   "execution_count": null,
   "metadata": {},
   "outputs": [],
   "source": [
    "the1, the2 = dynamicsymbols('theta_1 theta_2')\n",
    "the1, the2"
   ]
  },
  {
   "cell_type": "code",
   "execution_count": null,
   "metadata": {},
   "outputs": [],
   "source": [
    "thedot1 = the1.diff(t)\n",
    "thedot2 = the2.diff(t)\n",
    "thedot1, thedot2"
   ]
  },
  {
   "cell_type": "code",
   "execution_count": null,
   "metadata": {},
   "outputs": [],
   "source": [
    "thedotdot1 = thedot1.diff(t)\n",
    "thedotdot2 = thedot2.diff(t)\n",
    "thedotdot1, thedotdot2"
   ]
  },
  {
   "cell_type": "code",
   "execution_count": null,
   "metadata": {},
   "outputs": [],
   "source": [
    "T = m0*l0**2*thedot1**2/2 + m1*(l0**2*thedot1**2 + l1**2*thedot2**2 + 2*l0*l1*thedot1*thedot2*cos(the2-the1))/2\n",
    "T"
   ]
  },
  {
   "cell_type": "code",
   "execution_count": null,
   "metadata": {},
   "outputs": [],
   "source": [
    "U = -m0*g*cos(the1)*l0 - m1*g*(l0*cos(the1)+l1*cos(the2))\n",
    "U"
   ]
  },
  {
   "cell_type": "code",
   "execution_count": null,
   "metadata": {},
   "outputs": [],
   "source": [
    "L = T-U\n",
    "L"
   ]
  },
  {
   "cell_type": "code",
   "execution_count": null,
   "metadata": {},
   "outputs": [],
   "source": [
    "L.expand()"
   ]
  },
  {
   "cell_type": "code",
   "execution_count": null,
   "metadata": {},
   "outputs": [],
   "source": [
    "E = T + U\n",
    "E"
   ]
  },
  {
   "cell_type": "code",
   "execution_count": null,
   "metadata": {},
   "outputs": [],
   "source": [
    "L.diff(thedot1).simplify().diff(t).simplify()"
   ]
  },
  {
   "cell_type": "code",
   "execution_count": null,
   "metadata": {},
   "outputs": [],
   "source": [
    "L.diff(the1)"
   ]
  },
  {
   "cell_type": "code",
   "execution_count": null,
   "metadata": {},
   "outputs": [],
   "source": [
    "def lagrange(expr, var):\n",
    "    vardot = var.diff(t)\n",
    "    lag1 = expr.diff(vardot).simplify().diff(t).simplify()\n",
    "    lag2 = expr.diff(var).simplify()\n",
    "    lag = lag1-lag2\n",
    "    return lag.simplify()"
   ]
  },
  {
   "cell_type": "code",
   "execution_count": null,
   "metadata": {},
   "outputs": [],
   "source": [
    "l_expr_1 = lagrange(L, the1)\n",
    "l_expr_1"
   ]
  },
  {
   "cell_type": "code",
   "execution_count": null,
   "metadata": {},
   "outputs": [],
   "source": [
    "l_expr_1.expand()"
   ]
  },
  {
   "cell_type": "code",
   "execution_count": null,
   "metadata": {},
   "outputs": [],
   "source": [
    "wikiexpr = (\n",
    "    (m0+m1)*l0**2*thedotdot1 +\n",
    "    m1*thedotdot2*l0*l1*cos(the1-the2) +\n",
    "    -m1*thedot2*l0*l1*(thedot1-thedot2)*sin(the1-the2) + \n",
    "    m1*thedot1*thedot2*l0*l1*sin(the1-the2) + \n",
    "    (m0+m1)*g*l0*sin(the1))\n",
    "wikiexpr"
   ]
  },
  {
   "cell_type": "code",
   "execution_count": null,
   "metadata": {},
   "outputs": [],
   "source": [
    "resto = wikiexpr-l_expr_1\n",
    "resto.simplify()"
   ]
  },
  {
   "cell_type": "markdown",
   "metadata": {},
   "source": [
    "## discretization:\n",
    "\n",
    "$$x_{n+1} = x_n + dt x'$$\n",
    "$$x' = \\frac{x_{n+1}-x_n}{dt}$$"
   ]
  },
  {
   "cell_type": "code",
   "execution_count": null,
   "metadata": {},
   "outputs": [],
   "source": [
    "thedot1_1 = dynamicsymbols('theta_1n+1').diff(t)\n",
    "thedot2_1 = dynamicsymbols('theta_2n+1').diff(t)\n",
    "thedot1_1, thedot2_1"
   ]
  },
  {
   "cell_type": "code",
   "execution_count": null,
   "metadata": {},
   "outputs": [],
   "source": [
    "dt = symbols('dt')"
   ]
  },
  {
   "cell_type": "code",
   "execution_count": null,
   "metadata": {},
   "outputs": [],
   "source": [
    "def lagrange_disc(expr, var, params):\n",
    "    vardot = var.diff(t)\n",
    "    vardotdot = vardot.diff(t)\n",
    "    name = var.name\n",
    "    lag1 = expr.diff(vardot).simplify().diff(t).simplify()\n",
    "    lag2 = expr.diff(var).simplify()\n",
    "    lag = (lag1-lag2).simplify()\n",
    "    vardot_1 = dynamicsymbols(name+'n+1').diff(t)\n",
    "    dt = symbols('dt')\n",
    "    lag = lag.subs(vardotdot, (vardot_1-vardot)/dt)\n",
    "    for para in params:\n",
    "        parname = para.name\n",
    "        pardot = para.diff(t)\n",
    "        pardotdot = pardot.diff(t)\n",
    "        pardot_1 = dynamicsymbols(parname+'n+1').diff(t)\n",
    "        lag = lag.subs(pardotdot, (pardot_1-pardot)/dt)\n",
    "    return lag.simplify()"
   ]
  },
  {
   "cell_type": "code",
   "execution_count": null,
   "metadata": {},
   "outputs": [],
   "source": [
    "def discretize_dotdot(expr, params):\n",
    "    for param in params:\n",
    "        paradot = param.diff(t)\n",
    "        paradotdot = paradot.diff(t)\n",
    "        parname = param.name\n",
    "        paradot_1 = dynamicsymbols(parname+'n+1').diff(t)\n",
    "        expr = expr.subs(paradotdot, (paradot_1-paradot)/dt)\n",
    "    return expr"
   ]
  },
  {
   "cell_type": "code",
   "execution_count": null,
   "metadata": {},
   "outputs": [],
   "source": [
    "l_expr_1 = lagrange_disc(L, the1, [the2])\n",
    "l_expr_1"
   ]
  },
  {
   "cell_type": "code",
   "execution_count": null,
   "metadata": {},
   "outputs": [],
   "source": [
    "l_expr_1_alt = discretize_dotdot(lagrange(L, the1), [the1, the2])\n",
    "l_expr_1_alt"
   ]
  },
  {
   "cell_type": "code",
   "execution_count": null,
   "metadata": {},
   "outputs": [],
   "source": [
    "resto_2 = (l_expr_1-l_expr_1_alt)\n",
    "resto.simplify()"
   ]
  },
  {
   "cell_type": "code",
   "execution_count": null,
   "metadata": {},
   "outputs": [],
   "source": [
    "l_expr_2 = lagrange_disc(L, the2, [the1])\n",
    "l_expr_2"
   ]
  },
  {
   "cell_type": "markdown",
   "metadata": {},
   "source": [
    "# Step 2: conversion?"
   ]
  },
  {
   "cell_type": "code",
   "execution_count": null,
   "metadata": {},
   "outputs": [],
   "source": [
    "import casadi as cas"
   ]
  },
  {
   "cell_type": "code",
   "execution_count": null,
   "metadata": {},
   "outputs": [],
   "source": [
    "def sympy2casadi(sympy_expr,sympy_var,casadi_var):\n",
    "    #import casadi\n",
    "    assert casadi_var.is_vector()\n",
    "    if casadi_var.shape[1]>1:\n",
    "        casadi_var = casadi_var.T\n",
    "    casadi_var = cas.vertsplit(casadi_var)\n",
    "    from sympy.utilities.lambdify import lambdify\n",
    "\n",
    "    mapping = {'ImmutableDenseMatrix': cas.blockcat,\n",
    "             'MutableDenseMatrix': cas.blockcat,\n",
    "             'Abs':cas.fabs\n",
    "            }\n",
    "    f = lambdify(sympy_var,sympy_expr,modules=[mapping, cas])\n",
    "    print(casadi_var)\n",
    "    return f(*casadi_var)"
   ]
  },
  {
   "cell_type": "code",
   "execution_count": null,
   "metadata": {},
   "outputs": [],
   "source": [
    "l_sy_vars = [m0, m1, l0, l1, t, dt, g, the1, the2, thedot1, thedot2, thedot1_1, thedot2_1]"
   ]
  },
  {
   "cell_type": "code",
   "execution_count": null,
   "metadata": {},
   "outputs": [],
   "source": [
    "x = cas.SX.sym('x', 4)\n",
    "x_n = cas.SX.sym('x_n', 4)\n",
    "u = cas.SX.sym('u', 2)\n",
    "m = cas.SX.sym('m', 2)\n",
    "l = cas.SX.sym('l', 2)\n",
    "T = cas.SX.sym(\"t\")\n",
    "Dt = cas.SX.sym(\"dt\")\n",
    "G = cas.SX.sym(\"g\")"
   ]
  },
  {
   "cell_type": "code",
   "execution_count": null,
   "metadata": {},
   "outputs": [],
   "source": [
    "l_cas_vars = cas.vertcat(m[0],m[1],l[0],l[1],T,Dt,G,x[0],x[1],x[2],x[3],x_n[2], x_n[3])"
   ]
  },
  {
   "cell_type": "code",
   "execution_count": null,
   "metadata": {},
   "outputs": [],
   "source": [
    "L_expr_1 = sympy2casadi(l_expr_1, l_sy_vars, l_cas_vars)\n",
    "L_expr_1"
   ]
  },
  {
   "cell_type": "code",
   "execution_count": null,
   "metadata": {},
   "outputs": [],
   "source": [
    "L_expr_2 = sympy2casadi(l_expr_2, l_sy_vars, l_cas_vars)\n",
    "L_expr_2"
   ]
  },
  {
   "cell_type": "code",
   "execution_count": null,
   "metadata": {},
   "outputs": [],
   "source": [
    "Energy = sympy2casadi(E, l_sy_vars, l_cas_vars)\n",
    "Energy"
   ]
  },
  {
   "cell_type": "code",
   "execution_count": null,
   "metadata": {},
   "outputs": [],
   "source": [
    "step_rest_1 = cas.Function('Step_rest_1', [x, x_n, u, Dt, m, l, G], [L_expr_1-u[0]])"
   ]
  },
  {
   "cell_type": "code",
   "execution_count": null,
   "metadata": {},
   "outputs": [],
   "source": [
    "step_rest_2 = cas.Function('Step_rest_2', [x, x_n, u, Dt, m, l, G], [L_expr_2-u[1]])"
   ]
  },
  {
   "cell_type": "code",
   "execution_count": null,
   "metadata": {},
   "outputs": [],
   "source": [
    "energ = cas.Function('Energy', [x, m, l, G], [Energy])"
   ]
  },
  {
   "cell_type": "code",
   "execution_count": null,
   "metadata": {},
   "outputs": [],
   "source": [
    "euler_step = cas.Function('Euler_step', [x, Dt], [x[0]+Dt*x[2], x[1]+Dt*x[3]])"
   ]
  },
  {
   "cell_type": "code",
   "execution_count": null,
   "metadata": {},
   "outputs": [],
   "source": [
    "matplotlib.rcParams['animation.embed_limit'] = 200"
   ]
  },
  {
   "cell_type": "code",
   "execution_count": null,
   "metadata": {},
   "outputs": [],
   "source": [
    "def create_anim(sol):\n",
    "    fig, ax = plt.subplots()\n",
    "\n",
    "    fig.set_size_inches([8,8])\n",
    "    ax.set_xlim(( -2.5, 2.5))\n",
    "    ax.set_ylim(( -2.5, 2.5))\n",
    "\n",
    "    circle1 = plt.Circle((0, 0), 2, color='b', ls = \":\", fill=False)\n",
    "    circle2 = plt.Circle((0, 0), 1, color='b', ls = \":\", fill=False)\n",
    "    ax.add_artist(circle1)\n",
    "    ax.add_artist(circle2)\n",
    "\n",
    "    line1, = ax.plot([], [], lw=2)\n",
    "    line2, = ax.plot([], [], lw=2)\n",
    "    line3, = ax.plot([], [], 'k', lw=1, ls = ':')\n",
    "    point1, = ax.plot([], [], marker='o', markersize=15, color=\"red\")\n",
    "    point2, = ax.plot([], [], marker='o', markersize=15, color=\"red\")\n",
    "    text = ax.text(0.2, 0, \"\", fontsize = 12)\n",
    "    text_2 = ax.text(0.2, -0.15, \"\", fontsize = 12)\n",
    "    \n",
    "    trayectory = [[0,-2],]\n",
    "    \n",
    "    def init():\n",
    "        line1.set_data([], [])\n",
    "        line2.set_data([], [])\n",
    "        line3.set_data([], [])\n",
    "        point1.set_data([], [])\n",
    "        point2.set_data([], [])\n",
    "        text.set_text('')\n",
    "        return (line1,line2,)\n",
    "    def animate(i):\n",
    "        x1 = [0, np.sin(sol.value(X)[i,0])]\n",
    "        y1 = [0, -np.cos(sol.value(X)[i,0])]\n",
    "        x2 = [x1[1], x1[1]+np.sin(sol.value(X)[i,1])]\n",
    "        y2 = [y1[1], y1[1]-np.cos(sol.value(X)[i,1])]\n",
    "        trayectory.append([x2[1], y2[1]])\n",
    "        line1.set_data(x1, y1)    \n",
    "        point1.set_data(x1[1], y1[1])\n",
    "        line2.set_data(x2, y2)    \n",
    "        point2.set_data(x2[1], y2[1])\n",
    "        tray = np.array(trayectory)\n",
    "        line3.set_data(tray[:,0], tray[:,1])    \n",
    "        text.set_text(\"U = %.6f\" % sol.value(U)[i,0])\n",
    "        text_2.set_text(r\"$\\dot{\\theta}$\" + \" = %.6f\" % sol.value(X)[i,1])\n",
    "        return (line1,line2,)\n",
    "    anim = animation.FuncAnimation(fig, animate, init_func=init,\n",
    "                               frames=N, interval=20, \n",
    "                               blit=True)\n",
    "    return anim"
   ]
  },
  {
   "cell_type": "code",
   "execution_count": null,
   "metadata": {},
   "outputs": [],
   "source": [
    "N = 500"
   ]
  },
  {
   "cell_type": "code",
   "execution_count": null,
   "metadata": {},
   "outputs": [],
   "source": [
    "opti = cas.Opti()\n",
    "opti.solver('ipopt')"
   ]
  },
  {
   "cell_type": "code",
   "execution_count": null,
   "metadata": {},
   "outputs": [],
   "source": [
    "X = opti.variable(N+1,4)\n",
    "U = opti.variable(N,2)\n",
    "T = opti.parameter()\n",
    "u_m = opti.parameter(2)"
   ]
  },
  {
   "cell_type": "code",
   "execution_count": null,
   "metadata": {},
   "outputs": [],
   "source": [
    "M = opti.parameter(2)\n",
    "L = opti.parameter(2)\n",
    "G = opti.parameter()"
   ]
  },
  {
   "cell_type": "code",
   "execution_count": null,
   "metadata": {},
   "outputs": [],
   "source": [
    "#cost = cas.sum1(2+cas.cos(X[:,0])+cas.cos(X[:,1]))*T\n",
    "cost = cas.sum1(2+cas.cos(X[:,1]))*T\n",
    "opti.minimize(cost)"
   ]
  },
  {
   "cell_type": "code",
   "execution_count": null,
   "metadata": {},
   "outputs": [],
   "source": [
    "opti.subject_to(X[0,:].T == [0, 0, 0, 0])\n",
    "opti.subject_to(cas.cos(X[-1,0]) < -0.9999)\n",
    "opti.subject_to(cas.cos(X[-1,1]) < -0.9999)\n",
    "opti.subject_to(opti.bounded(-0.001,X[-1,2],0.001))\n",
    "opti.subject_to(opti.bounded(-0.001,X[-1,3],0.001))"
   ]
  },
  {
   "cell_type": "code",
   "execution_count": null,
   "metadata": {},
   "outputs": [],
   "source": [
    "for ii in range(N):\n",
    "    _step = euler_step(X[ii,:], T/N)\n",
    "    opti.subject_to(X[ii+1,0] == _step[0])\n",
    "    opti.subject_to(X[ii+1,1] == _step[1])\n",
    "    opti.subject_to(step_rest_1(X[ii,:], X[ii+1,:], U[ii,:], T/N, M, L, G) == 0)\n",
    "    opti.subject_to(step_rest_2(X[ii,:], X[ii+1,:], U[ii,:], T/N, M, L, G) == 0)\n",
    "    opti.subject_to(opti.bounded(-u_m[0],U[ii, 0],u_m[0]))\n",
    "    opti.subject_to(opti.bounded(-u_m[1],U[ii, 1],u_m[1]))"
   ]
  },
  {
   "cell_type": "code",
   "execution_count": null,
   "metadata": {},
   "outputs": [],
   "source": [
    "opti.set_initial(X[:,0], np.linspace(0, cas.pi, N+1))\n",
    "opti.set_initial(X[:,2], np.linspace(0, cas.pi, N+1))\n",
    "opti.set_initial(X[:,1], cas.pi/N)\n",
    "opti.set_initial(X[:,3], cas.pi/N)\n",
    "opti.set_value(T, 50)\n",
    "max_par = 0.2\n",
    "opti.set_value(u_m, [max_par, 0])\n",
    "opti.set_value(L, [1,1])\n",
    "opti.set_value(M, [1,1])\n",
    "opti.set_value(G, [1])"
   ]
  },
  {
   "cell_type": "code",
   "execution_count": null,
   "metadata": {},
   "outputs": [],
   "source": [
    "sol = opti.solve()"
   ]
  },
  {
   "cell_type": "code",
   "execution_count": null,
   "metadata": {},
   "outputs": [],
   "source": [
    "xx = sol.value(X)\n",
    "uu = sol.value(U)\n",
    "ene = []\n",
    "for ii in range(N+1):\n",
    "    ene.append(energ(xx[ii,:], [1,1], [1,1], [1]))\n",
    "ene = np.array(ene)\n",
    "pot = uu[:,0] * xx[:-1,2] * 50/N\n",
    "work = [-3]\n",
    "for ii in pot:\n",
    "    work.append(work[-1] + ii)\n",
    "work = np.array(work)    "
   ]
  },
  {
   "cell_type": "code",
   "execution_count": null,
   "metadata": {},
   "outputs": [],
   "source": [
    "plt.figure(figsize=[14,10])\n",
    "plt.plot(xx[:,0], 'b')\n",
    "plt.plot(xx[:,2], 'b:')\n",
    "plt.plot(xx[:,1], 'orange')\n",
    "plt.plot(xx[:,3], 'orange', ls = ':')\n",
    "plt.plot(uu[:,0], 'g:')"
   ]
  },
  {
   "cell_type": "code",
   "execution_count": null,
   "metadata": {},
   "outputs": [],
   "source": [
    "plt.figure(figsize=[14,10])\n",
    "plt.plot(ene, 'r:')\n",
    "plt.plot(uu[:,0], 'g:')\n",
    "plt.plot(uu[:,0] * xx[:-1,2], 'b:')\n",
    "plt.plot(work, 'b-', linewidth = 1)\n",
    "plt.hlines([0,pi, -pi], 0, N, 'k', 'dotted')"
   ]
  },
  {
   "cell_type": "code",
   "execution_count": null,
   "metadata": {
    "scrolled": false
   },
   "outputs": [],
   "source": [
    "anim = create_anim(sol)"
   ]
  },
  {
   "cell_type": "code",
   "execution_count": null,
   "metadata": {},
   "outputs": [],
   "source": [
    "HTML(anim.to_jshtml())"
   ]
  },
  {
   "cell_type": "code",
   "execution_count": null,
   "metadata": {},
   "outputs": [],
   "source": []
  },
  {
   "cell_type": "code",
   "execution_count": null,
   "metadata": {},
   "outputs": [],
   "source": []
  },
  {
   "cell_type": "code",
   "execution_count": null,
   "metadata": {},
   "outputs": [],
   "source": [
    "np.round(xx, 4)"
   ]
  },
  {
   "cell_type": "code",
   "execution_count": null,
   "metadata": {
    "scrolled": true
   },
   "outputs": [],
   "source": [
    "for ii in range(N):\n",
    "    #print(step_rest_2(xx[ii,:], xx[ii+1,:], uu[ii,:], 60/200, [1,1], [1,1], 1))\n",
    "    print(xx[ii+1,::2]-euler_step(xx[ii,:], 60/200))"
   ]
  },
  {
   "cell_type": "code",
   "execution_count": null,
   "metadata": {},
   "outputs": [],
   "source": []
  }
 ],
 "metadata": {
  "kernelspec": {
   "display_name": "Python 3",
   "language": "python",
   "name": "python3"
  },
  "language_info": {
   "codemirror_mode": {
    "name": "ipython",
    "version": 3
   },
   "file_extension": ".py",
   "mimetype": "text/x-python",
   "name": "python",
   "nbconvert_exporter": "python",
   "pygments_lexer": "ipython3",
   "version": "3.7.3"
  }
 },
 "nbformat": 4,
 "nbformat_minor": 2
}
