{
 "cells": [
  {
   "cell_type": "markdown",
   "metadata": {},
   "source": [
    "# Step 1: mechanics with Euler-Lagrange"
   ]
  },
  {
   "cell_type": "code",
   "execution_count": null,
   "metadata": {},
   "outputs": [],
   "source": [
    "import numpy as np\n",
    "import matplotlib.pyplot as plt\n",
    "from mpl_toolkits import mplot3d\n",
    "\n",
    "from numpy import logical_and as npand\n",
    "from numpy import logical_or as npor\n",
    "import matplotlib"
   ]
  },
  {
   "cell_type": "code",
   "execution_count": null,
   "metadata": {},
   "outputs": [],
   "source": [
    "from sympy import (symbols, pi, I, E, cos, sin, exp, tan, simplify, expand, factor, collect,\n",
    "                   apart, cancel, expand_trig, diff, Derivative, Function, integrate, limit,\n",
    "                   series, Eq, solve, dsolve, Matrix, N, preorder_traversal, Float, solve_linear_system,\n",
    "                   eye, zeros, lambdify, Symbol)\n",
    "from sympy.physics.mechanics import dynamicsymbols, init_vprinting"
   ]
  },
  {
   "cell_type": "code",
   "execution_count": null,
   "metadata": {},
   "outputs": [],
   "source": [
    "from matplotlib import animation, rc\n",
    "from IPython.display import HTML"
   ]
  },
  {
   "cell_type": "code",
   "execution_count": null,
   "metadata": {},
   "outputs": [],
   "source": [
    "init_vprinting()"
   ]
  },
  {
   "cell_type": "code",
   "execution_count": null,
   "metadata": {},
   "outputs": [],
   "source": [
    "m0, m1, l0, l1, t, g = symbols('m_0 m_1 l_0 l_1 t g')"
   ]
  },
  {
   "cell_type": "code",
   "execution_count": null,
   "metadata": {},
   "outputs": [],
   "source": [
    "the1, the2 = dynamicsymbols('theta_1 theta_2')\n",
    "the1, the2"
   ]
  },
  {
   "cell_type": "code",
   "execution_count": null,
   "metadata": {},
   "outputs": [],
   "source": [
    "thedot1 = the1.diff(t)\n",
    "thedot2 = the2.diff(t)\n",
    "thedot1, thedot2"
   ]
  },
  {
   "cell_type": "code",
   "execution_count": null,
   "metadata": {},
   "outputs": [],
   "source": [
    "thedotdot1 = thedot1.diff(t)\n",
    "thedotdot2 = thedot2.diff(t)\n",
    "thedotdot1, thedotdot2"
   ]
  },
  {
   "cell_type": "code",
   "execution_count": null,
   "metadata": {},
   "outputs": [],
   "source": [
    "T = m0*l0**2*thedot1**2/2 + m1*(l0**2*thedot1**2 + l1**2*thedot2**2 + 2*l0*l1*thedot1*thedot2*cos(the2-the1))/2\n",
    "T"
   ]
  },
  {
   "cell_type": "code",
   "execution_count": null,
   "metadata": {},
   "outputs": [],
   "source": [
    "U = -m0*g*cos(the1)*l0 - m1*g*(l0*cos(the1)+l1*cos(the2))\n",
    "U"
   ]
  },
  {
   "cell_type": "code",
   "execution_count": null,
   "metadata": {},
   "outputs": [],
   "source": [
    "L = T-U\n",
    "L"
   ]
  },
  {
   "cell_type": "code",
   "execution_count": null,
   "metadata": {},
   "outputs": [],
   "source": [
    "L.expand()"
   ]
  },
  {
   "cell_type": "code",
   "execution_count": null,
   "metadata": {},
   "outputs": [],
   "source": [
    "E = T + U\n",
    "E"
   ]
  },
  {
   "cell_type": "code",
   "execution_count": null,
   "metadata": {},
   "outputs": [],
   "source": [
    "L.diff(thedot1).simplify().diff(t).simplify()"
   ]
  },
  {
   "cell_type": "code",
   "execution_count": null,
   "metadata": {},
   "outputs": [],
   "source": [
    "L.diff(the1)"
   ]
  },
  {
   "cell_type": "code",
   "execution_count": null,
   "metadata": {},
   "outputs": [],
   "source": [
    "def lagrange(L_expr, var):\n",
    "    vardot = var.diff(t)\n",
    "    lag1 = L_expr.diff(vardot).simplify().diff(t).simplify()\n",
    "    lag2 = L_expr.diff(var).simplify()\n",
    "    lag = lag1-lag2\n",
    "    return lag.simplify().expand()"
   ]
  },
  {
   "cell_type": "code",
   "execution_count": null,
   "metadata": {},
   "outputs": [],
   "source": [
    "def get_lagr_eqs(T, U, n_vars):\n",
    "    '''Get a list of lagrange expressions. T and U are Kinetic energy\n",
    "    and Potential energy, as functions of coordinates q, its\n",
    "    derivatives and other parameters'''\n",
    "    L = T-U\n",
    "    res = []\n",
    "    for ii in range(n_vars):\n",
    "        q = dynamicsymbols(f'q_{ii}')\n",
    "        res.append(lagrange(L, q))\n",
    "    return res"
   ]
  },
  {
   "cell_type": "code",
   "execution_count": null,
   "metadata": {},
   "outputs": [],
   "source": [
    "l_expr_1 = lagrange(L, the1)\n",
    "l_expr_1"
   ]
  },
  {
   "cell_type": "code",
   "execution_count": null,
   "metadata": {},
   "outputs": [],
   "source": [
    "l_expr_1.expand()"
   ]
  },
  {
   "cell_type": "code",
   "execution_count": null,
   "metadata": {},
   "outputs": [],
   "source": [
    "wikiexpr = (\n",
    "    (m0+m1)*l0**2*thedotdot1 +\n",
    "    m1*thedotdot2*l0*l1*cos(the1-the2) +\n",
    "    -m1*thedot2*l0*l1*(thedot1-thedot2)*sin(the1-the2) + \n",
    "    m1*thedot1*thedot2*l0*l1*sin(the1-the2) + \n",
    "    (m0+m1)*g*l0*sin(the1))\n",
    "wikiexpr"
   ]
  },
  {
   "cell_type": "code",
   "execution_count": null,
   "metadata": {},
   "outputs": [],
   "source": [
    "resto = wikiexpr-l_expr_1\n",
    "resto.simplify()"
   ]
  },
  {
   "cell_type": "markdown",
   "metadata": {},
   "source": [
    "## Transformando la eq de Lagrange en fórmula para control"
   ]
  },
  {
   "cell_type": "code",
   "execution_count": null,
   "metadata": {},
   "outputs": [],
   "source": [
    "v1, v2, a1, a2 = symbols('v_1 v_2 a_1 a_2')\n",
    "u1, u2 = symbols('u_1 u_2')"
   ]
  },
  {
   "cell_type": "code",
   "execution_count": null,
   "metadata": {},
   "outputs": [],
   "source": [
    "l_expr_1_sims = l_expr_1.expand().subs((\n",
    "    [thedotdot1, a1],\n",
    "    [thedotdot2, a2],\n",
    "    [thedot1, v1],\n",
    "    [thedot2, v2]\n",
    "))\n",
    "l_expr_1_sims"
   ]
  },
  {
   "cell_type": "code",
   "execution_count": null,
   "metadata": {},
   "outputs": [],
   "source": [
    "c1_a1 = l_expr_1_sims.collect(a1).coeff(a1)\n",
    "c1_a1"
   ]
  },
  {
   "cell_type": "code",
   "execution_count": null,
   "metadata": {},
   "outputs": [],
   "source": [
    "c1_a2 = l_expr_1_sims.collect(a2).coeff(a2)\n",
    "c1_a2"
   ]
  },
  {
   "cell_type": "code",
   "execution_count": null,
   "metadata": {},
   "outputs": [],
   "source": [
    "c1 = simplify(l_expr_1_sims- c1_a1 * a1 - c1_a2 * a2)\n",
    "c1"
   ]
  },
  {
   "cell_type": "code",
   "execution_count": null,
   "metadata": {},
   "outputs": [],
   "source": [
    "l_expr_2 = lagrange(L, the2)\n",
    "l_expr_2_sims = l_expr_2.expand().subs((\n",
    "    [thedotdot1, a1],\n",
    "    [thedotdot2, a2],\n",
    "    [thedot1, v1],\n",
    "    [thedot2, v2]\n",
    "))\n",
    "l_expr_2_sims"
   ]
  },
  {
   "cell_type": "code",
   "execution_count": null,
   "metadata": {},
   "outputs": [],
   "source": [
    "c2_a1 = l_expr_2_sims.collect(a1).coeff(a1)\n",
    "c2_a1"
   ]
  },
  {
   "cell_type": "code",
   "execution_count": null,
   "metadata": {},
   "outputs": [],
   "source": [
    "c2_a2 = l_expr_2_sims.collect(a2).coeff(a2)\n",
    "c2_a2"
   ]
  },
  {
   "cell_type": "code",
   "execution_count": null,
   "metadata": {},
   "outputs": [],
   "source": [
    "c2 = simplify(l_expr_2_sims- c2_a1 * a1 - c2_a2 * a2)\n",
    "c2"
   ]
  },
  {
   "cell_type": "code",
   "execution_count": null,
   "metadata": {},
   "outputs": [],
   "source": [
    "mat_acc = Matrix([\n",
    "    [c1_a1, c1_a2],\n",
    "    [c2_a1, c2_a2]\n",
    "])\n",
    "mat_acc"
   ]
  },
  {
   "cell_type": "code",
   "execution_count": null,
   "metadata": {},
   "outputs": [],
   "source": [
    "acc_mat = Matrix([\n",
    "    [a1],\n",
    "    [a2]\n",
    "])\n",
    "c_mat = Matrix([\n",
    "    [c1],\n",
    "    [c2]\n",
    "])\n",
    "u_mat = Matrix([\n",
    "    [u1],\n",
    "    [u2]\n",
    "])\n",
    "acc_mat, c_mat, u_mat"
   ]
  },
  {
   "cell_type": "code",
   "execution_count": null,
   "metadata": {},
   "outputs": [],
   "source": [
    "RHS = simplify(mat_acc.inv() @ (u_mat - c_mat))\n",
    "RHS"
   ]
  },
  {
   "cell_type": "code",
   "execution_count": null,
   "metadata": {},
   "outputs": [],
   "source": [
    "RHS.subs([\n",
    "    [l0, 1],\n",
    "    [l1, 1],\n",
    "    [m0, 1],\n",
    "    [m1, 1],\n",
    "    [g, 1]\n",
    "])"
   ]
  },
  {
   "cell_type": "code",
   "execution_count": null,
   "metadata": {},
   "outputs": [],
   "source": [
    "RHS.shape[0]"
   ]
  },
  {
   "cell_type": "code",
   "execution_count": null,
   "metadata": {},
   "outputs": [],
   "source": [
    "def diff_to_symb(expr, n_var):\n",
    "    '''Transform an expression with derivatives to symbols'''\n",
    "    t = symbols('t')\n",
    "    for jj in range(n_var):\n",
    "        q = dynamicsymbols(f'q_{jj}')\n",
    "        expr = expr.subs((\n",
    "            [q.diff(t,2), symbols(f'a_{jj}')],\n",
    "            [q.diff(t), symbols(f'v_{jj}')]\n",
    "        ))\n",
    "    return expr"
   ]
  },
  {
   "cell_type": "code",
   "execution_count": null,
   "metadata": {},
   "outputs": [],
   "source": [
    "l_expr_1_q = l_expr_1.subs(the1, dynamicsymbols('q_0')).subs(the2, dynamicsymbols('q_1'))\n",
    "l_expr_2_q = l_expr_2.subs(the1, dynamicsymbols('q_0')).subs(the2, dynamicsymbols('q_1'))\n",
    "T_q = T.subs(the1, dynamicsymbols('q_0')).subs(the2, dynamicsymbols('q_1'))\n",
    "U_q = U.subs(the1, dynamicsymbols('q_0')).subs(the2, dynamicsymbols('q_1'))\n",
    "RHS_q = RHS.subs([\n",
    "    [the1, symbols('q_0')],\n",
    "    [the2, symbols('q_1')],\n",
    "    [symbols('u_1'), symbols('u_0')],\n",
    "    [symbols('u_2'), symbols('u_1')],\n",
    "    [symbols('v_1'), symbols('v_0')],\n",
    "    [symbols('v_2'), symbols('v_1')],\n",
    "])\n",
    "    "
   ]
  },
  {
   "cell_type": "code",
   "execution_count": null,
   "metadata": {},
   "outputs": [],
   "source": [
    "get_lagr_eqs(T_q, U_q, 2)"
   ]
  },
  {
   "cell_type": "code",
   "execution_count": null,
   "metadata": {},
   "outputs": [],
   "source": [
    "diff_to_symb(l_expr_1_q,2)"
   ]
  },
  {
   "cell_type": "code",
   "execution_count": null,
   "metadata": {},
   "outputs": [],
   "source": [
    "def lagr_to_RHS(lagr_eqs):\n",
    "    '''Takes lagrangian equations,\n",
    "    Calculates the Right Hand Side functions of\n",
    "    the second order derivatives as used in optimal control'''\n",
    "    n_var = len(lagr_eqs)\n",
    "    coeff_mat = []\n",
    "    acc_mat = []\n",
    "    c_mat = []\n",
    "    u_mat = []\n",
    "    for ii in range(n_var):\n",
    "        expr = diff_to_symb(lagr_eqs[ii], n_var)\n",
    "        coeff_line = []\n",
    "        rest = expr\n",
    "        for jj in range(n_var):\n",
    "            a = symbols(f'a_{jj}')\n",
    "            coeff_line.append(expr.collect(a).coeff(a))\n",
    "            rest = rest - a*expr.collect(a).coeff(a)\n",
    "        coeff_mat.append(coeff_line)\n",
    "        acc_mat.append([symbols(f'a_{ii}'),])\n",
    "        u_mat.append([symbols(f'u_{ii}'),])\n",
    "        c_mat.append([simplify(rest),])\n",
    "    coeff_mat = Matrix(coeff_mat)\n",
    "    acc_mat = Matrix(acc_mat)\n",
    "    c_mat = Matrix(c_mat)\n",
    "    u_mat = Matrix(u_mat)\n",
    "    RHS = simplify(coeff_mat.inv() @ (u_mat - c_mat))\n",
    "    new_RHS = []\n",
    "    for expr in RHS:\n",
    "        for jj in range(n_var):\n",
    "            expr = expr.subs(dynamicsymbols(f'q_{jj}'),symbols(f'q_{jj}'))\n",
    "        new_RHS.append(expr)\n",
    "    return Matrix(new_RHS)"
   ]
  },
  {
   "cell_type": "code",
   "execution_count": null,
   "metadata": {},
   "outputs": [],
   "source": [
    "RHS = lagr_to_RHS(get_lagr_eqs(T_q, U_q, 2))"
   ]
  },
  {
   "cell_type": "code",
   "execution_count": null,
   "metadata": {},
   "outputs": [],
   "source": [
    "RHS"
   ]
  },
  {
   "cell_type": "code",
   "execution_count": null,
   "metadata": {},
   "outputs": [],
   "source": [
    "RHS_q"
   ]
  },
  {
   "cell_type": "code",
   "execution_count": null,
   "metadata": {},
   "outputs": [],
   "source": [
    "simplify(RHS - RHS_q)"
   ]
  },
  {
   "cell_type": "code",
   "execution_count": null,
   "metadata": {
    "scrolled": true
   },
   "outputs": [],
   "source": [
    "varset = RHS.atoms(Symbol)\n",
    "varset"
   ]
  },
  {
   "cell_type": "code",
   "execution_count": null,
   "metadata": {},
   "outputs": [],
   "source": [
    "varset.__str__()[1:-1]"
   ]
  },
  {
   "cell_type": "code",
   "execution_count": null,
   "metadata": {},
   "outputs": [],
   "source": [
    "RHS.__str__()"
   ]
  },
  {
   "cell_type": "code",
   "execution_count": null,
   "metadata": {},
   "outputs": [],
   "source": [
    "_ = np.ones([10,3])\n",
    "_"
   ]
  },
  {
   "cell_type": "code",
   "execution_count": null,
   "metadata": {},
   "outputs": [],
   "source": [
    "_x, _y, _z = unpack(_)"
   ]
  },
  {
   "cell_type": "code",
   "execution_count": null,
   "metadata": {},
   "outputs": [],
   "source": [
    "def print_funcs(RHS, n_var):\n",
    "    RHS = list(RHS)\n",
    "    q_args = []\n",
    "    v_args = []\n",
    "    u_args = []\n",
    "    params = []\n",
    "    args = []\n",
    "    funcs = []\n",
    "    for jj in range(n_var):\n",
    "        q = symbols(f\"q_{jj}\")\n",
    "        q_args.append(q)\n",
    "        v = symbols(f\"v_{jj}\")\n",
    "        v_args.append(v)\n",
    "        u = symbols(f\"u_{jj}\")\n",
    "        u_args.append(u)\n",
    "        args += [q, v, u]\n",
    "    x_args = q_args + v_args\n",
    "    for ii in range(len(RHS)):\n",
    "        expr = RHS[ii]\n",
    "        var_set = expr.atoms(Symbol)\n",
    "        for symb in var_set:\n",
    "            if not symb in args:\n",
    "                params.append(symb)\n",
    "        funcs.append(expr)\n",
    "        \n",
    "    msg = 'def F(x, u, params):\\n'\n",
    "    msg += f'    {x_args.__str__()[1:-1]} = unpack(x)\\n'\n",
    "    msg += f'    {u_args.__str__()[1:-1]} = unpack(u)\\n'\n",
    "    msg += f'    {params.__str__()[1:-1]} = params\\n'\n",
    "    msg += f'    result = [{v_args.__str__()[1:-1]},]\\n'\n",
    "    for expr in funcs:\n",
    "        msg += '    result.append('+ expr.__str__() + ')\\n'\n",
    "    msg += '\\n    return result\\n'\n",
    "        \n",
    "    print(msg)\n",
    "    return msg"
   ]
  },
  {
   "cell_type": "code",
   "execution_count": null,
   "metadata": {},
   "outputs": [],
   "source": [
    "print_funcs(RHS, 2)"
   ]
  },
  {
   "cell_type": "code",
   "execution_count": null,
   "metadata": {},
   "outputs": [],
   "source": [
    "def f_0(x, u, params):\n",
    "    q_0, q_1, v_0, v_1 = x\n",
    "    u_0, u_1 = u\n",
    "    m_1, l_1, l_0, m_0, g = params\n",
    "    result = (l_0*(l_1*m_1*(g*sin(q_1) - l_0*v_0**2*sin(q_0 - q_1)) - u_1)*cos(q_0 - q_1) + l_1*(-l_0*(g*m_0*sin(q_0) + g*m_1*sin(q_0) + l_1*m_1*v_1**2*sin(q_0 - q_1)) + u_0))/(l_0**2*l_1*(m_0 - m_1*cos(q_0 - q_1)**2 + m_1))\n",
    "    return result\n",
    "\n",
    "def f_1(x, u, params):\n",
    "    q_0, q_1, v_0, v_1 = x\n",
    "    u_0, u_1 = u\n",
    "    m_1, l_1, l_0, m_0, g = params\n",
    "    result = (-l_0*(m_0 + m_1)*(l_1*m_1*(g*sin(q_1) - l_0*v_0**2*sin(q_0 - q_1)) - u_1) + l_1*m_1*(l_0*(g*m_0*sin(q_0) + g*m_1*sin(q_0) + l_1*m_1*v_1**2*sin(q_0 - q_1)) - u_0)*cos(q_0 - q_1))/(l_0*l_1**2*m_1*(m_0 - m_1*cos(q_0 - q_1)**2 + m_1))\n",
    "    return result\n",
    "\n"
   ]
  },
  {
   "cell_type": "markdown",
   "metadata": {},
   "source": [
    "## Euler discretization:\n",
    "\n",
    "$$x_{n+1} = x_n + dt x'$$\n",
    "$$x' = \\frac{x_{n+1}-x_n}{dt}$$"
   ]
  },
  {
   "cell_type": "code",
   "execution_count": null,
   "metadata": {},
   "outputs": [],
   "source": [
    "thedot1_1 = dynamicsymbols('theta_1n+1').diff(t)\n",
    "thedot2_1 = dynamicsymbols('theta_2n+1').diff(t)\n",
    "thedot1_1, thedot2_1"
   ]
  },
  {
   "cell_type": "code",
   "execution_count": null,
   "metadata": {},
   "outputs": [],
   "source": [
    "dt = symbols('dt')"
   ]
  },
  {
   "cell_type": "code",
   "execution_count": null,
   "metadata": {},
   "outputs": [],
   "source": [
    "def lagrange_disc(expr, var, params):\n",
    "    vardot = var.diff(t)\n",
    "    vardotdot = vardot.diff(t)\n",
    "    name = var.name\n",
    "    lag1 = expr.diff(vardot).simplify().diff(t).simplify()\n",
    "    lag2 = expr.diff(var).simplify()\n",
    "    lag = (lag1-lag2).simplify()\n",
    "    vardot_1 = dynamicsymbols(name+'n+1').diff(t)\n",
    "    dt = symbols('dt')\n",
    "    lag = lag.subs(vardotdot, (vardot_1-vardot)/dt)\n",
    "    for para in params:\n",
    "        parname = para.name\n",
    "        pardot = para.diff(t)\n",
    "        pardotdot = pardot.diff(t)\n",
    "        pardot_1 = dynamicsymbols(parname+'n+1').diff(t)\n",
    "        lag = lag.subs(pardotdot, (pardot_1-pardot)/dt)\n",
    "    return lag.simplify()"
   ]
  },
  {
   "cell_type": "code",
   "execution_count": null,
   "metadata": {},
   "outputs": [],
   "source": [
    "def discretize_dotdot(expr, params):\n",
    "    for param in params:\n",
    "        paradot = param.diff(t)\n",
    "        paradotdot = paradot.diff(t)\n",
    "        parname = param.name\n",
    "        paradot_1 = dynamicsymbols(parname+'n+1').diff(t)\n",
    "        expr = expr.subs(paradotdot, (paradot_1-paradot)/dt)\n",
    "    return expr"
   ]
  },
  {
   "cell_type": "code",
   "execution_count": null,
   "metadata": {},
   "outputs": [],
   "source": [
    "l_expr_1 = lagrange_disc(L, the1, [the2])\n",
    "l_expr_1"
   ]
  },
  {
   "cell_type": "code",
   "execution_count": null,
   "metadata": {},
   "outputs": [],
   "source": [
    "l_expr_1_alt = discretize_dotdot(lagrange(L, the1), [the1, the2])\n",
    "l_expr_1_alt"
   ]
  },
  {
   "cell_type": "code",
   "execution_count": null,
   "metadata": {},
   "outputs": [],
   "source": [
    "resto_2 = (l_expr_1-l_expr_1_alt)\n",
    "resto.simplify()"
   ]
  },
  {
   "cell_type": "code",
   "execution_count": null,
   "metadata": {},
   "outputs": [],
   "source": [
    "l_expr_2 = lagrange_disc(L, the2, [the1])\n",
    "l_expr_2"
   ]
  },
  {
   "cell_type": "markdown",
   "metadata": {},
   "source": [
    "# Step 2: conversion?"
   ]
  },
  {
   "cell_type": "code",
   "execution_count": null,
   "metadata": {},
   "outputs": [],
   "source": [
    "import casadi as cas"
   ]
  },
  {
   "cell_type": "code",
   "execution_count": null,
   "metadata": {},
   "outputs": [],
   "source": [
    "def sympy2casadi(sympy_expr,sympy_var,casadi_var):\n",
    "    #import casadi\n",
    "    assert casadi_var.is_vector()\n",
    "    if casadi_var.shape[1]>1:\n",
    "        casadi_var = casadi_var.T\n",
    "    casadi_var = cas.vertsplit(casadi_var)\n",
    "    from sympy.utilities.lambdify import lambdify\n",
    "\n",
    "    mapping = {'ImmutableDenseMatrix': cas.blockcat,\n",
    "             'MutableDenseMatrix': cas.blockcat,\n",
    "             'Abs':cas.fabs\n",
    "            }\n",
    "    f = lambdify(sympy_var,sympy_expr,modules=[mapping, cas])\n",
    "    print(casadi_var)\n",
    "    return f(*casadi_var)"
   ]
  },
  {
   "cell_type": "code",
   "execution_count": null,
   "metadata": {},
   "outputs": [],
   "source": [
    "l_sy_vars = [m0, m1, l0, l1, t, dt, g, the1, the2, thedot1, thedot2, thedot1_1, thedot2_1]"
   ]
  },
  {
   "cell_type": "code",
   "execution_count": null,
   "metadata": {},
   "outputs": [],
   "source": [
    "x = cas.SX.sym('x', 4)\n",
    "x_n = cas.SX.sym('x_n', 4)\n",
    "u = cas.SX.sym('u', 2)\n",
    "m = cas.SX.sym('m', 2)\n",
    "l = cas.SX.sym('l', 2)\n",
    "T = cas.SX.sym(\"t\")\n",
    "Dt = cas.SX.sym(\"dt\")\n",
    "G = cas.SX.sym(\"g\")"
   ]
  },
  {
   "cell_type": "code",
   "execution_count": null,
   "metadata": {},
   "outputs": [],
   "source": [
    "l_cas_vars = cas.vertcat(m[0],m[1],l[0],l[1],T,Dt,G,x[0],x[1],x[2],x[3],x_n[2], x_n[3])"
   ]
  },
  {
   "cell_type": "code",
   "execution_count": null,
   "metadata": {},
   "outputs": [],
   "source": [
    "L_expr_1 = sympy2casadi(l_expr_1, l_sy_vars, l_cas_vars)\n",
    "L_expr_1"
   ]
  },
  {
   "cell_type": "code",
   "execution_count": null,
   "metadata": {},
   "outputs": [],
   "source": [
    "L_expr_2 = sympy2casadi(l_expr_2, l_sy_vars, l_cas_vars)\n",
    "L_expr_2"
   ]
  },
  {
   "cell_type": "code",
   "execution_count": null,
   "metadata": {},
   "outputs": [],
   "source": [
    "Energy = sympy2casadi(E, l_sy_vars, l_cas_vars)\n",
    "Energy"
   ]
  },
  {
   "cell_type": "code",
   "execution_count": null,
   "metadata": {},
   "outputs": [],
   "source": [
    "step_rest_1 = cas.Function('Step_rest_1', [x, x_n, u, Dt, m, l, G], [L_expr_1-u[0]])"
   ]
  },
  {
   "cell_type": "code",
   "execution_count": null,
   "metadata": {},
   "outputs": [],
   "source": [
    "step_rest_2 = cas.Function('Step_rest_2', [x, x_n, u, Dt, m, l, G], [L_expr_2-u[1]])"
   ]
  },
  {
   "cell_type": "code",
   "execution_count": null,
   "metadata": {},
   "outputs": [],
   "source": [
    "energ = cas.Function('Energy', [x, m, l, G], [Energy])"
   ]
  },
  {
   "cell_type": "code",
   "execution_count": null,
   "metadata": {},
   "outputs": [],
   "source": [
    "euler_step = cas.Function('Euler_step', [x, Dt], [x[0]+Dt*x[2], x[1]+Dt*x[3]])"
   ]
  },
  {
   "cell_type": "code",
   "execution_count": null,
   "metadata": {},
   "outputs": [],
   "source": [
    "matplotlib.rcParams['animation.embed_limit'] = 200"
   ]
  },
  {
   "cell_type": "code",
   "execution_count": null,
   "metadata": {},
   "outputs": [],
   "source": [
    "def create_anim(sol):\n",
    "    fig, ax = plt.subplots()\n",
    "\n",
    "    fig.set_size_inches([8,8])\n",
    "    ax.set_xlim(( -2.5, 2.5))\n",
    "    ax.set_ylim(( -2.5, 2.5))\n",
    "\n",
    "    circle1 = plt.Circle((0, 0), 2, color='b', ls = \":\", fill=False)\n",
    "    circle2 = plt.Circle((0, 0), 1, color='b', ls = \":\", fill=False)\n",
    "    ax.add_artist(circle1)\n",
    "    ax.add_artist(circle2)\n",
    "\n",
    "    line1, = ax.plot([], [], lw=2)\n",
    "    line2, = ax.plot([], [], lw=2)\n",
    "    line3, = ax.plot([], [], 'k', lw=1, ls = ':')\n",
    "    point1, = ax.plot([], [], marker='o', markersize=15, color=\"red\")\n",
    "    point2, = ax.plot([], [], marker='o', markersize=15, color=\"red\")\n",
    "    text = ax.text(0.2, 0, \"\", fontsize = 12)\n",
    "    text_2 = ax.text(0.2, -0.15, \"\", fontsize = 12)\n",
    "    \n",
    "    trayectory = [[0,-2],]\n",
    "    \n",
    "    def init():\n",
    "        line1.set_data([], [])\n",
    "        line2.set_data([], [])\n",
    "        line3.set_data([], [])\n",
    "        point1.set_data([], [])\n",
    "        point2.set_data([], [])\n",
    "        text.set_text('')\n",
    "        return (line1,line2,)\n",
    "    def animate(i):\n",
    "        x1 = [0, np.sin(sol.value(X)[i,0])]\n",
    "        y1 = [0, -np.cos(sol.value(X)[i,0])]\n",
    "        x2 = [x1[1], x1[1]+np.sin(sol.value(X)[i,1])]\n",
    "        y2 = [y1[1], y1[1]-np.cos(sol.value(X)[i,1])]\n",
    "        trayectory.append([x2[1], y2[1]])\n",
    "        line1.set_data(x1, y1)    \n",
    "        point1.set_data(x1[1], y1[1])\n",
    "        line2.set_data(x2, y2)    \n",
    "        point2.set_data(x2[1], y2[1])\n",
    "        tray = np.array(trayectory)\n",
    "        line3.set_data(tray[:,0], tray[:,1])    \n",
    "        text.set_text(\"U = %.6f\" % sol.value(U)[i,0])\n",
    "        text_2.set_text(r\"$\\dot{\\theta}$\" + \" = %.6f\" % sol.value(X)[i,1])\n",
    "        return (line1,line2,)\n",
    "    anim = animation.FuncAnimation(fig, animate, init_func=init,\n",
    "                               frames=N, interval=20, \n",
    "                               blit=True)\n",
    "    return anim"
   ]
  },
  {
   "cell_type": "code",
   "execution_count": null,
   "metadata": {},
   "outputs": [],
   "source": [
    "N = 500"
   ]
  },
  {
   "cell_type": "code",
   "execution_count": null,
   "metadata": {},
   "outputs": [],
   "source": [
    "opti = cas.Opti()\n",
    "opti.solver('ipopt')"
   ]
  },
  {
   "cell_type": "code",
   "execution_count": null,
   "metadata": {},
   "outputs": [],
   "source": [
    "X = opti.variable(N+1,4)\n",
    "U = opti.variable(N,2)\n",
    "T = opti.parameter()\n",
    "u_m = opti.parameter(2)"
   ]
  },
  {
   "cell_type": "code",
   "execution_count": null,
   "metadata": {},
   "outputs": [],
   "source": [
    "M = opti.parameter(2)\n",
    "L = opti.parameter(2)\n",
    "G = opti.parameter()"
   ]
  },
  {
   "cell_type": "code",
   "execution_count": null,
   "metadata": {},
   "outputs": [],
   "source": [
    "#cost = cas.sum1(2+cas.cos(X[:,0])+cas.cos(X[:,1]))*T\n",
    "cost = cas.sum1(2+cas.cos(X[:,1]))*T\n",
    "opti.minimize(cost)"
   ]
  },
  {
   "cell_type": "code",
   "execution_count": null,
   "metadata": {},
   "outputs": [],
   "source": [
    "opti.subject_to(X[0,:].T == [0, 0, 0, 0])\n",
    "opti.subject_to(cas.cos(X[-1,0]) < -0.9999)\n",
    "opti.subject_to(cas.cos(X[-1,1]) < -0.9999)\n",
    "opti.subject_to(opti.bounded(-0.001,X[-1,2],0.001))\n",
    "opti.subject_to(opti.bounded(-0.001,X[-1,3],0.001))"
   ]
  },
  {
   "cell_type": "code",
   "execution_count": null,
   "metadata": {},
   "outputs": [],
   "source": [
    "for ii in range(N):\n",
    "    _step = euler_step(X[ii,:], T/N)\n",
    "    opti.subject_to(X[ii+1,0] == _step[0])\n",
    "    opti.subject_to(X[ii+1,1] == _step[1])\n",
    "    opti.subject_to(step_rest_1(X[ii,:], X[ii+1,:], U[ii,:], T/N, M, L, G) == 0)\n",
    "    opti.subject_to(step_rest_2(X[ii,:], X[ii+1,:], U[ii,:], T/N, M, L, G) == 0)\n",
    "    opti.subject_to(opti.bounded(-u_m[0],U[ii, 0],u_m[0]))\n",
    "    opti.subject_to(opti.bounded(-u_m[1],U[ii, 1],u_m[1]))"
   ]
  },
  {
   "cell_type": "code",
   "execution_count": null,
   "metadata": {},
   "outputs": [],
   "source": [
    "opti.set_initial(X[:,0], np.linspace(0, cas.pi, N+1))\n",
    "opti.set_initial(X[:,2], np.linspace(0, cas.pi, N+1))\n",
    "opti.set_initial(X[:,1], cas.pi/N)\n",
    "opti.set_initial(X[:,3], cas.pi/N)\n",
    "opti.set_value(T, 50)\n",
    "max_par = 0.2\n",
    "opti.set_value(u_m, [max_par, 0])\n",
    "opti.set_value(L, [1,1])\n",
    "opti.set_value(M, [1,1])\n",
    "opti.set_value(G, [1])"
   ]
  },
  {
   "cell_type": "code",
   "execution_count": null,
   "metadata": {},
   "outputs": [],
   "source": [
    "sol = opti.solve()"
   ]
  },
  {
   "cell_type": "code",
   "execution_count": null,
   "metadata": {},
   "outputs": [],
   "source": [
    "xx = sol.value(X)\n",
    "uu = sol.value(U)\n",
    "ene = []\n",
    "for ii in range(N+1):\n",
    "    ene.append(energ(xx[ii,:], [1,1], [1,1], [1]))\n",
    "ene = np.array(ene)\n",
    "pot = uu[:,0] * xx[:-1,2] * 50/N\n",
    "work = [-3]\n",
    "for ii in pot:\n",
    "    work.append(work[-1] + ii)\n",
    "work = np.array(work)    "
   ]
  },
  {
   "cell_type": "code",
   "execution_count": null,
   "metadata": {},
   "outputs": [],
   "source": [
    "plt.figure(figsize=[14,10])\n",
    "plt.plot(xx[:,0], 'b')\n",
    "plt.plot(xx[:,2], 'b:')\n",
    "plt.plot(xx[:,1], 'orange')\n",
    "plt.plot(xx[:,3], 'orange', ls = ':')\n",
    "plt.plot(uu[:,0], 'g:')"
   ]
  },
  {
   "cell_type": "code",
   "execution_count": null,
   "metadata": {},
   "outputs": [],
   "source": [
    "plt.figure(figsize=[14,10])\n",
    "plt.plot(ene.flatten(), 'r:')\n",
    "plt.plot(uu[:,0], 'g:')\n",
    "plt.plot(uu[:,0] * xx[:-1,2], 'b:')\n",
    "plt.plot(work, 'b-', linewidth = 1)\n",
    "plt.hlines([0,np.pi, -np.pi], 0, N, 'k', 'dotted')"
   ]
  },
  {
   "cell_type": "code",
   "execution_count": null,
   "metadata": {
    "scrolled": false
   },
   "outputs": [],
   "source": [
    "anim = create_anim(sol)"
   ]
  },
  {
   "cell_type": "code",
   "execution_count": null,
   "metadata": {},
   "outputs": [],
   "source": [
    "HTML(anim.to_jshtml())"
   ]
  },
  {
   "cell_type": "code",
   "execution_count": null,
   "metadata": {},
   "outputs": [],
   "source": []
  },
  {
   "cell_type": "code",
   "execution_count": null,
   "metadata": {},
   "outputs": [],
   "source": []
  },
  {
   "cell_type": "code",
   "execution_count": null,
   "metadata": {},
   "outputs": [],
   "source": []
  }
 ],
 "metadata": {
  "kernelspec": {
   "display_name": "Python 3",
   "language": "python",
   "name": "python3"
  },
  "language_info": {
   "codemirror_mode": {
    "name": "ipython",
    "version": 3
   },
   "file_extension": ".py",
   "mimetype": "text/x-python",
   "name": "python",
   "nbconvert_exporter": "python",
   "pygments_lexer": "ipython3",
   "version": "3.9.5"
  }
 },
 "nbformat": 4,
 "nbformat_minor": 2
}
