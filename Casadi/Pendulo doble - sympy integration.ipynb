{
 "cells": [
  {
   "cell_type": "markdown",
   "metadata": {},
   "source": [
    "# Step 1: mechanics with Euler-Lagrange"
   ]
  },
  {
   "cell_type": "code",
   "execution_count": 1,
   "metadata": {},
   "outputs": [],
   "source": [
    "import numpy as np\n",
    "import matplotlib.pyplot as plt\n",
    "from mpl_toolkits import mplot3d\n",
    "\n",
    "from numpy import logical_and as npand\n",
    "from numpy import logical_or as npor"
   ]
  },
  {
   "cell_type": "code",
   "execution_count": 2,
   "metadata": {},
   "outputs": [],
   "source": [
    "from sympy import (symbols, pi, I, E, cos, sin, exp, tan, simplify, expand, factor, collect,\n",
    "                   apart, cancel, expand_trig, diff, Derivative, Function, integrate, limit,\n",
    "                   series, Eq, solve, dsolve, Matrix, N, preorder_traversal, Float, solve_linear_system,\n",
    "                   eye, zeros, lambdify)\n",
    "from sympy.physics.mechanics import dynamicsymbols, init_vprinting"
   ]
  },
  {
   "cell_type": "code",
   "execution_count": 3,
   "metadata": {},
   "outputs": [],
   "source": [
    "init_vprinting()"
   ]
  },
  {
   "cell_type": "code",
   "execution_count": 4,
   "metadata": {},
   "outputs": [],
   "source": [
    "m0, m1, l0, l1, t, g = symbols('m_0 m_1 l_0 l_1 t g')"
   ]
  },
  {
   "cell_type": "code",
   "execution_count": 5,
   "metadata": {},
   "outputs": [
    {
     "data": {
      "image/png": "[encoded data removed]",
      "text/latex": [
       "$\\displaystyle \\left( \\theta_{1}, \\  \\theta_{2}\\right)$"
      ],
      "text/plain": [
       "(θ₁, θ₂)"
      ]
     },
     "execution_count": 5,
     "metadata": {},
     "output_type": "execute_result"
    }
   ],
   "source": [
    "the1, the2 = dynamicsymbols('theta_1 theta_2')\n",
    "the1, the2"
   ]
  },
  {
   "cell_type": "code",
   "execution_count": 6,
   "metadata": {},
   "outputs": [
    {
     "data": {
      "image/png": "[encoded data removed]",
      "text/latex": [
       "$\\displaystyle \\left( \\dot{\\theta}_{1}, \\  \\dot{\\theta}_{2}\\right)$"
      ],
      "text/plain": [
       "(θ₁̇, θ₂̇)"
      ]
     },
     "execution_count": 6,
     "metadata": {},
     "output_type": "execute_result"
    }
   ],
   "source": [
    "thedot1 = the1.diff(t)\n",
    "thedot2 = the2.diff(t)\n",
    "thedot1, thedot2"
   ]
  },
  {
   "cell_type": "code",
   "execution_count": 7,
   "metadata": {},
   "outputs": [
    {
     "data": {
      "image/png": "[encoded data removed]",
      "text/latex": [
       "$\\displaystyle \\left( \\ddot{\\theta}_{1}, \\  \\ddot{\\theta}_{2}\\right)$"
      ],
      "text/plain": [
       "(θ₁̈, θ₂̈)"
      ]
     },
     "execution_count": 7,
     "metadata": {},
     "output_type": "execute_result"
    }
   ],
   "source": [
    "thedotdot1 = thedot1.diff(t)\n",
    "thedotdot2 = thedot2.diff(t)\n",
    "thedotdot1, thedotdot2"
   ]
  },
  {
   "cell_type": "code",
   "execution_count": 8,
   "metadata": {},
   "outputs": [
    {
     "data": {
      "image/png": "[encoded data removed]",
      "text/latex": [
       "$\\displaystyle \\frac{l_{0}^{2} m_{0} \\dot{\\theta}_{1}^{2}}{2} + \\frac{m_{1} \\left(l_{0}^{2} \\dot{\\theta}_{1}^{2} + 2 l_{0} l_{1} \\operatorname{cos}\\left(\\theta_{1} - \\theta_{2}\\right) \\dot{\\theta}_{1} \\dot{\\theta}_{2} + l_{1}^{2} \\dot{\\theta}_{2}^{2}\\right)}{2}$"
      ],
      "text/plain": [
       "  2       2      ⎛  2    2                                    2    2⎞\n",
       "l₀ ⋅m₀⋅θ₁̇    m₁⋅⎝l₀ ⋅θ₁̇  + 2⋅l₀⋅l₁⋅cos(θ₁ - θ₂)⋅θ₁̇⋅θ₂̇ + l₁ ⋅θ₂̇ ⎠\n",
       "─────────── + ───────────────────────────────────────────────────────\n",
       "     2                                   2                           "
      ]
     },
     "execution_count": 8,
     "metadata": {},
     "output_type": "execute_result"
    }
   ],
   "source": [
    "T = m0*l0**2*thedot1**2/2 + m1*(l0**2*thedot1**2 + l1**2*thedot2**2 + 2*l0*l1*thedot1*thedot2*cos(the2-the1))/2\n",
    "T"
   ]
  },
  {
   "cell_type": "code",
   "execution_count": 9,
   "metadata": {},
   "outputs": [
    {
     "data": {
      "image/png": "[encoded data removed]",
      "text/latex": [
       "$\\displaystyle - g l_{0} m_{0} \\operatorname{cos}\\left(\\theta_{1}\\right) - g m_{1} \\left(l_{0} \\operatorname{cos}\\left(\\theta_{1}\\right) + l_{1} \\operatorname{cos}\\left(\\theta_{2}\\right)\\right)$"
      ],
      "text/plain": [
       "-g⋅l₀⋅m₀⋅cos(θ₁) - g⋅m₁⋅(l₀⋅cos(θ₁) + l₁⋅cos(θ₂))"
      ]
     },
     "execution_count": 9,
     "metadata": {},
     "output_type": "execute_result"
    }
   ],
   "source": [
    "U = -m0*g*cos(the1)*l0 - m1*g*(l0*cos(the1)+l1*cos(the2))\n",
    "U"
   ]
  },
  {
   "cell_type": "code",
   "execution_count": 10,
   "metadata": {},
   "outputs": [
    {
     "data": {
      "image/png": "[encoded data removed]",
      "text/latex": [
       "$\\displaystyle g l_{0} m_{0} \\operatorname{cos}\\left(\\theta_{1}\\right) + g m_{1} \\left(l_{0} \\operatorname{cos}\\left(\\theta_{1}\\right) + l_{1} \\operatorname{cos}\\left(\\theta_{2}\\right)\\right) + \\frac{l_{0}^{2} m_{0} \\dot{\\theta}_{1}^{2}}{2} + \\frac{m_{1} \\left(l_{0}^{2} \\dot{\\theta}_{1}^{2} + 2 l_{0} l_{1} \\operatorname{cos}\\left(\\theta_{1} - \\theta_{2}\\right) \\dot{\\theta}_{1} \\dot{\\theta}_{2} + l_{1}^{2} \\dot{\\theta}_{2}^{2}\\right)}{2}$"
      ],
      "text/plain": [
       "                                                     2       2      ⎛  2    2 \n",
       "                                                   l₀ ⋅m₀⋅θ₁̇    m₁⋅⎝l₀ ⋅θ₁̇  \n",
       "g⋅l₀⋅m₀⋅cos(θ₁) + g⋅m₁⋅(l₀⋅cos(θ₁) + l₁⋅cos(θ₂)) + ─────────── + ─────────────\n",
       "                                                        2                     \n",
       "\n",
       "                                   2    2⎞\n",
       "+ 2⋅l₀⋅l₁⋅cos(θ₁ - θ₂)⋅θ₁̇⋅θ₂̇ + l₁ ⋅θ₂̇ ⎠\n",
       "──────────────────────────────────────────\n",
       "              2                           "
      ]
     },
     "execution_count": 10,
     "metadata": {},
     "output_type": "execute_result"
    }
   ],
   "source": [
    "L = T-U\n",
    "L"
   ]
  },
  {
   "cell_type": "code",
   "execution_count": 11,
   "metadata": {},
   "outputs": [
    {
     "data": {
      "image/png": "[encoded data removed]",
      "text/latex": [
       "$\\displaystyle l_{0} \\left(l_{0} m_{0} \\ddot{\\theta}_{1} + m_{1} \\left(l_{0} \\ddot{\\theta}_{1} - l_{1} \\left(\\dot{\\theta}_{1} - \\dot{\\theta}_{2}\\right) \\operatorname{sin}\\left(\\theta_{1} - \\theta_{2}\\right) \\dot{\\theta}_{2} + l_{1} \\operatorname{cos}\\left(\\theta_{1} - \\theta_{2}\\right) \\ddot{\\theta}_{2}\\right)\\right)$"
      ],
      "text/plain": [
       "l₀⋅(l₀⋅m₀⋅θ₁̈ + m₁⋅(l₀⋅θ₁̈ - l₁⋅(θ₁̇ - θ₂̇)⋅sin(θ₁ - θ₂)⋅θ₂̇ + l₁⋅cos(θ₁ - θ₂)\n",
       "⋅θ₂̈))"
      ]
     },
     "execution_count": 11,
     "metadata": {},
     "output_type": "execute_result"
    }
   ],
   "source": [
    "L.diff(thedot1).simplify().diff(t).simplify()"
   ]
  },
  {
   "cell_type": "code",
   "execution_count": 12,
   "metadata": {},
   "outputs": [
    {
     "data": {
      "image/png": "[encoded data removed]",
      "text/latex": [
       "$\\displaystyle - g l_{0} m_{0} \\operatorname{sin}\\left(\\theta_{1}\\right) - g l_{0} m_{1} \\operatorname{sin}\\left(\\theta_{1}\\right) - l_{0} l_{1} m_{1} \\operatorname{sin}\\left(\\theta_{1} - \\theta_{2}\\right) \\dot{\\theta}_{1} \\dot{\\theta}_{2}$"
      ],
      "text/plain": [
       "-g⋅l₀⋅m₀⋅sin(θ₁) - g⋅l₀⋅m₁⋅sin(θ₁) - l₀⋅l₁⋅m₁⋅sin(θ₁ - θ₂)⋅θ₁̇⋅θ₂̇"
      ]
     },
     "execution_count": 12,
     "metadata": {},
     "output_type": "execute_result"
    }
   ],
   "source": [
    "L.diff(the1)"
   ]
  },
  {
   "cell_type": "code",
   "execution_count": 13,
   "metadata": {},
   "outputs": [],
   "source": [
    "def lagrange(expr, var):\n",
    "    vardot = var.diff(t)\n",
    "    lag1 = expr.diff(vardot).simplify().diff(t).simplify()\n",
    "    lag2 = expr.diff(var).simplify()\n",
    "    lag = lag1-lag2\n",
    "    return lag.simplify()"
   ]
  },
  {
   "cell_type": "code",
   "execution_count": 14,
   "metadata": {},
   "outputs": [
    {
     "data": {
      "image/png": "[encoded data removed]",
      "text/latex": [
       "$\\displaystyle l_{0} \\left(g m_{0} \\operatorname{sin}\\left(\\theta_{1}\\right) + g m_{1} \\operatorname{sin}\\left(\\theta_{1}\\right) + l_{0} m_{0} \\ddot{\\theta}_{1} + l_{0} m_{1} \\ddot{\\theta}_{1} + l_{1} m_{1} \\operatorname{sin}\\left(\\theta_{1} - \\theta_{2}\\right) \\dot{\\theta}_{2}^{2} + l_{1} m_{1} \\operatorname{cos}\\left(\\theta_{1} - \\theta_{2}\\right) \\ddot{\\theta}_{2}\\right)$"
      ],
      "text/plain": [
       "   ⎛                                                                          \n",
       "l₀⋅⎝g⋅m₀⋅sin(θ₁) + g⋅m₁⋅sin(θ₁) + l₀⋅m₀⋅θ₁̈ + l₀⋅m₁⋅θ₁̈ + l₁⋅m₁⋅sin(θ₁ - θ₂)⋅θ\n",
       "\n",
       "  2                         ⎞\n",
       "₂̇  + l₁⋅m₁⋅cos(θ₁ - θ₂)⋅θ₂̈⎠"
      ]
     },
     "execution_count": 14,
     "metadata": {},
     "output_type": "execute_result"
    }
   ],
   "source": [
    "l_expr_1 = lagrange(L, the1)\n",
    "l_expr_1"
   ]
  },
  {
   "cell_type": "markdown",
   "metadata": {},
   "source": [
    "## discretization:\n",
    "\n",
    "$$x_{n+1} = x_n + dt x'$$\n",
    "$$x' = \\frac{x_{n+1}-x_n}{dt}$$"
   ]
  },
  {
   "cell_type": "code",
   "execution_count": 15,
   "metadata": {},
   "outputs": [
    {
     "data": {
      "image/png": "[encoded data removed]",
      "text/latex": [
       "$\\displaystyle \\left( \\dot{\\theta}_{1n+1}, \\  \\dot{\\theta}_{2n+1}\\right)$"
      ],
      "text/plain": [
       "(θ₁ₙ̇₊₁, θ₂ₙ̇₊₁)"
      ]
     },
     "execution_count": 15,
     "metadata": {},
     "output_type": "execute_result"
    }
   ],
   "source": [
    "thedot1_1 = dynamicsymbols('theta_1n+1').diff(t)\n",
    "thedot2_1 = dynamicsymbols('theta_2n+1').diff(t)\n",
    "thedot1_1, thedot2_1"
   ]
  },
  {
   "cell_type": "code",
   "execution_count": 26,
   "metadata": {},
   "outputs": [],
   "source": [
    "dt = symbols('dt')"
   ]
  },
  {
   "cell_type": "code",
   "execution_count": 16,
   "metadata": {},
   "outputs": [],
   "source": [
    "def lagrange_disc(expr, var, params):\n",
    "    vardot = var.diff(t)\n",
    "    vardotdot = vardot.diff(t)\n",
    "    name = var.name\n",
    "    lag1 = expr.diff(vardot).simplify().diff(t).simplify()\n",
    "    lag2 = expr.diff(var).simplify()\n",
    "    lag = (lag1-lag2).simplify()\n",
    "    vardot_1 = dynamicsymbols(name+'n+1').diff(t)\n",
    "    dt = symbols('dt')\n",
    "    lag = lag.subs(vardotdot, (vardot_1-vardot)/dt)\n",
    "    for para in params:\n",
    "        parname = para.name\n",
    "        pardot = para.diff(t)\n",
    "        pardotdot = pardot.diff(t)\n",
    "        pardot_1 = dynamicsymbols(parname+'n+1').diff(t)\n",
    "        lag = lag.subs(pardotdot, (pardot_1-pardot)/dt)\n",
    "    return lag.simplify()"
   ]
  },
  {
   "cell_type": "code",
   "execution_count": 45,
   "metadata": {},
   "outputs": [
    {
     "data": {
      "image/png": "[encoded data removed]",
      "text/latex": [
       "$\\displaystyle \\frac{l_{0} \\left(dt \\left(g m_{0} \\operatorname{sin}\\left(\\theta_{1}\\right) + g m_{1} \\operatorname{sin}\\left(\\theta_{1}\\right) + l_{1} m_{1} \\operatorname{sin}\\left(\\theta_{1} - \\theta_{2}\\right) \\dot{\\theta}_{2}^{2}\\right) - l_{0} m_{0} \\left(\\dot{\\theta}_{1} - \\dot{\\theta}_{1n+1}\\right) - l_{0} m_{1} \\left(\\dot{\\theta}_{1} - \\dot{\\theta}_{1n+1}\\right) - l_{1} m_{1} \\left(\\dot{\\theta}_{2} - \\dot{\\theta}_{2n+1}\\right) \\operatorname{cos}\\left(\\theta_{1} - \\theta_{2}\\right)\\right)}{dt}$"
      ],
      "text/plain": [
       "   ⎛   ⎛                                                    2⎞                \n",
       "l₀⋅⎝dt⋅⎝g⋅m₀⋅sin(θ₁) + g⋅m₁⋅sin(θ₁) + l₁⋅m₁⋅sin(θ₁ - θ₂)⋅θ₂̇ ⎠ - l₀⋅m₀⋅(θ₁̇ - \n",
       "──────────────────────────────────────────────────────────────────────────────\n",
       "                                                                        dt    \n",
       "\n",
       "                                                                  ⎞\n",
       "θ₁ₙ̇₊₁) - l₀⋅m₁⋅(θ₁̇ - θ₁ₙ̇₊₁) - l₁⋅m₁⋅(θ₂̇ - θ₂ₙ̇₊₁)⋅cos(θ₁ - θ₂)⎠\n",
       "───────────────────────────────────────────────────────────────────\n",
       "                                                                   "
      ]
     },
     "execution_count": 45,
     "metadata": {},
     "output_type": "execute_result"
    }
   ],
   "source": [
    "l_expr_1 = lagrange_disc(L, the1, [the2])\n",
    "l_expr_1"
   ]
  },
  {
   "cell_type": "code",
   "execution_count": 28,
   "metadata": {},
   "outputs": [
    {
     "data": {
      "image/png": "[encoded data removed]",
      "text/latex": [
       "$\\displaystyle - \\frac{l_{1} m_{1} \\left(- dt \\left(g \\operatorname{sin}\\left(\\theta_{2}\\right) - l_{0} \\operatorname{sin}\\left(\\theta_{1} - \\theta_{2}\\right) \\dot{\\theta}_{1}^{2}\\right) + l_{0} \\left(\\dot{\\theta}_{1} - \\dot{\\theta}_{1n+1}\\right) \\operatorname{cos}\\left(\\theta_{1} - \\theta_{2}\\right) + l_{1} \\left(\\dot{\\theta}_{2} - \\dot{\\theta}_{2n+1}\\right)\\right)}{dt}$"
      ],
      "text/plain": [
       "       ⎛     ⎛                               2⎞                               \n",
       "-l₁⋅m₁⋅⎝- dt⋅⎝g⋅sin(θ₂) - l₀⋅sin(θ₁ - θ₂)⋅θ₁̇ ⎠ + l₀⋅(θ₁̇ - θ₁ₙ̇₊₁)⋅cos(θ₁ - θ\n",
       "──────────────────────────────────────────────────────────────────────────────\n",
       "                                                  dt                          \n",
       "\n",
       "                      ⎞ \n",
       "₂) + l₁⋅(θ₂̇ - θ₂ₙ̇₊₁)⎠ \n",
       "────────────────────────\n",
       "                        "
      ]
     },
     "execution_count": 28,
     "metadata": {},
     "output_type": "execute_result"
    }
   ],
   "source": [
    "l_expr_2 = lagrange_disc(L, the2, [the1])\n",
    "l_expr_2"
   ]
  },
  {
   "cell_type": "markdown",
   "metadata": {},
   "source": [
    "# Step 2: conversion?"
   ]
  },
  {
   "cell_type": "code",
   "execution_count": 19,
   "metadata": {},
   "outputs": [],
   "source": [
    "import casadi as cas"
   ]
  },
  {
   "cell_type": "code",
   "execution_count": 35,
   "metadata": {},
   "outputs": [],
   "source": [
    "def sympy2casadi(sympy_expr,sympy_var,casadi_var):\n",
    "    #import casadi\n",
    "    assert casadi_var.is_vector()\n",
    "    if casadi_var.shape[1]>1:\n",
    "        casadi_var = casadi_var.T\n",
    "    casadi_var = cas.vertsplit(casadi_var)\n",
    "    from sympy.utilities.lambdify import lambdify\n",
    "\n",
    "    mapping = {'ImmutableDenseMatrix': cas.blockcat,\n",
    "             'MutableDenseMatrix': cas.blockcat,\n",
    "             'Abs':cas.fabs\n",
    "            }\n",
    "    f = lambdify(sympy_var,sympy_expr,modules=[mapping, cas])\n",
    "    print(casadi_var)\n",
    "    return f(*casadi_var)"
   ]
  },
  {
   "cell_type": "code",
   "execution_count": 51,
   "metadata": {},
   "outputs": [],
   "source": [
    "l_sy_vars = [m0, m1, l0, l1, t, dt, g, the1, the2, thedot1, thedot2, thedot1_1, thedot2_1]"
   ]
  },
  {
   "cell_type": "code",
   "execution_count": 57,
   "metadata": {},
   "outputs": [],
   "source": [
    "x = cas.SX.sym('x', 4)\n",
    "x_n = cas.SX.sym('x_n', 4)\n",
    "u = cas.SX.sym('u', 2)\n",
    "m = cas.SX.sym('m', 2)\n",
    "l = cas.SX.sym('l', 2)\n",
    "T = cas.SX.sym(\"t\")\n",
    "Dt = cas.SX.sym(\"dt\")\n",
    "G = cas.SX.sym(\"g\")"
   ]
  },
  {
   "cell_type": "code",
   "execution_count": 58,
   "metadata": {},
   "outputs": [],
   "source": [
    "l_cas_vars = cas.vertcat(m[0],m[1],l[0],l[1],T,Dt,G,x[0],x[1],x[2],x[3],x_n[2], x_n[3])"
   ]
  },
  {
   "cell_type": "code",
   "execution_count": 59,
   "metadata": {},
   "outputs": [
    {
     "name": "stdout",
     "output_type": "stream",
     "text": [
      "[SX(m_0), SX(m_1), SX(l_0), SX(l_1), SX(t), SX(dt), SX(g), SX(x_0), SX(x_1), SX(x_2), SX(x_3), SX(x_n_2), SX(x_n_3)]\n"
     ]
    },
    {
     "data": {
      "text/plain": [
       "SX(((l_0*((((dt*((((g*m_0)*sin(x_0))-(((sq(x_3)*l_1)*m_1)*sin((x_1-x_0))))+((g*m_1)*sin(x_0))))-((l_0*m_0)*(x_2-x_n_2)))-((l_0*m_1)*(x_2-x_n_2)))-(((l_1*m_1)*(x_3-x_n_3))*cos((x_1-x_0)))))/dt))"
      ]
     },
     "execution_count": 59,
     "metadata": {},
     "output_type": "execute_result"
    }
   ],
   "source": [
    "L_expr_1 = sympy2casadi(l_expr_1, l_sy_vars, l_cas_vars)\n",
    "L_expr_1"
   ]
  },
  {
   "cell_type": "code",
   "execution_count": 60,
   "metadata": {},
   "outputs": [
    {
     "name": "stdout",
     "output_type": "stream",
     "text": [
      "[SX(m_0), SX(m_1), SX(l_0), SX(l_1), SX(t), SX(dt), SX(g), SX(x_0), SX(x_1), SX(x_2), SX(x_3), SX(x_n_2), SX(x_n_3)]\n"
     ]
    },
    {
     "data": {
      "text/plain": [
       "SX((-(((l_1*m_1)*((((l_0*(x_2-x_n_2))*cos((x_1-x_0)))-(dt*(((sq(x_2)*l_0)*sin((x_1-x_0)))+(g*sin(x_1)))))+(l_1*(x_3-x_n_3))))/dt)))"
      ]
     },
     "execution_count": 60,
     "metadata": {},
     "output_type": "execute_result"
    }
   ],
   "source": [
    "L_expr_2 = sympy2casadi(l_expr_2, l_sy_vars, l_cas_vars)\n",
    "L_expr_2"
   ]
  },
  {
   "cell_type": "code",
   "execution_count": 61,
   "metadata": {},
   "outputs": [],
   "source": [
    "step_rest_1 = cas.Function('Step_rest_1', [x, x_n, u, Dt, m, l, G], [L_expr_1-u[0]])"
   ]
  },
  {
   "cell_type": "code",
   "execution_count": 62,
   "metadata": {},
   "outputs": [],
   "source": [
    "step_rest_2 = cas.Function('Step_rest_2', [x, x_n, u, Dt, m, l, G], [L_expr_1-u[1]])"
   ]
  },
  {
   "cell_type": "code",
   "execution_count": 63,
   "metadata": {},
   "outputs": [],
   "source": [
    "N = 200"
   ]
  },
  {
   "cell_type": "code",
   "execution_count": 65,
   "metadata": {},
   "outputs": [],
   "source": [
    "opti = cas.Opti()\n",
    "opti.solver('ipopt')"
   ]
  },
  {
   "cell_type": "code",
   "execution_count": null,
   "metadata": {},
   "outputs": [],
   "source": [
    "X = opti.variable(N+1,4)\n",
    "U = opti.variable(N,2)\n",
    "T = opti.variable()\n",
    "u_m = opti.parameter()"
   ]
  }
 ],
 "metadata": {
  "kernelspec": {
   "display_name": "Python 3",
   "language": "python",
   "name": "python3"
  },
  "language_info": {
   "codemirror_mode": {
    "name": "ipython",
    "version": 3
   },
   "file_extension": ".py",
   "mimetype": "text/x-python",
   "name": "python",
   "nbconvert_exporter": "python",
   "pygments_lexer": "ipython3",
   "version": "3.7.3"
  }
 },
 "nbformat": 4,
 "nbformat_minor": 2
}
