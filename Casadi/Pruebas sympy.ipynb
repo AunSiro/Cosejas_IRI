{
 "cells": [
  {
   "cell_type": "code",
   "execution_count": 1,
   "id": "5e2eb475",
   "metadata": {},
   "outputs": [],
   "source": [
    "import numpy as np\n",
    "import matplotlib.pyplot as plt\n",
    "from mpl_toolkits import mplot3d\n",
    "\n",
    "from numpy import logical_and as npand\n",
    "from numpy import logical_or as npor\n",
    "import matplotlib"
   ]
  },
  {
   "cell_type": "code",
   "execution_count": 2,
   "id": "bebf98fc",
   "metadata": {},
   "outputs": [],
   "source": [
    "from sympy import (symbols, pi, I, E, cos, sin, exp, tan, simplify, expand, factor, collect,\n",
    "                   apart, cancel, expand_trig, diff, Derivative, Function, integrate, limit,\n",
    "                   series, Eq, solve, dsolve, Matrix, N, preorder_traversal, Float, solve_linear_system,\n",
    "                   eye, zeros, lambdify, Symbol,hessian, acos)\n",
    "from sympy.physics.mechanics import dynamicsymbols, init_vprinting"
   ]
  },
  {
   "cell_type": "code",
   "execution_count": 3,
   "id": "87b05640",
   "metadata": {},
   "outputs": [],
   "source": [
    "from matplotlib import animation, rc\n",
    "import matplotlib.patches as patches\n",
    "from matplotlib.transforms import Affine2D\n",
    "from IPython.display import HTML"
   ]
  },
  {
   "cell_type": "code",
   "execution_count": 4,
   "id": "57dafcca",
   "metadata": {},
   "outputs": [],
   "source": [
    "init_vprinting()"
   ]
  },
  {
   "cell_type": "code",
   "execution_count": 5,
   "id": "77599fbd",
   "metadata": {},
   "outputs": [],
   "source": [
    "from sympy.physics.mechanics import ReferenceFrame, Point, LagrangesMethod"
   ]
  },
  {
   "cell_type": "code",
   "execution_count": 6,
   "id": "9b73165f",
   "metadata": {},
   "outputs": [
    {
     "data": {
      "image/png": "[encoded data removed]",
      "text/latex": [
       "$\\displaystyle m_{1} \\dot{q}_{1}^{2} + m_{2} \\dot{q}_{2}^{2}$"
      ],
      "text/plain": [
       "     2        2\n",
       "m₁⋅q₁̇  + m₂⋅q₂̇ "
      ]
     },
     "execution_count": 6,
     "metadata": {},
     "output_type": "execute_result"
    }
   ],
   "source": [
    "q1, q2 = dynamicsymbols('q1 q2')\n",
    "q1d, q2d = dynamicsymbols('q1 q2', 1)\n",
    "m1, m2 = symbols('m1 m2')\n",
    "L = m1*q1d**2 + m2*q2d**2\n",
    "L"
   ]
  },
  {
   "cell_type": "code",
   "execution_count": 7,
   "id": "10d47e26",
   "metadata": {},
   "outputs": [],
   "source": [
    "from optibot.symbolic import diff_to_symb_expr"
   ]
  },
  {
   "cell_type": "code",
   "execution_count": 8,
   "id": "ee9a460b",
   "metadata": {},
   "outputs": [
    {
     "data": {
      "image/png": "[encoded data removed]",
      "text/latex": [
       "$\\displaystyle q_{1}^{2} + \\sin{\\left(q_{1}^{2} \\right)} + \\cos^{3}{\\left(\\dot{q}_{2} \\right)} + \\operatorname{acos}{\\left(q_{1} \\right)}$"
      ],
      "text/plain": [
       "  2      ⎛  2⎞      3               \n",
       "q₁  + sin⎝q₁ ⎠ + cos (q₂̇) + acos(q₁)"
      ]
     },
     "execution_count": 8,
     "metadata": {},
     "output_type": "execute_result"
    }
   ],
   "source": [
    "x = q1**2 + cos(q2.diff())**3 + sin(q1**2) + acos(q1)\n",
    "x"
   ]
  },
  {
   "cell_type": "code",
   "execution_count": 9,
   "id": "2b572b04",
   "metadata": {},
   "outputs": [],
   "source": [
    "from optibot.symbolic import print_funcs"
   ]
  },
  {
   "cell_type": "code",
   "execution_count": 10,
   "id": "0475d504",
   "metadata": {},
   "outputs": [
    {
     "name": "stdout",
     "output_type": "stream",
     "text": [
      "def F(x, ):\n",
      "    q_0, q_1, q_2, v_0, v_1, v_2 = unpack(x)\n",
      "    result = q_1**2 + np.sin(q_1**2) + np.cos(v_2)**3 + np.arccos(q_1)\n",
      "\n",
      "    return result\n",
      "\n"
     ]
    },
    {
     "data": {
      "text/plain": [
       "'def F(x, ):\\n    q_0, q_1, q_2, v_0, v_1, v_2 = unpack(x)\\n    result = q_1**2 + np.sin(q_1**2) + np.cos(v_2)**3 + np.arccos(q_1)\\n\\n    return result\\n'"
      ]
     },
     "execution_count": 10,
     "metadata": {},
     "output_type": "execute_result"
    }
   ],
   "source": [
    "print_funcs(x,3)"
   ]
  },
  {
   "cell_type": "code",
   "execution_count": null,
   "id": "e7208328",
   "metadata": {},
   "outputs": [],
   "source": []
  },
  {
   "cell_type": "code",
   "execution_count": 7,
   "id": "a146ffbc",
   "metadata": {},
   "outputs": [],
   "source": [
    "x, a, b, c, d, t, h= symbols('x a b c d t h')\n",
    "t0, t1, t2, t3, t4 = symbols('t_0 t_1 t_2 t_3 t_4')"
   ]
  },
  {
   "cell_type": "code",
   "execution_count": 8,
   "id": "b50b7f36",
   "metadata": {},
   "outputs": [
    {
     "data": {
      "image/png": "[encoded data removed]",
      "text/latex": [
       "$\\displaystyle \\cos{\\left(a - b \\right)}$"
      ],
      "text/plain": [
       "cos(a - b)"
      ]
     },
     "execution_count": 8,
     "metadata": {},
     "output_type": "execute_result"
    }
   ],
   "source": [
    "sin(pi/2 + a-b)"
   ]
  },
  {
   "cell_type": "code",
   "execution_count": 8,
   "id": "26ce3062",
   "metadata": {},
   "outputs": [
    {
     "data": {
      "image/png": "[encoded data removed]",
      "text/latex": [
       "$\\displaystyle a + \\frac{t \\left(- a + b\\right)}{h}$"
      ],
      "text/plain": [
       "    t⋅(-a + b)\n",
       "a + ──────────\n",
       "        h     "
      ]
     },
     "execution_count": 8,
     "metadata": {},
     "output_type": "execute_result"
    }
   ],
   "source": [
    "rect = a+ (b-a)/h*t\n",
    "rect"
   ]
  },
  {
   "cell_type": "code",
   "execution_count": 11,
   "id": "9e3090a7",
   "metadata": {},
   "outputs": [
    {
     "data": {
      "image/png": "[encoded data removed]",
      "text/latex": [
       "$\\displaystyle \\frac{h \\left(a^{2} + a b + b^{2}\\right)}{3}$"
      ],
      "text/plain": [
       "  ⎛ 2          2⎞\n",
       "h⋅⎝a  + a⋅b + b ⎠\n",
       "─────────────────\n",
       "        3        "
      ]
     },
     "execution_count": 11,
     "metadata": {},
     "output_type": "execute_result"
    }
   ],
   "source": [
    "form = integrate(expand(rect**2), (t, 0, h))\n",
    "form = simplify(form)\n",
    "factor(form)"
   ]
  },
  {
   "cell_type": "code",
   "execution_count": 12,
   "id": "3f423b45",
   "metadata": {},
   "outputs": [
    {
     "data": {
      "image/png": "[encoded data removed]",
      "text/latex": [
       "$\\displaystyle a - \\frac{t \\left(3 a - 4 b + c\\right)}{h} + \\frac{t^{2} \\cdot \\left(2 a - 4 b + 2 c\\right)}{h^{2}}$"
      ],
      "text/plain": [
       "                         2                  \n",
       "    t⋅(3⋅a - 4⋅b + c)   t ⋅(2⋅a - 4⋅b + 2⋅c)\n",
       "a - ───────────────── + ────────────────────\n",
       "            h                     2         \n",
       "                                 h          "
      ]
     },
     "execution_count": 12,
     "metadata": {},
     "output_type": "execute_result"
    }
   ],
   "source": [
    "parab = a - t/h* (3*a-4*b+c) + t**2/h**2 * (2*a -4*b +2*c)\n",
    "parab"
   ]
  },
  {
   "cell_type": "code",
   "execution_count": 11,
   "id": "624ffbd2",
   "metadata": {},
   "outputs": [
    {
     "data": {
      "image/png": "[encoded data removed]",
      "text/latex": [
       "$\\displaystyle \\frac{h \\left(2 a^{2} + 2 a b - a c + 8 b^{2} + 2 b c + 2 c^{2}\\right)}{15}$"
      ],
      "text/plain": [
       "  ⎛   2                    2              2⎞\n",
       "h⋅⎝2⋅a  + 2⋅a⋅b - a⋅c + 8⋅b  + 2⋅b⋅c + 2⋅c ⎠\n",
       "────────────────────────────────────────────\n",
       "                     15                     "
      ]
     },
     "execution_count": 11,
     "metadata": {},
     "output_type": "execute_result"
    }
   ],
   "source": [
    "form = integrate(expand(parab**2), (t, 0, h))\n",
    "form = simplify(form)\n",
    "factor(form)"
   ]
  },
  {
   "cell_type": "code",
   "execution_count": 13,
   "id": "2b5ef3b8",
   "metadata": {},
   "outputs": [
    {
     "data": {
      "image/png": "[encoded data removed]",
      "text/latex": [
       "$\\displaystyle - \\frac{3 a - 4 b + c}{h} + \\frac{2 t \\left(2 a - 4 b + 2 c\\right)}{h^{2}}$"
      ],
      "text/plain": [
       "  3⋅a - 4⋅b + c   2⋅t⋅(2⋅a - 4⋅b + 2⋅c)\n",
       "- ───────────── + ─────────────────────\n",
       "        h                    2         \n",
       "                            h          "
      ]
     },
     "execution_count": 13,
     "metadata": {},
     "output_type": "execute_result"
    }
   ],
   "source": [
    "parab.diff(t)"
   ]
  },
  {
   "cell_type": "code",
   "execution_count": 15,
   "id": "7724ec99",
   "metadata": {},
   "outputs": [
    {
     "data": {
      "image/png": "[encoded data removed]",
      "text/latex": [
       "$\\displaystyle \\frac{7 a^{2} - 16 a b + 2 a c + 16 b^{2} - 16 b c + 7 c^{2}}{3 h}$"
      ],
      "text/plain": [
       "   2                        2               2\n",
       "7⋅a  - 16⋅a⋅b + 2⋅a⋅c + 16⋅b  - 16⋅b⋅c + 7⋅c \n",
       "─────────────────────────────────────────────\n",
       "                     3⋅h                     "
      ]
     },
     "execution_count": 15,
     "metadata": {},
     "output_type": "execute_result"
    }
   ],
   "source": [
    "form_2 = integrate(expand(parab.diff(t)**2), (t, 0, h))\n",
    "form_2 = simplify(form_2)\n",
    "factor(form_2)"
   ]
  },
  {
   "cell_type": "code",
   "execution_count": null,
   "id": "56455a0d",
   "metadata": {},
   "outputs": [],
   "source": []
  },
  {
   "cell_type": "code",
   "execution_count": null,
   "id": "43e65df6",
   "metadata": {},
   "outputs": [],
   "source": []
  },
  {
   "cell_type": "code",
   "execution_count": null,
   "id": "49499883",
   "metadata": {},
   "outputs": [],
   "source": []
  },
  {
   "cell_type": "code",
   "execution_count": 39,
   "id": "5c92edca",
   "metadata": {},
   "outputs": [],
   "source": [
    "from sympy.printing.numpy import NumPyPrinter\n",
    "\n",
    "def printer(x):\n",
    "    np_printer = NumPyPrinter()\n",
    "    return np_printer.doprint(x)"
   ]
  },
  {
   "cell_type": "code",
   "execution_count": 40,
   "id": "bb66dc2b",
   "metadata": {},
   "outputs": [
    {
     "data": {
      "text/plain": [
       "'(1/15)*h*(2*a**2 + 2*a*b - a*c + 8*b**2 + 2*b*c + 2*c**2)'"
      ]
     },
     "execution_count": 40,
     "metadata": {},
     "output_type": "execute_result"
    }
   ],
   "source": [
    "printer(form)"
   ]
  },
  {
   "cell_type": "code",
   "execution_count": null,
   "id": "a8df28aa",
   "metadata": {},
   "outputs": [],
   "source": []
  },
  {
   "cell_type": "code",
   "execution_count": null,
   "id": "4bd6d8f1",
   "metadata": {},
   "outputs": [],
   "source": []
  },
  {
   "cell_type": "code",
   "execution_count": 6,
   "id": "46f63172",
   "metadata": {},
   "outputs": [
    {
     "data": {
      "image/png": "[encoded data removed]",
      "text/latex": [
       "$\\displaystyle a x^{3} + b x^{2} + c x + d$"
      ],
      "text/plain": [
       "   3      2          \n",
       "a⋅x  + b⋅x  + c⋅x + d"
      ]
     },
     "execution_count": 6,
     "metadata": {},
     "output_type": "execute_result"
    }
   ],
   "source": [
    "polin = a*x**3 + b*x**2 + c*x + d\n",
    "polin"
   ]
  },
  {
   "cell_type": "code",
   "execution_count": 9,
   "id": "c59e26af",
   "metadata": {},
   "outputs": [
    {
     "data": {
      "image/png": "[encoded data removed]",
      "text/latex": [
       "$\\displaystyle \\left[ a t_{0}^{3} + b t_{0}^{2} + c t_{0} + d, \\  a t_{1}^{3} + b t_{1}^{2} + c t_{1} + d, \\  a t_{2}^{3} + b t_{2}^{2} + c t_{2} + d, \\  a t_{3}^{3} + b t_{3}^{2} + c t_{3} + d\\right]$"
      ],
      "text/plain": [
       "⎡    3       2                 3       2                 3       2            \n",
       "⎣a⋅t₀  + b⋅t₀  + c⋅t₀ + d, a⋅t₁  + b⋅t₁  + c⋅t₁ + d, a⋅t₂  + b⋅t₂  + c⋅t₂ + d,\n",
       "\n",
       "     3       2           ⎤\n",
       " a⋅t₃  + b⋅t₃  + c⋅t₃ + d⎦"
      ]
     },
     "execution_count": 9,
     "metadata": {},
     "output_type": "execute_result"
    }
   ],
   "source": [
    "x_n = [polin.subs(x, ii) for ii in [t0, t1, t2, t3]]\n",
    "x_n"
   ]
  },
  {
   "cell_type": "code",
   "execution_count": 10,
   "id": "cdfe429e",
   "metadata": {},
   "outputs": [
    {
     "data": {
      "image/png": "[encoded data removed]",
      "text/latex": [
       "$\\displaystyle 3 a x^{2} + 2 b x + c$"
      ],
      "text/plain": [
       "     2            \n",
       "3⋅a⋅x  + 2⋅b⋅x + c"
      ]
     },
     "execution_count": 10,
     "metadata": {},
     "output_type": "execute_result"
    }
   ],
   "source": [
    "pol_dif = polin.diff(x)\n",
    "pol_dif"
   ]
  },
  {
   "cell_type": "code",
   "execution_count": null,
   "id": "5e1c5574",
   "metadata": {},
   "outputs": [],
   "source": []
  },
  {
   "cell_type": "code",
   "execution_count": null,
   "id": "993a5412",
   "metadata": {},
   "outputs": [],
   "source": []
  },
  {
   "cell_type": "code",
   "execution_count": null,
   "id": "619cdea2",
   "metadata": {},
   "outputs": [],
   "source": []
  },
  {
   "cell_type": "code",
   "execution_count": null,
   "id": "92886a47",
   "metadata": {},
   "outputs": [],
   "source": []
  }
 ],
 "metadata": {
  "kernelspec": {
   "display_name": "Python 3 (ipykernel)",
   "language": "python",
   "name": "python3"
  },
  "language_info": {
   "codemirror_mode": {
    "name": "ipython",
    "version": 3
   },
   "file_extension": ".py",
   "mimetype": "text/x-python",
   "name": "python",
   "nbconvert_exporter": "python",
   "pygments_lexer": "ipython3",
   "version": "3.9.15"
  }
 },
 "nbformat": 4,
 "nbformat_minor": 5
}
