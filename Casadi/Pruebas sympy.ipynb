{
 "cells": [
  {
   "cell_type": "code",
   "execution_count": null,
   "id": "5e2eb475",
   "metadata": {},
   "outputs": [],
   "source": [
    "import numpy as np\n",
    "import matplotlib.pyplot as plt\n",
    "from mpl_toolkits import mplot3d\n",
    "\n",
    "from numpy import logical_and as npand\n",
    "from numpy import logical_or as npor\n",
    "import matplotlib"
   ]
  },
  {
   "cell_type": "code",
   "execution_count": null,
   "id": "bebf98fc",
   "metadata": {},
   "outputs": [],
   "source": [
    "from sympy import (symbols, pi, I, E, cos, sin, exp, tan, simplify, expand, factor, collect,\n",
    "                   apart, cancel, expand_trig, diff, Derivative, Function, integrate, limit,\n",
    "                   series, Eq, solve, dsolve, Matrix, N, preorder_traversal, Float, solve_linear_system,\n",
    "                   eye, zeros, lambdify, Symbol,hessian, acos)\n",
    "from sympy.physics.mechanics import dynamicsymbols, init_vprinting"
   ]
  },
  {
   "cell_type": "code",
   "execution_count": null,
   "id": "87b05640",
   "metadata": {},
   "outputs": [],
   "source": [
    "from matplotlib import animation, rc\n",
    "import matplotlib.patches as patches\n",
    "from matplotlib.transforms import Affine2D\n",
    "from IPython.display import HTML"
   ]
  },
  {
   "cell_type": "code",
   "execution_count": null,
   "id": "57dafcca",
   "metadata": {},
   "outputs": [],
   "source": [
    "init_vprinting()"
   ]
  },
  {
   "cell_type": "code",
   "execution_count": null,
   "id": "77599fbd",
   "metadata": {},
   "outputs": [],
   "source": [
    "from sympy.physics.mechanics import ReferenceFrame, Point, LagrangesMethod"
   ]
  },
  {
   "cell_type": "code",
   "execution_count": null,
   "id": "9b73165f",
   "metadata": {},
   "outputs": [],
   "source": [
    "q1, q2 = dynamicsymbols('q1 q2')\n",
    "q1d, q2d = dynamicsymbols('q1 q2', 1)\n",
    "m1, m2 = symbols('m1 m2')\n",
    "L = m1*q1d**2 + m2*q2d**2\n",
    "L"
   ]
  },
  {
   "cell_type": "code",
   "execution_count": null,
   "id": "10d47e26",
   "metadata": {},
   "outputs": [],
   "source": [
    "from optibot.symbolic import diff_to_symb_expr"
   ]
  },
  {
   "cell_type": "code",
   "execution_count": null,
   "id": "ee9a460b",
   "metadata": {},
   "outputs": [],
   "source": [
    "x = q1**2 + cos(q2.diff())**3 + sin(q1**2) + acos(q1)\n",
    "x"
   ]
  },
  {
   "cell_type": "code",
   "execution_count": null,
   "id": "2b572b04",
   "metadata": {},
   "outputs": [],
   "source": [
    "from optibot.symbolic import print_funcs"
   ]
  },
  {
   "cell_type": "code",
   "execution_count": null,
   "id": "0475d504",
   "metadata": {},
   "outputs": [],
   "source": [
    "print_funcs(x,3)"
   ]
  },
  {
   "cell_type": "code",
   "execution_count": null,
   "id": "92886a47",
   "metadata": {},
   "outputs": [],
   "source": []
  }
 ],
 "metadata": {
  "kernelspec": {
   "display_name": "Python 3",
   "language": "python",
   "name": "python3"
  },
  "language_info": {
   "codemirror_mode": {
    "name": "ipython",
    "version": 3
   },
   "file_extension": ".py",
   "mimetype": "text/x-python",
   "name": "python",
   "nbconvert_exporter": "python",
   "pygments_lexer": "ipython3",
   "version": "3.9.5"
  }
 },
 "nbformat": 4,
 "nbformat_minor": 5
}
