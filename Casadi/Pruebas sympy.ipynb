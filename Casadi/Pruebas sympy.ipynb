{
 "cells": [
  {
   "cell_type": "code",
   "execution_count": 1,
   "id": "5e2eb475",
   "metadata": {},
   "outputs": [],
   "source": [
    "import numpy as np\n",
    "import matplotlib.pyplot as plt\n",
    "from mpl_toolkits import mplot3d\n",
    "\n",
    "from numpy import logical_and as npand\n",
    "from numpy import logical_or as npor\n",
    "import matplotlib"
   ]
  },
  {
   "cell_type": "code",
   "execution_count": 2,
   "id": "bebf98fc",
   "metadata": {},
   "outputs": [],
   "source": [
    "from sympy import (symbols, pi, I, E, cos, sin, exp, tan, simplify, expand, factor, collect,\n",
    "                   apart, cancel, expand_trig, diff, Derivative, Function, integrate, limit,\n",
    "                   series, Eq, solve, dsolve, Matrix, N, preorder_traversal, Float, solve_linear_system,\n",
    "                   eye, zeros, lambdify, Symbol,hessian, acos)\n",
    "from sympy.physics.mechanics import dynamicsymbols, init_vprinting"
   ]
  },
  {
   "cell_type": "code",
   "execution_count": 3,
   "id": "87b05640",
   "metadata": {},
   "outputs": [],
   "source": [
    "from matplotlib import animation, rc\n",
    "import matplotlib.patches as patches\n",
    "from matplotlib.transforms import Affine2D\n",
    "from IPython.display import HTML"
   ]
  },
  {
   "cell_type": "code",
   "execution_count": 4,
   "id": "57dafcca",
   "metadata": {},
   "outputs": [],
   "source": [
    "init_vprinting()"
   ]
  },
  {
   "cell_type": "code",
   "execution_count": null,
   "id": "77599fbd",
   "metadata": {},
   "outputs": [],
   "source": [
    "from sympy.physics.mechanics import ReferenceFrame, Point, LagrangesMethod"
   ]
  },
  {
   "cell_type": "code",
   "execution_count": null,
   "id": "9b73165f",
   "metadata": {},
   "outputs": [],
   "source": [
    "q1, q2 = dynamicsymbols('q1 q2')\n",
    "q1d, q2d = dynamicsymbols('q1 q2', 1)\n",
    "m1, m2 = symbols('m1 m2')\n",
    "L = m1*q1d**2 + m2*q2d**2\n",
    "L"
   ]
  },
  {
   "cell_type": "code",
   "execution_count": null,
   "id": "10d47e26",
   "metadata": {},
   "outputs": [],
   "source": [
    "from optibot.symbolic import diff_to_symb_expr"
   ]
  },
  {
   "cell_type": "code",
   "execution_count": null,
   "id": "ee9a460b",
   "metadata": {},
   "outputs": [],
   "source": [
    "x = q1**2 + cos(q2.diff())**3 + sin(q1**2) + acos(q1)\n",
    "x"
   ]
  },
  {
   "cell_type": "code",
   "execution_count": null,
   "id": "2b572b04",
   "metadata": {},
   "outputs": [],
   "source": [
    "from optibot.symbolic import print_funcs"
   ]
  },
  {
   "cell_type": "code",
   "execution_count": null,
   "id": "0475d504",
   "metadata": {},
   "outputs": [],
   "source": [
    "print_funcs(x,3)"
   ]
  },
  {
   "cell_type": "code",
   "execution_count": null,
   "id": "e7208328",
   "metadata": {},
   "outputs": [],
   "source": []
  },
  {
   "cell_type": "code",
   "execution_count": 8,
   "id": "a146ffbc",
   "metadata": {},
   "outputs": [],
   "source": [
    "x, a, b, c, d = symbols('x a b c d')\n",
    "t0, t1, t2, t3, t4 = symbols('t_0 t_1 t_2 t_3 t_4')"
   ]
  },
  {
   "cell_type": "code",
   "execution_count": 6,
   "id": "46f63172",
   "metadata": {},
   "outputs": [
    {
     "data": {
      "image/png": "[encoded data removed]",
      "text/latex": [
       "$\\displaystyle a x^{3} + b x^{2} + c x + d$"
      ],
      "text/plain": [
       "   3      2          \n",
       "a⋅x  + b⋅x  + c⋅x + d"
      ]
     },
     "execution_count": 6,
     "metadata": {},
     "output_type": "execute_result"
    }
   ],
   "source": [
    "polin = a*x**3 + b*x**2 + c*x + d\n",
    "polin"
   ]
  },
  {
   "cell_type": "code",
   "execution_count": 9,
   "id": "c59e26af",
   "metadata": {},
   "outputs": [
    {
     "data": {
      "image/png": "[encoded data removed]",
      "text/latex": [
       "$\\displaystyle \\left[ a t_{0}^{3} + b t_{0}^{2} + c t_{0} + d, \\  a t_{1}^{3} + b t_{1}^{2} + c t_{1} + d, \\  a t_{2}^{3} + b t_{2}^{2} + c t_{2} + d, \\  a t_{3}^{3} + b t_{3}^{2} + c t_{3} + d\\right]$"
      ],
      "text/plain": [
       "⎡    3       2                 3       2                 3       2            \n",
       "⎣a⋅t₀  + b⋅t₀  + c⋅t₀ + d, a⋅t₁  + b⋅t₁  + c⋅t₁ + d, a⋅t₂  + b⋅t₂  + c⋅t₂ + d,\n",
       "\n",
       "     3       2           ⎤\n",
       " a⋅t₃  + b⋅t₃  + c⋅t₃ + d⎦"
      ]
     },
     "execution_count": 9,
     "metadata": {},
     "output_type": "execute_result"
    }
   ],
   "source": [
    "x_n = [polin.subs(x, ii) for ii in [t0, t1, t2, t3]]\n",
    "x_n"
   ]
  },
  {
   "cell_type": "code",
   "execution_count": 10,
   "id": "cdfe429e",
   "metadata": {},
   "outputs": [
    {
     "data": {
      "image/png": "[encoded data removed]",
      "text/latex": [
       "$\\displaystyle 3 a x^{2} + 2 b x + c$"
      ],
      "text/plain": [
       "     2            \n",
       "3⋅a⋅x  + 2⋅b⋅x + c"
      ]
     },
     "execution_count": 10,
     "metadata": {},
     "output_type": "execute_result"
    }
   ],
   "source": [
    "pol_dif = polin.diff(x)\n",
    "pol_dif"
   ]
  },
  {
   "cell_type": "code",
   "execution_count": null,
   "id": "5e1c5574",
   "metadata": {},
   "outputs": [],
   "source": []
  },
  {
   "cell_type": "code",
   "execution_count": null,
   "id": "993a5412",
   "metadata": {},
   "outputs": [],
   "source": []
  },
  {
   "cell_type": "code",
   "execution_count": null,
   "id": "619cdea2",
   "metadata": {},
   "outputs": [],
   "source": []
  },
  {
   "cell_type": "code",
   "execution_count": null,
   "id": "92886a47",
   "metadata": {},
   "outputs": [],
   "source": []
  }
 ],
 "metadata": {
  "kernelspec": {
   "display_name": "Python 3",
   "language": "python",
   "name": "python3"
  },
  "language_info": {
   "codemirror_mode": {
    "name": "ipython",
    "version": 3
   },
   "file_extension": ".py",
   "mimetype": "text/x-python",
   "name": "python",
   "nbconvert_exporter": "python",
   "pygments_lexer": "ipython3",
   "version": "3.9.5"
  }
 },
 "nbformat": 4,
 "nbformat_minor": 5
}
