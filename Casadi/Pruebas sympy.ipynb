{
 "cells": [
  {
   "cell_type": "code",
   "execution_count": null,
   "id": "5e2eb475",
   "metadata": {},
   "outputs": [],
   "source": [
    "import numpy as np\n",
    "import matplotlib.pyplot as plt\n",
    "from mpl_toolkits import mplot3d\n",
    "\n",
    "from numpy import logical_and as npand\n",
    "from numpy import logical_or as npor\n",
    "import matplotlib"
   ]
  },
  {
   "cell_type": "code",
   "execution_count": null,
   "id": "bebf98fc",
   "metadata": {},
   "outputs": [],
   "source": [
    "from sympy import (symbols, pi, I, E, cos, sin, exp, tan, simplify, expand, factor, collect,\n",
    "                   apart, cancel, expand_trig, diff, Derivative, Function, integrate, limit,\n",
    "                   series, Eq, solve, dsolve, Matrix, N, preorder_traversal, Float, solve_linear_system,\n",
    "                   eye, zeros, lambdify, Symbol,hessian)\n",
    "from sympy.physics.mechanics import dynamicsymbols, init_vprinting"
   ]
  },
  {
   "cell_type": "code",
   "execution_count": null,
   "id": "87b05640",
   "metadata": {},
   "outputs": [],
   "source": [
    "from matplotlib import animation, rc\n",
    "import matplotlib.patches as patches\n",
    "from matplotlib.transforms import Affine2D\n",
    "from IPython.display import HTML"
   ]
  },
  {
   "cell_type": "code",
   "execution_count": null,
   "id": "57dafcca",
   "metadata": {},
   "outputs": [],
   "source": [
    "init_vprinting()"
   ]
  },
  {
   "cell_type": "code",
   "execution_count": null,
   "id": "77599fbd",
   "metadata": {},
   "outputs": [],
   "source": [
    "from sympy.physics.mechanics import ReferenceFrame, Point, LagrangesMethod"
   ]
  },
  {
   "cell_type": "code",
   "execution_count": null,
   "id": "9b73165f",
   "metadata": {},
   "outputs": [],
   "source": [
    "q1, q2 = dynamicsymbols('q1 q2')\n",
    "q1d, q2d = dynamicsymbols('q1 q2', 1)\n",
    "m1, m2 = symbols('m1 m2')\n",
    "L = m1*q1d**2 + m2*q2d**2\n",
    "L"
   ]
  },
  {
   "cell_type": "code",
   "execution_count": null,
   "id": "552b3b1f",
   "metadata": {},
   "outputs": [],
   "source": [
    "LM = LagrangesMethod(L, [q1, q2])\n",
    "LM.form_lagranges_equations()"
   ]
  },
  {
   "cell_type": "code",
   "execution_count": null,
   "id": "29d4a306",
   "metadata": {},
   "outputs": [],
   "source": [
    "LM.mass_matrix"
   ]
  },
  {
   "cell_type": "code",
   "execution_count": null,
   "id": "615be5ce",
   "metadata": {},
   "outputs": [],
   "source": [
    "LM.forcing"
   ]
  },
  {
   "cell_type": "code",
   "execution_count": null,
   "id": "fd08ff5e",
   "metadata": {},
   "outputs": [],
   "source": [
    "LM.rhs()"
   ]
  },
  {
   "cell_type": "code",
   "execution_count": null,
   "id": "9e532064",
   "metadata": {},
   "outputs": [],
   "source": [
    "l1 = symbols('l1')\n",
    "LM = LagrangesMethod(L, [q1, q2], hol_coneqs=[q1 - q2-l1])"
   ]
  },
  {
   "cell_type": "code",
   "execution_count": null,
   "id": "a2ba6164",
   "metadata": {},
   "outputs": [],
   "source": [
    "LM.form_lagranges_equations()"
   ]
  },
  {
   "cell_type": "code",
   "execution_count": null,
   "id": "912725c2",
   "metadata": {},
   "outputs": [],
   "source": [
    "LM.mass_matrix_full"
   ]
  },
  {
   "cell_type": "code",
   "execution_count": null,
   "id": "eab41e9d",
   "metadata": {},
   "outputs": [],
   "source": [
    "LM.forcing_full"
   ]
  },
  {
   "cell_type": "code",
   "execution_count": null,
   "id": "69275346",
   "metadata": {},
   "outputs": [],
   "source": [
    "N = ReferenceFrame('N')\n",
    "P = Point('P')\n",
    "P.set_vel(N, q1d * N.x)\n",
    "f1 = symbols('F1')\n",
    "FL = [(P, f1 * N.x)]\n",
    "LM = LagrangesMethod(L, [q1, q2], forcelist=FL, frame=N)\n",
    "LM.form_lagranges_equations()"
   ]
  },
  {
   "cell_type": "code",
   "execution_count": null,
   "id": "4a6cb12e",
   "metadata": {},
   "outputs": [],
   "source": []
  },
  {
   "cell_type": "code",
   "execution_count": null,
   "id": "10d47e26",
   "metadata": {},
   "outputs": [],
   "source": []
  },
  {
   "cell_type": "code",
   "execution_count": null,
   "id": "f1dd503a",
   "metadata": {},
   "outputs": [],
   "source": []
  },
  {
   "cell_type": "code",
   "execution_count": null,
   "id": "a5fe2a62",
   "metadata": {},
   "outputs": [],
   "source": []
  }
 ],
 "metadata": {
  "kernelspec": {
   "display_name": "Python 3",
   "language": "python",
   "name": "python3"
  },
  "language_info": {
   "codemirror_mode": {
    "name": "ipython",
    "version": 3
   },
   "file_extension": ".py",
   "mimetype": "text/x-python",
   "name": "python",
   "nbconvert_exporter": "python",
   "pygments_lexer": "ipython3",
   "version": "3.9.5"
  }
 },
 "nbformat": 4,
 "nbformat_minor": 5
}
