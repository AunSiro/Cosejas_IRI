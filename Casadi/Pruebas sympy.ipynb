{
 "cells": [
  {
   "cell_type": "code",
   "execution_count": 1,
   "id": "5e2eb475",
   "metadata": {},
   "outputs": [],
   "source": [
    "import numpy as np\n",
    "import matplotlib.pyplot as plt\n",
    "from mpl_toolkits import mplot3d\n",
    "\n",
    "from numpy import logical_and as npand\n",
    "from numpy import logical_or as npor\n",
    "import matplotlib"
   ]
  },
  {
   "cell_type": "code",
   "execution_count": 2,
   "id": "bebf98fc",
   "metadata": {},
   "outputs": [],
   "source": [
    "from sympy import (symbols, pi, I, E, cos, sin, exp, tan, simplify, expand, factor, collect,\n",
    "                   apart, cancel, expand_trig, diff, Derivative, Function, integrate, limit,\n",
    "                   series, Eq, solve, dsolve, Matrix, N, preorder_traversal, Float, solve_linear_system,\n",
    "                   eye, zeros, lambdify, Symbol,hessian, acos, legendre_poly, jacobi_poly)\n",
    "from sympy.physics.mechanics import dynamicsymbols, init_vprinting\n",
    "from sympy import Rational, factorial"
   ]
  },
  {
   "cell_type": "code",
   "execution_count": 3,
   "id": "87b05640",
   "metadata": {},
   "outputs": [],
   "source": [
    "from matplotlib import animation, rc\n",
    "import matplotlib.patches as patches\n",
    "from matplotlib.transforms import Affine2D\n",
    "from IPython.display import HTML"
   ]
  },
  {
   "cell_type": "code",
   "execution_count": 4,
   "id": "57dafcca",
   "metadata": {},
   "outputs": [],
   "source": [
    "init_vprinting()"
   ]
  },
  {
   "cell_type": "code",
   "execution_count": 5,
   "id": "30742fb8",
   "metadata": {},
   "outputs": [],
   "source": [
    "x, a, b, c, d, t, h= symbols('x a b c d t h')\n",
    "t0, t1, t2, t3, t4 = symbols('t_0 t_1 t_2 t_3 t_4')"
   ]
  },
  {
   "cell_type": "code",
   "execution_count": 6,
   "id": "bea3b83d",
   "metadata": {},
   "outputs": [],
   "source": [
    "_a = ['a', 'b', 'c']"
   ]
  },
  {
   "cell_type": "code",
   "execution_count": 7,
   "id": "c3beca40",
   "metadata": {},
   "outputs": [
    {
     "name": "stdout",
     "output_type": "stream",
     "text": [
      "item:  a  number 1 of total 3 items\n",
      "item:  b  number 2 of total 3 items\n",
      "item:  c  number 3 of total 3 items\n"
     ]
    }
   ],
   "source": [
    "for item in _a:\n",
    "    print('item: ', item, f' number {_a.index(item)+1} of total {len(_a)} items')"
   ]
  },
  {
   "cell_type": "code",
   "execution_count": 8,
   "id": "1d89d503",
   "metadata": {},
   "outputs": [],
   "source": [
    "_b = 'qqqq_parab'"
   ]
  },
  {
   "cell_type": "code",
   "execution_count": 9,
   "id": "cd0fe142",
   "metadata": {},
   "outputs": [
    {
     "data": {
      "text/plain": [
       "'qqqq'"
      ]
     },
     "execution_count": 9,
     "metadata": {},
     "output_type": "execute_result"
    }
   ],
   "source": [
    "_b.replace('_parab', '')"
   ]
  },
  {
   "cell_type": "code",
   "execution_count": 10,
   "id": "77599fbd",
   "metadata": {},
   "outputs": [],
   "source": [
    "from sympy.physics.mechanics import ReferenceFrame, Point, LagrangesMethod"
   ]
  },
  {
   "cell_type": "code",
   "execution_count": 11,
   "id": "9b73165f",
   "metadata": {},
   "outputs": [
    {
     "data": {
      "image/png": "[encoded data removed]",
      "text/latex": [
       "$\\displaystyle m_{1} \\dot{q}_{1}^{2} + m_{2} \\dot{q}_{2}^{2}$"
      ],
      "text/plain": [
       "     2        2\n",
       "m₁⋅q₁̇  + m₂⋅q₂̇ "
      ]
     },
     "execution_count": 11,
     "metadata": {},
     "output_type": "execute_result"
    }
   ],
   "source": [
    "q1, q2 = dynamicsymbols('q1 q2')\n",
    "q1d, q2d = dynamicsymbols('q1 q2', 1)\n",
    "m1, m2 = symbols('m1 m2')\n",
    "L = m1*q1d**2 + m2*q2d**2\n",
    "L"
   ]
  },
  {
   "cell_type": "code",
   "execution_count": 12,
   "id": "6a95eeed",
   "metadata": {},
   "outputs": [],
   "source": [
    "x, y, z, t, E = symbols('x y z t E')"
   ]
  },
  {
   "cell_type": "code",
   "execution_count": 13,
   "id": "5e8605b3",
   "metadata": {},
   "outputs": [
    {
     "data": {
      "image/png": "[encoded data removed]",
      "text/latex": [
       "$\\displaystyle \\left( u{\\left(x \\right)}, \\  I{\\left(x \\right)}, \\  q{\\left(x \\right)}\\right)$"
      ],
      "text/plain": [
       "(u(x), I(x), q(x))"
      ]
     },
     "execution_count": 13,
     "metadata": {},
     "output_type": "execute_result"
    }
   ],
   "source": [
    "u = Function('u')(x)\n",
    "I = Function('I')(x)\n",
    "q = Function('q')(x)\n",
    "u, I, q"
   ]
  },
  {
   "cell_type": "code",
   "execution_count": 14,
   "id": "be788fd1",
   "metadata": {},
   "outputs": [
    {
     "data": {
      "image/png": "[encoded data removed]",
      "text/latex": [
       "$\\displaystyle E \\left(I{\\left(x \\right)} \\frac{d^{4}}{d x^{4}} u{\\left(x \\right)} + 2 \\frac{d}{d x} I{\\left(x \\right)} \\frac{d^{3}}{d x^{3}} u{\\left(x \\right)} + \\frac{d^{2}}{d x^{2}} I{\\left(x \\right)} \\frac{d^{2}}{d x^{2}} u{\\left(x \\right)}\\right) + q{\\left(x \\right)}$"
      ],
      "text/plain": [
       "  ⎛       4                      3           2         2      ⎞       \n",
       "  ⎜      d            d         d           d         d       ⎟       \n",
       "E⋅⎜I(x)⋅───(u(x)) + 2⋅──(I(x))⋅───(u(x)) + ───(I(x))⋅───(u(x))⎟ + q(x)\n",
       "  ⎜       4           dx         3           2         2      ⎟       \n",
       "  ⎝     dx                     dx          dx        dx       ⎠       "
      ]
     },
     "execution_count": 14,
     "metadata": {},
     "output_type": "execute_result"
    }
   ],
   "source": [
    "expr = (E * I *u.diff(x,2)).diff(x,2)+q\n",
    "expr"
   ]
  },
  {
   "cell_type": "code",
   "execution_count": 15,
   "id": "7f6fc71c",
   "metadata": {},
   "outputs": [
    {
     "data": {
      "image/png": "[encoded data removed]",
      "text/latex": [
       "$\\displaystyle \\frac{- E \\left(2 \\frac{d}{d x} I{\\left(x \\right)} \\frac{d^{3}}{d x^{3}} u{\\left(x \\right)} + \\frac{d^{2}}{d x^{2}} I{\\left(x \\right)} \\frac{d^{2}}{d x^{2}} u{\\left(x \\right)}\\right) - q{\\left(x \\right)}}{E I{\\left(x \\right)}}$"
      ],
      "text/plain": [
       "    ⎛             3           2         2      ⎞       \n",
       "    ⎜  d         d           d         d       ⎟       \n",
       "- E⋅⎜2⋅──(I(x))⋅───(u(x)) + ───(I(x))⋅───(u(x))⎟ - q(x)\n",
       "    ⎜  dx         3           2         2      ⎟       \n",
       "    ⎝           dx          dx        dx       ⎠       \n",
       "───────────────────────────────────────────────────────\n",
       "                         E⋅I(x)                        "
      ]
     },
     "execution_count": 15,
     "metadata": {},
     "output_type": "execute_result"
    }
   ],
   "source": [
    "simplify(solve(expr, u.diff(x,4))[0])"
   ]
  },
  {
   "cell_type": "markdown",
   "id": "9f51fca0",
   "metadata": {},
   "source": [
    "$$ \\frac{d^2}{dx^2}(EI(x)\\frac{d^2u(x)}{dx^2}) = -q(x) $$\n",
    "\n",
    "\n",
    "$$ \\frac{d^4u(x)}{dx^4} = \\frac{-1}{I\\left(x \\right)} \\left(2 \\frac{dI}{d x} {\\left(x \\right)} \\frac{d^{3}u}{d x^{3}} {\\left(x \\right)} + \\frac{d^{2}I}{d x^{2}} {\\left(x \\right)} \\frac{d^{2}u}{d x^{2}} {\\left(x \\right)} + \\frac {q\\left(x \\right)}{E}\\right)$$"
   ]
  },
  {
   "cell_type": "code",
   "execution_count": null,
   "id": "b2975cfd",
   "metadata": {},
   "outputs": [],
   "source": []
  },
  {
   "cell_type": "code",
   "execution_count": null,
   "id": "22820db8",
   "metadata": {},
   "outputs": [],
   "source": []
  },
  {
   "cell_type": "code",
   "execution_count": 16,
   "id": "070fa78d",
   "metadata": {},
   "outputs": [],
   "source": [
    "from chords.pseudospectral import _v_sum, piecewise, coll_points\n",
    "from numpy import array"
   ]
  },
  {
   "cell_type": "code",
   "execution_count": 17,
   "id": "b15dc58c",
   "metadata": {},
   "outputs": [],
   "source": [
    "def bary_poly_num(t_arr, y_arr):\n",
    "    \"\"\"\n",
    "    Generates a numeric function of t that corresponds to the polynomial\n",
    "    that passes through the points (t, y) using the barycentric formula\n",
    "\n",
    "    Parameters\n",
    "    ----------\n",
    "    t_arr : iterable of floats\n",
    "        values of t\n",
    "    y_arr : iterable of floats\n",
    "        values of y\n",
    "\n",
    "    Returns\n",
    "    -------\n",
    "    polynomial : Function F(t)\n",
    "        polynomial numerical function\n",
    "\n",
    "    \"\"\"\n",
    "    t = symbols(\"t\")\n",
    "    n = len(t_arr)\n",
    "    v_arr = [_v_sum(t_arr, ii) for ii in range(n)]\n",
    "    sup = 0\n",
    "    for i in range(n):\n",
    "        sup += v_arr[i] * y_arr[i] / (t - t_arr[i])\n",
    "    inf = 0\n",
    "    for i in range(n):\n",
    "        inf += v_arr[i] / (t - t_arr[i])\n",
    "    poly_fun = lambdify(\n",
    "        [\n",
    "            t,\n",
    "        ],\n",
    "        sup / inf,\n",
    "    )\n",
    "    \n",
    "    def new_poly(t):\n",
    "        t = array(t, dtype=\"float64\")\n",
    "        cond_list = [t == t_i for t_i in t_arr]\n",
    "        func_list = list(y_arr)\n",
    "        func_list.append(poly_fun)\n",
    "        return piecewise(t, cond_list, func_list)\n",
    "\n",
    "    return new_poly"
   ]
  },
  {
   "cell_type": "code",
   "execution_count": 18,
   "id": "d69681a2",
   "metadata": {},
   "outputs": [
    {
     "data": {
      "image/png": "[encoded data removed]",
      "text/plain": [
       "<Figure size 640x480 with 1 Axes>"
      ]
     },
     "metadata": {},
     "output_type": "display_data"
    }
   ],
   "source": [
    "_a = bary_poly_num([-1,0,1,2,3,4], [2,1,2,1,2,1])\n",
    "_t = np.linspace(-1,4,200)\n",
    "plt.plot(_t, _a(_t))\n",
    "plt.grid()"
   ]
  },
  {
   "cell_type": "code",
   "execution_count": 19,
   "id": "01c6e36f",
   "metadata": {},
   "outputs": [
    {
     "data": {
      "image/png": "[encoded data removed]",
      "text/latex": [
       "$\\displaystyle \\left[ -0.906179845938664, \\  -0.5384693101056831, \\  0, \\  0.5384693101056831, \\  0.906179845938664\\right]$"
      ],
      "text/plain": [
       "[-0.906179845938664, -0.5384693101056831, 0, 0.5384693101056831, 0.906179845938664]"
      ]
     },
     "execution_count": 19,
     "metadata": {},
     "output_type": "execute_result"
    }
   ],
   "source": [
    "coll_points(5, 'LG')"
   ]
  },
  {
   "cell_type": "code",
   "execution_count": 20,
   "id": "31149273",
   "metadata": {},
   "outputs": [],
   "source": [
    "from sympy import legendre_poly, jacobi_poly, evalf"
   ]
  },
  {
   "cell_type": "code",
   "execution_count": 21,
   "id": "5d8de494",
   "metadata": {},
   "outputs": [
    {
     "data": {
      "image/png": "[encoded data removed]",
      "text/latex": [
       "$\\displaystyle \\operatorname{PurePoly}{\\left( \\frac{34461632205}{262144} x^{20} -  \\frac{83945001525}{131072} x^{18} + \\frac{347123925225}{262144} x^{16} -  \\frac{49589132175}{32768} x^{14} + \\frac{136745788725}{131072} x^{12} -  \\frac{29113619535}{65536} x^{10} + \\frac{15058768725}{131072} x^{8} -  \\frac{557732175}{32768} x^{6} + \\frac{334639305}{262144} x^{4} -  \\frac{4849845}{131072} x^{2} + \\frac{46189}{262144}, x, domain=\\mathbb{Q} \\right)}$"
      ],
      "text/plain": [
       "PurePoly(34461632205/262144*_x**20 - 83945001525/131072*_x**18 + 347123925225/262144*_x**16 - 49589132175/32768*_x**14 + 136745788725/131072*_x**12 - 29113619535/65536*_x**10 + 15058768725/131\n",
       "072*_x**8 - 557732175/32768*_x**6 + 334639305/262144*_x**4 - 4849845/131072*_x**2 + 46189/262144, _x, domain='QQ')"
      ]
     },
     "execution_count": 21,
     "metadata": {},
     "output_type": "execute_result"
    }
   ],
   "source": [
    "N = 20\n",
    "_a =legendre_poly(N, polys=True)\n",
    "_a"
   ]
  },
  {
   "cell_type": "code",
   "execution_count": 22,
   "id": "624a33a8",
   "metadata": {},
   "outputs": [
    {
     "data": {
      "image/png": "[encoded data removed]",
      "text/latex": [
       "$\\displaystyle \\operatorname{PurePoly}{\\left( \\frac{172308161025}{65536} x^{19} -  \\frac{755505013725}{65536} x^{17} + \\frac{347123925225}{16384} x^{15} -  \\frac{347123925225}{16384} x^{13} + \\frac{410237366175}{32768} x^{11} -  \\frac{145568097675}{32768} x^{9} + \\frac{15058768725}{16384} x^{7} -  \\frac{1673196525}{16384} x^{5} + \\frac{334639305}{65536} x^{3} -  \\frac{4849845}{65536} x, x, domain=\\mathbb{Q} \\right)}$"
      ],
      "text/plain": [
       "PurePoly(172308161025/65536*_x**19 - 755505013725/65536*_x**17 + 347123925225/16384*_x**15 - 347123925225/16384*_x**13 + 410237366175/32768*_x**11 - 145568097675/32768*_x**9 + 15058768725/1638\n",
       "4*_x**7 - 1673196525/16384*_x**5 + 334639305/65536*_x**3 - 4849845/65536*_x, _x, domain='QQ')"
      ]
     },
     "execution_count": 22,
     "metadata": {},
     "output_type": "execute_result"
    }
   ],
   "source": [
    "_a.diff()"
   ]
  },
  {
   "cell_type": "code",
   "execution_count": 23,
   "id": "75870869",
   "metadata": {},
   "outputs": [],
   "source": [
    "from functools import lru_cache\n",
    "from math import ceil"
   ]
  },
  {
   "cell_type": "code",
   "execution_count": 24,
   "id": "d7defb78",
   "metadata": {},
   "outputs": [],
   "source": [
    "@lru_cache(maxsize=2000)\n",
    "def LG_weight(N, i, precission = 20):\n",
    "    Pn = legendre_poly(N, polys=True)\n",
    "    Pn_d = Pn.diff()\n",
    "    xi = coll_points(N, 'LG', precission)[i]\n",
    "    wi = 2/((1-xi**2) * (Pn_d.eval(xi)**2))\n",
    "    return wi"
   ]
  },
  {
   "cell_type": "code",
   "execution_count": 25,
   "id": "8c4107d9",
   "metadata": {},
   "outputs": [
    {
     "data": {
      "image/png": "[encoded data removed]",
      "text/latex": [
       "$\\displaystyle 0.219086362515982044$"
      ],
      "text/plain": [
       "0.21908636251598204400"
      ]
     },
     "execution_count": 25,
     "metadata": {},
     "output_type": "execute_result"
    }
   ],
   "source": [
    "LG_weight(10,2)"
   ]
  },
  {
   "cell_type": "code",
   "execution_count": 26,
   "id": "fb23812d",
   "metadata": {},
   "outputs": [],
   "source": [
    "def gauss_integral(f, N, t0, t1):\n",
    "    scale = t1-t0\n",
    "    points = (array(coll_points(N, 'LG'))+1)/2\n",
    "    points = t0 + scale*points\n",
    "    weights = [LG_weight(N, ii) for ii in range(N)]\n",
    "    _a = [weights[ii]*f(points[ii]) for ii in range(N)]\n",
    "    return scale*np.sum(_a)/2"
   ]
  },
  {
   "cell_type": "code",
   "execution_count": 27,
   "id": "2a956343",
   "metadata": {},
   "outputs": [],
   "source": [
    "def f_integral(f, N, t0, t1):\n",
    "    scale = t1-t0\n",
    "    points = (array(coll_points(N, 'LG'))+1)/2\n",
    "    points = t0 + scale*points\n",
    "    points = list(points)\n",
    "    N_gauss = ceil((N+1)/2)\n",
    "    y = [gauss_integral(f, N_gauss, t0, ii) for ii in points]\n",
    "    points = [t0,] + points\n",
    "    y = [0,] + y\n",
    "    return bary_poly_num(points, y)"
   ]
  },
  {
   "cell_type": "code",
   "execution_count": 28,
   "id": "660baa4f",
   "metadata": {},
   "outputs": [
    {
     "data": {
      "image/png": "[encoded data removed]",
      "text/plain": [
       "<Figure size 640x480 with 1 Axes>"
      ]
     },
     "metadata": {},
     "output_type": "display_data"
    }
   ],
   "source": [
    "_a = bary_poly_num([-1,0,1,2,3,4], [2,-1,2,1,-2,1])\n",
    "_t = np.linspace(-1,4,2000)\n",
    "plt.plot(_t, _a(_t), '.')\n",
    "plt.grid()"
   ]
  },
  {
   "cell_type": "code",
   "execution_count": 29,
   "id": "ee2bcb98",
   "metadata": {},
   "outputs": [
    {
     "data": {
      "image/png": "[encoded data removed]",
      "text/plain": [
       "<Figure size 640x480 with 1 Axes>"
      ]
     },
     "metadata": {},
     "output_type": "display_data"
    }
   ],
   "source": [
    "_b = f_integral(_a, 6, -1, 4)\n",
    "plt.plot(_t, _b(_t), '.')\n",
    "plt.grid()"
   ]
  },
  {
   "cell_type": "code",
   "execution_count": 30,
   "id": "b13befc5",
   "metadata": {},
   "outputs": [
    {
     "data": {
      "image/png": "[encoded data removed]",
      "text/plain": [
       "<Figure size 640x480 with 1 Axes>"
      ]
     },
     "metadata": {},
     "output_type": "display_data"
    }
   ],
   "source": [
    "plt.plot(_t, np.gradient(_b(_t), _t, edge_order=2), '.')\n",
    "plt.grid()"
   ]
  },
  {
   "cell_type": "code",
   "execution_count": 31,
   "id": "0c59cc99",
   "metadata": {},
   "outputs": [
    {
     "data": {
      "image/png": "[encoded data removed]",
      "text/plain": [
       "<Figure size 640x480 with 1 Axes>"
      ]
     },
     "metadata": {},
     "output_type": "display_data"
    }
   ],
   "source": [
    "plt.plot(_t, np.abs(np.gradient(_b(_t), _t, edge_order=2)-_a(_t)), '.')\n",
    "plt.grid()"
   ]
  },
  {
   "cell_type": "code",
   "execution_count": null,
   "id": "a387dd64",
   "metadata": {},
   "outputs": [],
   "source": []
  },
  {
   "cell_type": "code",
   "execution_count": null,
   "id": "e1bd0828",
   "metadata": {},
   "outputs": [],
   "source": []
  },
  {
   "cell_type": "code",
   "execution_count": 32,
   "id": "8d4395d4",
   "metadata": {},
   "outputs": [],
   "source": [
    "def deletezeros(expr, tol = 1e-14):\n",
    "    expr2 = expr\n",
    "    for a in preorder_traversal(expr):\n",
    "        if isinstance(a, Float):\n",
    "            if abs(a) < tol:\n",
    "                expr2 = expr2.subs(a, 0)\n",
    "    return expr2"
   ]
  },
  {
   "cell_type": "code",
   "execution_count": 33,
   "id": "5aba323d",
   "metadata": {},
   "outputs": [],
   "source": [
    "def bary_poly_sym(t_arr, y_arr):\n",
    "    \"\"\"\n",
    "    Generates a symbolic function of t that corresponds to the polynomial\n",
    "    that passes through the points (t, y) using the barycentric formula\n",
    "\n",
    "    Parameters\n",
    "    ----------\n",
    "    t_arr : iterable of floats\n",
    "        values of t\n",
    "    y_arr : iterable of floats\n",
    "        values of y\n",
    "\n",
    "    Returns\n",
    "    -------\n",
    "    polynomial : Function F(t)\n",
    "        polynomial numerical function\n",
    "\n",
    "    \"\"\"\n",
    "    t = symbols(\"t\")\n",
    "    n = len(t_arr)\n",
    "    v_arr = [_v_sum(t_arr, ii) for ii in range(n)]\n",
    "    sup = 0\n",
    "    for i in range(n):\n",
    "        sup += v_arr[i] * y_arr[i] / (t - t_arr[i])\n",
    "    inf = 0\n",
    "    for i in range(n):\n",
    "        inf += v_arr[i] / (t - t_arr[i])\n",
    "    poly_fun = sup / inf\n",
    "\n",
    "    return poly_fun"
   ]
  },
  {
   "cell_type": "code",
   "execution_count": 34,
   "id": "260daf7d",
   "metadata": {},
   "outputs": [],
   "source": [
    "def poly_sym(t_arr, y_arr):\n",
    "    \"\"\"\n",
    "    Generates a symbolic function of t that corresponds to the polynomial\n",
    "    that passes through the points (t, y)\n",
    "\n",
    "    Parameters\n",
    "    ----------\n",
    "    t_arr : iterable of floats\n",
    "        values of t\n",
    "    y_arr : iterable of floats\n",
    "        values of y\n",
    "\n",
    "    Returns\n",
    "    -------\n",
    "    polynomial : Function F(t)\n",
    "        polynomial numerical function\n",
    "\n",
    "    \"\"\"\n",
    "    t = symbols(\"t\")\n",
    "    n = len(t_arr)\n",
    "    v_arr = [_v_sum(t_arr, ii) for ii in range(n)]\n",
    "    sup = 0\n",
    "    for i in range(n):\n",
    "        sup += v_arr[i] * y_arr[i] / (t - t_arr[i])\n",
    "    inf = 0\n",
    "    for i in range(n):\n",
    "        inf += v_arr[i] / (t - t_arr[i])\n",
    "    poly_fun = sup / inf\n",
    "\n",
    "    return deletezeros(simplify(poly_fun))"
   ]
  },
  {
   "cell_type": "code",
   "execution_count": 35,
   "id": "c2585629",
   "metadata": {},
   "outputs": [],
   "source": [
    "_a = bary_poly_sym([-1,0,1,2,3,4], [2,1,-2,1,-2,1])"
   ]
  },
  {
   "cell_type": "code",
   "execution_count": 36,
   "id": "a8550a9e",
   "metadata": {
    "scrolled": true
   },
   "outputs": [
    {
     "data": {
      "image/png": "[encoded data removed]",
      "text/latex": [
       "$\\displaystyle \\frac{- \\frac{0.0166666666666667}{t + 1} + \\frac{0.166666666666667}{t - 1} + \\frac{0.0833333333333333}{t - 2} + \\frac{0.0833333333333333}{t - 3} + \\frac{0.00833333333333333}{t - 4} + \\frac{0.0416666666666667}{t}}{- \\frac{0.00833333333333333}{t + 1} - \\frac{0.0833333333333333}{t - 1} + \\frac{0.0833333333333333}{t - 2} - \\frac{0.0416666666666667}{t - 3} + \\frac{0.00833333333333333}{t - 4} + \\frac{0.0416666666666667}{t}}$"
      ],
      "text/plain": [
       "   0.0166666666666667   0.166666666666667   0.0833333333333333   0.0833333333333333   0.00833333333333333   0.0416666666666667 \n",
       " - ────────────────── + ───────────────── + ────────────────── + ────────────────── + ─────────────────── + ────────────────── \n",
       "         t + 1                t - 1               t - 2                t - 3                 t - 4                  t          \n",
       "───────────────────────────────────────────────────────────────────────────────────────────────────────────────────────────────\n",
       "  0.00833333333333333   0.0833333333333333   0.0833333333333333   0.0416666666666667   0.00833333333333333   0.0416666666666667\n",
       "- ─────────────────── - ────────────────── + ────────────────── - ────────────────── + ─────────────────── + ──────────────────\n",
       "         t + 1                t - 1                t - 2                t - 3                 t - 4                  t         "
      ]
     },
     "execution_count": 36,
     "metadata": {},
     "output_type": "execute_result"
    }
   ],
   "source": [
    "_a"
   ]
  },
  {
   "cell_type": "code",
   "execution_count": null,
   "id": "0df33109",
   "metadata": {},
   "outputs": [],
   "source": []
  },
  {
   "cell_type": "code",
   "execution_count": null,
   "id": "f4ea8602",
   "metadata": {},
   "outputs": [],
   "source": []
  },
  {
   "cell_type": "code",
   "execution_count": 37,
   "id": "10d47e26",
   "metadata": {},
   "outputs": [],
   "source": [
    "from chords.symbolic import diff_to_symb_expr"
   ]
  },
  {
   "cell_type": "code",
   "execution_count": 38,
   "id": "ee9a460b",
   "metadata": {},
   "outputs": [
    {
     "data": {
      "image/png": "[encoded data removed]",
      "text/latex": [
       "$\\displaystyle q_{1}^{2} + \\sin{\\left(q_{1}^{2} \\right)} + \\cos^{3}{\\left(\\dot{q}_{2} \\right)} + \\operatorname{acos}{\\left(q_{1} \\right)}$"
      ],
      "text/plain": [
       "  2      ⎛  2⎞      3               \n",
       "q₁  + sin⎝q₁ ⎠ + cos (q₂̇) + acos(q₁)"
      ]
     },
     "execution_count": 38,
     "metadata": {},
     "output_type": "execute_result"
    }
   ],
   "source": [
    "x = q1**2 + cos(q2.diff())**3 + sin(q1**2) + acos(q1)\n",
    "x"
   ]
  },
  {
   "cell_type": "code",
   "execution_count": 39,
   "id": "2b572b04",
   "metadata": {},
   "outputs": [],
   "source": [
    "from chords.symbolic import print_funcs"
   ]
  },
  {
   "cell_type": "code",
   "execution_count": 40,
   "id": "0475d504",
   "metadata": {},
   "outputs": [
    {
     "name": "stdout",
     "output_type": "stream",
     "text": [
      "def F(x, ):\n",
      "    q_0, q_1, q_2, v_0, v_1, v_2 = unpack(x)\n",
      "    result = q_1**2 + np.sin(q_1**2) + np.cos(v_2)**3 + np.arccos(q_1)\n",
      "\n",
      "    return result\n",
      "\n"
     ]
    },
    {
     "data": {
      "text/plain": [
       "'def F(x, ):\\n    q_0, q_1, q_2, v_0, v_1, v_2 = unpack(x)\\n    result = q_1**2 + np.sin(q_1**2) + np.cos(v_2)**3 + np.arccos(q_1)\\n\\n    return result\\n'"
      ]
     },
     "execution_count": 40,
     "metadata": {},
     "output_type": "execute_result"
    }
   ],
   "source": [
    "print_funcs(x,3)"
   ]
  },
  {
   "cell_type": "code",
   "execution_count": null,
   "id": "e7208328",
   "metadata": {},
   "outputs": [],
   "source": []
  },
  {
   "cell_type": "code",
   "execution_count": 41,
   "id": "a146ffbc",
   "metadata": {},
   "outputs": [],
   "source": [
    "x, a, b, c, d, t, h= symbols('x a b c d t h')\n",
    "t0, t1, t2, t3, t4 = symbols('t_0 t_1 t_2 t_3 t_4')"
   ]
  },
  {
   "cell_type": "code",
   "execution_count": 42,
   "id": "b50b7f36",
   "metadata": {},
   "outputs": [
    {
     "data": {
      "image/png": "[encoded data removed]",
      "text/latex": [
       "$\\displaystyle \\cos{\\left(a - b \\right)}$"
      ],
      "text/plain": [
       "cos(a - b)"
      ]
     },
     "execution_count": 42,
     "metadata": {},
     "output_type": "execute_result"
    }
   ],
   "source": [
    "sin(pi/2 + a-b)"
   ]
  },
  {
   "cell_type": "code",
   "execution_count": 43,
   "id": "26ce3062",
   "metadata": {},
   "outputs": [
    {
     "data": {
      "image/png": "[encoded data removed]",
      "text/latex": [
       "$\\displaystyle a + \\frac{t \\left(- a + b\\right)}{h}$"
      ],
      "text/plain": [
       "    t⋅(-a + b)\n",
       "a + ──────────\n",
       "        h     "
      ]
     },
     "execution_count": 43,
     "metadata": {},
     "output_type": "execute_result"
    }
   ],
   "source": [
    "rect = a+ (b-a)/h*t\n",
    "rect"
   ]
  },
  {
   "cell_type": "code",
   "execution_count": 44,
   "id": "9e3090a7",
   "metadata": {},
   "outputs": [
    {
     "data": {
      "image/png": "[encoded data removed]",
      "text/latex": [
       "$\\displaystyle \\frac{h \\left(a^{2} + a b + b^{2}\\right)}{3}$"
      ],
      "text/plain": [
       "  ⎛ 2          2⎞\n",
       "h⋅⎝a  + a⋅b + b ⎠\n",
       "─────────────────\n",
       "        3        "
      ]
     },
     "execution_count": 44,
     "metadata": {},
     "output_type": "execute_result"
    }
   ],
   "source": [
    "form = integrate(expand(rect**2), (t, 0, h))\n",
    "form = simplify(form)\n",
    "factor(form)"
   ]
  },
  {
   "cell_type": "code",
   "execution_count": 45,
   "id": "3f423b45",
   "metadata": {},
   "outputs": [
    {
     "data": {
      "image/png": "[encoded data removed]",
      "text/latex": [
       "$\\displaystyle a - \\frac{t \\left(3 a - 4 b + c\\right)}{h} + \\frac{t^{2} \\cdot \\left(2 a - 4 b + 2 c\\right)}{h^{2}}$"
      ],
      "text/plain": [
       "                         2                  \n",
       "    t⋅(3⋅a - 4⋅b + c)   t ⋅(2⋅a - 4⋅b + 2⋅c)\n",
       "a - ───────────────── + ────────────────────\n",
       "            h                     2         \n",
       "                                 h          "
      ]
     },
     "execution_count": 45,
     "metadata": {},
     "output_type": "execute_result"
    }
   ],
   "source": [
    "parab = a - t/h* (3*a-4*b+c) + t**2/h**2 * (2*a -4*b +2*c)\n",
    "parab"
   ]
  },
  {
   "cell_type": "code",
   "execution_count": 46,
   "id": "624ffbd2",
   "metadata": {},
   "outputs": [
    {
     "data": {
      "image/png": "[encoded data removed]",
      "text/latex": [
       "$\\displaystyle \\frac{h \\left(2 a^{2} + 2 a b - a c + 8 b^{2} + 2 b c + 2 c^{2}\\right)}{15}$"
      ],
      "text/plain": [
       "  ⎛   2                    2              2⎞\n",
       "h⋅⎝2⋅a  + 2⋅a⋅b - a⋅c + 8⋅b  + 2⋅b⋅c + 2⋅c ⎠\n",
       "────────────────────────────────────────────\n",
       "                     15                     "
      ]
     },
     "execution_count": 46,
     "metadata": {},
     "output_type": "execute_result"
    }
   ],
   "source": [
    "form = integrate(expand(parab**2), (t, 0, h))\n",
    "form = simplify(form)\n",
    "factor(form)"
   ]
  },
  {
   "cell_type": "code",
   "execution_count": 47,
   "id": "2b5ef3b8",
   "metadata": {},
   "outputs": [
    {
     "data": {
      "image/png": "[encoded data removed]",
      "text/latex": [
       "$\\displaystyle - \\frac{3 a - 4 b + c}{h} + \\frac{2 t \\left(2 a - 4 b + 2 c\\right)}{h^{2}}$"
      ],
      "text/plain": [
       "  3⋅a - 4⋅b + c   2⋅t⋅(2⋅a - 4⋅b + 2⋅c)\n",
       "- ───────────── + ─────────────────────\n",
       "        h                    2         \n",
       "                            h          "
      ]
     },
     "execution_count": 47,
     "metadata": {},
     "output_type": "execute_result"
    }
   ],
   "source": [
    "parab.diff(t)"
   ]
  },
  {
   "cell_type": "code",
   "execution_count": 48,
   "id": "7724ec99",
   "metadata": {},
   "outputs": [
    {
     "data": {
      "image/png": "[encoded data removed]",
      "text/latex": [
       "$\\displaystyle \\frac{7 a^{2} - 16 a b + 2 a c + 16 b^{2} - 16 b c + 7 c^{2}}{3 h}$"
      ],
      "text/plain": [
       "   2                        2               2\n",
       "7⋅a  - 16⋅a⋅b + 2⋅a⋅c + 16⋅b  - 16⋅b⋅c + 7⋅c \n",
       "─────────────────────────────────────────────\n",
       "                     3⋅h                     "
      ]
     },
     "execution_count": 48,
     "metadata": {},
     "output_type": "execute_result"
    }
   ],
   "source": [
    "form_2 = integrate(expand(parab.diff(t)**2), (t, 0, h))\n",
    "form_2 = simplify(form_2)\n",
    "factor(form_2)"
   ]
  },
  {
   "cell_type": "code",
   "execution_count": null,
   "id": "56455a0d",
   "metadata": {},
   "outputs": [],
   "source": []
  },
  {
   "cell_type": "code",
   "execution_count": null,
   "id": "43e65df6",
   "metadata": {},
   "outputs": [],
   "source": []
  },
  {
   "cell_type": "code",
   "execution_count": null,
   "id": "49499883",
   "metadata": {},
   "outputs": [],
   "source": []
  },
  {
   "cell_type": "code",
   "execution_count": 49,
   "id": "5c92edca",
   "metadata": {},
   "outputs": [],
   "source": [
    "from sympy.printing.numpy import NumPyPrinter\n",
    "\n",
    "def printer(x):\n",
    "    np_printer = NumPyPrinter()\n",
    "    return np_printer.doprint(x)"
   ]
  },
  {
   "cell_type": "code",
   "execution_count": 50,
   "id": "bb66dc2b",
   "metadata": {},
   "outputs": [
    {
     "data": {
      "text/plain": [
       "'(1/15)*h*(2*a**2 + 2*a*b - a*c + 8*b**2 + 2*b*c + 2*c**2)'"
      ]
     },
     "execution_count": 50,
     "metadata": {},
     "output_type": "execute_result"
    }
   ],
   "source": [
    "printer(form)"
   ]
  },
  {
   "cell_type": "code",
   "execution_count": null,
   "id": "a8df28aa",
   "metadata": {},
   "outputs": [],
   "source": []
  },
  {
   "cell_type": "code",
   "execution_count": null,
   "id": "4bd6d8f1",
   "metadata": {},
   "outputs": [],
   "source": []
  },
  {
   "cell_type": "code",
   "execution_count": 51,
   "id": "46f63172",
   "metadata": {},
   "outputs": [
    {
     "data": {
      "image/png": "[encoded data removed]",
      "text/latex": [
       "$\\displaystyle a x^{3} + b x^{2} + c x + d$"
      ],
      "text/plain": [
       "   3      2          \n",
       "a⋅x  + b⋅x  + c⋅x + d"
      ]
     },
     "execution_count": 51,
     "metadata": {},
     "output_type": "execute_result"
    }
   ],
   "source": [
    "polin = a*x**3 + b*x**2 + c*x + d\n",
    "polin"
   ]
  },
  {
   "cell_type": "code",
   "execution_count": 52,
   "id": "c59e26af",
   "metadata": {},
   "outputs": [
    {
     "data": {
      "image/png": "[encoded data removed]",
      "text/latex": [
       "$\\displaystyle \\left[ a t_{0}^{3} + b t_{0}^{2} + c t_{0} + d, \\  a t_{1}^{3} + b t_{1}^{2} + c t_{1} + d, \\  a t_{2}^{3} + b t_{2}^{2} + c t_{2} + d, \\  a t_{3}^{3} + b t_{3}^{2} + c t_{3} + d\\right]$"
      ],
      "text/plain": [
       "⎡    3       2                 3       2                 3       2                 3       2           ⎤\n",
       "⎣a⋅t₀  + b⋅t₀  + c⋅t₀ + d, a⋅t₁  + b⋅t₁  + c⋅t₁ + d, a⋅t₂  + b⋅t₂  + c⋅t₂ + d, a⋅t₃  + b⋅t₃  + c⋅t₃ + d⎦"
      ]
     },
     "execution_count": 52,
     "metadata": {},
     "output_type": "execute_result"
    }
   ],
   "source": [
    "x_n = [polin.subs(x, ii) for ii in [t0, t1, t2, t3]]\n",
    "x_n"
   ]
  },
  {
   "cell_type": "code",
   "execution_count": 53,
   "id": "cdfe429e",
   "metadata": {},
   "outputs": [
    {
     "data": {
      "image/png": "[encoded data removed]",
      "text/latex": [
       "$\\displaystyle 3 a x^{2} + 2 b x + c$"
      ],
      "text/plain": [
       "     2            \n",
       "3⋅a⋅x  + 2⋅b⋅x + c"
      ]
     },
     "execution_count": 53,
     "metadata": {},
     "output_type": "execute_result"
    }
   ],
   "source": [
    "pol_dif = polin.diff(x)\n",
    "pol_dif"
   ]
  },
  {
   "cell_type": "code",
   "execution_count": null,
   "id": "5e1c5574",
   "metadata": {},
   "outputs": [],
   "source": []
  },
  {
   "cell_type": "code",
   "execution_count": 54,
   "id": "993a5412",
   "metadata": {},
   "outputs": [],
   "source": [
    "def x_roots(n):\n",
    "    return roots_jacobi(n+1, 1, 0)[0]\n",
    "def element(x, xm, xj):\n",
    "    return (x-xm)/(xj-xm)\n",
    "\n",
    "def L_pol(j,k):\n",
    "    prod = 1\n",
    "    #x_list = symbols(f'x_0:{k+1}')\n",
    "    x_list = x_roots(k)\n",
    "    for m in range(k+1):\n",
    "        if m != j:\n",
    "            prod *= element(x, x_list[m], x_list[j])\n",
    "    return expand(prod) \n",
    "\n",
    "def L_pol_sym(j,k):\n",
    "    prod = 1\n",
    "    x_list = symbols(f'x_0:{k+1}')\n",
    "    #x_list = x_roots(k)\n",
    "    for m in range(k+1):\n",
    "        if m != j:\n",
    "            prod *= element(x, x_list[m], x_list[j])\n",
    "    return expand(prod) \n",
    "\n",
    "def lagpol(n):\n",
    "    sumat = 0\n",
    "    q_list = symbols(f'f_0:{n+2}')\n",
    "    for ii in range(n+1):\n",
    "        sumat += L_pol(ii, n)*q_list[ii]\n",
    "    return sumat\n",
    "\n",
    "def lagpol_sym(n):\n",
    "    sumat = 0\n",
    "    q_list = symbols(f'f_0:{n+2}')\n",
    "    for ii in range(n+1):\n",
    "        sumat += L_pol_sym(ii, n)*q_list[ii]\n",
    "    return sumat\n",
    "\n",
    "def abcpol(n):\n",
    "    abc = symbols(f'a b c d e f g h i j k l m n o p q r s t u v w a_0:{max(0,n-22)}')\n",
    "    sumat = 0\n",
    "    for ii in range(n+1):\n",
    "        sumat += abc[ii]*x**ii\n",
    "    return sumat\n",
    "\n",
    "def lagpol_abc(n):\n",
    "    sumat = 0\n",
    "    x_list = x_roots(n)\n",
    "    abc = abcpol(2*n-1)\n",
    "    q_list = [abc.subs(x, x_list[ii]) for ii in range(n+1)]\n",
    "    for ii in range(n+1):\n",
    "        sumat += L_pol(ii, n)*q_list[ii]\n",
    "    return sumat"
   ]
  },
  {
   "cell_type": "code",
   "execution_count": 55,
   "id": "5eac20e2",
   "metadata": {},
   "outputs": [
    {
     "data": {
      "image/png": "[encoded data removed]",
      "text/latex": [
       "$\\displaystyle f_{0} + \\frac{x \\left(- 3 f_{0} + 4 f_{1} - f_{2}\\right)}{h} + \\frac{x^{2} \\cdot \\left(2 f_{0} - 4 f_{1} + 2 f_{2}\\right)}{h^{2}}$"
      ],
      "text/plain": [
       "                              2                     \n",
       "     x⋅(-3⋅f₀ + 4⋅f₁ - f₂)   x ⋅(2⋅f₀ - 4⋅f₁ + 2⋅f₂)\n",
       "f₀ + ───────────────────── + ───────────────────────\n",
       "               h                         2          \n",
       "                                        h           "
      ]
     },
     "execution_count": 55,
     "metadata": {},
     "output_type": "execute_result"
    }
   ],
   "source": [
    "psi_accel_hs = lagpol_sym(2).subs([\n",
    "    [symbols('x_0'), 0],\n",
    "    [symbols('x_1'), h*Rational(1,2)],\n",
    "    [symbols('x_2'), h]    \n",
    "]).expand().collect(h).collect(x)\n",
    "psi_accel_hs"
   ]
  },
  {
   "cell_type": "code",
   "execution_count": 56,
   "id": "5654d344",
   "metadata": {},
   "outputs": [
    {
     "data": {
      "image/png": "[encoded data removed]",
      "text/latex": [
       "$\\displaystyle f_{0} t + q^{(M-1)}_0 + \\frac{t^{2} \\left(- 3 f_{0} + 4 f_{1} - f_{2}\\right)}{2 h} + \\frac{t^{3} \\cdot \\left(2 f_{0} - 4 f_{1} + 2 f_{2}\\right)}{3 h^{2}}$"
      ],
      "text/plain": [
       "                       2                        3                     \n",
       "                      t ⋅(-3⋅f₀ + 4⋅f₁ - f₂)   t ⋅(2⋅f₀ - 4⋅f₁ + 2⋅f₂)\n",
       "f₀⋅t + q_0__{(M-1)} + ────────────────────── + ───────────────────────\n",
       "                               2⋅h                          2         \n",
       "                                                         3⋅h          "
      ]
     },
     "execution_count": 56,
     "metadata": {},
     "output_type": "execute_result"
    }
   ],
   "source": [
    "exp = integrate(psi_accel_hs, (x, 0, t))+symbols('q^{(M-1)}_0')\n",
    "exp"
   ]
  },
  {
   "cell_type": "code",
   "execution_count": 57,
   "id": "cbf7e64e",
   "metadata": {},
   "outputs": [
    {
     "data": {
      "image/png": "[encoded data removed]",
      "text/latex": [
       "$\\displaystyle \\frac{f_{0} t^{2}}{2} + q^{(M-1)}_0 t + q^{(M-4)}_0 + \\frac{t^{3} \\left(- 3 f_{0} + 4 f_{1} - f_{2}\\right)}{6 h} + \\frac{t^{4} \\left(f_{0} - 2 f_{1} + f_{2}\\right)}{6 h^{2}}$"
      ],
      "text/plain": [
       "    2                                    3                        4                 \n",
       "f₀⋅t                                    t ⋅(-3⋅f₀ + 4⋅f₁ - f₂)   t ⋅(f₀ - 2⋅f₁ + f₂)\n",
       "───── + q_0__{(M-1)}⋅t + q_0__{(M-4)} + ────────────────────── + ───────────────────\n",
       "  2                                              6⋅h                        2       \n",
       "                                                                         6⋅h        "
      ]
     },
     "execution_count": 57,
     "metadata": {},
     "output_type": "execute_result"
    }
   ],
   "source": [
    "exp = integrate(exp, (t, 0, t))+symbols('q^{(M-4)}_0')\n",
    "exp"
   ]
  },
  {
   "cell_type": "code",
   "execution_count": 58,
   "id": "301b0305",
   "metadata": {},
   "outputs": [],
   "source": [
    "from math import factorial"
   ]
  },
  {
   "cell_type": "code",
   "execution_count": null,
   "id": "d0c84d6e",
   "metadata": {},
   "outputs": [],
   "source": []
  },
  {
   "cell_type": "code",
   "execution_count": null,
   "id": "ac6901b1",
   "metadata": {},
   "outputs": [],
   "source": []
  },
  {
   "cell_type": "code",
   "execution_count": 59,
   "id": "4e35e930",
   "metadata": {},
   "outputs": [
    {
     "data": {
      "image/png": "[encoded data removed]",
      "text/latex": [
       "$\\displaystyle f_{0} + \\frac{x \\left(- f_{0} + f_{1}\\right)}{h}$"
      ],
      "text/plain": [
       "     x⋅(-f₀ + f₁)\n",
       "f₀ + ────────────\n",
       "          h      "
      ]
     },
     "execution_count": 59,
     "metadata": {},
     "output_type": "execute_result"
    }
   ],
   "source": [
    "psi_accel_tz = lagpol_sym(1).subs([\n",
    "    [symbols('x_0'), 0],\n",
    "    [symbols('x_1'), h]    \n",
    "]).expand().collect(h).collect(x)\n",
    "psi_accel_tz"
   ]
  },
  {
   "cell_type": "code",
   "execution_count": 60,
   "id": "6c50fc48",
   "metadata": {},
   "outputs": [
    {
     "data": {
      "image/png": "[encoded data removed]",
      "text/latex": [
       "$\\displaystyle f_{0} t + q^{(M-1)}_0 + \\frac{t^{2} \\left(- f_{0} + f_{1}\\right)}{2 h}$"
      ],
      "text/plain": [
       "                       2           \n",
       "                      t ⋅(-f₀ + f₁)\n",
       "f₀⋅t + q_0__{(M-1)} + ─────────────\n",
       "                           2⋅h     "
      ]
     },
     "execution_count": 60,
     "metadata": {},
     "output_type": "execute_result"
    }
   ],
   "source": [
    "exp = integrate(psi_accel_tz, (x, 0, t))+symbols('q^{(M-1)}_0')\n",
    "exp"
   ]
  },
  {
   "cell_type": "code",
   "execution_count": 61,
   "id": "619cdea2",
   "metadata": {},
   "outputs": [
    {
     "data": {
      "image/png": "[encoded data removed]",
      "text/latex": [
       "$\\displaystyle \\frac{f_{0} t^{2}}{2} + q^{(M-1)}_0 t + q^{(M-2)}_0 + \\frac{t^{3} \\left(- f_{0} + f_{1}\\right)}{6 h}$"
      ],
      "text/plain": [
       "    2                                    3           \n",
       "f₀⋅t                                    t ⋅(-f₀ + f₁)\n",
       "───── + q_0__{(M-1)}⋅t + q_0__{(M-2)} + ─────────────\n",
       "  2                                          6⋅h     "
      ]
     },
     "execution_count": 61,
     "metadata": {},
     "output_type": "execute_result"
    }
   ],
   "source": [
    "exp = integrate(exp, (t, 0, t))+symbols('q^{(M-2)}_0')\n",
    "exp"
   ]
  },
  {
   "cell_type": "code",
   "execution_count": null,
   "id": "92886a47",
   "metadata": {},
   "outputs": [],
   "source": []
  },
  {
   "cell_type": "code",
   "execution_count": 62,
   "id": "32e620cb",
   "metadata": {},
   "outputs": [],
   "source": [
    "import importlib"
   ]
  },
  {
   "cell_type": "markdown",
   "id": "0a20773a",
   "metadata": {},
   "source": [
    "import chords\n",
    "importlib.reload(chords.bu_pseudospectral)\n",
    "importlib.reload(chords.util)"
   ]
  },
  {
   "cell_type": "code",
   "execution_count": 63,
   "id": "fe918388",
   "metadata": {},
   "outputs": [],
   "source": [
    "from chords.bu_pseudospectral import (\n",
    "    Integration_Matrix, tau_to_t_points, BU_coll_points, BU_construction_points, _matrix_D_bary,\n",
    ")\n",
    "from chords.pseudospectral import LG, bary_poly\n",
    "from chords.util import poly_integral"
   ]
  },
  {
   "cell_type": "code",
   "execution_count": 64,
   "id": "eaaecc4f",
   "metadata": {},
   "outputs": [
    {
     "data": {
      "image/png": "[encoded data removed]",
      "text/latex": [
       "$\\displaystyle \\frac{63 x^{5}}{8} - \\frac{35 x^{3}}{4} + \\frac{15 x}{8}$"
      ],
      "text/plain": [
       "    5       3       \n",
       "63⋅x    35⋅x    15⋅x\n",
       "───── - ───── + ────\n",
       "  8       4      8  "
      ]
     },
     "execution_count": 64,
     "metadata": {},
     "output_type": "execute_result"
    }
   ],
   "source": [
    "legendre_poly(5)"
   ]
  },
  {
   "cell_type": "code",
   "execution_count": 65,
   "id": "f9c96e51",
   "metadata": {},
   "outputs": [],
   "source": [
    "def ran(m, d):\n",
    "    return m + d * np.random.randn()"
   ]
  },
  {
   "cell_type": "code",
   "execution_count": null,
   "id": "7937cd08",
   "metadata": {},
   "outputs": [],
   "source": []
  },
  {
   "cell_type": "code",
   "execution_count": 66,
   "id": "51fbf620",
   "metadata": {},
   "outputs": [
    {
     "data": {
      "image/png": "[encoded data removed]",
      "text/latex": [
       "$\\displaystyle 0.207045153254087 x^{4} - 1.87704954361924 x^{3} + 5.58673379785029 x^{2} - 6.47165773415919 x + 2.27820205192506$"
      ],
      "text/plain": [
       "                   4                     3                     2                                        \n",
       "0.207045153254087⋅x  - 1.87704954361924⋅x  + 5.58673379785029⋅x  - 6.47165773415919⋅x + 2.27820205192506"
      ]
     },
     "execution_count": 66,
     "metadata": {},
     "output_type": "execute_result"
    }
   ],
   "source": [
    "Pol_deg = 4\n",
    "t0 = 0\n",
    "tf = 4\n",
    "scheme = 'LG'\n",
    "N_col = 3\n",
    "\n",
    "h = tf-t0\n",
    "\n",
    "q_sym = expand(legendre_poly(Pol_deg, x = x).subs(x, -1 + ran(0, 0.05)+2*ran(1,0.05)*(x-t0)/h))\n",
    "for ii in range(Pol_deg + 1):\n",
    "    q_sym += ran(0, (4**-ii))*x**ii\n",
    "q_sym"
   ]
  },
  {
   "cell_type": "code",
   "execution_count": 67,
   "id": "1e4eb8ef",
   "metadata": {},
   "outputs": [],
   "source": [
    "q_f = lambdify(x, q_sym)"
   ]
  },
  {
   "cell_type": "code",
   "execution_count": 68,
   "id": "767a8c6a",
   "metadata": {},
   "outputs": [
    {
     "data": {
      "text/plain": [
       "[<matplotlib.lines.Line2D at 0x7f907582d130>]"
      ]
     },
     "execution_count": 68,
     "metadata": {},
     "output_type": "execute_result"
    },
    {
     "data": {
      "image/png": "[encoded data removed]",
      "text/plain": [
       "<Figure size 640x480 with 1 Axes>"
      ]
     },
     "metadata": {},
     "output_type": "display_data"
    }
   ],
   "source": [
    "t0 = 0\n",
    "tf = 4\n",
    "t_arr = np.linspace(t0, tf,100)\n",
    "plt.plot(t_arr, q_f(t_arr))"
   ]
  },
  {
   "cell_type": "code",
   "execution_count": 69,
   "id": "99400edd",
   "metadata": {},
   "outputs": [],
   "source": [
    "q_d_sym = q_sym.diff(x)\n",
    "q_d_f = lambdify(x, q_d_sym)\n",
    "q_dd_sym = q_d_sym.diff(x)\n",
    "q_dd_f = lambdify(x, q_dd_sym)\n",
    "q_ddd_sym = q_dd_sym.diff(x)\n",
    "q_ddd_f = lambdify(x, q_ddd_sym)\n",
    "q_dddd_sym = q_ddd_sym.diff(x)\n",
    "q_dddd_f = lambda t : np.ones(len(t), dtype=float)* float(q_dddd_sym)"
   ]
  },
  {
   "cell_type": "code",
   "execution_count": 70,
   "id": "aae41f0b",
   "metadata": {},
   "outputs": [
    {
     "data": {
      "image/png": "[encoded data removed]",
      "text/latex": [
       "$\\displaystyle \\left( 2.27820205192506, \\  -6.47165773415919\\right)$"
      ],
      "text/plain": [
       "(2.27820205192506, -6.47165773415919)"
      ]
     },
     "execution_count": 70,
     "metadata": {},
     "output_type": "execute_result"
    }
   ],
   "source": [
    "q_0 = q_f(t0)\n",
    "q_d_0 = q_d_f(t0)\n",
    "q_0, q_d_0"
   ]
  },
  {
   "cell_type": "code",
   "execution_count": 71,
   "id": "b9b9bc85",
   "metadata": {},
   "outputs": [
    {
     "data": {
      "image/png": "[encoded data removed]",
      "text/latex": [
       "$\\displaystyle \\left[ 0.4508066615170332, \\  2, \\  3.549193338482967\\right]$"
      ],
      "text/plain": [
       "[0.4508066615170332, 2, 3.549193338482967]"
      ]
     },
     "execution_count": 71,
     "metadata": {},
     "output_type": "execute_result"
    }
   ],
   "source": [
    "coll_points = BU_coll_points(N_col, scheme, order = 2)\n",
    "coll_points_t = tau_to_t_points(coll_points, t0, tf)\n",
    "coll_points_t"
   ]
  },
  {
   "cell_type": "code",
   "execution_count": 72,
   "id": "466ad531",
   "metadata": {},
   "outputs": [],
   "source": [
    "y_coll_points = q_dd_f(np.array(coll_points_t))\n",
    "\n",
    "q_dd_lag = bary_poly(coll_points_t, y_coll_points)"
   ]
  },
  {
   "cell_type": "code",
   "execution_count": 73,
   "id": "76cc027c",
   "metadata": {
    "scrolled": true
   },
   "outputs": [
    {
     "data": {
      "image/png": "[encoded data removed]",
      "text/latex": [
       "$\\displaystyle -1.412959571534$"
      ],
      "text/plain": [
       "-1.4129595715339995"
      ]
     },
     "execution_count": 73,
     "metadata": {},
     "output_type": "execute_result"
    }
   ],
   "source": [
    "q_dd_lag(2)"
   ]
  },
  {
   "cell_type": "code",
   "execution_count": 74,
   "id": "a5e27b30",
   "metadata": {},
   "outputs": [
    {
     "data": {
      "text/plain": [
       "[<matplotlib.lines.Line2D at 0x7f9075ad4ac0>]"
      ]
     },
     "execution_count": 74,
     "metadata": {},
     "output_type": "execute_result"
    },
    {
     "data": {
      "image/png": "[encoded data removed]",
      "text/plain": [
       "<Figure size 640x480 with 1 Axes>"
      ]
     },
     "metadata": {},
     "output_type": "display_data"
    }
   ],
   "source": [
    "t_arr = np.linspace(t0, tf,100)\n",
    "plt.plot(t_arr, q_dd_f(t_arr))\n",
    "plt.plot(np.array(coll_points_t), y_coll_points, 'ok')\n",
    "plt.plot(t_arr, q_dd_lag(t_arr), '--')"
   ]
  },
  {
   "cell_type": "code",
   "execution_count": 75,
   "id": "18a05792",
   "metadata": {},
   "outputs": [
    {
     "data": {
      "text/plain": [
       "array([ 2.27820205, -6.47165773,  6.60127407, -1.41295957,  2.49860761])"
      ]
     },
     "execution_count": 75,
     "metadata": {},
     "output_type": "execute_result"
    }
   ],
   "source": [
    "q_const = np.array([q_0, q_d_0]+list(y_coll_points), dtype = float).T\n",
    "q_const"
   ]
  },
  {
   "cell_type": "code",
   "execution_count": 76,
   "id": "d56c4c90",
   "metadata": {
    "scrolled": true
   },
   "outputs": [
    {
     "data": {
      "text/plain": [
       "array([[ 0.        ,  1.        ,  0.55575669, -0.14418717,  0.03923714],\n",
       "       [ 0.        ,  1.        ,  1.20146702,  0.88836483, -0.08983185],\n",
       "       [ 0.        ,  1.        ,  1.07239803,  1.92091682,  0.55587848],\n",
       "       [ 0.        ,  1.        ,  1.11163517,  1.77672965,  1.11163517]])"
      ]
     },
     "execution_count": 76,
     "metadata": {},
     "output_type": "execute_result"
    }
   ],
   "source": [
    "IMv = Integration_Matrix(\n",
    "    N_coll = N_col,\n",
    "    scheme = scheme,\n",
    "    deriv_order = 1,\n",
    "    h = tf-t0,\n",
    "    scheme_order=2,\n",
    "    precission=20,)\n",
    "IMv"
   ]
  },
  {
   "cell_type": "code",
   "execution_count": 77,
   "id": "14f8aeb1",
   "metadata": {},
   "outputs": [
    {
     "data": {
      "text/plain": [
       "(array([-6.47165773415919, -2.5011866502174214, -0.02012277613173247,\n",
       "        -0.7177200265006525, 1.133643641138044], dtype=object),\n",
       " [0, 0.4508066615170332, 2, 3.549193338482967, 4.0])"
      ]
     },
     "execution_count": 77,
     "metadata": {},
     "output_type": "execute_result"
    }
   ],
   "source": [
    "t_points = [t0] + tau_to_t_points(BU_construction_points(N_col, scheme, order=2), t0, tf)\n",
    "q_d_lag = poly_integral(q_dd_lag, N_col-1, t0, tf, q_d_0)\n",
    "\n",
    "v_points = np.zeros_like(t_points)\n",
    "v_points[0] = q_d_0\n",
    "v_points[1:] = IMv@q_const\n",
    "v_points, t_points"
   ]
  },
  {
   "cell_type": "code",
   "execution_count": 78,
   "id": "5810a8d6",
   "metadata": {},
   "outputs": [
    {
     "data": {
      "text/plain": [
       "[<matplotlib.lines.Line2D at 0x7f9075ba6760>]"
      ]
     },
     "execution_count": 78,
     "metadata": {},
     "output_type": "execute_result"
    },
    {
     "data": {
      "image/png": "[encoded data removed]",
      "text/plain": [
       "<Figure size 640x480 with 1 Axes>"
      ]
     },
     "metadata": {},
     "output_type": "display_data"
    }
   ],
   "source": [
    "t_arr = np.linspace(t0, tf,100)\n",
    "plt.plot(t_arr, q_d_f(t_arr))\n",
    "plt.plot(t_points, v_points, 'ok')\n",
    "plt.plot(t_arr, q_d_lag(t_arr), '--')"
   ]
  },
  {
   "cell_type": "code",
   "execution_count": 79,
   "id": "811eb533",
   "metadata": {
    "scrolled": true
   },
   "outputs": [
    {
     "data": {
      "text/plain": [
       "array([[ 0.        ,  1.        ,  0.55575669, -0.14418717,  0.03923714],\n",
       "       [ 0.        ,  1.        ,  1.20146702,  0.88836483, -0.08983185],\n",
       "       [ 0.        ,  1.        ,  1.07239803,  1.92091682,  0.55587848],\n",
       "       [ 0.        ,  1.        ,  1.11163517,  1.77672965,  1.11163517]])"
      ]
     },
     "execution_count": 79,
     "metadata": {},
     "output_type": "execute_result"
    }
   ],
   "source": [
    "IMq = Integration_Matrix(\n",
    "    N_coll = N_col,\n",
    "    scheme = scheme,\n",
    "    deriv_order = 1,\n",
    "    h = tf-t0,\n",
    "    scheme_order=2,\n",
    "    precission=20,)\n",
    "IMq"
   ]
  },
  {
   "cell_type": "code",
   "execution_count": null,
   "id": "477d44ff",
   "metadata": {},
   "outputs": [],
   "source": []
  },
  {
   "cell_type": "code",
   "execution_count": 80,
   "id": "f3352202",
   "metadata": {},
   "outputs": [
    {
     "data": {
      "text/plain": [
       "array([2.27820205192506, -2.5011866502174214, -0.02012277613173247,\n",
       "       -0.7177200265006525, 1.133643641138044], dtype=object)"
      ]
     },
     "execution_count": 80,
     "metadata": {},
     "output_type": "execute_result"
    }
   ],
   "source": [
    "q_lag = poly_integral(q_d_lag, N_col, t0, tf, q_0)\n",
    "\n",
    "\n",
    "q_points = np.zeros_like(t_points)\n",
    "q_points[0] = q_0\n",
    "q_points[1:] = IMq@q_const\n",
    "q_points"
   ]
  },
  {
   "cell_type": "code",
   "execution_count": 81,
   "id": "3d9f782c",
   "metadata": {},
   "outputs": [
    {
     "data": {
      "text/plain": [
       "[<matplotlib.lines.Line2D at 0x7f9075d21490>]"
      ]
     },
     "execution_count": 81,
     "metadata": {},
     "output_type": "execute_result"
    },
    {
     "data": {
      "image/png": "[encoded data removed]",
      "text/plain": [
       "<Figure size 640x480 with 1 Axes>"
      ]
     },
     "metadata": {},
     "output_type": "display_data"
    }
   ],
   "source": [
    "t_arr = np.linspace(t0, tf,100)\n",
    "plt.plot(t_arr, q_f(t_arr))\n",
    "plt.plot(t_points, q_points, 'ok')\n",
    "plt.plot(t_arr, q_lag(t_arr), '--')"
   ]
  },
  {
   "cell_type": "code",
   "execution_count": 82,
   "id": "eb5f23fd",
   "metadata": {},
   "outputs": [
    {
     "data": {
      "text/plain": [
       "array([[-3.25000000e+00,  3.69707639e+00, -6.66666667e-01,\n",
       "         4.69590272e-01, -2.50000000e-01],\n",
       "       [-1.33094750e+00,  9.68245837e-01,  5.16397779e-01,\n",
       "        -3.22748612e-01,  1.69052498e-01],\n",
       "       [ 3.75000000e-01, -8.06871530e-01,  1.11022302e-16,\n",
       "         8.06871530e-01, -3.75000000e-01],\n",
       "       [-1.69052498e-01,  3.22748612e-01, -5.16397779e-01,\n",
       "        -9.68245837e-01,  1.33094750e+00],\n",
       "       [ 2.50000000e-01, -4.69590272e-01,  6.66666667e-01,\n",
       "        -3.69707639e+00,  3.25000000e+00]])"
      ]
     },
     "execution_count": 82,
     "metadata": {},
     "output_type": "execute_result"
    }
   ],
   "source": [
    "_matrix_D_bary(t_points)"
   ]
  },
  {
   "cell_type": "code",
   "execution_count": 83,
   "id": "b3e63c32",
   "metadata": {},
   "outputs": [],
   "source": [
    "q_d_points  = q_d_f(np.array(t_points, dtype = float))"
   ]
  },
  {
   "cell_type": "code",
   "execution_count": 84,
   "id": "bb25368d",
   "metadata": {},
   "outputs": [
    {
     "data": {
      "text/plain": [
       "array([11.1734676 ,  6.60127407, -1.41295957,  2.49860761,  5.87694797])"
      ]
     },
     "execution_count": 84,
     "metadata": {},
     "output_type": "execute_result"
    }
   ],
   "source": [
    "q_dd_mat_points = _matrix_D_bary(t_points) @ q_d_points\n",
    "q_dd_mat_points"
   ]
  },
  {
   "cell_type": "code",
   "execution_count": 85,
   "id": "4c69cb1a",
   "metadata": {},
   "outputs": [
    {
     "data": {
      "text/plain": [
       "[<matplotlib.lines.Line2D at 0x7f9075e781c0>]"
      ]
     },
     "execution_count": 85,
     "metadata": {},
     "output_type": "execute_result"
    },
    {
     "data": {
      "image/png": "[encoded data removed]",
      "text/plain": [
       "<Figure size 640x480 with 1 Axes>"
      ]
     },
     "metadata": {},
     "output_type": "display_data"
    }
   ],
   "source": [
    "t_arr = np.linspace(t0, tf,100)\n",
    "plt.plot(t_arr, q_dd_f(t_arr))\n",
    "plt.plot(t_points, q_dd_mat_points, 'ok')\n",
    "plt.plot(t_arr, q_dd_lag(t_arr), '--')"
   ]
  },
  {
   "cell_type": "code",
   "execution_count": null,
   "id": "13d9879b",
   "metadata": {},
   "outputs": [],
   "source": []
  },
  {
   "cell_type": "code",
   "execution_count": 86,
   "id": "78ff9eb1",
   "metadata": {},
   "outputs": [],
   "source": [
    "from cProfile import Profile\n",
    "from pstats import SortKey, Stats"
   ]
  },
  {
   "cell_type": "code",
   "execution_count": 124,
   "id": "fb59292c",
   "metadata": {},
   "outputs": [],
   "source": [
    "import chords\n",
    "importlib.reload(chords)\n",
    "importlib.reload(chords.bu_pseudospectral)\n",
    "importlib.reload(chords.util)\n",
    "importlib.reload(chords.pseudospectral)\n",
    "from chords.bu_pseudospectral import (\n",
    "    Integration_Matrix, tau_to_t_points, BU_coll_points, BU_construction_points, _matrix_D_bary,Lag_integ_2d\n",
    ")\n",
    "from chords.pseudospectral import bary_poly, bary_poly_2d\n",
    "from chords.util import poly_integral_2d"
   ]
  },
  {
   "cell_type": "code",
   "execution_count": 88,
   "id": "0068450f",
   "metadata": {},
   "outputs": [
    {
     "data": {
      "text/plain": [
       "array([[ 1.        ,  0.45080666,  0.13338191, -0.04379596,  0.01202737],\n",
       "       [ 1.        ,  2.        ,  1.69459229,  0.33254724, -0.02713953],\n",
       "       [ 1.        ,  3.54919334,  3.455897  ,  2.70870178,  0.1337879 ],\n",
       "       [ 1.        ,  4.        ,  3.94500217,  3.55345931,  0.50153853]])"
      ]
     },
     "execution_count": 88,
     "metadata": {},
     "output_type": "execute_result"
    }
   ],
   "source": [
    "Integration_Matrix(\n",
    "    N_coll = N_col,\n",
    "    scheme = scheme,\n",
    "    deriv_order = 0,\n",
    "    h = tf-t0,\n",
    "    scheme_order=2,\n",
    "    precission=20,)[:,:]"
   ]
  },
  {
   "cell_type": "code",
   "execution_count": 89,
   "id": "faec8810",
   "metadata": {},
   "outputs": [
    {
     "data": {
      "text/plain": [
       "array([[ 1.        ,  0.45080666,  0.13338191, -0.04379596,  0.01202737],\n",
       "       [ 1.        ,  2.        ,  1.69459229,  0.33254724, -0.02713953],\n",
       "       [ 1.        ,  3.54919334,  3.455897  ,  2.70870178,  0.1337879 ],\n",
       "       [ 1.        ,  4.        ,  3.94500217,  3.55345931,  0.50153853]])"
      ]
     },
     "execution_count": 89,
     "metadata": {},
     "output_type": "execute_result"
    }
   ],
   "source": [
    "Integration_Matrix(\n",
    "    N_coll = N_col,\n",
    "    scheme = scheme,\n",
    "    deriv_order = 0,\n",
    "    h = tf-t0,\n",
    "    scheme_order=2,\n",
    "    precission=20,)[:,:]"
   ]
  },
  {
   "cell_type": "code",
   "execution_count": 90,
   "id": "458638c0",
   "metadata": {
    "scrolled": true
   },
   "outputs": [
    {
     "data": {
      "text/plain": [
       "array([[ 0.        ,  1.        ,  0.55575669, -0.14418717,  0.03923714],\n",
       "       [ 0.        ,  1.        ,  1.20146702,  0.88836483, -0.08983185],\n",
       "       [ 0.        ,  1.        ,  1.07239803,  1.92091682,  0.55587848],\n",
       "       [ 0.        ,  1.        ,  1.11163517,  1.77672965,  1.11163517]])"
      ]
     },
     "execution_count": 90,
     "metadata": {},
     "output_type": "execute_result"
    }
   ],
   "source": [
    "Integration_Matrix(\n",
    "    N_coll = N_col,\n",
    "    scheme = scheme,\n",
    "    deriv_order = 1,\n",
    "    h = tf-t0,\n",
    "    scheme_order=2,\n",
    "    precission=20,)[:,:]"
   ]
  },
  {
   "cell_type": "code",
   "execution_count": 91,
   "id": "a75bf7dd",
   "metadata": {
    "scrolled": true
   },
   "outputs": [
    {
     "data": {
      "text/plain": [
       "array([[ 0.        ,  1.        ,  0.55575669, -0.14418717,  0.03923714],\n",
       "       [ 0.        ,  1.        ,  1.20146702,  0.88836483, -0.08983185],\n",
       "       [ 0.        ,  1.        ,  1.07239803,  1.92091682,  0.55587848],\n",
       "       [ 0.        ,  1.        ,  1.11163517,  1.77672965,  1.11163517]])"
      ]
     },
     "execution_count": 91,
     "metadata": {},
     "output_type": "execute_result"
    }
   ],
   "source": [
    "Integration_Matrix(\n",
    "    N_coll = N_col,\n",
    "    scheme = scheme,\n",
    "    deriv_order = 1,\n",
    "    h = tf-t0,\n",
    "    scheme_order=2,\n",
    "    precission=20,)[:,:]"
   ]
  },
  {
   "cell_type": "code",
   "execution_count": 92,
   "id": "10a2a813",
   "metadata": {},
   "outputs": [
    {
     "data": {
      "text/plain": [
       "array([[ 0.13338191, -0.04379596,  0.01202737],\n",
       "       [ 1.69459229,  0.33254724, -0.02713953],\n",
       "       [ 3.455897  ,  2.70870178,  0.1337879 ],\n",
       "       [ 3.94500217,  3.55345931,  0.50153853]])"
      ]
     },
     "execution_count": 92,
     "metadata": {},
     "output_type": "execute_result"
    }
   ],
   "source": [
    "((tf-t0)/2)**2*Lag_integ_2d(3, scheme, 2)(np.array(BU_construction_points(3, 'LG')))"
   ]
  },
  {
   "cell_type": "code",
   "execution_count": 93,
   "id": "12cae275",
   "metadata": {},
   "outputs": [],
   "source": [
    "constr_points = (1 + np.array(BU_construction_points(3, 'LG'), dtype = float))*(tf-t0)/2"
   ]
  },
  {
   "cell_type": "code",
   "execution_count": 94,
   "id": "66b2cdcc",
   "metadata": {},
   "outputs": [
    {
     "data": {
      "text/plain": [
       "array([[1]])"
      ]
     },
     "execution_count": 94,
     "metadata": {},
     "output_type": "execute_result"
    }
   ],
   "source": [
    "ii_arr = np.expand_dims(np.arange(1,2),0)\n",
    "ii_arr"
   ]
  },
  {
   "cell_type": "code",
   "execution_count": 95,
   "id": "6e2c12bc",
   "metadata": {},
   "outputs": [],
   "source": [
    "from scipy.special import factorial"
   ]
  },
  {
   "cell_type": "code",
   "execution_count": 96,
   "id": "caeb80de",
   "metadata": {},
   "outputs": [
    {
     "data": {
      "text/plain": [
       "array([[1.]])"
      ]
     },
     "execution_count": 96,
     "metadata": {},
     "output_type": "execute_result"
    }
   ],
   "source": [
    "factorial(ii_arr)"
   ]
  },
  {
   "cell_type": "code",
   "execution_count": 97,
   "id": "24f1cd74",
   "metadata": {},
   "outputs": [
    {
     "data": {
      "text/plain": [
       "array([[0.45080666],\n",
       "       [2.        ],\n",
       "       [3.54919334],\n",
       "       [4.        ]])"
      ]
     },
     "execution_count": 97,
     "metadata": {},
     "output_type": "execute_result"
    }
   ],
   "source": [
    "np.expand_dims(constr_points,1)**ii_arr/factorial(ii_arr)"
   ]
  },
  {
   "cell_type": "code",
   "execution_count": null,
   "id": "c9576fea",
   "metadata": {},
   "outputs": [],
   "source": []
  },
  {
   "cell_type": "code",
   "execution_count": 176,
   "id": "bb07fc4e",
   "metadata": {
    "scrolled": true
   },
   "outputs": [
    {
     "name": "stdout",
     "output_type": "stream",
     "text": [
      "         80163845 function calls (79967347 primitive calls) in 32.211 seconds\n",
      "\n",
      "   Ordered by: cumulative time\n",
      "\n",
      "   ncalls  tottime  percall  cumtime  percall filename:lineno(function)\n",
      "        1    0.017    0.017   32.211   32.211 bu_pseudospectral.py:386(Integration_Matrix)\n",
      "     2550    0.006    0.000   31.125    0.012 bu_pseudospectral.py:326(_Lag_integ)\n",
      "     2550    0.009    0.000   31.080    0.012 util.py:249(gauss_rep_integral)\n",
      "     2550    0.226    0.000   30.288    0.012 util.py:237(gauss_integral)\n",
      "   192654    0.239    0.000   22.529    0.000 decorators.py:224(_func)\n",
      "   192650    0.134    0.000   20.597    0.000 decorators.py:99(binary_op_wrapper)\n",
      "325619/323983    0.544    0.000   20.389    0.000 cache.py:67(wrapper)\n",
      "    67500    0.059    0.000   19.426    0.000 expr.py:220(__rmul__)\n",
      "68905/68880    0.543    0.000   18.767    0.000 operations.py:52(__new__)\n",
      "    67551    0.954    0.000   17.628    0.000 mul.py:197(flatten)\n",
      "   135284    0.257    0.000   13.760    0.000 assumptions.py:477(getit)\n",
      "   270112    5.385    0.000   12.627    0.000 facts.py:499(deduce_all_facts)\n",
      "   135055    0.289    0.000    8.505    0.000 assumptions.py:489(_ask)\n",
      "     2550    0.058    0.000    8.288    0.003 util.py:244(<listcomp>)\n",
      "    63750    0.150    0.000    8.230    0.000 util.py:252(<lambda>)\n",
      "526883/395582    0.374    0.000    7.804    0.000 decorators.py:58(__sympifyit_wrapper)\n",
      "   724115    0.982    0.000    6.603    0.000 sympify.py:102(sympify)\n",
      "   130151    0.171    0.000    5.321    0.000 numbers.py:2200(__mul__)\n",
      "  7966697    1.566    0.000    5.172    0.000 {built-in method builtins.all}\n",
      "390164/327664    1.113    0.000    5.041    0.000 numbers.py:1034(__new__)\n",
      "   135055    0.091    0.000    4.998    0.000 assumptions.py:461(copy)\n",
      "   135057    0.287    0.000    4.908    0.000 assumptions.py:449(__init__)\n",
      " 20659010    3.258    0.000    4.233    0.000 facts.py:533(<genexpr>)\n",
      "    62500    0.636    0.000    2.674    0.000 sympify.py:78(_convert_numpy_types)\n",
      "    63750    0.119    0.000    2.263    0.000 pseudospectral.py:522(new_poly)\n",
      "   262500    0.406    0.000    2.022    0.000 numbers.py:1291(__mul__)\n",
      "   583850    0.553    0.000    1.799    0.000 numbers.py:1178(_new)\n",
      "255055/255054    0.175    0.000    1.576    0.000 {built-in method numpy.core._multiarray_umath.implement_array_function}\n",
      "   130150    0.148    0.000    1.502    0.000 numbers.py:1734(__mul__)\n",
      "    63750    0.046    0.000    1.408    0.000 pseudospectral.py:514(poly_fun_con)\n",
      "   130050    0.092    0.000    1.397    0.000 <__array_function__ internals>:177(sum)\n",
      "   257700    0.512    0.000    1.370    0.000 numbers.py:1369(__eq__)\n",
      "    63750    0.381    0.000    1.362    0.000 pseudospectral.py:502(poly_fun)\n",
      "   130050    0.143    0.000    1.211    0.000 fromnumeric.py:2160(sum)\n",
      " 14645852    1.154    0.000    1.154    0.000 {method 'get' of 'dict' objects}\n",
      "   713950    0.885    0.000    1.059    0.000 numbers.py:149(mpf_norm)\n",
      "  4861087    1.050    0.000    1.050    0.000 facts.py:482(_tell)\n",
      "   130050    0.183    0.000    1.048    0.000 fromnumeric.py:69(_wrapreduction)\n",
      "    62550    0.032    0.000    0.990    0.000 expr.py:230(__pow__)\n",
      "   398747    0.195    0.000    0.882    0.000 sympify.py:503(_sympify)\n",
      "    62500    0.151    0.000    0.872    0.000 libmpf.py:1313(from_str)\n",
      "   130053    0.436    0.000    0.794    0.000 {method 'reduce' of 'numpy.ufunc' objects}\n",
      "  5468003    0.698    0.000    0.701    0.000 {built-in method builtins.isinstance}\n",
      "   260150    0.161    0.000    0.647    0.000 numbers.py:1463(__hash__)\n",
      "    67555    0.057    0.000    0.618    0.000 numbers.py:3417(__eq__)\n",
      "    62550    0.040    0.000    0.582    0.000 expr.py:225(_pow)\n",
      "    63959    0.288    0.000    0.569    0.000 {built-in method numpy.array}\n",
      "    65000    0.097    0.000    0.492    0.000 numbers.py:1284(__sub__)\n",
      "   260407    0.146    0.000    0.486    0.000 numbers.py:808(__hash__)\n",
      "    67559    0.039    0.000    0.473    0.000 numbers.py:3583(__eq__)\n",
      "   130054    0.096    0.000    0.473    0.000 numbers.py:678(__float__)\n",
      "    62500    0.025    0.000    0.432    0.000 expr.py:200(__radd__)\n",
      "   197500    0.165    0.000    0.394    0.000 sympify.py:68(_is_numpy_instance)\n",
      "   584416    0.276    0.000    0.389    0.000 basic.py:126(__new__)\n",
      "    62550    0.057    0.000    0.385    0.000 libmpf.py:491(from_rational)\n",
      "   262500    0.251    0.000    0.377    0.000 libmpf.py:850(gmpy_mpf_mul)\n",
      "   136250    0.088    0.000    0.343    0.000 numbers.py:674(_as_mpf_op)\n",
      "261858/261601    0.223    0.000    0.341    0.000 basic.py:153(__hash__)\n",
      "    61250    0.070    0.000    0.335    0.000 numbers.py:1277(__add__)\n",
      "266469/266419    0.145    0.000    0.335    0.000 {built-in method builtins.any}\n",
      "  1167750    0.334    0.000    0.334    0.000 {built-in method gmpy2.gmpy2._mpmath_normalize}\n",
      "    62500    0.238    0.000    0.309    0.000 libmpf.py:1290(str_to_man_exp)\n",
      "   675182    0.301    0.000    0.301    0.000 {method 'update' of 'set' objects}\n",
      "        1    0.000    0.000    0.285    0.285 bu_pseudospectral.py:91(BU_construction_points)\n",
      "        1    0.000    0.000    0.285    0.285 pseudospectral.py:36(LG)\n",
      "   130100    0.072    0.000    0.273    0.000 numbers.py:1220(_as_mpf_val)\n",
      "        1    0.000    0.000    0.267    0.267 polytools.py:3590(real_roots)\n",
      "        1    0.000    0.000    0.267    0.267 rootoftools.py:409(real_roots)\n",
      "        1    0.000    0.000    0.267    0.267 rootoftools.py:757(_get_roots)\n",
      "   130000    0.137    0.000    0.252    0.000 libmpf.py:410(from_float)\n",
      "        1    0.000    0.000    0.252    0.252 rootoftools.py:670(_real_roots)\n",
      "        1    0.000    0.000    0.241    0.241 rootoftools.py:110(_pure_factors)\n",
      "        1    0.000    0.000    0.241    0.241 polytools.py:3331(factor_list)\n",
      "        1    0.000    0.000    0.241    0.241 polyclasses.py:821(factor_list)\n",
      "        1    0.000    0.000    0.241    0.241 factortools.py:1390(dmp_factor_list)\n",
      "        1    0.000    0.000    0.241    0.241 factortools.py:1313(dup_factor_list)\n",
      "        1    0.000    0.000    0.241    0.241 factortools.py:619(dup_zz_factor)\n",
      "        1    0.000    0.000    0.239    0.239 factortools.py:314(dup_zz_zassenhaus)\n",
      "   261350    0.110    0.000    0.238    0.000 libmpf.py:330(from_int)\n",
      "  1250562    0.208    0.000    0.237    0.000 {built-in method builtins.getattr}\n",
      "    62500    0.032    0.000    0.235    0.000 <__array_function__ internals>:177(reshape)\n",
      "   126250    0.161    0.000    0.212    0.000 libmpf.py:702(mpf_add)\n",
      "    65050    0.138    0.000    0.210    0.000 libmpf.py:950(mpf_div)\n",
      "        2    0.000    0.000    0.206    0.103 galoistools.py:2108(gf_factor_sqf)\n",
      "        2    0.000    0.000    0.206    0.103 galoistools.py:2058(gf_zassenhaus)\n",
      "   136250    0.083    0.000    0.200    0.000 numbers.py:2078(_as_mpf_val)\n",
      "   391350    0.198    0.000    0.198    0.000 {built-in method gmpy2.gmpy2._mpmath_create}\n",
      "   618273    0.173    0.000    0.173    0.000 {built-in method builtins.max}\n",
      "    62500    0.038    0.000    0.173    0.000 fromnumeric.py:198(reshape)\n",
      "   130050    0.090    0.000    0.163    0.000 libmpf.py:64(dps_to_prec)\n",
      "       29    0.001    0.000    0.163    0.006 galoistools.py:872(gf_frobenius_monomial_base)\n",
      "    65000    0.026    0.000    0.158    0.000 libmpf.py:797(mpf_sub)\n",
      "   255000    0.083    0.000    0.152    0.000 numbers.py:1226(_as_mpf_op)\n",
      "    62500    0.042    0.000    0.146    0.000 <__array_function__ internals>:177(size)\n",
      "    62500    0.047    0.000    0.135    0.000 fromnumeric.py:51(_wrapfunc)\n",
      "        2    0.001    0.000    0.132    0.066 galoistools.py:1798(gf_ddf_zassenhaus)\n",
      "   525000    0.129    0.000    0.129    0.000 sympify.py:74(<genexpr>)\n",
      "   132771    0.089    0.000    0.124    0.000 <frozen importlib._bootstrap>:398(parent)\n",
      "     2030    0.001    0.000    0.122    0.000 galoistools.py:712(gf_rem)\n",
      "     2039    0.104    0.000    0.121    0.000 galoistools.py:658(gf_div)\n",
      "   984125    0.121    0.000    0.121    0.000 {built-in method builtins.hasattr}\n",
      "   135102    0.094    0.000    0.119    0.000 mul.py:467(_gather)\n",
      "    68858    0.098    0.000    0.118    0.000 basic.py:1920(_exec_constructor_postprocessors)\n",
      "    62500    0.107    0.000    0.117    0.000 getlimits.py:457(__new__)\n",
      "   584468    0.112    0.000    0.112    0.000 {built-in method __new__ of type object at 0x1009e4e10}\n",
      "   130054    0.066    0.000    0.105    0.000 libmpf.py:454(to_float)\n",
      "   135055    0.056    0.000    0.090    0.000 assumptions.py:464(generator)\n",
      "   942170    0.087    0.000    0.087    0.000 {method 'items' of 'dict' objects}\n",
      "385877/385765    0.081    0.000    0.081    0.000 {built-in method builtins.hash}\n",
      "   460747    0.080    0.000    0.080    0.000 inspect.py:488(getmro)\n",
      "     52/4    0.000    0.000    0.074    0.018 galoistools.py:1855(gf_edf_zassenhaus)\n",
      "      638    0.066    0.000    0.074    0.000 galoistools.py:524(gf_mul)\n",
      "   206710    0.046    0.000    0.073    0.000 operations.py:63(<genexpr>)\n",
      "    62505    0.073    0.000    0.073    0.000 {method 'reshape' of 'numpy.ndarray' objects}\n",
      "   684426    0.072    0.000    0.072    0.000 {built-in method builtins.len}\n",
      "   135000    0.062    0.000    0.062    0.000 libmpf.py:537(mpf_eq)\n",
      "    71727    0.046    0.000    0.062    0.000 <frozen importlib._bootstrap>:1033(_handle_fromlist)\n",
      "   451300    0.058    0.000    0.058    0.000 {built-in method gmpy2.gmpy2.bit_length}\n",
      "   130050    0.052    0.000    0.052    0.000 fromnumeric.py:70(<dictcomp>)\n",
      "    62501    0.050    0.000    0.050    0.000 {built-in method numpy.asarray}\n",
      "   260050    0.049    0.000    0.049    0.000 numbers.py:1199(_hashable_content)\n",
      "    68803    0.037    0.000    0.049    0.000 operations.py:108(_from_args)\n",
      "   552689    0.048    0.000    0.048    0.000 {method 'append' of 'list' objects}\n",
      "    67550    0.029    0.000    0.045    0.000 mul.py:33(_mulsort)\n",
      "   125557    0.032    0.000    0.044    0.000 numbers.py:2284(__hash__)\n",
      "   130000    0.044    0.000    0.044    0.000 {built-in method math.frexp}\n",
      "   135000    0.041    0.000    0.041    0.000 numbers.py:1266(_eval_is_zero)\n",
      "   135057    0.040    0.000    0.040    0.000 facts.py:479(__init__)\n",
      "       50    0.000    0.000    0.039    0.001 bu_pseudospectral.py:182(BU_unit_Lag_pol)\n",
      "   130050    0.039    0.000    0.039    0.000 {built-in method math.ldexp}\n",
      "       50    0.000    0.000    0.039    0.001 pseudospectral.py:474(bary_poly)\n",
      "   130100    0.035    0.000    0.035    0.000 {built-in method builtins.round}\n",
      "   132771    0.035    0.000    0.035    0.000 {method 'rpartition' of 'str' objects}\n",
      "   135059    0.034    0.000    0.034    0.000 {method 'copy' of 'dict' objects}\n",
      "   192500    0.033    0.000    0.033    0.000 {built-in method math.isnan}\n",
      "    68905    0.031    0.000    0.031    0.000 operations.py:91(<listcomp>)\n",
      "   125008    0.029    0.000    0.029    0.000 {method 'startswith' of 'str' objects}\n",
      "   125004    0.029    0.000    0.029    0.000 {method 'split' of 'str' objects}\n",
      "62552/62551    0.029    0.000    0.029    0.000 {built-in method builtins.divmod}\n",
      "   263368    0.029    0.000    0.029    0.000 core.py:71(<lambda>)\n",
      "       50    0.001    0.000    0.028    0.001 pseudospectral.py:496(<listcomp>)\n",
      "     2500    0.025    0.000    0.028    0.000 pseudospectral.py:281(_v_sum)\n",
      "     1252    0.007    0.000    0.028    0.000 add.py:184(flatten)\n",
      "      5/1    0.000    0.000    0.027    0.027 factortools.py:250(dup_zz_hensel_lift)\n",
      "       12    0.000    0.000    0.026    0.002 factortools.py:193(dup_zz_hensel_step)\n",
      "       63    0.000    0.000    0.026    0.000 galoistools.py:1007(gf_gcd)\n",
      "   187504    0.025    0.000    0.025    0.000 {method 'lower' of 'str' objects}\n",
      "       61    0.000    0.000    0.024    0.000 galoistools.py:958(gf_pow_mod)\n",
      "     2500    0.006    0.000    0.023    0.000 numbers.py:1298(__truediv__)\n",
      "   130050    0.019    0.000    0.019    0.000 fromnumeric.py:2155(_sum_dispatcher)\n",
      "    62500    0.018    0.000    0.018    0.000 fromnumeric.py:3206(size)\n",
      "     2503    0.002    0.000    0.017    0.000 numbers.py:2159(__add__)\n",
      "        1    0.000    0.000    0.017    0.017 pseudospectral.py:38(<listcomp>)\n",
      "       50    0.000    0.000    0.017    0.000 evalf.py:1570(evalf)\n",
      "       50    0.000    0.000    0.017    0.000 evalf.py:1462(evalf)\n",
      "    68802    0.016    0.000    0.016    0.000 {method 'sort' of 'list' objects}\n",
      "       33    0.000    0.000    0.015    0.000 galoistools.py:941(_gf_pow_pnm1d2)\n",
      "    67500    0.015    0.000    0.015    0.000 numbers.py:3411(_as_mpf_val)\n",
      "       50    0.000    0.000    0.014    0.000 rootoftools.py:914(_eval_evalf)\n",
      "    69273    0.014    0.000    0.014    0.000 basic.py:750(args)\n",
      "   125000    0.014    0.000    0.014    0.000 {method 'rstrip' of 'str' objects}\n",
      "       50    0.001    0.000    0.014    0.000 rootoftools.py:919(eval_rational)\n",
      "   135153    0.013    0.000    0.013    0.000 {method 'extend' of 'list' objects}\n",
      "     1250    0.001    0.000    0.013    0.000 numbers.py:1695(__add__)\n",
      "      111    0.010    0.000    0.012    0.000 densearith.py:735(dup_mul)\n",
      "    62504    0.012    0.000    0.012    0.000 {method 'replace' of 'str' objects}\n",
      "       29    0.000    0.000    0.012    0.000 densearith.py:1515(dup_div)\n",
      "       29    0.001    0.000    0.012    0.000 densearith.py:1308(dup_rr_div)\n",
      "63533/63358    0.011    0.000    0.011    0.000 {built-in method builtins.abs}\n",
      "    67551    0.011    0.000    0.011    0.000 mul.py:555(<listcomp>)\n",
      "    67504    0.011    0.000    0.011    0.000 numbers.py:3577(_as_mpf_val)\n",
      "    96759    0.011    0.000    0.011    0.000 {built-in method builtins.min}\n",
      "    68805    0.010    0.000    0.010    0.000 {method 'insert' of 'list' objects}\n",
      "        1    0.000    0.000    0.010    0.010 basic.py:1125(xreplace)\n",
      "    129/1    0.000    0.000    0.010    0.010 basic.py:1190(_xreplace)\n",
      "     1305    0.005    0.000    0.010    0.000 power.py:282(__new__)\n",
      "    62504    0.010    0.000    0.010    0.000 {method 'strip' of 'str' objects}\n",
      "     2500    0.003    0.000    0.010    0.000 numeric.py:1859(isscalar)\n",
      "    62500    0.010    0.000    0.010    0.000 fromnumeric.py:3202(_size_dispatcher)\n",
      "    67551    0.009    0.000    0.009    0.000 mul.py:653(<listcomp>)\n",
      "    67607    0.008    0.000    0.008    0.000 numbers.py:3104(__bool__)\n",
      "    62500    0.008    0.000    0.008    0.000 fromnumeric.py:193(_reshape_dispatcher)\n",
      "        1    0.000    0.000    0.007    0.007 rootoftools.py:442(_get_reals)\n",
      "        1    0.000    0.000    0.007    0.007 rootoftools.py:480(_reals_sorted)\n",
      "      333    0.005    0.000    0.006    0.000 galoistools.py:555(gf_sqr)\n",
      "     1225    0.000    0.000    0.006    0.000 rootisolation.py:1859(refine_disjoint)\n",
      "     2900    0.002    0.000    0.006    0.000 rootisolation.py:1777(a)\n",
      "     1225    0.001    0.000    0.006    0.000 rootisolation.py:1841(is_disjoint)\n",
      "        1    0.000    0.000    0.006    0.006 polytools.py:212(args)\n",
      "        1    0.000    0.000    0.006    0.006 polytools.py:208(expr)\n",
      "      722    0.001    0.000    0.006    0.000 densearith.py:590(dup_sub)\n",
      "        1    0.000    0.000    0.006    0.006 polyutils.py:375(expr_from_dict)\n",
      "     1678    0.001    0.000    0.005    0.000 polytools.py:4298(__eq__)\n",
      "        9    0.000    0.000    0.005    0.001 galoistools.py:1515(gf_sqf_p)\n",
      "       54    0.001    0.000    0.005    0.000 galoistools.py:904(gf_frobenius_map)\n",
      "       50    0.000    0.000    0.005    0.000 rootoftools.py:798(_get_interval)\n",
      "      648    0.004    0.000    0.004    0.000 densearith.py:613(<listcomp>)\n",
      "       50    0.000    0.000    0.004    0.000 rootoftools.py:594(_reals_index)\n",
      "     1425    0.001    0.000    0.004    0.000 rootisolation.py:1792(b)\n",
      "      625    0.000    0.000    0.004    0.000 densearith.py:140(dup_mul_term)\n",
      "     2550    0.001    0.000    0.003    0.000 abc.py:117(__instancecheck__)\n",
      "      625    0.003    0.000    0.003    0.000 densearith.py:157(<listcomp>)\n",
      "     2500    0.001    0.000    0.003    0.000 numbers.py:2245(__ne__)\n",
      "       53    0.000    0.000    0.003    0.000 polytools.py:162(__new__)\n",
      "     2900    0.001    0.000    0.003    0.000 integerring.py:66(get_field)\n",
      "      401    0.000    0.000    0.003    0.000 rootoftools.py:85(__getitem__)\n",
      "      882    0.001    0.000    0.003    0.000 galoistools.py:454(gf_add)\n",
      "     1678    0.001    0.000    0.002    0.000 polyclasses.py:1037(__eq__)\n",
      "     1947    0.001    0.000    0.002    0.000 ring.py:38(invert)\n",
      "     2500    0.002    0.000    0.002    0.000 pseudospectral.py:299(<listcomp>)\n",
      "       50    0.000    0.000    0.002    0.000 rootoftools.py:746(_postprocess_root)\n",
      "      126    0.002    0.000    0.002    0.000 densetools.py:432(dup_trunc)\n",
      "     2804    0.001    0.000    0.002    0.000 numbers.py:2238(__eq__)\n",
      "     2550    0.002    0.000    0.002    0.000 {built-in method _abc._abc_instancecheck}\n",
      "      970    0.000    0.000    0.002    0.000 galoistools.py:417(gf_mul_ground)\n",
      "       50    0.000    0.000    0.002    0.000 rootoftools.py:362(_new)\n",
      "     3608    0.001    0.000    0.002    0.000 domain.py:379(__call__)\n",
      "  352/302    0.001    0.000    0.002    0.000 numbers.py:1585(__new__)\n",
      "      586    0.002    0.000    0.002    0.000 galoistools.py:434(<listcomp>)\n",
      "        2    0.000    0.000    0.002    0.001 polytools.py:308(_from_expr)\n",
      "     7089    0.001    0.000    0.002    0.000 galoistools.py:130(gf_degree)\n",
      "      427    0.002    0.000    0.002    0.000 galoistools.py:477(<listcomp>)\n",
      "     1252    0.001    0.000    0.002    0.000 add.py:36(_addsort)\n",
      "        2    0.000    0.000    0.002    0.001 polyutils.py:345(_dict_from_expr)\n",
      "       50    0.000    0.000    0.002    0.000 rootisolation.py:1867(refine_size)\n",
      "     1678    0.001    0.000    0.001    0.000 polyclasses.py:172(unify)\n",
      "      100    0.000    0.000    0.001    0.000 numbers.py:1938(__gt__)\n",
      "      150    0.000    0.000    0.001    0.000 rootoftools.py:660(_ensure_reals_init)\n",
      "      100    0.000    0.000    0.001    0.000 numbers.py:1917(_Rrel)\n",
      "      150    0.000    0.000    0.001    0.000 rootoftools.py:99(__contains__)\n",
      "     2551    0.001    0.000    0.001    0.000 sympify.py:18(__init__)\n",
      "        1    0.000    0.000    0.001    0.001 orthopolys.py:244(legendre_poly)\n",
      "        2    0.000    0.000    0.001    0.001 polyutils.py:305(_dict_from_expr_if_gens)\n",
      "       51    0.000    0.000    0.001    0.000 expr.py:1904(as_real_imag)\n",
      "      100    0.000    0.000    0.001    0.000 expr.py:215(__mul__)\n",
      "        2    0.000    0.000    0.001    0.001 polyutils.py:180(_parallel_dict_from_expr_if_gens)\n",
      "      318    0.000    0.000    0.001    0.000 numbers.py:1867(__eq__)\n",
      "        1    0.000    0.000    0.001    0.001 sqfreetools.py:196(dup_sqf_part)\n",
      "     1950    0.001    0.000    0.001    0.000 integerring.py:206(gcdex)\n",
      "       50    0.000    0.000    0.001    0.000 numbers.py:738(__mul__)\n",
      "       12    0.000    0.000    0.001    0.000 densearith.py:701(dup_sub_mul)\n",
      "     3608    0.001    0.000    0.001    0.000 domain.py:371(new)\n",
      "      100    0.000    0.000    0.001    0.000 rootisolation.py:1806(center)\n",
      "       50    0.000    0.000    0.001    0.000 rootoftools.py:808(_set_interval)\n",
      "        1    0.000    0.000    0.001    0.001 orthopolys.py:231(dup_legendre)\n",
      "      250    0.000    0.000    0.001    0.000 numbers.py:4450(sympify_mpq)\n",
      "     3368    0.001    0.000    0.001    0.000 domain.py:821(__eq__)\n",
      "     1678    0.000    0.000    0.001    0.000 domain.py:825(__ne__)\n",
      "       56    0.000    0.000    0.001    0.000 polyoptions.py:740(build_options)\n",
      "       50    0.000    0.000    0.001    0.000 rootoftools.py:396(_eval_is_real)\n",
      "  216/108    0.000    0.000    0.001    0.000 basic.py:204(compare)\n",
      "      180    0.000    0.000    0.001    0.000 numbers.py:229(igcd)\n",
      "      654    0.000    0.000    0.001    0.000 polytools.py:4274(__hash__)\n",
      "       55    0.000    0.000    0.001    0.000 polyoptions.py:128(__init__)\n",
      "        1    0.000    0.000    0.001    0.001 euclidtools.py:1591(dup_gcd)\n",
      "        1    0.000    0.000    0.001    0.001 euclidtools.py:1473(dup_inner_gcd)\n",
      "        1    0.000    0.000    0.001    0.001 euclidtools.py:1145(dup_zz_heu_gcd)\n",
      "      100    0.000    0.000    0.001    0.000 rootisolation.py:1801(dx)\n",
      "        1    0.000    0.000    0.001    0.001 util.py:233(leggauss)\n",
      "        1    0.000    0.000    0.001    0.001 legendre.py:1520(leggauss)\n",
      "       50    0.000    0.000    0.001    0.000 evalf.py:1695(_evalf)\n",
      "       50    0.000    0.000    0.001    0.000 numbers.py:671(_eval_evalf)\n",
      "     2601    0.001    0.000    0.001    0.000 {built-in method math.factorial}\n",
      "      625    0.001    0.000    0.001    0.000 densearith.py:14(dup_add_term)\n",
      "     2554    0.001    0.000    0.001    0.000 {built-in method math.ceil}\n",
      "     2475    0.000    0.000    0.001    0.000 densebasic.py:134(dup_degree)\n",
      "        1    0.000    0.000    0.001    0.001 rootoftools.py:729(_preprocess_roots)\n",
      "        1    0.000    0.000    0.001    0.001 polyroots.py:729(preprocess_roots)\n",
      "       50    0.001    0.000    0.001    0.000 pseudospectral.py:499(<dictcomp>)\n",
      "        2    0.000    0.000    0.001    0.000 galoistools.py:1073(gf_gcdex)\n",
      "     1950    0.001    0.000    0.001    0.000 {built-in method gmpy2.gmpy2.gcdext}\n",
      "       51    0.000    0.000    0.001    0.000 bu_pseudospectral.py:216(tau_to_t_points)\n",
      "     3260    0.001    0.000    0.001    0.000 galoistools.py:188(gf_strip)\n",
      "      103    0.000    0.000    0.000    0.000 densearith.py:255(dup_mul_ground)\n",
      "        3    0.000    0.000    0.000    0.000 legendre.py:832(legval)\n",
      "      654    0.000    0.000    0.000    0.000 polytools.py:324(__hash__)\n",
      "      101    0.000    0.000    0.000    0.000 numbers.py:2257(__lt__)\n",
      "      113    0.000    0.000    0.000    0.000 polyutils.py:171(_not_a_coeff)\n",
      "      103    0.000    0.000    0.000    0.000 densearith.py:272(<listcomp>)\n",
      "      257    0.000    0.000    0.000    0.000 numbers.py:1970(__hash__)\n",
      "  242/191    0.000    0.000    0.000    0.000 basic.py:350(__eq__)\n",
      "       27    0.000    0.000    0.000    0.000 galoistools.py:729(gf_quo)\n",
      "        1    0.000    0.000    0.000    0.000 basic.py:802(subs)\n",
      "       60    0.000    0.000    0.000    0.000 densearith.py:513(dup_add)\n",
      "       50    0.000    0.000    0.000    0.000 numbers.py:1840(_as_mpf_val)\n",
      "      180    0.000    0.000    0.000    0.000 numbers.py:257(<listcomp>)\n",
      "       50    0.000    0.000    0.000    0.000 functools.py:517(decorating_function)\n",
      "      927    0.000    0.000    0.000    0.000 densebasic.py:252(dup_strip)\n",
      "       33    0.000    0.000    0.000    0.000 galoistools.py:1360(gf_random)\n",
      "       85    0.000    0.000    0.000    0.000 galoistools.py:1139(gf_monic)\n",
      "     2357    0.000    0.000    0.000    0.000 domain.py:982(is_one)\n",
      "       33    0.000    0.000    0.000    0.000 galoistools.py:1373(<listcomp>)\n",
      "      587    0.000    0.000    0.000    0.000 misc.py:491(as_int)\n",
      "        2    0.000    0.000    0.000    0.000 polyclasses.py:242(to_sympy_dict)\n",
      "       14    0.000    0.000    0.000    0.000 galoistools.py:613(gf_sub_mul)\n",
      "      100    0.000    0.000    0.000    0.000 numbers.py:1846(__abs__)\n",
      "       51    0.000    0.000    0.000    0.000 rootoftools.py:92(__setitem__)\n",
      "       50    0.000    0.000    0.000    0.000 functools.py:35(update_wrapper)\n",
      "       74    0.000    0.000    0.000    0.000 galoistools.py:437(gf_quo_ground)\n",
      "        2    0.000    0.000    0.000    0.000 basic.py:2016(_aresame)\n",
      "        4    0.000    0.000    0.000    0.000 expr.py:373(__lt__)\n",
      "        1    0.000    0.000    0.000    0.000 basic.py:1002(_subs)\n",
      "        9    0.000    0.000    0.000    0.000 galoistools.py:1164(gf_diff)\n",
      "        4    0.000    0.000    0.000    0.000 relational.py:822(__new__)\n",
      "      625    0.000    0.000    0.000    0.000 ring.py:19(exquo)\n",
      "       10    0.000    0.000    0.000    0.000 densetools.py:571(dup_content)\n",
      "        1    0.000    0.000    0.000    0.000 polytools.py:4246(__ne__)\n",
      "     2626    0.000    0.000    0.000    0.000 {method 'pop' of 'list' objects}\n",
      "       44    0.000    0.000    0.000    0.000 {built-in method builtins.sorted}\n",
      "       50    0.000    0.000    0.000    0.000 numbers.py:2171(__radd__)\n",
      "        1    0.000    0.000    0.000    0.000 polytools.py:828(retract)\n",
      "        4    0.000    0.000    0.000    0.000 relational.py:850(_eval_relation)\n",
      "        1    0.000    0.000    0.000    0.000 densearith.py:1560(dup_quo)\n",
      "       87    0.000    0.000    0.000    0.000 domain.py:403(convert)\n",
      "       50    0.000    0.000    0.000    0.000 evalf.py:1705(_to_mpmath)\n",
      "       36    0.000    0.000    0.000    0.000 densearith.py:536(<listcomp>)\n",
      "       26    0.000    0.000    0.000    0.000 rationalfield.py:53(to_sympy)\n",
      "        4    0.000    0.000    0.000    0.000 relational.py:1177(_eval_fuzzy_relation)\n",
      "        3    0.000    0.000    0.000    0.000 polytools.py:243(_from_dict)\n",
      "        1    0.000    0.000    0.000    0.000 polytools.py:2253(clear_denoms)\n",
      "        4    0.000    0.000    0.000    0.000 relational.py:1253(is_lt)\n",
      "        8    0.000    0.000    0.000    0.000 densetools.py:658(dup_primitive)\n",
      "        4    0.000    0.000    0.000    0.000 relational.py:1277(is_ge)\n",
      "        1    0.000    0.000    0.000    0.000 factortools.py:79(dup_trial_division)\n",
      "       51    0.000    0.000    0.000    0.000 polytools.py:285(_from_poly)\n",
      "       74    0.000    0.000    0.000    0.000 densearith.py:622(<listcomp>)\n",
      "      198    0.000    0.000    0.000    0.000 polyoptions.py:65(getter)\n",
      "       99    0.000    0.000    0.000    0.000 random.py:511(uniform)\n",
      "      443    0.000    0.000    0.000    0.000 {built-in method gmpy2.gmpy2.gcd}\n",
      "        4    0.000    0.000    0.000    0.000 relational.py:1208(_n2)\n",
      "      110    0.000    0.000    0.000    0.000 polyoptions.py:140(preprocess_options)\n",
      "      262    0.000    0.000    0.000    0.000 basic.py:1934(<genexpr>)\n",
      "       28    0.000    0.000    0.000    0.000 polyutils.py:155(_sort_factors)\n",
      "       95    0.000    0.000    0.000    0.000 numbers.py:2084(__new__)\n",
      "        2    0.000    0.000    0.000    0.000 constructor.py:266(construct_domain)\n",
      "      216    0.000    0.000    0.000    0.000 core.py:101(__gt__)\n",
      "      432    0.000    0.000    0.000    0.000 core.py:73(__cmp__)\n",
      "       50    0.000    0.000    0.000    0.000 mul.py:478(<listcomp>)\n",
      "        1    0.000    0.000    0.000    0.000 polytools.py:765(to_ring)\n",
      "       50    0.000    0.000    0.000    0.000 rootoftools.py:492(<lambda>)\n",
      "        1    0.000    0.000    0.000    0.000 polyclasses.py:285(to_ring)\n",
      "        1    0.000    0.000    0.000    0.000 polyclasses.py:297(convert)\n",
      "      216    0.000    0.000    0.000    0.000 core.py:96(__lt__)\n",
      "      317    0.000    0.000    0.000    0.000 integerring.py:214(gcd)\n",
      "        1    0.000    0.000    0.000    0.000 densebasic.py:541(dmp_convert)\n",
      "       35    0.000    0.000    0.000    0.000 galoistools.py:489(gf_sub)\n",
      "       52    0.000    0.000    0.000    0.000 {built-in method numpy.zeros}\n",
      "        1    0.000    0.000    0.000    0.000 densebasic.py:516(dup_convert)\n",
      "        1    0.000    0.000    0.000    0.000 densebasic.py:538(<listcomp>)\n",
      "      101    0.000    0.000    0.000    0.000 primetest.py:499(isprime)\n",
      "       29    0.000    0.000    0.000    0.000 polyutils.py:359(<genexpr>)\n",
      "        1    0.000    0.000    0.000    0.000 polyroots.py:664(_integer_basis)\n",
      "        1    0.000    0.000    0.000    0.000 polytools.py:219(from_dict)\n",
      "       55    0.000    0.000    0.000    0.000 integerring.py:53(to_sympy)\n",
      "        1    0.000    0.000    0.000    0.000 legendre.py:1415(legcompanion)\n",
      "       55    0.000    0.000    0.000    0.000 iterables.py:2898(iterable)\n",
      "       11    0.000    0.000    0.000    0.000 galoistools.py:322(gf_to_int_poly)\n",
      "       71    0.000    0.000    0.000    0.000 galoistools.py:486(<listcomp>)\n",
      "        1    0.000    0.000    0.000    0.000 polytools.py:1035(as_dict)\n",
      "      125    0.000    0.000    0.000    0.000 power.py:962(as_base_exp)\n",
      "       16    0.000    0.000    0.000    0.000 galoistools.py:306(gf_from_int_poly)\n",
      "       11    0.000    0.000    0.000    0.000 galoistools.py:339(<listcomp>)\n",
      "      250    0.000    0.000    0.000    0.000 {built-in method builtins.setattr}\n",
      "      664    0.000    0.000    0.000    0.000 densebasic.py:11(poly_LC)\n",
      "        1    0.000    0.000    0.000    0.000 densetools.py:727(dup_extract)\n",
      "     1045    0.000    0.000    0.000    0.000 polyoptions.py:39(postprocess)\n",
      "        3    0.000    0.000    0.000    0.000 polyclasses.py:276(from_dict)\n",
      "       16    0.000    0.000    0.000    0.000 galoistools.py:216(gf_trunc)\n",
      "        3    0.000    0.000    0.000    0.000 polyclasses.py:169(__hash__)\n",
      "      262    0.000    0.000    0.000    0.000 {method 'mro' of 'type' objects}\n",
      "       60    0.000    0.000    0.000    0.000 domain.py:386(convert_from)\n",
      "        3    0.000    0.000    0.000    0.000 densearith.py:1705(dup_max_norm)\n",
      "      594    0.000    0.000    0.000    0.000 {built-in method _operator.index}\n",
      "       50    0.000    0.000    0.000    0.000 libmpf.py:59(prec_to_dps)\n",
      "        1    0.000    0.000    0.000    0.000 polyclasses.py:593(clear_denoms)\n",
      "        3    0.000    0.000    0.000    0.000 polyoptions.py:282(preprocess)\n",
      "      100    0.000    0.000    0.000    0.000 {method 'setdefault' of 'dict' objects}\n",
      "        1    0.000    0.000    0.000    0.000 legendre.py:612(legder)\n",
      "        3    0.000    0.000    0.000    0.000 densebasic.py:975(dmp_from_dict)\n",
      "      475    0.000    0.000    0.000    0.000 expr.py:149(_hashable_content)\n",
      "       75    0.000    0.000    0.000    0.000 polyutils.py:360(<genexpr>)\n",
      "        1    0.000    0.000    0.000    0.000 densetools.py:1223(dmp_clear_denoms)\n",
      "        3    0.000    0.000    0.000    0.000 densebasic.py:917(dup_from_dict)\n",
      "        3    0.000    0.000    0.000    0.000 densearith.py:435(dup_abs)\n",
      "        1    0.000    0.000    0.000    0.000 densetools.py:1169(dup_clear_denoms)\n",
      "        3    0.000    0.000    0.000    0.000 densearith.py:449(<listcomp>)\n",
      "        1    0.000    0.000    0.000    0.000 polytools.py:3018(primitive)\n",
      "       16    0.000    0.000    0.000    0.000 galoistools.py:229(<listcomp>)\n",
      "        1    0.000    0.000    0.000    0.000 rootoftools.py:112(<listcomp>)\n",
      "       55    0.000    0.000    0.000    0.000 basic.py:331(_do_eq_sympify)\n",
      "        2    0.000    0.000    0.000    0.000 symbol.py:426(__new__)\n",
      "       50    0.000    0.000    0.000    0.000 functools.py:478(lru_cache)\n",
      "      318    0.000    0.000    0.000    0.000 numbers.py:1683(_hashable_content)\n",
      "       77    0.000    0.000    0.000    0.000 polyutils.py:350(_is_expandable_pow)\n",
      "        1    0.000    0.000    0.000    0.000 <__array_function__ internals>:177(eigvalsh)\n",
      "        4    0.000    0.000    0.000    0.000 numbers.py:3493(__sub__)\n",
      "       50    0.000    0.000    0.000    0.000 mul.py:826(as_coeff_Mul)\n",
      "        1    0.000    0.000    0.000    0.000 polyclasses.py:724(primitive)\n",
      "        1    0.000    0.000    0.000    0.000 densetools.py:138(dup_diff)\n",
      "        1    0.000    0.000    0.000    0.000 linalg.py:1072(eigvalsh)\n",
      "        8    0.000    0.000    0.000    0.000 polyclasses.py:151(__init__)\n",
      "        4    0.000    0.000    0.000    0.000 numbers.py:3481(evalf)\n",
      "        1    0.000    0.000    0.000    0.000 densetools.py:691(dmp_ground_primitive)\n",
      "       24    0.000    0.000    0.000    0.000 densearith.py:545(<listcomp>)\n",
      "       50    0.000    0.000    0.000    0.000 ctx_mp_python.py:595(make_mpf)\n",
      "        2    0.000    0.000    0.000    0.000 constructor.py:15(_construct_simple)\n",
      "       51    0.000    0.000    0.000    0.000 basic.py:392(__ne__)\n",
      "        4    0.000    0.000    0.000    0.000 numbers.py:3478(_eval_evalf)\n",
      "        1    0.000    0.000    0.000    0.000 polytools.py:910(terms)\n",
      "      105    0.000    0.000    0.000    0.000 boolalg.py:460(<lambda>)\n",
      "      151    0.000    0.000    0.000    0.000 polyutils.py:161(order_no_multiple_key)\n",
      "      241    0.000    0.000    0.000    0.000 galoistools.py:109(gf_int)\n",
      "       13    0.000    0.000    0.000    0.000 densearith.py:474(dup_neg)\n",
      "       12    0.000    0.000    0.000    0.000 symbol.py:340(_hashable_content)\n",
      "        2    0.000    0.000    0.000    0.000 symbol.py:298(__xnew__)\n",
      "        1    0.000    0.000    0.000    0.000 expr.py:3598(expand)\n",
      "        1    0.000    0.000    0.000    0.000 polyutils.py:80(as_series)\n",
      "       33    0.000    0.000    0.000    0.000 galoistools.py:389(gf_sub_ground)\n",
      "        1    0.000    0.000    0.000    0.000 densebasic.py:340(dmp_validate)\n",
      "        2    0.000    0.000    0.000    0.000 constructor.py:76(<listcomp>)\n",
      "      152    0.000    0.000    0.000    0.000 domain.py:1008(abs)\n",
      "        1    0.000    0.000    0.000    0.000 basic.py:677(is_comparable)\n",
      "       26    0.000    0.000    0.000    0.000 numbers.py:2133(__abs__)\n",
      "       26    0.000    0.000    0.000    0.000 exprtools.py:216(decompose_power)\n",
      "      262    0.000    0.000    0.000    0.000 {built-in method from_iterable}\n",
      "       29    0.000    0.000    0.000    0.000 polyutils.py:364(<genexpr>)\n",
      "       13    0.000    0.000    0.000    0.000 densearith.py:488(<listcomp>)\n",
      "        2    0.000    0.000    0.000    0.000 symbol.py:586(symbols)\n",
      "        2    0.000    0.000    0.000    0.000 <__array_function__ internals>:177(moveaxis)\n",
      "       33    0.000    0.000    0.000    0.000 operations.py:429(make_args)\n",
      "        2    0.000    0.000    0.000    0.000 densetools.py:262(dup_eval)\n",
      "        9    0.000    0.000    0.000    0.000 polytools.py:193(new)\n",
      "     52/1    0.000    0.000    0.000    0.000 densebasic.py:312(_rec_validate)\n",
      "        8    0.000    0.000    0.000    0.000 galoistools.py:344(gf_neg)\n",
      "       56    0.000    0.000    0.000    0.000 {built-in method builtins.iter}\n",
      "        1    0.000    0.000    0.000    0.000 polytools.py:928(<listcomp>)\n",
      "        8    0.000    0.000    0.000    0.000 symbol.py:452(_hashable_content)\n",
      "        2    0.000    0.000    0.000    0.000 numeric.py:1404(moveaxis)\n",
      "        3    0.000    0.000    0.000    0.000 iterables.py:1930(has_dups)\n",
      "        8    0.000    0.000    0.000    0.000 galoistools.py:358(<listcomp>)\n",
      "        1    0.000    0.000    0.000    0.000 polytools.py:598(_eval_subs)\n",
      "        5    0.000    0.000    0.000    0.000 polytools.py:522(per)\n",
      "        1    0.000    0.000    0.000    0.000 polytools.py:630(replace)\n",
      "        1    0.000    0.000    0.000    0.000 factortools.py:352(<listcomp>)\n",
      "       51    0.000    0.000    0.000    0.000 integerring.py:218(lcm)\n",
      "       23    0.000    0.000    0.000    0.000 galoistools.py:521(<listcomp>)\n",
      "       12    0.000    0.000    0.000    0.000 symbol.py:352(assumptions0)\n",
      "       51    0.000    0.000    0.000    0.000 integerring.py:172(from_QQ)\n",
      "       27    0.000    0.000    0.000    0.000 rationalfield.py:57(from_sympy)\n",
      "       55    0.000    0.000    0.000    0.000 polyoptions.py:500(postprocess)\n",
      "        1    0.000    0.000    0.000    0.000 numbers.py:2139(__divmod__)\n",
      "        2    0.000    0.000    0.000    0.000 densebasic.py:1071(dmp_to_dict)\n",
      "       46    0.000    0.000    0.000    0.000 domain.py:465(of_type)\n",
      "       49    0.000    0.000    0.000    0.000 densearith.py:396(dup_lshift)\n",
      "       50    0.000    0.000    0.000    0.000 numbers.py:1269(__bool__)\n",
      "       51    0.000    0.000    0.000    0.000 {method 'update' of 'dict' objects}\n",
      "        2    0.000    0.000    0.000    0.000 densebasic.py:1019(dup_to_dict)\n",
      "       50    0.000    0.000    0.000    0.000 rootoftools.py:378(_hashable_content)\n",
      "       55    0.000    0.000    0.000    0.000 polyoptions.py:568(postprocess)\n",
      "        4    0.000    0.000    0.000    0.000 dispatcher.py:231(__call__)\n",
      "        2    0.000    0.000    0.000    0.000 {method 'max' of 'numpy.ndarray' objects}\n",
      "        1    0.000    0.000    0.000    0.000 pstats.py:107(__init__)\n",
      "      104    0.000    0.000    0.000    0.000 boolalg.py:345(__bool__)\n",
      "        9    0.000    0.000    0.000    0.000 expr.py:3568(_expand_hint)\n",
      "        1    0.000    0.000    0.000    0.000 containers.py:52(__new__)\n",
      "        1    0.000    0.000    0.000    0.000 polyclasses.py:316(terms)\n",
      "        1    0.000    0.000    0.000    0.000 <__array_function__ internals>:177(common_type)\n",
      "        4    0.000    0.000    0.000    0.000 numeric.py:1341(normalize_axis_tuple)\n",
      "       50    0.000    0.000    0.000    0.000 expr.py:3519(as_coeff_Mul)\n",
      "        4    0.000    0.000    0.000    0.000 symbol.py:254(_sanitize)\n",
      "        1    0.000    0.000    0.000    0.000 densebasic.py:1713(dmp_list_terms)\n",
      "       99    0.000    0.000    0.000    0.000 {method 'random' of '_random.Random' objects}\n",
      "        2    0.000    0.000    0.000    0.000 _methods.py:38(_amax)\n",
      "       55    0.000    0.000    0.000    0.000 polyoptions.py:631(postprocess)\n",
      "        5    0.000    0.000    0.000    0.000 polyconfig.py:47(query)\n",
      "       50    0.000    0.000    0.000    0.000 numbers.py:2034(as_coeff_Mul)\n",
      "        1    0.000    0.000    0.000    0.000 densebasic.py:1694(_rec_list_terms)\n",
      "        1    0.000    0.000    0.000    0.000 polytools.py:3356(<listcomp>)\n",
      "        1    0.000    0.000    0.000    0.000 pstats.py:117(init)\n",
      "      106    0.000    0.000    0.000    0.000 polyoptions.py:31(default)\n",
      "        3    0.000    0.000    0.000    0.000 polyclasses.py:202(per)\n",
      "       51    0.000    0.000    0.000    0.000 {built-in method gmpy2.gmpy2.lcm}\n",
      "        3    0.000    0.000    0.000    0.000 iterables.py:2956(is_sequence)\n",
      "       55    0.000    0.000    0.000    0.000 polyoptions.py:535(postprocess)\n",
      "        5    0.000    0.000    0.000    0.000 {built-in method math.log}\n",
      "       53    0.000    0.000    0.000    0.000 basic.py:724(func)\n",
      "       26    0.000    0.000    0.000    0.000 integerring.py:57(from_sympy)\n",
      "        1    0.000    0.000    0.000    0.000 type_check.py:716(common_type)\n",
      "        2    0.000    0.000    0.000    0.000 symbol.py:285(__new__)\n",
      "       55    0.000    0.000    0.000    0.000 polyoptions.py:593(postprocess)\n",
      "       65    0.000    0.000    0.000    0.000 {method 'pop' of 'dict' objects}\n",
      "        1    0.000    0.000    0.000    0.000 rootoftools.py:452(<listcomp>)\n",
      "       55    0.000    0.000    0.000    0.000 polyoptions.py:520(postprocess)\n",
      "       55    0.000    0.000    0.000    0.000 expr.py:977(_eval_power)\n",
      "        1    0.000    0.000    0.000    0.000 polyclasses.py:824(<listcomp>)\n",
      "        3    0.000    0.000    0.000    0.000 containers.py:54(<genexpr>)\n",
      "        1    0.000    0.000    0.000    0.000 basic.py:944(<listcomp>)\n",
      "       63    0.000    0.000    0.000    0.000 {method 'keys' of 'dict' objects}\n",
      "       50    0.000    0.000    0.000    0.000 power.py:391(exp)\n",
      "        3    0.000    0.000    0.000    0.000 iterables.py:1950(<genexpr>)\n",
      "        3    0.000    0.000    0.000    0.000 rationalfield.py:48(get_ring)\n",
      "        3    0.000    0.000    0.000    0.000 polyclasses.py:268(to_tuple)\n",
      "        1    0.000    0.000    0.000    0.000 pstats.py:136(load_stats)\n",
      "       12    0.000    0.000    0.000    0.000 symbol.py:354(<dictcomp>)\n",
      "        1    0.000    0.000    0.000    0.000 rootoftools.py:635(_count_roots)\n",
      "       51    0.000    0.000    0.000    0.000 polyoptions.py:278(default)\n",
      "        2    0.000    0.000    0.000    0.000 polyoptions.py:205(clone)\n",
      "       51    0.000    0.000    0.000    0.000 rationalfield.py:158(denom)\n",
      "        1    0.000    0.000    0.000    0.000 linalg.py:135(_commonType)\n",
      "        6    0.000    0.000    0.000    0.000 polyoptions.py:293(<genexpr>)\n",
      "        1    0.000    0.000    0.000    0.000 {method 'sum' of 'numpy.ndarray' objects}\n",
      "        1    0.000    0.000    0.000    0.000 polyutils.py:136(<listcomp>)\n",
      "        1    0.000    0.000    0.000    0.000 <__array_function__ internals>:177(iscomplexobj)\n",
      "        1    0.000    0.000    0.000    0.000 polyutils.py:50(trimseq)\n",
      "        4    0.000    0.000    0.000    0.000 {method 'astype' of 'numpy.ndarray' objects}\n",
      "        1    0.000    0.000    0.000    0.000 _methods.py:46(_sum)\n",
      "        4    0.000    0.000    0.000    0.000 traversal.py:163(__next__)\n",
      "        1    0.000    0.000    0.000    0.000 cProfile.py:50(create_stats)\n",
      "       25    0.000    0.000    0.000    0.000 power.py:387(base)\n",
      "        2    0.000    0.000    0.000    0.000 {built-in method numpy.arange}\n",
      "        1    0.000    0.000    0.000    0.000 polyutils.py:152(<listcomp>)\n",
      "        2    0.000    0.000    0.000    0.000 densearith.py:297(dup_quo_ground)\n",
      "        2    0.000    0.000    0.000    0.000 polyoptions.py:413(preprocess)\n",
      "       26    0.000    0.000    0.000    0.000 polyoptions.py:705(default)\n",
      "        4    0.000    0.000    0.000    0.000 numbers.py:3370(__neg__)\n",
      "        2    0.000    0.000    0.000    0.000 integerring.py:222(sqrt)\n",
      "        3    0.000    0.000    0.000    0.000 domain.py:368(__hash__)\n",
      "        2    0.000    0.000    0.000    0.000 polyutils.py:138(<genexpr>)\n",
      "        4    0.000    0.000    0.000    0.000 dispatcher.py:232(<listcomp>)\n",
      "        4    0.000    0.000    0.000    0.000 numeric.py:1391(<listcomp>)\n",
      "        9    0.000    0.000    0.000    0.000 integerring.py:164(from_ZZ)\n",
      "        1    0.000    0.000    0.000    0.000 linalg.py:111(_makearray)\n",
      "        6    0.000    0.000    0.000    0.000 logic.py:92(fuzzy_bool)\n",
      "       13    0.000    0.000    0.000    0.000 {built-in method builtins.issubclass}\n",
      "        4    0.000    0.000    0.000    0.000 traversal.py:116(__init__)\n",
      "        1    0.000    0.000    0.000    0.000 euclidtools.py:1129(_dup_zz_gcd_interpolate)\n",
      "        3    0.000    0.000    0.000    0.000 densebasic.py:452(dmp_to_tuple)\n",
      "        1    0.000    0.000    0.000    0.000 type_check.py:303(iscomplexobj)\n",
      "        1    0.000    0.000    0.000    0.000 factortools.py:546(dup_zz_cyclotomic_factor)\n",
      "        1    0.000    0.000    0.000    0.000 containers.py:70(__iter__)\n",
      "        2    0.000    0.000    0.000    0.000 linalg.py:129(_realType)\n",
      "        8    0.000    0.000    0.000    0.000 polytools.py:556(get_domain)\n",
      "        6    0.000    0.000    0.000    0.000 {method 'upper' of 'str' objects}\n",
      "        1    0.000    0.000    0.000    0.000 numbers.py:2220(__mod__)\n",
      "        1    0.000    0.000    0.000    0.000 polytools.py:4277(free_symbols)\n",
      "        1    0.000    0.000    0.000    0.000 iterables.py:446(subsets)\n",
      "        3    0.000    0.000    0.000    0.000 polyutils.py:716(_deprecate_as_int)\n",
      "        1    0.000    0.000    0.000    0.000 numbers.py:2011(as_numer_denom)\n",
      "        1    0.000    0.000    0.000    0.000 rootoftools.py:638(<listcomp>)\n",
      "        1    0.000    0.000    0.000    0.000 polyutils.py:130(<listcomp>)\n",
      "        1    0.000    0.000    0.000    0.000 densebasic.py:157(dmp_degree)\n",
      "        3    0.000    0.000    0.000    0.000 {method 'add' of 'set' objects}\n",
      "        5    0.000    0.000    0.000    0.000 numbers.py:1689(_eval_is_zero)\n",
      "        4    0.000    0.000    0.000    0.000 {built-in method builtins.next}\n",
      "        2    0.000    0.000    0.000    0.000 densearith.py:323(<listcomp>)\n",
      "        4    0.000    0.000    0.000    0.000 numbers.py:3714(__eq__)\n",
      "        1    0.000    0.000    0.000    0.000 polytools.py:358(free_symbols_in_domain)\n",
      "        2    0.000    0.000    0.000    0.000 symbol.py:730(<listcomp>)\n",
      "        2    0.000    0.000    0.000    0.000 polytools.py:4089(is_univariate)\n",
      "        1    0.000    0.000    0.000    0.000 basic.py:711(<listcomp>)\n",
      "        2    0.000    0.000    0.000    0.000 galoistools.py:512(<listcomp>)\n",
      "        8    0.000    0.000    0.000    0.000 traversal.py:120(_preorder_traversal)\n",
      "        5    0.000    0.000    0.000    0.000 {built-in method numpy.core._multiarray_umath.normalize_axis_index}\n",
      "        2    0.000    0.000    0.000    0.000 polyutils.py:157(order_if_multiple_key)\n",
      "        2    0.000    0.000    0.000    0.000 {method 'transpose' of 'numpy.ndarray' objects}\n",
      "        1    0.000    0.000    0.000    0.000 densebasic.py:1631(dup_terms_gcd)\n",
      "        1    0.000    0.000    0.000    0.000 densebasic.py:330(_rec_strip)\n",
      "        4    0.000    0.000    0.000    0.000 logic.py:151(fuzzy_not)\n",
      "        2    0.000    0.000    0.000    0.000 polyutils.py:133(<genexpr>)\n",
      "        1    0.000    0.000    0.000    0.000 polyutils.py:131(<listcomp>)\n",
      "        2    0.000    0.000    0.000    0.000 linalg.py:116(isComplexType)\n",
      "        6    0.000    0.000    0.000    0.000 expr.py:3641(_expand_hint_key)\n",
      "        2    0.000    0.000    0.000    0.000 {method 'endswith' of 'str' objects}\n",
      "        4    0.000    0.000    0.000    0.000 relational.py:1220(_eval_is_ge)\n",
      "        1    0.000    0.000    0.000    0.000 expr.py:2006(as_base_exp)\n",
      "        2    0.000    0.000    0.000    0.000 factortools.py:348(<lambda>)\n",
      "        3    0.000    0.000    0.000    0.000 polytools.py:4270(_hashable_content)\n",
      "        1    0.000    0.000    0.000    0.000 linalg.py:106(get_linalg_error_extobj)\n",
      "        1    0.000    0.000    0.000    0.000 polytools.py:405(domain)\n",
      "        2    0.000    0.000    0.000    0.000 {built-in method gmpy2.gmpy2.isqrt}\n",
      "        1    0.000    0.000    0.000    0.000 bu_pseudospectral.py:39(BU_coll_points)\n",
      "        1    0.000    0.000    0.000    0.000 linalg.py:199(_assert_stacked_square)\n",
      "        2    0.000    0.000    0.000    0.000 mul.py:689(<genexpr>)\n",
      "        4    0.000    0.000    0.000    0.000 symbol.py:731(<genexpr>)\n",
      "        1    0.000    0.000    0.000    0.000 {built-in method numpy.empty}\n",
      "        1    0.000    0.000    0.000    0.000 polyoptions.py:53(preprocess)\n",
      "        2    0.000    0.000    0.000    0.000 numeric.py:1466(<listcomp>)\n",
      "        1    0.000    0.000    0.000    0.000 rootoftools.py:768(<setcomp>)\n",
      "        1    0.000    0.000    0.000    0.000 linalg.py:193(_assert_stacked_2d)\n",
      "        1    0.000    0.000    0.000    0.000 {built-in method builtins.sum}\n",
      "        2    0.000    0.000    0.000    0.000 densebasic.py:33(poly_TC)\n",
      "        2    0.000    0.000    0.000    0.000 numeric.py:1400(_moveaxis_dispatcher)\n",
      "        4    0.000    0.000    0.000    0.000 traversal.py:166(__iter__)\n",
      "        1    0.000    0.000    0.000    0.000 {method 'disable' of '_lsprof.Profiler' objects}\n",
      "        1    0.000    0.000    0.000    0.000 polytools.py:388(gen)\n",
      "        1    0.000    0.000    0.000    0.000 densebasic.py:695(dmp_zero_p)\n",
      "        2    0.000    0.000    0.000    0.000 polyoptions.py:265(default)\n",
      "        1    0.000    0.000    0.000    0.000 iterables.py:524(numbered_symbols)\n",
      "        2    0.000    0.000    0.000    0.000 symbol.py:716(literal)\n",
      "        1    0.000    0.000    0.000    0.000 type_check.py:206(_is_type_dispatcher)\n",
      "        1    0.000    0.000    0.000    0.000 euclidtools.py:861(_dup_rr_trivial_gcd)\n",
      "        1    0.000    0.000    0.000    0.000 domain.py:990(is_negative)\n",
      "        1    0.000    0.000    0.000    0.000 mul.py:687(<genexpr>)\n",
      "        1    0.000    0.000    0.000    0.000 boolalg.py:420(__bool__)\n",
      "        1    0.000    0.000    0.000    0.000 {method 'index' of 'list' objects}\n",
      "        1    0.000    0.000    0.000    0.000 linalg.py:1068(_eigvalsh_dispatcher)\n",
      "        1    0.000    0.000    0.000    0.000 {method 'pop' of 'set' objects}\n",
      "        1    0.000    0.000    0.000    0.000 type_check.py:712(_common_type_dispatcher)\n",
      "\n",
      "\n"
     ]
    }
   ],
   "source": [
    "with Profile() as profile:\n",
    "    Integration_Matrix(\n",
    "        N_coll = 50,\n",
    "        scheme = scheme,\n",
    "        deriv_order = 1,\n",
    "        h = tf-t0,\n",
    "        scheme_order=2,\n",
    "        precission=20,)\n",
    "    (\n",
    "         Stats(profile)\n",
    "         .strip_dirs()\n",
    "         .sort_stats(SortKey.CUMULATIVE)\n",
    "         .print_stats()\n",
    "     )"
   ]
  },
  {
   "cell_type": "code",
   "execution_count": 259,
   "id": "7d4f0aa9",
   "metadata": {
    "scrolled": true
   },
   "outputs": [
    {
     "name": "stdout",
     "output_type": "stream",
     "text": [
      "         15273888 function calls (15269567 primitive calls) in 9.016 seconds\n",
      "\n",
      "   Ordered by: cumulative time\n",
      "\n",
      "   ncalls  tottime  percall  cumtime  percall filename:lineno(function)\n",
      "        1    0.000    0.000   11.603   11.603 bu_pseudospectral.py:404(Integration_Matrix)\n",
      "      2/1    0.000    0.000    7.271    7.271 bu_pseudospectral.py:394(Lag_integ_2d)\n",
      "        1    0.000    0.000    7.221    7.221 util.py:274(poly_integral_2d)\n",
      "       60    0.001    0.000    7.220    0.120 util.py:256(poly_integral)\n",
      "       60    0.004    0.000    7.164    0.119 util.py:264(<listcomp>)\n",
      "     3600    0.047    0.000    7.160    0.002 util.py:237(gauss_integral)\n",
      "     3600    0.030    0.000    7.084    0.002 util.py:244(<listcomp>)\n",
      "   108000    0.061    0.000    7.054    0.000 util.py:296(<lambda>)\n",
      "   108002    0.069    0.000    7.023    0.000 numpy.py:39(combined)\n",
      "   108002    1.195    0.000    6.708    0.000 numpy.py:40(<listcomp>)\n",
      "        1    0.000    0.000    4.302    4.302 bu_pseudospectral.py:93(BU_construction_points)\n",
      "        1    0.000    0.000    4.302    4.302 pseudospectral.py:36(LG)\n",
      "       74    0.001    0.000    3.449    0.047 evalf.py:1570(evalf)\n",
      "        1    0.000    0.000    3.449    3.449 pseudospectral.py:38(<listcomp>)\n",
      "       74    0.001    0.000    3.448    0.047 evalf.py:1462(evalf)\n",
      "       60    0.000    0.000    3.441    0.057 rootoftools.py:914(_eval_evalf)\n",
      "       60    0.001    0.000    3.440    0.057 rootoftools.py:919(eval_rational)\n",
      "       60    0.019    0.000    3.421    0.057 rootisolation.py:1867(refine_size)\n",
      "     2599    0.004    0.000    3.398    0.001 rootisolation.py:1849(_inner_refine)\n",
      "     2659    0.006    0.000    3.391    0.001 rootisolation.py:269(dup_inner_refine_real_root)\n",
      "     2599    0.011    0.000    3.381    0.001 rootisolation.py:223(dup_step_refine_real_root)\n",
      "     2713    0.010    0.000    2.140    0.001 rootisolation.py:114(dup_root_lower_bound)\n",
      "     2713    0.859    0.000    2.126    0.001 rootisolation.py:70(dup_root_upper_bound)\n",
      "  6588559    2.079    0.000    2.079    0.000 {built-in method numpy.array}\n",
      "   108060    0.042    0.000    1.399    0.000 pseudospectral.py:514(poly_fun_con)\n",
      "     5241    1.226    0.000    1.227    0.000 densetools.py:870(dup_shift)\n",
      "  1437071    0.739    0.000    1.094    0.000 integerring.py:124(log)\n",
      "   223440    0.101    0.000    1.073    0.000 <__array_function__ internals>:177(sum)\n",
      "223631/223509    0.077    0.000    0.951    0.000 {built-in method numpy.core._multiarray_umath.implement_array_function}\n",
      "   223440    0.170    0.000    0.874    0.000 fromnumeric.py:2160(sum)\n",
      "        1    0.000    0.000    0.852    0.852 polytools.py:3590(real_roots)\n",
      "        1    0.000    0.000    0.852    0.852 rootoftools.py:409(real_roots)\n",
      "        1    0.000    0.000    0.852    0.852 rootoftools.py:757(_get_roots)\n",
      "        1    0.000    0.000    0.818    0.818 rootoftools.py:670(_real_roots)\n",
      "   223440    0.203    0.000    0.683    0.000 fromnumeric.py:69(_wrapreduction)\n",
      "        1    0.000    0.000    0.454    0.454 rootoftools.py:442(_get_reals)\n",
      "   223446    0.392    0.000    0.392    0.000 {method 'reduce' of 'numpy.ufunc' objects}\n",
      "        1    0.000    0.000    0.364    0.364 rootoftools.py:419(_get_reals_sqf)\n",
      "        1    0.000    0.000    0.364    0.364 rootisolation.py:558(dup_isolate_real_roots_sqf)\n",
      "        1    0.000    0.000    0.358    0.358 rootoftools.py:110(_pure_factors)\n",
      "        1    0.000    0.000    0.358    0.358 polytools.py:3331(factor_list)\n",
      "        1    0.000    0.000    0.358    0.358 polyclasses.py:821(factor_list)\n",
      "        1    0.000    0.000    0.358    0.358 factortools.py:1390(dmp_factor_list)\n",
      "        1    0.000    0.000    0.358    0.358 factortools.py:1313(dup_factor_list)\n",
      "        1    0.000    0.000    0.358    0.358 factortools.py:619(dup_zz_factor)\n",
      "        1    0.002    0.002    0.356    0.356 factortools.py:314(dup_zz_zassenhaus)\n",
      "  1437083    0.355    0.000    0.355    0.000 {built-in method math.log}\n",
      "    10246    0.223    0.000    0.308    0.000 densearith.py:735(dup_mul)\n",
      "     2659    0.011    0.000    0.260    0.000 rootisolation.py:1738(__init__)\n",
      "        1    0.000    0.000    0.258    0.258 rootisolation.py:590(<listcomp>)\n",
      "       60    0.005    0.000    0.249    0.004 densetools.py:893(dup_transform)\n",
      "        1    0.000    0.000    0.190    0.190 galoistools.py:2108(gf_factor_sqf)\n",
      "        1    0.000    0.000    0.190    0.190 galoistools.py:2058(gf_zassenhaus)\n",
      "        1    0.001    0.001    0.186    0.186 galoistools.py:1798(gf_ddf_zassenhaus)\n",
      "       10    0.001    0.000    0.170    0.017 galoistools.py:872(gf_frobenius_monomial_base)\n",
      "     1227    0.099    0.000    0.112    0.000 galoistools.py:658(gf_div)\n",
      "     1177    0.000    0.000    0.112    0.000 galoistools.py:712(gf_rem)\n",
      "   453911    0.106    0.000    0.106    0.000 {built-in method builtins.min}\n",
      "        2    0.001    0.000    0.106    0.053 rootisolation.py:358(dup_inner_isolate_real_roots)\n",
      "  1741246    0.105    0.000    0.105    0.000 {method 'append' of 'list' objects}\n",
      "     19/1    0.001    0.000    0.101    0.101 factortools.py:250(dup_zz_hensel_lift)\n",
      "     2765    0.083    0.000    0.097    0.000 densetools.py:1143(dup_sign_variations)\n",
      "       54    0.001    0.000    0.097    0.002 factortools.py:193(dup_zz_hensel_step)\n",
      "     7260    0.086    0.000    0.096    0.000 pseudospectral.py:281(_v_sum)\n",
      "        1    0.001    0.001    0.089    0.089 rootoftools.py:480(_reals_sorted)\n",
      "     1770    0.001    0.000    0.088    0.000 rootisolation.py:1859(refine_disjoint)\n",
      "      480    0.071    0.000    0.078    0.000 galoistools.py:524(gf_mul)\n",
      "10599/9386    0.013    0.000    0.064    0.000 cache.py:67(wrapper)\n",
      "   223440    0.061    0.000    0.061    0.000 fromnumeric.py:70(<dictcomp>)\n",
      "     2657    0.002    0.000    0.061    0.000 numbers.py:1938(__gt__)\n",
      "     2657    0.006    0.000    0.059    0.000 numbers.py:1917(_Rrel)\n",
      "      113    0.000    0.000    0.057    0.001 densearith.py:1515(dup_div)\n",
      "      113    0.006    0.000    0.057    0.001 densearith.py:1308(dup_rr_div)\n",
      "        1    0.000    0.000    0.053    0.053 rootisolation.py:516(dup_inner_isolate_negative_roots)\n",
      "        1    0.000    0.000    0.053    0.053 rootisolation.py:492(dup_inner_isolate_positive_roots)\n",
      "       60    0.001    0.000    0.053    0.001 pseudospectral.py:474(bary_poly)\n",
      "        1    0.000    0.000    0.050    0.050 bu_pseudospectral.py:388(Lag_pol_2d)\n",
      "        1    0.000    0.000    0.050    0.050 pseudospectral.py:535(bary_poly_2d)\n",
      "        1    0.000    0.000    0.050    0.050 pseudospectral.py:558(<listcomp>)\n",
      "       60    0.001    0.000    0.047    0.001 pseudospectral.py:496(<listcomp>)\n",
      "   354078    0.047    0.000    0.047    0.000 {built-in method builtins.max}\n",
      "     9357    0.005    0.000    0.045    0.000 sympify.py:503(_sympify)\n",
      "     9975    0.012    0.000    0.043    0.000 sympify.py:102(sympify)\n",
      "        1    0.000    0.000    0.030    0.030 basic.py:1125(xreplace)\n",
      "    154/1    0.000    0.000    0.030    0.030 basic.py:1190(_xreplace)\n",
      "       60    0.002    0.000    0.029    0.000 pseudospectral.py:522(new_poly)\n",
      "282677/282617    0.027    0.000    0.027    0.000 {built-in method builtins.isinstance}\n",
      "     2687    0.003    0.000    0.026    0.000 densearith.py:590(dup_sub)\n",
      "     9278    0.009    0.000    0.026    0.000 rootisolation.py:1777(a)\n",
      "   225208    0.026    0.000    0.026    0.000 {method 'items' of 'dict' objects}\n",
      "     1860    0.007    0.000    0.025    0.000 pseudospectral.py:502(poly_fun)\n",
      "     2837    0.004    0.000    0.023    0.000 numbers.py:4450(sympify_mpq)\n",
      "   223440    0.022    0.000    0.022    0.000 fromnumeric.py:2155(_sum_dispatcher)\n",
      "     2657    0.002    0.000    0.022    0.000 rootisolation.py:1801(dx)\n",
      "     2412    0.002    0.000    0.021    0.000 densearith.py:140(dup_mul_term)\n",
      "       63    0.000    0.000    0.021    0.000 polytools.py:162(__new__)\n",
      "     2520    0.020    0.000    0.020    0.000 densearith.py:613(<listcomp>)\n",
      "    14712    0.010    0.000    0.020    0.000 integerring.py:66(get_field)\n",
      "     2412    0.019    0.000    0.019    0.000 densearith.py:157(<listcomp>)\n",
      "        2    0.000    0.000    0.019    0.010 polytools.py:308(_from_expr)\n",
      "       33    0.000    0.000    0.019    0.001 galoistools.py:1007(gf_gcd)\n",
      "        2    0.000    0.000    0.019    0.010 polyutils.py:345(_dict_from_expr)\n",
      "        2    0.000    0.000    0.018    0.009 expr.py:3598(expand)\n",
      "  1377/18    0.002    0.000    0.018    0.001 expr.py:3568(_expand_hint)\n",
      "     4609    0.003    0.000    0.018    0.000 rootisolation.py:1792(b)\n",
      "2487/2367    0.006    0.000    0.017    0.000 numbers.py:1585(__new__)\n",
      "  223/218    0.001    0.000    0.017    0.000 operations.py:52(__new__)\n",
      "       60    0.000    0.000    0.014    0.000 mul.py:916(_eval_expand_mul)\n",
      "     1187    0.012    0.000    0.014    0.000 densetools.py:432(dup_trunc)\n",
      "   168666    0.014    0.000    0.014    0.000 domain.py:990(is_negative)\n",
      "     2658    0.002    0.000    0.014    0.000 numbers.py:2257(__lt__)\n",
      "  601/594    0.001    0.000    0.012    0.000 assumptions.py:477(getit)\n",
      "      120    0.002    0.000    0.012    0.000 mul.py:197(flatten)\n",
      "    15636    0.005    0.000    0.011    0.000 domain.py:379(__call__)\n",
      "    15507    0.008    0.000    0.011    0.000 <frozen importlib._bootstrap>:1033(_handle_fromlist)\n",
      "       60    0.000    0.000    0.010    0.000 radsimp.py:1053(fraction)\n",
      "2016/1955    0.001    0.000    0.010    0.000 decorators.py:58(__sympifyit_wrapper)\n",
      "     3870    0.002    0.000    0.010    0.000 densearith.py:513(dup_add)\n",
      "       18    0.000    0.000    0.010    0.001 galoistools.py:958(gf_pow_mod)\n",
      "     1801    0.001    0.000    0.009    0.000 rootisolation.py:1841(is_disjoint)\n",
      "      243    0.004    0.000    0.009    0.000 facts.py:499(deduce_all_facts)\n",
      "     2245    0.002    0.000    0.008    0.000 numbers.py:229(igcd)\n",
      "     5035    0.004    0.000    0.008    0.000 densetools.py:262(dup_eval)\n",
      "     7260    0.008    0.000    0.008    0.000 pseudospectral.py:299(<listcomp>)\n",
      "  134/129    0.001    0.000    0.008    0.000 assumptions.py:489(_ask)\n",
      "    32531    0.006    0.000    0.008    0.000 densebasic.py:134(dup_degree)\n",
      "        1    0.000    0.000    0.007    0.007 polytools.py:212(args)\n",
      "        1    0.000    0.000    0.007    0.007 polytools.py:208(expr)\n",
      "  249/244    0.000    0.000    0.007    0.000 decorators.py:224(_func)\n",
      "        1    0.000    0.000    0.007    0.007 polyutils.py:375(expr_from_dict)\n",
      "     1499    0.001    0.000    0.007    0.000 densearith.py:474(dup_neg)\n",
      "       10    0.000    0.000    0.006    0.001 galoistools.py:1515(gf_sqf_p)\n",
      "  245/240    0.000    0.000    0.006    0.000 decorators.py:99(binary_op_wrapper)\n",
      "     4102    0.005    0.000    0.006    0.000 densebasic.py:369(dup_reverse)\n",
      "     1499    0.006    0.000    0.006    0.000 densearith.py:488(<listcomp>)\n",
      "     1903    0.006    0.000    0.006    0.000 densearith.py:536(<listcomp>)\n",
      "       60    0.001    0.000    0.006    0.000 rootoftools.py:594(_reals_index)\n",
      "     2245    0.002    0.000    0.006    0.000 numbers.py:257(<listcomp>)\n",
      "    15636    0.005    0.000    0.005    0.000 domain.py:371(new)\n",
      "    68691    0.005    0.000    0.005    0.000 {built-in method builtins.len}\n",
      "       60    0.000    0.000    0.005    0.000 rootoftools.py:798(_get_interval)\n",
      "     3730    0.001    0.000    0.005    0.000 densearith.py:255(dup_mul_ground)\n",
      "     15/5    0.000    0.000    0.005    0.001 galoistools.py:1855(gf_edf_zassenhaus)\n",
      "    21490    0.004    0.000    0.005    0.000 {built-in method builtins.getattr}\n",
      "     1771    0.001    0.000    0.005    0.000 polytools.py:4298(__eq__)\n",
      "     5524    0.003    0.000    0.004    0.000 basic.py:126(__new__)\n",
      "     2691    0.002    0.000    0.004    0.000 numbers.py:2084(__new__)\n",
      "     5136    0.002    0.000    0.004    0.000 domain.py:403(convert)\n",
      "       60    0.000    0.000    0.004    0.000 expr.py:252(__truediv__)\n",
      "     1930    0.004    0.000    0.004    0.000 densearith.py:272(<listcomp>)\n",
      "      100    0.000    0.000    0.004    0.000 assumptions.py:461(copy)\n",
      "      102    0.000    0.000    0.004    0.000 assumptions.py:449(__init__)\n",
      "    20084    0.004    0.000    0.004    0.000 densebasic.py:252(dup_strip)\n",
      "       61    0.000    0.000    0.004    0.000 expr.py:1904(as_real_imag)\n",
      "      642    0.000    0.000    0.003    0.000 densetools.py:658(dup_primitive)\n",
      "      644    0.001    0.000    0.003    0.000 densetools.py:571(dup_content)\n",
      "       22    0.000    0.000    0.003    0.000 galoistools.py:904(gf_frobenius_map)\n",
      "     4976    0.002    0.000    0.003    0.000 misc.py:491(as_int)\n",
      "     4300    0.001    0.000    0.003    0.000 {built-in method builtins.all}\n",
      "      180    0.001    0.000    0.003    0.000 numbers.py:1734(__mul__)\n",
      "       54    0.000    0.000    0.003    0.000 densearith.py:701(dup_sub_mul)\n",
      "        9    0.000    0.000    0.003    0.000 galoistools.py:1073(gf_gcdex)\n",
      "    75/70    0.001    0.000    0.003    0.000 power.py:282(__new__)\n",
      "    10709    0.002    0.000    0.003    0.000 facts.py:533(<genexpr>)\n",
      "     2412    0.002    0.000    0.002    0.000 densearith.py:14(dup_add_term)\n",
      "        8    0.000    0.000    0.002    0.000 galoistools.py:941(_gf_pow_pnm1d2)\n",
      "        2    0.000    0.000    0.002    0.001 util.py:233(leggauss)\n",
      "        2    0.000    0.000    0.002    0.001 legendre.py:1520(leggauss)\n",
      "    19631    0.002    0.000    0.002    0.000 {built-in method builtins.hasattr}\n",
      "     5086    0.002    0.000    0.002    0.000 domain.py:465(of_type)\n",
      "      300    0.000    0.000    0.002    0.000 numbers.py:2200(__mul__)\n",
      "      122    0.000    0.000    0.002    0.000 function.py:445(__new__)\n",
      "     1771    0.001    0.000    0.002    0.000 polyclasses.py:1037(__eq__)\n",
      "    20166    0.002    0.000    0.002    0.000 {method 'get' of 'dict' objects}\n",
      "      475    0.001    0.000    0.002    0.000 numbers.py:1867(__eq__)\n",
      "       60    0.000    0.000    0.002    0.000 rootoftools.py:746(_postprocess_root)\n",
      "      120    0.001    0.000    0.002    0.000 functools.py:517(decorating_function)\n",
      "       60    0.001    0.000    0.002    0.000 rootoftools.py:808(_set_interval)\n",
      "7497/7085    0.001    0.000    0.002    0.000 {built-in method builtins.abs}\n",
      "        6    0.002    0.000    0.002    0.000 legendre.py:832(legval)\n",
      "      590    0.000    0.000    0.002    0.000 galoistools.py:454(gf_add)\n",
      "       60    0.000    0.000    0.002    0.000 rootoftools.py:362(_new)\n",
      "        1    0.000    0.000    0.002    0.002 orthopolys.py:244(legendre_poly)\n",
      "     1257    0.001    0.000    0.002    0.000 ring.py:38(invert)\n",
      "      100    0.001    0.000    0.002    0.000 galoistools.py:555(gf_sqr)\n",
      "        2    0.000    0.000    0.002    0.001 add.py:184(flatten)\n",
      "       82    0.000    0.000    0.002    0.000 galoistools.py:613(gf_sub_mul)\n",
      "     1771    0.001    0.000    0.001    0.000 polyclasses.py:172(unify)\n",
      "      744    0.000    0.000    0.001    0.000 galoistools.py:417(gf_mul_ground)\n",
      "       74    0.000    0.000    0.001    0.000 numbers.py:671(_eval_evalf)\n",
      "       60    0.000    0.000    0.001    0.000 evalf.py:1695(_evalf)\n",
      "      240    0.001    0.000    0.001    0.000 mul.py:467(_gather)\n",
      "     5586    0.001    0.000    0.001    0.000 {built-in method __new__ of type object at 0x1009e4e10}\n",
      "2770/2433    0.001    0.000    0.001    0.000 basic.py:153(__hash__)\n",
      "      120    0.000    0.000    0.001    0.000 expr.py:215(__mul__)\n",
      "        1    0.000    0.000    0.001    0.001 sqfreetools.py:196(dup_sqf_part)\n",
      "      120    0.000    0.000    0.001    0.000 numbers.py:1369(__eq__)\n",
      "        1    0.000    0.000    0.001    0.001 orthopolys.py:231(dup_legendre)\n",
      "      187    0.001    0.000    0.001    0.000 basic.py:1920(_exec_constructor_postprocessors)\n",
      "      476    0.001    0.000    0.001    0.000 galoistools.py:434(<listcomp>)\n",
      "       60    0.000    0.000    0.001    0.000 numbers.py:738(__mul__)\n",
      "      120    0.000    0.000    0.001    0.000 rootisolation.py:1806(center)\n",
      "      482    0.000    0.000    0.001    0.000 rootoftools.py:85(__getitem__)\n",
      "     4188    0.001    0.000    0.001    0.000 domain.py:821(__eq__)\n",
      "     6159    0.001    0.000    0.001    0.000 inspect.py:488(getmro)\n",
      "      281    0.001    0.000    0.001    0.000 galoistools.py:477(<listcomp>)\n",
      "      122    0.000    0.000    0.001    0.000 {method 'sort' of 'list' objects}\n",
      "     2412    0.001    0.000    0.001    0.000 ring.py:19(exquo)\n",
      "        2    0.000    0.000    0.001    0.001 polyutils.py:305(_dict_from_expr_if_gens)\n",
      "        2    0.000    0.000    0.001    0.001 polyutils.py:180(_parallel_dict_from_expr_if_gens)\n",
      "     4414    0.001    0.000    0.001    0.000 galoistools.py:130(gf_degree)\n",
      "        2    0.000    0.000    0.001    0.001 add.py:36(_addsort)\n",
      "      332    0.000    0.000    0.001    0.000 numbers.py:2238(__eq__)\n",
      "  280/140    0.001    0.000    0.001    0.000 basic.py:204(compare)\n",
      "      786    0.000    0.000    0.001    0.000 polytools.py:4274(__hash__)\n",
      "     4072    0.001    0.000    0.001    0.000 facts.py:482(_tell)\n",
      "     2261    0.000    0.000    0.001    0.000 integerring.py:214(gcd)\n",
      "      180    0.000    0.000    0.001    0.000 rootoftools.py:660(_ensure_reals_init)\n",
      "       66    0.000    0.000    0.001    0.000 polyoptions.py:740(build_options)\n",
      "      122    0.001    0.000    0.001    0.000 function.py:294(__new__)\n",
      "      120    0.000    0.000    0.001    0.000 numbers.py:1846(__abs__)\n",
      "        1    0.000    0.000    0.001    0.001 euclidtools.py:1591(dup_gcd)\n",
      "        1    0.000    0.000    0.001    0.001 euclidtools.py:1473(dup_inner_gcd)\n",
      "        1    0.000    0.000    0.001    0.001 euclidtools.py:1145(dup_zz_heu_gcd)\n",
      "       65    0.001    0.000    0.001    0.000 polyoptions.py:128(__init__)\n",
      "      732    0.000    0.000    0.001    0.000 numbers.py:808(__hash__)\n",
      "      148    0.000    0.000    0.001    0.000 numbers.py:1178(_new)\n",
      "     2683    0.001    0.000    0.001    0.000 boolalg.py:460(<lambda>)\n",
      "     2609    0.001    0.000    0.001    0.000 {built-in method gmpy2.gmpy2.gcd}\n",
      "        5    0.000    0.000    0.001    0.000 numbers.py:625(could_extract_minus_sign)\n",
      "      128    0.000    0.000    0.001    0.000 numbers.py:3583(__eq__)\n",
      "     5244    0.001    0.000    0.001    0.000 densebasic.py:33(poly_TC)\n",
      "      124    0.000    0.000    0.001    0.000 numbers.py:3417(__eq__)\n",
      "      372    0.000    0.000    0.001    0.000 numbers.py:1970(__hash__)\n",
      "     1771    0.000    0.000    0.001    0.000 domain.py:825(__ne__)\n",
      "       60    0.000    0.000    0.001    0.000 numbers.py:1840(_as_mpf_val)\n",
      "      120    0.000    0.000    0.001    0.000 functools.py:35(update_wrapper)\n",
      "      181    0.000    0.000    0.001    0.000 rootoftools.py:99(__contains__)\n",
      "      328    0.001    0.000    0.001    0.000 numbers.py:149(mpf_norm)\n",
      "     1267    0.000    0.000    0.001    0.000 integerring.py:206(gcdex)\n",
      "     5262    0.001    0.000    0.001    0.000 densebasic.py:11(poly_LC)\n",
      "       60    0.000    0.000    0.001    0.000 basic.py:1212(has)\n",
      "       60    0.001    0.000    0.001    0.000 pseudospectral.py:499(<dictcomp>)\n",
      "     7722    0.001    0.000    0.001    0.000 {method 'pop' of 'list' objects}\n",
      "       65    0.000    0.000    0.001    0.000 expr.py:230(__pow__)\n",
      "        1    0.000    0.000    0.001    0.001 rootoftools.py:729(_preprocess_roots)\n",
      "       14    0.000    0.000    0.001    0.000 expr.py:851(_eval_is_extended_positive_negative)\n",
      "        1    0.000    0.000    0.001    0.001 polyroots.py:729(preprocess_roots)\n",
      "       60    0.000    0.000    0.001    0.000 libmpf.py:491(from_rational)\n",
      "       60    0.000    0.000    0.001    0.000 basic.py:1291(_has)\n",
      "       65    0.000    0.000    0.001    0.000 random.py:348(shuffle)\n",
      "      786    0.000    0.000    0.001    0.000 polytools.py:324(__hash__)\n",
      "      360    0.000    0.000    0.001    0.000 numbers.py:1463(__hash__)\n",
      "     4263    0.001    0.000    0.001    0.000 domain.py:982(is_one)\n",
      "1509/1347    0.000    0.000    0.001    0.000 {built-in method builtins.hash}\n",
      "  297/237    0.000    0.000    0.001    0.000 {built-in method builtins.any}\n",
      "       10    0.000    0.000    0.001    0.000 expr.py:893(_eval_is_extended_negative)\n",
      "        3    0.000    0.000    0.000    0.000 polyclasses.py:242(to_sympy_dict)\n",
      "     4990    0.000    0.000    0.000    0.000 {built-in method _operator.index}\n",
      "      134    0.000    0.000    0.000    0.000 polyutils.py:171(_not_a_coeff)\n",
      "      495    0.000    0.000    0.000    0.000 basic.py:350(__eq__)\n",
      "       60    0.000    0.000    0.000    0.000 <__array_function__ internals>:177(zeros_like)\n",
      "     3816    0.000    0.000    0.000    0.000 core.py:71(<lambda>)\n",
      "       60    0.000    0.000    0.000    0.000 evalf.py:1705(_to_mpmath)\n",
      "     1094    0.000    0.000    0.000    0.000 numbers.py:2284(__hash__)\n",
      "        1    0.000    0.000    0.000    0.000 basic.py:802(subs)\n",
      "     1267    0.000    0.000    0.000    0.000 {built-in method gmpy2.gmpy2.gcdext}\n",
      "      103    0.000    0.000    0.000    0.000 galoistools.py:1139(gf_monic)\n",
      "       60    0.000    0.000    0.000    0.000 numeric.py:76(zeros_like)\n",
      "      586    0.000    0.000    0.000    0.000 random.py:237(_randbelow_with_getrandbits)\n",
      "      180    0.000    0.000    0.000    0.000 numbers.py:1220(_as_mpf_val)\n",
      "       97    0.000    0.000    0.000    0.000 galoistools.py:489(gf_sub)\n",
      "       60    0.000    0.000    0.000    0.000 densearith.py:835(dup_sqr)\n",
      "       60    0.000    0.000    0.000    0.000 rootoftools.py:396(_eval_is_real)\n",
      "      383    0.000    0.000    0.000    0.000 <frozen importlib._bootstrap>:398(parent)\n",
      "       10    0.000    0.000    0.000    0.000 galoistools.py:1164(gf_diff)\n",
      "      312    0.000    0.000    0.000    0.000 numbers.py:1034(__new__)\n",
      "     3108    0.000    0.000    0.000    0.000 basic.py:750(args)\n",
      "        4    0.000    0.000    0.000    0.000 expr.py:373(__lt__)\n",
      "      122    0.000    0.000    0.000    0.000 operations.py:108(_from_args)\n",
      "     2042    0.000    0.000    0.000    0.000 galoistools.py:188(gf_strip)\n",
      "       31    0.000    0.000    0.000    0.000 rationalfield.py:53(to_sympy)\n",
      "       60    0.000    0.000    0.000    0.000 numbers.py:2171(__radd__)\n",
      "       60    0.000    0.000    0.000    0.000 libmpf.py:950(mpf_div)\n",
      "      542    0.000    0.000    0.000    0.000 {method 'update' of 'set' objects}\n",
      "        4    0.000    0.000    0.000    0.000 relational.py:822(__new__)\n",
      "      301    0.000    0.000    0.000    0.000 basic.py:392(__ne__)\n",
      "        9    0.000    0.000    0.000    0.000 galoistools.py:729(gf_quo)\n",
      "      124    0.000    0.000    0.000    0.000 numbers.py:678(__float__)\n",
      "      120    0.000    0.000    0.000    0.000 mul.py:478(<listcomp>)\n",
      "       72    0.000    0.000    0.000    0.000 galoistools.py:437(gf_quo_ground)\n",
      "        4    0.000    0.000    0.000    0.000 relational.py:850(_eval_relation)\n",
      "        1    0.000    0.000    0.000    0.000 factortools.py:79(dup_trial_division)\n",
      "       65    0.000    0.000    0.000    0.000 expr.py:225(_pow)\n",
      "        1    0.000    0.000    0.000    0.000 densearith.py:1560(dup_quo)\n",
      "        4    0.000    0.000    0.000    0.000 relational.py:1177(_eval_fuzzy_relation)\n",
      "     2548    0.000    0.000    0.000    0.000 boolalg.py:420(__bool__)\n",
      "        4    0.000    0.000    0.000    0.000 relational.py:1253(is_lt)\n",
      "        4    0.000    0.000    0.000    0.000 relational.py:1277(is_ge)\n",
      "      167    0.000    0.000    0.000    0.000 densearith.py:545(<listcomp>)\n",
      "        2    0.000    0.000    0.000    0.000 basic.py:2016(_aresame)\n",
      "        1    0.000    0.000    0.000    0.000 polytools.py:828(retract)\n",
      "      167    0.000    0.000    0.000    0.000 densearith.py:622(<listcomp>)\n",
      "        1    0.000    0.000    0.000    0.000 basic.py:1002(_subs)\n",
      "      176    0.000    0.000    0.000    0.000 libmpf.py:330(from_int)\n",
      "      120    0.000    0.000    0.000    0.000 mul.py:33(_mulsort)\n",
      "      432    0.000    0.000    0.000    0.000 basic.py:1934(<genexpr>)\n",
      "      686    0.000    0.000    0.000    0.000 operations.py:63(<genexpr>)\n",
      "       24    0.000    0.000    0.000    0.000 {built-in method builtins.sorted}\n",
      "        1    0.000    0.000    0.000    0.000 polytools.py:2253(clear_denoms)\n",
      "        3    0.000    0.000    0.000    0.000 polytools.py:243(_from_dict)\n",
      "        1    0.000    0.000    0.000    0.000 polytools.py:4246(__ne__)\n",
      "       30    0.000    0.000    0.000    0.000 numbers.py:2211(__rmul__)\n",
      "        4    0.000    0.000    0.000    0.000 relational.py:1208(_n2)\n",
      "        7    0.000    0.000    0.000    0.000 numbers.py:2408(_eval_is_composite)\n",
      "      388    0.000    0.000    0.000    0.000 {built-in method gmpy2.gmpy2._mpmath_normalize}\n",
      "       61    0.000    0.000    0.000    0.000 polytools.py:285(_from_poly)\n",
      "        4    0.000    0.000    0.000    0.000 expr.py:890(_eval_is_extended_positive)\n",
      "       14    0.000    0.000    0.000    0.000 numbers.py:1402(_Frel)\n",
      "      330    0.000    0.000    0.000    0.000 power.py:962(as_base_exp)\n",
      "       74    0.000    0.000    0.000    0.000 libmpf.py:64(dps_to_prec)\n",
      "       46    0.000    0.000    0.000    0.000 galoistools.py:322(gf_to_int_poly)\n",
      "      233    0.000    0.000    0.000    0.000 polyoptions.py:65(getter)\n",
      "        5    0.000    0.000    0.000    0.000 numbers.py:2295(_eval_power)\n",
      "       46    0.000    0.000    0.000    0.000 galoistools.py:339(<listcomp>)\n",
      "       60    0.000    0.000    0.000    0.000 rootoftools.py:492(<lambda>)\n",
      "      240    0.000    0.000    0.000    0.000 {method 'setdefault' of 'dict' objects}\n",
      "      560    0.000    0.000    0.000    0.000 core.py:73(__cmp__)\n",
      "       10    0.000    0.000    0.000    0.000 numbers.py:1447(__lt__)\n",
      "      148    0.000    0.000    0.000    0.000 {built-in method gmpy2.gmpy2._mpmath_create}\n",
      "      138    0.000    0.000    0.000    0.000 primetest.py:499(isprime)\n",
      "      280    0.000    0.000    0.000    0.000 core.py:101(__gt__)\n",
      "        1    0.000    0.000    0.000    0.000 polytools.py:765(to_ring)\n",
      "        2    0.000    0.000    0.000    0.000 constructor.py:266(construct_domain)\n",
      "       53    0.000    0.000    0.000    0.000 galoistools.py:306(gf_from_int_poly)\n",
      "        1    0.000    0.000    0.000    0.000 polyclasses.py:285(to_ring)\n",
      "      130    0.000    0.000    0.000    0.000 polyoptions.py:140(preprocess_options)\n",
      "      120    0.000    0.000    0.000    0.000 traversal.py:8(iterargs)\n",
      "        1    0.000    0.000    0.000    0.000 polyclasses.py:297(convert)\n",
      "        2    0.000    0.000    0.000    0.000 legendre.py:1415(legcompanion)\n",
      "        2    0.000    0.000    0.000    0.000 polytools.py:1035(as_dict)\n",
      "      280    0.000    0.000    0.000    0.000 core.py:96(__lt__)\n",
      "        2    0.000    0.000    0.000    0.000 <__array_function__ internals>:177(eigvalsh)\n",
      "        1    0.000    0.000    0.000    0.000 densebasic.py:541(dmp_convert)\n",
      "      600    0.000    0.000    0.000    0.000 {built-in method builtins.setattr}\n",
      "        1    0.000    0.000    0.000    0.000 densebasic.py:516(dup_convert)\n",
      "       60    0.000    0.000    0.000    0.000 <__array_function__ internals>:177(empty_like)\n",
      "        2    0.000    0.000    0.000    0.000 legendre.py:612(legder)\n",
      "        1    0.000    0.000    0.000    0.000 densebasic.py:538(<listcomp>)\n",
      "        2    0.000    0.000    0.000    0.000 linalg.py:1072(eigvalsh)\n",
      "        1    0.000    0.000    0.000    0.000 basic.py:677(is_comparable)\n",
      "       53    0.000    0.000    0.000    0.000 galoistools.py:216(gf_trunc)\n",
      "       60    0.000    0.000    0.000    0.000 rootisolation.py:203(_mobius_from_interval)\n",
      "      100    0.000    0.000    0.000    0.000 assumptions.py:464(generator)\n",
      "       60    0.000    0.000    0.000    0.000 ctx_mp_python.py:595(make_mpf)\n",
      "       56    0.000    0.000    0.000    0.000 galoistools.py:521(<listcomp>)\n",
      "       96    0.000    0.000    0.000    0.000 integerring.py:53(to_sympy)\n",
      "      432    0.000    0.000    0.000    0.000 {method 'mro' of 'type' objects}\n",
      "      120    0.000    0.000    0.000    0.000 functools.py:478(lru_cache)\n",
      "        1    0.000    0.000    0.000    0.000 polyroots.py:664(_integer_basis)\n",
      "       60    0.000    0.000    0.000    0.000 rootisolation.py:212(_mobius_to_interval)\n",
      "       30    0.000    0.000    0.000    0.000 power.py:1029(_eval_expand_power_exp)\n",
      "        1    0.000    0.000    0.000    0.000 polytools.py:219(from_dict)\n",
      "       61    0.000    0.000    0.000    0.000 <__array_function__ internals>:177(copyto)\n",
      "       34    0.000    0.000    0.000    0.000 polyutils.py:359(<genexpr>)\n",
      "       90    0.000    0.000    0.000    0.000 mul.py:826(as_coeff_Mul)\n",
      "       59    0.000    0.000    0.000    0.000 galoistools.py:344(gf_neg)\n",
      "      383    0.000    0.000    0.000    0.000 {method 'rpartition' of 'str' objects}\n",
      "       62    0.000    0.000    0.000    0.000 rootoftools.py:92(__setitem__)\n",
      "       65    0.000    0.000    0.000    0.000 iterables.py:2898(iterable)\n",
      "       60    0.000    0.000    0.000    0.000 libmpf.py:59(prec_to_dps)\n",
      "        8    0.000    0.000    0.000    0.000 galoistools.py:1360(gf_random)\n",
      "       31    0.000    0.000    0.000    0.000 densetools.py:826(dup_mirror)\n",
      "       64    0.000    0.000    0.000    0.000 {built-in method numpy.zeros}\n",
      "       53    0.000    0.000    0.000    0.000 galoistools.py:229(<listcomp>)\n",
      "        8    0.000    0.000    0.000    0.000 galoistools.py:1373(<listcomp>)\n",
      "        1    0.000    0.000    0.000    0.000 rootoftools.py:712(_roots_trivial)\n",
      "       60    0.000    0.000    0.000    0.000 exponential.py:212(__instancecheck__)\n",
      "        7    0.000    0.000    0.000    0.000 numbers.py:2248(__gt__)\n",
      "      534    0.000    0.000    0.000    0.000 galoistools.py:109(gf_int)\n",
      "     1235    0.000    0.000    0.000    0.000 polyoptions.py:39(postprocess)\n",
      "      223    0.000    0.000    0.000    0.000 operations.py:91(<listcomp>)\n",
      "        1    0.000    0.000    0.000    0.000 densetools.py:727(dup_extract)\n",
      "        3    0.000    0.000    0.000    0.000 polyclasses.py:276(from_dict)\n",
      "       71    0.000    0.000    0.000    0.000 domain.py:386(convert_from)\n",
      "        3    0.000    0.000    0.000    0.000 polyclasses.py:169(__hash__)\n",
      "      947    0.000    0.000    0.000    0.000 {method 'getrandbits' of '_random.Random' objects}\n",
      "       59    0.000    0.000    0.000    0.000 galoistools.py:358(<listcomp>)\n",
      "        3    0.000    0.000    0.000    0.000 densearith.py:1705(dup_max_norm)\n",
      "       98    0.000    0.000    0.000    0.000 operations.py:429(make_args)\n",
      "       13    0.000    0.000    0.000    0.000 numbers.py:2403(_eval_is_prime)\n",
      "        1    0.000    0.000    0.000    0.000 polyclasses.py:593(clear_denoms)\n",
      "      617    0.000    0.000    0.000    0.000 expr.py:149(_hashable_content)\n",
      "      134    0.000    0.000    0.000    0.000 {built-in method builtins.round}\n",
      "       61    0.000    0.000    0.000    0.000 complexes.py:68(eval)\n",
      "      407    0.000    0.000    0.000    0.000 numbers.py:1683(_hashable_content)\n",
      "        3    0.000    0.000    0.000    0.000 densebasic.py:975(dmp_from_dict)\n",
      "        3    0.000    0.000    0.000    0.000 densearith.py:435(dup_abs)\n",
      "        3    0.000    0.000    0.000    0.000 densearith.py:449(<listcomp>)\n",
      "        3    0.000    0.000    0.000    0.000 polyoptions.py:282(preprocess)\n",
      "        3    0.000    0.000    0.000    0.000 densebasic.py:917(dup_from_dict)\n",
      "        1    0.000    0.000    0.000    0.000 densetools.py:1223(dmp_clear_denoms)\n",
      "        1    0.000    0.000    0.000    0.000 densetools.py:1169(dup_clear_denoms)\n",
      "      516    0.000    0.000    0.000    0.000 {method 'extend' of 'list' objects}\n",
      "        1    0.000    0.000    0.000    0.000 polytools.py:1019(length)\n",
      "        4    0.000    0.000    0.000    0.000 numbers.py:1431(__gt__)\n",
      "        1    0.000    0.000    0.000    0.000 polytools.py:3018(primitive)\n",
      "       65    0.000    0.000    0.000    0.000 basic.py:331(_do_eq_sympify)\n",
      "      124    0.000    0.000    0.000    0.000 libmpf.py:454(to_float)\n",
      "      432    0.000    0.000    0.000    0.000 {built-in method from_iterable}\n",
      "       90    0.000    0.000    0.000    0.000 polyutils.py:360(<genexpr>)\n",
      "      122    0.000    0.000    0.000    0.000 function.py:265(_valid_nargs)\n",
      "       71    0.000    0.000    0.000    0.000 {built-in method math.ceil}\n",
      "        4    0.000    0.000    0.000    0.000 <__array_function__ internals>:177(moveaxis)\n",
      "        1    0.000    0.000    0.000    0.000 densetools.py:138(dup_diff)\n",
      "        1    0.000    0.000    0.000    0.000 polyclasses.py:724(primitive)\n",
      "        2    0.000    0.000    0.000    0.000 polyutils.py:80(as_series)\n",
      "        8    0.000    0.000    0.000    0.000 polyclasses.py:151(__init__)\n",
      "        1    0.000    0.000    0.000    0.000 rootoftools.py:112(<listcomp>)\n",
      "        1    0.000    0.000    0.000    0.000 densetools.py:691(dmp_ground_primitive)\n",
      "      102    0.000    0.000    0.000    0.000 facts.py:479(__init__)\n",
      "        2    0.000    0.000    0.000    0.000 constructor.py:15(_construct_simple)\n",
      "        2    0.000    0.000    0.000    0.000 symbol.py:426(__new__)\n",
      "       61    0.000    0.000    0.000    0.000 sympify.py:18(__init__)\n",
      "        4    0.000    0.000    0.000    0.000 numbers.py:3493(__sub__)\n",
      "        1    0.000    0.000    0.000    0.000 polytools.py:910(terms)\n",
      "      104    0.000    0.000    0.000    0.000 {method 'copy' of 'dict' objects}\n",
      "       92    0.000    0.000    0.000    0.000 polyutils.py:350(_is_expandable_pow)\n",
      "        4    0.000    0.000    0.000    0.000 numeric.py:1404(moveaxis)\n",
      "       31    0.000    0.000    0.000    0.000 numbers.py:2133(__abs__)\n",
      "      586    0.000    0.000    0.000    0.000 {method 'bit_length' of 'int' objects}\n",
      "       60    0.000    0.000    0.000    0.000 {built-in method builtins.divmod}\n",
      "       14    0.000    0.000    0.000    0.000 numbers.py:2078(_as_mpf_val)\n",
      "       22    0.000    0.000    0.000    0.000 random.py:511(uniform)\n",
      "      182    0.000    0.000    0.000    0.000 domain.py:1008(abs)\n",
      "        2    0.000    0.000    0.000    0.000 constructor.py:76(<listcomp>)\n",
      "        1    0.000    0.000    0.000    0.000 densebasic.py:340(dmp_validate)\n",
      "       41    0.000    0.000    0.000    0.000 galoistools.py:486(<listcomp>)\n",
      "       34    0.000    0.000    0.000    0.000 polyutils.py:364(<genexpr>)\n",
      "       60    0.000    0.000    0.000    0.000 numbers.py:1269(__bool__)\n",
      "        2    0.000    0.000    0.000    0.000 symbol.py:298(__xnew__)\n",
      "       31    0.000    0.000    0.000    0.000 exprtools.py:216(decompose_power)\n",
      "       65    0.000    0.000    0.000    0.000 {built-in method builtins.iter}\n",
      "     62/1    0.000    0.000    0.000    0.000 densebasic.py:312(_rec_validate)\n",
      "       60    0.000    0.000    0.000    0.000 power.py:1165(_eval_expand_multinomial)\n",
      "      122    0.000    0.000    0.000    0.000 {method 'update' of 'dict' objects}\n",
      "       30    0.000    0.000    0.000    0.000 power.py:1042(_eval_expand_power_base)\n",
      "      120    0.000    0.000    0.000    0.000 rationalfield.py:154(numer)\n",
      "       61    0.000    0.000    0.000    0.000 complexes.py:190(eval)\n",
      "      322    0.000    0.000    0.000    0.000 {method 'pop' of 'dict' objects}\n",
      "        1    0.000    0.000    0.000    0.000 factortools.py:352(<listcomp>)\n",
      "        8    0.000    0.000    0.000    0.000 polyutils.py:155(_sort_factors)\n",
      "        2    0.000    0.000    0.000    0.000 symbol.py:586(symbols)\n",
      "       90    0.000    0.000    0.000    0.000 expr.py:3519(as_coeff_Mul)\n",
      "        1    0.000    0.000    0.000    0.000 polytools.py:928(<listcomp>)\n",
      "        9    0.000    0.000    0.000    0.000 polytools.py:193(new)\n",
      "        3    0.000    0.000    0.000    0.000 densebasic.py:1071(dmp_to_dict)\n",
      "      198    0.000    0.000    0.000    0.000 numbers.py:3104(__bool__)\n",
      "        3    0.000    0.000    0.000    0.000 iterables.py:1930(has_dups)\n",
      "       60    0.000    0.000    0.000    0.000 abc.py:117(__instancecheck__)\n",
      "      181    0.000    0.000    0.000    0.000 rationalfield.py:158(denom)\n",
      "       61    0.000    0.000    0.000    0.000 integerring.py:172(from_QQ)\n",
      "        3    0.000    0.000    0.000    0.000 densebasic.py:1019(dup_to_dict)\n",
      "        8    0.000    0.000    0.000    0.000 symbol.py:452(_hashable_content)\n",
      "      120    0.000    0.000    0.000    0.000 numbers.py:2034(as_coeff_Mul)\n",
      "        1    0.000    0.000    0.000    0.000 polytools.py:598(_eval_subs)\n",
      "        8    0.000    0.000    0.000    0.000 symbol.py:340(_hashable_content)\n",
      "        8    0.000    0.000    0.000    0.000 numeric.py:1341(normalize_axis_tuple)\n",
      "       14    0.000    0.000    0.000    0.000 evalf.py:491(evalf_integer)\n",
      "        4    0.000    0.000    0.000    0.000 numbers.py:3481(evalf)\n",
      "        5    0.000    0.000    0.000    0.000 polytools.py:522(per)\n",
      "       61    0.000    0.000    0.000    0.000 integerring.py:218(lcm)\n",
      "      135    0.000    0.000    0.000    0.000 boolalg.py:345(__bool__)\n",
      "       60    0.000    0.000    0.000    0.000 numbers.py:1199(_hashable_content)\n",
      "        1    0.000    0.000    0.000    0.000 polytools.py:630(replace)\n",
      "       14    0.000    0.000    0.000    0.000 libmpf.py:850(gmpy_mpf_mul)\n",
      "       74    0.000    0.000    0.000    0.000 {built-in method gmpy2.gmpy2.bit_length}\n",
      "        4    0.000    0.000    0.000    0.000 numbers.py:3478(_eval_evalf)\n",
      "       10    0.000    0.000    0.000    0.000 libmpf.py:626(mpf_lt)\n",
      "       32    0.000    0.000    0.000    0.000 rationalfield.py:57(from_sympy)\n",
      "      127    0.000    0.000    0.000    0.000 {method 'insert' of 'list' objects}\n",
      "       59    0.000    0.000    0.000    0.000 densearith.py:396(dup_lshift)\n",
      "      120    0.000    0.000    0.000    0.000 mul.py:555(<listcomp>)\n",
      "        4    0.000    0.000    0.000    0.000 {method 'max' of 'numpy.ndarray' objects}\n",
      "       65    0.000    0.000    0.000    0.000 polyoptions.py:500(postprocess)\n",
      "        2    0.000    0.000    0.000    0.000 <__array_function__ internals>:177(common_type)\n",
      "      120    0.000    0.000    0.000    0.000 mul.py:653(<listcomp>)\n",
      "      120    0.000    0.000    0.000    0.000 {built-in method math.ldexp}\n",
      "       63    0.000    0.000    0.000    0.000 {method 'add' of 'set' objects}\n",
      "       60    0.000    0.000    0.000    0.000 rootoftools.py:378(_hashable_content)\n",
      "       65    0.000    0.000    0.000    0.000 polyoptions.py:568(postprocess)\n",
      "        2    0.000    0.000    0.000    0.000 polytools.py:1864(degree)\n",
      "        1    0.000    0.000    0.000    0.000 pstats.py:107(__init__)\n",
      "        1    0.000    0.000    0.000    0.000 polyclasses.py:316(terms)\n",
      "      120    0.000    0.000    0.000    0.000 power.py:391(exp)\n",
      "        4    0.000    0.000    0.000    0.000 _methods.py:38(_amax)\n",
      "       14    0.000    0.000    0.000    0.000 libmpf.py:574(mpf_cmp)\n",
      "       60    0.000    0.000    0.000    0.000 {built-in method _abc._abc_instancecheck}\n",
      "       93    0.000    0.000    0.000    0.000 basic.py:724(func)\n",
      "        4    0.000    0.000    0.000    0.000 dispatcher.py:231(__call__)\n",
      "        1    0.000    0.000    0.000    0.000 densebasic.py:1713(dmp_list_terms)\n",
      "       65    0.000    0.000    0.000    0.000 polyoptions.py:631(postprocess)\n",
      "        2    0.000    0.000    0.000    0.000 type_check.py:716(common_type)\n",
      "        2    0.000    0.000    0.000    0.000 numbers.py:2159(__add__)\n",
      "        4    0.000    0.000    0.000    0.000 {built-in method numpy.arange}\n",
      "        1    0.000    0.000    0.000    0.000 densebasic.py:1694(_rec_list_terms)\n",
      "       90    0.000    0.000    0.000    0.000 power.py:387(base)\n",
      "       60    0.000    0.000    0.000    0.000 multiarray.py:80(empty_like)\n",
      "        4    0.000    0.000    0.000    0.000 symbol.py:254(_sanitize)\n",
      "        1    0.000    0.000    0.000    0.000 numeric.py:149(ones)\n",
      "        1    0.000    0.000    0.000    0.000 pstats.py:117(init)\n",
      "      126    0.000    0.000    0.000    0.000 polyoptions.py:31(default)\n",
      "       31    0.000    0.000    0.000    0.000 integerring.py:57(from_sympy)\n",
      "       65    0.000    0.000    0.000    0.000 polyoptions.py:535(postprocess)\n",
      "       61    0.000    0.000    0.000    0.000 multiarray.py:1071(copyto)\n",
      "        8    0.000    0.000    0.000    0.000 symbol.py:352(assumptions0)\n",
      "       61    0.000    0.000    0.000    0.000 {built-in method gmpy2.gmpy2.lcm}\n",
      "       60    0.000    0.000    0.000    0.000 numeric.py:72(_zeros_like_dispatcher)\n",
      "       65    0.000    0.000    0.000    0.000 polyoptions.py:593(postprocess)\n",
      "        1    0.000    0.000    0.000    0.000 polytools.py:3356(<listcomp>)\n",
      "        1    0.000    0.000    0.000    0.000 twodim_base.py:161(eye)\n",
      "       10    0.000    0.000    0.000    0.000 {method 'reshape' of 'numpy.ndarray' objects}\n",
      "        4    0.000    0.000    0.000    0.000 polyconfig.py:47(query)\n",
      "       65    0.000    0.000    0.000    0.000 polyoptions.py:520(postprocess)\n",
      "       35    0.000    0.000    0.000    0.000 numbers.py:1689(_eval_is_zero)\n",
      "        3    0.000    0.000    0.000    0.000 polyclasses.py:202(per)\n",
      "       74    0.000    0.000    0.000    0.000 {method 'keys' of 'dict' objects}\n",
      "        1    0.000    0.000    0.000    0.000 rootoftools.py:635(_count_roots)\n",
      "        6    0.000    0.000    0.000    0.000 densearith.py:297(dup_quo_ground)\n",
      "        8    0.000    0.000    0.000    0.000 {method 'astype' of 'numpy.ndarray' objects}\n",
      "        2    0.000    0.000    0.000    0.000 symbol.py:285(__new__)\n",
      "        3    0.000    0.000    0.000    0.000 iterables.py:2956(is_sequence)\n",
      "        8    0.000    0.000    0.000    0.000 galoistools.py:389(gf_sub_ground)\n",
      "        2    0.000    0.000    0.000    0.000 linalg.py:135(_commonType)\n",
      "       65    0.000    0.000    0.000    0.000 expr.py:977(_eval_power)\n",
      "        2    0.000    0.000    0.000    0.000 polyutils.py:136(<listcomp>)\n",
      "        2    0.000    0.000    0.000    0.000 {method 'sum' of 'numpy.ndarray' objects}\n",
      "        3    0.000    0.000    0.000    0.000 polyclasses.py:268(to_tuple)\n",
      "        3    0.000    0.000    0.000    0.000 iterables.py:1950(<genexpr>)\n",
      "        1    0.000    0.000    0.000    0.000 pstats.py:136(load_stats)\n",
      "        4    0.000    0.000    0.000    0.000 libmpf.py:636(mpf_gt)\n",
      "        1    0.000    0.000    0.000    0.000 basic.py:944(<listcomp>)\n",
      "        3    0.000    0.000    0.000    0.000 rationalfield.py:48(get_ring)\n",
      "        1    0.000    0.000    0.000    0.000 polyclasses.py:824(<listcomp>)\n",
      "        2    0.000    0.000    0.000    0.000 polyclasses.py:516(degree)\n",
      "       61    0.000    0.000    0.000    0.000 polyoptions.py:278(default)\n",
      "        2    0.000    0.000    0.000    0.000 polyutils.py:50(trimseq)\n",
      "       23    0.000    0.000    0.000    0.000 polyutils.py:161(order_no_multiple_key)\n",
      "        1    0.000    0.000    0.000    0.000 rootoftools.py:455(<listcomp>)\n",
      "        2    0.000    0.000    0.000    0.000 <__array_function__ internals>:177(iscomplexobj)\n",
      "        2    0.000    0.000    0.000    0.000 _methods.py:46(_sum)\n",
      "        2    0.000    0.000    0.000    0.000 polyoptions.py:205(clone)\n",
      "        6    0.000    0.000    0.000    0.000 polyoptions.py:293(<genexpr>)\n",
      "        5    0.000    0.000    0.000    0.000 iterables.py:446(subsets)\n",
      "        2    0.000    0.000    0.000    0.000 polyutils.py:152(<listcomp>)\n",
      "        8    0.000    0.000    0.000    0.000 numeric.py:1391(<listcomp>)\n",
      "       14    0.000    0.000    0.000    0.000 libmpf.py:692(mpf_sign)\n",
      "        3    0.000    0.000    0.000    0.000 densebasic.py:157(dmp_degree)\n",
      "        2    0.000    0.000    0.000    0.000 linalg.py:111(_makearray)\n",
      "        6    0.000    0.000    0.000    0.000 polyutils.py:716(_deprecate_as_int)\n",
      "        2    0.000    0.000    0.000    0.000 densebasic.py:194(dmp_degree_in)\n",
      "        3    0.000    0.000    0.000    0.000 densebasic.py:452(dmp_to_tuple)\n",
      "        1    0.000    0.000    0.000    0.000 cProfile.py:50(create_stats)\n",
      "        2    0.000    0.000    0.000    0.000 polyoptions.py:413(preprocess)\n",
      "        4    0.000    0.000    0.000    0.000 traversal.py:163(__next__)\n",
      "       31    0.000    0.000    0.000    0.000 polyoptions.py:705(default)\n",
      "        4    0.000    0.000    0.000    0.000 polyutils.py:138(<genexpr>)\n",
      "        6    0.000    0.000    0.000    0.000 densearith.py:323(<listcomp>)\n",
      "       18    0.000    0.000    0.000    0.000 {built-in method builtins.issubclass}\n",
      "        3    0.000    0.000    0.000    0.000 {built-in method numpy.empty}\n",
      "        3    0.000    0.000    0.000    0.000 domain.py:368(__hash__)\n",
      "       12    0.000    0.000    0.000    0.000 numbers.py:1686(_eval_is_positive)\n",
      "        1    0.000    0.000    0.000    0.000 euclidtools.py:1129(_dup_zz_gcd_interpolate)\n",
      "       13    0.000    0.000    0.000    0.000 numbers.py:2287(__index__)\n",
      "       22    0.000    0.000    0.000    0.000 {method 'random' of '_random.Random' objects}\n",
      "        2    0.000    0.000    0.000    0.000 type_check.py:303(iscomplexobj)\n",
      "        1    0.000    0.000    0.000    0.000 rootoftools.py:638(<listcomp>)\n",
      "        4    0.000    0.000    0.000    0.000 numbers.py:3370(__neg__)\n",
      "        2    0.000    0.000    0.000    0.000 integerring.py:222(sqrt)\n",
      "        8    0.000    0.000    0.000    0.000 {method 'startswith' of 'str' objects}\n",
      "       10    0.000    0.000    0.000    0.000 integerring.py:164(from_ZZ)\n",
      "        4    0.000    0.000    0.000    0.000 linalg.py:129(_realType)\n",
      "        4    0.000    0.000    0.000    0.000 dispatcher.py:232(<listcomp>)\n",
      "        1    0.000    0.000    0.000    0.000 rootisolation.py:540(_isolate_zero)\n",
      "       11    0.000    0.000    0.000    0.000 logic.py:151(fuzzy_not)\n",
      "        2    0.000    0.000    0.000    0.000 densebasic.py:1631(dup_terms_gcd)\n",
      "        1    0.000    0.000    0.000    0.000 polytools.py:4277(free_symbols)\n",
      "        1    0.000    0.000    0.000    0.000 factortools.py:546(dup_zz_cyclotomic_factor)\n",
      "        6    0.000    0.000    0.000    0.000 logic.py:92(fuzzy_bool)\n",
      "        2    0.000    0.000    0.000    0.000 polytools.py:1844(_gen_to_level)\n",
      "        2    0.000    0.000    0.000    0.000 polyutils.py:130(<listcomp>)\n",
      "       10    0.000    0.000    0.000    0.000 {built-in method numpy.core._multiarray_umath.normalize_axis_index}\n",
      "        4    0.000    0.000    0.000    0.000 {method 'transpose' of 'numpy.ndarray' objects}\n",
      "        8    0.000    0.000    0.000    0.000 polytools.py:556(get_domain)\n",
      "        4    0.000    0.000    0.000    0.000 traversal.py:116(__init__)\n",
      "        8    0.000    0.000    0.000    0.000 symbol.py:354(<dictcomp>)\n",
      "        6    0.000    0.000    0.000    0.000 {method 'upper' of 'str' objects}\n",
      "       12    0.000    0.000    0.000    0.000 expr.py:3641(_expand_hint_key)\n",
      "        4    0.000    0.000    0.000    0.000 {built-in method builtins.next}\n",
      "        1    0.000    0.000    0.000    0.000 basic.py:711(<listcomp>)\n",
      "        2    0.000    0.000    0.000    0.000 polytools.py:4089(is_univariate)\n",
      "        1    0.000    0.000    0.000    0.000 polytools.py:358(free_symbols_in_domain)\n",
      "        4    0.000    0.000    0.000    0.000 linalg.py:116(isComplexType)\n",
      "        4    0.000    0.000    0.000    0.000 numbers.py:3577(_as_mpf_val)\n",
      "        4    0.000    0.000    0.000    0.000 polyutils.py:133(<genexpr>)\n",
      "        8    0.000    0.000    0.000    0.000 traversal.py:120(_preorder_traversal)\n",
      "        2    0.000    0.000    0.000    0.000 linalg.py:199(_assert_stacked_square)\n",
      "        2    0.000    0.000    0.000    0.000 polyutils.py:157(order_if_multiple_key)\n",
      "        4    0.000    0.000    0.000    0.000 {method 'replace' of 'str' objects}\n",
      "        2    0.000    0.000    0.000    0.000 symbol.py:730(<listcomp>)\n",
      "        2    0.000    0.000    0.000    0.000 linalg.py:106(get_linalg_error_extobj)\n",
      "        2    0.000    0.000    0.000    0.000 numpy.py:38(combinefunctions)\n",
      "        5    0.000    0.000    0.000    0.000 numbers.py:3196(__neg__)\n",
      "        1    0.000    0.000    0.000    0.000 expr.py:2006(as_base_exp)\n",
      "        2    0.000    0.000    0.000    0.000 linalg.py:193(_assert_stacked_2d)\n",
      "        4    0.000    0.000    0.000    0.000 numbers.py:3714(__eq__)\n",
      "        1    0.000    0.000    0.000    0.000 densebasic.py:330(_rec_strip)\n",
      "        4    0.000    0.000    0.000    0.000 numeric.py:1400(_moveaxis_dispatcher)\n",
      "        4    0.000    0.000    0.000    0.000 numeric.py:1466(<listcomp>)\n",
      "        4    0.000    0.000    0.000    0.000 {method 'lower' of 'str' objects}\n",
      "        2    0.000    0.000    0.000    0.000 {built-in method gmpy2.gmpy2.isqrt}\n",
      "        2    0.000    0.000    0.000    0.000 polyutils.py:131(<listcomp>)\n",
      "        3    0.000    0.000    0.000    0.000 densebasic.py:695(dmp_zero_p)\n",
      "        4    0.000    0.000    0.000    0.000 {method 'split' of 'str' objects}\n",
      "        1    0.000    0.000    0.000    0.000 iterables.py:524(numbered_symbols)\n",
      "        1    0.000    0.000    0.000    0.000 bu_pseudospectral.py:41(BU_coll_points)\n",
      "        4    0.000    0.000    0.000    0.000 relational.py:1220(_eval_is_ge)\n",
      "        2    0.000    0.000    0.000    0.000 {method 'endswith' of 'str' objects}\n",
      "        3    0.000    0.000    0.000    0.000 polytools.py:4270(_hashable_content)\n",
      "        1    0.000    0.000    0.000    0.000 polytools.py:405(domain)\n",
      "        1    0.000    0.000    0.000    0.000 {built-in method builtins.sum}\n",
      "        1    0.000    0.000    0.000    0.000 polyoptions.py:53(preprocess)\n",
      "        4    0.000    0.000    0.000    0.000 symbol.py:731(<genexpr>)\n",
      "        1    0.000    0.000    0.000    0.000 galoistools.py:512(<listcomp>)\n",
      "        1    0.000    0.000    0.000    0.000 factortools.py:348(<lambda>)\n",
      "        1    0.000    0.000    0.000    0.000 rootoftools.py:768(<setcomp>)\n",
      "        4    0.000    0.000    0.000    0.000 {method 'strip' of 'str' objects}\n",
      "        4    0.000    0.000    0.000    0.000 traversal.py:166(__iter__)\n",
      "        2    0.000    0.000    0.000    0.000 polyoptions.py:265(default)\n",
      "        1    0.000    0.000    0.000    0.000 {method 'disable' of '_lsprof.Profiler' objects}\n",
      "        2    0.000    0.000    0.000    0.000 type_check.py:206(_is_type_dispatcher)\n",
      "        2    0.000    0.000    0.000    0.000 {built-in method numpy.asarray}\n",
      "        2    0.000    0.000    0.000    0.000 symbol.py:716(literal)\n",
      "        2    0.000    0.000    0.000    0.000 linalg.py:1068(_eigvalsh_dispatcher)\n",
      "        1    0.000    0.000    0.000    0.000 polytools.py:388(gen)\n",
      "        2    0.000    0.000    0.000    0.000 type_check.py:712(_common_type_dispatcher)\n",
      "        1    0.000    0.000    0.000    0.000 euclidtools.py:861(_dup_rr_trivial_gcd)\n",
      "        1    0.000    0.000    0.000    0.000 {method 'index' of 'list' objects}\n",
      "        1    0.000    0.000    0.000    0.000 {method 'pop' of 'set' objects}\n",
      "\n",
      "\n"
     ]
    }
   ],
   "source": [
    "with Profile() as profile:\n",
    "    Integration_Matrix(\n",
    "        N_coll = 60,\n",
    "        scheme = scheme,\n",
    "        deriv_order = 1,\n",
    "        h = tf-t0,\n",
    "        scheme_order=2,\n",
    "        precission=20,)\n",
    "    (\n",
    "         Stats(profile)\n",
    "         .strip_dirs()\n",
    "         .sort_stats(SortKey.CUMULATIVE)\n",
    "         .print_stats()\n",
    "     )"
   ]
  },
  {
   "cell_type": "code",
   "execution_count": 203,
   "id": "c08785d9",
   "metadata": {},
   "outputs": [
    {
     "name": "stdout",
     "output_type": "stream",
     "text": [
      "         13246573 function calls (13245181 primitive calls) in 6.653 seconds\n",
      "\n",
      "   Ordered by: cumulative time\n",
      "\n",
      "   ncalls  tottime  percall  cumtime  percall filename:lineno(function)\n",
      "      3/1    0.000    0.000    7.944    7.944 bu_pseudospectral.py:392(Lag_integ_2d)\n",
      "        2    0.001    0.000    7.619    3.809 util.py:274(poly_integral_2d)\n",
      "      100    0.002    0.000    7.617    0.076 util.py:256(poly_integral)\n",
      "      100    0.005    0.000    7.547    0.075 util.py:264(<listcomp>)\n",
      "     5050    0.065    0.000    7.542    0.001 util.py:237(gauss_integral)\n",
      "     5050    0.036    0.000    7.437    0.001 util.py:244(<listcomp>)\n",
      "   128800    0.070    0.000    7.401    0.000 util.py:296(<lambda>)\n",
      "   128803    0.080    0.000    7.375    0.000 numpy.py:39(combined)\n",
      "   128803    1.196    0.000    7.037    0.000 numpy.py:40(<listcomp>)\n",
      "  3315100    1.134    0.000    3.001    0.000 pseudospectral.py:522(new_poly)\n",
      "  6569535    2.132    0.000    2.137    0.000 {built-in method numpy.array}\n",
      "   267850    0.120    0.000    1.295    0.000 <__array_function__ internals>:177(sum)\n",
      "268022/267918    0.091    0.000    1.148    0.000 {built-in method numpy.core._multiarray_umath.implement_array_function}\n",
      "   267850    0.204    0.000    1.056    0.000 fromnumeric.py:2160(sum)\n",
      "    68900    0.027    0.000    0.896    0.000 pseudospectral.py:514(poly_fun_con)\n",
      "    68850    0.212    0.000    0.869    0.000 pseudospectral.py:502(poly_fun)\n",
      "   267850    0.238    0.000    0.825    0.000 fromnumeric.py:69(_wrapreduction)\n",
      "   267862    0.480    0.000    0.480    0.000 {method 'reduce' of 'numpy.ufunc' objects}\n",
      "        1    0.000    0.000    0.325    0.325 bu_pseudospectral.py:386(Lag_pol_2d)\n",
      "        1    0.000    0.000    0.295    0.295 bu_pseudospectral.py:39(BU_coll_points)\n",
      "        1    0.000    0.000    0.295    0.295 pseudospectral.py:36(LG)\n",
      "        1    0.000    0.000    0.278    0.278 polytools.py:3590(real_roots)\n",
      "        1    0.000    0.000    0.278    0.278 rootoftools.py:409(real_roots)\n",
      "        1    0.000    0.000    0.278    0.278 rootoftools.py:757(_get_roots)\n",
      "        1    0.000    0.000    0.263    0.263 rootoftools.py:670(_real_roots)\n",
      "        1    0.000    0.000    0.251    0.251 rootoftools.py:110(_pure_factors)\n",
      "        1    0.000    0.000    0.251    0.251 polytools.py:3331(factor_list)\n",
      "        1    0.000    0.000    0.251    0.251 polyclasses.py:821(factor_list)\n",
      "        1    0.000    0.000    0.251    0.251 factortools.py:1390(dmp_factor_list)\n",
      "        1    0.000    0.000    0.251    0.251 factortools.py:1313(dup_factor_list)\n",
      "        1    0.000    0.000    0.251    0.251 factortools.py:619(dup_zz_factor)\n",
      "        1    0.000    0.000    0.250    0.250 factortools.py:314(dup_zz_zassenhaus)\n",
      "        2    0.000    0.000    0.217    0.108 galoistools.py:2108(gf_factor_sqf)\n",
      "        2    0.000    0.000    0.217    0.108 galoistools.py:2058(gf_zassenhaus)\n",
      "       29    0.001    0.000    0.171    0.006 galoistools.py:872(gf_frobenius_monomial_base)\n",
      "        2    0.001    0.000    0.132    0.066 galoistools.py:1798(gf_ddf_zassenhaus)\n",
      "     2128    0.001    0.000    0.128    0.000 galoistools.py:712(gf_rem)\n",
      "     2137    0.109    0.000    0.127    0.000 galoistools.py:658(gf_div)\n",
      "     7650    0.078    0.000    0.086    0.000 pseudospectral.py:281(_v_sum)\n",
      "     52/4    0.000    0.000    0.084    0.021 galoistools.py:1855(gf_edf_zassenhaus)\n",
      "      684    0.069    0.000    0.077    0.000 galoistools.py:524(gf_mul)\n",
      "   267850    0.077    0.000    0.077    0.000 fromnumeric.py:70(<dictcomp>)\n",
      "      100    0.001    0.000    0.065    0.001 pseudospectral.py:474(bary_poly)\n",
      "      100    0.001    0.000    0.060    0.001 pseudospectral.py:496(<listcomp>)\n",
      "   268715    0.031    0.000    0.031    0.000 {method 'items' of 'dict' objects}\n",
      "        1    0.000    0.000    0.030    0.030 pseudospectral.py:535(bary_poly_2d)\n",
      "        1    0.001    0.001    0.030    0.030 pseudospectral.py:558(<listcomp>)\n",
      "   284457    0.028    0.000    0.028    0.000 {built-in method builtins.isinstance}\n",
      "   267850    0.028    0.000    0.028    0.000 fromnumeric.py:2155(_sum_dispatcher)\n",
      "      5/1    0.000    0.000    0.028    0.028 factortools.py:250(dup_zz_hensel_lift)\n",
      "       69    0.000    0.000    0.027    0.000 galoistools.py:958(gf_pow_mod)\n",
      "       12    0.000    0.000    0.027    0.002 factortools.py:193(dup_zz_hensel_step)\n",
      "       71    0.000    0.000    0.025    0.000 galoistools.py:1007(gf_gcd)\n",
      "       41    0.000    0.000    0.018    0.000 galoistools.py:941(_gf_pow_pnm1d2)\n",
      "        1    0.000    0.000    0.015    0.015 pseudospectral.py:38(<listcomp>)\n",
      "       50    0.000    0.000    0.015    0.000 evalf.py:1570(evalf)\n",
      "       50    0.000    0.000    0.015    0.000 evalf.py:1462(evalf)\n",
      "   101013    0.014    0.000    0.014    0.000 {built-in method builtins.max}\n",
      "1769/1483    0.003    0.000    0.013    0.000 cache.py:67(wrapper)\n",
      "       50    0.000    0.000    0.012    0.000 rootoftools.py:914(_eval_evalf)\n",
      "      111    0.010    0.000    0.012    0.000 densearith.py:735(dup_mul)\n",
      "       29    0.000    0.000    0.012    0.000 densearith.py:1515(dup_div)\n",
      "       29    0.001    0.000    0.012    0.000 densearith.py:1308(dup_rr_div)\n",
      "       50    0.001    0.000    0.012    0.000 rootoftools.py:919(eval_rational)\n",
      "   100749    0.011    0.000    0.011    0.000 {built-in method builtins.min}\n",
      "        1    0.000    0.000    0.011    0.011 basic.py:1125(xreplace)\n",
      "    129/1    0.000    0.000    0.011    0.011 basic.py:1190(_xreplace)\n",
      "1883/1832    0.001    0.000    0.008    0.000 decorators.py:58(__sympifyit_wrapper)\n",
      "     7650    0.007    0.000    0.007    0.000 pseudospectral.py:299(<listcomp>)\n",
      "        1    0.000    0.000    0.007    0.007 rootoftools.py:442(_get_reals)\n",
      "        1    0.000    0.000    0.007    0.007 rootoftools.py:480(_reals_sorted)\n",
      "      373    0.006    0.000    0.007    0.000 galoistools.py:555(gf_sqr)\n",
      "  154/129    0.001    0.000    0.007    0.000 operations.py:52(__new__)\n",
      "     1225    0.000    0.000    0.007    0.000 rootisolation.py:1859(refine_disjoint)\n",
      "     2900    0.002    0.000    0.006    0.000 rootisolation.py:1777(a)\n",
      "     1225    0.001    0.000    0.006    0.000 rootisolation.py:1841(is_disjoint)\n",
      "      722    0.001    0.000    0.006    0.000 densearith.py:590(dup_sub)\n",
      "     2554    0.001    0.000    0.006    0.000 numbers.py:678(__float__)\n",
      "        1    0.000    0.000    0.005    0.005 polytools.py:212(args)\n",
      "        1    0.000    0.000    0.005    0.005 polytools.py:208(expr)\n",
      "        1    0.000    0.000    0.005    0.005 polyutils.py:375(expr_from_dict)\n",
      "     1678    0.001    0.000    0.005    0.000 polytools.py:4298(__eq__)\n",
      "       62    0.001    0.000    0.005    0.000 galoistools.py:904(gf_frobenius_map)\n",
      "        9    0.000    0.000    0.005    0.001 galoistools.py:1515(gf_sqf_p)\n",
      "       50    0.000    0.000    0.005    0.000 rootoftools.py:798(_get_interval)\n",
      "      648    0.004    0.000    0.004    0.000 densearith.py:613(<listcomp>)\n",
      "        4    0.000    0.000    0.004    0.001 util.py:233(leggauss)\n",
      "        4    0.000    0.000    0.004    0.001 legendre.py:1520(leggauss)\n",
      "     2600    0.001    0.000    0.004    0.000 numbers.py:1220(_as_mpf_val)\n",
      "       50    0.000    0.000    0.004    0.000 rootoftools.py:594(_reals_index)\n",
      "      304    0.000    0.000    0.004    0.000 assumptions.py:477(getit)\n",
      "      625    0.000    0.000    0.004    0.000 densearith.py:140(dup_mul_term)\n",
      "       51    0.001    0.000    0.004    0.000 mul.py:197(flatten)\n",
      "     1425    0.001    0.000    0.004    0.000 rootisolation.py:1792(b)\n",
      "      625    0.003    0.000    0.003    0.000 densearith.py:157(<listcomp>)\n",
      "     2700    0.002    0.000    0.003    0.000 numbers.py:149(mpf_norm)\n",
      "     1625    0.001    0.000    0.003    0.000 sympify.py:102(sympify)\n",
      "       12    0.003    0.000    0.003    0.000 legendre.py:832(legval)\n",
      "       53    0.000    0.000    0.003    0.000 polytools.py:162(__new__)\n",
      "     2900    0.001    0.000    0.003    0.000 integerring.py:66(get_field)\n",
      "     1307    0.001    0.000    0.003    0.000 sympify.py:503(_sympify)\n",
      "      401    0.000    0.000    0.003    0.000 rootoftools.py:85(__getitem__)\n",
      "      906    0.001    0.000    0.003    0.000 galoistools.py:454(gf_add)\n",
      "     2026    0.001    0.000    0.003    0.000 ring.py:38(invert)\n",
      "     1678    0.001    0.000    0.002    0.000 polyclasses.py:1037(__eq__)\n",
      "      102    0.001    0.000    0.002    0.000 facts.py:499(deduce_all_facts)\n",
      "       50    0.000    0.000    0.002    0.000 assumptions.py:489(_ask)\n",
      "       50    0.000    0.000    0.002    0.000 rootoftools.py:746(_postprocess_root)\n",
      "      126    0.002    0.000    0.002    0.000 densetools.py:432(dup_trunc)\n",
      "      154    0.000    0.000    0.002    0.000 decorators.py:224(_func)\n",
      "     1000    0.000    0.000    0.002    0.000 galoistools.py:417(gf_mul_ground)\n",
      "       50    0.000    0.000    0.002    0.000 rootoftools.py:362(_new)\n",
      "       75    0.001    0.000    0.002    0.000 power.py:282(__new__)\n",
      "     3632    0.001    0.000    0.002    0.000 domain.py:379(__call__)\n",
      "      617    0.002    0.000    0.002    0.000 galoistools.py:434(<listcomp>)\n",
      "     7491    0.001    0.000    0.002    0.000 galoistools.py:130(gf_degree)\n",
      "        2    0.000    0.000    0.002    0.001 polytools.py:308(_from_expr)\n",
      "      448    0.002    0.000    0.002    0.000 galoistools.py:477(<listcomp>)\n",
      "    23764    0.002    0.000    0.002    0.000 {built-in method builtins.len}\n",
      "      150    0.000    0.000    0.002    0.000 numbers.py:1734(__mul__)\n",
      "      151    0.000    0.000    0.002    0.000 numbers.py:2200(__mul__)\n",
      "     2977    0.001    0.000    0.002    0.000 <frozen importlib._bootstrap>:1033(_handle_fromlist)\n",
      "        1    0.000    0.000    0.002    0.002 orthopolys.py:244(legendre_poly)\n",
      "     1678    0.001    0.000    0.001    0.000 polyclasses.py:172(unify)\n",
      "        2    0.000    0.000    0.001    0.001 polyutils.py:345(_dict_from_expr)\n",
      "      100    0.001    0.000    0.001    0.000 pseudospectral.py:499(<dictcomp>)\n",
      "      150    0.000    0.000    0.001    0.000 decorators.py:99(binary_op_wrapper)\n",
      "      150    0.000    0.000    0.001    0.000 rootoftools.py:660(_ensure_reals_init)\n",
      "      150    0.000    0.000    0.001    0.000 functools.py:517(decorating_function)\n",
      "      150    0.000    0.000    0.001    0.000 rootoftools.py:99(__contains__)\n",
      "       50    0.000    0.000    0.001    0.000 rootisolation.py:1867(refine_size)\n",
      "      100    0.000    0.000    0.001    0.000 numbers.py:1938(__gt__)\n",
      "        2    0.000    0.000    0.001    0.001 add.py:184(flatten)\n",
      "        1    0.000    0.000    0.001    0.001 orthopolys.py:231(dup_legendre)\n",
      "      100    0.000    0.000    0.001    0.000 expr.py:215(__mul__)\n",
      "      100    0.000    0.000    0.001    0.000 numbers.py:1917(_Rrel)\n",
      "       51    0.000    0.000    0.001    0.000 expr.py:1904(as_real_imag)\n",
      "        1    0.000    0.000    0.001    0.001 sqfreetools.py:196(dup_sqf_part)\n",
      "       50    0.000    0.000    0.001    0.000 assumptions.py:461(copy)\n",
      "      338    0.000    0.000    0.001    0.000 numbers.py:1867(__eq__)\n",
      "       50    0.000    0.000    0.001    0.000 numbers.py:738(__mul__)\n",
      "       52    0.000    0.000    0.001    0.000 assumptions.py:449(__init__)\n",
      "     2029    0.001    0.000    0.001    0.000 integerring.py:206(gcdex)\n",
      "      200    0.000    0.000    0.001    0.000 numbers.py:1369(__eq__)\n",
      "      150    0.000    0.000    0.001    0.000 functools.py:35(update_wrapper)\n",
      "     2554    0.001    0.000    0.001    0.000 libmpf.py:454(to_float)\n",
      "       12    0.000    0.000    0.001    0.000 densearith.py:701(dup_sub_mul)\n",
      "     3632    0.001    0.000    0.001    0.000 domain.py:371(new)\n",
      "        2    0.000    0.000    0.001    0.000 polyutils.py:305(_dict_from_expr_if_gens)\n",
      "        2    0.000    0.000    0.001    0.000 polyutils.py:180(_parallel_dict_from_expr_if_gens)\n",
      "      102    0.000    0.000    0.001    0.000 mul.py:467(_gather)\n",
      "     3725    0.001    0.000    0.001    0.000 {built-in method builtins.getattr}\n",
      "1828/1551    0.001    0.000    0.001    0.000 basic.py:153(__hash__)\n",
      "       50    0.000    0.000    0.001    0.000 rootoftools.py:808(_set_interval)\n",
      "     3368    0.001    0.000    0.001    0.000 domain.py:821(__eq__)\n",
      "      100    0.000    0.000    0.001    0.000 rootisolation.py:1806(center)\n",
      "       52    0.000    0.000    0.001    0.000 {method 'sort' of 'list' objects}\n",
      "       56    0.000    0.000    0.001    0.000 polyoptions.py:740(build_options)\n",
      "    12769    0.001    0.000    0.001    0.000 {method 'append' of 'list' objects}\n",
      "     2750    0.001    0.000    0.001    0.000 {built-in method gmpy2.gmpy2._mpmath_normalize}\n",
      "     1678    0.000    0.000    0.001    0.000 domain.py:825(__ne__)\n",
      "        2    0.000    0.000    0.001    0.000 add.py:36(_addsort)\n",
      "        1    0.000    0.000    0.001    0.001 euclidtools.py:1591(dup_gcd)\n",
      "        1    0.000    0.000    0.001    0.001 euclidtools.py:1473(dup_inner_gcd)\n",
      "     1402    0.000    0.000    0.001    0.000 {built-in method builtins.all}\n",
      "        1    0.000    0.000    0.001    0.001 euclidtools.py:1145(dup_zz_heu_gcd)\n",
      "  216/108    0.000    0.000    0.001    0.000 basic.py:204(compare)\n",
      "       50    0.000    0.000    0.001    0.000 rootoftools.py:396(_eval_is_real)\n",
      "      654    0.000    0.000    0.001    0.000 polytools.py:4274(__hash__)\n",
      "       55    0.000    0.000    0.001    0.000 polyoptions.py:128(__init__)\n",
      "      103    0.000    0.000    0.001    0.000 densearith.py:255(dup_mul_ground)\n",
      "       50    0.000    0.000    0.001    0.000 evalf.py:1695(_evalf)\n",
      "      128    0.000    0.000    0.001    0.000 basic.py:1920(_exec_constructor_postprocessors)\n",
      "       50    0.000    0.000    0.001    0.000 numbers.py:671(_eval_evalf)\n",
      "      103    0.001    0.000    0.001    0.000 densearith.py:272(<listcomp>)\n",
      "      100    0.000    0.000    0.001    0.000 rootisolation.py:1801(dx)\n",
      "      625    0.001    0.000    0.001    0.000 densearith.py:14(dup_add_term)\n",
      "     7650    0.001    0.000    0.001    0.000 {method 'pop' of 'list' objects}\n",
      "     3250    0.001    0.000    0.001    0.000 facts.py:533(<genexpr>)\n",
      "        1    0.000    0.000    0.001    0.001 rootoftools.py:729(_preprocess_roots)\n",
      "        1    0.000    0.000    0.001    0.001 polyroots.py:729(preprocess_roots)\n",
      "     2475    0.000    0.000    0.001    0.000 densebasic.py:134(dup_degree)\n",
      "     2029    0.001    0.000    0.001    0.000 {built-in method gmpy2.gmpy2.gcdext}\n",
      "        2    0.000    0.000    0.001    0.000 galoistools.py:1073(gf_gcdex)\n",
      "  262/211    0.000    0.000    0.001    0.000 basic.py:350(__eq__)\n",
      "     3440    0.001    0.000    0.001    0.000 galoistools.py:188(gf_strip)\n",
      "      287    0.000    0.000    0.001    0.000 numbers.py:2238(__eq__)\n",
      "     5375    0.001    0.000    0.001    0.000 {built-in method builtins.hasattr}\n",
      "      101    0.000    0.000    0.000    0.000 numbers.py:2257(__lt__)\n",
      "      654    0.000    0.000    0.000    0.000 polytools.py:324(__hash__)\n",
      "       50    0.000    0.000    0.000    0.000 <__array_function__ internals>:177(zeros_like)\n",
      "      100    0.000    0.000    0.000    0.000 numbers.py:1178(_new)\n",
      "       50    0.000    0.000    0.000    0.000 numbers.py:1840(_as_mpf_val)\n",
      "       41    0.000    0.000    0.000    0.000 galoistools.py:1360(gf_random)\n",
      "      113    0.000    0.000    0.000    0.000 polyutils.py:171(_not_a_coeff)\n",
      "        1    0.000    0.000    0.000    0.000 basic.py:802(subs)\n",
      "  224/174    0.000    0.000    0.000    0.000 {built-in method builtins.any}\n",
      "  815/709    0.000    0.000    0.000    0.000 {built-in method builtins.hash}\n",
      "       50    0.000    0.000    0.000    0.000 numeric.py:76(zeros_like)\n",
      "       41    0.000    0.000    0.000    0.000 galoistools.py:1373(<listcomp>)\n",
      "       60    0.000    0.000    0.000    0.000 densearith.py:513(dup_add)\n",
      "      357    0.000    0.000    0.000    0.000 numbers.py:808(__hash__)\n",
      "       27    0.000    0.000    0.000    0.000 galoistools.py:729(gf_quo)\n",
      "       93    0.000    0.000    0.000    0.000 galoistools.py:1139(gf_monic)\n",
      "      927    0.000    0.000    0.000    0.000 densebasic.py:252(dup_strip)\n",
      "       50    0.000    0.000    0.000    0.000 libmpf.py:491(from_rational)\n",
      "     2444    0.000    0.000    0.000    0.000 domain.py:982(is_one)\n",
      "       50    0.000    0.000    0.000    0.000 expr.py:230(__pow__)\n",
      "     4053    0.000    0.000    0.000    0.000 {method 'get' of 'dict' objects}\n",
      "       87    0.000    0.000    0.000    0.000 domain.py:403(convert)\n",
      "      200    0.000    0.000    0.000    0.000 numbers.py:4450(sympify_mpq)\n",
      "       55    0.000    0.000    0.000    0.000 numbers.py:3417(__eq__)\n",
      "       80    0.000    0.000    0.000    0.000 galoistools.py:437(gf_quo_ground)\n",
      "       51    0.000    0.000    0.000    0.000 rootoftools.py:92(__setitem__)\n",
      "     2550    0.000    0.000    0.000    0.000 {built-in method math.ldexp}\n",
      "       14    0.000    0.000    0.000    0.000 galoistools.py:613(gf_sub_mul)\n",
      "      207    0.000    0.000    0.000    0.000 numbers.py:1970(__hash__)\n",
      "      150    0.000    0.000    0.000    0.000 numbers.py:1463(__hash__)\n",
      "        9    0.000    0.000    0.000    0.000 galoistools.py:1164(gf_diff)\n",
      "        2    0.000    0.000    0.000    0.000 basic.py:2016(_aresame)\n",
      "        1    0.000    0.000    0.000    0.000 basic.py:1002(_subs)\n",
      "       59    0.000    0.000    0.000    0.000 numbers.py:3583(__eq__)\n",
      "      625    0.000    0.000    0.000    0.000 ring.py:19(exquo)\n",
      "        4    0.000    0.000    0.000    0.000 legendre.py:1415(legcompanion)\n",
      "       10    0.000    0.000    0.000    0.000 densetools.py:571(dup_content)\n",
      "       50    0.000    0.000    0.000    0.000 evalf.py:1705(_to_mpmath)\n",
      "        4    0.000    0.000    0.000    0.000 expr.py:373(__lt__)\n",
      "      289    0.000    0.000    0.000    0.000 basic.py:126(__new__)\n",
      "        1    0.000    0.000    0.000    0.000 polytools.py:828(retract)\n",
      "        4    0.000    0.000    0.000    0.000 legendre.py:612(legder)\n",
      "       50    0.000    0.000    0.000    0.000 {built-in method builtins.sorted}\n",
      "        1    0.000    0.000    0.000    0.000 polytools.py:4246(__ne__)\n",
      "  551/451    0.000    0.000    0.000    0.000 {built-in method builtins.abs}\n",
      "        1    0.000    0.000    0.000    0.000 densearith.py:1560(dup_quo)\n",
      "        1    0.000    0.000    0.000    0.000 polytools.py:2253(clear_denoms)\n",
      "      290    0.000    0.000    0.000    0.000 <frozen importlib._bootstrap>:398(parent)\n",
      "        4    0.000    0.000    0.000    0.000 <__array_function__ internals>:177(eigvalsh)\n",
      "        4    0.000    0.000    0.000    0.000 relational.py:822(__new__)\n",
      "        4    0.000    0.000    0.000    0.000 linalg.py:1072(eigvalsh)\n",
      "      577    0.000    0.000    0.000    0.000 numbers.py:2284(__hash__)\n",
      "       36    0.000    0.000    0.000    0.000 densearith.py:536(<listcomp>)\n",
      "        3    0.000    0.000    0.000    0.000 polytools.py:243(_from_dict)\n",
      "      802    0.000    0.000    0.000    0.000 facts.py:482(_tell)\n",
      "      150    0.000    0.000    0.000    0.000 functools.py:478(lru_cache)\n",
      "       50    0.000    0.000    0.000    0.000 libmpf.py:950(mpf_div)\n",
      "      164    0.000    0.000    0.000    0.000 numbers.py:1034(__new__)\n",
      "        4    0.000    0.000    0.000    0.000 relational.py:850(_eval_relation)\n",
      "        8    0.000    0.000    0.000    0.000 densetools.py:658(dup_primitive)\n",
      "      750    0.000    0.000    0.000    0.000 {built-in method builtins.setattr}\n",
      "        4    0.000    0.000    0.000    0.000 relational.py:1177(_eval_fuzzy_relation)\n",
      "        4    0.000    0.000    0.000    0.000 relational.py:1253(is_lt)\n",
      "       74    0.000    0.000    0.000    0.000 densearith.py:622(<listcomp>)\n",
      "        4    0.000    0.000    0.000    0.000 relational.py:1277(is_ge)\n",
      "        1    0.000    0.000    0.000    0.000 factortools.py:79(dup_trial_division)\n",
      "       51    0.000    0.000    0.000    0.000 polytools.py:285(_from_poly)\n",
      "      123    0.000    0.000    0.000    0.000 random.py:511(uniform)\n",
      "      198    0.000    0.000    0.000    0.000 polyoptions.py:65(getter)\n",
      "        2    0.000    0.000    0.000    0.000 constructor.py:266(construct_domain)\n",
      "      100    0.000    0.000    0.000    0.000 numbers.py:1846(__abs__)\n",
      "      459    0.000    0.000    0.000    0.000 operations.py:63(<genexpr>)\n",
      "      302    0.000    0.000    0.000    0.000 basic.py:1934(<genexpr>)\n",
      "      110    0.000    0.000    0.000    0.000 polyoptions.py:140(preprocess_options)\n",
      "        1    0.000    0.000    0.000    0.000 polytools.py:765(to_ring)\n",
      "       50    0.000    0.000    0.000    0.000 <__array_function__ internals>:177(empty_like)\n",
      "       50    0.000    0.000    0.000    0.000 numbers.py:2171(__radd__)\n",
      "        1    0.000    0.000    0.000    0.000 polyclasses.py:285(to_ring)\n",
      "        1    0.000    0.000    0.000    0.000 polyclasses.py:297(convert)\n",
      "       53    0.000    0.000    0.000    0.000 operations.py:108(_from_args)\n",
      "        1    0.000    0.000    0.000    0.000 densebasic.py:541(dmp_convert)\n",
      "        1    0.000    0.000    0.000    0.000 densebasic.py:516(dup_convert)\n",
      "        1    0.000    0.000    0.000    0.000 densebasic.py:538(<listcomp>)\n",
      "        2    0.000    0.000    0.000    0.000 polyclasses.py:242(to_sympy_dict)\n",
      "       50    0.000    0.000    0.000    0.000 mul.py:478(<listcomp>)\n",
      "      432    0.000    0.000    0.000    0.000 core.py:73(__cmp__)\n",
      "       28    0.000    0.000    0.000    0.000 polyutils.py:155(_sort_factors)\n",
      "      216    0.000    0.000    0.000    0.000 core.py:101(__gt__)\n",
      "       50    0.000    0.000    0.000    0.000 rootoftools.py:492(<lambda>)\n",
      "        4    0.000    0.000    0.000    0.000 relational.py:1208(_n2)\n",
      "      100    0.000    0.000    0.000    0.000 libmpf.py:330(from_int)\n",
      "       52    0.000    0.000    0.000    0.000 <__array_function__ internals>:177(copyto)\n",
      "      317    0.000    0.000    0.000    0.000 integerring.py:214(gcd)\n",
      "       50    0.000    0.000    0.000    0.000 expr.py:225(_pow)\n",
      "      495    0.000    0.000    0.000    0.000 expr.py:149(_hashable_content)\n",
      "      216    0.000    0.000    0.000    0.000 core.py:96(__lt__)\n",
      "       35    0.000    0.000    0.000    0.000 galoistools.py:489(gf_sub)\n",
      "        8    0.000    0.000    0.000    0.000 <__array_function__ internals>:177(moveaxis)\n",
      "        4    0.000    0.000    0.000    0.000 polyutils.py:80(as_series)\n",
      "      697    0.000    0.000    0.000    0.000 inspect.py:488(getmro)\n",
      "       29    0.000    0.000    0.000    0.000 polyutils.py:359(<genexpr>)\n",
      "      101    0.000    0.000    0.000    0.000 primetest.py:499(isprime)\n",
      "        1    0.000    0.000    0.000    0.000 polytools.py:219(from_dict)\n",
      "      928    0.000    0.000    0.000    0.000 core.py:71(<lambda>)\n",
      "        8    0.000    0.000    0.000    0.000 numeric.py:1404(moveaxis)\n",
      "      152    0.000    0.000    0.000    0.000 {method 'update' of 'set' objects}\n",
      "       60    0.000    0.000    0.000    0.000 domain.py:386(convert_from)\n",
      "       50    0.000    0.000    0.000    0.000 libmpf.py:64(dps_to_prec)\n",
      "      302    0.000    0.000    0.000    0.000 {method 'mro' of 'type' objects}\n",
      "      104    0.000    0.000    0.000    0.000 {built-in method math.ceil}\n",
      "        1    0.000    0.000    0.000    0.000 polyroots.py:664(_integer_basis)\n",
      "       55    0.000    0.000    0.000    0.000 iterables.py:2898(iterable)\n",
      "      341    0.000    0.000    0.000    0.000 {built-in method __new__ of type object at 0x1009e4e10}\n",
      "       55    0.000    0.000    0.000    0.000 {built-in method numpy.zeros}\n",
      "       16    0.000    0.000    0.000    0.000 galoistools.py:306(gf_from_int_poly)\n",
      "       75    0.000    0.000    0.000    0.000 galoistools.py:486(<listcomp>)\n",
      "       11    0.000    0.000    0.000    0.000 galoistools.py:322(gf_to_int_poly)\n",
      "      125    0.000    0.000    0.000    0.000 power.py:962(as_base_exp)\n",
      "        1    0.000    0.000    0.000    0.000 densetools.py:727(dup_extract)\n",
      "      664    0.000    0.000    0.000    0.000 densebasic.py:11(poly_LC)\n",
      "        1    0.000    0.000    0.000    0.000 polyclasses.py:593(clear_denoms)\n",
      "       11    0.000    0.000    0.000    0.000 galoistools.py:339(<listcomp>)\n",
      "        3    0.000    0.000    0.000    0.000 densearith.py:1705(dup_max_norm)\n",
      "       16    0.000    0.000    0.000    0.000 galoistools.py:216(gf_trunc)\n",
      "      543    0.000    0.000    0.000    0.000 basic.py:750(args)\n",
      "     1045    0.000    0.000    0.000    0.000 polyoptions.py:39(postprocess)\n",
      "        2    0.000    0.000    0.000    0.000 constructor.py:15(_construct_simple)\n",
      "        3    0.000    0.000    0.000    0.000 polyclasses.py:276(from_dict)\n",
      "        3    0.000    0.000    0.000    0.000 polyoptions.py:282(preprocess)\n",
      "        1    0.000    0.000    0.000    0.000 densetools.py:1223(dmp_clear_denoms)\n",
      "      317    0.000    0.000    0.000    0.000 {built-in method gmpy2.gmpy2.gcd}\n",
      "        1    0.000    0.000    0.000    0.000 densetools.py:1169(dup_clear_denoms)\n",
      "        3    0.000    0.000    0.000    0.000 polyclasses.py:169(__hash__)\n",
      "       55    0.000    0.000    0.000    0.000 integerring.py:53(to_sympy)\n",
      "      290    0.000    0.000    0.000    0.000 {method 'rpartition' of 'str' objects}\n",
      "        3    0.000    0.000    0.000    0.000 densearith.py:435(dup_abs)\n",
      "      100    0.000    0.000    0.000    0.000 {built-in method gmpy2.gmpy2._mpmath_create}\n",
      "       75    0.000    0.000    0.000    0.000 polyutils.py:360(<genexpr>)\n",
      "        3    0.000    0.000    0.000    0.000 densearith.py:449(<listcomp>)\n",
      "      100    0.000    0.000    0.000    0.000 {method 'setdefault' of 'dict' objects}\n",
      "        3    0.000    0.000    0.000    0.000 densebasic.py:975(dmp_from_dict)\n",
      "        2    0.000    0.000    0.000    0.000 constructor.py:76(<listcomp>)\n",
      "       26    0.000    0.000    0.000    0.000 rationalfield.py:53(to_sympy)\n",
      "        3    0.000    0.000    0.000    0.000 densebasic.py:917(dup_from_dict)\n",
      "       50    0.000    0.000    0.000    0.000 libmpf.py:59(prec_to_dps)\n",
      "        1    0.000    0.000    0.000    0.000 polytools.py:1035(as_dict)\n",
      "       16    0.000    0.000    0.000    0.000 galoistools.py:229(<listcomp>)\n",
      "        1    0.000    0.000    0.000    0.000 rootoftools.py:112(<listcomp>)\n",
      "        1    0.000    0.000    0.000    0.000 polytools.py:3018(primitive)\n",
      "      154    0.000    0.000    0.000    0.000 operations.py:91(<listcomp>)\n",
      "      101    0.000    0.000    0.000    0.000 misc.py:491(as_int)\n",
      "       77    0.000    0.000    0.000    0.000 polyutils.py:350(_is_expandable_pow)\n",
      "        2    0.000    0.000    0.000    0.000 densetools.py:262(dup_eval)\n",
      "        2    0.000    0.000    0.000    0.000 symbol.py:426(__new__)\n",
      "       55    0.000    0.000    0.000    0.000 basic.py:331(_do_eq_sympify)\n",
      "       50    0.000    0.000    0.000    0.000 ctx_mp_python.py:595(make_mpf)\n",
      "    52/51    0.000    0.000    0.000    0.000 {built-in method builtins.divmod}\n",
      "       50    0.000    0.000    0.000    0.000 mul.py:33(_mulsort)\n",
      "        1    0.000    0.000    0.000    0.000 polyclasses.py:724(primitive)\n",
      "       50    0.000    0.000    0.000    0.000 mul.py:826(as_coeff_Mul)\n",
      "        1    0.000    0.000    0.000    0.000 densetools.py:138(dup_diff)\n",
      "        4    0.000    0.000    0.000    0.000 numbers.py:3493(__sub__)\n",
      "        8    0.000    0.000    0.000    0.000 polyclasses.py:151(__init__)\n",
      "       16    0.000    0.000    0.000    0.000 numeric.py:1341(normalize_axis_tuple)\n",
      "        1    0.000    0.000    0.000    0.000 densetools.py:691(dmp_ground_primitive)\n",
      "       24    0.000    0.000    0.000    0.000 densearith.py:545(<listcomp>)\n",
      "       51    0.000    0.000    0.000    0.000 basic.py:392(__ne__)\n",
      "       50    0.000    0.000    0.000    0.000 assumptions.py:464(generator)\n",
      "      151    0.000    0.000    0.000    0.000 {method 'update' of 'dict' objects}\n",
      "       12    0.000    0.000    0.000    0.000 symbol.py:340(_hashable_content)\n",
      "      105    0.000    0.000    0.000    0.000 boolalg.py:460(<lambda>)\n",
      "        1    0.000    0.000    0.000    0.000 polytools.py:910(terms)\n",
      "       13    0.000    0.000    0.000    0.000 densearith.py:474(dup_neg)\n",
      "       41    0.000    0.000    0.000    0.000 galoistools.py:389(gf_sub_ground)\n",
      "      152    0.000    0.000    0.000    0.000 domain.py:1008(abs)\n",
      "       51    0.000    0.000    0.000    0.000 integerring.py:172(from_QQ)\n",
      "      302    0.000    0.000    0.000    0.000 {built-in method from_iterable}\n",
      "        2    0.000    0.000    0.000    0.000 symbol.py:298(__xnew__)\n",
      "        1    0.000    0.000    0.000    0.000 basic.py:677(is_comparable)\n",
      "        1    0.000    0.000    0.000    0.000 expr.py:3598(expand)\n",
      "      158    0.000    0.000    0.000    0.000 polyutils.py:161(order_no_multiple_key)\n",
      "      241    0.000    0.000    0.000    0.000 galoistools.py:109(gf_int)\n",
      "        8    0.000    0.000    0.000    0.000 {method 'max' of 'numpy.ndarray' objects}\n",
      "       13    0.000    0.000    0.000    0.000 densearith.py:488(<listcomp>)\n",
      "        1    0.000    0.000    0.000    0.000 rootoftools.py:452(<listcomp>)\n",
      "        1    0.000    0.000    0.000    0.000 densebasic.py:340(dmp_validate)\n",
      "       26    0.000    0.000    0.000    0.000 exprtools.py:216(decompose_power)\n",
      "        4    0.000    0.000    0.000    0.000 <__array_function__ internals>:177(common_type)\n",
      "       26    0.000    0.000    0.000    0.000 integerring.py:57(from_sympy)\n",
      "        9    0.000    0.000    0.000    0.000 polytools.py:193(new)\n",
      "        2    0.000    0.000    0.000    0.000 symbol.py:586(symbols)\n",
      "       29    0.000    0.000    0.000    0.000 polyutils.py:364(<genexpr>)\n",
      "       33    0.000    0.000    0.000    0.000 operations.py:429(make_args)\n",
      "      100    0.000    0.000    0.000    0.000 {built-in method builtins.round}\n",
      "       56    0.000    0.000    0.000    0.000 {built-in method builtins.iter}\n",
      "        8    0.000    0.000    0.000    0.000 _methods.py:38(_amax)\n",
      "     52/1    0.000    0.000    0.000    0.000 densebasic.py:312(_rec_validate)\n",
      "        3    0.000    0.000    0.000    0.000 iterables.py:1930(has_dups)\n",
      "      216    0.000    0.000    0.000    0.000 numbers.py:1683(_hashable_content)\n",
      "        8    0.000    0.000    0.000    0.000 symbol.py:452(_hashable_content)\n",
      "        8    0.000    0.000    0.000    0.000 galoistools.py:344(gf_neg)\n",
      "        1    0.000    0.000    0.000    0.000 polytools.py:928(<listcomp>)\n",
      "        1    0.000    0.000    0.000    0.000 polytools.py:598(_eval_subs)\n",
      "       50    0.000    0.000    0.000    0.000 abc.py:117(__instancecheck__)\n",
      "        1    0.000    0.000    0.000    0.000 polytools.py:630(replace)\n",
      "        4    0.000    0.000    0.000    0.000 type_check.py:716(common_type)\n",
      "        1    0.000    0.000    0.000    0.000 pstats.py:107(__init__)\n",
      "       51    0.000    0.000    0.000    0.000 integerring.py:218(lcm)\n",
      "        5    0.000    0.000    0.000    0.000 polytools.py:522(per)\n",
      "        8    0.000    0.000    0.000    0.000 galoistools.py:358(<listcomp>)\n",
      "        1    0.000    0.000    0.000    0.000 numbers.py:2139(__divmod__)\n",
      "        1    0.000    0.000    0.000    0.000 factortools.py:352(<listcomp>)\n",
      "       51    0.000    0.000    0.000    0.000 sympify.py:18(__init__)\n",
      "        4    0.000    0.000    0.000    0.000 numbers.py:3481(evalf)\n",
      "        2    0.000    0.000    0.000    0.000 numeric.py:149(ones)\n",
      "       12    0.000    0.000    0.000    0.000 symbol.py:352(assumptions0)\n",
      "       26    0.000    0.000    0.000    0.000 numbers.py:2133(__abs__)\n",
      "       27    0.000    0.000    0.000    0.000 rationalfield.py:57(from_sympy)\n",
      "        4    0.000    0.000    0.000    0.000 numbers.py:3478(_eval_evalf)\n",
      "       23    0.000    0.000    0.000    0.000 galoistools.py:521(<listcomp>)\n",
      "       20    0.000    0.000    0.000    0.000 {method 'reshape' of 'numpy.ndarray' objects}\n",
      "       52    0.000    0.000    0.000    0.000 facts.py:479(__init__)\n",
      "      153    0.000    0.000    0.000    0.000 {method 'extend' of 'list' objects}\n",
      "        1    0.000    0.000    0.000    0.000 pstats.py:117(init)\n",
      "        4    0.000    0.000    0.000    0.000 polyutils.py:136(<listcomp>)\n",
      "        1    0.000    0.000    0.000    0.000 containers.py:52(__new__)\n",
      "        2    0.000    0.000    0.000    0.000 densebasic.py:1071(dmp_to_dict)\n",
      "       49    0.000    0.000    0.000    0.000 densearith.py:396(dup_lshift)\n",
      "       54    0.000    0.000    0.000    0.000 {method 'copy' of 'dict' objects}\n",
      "       16    0.000    0.000    0.000    0.000 {method 'astype' of 'numpy.ndarray' objects}\n",
      "       50    0.000    0.000    0.000    0.000 numbers.py:1269(__bool__)\n",
      "        4    0.000    0.000    0.000    0.000 linalg.py:135(_commonType)\n",
      "       46    0.000    0.000    0.000    0.000 domain.py:465(of_type)\n",
      "       55    0.000    0.000    0.000    0.000 polyoptions.py:500(postprocess)\n",
      "        3    0.000    0.000    0.000    0.000 numbers.py:2159(__add__)\n",
      "        2    0.000    0.000    0.000    0.000 densebasic.py:1019(dup_to_dict)\n",
      "        4    0.000    0.000    0.000    0.000 {method 'sum' of 'numpy.ndarray' objects}\n",
      "       50    0.000    0.000    0.000    0.000 rootoftools.py:378(_hashable_content)\n",
      "       50    0.000    0.000    0.000    0.000 {built-in method _abc._abc_instancecheck}\n",
      "        4    0.000    0.000    0.000    0.000 polyutils.py:50(trimseq)\n",
      "        1    0.000    0.000    0.000    0.000 polyclasses.py:316(terms)\n",
      "      123    0.000    0.000    0.000    0.000 {method 'random' of '_random.Random' objects}\n",
      "       55    0.000    0.000    0.000    0.000 polyoptions.py:568(postprocess)\n",
      "      107    0.000    0.000    0.000    0.000 numbers.py:3104(__bool__)\n",
      "        4    0.000    0.000    0.000    0.000 dispatcher.py:231(__call__)\n",
      "       50    0.000    0.000    0.000    0.000 expr.py:3519(as_coeff_Mul)\n",
      "       50    0.000    0.000    0.000    0.000 numbers.py:1199(_hashable_content)\n",
      "        1    0.000    0.000    0.000    0.000 densebasic.py:1713(dmp_list_terms)\n",
      "      104    0.000    0.000    0.000    0.000 boolalg.py:345(__bool__)\n",
      "        9    0.000    0.000    0.000    0.000 expr.py:3568(_expand_hint)\n",
      "        1    0.000    0.000    0.000    0.000 twodim_base.py:161(eye)\n",
      "        8    0.000    0.000    0.000    0.000 {built-in method numpy.arange}\n",
      "       50    0.000    0.000    0.000    0.000 multiarray.py:80(empty_like)\n",
      "        4    0.000    0.000    0.000    0.000 <__array_function__ internals>:177(iscomplexobj)\n",
      "       50    0.000    0.000    0.000    0.000 numbers.py:2034(as_coeff_Mul)\n",
      "        4    0.000    0.000    0.000    0.000 symbol.py:254(_sanitize)\n",
      "      129    0.000    0.000    0.000    0.000 {built-in method _operator.index}\n",
      "        4    0.000    0.000    0.000    0.000 _methods.py:46(_sum)\n",
      "        1    0.000    0.000    0.000    0.000 densebasic.py:1694(_rec_list_terms)\n",
      "       55    0.000    0.000    0.000    0.000 polyoptions.py:631(postprocess)\n",
      "       53    0.000    0.000    0.000    0.000 basic.py:724(func)\n",
      "        4    0.000    0.000    0.000    0.000 polyutils.py:152(<listcomp>)\n",
      "        5    0.000    0.000    0.000    0.000 polyconfig.py:47(query)\n",
      "       61    0.000    0.000    0.000    0.000 {method 'insert' of 'list' objects}\n",
      "        1    0.000    0.000    0.000    0.000 polytools.py:3356(<listcomp>)\n",
      "       75    0.000    0.000    0.000    0.000 expr.py:977(_eval_power)\n",
      "        1    0.000    0.000    0.000    0.000 pstats.py:136(load_stats)\n",
      "       50    0.000    0.000    0.000    0.000 {built-in method gmpy2.gmpy2.bit_length}\n",
      "      106    0.000    0.000    0.000    0.000 polyoptions.py:31(default)\n",
      "        3    0.000    0.000    0.000    0.000 iterables.py:2956(is_sequence)\n",
      "        3    0.000    0.000    0.000    0.000 polyclasses.py:202(per)\n",
      "       16    0.000    0.000    0.000    0.000 numeric.py:1391(<listcomp>)\n",
      "        5    0.000    0.000    0.000    0.000 {built-in method math.log}\n",
      "       50    0.000    0.000    0.000    0.000 numeric.py:72(_zeros_like_dispatcher)\n",
      "       12    0.000    0.000    0.000    0.000 polyutils.py:716(_deprecate_as_int)\n",
      "       52    0.000    0.000    0.000    0.000 multiarray.py:1071(copyto)\n",
      "       12    0.000    0.000    0.000    0.000 symbol.py:354(<dictcomp>)\n",
      "       51    0.000    0.000    0.000    0.000 {built-in method gmpy2.gmpy2.lcm}\n",
      "       55    0.000    0.000    0.000    0.000 polyoptions.py:535(postprocess)\n",
      "       51    0.000    0.000    0.000    0.000 mul.py:555(<listcomp>)\n",
      "       65    0.000    0.000    0.000    0.000 {method 'pop' of 'dict' objects}\n",
      "       55    0.000    0.000    0.000    0.000 polyoptions.py:593(postprocess)\n",
      "        2    0.000    0.000    0.000    0.000 symbol.py:285(__new__)\n",
      "        8    0.000    0.000    0.000    0.000 polyutils.py:138(<genexpr>)\n",
      "       63    0.000    0.000    0.000    0.000 {method 'keys' of 'dict' objects}\n",
      "       55    0.000    0.000    0.000    0.000 polyoptions.py:520(postprocess)\n",
      "        3    0.000    0.000    0.000    0.000 iterables.py:1950(<genexpr>)\n",
      "        3    0.000    0.000    0.000    0.000 containers.py:54(<genexpr>)\n",
      "        1    0.000    0.000    0.000    0.000 polyclasses.py:824(<listcomp>)\n",
      "       51    0.000    0.000    0.000    0.000 mul.py:653(<listcomp>)\n",
      "       50    0.000    0.000    0.000    0.000 power.py:391(exp)\n",
      "        6    0.000    0.000    0.000    0.000 {built-in method numpy.empty}\n",
      "        3    0.000    0.000    0.000    0.000 rationalfield.py:48(get_ring)\n",
      "        1    0.000    0.000    0.000    0.000 basic.py:944(<listcomp>)\n",
      "        4    0.000    0.000    0.000    0.000 linalg.py:111(_makearray)\n",
      "        1    0.000    0.000    0.000    0.000 rootoftools.py:635(_count_roots)\n",
      "       51    0.000    0.000    0.000    0.000 rationalfield.py:158(denom)\n",
      "        8    0.000    0.000    0.000    0.000 linalg.py:129(_realType)\n",
      "       51    0.000    0.000    0.000    0.000 polyoptions.py:278(default)\n",
      "        2    0.000    0.000    0.000    0.000 polyoptions.py:205(clone)\n",
      "        4    0.000    0.000    0.000    0.000 type_check.py:303(iscomplexobj)\n",
      "       28    0.000    0.000    0.000    0.000 {built-in method builtins.issubclass}\n",
      "        6    0.000    0.000    0.000    0.000 polyoptions.py:293(<genexpr>)\n",
      "        3    0.000    0.000    0.000    0.000 polyclasses.py:268(to_tuple)\n",
      "        4    0.000    0.000    0.000    0.000 polyutils.py:130(<listcomp>)\n",
      "        8    0.000    0.000    0.000    0.000 {method 'transpose' of 'numpy.ndarray' objects}\n",
      "       20    0.000    0.000    0.000    0.000 {built-in method numpy.core._multiarray_umath.normalize_axis_index}\n",
      "        1    0.000    0.000    0.000    0.000 cProfile.py:50(create_stats)\n",
      "        2    0.000    0.000    0.000    0.000 polyoptions.py:413(preprocess)\n",
      "        4    0.000    0.000    0.000    0.000 traversal.py:163(__next__)\n",
      "        2    0.000    0.000    0.000    0.000 densearith.py:297(dup_quo_ground)\n",
      "       26    0.000    0.000    0.000    0.000 polyoptions.py:705(default)\n",
      "        8    0.000    0.000    0.000    0.000 linalg.py:116(isComplexType)\n",
      "        4    0.000    0.000    0.000    0.000 linalg.py:106(get_linalg_error_extobj)\n",
      "        8    0.000    0.000    0.000    0.000 polyutils.py:133(<genexpr>)\n",
      "        9    0.000    0.000    0.000    0.000 {method 'upper' of 'str' objects}\n",
      "        8    0.000    0.000    0.000    0.000 {method 'startswith' of 'str' objects}\n",
      "        9    0.000    0.000    0.000    0.000 integerring.py:164(from_ZZ)\n",
      "        4    0.000    0.000    0.000    0.000 numbers.py:3370(__neg__)\n",
      "       25    0.000    0.000    0.000    0.000 power.py:387(base)\n",
      "        1    0.000    0.000    0.000    0.000 euclidtools.py:1129(_dup_zz_gcd_interpolate)\n",
      "        1    0.000    0.000    0.000    0.000 bu_pseudospectral.py:91(BU_construction_points)\n",
      "        4    0.000    0.000    0.000    0.000 traversal.py:116(__init__)\n",
      "        3    0.000    0.000    0.000    0.000 domain.py:368(__hash__)\n",
      "        4    0.000    0.000    0.000    0.000 linalg.py:199(_assert_stacked_square)\n",
      "        4    0.000    0.000    0.000    0.000 linalg.py:193(_assert_stacked_2d)\n",
      "        2    0.000    0.000    0.000    0.000 integerring.py:222(sqrt)\n",
      "        1    0.000    0.000    0.000    0.000 containers.py:70(__iter__)\n",
      "        4    0.000    0.000    0.000    0.000 dispatcher.py:232(<listcomp>)\n",
      "        6    0.000    0.000    0.000    0.000 logic.py:92(fuzzy_bool)\n",
      "        1    0.000    0.000    0.000    0.000 numbers.py:2011(as_numer_denom)\n",
      "        8    0.000    0.000    0.000    0.000 polytools.py:556(get_domain)\n",
      "        1    0.000    0.000    0.000    0.000 factortools.py:546(dup_zz_cyclotomic_factor)\n",
      "        3    0.000    0.000    0.000    0.000 densebasic.py:452(dmp_to_tuple)\n",
      "        1    0.000    0.000    0.000    0.000 numbers.py:2220(__mod__)\n",
      "        8    0.000    0.000    0.000    0.000 numeric.py:1466(<listcomp>)\n",
      "        4    0.000    0.000    0.000    0.000 numbers.py:3577(_as_mpf_val)\n",
      "        1    0.000    0.000    0.000    0.000 rootoftools.py:638(<listcomp>)\n",
      "        1    0.000    0.000    0.000    0.000 densebasic.py:157(dmp_degree)\n",
      "        1    0.000    0.000    0.000    0.000 polytools.py:4277(free_symbols)\n",
      "        3    0.000    0.000    0.000    0.000 numpy.py:38(combinefunctions)\n",
      "        1    0.000    0.000    0.000    0.000 iterables.py:446(subsets)\n",
      "        4    0.000    0.000    0.000    0.000 polyutils.py:131(<listcomp>)\n",
      "        4    0.000    0.000    0.000    0.000 {built-in method builtins.next}\n",
      "        4    0.000    0.000    0.000    0.000 {method 'replace' of 'str' objects}\n",
      "        3    0.000    0.000    0.000    0.000 {method 'add' of 'set' objects}\n",
      "        1    0.000    0.000    0.000    0.000 basic.py:711(<listcomp>)\n",
      "        8    0.000    0.000    0.000    0.000 traversal.py:120(_preorder_traversal)\n",
      "        2    0.000    0.000    0.000    0.000 symbol.py:730(<listcomp>)\n",
      "        8    0.000    0.000    0.000    0.000 numeric.py:1400(_moveaxis_dispatcher)\n",
      "        1    0.000    0.000    0.000    0.000 expr.py:2006(as_base_exp)\n",
      "        2    0.000    0.000    0.000    0.000 polytools.py:4089(is_univariate)\n",
      "        2    0.000    0.000    0.000    0.000 densearith.py:323(<listcomp>)\n",
      "        2    0.000    0.000    0.000    0.000 galoistools.py:512(<listcomp>)\n",
      "        4    0.000    0.000    0.000    0.000 numbers.py:3714(__eq__)\n",
      "        1    0.000    0.000    0.000    0.000 densebasic.py:1631(dup_terms_gcd)\n",
      "        4    0.000    0.000    0.000    0.000 relational.py:1220(_eval_is_ge)\n",
      "        4    0.000    0.000    0.000    0.000 {method 'split' of 'str' objects}\n",
      "        1    0.000    0.000    0.000    0.000 densebasic.py:330(_rec_strip)\n",
      "        2    0.000    0.000    0.000    0.000 polyutils.py:157(order_if_multiple_key)\n",
      "        4    0.000    0.000    0.000    0.000 {method 'lower' of 'str' objects}\n",
      "        1    0.000    0.000    0.000    0.000 polytools.py:358(free_symbols_in_domain)\n",
      "        4    0.000    0.000    0.000    0.000 logic.py:151(fuzzy_not)\n",
      "        4    0.000    0.000    0.000    0.000 type_check.py:206(_is_type_dispatcher)\n",
      "        6    0.000    0.000    0.000    0.000 expr.py:3641(_expand_hint_key)\n",
      "        4    0.000    0.000    0.000    0.000 symbol.py:731(<genexpr>)\n",
      "        2    0.000    0.000    0.000    0.000 {method 'endswith' of 'str' objects}\n",
      "        4    0.000    0.000    0.000    0.000 {built-in method numpy.asarray}\n",
      "        2    0.000    0.000    0.000    0.000 {built-in method gmpy2.gmpy2.isqrt}\n",
      "        2    0.000    0.000    0.000    0.000 factortools.py:348(<lambda>)\n",
      "        1    0.000    0.000    0.000    0.000 {built-in method builtins.sum}\n",
      "        4    0.000    0.000    0.000    0.000 linalg.py:1068(_eigvalsh_dispatcher)\n",
      "        4    0.000    0.000    0.000    0.000 type_check.py:712(_common_type_dispatcher)\n",
      "        1    0.000    0.000    0.000    0.000 polytools.py:405(domain)\n",
      "        2    0.000    0.000    0.000    0.000 mul.py:689(<genexpr>)\n",
      "        1    0.000    0.000    0.000    0.000 polyoptions.py:53(preprocess)\n",
      "        3    0.000    0.000    0.000    0.000 polytools.py:4270(_hashable_content)\n",
      "        4    0.000    0.000    0.000    0.000 {method 'strip' of 'str' objects}\n",
      "        4    0.000    0.000    0.000    0.000 traversal.py:166(__iter__)\n",
      "        1    0.000    0.000    0.000    0.000 rootoftools.py:768(<setcomp>)\n",
      "        2    0.000    0.000    0.000    0.000 densebasic.py:33(poly_TC)\n",
      "        1    0.000    0.000    0.000    0.000 {method 'disable' of '_lsprof.Profiler' objects}\n",
      "        2    0.000    0.000    0.000    0.000 polyoptions.py:265(default)\n",
      "        1    0.000    0.000    0.000    0.000 polytools.py:388(gen)\n",
      "        2    0.000    0.000    0.000    0.000 symbol.py:716(literal)\n",
      "        1    0.000    0.000    0.000    0.000 iterables.py:524(numbered_symbols)\n",
      "        1    0.000    0.000    0.000    0.000 euclidtools.py:861(_dup_rr_trivial_gcd)\n",
      "        1    0.000    0.000    0.000    0.000 densebasic.py:695(dmp_zero_p)\n",
      "        1    0.000    0.000    0.000    0.000 domain.py:990(is_negative)\n",
      "        1    0.000    0.000    0.000    0.000 mul.py:687(<genexpr>)\n",
      "        1    0.000    0.000    0.000    0.000 boolalg.py:420(__bool__)\n",
      "        1    0.000    0.000    0.000    0.000 {method 'index' of 'list' objects}\n",
      "        1    0.000    0.000    0.000    0.000 {method 'pop' of 'set' objects}\n",
      "\n",
      "\n"
     ]
    }
   ],
   "source": [
    "with Profile() as profile:\n",
    "    Lag_integ_2d(50, scheme, 2)(np.array(BU_construction_points(50, scheme)))\n",
    "    (\n",
    "         Stats(profile)\n",
    "         .strip_dirs()\n",
    "         .sort_stats(SortKey.CUMULATIVE)\n",
    "         .print_stats()\n",
    "     )"
   ]
  },
  {
   "cell_type": "code",
   "execution_count": 98,
   "id": "24977922",
   "metadata": {},
   "outputs": [],
   "source": [
    "from numpy.polynomial.legendre import leggauss"
   ]
  },
  {
   "cell_type": "code",
   "execution_count": 105,
   "id": "63f59a19",
   "metadata": {
    "scrolled": false
   },
   "outputs": [
    {
     "data": {
      "text/plain": [
       "array([0.06667134, 0.14945135, 0.21908636, 0.26926672, 0.29552422,\n",
       "       0.29552422, 0.26926672, 0.21908636, 0.14945135, 0.06667134])"
      ]
     },
     "execution_count": 105,
     "metadata": {},
     "output_type": "execute_result"
    }
   ],
   "source": [
    "leggauss(10)[1]"
   ]
  },
  {
   "cell_type": "code",
   "execution_count": 318,
   "id": "f2f92779",
   "metadata": {},
   "outputs": [],
   "source": [
    "import chords\n",
    "importlib.reload(chords)\n",
    "importlib.reload(chords.bu_pseudospectral)\n",
    "importlib.reload(chords.util)\n",
    "importlib.reload(chords.pseudospectral)\n",
    "from chords.bu_pseudospectral import (\n",
    "    Integration_Matrix, tau_to_t_points, BU_coll_points, BU_construction_points, _matrix_D_bary,Lag_integ_2d\n",
    ")\n",
    "from chords.pseudospectral import bary_poly, bary_poly_2d\n",
    "from chords.util import poly_integral_2d"
   ]
  },
  {
   "cell_type": "code",
   "execution_count": 319,
   "id": "a58254d4",
   "metadata": {},
   "outputs": [],
   "source": [
    "from chords.util import get_weights, Lag_pol_2d, gauss_integral_2d, gauss_integral"
   ]
  },
  {
   "cell_type": "code",
   "execution_count": 288,
   "id": "3ee9c57d",
   "metadata": {},
   "outputs": [
    {
     "data": {
      "image/png": "[encoded data removed]",
      "text/latex": [
       "$\\displaystyle \\left[ -0.9739065285171717, \\  -0.8650633666889845, \\  -0.6794095682990244, \\  -0.4333953941292472, \\  -0.1488743389816312, \\  0.1488743389816312, \\  0.4333953941292472, \\  0.6794095682990244, \\  0.8650633666889845, \\  0.9739065285171717\\right]$"
      ],
      "text/plain": [
       "[-0.9739065285171717, -0.8650633666889845, -0.6794095682990244, -0.4333953941292472, -0.1488743389816312, 0.1488743389816312, 0.4333953941292472, 0.6794095682990244, 0.8650633666889845, 0.9739\n",
       "065285171717]"
      ]
     },
     "execution_count": 288,
     "metadata": {},
     "output_type": "execute_result"
    }
   ],
   "source": [
    "LG(10)"
   ]
  },
  {
   "cell_type": "code",
   "execution_count": 289,
   "id": "dba7c002",
   "metadata": {},
   "outputs": [
    {
     "data": {
      "text/plain": [
       "(array([-0.57735027,  0.57735027]), array([1., 1.]))"
      ]
     },
     "execution_count": 289,
     "metadata": {},
     "output_type": "execute_result"
    }
   ],
   "source": [
    "leggauss(2)"
   ]
  },
  {
   "cell_type": "code",
   "execution_count": 290,
   "id": "79d7d677",
   "metadata": {},
   "outputs": [],
   "source": [
    "p0 = bary_poly(LG(3), [1,0,0])"
   ]
  },
  {
   "cell_type": "code",
   "execution_count": 291,
   "id": "4825634b",
   "metadata": {},
   "outputs": [
    {
     "data": {
      "text/plain": [
       "array([ 0.65045577, -0.09490022])"
      ]
     },
     "execution_count": 291,
     "metadata": {},
     "output_type": "execute_result"
    }
   ],
   "source": [
    "p0(leggauss(2)[0])"
   ]
  },
  {
   "cell_type": "code",
   "execution_count": 292,
   "id": "cedb2e74",
   "metadata": {},
   "outputs": [
    {
     "data": {
      "image/png": "[encoded data removed]",
      "text/latex": [
       "$\\displaystyle 0.555555555555555$"
      ],
      "text/plain": [
       "0.5555555555555555"
      ]
     },
     "execution_count": 292,
     "metadata": {},
     "output_type": "execute_result"
    }
   ],
   "source": [
    "gauss_integral(p0, 2, -1, 1)"
   ]
  },
  {
   "cell_type": "code",
   "execution_count": 293,
   "id": "30a94000",
   "metadata": {},
   "outputs": [
    {
     "name": "stdout",
     "output_type": "stream",
     "text": [
      "[-0.77459667  0.          0.77459667]\n"
     ]
    }
   ],
   "source": [
    "P3 = Lag_pol_2d(3, 'LG')"
   ]
  },
  {
   "cell_type": "code",
   "execution_count": 294,
   "id": "6331d4d9",
   "metadata": {},
   "outputs": [
    {
     "data": {
      "image/png": "[encoded data removed]",
      "text/latex": [
       "$\\displaystyle \\left[ -0.7745966692414834, \\  0, \\  0.7745966692414834\\right]$"
      ],
      "text/plain": [
       "[-0.7745966692414834, 0, 0.7745966692414834]"
      ]
     },
     "execution_count": 294,
     "metadata": {},
     "output_type": "execute_result"
    }
   ],
   "source": [
    "LG(3)"
   ]
  },
  {
   "cell_type": "code",
   "execution_count": 295,
   "id": "850ab248",
   "metadata": {},
   "outputs": [
    {
     "data": {
      "text/plain": [
       "array([-0.77459667,  0.        ,  0.77459667])"
      ]
     },
     "execution_count": 295,
     "metadata": {},
     "output_type": "execute_result"
    }
   ],
   "source": [
    "np.array(LG(3), dtype = 'float64')"
   ]
  },
  {
   "cell_type": "code",
   "execution_count": 296,
   "id": "bc8cdc69",
   "metadata": {},
   "outputs": [
    {
     "data": {
      "image/png": "[encoded data removed]",
      "text/latex": [
       "$\\displaystyle \\left[ -0.7745966692414834, \\  0, \\  0.7745966692414834\\right]$"
      ],
      "text/plain": [
       "[-0.7745966692414834, 0, 0.7745966692414834]"
      ]
     },
     "execution_count": 296,
     "metadata": {},
     "output_type": "execute_result"
    }
   ],
   "source": [
    "coll_points"
   ]
  },
  {
   "cell_type": "code",
   "execution_count": 297,
   "id": "8c1d9ad4",
   "metadata": {},
   "outputs": [
    {
     "data": {
      "image/png": "[encoded data removed]",
      "text/latex": [
       "$\\displaystyle 0.774596669241483$"
      ],
      "text/plain": [
       "0.7745966692414834"
      ]
     },
     "execution_count": 297,
     "metadata": {},
     "output_type": "execute_result"
    }
   ],
   "source": [
    "np.sqrt(3/5)"
   ]
  },
  {
   "cell_type": "code",
   "execution_count": 298,
   "id": "b4c8e4cc",
   "metadata": {},
   "outputs": [
    {
     "data": {
      "text/plain": [
       "array([0., 0., 1.])"
      ]
     },
     "execution_count": 298,
     "metadata": {},
     "output_type": "execute_result"
    }
   ],
   "source": [
    "P3(np.sqrt(3/5))"
   ]
  },
  {
   "cell_type": "code",
   "execution_count": 277,
   "id": "59931eef",
   "metadata": {},
   "outputs": [],
   "source": [
    "N = 3"
   ]
  },
  {
   "cell_type": "code",
   "execution_count": 255,
   "id": "f0097c2d",
   "metadata": {
    "scrolled": true
   },
   "outputs": [
    {
     "data": {
      "text/plain": [
       "array([0.55555556, 0.88888889, 0.55555556])"
      ]
     },
     "execution_count": 255,
     "metadata": {},
     "output_type": "execute_result"
    }
   ],
   "source": [
    "leggauss(N)[1]"
   ]
  },
  {
   "cell_type": "code",
   "execution_count": 256,
   "id": "2da4e412",
   "metadata": {},
   "outputs": [
    {
     "data": {
      "text/plain": [
       "array([0.55581759, 0.88836483, 0.55581759])"
      ]
     },
     "execution_count": 256,
     "metadata": {},
     "output_type": "execute_result"
    }
   ],
   "source": [
    "weights(N,'LG')"
   ]
  },
  {
   "cell_type": "code",
   "execution_count": 250,
   "id": "554ccd02",
   "metadata": {},
   "outputs": [
    {
     "data": {
      "image/png": "[encoded data removed]",
      "text/latex": [
       "$\\displaystyle \\left( 0.555555555555556, \\  0.888888888888889\\right)$"
      ],
      "text/plain": [
       "(0.5555555555555556, 0.8888888888888888)"
      ]
     },
     "execution_count": 250,
     "metadata": {},
     "output_type": "execute_result"
    }
   ],
   "source": [
    "5/9, 8/9"
   ]
  },
  {
   "cell_type": "code",
   "execution_count": 196,
   "id": "bcd9d009",
   "metadata": {
    "scrolled": true
   },
   "outputs": [
    {
     "data": {
      "text/plain": [
       "array([ 2.09577920e-04, -1.45578449e-04, -2.55823739e-04,  2.98304185e-04,\n",
       "        2.07360647e-04, -5.96356210e-04,  3.57415845e-04, -3.79042325e-04,\n",
       "        4.59965439e-04, -7.85190116e-04,  5.06487106e-04, -5.07386088e-04,\n",
       "        7.34110349e-04,  1.58547214e-04, -1.02666047e-03,  8.59529663e-04,\n",
       "        1.83191004e-04, -4.31820552e-04,  3.68682687e-04, -3.79319599e-04,\n",
       "        4.01652144e-04, -3.64405775e-04,  7.99976210e-05,  2.41673537e-05,\n",
       "        2.25941473e-05,  2.25941473e-05,  2.41673537e-05,  7.99976210e-05,\n",
       "       -3.64405775e-04,  4.01652144e-04, -3.79319599e-04,  3.68682687e-04,\n",
       "       -4.31820552e-04,  1.83191004e-04,  8.59529663e-04, -1.02666047e-03,\n",
       "        1.58547214e-04,  7.34110349e-04, -5.07386088e-04,  5.06487106e-04,\n",
       "       -7.85190116e-04,  4.59965439e-04, -3.79042325e-04,  3.57415845e-04,\n",
       "       -5.96356210e-04,  2.07360647e-04,  2.98304185e-04, -2.55823739e-04,\n",
       "       -1.45578449e-04,  2.09577920e-04])"
      ]
     },
     "execution_count": 196,
     "metadata": {},
     "output_type": "execute_result"
    }
   ],
   "source": [
    "N = 50\n",
    "leggauss(N)[1] - weights(N,'LG')"
   ]
  },
  {
   "cell_type": "code",
   "execution_count": 197,
   "id": "6d1afeaa",
   "metadata": {},
   "outputs": [
    {
     "data": {
      "text/plain": [
       "array([0.00290862, 0.0067598 , 0.01059055, 0.01438082, 0.01811556,\n",
       "       0.02178024, 0.02536067, 0.02884299, 0.03221373, 0.03545984,\n",
       "       0.03856876, 0.04152846, 0.0443275 , 0.04695505, 0.04940094,\n",
       "       0.0516557 , 0.05371062, 0.05555774, 0.05718993, 0.05860085,\n",
       "       0.05978506, 0.06073797, 0.0614559 , 0.06193607, 0.06217662,\n",
       "       0.06217662, 0.06193607, 0.0614559 , 0.06073797, 0.05978506,\n",
       "       0.05860085, 0.05718993, 0.05555774, 0.05371062, 0.0516557 ,\n",
       "       0.04940094, 0.04695505, 0.0443275 , 0.04152846, 0.03856876,\n",
       "       0.03545984, 0.03221373, 0.02884299, 0.02536067, 0.02178024,\n",
       "       0.01811556, 0.01438082, 0.01059055, 0.0067598 , 0.00290862])"
      ]
     },
     "execution_count": 197,
     "metadata": {},
     "output_type": "execute_result"
    }
   ],
   "source": [
    "leggauss(N)[1]"
   ]
  },
  {
   "cell_type": "code",
   "execution_count": 198,
   "id": "f69723d3",
   "metadata": {},
   "outputs": [
    {
     "data": {
      "text/plain": [
       "array([0.00269904, 0.00690538, 0.01084637, 0.01408252, 0.0179082 ,\n",
       "       0.0223766 , 0.02500326, 0.02922204, 0.03175376, 0.03624503,\n",
       "       0.03806227, 0.04203585, 0.04359339, 0.0467965 , 0.0504276 ,\n",
       "       0.05079617, 0.05352743, 0.05598957, 0.05682124, 0.05898017,\n",
       "       0.05938341, 0.06110238, 0.0613759 , 0.0619119 , 0.06215402,\n",
       "       0.06215402, 0.0619119 , 0.0613759 , 0.06110238, 0.05938341,\n",
       "       0.05898017, 0.05682124, 0.05598957, 0.05352743, 0.05079617,\n",
       "       0.0504276 , 0.0467965 , 0.04359339, 0.04203585, 0.03806227,\n",
       "       0.03624503, 0.03175376, 0.02922204, 0.02500326, 0.0223766 ,\n",
       "       0.0179082 , 0.01408252, 0.01084637, 0.00690538, 0.00269904])"
      ]
     },
     "execution_count": 198,
     "metadata": {},
     "output_type": "execute_result"
    }
   ],
   "source": [
    "gauss_integral_2d(Lag_pol_2d(N, 'LG'), N, -1,1)"
   ]
  },
  {
   "cell_type": "code",
   "execution_count": 220,
   "id": "b0f408c6",
   "metadata": {},
   "outputs": [
    {
     "data": {
      "image/png": "[encoded data removed]",
      "text/latex": [
       "$\\displaystyle \\left[ -0.9997137267734412, \\  -0.9984919506395958, \\  -0.9962951347331251, \\  -0.9931249370374435, \\  -0.9889843952429918, \\  -0.983877540706057, \\  -0.9778093584869183, \\  -0.9707857757637063, \\  -0.9628136542558155, \\  -0.9539007829254917, \\  -0.944055870136256, \\  -0.9332885350430795, \\  -0.9216092981453339, \\  -0.9090295709825297, \\  -0.895561644970727, \\  -0.8812186793850184, \\  -0.8660146884971646, \\  -0.8499645278795913, \\  -0.8330838798884008, \\  -0.8153892383391763, \\  -0.7968978923903145, \\  -0.7776279096494955, \\  -0.7575981185197072, \\  -0.7368280898020207, \\  -0.7153381175730564, \\  -0.693149199355802, \\  -0.670283015603141, \\  -0.6467619085141293, \\  -0.6226088602037078, \\  -0.5978474702471787, \\  -0.5725019326213812, \\  -0.5465970120650942, \\  -0.5201580198817631, \\  -0.4932107892081909, \\  -0.465781649773358, \\  -0.4378974021720315, \\  -0.4095852916783015, \\  -0.38087298162463, \\  -0.3517885263724217, \\  -0.3223603439005292, \\  -0.292617188038472, \\  -0.2625881203715035, \\  -0.232302481844974, \\  -0.201789864095736, \\  -0.1710800805386033, \\  -0.140203137236114, \\  -0.1091892035800611, \\  -0.07806858281343664, \\  -0.04687168242159163, \\  -0.01562898442154308, \\  0.01562898442154308, \\  0.04687168242159163, \\  0.07806858281343664, \\  0.1091892035800611, \\  0.140203137236114, \\  0.1710800805386033, \\  0.201789864095736, \\  0.232302481844974, \\  0.2625881203715035, \\  0.292617188038472, \\  0.3223603439005292, \\  0.3517885263724217, \\  0.38087298162463, \\  0.4095852916783015, \\  0.4378974021720315, \\  0.465781649773358, \\  0.4932107892081909, \\  0.5201580198817631, \\  0.5465970120650942, \\  0.5725019326213812, \\  0.5978474702471787, \\  0.6226088602037078, \\  0.6467619085141293, \\  0.670283015603141, \\  0.693149199355802, \\  0.7153381175730564, \\  0.7368280898020207, \\  0.7575981185197072, \\  0.7776279096494955, \\  0.7968978923903145, \\  0.8153892383391763, \\  0.8330838798884008, \\  0.8499645278795913, \\  0.8660146884971646, \\  0.8812186793850184, \\  0.895561644970727, \\  0.9090295709825297, \\  0.9216092981453339, \\  0.9332885350430795, \\  0.944055870136256, \\  0.9539007829254917, \\  0.9628136542558155, \\  0.9707857757637063, \\  0.9778093584869183, \\  0.983877540706057, \\  0.9889843952429918, \\  0.9931249370374435, \\  0.9962951347331251, \\  0.9984919506395958, \\  0.9997137267734412\\right]$"
      ],
      "text/plain": [
       "[-0.9997137267734412, -0.9984919506395958, -0.9962951347331251, -0.9931249370374435, -0.9889843952429918, -0.983877540706057, -0.9778093584869183, -0.9707857757637063, -0.9628136542558155, -0.\n",
       "9539007829254917, -0.944055870136256, -0.9332885350430795, -0.9216092981453339, -0.9090295709825297, -0.895561644970727, -0.8812186793850184, -0.8660146884971646, -0.8499645278795913, -0.83308\n",
       "38798884008, -0.8153892383391763, -0.7968978923903145, -0.7776279096494955, -0.7575981185197072, -0.7368280898020207, -0.7153381175730564, -0.693149199355802, -0.670283015603141, -0.6467619085\n",
       "141293, -0.6226088602037078, -0.5978474702471787, -0.5725019326213812, -0.5465970120650942, -0.5201580198817631, -0.4932107892081909, -0.465781649773358, -0.4378974021720315, -0.40958529167830\n",
       "15, -0.38087298162463, -0.3517885263724217, -0.3223603439005292, -0.292617188038472, -0.2625881203715035, -0.232302481844974, -0.201789864095736, -0.1710800805386033, -0.140203137236114, -0.10\n",
       "91892035800611, -0.07806858281343664, -0.04687168242159163, -0.01562898442154308, 0.01562898442154308, 0.04687168242159163, 0.07806858281343664, 0.1091892035800611, 0.140203137236114, 0.171080\n",
       "0805386033, 0.201789864095736, 0.232302481844974, 0.2625881203715035, 0.292617188038472, 0.3223603439005292, 0.3517885263724217, 0.38087298162463, 0.4095852916783015, 0.4378974021720315, 0.465\n",
       "781649773358, 0.4932107892081909, 0.5201580198817631, 0.5465970120650942, 0.5725019326213812, 0.5978474702471787, 0.6226088602037078, 0.6467619085141293, 0.670283015603141, 0.693149199355802, \n",
       "0.7153381175730564, 0.7368280898020207, 0.7575981185197072, 0.7776279096494955, 0.7968978923903145, 0.8153892383391763, 0.8330838798884008, 0.8499645278795913, 0.8660146884971646, 0.8812186793\n",
       "850184, 0.895561644970727, 0.9090295709825297, 0.9216092981453339, 0.9332885350430795, 0.944055870136256, 0.9539007829254917, 0.9628136542558155, 0.9707857757637063, 0.9778093584869183, 0.9838\n",
       "77540706057, 0.9889843952429918, 0.9931249370374435, 0.9962951347331251, 0.9984919506395958, 0.9997137267734412]"
      ]
     },
     "execution_count": 220,
     "metadata": {},
     "output_type": "execute_result"
    }
   ],
   "source": [
    "LG(100)"
   ]
  },
  {
   "cell_type": "code",
   "execution_count": 221,
   "id": "15e65500",
   "metadata": {},
   "outputs": [
    {
     "data": {
      "text/plain": [
       "array([0.00056198, 0.00299817, 0.00097032, 0.00468169, 0.00325225,\n",
       "       0.00663655, 0.00660365, 0.00741348, 0.00813128, 0.00945569,\n",
       "       0.01009522, 0.01135372, 0.01213383, 0.01318241, 0.01429941,\n",
       "       0.01456431, 0.01544749, 0.01706104, 0.01657971, 0.01837545,\n",
       "       0.01892446, 0.01970346, 0.02004031, 0.02234199, 0.02063509,\n",
       "       0.02281495, 0.02360464, 0.02321304, 0.02423781, 0.02597413,\n",
       "       0.02489874, 0.02603561, 0.02675398, 0.0276598 , 0.02720699,\n",
       "       0.02840504, 0.02825107, 0.02938711, 0.02905786, 0.02971207,\n",
       "       0.02967858, 0.03005875, 0.0303935 , 0.03066229, 0.0308641 ,\n",
       "       0.03109531, 0.03091311, 0.03116419, 0.0312681 , 0.03124632,\n",
       "       0.03124632, 0.0312681 , 0.03116419, 0.03091311, 0.03109531,\n",
       "       0.0308641 , 0.03066229, 0.0303935 , 0.03005875, 0.02967858,\n",
       "       0.02971207, 0.02905786, 0.02938711, 0.02825107, 0.02840504,\n",
       "       0.02720699, 0.0276598 , 0.02675398, 0.02603561, 0.02489874,\n",
       "       0.02597413, 0.02423781, 0.02321304, 0.02360464, 0.02281495,\n",
       "       0.02063509, 0.02234199, 0.02004031, 0.01970346, 0.01892446,\n",
       "       0.01837545, 0.01657971, 0.01706104, 0.01544749, 0.01456431,\n",
       "       0.01429941, 0.01318241, 0.01213383, 0.01135372, 0.01009522,\n",
       "       0.00945569, 0.00813128, 0.00741348, 0.00660365, 0.00663655,\n",
       "       0.00325225, 0.00468169, 0.00097032, 0.00299817, 0.00056198])"
      ]
     },
     "execution_count": 221,
     "metadata": {},
     "output_type": "execute_result"
    }
   ],
   "source": [
    "weights(100,'LG')"
   ]
  },
  {
   "cell_type": "code",
   "execution_count": 222,
   "id": "a4912de9",
   "metadata": {},
   "outputs": [
    {
     "data": {
      "image/png": "[encoded data removed]",
      "text/latex": [
       "$\\displaystyle 2.0$"
      ],
      "text/plain": [
       "1.9999999999999998"
      ]
     },
     "execution_count": 222,
     "metadata": {},
     "output_type": "execute_result"
    }
   ],
   "source": [
    "np.sum(weights(100,'LG'))"
   ]
  },
  {
   "cell_type": "code",
   "execution_count": 223,
   "id": "d1373c68",
   "metadata": {},
   "outputs": [],
   "source": [
    "zz = np.sqrt(1-leggauss(N)[0]**2)"
   ]
  },
  {
   "cell_type": "code",
   "execution_count": 225,
   "id": "33e87582",
   "metadata": {},
   "outputs": [
    {
     "data": {
      "text/plain": [
       "array([0.00206318, 0.00473054, 0.00740099, 0.01005509, 0.01268345,\n",
       "       0.0152783 , 0.01783235, 0.02033856, 0.0227901 , 0.02518032,\n",
       "       0.02750274, 0.02975108, 0.03191927, 0.03400145, 0.03599201,\n",
       "       0.03788556, 0.03967701, 0.04136152, 0.04293454, 0.04439183,\n",
       "       0.04572947, 0.04694385, 0.04803168, 0.04899004, 0.04981634,\n",
       "       0.05050836, 0.05106423, 0.05148245, 0.05176189, 0.0519018 ,\n",
       "       0.0519018 , 0.05176189, 0.05148245, 0.05106423, 0.05050836,\n",
       "       0.04981634, 0.04899004, 0.04803168, 0.04694385, 0.04572947,\n",
       "       0.04439183, 0.04293454, 0.04136152, 0.03967701, 0.03788556,\n",
       "       0.03599201, 0.03400145, 0.03191927, 0.02975108, 0.02750274,\n",
       "       0.02518032, 0.0227901 , 0.02033856, 0.01783235, 0.0152783 ,\n",
       "       0.01268345, 0.01005509, 0.00740099, 0.00473054, 0.00206318])"
      ]
     },
     "execution_count": 225,
     "metadata": {},
     "output_type": "execute_result"
    }
   ],
   "source": [
    "yy = 2 * zz / np.sum(zz)"
   ]
  },
  {
   "cell_type": "code",
   "execution_count": 309,
   "id": "56329287",
   "metadata": {},
   "outputs": [
    {
     "data": {
      "image/png": "[encoded data removed]",
      "text/plain": [
       "<Figure size 1200x800 with 1 Axes>"
      ]
     },
     "metadata": {},
     "output_type": "display_data"
    }
   ],
   "source": [
    "N = 200\n",
    "plt.figure(figsize=[12,8])\n",
    "zz = np.sqrt(1-leggauss(N)[0]**2)\n",
    "yy = 2. * zz / np.sum(zz)\n",
    "plt.plot(leggauss(N)[0],leggauss(N)[1], '.')\n",
    "plt.plot(leggauss(N)[0],weights(N,'LG'), '.')\n",
    "plt.plot(leggauss(N)[0],yy, '.')\n",
    "plt.grid()"
   ]
  },
  {
   "cell_type": "code",
   "execution_count": 311,
   "id": "4db9f7f4",
   "metadata": {},
   "outputs": [],
   "source": [
    "from chords.pseudospectral import LGL"
   ]
  },
  {
   "cell_type": "code",
   "execution_count": 316,
   "id": "8122b2b3",
   "metadata": {
    "scrolled": true
   },
   "outputs": [
    {
     "name": "stdout",
     "output_type": "stream",
     "text": [
      "The slowest run took 19.32 times longer than the fastest. This could mean that an intermediate result is being cached.\n",
      "568 ns ± 960 ns per loop (mean ± std. dev. of 7 runs, 1 loop each)\n"
     ]
    }
   ],
   "source": [
    "%%timeit\n",
    "LGL(210)"
   ]
  },
  {
   "cell_type": "code",
   "execution_count": 246,
   "id": "cc75541c",
   "metadata": {},
   "outputs": [
    {
     "data": {
      "text/plain": [
       "array([-3.33562683e-06, -1.67717061e-06, -1.09347550e-06, -8.03097308e-07,\n",
       "       -6.29612924e-07, -5.13863810e-07, -4.30722859e-07, -3.67761709e-07,\n",
       "       -3.18144967e-07, -2.77807663e-07, -2.44182946e-07, -2.15571111e-07,\n",
       "       -1.90802450e-07, -1.69045893e-07, -1.49694931e-07, -1.32296694e-07,\n",
       "       -1.16506308e-07, -1.02056591e-07, -8.87374117e-08, -7.63812919e-08,\n",
       "       -6.48531547e-08, -5.40428988e-08, -4.38599177e-08, -3.42290047e-08,\n",
       "       -2.50872459e-08, -1.63816363e-08, -8.06723142e-09, -1.05694048e-10,\n",
       "        7.53585465e-09,  1.48857507e-08,  2.19685281e-08,  2.88055172e-08,\n",
       "        3.54153353e-08,  4.18142881e-08,  4.80167057e-08,  5.40352166e-08,\n",
       "        5.98809830e-08,  6.55638949e-08,  7.10927367e-08,  7.64753245e-08,\n",
       "        8.17186294e-08,  8.68288781e-08,  9.18116415e-08,  9.66719102e-08,\n",
       "        1.01414162e-07,  1.06042419e-07,  1.10560295e-07,  1.14971042e-07,\n",
       "        1.19277588e-07,  1.23482571e-07,  1.27588368e-07,  1.31597120e-07,\n",
       "        1.35510760e-07,  1.39331028e-07,  1.43059494e-07,  1.46697573e-07,\n",
       "        1.50246539e-07,  1.53707537e-07,  1.57081602e-07,  1.60369659e-07,\n",
       "        1.63572541e-07,  1.66690995e-07,  1.69725689e-07,  1.72677221e-07,\n",
       "        1.75546124e-07,  1.78332873e-07,  1.81037889e-07,  1.83661544e-07,\n",
       "        1.86204170e-07,  1.88666056e-07,  1.91047455e-07,  1.93348590e-07,\n",
       "        1.95569653e-07,  1.97710810e-07,  1.99772203e-07,  2.01753953e-07,\n",
       "        2.03656162e-07,  2.05478915e-07,  2.07222281e-07,  2.08886317e-07,\n",
       "        2.10471067e-07,  2.11976566e-07,  2.13402839e-07,  2.14749903e-07,\n",
       "        2.16017770e-07,  2.17206445e-07,  2.18315929e-07,  2.19346219e-07,\n",
       "        2.20297311e-07,  2.21169195e-07,  2.21961862e-07,  2.22675303e-07,\n",
       "        2.23309507e-07,  2.23864463e-07,  2.24340160e-07,  2.24736591e-07,\n",
       "        2.25053746e-07,  2.25291618e-07,  2.25450203e-07,  2.25529496e-07,\n",
       "        2.25529496e-07,  2.25450203e-07,  2.25291618e-07,  2.25053746e-07,\n",
       "        2.24736591e-07,  2.24340160e-07,  2.23864463e-07,  2.23309507e-07,\n",
       "        2.22675303e-07,  2.21961862e-07,  2.21169195e-07,  2.20297311e-07,\n",
       "        2.19346219e-07,  2.18315929e-07,  2.17206445e-07,  2.16017770e-07,\n",
       "        2.14749903e-07,  2.13402839e-07,  2.11976566e-07,  2.10471067e-07,\n",
       "        2.08886317e-07,  2.07222281e-07,  2.05478915e-07,  2.03656162e-07,\n",
       "        2.01753953e-07,  1.99772203e-07,  1.97710810e-07,  1.95569653e-07,\n",
       "        1.93348590e-07,  1.91047455e-07,  1.88666056e-07,  1.86204170e-07,\n",
       "        1.83661544e-07,  1.81037889e-07,  1.78332873e-07,  1.75546124e-07,\n",
       "        1.72677221e-07,  1.69725689e-07,  1.66690995e-07,  1.63572541e-07,\n",
       "        1.60369659e-07,  1.57081602e-07,  1.53707537e-07,  1.50246539e-07,\n",
       "        1.46697573e-07,  1.43059494e-07,  1.39331028e-07,  1.35510760e-07,\n",
       "        1.31597120e-07,  1.27588368e-07,  1.23482571e-07,  1.19277588e-07,\n",
       "        1.14971042e-07,  1.10560295e-07,  1.06042419e-07,  1.01414162e-07,\n",
       "        9.66719102e-08,  9.18116415e-08,  8.68288781e-08,  8.17186294e-08,\n",
       "        7.64753245e-08,  7.10927367e-08,  6.55638949e-08,  5.98809830e-08,\n",
       "        5.40352166e-08,  4.80167057e-08,  4.18142881e-08,  3.54153353e-08,\n",
       "        2.88055172e-08,  2.19685281e-08,  1.48857507e-08,  7.53585465e-09,\n",
       "       -1.05694048e-10, -8.06723142e-09, -1.63816363e-08, -2.50872459e-08,\n",
       "       -3.42290047e-08, -4.38599177e-08, -5.40428988e-08, -6.48531547e-08,\n",
       "       -7.63812919e-08, -8.87374117e-08, -1.02056591e-07, -1.16506308e-07,\n",
       "       -1.32296694e-07, -1.49694931e-07, -1.69045893e-07, -1.90802450e-07,\n",
       "       -2.15571111e-07, -2.44182946e-07, -2.77807663e-07, -3.18144967e-07,\n",
       "       -3.67761709e-07, -4.30722859e-07, -5.13863810e-07, -6.29612924e-07,\n",
       "       -8.03097308e-07, -1.09347550e-06, -1.67717061e-06, -3.33562683e-06])"
      ]
     },
     "execution_count": 246,
     "metadata": {},
     "output_type": "execute_result"
    }
   ],
   "source": [
    "leggauss(N)[1] - yy"
   ]
  },
  {
   "cell_type": "code",
   "execution_count": 300,
   "id": "112b30ee",
   "metadata": {},
   "outputs": [
    {
     "data": {
      "text/plain": [
       "array([-4.72964224e-15,  5.64750070e-15, -2.77100391e-15, -4.99817202e-17,\n",
       "        3.09648140e-16, -3.06612374e-16, -5.38848480e-16,  9.51062146e-16,\n",
       "       -6.03683770e-16,  1.92944619e-15, -7.12103987e-16,  4.24573571e-16,\n",
       "       -1.92120625e-16,  6.28837260e-16, -4.32813507e-16, -1.48752538e-16,\n",
       "        1.05818132e-16,  3.22658567e-16, -2.77555756e-16, -2.53269627e-16,\n",
       "       -3.14852311e-16,  6.11490025e-16, -1.87350135e-16,  5.04804532e-16,\n",
       "       -4.77048956e-16,  3.98986399e-16, -2.38524478e-16, -1.82145965e-17,\n",
       "       -1.62196645e-16,  9.97465999e-17, -1.11022302e-16,  3.94649591e-16,\n",
       "       -1.92554306e-16, -9.19403442e-17, -1.37043155e-16,  1.99493200e-16,\n",
       "       -3.46944695e-17, -8.67361738e-18, -2.55004351e-16,  4.33680869e-17,\n",
       "       -3.17454396e-16,  9.54097912e-17, -1.73472348e-17,  2.63677968e-16,\n",
       "       -4.64905892e-16,  4.33680869e-17,  2.77555756e-17,  0.00000000e+00,\n",
       "       -1.38777878e-17,  2.65412692e-16, -2.08166817e-17, -1.14491749e-16,\n",
       "       -2.22044605e-16,  1.94289029e-16, -5.55111512e-17,  1.05818132e-16,\n",
       "       -2.60208521e-17,  1.47451495e-16, -1.73472348e-17, -4.51028104e-17,\n",
       "       -1.33573708e-16, -5.20417043e-17,  1.42247325e-16,  2.18575158e-16,\n",
       "       -8.84708973e-17,  1.37043155e-16, -1.83880688e-16,  2.89698820e-16,\n",
       "       -1.38777878e-16, -1.52655666e-16,  7.97972799e-17,  2.98372438e-16,\n",
       "       -1.68268177e-16, -1.19695920e-16,  1.21430643e-17,  2.37657116e-16,\n",
       "       -9.36750677e-17, -8.84708973e-17,  2.25514052e-17,  8.50014503e-17,\n",
       "       -8.84708973e-17,  1.59594560e-16, -4.33680869e-17,  3.36536354e-16,\n",
       "       -1.66533454e-16,  4.51028104e-17,  4.51028104e-17,  1.85615412e-16,\n",
       "       -9.19403442e-17, -1.40512602e-16,  1.12757026e-16,  1.57859836e-16,\n",
       "       -1.14491749e-16,  3.12250226e-17, -1.38777878e-17,  1.17961196e-16,\n",
       "       -6.24500451e-17,  1.56125113e-16, -9.02056208e-17,  2.77555756e-17,\n",
       "        5.89805982e-17, -1.14491749e-16,  1.90819582e-16, -1.04083409e-16,\n",
       "        1.38777878e-16, -6.59194921e-17,  5.55111512e-17, -1.31838984e-16,\n",
       "        1.66533454e-16,  8.32667268e-17, -9.02056208e-17, -1.26634814e-16,\n",
       "        2.34187669e-16, -2.94902991e-17,  1.02348685e-16, -2.41126563e-16,\n",
       "        4.44089210e-16,  1.24900090e-16, -1.24900090e-16, -3.46944695e-18,\n",
       "        4.68375339e-17,  5.03069808e-17, -9.36750677e-17, -9.02056208e-17,\n",
       "        2.41126563e-16,  1.73472348e-18, -1.02348685e-16, -1.82145965e-16,\n",
       "        3.29597460e-16,  4.16333634e-17, -1.35308431e-16, -2.08166817e-16,\n",
       "        4.21537805e-16, -3.46944695e-17, -2.81025203e-16, -1.73472348e-17,\n",
       "        4.09394740e-16,  9.71445147e-17, -1.56125113e-17, -1.19695920e-16,\n",
       "       -1.70002901e-16, -1.33573708e-16,  5.30825384e-16, -3.46944695e-16,\n",
       "        5.63785130e-16, -3.48679419e-16,  4.16333634e-16, -3.46944695e-16,\n",
       "       -3.46944695e-17, -1.73472348e-17,  5.20417043e-17,  5.20417043e-17,\n",
       "        1.33573708e-16,  2.08166817e-17, -2.06432094e-16, -2.75821033e-16,\n",
       "        1.14491749e-16,  1.33573708e-16, -5.72458747e-17, -1.31838984e-16,\n",
       "       -3.48679419e-16,  1.90819582e-17, -2.25514052e-17,  5.03069808e-17,\n",
       "       -1.07552856e-16,  6.41847686e-17, -3.64291930e-17, -2.46330734e-16,\n",
       "        4.14598911e-16, -1.58727198e-16,  1.53523028e-16, -2.35922393e-16,\n",
       "        3.07913417e-16, -5.39499001e-16,  6.78276879e-16, -7.12103987e-16,\n",
       "        4.79651041e-16, -1.61329283e-16,  5.89805982e-16, -3.11382864e-16,\n",
       "       -2.60208521e-18, -5.58580959e-16,  6.06285855e-16, -1.69135539e-16,\n",
       "       -1.18828558e-16, -4.41487125e-16,  8.81673207e-16, -4.87023616e-16,\n",
       "        2.18575158e-16, -4.07226336e-16,  2.10031645e-15, -8.77770079e-16,\n",
       "        1.00505541e-15, -5.67254577e-16, -2.91867225e-16,  3.00757683e-16,\n",
       "       -4.66206934e-17, -2.77382284e-15,  5.64804280e-15, -4.73015724e-15])"
      ]
     },
     "execution_count": 300,
     "metadata": {},
     "output_type": "execute_result"
    }
   ],
   "source": [
    "leggauss(N)[1] - weights(N,'LG')"
   ]
  },
  {
   "cell_type": "code",
   "execution_count": 200,
   "id": "32a97a79",
   "metadata": {},
   "outputs": [],
   "source": [
    "_  = Lag_pol_2d(10, 'LG')"
   ]
  },
  {
   "cell_type": "code",
   "execution_count": 201,
   "id": "e454106a",
   "metadata": {},
   "outputs": [
    {
     "data": {
      "text/plain": [
       "array([0.00221354, 0.0039933 , 0.00753781, 0.01018435, 0.01292241,\n",
       "       0.01475132, 0.01835574, 0.02059593, 0.02220786, 0.02533289,\n",
       "       0.02851129, 0.02848849, 0.03219135, 0.03401899, 0.03629348,\n",
       "       0.03799003, 0.03985283, 0.04049843, 0.04347104, 0.04416928,\n",
       "       0.04587848, 0.04668677, 0.04826462, 0.04907532, 0.04977269,\n",
       "       0.05064002, 0.05097126, 0.05153225, 0.05169599, 0.05190222,\n",
       "       0.05190222, 0.05169599, 0.05153225, 0.05097126, 0.05064002,\n",
       "       0.04977269, 0.04907532, 0.04826462, 0.04668677, 0.04587848,\n",
       "       0.04416928, 0.04347104, 0.04049843, 0.03985283, 0.03799003,\n",
       "       0.03629348, 0.03401899, 0.03219135, 0.02848849, 0.02851129,\n",
       "       0.02533289, 0.02220786, 0.02059593, 0.01835574, 0.01475132,\n",
       "       0.01292241, 0.01018435, 0.00753781, 0.0039933 , 0.00221354])"
      ]
     },
     "execution_count": 201,
     "metadata": {},
     "output_type": "execute_result"
    }
   ],
   "source": [
    "gauss_integral_2d(Lag_pol_2d(N, 'LG'), N, -1,1)"
   ]
  },
  {
   "cell_type": "code",
   "execution_count": 161,
   "id": "85006f77",
   "metadata": {},
   "outputs": [
    {
     "data": {
      "text/plain": [
       "array([[ 1.59688919, -1.02967811,  0.76454807, -0.58775971,  0.44944372,\n",
       "        -0.33292835,  0.23222114, -0.14579754,  0.07439559, -0.021334  ],\n",
       "       [-0.01506327,  0.05976041, -0.16196533,  0.76061019,  0.47514683,\n",
       "        -0.18168794,  0.09943461, -0.05537632,  0.02652051, -0.00737969],\n",
       "       [-0.00737969,  0.02652051, -0.05537632,  0.09943461, -0.18168794,\n",
       "         0.47514683,  0.76061019, -0.16196533,  0.05976041, -0.01506327],\n",
       "       [-0.021334  ,  0.07439559, -0.14579754,  0.23222114, -0.33292835,\n",
       "         0.44944372, -0.58775971,  0.76454807, -1.02967811,  1.59688919]])"
      ]
     },
     "execution_count": 161,
     "metadata": {},
     "output_type": "execute_result"
    }
   ],
   "source": [
    "_(np.linspace(-1,1,4))"
   ]
  },
  {
   "cell_type": "code",
   "execution_count": 165,
   "id": "9ab8e955",
   "metadata": {},
   "outputs": [
    {
     "data": {
      "text/plain": [
       "array([[-0.97390653],\n",
       "       [-0.86506337],\n",
       "       [-0.67940957],\n",
       "       [-0.43339539],\n",
       "       [-0.14887434],\n",
       "       [ 0.14887434],\n",
       "       [ 0.43339539],\n",
       "       [ 0.67940957],\n",
       "       [ 0.86506337],\n",
       "       [ 0.97390653]])"
      ]
     },
     "execution_count": 165,
     "metadata": {},
     "output_type": "execute_result"
    }
   ],
   "source": [
    "np.expand_dims(leggauss(10)[0], 1)"
   ]
  },
  {
   "cell_type": "code",
   "execution_count": 151,
   "id": "aa526986",
   "metadata": {
    "scrolled": true
   },
   "outputs": [
    {
     "data": {
      "image/png": "[encoded data removed]",
      "text/latex": [
       "$\\displaystyle 2.0$"
      ],
      "text/plain": [
       "1.9999999999999984"
      ]
     },
     "execution_count": 151,
     "metadata": {},
     "output_type": "execute_result"
    }
   ],
   "source": [
    "np.sum(weights(N,'LG'))"
   ]
  },
  {
   "cell_type": "code",
   "execution_count": 127,
   "id": "dd713909",
   "metadata": {},
   "outputs": [],
   "source": [
    "from scipy.special import roots_legendre"
   ]
  },
  {
   "cell_type": "code",
   "execution_count": 128,
   "id": "5b4df524",
   "metadata": {},
   "outputs": [
    {
     "data": {
      "text/plain": [
       "(array([-0.97390653, -0.86506337, -0.67940957, -0.43339539, -0.14887434,\n",
       "         0.14887434,  0.43339539,  0.67940957,  0.86506337,  0.97390653]),\n",
       " array([0.06667134, 0.14945135, 0.21908636, 0.26926672, 0.29552422,\n",
       "        0.29552422, 0.26926672, 0.21908636, 0.14945135, 0.06667134]))"
      ]
     },
     "execution_count": 128,
     "metadata": {},
     "output_type": "execute_result"
    }
   ],
   "source": [
    "roots_legendre(10)"
   ]
  },
  {
   "cell_type": "code",
   "execution_count": 129,
   "id": "5c12f5be",
   "metadata": {},
   "outputs": [
    {
     "name": "stdout",
     "output_type": "stream",
     "text": [
      "67.5 µs ± 891 ns per loop (mean ± std. dev. of 7 runs, 10000 loops each)\n"
     ]
    }
   ],
   "source": [
    "%%timeit\n",
    "roots_legendre(10)"
   ]
  },
  {
   "cell_type": "code",
   "execution_count": 368,
   "id": "a125d174",
   "metadata": {},
   "outputs": [],
   "source": [
    "from chords.util import gauss_integral, gauss_integral_2d, leggauss, combinefunctions\n",
    "from chords.pseudospectral import bary_poly_2d"
   ]
  },
  {
   "cell_type": "code",
   "execution_count": 369,
   "id": "68cbfa05",
   "metadata": {},
   "outputs": [],
   "source": [
    "def poly_integral_2d(f, n_pol, t0, t1, y0=0):\n",
    "    y_example = f(t0)\n",
    "    if len(y_example.shape) >= 2:\n",
    "        raise NotImplementedError(\n",
    "            f\"The output of f has shape {y_example.shape} but implemented \"\n",
    "            + \"methods only allow for shape [n,]\"\n",
    "        )\n",
    "    if len(y_example) == 1:\n",
    "        return poly_integral(f, n_pol, t0, t1, y0)\n",
    "    dim = y_example.shape[0]\n",
    "\n",
    "    y0 = np.array(y0)\n",
    "    if y0.shape != y_example.shape:\n",
    "        if y0.shape == () or len(y0) == 1:\n",
    "            y0 = y0 * np.ones(dim)\n",
    "        else:\n",
    "            raise ValueError(\n",
    "                f\"y0 has unexpected shape {y0.shape}, expected was {y_example.shape}\"\n",
    "            )\n",
    "\n",
    "    pols = []\n",
    "    for ii in range(dim):\n",
    "        _part_pol = lambda t: f(t)[ii]\n",
    "        pols.append(poly_integral(_part_pol, n_pol, t0, t1, y0[ii]))\n",
    "\n",
    "    return combinefunctions(*pols)"
   ]
  },
  {
   "cell_type": "code",
   "execution_count": 378,
   "id": "0b277977",
   "metadata": {},
   "outputs": [],
   "source": [
    "def poly_integral_2d_b(f, n_pol, t0, t1, y0=0):\n",
    "    y_example = f(t0)\n",
    "    if len(y_example.shape) >= 2:\n",
    "        raise NotImplementedError(\n",
    "            f\"The output of f has shape {y_example.shape} but implemented \"\n",
    "            + \"methods only allow for shape (n,)\"\n",
    "        )\n",
    "    if len(y_example) == 1:\n",
    "        return poly_integral(f, n_pol, t0, t1, y0)\n",
    "    dim = y_example.shape[0]\n",
    "\n",
    "    y0 = np.array(y0)\n",
    "    if y0.shape != y_example.shape:\n",
    "        if y0.shape == () or len(y0) == 1:\n",
    "            y0 = y0 * np.ones(dim)\n",
    "        else:\n",
    "            raise ValueError(\n",
    "                f\"y0 has unexpected shape {y0.shape}, expected was {y_example.shape}\"\n",
    "            )\n",
    "    scale = t1 - t0\n",
    "    nq = y_example.shape[0]\n",
    "\n",
    "    points = (np.array(leggauss(n_pol + 1)[0], dtype = 'float64') + 1) / 2\n",
    "    points = t0 + scale * points\n",
    "    \n",
    "    mat = np.zeros([n_pol+2, nq], dtype = 'float64')\n",
    "\n",
    "    N_gauss = ceil((n_pol + 1) / 2)\n",
    "    \n",
    "    for ii in range(n_pol+1):\n",
    "        mat[ii+1,:] = gauss_integral_2d(f, N_gauss, t0, points[ii])\n",
    "    mat = np.expand_dims(y0, 0) + mat\n",
    "    points = np.concatenate((np.expand_dims(t0,0), points))\n",
    "    \n",
    "\n",
    "    return bary_poly_2d(points, mat)"
   ]
  },
  {
   "cell_type": "code",
   "execution_count": null,
   "id": "176e8364",
   "metadata": {},
   "outputs": [],
   "source": []
  },
  {
   "cell_type": "code",
   "execution_count": 379,
   "id": "00a5a3ef",
   "metadata": {},
   "outputs": [],
   "source": [
    "LL = Lag_pol_2d(5, 'LG')"
   ]
  },
  {
   "cell_type": "code",
   "execution_count": null,
   "id": "fe0db599",
   "metadata": {},
   "outputs": [],
   "source": []
  },
  {
   "cell_type": "code",
   "execution_count": 380,
   "id": "f40b463b",
   "metadata": {},
   "outputs": [
    {
     "data": {
      "text/plain": [
       "array([[ 0.11846344, -0.03914073,  0.0225088 , -0.01118759,  0.00317623],\n",
       "       [ 0.25630201,  0.23931434, -0.04918423,  0.02063656, -0.00553799],\n",
       "       [ 0.22755258,  0.5200093 ,  0.28444444, -0.04138063,  0.00937431],\n",
       "       [ 0.24246487,  0.45799211,  0.61807312,  0.23931434, -0.01937513],\n",
       "       [ 0.23375066,  0.48981626,  0.54638009,  0.5177694 ,  0.11846344]])"
      ]
     },
     "execution_count": 380,
     "metadata": {},
     "output_type": "execute_result"
    }
   ],
   "source": [
    "poly_integral_2d(LL, 4, -1, 1)(leggauss(5)[0])"
   ]
  },
  {
   "cell_type": "code",
   "execution_count": 381,
   "id": "75506d27",
   "metadata": {},
   "outputs": [
    {
     "data": {
      "text/plain": [
       "array([[ 0.11846344, -0.03914073,  0.0225088 , -0.01118759,  0.00317623],\n",
       "       [ 0.25630201,  0.23931434, -0.04918423,  0.02063656, -0.00553799],\n",
       "       [ 0.22755258,  0.5200093 ,  0.28444444, -0.04138063,  0.00937431],\n",
       "       [ 0.24246487,  0.45799211,  0.61807312,  0.23931434, -0.01937513],\n",
       "       [ 0.23375066,  0.48981626,  0.54638009,  0.5177694 ,  0.11846344]])"
      ]
     },
     "execution_count": 381,
     "metadata": {},
     "output_type": "execute_result"
    }
   ],
   "source": [
    "poly_integral_2d_b(LL, 4, -1, 1)(leggauss(5)[0])"
   ]
  },
  {
   "cell_type": "code",
   "execution_count": 392,
   "id": "1a3822bb",
   "metadata": {},
   "outputs": [],
   "source": [
    "N = 50"
   ]
  },
  {
   "cell_type": "code",
   "execution_count": 389,
   "id": "9730c187",
   "metadata": {},
   "outputs": [
    {
     "data": {
      "text/plain": [
       "array([[0., 0., 0., ..., 0., 0., 0.],\n",
       "       [0., 0., 0., ..., 0., 0., 0.],\n",
       "       [0., 0., 0., ..., 0., 0., 0.],\n",
       "       ...,\n",
       "       [0., 0., 0., ..., 0., 0., 0.],\n",
       "       [0., 0., 0., ..., 0., 0., 0.],\n",
       "       [0., 0., 0., ..., 0., 0., 0.]])"
      ]
     },
     "execution_count": 389,
     "metadata": {},
     "output_type": "execute_result"
    }
   ],
   "source": [
    "LL = Lag_pol_2d(N, 'LG')\n",
    "poly_integral_2d(LL, N-1, -1, 1)(leggauss(N)[0])- poly_integral_2d_b(LL, N-1, -1, 1)(leggauss(N)[0])"
   ]
  },
  {
   "cell_type": "code",
   "execution_count": 393,
   "id": "14b52502",
   "metadata": {},
   "outputs": [
    {
     "name": "stdout",
     "output_type": "stream",
     "text": [
      "1.38 s ± 3.78 ms per loop (mean ± std. dev. of 7 runs, 1 loop each)\n"
     ]
    }
   ],
   "source": [
    "%%timeit\n",
    "poly_integral_2d(LL, N-1, -1, 1)(leggauss(N)[0])"
   ]
  },
  {
   "cell_type": "code",
   "execution_count": 394,
   "id": "3472fccb",
   "metadata": {},
   "outputs": [
    {
     "name": "stdout",
     "output_type": "stream",
     "text": [
      "56.6 ms ± 156 µs per loop (mean ± std. dev. of 7 runs, 10 loops each)\n"
     ]
    }
   ],
   "source": [
    "%%timeit\n",
    "poly_integral_2d_b(LL, N-1, -1, 1)(leggauss(N)[0])"
   ]
  },
  {
   "cell_type": "code",
   "execution_count": 305,
   "id": "910d3777",
   "metadata": {},
   "outputs": [
    {
     "data": {
      "text/plain": [
       "SX([u_0, u_1, u_2, u_3, u_4])"
      ]
     },
     "execution_count": 305,
     "metadata": {},
     "output_type": "execute_result"
    }
   ],
   "source": []
  },
  {
   "cell_type": "code",
   "execution_count": 307,
   "id": "616cc586",
   "metadata": {},
   "outputs": [
    {
     "data": {
      "text/plain": [
       "SX(@1=0.236927, (((((@1*u_0)+(0.478629*u_1))+(0.568889*u_2))+(0.478629*u_3))+(@1*u_4)))"
      ]
     },
     "execution_count": 307,
     "metadata": {},
     "output_type": "execute_result"
    }
   ],
   "source": [
    "cas.sum1(weights(5, 'LG')*cas.SX.sym(\"u\", 5))"
   ]
  },
  {
   "cell_type": "code",
   "execution_count": 77,
   "id": "2cad641c",
   "metadata": {},
   "outputs": [],
   "source": [
    "from chords.bu_pseudospectral import _matrix_D_bary"
   ]
  },
  {
   "cell_type": "code",
   "execution_count": 97,
   "id": "c07be4b3",
   "metadata": {},
   "outputs": [
    {
     "data": {
      "text/plain": [
       "array([[-0.96824584,  1.29099445, -0.32274861],\n",
       "       [-0.32274861, -0.        ,  0.32274861],\n",
       "       [ 0.32274861, -1.29099445,  0.96824584]])"
      ]
     },
     "execution_count": 97,
     "metadata": {},
     "output_type": "execute_result"
    }
   ],
   "source": [
    "_D_mat = _matrix_D_bary(coll_points_t)\n",
    "_D_mat"
   ]
  },
  {
   "cell_type": "code",
   "execution_count": 82,
   "id": "5d575481",
   "metadata": {},
   "outputs": [
    {
     "data": {
      "text/plain": [
       "array([[-6.45497224e-01, -5.16397779e-01, -3.87298335e-01],\n",
       "       [ 2.58198890e-01,  1.21618839e-16, -2.58198890e-01],\n",
       "       [ 3.87298335e-01,  5.16397779e-01,  6.45497224e-01]])"
      ]
     },
     "execution_count": 82,
     "metadata": {},
     "output_type": "execute_result"
    }
   ],
   "source": [
    "np.linalg.pinv(_D_mat)"
   ]
  },
  {
   "cell_type": "code",
   "execution_count": 104,
   "id": "e2525dee",
   "metadata": {},
   "outputs": [
    {
     "data": {
      "text/plain": [
       "array([-11.525587872967633997, -1.3008162759359205008,\n",
       "       8.9239553210957927719], dtype=object)"
      ]
     },
     "execution_count": 104,
     "metadata": {},
     "output_type": "execute_result"
    }
   ],
   "source": [
    "_D_mat @ y_coll_points"
   ]
  },
  {
   "cell_type": "code",
   "execution_count": 103,
   "id": "7678db98",
   "metadata": {},
   "outputs": [
    {
     "data": {
      "text/plain": [
       "array([-2.404599847902053, 0.04685683416967677, -0.6236455460048005],\n",
       "      dtype=object)"
      ]
     },
     "execution_count": 103,
     "metadata": {},
     "output_type": "execute_result"
    }
   ],
   "source": [
    "v_points[1:-1]"
   ]
  },
  {
   "cell_type": "code",
   "execution_count": null,
   "id": "d2c36be3",
   "metadata": {},
   "outputs": [],
   "source": []
  },
  {
   "cell_type": "code",
   "execution_count": null,
   "id": "68af7e43",
   "metadata": {},
   "outputs": [],
   "source": []
  },
  {
   "cell_type": "code",
   "execution_count": null,
   "id": "153ba36f",
   "metadata": {},
   "outputs": [],
   "source": [
    "def ffff(*args, b):\n",
    "    print(f'args: {args}, b: {b}')"
   ]
  },
  {
   "cell_type": "code",
   "execution_count": null,
   "id": "195e142b",
   "metadata": {},
   "outputs": [],
   "source": [
    "ffff(1,2,3)"
   ]
  },
  {
   "cell_type": "code",
   "execution_count": null,
   "id": "661dc609",
   "metadata": {},
   "outputs": [],
   "source": [
    "from scipy.interpolate import CubicHermiteSpline as hermite"
   ]
  },
  {
   "cell_type": "code",
   "execution_count": null,
   "id": "cc322765",
   "metadata": {},
   "outputs": [],
   "source": [
    "hhh = hermite(t_points, q_d_points, q_dd_mat_points)"
   ]
  },
  {
   "cell_type": "code",
   "execution_count": null,
   "id": "f34f7e3c",
   "metadata": {},
   "outputs": [],
   "source": [
    "t_arr = np.linspace(t0, tf,100)\n",
    "plt.plot(t_arr, q_d_f(t_arr))\n",
    "plt.plot(t_points, q_d_points, 'ok')\n",
    "plt.plot(t_arr, hhh(t_arr), '--')"
   ]
  },
  {
   "cell_type": "code",
   "execution_count": null,
   "id": "e2e38e86",
   "metadata": {},
   "outputs": [],
   "source": [
    "hhh_d = hhh.derivative()"
   ]
  },
  {
   "cell_type": "code",
   "execution_count": null,
   "id": "a3a9801a",
   "metadata": {},
   "outputs": [],
   "source": [
    "t_arr = np.linspace(t0, tf,100)\n",
    "plt.plot(t_arr, q_dd_f(t_arr))\n",
    "plt.plot(t_points, q_dd_mat_points, 'ok')\n",
    "plt.plot(t_arr, hhh_d(t_arr), '--')"
   ]
  },
  {
   "cell_type": "code",
   "execution_count": null,
   "id": "0fc77285",
   "metadata": {},
   "outputs": [],
   "source": [
    "hhh_dd = hhh_d.derivative()\n",
    "q_ddd_mat_points = _matrix_D_bary(t_points) @ q_dd_mat_points"
   ]
  },
  {
   "cell_type": "code",
   "execution_count": null,
   "id": "f59b0a33",
   "metadata": {},
   "outputs": [],
   "source": [
    "t_arr = np.linspace(t0, tf,100)\n",
    "plt.plot(t_arr, q_ddd_f(t_arr))\n",
    "plt.plot(t_points, q_ddd_mat_points, 'ok')\n",
    "plt.plot(t_arr, hhh_dd(t_arr), '--')"
   ]
  },
  {
   "cell_type": "code",
   "execution_count": null,
   "id": "dcc28e7d",
   "metadata": {},
   "outputs": [],
   "source": [
    "hhh_ddd = hhh_dd.derivative()\n",
    "q_dddd_mat_points = _matrix_D_bary(t_points) @ q_ddd_mat_points"
   ]
  },
  {
   "cell_type": "code",
   "execution_count": null,
   "id": "995bf900",
   "metadata": {},
   "outputs": [],
   "source": [
    "q_dddd_f(t_arr)"
   ]
  },
  {
   "cell_type": "code",
   "execution_count": null,
   "id": "73512eea",
   "metadata": {},
   "outputs": [],
   "source": [
    "t_arr = np.linspace(t0, tf,100)\n",
    "plt.plot(t_arr, q_dddd_f(t_arr))\n",
    "plt.plot(t_points, q_dddd_mat_points, 'ok')\n",
    "plt.plot(t_arr, hhh_ddd(t_arr), '--')"
   ]
  },
  {
   "cell_type": "code",
   "execution_count": null,
   "id": "46615b29",
   "metadata": {},
   "outputs": [],
   "source": [
    "indices = 'abcd'"
   ]
  },
  {
   "cell_type": "code",
   "execution_count": null,
   "id": "19ebf801",
   "metadata": {},
   "outputs": [],
   "source": [
    "for ii,jj in enumerate(indices):\n",
    "    print(f'ii: {ii}, jj: {jj}')"
   ]
  },
  {
   "cell_type": "code",
   "execution_count": null,
   "id": "33c9eeef",
   "metadata": {},
   "outputs": [],
   "source": [
    "import casadi as cas"
   ]
  },
  {
   "cell_type": "code",
   "execution_count": null,
   "id": "a4f9d1cb",
   "metadata": {},
   "outputs": [],
   "source": [
    "cas.vertcat()"
   ]
  },
  {
   "cell_type": "code",
   "execution_count": null,
   "id": "7afe8109",
   "metadata": {},
   "outputs": [],
   "source": [
    "ab5 = abcpol(5)\n",
    "ab5"
   ]
  },
  {
   "cell_type": "code",
   "execution_count": null,
   "id": "fe1254af",
   "metadata": {},
   "outputs": [],
   "source": [
    "ab5_d = ab5.diff(x)\n",
    "ab5_d"
   ]
  },
  {
   "cell_type": "code",
   "execution_count": null,
   "id": "e2e74d06",
   "metadata": {},
   "outputs": [],
   "source": [
    "ab5_dd = ab5_d.diff(x)\n",
    "ab5_dd"
   ]
  },
  {
   "cell_type": "code",
   "execution_count": null,
   "id": "ba5ec1b1",
   "metadata": {},
   "outputs": [],
   "source": [
    "t0 = -1\n",
    "t1 = 3"
   ]
  },
  {
   "cell_type": "code",
   "execution_count": null,
   "id": "59ee5539",
   "metadata": {},
   "outputs": [],
   "source": [
    "gauss_integral(lambdify(x,ab5_d), 3, t0, t1)"
   ]
  },
  {
   "cell_type": "code",
   "execution_count": null,
   "id": "432db772",
   "metadata": {},
   "outputs": [],
   "source": [
    "_F = lambdify(x,ab5)\n",
    "_F(t1)-_F(t0)"
   ]
  },
  {
   "cell_type": "code",
   "execution_count": null,
   "id": "1477b9a8",
   "metadata": {},
   "outputs": [],
   "source": [
    "_ = gauss_rep_integral(lambdify(x,ab5_d), t0, t1, 4)\n",
    "_[1]"
   ]
  },
  {
   "cell_type": "markdown",
   "id": "357b3e49",
   "metadata": {},
   "source": [
    "---- 2o orden ----\n"
   ]
  },
  {
   "cell_type": "code",
   "execution_count": null,
   "id": "9c246a97",
   "metadata": {},
   "outputs": [],
   "source": [
    "integrate(integrate(ab5_dd, (x, t0, x)),(x, t0, t1))"
   ]
  },
  {
   "cell_type": "code",
   "execution_count": null,
   "id": "1c1ada73",
   "metadata": {},
   "outputs": [],
   "source": [
    "_FFF, _res = gauss_rep_integral(lambdify(x,ab5_dd), t0, t1, 4, 2)  \n",
    "_res"
   ]
  },
  {
   "cell_type": "code",
   "execution_count": null,
   "id": "6f3bab87",
   "metadata": {},
   "outputs": [],
   "source": [
    "_FFFX = _FFF(x)\n",
    "_FFFX"
   ]
  },
  {
   "cell_type": "code",
   "execution_count": null,
   "id": "627a5a79",
   "metadata": {},
   "outputs": [],
   "source": [
    "___ = lambdify(x, expand(integrate(expand(_FFFX),x)))\n",
    "___(t1)- ___(t0)"
   ]
  },
  {
   "cell_type": "code",
   "execution_count": null,
   "id": "6c92b005",
   "metadata": {},
   "outputs": [],
   "source": [
    "gauss_integral(_FFF, 3, t0, t1)"
   ]
  },
  {
   "cell_type": "code",
   "execution_count": null,
   "id": "4bd24627",
   "metadata": {},
   "outputs": [],
   "source": [
    "_res + lambdify(x,ab5_d)(t0)*(t1-t0)"
   ]
  },
  {
   "cell_type": "code",
   "execution_count": null,
   "id": "58588513",
   "metadata": {},
   "outputs": [],
   "source": [
    "_F(t1)-_F(t0)"
   ]
  },
  {
   "cell_type": "code",
   "execution_count": null,
   "id": "3d658bcd",
   "metadata": {},
   "outputs": [],
   "source": [
    "integrate(integrate(ab5_dd,x),x)"
   ]
  },
  {
   "cell_type": "code",
   "execution_count": null,
   "id": "abaf5b28",
   "metadata": {},
   "outputs": [],
   "source": [
    "_FF = lambdify(x, integrate(integrate(ab5_dd,x),x))\n",
    "_FF(t1)-_FF(t0)"
   ]
  },
  {
   "cell_type": "code",
   "execution_count": null,
   "id": "4c08ef9e",
   "metadata": {},
   "outputs": [],
   "source": []
  },
  {
   "cell_type": "code",
   "execution_count": null,
   "id": "5f6202c3",
   "metadata": {},
   "outputs": [],
   "source": []
  },
  {
   "cell_type": "code",
   "execution_count": null,
   "id": "9a8bc279",
   "metadata": {},
   "outputs": [],
   "source": []
  },
  {
   "cell_type": "code",
   "execution_count": null,
   "id": "3b2e5be0",
   "metadata": {},
   "outputs": [],
   "source": [
    "q_0, q_1, q_c,v_0, v_1, v_c, a_0, a_1, a_c, g_0, g_1, g_c = symbols(\n",
    "    'q_k q_{k+1} q_c v_k v_{k+1} v_c a_k a_{k+1} a_c g_k g_{k+1} g_c '\n",
    ")\n",
    "q_0, q_1, q_c,v_0, v_1, v_c, a_0, a_1, a_c, g_0, g_1, g_c"
   ]
  },
  {
   "cell_type": "code",
   "execution_count": null,
   "id": "1ecf5114",
   "metadata": {},
   "outputs": [],
   "source": [
    "from chords.piecewise import fac, is2d, vec_len, generate_hs_m_funcs, get_x_divisions\n",
    "from copy import copy\n",
    "from numpy import (\n",
    "    zeros,\n",
    "    append,\n",
    "    concatenate,\n",
    "    linspace,\n",
    "    expand_dims,\n",
    "    interp,\n",
    "    array,\n",
    "    sum,\n",
    "    abs,\n",
    ")\n",
    "\n"
   ]
  },
  {
   "cell_type": "markdown",
   "id": "193b7f9b",
   "metadata": {},
   "source": [
    "def get_x_divisions(x, order=2):\n",
    "    dim = vec_len(x) // order\n",
    "    x_list = []\n",
    "    if is2d(x):\n",
    "        for ii in range(order):\n",
    "            index = (slice(None, None), slice(dim * ii, dim * (ii + 1)))\n",
    "            print(index)\n",
    "            x_list.append(x[index])\n",
    "    else:\n",
    "        for ii in range(order):\n",
    "            index = slice(dim * ii, dim * (ii + 1))\n",
    "            x_list.append(x[index])\n",
    "    return x_list\n",
    "\n",
    "def generate_hs_m_funcs(order):\n",
    "    M = order  # in order to keep the paper naming\n",
    "    q_coefs = zeros(order)\n",
    "    for i in range(order):\n",
    "        q_coefs[i] = 1 / fac(i)\n",
    "    q_coefs_c = zeros(order - 1)\n",
    "    for i in range(order - 1):\n",
    "        q_coefs_c[i] = 1 / (2**i * fac(i))\n",
    "    g_coefs = zeros(order + 1)\n",
    "    g_coefs_c = zeros([order + 1, 5])\n",
    "    for l in range(1, order + 1):\n",
    "        g_coefs[l] = fac(l + 2)\n",
    "        g_coefs_c[l, 0] = 2**l * fac(l) * (l + 2)\n",
    "        g_coefs_c[l, 1] = 2 * l**2 + 4 * l - 3\n",
    "        g_coefs_c[l, 2] = 2 ** (l + 1) * fac(l + 2)\n",
    "        g_coefs_c[l, 3] = 2 * l**2 + 2 * l - 1\n",
    "        g_coefs_c[l, 4] = -2 * l - 1\n",
    "\n",
    "    def hs_m_half_x(x, x_n, a, a_n, dt):\n",
    "        x_c = copy(x)\n",
    "        x_list = get_x_divisions(x, order)\n",
    "        x_n_list = get_x_divisions(x_n, order)\n",
    "        x_c_list = get_x_divisions(x_c, order)\n",
    "        v = x_list[-1]  # V represents here the highest q derivative contained in x\n",
    "        v_n = x_n_list[-1]\n",
    "        for l in range(1, M + 1):\n",
    "            print( x_c_list[M - l])\n",
    "            print(\n",
    "                dt ** (l - 1) / g_coefs_c[l, 0] * (3 * v_n + g_coefs_c[l, 1] * v)\n",
    "            )\n",
    "            x_c_list[M - l][:,:] = (\n",
    "                dt ** (l - 1) / g_coefs_c[l, 0] * (3 * v_n + g_coefs_c[l, 1] * v)\n",
    "            )\n",
    "            x_c_list[M - l][:,:] = x_c_list[M - l] + dt**l / g_coefs_c[l, 2] * (\n",
    "                g_coefs_c[l, 3] * a + g_coefs_c[l, 4] * a_n\n",
    "            )\n",
    "            for i in range(l - 1):\n",
    "                x_c_list[M - l][:,:] = (\n",
    "                    x_c_list[M - l] + dt**i * q_coefs_c[i] * x_list[i + M - l]\n",
    "                )\n",
    "        return x_c, x_c_list\n",
    "\n",
    "    def hs_m_accel_restr(x, x_n, a, a_n, dt, scheme_params):\n",
    "        a_c = scheme_params.T\n",
    "        res = copy(x)\n",
    "        x_list = get_x_divisions(x, order)\n",
    "        res_list = get_x_divisions(res, order)\n",
    "        for l in range(1, M + 1):\n",
    "            res_list[M - l][:,:] = (\n",
    "                dt**l / g_coefs[l] * (l**2 * a + 4 * l * a_c + (2 - l) * a_n)\n",
    "            )\n",
    "            print(f'res:{res} res_list:{res_list}')\n",
    "            for i in range(l):\n",
    "                res_list[M - l][:,:] = (\n",
    "                    res_list[M - l] + dt**i * q_coefs[i] * x_list[i + M - l]\n",
    "                )\n",
    "        return x_n - res\n",
    "\n",
    "    return hs_m_half_x, hs_m_accel_restr"
   ]
  },
  {
   "cell_type": "code",
   "execution_count": null,
   "id": "c97b11dd",
   "metadata": {},
   "outputs": [],
   "source": [
    "def get_x_divisions(x, order=2, return_indices = False):\n",
    "    dim = x.shape[-1] // order\n",
    "    x_list = []\n",
    "    if is2d(x):\n",
    "        for ii in range(order):\n",
    "            index = (slice(None, None), slice(dim * ii, dim * (ii + 1)))\n",
    "            if return_indices:\n",
    "                x_list.append(index)\n",
    "            else:\n",
    "                x_list.append(x[index])\n",
    "    else:\n",
    "        for ii in range(order):\n",
    "            index = slice(dim * ii, dim * (ii + 1))\n",
    "            if return_indices:\n",
    "                x_list.append(index)\n",
    "            else:\n",
    "                x_list.append(x[index])\n",
    "    return x_list\n",
    "\n",
    "\n",
    "\n",
    "def _itemequal(arr_to, arr_from, shape, index=()):\n",
    "    if len(shape) == 1:\n",
    "        for ii in range(shape[0]):\n",
    "            index_i = index + (ii,)\n",
    "            arr_to[index_i] = arr_from[index_i]\n",
    "    else:\n",
    "        for ii in range(shape[0]):\n",
    "            index_i = index + (ii,)\n",
    "            shape_i = shape[1:]\n",
    "            _itemequal(arr_to, arr_from, shape_i, index_i)\n",
    "            \n",
    "def itemequal(arr_to, arr_from):\n",
    "    assert arr_from.shape == arr_to.shape\n",
    "    shape = arr_from.shape\n",
    "    _itemequal(arr_to, arr_from, shape, index=())\n",
    "  \n",
    "    \n",
    "def reunite_matrix(arr, arr_list, order):\n",
    "    indices = get_x_divisions(arr, order, return_indices=True)\n",
    "    for ii in range(len(indices)):\n",
    "        arr[indices[ii]] = arr_list[ii]\n",
    "\n",
    "\n",
    "def generate_trapz_m_func(order):\n",
    "    M = order  # in order to keep the paper naming\n",
    "    q_coefs = zeros(order)\n",
    "    for i in range(order):\n",
    "        q_coefs[i] = 1 / fac(i)\n",
    "    g_coefs = zeros(order + 1)\n",
    "    for l in range(order + 1):\n",
    "        g_coefs[l] = 1 / fac(l + 1)\n",
    "\n",
    "    def trapz_m_accel_restr(x, x_n, a, a_n, dt, scheme_params):\n",
    "        res = copy(x)\n",
    "        x_list = get_x_divisions(x, order)\n",
    "        res_list = get_x_divisions(res, order)\n",
    "        for l in range(1, M + 1):\n",
    "            _t = dt**l * g_coefs[l] * (l * a + a_n)\n",
    "            itemequal(res_list[M - l], _t)\n",
    "            for i in range(l):\n",
    "                _t = (\n",
    "                    res_list[M - l] + dt**i * q_coefs[i] * x_list[i + M - l]\n",
    "                )\n",
    "                itemequal(res_list[M - l], _t)\n",
    "        reunite_matrix(res, res_list, order)        \n",
    "        #print(f'applying value: a1={res_list}, a2 = {res}')\n",
    "            \n",
    "        return x_n - res\n",
    "\n",
    "    return trapz_m_accel_restr"
   ]
  },
  {
   "cell_type": "code",
   "execution_count": null,
   "id": "1b65606d",
   "metadata": {},
   "outputs": [],
   "source": [
    "_xc, _rest = generate_hs_m_funcs(3)"
   ]
  },
  {
   "cell_type": "code",
   "execution_count": null,
   "id": "c80e78fe",
   "metadata": {},
   "outputs": [],
   "source": [
    "_rest = generate_trapz_m_func(3)"
   ]
  },
  {
   "cell_type": "code",
   "execution_count": null,
   "id": "e85be326",
   "metadata": {},
   "outputs": [],
   "source": [
    "x_0 = Matrix([[q_0, v_0, a_0]])\n",
    "x_1 = Matrix([[q_1, v_1, a_1]])\n",
    "x_c = Matrix([[q_c, v_c, a_c]])"
   ]
  },
  {
   "cell_type": "code",
   "execution_count": null,
   "id": "57dff1b9",
   "metadata": {},
   "outputs": [],
   "source": [
    "_xc(x_0, x_1, Matrix([[g_0]]), Matrix([[g_1]]), h)"
   ]
  },
  {
   "cell_type": "code",
   "execution_count": null,
   "id": "30f01573",
   "metadata": {},
   "outputs": [],
   "source": [
    "print(x_0[:])"
   ]
  },
  {
   "cell_type": "code",
   "execution_count": null,
   "id": "d4a03bdc",
   "metadata": {},
   "outputs": [],
   "source": [
    "_rest(x_0, x_1, Matrix([[g_0]]), Matrix([[g_1]]), h, Matrix([[g_c]]))"
   ]
  },
  {
   "cell_type": "code",
   "execution_count": null,
   "id": "24407675",
   "metadata": {},
   "outputs": [],
   "source": [
    "x_0"
   ]
  },
  {
   "cell_type": "code",
   "execution_count": null,
   "id": "cba96116",
   "metadata": {},
   "outputs": [],
   "source": [
    "_z = x_0[(slice(None, None, None), slice(1, 2, None))]"
   ]
  },
  {
   "cell_type": "code",
   "execution_count": null,
   "id": "89981b53",
   "metadata": {},
   "outputs": [],
   "source": [
    "_z[:,:] = Matrix([[3]])"
   ]
  },
  {
   "cell_type": "code",
   "execution_count": null,
   "id": "6072d91b",
   "metadata": {},
   "outputs": [],
   "source": [
    "x_0"
   ]
  },
  {
   "cell_type": "code",
   "execution_count": null,
   "id": "546eb538",
   "metadata": {},
   "outputs": [],
   "source": [
    "_z = get_x_divisions(x_0,3)"
   ]
  },
  {
   "cell_type": "code",
   "execution_count": null,
   "id": "486338a4",
   "metadata": {},
   "outputs": [],
   "source": [
    "_z"
   ]
  },
  {
   "cell_type": "code",
   "execution_count": null,
   "id": "894e497e",
   "metadata": {},
   "outputs": [],
   "source": [
    "_z[0][:,:] = Matrix([[3]])"
   ]
  },
  {
   "cell_type": "code",
   "execution_count": null,
   "id": "f431ae1f",
   "metadata": {},
   "outputs": [],
   "source": [
    "_z"
   ]
  },
  {
   "cell_type": "code",
   "execution_count": null,
   "id": "b5113298",
   "metadata": {},
   "outputs": [],
   "source": [
    "x_0"
   ]
  },
  {
   "cell_type": "code",
   "execution_count": null,
   "id": "67cea1d8",
   "metadata": {},
   "outputs": [],
   "source": [
    "is2d(x_0)"
   ]
  },
  {
   "cell_type": "code",
   "execution_count": null,
   "id": "29b0ee4b",
   "metadata": {},
   "outputs": [],
   "source": []
  },
  {
   "cell_type": "code",
   "execution_count": null,
   "id": "8b366ac8",
   "metadata": {},
   "outputs": [],
   "source": []
  },
  {
   "cell_type": "code",
   "execution_count": null,
   "id": "0bd1fd13",
   "metadata": {},
   "outputs": [],
   "source": []
  },
  {
   "cell_type": "code",
   "execution_count": null,
   "id": "c025ed63",
   "metadata": {},
   "outputs": [],
   "source": [
    "import importlib"
   ]
  },
  {
   "cell_type": "code",
   "execution_count": null,
   "id": "0031da26",
   "metadata": {},
   "outputs": [],
   "source": [
    "importlib.reload(chords.pseudospectral)"
   ]
  },
  {
   "cell_type": "code",
   "execution_count": null,
   "id": "6c481045",
   "metadata": {},
   "outputs": [],
   "source": [
    "from chords.pseudospectral import LG, LGR, LGL, JG, JGR, JGR_inv, JGL"
   ]
  },
  {
   "cell_type": "code",
   "execution_count": null,
   "id": "22522671",
   "metadata": {},
   "outputs": [],
   "source": [
    "LG(4)"
   ]
  },
  {
   "cell_type": "code",
   "execution_count": null,
   "id": "4f8df52d",
   "metadata": {},
   "outputs": [],
   "source": [
    "JG(4, order=1)"
   ]
  },
  {
   "cell_type": "code",
   "execution_count": null,
   "id": "cb5f67a7",
   "metadata": {},
   "outputs": [],
   "source": [
    "LGR(4)"
   ]
  },
  {
   "cell_type": "code",
   "execution_count": null,
   "id": "83bb2633",
   "metadata": {},
   "outputs": [],
   "source": [
    "JGR(4, order = 1)"
   ]
  },
  {
   "cell_type": "code",
   "execution_count": null,
   "id": "b7bb3c3d",
   "metadata": {},
   "outputs": [],
   "source": [
    "JGR_inv(4, order=1)"
   ]
  },
  {
   "cell_type": "code",
   "execution_count": null,
   "id": "52870607",
   "metadata": {},
   "outputs": [],
   "source": [
    "LGL(4)"
   ]
  },
  {
   "cell_type": "code",
   "execution_count": null,
   "id": "c0a88361",
   "metadata": {},
   "outputs": [],
   "source": [
    "JGL(4, order=1)"
   ]
  },
  {
   "cell_type": "code",
   "execution_count": null,
   "id": "87d7add9",
   "metadata": {},
   "outputs": [],
   "source": []
  }
 ],
 "metadata": {
  "kernelspec": {
   "display_name": "Python 3 (ipykernel)",
   "language": "python",
   "name": "python3"
  },
  "language_info": {
   "codemirror_mode": {
    "name": "ipython",
    "version": 3
   },
   "file_extension": ".py",
   "mimetype": "text/x-python",
   "name": "python",
   "nbconvert_exporter": "python",
   "pygments_lexer": "ipython3",
   "version": "3.9.15"
  }
 },
 "nbformat": 4,
 "nbformat_minor": 5
}
