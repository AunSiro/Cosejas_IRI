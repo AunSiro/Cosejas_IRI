{
 "cells": [
  {
   "cell_type": "code",
   "execution_count": 1,
   "id": "5e2eb475",
   "metadata": {},
   "outputs": [],
   "source": [
    "import numpy as np\n",
    "import matplotlib.pyplot as plt\n",
    "from mpl_toolkits import mplot3d\n",
    "\n",
    "from numpy import logical_and as npand\n",
    "from numpy import logical_or as npor\n",
    "import matplotlib"
   ]
  },
  {
   "cell_type": "code",
   "execution_count": 2,
   "id": "bebf98fc",
   "metadata": {},
   "outputs": [],
   "source": [
    "from sympy import (symbols, pi, I, E, cos, sin, exp, tan, simplify, expand, factor, collect,\n",
    "                   apart, cancel, expand_trig, diff, Derivative, Function, integrate, limit,\n",
    "                   series, Eq, solve, dsolve, Matrix, N, preorder_traversal, Float, solve_linear_system,\n",
    "                   eye, zeros, lambdify, Symbol,hessian, acos)\n",
    "from sympy.physics.mechanics import dynamicsymbols, init_vprinting\n",
    "from sympy import Rational, factorial"
   ]
  },
  {
   "cell_type": "code",
   "execution_count": 3,
   "id": "87b05640",
   "metadata": {},
   "outputs": [],
   "source": [
    "from matplotlib import animation, rc\n",
    "import matplotlib.patches as patches\n",
    "from matplotlib.transforms import Affine2D\n",
    "from IPython.display import HTML"
   ]
  },
  {
   "cell_type": "code",
   "execution_count": 16,
   "id": "57dafcca",
   "metadata": {},
   "outputs": [],
   "source": [
    "init_vprinting()"
   ]
  },
  {
   "cell_type": "code",
   "execution_count": 4,
   "id": "bea3b83d",
   "metadata": {},
   "outputs": [],
   "source": [
    "_a = ['a', 'b', 'c']"
   ]
  },
  {
   "cell_type": "code",
   "execution_count": 6,
   "id": "c3beca40",
   "metadata": {},
   "outputs": [
    {
     "name": "stdout",
     "output_type": "stream",
     "text": [
      "item:  a  number 1 of total 3 items\n",
      "item:  b  number 2 of total 3 items\n",
      "item:  c  number 3 of total 3 items\n"
     ]
    }
   ],
   "source": [
    "for item in _a:\n",
    "    print('item: ', item, f' number {_a.index(item)+1} of total {len(_a)} items')"
   ]
  },
  {
   "cell_type": "code",
   "execution_count": 6,
   "id": "1d89d503",
   "metadata": {},
   "outputs": [],
   "source": [
    "_b = 'qqqq_parab'"
   ]
  },
  {
   "cell_type": "code",
   "execution_count": 7,
   "id": "cd0fe142",
   "metadata": {},
   "outputs": [
    {
     "data": {
      "text/plain": [
       "'qqqq'"
      ]
     },
     "execution_count": 7,
     "metadata": {},
     "output_type": "execute_result"
    }
   ],
   "source": [
    "_b.replace('_parab', '')"
   ]
  },
  {
   "cell_type": "code",
   "execution_count": 9,
   "id": "77599fbd",
   "metadata": {},
   "outputs": [],
   "source": [
    "from sympy.physics.mechanics import ReferenceFrame, Point, LagrangesMethod"
   ]
  },
  {
   "cell_type": "code",
   "execution_count": 10,
   "id": "9b73165f",
   "metadata": {},
   "outputs": [
    {
     "data": {
      "image/png": "[encoded data removed]",
      "text/latex": [
       "$\\displaystyle m_{1} \\dot{q}_{1}^{2} + m_{2} \\dot{q}_{2}^{2}$"
      ],
      "text/plain": [
       "     2        2\n",
       "m₁⋅q₁̇  + m₂⋅q₂̇ "
      ]
     },
     "execution_count": 10,
     "metadata": {},
     "output_type": "execute_result"
    }
   ],
   "source": [
    "q1, q2 = dynamicsymbols('q1 q2')\n",
    "q1d, q2d = dynamicsymbols('q1 q2', 1)\n",
    "m1, m2 = symbols('m1 m2')\n",
    "L = m1*q1d**2 + m2*q2d**2\n",
    "L"
   ]
  },
  {
   "cell_type": "code",
   "execution_count": 14,
   "id": "6a95eeed",
   "metadata": {},
   "outputs": [],
   "source": [
    "x, y, z, t, E = symbols('x y z t E')"
   ]
  },
  {
   "cell_type": "code",
   "execution_count": 23,
   "id": "5e8605b3",
   "metadata": {},
   "outputs": [
    {
     "data": {
      "image/png": "[encoded data removed]",
      "text/latex": [
       "$\\displaystyle \\left( u{\\left(x \\right)}, \\  I{\\left(x \\right)}, \\  q{\\left(x \\right)}\\right)$"
      ],
      "text/plain": [
       "(u(x), I(x), q(x))"
      ]
     },
     "execution_count": 23,
     "metadata": {},
     "output_type": "execute_result"
    }
   ],
   "source": [
    "u = Function('u')(x)\n",
    "I = Function('I')(x)\n",
    "q = Function('q')(x)\n",
    "u, I, q"
   ]
  },
  {
   "cell_type": "code",
   "execution_count": 26,
   "id": "be788fd1",
   "metadata": {},
   "outputs": [
    {
     "data": {
      "image/png": "[encoded data removed]",
      "text/latex": [
       "$\\displaystyle E \\left(I{\\left(x \\right)} \\frac{d^{4}}{d x^{4}} u{\\left(x \\right)} + 2 \\frac{d}{d x} I{\\left(x \\right)} \\frac{d^{3}}{d x^{3}} u{\\left(x \\right)} + \\frac{d^{2}}{d x^{2}} I{\\left(x \\right)} \\frac{d^{2}}{d x^{2}} u{\\left(x \\right)}\\right) + q{\\left(x \\right)}$"
      ],
      "text/plain": [
       "  ⎛       4                      3           2         2      ⎞       \n",
       "  ⎜      d            d         d           d         d       ⎟       \n",
       "E⋅⎜I(x)⋅───(u(x)) + 2⋅──(I(x))⋅───(u(x)) + ───(I(x))⋅───(u(x))⎟ + q(x)\n",
       "  ⎜       4           dx         3           2         2      ⎟       \n",
       "  ⎝     dx                     dx          dx        dx       ⎠       "
      ]
     },
     "execution_count": 26,
     "metadata": {},
     "output_type": "execute_result"
    }
   ],
   "source": [
    "expr = (E * I *u.diff(x,2)).diff(x,2)+q\n",
    "expr"
   ]
  },
  {
   "cell_type": "code",
   "execution_count": 29,
   "id": "7f6fc71c",
   "metadata": {},
   "outputs": [
    {
     "data": {
      "image/png": "[encoded data removed]",
      "text/latex": [
       "$\\displaystyle \\frac{- E \\left(2 \\frac{d}{d x} I{\\left(x \\right)} \\frac{d^{3}}{d x^{3}} u{\\left(x \\right)} + \\frac{d^{2}}{d x^{2}} I{\\left(x \\right)} \\frac{d^{2}}{d x^{2}} u{\\left(x \\right)}\\right) - q{\\left(x \\right)}}{E I{\\left(x \\right)}}$"
      ],
      "text/plain": [
       "    ⎛             3           2         2      ⎞       \n",
       "    ⎜  d         d           d         d       ⎟       \n",
       "- E⋅⎜2⋅──(I(x))⋅───(u(x)) + ───(I(x))⋅───(u(x))⎟ - q(x)\n",
       "    ⎜  dx         3           2         2      ⎟       \n",
       "    ⎝           dx          dx        dx       ⎠       \n",
       "───────────────────────────────────────────────────────\n",
       "                         E⋅I(x)                        "
      ]
     },
     "execution_count": 29,
     "metadata": {},
     "output_type": "execute_result"
    }
   ],
   "source": [
    "simplify(solve(expr, u.diff(x,4))[0])"
   ]
  },
  {
   "cell_type": "markdown",
   "id": "9f51fca0",
   "metadata": {},
   "source": [
    "$$ \\frac{d^2}{dx^2}(EI(x)\\frac{d^2u(x)}{dx^2}) = -q(x) $$\n",
    "\n",
    "\n",
    "$$ \\frac{d^4u(x)}{dx^4} = \\frac{-1}{I\\left(x \\right)} \\left(2 \\frac{dI}{d x} {\\left(x \\right)} \\frac{d^{3}u}{d x^{3}} {\\left(x \\right)} + \\frac{d^{2}I}{d x^{2}} {\\left(x \\right)} \\frac{d^{2}u}{d x^{2}} {\\left(x \\right)} + \\frac {q\\left(x \\right)}{E}\\right)$$"
   ]
  },
  {
   "cell_type": "code",
   "execution_count": null,
   "id": "b2975cfd",
   "metadata": {},
   "outputs": [],
   "source": []
  },
  {
   "cell_type": "code",
   "execution_count": null,
   "id": "22820db8",
   "metadata": {},
   "outputs": [],
   "source": []
  },
  {
   "cell_type": "code",
   "execution_count": 11,
   "id": "070fa78d",
   "metadata": {},
   "outputs": [],
   "source": [
    "from chords.pseudospectral import _v_sum, piecewise, coll_points\n",
    "from numpy import array"
   ]
  },
  {
   "cell_type": "code",
   "execution_count": 93,
   "id": "b15dc58c",
   "metadata": {},
   "outputs": [],
   "source": [
    "def bary_poly_num(t_arr, y_arr):\n",
    "    \"\"\"\n",
    "    Generates a numeric function of t that corresponds to the polynomial\n",
    "    that passes through the points (t, y) using the barycentric formula\n",
    "\n",
    "    Parameters\n",
    "    ----------\n",
    "    t_arr : iterable of floats\n",
    "        values of t\n",
    "    y_arr : iterable of floats\n",
    "        values of y\n",
    "\n",
    "    Returns\n",
    "    -------\n",
    "    polynomial : Function F(t)\n",
    "        polynomial numerical function\n",
    "\n",
    "    \"\"\"\n",
    "    t = symbols(\"t\")\n",
    "    n = len(t_arr)\n",
    "    v_arr = [_v_sum(t_arr, ii) for ii in range(n)]\n",
    "    sup = 0\n",
    "    for i in range(n):\n",
    "        sup += v_arr[i] * y_arr[i] / (t - t_arr[i])\n",
    "    inf = 0\n",
    "    for i in range(n):\n",
    "        inf += v_arr[i] / (t - t_arr[i])\n",
    "    poly_fun = lambdify(\n",
    "        [\n",
    "            t,\n",
    "        ],\n",
    "        sup / inf,\n",
    "    )\n",
    "    \n",
    "    def new_poly(t):\n",
    "        t = array(t, dtype=\"float64\")\n",
    "        cond_list = [t == t_i for t_i in t_arr]\n",
    "        func_list = list(y_arr)\n",
    "        func_list.append(poly_fun)\n",
    "        return piecewise(t, cond_list, func_list)\n",
    "\n",
    "    return new_poly"
   ]
  },
  {
   "cell_type": "code",
   "execution_count": 94,
   "id": "d69681a2",
   "metadata": {},
   "outputs": [
    {
     "data": {
      "image/png": "[encoded data removed]",
      "text/plain": [
       "<Figure size 640x480 with 1 Axes>"
      ]
     },
     "metadata": {},
     "output_type": "display_data"
    }
   ],
   "source": [
    "_a = bary_poly_num([-1,0,1,2,3,4], [2,1,2,1,2,1])\n",
    "_t = np.linspace(-1,4,200)\n",
    "plt.plot(_t, _a(_t))\n",
    "plt.grid()"
   ]
  },
  {
   "cell_type": "code",
   "execution_count": 95,
   "id": "01c6e36f",
   "metadata": {},
   "outputs": [
    {
     "data": {
      "image/png": "[encoded data removed]",
      "text/latex": [
       "$\\displaystyle \\left[ -0.9061798459386639928, \\  -0.53846931010568309104, \\  0, \\  0.53846931010568309104, \\  0.9061798459386639928\\right]$"
      ],
      "text/plain": [
       "[-0.9061798459386639928, -0.53846931010568309104, 0, 0.53846931010568309104, 0\n",
       ".9061798459386639928]"
      ]
     },
     "execution_count": 95,
     "metadata": {},
     "output_type": "execute_result"
    }
   ],
   "source": [
    "coll_points(5, 'LG')"
   ]
  },
  {
   "cell_type": "code",
   "execution_count": 96,
   "id": "31149273",
   "metadata": {},
   "outputs": [],
   "source": [
    "from sympy import legendre_poly, jacobi_poly, evalf"
   ]
  },
  {
   "cell_type": "code",
   "execution_count": 97,
   "id": "5d8de494",
   "metadata": {},
   "outputs": [
    {
     "data": {
      "image/png": "[encoded data removed]",
      "text/latex": [
       "$\\displaystyle \\operatorname{PurePoly}{\\left( \\frac{34461632205}{262144} x^{20} -  \\frac{83945001525}{131072} x^{18} + \\frac{347123925225}{262144} x^{16} -  \\frac{49589132175}{32768} x^{14} + \\frac{136745788725}{131072} x^{12} -  \\frac{29113619535}{65536} x^{10} + \\frac{15058768725}{131072} x^{8} -  \\frac{557732175}{32768} x^{6} + \\frac{334639305}{262144} x^{4} -  \\frac{4849845}{131072} x^{2} + \\frac{46189}{262144}, x, domain=\\mathbb{Q} \\right)}$"
      ],
      "text/plain": [
       "PurePoly(34461632205/262144*_x**20 - 83945001525/131072*_x**18 + 347123925225/\n",
       "262144*_x**16 - 49589132175/32768*_x**14 + 136745788725/131072*_x**12 - 291136\n",
       "19535/65536*_x**10 + 15058768725/131072*_x**8 - 557732175/32768*_x**6 + 334639\n",
       "305/262144*_x**4 - 4849845/131072*_x**2 + 46189/262144, _x, domain='QQ')"
      ]
     },
     "execution_count": 97,
     "metadata": {},
     "output_type": "execute_result"
    }
   ],
   "source": [
    "N = 20\n",
    "_a =legendre_poly(N, polys=True)\n",
    "_a"
   ]
  },
  {
   "cell_type": "code",
   "execution_count": 76,
   "id": "624a33a8",
   "metadata": {},
   "outputs": [
    {
     "data": {
      "image/png": "[encoded data removed]",
      "text/latex": [
       "$\\displaystyle \\operatorname{PurePoly}{\\left( \\frac{172308161025}{65536} x^{19} -  \\frac{755505013725}{65536} x^{17} + \\frac{347123925225}{16384} x^{15} -  \\frac{347123925225}{16384} x^{13} + \\frac{410237366175}{32768} x^{11} -  \\frac{145568097675}{32768} x^{9} + \\frac{15058768725}{16384} x^{7} -  \\frac{1673196525}{16384} x^{5} + \\frac{334639305}{65536} x^{3} -  \\frac{4849845}{65536} x, x, domain=\\mathbb{Q} \\right)}$"
      ],
      "text/plain": [
       "PurePoly(172308161025/65536*_x**19 - 755505013725/65536*_x**17 + 347123925225/\n",
       "16384*_x**15 - 347123925225/16384*_x**13 + 410237366175/32768*_x**11 - 1455680\n",
       "97675/32768*_x**9 + 15058768725/16384*_x**7 - 1673196525/16384*_x**5 + 3346393\n",
       "05/65536*_x**3 - 4849845/65536*_x, _x, domain='QQ')"
      ]
     },
     "execution_count": 76,
     "metadata": {},
     "output_type": "execute_result"
    }
   ],
   "source": [
    "_a.diff()"
   ]
  },
  {
   "cell_type": "code",
   "execution_count": 119,
   "id": "75870869",
   "metadata": {},
   "outputs": [],
   "source": [
    "from functools import lru_cache\n",
    "from math import ceil"
   ]
  },
  {
   "cell_type": "code",
   "execution_count": 89,
   "id": "d7defb78",
   "metadata": {},
   "outputs": [],
   "source": [
    "@lru_cache(maxsize=2000)\n",
    "def LG_weight(N, i, precission = 20):\n",
    "    Pn = legendre_poly(N, polys=True)\n",
    "    Pn_d = Pn.diff()\n",
    "    xi = coll_points(N, 'LG', precission)[i]\n",
    "    wi = 2/((1-xi**2) * (Pn_d.eval(xi)**2))\n",
    "    return wi"
   ]
  },
  {
   "cell_type": "code",
   "execution_count": 91,
   "id": "8c4107d9",
   "metadata": {},
   "outputs": [
    {
     "data": {
      "image/png": "[encoded data removed]",
      "text/latex": [
       "$\\displaystyle 0.219086362515982044$"
      ],
      "text/plain": [
       "0.21908636251598204400"
      ]
     },
     "execution_count": 91,
     "metadata": {},
     "output_type": "execute_result"
    }
   ],
   "source": [
    "LG_weight(10,2)"
   ]
  },
  {
   "cell_type": "code",
   "execution_count": 106,
   "id": "fb23812d",
   "metadata": {},
   "outputs": [],
   "source": [
    "def gauss_integral(f, N, t0, t1):\n",
    "    scale = t1-t0\n",
    "    points = (array(coll_points(N, 'LG'))+1)/2\n",
    "    points = t0 + scale*points\n",
    "    weights = [LG_weight(N, ii) for ii in range(N)]\n",
    "    _a = [weights[ii]*f(points[ii]) for ii in range(N)]\n",
    "    return scale*np.sum(_a)/2"
   ]
  },
  {
   "cell_type": "code",
   "execution_count": 120,
   "id": "2a956343",
   "metadata": {},
   "outputs": [],
   "source": [
    "def f_integral(f, N, t0, t1):\n",
    "    scale = t1-t0\n",
    "    points = (array(coll_points(N, 'LG'))+1)/2\n",
    "    points = t0 + scale*points\n",
    "    points = list(points)\n",
    "    N_gauss = ceil((N+1)/2)\n",
    "    y = [gauss_integral(f, N_gauss, t0, ii) for ii in points]\n",
    "    points = [t0,] + points\n",
    "    y = [0,] + y\n",
    "    return bary_poly_num(points, y)"
   ]
  },
  {
   "cell_type": "code",
   "execution_count": 130,
   "id": "660baa4f",
   "metadata": {},
   "outputs": [
    {
     "data": {
      "image/png": "[encoded data removed]",
      "text/plain": [
       "<Figure size 640x480 with 1 Axes>"
      ]
     },
     "metadata": {},
     "output_type": "display_data"
    }
   ],
   "source": [
    "_a = bary_poly_num([-1,0,1,2,3,4], [2,-1,2,1,-2,1])\n",
    "_t = np.linspace(-1,4,2000)\n",
    "plt.plot(_t, _a(_t), '.')\n",
    "plt.grid()"
   ]
  },
  {
   "cell_type": "code",
   "execution_count": 131,
   "id": "ee2bcb98",
   "metadata": {},
   "outputs": [
    {
     "data": {
      "image/png": "[encoded data removed]",
      "text/plain": [
       "<Figure size 640x480 with 1 Axes>"
      ]
     },
     "metadata": {},
     "output_type": "display_data"
    }
   ],
   "source": [
    "_b = f_integral(_a, 6, -1, 4)\n",
    "plt.plot(_t, _b(_t), '.')\n",
    "plt.grid()"
   ]
  },
  {
   "cell_type": "code",
   "execution_count": 132,
   "id": "b13befc5",
   "metadata": {},
   "outputs": [
    {
     "data": {
      "image/png": "[encoded data removed]",
      "text/plain": [
       "<Figure size 640x480 with 1 Axes>"
      ]
     },
     "metadata": {},
     "output_type": "display_data"
    }
   ],
   "source": [
    "plt.plot(_t, np.gradient(_b(_t), _t, edge_order=2), '.')\n",
    "plt.grid()"
   ]
  },
  {
   "cell_type": "code",
   "execution_count": 133,
   "id": "0c59cc99",
   "metadata": {},
   "outputs": [
    {
     "data": {
      "image/png": "[encoded data removed]",
      "text/plain": [
       "<Figure size 640x480 with 1 Axes>"
      ]
     },
     "metadata": {},
     "output_type": "display_data"
    }
   ],
   "source": [
    "plt.plot(_t, np.abs(np.gradient(_b(_t), _t, edge_order=2)-_a(_t)), '.')\n",
    "plt.grid()"
   ]
  },
  {
   "cell_type": "code",
   "execution_count": null,
   "id": "a387dd64",
   "metadata": {},
   "outputs": [],
   "source": []
  },
  {
   "cell_type": "code",
   "execution_count": null,
   "id": "e1bd0828",
   "metadata": {},
   "outputs": [],
   "source": []
  },
  {
   "cell_type": "code",
   "execution_count": 143,
   "id": "8d4395d4",
   "metadata": {},
   "outputs": [],
   "source": [
    "def deletezeros(expr, tol = 1e-14):\n",
    "    expr2 = expr\n",
    "    for a in preorder_traversal(expr):\n",
    "        if isinstance(a, Float):\n",
    "            if abs(a) < tol:\n",
    "                expr2 = expr2.subs(a, 0)\n",
    "    return expr2"
   ]
  },
  {
   "cell_type": "code",
   "execution_count": 150,
   "id": "5aba323d",
   "metadata": {},
   "outputs": [],
   "source": [
    "def bary_poly_sym(t_arr, y_arr):\n",
    "    \"\"\"\n",
    "    Generates a symbolic function of t that corresponds to the polynomial\n",
    "    that passes through the points (t, y) using the barycentric formula\n",
    "\n",
    "    Parameters\n",
    "    ----------\n",
    "    t_arr : iterable of floats\n",
    "        values of t\n",
    "    y_arr : iterable of floats\n",
    "        values of y\n",
    "\n",
    "    Returns\n",
    "    -------\n",
    "    polynomial : Function F(t)\n",
    "        polynomial numerical function\n",
    "\n",
    "    \"\"\"\n",
    "    t = symbols(\"t\")\n",
    "    n = len(t_arr)\n",
    "    v_arr = [_v_sum(t_arr, ii) for ii in range(n)]\n",
    "    sup = 0\n",
    "    for i in range(n):\n",
    "        sup += v_arr[i] * y_arr[i] / (t - t_arr[i])\n",
    "    inf = 0\n",
    "    for i in range(n):\n",
    "        inf += v_arr[i] / (t - t_arr[i])\n",
    "    poly_fun = sup / inf\n",
    "\n",
    "    return poly_fun"
   ]
  },
  {
   "cell_type": "code",
   "execution_count": 151,
   "id": "260daf7d",
   "metadata": {},
   "outputs": [],
   "source": [
    "def poly_sym(t_arr, y_arr):\n",
    "    \"\"\"\n",
    "    Generates a symbolic function of t that corresponds to the polynomial\n",
    "    that passes through the points (t, y)\n",
    "\n",
    "    Parameters\n",
    "    ----------\n",
    "    t_arr : iterable of floats\n",
    "        values of t\n",
    "    y_arr : iterable of floats\n",
    "        values of y\n",
    "\n",
    "    Returns\n",
    "    -------\n",
    "    polynomial : Function F(t)\n",
    "        polynomial numerical function\n",
    "\n",
    "    \"\"\"\n",
    "    t = symbols(\"t\")\n",
    "    n = len(t_arr)\n",
    "    v_arr = [_v_sum(t_arr, ii) for ii in range(n)]\n",
    "    sup = 0\n",
    "    for i in range(n):\n",
    "        sup += v_arr[i] * y_arr[i] / (t - t_arr[i])\n",
    "    inf = 0\n",
    "    for i in range(n):\n",
    "        inf += v_arr[i] / (t - t_arr[i])\n",
    "    poly_fun = sup / inf\n",
    "\n",
    "    return deletezeros(simplify(poly_fun))"
   ]
  },
  {
   "cell_type": "code",
   "execution_count": 148,
   "id": "c2585629",
   "metadata": {},
   "outputs": [],
   "source": [
    "_a = bary_poly_sym([-1,0,1,2,3,4], [2,1,-2,1,-2,1])"
   ]
  },
  {
   "cell_type": "code",
   "execution_count": 149,
   "id": "a8550a9e",
   "metadata": {
    "scrolled": true
   },
   "outputs": [
    {
     "data": {
      "image/png": "[encoded data removed]",
      "text/latex": [
       "$\\displaystyle 0.366666666666667 t^{5} - 2.66666666666667 t^{4} + 4.83333333333333 t^{3} + 1.66666666666667 t^{2} - 7.2 t + 1.0$"
      ],
      "text/plain": [
       "                   5                     4                     3              \n",
       "0.366666666666667⋅t  - 2.66666666666667⋅t  + 4.83333333333333⋅t  + 1.666666666\n",
       "\n",
       "       2              \n",
       "66667⋅t  - 7.2⋅t + 1.0"
      ]
     },
     "execution_count": 149,
     "metadata": {},
     "output_type": "execute_result"
    }
   ],
   "source": [
    "_a"
   ]
  },
  {
   "cell_type": "code",
   "execution_count": null,
   "id": "0df33109",
   "metadata": {},
   "outputs": [],
   "source": []
  },
  {
   "cell_type": "code",
   "execution_count": null,
   "id": "f4ea8602",
   "metadata": {},
   "outputs": [],
   "source": []
  },
  {
   "cell_type": "code",
   "execution_count": 13,
   "id": "10d47e26",
   "metadata": {},
   "outputs": [],
   "source": [
    "from chords.symbolic import diff_to_symb_expr"
   ]
  },
  {
   "cell_type": "code",
   "execution_count": 14,
   "id": "ee9a460b",
   "metadata": {},
   "outputs": [
    {
     "data": {
      "image/png": "[encoded data removed]",
      "text/latex": [
       "$\\displaystyle q_{1}^{2} + \\sin{\\left(q_{1}^{2} \\right)} + \\cos^{3}{\\left(\\dot{q}_{2} \\right)} + \\operatorname{acos}{\\left(q_{1} \\right)}$"
      ],
      "text/plain": [
       "  2      ⎛  2⎞      3               \n",
       "q₁  + sin⎝q₁ ⎠ + cos (q₂̇) + acos(q₁)"
      ]
     },
     "execution_count": 14,
     "metadata": {},
     "output_type": "execute_result"
    }
   ],
   "source": [
    "x = q1**2 + cos(q2.diff())**3 + sin(q1**2) + acos(q1)\n",
    "x"
   ]
  },
  {
   "cell_type": "code",
   "execution_count": 16,
   "id": "2b572b04",
   "metadata": {},
   "outputs": [],
   "source": [
    "from chords.symbolic import print_funcs"
   ]
  },
  {
   "cell_type": "code",
   "execution_count": 17,
   "id": "0475d504",
   "metadata": {},
   "outputs": [
    {
     "name": "stdout",
     "output_type": "stream",
     "text": [
      "def F(x, ):\n",
      "    q_0, q_1, q_2, v_0, v_1, v_2 = unpack(x)\n",
      "    result = q_1**2 + np.sin(q_1**2) + np.cos(v_2)**3 + np.arccos(q_1)\n",
      "\n",
      "    return result\n",
      "\n"
     ]
    },
    {
     "data": {
      "text/plain": [
       "'def F(x, ):\\n    q_0, q_1, q_2, v_0, v_1, v_2 = unpack(x)\\n    result = q_1**2 + np.sin(q_1**2) + np.cos(v_2)**3 + np.arccos(q_1)\\n\\n    return result\\n'"
      ]
     },
     "execution_count": 17,
     "metadata": {},
     "output_type": "execute_result"
    }
   ],
   "source": [
    "print_funcs(x,3)"
   ]
  },
  {
   "cell_type": "code",
   "execution_count": null,
   "id": "e7208328",
   "metadata": {},
   "outputs": [],
   "source": []
  },
  {
   "cell_type": "code",
   "execution_count": 5,
   "id": "a146ffbc",
   "metadata": {},
   "outputs": [],
   "source": [
    "x, a, b, c, d, t, h= symbols('x a b c d t h')\n",
    "t0, t1, t2, t3, t4 = symbols('t_0 t_1 t_2 t_3 t_4')"
   ]
  },
  {
   "cell_type": "code",
   "execution_count": 19,
   "id": "b50b7f36",
   "metadata": {},
   "outputs": [
    {
     "data": {
      "image/png": "[encoded data removed]",
      "text/latex": [
       "$\\displaystyle \\cos{\\left(a - b \\right)}$"
      ],
      "text/plain": [
       "cos(a - b)"
      ]
     },
     "execution_count": 19,
     "metadata": {},
     "output_type": "execute_result"
    }
   ],
   "source": [
    "sin(pi/2 + a-b)"
   ]
  },
  {
   "cell_type": "code",
   "execution_count": 20,
   "id": "26ce3062",
   "metadata": {},
   "outputs": [
    {
     "data": {
      "image/png": "[encoded data removed]",
      "text/latex": [
       "$\\displaystyle a + \\frac{t \\left(- a + b\\right)}{h}$"
      ],
      "text/plain": [
       "    t⋅(-a + b)\n",
       "a + ──────────\n",
       "        h     "
      ]
     },
     "execution_count": 20,
     "metadata": {},
     "output_type": "execute_result"
    }
   ],
   "source": [
    "rect = a+ (b-a)/h*t\n",
    "rect"
   ]
  },
  {
   "cell_type": "code",
   "execution_count": 21,
   "id": "9e3090a7",
   "metadata": {},
   "outputs": [
    {
     "data": {
      "image/png": "[encoded data removed]",
      "text/latex": [
       "$\\displaystyle \\frac{h \\left(a^{2} + a b + b^{2}\\right)}{3}$"
      ],
      "text/plain": [
       "  ⎛ 2          2⎞\n",
       "h⋅⎝a  + a⋅b + b ⎠\n",
       "─────────────────\n",
       "        3        "
      ]
     },
     "execution_count": 21,
     "metadata": {},
     "output_type": "execute_result"
    }
   ],
   "source": [
    "form = integrate(expand(rect**2), (t, 0, h))\n",
    "form = simplify(form)\n",
    "factor(form)"
   ]
  },
  {
   "cell_type": "code",
   "execution_count": 22,
   "id": "3f423b45",
   "metadata": {},
   "outputs": [
    {
     "data": {
      "image/png": "[encoded data removed]",
      "text/latex": [
       "$\\displaystyle a - \\frac{t \\left(3 a - 4 b + c\\right)}{h} + \\frac{t^{2} \\cdot \\left(2 a - 4 b + 2 c\\right)}{h^{2}}$"
      ],
      "text/plain": [
       "                         2                  \n",
       "    t⋅(3⋅a - 4⋅b + c)   t ⋅(2⋅a - 4⋅b + 2⋅c)\n",
       "a - ───────────────── + ────────────────────\n",
       "            h                     2         \n",
       "                                 h          "
      ]
     },
     "execution_count": 22,
     "metadata": {},
     "output_type": "execute_result"
    }
   ],
   "source": [
    "parab = a - t/h* (3*a-4*b+c) + t**2/h**2 * (2*a -4*b +2*c)\n",
    "parab"
   ]
  },
  {
   "cell_type": "code",
   "execution_count": 23,
   "id": "624ffbd2",
   "metadata": {},
   "outputs": [
    {
     "data": {
      "image/png": "[encoded data removed]",
      "text/latex": [
       "$\\displaystyle \\frac{h \\left(2 a^{2} + 2 a b - a c + 8 b^{2} + 2 b c + 2 c^{2}\\right)}{15}$"
      ],
      "text/plain": [
       "  ⎛   2                    2              2⎞\n",
       "h⋅⎝2⋅a  + 2⋅a⋅b - a⋅c + 8⋅b  + 2⋅b⋅c + 2⋅c ⎠\n",
       "────────────────────────────────────────────\n",
       "                     15                     "
      ]
     },
     "execution_count": 23,
     "metadata": {},
     "output_type": "execute_result"
    }
   ],
   "source": [
    "form = integrate(expand(parab**2), (t, 0, h))\n",
    "form = simplify(form)\n",
    "factor(form)"
   ]
  },
  {
   "cell_type": "code",
   "execution_count": 24,
   "id": "2b5ef3b8",
   "metadata": {},
   "outputs": [
    {
     "data": {
      "image/png": "[encoded data removed]",
      "text/latex": [
       "$\\displaystyle - \\frac{3 a - 4 b + c}{h} + \\frac{2 t \\left(2 a - 4 b + 2 c\\right)}{h^{2}}$"
      ],
      "text/plain": [
       "  3⋅a - 4⋅b + c   2⋅t⋅(2⋅a - 4⋅b + 2⋅c)\n",
       "- ───────────── + ─────────────────────\n",
       "        h                    2         \n",
       "                            h          "
      ]
     },
     "execution_count": 24,
     "metadata": {},
     "output_type": "execute_result"
    }
   ],
   "source": [
    "parab.diff(t)"
   ]
  },
  {
   "cell_type": "code",
   "execution_count": 25,
   "id": "7724ec99",
   "metadata": {},
   "outputs": [
    {
     "data": {
      "image/png": "[encoded data removed]",
      "text/latex": [
       "$\\displaystyle \\frac{7 a^{2} - 16 a b + 2 a c + 16 b^{2} - 16 b c + 7 c^{2}}{3 h}$"
      ],
      "text/plain": [
       "   2                        2               2\n",
       "7⋅a  - 16⋅a⋅b + 2⋅a⋅c + 16⋅b  - 16⋅b⋅c + 7⋅c \n",
       "─────────────────────────────────────────────\n",
       "                     3⋅h                     "
      ]
     },
     "execution_count": 25,
     "metadata": {},
     "output_type": "execute_result"
    }
   ],
   "source": [
    "form_2 = integrate(expand(parab.diff(t)**2), (t, 0, h))\n",
    "form_2 = simplify(form_2)\n",
    "factor(form_2)"
   ]
  },
  {
   "cell_type": "code",
   "execution_count": null,
   "id": "56455a0d",
   "metadata": {},
   "outputs": [],
   "source": []
  },
  {
   "cell_type": "code",
   "execution_count": null,
   "id": "43e65df6",
   "metadata": {},
   "outputs": [],
   "source": []
  },
  {
   "cell_type": "code",
   "execution_count": null,
   "id": "49499883",
   "metadata": {},
   "outputs": [],
   "source": []
  },
  {
   "cell_type": "code",
   "execution_count": 6,
   "id": "5c92edca",
   "metadata": {},
   "outputs": [],
   "source": [
    "from sympy.printing.numpy import NumPyPrinter\n",
    "\n",
    "def printer(x):\n",
    "    np_printer = NumPyPrinter()\n",
    "    return np_printer.doprint(x)"
   ]
  },
  {
   "cell_type": "code",
   "execution_count": 27,
   "id": "bb66dc2b",
   "metadata": {},
   "outputs": [
    {
     "data": {
      "text/plain": [
       "'(1/15)*h*(2*a**2 + 2*a*b - a*c + 8*b**2 + 2*b*c + 2*c**2)'"
      ]
     },
     "execution_count": 27,
     "metadata": {},
     "output_type": "execute_result"
    }
   ],
   "source": [
    "printer(form)"
   ]
  },
  {
   "cell_type": "code",
   "execution_count": null,
   "id": "a8df28aa",
   "metadata": {},
   "outputs": [],
   "source": []
  },
  {
   "cell_type": "code",
   "execution_count": null,
   "id": "4bd6d8f1",
   "metadata": {},
   "outputs": [],
   "source": []
  },
  {
   "cell_type": "code",
   "execution_count": 8,
   "id": "46f63172",
   "metadata": {},
   "outputs": [
    {
     "data": {
      "text/latex": [
       "$\\displaystyle a x^{3} + b x^{2} + c x + d$"
      ],
      "text/plain": [
       "a*x**3 + b*x**2 + c*x + d"
      ]
     },
     "execution_count": 8,
     "metadata": {},
     "output_type": "execute_result"
    }
   ],
   "source": [
    "polin = a*x**3 + b*x**2 + c*x + d\n",
    "polin"
   ]
  },
  {
   "cell_type": "code",
   "execution_count": null,
   "id": "c59e26af",
   "metadata": {},
   "outputs": [],
   "source": [
    "x_n = [polin.subs(x, ii) for ii in [t0, t1, t2, t3]]\n",
    "x_n"
   ]
  },
  {
   "cell_type": "code",
   "execution_count": null,
   "id": "cdfe429e",
   "metadata": {},
   "outputs": [],
   "source": [
    "pol_dif = polin.diff(x)\n",
    "pol_dif"
   ]
  },
  {
   "cell_type": "code",
   "execution_count": null,
   "id": "5e1c5574",
   "metadata": {},
   "outputs": [],
   "source": []
  },
  {
   "cell_type": "code",
   "execution_count": 8,
   "id": "993a5412",
   "metadata": {},
   "outputs": [],
   "source": [
    "def x_roots(n):\n",
    "    return roots_jacobi(n+1, 1, 0)[0]\n",
    "def element(x, xm, xj):\n",
    "    return (x-xm)/(xj-xm)\n",
    "\n",
    "def L_pol(j,k):\n",
    "    prod = 1\n",
    "    #x_list = symbols(f'x_0:{k+1}')\n",
    "    x_list = x_roots(k)\n",
    "    for m in range(k+1):\n",
    "        if m != j:\n",
    "            prod *= element(x, x_list[m], x_list[j])\n",
    "    return expand(prod) \n",
    "\n",
    "def L_pol_sym(j,k):\n",
    "    prod = 1\n",
    "    x_list = symbols(f'x_0:{k+1}')\n",
    "    #x_list = x_roots(k)\n",
    "    for m in range(k+1):\n",
    "        if m != j:\n",
    "            prod *= element(x, x_list[m], x_list[j])\n",
    "    return expand(prod) \n",
    "\n",
    "def lagpol(n):\n",
    "    sumat = 0\n",
    "    q_list = symbols(f'f_0:{n+2}')\n",
    "    for ii in range(n+1):\n",
    "        sumat += L_pol(ii, n)*q_list[ii]\n",
    "    return sumat\n",
    "\n",
    "def lagpol_sym(n):\n",
    "    sumat = 0\n",
    "    q_list = symbols(f'f_0:{n+2}')\n",
    "    for ii in range(n+1):\n",
    "        sumat += L_pol_sym(ii, n)*q_list[ii]\n",
    "    return sumat\n",
    "\n",
    "def abcpol(n):\n",
    "    abc = symbols(f'a b c d e f g h i j k l m n o p q r s t u v w a_0:{max(0,n-22)}')\n",
    "    sumat = 0\n",
    "    for ii in range(n+1):\n",
    "        sumat += abc[ii]*x**ii\n",
    "    return sumat\n",
    "\n",
    "def lagpol_abc(n):\n",
    "    sumat = 0\n",
    "    x_list = x_roots(n)\n",
    "    abc = abcpol(2*n-1)\n",
    "    q_list = [abc.subs(x, x_list[ii]) for ii in range(n+1)]\n",
    "    for ii in range(n+1):\n",
    "        sumat += L_pol(ii, n)*q_list[ii]\n",
    "    return sumat"
   ]
  },
  {
   "cell_type": "code",
   "execution_count": 9,
   "id": "5eac20e2",
   "metadata": {},
   "outputs": [
    {
     "data": {
      "text/latex": [
       "$\\displaystyle f_{0} + \\frac{x \\left(- 3 f_{0} + 4 f_{1} - f_{2}\\right)}{h} + \\frac{x^{2} \\cdot \\left(2 f_{0} - 4 f_{1} + 2 f_{2}\\right)}{h^{2}}$"
      ],
      "text/plain": [
       "f_0 + x*(-3*f_0 + 4*f_1 - f_2)/h + x**2*(2*f_0 - 4*f_1 + 2*f_2)/h**2"
      ]
     },
     "execution_count": 9,
     "metadata": {},
     "output_type": "execute_result"
    }
   ],
   "source": [
    "psi_accel_hs = lagpol_sym(2).subs([\n",
    "    [symbols('x_0'), 0],\n",
    "    [symbols('x_1'), h*Rational(1,2)],\n",
    "    [symbols('x_2'), h]    \n",
    "]).expand().collect(h).collect(x)\n",
    "psi_accel_hs"
   ]
  },
  {
   "cell_type": "code",
   "execution_count": 10,
   "id": "5654d344",
   "metadata": {},
   "outputs": [
    {
     "data": {
      "text/latex": [
       "$\\displaystyle f_{0} t + q^{(M-1)}_0 + \\frac{t^{2} \\left(- 3 f_{0} + 4 f_{1} - f_{2}\\right)}{2 h} + \\frac{t^{3} \\cdot \\left(2 f_{0} - 4 f_{1} + 2 f_{2}\\right)}{3 h^{2}}$"
      ],
      "text/plain": [
       "f_0*t + q^{(M-1)}_0 + t**2*(-3*f_0 + 4*f_1 - f_2)/(2*h) + t**3*(2*f_0 - 4*f_1 + 2*f_2)/(3*h**2)"
      ]
     },
     "execution_count": 10,
     "metadata": {},
     "output_type": "execute_result"
    }
   ],
   "source": [
    "exp = integrate(psi_accel_hs, (x, 0, t))+symbols('q^{(M-1)}_0')\n",
    "exp"
   ]
  },
  {
   "cell_type": "code",
   "execution_count": 11,
   "id": "cbf7e64e",
   "metadata": {},
   "outputs": [
    {
     "data": {
      "text/latex": [
       "$\\displaystyle \\frac{f_{0} t^{2}}{2} + q^{(M-1)}_0 t + q^{(M-4)}_0 + \\frac{t^{3} \\left(- 3 f_{0} + 4 f_{1} - f_{2}\\right)}{6 h} + \\frac{t^{4} \\left(f_{0} - 2 f_{1} + f_{2}\\right)}{6 h^{2}}$"
      ],
      "text/plain": [
       "f_0*t**2/2 + q^{(M-1)}_0*t + q^{(M-4)}_0 + t**3*(-3*f_0 + 4*f_1 - f_2)/(6*h) + t**4*(f_0 - 2*f_1 + f_2)/(6*h**2)"
      ]
     },
     "execution_count": 11,
     "metadata": {},
     "output_type": "execute_result"
    }
   ],
   "source": [
    "exp = integrate(exp, (t, 0, t))+symbols('q^{(M-4)}_0')\n",
    "exp"
   ]
  },
  {
   "cell_type": "code",
   "execution_count": 12,
   "id": "301b0305",
   "metadata": {},
   "outputs": [],
   "source": [
    "from math import factorial"
   ]
  },
  {
   "cell_type": "code",
   "execution_count": null,
   "id": "d0c84d6e",
   "metadata": {},
   "outputs": [],
   "source": []
  },
  {
   "cell_type": "code",
   "execution_count": null,
   "id": "ac6901b1",
   "metadata": {},
   "outputs": [],
   "source": []
  },
  {
   "cell_type": "code",
   "execution_count": 13,
   "id": "4e35e930",
   "metadata": {},
   "outputs": [
    {
     "data": {
      "text/latex": [
       "$\\displaystyle f_{0} + \\frac{x \\left(- f_{0} + f_{1}\\right)}{h}$"
      ],
      "text/plain": [
       "f_0 + x*(-f_0 + f_1)/h"
      ]
     },
     "execution_count": 13,
     "metadata": {},
     "output_type": "execute_result"
    }
   ],
   "source": [
    "psi_accel_tz = lagpol_sym(1).subs([\n",
    "    [symbols('x_0'), 0],\n",
    "    [symbols('x_1'), h]    \n",
    "]).expand().collect(h).collect(x)\n",
    "psi_accel_tz"
   ]
  },
  {
   "cell_type": "code",
   "execution_count": 14,
   "id": "6c50fc48",
   "metadata": {},
   "outputs": [
    {
     "data": {
      "text/latex": [
       "$\\displaystyle f_{0} t + q^{(M-1)}_0 + \\frac{t^{2} \\left(- f_{0} + f_{1}\\right)}{2 h}$"
      ],
      "text/plain": [
       "f_0*t + q^{(M-1)}_0 + t**2*(-f_0 + f_1)/(2*h)"
      ]
     },
     "execution_count": 14,
     "metadata": {},
     "output_type": "execute_result"
    }
   ],
   "source": [
    "exp = integrate(psi_accel_tz, (x, 0, t))+symbols('q^{(M-1)}_0')\n",
    "exp"
   ]
  },
  {
   "cell_type": "code",
   "execution_count": 15,
   "id": "619cdea2",
   "metadata": {},
   "outputs": [
    {
     "data": {
      "text/latex": [
       "$\\displaystyle \\frac{f_{0} t^{2}}{2} + q^{(M-1)}_0 t + q^{(M-2)}_0 + \\frac{t^{3} \\left(- f_{0} + f_{1}\\right)}{6 h}$"
      ],
      "text/plain": [
       "f_0*t**2/2 + q^{(M-1)}_0*t + q^{(M-2)}_0 + t**3*(-f_0 + f_1)/(6*h)"
      ]
     },
     "execution_count": 15,
     "metadata": {},
     "output_type": "execute_result"
    }
   ],
   "source": [
    "exp = integrate(exp, (t, 0, t))+symbols('q^{(M-2)}_0')\n",
    "exp"
   ]
  },
  {
   "cell_type": "code",
   "execution_count": null,
   "id": "92886a47",
   "metadata": {},
   "outputs": [],
   "source": []
  },
  {
   "cell_type": "code",
   "execution_count": null,
   "id": "a64208c0",
   "metadata": {},
   "outputs": [],
   "source": []
  },
  {
   "cell_type": "code",
   "execution_count": null,
   "id": "fe918388",
   "metadata": {},
   "outputs": [],
   "source": []
  },
  {
   "cell_type": "code",
   "execution_count": 129,
   "id": "1ecf5114",
   "metadata": {},
   "outputs": [],
   "source": [
    "from chords.piecewise import fac, is2d, vec_len\n",
    "from copy import copy\n",
    "from numpy import (\n",
    "    zeros,\n",
    "    append,\n",
    "    concatenate,\n",
    "    linspace,\n",
    "    expand_dims,\n",
    "    interp,\n",
    "    array,\n",
    "    sum,\n",
    "    abs,\n",
    ")\n",
    "\n",
    "def get_x_divisions(x, order=2):\n",
    "    dim = vec_len(x) // order\n",
    "    x_list = []\n",
    "    if is2d(x):\n",
    "        for ii in range(order):\n",
    "            index = (slice(None, None), slice(dim * ii, dim * (ii + 1)))\n",
    "            print(index)\n",
    "            x_list.append(x[index])\n",
    "    else:\n",
    "        for ii in range(order):\n",
    "            index = slice(dim * ii, dim * (ii + 1))\n",
    "            x_list.append(x[index])\n",
    "    return x_list\n",
    "\n",
    "def generate_hs_m_funcs(order):\n",
    "    M = order  # in order to keep the paper naming\n",
    "    q_coefs = zeros(order)\n",
    "    for i in range(order):\n",
    "        q_coefs[i] = 1 / fac(i)\n",
    "    q_coefs_c = zeros(order - 1)\n",
    "    for i in range(order - 1):\n",
    "        q_coefs_c[i] = 1 / (2**i * fac(i))\n",
    "    g_coefs = zeros(order + 1)\n",
    "    g_coefs_c = zeros([order + 1, 5])\n",
    "    for l in range(1, order + 1):\n",
    "        g_coefs[l] = fac(l + 2)\n",
    "        g_coefs_c[l, 0] = 2**l * fac(l) * (l + 2)\n",
    "        g_coefs_c[l, 1] = 2 * l**2 + 4 * l - 3\n",
    "        g_coefs_c[l, 2] = 2 ** (l + 1) * fac(l + 2)\n",
    "        g_coefs_c[l, 3] = 2 * l**2 + 2 * l - 1\n",
    "        g_coefs_c[l, 4] = -2 * l - 1\n",
    "\n",
    "    def hs_m_half_x(x, x_n, a, a_n, dt):\n",
    "        x_c = copy(x)\n",
    "        x_list = get_x_divisions(x, order)\n",
    "        x_n_list = get_x_divisions(x_n, order)\n",
    "        x_c_list = get_x_divisions(x_c, order)\n",
    "        v = x_list[-1]  # V represents here the highest q derivative contained in x\n",
    "        v_n = x_n_list[-1]\n",
    "        for l in range(1, M + 1):\n",
    "            print( x_c_list[M - l])\n",
    "            print(\n",
    "                dt ** (l - 1) / g_coefs_c[l, 0] * (3 * v_n + g_coefs_c[l, 1] * v)\n",
    "            )\n",
    "            x_c_list[M - l][:,:] = (\n",
    "                dt ** (l - 1) / g_coefs_c[l, 0] * (3 * v_n + g_coefs_c[l, 1] * v)\n",
    "            )\n",
    "            x_c_list[M - l][:,:] = x_c_list[M - l] + dt**l / g_coefs_c[l, 2] * (\n",
    "                g_coefs_c[l, 3] * a + g_coefs_c[l, 4] * a_n\n",
    "            )\n",
    "            for i in range(l - 1):\n",
    "                x_c_list[M - l][:,:] = (\n",
    "                    x_c_list[M - l] + dt**i * q_coefs_c[i] * x_list[i + M - l]\n",
    "                )\n",
    "        return x_c, x_c_list\n",
    "\n",
    "    def hs_m_accel_restr(x, x_n, a, a_n, dt, scheme_params):\n",
    "        a_c = scheme_params.T\n",
    "        res = copy(x)\n",
    "        x_list = get_x_divisions(x, order)\n",
    "        res_list = get_x_divisions(res, order)\n",
    "        for l in range(1, M + 1):\n",
    "            res_list[M - l][:,:] = (\n",
    "                dt**l / g_coefs[l] * (l**2 * a + 4 * l * a_c + (2 - l) * a_n)\n",
    "            )\n",
    "            print(f'res:{res} res_list:{res_list}')\n",
    "            for i in range(l):\n",
    "                res_list[M - l][:,:] = (\n",
    "                    res_list[M - l] + dt**i * q_coefs[i] * x_list[i + M - l]\n",
    "                )\n",
    "        return x_n - res\n",
    "\n",
    "    return hs_m_half_x, hs_m_accel_restr"
   ]
  },
  {
   "cell_type": "code",
   "execution_count": 130,
   "id": "1b65606d",
   "metadata": {},
   "outputs": [],
   "source": [
    "_xc, _rest = generate_hs_m_funcs(3)"
   ]
  },
  {
   "cell_type": "code",
   "execution_count": 131,
   "id": "3b2e5be0",
   "metadata": {},
   "outputs": [
    {
     "data": {
      "image/png": "[encoded data removed]",
      "text/latex": [
       "$\\displaystyle \\left( q_{k}, \\  q_{k+1}, \\  q_{c}, \\  v_{k}, \\  v_{k+1}, \\  v_{c}, \\  a_{k}, \\  a_{k+1}, \\  a_{c}, \\  g_{k}, \\  g_{k+1}, \\  g_{c}\\right)$"
      ],
      "text/plain": [
       "(qₖ, q_{k+1}, q_c, vₖ, v_{k+1}, v_c, aₖ, a_{k+1}, a_c, gₖ, g_{k+1}, g_c)"
      ]
     },
     "execution_count": 131,
     "metadata": {},
     "output_type": "execute_result"
    }
   ],
   "source": [
    "q_0, q_1, q_c,v_0, v_1, v_c, a_0, a_1, a_c, g_0, g_1, g_c = symbols(\n",
    "    'q_k q_{k+1} q_c v_k v_{k+1} v_c a_k a_{k+1} a_c g_k g_{k+1} g_c '\n",
    ")\n",
    "q_0, q_1, q_c,v_0, v_1, v_c, a_0, a_1, a_c, g_0, g_1, g_c"
   ]
  },
  {
   "cell_type": "code",
   "execution_count": 132,
   "id": "e85be326",
   "metadata": {},
   "outputs": [],
   "source": [
    "x_0 = Matrix([[q_0, v_0, a_0]])\n",
    "x_1 = Matrix([[q_1, v_1, a_1]])\n",
    "x_c = Matrix([[q_c, v_c, a_c]])"
   ]
  },
  {
   "cell_type": "code",
   "execution_count": 133,
   "id": "57dff1b9",
   "metadata": {},
   "outputs": [
    {
     "name": "stdout",
     "output_type": "stream",
     "text": [
      "(slice(None, None, None), slice(0, 1, None))\n",
      "(slice(None, None, None), slice(1, 2, None))\n",
      "(slice(None, None, None), slice(2, 3, None))\n",
      "(slice(None, None, None), slice(0, 1, None))\n",
      "(slice(None, None, None), slice(1, 2, None))\n",
      "(slice(None, None, None), slice(2, 3, None))\n",
      "(slice(None, None, None), slice(0, 1, None))\n",
      "(slice(None, None, None), slice(1, 2, None))\n",
      "(slice(None, None, None), slice(2, 3, None))\n",
      "Matrix([[a_k]])\n",
      "Matrix([[0.5*a_k + 0.5*a_{k+1}]])\n",
      "Matrix([[v_k]])\n",
      "Matrix([[0.03125*h*(13.0*a_k + 3*a_{k+1})]])\n",
      "Matrix([[q_k]])\n",
      "Matrix([[0.00416666666666667*h**2*(27.0*a_k + 3*a_{k+1})]])\n"
     ]
    },
    {
     "data": {
      "image/png": "[encoded data removed]",
      "text/latex": [
       "$\\displaystyle \\left( \\left[\\begin{matrix}q_{k} & v_{k} & a_{k}\\end{matrix}\\right], \\  \\left[ \\left[\\begin{matrix}0.000520833333333333 h^{3} \\cdot \\left(23.0 g_{k} - 7.0 g_{k+1}\\right) + 0.00416666666666667 h^{2} \\cdot \\left(27.0 a_{k} + 3 a_{k+1}\\right) + 0.5 h v_{k} + q_{k}\\end{matrix}\\right], \\  \\left[\\begin{matrix}0.00520833333333333 h^{2} \\cdot \\left(11.0 g_{k} - 5.0 g_{k+1}\\right) + 0.03125 h \\left(13.0 a_{k} + 3 a_{k+1}\\right) + v_{k}\\end{matrix}\\right], \\  \\left[\\begin{matrix}0.5 a_{k} + 0.5 a_{k+1} + 0.0416666666666667 h \\left(3.0 g_{k} - 3.0 g_{k+1}\\right)\\end{matrix}\\right]\\right]\\right)$"
      ],
      "text/plain": [
       "⎛              ⎡⎡                      3                                      \n",
       "⎝[qₖ  vₖ  aₖ], ⎣⎣0.000520833333333333⋅h ⋅(23.0⋅gₖ - 7.0⋅g_{k+1}) + 0.004166666\n",
       "\n",
       "          2                                      ⎤  ⎡                     2   \n",
       "66666667⋅h ⋅(27.0⋅aₖ + 3⋅a_{k+1}) + 0.5⋅h⋅vₖ + qₖ⎦, ⎣0.00520833333333333⋅h ⋅(1\n",
       "\n",
       "                                                            ⎤                 \n",
       "1.0⋅gₖ - 5.0⋅g_{k+1}) + 0.03125⋅h⋅(13.0⋅aₖ + 3⋅a_{k+1}) + vₖ⎦, [0.5⋅aₖ + 0.5⋅a\n",
       "\n",
       "                                                     ⎤⎞\n",
       "_{k+1} + 0.0416666666666667⋅h⋅(3.0⋅gₖ - 3.0⋅g_{k+1})]⎦⎠"
      ]
     },
     "execution_count": 133,
     "metadata": {},
     "output_type": "execute_result"
    }
   ],
   "source": [
    "_xc(x_0, x_1, Matrix([[g_0]]), Matrix([[g_1]]), h)"
   ]
  },
  {
   "cell_type": "code",
   "execution_count": 134,
   "id": "30f01573",
   "metadata": {},
   "outputs": [
    {
     "name": "stdout",
     "output_type": "stream",
     "text": [
      "[q_k, v_k, a_k]\n"
     ]
    }
   ],
   "source": [
    "print(x_0[:])"
   ]
  },
  {
   "cell_type": "code",
   "execution_count": 135,
   "id": "d4a03bdc",
   "metadata": {},
   "outputs": [
    {
     "name": "stdout",
     "output_type": "stream",
     "text": [
      "(slice(None, None, None), slice(0, 1, None))\n",
      "(slice(None, None, None), slice(1, 2, None))\n",
      "(slice(None, None, None), slice(2, 3, None))\n",
      "(slice(None, None, None), slice(0, 1, None))\n",
      "(slice(None, None, None), slice(1, 2, None))\n",
      "(slice(None, None, None), slice(2, 3, None))\n",
      "res:Matrix([[q_k, v_k, a_k]]) res_list:[Matrix([[q_k]]), Matrix([[v_k]]), Matrix([[0.166666666666667*h*(4*g_c + g_k + g_{k+1})]])]\n",
      "res:Matrix([[q_k, v_k, a_k]]) res_list:[Matrix([[q_k]]), Matrix([[0.0416666666666667*h**2*(8*g_c + 4*g_k)]]), Matrix([[a_k + 0.166666666666667*h*(4*g_c + g_k + g_{k+1})]])]\n",
      "res:Matrix([[q_k, v_k, a_k]]) res_list:[Matrix([[0.00833333333333333*h**3*(12*g_c + 9*g_k - g_{k+1})]]), Matrix([[1.0*a_k*h + 0.0416666666666667*h**2*(8*g_c + 4*g_k) + v_k]]), Matrix([[a_k + 0.166666666666667*h*(4*g_c + g_k + g_{k+1})]])]\n"
     ]
    },
    {
     "data": {
      "image/png": "[encoded data removed]",
      "text/latex": [
       "$\\displaystyle \\left[\\begin{matrix}- q_{k} + q_{k+1} & - v_{k} + v_{k+1} & - a_{k} + a_{k+1}\\end{matrix}\\right]$"
      ],
      "text/plain": [
       "[-qₖ + q_{k+1}  -vₖ + v_{k+1}  -aₖ + a_{k+1}]"
      ]
     },
     "execution_count": 135,
     "metadata": {},
     "output_type": "execute_result"
    }
   ],
   "source": [
    "_rest(x_0, x_1, Matrix([[g_0]]), Matrix([[g_1]]), h, Matrix([[g_c]]))"
   ]
  },
  {
   "cell_type": "code",
   "execution_count": 107,
   "id": "24407675",
   "metadata": {},
   "outputs": [
    {
     "data": {
      "image/png": "[encoded data removed]",
      "text/latex": [
       "$\\displaystyle \\left[\\begin{matrix}q_{k} & v_{k} & 3\\end{matrix}\\right]$"
      ],
      "text/plain": [
       "[qₖ  vₖ  3]"
      ]
     },
     "execution_count": 107,
     "metadata": {},
     "output_type": "execute_result"
    }
   ],
   "source": [
    "x_0"
   ]
  },
  {
   "cell_type": "code",
   "execution_count": 144,
   "id": "cba96116",
   "metadata": {},
   "outputs": [],
   "source": [
    "_z = x_0[(slice(None, None, None), slice(1, 2, None))]"
   ]
  },
  {
   "cell_type": "code",
   "execution_count": 146,
   "id": "89981b53",
   "metadata": {},
   "outputs": [],
   "source": [
    "_z[:,:] = Matrix([[3]])"
   ]
  },
  {
   "cell_type": "code",
   "execution_count": 147,
   "id": "6072d91b",
   "metadata": {},
   "outputs": [
    {
     "data": {
      "image/png": "[encoded data removed]",
      "text/latex": [
       "$\\displaystyle \\left[\\begin{matrix}q_{k} & v_{k} & a_{k}\\end{matrix}\\right]$"
      ],
      "text/plain": [
       "[qₖ  vₖ  aₖ]"
      ]
     },
     "execution_count": 147,
     "metadata": {},
     "output_type": "execute_result"
    }
   ],
   "source": [
    "x_0"
   ]
  },
  {
   "cell_type": "code",
   "execution_count": 148,
   "id": "486338a4",
   "metadata": {},
   "outputs": [
    {
     "data": {
      "image/png": "[encoded data removed]",
      "text/latex": [
       "$\\displaystyle \\left[\\begin{matrix}3\\end{matrix}\\right]$"
      ],
      "text/plain": [
       "[3]"
      ]
     },
     "execution_count": 148,
     "metadata": {},
     "output_type": "execute_result"
    }
   ],
   "source": [
    "_z"
   ]
  },
  {
   "cell_type": "code",
   "execution_count": 113,
   "id": "546eb538",
   "metadata": {},
   "outputs": [],
   "source": [
    "_z = get_x_divisions(x_0,3)"
   ]
  },
  {
   "cell_type": "code",
   "execution_count": 117,
   "id": "894e497e",
   "metadata": {},
   "outputs": [],
   "source": [
    "_z[0][:,:] = Matrix([[3]])"
   ]
  },
  {
   "cell_type": "code",
   "execution_count": 118,
   "id": "f431ae1f",
   "metadata": {},
   "outputs": [
    {
     "data": {
      "image/png": "[encoded data removed]",
      "text/latex": [
       "$\\displaystyle \\left[ \\left[\\begin{matrix}3\\end{matrix}\\right], \\  \\left[\\begin{matrix}v_{k+1}\\end{matrix}\\right], \\  \\left[\\begin{matrix}a_{k+1}\\end{matrix}\\right]\\right]$"
      ],
      "text/plain": [
       "[[3], [v_{k+1}], [a_{k+1}]]"
      ]
     },
     "execution_count": 118,
     "metadata": {},
     "output_type": "execute_result"
    }
   ],
   "source": [
    "_z"
   ]
  },
  {
   "cell_type": "code",
   "execution_count": 119,
   "id": "b5113298",
   "metadata": {},
   "outputs": [
    {
     "data": {
      "image/png": "[encoded data removed]",
      "text/latex": [
       "$\\displaystyle \\left[\\begin{matrix}q_{k+1} & v_{k+1} & a_{k+1}\\end{matrix}\\right]$"
      ],
      "text/plain": [
       "[q_{k+1}  v_{k+1}  a_{k+1}]"
      ]
     },
     "execution_count": 119,
     "metadata": {},
     "output_type": "execute_result"
    }
   ],
   "source": [
    "x_0"
   ]
  },
  {
   "cell_type": "code",
   "execution_count": 121,
   "id": "67cea1d8",
   "metadata": {},
   "outputs": [
    {
     "data": {
      "text/plain": [
       "True"
      ]
     },
     "execution_count": 121,
     "metadata": {},
     "output_type": "execute_result"
    }
   ],
   "source": [
    "is2d(x_0)"
   ]
  },
  {
   "cell_type": "code",
   "execution_count": null,
   "id": "29b0ee4b",
   "metadata": {},
   "outputs": [],
   "source": []
  }
 ],
 "metadata": {
  "kernelspec": {
   "display_name": "Python 3 (ipykernel)",
   "language": "python",
   "name": "python3"
  },
  "language_info": {
   "codemirror_mode": {
    "name": "ipython",
    "version": 3
   },
   "file_extension": ".py",
   "mimetype": "text/x-python",
   "name": "python",
   "nbconvert_exporter": "python",
   "pygments_lexer": "ipython3",
   "version": "3.11.3"
  }
 },
 "nbformat": 4,
 "nbformat_minor": 5
}
