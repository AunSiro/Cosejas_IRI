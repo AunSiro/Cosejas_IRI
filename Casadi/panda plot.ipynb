{
 "cells": [
  {
   "cell_type": "markdown",
   "id": "955eac95",
   "metadata": {},
   "source": [
    "import roboticstoolbox as rtb\n",
    "robot = rtb.models.Panda()"
   ]
  },
  {
   "cell_type": "code",
   "execution_count": null,
   "id": "cf325bf9",
   "metadata": {},
   "outputs": [],
   "source": [
    "from roboticstoolbox.models.DH import Panda\n",
    "panda = Panda()"
   ]
  },
  {
   "cell_type": "code",
   "execution_count": null,
   "id": "460c9609",
   "metadata": {},
   "outputs": [],
   "source": [
    "import numpy as np\n",
    "import matplotlib.pyplot as plt"
   ]
  },
  {
   "cell_type": "code",
   "execution_count": null,
   "id": "4617f6df",
   "metadata": {},
   "outputs": [],
   "source": [
    "q_arr = np.random.rand(10,7)"
   ]
  },
  {
   "cell_type": "code",
   "execution_count": null,
   "id": "9fbe71c8",
   "metadata": {},
   "outputs": [],
   "source": [
    "_path = panda.fkine_all(q_arr[0])"
   ]
  },
  {
   "cell_type": "code",
   "execution_count": null,
   "id": "adf36257",
   "metadata": {},
   "outputs": [],
   "source": [
    "_aa = _path[7]\n",
    "_aa"
   ]
  },
  {
   "cell_type": "code",
   "execution_count": null,
   "id": "62d878f4",
   "metadata": {},
   "outputs": [],
   "source": [
    "_aa.t"
   ]
  },
  {
   "cell_type": "code",
   "execution_count": null,
   "id": "3bf4f79f",
   "metadata": {},
   "outputs": [],
   "source": [
    "def tray_nodes(q_arr, tool_l = 0.103):\n",
    "    from roboticstoolbox.models.DH import Panda\n",
    "    panda = Panda()\n",
    "    panda.tool.t[2] = tool_l\n",
    "    \n",
    "    l = q_arr.shape[0]\n",
    "    result = np.zeros([8,l,3])\n",
    "    for ii in range(l):\n",
    "        config = panda.fkine_all(q_arr[ii,:])\n",
    "        for jj in range(8):\n",
    "            result[jj,ii,:] = config[jj].t\n",
    "    return result"
   ]
  },
  {
   "cell_type": "code",
   "execution_count": null,
   "id": "9240fe12",
   "metadata": {},
   "outputs": [],
   "source": [
    "def end_eff(q_arr, tool_l = 0.103):\n",
    "    from roboticstoolbox.models.DH import Panda\n",
    "    panda = Panda()\n",
    "    panda.tool.t[2] = tool_l\n",
    "    \n",
    "    l = q_arr.shape[0]\n",
    "    result = np.zeros([l,3])\n",
    "    for ii in range(l):\n",
    "        config = panda.fkine(q_arr[ii,:])\n",
    "        result[ii,:] = config.t\n",
    "    return result"
   ]
  },
  {
   "cell_type": "code",
   "execution_count": null,
   "id": "1b538a79",
   "metadata": {},
   "outputs": [],
   "source": [
    "tray_nodes(q_arr)"
   ]
  },
  {
   "cell_type": "code",
   "execution_count": null,
   "id": "ef7f0d38",
   "metadata": {},
   "outputs": [],
   "source": [
    "panda.plot(q_arr[0])"
   ]
  },
  {
   "cell_type": "code",
   "execution_count": null,
   "id": "37fc09dd",
   "metadata": {},
   "outputs": [],
   "source": [
    "%matplotlib notebook"
   ]
  },
  {
   "cell_type": "code",
   "execution_count": null,
   "id": "708175fd",
   "metadata": {},
   "outputs": [],
   "source": [
    "q_tr = np.loadtxt('panda_q_traj.txt')"
   ]
  },
  {
   "cell_type": "code",
   "execution_count": null,
   "id": "c7993874",
   "metadata": {},
   "outputs": [],
   "source": [
    "q_tr.shape"
   ]
  },
  {
   "cell_type": "code",
   "execution_count": null,
   "id": "7ad2dd1e",
   "metadata": {},
   "outputs": [],
   "source": [
    "from mpl_toolkits.mplot3d import Axes3D"
   ]
  },
  {
   "cell_type": "code",
   "execution_count": null,
   "id": "c265a1f7",
   "metadata": {},
   "outputs": [],
   "source": [
    "fig_0 = plt.figure(figsize=[8,8])\n"
   ]
  },
  {
   "cell_type": "markdown",
   "id": "9d5c1feb",
   "metadata": {},
   "source": [
    "ax = Axes3D(fig_0, \n",
    "            auto_add_to_figure=False,\n",
    "            azim=0,\n",
    "            elev=10,)\n",
    "fig_0.add_axes(ax)"
   ]
  },
  {
   "cell_type": "code",
   "execution_count": null,
   "id": "36d4134c",
   "metadata": {},
   "outputs": [],
   "source": [
    "\n",
    "_plot = panda.plot(q_tr[0], dt = 0.04, limits=[-0.5, 0.5, -0.5, 0.5, 0, 1], fig = fig_0,\n",
    "           movie='panda_traj_0.gif',block = False)\n",
    "_plot.ax.azim = -82\n"
   ]
  },
  {
   "cell_type": "code",
   "execution_count": null,
   "id": "4cc04906",
   "metadata": {},
   "outputs": [],
   "source": [
    "panda.plot(q_tr[:5], dt = 0.04, limits=[-0.5, 0.5, -0.5, 0.5, 0, 1], fig = fig_0,\n",
    "           movie='panda_traj_0.gif',block = False)"
   ]
  },
  {
   "cell_type": "code",
   "execution_count": null,
   "id": "7fb30d30",
   "metadata": {},
   "outputs": [],
   "source": [
    "_plot.ax.azim = -82"
   ]
  },
  {
   "cell_type": "code",
   "execution_count": null,
   "id": "4bb39f61",
   "metadata": {},
   "outputs": [],
   "source": [
    "_plot.step()"
   ]
  },
  {
   "cell_type": "code",
   "execution_count": null,
   "id": "b74dc6c6",
   "metadata": {},
   "outputs": [],
   "source": [
    "panda.tool.t[2] = 0.103"
   ]
  },
  {
   "cell_type": "code",
   "execution_count": null,
   "id": "0cff3af5",
   "metadata": {},
   "outputs": [],
   "source": [
    "panda.tool.t[2] = 0.2"
   ]
  },
  {
   "cell_type": "code",
   "execution_count": null,
   "id": "f768221d",
   "metadata": {},
   "outputs": [],
   "source": [
    "panda.fkine(q0)"
   ]
  },
  {
   "cell_type": "code",
   "execution_count": null,
   "id": "46da0986",
   "metadata": {},
   "outputs": [],
   "source": [
    "panda.fkine_all(q0)"
   ]
  },
  {
   "cell_type": "code",
   "execution_count": null,
   "id": "3523719c",
   "metadata": {},
   "outputs": [],
   "source": []
  },
  {
   "cell_type": "code",
   "execution_count": null,
   "id": "5c778916",
   "metadata": {},
   "outputs": [],
   "source": []
  },
  {
   "cell_type": "code",
   "execution_count": null,
   "id": "1f288747",
   "metadata": {},
   "outputs": [],
   "source": []
  },
  {
   "cell_type": "code",
   "execution_count": null,
   "id": "5e955fe7",
   "metadata": {},
   "outputs": [],
   "source": []
  },
  {
   "cell_type": "code",
   "execution_count": null,
   "id": "a4fa695d",
   "metadata": {},
   "outputs": [],
   "source": [
    "from pinocchio.visualize import MeshcatVisualizer\n",
    "import meshcat.geometry as geo\n",
    "import meshcat.transformations as tf\n",
    "import meshcat\n",
    "import pinocchio as pin"
   ]
  },
  {
   "cell_type": "code",
   "execution_count": null,
   "id": "57903cc1",
   "metadata": {},
   "outputs": [],
   "source": [
    "from example_robot_data import load"
   ]
  },
  {
   "cell_type": "code",
   "execution_count": null,
   "id": "e555c59f",
   "metadata": {},
   "outputs": [],
   "source": [
    "robot = load('panda')"
   ]
  },
  {
   "cell_type": "code",
   "execution_count": null,
   "id": "4aa1ca80",
   "metadata": {
    "scrolled": true
   },
   "outputs": [],
   "source": [
    "robot.initViewer(loadModel=True)"
   ]
  },
  {
   "cell_type": "code",
   "execution_count": null,
   "id": "d8623883",
   "metadata": {},
   "outputs": [],
   "source": [
    "viz = MeshcatVisualizer(robot.model, robot.collision_model, robot.visual_model)"
   ]
  },
  {
   "cell_type": "code",
   "execution_count": null,
   "id": "9aedbd73",
   "metadata": {},
   "outputs": [],
   "source": [
    "# Start a new MeshCat server and client.\n",
    "# Note: the server can also be started separately using the \"meshcat-server\" command in a terminal:\n",
    "# this enables the server to remain active after the current script ends.\n",
    "#\n",
    "# Option open=True pens the visualizer.\n",
    "# Note: the visualizer can also be opened seperately by visiting the provided URL.\n",
    "try:\n",
    "    viz.initViewer(open=False)\n",
    "except ImportError as err:\n",
    "    print(\"Error while initializing the viewer. It seems you should install Python meshcat\")\n",
    "    print(err)\n",
    "    sys.exit(0)"
   ]
  },
  {
   "cell_type": "code",
   "execution_count": null,
   "id": "8f3ff183",
   "metadata": {},
   "outputs": [],
   "source": [
    "viz.viewer.jupyter_cell()"
   ]
  },
  {
   "cell_type": "code",
   "execution_count": null,
   "id": "83a9e979",
   "metadata": {},
   "outputs": [],
   "source": [
    "viz.loadViewerModel()"
   ]
  },
  {
   "cell_type": "code",
   "execution_count": null,
   "id": "84e69501",
   "metadata": {},
   "outputs": [],
   "source": [
    "q0 = pin.neutral(robot.model)\n",
    "viz.display(q0)"
   ]
  },
  {
   "cell_type": "code",
   "execution_count": null,
   "id": "569ff76d",
   "metadata": {},
   "outputs": [],
   "source": [
    "q0[-2:] = [0.03,0.03]\n",
    "viz.display(q0)\n",
    "q0"
   ]
  },
  {
   "cell_type": "code",
   "execution_count": null,
   "id": "6ab609a8",
   "metadata": {},
   "outputs": [],
   "source": [
    "# Create a list of joints to lock\n",
    "jointsToLock = ['panda_finger_joint1','panda_finger_joint2']\n",
    " \n",
    "# Get the ID of all existing joints\n",
    "jointsToLockIDs = []\n",
    "for jn in jointsToLock:\n",
    "    if robot.model.existJointName(jn):\n",
    "        jointsToLockIDs.append(robot.model.getJointId(jn))\n",
    "    else:\n",
    "        print('Warning: joint ' + str(jn) + ' does not belong to the model!')"
   ]
  },
  {
   "cell_type": "code",
   "execution_count": null,
   "id": "1b7228ff",
   "metadata": {},
   "outputs": [],
   "source": [
    "robot = robot.buildReducedRobot(list_of_joints_to_lock=jointsToLockIDs, reference_configuration=q0)"
   ]
  },
  {
   "cell_type": "code",
   "execution_count": null,
   "id": "ec1f1799",
   "metadata": {},
   "outputs": [],
   "source": [
    "viz = MeshcatVisualizer(robot.model, robot.collision_model, robot.visual_model)"
   ]
  },
  {
   "cell_type": "code",
   "execution_count": null,
   "id": "c3b09a89",
   "metadata": {},
   "outputs": [],
   "source": [
    "# Start a new MeshCat server and client.\n",
    "# Note: the server can also be started separately using the \"meshcat-server\" command in a terminal:\n",
    "# this enables the server to remain active after the current script ends.\n",
    "#\n",
    "# Option open=True pens the visualizer.\n",
    "# Note: the visualizer can also be opened seperately by visiting the provided URL.\n",
    "try:\n",
    "    viz.initViewer(open=False)\n",
    "except ImportError as err:\n",
    "    print(\"Error while initializing the viewer. It seems you should install Python meshcat\")\n",
    "    print(err)\n",
    "    sys.exit(0)"
   ]
  },
  {
   "cell_type": "code",
   "execution_count": null,
   "id": "6fd3ab3d",
   "metadata": {
    "scrolled": false
   },
   "outputs": [],
   "source": [
    "viz.viewer.jupyter_cell()"
   ]
  },
  {
   "cell_type": "markdown",
   "id": "f51b9dd9",
   "metadata": {},
   "source": [
    "display_robot_and_ball(q_tr, xyz_eff, frame_t = 0.02, t_end=1, n_extend = 40, brake_n = 15)"
   ]
  },
  {
   "cell_type": "code",
   "execution_count": null,
   "id": "9e0cb2df",
   "metadata": {},
   "outputs": [],
   "source": [
    "viz.loadViewerModel()"
   ]
  },
  {
   "cell_type": "code",
   "execution_count": null,
   "id": "3c1bab22",
   "metadata": {},
   "outputs": [],
   "source": []
  },
  {
   "cell_type": "code",
   "execution_count": null,
   "id": "60845808",
   "metadata": {},
   "outputs": [],
   "source": [
    "q0 = pin.neutral(robot.model)\n",
    "viz.display(q0)"
   ]
  },
  {
   "cell_type": "code",
   "execution_count": null,
   "id": "8db7e86b",
   "metadata": {},
   "outputs": [],
   "source": [
    "\n",
    "viz.displayCollisions(False)\n",
    "viz.displayVisuals(True)"
   ]
  },
  {
   "cell_type": "code",
   "execution_count": null,
   "id": "0bb763fa",
   "metadata": {},
   "outputs": [],
   "source": [
    "from time import sleep"
   ]
  },
  {
   "cell_type": "code",
   "execution_count": null,
   "id": "237ac178",
   "metadata": {},
   "outputs": [],
   "source": [
    "q_tr = np.loadtxt('panda_q_traj.txt')[:,:7]\n",
    "v_tr = np.loadtxt('panda_q_traj.txt')[:,7:]\n",
    "xyz_eff = end_eff(q_tr, tool_l=0.103)"
   ]
  },
  {
   "cell_type": "code",
   "execution_count": null,
   "id": "360a45da",
   "metadata": {},
   "outputs": [],
   "source": [
    "cart_v(q_tr[-1], v_tr[-1])"
   ]
  },
  {
   "cell_type": "code",
   "execution_count": null,
   "id": "86bbe3f6",
   "metadata": {},
   "outputs": [],
   "source": [
    "viz.display(q_tr[0])\n",
    "viz.viewer[\"sphere\"].set_object(geo.Sphere(0.03),geo.MeshLambertMaterial(color=0x22dd22))\n",
    "viz.viewer[\"sphere\"].set_transform(tf.translation_matrix(xyz_eff[0,:]))"
   ]
  },
  {
   "cell_type": "code",
   "execution_count": null,
   "id": "7bece8fa",
   "metadata": {},
   "outputs": [],
   "source": [
    "def cart_v(q_p, qdot):\n",
    "    jacmat = panda.jacob0(q = q_p, half = 'trans')\n",
    "    return jacmat@ qdot\n",
    "\n",
    "def grav_step(q, v, dt):\n",
    "    q_n = q + dt * v\n",
    "    v_n = v + dt * np.array([0,0,-9.8])\n",
    "    return q_n, v_n\n",
    "\n",
    "def grav_tray(q, v, dt, n_steps):\n",
    "    q_arr = []\n",
    "    for ii in range(n_steps):\n",
    "        q_n, v_n = grav_step(q, v, dt)\n",
    "        q_arr.append(q_n)\n",
    "        q, v, = q_n, v_n\n",
    "    return np.array(q_arr)\n",
    "\n",
    "def brake_tray(q, v, dt, n_steps):\n",
    "    if n_steps<1:\n",
    "        return np.zeros([0,7])\n",
    "    delta_t = dt*n_steps\n",
    "    alpha = v/delta_t\n",
    "    t_arr = np.expand_dims(np.linspace(0, delta_t, n_steps+1),1)\n",
    "    q_arr = q + v*t_arr-0.5*alpha*t_arr**2\n",
    "    return q_arr[1:]"
   ]
  },
  {
   "cell_type": "code",
   "execution_count": null,
   "id": "197d7533",
   "metadata": {},
   "outputs": [],
   "source": [
    "def display_robot_and_ball(robot_q, ball_q, frame_t = 0.04, t_end=1., n_extend = 25, brake_n = 10):\n",
    "    \n",
    "    dt = t_end/q_tr.shape[0]\n",
    "    ball_v = cart_v(robot_q[-1], v_tr[-1])\n",
    "    ball_add = grav_tray(ball_q[-1], ball_v, dt, n_extend)\n",
    "    ball_q = np.concatenate([ball_q, ball_add], axis = 0)\n",
    "    robot_add = brake_tray(robot_q[-1], v_tr[-1], dt, brake_n)\n",
    "    robot_q = np.concatenate([robot_q, robot_add], axis=0)\n",
    "    \n",
    "    frames = max(robot_q.shape[0], ball_q.shape[0])\n",
    "    for ii in range(frames):\n",
    "        try:\n",
    "            viz.display(robot_q[ii])\n",
    "        except IndexError:\n",
    "            viz.display(robot_q[-1])\n",
    "        \n",
    "        try:\n",
    "            viz.viewer[\"sphere\"].set_transform(tf.translation_matrix(ball_q[ii]))\n",
    "        except IndexError:\n",
    "            viz.viewer[\"sphere\"].set_transform(tf.translation_matrix(ball_q[-1]))\n",
    "        sleep(frame_t)"
   ]
  },
  {
   "cell_type": "code",
   "execution_count": null,
   "id": "88aa2f09",
   "metadata": {
    "scrolled": true
   },
   "outputs": [],
   "source": [
    "for ii in range(75):\n",
    "    viz.display(q_tr[ii])\n",
    "    viz.viewer[\"sphere\"].set_transform(tf.translation_matrix(xyz_eff[ii,:]))\n",
    "    sleep(1/75)"
   ]
  },
  {
   "cell_type": "code",
   "execution_count": null,
   "id": "9ba1ec14",
   "metadata": {},
   "outputs": [],
   "source": [
    "for jj in range(1):"
   ]
  },
  {
   "cell_type": "code",
   "execution_count": null,
   "id": "d094af63",
   "metadata": {
    "scrolled": true
   },
   "outputs": [],
   "source": [
    "viz.viewer[\"traj\"].set_object(\n",
    "    geo.PointCloud(position=xyz_eff, color=np.random.rand(*xyz_eff.shape)),\n",
    ")"
   ]
  },
  {
   "cell_type": "code",
   "execution_count": null,
   "id": "e8fb72cd",
   "metadata": {
    "scrolled": true
   },
   "outputs": [],
   "source": [
    "viz.viewer[\"traj\"].set_object(geo.Line(geo.PointsGeometry(xyz_eff)))\n",
    "viz.viewer[\"traj\"].set_transform(tf.translation_matrix([0, 1, 0]))"
   ]
  },
  {
   "cell_type": "code",
   "execution_count": null,
   "id": "14226ee8",
   "metadata": {},
   "outputs": [],
   "source": [
    "viz.viewer[\"box\"].delete()"
   ]
  },
  {
   "cell_type": "code",
   "execution_count": null,
   "id": "6f08da9b",
   "metadata": {
    "scrolled": true
   },
   "outputs": [],
   "source": [
    "viz.viewer[\"traj\"].set_object(geo.PointCloud(position=xyz_eff, color=None))"
   ]
  },
  {
   "cell_type": "code",
   "execution_count": null,
   "id": "bf50562c",
   "metadata": {},
   "outputs": [],
   "source": [
    "geo.Line(xyz_eff)"
   ]
  },
  {
   "cell_type": "code",
   "execution_count": null,
   "id": "f2390424",
   "metadata": {},
   "outputs": [],
   "source": []
  },
  {
   "cell_type": "code",
   "execution_count": null,
   "id": "adab821c",
   "metadata": {},
   "outputs": [],
   "source": []
  }
 ],
 "metadata": {
  "kernelspec": {
   "display_name": "Python 3 (ipykernel)",
   "language": "python",
   "name": "python3"
  },
  "language_info": {
   "codemirror_mode": {
    "name": "ipython",
    "version": 3
   },
   "file_extension": ".py",
   "mimetype": "text/x-python",
   "name": "python",
   "nbconvert_exporter": "python",
   "pygments_lexer": "ipython3",
   "version": "3.9.15"
  }
 },
 "nbformat": 4,
 "nbformat_minor": 5
}
