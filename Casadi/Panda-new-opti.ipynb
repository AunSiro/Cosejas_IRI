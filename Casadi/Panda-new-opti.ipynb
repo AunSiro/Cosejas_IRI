{
 "cells": [
  {
   "cell_type": "code",
   "execution_count": null,
   "id": "e4433cc5",
   "metadata": {},
   "outputs": [],
   "source": [
    "import numpy as np\n",
    "import matplotlib.pyplot as plt"
   ]
  },
  {
   "cell_type": "code",
   "execution_count": null,
   "id": "c7096244",
   "metadata": {},
   "outputs": [],
   "source": [
    "from sympy import (symbols, simplify)\n",
    "from sympy.physics.mechanics import dynamicsymbols, init_vprinting\n",
    "from sympy.physics.mechanics import Lagrangian, ReferenceFrame, Point, Particle,inertia, RigidBody, angular_momentum"
   ]
  },
  {
   "cell_type": "code",
   "execution_count": null,
   "id": "b6d761c8",
   "metadata": {},
   "outputs": [],
   "source": [
    "from optibot.symbolic import lagrange, diff_to_symb, SimpLagrangesMethod\n",
    "from optibot.numpy import unpack"
   ]
  },
  {
   "cell_type": "code",
   "execution_count": null,
   "id": "78fc2ba1",
   "metadata": {},
   "outputs": [],
   "source": [
    "init_vprinting()"
   ]
  },
  {
   "cell_type": "code",
   "execution_count": null,
   "id": "f65f3d1f",
   "metadata": {},
   "outputs": [],
   "source": [
    "from optibot.robots import Panda_Simp"
   ]
  },
  {
   "cell_type": "code",
   "execution_count": null,
   "id": "9e977b85",
   "metadata": {},
   "outputs": [],
   "source": [
    "panda = Panda_Simp()"
   ]
  },
  {
   "cell_type": "code",
   "execution_count": null,
   "id": "8ad1cc7b",
   "metadata": {},
   "outputs": [],
   "source": [
    "plt.style.use('default')"
   ]
  },
  {
   "cell_type": "code",
   "execution_count": null,
   "id": "4b710403",
   "metadata": {},
   "outputs": [],
   "source": [
    "from optibot.opti import Opti_Problem\n",
    "import time"
   ]
  },
  {
   "cell_type": "code",
   "execution_count": null,
   "id": "7afee0eb",
   "metadata": {},
   "outputs": [],
   "source": [
    "t0 = time.time()\n",
    "print('start time:',time.strftime('%H:%M:%S ', time.localtime(t0)))\n",
    "\n",
    "for ii in range(1000000):\n",
    "    _ = ii**2**0.9232\n",
    "\n",
    "\n",
    "t1 = time.time()\n",
    "print('end time:',time.strftime('%H:%M:%S ', time.localtime(t1)))\n",
    "dt = t1-t0\n",
    "print('dt: ',dt, time.strftime('%H:%M:%S ',time.gmtime(dt)))"
   ]
  },
  {
   "cell_type": "code",
   "execution_count": null,
   "id": "80a7433e",
   "metadata": {},
   "outputs": [],
   "source": []
  },
  {
   "cell_type": "code",
   "execution_count": null,
   "id": "80631801",
   "metadata": {},
   "outputs": [],
   "source": []
  },
  {
   "cell_type": "markdown",
   "id": "e4508b35",
   "metadata": {},
   "source": [
    "#### Warning: next cell can take several minutes to run (the first time)"
   ]
  },
  {
   "cell_type": "code",
   "execution_count": null,
   "id": "dbc04913",
   "metadata": {},
   "outputs": [],
   "source": [
    "t0 = time.time()\n",
    "print('start time:',time.strftime('%H:%M:%S ', time.localtime(t0)))\n",
    "\n",
    "N = 25\n",
    "verbose = True\n",
    "silent = False\n",
    "ini_guess = 'lin'\n",
    "t_end = 5\n",
    "params = []\n",
    "scheme = 'hs_mod'\n",
    "\n",
    "_opti = Opti_Problem(\n",
    "    LM=panda,\n",
    "    params = params,\n",
    "    scheme = scheme,\n",
    "    ini_guess= ini_guess,\n",
    "    t_end = t_end,\n",
    "    verbose=verbose,\n",
    "    silent=silent,\n",
    ")\n",
    "_opti.dynamic_setup()\n",
    "_opti.opti_setup(N)\n",
    "\n",
    "t1 = time.time()\n",
    "print('end time:',time.strftime('%H:%M:%S ', time.localtime(t1)))\n",
    "dt = t1-t0\n",
    "print('dt: ',dt, time.strftime('%H:%M:%S ',time.gmtime(dt)))"
   ]
  },
  {
   "cell_type": "code",
   "execution_count": null,
   "id": "7a7509ae",
   "metadata": {},
   "outputs": [],
   "source": [
    "_opti.apply_scheme()"
   ]
  },
  {
   "cell_type": "code",
   "execution_count": null,
   "id": "2539b77a",
   "metadata": {},
   "outputs": [],
   "source": [
    "panda.robot.qlim"
   ]
  },
  {
   "cell_type": "code",
   "execution_count": null,
   "id": "e83f0269",
   "metadata": {},
   "outputs": [],
   "source": [
    "pose_0 = np.array([ 1.,  1.,  1., -1.,  1., 1.,  1. ])\n",
    "pose_1 = np.array([-1., -1., -1., -2., -1., 1., -1. ])"
   ]
  },
  {
   "cell_type": "code",
   "execution_count": null,
   "id": "7b06a3a9",
   "metadata": {},
   "outputs": [],
   "source": [
    "q_s = _opti.opti_points['q_s']\n",
    "q_e = _opti.opti_points['q_e']\n",
    "v_s = _opti.opti_points['v_s']\n",
    "v_e = _opti.opti_points['v_e']\n",
    "\n",
    "_opti.opti.subject_to(q_s == np.expand_dims(pose_0, 0))\n",
    "_opti.opti.subject_to(q_e == np.expand_dims(pose_1, 0))\n",
    "\n",
    "_opti.opti.subject_to(v_s == 0)\n",
    "_opti.opti.subject_to(v_e == 0)\n",
    "\n",
    "_opti.initial_guess(pose_0, pose_1)"
   ]
  },
  {
   "cell_type": "code",
   "execution_count": null,
   "id": "095b7968",
   "metadata": {},
   "outputs": [],
   "source": [
    "_opti.u_sq_cost()"
   ]
  },
  {
   "cell_type": "code",
   "execution_count": null,
   "id": "416c4697",
   "metadata": {},
   "outputs": [],
   "source": [
    "q_arr = _opti.opti_arrs['q']\n",
    "q_arr_c = _opti.opti_arrs['q_c']\n",
    "v_arr = _opti.opti_arrs['v']\n",
    "v_arr_c = _opti.opti_arrs['v_c']\n",
    "u_arr = _opti.opti_arrs['u']\n",
    "u_arr_c = _opti.opti_arrs['u_c']\n",
    "q_arr.shape"
   ]
  },
  {
   "cell_type": "code",
   "execution_count": null,
   "id": "34a4cba2",
   "metadata": {},
   "outputs": [],
   "source": [
    "panda.robot.qlim"
   ]
  },
  {
   "cell_type": "code",
   "execution_count": null,
   "id": "1db7f999",
   "metadata": {},
   "outputs": [],
   "source": [
    "q_dot_max = np.zeros(7)\n",
    "q_dot_max[0:4] = 2.1750\n",
    "q_dot_max[4:7] = 2.6100\n",
    "q_dot_max"
   ]
  },
  {
   "cell_type": "code",
   "execution_count": null,
   "id": "26282269",
   "metadata": {},
   "outputs": [],
   "source": [
    "tau_max = np.zeros(7)\n",
    "tau_max[0:4] = 87\n",
    "tau_max[4:7] = 12\n",
    "tau_max"
   ]
  },
  {
   "cell_type": "code",
   "execution_count": null,
   "id": "20c63577",
   "metadata": {},
   "outputs": [],
   "source": [
    "for ii in range(7):\n",
    "    _opti.opti.subject_to(panda.robot.qlim[:,ii][0] <= q_arr[:,ii])\n",
    "    _opti.opti.subject_to(panda.robot.qlim[:,ii][1] >= q_arr[:,ii])\n",
    "    _opti.opti.subject_to(panda.robot.qlim[:,ii][0] <= q_arr_c[:,ii])\n",
    "    _opti.opti.subject_to(panda.robot.qlim[:,ii][1] >= q_arr_c[:,ii])\n",
    "    \n",
    "    _opti.opti.subject_to(-q_dot_max[ii] <= v_arr[:,ii])\n",
    "    _opti.opti.subject_to( q_dot_max[ii] >= v_arr[:,ii])\n",
    "    _opti.opti.subject_to(-q_dot_max[ii] <= v_arr_c[:,ii])\n",
    "    _opti.opti.subject_to( q_dot_max[ii] >= v_arr_c[:,ii])\n",
    "    \n",
    "    \n",
    "    _opti.opti.subject_to(-tau_max[ii] <= u_arr[:,ii])\n",
    "    _opti.opti.subject_to( tau_max[ii] >= u_arr[:,ii])\n",
    "    _opti.opti.subject_to(-tau_max[ii] <= u_arr_c[:,ii])\n",
    "    _opti.opti.subject_to( tau_max[ii] >= u_arr_c[:,ii])"
   ]
  },
  {
   "cell_type": "code",
   "execution_count": null,
   "id": "75c6aff5",
   "metadata": {},
   "outputs": [],
   "source": []
  },
  {
   "cell_type": "code",
   "execution_count": null,
   "id": "6ffd3247",
   "metadata": {},
   "outputs": [],
   "source": [
    "t0 = time.time()\n",
    "print('start time:',time.strftime('%H:%M:%S ', time.localtime(t0)))\n",
    "\n",
    "_opti.chrono_solve(1)\n",
    "\n",
    "t1 = time.time()\n",
    "print('end time:',time.strftime('%H:%M:%S ', time.localtime(t1)))\n",
    "dt = t1-t0\n",
    "print('dt: ',dt, time.strftime('%H:%M:%S ',time.gmtime(dt)))"
   ]
  },
  {
   "cell_type": "code",
   "execution_count": null,
   "id": "280e9f43",
   "metadata": {},
   "outputs": [],
   "source": [
    "_opti.results['cpudt'],time.strftime('%H:%M:%S ',time.gmtime(_opti.results['cpudt']))"
   ]
  },
  {
   "cell_type": "code",
   "execution_count": null,
   "id": "17d044a1",
   "metadata": {},
   "outputs": [],
   "source": [
    "%matplotlib inline"
   ]
  },
  {
   "cell_type": "code",
   "execution_count": null,
   "id": "3a7a9a19",
   "metadata": {},
   "outputs": [],
   "source": [
    "plt.figure(figsize=[16,10])\n",
    "plt.plot(_opti.results['t'],_opti.results['q'],marker='o')\n",
    "plt.plot(_opti.results['t_c'],_opti.results['q_c'],'o')\n",
    "plt.grid()"
   ]
  },
  {
   "cell_type": "code",
   "execution_count": null,
   "id": "90490479",
   "metadata": {},
   "outputs": [],
   "source": [
    "plt.figure(figsize=[16,10])\n",
    "plt.plot(_opti.results['t'],_opti.results['v'],marker='o')\n",
    "plt.grid()"
   ]
  },
  {
   "cell_type": "code",
   "execution_count": null,
   "id": "ced74a32",
   "metadata": {},
   "outputs": [],
   "source": [
    "plt.figure(figsize=[16,10])\n",
    "plt.plot(_opti.results['t'],_opti.results['u'],marker='o')\n",
    "plt.plot(_opti.results['t_c'],_opti.results['u_c'],'o')\n",
    "plt.grid()"
   ]
  },
  {
   "cell_type": "code",
   "execution_count": null,
   "id": "565c160f",
   "metadata": {},
   "outputs": [],
   "source": [
    "_opti.N"
   ]
  },
  {
   "cell_type": "code",
   "execution_count": null,
   "id": "5f7d3ef2",
   "metadata": {},
   "outputs": [],
   "source": [
    "fname = f'panda_opti_ej_{_opti.scheme}_{_opti.N}.txt'\n",
    "f = open(fname, \"w\")\n",
    "for ii in _opti.results:\n",
    "    f.write(f'\\n\\n\\t\\t{ii}\\n')\n",
    "    f.write(str(_opti.results[ii]))\n",
    "f.close()"
   ]
  },
  {
   "cell_type": "code",
   "execution_count": null,
   "id": "67932385",
   "metadata": {},
   "outputs": [],
   "source": [
    "1+1"
   ]
  },
  {
   "cell_type": "code",
   "execution_count": null,
   "id": "eed00e47",
   "metadata": {},
   "outputs": [],
   "source": []
  },
  {
   "cell_type": "code",
   "execution_count": null,
   "id": "b6ab272c",
   "metadata": {},
   "outputs": [],
   "source": []
  },
  {
   "cell_type": "code",
   "execution_count": null,
   "id": "6c934a1b",
   "metadata": {},
   "outputs": [],
   "source": [
    "if _opti.scheme == 'hs':\n",
    "    poly_deg = 3\n",
    "elif _opti.scheme == 'hs_mod':\n",
    "    poly_deg = 4\n",
    "coefmatrix = np.zeros([_opti.N+1, 1+_opti.n_q*2*(poly_deg+1)])\n",
    "coefmatrix.shape"
   ]
  },
  {
   "cell_type": "code",
   "execution_count": null,
   "id": "41ad12b1",
   "metadata": {},
   "outputs": [],
   "source": [
    "coefmatrix[:,0] = _opti.results['t']"
   ]
  },
  {
   "cell_type": "code",
   "execution_count": null,
   "id": "f0ab1785",
   "metadata": {},
   "outputs": [],
   "source": [
    "_x = _opti.results['x']\n",
    "_x_d = _opti.results['x_d']\n",
    "_x_c = _opti.results['x_c']\n",
    "_x_d_c = _opti.results['x_d_c']\n",
    "\n",
    "_q = _opti.results['q']\n",
    "_v = _opti.results['v']\n",
    "_q_c = _opti.results['q_c']\n",
    "_v_c = _opti.results['v_c']\n",
    "_a = _opti.results['a']\n",
    "_a_c = _opti.results['a_c']"
   ]
  },
  {
   "cell_type": "code",
   "execution_count": null,
   "id": "89e4015e",
   "metadata": {},
   "outputs": [],
   "source": [
    "_opti.scheme"
   ]
  },
  {
   "cell_type": "code",
   "execution_count": null,
   "id": "1c94b13d",
   "metadata": {},
   "outputs": [],
   "source": [
    "h = _opti.results['t'][1:] - _opti.results['t'][:-1]\n",
    "h = np.expand_dims(h,1)\n",
    "\n",
    "if _opti.scheme == 'hs':\n",
    "    _a = _x\n",
    "    _b = _x_d[:-1,:]\n",
    "    _c = -(3*_b - 4*_x_d_c + _x_d[1:,:])/(2*h)\n",
    "    _d = (2*_b - 4*_x_d_c + 2*_x_d[1:,:])/(3*h*h)\n",
    "    \n",
    "    coefmatrix[:,1::4] = _a\n",
    "    coefmatrix[:-1,2::4] = _b\n",
    "    coefmatrix[:-1,3::4] = _c\n",
    "    coefmatrix[:-1,4::4] = _d\n",
    "\n",
    "elif _opti.scheme == 'hs_mod':\n",
    "    \n",
    "    _aa = _q\n",
    "    _b = _v[:-1,:]\n",
    "    _c = _a[:-1,:]/2\n",
    "    _d = -(3*_a[:-1,:] - 4*_a_c + _a[1:,:])/(6*h)\n",
    "    _e = (2*_a[:-1,:] - 4*_a_c + 2*_a[1:,:])/(12*h*h)\n",
    "    \n",
    "    n = 1+_opti.n_q*(poly_deg+1)\n",
    "    \n",
    "    coefmatrix[:,1:n:5] = _aa\n",
    "    coefmatrix[:-1,2:n:5] = _b\n",
    "    coefmatrix[:-1,3:n:5] = _c\n",
    "    coefmatrix[:-1,4:n:5] = _d\n",
    "    coefmatrix[:-1,5:n:5] = _e\n",
    "    \n",
    "    coefmatrix[:-1,n::5] = _b\n",
    "    coefmatrix[:-1,n+1::5] = _a[:-1,:]\n",
    "    coefmatrix[:-1,n+2::5] = _d*3\n",
    "    coefmatrix[:-1,n+3::5] = _e*4\n",
    "    coefmatrix[:-1,n+4::5] = 0"
   ]
  },
  {
   "cell_type": "code",
   "execution_count": null,
   "id": "e545e857",
   "metadata": {},
   "outputs": [],
   "source": [
    "coefmatrix[:-1,n::5].shape"
   ]
  },
  {
   "cell_type": "code",
   "execution_count": null,
   "id": "73be2a2f",
   "metadata": {},
   "outputs": [],
   "source": [
    "fname = f'panda_coef_opti_ej_{_opti.scheme}_{_opti.N}.txt'\n",
    "np.savetxt(\n",
    "    fname,\n",
    "    coefmatrix,\n",
    "    '%1.3f',\n",
    "    comments='',\n",
    "    header=f'{_opti.N}\\n{poly_deg}',\n",
    ")"
   ]
  },
  {
   "cell_type": "code",
   "execution_count": null,
   "id": "6c44f149",
   "metadata": {},
   "outputs": [],
   "source": [
    "_XX = coefmatrix[:,1:]"
   ]
  },
  {
   "cell_type": "code",
   "execution_count": null,
   "id": "ca4fd9e9",
   "metadata": {},
   "outputs": [],
   "source": [
    "_XX.shape"
   ]
  },
  {
   "cell_type": "code",
   "execution_count": null,
   "id": "d23ecf6a",
   "metadata": {},
   "outputs": [],
   "source": []
  },
  {
   "cell_type": "code",
   "execution_count": null,
   "id": "cb9ef2a3",
   "metadata": {},
   "outputs": [],
   "source": []
  },
  {
   "cell_type": "code",
   "execution_count": null,
   "id": "a4ed9882",
   "metadata": {},
   "outputs": [],
   "source": []
  },
  {
   "cell_type": "code",
   "execution_count": null,
   "id": "1b6d8f0c",
   "metadata": {},
   "outputs": [],
   "source": []
  },
  {
   "cell_type": "code",
   "execution_count": null,
   "id": "4e6d5d76",
   "metadata": {},
   "outputs": [],
   "source": []
  },
  {
   "cell_type": "code",
   "execution_count": null,
   "id": "120adfa6",
   "metadata": {},
   "outputs": [],
   "source": [
    "t0 = time.time()\n",
    "print('start time:',time.strftime('%H:%M:%S ', time.localtime(t0)))\n",
    "\n",
    "N = 25\n",
    "verbose = True\n",
    "silent = False\n",
    "ini_guess = 'lin'\n",
    "t_end = 5\n",
    "params = []\n",
    "scheme = 'hs_mod'\n",
    "\n",
    "_opti_2 = Opti_Problem(\n",
    "    LM=panda,\n",
    "    params = params,\n",
    "    scheme = scheme,\n",
    "    ini_guess= ini_guess,\n",
    "    t_end = t_end,\n",
    "    verbose=verbose,\n",
    "    silent=silent,\n",
    ")\n",
    "_opti_2.dynamic_setup()\n",
    "_opti_2.opti_setup(N)\n",
    "\n",
    "t1 = time.time()\n",
    "print('end time:',time.strftime('%H:%M:%S ', time.localtime(t1)))\n",
    "dt = t1-t0\n",
    "print('dt: ',dt, time.strftime('%H:%M:%S ',time.gmtime(dt)))"
   ]
  },
  {
   "cell_type": "code",
   "execution_count": null,
   "id": "6f62c623",
   "metadata": {},
   "outputs": [],
   "source": [
    "_opti_2.apply_scheme()"
   ]
  },
  {
   "cell_type": "code",
   "execution_count": null,
   "id": "ac0e1ae3",
   "metadata": {},
   "outputs": [],
   "source": [
    "q_s = _opti_2.opti_points['q_s']\n",
    "q_e = _opti_2.opti_points['q_e']\n",
    "v_s = _opti_2.opti_points['v_s']\n",
    "v_e = _opti_2.opti_points['v_e']\n",
    "\n",
    "_opti_2.opti.subject_to(q_s == np.expand_dims(pose_0, 0))\n",
    "_opti_2.opti.subject_to(q_e == np.expand_dims(pose_1, 0))\n",
    "\n",
    "_opti_2.opti.subject_to(v_s == 0)\n",
    "_opti_2.opti.subject_to(v_e == 0)\n",
    "\n",
    "_opti_2.initial_guess(pose_0, pose_1)\n",
    "\n",
    "_opti_2.u_sq_cost()\n",
    "\n",
    "q_arr = _opti_2.opti_arrs['q']\n",
    "q_arr_c = _opti_2.opti_arrs['q_c']\n",
    "v_arr = _opti_2.opti_arrs['v']\n",
    "v_arr_c = _opti_2.opti_arrs['v_c']\n",
    "u_arr = _opti_2.opti_arrs['u']\n",
    "u_arr_c = _opti_2.opti_arrs['u_c']\n",
    "q_arr.shape\n",
    "\n",
    "for ii in range(7):\n",
    "    _opti_2.opti.subject_to(panda.robot.qlim[:,ii][0] <= q_arr[:,ii])\n",
    "    _opti_2.opti.subject_to(panda.robot.qlim[:,ii][1] >= q_arr[:,ii])\n",
    "    _opti_2.opti.subject_to(panda.robot.qlim[:,ii][0] <= q_arr_c[:,ii])\n",
    "    _opti_2.opti.subject_to(panda.robot.qlim[:,ii][1] >= q_arr_c[:,ii])\n",
    "    \n",
    "    _opti_2.opti.subject_to(-q_dot_max[ii] <= v_arr[:,ii])\n",
    "    _opti_2.opti.subject_to( q_dot_max[ii] >= v_arr[:,ii])\n",
    "    _opti_2.opti.subject_to(-q_dot_max[ii] <= v_arr_c[:,ii])\n",
    "    _opti_2.opti.subject_to( q_dot_max[ii] >= v_arr_c[:,ii])\n",
    "    \n",
    "    \n",
    "    _opti_2.opti.subject_to(-tau_max[ii] <= u_arr[:,ii])\n",
    "    _opti_2.opti.subject_to( tau_max[ii] >= u_arr[:,ii])\n",
    "    _opti_2.opti.subject_to(-tau_max[ii] <= u_arr_c[:,ii])\n",
    "    _opti_2.opti.subject_to( tau_max[ii] >= u_arr_c[:,ii])"
   ]
  },
  {
   "cell_type": "code",
   "execution_count": null,
   "id": "2782e2ed",
   "metadata": {},
   "outputs": [],
   "source": [
    "t0 = time.time()\n",
    "print('start time:',time.strftime('%H:%M:%S ', time.localtime(t0)))\n",
    "\n",
    "_opti_2.chrono_solve(1)\n",
    "\n",
    "t1 = time.time()\n",
    "print('end time:',time.strftime('%H:%M:%S ', time.localtime(t1)))\n",
    "dt = t1-t0\n",
    "print('dt: ',dt, time.strftime('%H:%M:%S ',time.gmtime(dt)))"
   ]
  },
  {
   "cell_type": "code",
   "execution_count": null,
   "id": "625de1a2",
   "metadata": {},
   "outputs": [],
   "source": [
    "plt.figure(figsize=[16,10])\n",
    "plt.plot(_opti_2.results['t'],_opti_2.results['q'],marker='o')\n",
    "plt.plot(_opti_2.results['t_c'],_opti_2.results['q_c'],'o')\n",
    "plt.grid()\n",
    "\n",
    "plt.figure(figsize=[16,10])\n",
    "plt.plot(_opti_2.results['t'],_opti_2.results['u'],marker='o')\n",
    "plt.plot(_opti_2.results['t_c'],_opti_2.results['u_c'],'o')\n",
    "plt.grid()"
   ]
  },
  {
   "cell_type": "code",
   "execution_count": null,
   "id": "cba8ce74",
   "metadata": {},
   "outputs": [],
   "source": []
  },
  {
   "cell_type": "code",
   "execution_count": null,
   "id": "5b867d11",
   "metadata": {},
   "outputs": [],
   "source": []
  },
  {
   "cell_type": "code",
   "execution_count": null,
   "id": "ed822442",
   "metadata": {},
   "outputs": [],
   "source": []
  },
  {
   "cell_type": "code",
   "execution_count": null,
   "id": "ca5dc70c",
   "metadata": {},
   "outputs": [],
   "source": [
    "from roboticstoolbox.models.DH import Panda as PD"
   ]
  },
  {
   "cell_type": "code",
   "execution_count": null,
   "id": "1c5159cc",
   "metadata": {},
   "outputs": [],
   "source": [
    "pd = PD()"
   ]
  },
  {
   "cell_type": "code",
   "execution_count": null,
   "id": "c79d6eb9",
   "metadata": {},
   "outputs": [],
   "source": [
    "pd"
   ]
  },
  {
   "cell_type": "code",
   "execution_count": null,
   "id": "aa69f3a5",
   "metadata": {},
   "outputs": [],
   "source": [
    "pd.fkine(_opti.results['q'])"
   ]
  },
  {
   "cell_type": "code",
   "execution_count": null,
   "id": "9482d4d2",
   "metadata": {},
   "outputs": [],
   "source": [
    "%matplotlib notebook\n",
    "%config NotebookBackend.figure_format = 'retina'"
   ]
  },
  {
   "cell_type": "code",
   "execution_count": null,
   "id": "52729eef",
   "metadata": {},
   "outputs": [],
   "source": [
    "pd.plot(_opti.results['q'])"
   ]
  },
  {
   "cell_type": "code",
   "execution_count": null,
   "id": "aa3e25cd",
   "metadata": {},
   "outputs": [],
   "source": []
  },
  {
   "cell_type": "code",
   "execution_count": null,
   "id": "2e76efb6",
   "metadata": {},
   "outputs": [],
   "source": []
  },
  {
   "cell_type": "code",
   "execution_count": null,
   "id": "eb85c20b",
   "metadata": {},
   "outputs": [],
   "source": []
  },
  {
   "cell_type": "code",
   "execution_count": null,
   "id": "e40cb27b",
   "metadata": {},
   "outputs": [],
   "source": []
  },
  {
   "cell_type": "code",
   "execution_count": null,
   "id": "9bdffbc7",
   "metadata": {},
   "outputs": [],
   "source": []
  },
  {
   "cell_type": "code",
   "execution_count": null,
   "id": "a38225c3",
   "metadata": {},
   "outputs": [],
   "source": []
  }
 ],
 "metadata": {
  "kernelspec": {
   "display_name": "Python 3 (ipykernel)",
   "language": "python",
   "name": "python3"
  },
  "language_info": {
   "codemirror_mode": {
    "name": "ipython",
    "version": 3
   },
   "file_extension": ".py",
   "mimetype": "text/x-python",
   "name": "python",
   "nbconvert_exporter": "python",
   "pygments_lexer": "ipython3",
   "version": "3.9.5"
  }
 },
 "nbformat": 4,
 "nbformat_minor": 5
}
