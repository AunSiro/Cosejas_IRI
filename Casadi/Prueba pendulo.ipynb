{
 "cells": [
  {
   "cell_type": "code",
   "execution_count": 1,
   "metadata": {},
   "outputs": [],
   "source": [
    "from casadi import *\n",
    "import matplotlib.pyplot as plt\n",
    "import numpy as np"
   ]
  },
  {
   "cell_type": "markdown",
   "metadata": {},
   "source": [
    "## Pendulum exercise\n",
    "$$\n",
    "\\begin{split}\\begin{array}{lc}\n",
    "\\begin{array}{l}\n",
    "\\text{minimize:} \\\\\n",
    "x(\\cdot) \\in \\mathbb{R}^2, \\, u(\\cdot) \\in \\mathbb{R}\n",
    "\\end{array}\n",
    "\\quad \\displaystyle \\int_{t=0}^{T}{cos(x_0) \\, dt}\n",
    "\\\\\n",
    "\\\\\n",
    "\\text{subject to:} \\\\\n",
    "\\\\\n",
    "\\begin{array}{ll}\n",
    "\\left\\{\n",
    "\\begin{array}{l}\n",
    "\\dot{x}_0 = x_1 \\\\\n",
    "\\dot{x}_1 = u - sin(x_0) \\\\\n",
    "-u_{max} \\le u \\le u_{max} , \\quad\n",
    "\\end{array} \\right. & \\text{for} \\, 0 \\le t \\le T \\\\\n",
    "x_0(0)=0, \\quad x_1(0)=0, x_0(T) = pi/2 , x_1(T) = 0\n",
    "\\end{array}\n",
    "\\end{array}\\end{split}\n",
    "$$\n",
    "with $T=10$.\n",
    "\n",
    "siendo $$x_0 = \\theta$$ $$x_1 = \\theta'$$"
   ]
  },
  {
   "cell_type": "code",
   "execution_count": 2,
   "metadata": {},
   "outputs": [],
   "source": [
    "x = MX.sym('x', 2)\n",
    "t = MX.sym('t')\n",
    "dt = MX.sym('dt')\n",
    "u = MX.sym('u')"
   ]
  },
  {
   "cell_type": "code",
   "execution_count": 3,
   "metadata": {},
   "outputs": [],
   "source": [
    "rhs = vertcat(x[1], u-sin(x[0]))"
   ]
  },
  {
   "cell_type": "code",
   "execution_count": 4,
   "metadata": {},
   "outputs": [],
   "source": [
    "F = Function('F', [x, u], [rhs])"
   ]
  },
  {
   "cell_type": "code",
   "execution_count": 24,
   "metadata": {},
   "outputs": [],
   "source": [
    "k1 = F(x, u);\n",
    "k2 = F(x + dt/2 * k1, u)\n",
    "k3 = F(x + dt/2 * k2, u)\n",
    "k4 = F(x + dt * k3, u);\n",
    "new_x_expr = x+dt/6*(k1 +2*k2 +2*k3 +k4)"
   ]
  },
  {
   "cell_type": "code",
   "execution_count": 25,
   "metadata": {},
   "outputs": [],
   "source": [
    "#new_x_expr = x + dt * F(x, u)"
   ]
  },
  {
   "cell_type": "code",
   "execution_count": 26,
   "metadata": {},
   "outputs": [],
   "source": [
    "new_x = Function('New_x', [x, u, dt], [new_x_expr])"
   ]
  },
  {
   "cell_type": "code",
   "execution_count": 27,
   "metadata": {},
   "outputs": [],
   "source": [
    "N = 100\n",
    "T = 10"
   ]
  },
  {
   "cell_type": "code",
   "execution_count": 28,
   "metadata": {},
   "outputs": [],
   "source": [
    "opti = Opti()"
   ]
  },
  {
   "cell_type": "code",
   "execution_count": 29,
   "metadata": {},
   "outputs": [],
   "source": [
    "X = opti.variable(N+1,2)"
   ]
  },
  {
   "cell_type": "code",
   "execution_count": 30,
   "metadata": {},
   "outputs": [],
   "source": [
    "U = opti.variable(N)"
   ]
  },
  {
   "cell_type": "code",
   "execution_count": 31,
   "metadata": {},
   "outputs": [],
   "source": [
    "u_m = opti.parameter()"
   ]
  },
  {
   "cell_type": "code",
   "execution_count": 32,
   "metadata": {},
   "outputs": [
    {
     "data": {
      "text/plain": [
       "(101, 2)"
      ]
     },
     "execution_count": 32,
     "metadata": {},
     "output_type": "execute_result"
    }
   ],
   "source": [
    "X.shape"
   ]
  },
  {
   "cell_type": "code",
   "execution_count": 33,
   "metadata": {},
   "outputs": [],
   "source": [
    "cost = sum1(cos(X[:,0]))"
   ]
  },
  {
   "cell_type": "code",
   "execution_count": 34,
   "metadata": {},
   "outputs": [
    {
     "data": {
      "text/plain": [
       "MX(mac(ones(1x101),cos(opti1_x_1[:101]),0))"
      ]
     },
     "execution_count": 34,
     "metadata": {},
     "output_type": "execute_result"
    }
   ],
   "source": [
    "cost"
   ]
  },
  {
   "cell_type": "code",
   "execution_count": 35,
   "metadata": {},
   "outputs": [],
   "source": [
    "opti.minimize(cost)"
   ]
  },
  {
   "cell_type": "code",
   "execution_count": 36,
   "metadata": {},
   "outputs": [],
   "source": [
    "opti.solver('ipopt')"
   ]
  },
  {
   "cell_type": "code",
   "execution_count": 37,
   "metadata": {},
   "outputs": [],
   "source": [
    "opti.set_value(u_m, 20)"
   ]
  },
  {
   "cell_type": "code",
   "execution_count": 38,
   "metadata": {},
   "outputs": [],
   "source": [
    "opti.subject_to(X[0,:].T == [0, 0])"
   ]
  },
  {
   "cell_type": "code",
   "execution_count": 39,
   "metadata": {},
   "outputs": [],
   "source": [
    "opti.subject_to(X[-1,:].T == [pi, 0])\n",
    "#opti.subject_to(X[-1,0].T == [pi])"
   ]
  },
  {
   "cell_type": "code",
   "execution_count": 40,
   "metadata": {},
   "outputs": [],
   "source": [
    "for ii in range(N):\n",
    "    opti.subject_to(X[ii+1,:].T == new_x(X[ii], U[ii], T/N))\n",
    "    #opti.subject_to(U[ii] < u_m)\n",
    "    opti.subject_to(opti.bounded(-u_m,U[ii],u_m))"
   ]
  },
  {
   "cell_type": "code",
   "execution_count": 41,
   "metadata": {},
   "outputs": [],
   "source": [
    "opti.set_initial(X[:,0], np.linspace(0, pi, N+1))"
   ]
  },
  {
   "cell_type": "code",
   "execution_count": 42,
   "metadata": {},
   "outputs": [],
   "source": [
    "opti.set_initial(X[:,1], pi/N)"
   ]
  },
  {
   "cell_type": "code",
   "execution_count": 43,
   "metadata": {},
   "outputs": [
    {
     "name": "stdout",
     "output_type": "stream",
     "text": [
      "This is Ipopt version 3.12.3, running with linear solver mumps.\n",
      "NOTE: Other linear solvers might be more efficient (see Ipopt documentation).\n",
      "\n",
      "Number of nonzeros in equality constraint Jacobian...:      604\n",
      "Number of nonzeros in inequality constraint Jacobian.:      100\n",
      "Number of nonzeros in Lagrangian Hessian.............:      301\n",
      "\n",
      "Total number of variables............................:      302\n",
      "                     variables with only lower bounds:        0\n",
      "                variables with lower and upper bounds:        0\n",
      "                     variables with only upper bounds:        0\n",
      "Total number of equality constraints.................:      204\n",
      "Total number of inequality constraints...............:      100\n",
      "        inequality constraints with only lower bounds:        0\n",
      "   inequality constraints with lower and upper bounds:      100\n",
      "        inequality constraints with only upper bounds:        0\n",
      "\n",
      "iter    objective    inf_pr   inf_du lg(mu)  ||d||  lg(rg) alpha_du alpha_pr  ls\n",
      "   0 -7.5495166e-15 3.09e+00 2.36e-02  -1.0 0.00e+00    -  0.00e+00 0.00e+00   0\n",
      "   1  5.9695746e+01 1.04e+00 7.92e-01  -1.0 2.99e+01    -  3.98e-01 6.63e-01h  1\n",
      "   2  6.0249467e+01 1.02e+00 5.55e+01  -1.0 1.01e+01    -  9.63e-01 1.97e-02h  1\n",
      "   3  6.0249759e+01 1.02e+00 2.09e+05  -1.0 1.59e+01    -  7.21e-01 2.01e-04h  1\n",
      "   4r 6.0249759e+01 1.02e+00 1.00e+03   0.0 0.00e+00  -2.0 0.00e+00 2.51e-07R  4\n",
      "   5r 6.8193428e+01 9.64e-01 9.87e+02   0.0 6.60e+02    -  2.84e-01 1.52e-03f  1\n",
      "   6r 7.2598134e+01 9.35e-01 8.24e+02   0.0 1.88e+00    -  9.91e-01 1.72e-01f  1\n",
      "   7r 8.4335872e+01 7.04e-01 3.41e+02   0.0 1.58e+00    -  1.00e+00 5.85e-01f  1\n",
      "   8  8.4333386e+01 7.03e-01 1.30e+03  -1.0 9.72e+00    -  7.98e-01 6.15e-04h  1\n",
      "   9r 8.4333386e+01 7.03e-01 1.00e+03  -0.2 0.00e+00    -  0.00e+00 3.85e-07R  5\n",
      "iter    objective    inf_pr   inf_du lg(mu)  ||d||  lg(rg) alpha_du alpha_pr  ls\n",
      "  10r 8.5646300e+01 6.57e-01 9.72e+02  -0.2 3.60e+00    -  9.53e-02 2.68e-02f  1\n",
      "  11r 8.3156877e+01 6.29e-01 8.37e+02  -0.2 3.21e+00    -  9.96e-01 1.39e-01f  1\n",
      "  12  8.3156795e+01 6.29e-01 5.96e+05  -1.0 9.86e+00    -  8.61e-01 1.86e-05h  1\n",
      "  13r 8.3156795e+01 6.29e-01 1.00e+03  -0.2 0.00e+00  -2.5 0.00e+00 9.29e-08R  2\n",
      "  14r 8.3034189e+01 6.43e-01 8.87e+02  -0.2 4.05e-01    -  1.00e+00 1.13e-01f  1\n",
      "  15r 8.2415939e+01 7.53e-01 7.81e+01  -0.2 7.93e-01    -  1.00e+00 9.12e-01f  1\n",
      "  16r 8.2696645e+01 3.79e-01 1.45e-01  -0.2 3.74e-01    -  1.00e+00 1.00e+00f  1\n",
      "  17  8.2695277e+01 3.79e-01 1.20e+03  -1.0 9.87e+00    -  7.96e-01 6.64e-04h  1\n",
      "  18r 8.2695277e+01 3.79e-01 1.00e+03  -0.4 0.00e+00    -  0.00e+00 4.15e-07R  5\n",
      "  19r 8.2186865e+01 4.05e-01 1.74e+00  -0.4 6.66e-02    -  1.00e+00 1.00e+00f  1\n",
      "iter    objective    inf_pr   inf_du lg(mu)  ||d||  lg(rg) alpha_du alpha_pr  ls\n",
      "  20r 8.1950815e+01 4.30e-01 9.81e-02  -1.8 3.12e-02    -  9.70e-01 1.00e+00f  1\n",
      "  21r 8.1568327e+01 5.09e-01 1.51e-01  -4.1 7.91e-02    -  8.59e-01 1.00e+00f  1\n",
      "  22r 8.1325440e+01 5.53e-01 6.06e-02  -4.1 4.45e-02    -  1.00e+00 1.00e+00h  1\n",
      "  23r 8.1217472e+01 5.85e-01 1.22e-02  -4.1 3.16e-02    -  1.00e+00 1.00e+00h  1\n",
      "  24r 8.1198187e+01 5.89e-01 3.93e-04  -4.1 3.69e-03    -  1.00e+00 1.00e+00h  1\n",
      "  25r 8.1195314e+01 5.98e-01 6.70e-04  -6.1 9.76e-03    -  9.92e-01 1.00e+00f  1\n",
      "  26r 8.1195296e+01 5.98e-01 3.62e-10  -6.1 4.20e-05    -  1.00e+00 1.00e+00h  1\n",
      "  27r 8.1195273e+01 5.99e-01 6.76e-05  -9.0 1.06e-03    -  9.99e-01 1.00e+00f  1\n",
      "\n",
      "Number of Iterations....: 27\n",
      "\n",
      "                                   (scaled)                 (unscaled)\n",
      "Objective...............:   8.1195273224679610e+01    8.1195273224679610e+01\n",
      "Dual infeasibility......:   9.9972156927448341e-01    9.9972156927448341e-01\n",
      "Constraint violation....:   5.9931545221555060e-01    5.9931545221555060e-01\n",
      "Complementarity.........:   9.0912795381339714e-10    9.0912795381339714e-10\n",
      "Overall NLP error.......:   9.9972156927448341e-01    9.9972156927448341e-01\n",
      "\n",
      "\n",
      "Number of objective function evaluations             = 45\n",
      "Number of objective gradient evaluations             = 15\n",
      "Number of equality constraint evaluations            = 45\n",
      "Number of inequality constraint evaluations          = 45\n",
      "Number of equality constraint Jacobian evaluations   = 33\n",
      "Number of inequality constraint Jacobian evaluations = 33\n",
      "Number of Lagrangian Hessian evaluations             = 28\n",
      "Total CPU secs in IPOPT (w/o function evaluations)   =      0.089\n",
      "Total CPU secs in NLP function evaluations           =      0.132\n",
      "\n",
      "EXIT: Converged to a point of local infeasibility. Problem may be infeasible.\n",
      "      solver  :   t_proc      (avg)   t_wall      (avg)    n_eval\n",
      "       nlp_f  | 377.00us (  8.38us) 361.08us (  8.02us)        45\n",
      "       nlp_g  |  17.89ms (397.62us)  17.77ms (394.92us)        45\n",
      "    nlp_grad  |   1.10ms (  1.10ms)   1.10ms (  1.10ms)         1\n",
      "  nlp_grad_f  | 249.00us ( 15.56us) 246.34us ( 15.40us)        16\n",
      "  nlp_hess_l  |  65.13ms (  2.71ms)  64.88ms (  2.70ms)        24\n",
      "   nlp_jac_g  |  52.84ms (  1.55ms)  52.52ms (  1.54ms)        34\n",
      "       total  | 230.35ms (230.35ms) 224.66ms (224.66ms)         1\n"
     ]
    },
    {
     "ename": "RuntimeError",
     "evalue": "Error in Opti::solve [OptiNode] at .../casadi/core/optistack.cpp:159:\n.../casadi/core/optistack_internal.cpp:999: Assertion \"return_success(accept_limit)\" failed:\nSolver failed. You may use opti.debug.value to investigate the latest values of variables. return_status is 'Infeasible_Problem_Detected'",
     "output_type": "error",
     "traceback": [
      "\u001b[0;31m---------------------------------------------------------------------------\u001b[0m",
      "\u001b[0;31mRuntimeError\u001b[0m                              Traceback (most recent call last)",
      "\u001b[0;32m<ipython-input-43-aa767080b309>\u001b[0m in \u001b[0;36m<module>\u001b[0;34m\u001b[0m\n\u001b[0;32m----> 1\u001b[0;31m \u001b[0msol\u001b[0m \u001b[0;34m=\u001b[0m \u001b[0mopti\u001b[0m\u001b[0;34m.\u001b[0m\u001b[0msolve\u001b[0m\u001b[0;34m(\u001b[0m\u001b[0;34m)\u001b[0m\u001b[0;34m\u001b[0m\u001b[0;34m\u001b[0m\u001b[0m\n\u001b[0m",
      "\u001b[0;32m~/miniconda3/envs/casadi_w/lib/python3.7/site-packages/casadi/casadi.py\u001b[0m in \u001b[0;36msolve\u001b[0;34m(self, *args)\u001b[0m\n\u001b[1;32m  27240\u001b[0m \u001b[0;34m\u001b[0m\u001b[0m\n\u001b[1;32m  27241\u001b[0m         \"\"\"\n\u001b[0;32m> 27242\u001b[0;31m         \u001b[0;32mreturn\u001b[0m \u001b[0m_casadi\u001b[0m\u001b[0;34m.\u001b[0m\u001b[0mOpti_solve\u001b[0m\u001b[0;34m(\u001b[0m\u001b[0mself\u001b[0m\u001b[0;34m,\u001b[0m \u001b[0;34m*\u001b[0m\u001b[0margs\u001b[0m\u001b[0;34m)\u001b[0m\u001b[0;34m\u001b[0m\u001b[0;34m\u001b[0m\u001b[0m\n\u001b[0m\u001b[1;32m  27243\u001b[0m \u001b[0;34m\u001b[0m\u001b[0m\n\u001b[1;32m  27244\u001b[0m \u001b[0;34m\u001b[0m\u001b[0m\n",
      "\u001b[0;31mRuntimeError\u001b[0m: Error in Opti::solve [OptiNode] at .../casadi/core/optistack.cpp:159:\n.../casadi/core/optistack_internal.cpp:999: Assertion \"return_success(accept_limit)\" failed:\nSolver failed. You may use opti.debug.value to investigate the latest values of variables. return_status is 'Infeasible_Problem_Detected'"
     ]
    }
   ],
   "source": [
    "sol = opti.solve()"
   ]
  },
  {
   "cell_type": "code",
   "execution_count": null,
   "metadata": {},
   "outputs": [],
   "source": [
    "sol.value"
   ]
  },
  {
   "cell_type": "code",
   "execution_count": null,
   "metadata": {},
   "outputs": [],
   "source": [
    "opti.debug.show_infeasibilities()"
   ]
  },
  {
   "cell_type": "code",
   "execution_count": null,
   "metadata": {},
   "outputs": [],
   "source": []
  },
  {
   "cell_type": "code",
   "execution_count": null,
   "metadata": {},
   "outputs": [],
   "source": []
  }
 ],
 "metadata": {
  "kernelspec": {
   "display_name": "Python 3",
   "language": "python",
   "name": "python3"
  },
  "language_info": {
   "codemirror_mode": {
    "name": "ipython",
    "version": 3
   },
   "file_extension": ".py",
   "mimetype": "text/x-python",
   "name": "python",
   "nbconvert_exporter": "python",
   "pygments_lexer": "ipython3",
   "version": "3.7.3"
  }
 },
 "nbformat": 4,
 "nbformat_minor": 2
}
