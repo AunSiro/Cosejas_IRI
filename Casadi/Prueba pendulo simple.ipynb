{
 "cells": [
  {
   "cell_type": "code",
   "execution_count": null,
   "metadata": {},
   "outputs": [],
   "source": [
    "from casadi import *\n",
    "import matplotlib.pyplot as plt\n",
    "import numpy as np\n",
    "from matplotlib import animation, rc\n",
    "from IPython.display import HTML"
   ]
  },
  {
   "cell_type": "code",
   "execution_count": null,
   "metadata": {},
   "outputs": [],
   "source": [
    "def energy(x, v):\n",
    "    u = -np.cos(x)\n",
    "    t = 0.5 * v**2\n",
    "    return u+t"
   ]
  },
  {
   "cell_type": "code",
   "execution_count": null,
   "metadata": {},
   "outputs": [],
   "source": [
    "def timecrossings(arr, times, pos):\n",
    "    crossings = []\n",
    "    sign_arr = sign(arr)\n",
    "    for ii in range(1,len(arr)):\n",
    "        if sign_arr[ii-1] != sign_arr[ii]:\n",
    "            if cos(pos[ii]) > -0.99 :\n",
    "                crossings.append((times[ii-1] + times[ii])/2)\n",
    "    return crossings"
   ]
  },
  {
   "cell_type": "code",
   "execution_count": null,
   "metadata": {},
   "outputs": [],
   "source": [
    "def plot_results(arr, U, T, max_par, N):\n",
    "    margin_ang = np.arcsin(max_par)\n",
    "    timescale_x = np.linspace(0, T, N+1)\n",
    "    timescale_u = np.linspace(0, T, N)\n",
    "    arr_u = sol.value(U)\n",
    "    plt.figure(figsize=[10,7])\n",
    "    plt.plot(timescale_x,arr[:,0], label = '$x$')\n",
    "    plt.plot(timescale_x,arr[:,1], label = \"$x'$\")\n",
    "    plt.plot(timescale_u,arr_u[:], label = 'u')\n",
    "    plt.plot(timescale_x,2+cos(arr[:,0]),':', label = '$2+cos(x)$')\n",
    "    cross_points = timecrossings(arr[:,1], timescale_x, arr[:,0])\n",
    "    plt.hlines([0,pi, -pi], 0, timescale_u[-1], 'k', 'dotted')\n",
    "    plt.hlines([-max_par,max_par], 0, timescale_u[-1], 'r', 'dotted')\n",
    "    plt.hlines([np.pi-margin_ang,-np.pi+margin_ang], 0, timescale_u[-1], 'g', 'dotted', label = \"g_par = max par\")\n",
    "    plt.vlines(cross_points, -pi, pi, 'k', 'dotted')\n",
    "    print(f'Max par: {max_par}, number of crossing points: {len(cross_points)}')\n",
    "    plt.legend()"
   ]
  },
  {
   "cell_type": "code",
   "execution_count": null,
   "metadata": {},
   "outputs": [],
   "source": [
    "def print_phase_space(X = np.array([[0,0]])):\n",
    "    X = np.array(X)\n",
    "    margin = 0.2\n",
    "    max_x = max(np.max(X[:,0]), np.pi) + margin\n",
    "    min_x = min(np.min(X[:,0]), -np.pi) - margin\n",
    "    max_v = max(np.max(X[:,1]), 2) + margin\n",
    "    min_v = min(np.min(X[:,1]), -2) - margin\n",
    "    \n",
    "    x_arr = np.linspace(min_x, max_x, 400)\n",
    "    v_arr = np.linspace(min_v, max_v, 400)\n",
    "    \n",
    "    xx, vv = np.meshgrid(x_arr, v_arr)\n",
    "    ee = energy(xx,vv)\n",
    "    \n",
    "    fig, ax = plt.subplots(figsize=(12, 12))\n",
    "    ax.contour(xx,vv,ee, 10)\n",
    "    ax.plot(X[:,0], X[:,1], 'r', marker = 'o', markersize = 5, linewidth = 0.7)\n",
    "    ax.set_aspect('equal')\n",
    "    plt.xlabel('Angle in rad')\n",
    "    plt.ylabel('Angular speed in rad/s')\n",
    "    plt.title('Phase space, lines of constant energy')"
   ]
  },
  {
   "cell_type": "code",
   "execution_count": null,
   "metadata": {},
   "outputs": [],
   "source": [
    "import matplotlib\n",
    "matplotlib.rcParams['animation.embed_limit'] = 200"
   ]
  },
  {
   "cell_type": "code",
   "execution_count": null,
   "metadata": {},
   "outputs": [],
   "source": [
    "def create_anim(arr, U):\n",
    "    arr = np.array(arr)\n",
    "    U = np.array(U)\n",
    "    fig, (ax, ax2) = plt.subplots(1,2, figsize = [15,8])\n",
    "\n",
    "    ax.set_aspect('equal')\n",
    "    ax.set_xlim(( -1.5, 1.5))\n",
    "    ax.set_ylim(( -1.5, 1.5))\n",
    "\n",
    "    circle2 = plt.Circle((0, 0), 1, color='b', ls = \":\", fill=False)\n",
    "    ax.add_artist(circle2)\n",
    "\n",
    "    line, = ax.plot([], [], lw=2)\n",
    "    point, = ax.plot([], [], marker='o', markersize=15, color=\"red\")\n",
    "    text = ax.text(0.2, 0, \"\", fontsize = 12)\n",
    "    text_2 = ax.text(0.2, -0.15, \"\", fontsize = 12)\n",
    "    text_3 = ax.text(0.2, -0.3, \"\", fontsize = 12)\n",
    "    # Phase space\n",
    "    \n",
    "    margin = 0.2\n",
    "    max_x = max(np.max(arr[:,0]), np.pi) + margin\n",
    "    min_x = min(np.min(arr[:,0]), -np.pi) - margin\n",
    "    max_v = max(np.max(arr[:,1]), 2) + margin\n",
    "    min_v = min(np.min(arr[:,1]), -2) - margin\n",
    "    \n",
    "    x_arr = np.linspace(min_x, max_x, 400)\n",
    "    v_arr = np.linspace(min_v, max_v, 400)\n",
    "    \n",
    "    xx, vv = np.meshgrid(x_arr, v_arr)\n",
    "    ee = energy(xx,vv)\n",
    "    \n",
    "    ax2.contour(xx,vv,ee, 10)\n",
    "    line2, = ax2.plot([], [], 'r', marker = 'o', markersize = 5, linewidth = 0.7)\n",
    "    ax2.set_aspect('equal')\n",
    "    ax2.set_xlabel('Angle in rad')\n",
    "    ax2.set_ylabel('Angular speed in rad/s')\n",
    "    ax2.set_title('Phase space, lines of constant energy')\n",
    "    \n",
    "    trayectory = np.zeros_like(arr)\n",
    "    trayectory[:,0] = arr[0,0]\n",
    "    trayectory[:,1] = arr[0,1]\n",
    "    \n",
    "    def init():\n",
    "        line.set_data([], [])\n",
    "        point.set_data([], [])\n",
    "        text.set_text('')\n",
    "        return (line,)\n",
    "    def animate(i):\n",
    "        x = [0, np.sin(arr[i,0])]\n",
    "        y = [0, -np.cos(arr[i,0])]\n",
    "        line.set_data(x, y)    \n",
    "        point.set_data(x[1], y[1])\n",
    "        text.set_text(\"U = %.6f\" % U[i])\n",
    "        text_2.set_text(r\"$\\dot{\\theta}$\" + \" = %.6f\" % arr[i,1])\n",
    "        text_3.set_text(\"par g = %.6f\" % x[1])\n",
    "        \n",
    "        trayectory[i:,0] = arr[i,0]\n",
    "        trayectory[i:,1] = arr[i,1]\n",
    "        line2.set_data(trayectory[:,0], trayectory[:,1])\n",
    "        return (line, line2,)\n",
    "    \n",
    "    anim = animation.FuncAnimation(fig, animate, init_func=init,\n",
    "                               frames=arr.shape[0]-1, interval=20, \n",
    "                               blit=True)\n",
    "    return anim"
   ]
  },
  {
   "cell_type": "markdown",
   "metadata": {},
   "source": [
    "## Pendulum exercise\n",
    "$$\n",
    "\\begin{split}\\begin{array}{lc}\n",
    "\\begin{array}{l}\n",
    "\\text{minimize:} \\\\\n",
    "x(\\cdot) \\in \\mathbb{R}^2, \\, u(\\cdot) \\in \\mathbb{R}\n",
    "\\end{array}\n",
    "\\quad \\displaystyle \\int_{t=0}^{T}{cos(x_0) \\, dt}\n",
    "\\\\\n",
    "\\\\\n",
    "\\text{subject to:} \\\\\n",
    "\\\\\n",
    "\\begin{array}{ll}\n",
    "\\left\\{\n",
    "\\begin{array}{l}\n",
    "\\dot{x}_0 = x_1 \\\\\n",
    "\\dot{x}_1 = u - sin(x_0) \\\\\n",
    "-u_{max} \\le u \\le u_{max} , \\quad\n",
    "\\end{array} \\right. & \\text{for} \\, 0 \\le t \\le T \\\\\n",
    "x_0(0)=0, \\quad x_1(0)=0, x_0(T) = pi/2 , x_1(T) = 0\n",
    "\\end{array}\n",
    "\\end{array}\\end{split}\n",
    "$$\n",
    "with $T=10$.\n",
    "\n",
    "siendo $$x_0 = \\theta$$ $$x_1 = \\theta'$$"
   ]
  },
  {
   "cell_type": "code",
   "execution_count": null,
   "metadata": {},
   "outputs": [],
   "source": [
    "x = MX.sym('x', 2)\n",
    "t = MX.sym('t')\n",
    "dt = MX.sym('dt')\n",
    "u = MX.sym('u')"
   ]
  },
  {
   "cell_type": "code",
   "execution_count": null,
   "metadata": {},
   "outputs": [],
   "source": [
    "rhs = vertcat(x[1], u-sin(x[0]))\n",
    "#rhs = vertcat(x[1], u)\n",
    "F = Function('F', [x, u], [rhs])"
   ]
  },
  {
   "cell_type": "code",
   "execution_count": null,
   "metadata": {},
   "outputs": [],
   "source": [
    "k1 = F(x, u);\n",
    "k2 = F(x + dt/2 * k1, u)\n",
    "k3 = F(x + dt/2 * k2, u)\n",
    "k4 = F(x + dt * k3, u);\n",
    "new_x_expr = x+dt/6*(k1 +2*k2 +2*k3 +k4)"
   ]
  },
  {
   "cell_type": "code",
   "execution_count": null,
   "metadata": {},
   "outputs": [],
   "source": [
    "new_x_expr = x + dt * F(x, u)\n",
    "new_x = Function('New_x', [x, u, dt], [new_x_expr])"
   ]
  },
  {
   "cell_type": "markdown",
   "metadata": {},
   "source": [
    "## Opti problem"
   ]
  },
  {
   "cell_type": "code",
   "execution_count": null,
   "metadata": {},
   "outputs": [],
   "source": [
    "N = 200"
   ]
  },
  {
   "cell_type": "code",
   "execution_count": null,
   "metadata": {},
   "outputs": [],
   "source": [
    "opti = Opti()\n",
    "opti.solver('ipopt')"
   ]
  },
  {
   "cell_type": "code",
   "execution_count": null,
   "metadata": {},
   "outputs": [],
   "source": [
    "X = opti.variable(N+1,2)\n",
    "U = opti.variable(N)\n",
    "#T = opti.variable()\n",
    "T = opti.parameter()\n",
    "u_m = opti.parameter()\n",
    "#t_m = opti.parameter()"
   ]
  },
  {
   "cell_type": "code",
   "execution_count": null,
   "metadata": {},
   "outputs": [],
   "source": [
    "cost = sum1(2+cos(X[:,0]))*T #**2\n",
    "#cost = -sum1(X[:,0])\n",
    "opti.minimize(cost)"
   ]
  },
  {
   "cell_type": "code",
   "execution_count": null,
   "metadata": {},
   "outputs": [],
   "source": [
    "opti.subject_to(X[0,:].T == [0, 0])\n",
    "opti.subject_to(cos(X[-1,0]) < -0.9999)\n",
    "#opti.subject_to(T < t_m)\n",
    "opti.subject_to(opti.bounded(-0.001,X[-1,1],0.001))"
   ]
  },
  {
   "cell_type": "code",
   "execution_count": null,
   "metadata": {},
   "outputs": [],
   "source": [
    "for ii in range(N):\n",
    "    opti.subject_to(X[ii+1,:].T == new_x(X[ii,:], U[ii], T/N))\n",
    "    opti.subject_to(opti.bounded(-u_m,U[ii],u_m))"
   ]
  },
  {
   "cell_type": "code",
   "execution_count": null,
   "metadata": {},
   "outputs": [],
   "source": [
    "opti.set_initial(X[:,0], np.linspace(0, pi, N+1))\n",
    "opti.set_initial(X[:,1], pi/N)\n",
    "#opti.set_initial(T, 50)\n",
    "opti.set_value(T, 40)\n",
    "max_par = 0.09\n",
    "opti.set_value(u_m, max_par)"
   ]
  },
  {
   "cell_type": "code",
   "execution_count": null,
   "metadata": {},
   "outputs": [],
   "source": [
    "sol = opti.solve()"
   ]
  },
  {
   "cell_type": "code",
   "execution_count": null,
   "metadata": {
    "scrolled": false
   },
   "outputs": [],
   "source": [
    "plot_results(sol.value(X), sol.value(U), sol.value(T), max_par, N)"
   ]
  },
  {
   "cell_type": "code",
   "execution_count": null,
   "metadata": {},
   "outputs": [],
   "source": [
    "#anim = create_anim(sol)"
   ]
  },
  {
   "cell_type": "code",
   "execution_count": null,
   "metadata": {},
   "outputs": [],
   "source": [
    "#HTML(anim.to_jshtml())"
   ]
  },
  {
   "cell_type": "code",
   "execution_count": null,
   "metadata": {},
   "outputs": [],
   "source": [
    "results = []\n",
    "for ii in [0.11, 0.105, 0.1, 0.095, 0.09, 0.085]:\n",
    "    opti.set_value(u_m, ii)\n",
    "    est_t = (2 + sqrt(1/ii))*8\n",
    "    #opti.set_initial(T, est_t)\n",
    "    opti.set_value(T, 40)\n",
    "    try:\n",
    "        sol = opti.solve()\n",
    "    except:\n",
    "        pass\n",
    "    else:\n",
    "        results.append([sol.value(X), sol.value(U), sol.value(T), ii, N])"
   ]
  },
  {
   "cell_type": "code",
   "execution_count": null,
   "metadata": {
    "scrolled": false
   },
   "outputs": [],
   "source": [
    "for res in results:\n",
    "    plot_results(*res)"
   ]
  },
  {
   "cell_type": "markdown",
   "metadata": {},
   "source": [
    "## Integración de la acción para comprobación"
   ]
  },
  {
   "cell_type": "code",
   "execution_count": null,
   "metadata": {},
   "outputs": [],
   "source": [
    "def euler_step(x, u, dt):\n",
    "    return x + dt * F(x, u)"
   ]
  },
  {
   "cell_type": "code",
   "execution_count": null,
   "metadata": {},
   "outputs": [],
   "source": [
    "def rk4_step(x, u, dt):\n",
    "    k1 = F(x, u);\n",
    "    k2 = F(x + dt/2 * k1, u)\n",
    "    k3 = F(x + dt/2 * k2, u)\n",
    "    k4 = F(x + dt * k3, u);\n",
    "    return x+dt/6*(k1 +2*k2 +2*k3 +k4)"
   ]
  },
  {
   "cell_type": "code",
   "execution_count": null,
   "metadata": {},
   "outputs": [],
   "source": [
    "def integrate_euler(x_0, u, dt):\n",
    "    x = [x_0,]\n",
    "    for ii in range(len(u)):\n",
    "        x_i = euler_step(x[-1], u[ii], dt)\n",
    "        x.append(x_i)\n",
    "    return horzcat(*x).T"
   ]
  },
  {
   "cell_type": "code",
   "execution_count": null,
   "metadata": {},
   "outputs": [],
   "source": [
    "def integrate_rk4(x_0, u, dt):\n",
    "    x = [x_0,]\n",
    "    for ii in range(len(u)):\n",
    "        x_i = rk4_step(x[-1], u[ii], dt)\n",
    "        x.append(x_i)\n",
    "    return horzcat(*x).T"
   ]
  },
  {
   "cell_type": "code",
   "execution_count": null,
   "metadata": {},
   "outputs": [],
   "source": [
    "def plot_results_sim(U, arr, T, max_par, N):\n",
    "    arr = np.array(arr)\n",
    "    timescale_x = np.linspace(0, T, N+1)\n",
    "    timescale_u = np.linspace(0, T, N)\n",
    "    arr_u = np.array(U)\n",
    "    plt.figure(figsize=[10,7])\n",
    "    plt.plot(timescale_x,arr[:,0], label = '$x$')\n",
    "    plt.plot(timescale_x,arr[:,1], label = \"$x'$\")\n",
    "    plt.plot(timescale_u,arr_u[:], label = 'u')\n",
    "    plt.plot(timescale_x,2+cos(arr[:,0]),':', label = '$2+cos(x)$')\n",
    "    cross_points = timecrossings(arr[:,1], timescale_x, arr[:,0])\n",
    "    plt.hlines([0,pi, -pi], 0, timescale_u[-1], 'k', 'dotted')\n",
    "    plt.hlines([-max_par,max_par], 0, timescale_u[-1], 'r', 'dotted')\n",
    "    plt.vlines(cross_points, -pi, pi, 'k', 'dotted')\n",
    "    print(f'Max par: {max_par}, number of crossing points: {len(cross_points)}')\n",
    "    plt.legend()"
   ]
  },
  {
   "cell_type": "markdown",
   "metadata": {},
   "source": [
    "## Comparación entre integrar con Euler y Runge Kutta"
   ]
  },
  {
   "cell_type": "code",
   "execution_count": null,
   "metadata": {},
   "outputs": [],
   "source": [
    "x_0 = DM([1,0])\n",
    "u_0 = np.zeros(200)\n",
    "xx = integrate_euler(x_0, u_0, 0.1)\n",
    "print_phase_space(xx)"
   ]
  },
  {
   "cell_type": "code",
   "execution_count": null,
   "metadata": {},
   "outputs": [],
   "source": [
    "xx = integrate_rk4(x_0, u_0, 0.1)\n",
    "print_phase_space(xx)"
   ]
  },
  {
   "cell_type": "markdown",
   "metadata": {},
   "source": [
    "### Usando Euler:"
   ]
  },
  {
   "cell_type": "code",
   "execution_count": null,
   "metadata": {
    "scrolled": false
   },
   "outputs": [],
   "source": [
    "xx = integrate_euler(DM([0,0]), sol.value(U), sol.value(T)/N)\n",
    "plot_results_sim(sol.value(U), xx, sol.value(T), sol.value(max_par), N)"
   ]
  },
  {
   "cell_type": "markdown",
   "metadata": {},
   "source": [
    "### Usando Runge Kutta"
   ]
  },
  {
   "cell_type": "code",
   "execution_count": null,
   "metadata": {
    "scrolled": false
   },
   "outputs": [],
   "source": [
    "xx = integrate_rk4(DM([0,0]), sol.value(U), sol.value(T)/N)\n",
    "plot_results_sim(sol.value(U), xx, sol.value(T), sol.value(max_par), N)"
   ]
  },
  {
   "cell_type": "markdown",
   "metadata": {},
   "source": [
    "## Otras comprobaciones: Coste = T"
   ]
  },
  {
   "cell_type": "code",
   "execution_count": null,
   "metadata": {},
   "outputs": [],
   "source": [
    "N = 300\n",
    "\n",
    "k1 = F(x, u);\n",
    "k2 = F(x + dt/2 * k1, u)\n",
    "k3 = F(x + dt/2 * k2, u)\n",
    "k4 = F(x + dt * k3, u);\n",
    "new_x_expr = x+dt/6*(k1 +2*k2 +2*k3 +k4)\n",
    "\n",
    "new_x_expr = x + dt * F(x, u)\n",
    "new_x = Function('New_x', [x, u, dt], [new_x_expr])\n",
    "\n",
    "opti = Opti()\n",
    "opti.solver('ipopt')\n",
    "\n",
    "X = opti.variable(N+1,2)\n",
    "U = opti.variable(N)\n",
    "T = opti.variable()\n",
    "u_m = opti.parameter()\n",
    "#t_m = opti.parameter()\n",
    "\n",
    "#cost = sum1(2+cos(X[:,0]))*T #**2\n",
    "cost = T\n",
    "#cost = -sum1(X[:,0])\n",
    "opti.minimize(cost)\n",
    "\n",
    "opti.subject_to(X[0,:].T == [0, 0])\n",
    "opti.subject_to(cos(X[-1,0]) < -0.9999)\n",
    "#opti.subject_to(T < t_m)\n",
    "opti.subject_to(opti.bounded(-0.001,X[-1,1],0.001))\n",
    "\n",
    "for ii in range(N):\n",
    "    opti.subject_to(X[ii+1,:].T == new_x(X[ii,:], U[ii], T/N))\n",
    "    opti.subject_to(opti.bounded(-u_m,U[ii],u_m))"
   ]
  },
  {
   "cell_type": "code",
   "execution_count": null,
   "metadata": {},
   "outputs": [],
   "source": [
    "opti.set_initial(X[:,0], np.linspace(0, pi, N+1))\n",
    "opti.set_initial(X[:,1], pi/N)\n",
    "opti.set_initial(T, 50)\n",
    "max_par = 0.1\n",
    "opti.set_value(u_m, max_par)\n",
    "\n",
    "sol = opti.solve()"
   ]
  },
  {
   "cell_type": "code",
   "execution_count": null,
   "metadata": {},
   "outputs": [],
   "source": [
    "plot_results(sol.value(X), sol.value(U),sol.value(T), max_par, N)"
   ]
  },
  {
   "cell_type": "code",
   "execution_count": null,
   "metadata": {
    "scrolled": false
   },
   "outputs": [],
   "source": [
    "xx = integrate_euler(DM([0,0]), sol.value(U), sol.value(T)/N)\n",
    "plot_results_sim(sol.value(U), xx, sol.value(T), sol.value(max_par), N)"
   ]
  },
  {
   "cell_type": "code",
   "execution_count": null,
   "metadata": {},
   "outputs": [],
   "source": [
    "#anim = create_anim(sol)"
   ]
  },
  {
   "cell_type": "code",
   "execution_count": null,
   "metadata": {},
   "outputs": [],
   "source": [
    "#HTML(anim.to_jshtml())"
   ]
  },
  {
   "cell_type": "markdown",
   "metadata": {},
   "source": [
    "## Otras comprobaciones: Alimentar integradores avanzados con solución de Euler"
   ]
  },
  {
   "cell_type": "code",
   "execution_count": null,
   "metadata": {},
   "outputs": [],
   "source": [
    "N = 500\n",
    "\n",
    "k1 = F(x, u);\n",
    "k2 = F(x + dt/2 * k1, u)\n",
    "k3 = F(x + dt/2 * k2, u)\n",
    "k4 = F(x + dt * k3, u);\n",
    "new_x_expr_rk = x+dt/6*(k1 +2*k2 +2*k3 +k4)\n",
    "\n",
    "new_x_expr_eu = x + dt * F(x, u)\n",
    "\n",
    "new_x_expr_mid = x + dt * F(x + 0.5*dt*F(x, u), u)\n",
    "\n",
    "new_x_eu = Function('New_x_eu', [x, u, dt], [new_x_expr_eu])\n",
    "new_x_mid = Function('New_x_mid', [x, u, dt], [new_x_expr_mid])\n",
    "new_x_rk = Function('New_x_rk', [x, u, dt], [new_x_expr_rk])"
   ]
  },
  {
   "cell_type": "code",
   "execution_count": null,
   "metadata": {},
   "outputs": [],
   "source": [
    "def create_pend(new_x):\n",
    "    opti = Opti()\n",
    "    opti.solver('ipopt')\n",
    "\n",
    "    X = opti.variable(N+1,2)\n",
    "    U = opti.variable(N)\n",
    "    T = opti.parameter()\n",
    "    u_m = opti.parameter()\n",
    "    #t_m = opti.parameter()\n",
    "\n",
    "    cost = sum1(cos(X[:,0])) #**2\n",
    "    #cost = T\n",
    "    #cost = -sum1(X[:,0])\n",
    "    opti.minimize(cost)\n",
    "\n",
    "    opti.subject_to(X[0,:].T == [0, 0])\n",
    "    \n",
    "\n",
    "    for ii in range(N):\n",
    "        opti.subject_to(X[ii+1,:].T == new_x(X[ii,:], U[ii], T/N))\n",
    "        opti.subject_to(opti.bounded(-u_m,U[ii],u_m))\n",
    "    return opti, X, U, T, u_m"
   ]
  },
  {
   "cell_type": "code",
   "execution_count": null,
   "metadata": {},
   "outputs": [],
   "source": [
    "opti_eu, X, U, T, u_m = create_pend(new_x_eu)\n",
    "\n",
    "opti_eu.subject_to(cos(X[-1,0]) < -0.9999)\n",
    "#opti.subject_to(T < t_m)\n",
    "opti_eu.subject_to(opti.bounded(-0.001,X[-1,1],0.001))\n",
    "    \n",
    "opti_eu.set_initial(X[:,0], np.linspace(0, pi, N+1))\n",
    "opti_eu.set_initial(X[:,1], pi/N)\n",
    "opti_eu.set_value(T, 60)\n",
    "max_par = 0.1\n",
    "opti_eu.set_value(u_m, max_par)\n",
    "\n",
    "sol_eu = opti_eu.solve()"
   ]
  },
  {
   "cell_type": "code",
   "execution_count": null,
   "metadata": {},
   "outputs": [],
   "source": [
    "X_eu = sol_eu.value(X)\n",
    "U_eu = sol_eu.value(U)\n",
    "T_eu = sol_eu.value(T)"
   ]
  },
  {
   "cell_type": "code",
   "execution_count": null,
   "metadata": {
    "scrolled": false
   },
   "outputs": [],
   "source": [
    "plot_results(X_eu, U_eu, T_eu, max_par, N)"
   ]
  },
  {
   "cell_type": "code",
   "execution_count": null,
   "metadata": {
    "scrolled": false
   },
   "outputs": [],
   "source": [
    "xx = integrate_rk4(DM([0,0]), U_eu, T_eu/N)\n",
    "plot_results_sim(U_eu, xx, T_eu, 0.1, N)"
   ]
  },
  {
   "cell_type": "code",
   "execution_count": null,
   "metadata": {},
   "outputs": [],
   "source": [
    "print_phase_space(X_eu)"
   ]
  },
  {
   "cell_type": "code",
   "execution_count": null,
   "metadata": {
    "scrolled": true
   },
   "outputs": [],
   "source": [
    "opti_mid, X, U, T, u_m = create_pend(new_x_mid)\n",
    "opti_mid.set_initial(X, X_eu)\n",
    "#opti_mid.set_value(T, T_eu)\n",
    "opti_mid.set_value(T, 120)\n",
    "opti_mid.set_initial(U, U_eu)\n",
    "max_par = 0.1\n",
    "opti_mid.set_value(u_m, max_par)\n",
    "\n",
    "sol_mid = opti_mid.solve()"
   ]
  },
  {
   "cell_type": "code",
   "execution_count": null,
   "metadata": {},
   "outputs": [],
   "source": [
    "X_mid = sol_mid.value(X)\n",
    "U_mid = sol_mid.value(U)\n",
    "T_mid = sol_mid.value(T)"
   ]
  },
  {
   "cell_type": "code",
   "execution_count": null,
   "metadata": {},
   "outputs": [],
   "source": [
    "plot_results(X_mid, U_mid, T_mid, max_par, N)"
   ]
  },
  {
   "cell_type": "code",
   "execution_count": null,
   "metadata": {
    "scrolled": false
   },
   "outputs": [],
   "source": [
    "xx = integrate_rk4(DM([0,0]), U_mid, T_mid/N)\n",
    "plot_results_sim(U_mid, xx, T_mid, 0.1, N)"
   ]
  },
  {
   "cell_type": "code",
   "execution_count": null,
   "metadata": {},
   "outputs": [],
   "source": [
    "opti_rk, X, U, T, u_m = create_pend(new_x_rk)\n",
    "opti_rk.set_initial(X, X_mid)\n",
    "opti_rk.set_value(T, T_mid)\n",
    "opti_rk.set_initial(U, U_mid)\n",
    "max_par = 0.1\n",
    "opti_rk.set_value(u_m, max_par)\n",
    "\n",
    "sol_rk = opti_rk.solve()"
   ]
  },
  {
   "cell_type": "code",
   "execution_count": null,
   "metadata": {},
   "outputs": [],
   "source": [
    "X_rk = sol_rk.value(X)\n",
    "U_rk = sol_rk.value(U)\n",
    "T_rk = sol_rk.value(T)"
   ]
  },
  {
   "cell_type": "code",
   "execution_count": null,
   "metadata": {},
   "outputs": [],
   "source": [
    "plot_results(X_rk, U_rk, T_rk, max_par, N)"
   ]
  },
  {
   "cell_type": "code",
   "execution_count": null,
   "metadata": {
    "scrolled": false
   },
   "outputs": [],
   "source": [
    "xx = integrate_rk4(DM([0,0]), U_rk, T_rk/N)\n",
    "plot_results_sim(U_rk, xx, T_rk, 0.1, N)"
   ]
  },
  {
   "cell_type": "code",
   "execution_count": null,
   "metadata": {},
   "outputs": [],
   "source": [
    "print_phase_space(xx)"
   ]
  },
  {
   "cell_type": "code",
   "execution_count": null,
   "metadata": {},
   "outputs": [],
   "source": [
    "anim = create_anim(X_rk, U_rk)"
   ]
  },
  {
   "cell_type": "code",
   "execution_count": null,
   "metadata": {},
   "outputs": [],
   "source": [
    "HTML(anim.to_jshtml())"
   ]
  },
  {
   "cell_type": "markdown",
   "metadata": {},
   "source": [
    "## Multishooting"
   ]
  },
  {
   "cell_type": "code",
   "execution_count": null,
   "metadata": {},
   "outputs": [],
   "source": [
    "def pend_interval(new_x, X_0, U, N, dt):\n",
    "    X = [X_0,]\n",
    "    for ii in range(N):\n",
    "        X_n = new_x(X[-1], U, dt)\n",
    "        X.append(X_n.T)\n",
    "    \n",
    "    return vertcat(*X)"
   ]
  },
  {
   "cell_type": "code",
   "execution_count": null,
   "metadata": {},
   "outputs": [],
   "source": [
    "N_shoot = 20\n",
    "N_int = 8\n",
    "\n",
    "options = {\n",
    "    'qpsol': 'qrqp',\n",
    "    'error_on_fail': False\n",
    "}\n",
    "opti = Opti()\n",
    "opti.solver('ipopt')\n",
    "#opti.solver('sqpmethod')#, options)\n",
    "\n",
    "T_int = opti.variable(N_int)\n",
    "X_transitions = opti.variable(N_int+1,2)\n",
    "#U = opti.variable(N)\n",
    "#dt = opti.parameter()\n",
    "X_0 = opti.parameter(1,2)\n",
    "u_m = opti.parameter()\n",
    "\n",
    "cost = cos(X_transitions[-1,0]) + X_transitions[-1,1]**2#*T_int[-1] #**2\n",
    "#cost = T\n",
    "#cost = -sum1(X[:,0])\n",
    "opti.minimize(cost)\n",
    "\n",
    "\n",
    "#opti.subject_to(cos(X_transitions[-1,0]) < -0.9999)\n",
    "#opti.subject_to(opti.bounded(-0.001,X_transitions[-1,1],0.001))\n",
    "\n",
    "U = u_m\n",
    "for ii in range(N_int):\n",
    "    dt = T_int[ii]/N_shoot\n",
    "    #X_int_arr = pend_interval(new_x_mid,X_transitions[ii,:], U, N_shoot, dt)\n",
    "    X_int_arr = pend_interval(new_x_eu,X_transitions[ii,:], U, N_shoot, dt)\n",
    "    U = -U\n",
    "#    X_transitions[ii, :] = X_int_arr[-1, :]\n",
    "    X_int_end = X_int_arr[-1, :]\n",
    "    \n",
    "    \n",
    "    opti.subject_to(X_transitions[ii+1,:]== X_int_arr[-1, :])\n",
    "    \n",
    "opti.subject_to(X_transitions[0,:] == X_0)\n",
    "opti.set_value(X_0, horzcat(0,0))"
   ]
  },
  {
   "cell_type": "code",
   "execution_count": null,
   "metadata": {},
   "outputs": [],
   "source": [
    "opti.set_initial(X_transitions[:,0], np.linspace(0, pi, N_int+1))\n",
    "opti.set_initial(X_transitions[:,1], 0)\n",
    "opti.set_initial(T_int, np.linspace(0, 10*N_int, N_int))\n",
    "max_par = 0.2\n",
    "opti.set_value(u_m, max_par)\n",
    "\n",
    "sol = opti.solve()"
   ]
  },
  {
   "cell_type": "code",
   "execution_count": null,
   "metadata": {},
   "outputs": [],
   "source": [
    "X_arr = sol.value(X_0).reshape([1,2])\n",
    "u_val = sol.value(U)\n",
    "for ii in range(N_int):\n",
    "    dt = sol.value(T_int)[ii]/N_shoot\n",
    "    #X_int_arr = pend_interval(new_x_mid,X_transitions[ii,:], U, N_shoot, dt)\n",
    "    _aa = sol.value(X_transitions)[ii,:]\n",
    "    X_int_arr = pend_interval(new_x_eu, _aa.reshape([1,2]), u_val, N_shoot, dt)\n",
    "    u_val = -u_val\n",
    "#    X_transitions[ii, :] = X_int_arr[-1, :]\n",
    "    X_arr = vertcat(X_arr, X_int_arr)"
   ]
  },
  {
   "cell_type": "code",
   "execution_count": null,
   "metadata": {},
   "outputs": [],
   "source": [
    "X_arr"
   ]
  },
  {
   "cell_type": "code",
   "execution_count": null,
   "metadata": {},
   "outputs": [],
   "source": [
    "plt.plot(X_arr)"
   ]
  },
  {
   "cell_type": "code",
   "execution_count": null,
   "metadata": {},
   "outputs": [],
   "source": [
    "_ = pend_interval(new_x_mid, horzcat(0,0), 0.2, 20, 0.2)"
   ]
  },
  {
   "cell_type": "code",
   "execution_count": null,
   "metadata": {},
   "outputs": [],
   "source": [
    "_"
   ]
  },
  {
   "cell_type": "code",
   "execution_count": null,
   "metadata": {},
   "outputs": [],
   "source": []
  },
  {
   "cell_type": "code",
   "execution_count": null,
   "metadata": {},
   "outputs": [],
   "source": [
    "results = []\n",
    "for ii in [0.5, 0.2, 0.1, 0.05, 0.02, 0.01]:\n",
    "    opti.set_value(u_m, ii)\n",
    "    est_t = (2 + sqrt(1/ii))*8\n",
    "    opti.set_initial(T, est_t)\n",
    "    try:\n",
    "        sol = opti.solve()\n",
    "    except:\n",
    "        pass\n",
    "    else:\n",
    "        results.append([sol, ii, N])"
   ]
  },
  {
   "cell_type": "code",
   "execution_count": null,
   "metadata": {},
   "outputs": [],
   "source": [
    "for res in results:\n",
    "    plot_results(*res)"
   ]
  },
  {
   "cell_type": "code",
   "execution_count": null,
   "metadata": {},
   "outputs": [],
   "source": [
    "xx = np.array([1,0.5, 0.2, 0.1, 0.05, 0.02])\n",
    "yy = np.array([1,2,3,5,6,8])\n",
    "\n",
    "plt.plot(1/xx,yy)\n",
    "#pp = np.arange(50)\n",
    "pp = 1/xx\n",
    "plt.plot(pp,1 + np.sqrt(pp))"
   ]
  },
  {
   "cell_type": "code",
   "execution_count": null,
   "metadata": {},
   "outputs": [],
   "source": [
    "opti.debug.show_infeasibilities()"
   ]
  },
  {
   "cell_type": "code",
   "execution_count": null,
   "metadata": {},
   "outputs": [],
   "source": []
  },
  {
   "cell_type": "code",
   "execution_count": null,
   "metadata": {},
   "outputs": [],
   "source": []
  },
  {
   "cell_type": "code",
   "execution_count": null,
   "metadata": {},
   "outputs": [],
   "source": []
  }
 ],
 "metadata": {
  "kernelspec": {
   "display_name": "Python 3",
   "language": "python",
   "name": "python3"
  },
  "language_info": {
   "codemirror_mode": {
    "name": "ipython",
    "version": 3
   },
   "file_extension": ".py",
   "mimetype": "text/x-python",
   "name": "python",
   "nbconvert_exporter": "python",
   "pygments_lexer": "ipython3",
   "version": "3.7.3"
  }
 },
 "nbformat": 4,
 "nbformat_minor": 2
}
