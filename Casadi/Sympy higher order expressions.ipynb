{
 "cells": [
  {
   "cell_type": "code",
   "execution_count": 102,
   "metadata": {},
   "outputs": [],
   "source": [
    "from sympy import (symbols, pi, I, E, cos, sin, exp, tan, simplify, expand, factor, collect,\n",
    "                   apart, cancel, expand_trig, diff, Derivative, Function, integrate, limit,\n",
    "                   series, Eq, solve, dsolve, Matrix, N, preorder_traversal, Float, solve_linear_system,\n",
    "                   eye, zeros, lambdify, Symbol,hessian, sqrt, evalf, summation, factorial)\n",
    "from sympy.physics.mechanics import dynamicsymbols, init_vprinting"
   ]
  },
  {
   "cell_type": "code",
   "execution_count": 2,
   "metadata": {},
   "outputs": [],
   "source": [
    "init_vprinting()"
   ]
  },
  {
   "cell_type": "code",
   "execution_count": 4,
   "metadata": {},
   "outputs": [
    {
     "data": {
      "image/png": "[encoded data removed]",
      "text/latex": [
       "$\\displaystyle \\left( g_{k}, \\  g_{c}, \\  g_{k+1}\\right)$"
      ],
      "text/plain": [
       "(gₖ, g_c, g_{k+1})"
      ]
     },
     "execution_count": 4,
     "metadata": {},
     "output_type": "execute_result"
    }
   ],
   "source": [
    "t = symbols('tau')\n",
    "g_k, g_c, g_n = symbols('g_k g_c g_{k+1}')\n",
    "h, q_k, v_k = symbols('h q_k v_k')\n",
    "g_k, g_c, g_n"
   ]
  },
  {
   "cell_type": "code",
   "execution_count": 7,
   "metadata": {},
   "outputs": [
    {
     "data": {
      "image/png": "[encoded data removed]",
      "text/latex": [
       "$\\displaystyle g_{k} \\tau + v_{k} - \\frac{\\tau^{2} \\left(- 4 g_{c} + 3 g_{k} + g_{k+1}\\right)}{2 h} + \\frac{\\tau^{3} \\left(- 4 g_{c} + 2 g_{k} + 2 g_{k+1}\\right)}{3 h^{2}}$"
      ],
      "text/plain": [
       "             2                              3                            \n",
       "            τ ⋅(-4⋅g_c + 3⋅gₖ + g_{k+1})   τ ⋅(-4⋅g_c + 2⋅gₖ + 2⋅g_{k+1})\n",
       "gₖ⋅τ + vₖ - ──────────────────────────── + ──────────────────────────────\n",
       "                        2⋅h                                2             \n",
       "                                                        3⋅h              "
      ]
     },
     "execution_count": 7,
     "metadata": {},
     "output_type": "execute_result"
    }
   ],
   "source": [
    "v_tau = v_k + g_k*t - t**2/(2*h)*(3*g_k - 4*g_c +g_n) + t**3/(3*h**2)*(2*g_k - 4*g_c +2*g_n)\n",
    "v_tau"
   ]
  },
  {
   "cell_type": "code",
   "execution_count": 8,
   "metadata": {},
   "outputs": [
    {
     "data": {
      "image/png": "[encoded data removed]",
      "text/latex": [
       "$\\displaystyle g_{k} - \\frac{\\tau \\left(- 4 g_{c} + 3 g_{k} + g_{k+1}\\right)}{h} + \\frac{\\tau^{2} \\left(- 4 g_{c} + 2 g_{k} + 2 g_{k+1}\\right)}{h^{2}}$"
      ],
      "text/plain": [
       "                                    2                            \n",
       "     τ⋅(-4⋅g_c + 3⋅gₖ + g_{k+1})   τ ⋅(-4⋅g_c + 2⋅gₖ + 2⋅g_{k+1})\n",
       "gₖ - ─────────────────────────── + ──────────────────────────────\n",
       "                  h                               2              \n",
       "                                                 h               "
      ]
     },
     "execution_count": 8,
     "metadata": {},
     "output_type": "execute_result"
    }
   ],
   "source": [
    "v_tau.diff(t)"
   ]
  },
  {
   "cell_type": "code",
   "execution_count": 9,
   "metadata": {},
   "outputs": [],
   "source": [
    "M,j = symbols('M j')"
   ]
  },
  {
   "cell_type": "code",
   "execution_count": 14,
   "metadata": {},
   "outputs": [
    {
     "data": {
      "image/png": "[encoded data removed]",
      "text/latex": [
       "$\\displaystyle M^{2} - 2 M j + j^{2}$"
      ],
      "text/plain": [
       " 2            2\n",
       "M  - 2⋅M⋅j + j "
      ]
     },
     "execution_count": 14,
     "metadata": {},
     "output_type": "execute_result"
    }
   ],
   "source": [
    "simplify(expand((M-j+1)*(M-j+2) - 3*(M-j+2) +4))"
   ]
  },
  {
   "cell_type": "code",
   "execution_count": 16,
   "metadata": {},
   "outputs": [
    {
     "data": {
      "image/png": "[encoded data removed]",
      "text/latex": [
       "$\\displaystyle 4 M - 4 j$"
      ],
      "text/plain": [
       "4⋅M - 4⋅j"
      ]
     },
     "execution_count": 16,
     "metadata": {},
     "output_type": "execute_result"
    }
   ],
   "source": [
    "simplify(+ 4*(M-j+2)-8)"
   ]
  },
  {
   "cell_type": "code",
   "execution_count": 17,
   "metadata": {},
   "outputs": [
    {
     "data": {
      "image/png": "[encoded data removed]",
      "text/latex": [
       "$\\displaystyle - M + j + 2$"
      ],
      "text/plain": [
       "-M + j + 2"
      ]
     },
     "execution_count": 17,
     "metadata": {},
     "output_type": "execute_result"
    }
   ],
   "source": [
    "simplify(-1*(M-j+2)+4)"
   ]
  },
  {
   "cell_type": "code",
   "execution_count": null,
   "metadata": {},
   "outputs": [],
   "source": []
  },
  {
   "cell_type": "code",
   "execution_count": 18,
   "metadata": {},
   "outputs": [
    {
     "data": {
      "image/png": "[encoded data removed]",
      "text/latex": [
       "$\\displaystyle 4 M^{2} - 8 M j + 6 M + 4 j^{2} - 6 j$"
      ],
      "text/plain": [
       "   2                    2      \n",
       "4⋅M  - 8⋅M⋅j + 6⋅M + 4⋅j  - 6⋅j"
      ]
     },
     "execution_count": 18,
     "metadata": {},
     "output_type": "execute_result"
    }
   ],
   "source": [
    "simplify(expand(4*(M-j+1)*(M-j+2) - 6*(M-j+2) +4))"
   ]
  },
  {
   "cell_type": "code",
   "execution_count": 33,
   "metadata": {
    "scrolled": true
   },
   "outputs": [
    {
     "data": {
      "image/png": "[encoded data removed]",
      "text/latex": [
       "$\\displaystyle 4 M^{2} - 8 M j + 6.0 M + 4 j^{2} - 6.0 j$"
      ],
      "text/plain": [
       "   2                      2        \n",
       "4⋅M  - 8⋅M⋅j + 6.0⋅M + 4⋅j  - 6.0⋅j"
      ]
     },
     "execution_count": 33,
     "metadata": {},
     "output_type": "execute_result"
    }
   ],
   "source": [
    "expand(4*(M-j+3/2)*(M-j))"
   ]
  },
  {
   "cell_type": "code",
   "execution_count": 24,
   "metadata": {},
   "outputs": [],
   "source": [
    "a,b,c,d,e,f = symbols('a b c d e f')"
   ]
  },
  {
   "cell_type": "code",
   "execution_count": 28,
   "metadata": {},
   "outputs": [
    {
     "data": {
      "image/png": "[encoded data removed]",
      "text/latex": [
       "$\\displaystyle M^{2} a d + M a e j + M b d j + M c d + b e j^{2} + c e j$"
      ],
      "text/plain": [
       " 2                                        2        \n",
       "M ⋅a⋅d + M⋅a⋅e⋅j + M⋅b⋅d⋅j + M⋅c⋅d + b⋅e⋅j  + c⋅e⋅j"
      ]
     },
     "execution_count": 28,
     "metadata": {},
     "output_type": "execute_result"
    }
   ],
   "source": [
    "expand((a*M+b*j+c)*(d*M+e*j))"
   ]
  },
  {
   "cell_type": "code",
   "execution_count": 184,
   "metadata": {},
   "outputs": [
    {
     "data": {
      "image/png": "[encoded data removed]",
      "text/latex": [
       "$\\displaystyle 8 M - 8 j + 8$"
      ],
      "text/plain": [
       "8⋅M - 8⋅j + 8"
      ]
     },
     "execution_count": 184,
     "metadata": {},
     "output_type": "execute_result"
    }
   ],
   "source": [
    "simplify(8*(M-j+2)-8)"
   ]
  },
  {
   "cell_type": "code",
   "execution_count": 35,
   "metadata": {},
   "outputs": [
    {
     "data": {
      "image/png": "[encoded data removed]",
      "text/latex": [
       "$\\displaystyle - 2 M + 2 j$"
      ],
      "text/plain": [
       "-2⋅M + 2⋅j"
      ]
     },
     "execution_count": 35,
     "metadata": {},
     "output_type": "execute_result"
    }
   ],
   "source": [
    "simplify(-2*(M-j+2)+4)"
   ]
  },
  {
   "cell_type": "code",
   "execution_count": null,
   "metadata": {},
   "outputs": [],
   "source": []
  },
  {
   "cell_type": "code",
   "execution_count": 51,
   "metadata": {},
   "outputs": [
    {
     "data": {
      "image/png": "[encoded data removed]",
      "text/latex": [
       "$\\displaystyle M^{2} a d + M a e j + M a f + M b d j + M c d + b e j^{2} + b f j + c e j + c f$"
      ],
      "text/plain": [
       " 2                                                2                      \n",
       "M ⋅a⋅d + M⋅a⋅e⋅j + M⋅a⋅f + M⋅b⋅d⋅j + M⋅c⋅d + b⋅e⋅j  + b⋅f⋅j + c⋅e⋅j + c⋅f"
      ]
     },
     "execution_count": 51,
     "metadata": {},
     "output_type": "execute_result"
    }
   ],
   "source": [
    "expand((a*M+b*j+c)*(d*M+e*j+f))"
   ]
  },
  {
   "cell_type": "code",
   "execution_count": 57,
   "metadata": {},
   "outputs": [
    {
     "data": {
      "image/png": "[encoded data removed]",
      "text/latex": [
       "$\\displaystyle 2 M^{2} - 4 M j + 2 M + 2 j^{2} - 2 j - 1$"
      ],
      "text/plain": [
       "   2                    2          \n",
       "2⋅M  - 4⋅M⋅j + 2⋅M + 2⋅j  - 2⋅j - 1"
      ]
     },
     "execution_count": 57,
     "metadata": {},
     "output_type": "execute_result"
    }
   ],
   "source": [
    "_aa = simplify(expand(4*(M-j+1)*(M-j+2) - 6*(M-j+2) +4)-2*(M-j+1))\n",
    "_aa/2"
   ]
  },
  {
   "cell_type": "code",
   "execution_count": 80,
   "metadata": {
    "scrolled": true
   },
   "outputs": [
    {
     "data": {
      "image/png": "[encoded data removed]",
      "text/latex": [
       "$\\displaystyle 2 M^{2} - 4 M j - M + 2 j^{2} + j - 1$"
      ],
      "text/plain": [
       "   2                  2        \n",
       "2⋅M  - 4⋅M⋅j - M + 2⋅j  + j - 1"
      ]
     },
     "execution_count": 80,
     "metadata": {},
     "output_type": "execute_result"
    }
   ],
   "source": [
    "expand((-2*M+2*j-1)*(-1*M+1*j+1))"
   ]
  },
  {
   "cell_type": "code",
   "execution_count": 55,
   "metadata": {},
   "outputs": [
    {
     "data": {
      "image/png": "[encoded data removed]",
      "text/latex": [
       "$\\displaystyle 2 \\left(2 M^{2} - 4 M j + 2 M + 2 j^{2} - 2 j - 1\\right)$"
      ],
      "text/plain": [
       "  ⎛   2                    2          ⎞\n",
       "2⋅⎝2⋅M  - 4⋅M⋅j + 2⋅M + 2⋅j  - 2⋅j - 1⎠"
      ]
     },
     "execution_count": 55,
     "metadata": {},
     "output_type": "execute_result"
    }
   ],
   "source": [
    "_aa.factor()"
   ]
  },
  {
   "cell_type": "code",
   "execution_count": 84,
   "metadata": {},
   "outputs": [],
   "source": [
    "i,j =symbols('i j')"
   ]
  },
  {
   "cell_type": "code",
   "execution_count": 146,
   "metadata": {},
   "outputs": [
    {
     "data": {
      "image/png": "[encoded data removed]",
      "text/latex": [
       "$\\displaystyle \\left( q_{k}, \\  \\dot{q}_{k}, \\  \\dot{q}_{{k+1}}\\right)$"
      ],
      "text/plain": [
       "(qₖ, qₖ̇, q_{k̇+1})"
      ]
     },
     "execution_count": 146,
     "metadata": {},
     "output_type": "execute_result"
    }
   ],
   "source": [
    "q_k, q_n=dynamicsymbols('q_k q_{k+1}')\n",
    "v_k = q_k.diff()\n",
    "v_n = q_n.diff()\n",
    "q_k, v_k, v_n"
   ]
  },
  {
   "cell_type": "code",
   "execution_count": 200,
   "metadata": {},
   "outputs": [
    {
     "data": {
      "image/png": "[encoded data removed]",
      "text/latex": [
       "$\\displaystyle 2 M^{2} - 4 M j + 4 M + 2 j^{2} - 4 j - 3$"
      ],
      "text/plain": [
       "   2                    2          \n",
       "2⋅M  - 4⋅M⋅j + 4⋅M + 2⋅j  - 4⋅j - 3"
      ]
     },
     "execution_count": 200,
     "metadata": {},
     "output_type": "execute_result"
    }
   ],
   "source": [
    "expand(2*(M-j+2)*(M-j)-3)"
   ]
  },
  {
   "cell_type": "code",
   "execution_count": 201,
   "metadata": {},
   "outputs": [
    {
     "data": {
      "image/png": "[encoded data removed]",
      "text/latex": [
       "$\\displaystyle \\frac{2^{- M + j} h^{M - j - 1} \\left(\\left(M - j\\right) \\left(2 M - 2 j + 4\\right) - 3\\right) \\left(M - j + 1\\right) \\dot{q}_{k}}{\\left(M - j + 2\\right)!}$"
      ],
      "text/plain": [
       " -M + j  M - j - 1                                             \n",
       "2      ⋅h         ⋅((M - j)⋅(2⋅M - 2⋅j + 4) - 3)⋅(M - j + 1)⋅qₖ̇\n",
       "───────────────────────────────────────────────────────────────\n",
       "                          (M - j + 2)!                         "
      ]
     },
     "execution_count": 201,
     "metadata": {},
     "output_type": "execute_result"
    }
   ],
   "source": [
    "_a = h**(M-j-1)*(M-j+1)*v_k*(2*(M-j+2)*(M-j)-3)/(2**(M-j)*factorial(M-j+2))\n",
    "_a"
   ]
  },
  {
   "cell_type": "code",
   "execution_count": 202,
   "metadata": {},
   "outputs": [
    {
     "data": {
      "image/png": "[encoded data removed]",
      "text/latex": [
       "$\\displaystyle \\frac{3 \\cdot 2^{- M + j} h^{M - j - 1} \\left(M - j + 1\\right) \\dot{q}_{{k+1}}}{\\left(M - j + 2\\right)!}$"
      ],
      "text/plain": [
       "   -M + j  M - j - 1                    \n",
       "3⋅2      ⋅h         ⋅(M - j + 1)⋅q_{k̇+1}\n",
       "────────────────────────────────────────\n",
       "              (M - j + 2)!              "
      ]
     },
     "execution_count": 202,
     "metadata": {},
     "output_type": "execute_result"
    }
   ],
   "source": [
    "_b = 3*h**(M-j-1)*(M-j+1)*v_n/(2**(M-j)*factorial(M-j+2))\n",
    "_b"
   ]
  },
  {
   "cell_type": "code",
   "execution_count": 203,
   "metadata": {},
   "outputs": [
    {
     "data": {
      "image/png": "[encoded data removed]",
      "text/latex": [
       "$\\displaystyle \\frac{2^{- M + j - 1} h^{M - j}}{\\left(M - j + 2\\right)!}$"
      ],
      "text/plain": [
       " -M + j - 1  M - j\n",
       "2          ⋅h     \n",
       "──────────────────\n",
       "   (M - j + 2)!   "
      ]
     },
     "execution_count": 203,
     "metadata": {},
     "output_type": "execute_result"
    }
   ],
   "source": [
    "_c = h**(M-j)/(2**(M-j+1)*factorial(M-j+2))\n",
    "_c"
   ]
  },
  {
   "cell_type": "code",
   "execution_count": 204,
   "metadata": {},
   "outputs": [
    {
     "data": {
      "image/png": "[encoded data removed]",
      "text/latex": [
       "$\\displaystyle 2 M^{2} - 4 M j + 2 M + 2 j^{2} - 2 j - 1$"
      ],
      "text/plain": [
       "   2                    2          \n",
       "2⋅M  - 4⋅M⋅j + 2⋅M + 2⋅j  - 2⋅j - 1"
      ]
     },
     "execution_count": 204,
     "metadata": {},
     "output_type": "execute_result"
    }
   ],
   "source": [
    "_d = 2*M**2 - 4*M*j + 2*M + 2*j**2 -2*j -1\n",
    "_d"
   ]
  },
  {
   "cell_type": "code",
   "execution_count": 205,
   "metadata": {},
   "outputs": [
    {
     "data": {
      "image/png": "[encoded data removed]",
      "text/latex": [
       "$\\displaystyle - 2 M + 2 j - 1$"
      ],
      "text/plain": [
       "-2⋅M + 2⋅j - 1"
      ]
     },
     "execution_count": 205,
     "metadata": {},
     "output_type": "execute_result"
    }
   ],
   "source": [
    "_e = -2*M + 2*j -1\n",
    "_e"
   ]
  },
  {
   "cell_type": "code",
   "execution_count": 206,
   "metadata": {},
   "outputs": [
    {
     "data": {
      "image/png": "[encoded data removed]",
      "text/latex": [
       "$\\displaystyle \\frac{2^{- M + j - 1} h^{M - j} \\left(g_{k} \\left(2 M^{2} - 4 M j + 2 M + 2 j^{2} - 2 j - 1\\right) + g_{k+1} \\left(- 2 M + 2 j - 1\\right)\\right)}{\\left(M - j + 2\\right)!}$"
      ],
      "text/plain": [
       " -M + j - 1  M - j ⎛   ⎛   2                    2          ⎞                  \n",
       "2          ⋅h     ⋅⎝gₖ⋅⎝2⋅M  - 4⋅M⋅j + 2⋅M + 2⋅j  - 2⋅j - 1⎠ + g_{k+1}⋅(-2⋅M +\n",
       "──────────────────────────────────────────────────────────────────────────────\n",
       "                                      (M - j + 2)!                            \n",
       "\n",
       "         ⎞\n",
       " 2⋅j - 1)⎠\n",
       "──────────\n",
       "          "
      ]
     },
     "execution_count": 206,
     "metadata": {},
     "output_type": "execute_result"
    }
   ],
   "source": [
    "_f = _c*(_d*g_k + _e*g_n)\n",
    "_f"
   ]
  },
  {
   "cell_type": "code",
   "execution_count": 207,
   "metadata": {},
   "outputs": [
    {
     "data": {
      "image/png": "[encoded data removed]",
      "text/latex": [
       "$\\displaystyle \\frac{2^{- M + j} h^{M - j - 1} \\left(\\left(M - j\\right) \\left(2 M - 2 j + 4\\right) - 3\\right) \\left(M - j + 1\\right) \\dot{q}_{k}}{\\left(M - j + 2\\right)!} + \\frac{3 \\cdot 2^{- M + j} h^{M - j - 1} \\left(M - j + 1\\right) \\dot{q}_{{k+1}}}{\\left(M - j + 2\\right)!} + \\frac{2^{- M + j - 1} h^{M - j} \\left(g_{k} \\left(2 M^{2} - 4 M j + 2 M + 2 j^{2} - 2 j - 1\\right) + g_{k+1} \\left(- 2 M + 2 j - 1\\right)\\right)}{\\left(M - j + 2\\right)!}$"
      ],
      "text/plain": [
       " -M + j  M - j - 1                                                   -M + j  M\n",
       "2      ⋅h         ⋅((M - j)⋅(2⋅M - 2⋅j + 4) - 3)⋅(M - j + 1)⋅qₖ̇   3⋅2      ⋅h\n",
       "─────────────────────────────────────────────────────────────── + ────────────\n",
       "                          (M - j + 2)!                                        \n",
       "\n",
       " - j - 1                        -M + j - 1  M - j ⎛   ⎛   2                   \n",
       "         ⋅(M - j + 1)⋅q_{k̇+1}   2          ⋅h     ⋅⎝gₖ⋅⎝2⋅M  - 4⋅M⋅j + 2⋅M + \n",
       "──────────────────────────── + ───────────────────────────────────────────────\n",
       "  (M - j + 2)!                                                       (M - j + \n",
       "\n",
       " 2          ⎞                           ⎞\n",
       "2⋅j  - 2⋅j - 1⎠ + g_{k+1}⋅(-2⋅M + 2⋅j - 1)⎠\n",
       "─────────────────────────────────────────\n",
       "2)!                                      "
      ]
     },
     "execution_count": 207,
     "metadata": {},
     "output_type": "execute_result"
    }
   ],
   "source": [
    "expr = _a+_b+_f\n",
    "expr"
   ]
  },
  {
   "cell_type": "code",
   "execution_count": 208,
   "metadata": {},
   "outputs": [],
   "source": [
    "T = symbols('t')\n",
    "def q_dif(n,m=None):\n",
    "    if n == 0:\n",
    "        return q_k\n",
    "    elif m is not None and n==m-1:\n",
    "        return v_k\n",
    "    else:\n",
    "        return diff(dynamicsymbols('q_k'),(T,n))\n",
    "        #return symbols('q_k^{('+str(n)+')}')\n",
    "\n",
    "def suma_qc(m, jj):\n",
    "    return summation(h**i*q_dif(i+jj,m)/(2**i*factorial(i)),(i, 0, m-jj-2))\n",
    "\n",
    "def evaluate_expr(m, jj):\n",
    "    return expand(simplify(suma_qc(m, jj)+expand(simplify(expr.subs([(M,m),(j,jj)])))))"
   ]
  },
  {
   "cell_type": "code",
   "execution_count": 209,
   "metadata": {},
   "outputs": [
    {
     "data": {
      "image/png": "[encoded data removed]",
      "text/latex": [
       "$\\displaystyle \\frac{11 g_{k} h^{2}}{192} - \\frac{5 g_{k+1} h^{2}}{192} + \\frac{13 h \\dot{q}_{k}}{32} + \\frac{3 h \\dot{q}_{{k+1}}}{32} + q_{k}$"
      ],
      "text/plain": [
       "       2              2                             \n",
       "11⋅gₖ⋅h    5⋅g_{k+1}⋅h    13⋅h⋅qₖ̇   3⋅h⋅q_{k̇+1}     \n",
       "──────── - ──────────── + ─────── + ─────────── + qₖ\n",
       "  192          192           32          32         "
      ]
     },
     "execution_count": 209,
     "metadata": {},
     "output_type": "execute_result"
    }
   ],
   "source": [
    "evaluate_expr(2, 0)"
   ]
  },
  {
   "cell_type": "code",
   "execution_count": 210,
   "metadata": {},
   "outputs": [
    {
     "data": {
      "image/png": "[encoded data removed]",
      "text/latex": [
       "$\\displaystyle \\frac{g_{k} h}{8} - \\frac{g_{k+1} h}{8} + \\frac{\\dot{q}_{k}}{2} + \\frac{\\dot{q}_{{k+1}}}{2}$"
      ],
      "text/plain": [
       "gₖ⋅h   g_{k+1}⋅h   qₖ̇   q_{k̇+1}\n",
       "──── - ───────── + ── + ───────\n",
       " 8         8       2       2   "
      ]
     },
     "execution_count": 210,
     "metadata": {},
     "output_type": "execute_result"
    }
   ],
   "source": [
    "evaluate_expr(2, 1)"
   ]
  },
  {
   "cell_type": "code",
   "execution_count": 162,
   "metadata": {},
   "outputs": [
    {
     "data": {
      "image/png": "[encoded data removed]",
      "text/latex": [
       "$\\displaystyle \\frac{h^{M - j} \\left(g_{k} \\left(M - j\\right) + g_{k+1}\\right)}{\\left(M - j + 1\\right)!}$"
      ],
      "text/plain": [
       " M - j                       \n",
       "h     ⋅(gₖ⋅(M - j) + g_{k+1})\n",
       "─────────────────────────────\n",
       "         (M - j + 1)!        "
      ]
     },
     "execution_count": 162,
     "metadata": {},
     "output_type": "execute_result"
    }
   ],
   "source": [
    "expr_tz = h**(M-j)/factorial(M-j+1) * ((M-j)*g_k + g_n)\n",
    "\n",
    "expr_tz"
   ]
  },
  {
   "cell_type": "code",
   "execution_count": 163,
   "metadata": {},
   "outputs": [],
   "source": [
    "def suma_q_tz(m, jj):\n",
    "    return summation(h**i*q_dif(i+jj,m)/(factorial(i)),(i, 0, m-jj-1))\n",
    "\n",
    "def evaluate_expr_tz(m, jj):\n",
    "    return expand(simplify(suma_q_tz(m, jj)+expand(simplify(expr_tz.subs([(M,m),(j,jj)])))))"
   ]
  },
  {
   "cell_type": "code",
   "execution_count": 166,
   "metadata": {
    "scrolled": true
   },
   "outputs": [
    {
     "data": {
      "image/png": "[encoded data removed]",
      "text/latex": [
       "$\\displaystyle \\frac{h^{M - j} \\left(g_{c} \\left(4 M - 4 j\\right) + g_{k} \\left(M - j\\right)^{2} + g_{k+1} \\left(- M + j + 2\\right)\\right)}{\\left(M - j + 2\\right)!}$"
      ],
      "text/plain": [
       " M - j ⎛                            2                       ⎞\n",
       "h     ⋅⎝g_c⋅(4⋅M - 4⋅j) + gₖ⋅(M - j)  + g_{k+1}⋅(-M + j + 2)⎠\n",
       "─────────────────────────────────────────────────────────────\n",
       "                         (M - j + 2)!                        "
      ]
     },
     "execution_count": 166,
     "metadata": {},
     "output_type": "execute_result"
    }
   ],
   "source": [
    "expr_hs = h**(M-j)/factorial(M-j+2) * ((M-j)**2*g_k + 4*(M-j)*g_c +(j-M+2)*g_n)\n",
    "\n",
    "expr_hs"
   ]
  },
  {
   "cell_type": "code",
   "execution_count": 171,
   "metadata": {},
   "outputs": [
    {
     "data": {
      "image/png": "[encoded data removed]",
      "text/latex": [
       "$\\displaystyle \\frac{g_{k} h^{2}}{3} + \\frac{g_{k+1} h^{2}}{6} + h \\dot{q}_{k} + q_{k}$"
      ],
      "text/plain": [
       "    2            2            \n",
       "gₖ⋅h    g_{k+1}⋅h             \n",
       "───── + ────────── + h⋅qₖ̇ + qₖ\n",
       "  3         6                 "
      ]
     },
     "execution_count": 171,
     "metadata": {},
     "output_type": "execute_result"
    }
   ],
   "source": [
    "evaluate_expr_tz(2, 0)"
   ]
  },
  {
   "cell_type": "code",
   "execution_count": 167,
   "metadata": {},
   "outputs": [],
   "source": [
    "def suma_q_hs(m, jj):\n",
    "    return summation(h**i*q_dif(i+jj,m)/(factorial(i)),(i, 0, m-jj-1))\n",
    "\n",
    "def evaluate_expr_hs(m, jj):\n",
    "    return expand(simplify(suma_q_hs(m, jj)+expand(simplify(expr_hs.subs([(M,m),(j,jj)])))))"
   ]
  },
  {
   "cell_type": "code",
   "execution_count": 183,
   "metadata": {},
   "outputs": [
    {
     "data": {
      "image/png": "[encoded data removed]",
      "text/latex": [
       "$\\displaystyle \\frac{g_{c} h^{2}}{3} + \\frac{g_{k} h^{2}}{6} + h \\dot{q}_{k} + q_{k}$"
      ],
      "text/plain": [
       "     2       2            \n",
       "g_c⋅h    gₖ⋅h             \n",
       "────── + ───── + h⋅qₖ̇ + qₖ\n",
       "  3        6              "
      ]
     },
     "execution_count": 183,
     "metadata": {},
     "output_type": "execute_result"
    }
   ],
   "source": [
    "evaluate_expr_hs(2, 0)"
   ]
  },
  {
   "cell_type": "code",
   "execution_count": 185,
   "metadata": {},
   "outputs": [
    {
     "data": {
      "image/png": "[encoded data removed]",
      "text/latex": [
       "$\\displaystyle \\frac{2^{- M + j - 2} h^{M - j} \\left(g_{c} \\left(8 M - 8 j + 8\\right) + g_{k} \\left(M - j\\right) \\left(4 M - 4 j + 6\\right) + g_{k+1} \\left(- 2 M + 2 j\\right)\\right)}{\\left(M - j + 2\\right)!}$"
      ],
      "text/plain": [
       " -M + j - 2  M - j                                                            \n",
       "2          ⋅h     ⋅(g_c⋅(8⋅M - 8⋅j + 8) + gₖ⋅(M - j)⋅(4⋅M - 4⋅j + 6) + g_{k+1}\n",
       "──────────────────────────────────────────────────────────────────────────────\n",
       "                                        (M - j + 2)!                          \n",
       "\n",
       "              \n",
       "⋅(-2⋅M + 2⋅j))\n",
       "──────────────\n",
       "              "
      ]
     },
     "execution_count": 185,
     "metadata": {},
     "output_type": "execute_result"
    }
   ],
   "source": [
    "expr_hs_c = h**(M-j)/(2**(M-j+2)*factorial(M-j+2)) * (2*(2*M-2*j+3)*(M-j)*g_k + 8*(M-j+1)*g_c +2*(j-M)*g_n)\n",
    "\n",
    "expr_hs_c"
   ]
  },
  {
   "cell_type": "code",
   "execution_count": 186,
   "metadata": {},
   "outputs": [],
   "source": [
    "def suma_qc_p(m, jj):\n",
    "    return summation(h**i*q_dif(i+jj,m)/(2**i*factorial(i)),(i, 0, m-jj-1))\n",
    "\n",
    "def evaluate_expr_qc_p(m, jj):\n",
    "    return expand(simplify(suma_qc_p(m, jj)+expand(simplify(expr_hs_c.subs([(M,m),(j,jj)])))))"
   ]
  },
  {
   "cell_type": "code",
   "execution_count": 189,
   "metadata": {},
   "outputs": [
    {
     "data": {
      "image/png": "[encoded data removed]",
      "text/latex": [
       "$\\displaystyle \\frac{g_{c} h}{3} + \\frac{5 g_{k} h}{24} - \\frac{g_{k+1} h}{24} + \\dot{q}_{k}$"
      ],
      "text/plain": [
       "g_c⋅h   5⋅gₖ⋅h   g_{k+1}⋅h     \n",
       "───── + ────── - ───────── + qₖ̇\n",
       "  3       24         24        "
      ]
     },
     "execution_count": 189,
     "metadata": {},
     "output_type": "execute_result"
    }
   ],
   "source": [
    "evaluate_expr_qc_p(2, 1)"
   ]
  },
  {
   "cell_type": "code",
   "execution_count": 188,
   "metadata": {},
   "outputs": [
    {
     "data": {
      "image/png": "[encoded data removed]",
      "text/latex": [
       "$\\displaystyle \\frac{11 g_{k} h^{2}}{192} + \\frac{g_{k+1} h^{2}}{64} - \\frac{h \\dot{q}_{k}}{96} + \\frac{3 h \\dot{q}_{{k+1}}}{32}$"
      ],
      "text/plain": [
       "       2            2                     \n",
       "11⋅gₖ⋅h    g_{k+1}⋅h    h⋅qₖ̇   3⋅h⋅q_{k̇+1}\n",
       "──────── + ────────── - ──── + ───────────\n",
       "  192          64        96         32    "
      ]
     },
     "execution_count": 188,
     "metadata": {},
     "output_type": "execute_result"
    }
   ],
   "source": [
    "expand(simplify(expr.subs([(M,2),(j,0)])))"
   ]
  },
  {
   "cell_type": "code",
   "execution_count": 118,
   "metadata": {},
   "outputs": [
    {
     "data": {
      "image/png": "[encoded data removed]",
      "text/latex": [
       "$\\displaystyle \\frac{g_{k} h}{8} + \\frac{5 g_{k+1} h}{24} + \\frac{v_{k+1}}{2}$"
      ],
      "text/plain": [
       "gₖ⋅h   5⋅g_{k+1}⋅h   v_{k+1}\n",
       "──── + ─────────── + ───────\n",
       " 8          24          2   "
      ]
     },
     "execution_count": 118,
     "metadata": {},
     "output_type": "execute_result"
    }
   ],
   "source": [
    "expand(simplify(expr.subs([(M,2),(j,1)])))"
   ]
  },
  {
   "cell_type": "code",
   "execution_count": 144,
   "metadata": {},
   "outputs": [
    {
     "data": {
      "image/png": "[encoded data removed]",
      "text/latex": [
       "$\\displaystyle \\frac{h^{3} \\dddot{q}_{k}}{48} + \\frac{h^{2} \\ddot{q}_{k}}{8} + \\frac{h \\dot{q}_{k}}{2} + q_{k}$"
      ],
      "text/plain": [
       " 3       2               \n",
       "h ⋅qₖ⃛   h ⋅qₖ̈   h⋅qₖ̇     \n",
       "───── + ───── + ──── + qₖ\n",
       "  48      8      2       "
      ]
     },
     "execution_count": 144,
     "metadata": {},
     "output_type": "execute_result"
    }
   ],
   "source": [
    "suma_qc(5,0)"
   ]
  },
  {
   "cell_type": "code",
   "execution_count": 137,
   "metadata": {},
   "outputs": [],
   "source": [
    "_q = dynamicsymbols('q_k')"
   ]
  },
  {
   "cell_type": "code",
   "execution_count": null,
   "metadata": {},
   "outputs": [],
   "source": [
    "diff()"
   ]
  }
 ],
 "metadata": {
  "kernelspec": {
   "display_name": "Python 3",
   "language": "python",
   "name": "python3"
  },
  "language_info": {
   "codemirror_mode": {
    "name": "ipython",
    "version": 3
   },
   "file_extension": ".py",
   "mimetype": "text/x-python",
   "name": "python",
   "nbconvert_exporter": "python",
   "pygments_lexer": "ipython3",
   "version": "3.7.7"
  }
 },
 "nbformat": 4,
 "nbformat_minor": 4
}
