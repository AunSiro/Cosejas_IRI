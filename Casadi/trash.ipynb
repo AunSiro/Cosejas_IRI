{
 "cells": [
  {
   "cell_type": "code",
   "execution_count": 1,
   "id": "e0ecc690",
   "metadata": {},
   "outputs": [],
   "source": [
    "import matplotlib.pyplot as plt\n",
    "import matplotlib.image as mpimg"
   ]
  },
  {
   "cell_type": "code",
   "execution_count": 21,
   "id": "844ffc5b",
   "metadata": {},
   "outputs": [],
   "source": [
    "image_path = \"frames/panda0.png\"\n",
    "image = mpimg.imread(image_path)\n",
    "#plt.imshow(image)"
   ]
  },
  {
   "cell_type": "code",
   "execution_count": 9,
   "id": "f47f53b1",
   "metadata": {},
   "outputs": [],
   "source": [
    "from PIL import Image"
   ]
  },
  {
   "cell_type": "code",
   "execution_count": 11,
   "id": "9ca75630",
   "metadata": {},
   "outputs": [],
   "source": [
    "_a = Image.open(image_path)"
   ]
  },
  {
   "cell_type": "code",
   "execution_count": 18,
   "id": "4fa85e37",
   "metadata": {},
   "outputs": [],
   "source": [
    "_b = _a.convert(mode = 'RGB')"
   ]
  },
  {
   "cell_type": "code",
   "execution_count": 20,
   "id": "7d223967",
   "metadata": {},
   "outputs": [],
   "source": [
    "_b.save('frames/prueba.jpg','JPEG', quality = 90, dpi = (300,300))"
   ]
  },
  {
   "cell_type": "code",
   "execution_count": 22,
   "id": "898b5884",
   "metadata": {},
   "outputs": [],
   "source": [
    "for ii in range(10):\n",
    "    image_path = f\"frames/panda{ii}\"\n",
    "    _a = Image.open(image_path+\".png\")\n",
    "    _b = _a.convert(mode = 'RGB')\n",
    "    _b.save(image_path+\".jpg\",'JPEG', quality = 90, dpi = (300,300))"
   ]
  },
  {
   "cell_type": "code",
   "execution_count": null,
   "id": "fe2ecb5c",
   "metadata": {},
   "outputs": [],
   "source": []
  },
  {
   "cell_type": "code",
   "execution_count": null,
   "id": "af80f28a",
   "metadata": {},
   "outputs": [],
   "source": []
  },
  {
   "cell_type": "code",
   "execution_count": 7,
   "id": "7abfe2e6",
   "metadata": {},
   "outputs": [],
   "source": [
    "from inspect import signature\n",
    "\n",
    "def someMethod(self, arg1, *args, kwarg1=None, **kwargs):\n",
    "    pass\n",
    "\n",
    "sig = signature(someMethod)"
   ]
  },
  {
   "cell_type": "code",
   "execution_count": 8,
   "id": "d1ff2b13",
   "metadata": {},
   "outputs": [
    {
     "data": {
      "text/plain": [
       "<Signature (self, arg1, *args, kwarg1=None, **kwargs)>"
      ]
     },
     "execution_count": 8,
     "metadata": {},
     "output_type": "execute_result"
    }
   ],
   "source": [
    "sig"
   ]
  },
  {
   "cell_type": "code",
   "execution_count": 9,
   "id": "7ab94046",
   "metadata": {},
   "outputs": [
    {
     "data": {
      "text/plain": [
       "mappingproxy({'self': <Parameter \"self\">,\n",
       "              'arg1': <Parameter \"arg1\">,\n",
       "              'args': <Parameter \"*args\">,\n",
       "              'kwarg1': <Parameter \"kwarg1=None\">,\n",
       "              'kwargs': <Parameter \"**kwargs\">})"
      ]
     },
     "execution_count": 9,
     "metadata": {},
     "output_type": "execute_result"
    }
   ],
   "source": [
    "sig.parameters"
   ]
  },
  {
   "cell_type": "code",
   "execution_count": 1,
   "id": "9cadf6c6",
   "metadata": {},
   "outputs": [],
   "source": [
    "def aaa(a,b):\n",
    "    c = [a,b]\n",
    "    def jjj(d):\n",
    "        print(f'd es {d}, c es {c}')\n",
    "    return jjj"
   ]
  },
  {
   "cell_type": "code",
   "execution_count": 2,
   "id": "5ca45383",
   "metadata": {},
   "outputs": [],
   "source": [
    "bb = aaa(1,2)"
   ]
  },
  {
   "cell_type": "code",
   "execution_count": 5,
   "id": "44ad0d2d",
   "metadata": {},
   "outputs": [
    {
     "name": "stdout",
     "output_type": "stream",
     "text": [
      "d es 3, c es [1, 2]\n"
     ]
    }
   ],
   "source": [
    "bb(3)"
   ]
  },
  {
   "cell_type": "code",
   "execution_count": 4,
   "id": "c1e317b4",
   "metadata": {},
   "outputs": [],
   "source": [
    "c = 445"
   ]
  },
  {
   "cell_type": "code",
   "execution_count": 1,
   "id": "96d1d57e",
   "metadata": {},
   "outputs": [
    {
     "ename": "NameError",
     "evalue": "name 'c' is not defined",
     "output_type": "error",
     "traceback": [
      "\u001b[1;31m---------------------------------------------------------------------------\u001b[0m",
      "\u001b[1;31mNameError\u001b[0m                                 Traceback (most recent call last)",
      "Cell \u001b[1;32mIn[1], line 1\u001b[0m\n\u001b[1;32m----> 1\u001b[0m c\n",
      "\u001b[1;31mNameError\u001b[0m: name 'c' is not defined"
     ]
    }
   ],
   "source": [
    "c"
   ]
  },
  {
   "cell_type": "code",
   "execution_count": 1,
   "id": "b3f6114f",
   "metadata": {},
   "outputs": [],
   "source": [
    "from chords.piecewise import (generate_trapz_m_func, trapz_accel_restr, trapz_mod_accel_restr,\n",
    "                              hs_accel_restr, hs_mod_accel_restr, generate_hs_m_funcs, hs_half_x,\n",
    "                             hs_mod_half_x, generate_hs_interp, hs_interp, hs_mod_interp,\n",
    "                             hs_dot_interp, hs_dot_dot_interp, hs_mod_dot_interp, hs_mod_dot_dot_interp,\n",
    "                             generate_tz_interp, trap_interp, trap_mod_interp, trap_dot_interp, trap_dot_dot_interp,\n",
    "                             trap_mod_dot_interp, trap_mod_dot_dot_interp)"
   ]
  },
  {
   "cell_type": "code",
   "execution_count": 2,
   "id": "7d734b95",
   "metadata": {},
   "outputs": [],
   "source": [
    "from numpy import array"
   ]
  },
  {
   "cell_type": "code",
   "execution_count": 3,
   "id": "a055a8d1",
   "metadata": {},
   "outputs": [],
   "source": [
    "x= array([0.,1,2,3])\n",
    "x_n = array([3.,4,5,6])\n",
    "a = array([1.,2])\n",
    "a_n = array([3.,7])\n",
    "a_c = array([5.,9])\n",
    "dt = 0.1\n",
    "a_m = array([2.,3,1,2])\n",
    "a_n_m = array([5.,6,3,7])\n",
    "x_c = hs_half_x(x, x_n, a, a_n, dt)\n",
    "a_c_m = array([0,0,5.,9])\n",
    "a_c_m[:2] = x_c[2:]\n",
    "x_dot = a_m\n",
    "x_dot_n = a_n_m\n",
    "x_dot_c = a_c_m\n",
    "scheme_params = {}"
   ]
  },
  {
   "cell_type": "code",
   "execution_count": 4,
   "id": "4d99b0d4",
   "metadata": {},
   "outputs": [
    {
     "data": {
      "text/plain": [
       "array([2.65, 2.55, 2.8 , 2.55])"
      ]
     },
     "execution_count": 4,
     "metadata": {},
     "output_type": "execute_result"
    }
   ],
   "source": [
    "trapz_accel_restr(x, x_n, a, a_n, dt, scheme_params)"
   ]
  },
  {
   "cell_type": "code",
   "execution_count": 5,
   "id": "2751256b",
   "metadata": {},
   "outputs": [
    {
     "data": {
      "text/plain": [
       "array([2.79166667, 2.68166667, 2.8       , 2.55      ])"
      ]
     },
     "execution_count": 5,
     "metadata": {},
     "output_type": "execute_result"
    }
   ],
   "source": [
    "trapz_mod_accel_restr(x, x_n, a, a_n, dt, scheme_params)"
   ]
  },
  {
   "cell_type": "code",
   "execution_count": 6,
   "id": "ff1b3702",
   "metadata": {},
   "outputs": [],
   "source": [
    "tz2 = generate_trapz_m_func(2)"
   ]
  },
  {
   "cell_type": "code",
   "execution_count": 7,
   "id": "e673111f",
   "metadata": {},
   "outputs": [
    {
     "data": {
      "text/plain": [
       "array([2.79166667, 2.68166667, 2.8       , 2.55      ])"
      ]
     },
     "execution_count": 7,
     "metadata": {},
     "output_type": "execute_result"
    }
   ],
   "source": [
    "tz2(x, x_n, a, a_n, dt, scheme_params)"
   ]
  },
  {
   "cell_type": "code",
   "execution_count": 8,
   "id": "c1a9441a",
   "metadata": {},
   "outputs": [],
   "source": [
    "tz1 = generate_trapz_m_func(1)"
   ]
  },
  {
   "cell_type": "code",
   "execution_count": 9,
   "id": "26dc056c",
   "metadata": {},
   "outputs": [
    {
     "data": {
      "text/plain": [
       "array([2.65, 2.55, 2.8 , 2.55])"
      ]
     },
     "execution_count": 9,
     "metadata": {},
     "output_type": "execute_result"
    }
   ],
   "source": [
    "tz1(x, x_n, a_m, a_n_m, dt, scheme_params)"
   ]
  },
  {
   "cell_type": "code",
   "execution_count": 10,
   "id": "22d1a9ff",
   "metadata": {},
   "outputs": [],
   "source": [
    "hs2_half, hs2 = generate_hs_m_funcs(2)"
   ]
  },
  {
   "cell_type": "code",
   "execution_count": 11,
   "id": "bdca46e5",
   "metadata": {},
   "outputs": [
    {
     "data": {
      "text/plain": [
       "array([2.78166667, 2.66666667, 2.6       , 2.25      ])"
      ]
     },
     "execution_count": 11,
     "metadata": {},
     "output_type": "execute_result"
    }
   ],
   "source": [
    "hs2(x, x_n, a, a_n, dt, a_c)"
   ]
  },
  {
   "cell_type": "code",
   "execution_count": 12,
   "id": "910def0a",
   "metadata": {},
   "outputs": [
    {
     "data": {
      "text/plain": [
       "array([2.78166667, 2.66666667, 2.6       , 2.25      ])"
      ]
     },
     "execution_count": 12,
     "metadata": {},
     "output_type": "execute_result"
    }
   ],
   "source": [
    "hs_mod_accel_restr(x, x_n, a, a_n, dt, a_c)"
   ]
  },
  {
   "cell_type": "code",
   "execution_count": 13,
   "id": "c6d65b5c",
   "metadata": {},
   "outputs": [
    {
     "data": {
      "text/plain": [
       "array([0.12791667, 1.17744792, 3.475     , 4.4375    ])"
      ]
     },
     "execution_count": 13,
     "metadata": {},
     "output_type": "execute_result"
    }
   ],
   "source": [
    "hs2_half(x, x_n, a, a_n, dt)"
   ]
  },
  {
   "cell_type": "code",
   "execution_count": 14,
   "id": "1ed01238",
   "metadata": {},
   "outputs": [
    {
     "data": {
      "text/plain": [
       "array([0.12791667, 1.17744792, 3.475     , 4.4375    ])"
      ]
     },
     "execution_count": 14,
     "metadata": {},
     "output_type": "execute_result"
    }
   ],
   "source": [
    "hs_mod_half_x(x, x_n, a, a_n, dt)"
   ]
  },
  {
   "cell_type": "code",
   "execution_count": 15,
   "id": "24140931",
   "metadata": {},
   "outputs": [],
   "source": [
    "hs1_half, hs1 = generate_hs_m_funcs(1)"
   ]
  },
  {
   "cell_type": "code",
   "execution_count": 16,
   "id": "8000dbb6",
   "metadata": {},
   "outputs": [
    {
     "data": {
      "text/plain": [
       "array([2.65166667, 2.55416667, 2.6       , 2.25      ])"
      ]
     },
     "execution_count": 16,
     "metadata": {},
     "output_type": "execute_result"
    }
   ],
   "source": [
    "hs1(x, x_n, a_m, a_n_m, dt, a_c_m)"
   ]
  },
  {
   "cell_type": "code",
   "execution_count": 17,
   "id": "683df240",
   "metadata": {},
   "outputs": [
    {
     "data": {
      "text/plain": [
       "array([2.65166667, 2.55416667, 2.6       , 2.25      ])"
      ]
     },
     "execution_count": 17,
     "metadata": {},
     "output_type": "execute_result"
    }
   ],
   "source": [
    "hs_accel_restr(x, x_n, a, a_n, dt, a_c)"
   ]
  },
  {
   "cell_type": "code",
   "execution_count": 18,
   "id": "7955971d",
   "metadata": {},
   "outputs": [
    {
     "data": {
      "text/plain": [
       "array([1.4625, 2.4625, 3.475 , 4.4375])"
      ]
     },
     "execution_count": 18,
     "metadata": {},
     "output_type": "execute_result"
    }
   ],
   "source": [
    "hs_half_x(x, x_n, a, a_n, dt)"
   ]
  },
  {
   "cell_type": "code",
   "execution_count": 19,
   "id": "69a1540f",
   "metadata": {},
   "outputs": [
    {
     "data": {
      "text/plain": [
       "array([1.4625, 2.4625, 3.475 , 4.4375])"
      ]
     },
     "execution_count": 19,
     "metadata": {},
     "output_type": "execute_result"
    }
   ],
   "source": [
    "hs1_half(x, x_n, a_m, a_n_m, dt)"
   ]
  },
  {
   "cell_type": "code",
   "execution_count": null,
   "id": "0747698a",
   "metadata": {},
   "outputs": [],
   "source": []
  },
  {
   "cell_type": "code",
   "execution_count": 20,
   "id": "32224d92",
   "metadata": {},
   "outputs": [],
   "source": [
    "hs_interp_1  = generate_hs_interp(1)\n",
    "hs_interp_2  = generate_hs_interp(2)"
   ]
  },
  {
   "cell_type": "code",
   "execution_count": 21,
   "id": "325a16cd",
   "metadata": {},
   "outputs": [],
   "source": [
    "tau = 0.25\n",
    "h = 0.5"
   ]
  },
  {
   "cell_type": "code",
   "execution_count": 22,
   "id": "c515ddba",
   "metadata": {
    "scrolled": true
   },
   "outputs": [
    {
     "data": {
      "text/plain": [
       "(array([0.68333333, 1.92708333, 2.875     , 4.5625    ]),\n",
       " array([0.68333333, 1.92708333, 2.875     , 4.5625    ]))"
      ]
     },
     "execution_count": 22,
     "metadata": {},
     "output_type": "execute_result"
    }
   ],
   "source": [
    "hs_interp(x, x_n, x_dot, x_dot_n, tau, h, x_dot_c),hs_interp_1(x, x_n, x_dot, x_dot_n, tau, h, x_dot_c)"
   ]
  },
  {
   "cell_type": "code",
   "execution_count": 23,
   "id": "356ec2ff",
   "metadata": {},
   "outputs": [
    {
     "data": {
      "text/plain": [
       "(array([0.58854167, 1.90885417, 2.875     , 4.5625    ]),\n",
       " array([0.58854167, 1.90885417, 2.875     , 4.5625    ]))"
      ]
     },
     "execution_count": 23,
     "metadata": {},
     "output_type": "execute_result"
    }
   ],
   "source": [
    "hs_mod_interp(x, x_n, x_dot, x_dot_n, tau, h, x_dot_c),hs_interp_2(x, x_n, x_dot, x_dot_n, tau, h, x_dot_c)"
   ]
  },
  {
   "cell_type": "code",
   "execution_count": null,
   "id": "329d5e9b",
   "metadata": {},
   "outputs": [],
   "source": []
  },
  {
   "cell_type": "code",
   "execution_count": 24,
   "id": "93ba1c96",
   "metadata": {},
   "outputs": [],
   "source": [
    "hs_i1_d1 = generate_hs_interp(1, 1)\n",
    "hs_i1_d2 = generate_hs_interp(1, 2)\n",
    "hs_i2_d1 = generate_hs_interp(2, 1)\n",
    "hs_i2_d2 = generate_hs_interp(2, 2)"
   ]
  },
  {
   "cell_type": "code",
   "execution_count": 25,
   "id": "19625dcf",
   "metadata": {},
   "outputs": [
    {
     "data": {
      "text/plain": [
       "(array([3.475 , 4.4375, 5.    , 9.    ]),\n",
       " array([3.475 , 4.4375, 5.    , 9.    ]))"
      ]
     },
     "execution_count": 25,
     "metadata": {},
     "output_type": "execute_result"
    }
   ],
   "source": [
    "hs_i1_d1(x, x_n, x_dot, x_dot_n, tau, h, x_dot_c),hs_dot_interp(x, x_n, x_dot, x_dot_n, tau, h, x_dot_c)"
   ]
  },
  {
   "cell_type": "code",
   "execution_count": 26,
   "id": "7888d482",
   "metadata": {},
   "outputs": [
    {
     "data": {
      "text/plain": [
       "(array([ 6.,  6.,  4., 10.]), array([ 6.,  6.,  4., 10.]))"
      ]
     },
     "execution_count": 26,
     "metadata": {},
     "output_type": "execute_result"
    }
   ],
   "source": [
    "hs_i1_d2(x, x_n, x_dot, x_dot_n, tau, h, x_dot_c),hs_dot_dot_interp(x, x_n, x_dot, x_dot_n, tau, h, x_dot_c)"
   ]
  },
  {
   "cell_type": "code",
   "execution_count": 27,
   "id": "1ee84508",
   "metadata": {},
   "outputs": [
    {
     "data": {
      "text/plain": [
       "(array([2.875 , 4.5625, 5.    , 9.    ]),\n",
       " array([2.875 , 4.5625, 5.    , 9.    ]))"
      ]
     },
     "execution_count": 27,
     "metadata": {},
     "output_type": "execute_result"
    }
   ],
   "source": [
    "hs_i2_d1(x, x_n, x_dot, x_dot_n, tau, h, x_dot_c),hs_mod_dot_interp(x, x_n, x_dot, x_dot_n, tau, h, x_dot_c)"
   ]
  },
  {
   "cell_type": "code",
   "execution_count": 28,
   "id": "5e8a4996",
   "metadata": {},
   "outputs": [
    {
     "data": {
      "text/plain": [
       "(array([ 5.,  9.,  4., 10.]), array([ 5.,  9.,  4., 10.]))"
      ]
     },
     "execution_count": 28,
     "metadata": {},
     "output_type": "execute_result"
    }
   ],
   "source": [
    "hs_i2_d2(x, x_n, x_dot, x_dot_n, tau, h, x_dot_c),hs_mod_dot_dot_interp(x, x_n, x_dot, x_dot_n, tau, h, x_dot_c)"
   ]
  },
  {
   "cell_type": "code",
   "execution_count": null,
   "id": "5cb4cd17",
   "metadata": {},
   "outputs": [],
   "source": []
  },
  {
   "cell_type": "code",
   "execution_count": 29,
   "id": "b54f0f1c",
   "metadata": {},
   "outputs": [],
   "source": [
    "tz_i1 = generate_tz_interp(1)\n",
    "tz_i2 = generate_tz_interp(2)\n",
    "tz_i1_d1 = generate_tz_interp(1, 1)\n",
    "tz_i1_d2 = generate_tz_interp(1, 2)\n",
    "tz_i2_d1 = generate_tz_interp(2, 1)\n",
    "tz_i2_d2 = generate_tz_interp(2, 2)"
   ]
  },
  {
   "cell_type": "code",
   "execution_count": 31,
   "id": "81fc4b42",
   "metadata": {},
   "outputs": [
    {
     "data": {
      "text/plain": [
       "(array([0.6875, 1.9375, 2.375 , 3.8125]),\n",
       " array([0.6875, 1.9375, 2.375 , 3.8125]))"
      ]
     },
     "execution_count": 31,
     "metadata": {},
     "output_type": "execute_result"
    }
   ],
   "source": [
    "tz_i1(x, x_n, x_dot, x_dot_n, tau, h), trap_interp(x, x_n, x_dot, x_dot_n, tau, h)"
   ]
  },
  {
   "cell_type": "code",
   "execution_count": 32,
   "id": "4124cc4a",
   "metadata": {},
   "outputs": [
    {
     "data": {
      "text/plain": [
       "(array([0.54166667, 1.83854167, 2.375     , 3.8125    ]),\n",
       " array([0.54166667, 1.83854167, 2.375     , 3.8125    ]))"
      ]
     },
     "execution_count": 32,
     "metadata": {},
     "output_type": "execute_result"
    }
   ],
   "source": [
    "tz_i2(x, x_n, x_dot, x_dot_n, tau, h), trap_mod_interp(x, x_n, x_dot, x_dot_n, tau, h)"
   ]
  },
  {
   "cell_type": "code",
   "execution_count": 33,
   "id": "0bcf5f5f",
   "metadata": {},
   "outputs": [
    {
     "data": {
      "text/plain": [
       "(array([3.5, 4.5, 2. , 4.5]), array([3.5, 4.5, 2. , 4.5]))"
      ]
     },
     "execution_count": 33,
     "metadata": {},
     "output_type": "execute_result"
    }
   ],
   "source": [
    "tz_i1_d1(x, x_n, x_dot, x_dot_n, tau, h), trap_dot_interp(x, x_n, x_dot, x_dot_n, tau, h)"
   ]
  },
  {
   "cell_type": "code",
   "execution_count": 34,
   "id": "a950ce0a",
   "metadata": {},
   "outputs": [
    {
     "data": {
      "text/plain": [
       "(array([ 6.,  6.,  4., 10.]), array([ 6.,  6.,  4., 10.]))"
      ]
     },
     "execution_count": 34,
     "metadata": {},
     "output_type": "execute_result"
    }
   ],
   "source": [
    "tz_i1_d2(x, x_n, x_dot, x_dot_n, tau, h), trap_dot_dot_interp(x, x_n, x_dot, x_dot_n, tau, h)"
   ]
  },
  {
   "cell_type": "code",
   "execution_count": 35,
   "id": "fdf29210",
   "metadata": {},
   "outputs": [
    {
     "data": {
      "text/plain": [
       "(array([2.375 , 3.8125, 2.    , 4.5   ]),\n",
       " array([2.375 , 3.8125, 2.    , 4.5   ]))"
      ]
     },
     "execution_count": 35,
     "metadata": {},
     "output_type": "execute_result"
    }
   ],
   "source": [
    "tz_i2_d1(x, x_n, x_dot, x_dot_n, tau, h), trap_mod_dot_interp(x, x_n, x_dot, x_dot_n, tau, h)"
   ]
  },
  {
   "cell_type": "code",
   "execution_count": 36,
   "id": "0d6c0498",
   "metadata": {},
   "outputs": [
    {
     "data": {
      "text/plain": [
       "(array([ 2. ,  4.5,  4. , 10. ]), array([ 2. ,  4.5,  4. , 10. ]))"
      ]
     },
     "execution_count": 36,
     "metadata": {},
     "output_type": "execute_result"
    }
   ],
   "source": [
    "tz_i2_d2(x, x_n, x_dot, x_dot_n, tau, h), trap_mod_dot_dot_interp(x, x_n, x_dot, x_dot_n, tau, h)"
   ]
  },
  {
   "cell_type": "code",
   "execution_count": null,
   "id": "b8c2a322",
   "metadata": {},
   "outputs": [],
   "source": []
  },
  {
   "cell_type": "code",
   "execution_count": null,
   "id": "dbb39cf3",
   "metadata": {},
   "outputs": [],
   "source": []
  },
  {
   "cell_type": "code",
   "execution_count": null,
   "id": "ce5dd955",
   "metadata": {},
   "outputs": [],
   "source": []
  },
  {
   "cell_type": "code",
   "execution_count": null,
   "id": "0fc27d84",
   "metadata": {},
   "outputs": [],
   "source": []
  },
  {
   "cell_type": "code",
   "execution_count": null,
   "id": "08470b33",
   "metadata": {},
   "outputs": [],
   "source": []
  },
  {
   "cell_type": "code",
   "execution_count": null,
   "id": "a2ee938f",
   "metadata": {},
   "outputs": [],
   "source": []
  }
 ],
 "metadata": {
  "kernelspec": {
   "display_name": "Python 3 (ipykernel)",
   "language": "python",
   "name": "python3"
  },
  "language_info": {
   "codemirror_mode": {
    "name": "ipython",
    "version": 3
   },
   "file_extension": ".py",
   "mimetype": "text/x-python",
   "name": "python",
   "nbconvert_exporter": "python",
   "pygments_lexer": "ipython3",
   "version": "3.11.3"
  }
 },
 "nbformat": 4,
 "nbformat_minor": 5
}
