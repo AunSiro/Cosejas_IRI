{
 "cells": [
  {
   "cell_type": "code",
   "execution_count": null,
   "metadata": {},
   "outputs": [],
   "source": [
    "import numpy as np\n",
    "from scipy.optimize import minimize\n",
    "import matplotlib.pyplot as plt"
   ]
  },
  {
   "cell_type": "code",
   "execution_count": null,
   "metadata": {},
   "outputs": [],
   "source": [
    "\n",
    "def objective(x):\n",
    "    return x[0]*x[3]*(x[0]+x[1]+x[2])+x[2]\n",
    "\n",
    "def constraint1(x):\n",
    "    return x[0]*x[1]*x[2]*x[3]-25.0\n",
    "\n",
    "def constraint2(x):\n",
    "    sum_eq = 40.0\n",
    "    for i in range(4):\n",
    "        sum_eq = sum_eq - x[i]**2\n",
    "    return sum_eq\n",
    "\n",
    "# initial guesses\n",
    "n = 4\n",
    "x0 = np.zeros(n)\n",
    "x0[0] = 1.0\n",
    "x0[1] = 5.0\n",
    "x0[2] = 5.0\n",
    "x0[3] = 1.0\n",
    "\n",
    "# show initial objective\n",
    "print('Initial SSE Objective: ' + str(objective(x0)))\n",
    "\n",
    "# optimize\n",
    "b = (1.0,5.0)\n",
    "bnds = (b, b, b, b)\n",
    "con1 = {'type': 'ineq', 'fun': constraint1}\n",
    "con2 = {'type': 'eq', 'fun': constraint2}\n",
    "cons = ([con1,con2])\n",
    "solution = minimize(objective,x0,method='SLSQP',\\\n",
    "                    bounds=bnds,constraints=cons)\n",
    "x = solution.x\n",
    "\n",
    "# show final objective\n",
    "print('Final SSE Objective: ' + str(objective(x)))\n",
    "\n",
    "# print solution\n",
    "print('Solution')\n",
    "print('x1 = ' + str(x[0]))\n",
    "print('x2 = ' + str(x[1]))\n",
    "print('x3 = ' + str(x[2]))\n",
    "print('x4 = ' + str(x[3]))"
   ]
  },
  {
   "cell_type": "code",
   "execution_count": null,
   "metadata": {},
   "outputs": [],
   "source": [
    "solution"
   ]
  },
  {
   "cell_type": "markdown",
   "metadata": {},
   "source": [
    "# Problema general\n",
    "\n",
    "$$\\text{Minimizar: }J(t, x, u)$$\n",
    "$$\\text{Sujeto a:}$$\n",
    "$$\\dot{x}(t) = f(t, x, u)$$\n",
    "$$h(t, x, u) <= 0$$\n",
    "$$g(t_0, t_f, x_0, x_f) <= 0$$"
   ]
  },
  {
   "cell_type": "markdown",
   "metadata": {},
   "source": [
    "# Problema del bloque que desliza\n",
    "\n",
    "$$\\text{Minimizar: }J(t,x,u) = \\int_{0}^{1} u(t)^2 dt \\\\\n",
    "\\text{Sujeto a :}\\\\\n",
    "\\dot{x}(t) =\\begin{cases} \\dot{q}(t)\\\\ \\ddot{q}(t) \\end{cases} \n",
    "= f(t, x, u) =\\begin{cases} {x}[1](t) \\\\u(t) \\end{cases}\\\\\n",
    "x(0) = \\begin{cases} 0\\\\0 \\end{cases}\\\\\n",
    "x(1) = \\begin{cases} 1\\\\0 \\end{cases}$$"
   ]
  },
  {
   "cell_type": "markdown",
   "metadata": {},
   "source": [
    "# Trapezoidal Collocation:\n",
    "\n",
    "$$\\int_{t_0}^{t_{F}} w(x) dx \\Rightarrow \\sum_{k = 0}^{N-1}1/2h_k(W_k + W_{k+1})\\\\\n",
    "\\dot{x} = f \\Rightarrow X_{k+1} - X_k \\approx 1/2 h_k (f_k + f_{k+1})$$"
   ]
  },
  {
   "cell_type": "code",
   "execution_count": null,
   "metadata": {},
   "outputs": [],
   "source": [
    "N = 6\n",
    "X = np.zeros([N,2])\n",
    "U = np.zeros(N-1)\n",
    "\n",
    "def objective(u):\n",
    "    return 0.5*(u[0]+u[-1])+np.sum(u[1,-2])\n",
    "#-----\n",
    "\n",
    "#Comprobar desde aquí\n",
    "\n",
    "#-----\n",
    "def constraint1(x):\n",
    "    return x[0]*x[1]*x[2]*x[3]-25.0\n",
    "\n",
    "def constraint2(x):\n",
    "    sum_eq = 40.0\n",
    "    for i in range(4):\n",
    "        sum_eq = sum_eq - x[i]**2\n",
    "    return sum_eq\n",
    "\n",
    "# initial guesses\n",
    "n = 4\n",
    "x0 = np.zeros(n)\n",
    "x0[0] = 1.0\n",
    "x0[1] = 5.0\n",
    "x0[2] = 5.0\n",
    "x0[3] = 1.0\n",
    "\n",
    "# show initial objective\n",
    "print('Initial SSE Objective: ' + str(objective(x0)))\n",
    "\n",
    "# optimize\n",
    "b = (1.0,5.0)\n",
    "bnds = (b, b, b, b)\n",
    "con1 = {'type': 'ineq', 'fun': constraint1}\n",
    "con2 = {'type': 'eq', 'fun': constraint2}\n",
    "cons = ([con1,con2])\n",
    "solution = minimize(objective,x0,method='SLSQP',\\\n",
    "                    bounds=bnds,constraints=cons)\n",
    "x = solution.x\n",
    "\n",
    "# show final objective\n",
    "print('Final SSE Objective: ' + str(objective(x)))\n",
    "\n",
    "# print solution\n",
    "print('Solution')\n",
    "print('x1 = ' + str(x[0]))\n",
    "print('x2 = ' + str(x[1]))\n",
    "print('x3 = ' + str(x[2]))\n",
    "print('x4 = ' + str(x[3]))"
   ]
  },
  {
   "cell_type": "code",
   "execution_count": null,
   "metadata": {},
   "outputs": [],
   "source": []
  }
 ],
 "metadata": {
  "kernelspec": {
   "display_name": "Python 3",
   "language": "python",
   "name": "python3"
  },
  "language_info": {
   "codemirror_mode": {
    "name": "ipython",
    "version": 3
   },
   "file_extension": ".py",
   "mimetype": "text/x-python",
   "name": "python",
   "nbconvert_exporter": "python",
   "pygments_lexer": "ipython3",
   "version": "3.7.6"
  }
 },
 "nbformat": 4,
 "nbformat_minor": 4
}
