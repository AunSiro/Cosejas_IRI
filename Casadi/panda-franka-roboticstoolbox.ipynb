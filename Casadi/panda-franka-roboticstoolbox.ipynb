{
 "cells": [
  {
   "cell_type": "code",
   "execution_count": null,
   "id": "b1f6cd9b",
   "metadata": {},
   "outputs": [],
   "source": [
    "import numpy as np\n",
    "import matplotlib.pyplot as plt"
   ]
  },
  {
   "cell_type": "markdown",
   "id": "95b8fec6",
   "metadata": {},
   "source": [
    "from sympy import (symbols, simplify)\n",
    "from sympy.physics.mechanics import dynamicsymbols, init_vprinting\n",
    "from sympy.physics.mechanics import Lagrangian, ReferenceFrame, Point, Particle,inertia, RigidBody, angular_momentum"
   ]
  },
  {
   "cell_type": "markdown",
   "id": "40f091b0",
   "metadata": {},
   "source": [
    "from optibot.symbolic import lagrange, diff_to_symb, SimpLagrangesMethod\n",
    "from optibot.numpy import unpack"
   ]
  },
  {
   "cell_type": "markdown",
   "id": "8867d17a",
   "metadata": {},
   "source": [
    "init_vprinting()"
   ]
  },
  {
   "cell_type": "markdown",
   "id": "a299c28c",
   "metadata": {},
   "source": [
    "### Robotics Toolbox Model"
   ]
  },
  {
   "cell_type": "code",
   "execution_count": null,
   "id": "08f198a6",
   "metadata": {},
   "outputs": [],
   "source": [
    "from roboticstoolbox.models.DH import Panda, Puma560"
   ]
  },
  {
   "cell_type": "code",
   "execution_count": null,
   "id": "9445aef0",
   "metadata": {},
   "outputs": [],
   "source": [
    "panda = Panda()\n",
    "panda2 = Panda()"
   ]
  },
  {
   "cell_type": "code",
   "execution_count": null,
   "id": "9c682732",
   "metadata": {},
   "outputs": [],
   "source": [
    "panda"
   ]
  },
  {
   "cell_type": "code",
   "execution_count": null,
   "id": "b085f514",
   "metadata": {},
   "outputs": [],
   "source": [
    "6.1597-10.7"
   ]
  },
  {
   "cell_type": "code",
   "execution_count": null,
   "id": "d0647c29",
   "metadata": {},
   "outputs": [],
   "source": [
    "r_arr = np.array([\n",
    "    [3.875e-03, 2.081e-03, 0],\n",
    "    [-3.141e-03, -2.872e-02, 3.495e-03],\n",
    "    [2.7518e-02, 3.9252e-02, -6.6502e-02],\n",
    "    [-5.317e-02, 1.04419e-01, 2.7454e-02],\n",
    "    [-1.1953e-02, 4.1065e-02, -3.8437e-02],\n",
    "    [6.0149e-02, -1.4117e-02, -1.0517e-02],\n",
    "    [1.0517e-02, -4.252e-03, -4.5403e-02],\n",
    "])"
   ]
  },
  {
   "cell_type": "code",
   "execution_count": null,
   "id": "d5a32249",
   "metadata": {},
   "outputs": [],
   "source": [
    "for ii, link in enumerate(panda.links):\n",
    "    link.r = r_arr[ii,:]"
   ]
  },
  {
   "cell_type": "code",
   "execution_count": null,
   "id": "3cf19f79",
   "metadata": {},
   "outputs": [],
   "source": [
    "def tau_from_state(q, qd, qdd):\n",
    "    panda = Panda()\n",
    "    M = panda.inertia(q)\n",
    "    C = panda.coriolis(q, qd)\n",
    "    G = panda.gravload(q)\n",
    "    tau = M@qdd + C@qd + G\n",
    "    return tau"
   ]
  },
  {
   "cell_type": "code",
   "execution_count": null,
   "id": "7d31b9fa",
   "metadata": {},
   "outputs": [],
   "source": [
    "def randq():\n",
    "    panda = Panda()\n",
    "    qlim = np.zeros([7,2])\n",
    "    for ii, link in enumerate(panda.links):\n",
    "        qlim[ii] = link.qlim\n",
    "    #qlim\n",
    "    r = np.random.random_sample(7)\n",
    "    d = qlim[:,1]-qlim[:,0]\n",
    "    c = qlim[:,0]\n",
    "    return c + d*r\n",
    "    "
   ]
  },
  {
   "cell_type": "code",
   "execution_count": null,
   "id": "9f583996",
   "metadata": {},
   "outputs": [],
   "source": [
    "def randpath(N):\n",
    "    path = np.zeros([N,7])\n",
    "    for ii in range(N):\n",
    "        path[ii,:] = randq()\n",
    "    return np.round(path, 3)"
   ]
  },
  {
   "cell_type": "code",
   "execution_count": null,
   "id": "a36708d5",
   "metadata": {},
   "outputs": [],
   "source": [
    "def rand_traj(N):\n",
    "    traj = np.zeros([N, 15])\n",
    "    traj[:,:7] = randpath(N)\n",
    "    traj[1:-1, 7:14] = np.round((traj[2:,:7] - traj[:-2,:7])/2, 3)\n",
    "    traj[:,-1] = np.arange(N)\n",
    "    return traj"
   ]
  },
  {
   "cell_type": "code",
   "execution_count": null,
   "id": "2a3b28f2",
   "metadata": {},
   "outputs": [],
   "source": [
    "from optibot.schemes import extend_array"
   ]
  },
  {
   "cell_type": "code",
   "execution_count": null,
   "id": "60fde993",
   "metadata": {},
   "outputs": [],
   "source": [
    "def savetraj(N, fname = 'ejtraj.txt'):\n",
    "    traj = extend_array(rand_traj(N))\n",
    "    traj[-1, -1] += 0.2\n",
    "    np.savetxt(fname, traj, '%1.3f')\n",
    "    return traj\n",
    "\n",
    "def loadtraj(fname = 'ejtraj.txt'):\n",
    "    return np.loadtxt(fname)\n",
    "\n",
    "def savecustomtraj(traj, fname = 'ejtraj.txt'):\n",
    "    traj[-1, -1] += 0.2\n",
    "    np.savetxt(fname, traj, '%1.3f')"
   ]
  },
  {
   "cell_type": "markdown",
   "id": "66890e03",
   "metadata": {},
   "source": [
    "### Generating, saving and loading a random trajectory"
   ]
  },
  {
   "cell_type": "code",
   "execution_count": null,
   "id": "9fbbe38e",
   "metadata": {},
   "outputs": [],
   "source": [
    "savetraj(7)\n",
    "ej_traj = loadtraj()"
   ]
  },
  {
   "cell_type": "code",
   "execution_count": null,
   "id": "8ded7b7d",
   "metadata": {},
   "outputs": [],
   "source": [
    "from scipy.interpolate import CubicHermiteSpline as hermite"
   ]
  },
  {
   "cell_type": "code",
   "execution_count": null,
   "id": "2539a5e6",
   "metadata": {},
   "outputs": [],
   "source": [
    "her_traj = hermite(ej_traj[:,-1], ej_traj[:, :7], ej_traj[:, 7:14])\n",
    "her_speed = her_traj.derivative()\n",
    "her_accel = her_speed.derivative()\n",
    "interp_f = [her_traj, her_speed, her_accel]"
   ]
  },
  {
   "cell_type": "code",
   "execution_count": null,
   "id": "b3fa7ca6",
   "metadata": {},
   "outputs": [],
   "source": [
    "plt.style.use('default')"
   ]
  },
  {
   "cell_type": "markdown",
   "id": "0bd1eafa",
   "metadata": {},
   "source": [
    "plt.style.use('default')\n",
    "t_plot = np.linspace(0, ej_traj[-1, -1], 500)\n",
    "for ii, varname in enumerate(['q', 'q_dot']):\n",
    "    plt.figure(figsize=[12,8])\n",
    "    plt.title('ideal ' + varname)\n",
    "    plt.plot(ej_traj[:,-1], ej_traj[:, 7*ii: 7*(ii+1)], 'o')\n",
    "    plt.plot(t_plot, interp_f[ii](t_plot))\n",
    "    plt.grid()"
   ]
  },
  {
   "cell_type": "markdown",
   "id": "9758c3a9",
   "metadata": {},
   "source": [
    "interp_n = 500\n",
    "t_plot = np.linspace(0, ej_traj[-1, -1], interp_n)\n",
    "tau_arr = np.zeros([interp_n, 7])\n",
    "for ii in range(interp_n):\n",
    "    _t = t_plot[ii]\n",
    "    _q = her_traj(_t)\n",
    "    _qd = her_speed(_t)\n",
    "    _qdd = her_accel(_t)\n",
    "    _tau = tau_from_state(_q, _qd, _qdd)\n",
    "    tau_arr[ii,:] = _tau\n",
    "\n",
    "plt.figure(figsize=[12,8])\n",
    "plt.title('ideal torque')\n",
    "plt.plot(t_plot, tau_arr)\n",
    "plt.grid()"
   ]
  },
  {
   "cell_type": "markdown",
   "id": "a6c3af9f",
   "metadata": {},
   "source": [
    "N = 22\n",
    "_ctraj = np.zeros([N,15])\n",
    "_ctraj[:,6] = 1\n",
    "_ctraj[:,5] = 0.4\n",
    "_ctraj[:,-1] = np.arange(N)*3\n",
    "\n",
    "_ctraj[0:6, 3] = -0.2\n",
    "_ctraj[0:6, 1] = -0.2\n",
    "_ctraj[2:4, 5] = np.arctan(0.107/0.088)\n",
    "_ctraj[4:6, 5] = np.arctan(0.107/0.088)+np.pi/2\n",
    "\n",
    "_ctraj[6:18, 3] = -np.pi/2\n",
    "_ctraj[8:10, 5] = np.arctan(0.107/0.088)\n",
    "_ctraj[10:12, 5] = np.arctan(0.107/0.088)+np.pi/2\n",
    "_ctraj[12:18, 4] = np.pi/2\n",
    "_ctraj[14:16, 5] = np.arctan(0.107/0.088)\n",
    "_ctraj[16:18, 5] = np.arctan(0.107/0.088)+np.pi/2\n",
    "\n",
    "_ctraj[18:22, 1] = -np.pi/2\n",
    "_ctraj[18:22, 3] = -np.pi/2\n",
    "_ctraj[20:22, 2] = -np.pi/2\n",
    "_ctraj[:,:7]"
   ]
  },
  {
   "cell_type": "code",
   "execution_count": null,
   "id": "bafa07b1",
   "metadata": {},
   "outputs": [],
   "source": [
    "th5_0 = 0.4\n",
    "th5_1 = 3.6\n",
    "dth = 0.2\n",
    "dt = 1\n",
    "t_change = 3\n",
    "\n",
    "N_th = 2*int(1+(th5_1 - th5_0)/dth)\n",
    "N_change = int(t_change/dt)\n",
    "N_th_2 = N_th+ N_change\n",
    "th_arr = np.linspace(th5_0, th5_1, int(N_th/2))\n",
    "\n",
    "N = 2*N_th + N_change\n",
    "_ctraj = np.zeros([N,15])\n",
    "_ctraj[:,6] = 1\n",
    "_ctraj[:,5] = th5_0\n",
    "_ctraj[:,-1] = np.arange(N)*dt\n",
    "\n",
    "_ctraj[0:N_th, 3] = -0.2\n",
    "_ctraj[0:N_th, 1] = -0.2\n",
    "\n",
    "_ctraj[0:N_th:2, 5] = th_arr\n",
    "_ctraj[1:N_th:2, 5] = th_arr\n",
    "\n",
    "\n",
    "\n",
    "_ctraj[N_th_2:, 1] = 0\n",
    "_ctraj[N_th_2:, 3] = -np.pi/2\n",
    "\n",
    "_ctraj[N_th_2::2, 5] = th_arr\n",
    "_ctraj[N_th_2+1::2, 5] = th_arr\n",
    "\n",
    "\n",
    "\n",
    "her_traj = hermite(_ctraj[(N_th-1, N_th_2),-1], _ctraj[(N_th-1, N_th_2), :7], _ctraj[(N_th-1, N_th_2), 7:14])\n",
    "her_speed = her_traj.derivative()\n",
    "_ctraj[N_th: N_th_2, :7] = her_traj(_ctraj[N_th: N_th_2,-1])\n",
    "_ctraj[N_th: N_th_2, 7:14] = her_speed(_ctraj[N_th: N_th_2,-1])\n",
    "\n",
    "\n",
    "_ctraj[:,:7]"
   ]
  },
  {
   "cell_type": "code",
   "execution_count": null,
   "id": "77b8004c",
   "metadata": {},
   "outputs": [],
   "source": [
    "_ctraj[-1,-1]"
   ]
  },
  {
   "cell_type": "code",
   "execution_count": null,
   "id": "a3c68d93",
   "metadata": {},
   "outputs": [],
   "source": [
    "savecustomtraj(_ctraj, 'custom_trajectory.txt')"
   ]
  },
  {
   "cell_type": "code",
   "execution_count": null,
   "id": "3d356779",
   "metadata": {},
   "outputs": [],
   "source": [
    "# import the data\n",
    "file_path = 'log_custom_trajectory.txt'\n",
    "d = np.loadtxt(file_path)\n",
    "#t,knot_p = d[:,0],d[:,64]\n",
    "q_cub,q_lin,q,q_d,dq,dq_d,tau_j,tau_jd, gvec = [d[:,i*7+1:i*7+8] for i in range(9)]"
   ]
  },
  {
   "cell_type": "code",
   "execution_count": null,
   "id": "9d4bbbf7",
   "metadata": {},
   "outputs": [],
   "source": [
    "t = np.linspace(0, _ctraj[-1,-1], q.shape[0])"
   ]
  },
  {
   "cell_type": "code",
   "execution_count": null,
   "id": "3c8be1cf",
   "metadata": {},
   "outputs": [],
   "source": [
    "q.shape"
   ]
  },
  {
   "cell_type": "code",
   "execution_count": null,
   "id": "a8f47349",
   "metadata": {},
   "outputs": [],
   "source": [
    "d"
   ]
  },
  {
   "cell_type": "code",
   "execution_count": null,
   "id": "f527ac41",
   "metadata": {},
   "outputs": [],
   "source": [
    "def t_index(segment):\n",
    "    t = segment*dt\n",
    "    t_c = q.shape[0]/_ctraj[-1,-1]\n",
    "    \n",
    "    return int(t*t_c)"
   ]
  },
  {
   "cell_type": "code",
   "execution_count": null,
   "id": "09985cfe",
   "metadata": {},
   "outputs": [],
   "source": [
    "_ctraj.shape"
   ]
  },
  {
   "cell_type": "code",
   "execution_count": null,
   "id": "d6ed657f",
   "metadata": {
    "scrolled": true
   },
   "outputs": [],
   "source": [
    "t_index(30)"
   ]
  },
  {
   "cell_type": "code",
   "execution_count": null,
   "id": "35649c9d",
   "metadata": {},
   "outputs": [],
   "source": [
    "tau_mean = tau_j.copy()\n",
    "tau_mean_simp = np.zeros([_ctraj.shape[0], tau_j.shape[1]])\n",
    "for ii in range(tau_j.shape[1]):\n",
    "    for kk in range(_ctraj.shape[0]-1):\n",
    "        s0 = t_index(kk)\n",
    "        s1 = t_index(kk+1)\n",
    "        tau_mean[s0:s1,ii] = np.mean(tau_j[s0:s1,ii])\n",
    "        tau_mean_simp[kk,ii] = np.mean(tau_j[s0:s1,ii])"
   ]
  },
  {
   "cell_type": "code",
   "execution_count": null,
   "id": "9b014a1b",
   "metadata": {},
   "outputs": [],
   "source": [
    "s1 = 0\n",
    "s2 = 10\n",
    "ii = 5\n",
    "plt.figure(figsize=[15,10])\n",
    "plt.plot(t[t_index(s1):t_index(s2)],tau_jd[t_index(s1):t_index(s2),ii])\n",
    "plt.plot(t[t_index(s1):t_index(s2)],tau_j[t_index(s1):t_index(s2),ii])\n",
    "plt.plot(t[t_index(s1):t_index(s2)],tau_mean[t_index(s1):t_index(s2),ii])\n",
    "#plt.plot(t[t_index(s1):t_index(s2)],q[t_index(s1):t_index(s2),ii])\n",
    "plt.plot(t[t_index(s1):t_index(s2)],gvec[t_index(s1):t_index(s2),ii])\n",
    "plt.grid()"
   ]
  },
  {
   "cell_type": "code",
   "execution_count": null,
   "id": "fe3df0ae",
   "metadata": {},
   "outputs": [],
   "source": [
    "tau_mean_simp"
   ]
  },
  {
   "cell_type": "code",
   "execution_count": null,
   "id": "13bce51e",
   "metadata": {},
   "outputs": [],
   "source": [
    "from scipy.optimize import curve_fit"
   ]
  },
  {
   "cell_type": "code",
   "execution_count": null,
   "id": "c0db18ca",
   "metadata": {},
   "outputs": [],
   "source": [
    "def _torque_vert(theta, beta, Me):\n",
    "    return Me*np.cos(theta-beta)"
   ]
  },
  {
   "cell_type": "code",
   "execution_count": null,
   "id": "9c985290",
   "metadata": {},
   "outputs": [],
   "source": [
    "def _torque_vert_adv(theta, l0, l1, m):\n",
    "    return m*9.8*(l0*np.cos(theta) + l1*np.sin(theta))"
   ]
  },
  {
   "cell_type": "code",
   "execution_count": null,
   "id": "4fc05774",
   "metadata": {},
   "outputs": [],
   "source": [
    "s0 = 0\n",
    "s1 = N_th\n",
    "[beta_s, Me_s], _ = curve_fit(\n",
    "    _torque_vert,\n",
    "    _ctraj[s0:s1:2,5],\n",
    "    tau_mean_simp[s0:s1:2,5],\n",
    "    (0.66, 2.9),\n",
    "    bounds=([-np.pi/2,0],[np.pi/2, 10])\n",
    ")\n",
    "beta_s, Me_s"
   ]
  },
  {
   "cell_type": "code",
   "execution_count": null,
   "id": "0d126545",
   "metadata": {},
   "outputs": [],
   "source": [
    "s0 = 0\n",
    "s1 = N_th\n",
    "[l0_s, l1_s, m_s], _ = curve_fit(\n",
    "    _torque_vert_adv,\n",
    "    _ctraj[s0:s1:2,5],\n",
    "    tau_mean_simp[s0:s1:2,5],\n",
    "    (0.075, 0.052, 3.14),\n",
    "    bounds=([0,0,3.14],[0.088,0.11, 3.1401])\n",
    ")\n",
    "l0_s, l1_s, m_s"
   ]
  },
  {
   "cell_type": "code",
   "execution_count": null,
   "id": "0cf50b86",
   "metadata": {},
   "outputs": [],
   "source": [
    "s0 = 0\n",
    "s1 = N_th\n",
    "[l0_e, l1_e, m_e], _ = curve_fit(\n",
    "    _torque_vert_adv,\n",
    "    _ctraj[s0:s1:2,5],\n",
    "    tau_mean_simp[s0:s1:2,5],\n",
    "    (0.075, 0.052, 3.34),\n",
    "    bounds=([0,0,3.34],[0.088,0.11, 3.3401])\n",
    ")\n",
    "l0_e, l1_e, m_e"
   ]
  },
  {
   "cell_type": "code",
   "execution_count": null,
   "id": "873068af",
   "metadata": {
    "scrolled": true
   },
   "outputs": [],
   "source": [
    "l0_m = 0.076\n",
    "l1_m = 0.058\n",
    "\n",
    "l0_m2 = 0.072\n",
    "l1_m2 = 0.054\n",
    "\n",
    "l0_m3 = 0.075\n",
    "l1_m3 = 0.057"
   ]
  },
  {
   "cell_type": "code",
   "execution_count": null,
   "id": "fc14db90",
   "metadata": {},
   "outputs": [],
   "source": [
    "ii = 5\n",
    "s0 = 0\n",
    "s1 = N_th\n",
    "dumm = np.arange(0,30,1)\n",
    "plt.figure(figsize=[12,10])\n",
    "plt.plot(_ctraj[s0:s1:2,ii],tau_mean_simp[s0:s1:2,ii], 'o')\n",
    "print(dumm[s0:s1:2])\n",
    "n_interp = 200\n",
    "theta_arr = np.linspace(_ctraj[s0,ii], _ctraj[s1-1,ii], n_interp)\n",
    "\n",
    "Me = 2.9\n",
    "beta = 0.66\n",
    "#plt.plot(theta_arr, Me*np.cos(theta_arr-beta))\n",
    "#plt.plot(theta_arr, _torque_vert(theta_arr, beta_s, Me_s))\n",
    "l0=0.075\n",
    "l1=0.052\n",
    "m = 3.14\n",
    "\n",
    "plt.plot(theta_arr, _torque_vert_adv(theta_arr, l0_s, l1_s, 3.14),label = 'fit parameters')\n",
    "plt.plot(theta_arr, _torque_vert_adv(theta_arr, l0_m, l1_m, 3.14), label = 'manual parameters A')\n",
    "plt.plot(theta_arr, _torque_vert_adv(theta_arr, l0_m3, l1_m3, 3.14), label = 'manual parameters B')\n",
    "plt.grid()\n",
    "plt.legend()"
   ]
  },
  {
   "cell_type": "code",
   "execution_count": null,
   "id": "22a02d8a",
   "metadata": {},
   "outputs": [],
   "source": [
    "beta_s, Me_s"
   ]
  },
  {
   "cell_type": "code",
   "execution_count": null,
   "id": "07ba8888",
   "metadata": {},
   "outputs": [],
   "source": [
    "def _torque_horz(theta, beta, Me):\n",
    "    return -Me*np.sin(beta-theta)"
   ]
  },
  {
   "cell_type": "code",
   "execution_count": null,
   "id": "819e798b",
   "metadata": {},
   "outputs": [],
   "source": [
    "def _torque_horz_adv(theta, l0, l1, m):\n",
    "    return m*9.8*(l0*np.sin(theta) - l1*np.cos(theta))"
   ]
  },
  {
   "cell_type": "code",
   "execution_count": null,
   "id": "c567ef33",
   "metadata": {},
   "outputs": [],
   "source": [
    "s0 = N_th_2\n",
    "s1 = N\n",
    "[beta_s2, Me_s2], _ = curve_fit(\n",
    "    _torque_horz,\n",
    "    _ctraj[s0:s1:2,5],\n",
    "    tau_mean_simp[s0:s1:2,5],\n",
    "    (0.66, 2.9),\n",
    "    bounds=([-np.pi/2,0],[np.pi/2, 10])\n",
    ")\n",
    "beta_s2, Me_s2"
   ]
  },
  {
   "cell_type": "code",
   "execution_count": null,
   "id": "6722478f",
   "metadata": {},
   "outputs": [],
   "source": [
    "s0 = N_th_2\n",
    "s1 = N\n",
    "[l0_s2, l1_s2, m_s2], _ = curve_fit(\n",
    "    _torque_horz_adv,\n",
    "    _ctraj[s0:s1:2,5],\n",
    "    tau_mean_simp[s0:s1:2,5],\n",
    "    (0.075, 0.052, 3.14),\n",
    "    bounds=([0,0,3],[0.088,0.11, 3.1401])\n",
    ")\n",
    "l0_s2, l1_s2, m_s2"
   ]
  },
  {
   "cell_type": "code",
   "execution_count": null,
   "id": "10cba1f0",
   "metadata": {},
   "outputs": [],
   "source": [
    "s0 = N_th_2\n",
    "s1 = N\n",
    "[l0_e2, l1_e2, m_e2], _ = curve_fit(\n",
    "    _torque_horz_adv,\n",
    "    _ctraj[s0:s1:2,5],\n",
    "    tau_mean_simp[s0:s1:2,5],\n",
    "    (0.075, 0.052, 3.34),\n",
    "    bounds=([0,0,3],[0.088,0.11, 3.3401])\n",
    ")\n",
    "l0_e2, l1_e2, m_e2"
   ]
  },
  {
   "cell_type": "code",
   "execution_count": null,
   "id": "883b513e",
   "metadata": {},
   "outputs": [],
   "source": [
    "l0_s, l1_s, m_s"
   ]
  },
  {
   "cell_type": "code",
   "execution_count": null,
   "id": "7053d5a4",
   "metadata": {},
   "outputs": [],
   "source": [
    "ii = 5\n",
    "s0 = N_th_2\n",
    "s1 = N\n",
    "dumm = np.arange(0,30,1)\n",
    "plt.figure(figsize=[12,10])\n",
    "plt.plot(_ctraj[s0:s1:2,ii],tau_mean_simp[s0:s1:2,ii], 'o')\n",
    "#print(dumm[s0:s1:2])\n",
    "n_interp = 200\n",
    "theta_arr = np.linspace(_ctraj[s0,ii], _ctraj[s1-1,ii], n_interp)\n",
    "\n",
    "Me = 3.01\n",
    "beta = 0.65\n",
    "#plt.plot(theta_arr, -Me_s2*np.sin(beta_s2-theta_arr))\n",
    "plt.plot(theta_arr, _torque_horz_adv(theta_arr, l0_s2, l1_s2, 3.14), label = 'fit parameters')\n",
    "plt.plot(theta_arr, _torque_horz_adv(theta_arr, l0_m, l1_m, 3.14), label = 'manual parameters A')\n",
    "plt.plot(theta_arr, _torque_horz_adv(theta_arr, l0_m3, l1_m3, 3.14), label = 'manual parameters B')\n",
    "plt.grid()\n",
    "plt.legend()"
   ]
  },
  {
   "cell_type": "code",
   "execution_count": null,
   "id": "927db877",
   "metadata": {},
   "outputs": [],
   "source": [
    "beta_s2, Me_s2, beta_s, Me_s"
   ]
  },
  {
   "cell_type": "code",
   "execution_count": null,
   "id": "56947eee",
   "metadata": {},
   "outputs": [],
   "source": [
    "def _torque_shoulder_horz(theta, M3, m, Me, beta):\n",
    "    w = m*9.8\n",
    "    return M3 + w*0.384 - Me*np.sin(beta-theta)"
   ]
  },
  {
   "cell_type": "code",
   "execution_count": null,
   "id": "48dbba7d",
   "metadata": {},
   "outputs": [],
   "source": [
    "def _torque_shoulder_horz_adv(theta, M3, l0, l1):\n",
    "    return M3 + 3.14*9.8*(0.384 + l0*np.sin(theta) - l1*np.cos(theta))"
   ]
  },
  {
   "cell_type": "code",
   "execution_count": null,
   "id": "263c7493",
   "metadata": {},
   "outputs": [],
   "source": [
    "def _torque_shoulder_horz_simp(theta, M3):\n",
    "    return M3 + 3.14*9.8*(0.384 + l0_m*np.sin(theta) - l1_m*np.cos(theta))\n",
    "def _torque_shoulder_horz_simp2(theta, M3):\n",
    "    return M3 + 3.34*9.8*(0.384 + l0_m2*np.sin(theta) - l1_m2*np.cos(theta))\n",
    "def _torque_shoulder_horz_simp3(theta, M3):\n",
    "    return M3 + 3.14*9.8*(0.384 + l0_m3*np.sin(theta) - l1_m3*np.cos(theta))"
   ]
  },
  {
   "cell_type": "code",
   "execution_count": null,
   "id": "a54c13b3",
   "metadata": {},
   "outputs": [],
   "source": [
    "s0 = N_th_2\n",
    "s1 = N\n",
    "\n",
    "Me_test = Me_s2\n",
    "beta_test = beta_s2\n",
    "\n",
    "[M3_s, m_s, Me_s3, beta_s3], _ = curve_fit(\n",
    "    _torque_shoulder_horz,\n",
    "    _ctraj[s0:s1:2,5],\n",
    "    tau_mean_simp[s0:s1:2,3],\n",
    "    (16.8, 0.8, Me_test, beta_test),\n",
    "    bounds=([0,0, Me_test*0.5, beta_test*0.5],[20, 3, Me_test, beta_test])\n",
    ")\n",
    "M3_s, m_s, Me_s3, beta_s3"
   ]
  },
  {
   "cell_type": "code",
   "execution_count": null,
   "id": "1af401f0",
   "metadata": {},
   "outputs": [],
   "source": [
    "s0 = N_th_2\n",
    "s1 = N\n",
    "[M3_s, l0_s3, l1_s3], _ = curve_fit(\n",
    "    _torque_shoulder_horz_adv,\n",
    "    _ctraj[s0:s1:2,5],\n",
    "    tau_mean_simp[s0:s1:2,3],\n",
    "    (5.13, 0.075, 0.052),\n",
    "    bounds=([0,0,0],[9,0.088,0.11])\n",
    ")\n",
    "M3_s, l0_s3, l1_s3"
   ]
  },
  {
   "cell_type": "code",
   "execution_count": null,
   "id": "2d822fca",
   "metadata": {},
   "outputs": [],
   "source": [
    "s0 = N_th_2\n",
    "s1 = N\n",
    "[M3_s2,], _ = curve_fit(\n",
    "    _torque_shoulder_horz_simp,\n",
    "    _ctraj[s0:s1:2,5],\n",
    "    tau_mean_simp[s0:s1:2,3],\n",
    "    (5.13),\n",
    "    bounds=([0,],[9,])\n",
    ")\n",
    "M3_s2"
   ]
  },
  {
   "cell_type": "code",
   "execution_count": null,
   "id": "9cea1eb3",
   "metadata": {},
   "outputs": [],
   "source": [
    "s0 = N_th_2\n",
    "s1 = N\n",
    "[M3_s3,], _ = curve_fit(\n",
    "    _torque_shoulder_horz_simp2,\n",
    "    _ctraj[s0:s1:2,5],\n",
    "    tau_mean_simp[s0:s1:2,3],\n",
    "    (5.13),\n",
    "    bounds=([0,],[9,])\n",
    ")\n",
    "M3_s3"
   ]
  },
  {
   "cell_type": "code",
   "execution_count": null,
   "id": "727e3963",
   "metadata": {},
   "outputs": [],
   "source": [
    "s0 = N_th_2\n",
    "s1 = N\n",
    "[M3_s4,], _ = curve_fit(\n",
    "    _torque_shoulder_horz_simp3,\n",
    "    _ctraj[s0:s1:2,5],\n",
    "    tau_mean_simp[s0:s1:2,3],\n",
    "    (5.13),\n",
    "    bounds=([0,],[9,])\n",
    ")\n",
    "M3_s4"
   ]
  },
  {
   "cell_type": "code",
   "execution_count": null,
   "id": "a515e536",
   "metadata": {},
   "outputs": [],
   "source": [
    "print(l0_s, l1_s)\n",
    "print(l0_s2, l1_s2)\n",
    "print(l0_s3, l1_s3)"
   ]
  },
  {
   "cell_type": "code",
   "execution_count": null,
   "id": "82319e88",
   "metadata": {},
   "outputs": [],
   "source": [
    "ii = 3\n",
    "s0 = N_th_2\n",
    "s1 = N\n",
    "#dumm = np.arange(0,30,1)\n",
    "plt.figure(figsize=[12,10])\n",
    "plt.plot(_ctraj[s0:s1:2,5],tau_mean_simp[s0:s1:2,ii], 'o')\n",
    "#print(dumm[s0:s1:2])\n",
    "n_interp = 200\n",
    "theta_arr = np.linspace(_ctraj[s0,5], _ctraj[s1-1,5], n_interp)\n",
    "\n",
    "M3 = 16.8\n",
    "Me = 2.9\n",
    "m = 0.8\n",
    "w = m*9.8\n",
    "l = Me/w\n",
    "beta = 0.66\n",
    "\n",
    "plt.plot(theta_arr, _torque_shoulder_horz_adv(theta_arr, M3_s, l0_s3, l1_s3), label = 'fit parameters')\n",
    "plt.plot(theta_arr, _torque_shoulder_horz_simp(theta_arr, M3_s2), label = 'manual parameters A')\n",
    "plt.plot(theta_arr, _torque_shoulder_horz_simp3(theta_arr, M3_s4), label = 'manual parameters B')\n",
    "#_x = tau_mean_simp[s0:s1:2,ii] - w*0.384 + Me*np.sin(beta-_ctraj[s0:s1:2,5])\n",
    "#plt.plot(_ctraj[s0:s1:2,5],_x-np.min(_x), 'o')\n",
    "#plt.vlines(beta, 19.5,23, color='k', ls = ':')\n",
    "plt.grid()\n",
    "plt.legend()"
   ]
  },
  {
   "cell_type": "code",
   "execution_count": null,
   "id": "92934be1",
   "metadata": {},
   "outputs": [],
   "source": [
    "9.8*(3.6*0.06+1.23*0.25)"
   ]
  },
  {
   "cell_type": "code",
   "execution_count": null,
   "id": "1573e2ac",
   "metadata": {},
   "outputs": [],
   "source": [
    "9.8*(3.6*0.12+1.23*0.384)"
   ]
  },
  {
   "cell_type": "code",
   "execution_count": null,
   "id": "54cb3b23",
   "metadata": {},
   "outputs": [],
   "source": [
    "print(panda.links[3].m, panda.links[4].m)"
   ]
  },
  {
   "cell_type": "code",
   "execution_count": null,
   "id": "419e13b8",
   "metadata": {
    "scrolled": false
   },
   "outputs": [],
   "source": [
    "n_interp = 200\n",
    "\n",
    "Me = np.mean([Me_s, Me_s2, Me_s3])\n",
    "beta = np.mean([beta_s, beta_s2, beta_s3])\n",
    "m = m_s\n",
    "M3 = M3_s\n",
    "\n",
    "s0 = 0\n",
    "s1 = N_th\n",
    "theta_arr = np.linspace(_ctraj[s0,5], _ctraj[s1-1,5], n_interp)\n",
    "plt.figure(figsize=[12,10])\n",
    "plt.plot(_ctraj[s0:s1:2,5],tau_mean_simp[s0:s1:2,5], 'o')\n",
    "plt.plot(theta_arr, _torque_vert(theta_arr, beta, Me))\n",
    "plt.grid()\n",
    "\n",
    "\n",
    "s0 = N_th_2\n",
    "s1 = N\n",
    "theta_arr = np.linspace(_ctraj[s0,5], _ctraj[s1-1,5], n_interp)\n",
    "\n",
    "plt.figure(figsize=[12,10])\n",
    "plt.plot(_ctraj[s0:s1:2,5],tau_mean_simp[s0:s1:2,5], 'o')\n",
    "plt.plot(theta_arr, -Me*np.sin(beta-theta_arr))\n",
    "plt.grid()\n",
    "\n",
    "\n",
    "plt.figure(figsize=[12,10])\n",
    "plt.plot(_ctraj[s0:s1:2,5],tau_mean_simp[s0:s1:2,3], 'o')\n",
    "plt.plot(theta_arr, _torque_shoulder_horz(theta_arr, M3, m, Me, beta))\n",
    "plt.grid()\n",
    "\n",
    "M3, m, Me, beta, Me/m/9.81"
   ]
  },
  {
   "cell_type": "code",
   "execution_count": null,
   "id": "3b23515d",
   "metadata": {},
   "outputs": [],
   "source": [
    "th5_0 = 0.4\n",
    "th5_1 = 3.6\n",
    "dth = 0.2\n",
    "dt = 1\n",
    "t_change = 3\n",
    "\n",
    "N_th = 2*int(1+(th5_1 - th5_0)/dth)\n",
    "N_change = int(t_change/dt)\n",
    "N_th_2 = N_th+ N_change\n",
    "th_arr = np.linspace(th5_0, th5_1, int(N_th/2))\n",
    "\n",
    "N = 2*N_th + N_change\n",
    "_ctraj = np.zeros([N,15])\n",
    "_ctraj[:,6] = 1\n",
    "_ctraj[:,5] = th5_0\n",
    "_ctraj[:,-1] = np.arange(N)*dt\n",
    "\n",
    "_ctraj[0:N_th, 3] = -0.2\n",
    "_ctraj[0:N_th, 1] = -0.2\n",
    "\n",
    "_ctraj[0:N_th:2, 5] = th_arr\n",
    "_ctraj[1:N_th:2, 5] = th_arr\n",
    "\n",
    "\n",
    "\n",
    "_ctraj[N_th_2:, 1] = 0\n",
    "_ctraj[N_th_2:, 3] = -np.pi/2\n",
    "\n",
    "_ctraj[N_th_2::2, 5] = th_arr\n",
    "_ctraj[N_th_2+1::2, 5] = th_arr\n",
    "\n",
    "\n",
    "\n",
    "her_traj = hermite(_ctraj[(N_th-1, N_th_2),-1], _ctraj[(N_th-1, N_th_2), :7], _ctraj[(N_th-1, N_th_2), 7:14])\n",
    "her_speed = her_traj.derivative()\n",
    "_ctraj[N_th: N_th_2, :7] = her_traj(_ctraj[N_th: N_th_2,-1])\n",
    "_ctraj[N_th: N_th_2, 7:14] = her_speed(_ctraj[N_th: N_th_2,-1])\n",
    "\n",
    "\n",
    "_ctraj[:,:7]"
   ]
  },
  {
   "cell_type": "markdown",
   "id": "5c4cd030",
   "metadata": {},
   "source": [
    "# HERE BE DRAGONS\n",
    "\n",
    "(copypasted and untested cells, do not use beyond this point)"
   ]
  },
  {
   "cell_type": "code",
   "execution_count": null,
   "id": "87541a3a",
   "metadata": {},
   "outputs": [],
   "source": [
    "for link in panda.links:\n",
    "    print(link.m)"
   ]
  },
  {
   "cell_type": "code",
   "execution_count": null,
   "id": "49a03e18",
   "metadata": {},
   "outputs": [],
   "source": [
    "from sympy import (symbols, simplify, lambdify)\n",
    "from sympy.physics.mechanics import dynamicsymbols, init_vprinting\n",
    "from sympy.physics.mechanics import Lagrangian, ReferenceFrame, Point, Particle,inertia, RigidBody, angular_momentum"
   ]
  },
  {
   "cell_type": "code",
   "execution_count": null,
   "id": "18d1c80e",
   "metadata": {},
   "outputs": [],
   "source": [
    "from optibot.symbolic import lagrange, diff_to_symb, SimpLagrangesMethod\n",
    "from optibot.numpy import unpack"
   ]
  },
  {
   "cell_type": "code",
   "execution_count": null,
   "id": "8f69ba25",
   "metadata": {},
   "outputs": [],
   "source": [
    "init_vprinting()"
   ]
  },
  {
   "cell_type": "code",
   "execution_count": null,
   "id": "bd40ec38",
   "metadata": {},
   "outputs": [],
   "source": [
    "panda.qlim"
   ]
  },
  {
   "cell_type": "code",
   "execution_count": null,
   "id": "d77eb4aa",
   "metadata": {},
   "outputs": [],
   "source": [
    "link.r\n"
   ]
  },
  {
   "cell_type": "code",
   "execution_count": null,
   "id": "75c95dc6",
   "metadata": {},
   "outputs": [],
   "source": [
    "def matrix_to_6_vect(M):\n",
    "    I = np.zeros(6)\n",
    "    I[0] = M[0,0]\n",
    "    I[1] = M[1,1]\n",
    "    I[2] = M[2,2]\n",
    "    I[3] = M[0,1]\n",
    "    I[4] = M[1,2]\n",
    "    I[5] = M[0,2]\n",
    "    return I\n",
    "\n",
    "def arr_to_vect(v, frame):\n",
    "    return v[0]*frame.x + v[1]*frame.y + v[2]*frame.z\n",
    "\n",
    "def make_search_func(link, replacedict):\n",
    "    def search(varname):\n",
    "        if varname in replacedict.keys():\n",
    "            return replacedict[varname]\n",
    "        else:\n",
    "            return getattr(link, varname)\n",
    "    return search"
   ]
  },
  {
   "cell_type": "code",
   "execution_count": null,
   "id": "a05f2fd7",
   "metadata": {},
   "outputs": [],
   "source": [
    "N_in = ReferenceFrame('N')\n",
    "P0 = Point('P0')\n",
    "P0.set_vel(N_in, 0)"
   ]
  },
  {
   "cell_type": "markdown",
   "id": "40da76b0",
   "metadata": {},
   "source": [
    "def dhlink_to_symbody(dhlink, ref_frame, ref_point, N_inert, P_inert, q, name = 'Body', g = 9.8, replacedict = {}):\n",
    "    search = make_search_func(dhlink, replacedict)\n",
    "    theta = search('theta')\n",
    "    alpha = search('alpha')\n",
    "    d = search('d')\n",
    "    a = search('a')\n",
    "    m = search('m')\n",
    "    inert = matrix_to_6_vect(search('I'))\n",
    "    \n",
    "    \n",
    "    Nint = ref_frame.orientnew('Nint', 'Axis', [theta, ref_frame.z])\n",
    "    N1 = Nint.orientnew('N1', 'Axis', [alpha, Nint.x])\n",
    "    Nbody = N1.orientnew('NB', 'Axis', [q, N1.z])\n",
    "    P1 = ref_point.locatenew('P1', d* ref_frame.z + a * N1.x)\n",
    "    P1.set_vel(N_in, P1.pos_from(P_inert).dt(N_inert))\n",
    "    \n",
    "    \n",
    "    cm_pos = arr_to_vect(search('r'), Nbody)\n",
    "    CM0 = ref_point.locatenew('CM0', cm_pos)\n",
    "    CM0.set_vel(N_in, CM0.pos_from(P_inert).dt(N_inert))\n",
    "    I_0 = inertia(Nbody, *inert)\n",
    "    body0 = RigidBody(name, CM0, Nbody, m, (I_0,CM0))\n",
    "    body0.potential_energy = m * g * CM0.pos_from(P_inert).dot(N_inert.z)\n",
    "    \n",
    "    return body0, Nbody, P1"
   ]
  },
  {
   "cell_type": "code",
   "execution_count": null,
   "id": "dde7206e",
   "metadata": {},
   "outputs": [],
   "source": [
    "def dhlink_mod_to_symbody(dhlink, ref_frame, ref_point, N_inert, P_inert, q, name = 'Body', g = 9.8, replacedict = {}):\n",
    "    search = make_search_func(dhlink, replacedict)\n",
    "    theta = search('theta')\n",
    "    alpha = search('alpha')\n",
    "    d = search('d')\n",
    "    a = search('a')\n",
    "    m = search('m')\n",
    "    inert = matrix_to_6_vect(search('I'))\n",
    "    \n",
    "    \n",
    "    Nint = ref_frame.orientnew('Nint', 'Axis', [alpha, ref_frame.x])\n",
    "    N1 = Nint.orientnew('N1', 'Axis', [theta, Nint.z])\n",
    "    Nbody = N1.orientnew('NB', 'Axis', [q, N1.z])\n",
    "    P1 = ref_point.locatenew('P1', d* N1.z + a * ref_frame.x)\n",
    "    P1.set_vel(N_inert, P1.pos_from(P_inert).dt(N_inert))\n",
    "    \n",
    "    \n",
    "    cm_pos = arr_to_vect(search('r'), Nbody)\n",
    "    #CM0 = ref_point.locatenew('CM0', cm_pos)\n",
    "    CM0 = P1.locatenew('CM0', cm_pos)\n",
    "    CM0.set_vel(N_in, CM0.pos_from(P_inert).dt(N_inert))\n",
    "    I_0 = inertia(Nbody, *inert)\n",
    "    body0 = RigidBody(name, CM0, Nbody, m, (I_0,CM0))\n",
    "    body0.potential_energy = m * g * CM0.pos_from(P_inert).dot(N_inert.z)\n",
    "    \n",
    "    return body0, Nbody, P1"
   ]
  },
  {
   "cell_type": "code",
   "execution_count": null,
   "id": "da28c379",
   "metadata": {},
   "outputs": [],
   "source": [
    "_b1, _N1, _P1 = dhlink_mod_to_symbody(link, N_in, P0, N_in, P0, dynamicsymbols('q'))"
   ]
  },
  {
   "cell_type": "code",
   "execution_count": null,
   "id": "691f5771",
   "metadata": {},
   "outputs": [],
   "source": [
    "_b1.kinetic_energy(N_in)"
   ]
  },
  {
   "cell_type": "code",
   "execution_count": null,
   "id": "9a398ea1",
   "metadata": {},
   "outputs": [],
   "source": [
    "from sympy import pi"
   ]
  },
  {
   "cell_type": "code",
   "execution_count": null,
   "id": "c32f15dd",
   "metadata": {},
   "outputs": [],
   "source": [
    "hpi = pi/2\n",
    "alpha_arr = [0, -hpi, hpi, hpi, -hpi, hpi, hpi]\n",
    "\n",
    "points= [P0]\n",
    "frames = [N_in]\n",
    "bodys = []\n",
    "for ii,link in enumerate(panda.links):\n",
    "    _b1, _N1, _P1 = dhlink_mod_to_symbody(\n",
    "        link, frames[-1], points[-1], N_in, P0, dynamicsymbols(f'q_{ii}'),\n",
    "        replacedict={'alpha':alpha_arr[ii]}\n",
    "    )\n",
    "    points.append(_P1)\n",
    "    frames.append(_N1)\n",
    "    bodys.append(_b1)"
   ]
  },
  {
   "cell_type": "code",
   "execution_count": null,
   "id": "e34330d1",
   "metadata": {},
   "outputs": [],
   "source": [
    "bodys[0].frame"
   ]
  },
  {
   "cell_type": "code",
   "execution_count": null,
   "id": "72f5c7e5",
   "metadata": {},
   "outputs": [],
   "source": [
    "Lag = Lagrangian(N_in, *bodys)"
   ]
  },
  {
   "cell_type": "markdown",
   "id": "0c5bcd8a",
   "metadata": {},
   "source": [
    "Lag_simp"
   ]
  },
  {
   "cell_type": "code",
   "execution_count": null,
   "id": "8443c70f",
   "metadata": {},
   "outputs": [],
   "source": [
    "panda.mdh"
   ]
  },
  {
   "cell_type": "code",
   "execution_count": null,
   "id": "84ad1583",
   "metadata": {},
   "outputs": [],
   "source": [
    "sym_x = dynamicsymbols('q_0:7')\n",
    "sym_x = sym_x + [ii.diff() for ii in sym_x]\n",
    "sym_params = []"
   ]
  },
  {
   "cell_type": "code",
   "execution_count": null,
   "id": "4665ba54",
   "metadata": {},
   "outputs": [],
   "source": [
    "_p = points[7].pos_from(P0)\n",
    "_p.express(N_in).subs({qq:0 for qq in sym_x})"
   ]
  },
  {
   "cell_type": "code",
   "execution_count": null,
   "id": "d97d227b",
   "metadata": {
    "scrolled": true
   },
   "outputs": [],
   "source": [
    "for link in panda.links:\n",
    "    print(link.alpha)"
   ]
  },
  {
   "cell_type": "code",
   "execution_count": null,
   "id": "b684071a",
   "metadata": {},
   "outputs": [],
   "source": [
    "link.mdh"
   ]
  },
  {
   "cell_type": "code",
   "execution_count": null,
   "id": "c8c85163",
   "metadata": {},
   "outputs": [],
   "source": [
    "len(panda.links)"
   ]
  },
  {
   "cell_type": "code",
   "execution_count": null,
   "id": "bac04d33",
   "metadata": {},
   "outputs": [],
   "source": [
    "from optibot.symbolic import ImplicitLagrangesMethod"
   ]
  },
  {
   "cell_type": "code",
   "execution_count": null,
   "id": "d28c6888",
   "metadata": {},
   "outputs": [],
   "source": [
    "u0, u1, u2, u3, u4, u5, u6 = symbols('u_:7')\n",
    "qq = dynamicsymbols('q_0:7')\n",
    "uu = [u0, u1, u2, u3, u4, u5, u6]\n",
    "FL = []\n",
    "for ii in range(7):\n",
    "    fr = bodys[ii].frame\n",
    "    FL.append((fr, uu[ii]*fr.z))\n",
    "for ii in range(6):\n",
    "    fr = bodys[ii].frame\n",
    "    FL.append((fr, -uu[ii+1]*bodys[ii+1].frame.z))\n",
    "    \n",
    "LM_small = ImplicitLagrangesMethod(Lag, qq, forcelist=FL, frame=N_in)"
   ]
  },
  {
   "cell_type": "code",
   "execution_count": null,
   "id": "b5906ce2",
   "metadata": {},
   "outputs": [],
   "source": [
    "try:\n",
    "    from jbkjhbkhbkhb import gg\n",
    "except ModuleNotFoundError:\n",
    "    print('te cogí')\n",
    "else:\n",
    "    print('ok')"
   ]
  },
  {
   "cell_type": "code",
   "execution_count": null,
   "id": "e247a001",
   "metadata": {},
   "outputs": [],
   "source": [
    "_ = LM_small.form_lagranges_equations()\n",
    "mass_matrix_np = lambdify([sym_x, sym_params], LM_small.mass_matrix,'numpy')"
   ]
  },
  {
   "cell_type": "code",
   "execution_count": null,
   "id": "50de3a8b",
   "metadata": {},
   "outputs": [],
   "source": [
    "sym_u = uu\n",
    "F_impl_np = lambdify([sym_x, sym_u, sym_params], LM_small.forcing,'numpy')"
   ]
  },
  {
   "cell_type": "code",
   "execution_count": null,
   "id": "f160b4b4",
   "metadata": {},
   "outputs": [],
   "source": []
  },
  {
   "cell_type": "code",
   "execution_count": null,
   "id": "0015a40d",
   "metadata": {},
   "outputs": [],
   "source": [
    "_q = randq()\n",
    "_qd = randq()\n",
    "_x = np.concatenate((_q,_qd))"
   ]
  },
  {
   "cell_type": "code",
   "execution_count": null,
   "id": "d5c157b8",
   "metadata": {},
   "outputs": [],
   "source": [
    "_m = mass_matrix_np(_x,[])\n",
    "plt.figure(figsize=[10,10])\n",
    "plt.imshow(_m)\n",
    "plt.colorbar()"
   ]
  },
  {
   "cell_type": "code",
   "execution_count": null,
   "id": "ac9ef296",
   "metadata": {},
   "outputs": [],
   "source": [
    "plt.figure(figsize=[10,10])\n",
    "plt.imshow(panda.inertia(_q))\n",
    "plt.colorbar()"
   ]
  },
  {
   "cell_type": "code",
   "execution_count": null,
   "id": "243cc44d",
   "metadata": {},
   "outputs": [],
   "source": [
    "_m/panda.inertia(_q)"
   ]
  },
  {
   "cell_type": "code",
   "execution_count": null,
   "id": "1ba3304e",
   "metadata": {},
   "outputs": [],
   "source": [
    "_m"
   ]
  },
  {
   "cell_type": "code",
   "execution_count": null,
   "id": "b7e1cac7",
   "metadata": {},
   "outputs": [],
   "source": [
    "from optibot.analysis import generate_G"
   ]
  },
  {
   "cell_type": "code",
   "execution_count": null,
   "id": "22edef2e",
   "metadata": {},
   "outputs": [],
   "source": [
    "F_impl_np = lambdify([sym_x, uu, sym_params], LM_small.forcing,'numpy')"
   ]
  },
  {
   "cell_type": "code",
   "execution_count": null,
   "id": "9d59234d",
   "metadata": {},
   "outputs": [],
   "source": [
    "G_nump = generate_G(F_impl = F_impl_np,\n",
    "           M = mass_matrix_np,)"
   ]
  },
  {
   "cell_type": "code",
   "execution_count": null,
   "id": "738deb23",
   "metadata": {},
   "outputs": [],
   "source": [
    "G_nump(np.zeros(14), np.zeros(7), [])"
   ]
  },
  {
   "cell_type": "code",
   "execution_count": null,
   "id": "d6040daa",
   "metadata": {},
   "outputs": [],
   "source": [
    "panda.accel(np.zeros(7), np.zeros(7), np.zeros(7))"
   ]
  },
  {
   "cell_type": "code",
   "execution_count": null,
   "id": "eb6fc57d",
   "metadata": {},
   "outputs": [],
   "source": [
    "from mpl_toolkits import mplot3d"
   ]
  },
  {
   "cell_type": "code",
   "execution_count": null,
   "id": "44c3a19e",
   "metadata": {},
   "outputs": [],
   "source": [
    "%matplotlib inline"
   ]
  },
  {
   "cell_type": "code",
   "execution_count": null,
   "id": "1be486fd",
   "metadata": {},
   "outputs": [],
   "source": [
    "_p = points[7].pos_from(P0)\n",
    "_p.express(N_in).subs({qq:0 for qq in sym_x})"
   ]
  },
  {
   "cell_type": "code",
   "execution_count": null,
   "id": "8fd3fc2e",
   "metadata": {},
   "outputs": [],
   "source": [
    "_p.dot(N_in.z)"
   ]
  },
  {
   "cell_type": "code",
   "execution_count": null,
   "id": "7115a92a",
   "metadata": {},
   "outputs": [],
   "source": [
    "def get_line_f():\n",
    "    versors = [N_in.x, N_in.y, N_in.z]\n",
    "    functions = {}\n",
    "    for coord in range(3):\n",
    "        for ii in range(7):\n",
    "            point = points[ii+1].pos_from(P0)\n",
    "            sym_leng = point.dot(versors[coord])\n",
    "            key = f'{coord}{ii}'\n",
    "            f = lambdify([qq,], sym_leng)\n",
    "            functions[key] = f\n",
    "    def line3d(q):\n",
    "        xline = np.zeros(8)\n",
    "        yline = np.zeros(8)\n",
    "        zline = np.zeros(8)\n",
    "        lines = [xline, yline, zline]\n",
    "        for coord in range(3):\n",
    "            for ii in range(7):\n",
    "                key = f'{coord}{ii}'\n",
    "                f = functions[key]\n",
    "                lines[coord][ii+1] = f(q)\n",
    "        return lines\n",
    "    return line3d\n",
    "        "
   ]
  },
  {
   "cell_type": "code",
   "execution_count": null,
   "id": "22f45733",
   "metadata": {},
   "outputs": [],
   "source": [
    "line3d = get_line_f()"
   ]
  },
  {
   "cell_type": "code",
   "execution_count": null,
   "id": "a754af51",
   "metadata": {},
   "outputs": [],
   "source": [
    "line3d(np.zeros(7))"
   ]
  },
  {
   "cell_type": "code",
   "execution_count": null,
   "id": "af6ea19d",
   "metadata": {},
   "outputs": [],
   "source": [
    "def set_axes_equal(ax: plt.Axes):\n",
    "    \"\"\"Set 3D plot axes to equal scale.\n",
    "\n",
    "    Make axes of 3D plot have equal scale so that spheres appear as\n",
    "    spheres and cubes as cubes.  Required since `ax.axis('equal')`\n",
    "    and `ax.set_aspect('equal')` don't work on 3D.\n",
    "    \"\"\"\n",
    "    limits = np.array([\n",
    "        ax.get_xlim3d(),\n",
    "        ax.get_ylim3d(),\n",
    "        ax.get_zlim3d(),\n",
    "    ])\n",
    "    origin = np.mean(limits, axis=1)\n",
    "    radius = 0.5 * np.max(np.abs(limits[:, 1] - limits[:, 0]))\n",
    "    _set_axes_radius(ax, origin, radius)\n",
    "\n",
    "def _set_axes_radius(ax, origin, radius):\n",
    "    x, y, z = origin\n",
    "    ax.set_xlim3d([x - radius, x + radius])\n",
    "    ax.set_ylim3d([y - radius, y + radius])\n",
    "    ax.set_zlim3d([z - radius, z + radius])\n",
    "def plot3d(q):\n",
    "    fig = plt.figure()\n",
    "    ax = plt.axes(projection='3d')\n",
    "    xline, yline, zline = line3d(q)\n",
    "    ax.plot3D(xline, yline, zline, 'red', lw =5)\n",
    "    ax.set_box_aspect([1,1,1])\n",
    "    set_axes_equal(ax)"
   ]
  },
  {
   "cell_type": "code",
   "execution_count": null,
   "id": "aa8c2144",
   "metadata": {},
   "outputs": [],
   "source": [
    "_q = randq()"
   ]
  },
  {
   "cell_type": "code",
   "execution_count": null,
   "id": "90116998",
   "metadata": {},
   "outputs": [],
   "source": [
    "_q0 = np.zeros(7)\n",
    "_q0[-2] = np.arctan(0.107/0.088)+np.pi/2"
   ]
  },
  {
   "cell_type": "code",
   "execution_count": null,
   "id": "457cfdfd",
   "metadata": {},
   "outputs": [],
   "source": [
    "plot3d(_q0)"
   ]
  },
  {
   "cell_type": "code",
   "execution_count": null,
   "id": "a822027c",
   "metadata": {
    "scrolled": false
   },
   "outputs": [],
   "source": [
    "panda.plot(_ctraj[8,:7])"
   ]
  },
  {
   "cell_type": "code",
   "execution_count": null,
   "id": "d5dfa91d",
   "metadata": {},
   "outputs": [],
   "source": []
  },
  {
   "cell_type": "code",
   "execution_count": null,
   "id": "961713c9",
   "metadata": {},
   "outputs": [],
   "source": []
  },
  {
   "cell_type": "code",
   "execution_count": null,
   "id": "a9b034c6",
   "metadata": {},
   "outputs": [],
   "source": [
    "%matplotlib notebook\n",
    "%config NotebookBackend.figure_format = 'retina'"
   ]
  },
  {
   "cell_type": "code",
   "execution_count": null,
   "id": "fd3f3e80",
   "metadata": {},
   "outputs": [],
   "source": [
    "panda.links[1].friction"
   ]
  },
  {
   "cell_type": "markdown",
   "id": "c0f69168",
   "metadata": {},
   "source": [
    "### Casadi optimization"
   ]
  },
  {
   "cell_type": "code",
   "execution_count": null,
   "id": "1728d9d1",
   "metadata": {},
   "outputs": [],
   "source": [
    "from optibot.opti import Opti_Problem\n",
    "import time\n",
    "from functools import lru_cache"
   ]
  },
  {
   "cell_type": "code",
   "execution_count": null,
   "id": "d848bac1",
   "metadata": {},
   "outputs": [],
   "source": [
    "_opti = Opti_Problem(\n",
    "    LM= lambda q, qd, u, p:panda.accel(q, qd, u),\n",
    "    params = [],\n",
    "    verbose=True,\n",
    "    silent=False\n",
    "    \n",
    ")"
   ]
  },
  {
   "cell_type": "code",
   "execution_count": null,
   "id": "9655955f",
   "metadata": {},
   "outputs": [],
   "source": [
    "_opti.dynamic_setup('g_q', 7, 7,)"
   ]
  },
  {
   "cell_type": "code",
   "execution_count": null,
   "id": "bfb44d7a",
   "metadata": {},
   "outputs": [],
   "source": []
  },
  {
   "cell_type": "code",
   "execution_count": null,
   "id": "183975f5",
   "metadata": {},
   "outputs": [],
   "source": []
  },
  {
   "cell_type": "code",
   "execution_count": null,
   "id": "8b511dff",
   "metadata": {},
   "outputs": [],
   "source": []
  },
  {
   "cell_type": "code",
   "execution_count": null,
   "id": "27ac2a0a",
   "metadata": {},
   "outputs": [],
   "source": []
  },
  {
   "cell_type": "code",
   "execution_count": null,
   "id": "f71f875f",
   "metadata": {},
   "outputs": [],
   "source": [
    "@lru_cache(maxsize=None)\n",
    "def five_link(scheme, N, ini_guess='lin', solve_repetitions = 1, t_end = 0.7, step_length = 0.5, verbose = False, silent = True):\n",
    "    _opti = Opti_Problem(\n",
    "        LM=LM_small,\n",
    "        params = params,\n",
    "        scheme = scheme,\n",
    "        ini_guess= ini_guess,\n",
    "        t_end = t_end,\n",
    "        verbose=verbose,\n",
    "        silent=silent,\n",
    "    )\n",
    "    _opti.dynamic_setup()\n",
    "    _opti.opti_setup(N)\n",
    "    _guess = [-0.3, 0.7, 0, -0.5, -0.6]\n",
    "    _opti.initial_guess(_guess, _guess[::-1])\n",
    "    _opti.u_sq_cost()\n",
    "    _opti.apply_scheme()\n",
    "    opti = _opti.opti\n",
    "    X = _opti.opti_arrs['x']\n",
    "    U = _opti.opti_arrs['u']\n",
    "    X_s = _opti.opti_points['x_s']\n",
    "    X_e = _opti.opti_points['x_e']\n",
    "    N = _opti.N\n",
    "    #Periodic gait constraint:\n",
    "    opti.subject_to(simetric_5_links(X_s, X_e) == 0)\n",
    "    opti.subject_to(impact_cond_cas_f(X_e, X_s, params, additional_params) == 0)\n",
    "    #Step size constraint:\n",
    "    opti.subject_to(feet_x_cas(X[-1,:], params, additional_params) == step_length)\n",
    "    opti.subject_to(feet_y_cas(X[-1,:], params, additional_params) == 0)\n",
    "    #Small Feet Conditions:\n",
    "    opti.subject_to(U[:,0] == 0)\n",
    "    if 'parab' in scheme:\n",
    "        U_c = _opti.opti_arrs['u_c']\n",
    "        opti.subject_to(U_c[:,0] == 0)\n",
    "    opti.subject_to(feet_y_vel_cas(X_s, params, additional_params)>0)\n",
    "    opti.subject_to(feet_y_vel_cas(X_e, params, additional_params)<0)\n",
    "    #Feet over ground Restrictions:\n",
    "    for ii in range(1,N):\n",
    "        opti.subject_to(feet_y_cas(X[ii,:], params, additional_params) > 0)\n",
    "    _opti.chrono_solve(solve_repetitions=solve_repetitions,)\n",
    "    return _opti.results"
   ]
  },
  {
   "cell_type": "code",
   "execution_count": null,
   "id": "251a8fc3",
   "metadata": {},
   "outputs": [],
   "source": [
    "_res = five_link('LGL', 16, 'lin', silent=False, verbose=True)"
   ]
  },
  {
   "cell_type": "markdown",
   "id": "8af81c26",
   "metadata": {},
   "source": [
    "from optibot.casadi import accelrestriction2casadi\n",
    "from optibot.schemes import (euler_accel_restr, trapz_accel_restr, trapz_mod_accel_restr,\n",
    "                             hs_mod_accel_restr, hs_accel_restr, hs_half_x)"
   ]
  },
  {
   "cell_type": "code",
   "execution_count": null,
   "id": "3b325e71",
   "metadata": {
    "scrolled": false
   },
   "outputs": [],
   "source": [
    "_res"
   ]
  },
  {
   "cell_type": "code",
   "execution_count": null,
   "id": "56a478df",
   "metadata": {},
   "outputs": [],
   "source": [
    "plt.figure(figsize=[14,10])\n",
    "labels= ['stance anckle', 'stance knee', 'stance hip', 'swing hip', 'swing knee']\n",
    "for ii in range(5):\n",
    "    plt.plot(_res['t'],_res['q'][:,ii], marker = 'o', label = labels[ii])\n",
    "#    plt.plot(_res['t_c'],_res['q_c'][:,ii], 'o', label = labels[ii] + ' u_c')\n",
    "plt.grid()\n",
    "plt.legend()"
   ]
  },
  {
   "cell_type": "markdown",
   "id": "eab55d97",
   "metadata": {},
   "source": [
    "plt.figure(figsize=[14,10])\n",
    "labels= ['stance tibia', 'stance femur', 'torso', 'swing femur', 'swing tibia']\n",
    "for ii in range(5):\n",
    "    plt.plot(T_sol_arr, X_sol[:,ii], marker = 'o', label = labels[ii])\n",
    "    plt.plot(T_c_arr,X_c_sol[:,ii], 'o', label = labels[ii] + ' x_c')\n",
    "plt.grid()\n",
    "plt.legend()"
   ]
  },
  {
   "cell_type": "code",
   "execution_count": null,
   "id": "8b133395",
   "metadata": {},
   "outputs": [],
   "source": [
    "def chain_to_draw(x,params):\n",
    "    [\n",
    "    I_0_n, I_1_n, I_2_n, I_3_n, I_4_n,\n",
    "    d_0_n, d_1_n, d_2_n, d_3_n, d_4_n,\n",
    "    g_n,\n",
    "    l_0_n, l_1_n, l_3_n,\n",
    "    m_0_n, m_1_n, m_2_n, m_3_n, m_4_n\n",
    "    ] = params\n",
    "    points_x = [0, ]\n",
    "    points_y = [0, ]\n",
    "    points_x.append(points_x[-1] - l_0_n*np.sin(x[0]))\n",
    "    points_x.append(points_x[-1] - l_1_n*np.sin(x[1]))\n",
    "    points_x.append(points_x[-1] - l_2_n*np.sin(x[2]))\n",
    "    points_x.append(points_x[-2])\n",
    "    points_x.append(points_x[-1] + l_3_n*np.sin(x[3]))\n",
    "    points_x.append(points_x[-1] + l_4_n*np.sin(x[4]))\n",
    "    \n",
    "    \n",
    "    points_y.append(points_y[-1] + l_0_n*np.cos(x[0]))\n",
    "    points_y.append(points_y[-1] + l_1_n*np.cos(x[1]))\n",
    "    points_y.append(points_y[-1] + l_2_n*np.cos(x[2]))\n",
    "    points_y.append(points_y[-2])\n",
    "    points_y.append(points_y[-1] - l_3_n*np.cos(x[3]))\n",
    "    points_y.append(points_y[-1] - l_4_n*np.cos(x[4]))\n",
    "    \n",
    "    return points_x, points_y"
   ]
  },
  {
   "cell_type": "code",
   "execution_count": null,
   "id": "ce54d361",
   "metadata": {
    "scrolled": false
   },
   "outputs": [],
   "source": [
    "plt.figure(figsize=[15,15])\n",
    "plt.grid()\n",
    "for ii in range(0, 1, 1):\n",
    "    points_x, points_y = chain_to_draw(_res['x'][ii], params)\n",
    "    plt.plot(points_x, points_y, marker = 'o', lw=4, ms=12, color = plt.cm.viridis(ii/1))\n",
    "    \n",
    "\n",
    "plt.gca().set_aspect('equal')"
   ]
  },
  {
   "cell_type": "code",
   "execution_count": null,
   "id": "990872d5",
   "metadata": {},
   "outputs": [],
   "source": []
  },
  {
   "cell_type": "markdown",
   "id": "bbdf47ce",
   "metadata": {},
   "source": [
    "total_mass = m_0_n + m_1_n + m_2_n + m_3_n + m_4_n\n",
    "ang_mom_arr = [ang_mom_p0_np(X_sol[ii,:],params) for ii in range(N+1)]\n",
    "ang_mom_swing_foot_arr = [ang_mom_p5_np(X_sol[ii,:],params, additional_params) for ii in range(N+1)]\n",
    "ang_mom_swing_foot_static_arr = [ang_mom_p5_static_np(X_sol[ii,:],params, additional_params) for ii in range(N+1)]\n",
    "cm_torque_arr = [total_mass * -g_n * sys_cm_np(X_sol[ii,:], params)[0] for ii in range(N+1)]\n",
    "ang_mom_arr_deriv = np.gradient(ang_mom_arr, T_sol_arr)"
   ]
  },
  {
   "cell_type": "markdown",
   "id": "7cda7bb6",
   "metadata": {},
   "source": [
    "plt.figure(figsize=[15,10])\n",
    "\n",
    "plt.plot(T_sol_arr, ang_mom_arr, label = 'angular moment around stance foot')\n",
    "plt.plot(T_sol_arr, ang_mom_swing_foot_arr, label = 'angular moment around swing foot')\n",
    "plt.plot(T_sol_arr, ang_mom_swing_foot_static_arr, label = 'angular moment around static point at swing foot')\n",
    "plt.plot(T_sol_arr, cm_torque_arr)\n",
    "plt.plot(T_sol_arr, ang_mom_arr_deriv)\n",
    "plt.grid()\n",
    "plt.legend()"
   ]
  },
  {
   "cell_type": "markdown",
   "id": "aea36240",
   "metadata": {},
   "source": [
    "system_energy_arr = [system_energy_np(X_sol[ii,:],params) for ii in range(N+1)]\n",
    "system_energy_arr_deriv = np.gradient(system_energy_arr, T_sol_arr)\n",
    "joint_angles = -X_sol[:,:4]+X_sol[:,1:5]\n",
    "joint_speeds = -X_sol[:,5:9]+X_sol[:,6:10]\n",
    "external_power = np.sum(joint_speeds*U_sol[:,1:], axis=1)"
   ]
  },
  {
   "cell_type": "markdown",
   "id": "c097a67e",
   "metadata": {},
   "source": [
    "plt.figure(figsize=[15,10])\n",
    "\n",
    "plt.plot(T_sol_arr, system_energy_arr)\n",
    "plt.plot(T_sol_arr, system_energy_arr_deriv)\n",
    "plt.plot(T_sol_arr, external_power)\n",
    "plt.grid()"
   ]
  },
  {
   "cell_type": "markdown",
   "id": "3b57dc22",
   "metadata": {},
   "source": [
    "x_guess = X_sol.copy()\n",
    "x_guess[:,:5] = q_guess\n",
    "x_guess[:,5:] = q_dot_guess"
   ]
  },
  {
   "cell_type": "markdown",
   "id": "9f3c4949",
   "metadata": {
    "scrolled": false
   },
   "source": [
    "plt.figure(figsize=[15,15])\n",
    "plt.grid()\n",
    "for ii in range(N+1):\n",
    "    points_x, points_y = chain_to_draw(x_guess[ii], params)\n",
    "    plt.plot(points_x, points_y, color = plt.cm.viridis(ii/26))\n",
    "    \n",
    "\n",
    "plt.gca().set_aspect('equal')"
   ]
  },
  {
   "cell_type": "code",
   "execution_count": null,
   "id": "2c13008e",
   "metadata": {},
   "outputs": [],
   "source": [
    "from optibot.schemes import interpolated_array, interpolated_array_derivative\n",
    "from optibot.analysis import dynamic_error_implicit"
   ]
  },
  {
   "cell_type": "markdown",
   "id": "d5fd439e",
   "metadata": {
    "scrolled": false
   },
   "source": [
    "n_graph = 1000\n",
    "t_arr = np.linspace(0,2,n_graph)\n",
    "dyn_err_q_hs_lin, dyn_err_v_hs_lin, dyn_err_2_a_hs_lin, dyn_err_2_b_hs_lin = dynamic_error_implicit(\n",
    "    x_arr=X_sol,\n",
    "    u_arr=U_sol,\n",
    "    t_end=T_sol,\n",
    "    params = params,\n",
    "    F = F_impl_np,\n",
    "    M = mass_matrix_np,\n",
    "    lambda_arr = None,\n",
    "    scheme = 'hs_parab', \n",
    "    u_scheme='parab',\n",
    "    scheme_params={'u_c':U_c_sol,\n",
    "                  'x_dot_c': X_dot_c_sol,\n",
    "                  'x_c': X_c_sol},\n",
    "    n_interp= n_graph)\n",
    "\n",
    "\n",
    "for ii in range(5):\n",
    "    plt.figure(figsize=[14,8])\n",
    "    plt.plot(t_arr,-dyn_err_q_hs_lin[:,ii], '-', label = f'q {ii}')\n",
    "    plt.plot(np.linspace(0,2,26), np.zeros(26), 'ok')\n",
    "    plt.legend()\n",
    "    plt.grid()\n"
   ]
  },
  {
   "cell_type": "markdown",
   "id": "ac83f720",
   "metadata": {
    "scrolled": false
   },
   "source": [
    "for ii in range(5):\n",
    "    plt.figure(figsize=[14,8])\n",
    "    plt.plot(t_arr,dyn_err_v_hs_lin[:,ii], '-', label = f'q {ii}')\n",
    "    plt.plot(np.linspace(0,2,26), np.zeros(26), 'ok')\n",
    "    plt.legend()\n",
    "    plt.grid()\n",
    "    plt.figure(figsize=[14,8])\n"
   ]
  },
  {
   "cell_type": "markdown",
   "id": "8d280956",
   "metadata": {
    "scrolled": false
   },
   "source": [
    "for ii in range(5):\n",
    "    plt.figure(figsize=[14,8])\n",
    "    plt.plot(t_arr,dyn_err_2_b_hs_lin[:,ii], '-', label = f'q {ii}')\n",
    "    plt.plot(np.linspace(0,2,26), np.zeros(26), 'ok')\n",
    "    plt.legend()\n",
    "    plt.grid()\n",
    "    plt.figure(figsize=[14,8])\n"
   ]
  },
  {
   "cell_type": "markdown",
   "id": "13728f2a",
   "metadata": {},
   "source": [
    "## Sistematic comparative"
   ]
  },
  {
   "cell_type": "code",
   "execution_count": null,
   "id": "665d6f96",
   "metadata": {},
   "outputs": [],
   "source": [
    "from functools import lru_cache"
   ]
  },
  {
   "cell_type": "code",
   "execution_count": null,
   "id": "422b213d",
   "metadata": {},
   "outputs": [],
   "source": [
    "schemes = ['LG','LG2']#'D2', 'LGL', \n",
    "initials = ['lin']#, 'funcs']\n",
    "solve_repetitions = 1\n",
    "N_arr = [3,4,5,6,7,8,9,10,11,12,13,14,15,16,17,18,19,20]#,21,22,23,24,25,30,35,40,45]#,50,55]#\n",
    "\n",
    "results = {}\n",
    "\n",
    "for scheme in schemes:\n",
    "    key = scheme\n",
    "    print('Problem:', key)\n",
    "    results[key] = {'N_arr':N_arr}\n",
    "    for N in N_arr:\n",
    "        print(f'\\tN = {N} , ', time.strftime('%H:%M:%S ', time.localtime(time.time())))\n",
    "        results[key][N] = five_link(\n",
    "            N = N,\n",
    "            scheme = scheme,\n",
    "            solve_repetitions = solve_repetitions,\n",
    "            t_end = 0.7,\n",
    "            step_length = 0.5)"
   ]
  },
  {
   "cell_type": "code",
   "execution_count": null,
   "id": "4d8d44d9",
   "metadata": {},
   "outputs": [],
   "source": [
    "for scheme in schemes:\n",
    "    key = scheme\n",
    "    _c = []\n",
    "    _cpudt = []\n",
    "    for N in results[key]['N_arr']:\n",
    "        _c.append(results[key][N]['cost'])\n",
    "        _cpudt.append(results[key][N]['cpudt'])\n",
    "    results[key]['cost'] = np.array(_c)\n",
    "    results[key]['cpudt'] = np.array(_cpudt)"
   ]
  },
  {
   "cell_type": "code",
   "execution_count": null,
   "id": "1c47fcc1",
   "metadata": {},
   "outputs": [],
   "source": [
    "import matplotlib\n",
    "matplotlib.rcParams['pdf.fonttype'] = 42\n",
    "matplotlib.rcParams['ps.fonttype'] = 42\n",
    "plt.rcParams.update({'font.size': 15})\n",
    "oct_fig_size = [10,6]"
   ]
  },
  {
   "cell_type": "code",
   "execution_count": null,
   "id": "3f4c0c81",
   "metadata": {},
   "outputs": [],
   "source": [
    "plt.figure(figsize=oct_fig_size)\n",
    "for scheme in schemes:\n",
    "    key = scheme\n",
    "    plt.plot(results[key]['N_arr'], results[key]['cost'][:], marker = 'o', label = scheme)\n",
    "plt.yscale('log')\n",
    "plt.grid()\n",
    "plt.legend()"
   ]
  },
  {
   "cell_type": "code",
   "execution_count": null,
   "id": "37bf9bf1",
   "metadata": {},
   "outputs": [],
   "source": [
    "#titles = ['LG','LG2']#'D2', 'LGL', \n",
    "plt.figure(figsize=oct_fig_size)\n",
    "for ii in range(len(schemes)):\n",
    "    key = schemes[ii]\n",
    "    plt.plot(results[key]['N_arr'], results[key][f'cpudt'], marker = 'o', c = f'C{ii}',label = schemes[ii])\n",
    "plt.grid()\n",
    "plt.legend()\n",
    "#plt.yscale('log')\n",
    "plt.title('Biped optimization time')\n",
    "plt.xlabel('Number of collocation points')\n",
    "plt.ylabel('Time (s)')\n",
    "plt.tight_layout(pad = 0.0)\n",
    "#plt.savefig(r'LG2pics/Biped_optimization_time_vs_interval_number.pdf', format='pdf')"
   ]
  },
  {
   "cell_type": "code",
   "execution_count": null,
   "id": "e4039300",
   "metadata": {},
   "outputs": [],
   "source": [
    "from optibot.pseudospectral import bary_poly, base_points, coll_points\n",
    "def plot_u(uu, scheme, tf, color = 'k', t0 = 0, N_interp = 300):\n",
    "    N = len(uu)\n",
    "    tau = coll_points(N, scheme, 30)\n",
    "    b_pol = bary_poly(tau, uu)\n",
    "    coll_p_t = t0 + (1 + np.array(tau))*(tf - t0)/2\n",
    "    tau_int_arr = np.linspace(-1, 1, N_interp)\n",
    "    t_int_arr = np.linspace(t0, tf, N_interp)\n",
    "    \n",
    "    plt.plot(coll_p_t, uu, color+'o', label = 'control '+scheme)\n",
    "    \n",
    "    plt.plot(t_int_arr, b_pol(tau_int_arr), color)\n",
    "    \n",
    "def plot_x(qq, scheme, tf, color = 'k', t0 = 0, N_interp = 300, label = 'q'):\n",
    "    N = len(qq)\n",
    "    #tau = get_taus(N, scheme)\n",
    "    tau = base_points(N, scheme, 30)\n",
    "    b_pol = bary_poly(tau, qq)\n",
    "    coll_p_t = t0 + (1 + np.array(tau))*(tf - t0)/2\n",
    "    tau_int_arr = np.linspace(-1, 1, N_interp)\n",
    "    t_int_arr = np.linspace(t0, tf, N_interp)\n",
    "    \n",
    "    plt.plot(coll_p_t, qq, color+'o', label = label + ' ' +scheme)\n",
    "    \n",
    "    plt.plot(t_int_arr, b_pol(tau_int_arr), color)"
   ]
  },
  {
   "cell_type": "code",
   "execution_count": null,
   "id": "d53dca31",
   "metadata": {
    "scrolled": false
   },
   "outputs": [],
   "source": [
    "for ii in range(5):\n",
    "\n",
    "    N = 11\n",
    "    plt.figure(figsize=[16,10])\n",
    "    for jj in range(len(schemes)):\n",
    "        scheme = schemes[jj]\n",
    "        key = scheme\n",
    "        plot_x(results[key][N]['q'][:,ii], scheme, 0.7, color = f'C{jj}', t0 = 0, N_interp = 300)\n",
    "    plt.plot(_res['t'],_res['x'][:,ii], 'k:', label = 'HS reference')\n",
    "        \n",
    "    plt.grid()\n",
    "    plt.legend()"
   ]
  },
  {
   "cell_type": "code",
   "execution_count": null,
   "id": "c35bd14b",
   "metadata": {
    "scrolled": false
   },
   "outputs": [],
   "source": [
    "for ii in range(5):\n",
    "\n",
    "    N = 11\n",
    "    plt.figure(figsize=[16,10])\n",
    "    for jj in range(len(schemes)):\n",
    "        scheme = schemes[jj]\n",
    "        key = scheme\n",
    "        plot_u(results[key][N]['u'][:,ii], scheme, 0.7, color = f'C{jj}', t0 = 0, N_interp = 300)\n",
    "    plt.plot(_res['t'],_res['u'][:,ii], 'k:', label = 'HS reference')\n",
    "        \n",
    "    plt.grid()\n",
    "    plt.legend()"
   ]
  },
  {
   "cell_type": "markdown",
   "id": "3ebe4df9",
   "metadata": {
    "scrolled": false
   },
   "source": [
    "plt.figure(figsize=[15,15])\n",
    "plt.grid()\n",
    "N = 20\n",
    "for ii in  range(0, N+1, 2):\n",
    "    points_x, points_y = chain_to_draw(results['LG'][N]['q'][ii], params)\n",
    "    plt.plot(points_x, points_y, marker = 'o', color = plt.cm.viridis(ii/N))\n",
    "    \n",
    "\n",
    "plt.gca().set_aspect('equal')"
   ]
  },
  {
   "cell_type": "code",
   "execution_count": null,
   "id": "7bd9b3fb",
   "metadata": {},
   "outputs": [],
   "source": [
    "from optibot.analysis import generate_G"
   ]
  },
  {
   "cell_type": "markdown",
   "id": "d69fc81d",
   "metadata": {},
   "source": [
    "def generate_G(M, F):\n",
    "    \"\"\"\n",
    "    Generate a function G from M and F, so that from \n",
    "\n",
    "            | q''  |   |                | -1   |                 |\n",
    "            |      | = |  M(x, params)  |    @ | F(x, u, params) |\n",
    "            |lambda|   |                |      |                 |,\n",
    "    \n",
    "    we can get a function G so that:\n",
    "        \n",
    "         q'' = G(x, u) = (M(x)^-1 @  F(x, u)) [upperside]\n",
    "            \n",
    "    Parameters\n",
    "    ----------\n",
    "    M : Function of (x, params)\n",
    "        Returns a Numerical Matrix.\n",
    "    F : Function of (x, u, params)\n",
    "        Returns a Numerical Vector.\n",
    "\n",
    "    Returns\n",
    "    -------\n",
    "    G : Function of (x, u, params)\n",
    "        Equal to q'' where the collocation constraint is enforced.\n",
    "\n",
    "    \"\"\"\n",
    "\n",
    "    def G(x, u, params):\n",
    "        dim = x.shape[-1] // 2\n",
    "        mm = M(x, params)\n",
    "        ff = F(x, u, params)\n",
    "        res = np.linalg.solve(mm,ff)\n",
    "        return res[:dim]\n",
    "    return G"
   ]
  },
  {
   "cell_type": "code",
   "execution_count": null,
   "id": "9bf47a66",
   "metadata": {},
   "outputs": [],
   "source": [
    "G_nump = generate_G(F_impl = F_impl_np,\n",
    "           M = mass_matrix_np,)"
   ]
  },
  {
   "cell_type": "code",
   "execution_count": null,
   "id": "77208730",
   "metadata": {},
   "outputs": [],
   "source": [
    "def G_nump_q(q,v,u,params):\n",
    "    q = np.array(q)\n",
    "    v = np.array(v)\n",
    "    x = np.concatenate((q,v), axis = -1)\n",
    "    return G_nump(x,u,params)"
   ]
  },
  {
   "cell_type": "code",
   "execution_count": null,
   "id": "8b958fad",
   "metadata": {},
   "outputs": [],
   "source": [
    "from optibot.pseudospectral import dynamic_error_pseudospectral, try_array_f,interpolations_pseudospectral"
   ]
  },
  {
   "cell_type": "code",
   "execution_count": null,
   "id": "49c738c2",
   "metadata": {},
   "outputs": [],
   "source": [
    "_interpolations = interpolations_pseudospectral"
   ]
  },
  {
   "cell_type": "markdown",
   "id": "083da5a1",
   "metadata": {},
   "source": [
    "from numpy import array, piecewise, linspace, expand_dims\n",
    "from optibot.pseudospectral import extend_u_array, get_hermite_x, get_pol_u, get_pol_x\n",
    "from optibot.pseudospectral import extend_x_arrays\n",
    "from optibot.schemes import interp_2d\n",
    "def _interpolations(\n",
    "    qq,\n",
    "    vv,\n",
    "    uu,\n",
    "    scheme,\n",
    "    t0,\n",
    "    t1,\n",
    "    u_interp=\"pol\",\n",
    "    x_interp=\"pol\",\n",
    "    g_func=lambda q, v, u, p: u,\n",
    "    params=[],\n",
    "    n_interp=5000,\n",
    "):\n",
    "    \"\"\"\n",
    "    Generates arrays of equispaced points with values of dynamic error.\n",
    "    \n",
    "    If x(t) = [q(t), v(t)], and the physics equation states that x' = F(x, u),\n",
    "    which is equivalent to [q', v'] = [v , G(q, v, u)] we can define the \n",
    "    dynamic errors at a point t as:\n",
    "        dyn_q_err = q'(t) - v(t)\n",
    "        dyn_v_err = v'(t) - G(q(t), v(t), u(t))\n",
    "        dyn_2_err = q''(t) - G(q(t), v(t), u(t))\n",
    "        \n",
    "    'x_interp' and 'u_interp' define the way in which we interpolate the values\n",
    "    of q, v and u between the given points.\n",
    "\n",
    "    Parameters\n",
    "    ----------\n",
    "    qq : Numpy Array, shape = (W, N)\n",
    "        Values known of q(t)\n",
    "    vv : Numpy Array, shape = (W, N)\n",
    "        Values known of v(t)\n",
    "    uu : Numpy Array, shape = (Y, [Z])\n",
    "        Values known of x(t)\n",
    "    scheme : str\n",
    "        Pseudospectral cheme used in the optimization.\n",
    "        Acceptable values are:\n",
    "            'LG'\n",
    "            'LG_inv'\n",
    "            'LGR'\n",
    "            'LGR_inv'\n",
    "            'LGL'\n",
    "            'LGLm'\n",
    "            'LG2'\n",
    "            'D2'\n",
    "    t0 : float\n",
    "        starting time of interval of analysis\n",
    "    t1 : float\n",
    "        ending time of interval of analysis\n",
    "    u_interp :  string, optional\n",
    "        Model of the interpolation that must be used. The default is \"pol\".\n",
    "        Acceptable values are:\n",
    "            \"pol\": corresponding polynomial interpolation\n",
    "            \"lin\": lineal interpolation\n",
    "            \"smooth\": 3d order spline interpolation\n",
    "    x_interp : string, optional\n",
    "        Model of the interpolation that must be used. The default is \"pol\".\n",
    "        Acceptable values are:\n",
    "            \"pol\": corresponding polynomial interpolation\n",
    "            \"lin\": lineal interpolation\n",
    "            \"Hermite\": Hermite's 3d order spline interpolation\n",
    "    g_func : Function of (q, v, u, params)\n",
    "        A function of a dynamic sistem, so that\n",
    "            q'' = g(q, q', u, params)\n",
    "    params : list\n",
    "        Physical problem parameters to be passed to F\n",
    "    n_interp : int, default 5000\n",
    "        number of interpolation points\n",
    "\n",
    "    Raises\n",
    "    ------\n",
    "    NameError\n",
    "        When an unsupported value for scheme, x_interp or u_interp is used.\n",
    "\n",
    "    Returns\n",
    "    -------\n",
    "    err_q : Numpy array, shape = (n_interp, N)\n",
    "        equispaced values of dynamic error q'(t) - v(t).\n",
    "    err_v : Numpy array, shape = (n_interp, N)\n",
    "        equispaced values of dynamic error v'(t) - G(q(t), v(t), u(t)).\n",
    "    err_2 : Numpy array, shape = (n_interp, N)\n",
    "        equispaced values of dynamic error q''(t) - G(q(t), q'(t), u(t)).\n",
    "\n",
    "    \"\"\"\n",
    "    from scipy.interpolate import CubicHermiteSpline as hermite\n",
    "    from numpy import interp, gradient, zeros_like\n",
    "\n",
    "    scheme_opts = [\"LG\", \"LG_inv\", \"LGR\", \"LGR_inv\", \"LGL\", \"D2\", \"LG2\", \"LGLm\"]\n",
    "    if scheme not in scheme_opts:\n",
    "        NameError(f\"Invalid scheme.\\n valid options are {scheme_opts}\")\n",
    "\n",
    "    N = len(qq)\n",
    "    tau_arr = linspace(-1, 1, n_interp)\n",
    "\n",
    "    g_func = try_array_f(g_func)\n",
    "\n",
    "    if u_interp == \"pol\":\n",
    "        pol_u = get_pol_u(scheme, uu)\n",
    "        u_arr = pol_u(tau_arr)\n",
    "    elif u_interp == \"lin\":\n",
    "        tau_u, uu = extend_u_array(uu, scheme, N)\n",
    "        if len(uu.shape) == 1:\n",
    "            u_arr = interp(tau_arr, tau_u, uu)\n",
    "        elif len(uu.shape) == 2:\n",
    "            u_arr = interp_2d(tau_arr, tau_u, uu)\n",
    "        else:\n",
    "            raise ValueError(\n",
    "                f\"U has {len(uu.shape)} dimensions, values accepted are 1 and 2\"\n",
    "            )\n",
    "    elif u_interp == \"smooth\":\n",
    "        tau_u, uu = extend_u_array(uu, scheme, N)\n",
    "        uu_dot = gradient(uu, tau_u)\n",
    "        u_arr = hermite(tau_u, uu, uu_dot)(tau_arr)\n",
    "    else:\n",
    "        raise NameError(\n",
    "            'Invalid interpolation method for u.\\n valid options are \"pol\", \"lin\", \"smooth\"'\n",
    "        )\n",
    "\n",
    "    if x_interp == \"pol\":\n",
    "        tau_x = base_points(N, scheme)\n",
    "        pol_q, pol_v, pol_q_d, pol_v_d, pol_q_d_d = get_pol_x(scheme, qq, vv, t0, t1)\n",
    "        q_arr = pol_q(tau_arr)\n",
    "        v_arr = pol_v(tau_arr)\n",
    "        q_arr_d = pol_q_d(tau_arr)\n",
    "        v_arr_d = pol_v_d(tau_arr)\n",
    "        q_arr_d_d = pol_q_d_d(tau_arr)\n",
    "    elif x_interp == \"lin\":\n",
    "        tau_x, qq, vv = extend_x_arrays(qq, vv, scheme)\n",
    "        if len(qq.shape) == 1:\n",
    "            q_arr = interp(tau_arr, tau_x, qq)\n",
    "            v_arr = interp(tau_arr, tau_x, vv)\n",
    "        elif len(qq.shape) == 2:\n",
    "            q_arr = interp_2d(tau_arr, tau_x, qq)\n",
    "            v_arr = interp_2d(tau_arr, tau_x, vv)\n",
    "        else:\n",
    "            raise ValueError(\n",
    "                f\"q has {len(qq.shape)} dimensions, values accepted are 1 and 2\"\n",
    "            )\n",
    "        \n",
    "        coll_p = t0 + (1 + array(tau_x, dtype=\"float64\")) * (t1 - t0) / 2\n",
    "        t_arr_lin = linspace(t0, t1, n_interp)\n",
    "        q_arr_d = find_der_polyline(t_arr_lin, coll_p, qq)\n",
    "        v_arr_d = find_der_polyline(t_arr_lin, coll_p, vv)\n",
    "        q_arr_d_d = zeros_like(q_arr)\n",
    "    elif x_interp == \"Hermite\":\n",
    "        tau_x, qq, vv = extend_x_arrays(qq, vv, scheme)\n",
    "        aa = g_func(qq, vv, uu, params)\n",
    "        her_q, her_v, her_q_d, her_v_d, her_q_d_d = get_hermite_x(\n",
    "            qq, vv, aa, tau_x, t0, t1\n",
    "        )\n",
    "        t_arr_lin = linspace(t0, t1, n_interp)\n",
    "        q_arr = her_q(t_arr_lin)\n",
    "        v_arr = her_v(t_arr_lin)\n",
    "        q_arr_d = her_q_d(t_arr_lin)\n",
    "        v_arr_d = her_v_d(t_arr_lin)\n",
    "        q_arr_d_d = her_q_d_d(t_arr_lin)\n",
    "    else:\n",
    "        raise NameError(\n",
    "            'Invalid interpolation method for x.\\n valid options are \"pol\", \"lin\", \"Hermite\"'\n",
    "        )\n",
    "    \n",
    "    return q_arr, q_arr_d, v_arr, v_arr_d, q_arr_d_d, u_arr"
   ]
  },
  {
   "cell_type": "code",
   "execution_count": null,
   "id": "9a649479",
   "metadata": {},
   "outputs": [],
   "source": [
    "_q_arr, _q_arr_d, _v_arr, _v_arr_d, _q_arr_d_d, _u_arr = _interpolations(\n",
    "    results[key][N]['q'],\n",
    "    results[key][N]['v'],\n",
    "    results[key][N]['u'],\n",
    "    scheme,\n",
    "    t0 = 0,\n",
    "    t1 = 0.7,\n",
    "    u_interp=\"pol\",\n",
    "    x_interp=\"pol\",\n",
    "    g_func=G_nump_q,\n",
    "    params=params,\n",
    "    n_interp = 1000,\n",
    ")"
   ]
  },
  {
   "cell_type": "code",
   "execution_count": null,
   "id": "ad2b5124",
   "metadata": {
    "scrolled": true
   },
   "outputs": [],
   "source": [
    "for ii in range(5):\n",
    "#ii = 1\n",
    "\n",
    "    plt.figure(figsize=[16,10])\n",
    "    plot_x(results[key][N]['q'][:,ii],scheme, 2, color = 'k', t0 = 0, N_interp = 300)\n",
    "    plt.plot(np.linspace(0, 2, 1000), _q_arr[:,ii], label = 'q_arr')\n",
    "    plt.grid()\n",
    "    plt.legend()\n",
    "\n",
    "for ii in range(5):\n",
    "#ii = 1\n",
    "\n",
    "    plt.figure(figsize=[16,10])\n",
    "    plot_x(results[key][N]['v'][:,ii],scheme, 2, color = 'k', t0 = 0, N_interp = 300)\n",
    "    plt.plot(np.linspace(0, 2, 1000), _v_arr[:,ii], label = 'v_arr')\n",
    "    plt.plot(np.linspace(0, 2, 1000), _q_arr_d[:,ii], label = 'q_d_arr')\n",
    "    plt.grid()\n",
    "    plt.legend()"
   ]
  },
  {
   "cell_type": "code",
   "execution_count": null,
   "id": "0f0f93ff",
   "metadata": {},
   "outputs": [],
   "source": [
    "from optibot.pseudospectral import try_array_f\n",
    "def _g_func(q,v,u,params):\n",
    "    return -LM_small.dynam_g_q(q,v,0,u,[],params)\n",
    "_g_func = try_array_f(_g_func)"
   ]
  },
  {
   "cell_type": "code",
   "execution_count": null,
   "id": "4e2b0fae",
   "metadata": {},
   "outputs": [],
   "source": [
    "_g_func = try_array_f(G_nump_q)"
   ]
  },
  {
   "cell_type": "code",
   "execution_count": null,
   "id": "671a2cb1",
   "metadata": {
    "scrolled": true
   },
   "outputs": [],
   "source": [
    "for ii in range(5):\n",
    "\n",
    "    plt.figure(figsize=[16,10])\n",
    "    plt.plot(np.linspace(0, 2, 1000), _g_func(_q_arr, _v_arr, _u_arr, params)[:,ii], label = 'v_arr')\n",
    "    plt.plot(np.linspace(0, 2, 1000), _q_arr_d_d[:,ii], label = 'q_d_d_arr')\n",
    "    plt.grid()\n",
    "    plt.legend()"
   ]
  },
  {
   "cell_type": "code",
   "execution_count": null,
   "id": "aa76a853",
   "metadata": {},
   "outputs": [],
   "source": []
  },
  {
   "cell_type": "code",
   "execution_count": null,
   "id": "3c84fc3d",
   "metadata": {},
   "outputs": [],
   "source": [
    "G_nump_q"
   ]
  },
  {
   "cell_type": "code",
   "execution_count": null,
   "id": "4c5c1a46",
   "metadata": {},
   "outputs": [],
   "source": [
    "_d_e = dynamic_error_pseudospectral(\n",
    "    results[key][N]['q'],\n",
    "    results[key][N]['v'],\n",
    "    results[key][N]['u'],\n",
    "    scheme,\n",
    "    t0 = 0,\n",
    "    t1 = 0.7,\n",
    "    u_interp=\"pol\",\n",
    "    x_interp=\"pol\",\n",
    "    g_func=G_nump_q,\n",
    "    params=params,\n",
    "    n_interp = 1000,\n",
    ")"
   ]
  },
  {
   "cell_type": "code",
   "execution_count": null,
   "id": "0d9d9d79",
   "metadata": {},
   "outputs": [],
   "source": [
    "for ii in range(3):\n",
    "    plt.figure(figsize=[14,10])\n",
    "    plt.plot(np.linspace(-1, 1, 1000), _d_e[ii])\n",
    "    plt.grid()\n",
    "    plt.plot(coll_points(N, scheme), np.zeros_like(coll_points(N, scheme)), 'ok')"
   ]
  },
  {
   "cell_type": "markdown",
   "id": "36acc23a",
   "metadata": {},
   "source": [
    "## Trapz abs err + integr"
   ]
  },
  {
   "cell_type": "code",
   "execution_count": null,
   "id": "28217221",
   "metadata": {
    "scrolled": false
   },
   "outputs": [],
   "source": [
    "N= 10\n",
    "n_interp = 1000\n",
    "_d_e = dynamic_error_pseudospectral(\n",
    "    results['LG'][N]['q'],\n",
    "    results['LG'][N]['v'],\n",
    "    results['LG'][N]['u'],\n",
    "    'LG',\n",
    "    t0 = 0,\n",
    "    t1 = 0.7,\n",
    "    u_interp=\"pol\",\n",
    "    x_interp=\"pol\",\n",
    "    g_func=G_nump_q,\n",
    "    params=params,\n",
    "    n_interp = n_interp,\n",
    ")\n",
    "_d_e_2 = dynamic_error_pseudospectral(\n",
    "    results['LG2'][N]['q'],\n",
    "    results['LG2'][N]['v'],\n",
    "    results['LG2'][N]['u'],\n",
    "    'LG2',\n",
    "    t0 = 0,\n",
    "    t1 = 0.7,\n",
    "    u_interp=\"pol\",\n",
    "    x_interp=\"pol\",\n",
    "    g_func=G_nump_q,\n",
    "    params=params,\n",
    "    n_interp = n_interp,\n",
    ")\n",
    "\n",
    "\n",
    "titles = [\n",
    "    r'First order dynamic error $\\varepsilon^{[1]}$,'+f' N = {N}',\n",
    "    r'$\\dot{v} - g(q, v, u),$'+f' N = {N}',\n",
    "    r'Second order dynamic error $\\varepsilon^{[2]}$,'+f' N = {N}'\n",
    "]\n",
    "filenames = [\n",
    "    f'first_order_dynamic_error_N_{N}',\n",
    "    f'v_dot_g_diff_N_{N}',\n",
    "    f'second_order_dynamic_error_N_{N}'\n",
    "]\n",
    "units = ['rad/s', 'rad/s^2', 'rad/s^2']\n",
    "\n",
    "\n",
    "for ii in range(3):\n",
    "    plt.figure(figsize=oct_fig_size)\n",
    "    plt.plot(np.linspace(-1, 1, n_interp), np.sum(np.abs(_d_e[ii]), axis=1), c='C0', label = 'LG')\n",
    "    plt.plot(np.linspace(-1, 1, n_interp), np.sum(np.abs(_d_e_2[ii]), axis=1),c = 'C1', label = 'LG2')\n",
    "    plt.grid()\n",
    "    plt.plot(\n",
    "        coll_points(N, scheme),\n",
    "        np.zeros_like(coll_points(N, scheme)),\n",
    "        'ok')\n",
    "    plt.legend()\n",
    "    plt.title(titles[ii])\n",
    "    plt.xlabel('Time(s)')\n",
    "    plt.ylabel(f'Dynamic error $({units[ii]})$')\n",
    "    plt.tight_layout(pad = 0.0)\n",
    "#    plt.savefig(r'LG2pics/biped_'+filenames[ii]+f'.pdf', format='pdf')"
   ]
  },
  {
   "cell_type": "code",
   "execution_count": null,
   "id": "e7740df2",
   "metadata": {
    "scrolled": false
   },
   "outputs": [],
   "source": [
    "n_interp = 2000\n",
    "for scheme in schemes:\n",
    "    key = scheme \n",
    "    print('scheme: ', scheme)\n",
    "    for N in results[key]['N_arr']:\n",
    "        print(f'\\t N:{N} , ', time.strftime('%H:%M:%S ', time.localtime(time.time())))\n",
    "        _dyn_err = dynamic_error_pseudospectral(\n",
    "            results[key][N]['q'],\n",
    "            results[key][N]['v'],\n",
    "            results[key][N]['u'],\n",
    "            scheme,\n",
    "            t0 = 0,\n",
    "            t1 = 0.7,\n",
    "            u_interp=\"pol\",\n",
    "            x_interp=\"pol\",\n",
    "            g_func=G_nump_q,\n",
    "            params=params,\n",
    "            n_interp = n_interp,\n",
    "        )\n",
    "        results[key][N]['err_q_arr'] = _dyn_err[0]\n",
    "        results[key][N]['err_v_arr'] = _dyn_err[1]\n",
    "        results[key][N]['err_2_arr'] = _dyn_err[2]"
   ]
  },
  {
   "cell_type": "code",
   "execution_count": null,
   "id": "f582a549",
   "metadata": {},
   "outputs": [],
   "source": [
    "for scheme in schemes:\n",
    "    key = scheme\n",
    "    print('scheme: ', scheme)\n",
    "    _lis = []\n",
    "    for N in results[key]['N_arr']:\n",
    "        #print('\\t N:', N)\n",
    "        integ_err = np.trapz(np.abs(results[key][N]['err_2_arr']), np.linspace(0,2,n_interp), axis = 0)\n",
    "        results[key][N]['err_2_abs_integ'] = integ_err\n",
    "        _lis.append(integ_err)\n",
    "    results[key]['err_2_abs_integ_vect'] = np.array(_lis)\n",
    "    results[key]['err_2_abs_integ'] = np.sum(np.array(_lis), axis = 1)"
   ]
  },
  {
   "cell_type": "code",
   "execution_count": null,
   "id": "3acebe4b",
   "metadata": {
    "scrolled": false
   },
   "outputs": [],
   "source": [
    "for ii in range(5):\n",
    "    plt.figure(figsize=[16,10])\n",
    "    for scheme in schemes:\n",
    "        key = scheme\n",
    "        plt.plot(results[key]['N_arr'], results[key]['err_2_abs_integ_vect'][:,ii], marker = 'o', label = scheme)\n",
    "    plt.yscale('log')\n",
    "    plt.grid()\n",
    "    plt.legend()"
   ]
  },
  {
   "cell_type": "code",
   "execution_count": null,
   "id": "6763ff48",
   "metadata": {},
   "outputs": [],
   "source": [
    "plt.figure(figsize=oct_fig_size)\n",
    "for scheme in schemes:\n",
    "    key = scheme\n",
    "    plt.plot(results[key]['N_arr'], results[key]['err_2_abs_integ'], marker = 'o', label = scheme)\n",
    "plt.yscale('log')\n",
    "plt.grid()\n",
    "plt.legend()\n",
    "plt.title('Biped second order dynamic error $E^{[2]}$')\n",
    "plt.xlabel('Number of collocation points')\n",
    "plt.ylabel(f'Dynamic error ($rad/s$)')\n",
    "plt.tight_layout(pad = 0.0)\n",
    "#plt.savefig(r'LG2pics/biped_second_order_dynamic_error_vs_interval_number.pdf', format='pdf')"
   ]
  },
  {
   "cell_type": "markdown",
   "id": "fb4e2781",
   "metadata": {},
   "source": [
    "from optibot.schemes import _newpoint, _calculate_missing_arrays, interp_2d, _newpoint_der\n",
    "from numpy import interp\n",
    "def dynamic_error_point(\n",
    "    x_arr,\n",
    "    u_arr,\n",
    "    t_arr,\n",
    "    t,\n",
    "    params,\n",
    "    F,\n",
    "    x_dot_arr=None,\n",
    "    scheme=\"hs_scipy\",\n",
    "    u_scheme=\"lin\",\n",
    "    scheme_params={},\n",
    "):\n",
    "    \"\"\"\n",
    "    Generate arrays of equispaced points with values of dynamic error.\n",
    "    \n",
    "    If x(t) = [q(t), v(t)], and the physics equation states that x' = F(x, u),\n",
    "    which is equivalent to [q', v'] = [v , G(q, v, u)] we can define the \n",
    "    dynamic errors at a point t as:\n",
    "        dyn_q_err = q'(t) - v(t)\n",
    "        dyn_v_err = v'(t) - G(q(t), v(t), u(t))\n",
    "        dyn_2_err_a = q''(t) - G(q(t), v(t), u(t))\n",
    "        dyn_2_err_b = q''(t) - G(q(t), q'(t), u(t))\n",
    "        \n",
    "    'scheme' and 'u_scheme' define the way in which we interpolate the values\n",
    "    of q, v and u between the given points.\n",
    "        \n",
    "    It is assumed that X and U start at t = 0 and are equispaced in time\n",
    "    in the interval (0, t_end).\n",
    "    \n",
    "\n",
    "    Parameters\n",
    "    ----------\n",
    "    x_arr : Numpy Array, shape = (W, 2N)\n",
    "        Values known of x(t)\n",
    "    u_arr : Numpy Array, shape = (W, [Y])\n",
    "        Values known of u(t)\n",
    "    t_end : float\n",
    "        ending time of interval of analysis\n",
    "    params : list\n",
    "        Physical problem parameters to be passed to F\n",
    "    F : Function of (x, u, params)\n",
    "        A function of a dynamic sistem, so that\n",
    "            x' = F(x, u, params)\n",
    "        if x_dot_arr is None and F is not, F will be used to calculate X'\n",
    "    x_dot_arr : Numpy Array, optional, shape = (W, 2N), default = None\n",
    "        Known values of X'\n",
    "        if x_dot_arr is None, F will be used to calculate X'\n",
    "    scheme : str, optional\n",
    "        Scheme to be used in the X interpolation. The default is \"hs_scipy\".\n",
    "        Acceptable values are:\n",
    "            \"trapz\" : trapezoidal scheme compatible interpolation (not lineal!)\n",
    "            \"trapz_mod\": modified trapezoidal scheme compatible interpolation (not lineal!)\n",
    "            \"hs_scipy\": 3d order polynomial that satisfies continuity in x(t) and x'(t)\n",
    "            \"hs\": Hermite-Simpson scheme compatible interpolation\n",
    "            \"hs_mod\": modified Hermite-Simpson scheme compatible interpolation\n",
    "            \"hs_parab\": Hermite-Simpson scheme compatible interpolation with parabolic U\n",
    "            \"hs_mod_parab\": modified Hermite-Simpson scheme compatible interpolation with parabolic U\n",
    "    u_scheme : string, optional\n",
    "        Model of the interpolation that must be used. The default is \"lin\".\n",
    "        Acceptable values are:\n",
    "            \"lin\": lineal interpolation\n",
    "            \"parab\": parabolic interpolation, requires central points array\n",
    "            as scheme params[0]\n",
    "    scheme_params :dict, optional\n",
    "        Aditional parameters of the scheme. The default is {}.\n",
    "    n_interp : int, optional\n",
    "        Number of interpolation points. The default is 2000.\n",
    "\n",
    "    Returns\n",
    "    -------\n",
    "    dyn_err_q : Numpy array, shape = (n_interp, N)\n",
    "        equispaced values of dynamic error q'(t) - v(t).\n",
    "    dyn_err_v : Numpy array, shape = (n_interp, N)\n",
    "        equispaced values of dynamic error v'(t) - G(q(t), v(t), u(t)).\n",
    "    dyn_err_2_a : Numpy array, shape = (n_interp, N)\n",
    "        equispaced values of dynamic error q''(t) - G(q(t), v(t), u(t)).\n",
    "    dyn_err_2_b : Numpy array, shape = (n_interp, N)\n",
    "        equispaced values of dynamic error q''(t) - G(q(t), q'(t), u(t)).\n",
    "\n",
    "    \"\"\"\n",
    "    if \"parab\" in scheme and u_scheme == \"lin\":\n",
    "        warnings.warn(\n",
    "            \"You are currently using a u-parabolic interpolation for x with a lineal interpolation of u\"\n",
    "        )\n",
    "    if \"parab\" in u_scheme and \"parab\" not in scheme:\n",
    "        warnings.warn(\n",
    "            \"You are currently using a parabolic interpolation for u with a non u-parabolic interpolation of x\"\n",
    "        )\n",
    "    N = x_arr.shape[0] - 1\n",
    "    dim = x_arr.shape[1] // 2\n",
    "    h = (t_arr[-1]-t_arr[0]) / N\n",
    "    \n",
    "    x_dot_arr = _calculate_missing_arrays(\n",
    "        X, U, h, params, F, x_dot_arr, scheme, u_scheme, scheme_params\n",
    "    )\n",
    "    if u_scheme in [\"min_err\", \"pinv_dyn\"]:\n",
    "        scheme_params[\"X\"] = X\n",
    "        scheme_params[\"scheme\"] = scheme\n",
    "        scheme_params[\"params\"] = params\n",
    "        scheme_params[\"x_dot_arr\"] = x_dot_arr\n",
    "        if u_scheme == \"min_err\":\n",
    "            if F is None:\n",
    "                raise ValueError(\n",
    "                    \"F cannot be None when using min_err as u interpolation\"\n",
    "                )\n",
    "            scheme_params[\"F\"] = F\n",
    "            \n",
    "    \n",
    "    if scheme == \"hs_scipy\":\n",
    "        X_interp = hermite(t_array, x_arr, x_dot_arr)\n",
    "        x = X_interp(t)\n",
    "    else:\n",
    "        x = array(\n",
    "                _newpoint(x_arr, x_dot_arr, h, t, params, scheme, scheme_params)\n",
    "            ).flatten()\n",
    "        \n",
    "    if u_scheme == \"lin\":\n",
    "        if len(u_arr.shape) == 1:\n",
    "            u = interp(t, t_array, u_arr)\n",
    "        elif len(u_arr.shape) == 2:\n",
    "            u = interp_2d(t, t_array, u_arr)\n",
    "        else:\n",
    "            raise ValueError(\n",
    "                f\"U has {len(u_arr.shape)} dimensions, values accepted are 1 and 2\"\n",
    "            )\n",
    "    else:\n",
    "        u = array(\n",
    "            _newpoint_u(U, h, t, u_scheme, scheme_params)\n",
    "        ).flatten()\n",
    "        \n",
    "        \n",
    "    if scheme == \"hs_scipy\":\n",
    "        X_interp = hermite(t_array, x_arr, x_dot_arr)\n",
    "        X_dot_interp = X_interp.derivative()\n",
    "        x_d = X_dot_interp(t)\n",
    "        x_d_d = X_dot_interp.derivative()(t)\n",
    "    else:\n",
    "        x_d = array(\n",
    "                _newpoint_der(x_arr, x_dot_arr, h, t, params, scheme, 1, scheme_params)\n",
    "            ).flatten()\n",
    "        x_d_d = array(\n",
    "                _newpoint_der(x_arr, x_dot_arr, h, t, params, scheme, 2, scheme_params)\n",
    "            ).flatten()\n",
    "            \n",
    "    \n",
    "    f_a = F(x, u, params)[dim:]\n",
    "    x_q = x.copy()\n",
    "    x_q[dim:] = x_d[:dim]\n",
    "    f_b = F(x_q, u, params)[dim:]\n",
    "    dyn_err_q = x_d[:dim] - x[dim:]\n",
    "    dyn_err_v = x_d[dim:] - f_a\n",
    "    dyn_err_2_a = x_d_d[:dim] - f_a\n",
    "    dyn_err_2_b = x_d_d[:dim] - f_b\n",
    "    return dyn_err_q, dyn_err_v, dyn_err_2_a, dyn_err_2_b"
   ]
  },
  {
   "cell_type": "code",
   "execution_count": null,
   "id": "6aa5c253",
   "metadata": {},
   "outputs": [],
   "source": []
  },
  {
   "cell_type": "code",
   "execution_count": null,
   "id": "0a5655ab",
   "metadata": {},
   "outputs": [],
   "source": []
  },
  {
   "cell_type": "code",
   "execution_count": null,
   "id": "96962668",
   "metadata": {},
   "outputs": [],
   "source": [
    "schemes = ['hs_parab', 'hs_mod_parab','trapz', 'trapz_mod']#'hs', 'hs_mod', \n",
    "\n",
    "\n",
    "n_graph = 3000\n",
    "t_arr = np.linspace(0,0.7,n_graph)\n",
    "for scheme in schemes:\n",
    "    key = scheme\n",
    "    if 'parab' in scheme:\n",
    "        u_scheme = 'parab'\n",
    "    else:\n",
    "        u_scheme = 'lin'\n",
    "    print('Problem:', key)\n",
    "    N_arr = results[key]['N_arr']\n",
    "    for N in N_arr:\n",
    "        print(f'\\tN = {N}')\n",
    "        dyn_err_q, dyn_err_v, _, dyn_err_2 = dynamic_error_implicit(\n",
    "            x_arr=results[key][N]['x'],\n",
    "            u_arr=results[key][N]['u'],\n",
    "            t_end=results[key][N]['t'],\n",
    "            params = params,\n",
    "            F = F_impl_np,\n",
    "            M = mass_matrix_np,\n",
    "            scheme = scheme, \n",
    "            u_scheme = u_scheme,\n",
    "            scheme_params={'u_c':results[key][N]['u_c'],\n",
    "                          'x_dot_c': results[key][N]['x_dot_c'],\n",
    "                          'x_c': results[key][N]['x_c']},\n",
    "            n_interp= n_graph)\n",
    "        results[key][N]['dyn_err_q'] = dyn_err_q\n",
    "        results[key][N]['dyn_err_v'] = dyn_err_v\n",
    "        results[key][N]['dyn_err_2'] = dyn_err_2"
   ]
  },
  {
   "cell_type": "code",
   "execution_count": null,
   "id": "d0384aee",
   "metadata": {},
   "outputs": [],
   "source": [
    "import matplotlib\n",
    "matplotlib.rcParams['pdf.fonttype'] = 42\n",
    "matplotlib.rcParams['ps.fonttype'] = 42\n",
    "plt.rcParams.update({'font.size': 15})\n",
    "oct_fig_size = [10,6]"
   ]
  },
  {
   "cell_type": "code",
   "execution_count": null,
   "id": "27c6fca7",
   "metadata": {},
   "outputs": [],
   "source": [
    "import matplotlib\n",
    "matplotlib.rcParams['pdf.fonttype'] = 42\n",
    "matplotlib.rcParams['ps.fonttype'] = 42"
   ]
  },
  {
   "cell_type": "markdown",
   "id": "75f69bcf",
   "metadata": {
    "scrolled": false
   },
   "source": [
    "schemes = ['hs_parab','hs_mod_parab', 'trapz', 'trapz_mod']\n",
    "titles = ['Hermite Simpson','2nd order Hermite Simpson', 'Trapezoidal', '2nd order Trapezoidal']\n",
    "colors = ['b', 'orange', 'g', 'r', 'purple']\n",
    "n_int = len(t_arr)\n",
    "N = 25\n",
    "interv_n = (N * t_arr)/results[scheme][N]['t']\n",
    "for kk in range(len(schemes)):\n",
    "    scheme = schemes[kk]\n",
    "    plt.figure(figsize=[14,8])\n",
    "    for ii in range(5):\n",
    "        cut_p = 0\n",
    "        for ll in range(1,N+1):\n",
    "            jj = np.searchsorted(interv_n, ll)\n",
    "            plt.plot(t_arr[cut_p:jj],results[scheme][N]['dyn_err_q'][cut_p:jj,ii], '-', c = colors[ii], label = f'$q_{ii+1}$' if cut_p == 0 else None)\n",
    "            cut_p = jj\n",
    "    plt.plot(np.linspace(0,results[scheme][N]['t'],N+1), np.zeros(N+1), 'ok')\n",
    "    plt.legend()\n",
    "    plt.grid()\n",
    "    if kk == 1:\n",
    "        plt.ylim([-0.00001, 0.00001])\n",
    "    elif kk == 3:\n",
    "        plt.ylim([-0.001, 0.001])\n",
    "    plt.title(r'First order dynamic error $\\varepsilon^{[1]}_{q_i}$,'+f' {titles[kk]} scheme')\n",
    "    plt.xlabel('Time(s)')\n",
    "    plt.ylabel('Dynamic error $(rad/s)$')\n",
    "    plt.tight_layout(pad = 0.0)\n",
    "    sch_type = titles[kk].replace(' ','_')\n",
    "    plt.savefig(f'5_link_First_Order_Dynamic_Error_{sch_type}_scheme.eps', format='eps')\n"
   ]
  },
  {
   "cell_type": "markdown",
   "id": "0e9d594c",
   "metadata": {
    "scrolled": false
   },
   "source": [
    "schemes = ['hs_parab','hs_mod_parab', 'trapz', 'trapz_mod']\n",
    "titles = ['Hermite Simpson','2nd order Hermite Simpson', 'Trapezoidal', '2nd order Trapezoidal']\n",
    "colors = ['b', 'orange', 'g', 'r', 'purple']\n",
    "n_int = len(t_arr)\n",
    "N = 25\n",
    "interv_n = (N * t_arr)/results[scheme][N]['t']\n",
    "for kk in range(len(schemes)):\n",
    "    scheme = schemes[kk]\n",
    "    plt.figure(figsize=[14,8])\n",
    "    for ii in range(5):\n",
    "        cut_p = 0\n",
    "        for ll in range(1,N+1):\n",
    "            jj = np.searchsorted(interv_n, ll)\n",
    "            plt.plot(t_arr[cut_p:jj],results[scheme][N]['dyn_err_2'][cut_p:jj,ii], '-', c = colors[ii], label = f'$q_{ii+1}$' if cut_p == 0 else None)\n",
    "            cut_p = jj\n",
    "    plt.plot(results[scheme][N]['t_array'], np.zeros(N+1), 'ok', label = 'knot & collocation points')\n",
    "    if 'hs' in scheme:\n",
    "        plt.plot(results[scheme][N]['t_c_array'], np.zeros(N), 'ow', markeredgecolor='b', label = 'collocation points')\n",
    "        plt.ylim([-0.08, 0.08])\n",
    "    else:\n",
    "        plt.ylim([-1.75, 1.75])\n",
    "    plt.legend()\n",
    "    plt.grid()\n",
    "    plt.title(r'Second order dynamic error $\\varepsilon^{{[2]}}_{{q_i}}$,'+f' {titles[kk]} scheme')\n",
    "    plt.xlabel('Time(s)')\n",
    "    plt.ylabel('Dynamic error $(rad/s^2)$')\n",
    "    plt.tight_layout(pad = 0.0)\n",
    "    sch_type = titles[kk].replace(' ','_')\n",
    "    plt.savefig(f'5_link_Second_Order_Dynamic_Error_{sch_type}_scheme.eps', format='eps')\n"
   ]
  },
  {
   "cell_type": "code",
   "execution_count": null,
   "id": "a48d8285",
   "metadata": {},
   "outputs": [],
   "source": [
    "def arr_mod(x):\n",
    "    x_1 = np.sum(x*x, axis=1)\n",
    "    return np.sqrt(x_1)\n",
    "def arr_sum(x):\n",
    "    return np.sum(np.abs(x), axis = 1)\n",
    "def arr_max(x):\n",
    "    return np.max(np.abs(x), axis = 1)"
   ]
  },
  {
   "cell_type": "code",
   "execution_count": null,
   "id": "9d0bc6dc",
   "metadata": {
    "scrolled": false
   },
   "outputs": [],
   "source": [
    "schemes = ['hs_mod_parab','hs_parab']#, 'trapz', 'trapz_mod']\n",
    "titles = ['2nd order Hermite Simpson','Hermite Simpson']#, 'Trapezoidal', 'Modified Trapezoidal']\n",
    "colors = ['b', 'orange', 'g', 'r', 'purple']\n",
    "funcs = [arr_sum,]#arr_mod,  arr_max\n",
    "func_tittles = ['Module of', 'Sum of absolute', 'Maximum of absolute']\n",
    "y_max_list = [0.12, 0.2, 0.09]\n",
    "n_int = len(t_arr)\n",
    "N = 25\n",
    "interv_n = (N * t_arr)/results[scheme][N]['t']\n",
    "for ii in range(1):\n",
    "    plt.figure(figsize=oct_fig_size)\n",
    "    for kk in [1,0]:\n",
    "        scheme = schemes[kk]\n",
    "        cut_p = 0\n",
    "        for ll in range(1,N+1):\n",
    "            jj = np.searchsorted(interv_n, ll)\n",
    "            y_plot = funcs[ii](results[scheme][N]['dyn_err_2'])\n",
    "            plt.plot(t_arr[cut_p:jj],y_plot[cut_p:jj], '-', c = f'C{kk}', label = titles[kk] if cut_p == 0 else None)\n",
    "            cut_p = jj\n",
    "    plt.plot(results[scheme][N]['t_array'], np.zeros(N+1), 'ok', label = 'knot & collocation points')\n",
    "    plt.plot(results[scheme][N]['t_c_array'], np.zeros(N), 'ow', markeredgecolor='k', label = 'collocation points')\n",
    "    plt.legend()\n",
    "    plt.grid()\n",
    "    plt.ylim([-0.01,y_max_list[ii]])\n",
    "    plt.title(r'Second order dynamic error $\\varepsilon^{[2]}$,'+f' N = {N}')\n",
    "    plt.xlabel('Time(s)')\n",
    "    plt.ylabel('Dynamic error $(rad/s^2)$')\n",
    "    plt.tight_layout(pad = 0.0)\n",
    "    sch_type = func_tittles[ii].replace(' ','_')\n",
    "    plt.savefig(f'5_link_HS_N{N}_second_order_dynamic_error.pdf', format='pdf')\n",
    "    \n"
   ]
  },
  {
   "cell_type": "code",
   "execution_count": null,
   "id": "9abccdf5",
   "metadata": {
    "scrolled": false
   },
   "outputs": [],
   "source": [
    "schemes = ['trapz', 'trapz_mod']#, 'trapz', 'trapz_mod']\n",
    "titles = ['Trapezoidal', '2nd order Trapezoidal']#, 'Trapezoidal', 'Modified Trapezoidal']\n",
    "funcs = [arr_sum,]#arr_mod,  arr_max\n",
    "#func_tittles = ['Module of', 'Sum of absolute', 'Maximum of absolute']\n",
    "y_max_list = [0.12, 0.2, 0.09]\n",
    "n_int = len(t_arr)\n",
    "N = 50\n",
    "interv_n = (N * t_arr)/results[scheme][N]['t']\n",
    "for ii in range(1):\n",
    "    plt.figure(figsize=oct_fig_size)\n",
    "    for kk in range(2):\n",
    "        scheme = schemes[kk]\n",
    "        cut_p = 0\n",
    "        for ll in range(1,N+1):\n",
    "            jj = np.searchsorted(interv_n, ll)\n",
    "            y_plot = funcs[ii](results[scheme][N]['dyn_err_2'])\n",
    "            plt.plot(t_arr[cut_p:jj],y_plot[cut_p:jj], '-', c = f'C{kk+2}', label = titles[kk] if cut_p == 0 else None)\n",
    "            cut_p = jj\n",
    "    plt.plot(results[scheme][N]['t_array'], np.zeros(N+1), 'ok', label = 'knot & collocation points')\n",
    "    #plt.plot(results[scheme][N]['t_c_array'], np.zeros(N), 'ow', markeredgecolor='k', label = 'collocation points')\n",
    "    plt.legend()\n",
    "    plt.grid()\n",
    "    #plt.ylim([-0.01,y_max_list[ii]])\n",
    "    plt.title(r'Second order dynamic error $\\varepsilon^{[2]}$,'+f' N = {N}')\n",
    "    plt.xlabel('Time(s)')\n",
    "    plt.ylabel('Dynamic error $(rad/s^2)$')\n",
    "    plt.tight_layout(pad = 0.0)\n",
    "    sch_type = func_tittles[ii].replace(' ','_')\n",
    "    plt.savefig(f'5_link_Trapezoidal_N{N}_second_order_dynamic_error.pdf', format='pdf')\n",
    "    \n"
   ]
  },
  {
   "cell_type": "code",
   "execution_count": null,
   "id": "80ef2fcc",
   "metadata": {},
   "outputs": [],
   "source": [
    "def state_error(t_arr, dyn_err, N,):\n",
    "    n_int = len(t_arr)\n",
    "    interv_n = (N * t_arr)//2\n",
    "    err = []\n",
    "    cut_p = 0\n",
    "    for ii in range(1,N+1):\n",
    "        jj = np.searchsorted(interv_n, ii)\n",
    "        err_point = np.trapz(np.abs(dyn_err[cut_p:jj+1]), t_arr[cut_p:jj+1], axis=0)\n",
    "        err.append(err_point)\n",
    "        cut_p = jj\n",
    "    err = np.array(err, dtype = float)\n",
    "    return err\n",
    "\n",
    "def total_state_error(t_arr, dyn_err):\n",
    "    errors = np.trapz(dyn_err, t_arr, axis=0)\n",
    "    return errors\n",
    "\n",
    "\n",
    "def total_state_error_abs(t_arr, dyn_err):\n",
    "    errors = np.trapz(np.abs(dyn_err), t_arr, axis=0)\n",
    "    return errors"
   ]
  },
  {
   "cell_type": "code",
   "execution_count": null,
   "id": "260e1907",
   "metadata": {},
   "outputs": [],
   "source": [
    "def integ_state_error(t_arr, dyn_err):\n",
    "    int_x = np.zeros_like(dyn_err)\n",
    "    arr_len = dyn_err.shape[0]\n",
    "    for ii in range(1,arr_len):\n",
    "        int_x[ii,:] = np.trapz(dyn_err[:ii+1,:], t_arr[:ii+1], axis=0)\n",
    "    return int_x"
   ]
  },
  {
   "cell_type": "code",
   "execution_count": null,
   "id": "5ed89ae9",
   "metadata": {},
   "outputs": [],
   "source": [
    "schemes = ['hs_parab', 'hs_mod_parab','trapz', 'trapz_mod']#'hs', 'hs_mod', \n",
    "\n",
    "t_arr = np.linspace(0,0.7,n_graph)\n",
    "for scheme in schemes:\n",
    "    key = scheme\n",
    "    print('Problem:', key)\n",
    "    N_arr = results[key]['N_arr']\n",
    "    for N in N_arr:\n",
    "        print(f'\\tN = {N}')\n",
    "        for letter in 'qv2':\n",
    "            results[key][N][f'integ_dyn_err_{letter}']= total_state_error(t_arr, results[scheme][N][f'dyn_err_{letter}'])\n",
    "            results[key][N][f'module_dyn_err_{letter}']= np.sqrt(np.dot(results[key][N][f'integ_dyn_err_{letter}'], results[key][N][f'integ_dyn_err_{letter}']))\n",
    "            results[key][N][f'sum_dyn_err_{letter}'] = np.sum(np.abs(results[key][N][f'integ_dyn_err_{letter}']))\n",
    "        "
   ]
  },
  {
   "cell_type": "code",
   "execution_count": null,
   "id": "1ccefcf8",
   "metadata": {},
   "outputs": [],
   "source": [
    "schemes = ['hs_parab', 'hs_mod_parab','trapz', 'trapz_mod']#'hs', 'hs_mod', \n",
    "\n",
    "t_arr = np.linspace(0,0.7,n_graph)\n",
    "for scheme in schemes:\n",
    "    key = scheme\n",
    "    print('Problem:', key)\n",
    "    N_arr = results[key]['N_arr']\n",
    "    for N in N_arr:\n",
    "        print(f'\\tN = {N}')\n",
    "        results[key][N]['integ_err_2'] = integ_state_error(t_arr, results[key][N]['dyn_err_2'])\n",
    "        results[key][N]['twice_integ_err_2'] = integ_state_error(t_arr, results[key][N]['integ_err_2'])\n",
    "        "
   ]
  },
  {
   "cell_type": "code",
   "execution_count": null,
   "id": "b31e3548",
   "metadata": {
    "scrolled": false
   },
   "outputs": [],
   "source": [
    "sch = [['hs_parab','hs_mod_parab'],['trapz', 'trapz_mod']]\n",
    "tit = [['Hermite Simpson','2nd order Hermite Simpson'],['Trapezoidal', '2nd order Trapezoidal']]\n",
    "colors = [f'C{ii}' for ii in [1,0,2,3]]\n",
    "n_int = len(t_arr)\n",
    "N_hh = [25,50]\n",
    "t_end = 0.7\n",
    "for hh in range(2):\n",
    "    schemes = sch[hh]\n",
    "    titles = tit[hh]\n",
    "    N = N_hh[hh]\n",
    "    interv_n = (N * t_arr)/2\n",
    "    for ii in range(5):\n",
    "        plt.figure(figsize=oct_fig_size)\n",
    "        for kk in range(len(schemes)):\n",
    "            scheme = schemes[kk]\n",
    "            key = scheme\n",
    "            cut_p = 0\n",
    "            for ll in range(1,N+1):\n",
    "                jj = np.searchsorted(interv_n, ll)\n",
    "                plt.plot(t_arr[cut_p:jj],results[key][N]['integ_err_2'][cut_p:jj,ii], '-', c = colors[2*hh+kk], label = titles[kk] if cut_p == 0 else None)\n",
    "                cut_p = jj\n",
    "        plt.plot(np.linspace(0,t_end,N+1), np.zeros(N+1), 'ok', label = 'knot & collocation points')\n",
    "        if hh == 0:\n",
    "            plt.plot(np.linspace(0,t_end,2*N+1)[1::2], np.zeros(N), 'ow', markeredgecolor='k', label = 'collocation points')\n",
    "        plt.legend()\n",
    "        plt.grid()\n",
    "        #plt.ylim([-0.00022, 0.00022])\n",
    "        plt.title(r'Integrated Second order dynamic error $\\int_{0}^{t}\\varepsilon^{[2]}_{q_'+f'{ii+1}}}'+r'(\\tau) d\\tau$,'+f'\\n{titles[0]} schemes, N = {N}')\n",
    "        plt.xlabel('Time(s)')\n",
    "        units = 'm/s' if ii == 0 else'rad/s'\n",
    "        plt.ylabel(f'Dynamic error $({units})$')\n",
    "        plt.tight_layout(pad = 0.0)\n",
    "        sch_type = titles[0].replace(' ','_')\n",
    "        plt.savefig(f'Biped_Integrated_Second_Order_Dynamic_Error_q_{ii+1}_{sch_type}_schemes_N_{N}.png', format='png')"
   ]
  },
  {
   "cell_type": "code",
   "execution_count": null,
   "id": "76f93105",
   "metadata": {
    "scrolled": false
   },
   "outputs": [],
   "source": [
    "sch = [['hs_parab','hs_mod_parab'],['trapz', 'trapz_mod']]\n",
    "tit = [['Hermite Simpson','2nd order Hermite Simpson'],['Trapezoidal', '2nd order Trapezoidal']]\n",
    "colors = [f'C{ii}' for ii in [1,0,2,3]]\n",
    "n_int = len(t_arr)\n",
    "N_hh = [25,50]\n",
    "t_end = 0.7\n",
    "for hh in range(2):\n",
    "    schemes = sch[hh]\n",
    "    titles = tit[hh]\n",
    "    N = N_hh[hh]\n",
    "    interv_n = (N * t_arr)/2\n",
    "    for ii in range(5):\n",
    "        plt.figure(figsize=oct_fig_size)\n",
    "        for kk in range(len(schemes)):\n",
    "            scheme = schemes[kk]\n",
    "            key = scheme\n",
    "            cut_p = 0\n",
    "            for ll in range(1,N+1):\n",
    "                jj = np.searchsorted(interv_n, ll)\n",
    "                plt.plot(t_arr[cut_p:jj],results[key][N]['twice_integ_err_2'][cut_p:jj,ii], '-', c = colors[2*hh+kk], label = titles[kk] if cut_p == 0 else None)\n",
    "                cut_p = jj\n",
    "        plt.plot(np.linspace(0,t_end,N+1), np.zeros(N+1), 'ok', label = 'knot & collocation points')\n",
    "        if hh == 0:\n",
    "            plt.plot(np.linspace(0,t_end,2*N+1)[1::2], np.zeros(N), 'ow', markeredgecolor='k', label = 'collocation points')\n",
    "        plt.legend()\n",
    "        plt.grid()\n",
    "        #plt.ylim([-0.00022, 0.00022])\n",
    "        plt.title(r'Twice integrated second order dynamic error $\\int_{0}^{t}\\int_{0}^{\\xi}\\varepsilon^{[2]}_{q_'+f'{ii+1}}}'+r'(\\tau) d\\tau d\\xi$,'+f'\\n{titles[0]} schemes, N = {N}')\n",
    "        plt.xlabel('Time(s)')\n",
    "        units = 'm' if ii == 0 else'rad'\n",
    "        plt.ylabel(f'Dynamic error $({units})$')\n",
    "        plt.tight_layout(pad = 0.0)\n",
    "        sch_type = titles[0].replace(' ','_')\n",
    "        plt.savefig(f'Biped_Twice_Integrated_Second_Order_Dynamic_Error_q_{ii+1}_{sch_type}_schemes_N_{N}.png', format='png')"
   ]
  },
  {
   "cell_type": "code",
   "execution_count": null,
   "id": "afc20b41",
   "metadata": {
    "scrolled": false
   },
   "outputs": [],
   "source": [
    "schemes = ['hs_mod_parab','hs_parab']#, 'trapz', 'trapz_mod']\n",
    "titles = ['2nd order Hermite Simpson','Hermite Simpson']#, 'Trapezoidal', 'Modified Trapezoidal']\n",
    "colors = ['b', 'orange', 'g', 'r', 'purple']\n",
    "funcs = [arr_sum,]#arr_mod,  arr_max\n",
    "func_tittles = ['Module of', 'Sum of absolute', 'Maximum of absolute']\n",
    "y_max_list = [0.12, 0.2, 0.09]\n",
    "n_int = len(t_arr)\n",
    "N = 25\n",
    "interv_n = (N * t_arr)/results[scheme][N]['t']\n",
    "for ii in range(1):\n",
    "    plt.figure(figsize=oct_fig_size)\n",
    "    for kk in [1,0]:\n",
    "        scheme = schemes[kk]\n",
    "        cut_p = 0\n",
    "        for ll in range(1,N+1):\n",
    "            jj = np.searchsorted(interv_n, ll)\n",
    "            y_plot = funcs[ii](results[scheme][N]['integ_err_2'])\n",
    "            plt.plot(t_arr[cut_p:jj],y_plot[cut_p:jj], '-', c = f'C{kk}', label = titles[kk] if cut_p == 0 else None)\n",
    "            cut_p = jj\n",
    "    plt.plot(results[scheme][N]['t_array'], np.zeros(N+1), 'ok', label = 'knot & collocation points')\n",
    "    plt.plot(results[scheme][N]['t_c_array'], np.zeros(N), 'ow', markeredgecolor='k', label = 'collocation points')\n",
    "    plt.legend()\n",
    "    plt.grid()\n",
    "    #plt.ylim([-0.01,y_max_list[ii]])\n",
    "    plt.title(r'Sum of absolute Integrated Second order dynamic error $\\Sigma |\\int_{0}^{t}\\varepsilon^{[2]}_{q_'+f'{ii+1}}}'+r'(\\tau) d\\tau|$,'+f' HS schemes, N = {N}')\n",
    "    plt.xlabel('Time(s)')\n",
    "    plt.ylabel('Dynamic error $(rad/s)$')\n",
    "    plt.tight_layout(pad = 0.0)\n",
    "    sch_type = func_tittles[ii].replace(' ','_')\n",
    "    plt.savefig(f'5_link_HS_N{N}_integrated_second_order_dynamic_error.png', format='png')\n",
    "    \n"
   ]
  },
  {
   "cell_type": "code",
   "execution_count": null,
   "id": "b4cd48e7",
   "metadata": {
    "scrolled": false
   },
   "outputs": [],
   "source": [
    "schemes = ['trapz', 'trapz_mod']#\n",
    "titles = ['Trapezoidal', 'Modified Trapezoidal']#\n",
    "colors = ['b', 'orange', 'g', 'r', 'purple']\n",
    "funcs = [arr_sum,]#arr_mod,  arr_max\n",
    "func_tittles = ['Module of', 'Sum of absolute', 'Maximum of absolute']\n",
    "y_max_list = [0.12, 0.2, 0.09]\n",
    "n_int = len(t_arr)\n",
    "N = 25\n",
    "interv_n = (N * t_arr)/results[scheme][N]['t']\n",
    "for ii in range(1):\n",
    "    plt.figure(figsize=oct_fig_size)\n",
    "    for kk in [1,0]:\n",
    "        scheme = schemes[kk]\n",
    "        cut_p = 0\n",
    "        for ll in range(1,N+1):\n",
    "            jj = np.searchsorted(interv_n, ll)\n",
    "            y_plot = funcs[ii](results[scheme][N]['integ_err_2'])\n",
    "            plt.plot(t_arr[cut_p:jj],y_plot[cut_p:jj], '-', c = f'C{kk+2}', label = titles[kk] if cut_p == 0 else None)\n",
    "            cut_p = jj\n",
    "    plt.plot(results[scheme][N]['t_array'], np.zeros(N+1), 'ok', label = 'knot & collocation points')\n",
    "    plt.plot(results[scheme][N]['t_c_array'], np.zeros(N), 'ow', markeredgecolor='k', label = 'collocation points')\n",
    "    plt.legend()\n",
    "    plt.grid()\n",
    "    #plt.ylim([-0.01,y_max_list[ii]])\n",
    "    plt.title(r'Sum of absolute Integrated Second order dynamic error $\\Sigma |\\int_{0}^{t}\\varepsilon^{[2]}_{q_'+f'{ii+1}}}'+r'(\\tau) d\\tau|$,'+f' Trapz schemes, N = {N}')\n",
    "    plt.xlabel('Time(s)')\n",
    "    plt.ylabel('Dynamic error $(rad/s)$')\n",
    "    plt.tight_layout(pad = 0.0)\n",
    "    sch_type = func_tittles[ii].replace(' ','_')\n",
    "    plt.savefig(f'5_link_Trapz_N{N}_integrated_second_order_dynamic_error.png', format='png')\n",
    "    \n"
   ]
  },
  {
   "cell_type": "code",
   "execution_count": null,
   "id": "fb47846a",
   "metadata": {
    "scrolled": false
   },
   "outputs": [],
   "source": [
    "schemes = ['hs_mod_parab','hs_parab']#, 'trapz', 'trapz_mod']\n",
    "titles = ['2nd order Hermite Simpson','Hermite Simpson']#, 'Trapezoidal', 'Modified Trapezoidal']\n",
    "colors = ['b', 'orange', 'g', 'r', 'purple']\n",
    "funcs = [arr_sum,]#arr_mod,  arr_max\n",
    "func_tittles = ['Module of', 'Sum of absolute', 'Maximum of absolute']\n",
    "y_max_list = [0.12, 0.2, 0.09]\n",
    "n_int = len(t_arr)\n",
    "N = 25\n",
    "interv_n = (N * t_arr)/results[scheme][N]['t']\n",
    "for ii in range(1):\n",
    "    plt.figure(figsize=oct_fig_size)\n",
    "    for kk in [1,0]:\n",
    "        scheme = schemes[kk]\n",
    "        cut_p = 0\n",
    "        for ll in range(1,N+1):\n",
    "            jj = np.searchsorted(interv_n, ll)\n",
    "            y_plot = funcs[ii](results[scheme][N]['twice_integ_err_2'])\n",
    "            plt.plot(t_arr[cut_p:jj],y_plot[cut_p:jj], '-', c = f'C{kk}', label = titles[kk] if cut_p == 0 else None)\n",
    "            cut_p = jj\n",
    "    plt.plot(results[scheme][N]['t_array'], np.zeros(N+1), 'ok', label = 'knot & collocation points')\n",
    "    plt.plot(results[scheme][N]['t_c_array'], np.zeros(N), 'ow', markeredgecolor='k', label = 'collocation points')\n",
    "    plt.legend()\n",
    "    plt.grid()\n",
    "    #plt.ylim([-0.01,y_max_list[ii]])\n",
    "    plt.title(r'Sum of absolute twice integrated second order dynamic error $\\Sigma |\\int_{0}^{t}\\int_{0}^{\\xi}\\varepsilon^{[2]}_{q_'+f'{ii+1}}}'+r'(\\tau) d\\tau d\\xi|$,'+f' HS schemes, N = {N}')\n",
    "    plt.xlabel('Time(s)')\n",
    "    plt.ylabel('Dynamic error $(rad)$')\n",
    "    plt.tight_layout(pad = 0.0)\n",
    "    sch_type = func_tittles[ii].replace(' ','_')\n",
    "    plt.savefig(f'5_link_HS_N{N}_twice_integrated_second_order_dynamic_error.png', format='png')\n",
    "    \n"
   ]
  },
  {
   "cell_type": "code",
   "execution_count": null,
   "id": "2b10c298",
   "metadata": {
    "scrolled": false
   },
   "outputs": [],
   "source": [
    "schemes = ['trapz', 'trapz_mod']#\n",
    "titles = ['Trapezoidal', 'Modified Trapezoidal']#\n",
    "colors = ['b', 'orange', 'g', 'r', 'purple']\n",
    "funcs = [arr_sum,]#arr_mod,  arr_max\n",
    "func_tittles = ['Module of', 'Sum of absolute', 'Maximum of absolute']\n",
    "y_max_list = [0.12, 0.2, 0.09]\n",
    "n_int = len(t_arr)\n",
    "N = 25\n",
    "interv_n = (N * t_arr)/results[scheme][N]['t']\n",
    "for ii in range(1):\n",
    "    plt.figure(figsize=oct_fig_size)\n",
    "    for kk in [1,0]:\n",
    "        scheme = schemes[kk]\n",
    "        cut_p = 0\n",
    "        for ll in range(1,N+1):\n",
    "            jj = np.searchsorted(interv_n, ll)\n",
    "            y_plot = funcs[ii](results[scheme][N]['twice_integ_err_2'])\n",
    "            plt.plot(t_arr[cut_p:jj],y_plot[cut_p:jj], '-', c = f'C{kk+2}', label = titles[kk] if cut_p == 0 else None)\n",
    "            cut_p = jj\n",
    "    plt.plot(results[scheme][N]['t_array'], np.zeros(N+1), 'ok', label = 'knot & collocation points')\n",
    "    plt.plot(results[scheme][N]['t_c_array'], np.zeros(N), 'ow', markeredgecolor='k', label = 'collocation points')\n",
    "    plt.legend()\n",
    "    plt.grid()\n",
    "    #plt.ylim([-0.01,y_max_list[ii]])\n",
    "    plt.title(r'Sum of absolute twice integrated second order dynamic error $\\Sigma |\\int_{0}^{t}\\int_{0}^{\\xi}\\varepsilon^{[2]}_{q_'+f'{ii+1}}}'+r'(\\tau) d\\tau d\\xi|$,'+f' Trapz schemes, N = {N}')\n",
    "    plt.xlabel('Time(s)')\n",
    "    plt.ylabel('Dynamic error $(rad)$')\n",
    "    plt.tight_layout(pad = 0.0)\n",
    "    sch_type = func_tittles[ii].replace(' ','_')\n",
    "    plt.savefig(f'5_link_Trapz_N{N}_twice_integrated_second_order_dynamic_error.png', format='png')\n",
    "    \n"
   ]
  },
  {
   "cell_type": "code",
   "execution_count": null,
   "id": "fd47e5c6",
   "metadata": {},
   "outputs": [],
   "source": [
    "schemes = ['hs_parab', 'hs_mod_parab','trapz', 'trapz_mod']#'hs', 'hs_mod', \n",
    "\n",
    "t_arr = np.linspace(0,0.7,n_graph)\n",
    "for scheme in schemes:\n",
    "    key = scheme\n",
    "    print('Problem:', key)\n",
    "    N_arr = results[key]['N_arr']\n",
    "    _sum = []\n",
    "    for N in N_arr:\n",
    "        results[key][N]['twice_integ_dyn_err_2'] = results[key][N]['twice_integ_err_2'][-1,:]\n",
    "        results[key][N][f'sum_twice_dyn_err_2'] = np.sum(np.abs(results[key][N]['twice_integ_dyn_err_2']))\n",
    "        _sum.append(results[key][N][f'sum_twice_dyn_err_2'])\n",
    "    results[key][f'sum_twice_dyn_err_2_array'] = np.array(_sum)"
   ]
  },
  {
   "cell_type": "code",
   "execution_count": null,
   "id": "4ae21888",
   "metadata": {},
   "outputs": [],
   "source": [
    "for scheme in schemes:\n",
    "    key = scheme\n",
    "    print('Problem:', key)\n",
    "    N_arr = results[key]['N_arr']\n",
    "    \n",
    "    for letter in 'qv2':\n",
    "        list_mod = []\n",
    "        list_sum = []\n",
    "        for N in N_arr:\n",
    "            #print(f'\\tN = {N}')\n",
    "            list_mod.append(results[key][N][f'module_dyn_err_{letter}'])\n",
    "            list_sum.append(results[key][N][f'sum_dyn_err_{letter}'])\n",
    "        results[key][f'module_dyn_err_{letter}_array'] = np.array(list_mod)\n",
    "        results[key][f'sum_dyn_err_{letter}_array'] = np.array(list_sum)"
   ]
  },
  {
   "cell_type": "code",
   "execution_count": null,
   "id": "d3ab743e",
   "metadata": {},
   "outputs": [],
   "source": [
    "for scheme in results.keys():\n",
    "    if 'hs' in scheme:\n",
    "        n_coll = np.array(results[scheme]['N_arr'])*2-1\n",
    "        results[scheme]['N_coll_arr'] = n_coll\n",
    "    else:\n",
    "        results[scheme]['N_coll_arr'] = results[scheme]['N_arr']\n",
    "    print(scheme, results[scheme]['N_arr'],results[scheme]['N_coll_arr'])"
   ]
  },
  {
   "cell_type": "markdown",
   "id": "08c4d464",
   "metadata": {},
   "source": [
    "schemes = ['hs_mod_parab','hs_parab', 'trapz', 'trapz_mod']\n",
    "titles = ['2nd order Hermite Simpson', 'Hermite Simpson','Trapezoidal', '2nd order Trapezoidal']\n",
    "plt.figure(figsize=[14,8])\n",
    "for ii in range(4):\n",
    "    key = schemes[ii]\n",
    "    plt.plot(results[key]['N_arr'], results[key][f'module_dyn_err_2_array'], marker = 'o',label = titles[ii])\n",
    "plt.grid()\n",
    "plt.legend()\n",
    "plt.yscale('log')\n",
    "plt.title('Module second order dynamic error')\n",
    "plt.xlabel('Number of intervals')\n",
    "plt.ylabel('Dynamic error ($rad/s^2$)')\n",
    "plt.savefig(f'5_link_Module_second_order_dynamic_error_vs_interval_number.eps', format='eps')"
   ]
  },
  {
   "cell_type": "code",
   "execution_count": null,
   "id": "2a9b3699",
   "metadata": {
    "scrolled": false
   },
   "outputs": [],
   "source": [
    "schemes_graph = ['hs_mod_parab', 'hs_parab', 'trapz', 'trapz_mod']\n",
    "titles = ['2nd order Hermite Simpson', 'Hermite Simpson','Trapezoidal', '2nd order Trapezoidal']\n",
    "colors = [f'C{ii}' for ii in range(9)]\n",
    "data_array = ['err_q_acum','err_v_acum','err_2_b_acum','cpudt']\n",
    "initial = 'lin'\n",
    "\n",
    "\n",
    "data_key = data_array[2]\n",
    "for qq in range(5):\n",
    "    #plt.figure(figsize=[10,6])\n",
    "    #plt.title(f'Biped second order dynamic error $|E^{{*[2]}}_{{q_{qq+1}}}|$')\n",
    "    for ii in [2,3,1,0]:\n",
    "        scheme = schemes_graph[ii]\n",
    "        key = scheme #+ '_' + initial\n",
    "        print(titles[ii], f'Error 2 q_{qq+1}:')\n",
    "        for nn in results[key]['N_arr']:\n",
    "            print('\\tN:', nn, 'Error:', results[key][nn]['integ_dyn_err_2'][qq])\n",
    "        N_arr = results[key]['N_arr']\n",
    "    #    if len(results[key][data_key].shape) == 1:\n",
    "    #        plt.plot(N_arr,np.abs(results[key][data_key]), marker = 'o', c = f'C{ii}',label = titles[ii])\n",
    "    #    else:\n",
    "    #        plt.plot(N_arr,np.abs(results[key][data_key][:,qq]), marker = 'o', c = f'C{ii}',label = titles[ii])\n",
    "    #plt.yscale('log')\n",
    "    #plt.xlabel('Number of intervals')\n",
    "    #plt.grid()\n",
    "    #plt.legend()\n",
    "    units = 'm/s' if qq == 0 else'rad/s'\n",
    "    #plt.ylabel(f'Dynamic error $({units})$')\n",
    "    #plt.tight_layout(pad = 0.0)\n",
    "    #plt.savefig(f'Cartpole_Integrated_Second_Order_Dynamic_Error_q_{qq+1}_vs_N.pdf', format='pdf')\n"
   ]
  },
  {
   "cell_type": "code",
   "execution_count": null,
   "id": "114a07a1",
   "metadata": {
    "scrolled": false
   },
   "outputs": [],
   "source": [
    "schemes_graph = ['hs_mod_parab', 'hs_parab', 'trapz', 'trapz_mod']\n",
    "titles = ['2nd order Hermite Simpson', 'Hermite Simpson','Trapezoidal', '2nd order Trapezoidal']\n",
    "colors = [f'C{ii}' for ii in range(9)]\n",
    "data_array = ['err_q_acum','err_v_acum','err_2_b_acum','cpudt']\n",
    "initial = 'lin'\n",
    "\n",
    "\n",
    "data_key = data_array[2]\n",
    "for qq in range(5):\n",
    "    #plt.figure(figsize=[10,6])\n",
    "    #plt.title(f'Biped second order dynamic error $|E^{{*[2]}}_{{q_{qq+1}}}|$')\n",
    "    for ii in [2,3,1,0]:\n",
    "        scheme = schemes_graph[ii]\n",
    "        key = scheme #+ '_' + initial\n",
    "        print(titles[ii], f'Error 2 q_{qq+1}:')\n",
    "        for nn in results[key]['N_arr']:\n",
    "            print('\\tN:', nn, 'Error:', results[key][nn]['twice_integ_dyn_err_2'][qq])\n",
    "        N_arr = results[key]['N_arr']\n",
    "    #    if len(results[key][data_key].shape) == 1:\n",
    "    #        plt.plot(N_arr,np.abs(results[key][data_key]), marker = 'o', c = f'C{ii}',label = titles[ii])\n",
    "    #    else:\n",
    "    #        plt.plot(N_arr,np.abs(results[key][data_key][:,qq]), marker = 'o', c = f'C{ii}',label = titles[ii])\n",
    "    #plt.yscale('log')\n",
    "    #plt.xlabel('Number of intervals')\n",
    "    #plt.grid()\n",
    "    #plt.legend()\n",
    "    units = 'm/s' if qq == 0 else'rad/s'\n",
    "    #plt.ylabel(f'Dynamic error $({units})$')\n",
    "    #plt.tight_layout(pad = 0.0)\n",
    "    #plt.savefig(f'Cartpole_Integrated_Second_Order_Dynamic_Error_q_{qq+1}_vs_N.pdf', format='pdf')\n"
   ]
  },
  {
   "cell_type": "code",
   "execution_count": null,
   "id": "ad11764a",
   "metadata": {},
   "outputs": [],
   "source": [
    "schemes = ['hs_mod_parab','hs_parab', 'trapz', 'trapz_mod']\n",
    "titles = ['2nd order Hermite Simpson', 'Hermite Simpson','Trapezoidal', '2nd order Trapezoidal']\n",
    "plt.figure(figsize=oct_fig_size)\n",
    "for ii in [2,3,1,0]:\n",
    "    key = schemes[ii]\n",
    "    plt.plot(results[key]['N_arr'], results[key][f'sum_dyn_err_2_array'], marker = 'o', c = f'C{ii}',label = titles[ii])\n",
    "plt.grid()\n",
    "plt.legend()\n",
    "plt.yscale('log')\n",
    "plt.title('5-link biped second order dynamic error $\\Sigma |E^{*[2]}_i|$')\n",
    "plt.xlabel('Number of intervals')\n",
    "plt.ylabel('Dynamic error ($rad/s$)')\n",
    "plt.tight_layout(pad = 0.0)\n",
    "plt.savefig(f'5_link_Sum_second_order_dynamic_error_vs_interval_number.png', format='png')"
   ]
  },
  {
   "cell_type": "code",
   "execution_count": null,
   "id": "2629f28b",
   "metadata": {},
   "outputs": [],
   "source": [
    "schemes = ['hs_mod_parab','hs_parab', 'trapz', 'trapz_mod']\n",
    "titles = ['2nd order Hermite Simpson', 'Hermite Simpson','Trapezoidal', '2nd order Trapezoidal']\n",
    "plt.figure(figsize=oct_fig_size)\n",
    "for ii in [2,3,1,0]:\n",
    "    key = schemes[ii]\n",
    "    plt.plot(results[key]['N_arr'], results[key][f'sum_twice_dyn_err_2_array'], marker = 'o', c = f'C{ii}',label = titles[ii])\n",
    "plt.grid()\n",
    "plt.legend()\n",
    "plt.yscale('log')\n",
    "plt.title('5-link biped twice integrated second order dynamic error $\\Sigma |EE^{*[2]}_i|$')\n",
    "plt.xlabel('Number of intervals')\n",
    "plt.ylabel('Dynamic error ($rad$)')\n",
    "plt.tight_layout(pad = 0.0)\n",
    "plt.savefig(f'5_link_Sum_twice_integ_second_order_dynamic_error_vs_interval_number.png', format='png')"
   ]
  },
  {
   "cell_type": "markdown",
   "id": "a99573b8",
   "metadata": {},
   "source": [
    "schemes = ['hs_mod_parab','hs_parab', 'trapz', 'trapz_mod']\n",
    "titles = ['Modified Hermite Simpson', 'Hermite Simpson','Trapezoidal', 'Modified Trapezoidal']\n",
    "plt.figure(figsize=[14,8])\n",
    "for ii in range(4):\n",
    "    key = schemes[ii]\n",
    "    plt.plot(results[key]['N_coll_arr'], results[key][f'sum_dyn_err_2_array'], marker = 'o',label = titles[ii])\n",
    "plt.grid()\n",
    "plt.legend()\n",
    "plt.yscale('log')\n",
    "plt.title('Added second order dynamic error')\n",
    "plt.xlabel('Number of collocation points')\n",
    "plt.ylabel('Dynamic error ($rad/s^2$)')\n",
    "plt.savefig(f'5_link_Sum_second_order_dynamic_error_vs_collocation_points_number.eps', format='eps')"
   ]
  },
  {
   "cell_type": "code",
   "execution_count": null,
   "id": "503b9b89",
   "metadata": {},
   "outputs": [],
   "source": [
    "for scheme in schemes:\n",
    "    key = scheme\n",
    "    print('Problem:', key)\n",
    "    N_arr = results[key]['N_arr']\n",
    "    list_cpudt = []\n",
    "    for N in N_arr:\n",
    "        #print(f'\\tN = {N}')\n",
    "        list_cpudt.append(results[key][N]['cpudt'])\n",
    "    results[key]['cpudt_array'] = np.array(list_cpudt)"
   ]
  },
  {
   "cell_type": "code",
   "execution_count": null,
   "id": "6fc2d3aa",
   "metadata": {},
   "outputs": [],
   "source": [
    "schemes = ['hs_mod_parab','hs_parab', 'trapz', 'trapz_mod']\n",
    "titles = ['2nd order Hermite Simpson', 'Hermite Simpson','Trapezoidal', '2nd order Trapezoidal']\n",
    "plt.figure(figsize=oct_fig_size)\n",
    "for ii in [2,3,1,0]:\n",
    "    key = schemes[ii]\n",
    "    plt.plot(results[key]['N_arr'], results[key][f'cpudt_array'], marker = 'o', c = f'C{ii}', label = titles[ii])\n",
    "plt.grid()\n",
    "plt.legend()\n",
    "#plt.yscale('log')\n",
    "plt.title('5-link biped optimization time')\n",
    "plt.xlabel('Number of intervals')\n",
    "plt.ylabel('Time (s)')\n",
    "plt.tight_layout(pad = 0.0)\n",
    "plt.savefig(f'5_link_optimization_vs_interval_number.pdf', format='pdf')"
   ]
  },
  {
   "cell_type": "markdown",
   "id": "30f0d674",
   "metadata": {},
   "source": [
    "schemes = ['hs_mod_parab','hs_parab', 'trapz', 'trapz_mod']\n",
    "titles = ['Modified Hermite Simpson', 'Hermite Simpson','Trapezoidal', 'Modified Trapezoidal']\n",
    "plt.figure(figsize=[14,8])\n",
    "for ii in range(4):\n",
    "    key = schemes[ii]\n",
    "    plt.plot(results[key]['N_coll_arr'], results[key][f'cpudt_array'], marker = 'o',label = titles[ii])\n",
    "plt.grid()\n",
    "plt.legend()\n",
    "#plt.yscale('log')\n",
    "plt.title('optimization time')\n",
    "plt.xlabel('Number of collocation points')\n",
    "plt.ylabel('time (s)')\n",
    "plt.savefig(f'5 link optimization vs collocation points number.eps', format='eps')"
   ]
  },
  {
   "cell_type": "code",
   "execution_count": null,
   "id": "12222ba2",
   "metadata": {},
   "outputs": [],
   "source": [
    "for scheme in ['hs_mod_parab', 'hs_parab', 'trapz', 'trapz_mod']:\n",
    "    key = scheme\n",
    "    for N in [25,50]:#results[key]['N_arr']:\n",
    "        print('scheme:', scheme, 'N:', N,'\\n\\ttime:', results[key][N][f'cpudt'],\n",
    "              '\\n\\tErr 1:', results[key][N]['sum_dyn_err_q'], '\\n\\tErr 2:', results[key][N]['sum_dyn_err_2'])"
   ]
  },
  {
   "cell_type": "markdown",
   "id": "267c7b22",
   "metadata": {},
   "source": [
    "## Animation"
   ]
  },
  {
   "cell_type": "code",
   "execution_count": null,
   "id": "24c3fa78",
   "metadata": {},
   "outputs": [],
   "source": [
    "from matplotlib import animation, rc\n",
    "import matplotlib.patches as patches\n",
    "from matplotlib.transforms import Affine2D\n",
    "from IPython.display import HTML"
   ]
  },
  {
   "cell_type": "code",
   "execution_count": null,
   "id": "d72b22c3",
   "metadata": {},
   "outputs": [],
   "source": [
    "matplotlib.rcParams['animation.embed_limit'] = 200"
   ]
  },
  {
   "cell_type": "code",
   "execution_count": null,
   "id": "a4f98a49",
   "metadata": {},
   "outputs": [],
   "source": [
    "def body_tray(X, params):\n",
    "    res = []\n",
    "    for ii in range(X.shape[0]):\n",
    "        res.append(list(chain_to_draw(X[ii,:], params)))\n",
    "    return np.array(res)"
   ]
  },
  {
   "cell_type": "code",
   "execution_count": null,
   "id": "ab473eb1",
   "metadata": {},
   "outputs": [],
   "source": [
    "def loop_body_tray(X, params):\n",
    "    point_tray = body_tray(X, params)\n",
    "    point_tray_loop = np.append(\n",
    "        point_tray,\n",
    "        np.expand_dims(\n",
    "            np.array(list(chain_to_draw(X[0,[4,3,2,1,0,5,6,7,8,9]],params)))\n",
    "            ,0),\n",
    "        0)\n",
    "    return point_tray_loop"
   ]
  },
  {
   "cell_type": "code",
   "execution_count": null,
   "id": "064c6630",
   "metadata": {},
   "outputs": [],
   "source": [
    "def create_anim(X, U, params, n_loops = 1):\n",
    "    [\n",
    "    I_0_n, I_1_n, I_2_n, I_3_n, I_4_n,\n",
    "    d_0_n, d_1_n, d_2_n, d_3_n, d_4_n,\n",
    "    g_n,\n",
    "    l_0_n, l_1_n, l_3_n,\n",
    "    m_0_n, m_1_n, m_2_n, m_3_n, m_4_n\n",
    "    ] = params\n",
    "    \n",
    "    N = X.shape[0]\n",
    "    fig, ax = plt.subplots()\n",
    "    draw_width = 14\n",
    "    draw_height = 14\n",
    "    \n",
    "    fig.set_dpi(300)\n",
    "    fig.set_size_inches([draw_width,draw_height])\n",
    "    ax.set_xlim(( -1, 1))\n",
    "    ax.set_ylim(( -0.2, 1.8))\n",
    "    \n",
    "    body, = ax.plot([], [], lw=4, ms = 12, marker = 'o')\n",
    "    trail, = ax.plot([], [], lw=1, color = 'k')\n",
    "    old_trail, = ax.plot([], [], lw=1, color = 'k')\n",
    "    next_trail, = ax.plot([], [], lw=1, color = 'k')\n",
    "    \n",
    "    \n",
    "    point_tray = body_tray(X, params)\n",
    "    point_tray_loop = loop_body_tray(X, params)\n",
    "    #sys_cm_point, = ax.plot([], [], 'go', ms=12)\n",
    "    #line_sys_cm, = ax.plot([], [], 'k:', lw=1)\n",
    "    \n",
    "    print_vars = [X[:,ii] for ii in range(5)]+[np.linspace(0, N-1, N, dtype=int)]\n",
    "    print_var_names = [f'q_{ii}' for ii in range(5)]+['step']\n",
    "    texts = []\n",
    "    ii = 0.8\n",
    "    for arr in print_vars:\n",
    "        texts.append(ax.text(-0.8, ii, \"\", fontsize = 12))\n",
    "        ii -= 0.2\n",
    "    \n",
    "    ax.grid()\n",
    "    \n",
    "    def init():\n",
    "        body.set_data([], [])\n",
    "        trail.set_data(point_tray_loop[0,0,-1], point_tray_loop[0,1,-1])\n",
    "        old_trail.set_data(point_tray_loop[:,0,-1]-0.5, point_tray_loop[:,1,-1])\n",
    "        #next_trail.set_data(point_tray_loop[:,0,-1]+0.5, point_tray_loop[:,1,-1])\n",
    "        #sys_cm_point.set_data([], [])\n",
    "        #line_sys_cm.set_data([], [])\n",
    "        return (body,)\n",
    "    \n",
    "    def animate(i):\n",
    "        margin_x = -0.25 + i * 0.5/N\n",
    "        trail.set_data(point_tray_loop[0:i+1,0,-1], point_tray_loop[0:i+1,1,-1])\n",
    "        #sys_cm_coords = sys_cm_np(X[i,:], params)\n",
    "        #sys_cm_point.set_data(sys_cm_coords)\n",
    "        #line_sys_cm.set_data([0, sys_cm_coords[0]], [0, sys_cm_coords[1]])\n",
    "        \n",
    "        ax.set_xlim(( -1+ margin_x, 1+ margin_x))\n",
    "        points_x, points_y = point_tray[i,:,:]\n",
    "        body.set_data(points_x, points_y) \n",
    "        \n",
    "        for ii in range(len(texts)):\n",
    "            text = texts[ii]\n",
    "            name = print_var_names[ii]\n",
    "            arr = print_vars[ii]\n",
    "            text.set_position((-0.9 + margin_x, 1.7 - 0.05*ii))\n",
    "            if name == 'step':\n",
    "                text.set_text(\"$step$ = \" + str(arr[i]))\n",
    "            else:\n",
    "                text.set_text(\"$\" + name + \"$ = %.3f\" % arr[i])\n",
    "        return (body,)\n",
    "    iterable_frames = sum([[jj for jj in range(N)]for kk in range(n_loops)], start = [])\n",
    "    anim = animation.FuncAnimation(fig, animate, init_func=init,\n",
    "                               frames=iterable_frames, interval=20, \n",
    "                               blit=True)\n",
    "    return anim\n",
    "\n",
    "\n",
    "\n"
   ]
  },
  {
   "cell_type": "code",
   "execution_count": null,
   "id": "f8bceb50",
   "metadata": {
    "scrolled": false
   },
   "outputs": [],
   "source": [
    "anim = create_anim(results['hs_mod_parab'][25]['x'][:-1,:],results['hs_mod_parab'][25]['u'], params, 20)"
   ]
  },
  {
   "cell_type": "code",
   "execution_count": null,
   "id": "58a76b44",
   "metadata": {},
   "outputs": [],
   "source": [
    "HTML(anim.to_jshtml())"
   ]
  },
  {
   "cell_type": "code",
   "execution_count": null,
   "id": "7548391e",
   "metadata": {},
   "outputs": [],
   "source": [
    "f = r\"biped_animation_hd.mp4\" \n",
    "writervideo = animation.FFMpegWriter(fps=25//0.7) \n",
    "anim.save(f, writer=writervideo)"
   ]
  },
  {
   "cell_type": "code",
   "execution_count": null,
   "id": "cc3cc1c9",
   "metadata": {},
   "outputs": [],
   "source": []
  },
  {
   "cell_type": "code",
   "execution_count": null,
   "id": "056bf6ca",
   "metadata": {},
   "outputs": [],
   "source": [
    "def __create_anim_simp(X, U, params):\n",
    "    [\n",
    "    I_0_n, I_1_n, I_2_n, I_3_n, I_4_n,\n",
    "    d_0_n, d_1_n, d_2_n, d_3_n, d_4_n,\n",
    "    g_n,\n",
    "    l_0_n, l_1_n, l_3_n,\n",
    "    m_0_n, m_1_n, m_2_n, m_3_n, m_4_n\n",
    "    ] = params\n",
    "    \n",
    "    N = X.shape[0]\n",
    "    fig, ax = plt.subplots()\n",
    "    \n",
    "    y_scale = 1\n",
    "    min_x_cart = np.min(X[:,0])\n",
    "    max_x_cart = np.max(X[:,0])\n",
    "    cart_displ = max_x_cart-min_x_cart\n",
    "    size_x = 2*y_scale + cart_displ\n",
    "    size_y = 2*y_scale\n",
    "    draw_width = 14\n",
    "    draw_height = draw_width / size_x * size_y\n",
    "    \n",
    "    x_0 = X[:,0]\n",
    "    y_0 = np.zeros_like(x_0)\n",
    "    x_1 = x_0 + l_3*np.sin(X[:,1])\n",
    "    y_1 = y_0 - l_3*np.cos(X[:,1])\n",
    "    \n",
    "    x_cm = (m_0 * x_0 + m_2 * x_1)/(m_0 + m_2)\n",
    "    y_cm = (m_0 * y_0 + m_2 * y_1)/(m_0 + m_2)\n",
    "\n",
    "    fig.set_size_inches([draw_width,draw_height])\n",
    "    ax.set_xlim(( min_x_cart-y_scale, max_x_cart+y_scale))\n",
    "    ax.set_ylim(( -y_scale, y_scale))\n",
    "\n",
    "    circle1 = plt.Circle((0, 0), l_3, color='b', ls = \":\", fill=False)\n",
    "    ax.add_artist(circle1)\n",
    "    ax.plot([min_x_cart - l_3, max_x_cart + l_3], [0,0], 'k', lw=1, ls = ':')\n",
    "\n",
    "    line1, = ax.plot([], [], lw=2)\n",
    "    line3, = ax.plot([], [], 'k', lw=1, ls = ':')\n",
    "    line_cm, = ax.plot([], [], 'g', lw=1, ls = ':')\n",
    "    point0, = ax.plot([], [], marker='o', markersize=15, color=\"red\")\n",
    "    point1, = ax.plot([], [], marker='o', markersize=15, color=\"red\")\n",
    "    point_cm, = ax.plot([], [], marker='o', markersize=10, color=\"green\")\n",
    "    u_max = max(np.max(np.abs(U[:,0])),1e-15)\n",
    "    arrow_w = 0.05*l_3\n",
    "    arrow_l = 0.2*l_3\n",
    "    u_arrow = patches.Arrow(0, 0, 0, -arrow_l, color = 'gray',width = arrow_w)\n",
    "    ax.add_patch(u_arrow)\n",
    "    \n",
    "    print_vars = [X[:,0], X[:,1], U[:,0], U[:,1], np.linspace(0, N-1, N, dtype=int)]\n",
    "    print_var_names = ['q_0', 'q_1', 'u_0', 'u_1', 'step']\n",
    "    texts = []\n",
    "    ii = 0\n",
    "    for arr in print_vars:\n",
    "        texts.append(ax.text(0.2, ii, \"\", fontsize = 12))\n",
    "        ii -= 0.08*l_3\n",
    "    \n",
    "    def init():\n",
    "        line1.set_data([], [])\n",
    "        line3.set_data([], [])\n",
    "        line_cm.set_data([], [])\n",
    "        point1.set_data([], [])\n",
    "        circle1.center = (0, 0)\n",
    "        return (line1,)\n",
    "    def animate(i):\n",
    "        circle1.center = (x_0[i], y_0[i])\n",
    "        point0.set_data(x_0[i], y_0[i])\n",
    "        line1.set_data([x_0[i], x_1[i]], [y_0[i], y_1[i]])    \n",
    "        point1.set_data(x_1[i], y_1[i])\n",
    "        point_cm.set_data(x_cm[i], y_cm[i])\n",
    "        line3.set_data(x_1[:i], y_1[:i])\n",
    "        line_cm.set_data(x_cm[:i], y_cm[:i])\n",
    "        trans = Affine2D()\n",
    "        u_arrow._patch_transform = trans.scale(U[i,0] * arrow_l / u_max, arrow_w).translate(x_0[i],0)\n",
    "        for ii in range(len(texts)):\n",
    "            text = texts[ii]\n",
    "            name = print_var_names[ii]\n",
    "            arr = print_vars[ii]\n",
    "            text.set_text(\"$\" + name + \"$ = %.6f\" % arr[i])\n",
    "        return (line1,u_arrow)\n",
    "    anim = animation.FuncAnimation(fig, animate, init_func=init,\n",
    "                               frames=N, interval=20, \n",
    "                               blit=True)\n",
    "    return anim"
   ]
  }
 ],
 "metadata": {
  "kernelspec": {
   "display_name": "Python 3 (ipykernel)",
   "language": "python",
   "name": "python3"
  },
  "language_info": {
   "codemirror_mode": {
    "name": "ipython",
    "version": 3
   },
   "file_extension": ".py",
   "mimetype": "text/x-python",
   "name": "python",
   "nbconvert_exporter": "python",
   "pygments_lexer": "ipython3",
   "version": "3.9.5"
  }
 },
 "nbformat": 4,
 "nbformat_minor": 5
}
