{
 "cells": [
  {
   "cell_type": "code",
   "execution_count": null,
   "id": "7827551d",
   "metadata": {},
   "outputs": [],
   "source": [
    "import numpy as np\n",
    "import matplotlib.pyplot as plt\n",
    "from mpl_toolkits import mplot3d\n",
    "\n",
    "from numpy import logical_and as npand\n",
    "from numpy import logical_or as npor\n",
    "import matplotlib"
   ]
  },
  {
   "cell_type": "code",
   "execution_count": null,
   "id": "2993dffa",
   "metadata": {},
   "outputs": [],
   "source": [
    "from sympy import (symbols, pi, I, E, cos, sin, exp, tan, simplify, expand, factor, collect,\n",
    "                   apart, cancel, expand_trig, diff, Derivative, Function, integrate, limit,\n",
    "                   series, Eq, solve, dsolve, Matrix, N, preorder_traversal, Float, solve_linear_system,\n",
    "                   eye, zeros, lambdify, Symbol,hessian, sqrt)\n",
    "from sympy.physics.mechanics import dynamicsymbols, init_vprinting"
   ]
  },
  {
   "cell_type": "code",
   "execution_count": null,
   "id": "f92656a1",
   "metadata": {},
   "outputs": [],
   "source": [
    "init_vprinting()"
   ]
  },
  {
   "cell_type": "code",
   "execution_count": null,
   "id": "fd276857",
   "metadata": {},
   "outputs": [],
   "source": [
    "from sympy.physics.mechanics import ReferenceFrame, Point, LagrangesMethod, Lagrangian, inertia, RigidBody, dot"
   ]
  },
  {
   "cell_type": "code",
   "execution_count": null,
   "id": "a01f6829",
   "metadata": {},
   "outputs": [],
   "source": [
    "N = ReferenceFrame('N')\n",
    "origen = Point('origen')\n",
    "origen.set_vel(N, 0)\n"
   ]
  },
  {
   "cell_type": "code",
   "execution_count": null,
   "id": "111f15d6",
   "metadata": {},
   "outputs": [],
   "source": [
    "t = symbols('t')\n",
    "t"
   ]
  },
  {
   "cell_type": "code",
   "execution_count": null,
   "id": "6481509b",
   "metadata": {},
   "outputs": [],
   "source": [
    "x, y, psi = dynamicsymbols('x y psi')\n",
    "x, y, psi"
   ]
  },
  {
   "cell_type": "code",
   "execution_count": null,
   "id": "850e7c36",
   "metadata": {},
   "outputs": [],
   "source": [
    "fi0, fi1, fi2, fi3 = dynamicsymbols('phi:4')\n",
    "fi0, fi1, fi2, fi3"
   ]
  },
  {
   "cell_type": "code",
   "execution_count": null,
   "id": "83e1522d",
   "metadata": {},
   "outputs": [],
   "source": [
    "CM = origen.locatenew('CM', x*N.x + y*N.y)\n",
    "CM.set_vel(N, CM.pos_from(origen).dt(N))"
   ]
  },
  {
   "cell_type": "code",
   "execution_count": null,
   "id": "22acb2a8",
   "metadata": {},
   "outputs": [],
   "source": [
    "B = N.orientnew('B', 'Axis', (psi, N.z))"
   ]
  },
  {
   "cell_type": "code",
   "execution_count": null,
   "id": "8826f16a",
   "metadata": {},
   "outputs": [],
   "source": [
    "m_r, m_w, i_r, i_w, l0, l1, r = symbols('m_r m_w i_r i_w l0 l1 r')"
   ]
  },
  {
   "cell_type": "code",
   "execution_count": null,
   "id": "316d76eb",
   "metadata": {},
   "outputs": [],
   "source": [
    "I_r = inertia(B, 0, 0, i_r)\n",
    "body = RigidBody('Body', CM, B, m_r, (I_r,CM))"
   ]
  },
  {
   "cell_type": "code",
   "execution_count": null,
   "id": "c5135b17",
   "metadata": {},
   "outputs": [],
   "source": [
    "wheel_params = [\n",
    "    [45,  l0,  l1, fi0],\n",
    "    [-45, l0, -l1, fi1],\n",
    "    [-45, -l0, l1, fi2],\n",
    "    [45, -l0, -l1, fi3]\n",
    "]"
   ]
  },
  {
   "cell_type": "code",
   "execution_count": null,
   "id": "0fd92373",
   "metadata": {},
   "outputs": [],
   "source": [
    "wheel_axes = []\n",
    "wheel_centers = []\n",
    "I_w = inertia(B, 0, i_w, 0)\n",
    "wheel_bodies = []\n",
    "for ii in range(4):\n",
    "    wheel_axis = B.orientnew(f'W{ii}', 'Axis', (wheel_params[ii][3], B.y))\n",
    "    wheel_axes.append(wheel_axis)\n",
    "    wheel_center = CM.locatenew(f'CMW{ii}', wheel_params[ii][1]*B.x + wheel_params[ii][2]*B.y)\n",
    "    wheel_center.set_vel(N, wheel_center.v2pt_theory(CM, N, B))\n",
    "    wheel_centers.append(wheel_center)\n",
    "    wheel_body = RigidBody(f'Wheel{ii}', wheel_center, wheel_axis, 0, (I_w,wheel_center))\n",
    "    wheel_bodies.append(wheel_body)\n",
    "wheel_axes, wheel_centers, wheel_bodies"
   ]
  },
  {
   "cell_type": "code",
   "execution_count": null,
   "id": "1e7719d8",
   "metadata": {},
   "outputs": [],
   "source": [
    "lag_f = simplify(Lagrangian(N, body, *wheel_bodies))\n",
    "lag_f"
   ]
  },
  {
   "cell_type": "markdown",
   "id": "4448ba64",
   "metadata": {},
   "source": [
    "## Restrictions:"
   ]
  },
  {
   "cell_type": "code",
   "execution_count": null,
   "id": "f67709b2",
   "metadata": {},
   "outputs": [],
   "source": [
    "from optibot.symbolic import integerize"
   ]
  },
  {
   "cell_type": "code",
   "execution_count": null,
   "id": "eb0ea7dc",
   "metadata": {},
   "outputs": [],
   "source": [
    "non_hol_rest = []\n",
    "for ii in range(4):\n",
    "    angle = np.radians(wheel_params[ii][0])\n",
    "    aux_syst = B.orientnew('aux', 'Axis', (angle, B.z))\n",
    "    contact_p = wheel_centers[ii].locatenew('contact_p', -r*N.z)\n",
    "    contact_p.set_vel(N, contact_p.v2pt_theory(wheel_centers[ii], N, wheel_axes[ii]))\n",
    "    raw_restr = dot(contact_p.vel(N),aux_syst.y)\n",
    "    non_hol_rest.append(simplify(integerize((2/2**0.5)* raw_restr)))"
   ]
  },
  {
   "cell_type": "code",
   "execution_count": null,
   "id": "5d771937",
   "metadata": {},
   "outputs": [],
   "source": [
    "Matrix(non_hol_rest)"
   ]
  },
  {
   "cell_type": "markdown",
   "id": "e63a2eba",
   "metadata": {},
   "source": [
    "## Lagrange system"
   ]
  },
  {
   "cell_type": "code",
   "execution_count": null,
   "id": "c05f81b4",
   "metadata": {},
   "outputs": [],
   "source": [
    "FL = []\n",
    "for ii in range(4):\n",
    "    u = symbols(f'u{ii}')\n",
    "    FL.append((wheel_axes[ii], u*B.y))"
   ]
  },
  {
   "cell_type": "code",
   "execution_count": null,
   "id": "5af91a44",
   "metadata": {},
   "outputs": [],
   "source": [
    "LM = LagrangesMethod(lag_f, [x, y, psi, fi0, fi1, fi2, fi3] , forcelist=FL, frame=N, nonhol_coneqs=non_hol_rest)"
   ]
  },
  {
   "cell_type": "code",
   "execution_count": null,
   "id": "0a376800",
   "metadata": {},
   "outputs": [],
   "source": [
    "LM.form_lagranges_equations()"
   ]
  },
  {
   "cell_type": "code",
   "execution_count": null,
   "id": "0ab09446",
   "metadata": {},
   "outputs": [],
   "source": [
    "M = LM.mass_matrix[:,:7]\n",
    "M_in = M[:3,:3]\n",
    "M_de = M[3:,3:]\n",
    "M, M_in, M_de"
   ]
  },
  {
   "cell_type": "code",
   "execution_count": null,
   "id": "0aaad467",
   "metadata": {},
   "outputs": [],
   "source": [
    "phi_q = LM.lam_coeffs\n",
    "phi_q_in = phi_q[:,:3]\n",
    "phi_q_de = phi_q[:,3:]\n",
    "phi_q, phi_q_in, phi_q_de"
   ]
  },
  {
   "cell_type": "code",
   "execution_count": null,
   "id": "3e0613e1",
   "metadata": {},
   "outputs": [],
   "source": [
    "Q = LM.forcing\n",
    "Q_in = Matrix(Q[:3])\n",
    "Q_de = Matrix(Q[3:])\n",
    "Q, Q_in, Q_de"
   ]
  },
  {
   "cell_type": "code",
   "execution_count": null,
   "id": "64fc6fb8",
   "metadata": {},
   "outputs": [],
   "source": [
    "q_dot = LM.q.diff(t)\n",
    "q_dot"
   ]
  },
  {
   "cell_type": "code",
   "execution_count": null,
   "id": "fbe7ebc2",
   "metadata": {},
   "outputs": [],
   "source": [
    "q_dotdot = q_dot.diff(t)\n",
    "q_dotdot"
   ]
  },
  {
   "cell_type": "code",
   "execution_count": null,
   "id": "34c525e9",
   "metadata": {},
   "outputs": [],
   "source": [
    "q_dot_in = Matrix(q_dot[:3])\n",
    "q_dotdot_in = Matrix(q_dotdot[:3])\n",
    "q_dot_in, q_dotdot_in"
   ]
  },
  {
   "cell_type": "code",
   "execution_count": null,
   "id": "d0b03952",
   "metadata": {},
   "outputs": [],
   "source": [
    "phi_q_de_inv = simplify(phi_q_de.pinv())\n",
    "phi_q_de_inv"
   ]
  },
  {
   "cell_type": "code",
   "execution_count": null,
   "id": "2535ceeb",
   "metadata": {},
   "outputs": [],
   "source": [
    "R = simplify(- phi_q_de_inv @ phi_q_in)\n",
    "R"
   ]
  },
  {
   "cell_type": "code",
   "execution_count": null,
   "id": "538df74a",
   "metadata": {},
   "outputs": [],
   "source": [
    "R_dot = R.diff(t)\n",
    "R_dot"
   ]
  },
  {
   "cell_type": "code",
   "execution_count": null,
   "id": "9e906020",
   "metadata": {},
   "outputs": [],
   "source": [
    "phi_q_de_inv@phi_q_de.diff(t)@R+phi_q_de_inv@phi_q_in.diff(t)"
   ]
  },
  {
   "cell_type": "code",
   "execution_count": null,
   "id": "21582cf2",
   "metadata": {},
   "outputs": [],
   "source": [
    "q_dot_de = R@q_dot_in\n",
    "q_dot_de"
   ]
  },
  {
   "cell_type": "code",
   "execution_count": null,
   "id": "a4f14075",
   "metadata": {},
   "outputs": [],
   "source": [
    "H = simplify(M_in + R.T @ M_de @ R)\n",
    "H"
   ]
  },
  {
   "cell_type": "code",
   "execution_count": null,
   "id": "0806fa65",
   "metadata": {},
   "outputs": [],
   "source": [
    "K = simplify(R.T @ M_de @ R_dot)\n",
    "K"
   ]
  },
  {
   "cell_type": "code",
   "execution_count": null,
   "id": "2580edd2",
   "metadata": {},
   "outputs": [],
   "source": [
    "Fa = simplify(Q_in + R.T@Q_de)\n",
    "Fa"
   ]
  },
  {
   "cell_type": "code",
   "execution_count": null,
   "id": "a6f50e3c",
   "metadata": {},
   "outputs": [],
   "source": [
    "q_dotdot_in_expr = simplify(H.pinv() @ (Fa - K@q_dot_in))\n",
    "q_dotdot_in_expr"
   ]
  },
  {
   "cell_type": "code",
   "execution_count": null,
   "id": "47cde785",
   "metadata": {},
   "outputs": [],
   "source": [
    "q_dotdot_de_expr = simplify(R_dot @ q_dot_in + R @ q_dotdot_in_expr)\n",
    "q_dotdot_de_expr"
   ]
  },
  {
   "cell_type": "code",
   "execution_count": null,
   "id": "01bbb73e",
   "metadata": {},
   "outputs": [],
   "source": [
    "lambda_vec = simplify(phi_q_de_inv@(Q_de- M_de@q_dotdot_de_expr))\n",
    "lambda_vec"
   ]
  },
  {
   "cell_type": "code",
   "execution_count": null,
   "id": "239e6b6f",
   "metadata": {},
   "outputs": [],
   "source": [
    "len(LM.coneqs)"
   ]
  },
  {
   "cell_type": "code",
   "execution_count": null,
   "id": "0be20074",
   "metadata": {},
   "outputs": [],
   "source": [
    "class SimpLagrangesMethod():\n",
    "    def __init__(self, Lagrangian, qs, forcelist=None, bodies=None, frame=None,\n",
    "                 hol_coneqs=None, nonhol_coneqs=None, simplif=True, print_status=True):\n",
    "        \n",
    "        self.print_status = print_status\n",
    "        self.LM = LagrangesMethod(Lagrangian, qs, forcelist, bodies, frame, hol_coneqs, nonhol_coneqs)\n",
    "        if print_status: print('Generating Lagrange Equations')\n",
    "        self.LM.form_lagranges_equations()\n",
    "        \n",
    "        n = len(qs)\n",
    "        t = symbols('t')\n",
    "        self.M = self.LM.mass_matrix[:,:n]\n",
    "        self.Q = self.LM.forcing\n",
    "        self.q_dot = self.LM.q.diff(t)\n",
    "        self.forcelist = forcelist\n",
    "        self.coneqs = self.LM.coneqs\n",
    "        \n",
    "        #print(self.coneqs,len(self.coneqs))\n",
    "        if len(self.coneqs)> 0:\n",
    "            m = len(self.coneqs)\n",
    "            n_ind = n-m\n",
    "\n",
    "            self.M = self.LM.mass_matrix[:,:n]\n",
    "            self.M_in = self.M[:n_ind,:n_ind]\n",
    "            self.M_de = self.M[n_ind:,n_ind:]\n",
    "\n",
    "            self.phi_q = self.LM.lam_coeffs\n",
    "            self.phi_q_in = self.phi_q[:,:n_ind]\n",
    "            self.phi_q_de = self.phi_q[:,n_ind:]\n",
    "\n",
    "            self.Q_in = Matrix(self.Q[:n_ind])\n",
    "            self.Q_de = Matrix(self.Q[n_ind:])\n",
    "\n",
    "            self.q_dot_in = Matrix(self.q_dot[:n_ind])\n",
    "\n",
    "            if print_status: print('Generating and simplifiying Phi_q_de_inv')\n",
    "            self.phi_q_de_inv = simplify(self.phi_q_de.pinv())\n",
    "            if print_status: print('Generating and simplifiying R')\n",
    "            self.R = simplify(- self.phi_q_de_inv @ self.phi_q_in)\n",
    "            self.R_dot = self.R.diff(t)\n",
    "            self.q_dot_de = self.R@self.q_dot_in\n",
    "            if print_status: print('Generating and simplifiying H')\n",
    "            self.H = simplify(self.M_in + self.R.T @ self.M_de @ self.R)\n",
    "            if print_status: print('Generating and simplifiying K')\n",
    "            self.K = simplify(self.R.T @ self.M_de @ self.R_dot)\n",
    "            if print_status: print('Generating and simplifiying Fa')\n",
    "            self.Fa = simplify(self.Q_in + self.R.T@self.Q_de)\n",
    "            if print_status: print('Generating and simplifiying reduced q_dot_dot')\n",
    "            self.q_dotdot_in_expr = simplify(self.H.pinv() @ (self.Fa - self.K@self.q_dot_in))\n",
    "            if print_status: print('Reduced model completed')\n",
    "            self.RHS_reduced = Matrix(list(self.q_dot_in)+list(self.q_dotdot_in_expr))\n",
    "        else:\n",
    "            if print_status: print('Generating and simplifiying reduced q_dot_dot')\n",
    "            self.q_dotdot_expr = simplify(self.M.pinv() @ self.Q)\n",
    "            if print_status: print('Reduced model completed')\n",
    "            self.RHS = Matrix(list(self.q_dot)+list(self.q_dotdot_expr))\n",
    "    def calculate_RHS(self):\n",
    "        if not hasattr(self, 'RHS'):\n",
    "            if self.print_status: print('Generating and simplifiying Right Hand Side')\n",
    "            self.q_dotdot_de_expr = simplify(self.R_dot @ self.q_dot_in + self.R @ self.q_dotdot_in_expr)\n",
    "            self.RHS = Matrix(list(self.q_dot)+list(self.q_dotdot_in_expr)+list(self.q_dotdot_de_expr))\n",
    "        return self.RHS\n",
    "    def calculate_lambda_vec(self):\n",
    "        if not hasattr(self, 'lambda_vec'):\n",
    "            if len(self.coneqs) == 0:\n",
    "                self.lambda_vec = []\n",
    "            else:\n",
    "                if self.print_status: print('Generating and simplifiying Lambdas vector')\n",
    "                self.lambda_vec = simplify(self.phi_q_de_inv@(self.Q_de- self.M_de@self.q_dotdot_de_expr))\n",
    "        return self.lambda_vec\n",
    "    def calculate_RHS_full(self):\n",
    "        if not hasattr(self, 'RHS_full'):\n",
    "            if not hasattr(self, 'RHS'): self.calculate_RHS()\n",
    "            if not hasattr(self, 'lambda_vec'): self.calculate_lambda_vec()\n",
    "            self.RHS_full = Matrix(list(self.RHS)+list(self.lambda_vec))\n",
    "        return self.RHS_full"
   ]
  },
  {
   "cell_type": "code",
   "execution_count": null,
   "id": "178dd225",
   "metadata": {},
   "outputs": [],
   "source": [
    "LM_simp = SimpLagrangesMethod(lag_f, [x, y, psi, fi0, fi1, fi2, fi3] ,\n",
    "                              forcelist=FL, frame=N, nonhol_coneqs=non_hol_rest)"
   ]
  },
  {
   "cell_type": "code",
   "execution_count": null,
   "id": "458867c8",
   "metadata": {},
   "outputs": [],
   "source": [
    "LM_simp.RHS_reduced"
   ]
  },
  {
   "cell_type": "code",
   "execution_count": null,
   "id": "8cb8ff80",
   "metadata": {},
   "outputs": [],
   "source": [
    "LM_simp.calculate_RHS_full()"
   ]
  },
  {
   "cell_type": "code",
   "execution_count": null,
   "id": "b83f75cf",
   "metadata": {},
   "outputs": [],
   "source": [
    "LM_simp_no_const = SimpLagrangesMethod(lag_f, [x, y, psi, fi0, fi1, fi2, fi3] ,\n",
    "                              forcelist=FL, frame=N, nonhol_coneqs=None)"
   ]
  },
  {
   "cell_type": "code",
   "execution_count": null,
   "id": "1b9f2bcf",
   "metadata": {},
   "outputs": [],
   "source": [
    "LM_simp_no_const.calculate_RHS_full()"
   ]
  },
  {
   "cell_type": "code",
   "execution_count": null,
   "id": "426302cb",
   "metadata": {},
   "outputs": [],
   "source": []
  },
  {
   "cell_type": "code",
   "execution_count": null,
   "id": "d8d1fd04",
   "metadata": {},
   "outputs": [],
   "source": []
  },
  {
   "cell_type": "code",
   "execution_count": null,
   "id": "ea3cc3a2",
   "metadata": {},
   "outputs": [],
   "source": []
  },
  {
   "cell_type": "code",
   "execution_count": null,
   "id": "c6363a2f",
   "metadata": {},
   "outputs": [],
   "source": []
  },
  {
   "cell_type": "code",
   "execution_count": null,
   "id": "482b3f21",
   "metadata": {},
   "outputs": [],
   "source": []
  },
  {
   "cell_type": "code",
   "execution_count": null,
   "id": "a9047ca5",
   "metadata": {},
   "outputs": [],
   "source": []
  },
  {
   "cell_type": "code",
   "execution_count": null,
   "id": "12c202ab",
   "metadata": {},
   "outputs": [],
   "source": []
  },
  {
   "cell_type": "code",
   "execution_count": null,
   "id": "fa157341",
   "metadata": {},
   "outputs": [],
   "source": [
    "res = LM.rhs()"
   ]
  },
  {
   "cell_type": "code",
   "execution_count": null,
   "id": "756aab30",
   "metadata": {},
   "outputs": [],
   "source": [
    "big_mat = LM.mass_matrix_full[7:, 7:]\n",
    "big_mat"
   ]
  },
  {
   "cell_type": "code",
   "execution_count": null,
   "id": "04df580e",
   "metadata": {},
   "outputs": [],
   "source": [
    "big_mat_num = big_mat.subs([\n",
    "    [m, 15.75],\n",
    "    [l0, 0.2096],\n",
    "    [l1, 0.2096],\n",
    "    [i_r, 0.461],\n",
    "    [i_w, 0.00266],\n",
    "    [r, 0.0667]\n",
    "])\n",
    "big_mat_num"
   ]
  },
  {
   "cell_type": "code",
   "execution_count": null,
   "id": "03cfad20",
   "metadata": {},
   "outputs": [],
   "source": [
    "big_mat_num.pinv()"
   ]
  },
  {
   "cell_type": "code",
   "execution_count": null,
   "id": "a1bc2c1c",
   "metadata": {},
   "outputs": [],
   "source": []
  }
 ],
 "metadata": {
  "kernelspec": {
   "display_name": "Python 3",
   "language": "python",
   "name": "python3"
  },
  "language_info": {
   "codemirror_mode": {
    "name": "ipython",
    "version": 3
   },
   "file_extension": ".py",
   "mimetype": "text/x-python",
   "name": "python",
   "nbconvert_exporter": "python",
   "pygments_lexer": "ipython3",
   "version": "3.9.5"
  }
 },
 "nbformat": 4,
 "nbformat_minor": 5
}
