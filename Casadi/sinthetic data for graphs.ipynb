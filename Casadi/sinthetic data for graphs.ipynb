{
 "cells": [
  {
   "cell_type": "code",
   "execution_count": 1,
   "id": "11d83bd4",
   "metadata": {},
   "outputs": [],
   "source": [
    "import numpy as np\n",
    "import matplotlib.pyplot as plt"
   ]
  },
  {
   "cell_type": "code",
   "execution_count": 2,
   "id": "39b3fd43",
   "metadata": {},
   "outputs": [],
   "source": [
    "from sympy import (symbols, simplify, Matrix, diff, lambdify)\n",
    "from sympy.physics.mechanics import dynamicsymbols, init_vprinting\n",
    "from sympy.physics.mechanics import Lagrangian, ReferenceFrame, Point, Particle,inertia, RigidBody\n",
    "\n",
    "from chords.symbolic import lagrange, diff_to_symb, SimpLagrangesMethod\n",
    "from chords.numpy import unpack\n",
    "from chords.symbolic import LagrangesMethod"
   ]
  },
  {
   "cell_type": "code",
   "execution_count": 3,
   "id": "0fc506d4",
   "metadata": {},
   "outputs": [],
   "source": [
    "from functools import lru_cache\n",
    "from copy import copy"
   ]
  },
  {
   "cell_type": "code",
   "execution_count": 4,
   "id": "a8a07263",
   "metadata": {},
   "outputs": [],
   "source": [
    "from chords.symbolic import printer_function\n",
    "np_print = printer_function('np')"
   ]
  },
  {
   "cell_type": "code",
   "execution_count": 5,
   "id": "69a19637",
   "metadata": {},
   "outputs": [],
   "source": [
    "problem_name = 'Sinthetic Data'"
   ]
  },
  {
   "cell_type": "code",
   "execution_count": 6,
   "id": "d6364722",
   "metadata": {},
   "outputs": [],
   "source": [
    "#SymPy vector-like latex rendering inizialization:\n",
    "\n",
    "init_vprinting()"
   ]
  },
  {
   "cell_type": "code",
   "execution_count": 7,
   "id": "4e9f673d",
   "metadata": {},
   "outputs": [],
   "source": [
    "def integrate_hs_step(x0, xd0, xdc, xd1, h):\n",
    "    return x0 + h * (xd0 + 4*xdc + xd1)/6\n",
    "\n",
    "def integrate_hs(x0, xd_arr, xdc_arr, h):\n",
    "    x_arr = [x0,]\n",
    "    for ii in range(xd_arr.shape[0]-1):\n",
    "        x_current = x_arr[-1]\n",
    "        x_arr.append(\n",
    "            integrate_hs_step(x_current, xd_arr[ii], xdc_arr[ii], xd_arr[ii+1], h)\n",
    "        )\n",
    "    return np.array(x_arr)\n",
    "\n",
    "def hs_central_points(x_arr, x_d_arr, h):\n",
    "    x = x_arr[:-1]\n",
    "    x_n = x_arr[1:]\n",
    "    x_d = x_d_arr[:-1]\n",
    "    x_d_n = x_d_arr[1:]\n",
    "    \n",
    "    x_c = (x + x_n) / 2 + h / 8 * (x_d - x_d_n)\n",
    "    \n",
    "    return x_c"
   ]
  },
  {
   "cell_type": "code",
   "execution_count": 8,
   "id": "c6de7b1e",
   "metadata": {},
   "outputs": [],
   "source": [
    "def integ_2_3(q, q_c, qd0, qdd0, qddd0, h):\n",
    "    \n",
    "    qd = np.zeros_like(q)\n",
    "    qd_c = np.zeros_like(q_c)\n",
    "    qdd = np.zeros_like(q)\n",
    "    qdd_c = np.zeros_like(q_c)\n",
    "    qddd = np.zeros_like(q)\n",
    "    qddd_c = np.zeros_like(q_c)\n",
    "    \n",
    "    N = q.shape[0]\n",
    "    qd[0] = qd0\n",
    "    qdd[0] = qdd0\n",
    "    qddd[0] = qddd0\n",
    "    \n",
    "    for ii in range(N-1):\n",
    "        a = q[ii]\n",
    "        b = q_c[ii]\n",
    "        c = q[ii+1]\n",
    "        \n",
    "        d = 2*(3*a - 4*b + c + h*qd[ii])/h**3\n",
    "        e = (-4*a + 8*b - 4*c + 3*d*h**3 + h**2*qdd[ii])/h**4\n",
    "        f = (1/3)*(-6*d + 9*e*h + qddd[ii])/h**2\n",
    "        \n",
    "        qd_c[ii] = -a/h + c/h - 1/4*d*h**2 - 1/8*e*h**3 - 1/16*f*h**4\n",
    "        qd[ii+1] = a/h - 4*b/h + 3*c/h + (1/2)*d*h**2 + (1/2)*e*h**3 + (1/2)*f*h**4\n",
    "        \n",
    "        qdd_c[ii] = 4*a/h**2 - 8*b/h**2 + 4*c/h**2 - 1/2*e*h**2 - 1/2*f*h**3\n",
    "        qdd[ii+1] = 4*a/h**2 - 8*b/h**2 + 4*c/h**2 + 3*d*h + 4*e*h**2 + 5*f*h**3\n",
    "        \n",
    "        qddd_c[ii] = 6*d + 3*e*h\n",
    "        qddd[ii+1] = 6*d + 15*e*h + 27*f*h**2\n",
    "        \n",
    "    return qd, qd_c, qdd, qdd_c, qddd, qddd_c"
   ]
  },
  {
   "cell_type": "code",
   "execution_count": 9,
   "id": "39e3f509",
   "metadata": {},
   "outputs": [],
   "source": [
    "from chords.piecewise import get_x_divisions, itemequal, reunite_matrix\n",
    "from math import factorial as fac\n",
    "\n",
    "def generate_hs_m_funcs(order):\n",
    "    M = order  # in order to keep the paper naming\n",
    "    q_coefs = np.zeros(order)\n",
    "    for i in range(order):\n",
    "        q_coefs[i] = 1 / fac(i)\n",
    "    q_coefs_c = np.zeros(order - 1)\n",
    "    for i in range(order - 1):\n",
    "        q_coefs_c[i] = 1 / (2**i * fac(i))\n",
    "    g_coefs = np.zeros(order + 1)\n",
    "    g_coefs_c = np.zeros([order + 1, 5])\n",
    "    for l in range(1, order + 1):\n",
    "        g_coefs[l] = fac(l + 2)\n",
    "        g_coefs_c[l, 0] = 2**l * fac(l) * (l + 2)\n",
    "        g_coefs_c[l, 1] = 2 * l**2 + 4 * l - 3\n",
    "        g_coefs_c[l, 2] = 2 ** (l + 1) * fac(l + 2)\n",
    "        g_coefs_c[l, 3] = 2 * l**2 + 2 * l - 1\n",
    "        g_coefs_c[l, 4] = -2 * l - 1\n",
    "\n",
    "    def hs_m_half_x(x, x_n, a, a_n, dt):\n",
    "        x_c = copy(x)\n",
    "        x_list = get_x_divisions(x, order)\n",
    "        x_n_list = get_x_divisions(x_n, order)\n",
    "        x_c_list = get_x_divisions(x_c, order)\n",
    "        v = x_list[-1]  # V represents here the highest q derivative contained in x\n",
    "        v_n = x_n_list[-1]\n",
    "        for l in range(1, M + 1):\n",
    "            _t = dt ** (l - 1) / g_coefs_c[l, 0] * (\n",
    "                3 * v_n + g_coefs_c[l, 1] * v\n",
    "            ) + dt**l / g_coefs_c[l, 2] * (\n",
    "                g_coefs_c[l, 3] * a + g_coefs_c[l, 4] * a_n\n",
    "            )\n",
    "            itemequal(x_c_list[M - l], _t)\n",
    "            for i in range(l - 1):\n",
    "                _t = x_c_list[M - l] + dt**i * q_coefs_c[i] * x_list[i + M - l]\n",
    "                itemequal(x_c_list[M - l], _t)\n",
    "        reunite_matrix(x_c, x_c_list, order)\n",
    "        return x_c\n",
    "\n",
    "    def hs_m_xn(x, a, a_n, dt, a_c):\n",
    "        res = copy(x)\n",
    "        x_list = get_x_divisions(x, order)\n",
    "        res_list = get_x_divisions(res, order)\n",
    "        for l in range(1, M + 1):\n",
    "            _t = dt**l / g_coefs[l] * (l**2 * a + 4 * l * a_c + (2 - l) * a_n)\n",
    "            itemequal(res_list[M - l], _t)\n",
    "            for i in range(l):\n",
    "                _t = res_list[M - l] + dt**i * q_coefs[i] * x_list[i + M - l]\n",
    "                itemequal(res_list[M - l], _t)\n",
    "        reunite_matrix(res, res_list, order)\n",
    "        return res\n",
    "\n",
    "    return hs_m_half_x, hs_m_xn\n",
    "\n",
    "def hs_integ(x0, a_arr, a_c_arr, dt):\n",
    "    \n",
    "    if len(a_arr.shape) == 2:\n",
    "        n_q = a_arr.shape[1]\n",
    "    elif len(a_arr.shape) == 1:\n",
    "        n_q = 1\n",
    "    else:\n",
    "        raise ValueError\n",
    "        \n",
    "    order = x0.shape[-1] // n_q\n",
    "    \n",
    "    hs_m_half_x, hs_m_xn = generate_hs_m_funcs(order)\n",
    "    \n",
    "    N = a_arr.shape[0]\n",
    "    \n",
    "    x_arr = np.zeros([N, order*n_q])\n",
    "    x_d_arr = np.zeros([N, order*n_q])\n",
    "    x_c_arr = np.zeros([N-1, order*n_q])\n",
    "    x_d_c_arr = np.zeros([N-1, order*n_q])\n",
    "    \n",
    "    x_arr[0] = x0\n",
    "    \n",
    "    for ii in range(N-1):\n",
    "        x_s = x_arr[ii]\n",
    "        a_s = a_arr[ii]\n",
    "        a_n = a_arr[ii+1]\n",
    "        a_c = a_c_arr[ii]\n",
    "        \n",
    "        x_n = hs_m_xn(x_s, a_s, a_n, dt, a_c)\n",
    "        x_c = hs_m_half_x(x_s, x_n, a_s, a_n, dt)\n",
    "        \n",
    "        x_arr[ii+1] = x_n\n",
    "        x_c_arr[ii] = x_c\n",
    "    \n",
    "    x_d_arr[:,-n_q:] = a_arr\n",
    "    x_d_c_arr[:,-n_q:] = a_c_arr\n",
    "    \n",
    "    x_d_arr[:,:-n_q] = x_arr[:,n_q:]\n",
    "    x_d_c_arr[:,:-n_q] = x_c_arr[:,n_q:]\n",
    "    \n",
    "    return x_arr, x_c_arr, x_d_arr, x_d_c_arr"
   ]
  },
  {
   "cell_type": "code",
   "execution_count": 10,
   "id": "9f0b336e",
   "metadata": {},
   "outputs": [],
   "source": [
    "def get_jerk_impulse(v, v_c, h=1):\n",
    "    \n",
    "    # first segment, end slope:\n",
    "    a1 = v[:-2, :]\n",
    "    b1 = v_c[:-1, :]\n",
    "    c1 = v[1:-1, :]\n",
    "\n",
    "    s1 = a1 - 4*b1 + 3*c1\n",
    "\n",
    "    # second segment, start slope:\n",
    "\n",
    "    a2 = v[1:-1, :]\n",
    "    b2 = v_c[1:, :]\n",
    "    c2 = v[2:, :]\n",
    "\n",
    "    s2 = -3*a2 + 4*b2 - c2\n",
    "\n",
    "    jump = (s2-s1)/h\n",
    "    return jump\n",
    "\n",
    "def end_parab_slope(v, v_c, h=1):\n",
    "    \n",
    "    # first segment, end slope:\n",
    "    a1 = v[:-2, :]\n",
    "    b1 = v_c[:-1, :]\n",
    "    c1 = v[1:-1, :]\n",
    "\n",
    "    s1 = a1 - 4*b1 + 3*c1\n",
    "    \n",
    "    return s1/h\n",
    "        \n",
    "def get_jerk_heights(v, v_c, h=1):\n",
    "    # first segment, :\n",
    "    a = v[:-2, :]\n",
    "    b = v_c[:-1, :]\n",
    "    c = v[1:-1, :]\n",
    "\n",
    "    j = 4*(a - 2*b + c)/(h**2)\n",
    "    return j"
   ]
  },
  {
   "cell_type": "code",
   "execution_count": 11,
   "id": "ba03d60e",
   "metadata": {},
   "outputs": [],
   "source": [
    "from chords.opti import Opti_Problem\n",
    "from chords.analysis import interpolation, dynamic_errors\n",
    "import time\n",
    "from functools import lru_cache\n",
    "from chords.numpy import store_results"
   ]
  },
  {
   "cell_type": "code",
   "execution_count": 12,
   "id": "49650c0b",
   "metadata": {},
   "outputs": [],
   "source": [
    "from casadi import sum1, sum2"
   ]
  },
  {
   "cell_type": "code",
   "execution_count": 13,
   "id": "538b1360",
   "metadata": {},
   "outputs": [],
   "source": [
    "from chords.util import (sch_to_lab, sch_to_color, sch_to_long_label, scheme_kwargs, oct_fig_size, \n",
    "                         set_fonts, save_fig, plot_by_segments)\n",
    "from chords.casadi import implicit_dynamic_x_to_casadi_function, sympy2casadi\n",
    "from chords.piecewise import interp_2d\n",
    "\n",
    "set_fonts()"
   ]
  },
  {
   "cell_type": "code",
   "execution_count": 14,
   "id": "597293b9",
   "metadata": {},
   "outputs": [],
   "source": [
    "\n",
    "from chords.piecewise import interpolated_array, interpolated_array_derivative"
   ]
  },
  {
   "cell_type": "code",
   "execution_count": 15,
   "id": "2e0a8ee9",
   "metadata": {},
   "outputs": [],
   "source": [
    "def plot_colloc_points(scheme, _res):\n",
    "    N = len(_res[\"t\"])\n",
    "    plt.plot([],\n",
    "        [],\n",
    "        \"ok\",\n",
    "        ms=5,\n",
    "        label=\"knot & collocation points\",\n",
    "    )\n",
    "    if \"hs\" in scheme:\n",
    "        plt.plot(\n",
    "            [],\n",
    "            [],\n",
    "            \"ow\",\n",
    "            ms=5,\n",
    "            markeredgecolor=\"k\",\n",
    "            label=\"collocation points\",\n",
    "        )"
   ]
  },
  {
   "cell_type": "markdown",
   "id": "0b52a004",
   "metadata": {},
   "source": [
    "# Generación de Datos"
   ]
  },
  {
   "cell_type": "markdown",
   "id": "7f442c8b",
   "metadata": {},
   "source": [
    "### HS scheme: Order 1"
   ]
  },
  {
   "cell_type": "code",
   "execution_count": 29,
   "id": "d6c1c7d7",
   "metadata": {},
   "outputs": [],
   "source": [
    "q0 = np.array([0.])"
   ]
  },
  {
   "cell_type": "code",
   "execution_count": 147,
   "id": "fb27fb76",
   "metadata": {},
   "outputs": [],
   "source": [
    "qd_ej = np.array([\n",
    "    [0.5,],\n",
    "    [1,],\n",
    "    [0.,],\n",
    "])\n",
    "qd_c_ej = np.array([\n",
    "    [-1.,],\n",
    "    [0.7,],\n",
    "])"
   ]
  },
  {
   "cell_type": "code",
   "execution_count": 148,
   "id": "965cadb5",
   "metadata": {},
   "outputs": [
    {
     "data": {
      "text/plain": [
       "(array([[0.5],\n",
       "        [1. ],\n",
       "        [0. ]]),\n",
       " array([[-1. ],\n",
       "        [ 0.7]]))"
      ]
     },
     "execution_count": 148,
     "metadata": {},
     "output_type": "execute_result"
    }
   ],
   "source": [
    "qd_ej, qd_c_ej"
   ]
  },
  {
   "cell_type": "code",
   "execution_count": 149,
   "id": "a72c1e75",
   "metadata": {},
   "outputs": [
    {
     "data": {
      "text/plain": [
       "(array([[ 0.        ],\n",
       "        [-0.41666667],\n",
       "        [ 0.21666667]]),\n",
       " array([[-0.27083333],\n",
       "        [ 0.025     ]]))"
      ]
     },
     "execution_count": 149,
     "metadata": {},
     "output_type": "execute_result"
    }
   ],
   "source": [
    "q = integrate_hs(\n",
    "    x0= q0,\n",
    "    xd_arr=qd_ej,\n",
    "    xdc_arr=qd_c_ej,\n",
    "    h = 1\n",
    ")\n",
    "\n",
    "q_c = hs_central_points(\n",
    "    x_arr= q, \n",
    "    x_d_arr=qd_ej,\n",
    "    h=1\n",
    ")\n",
    "q, q_c"
   ]
  },
  {
   "cell_type": "markdown",
   "id": "940daf74",
   "metadata": {},
   "source": [
    "qd, qd_c, qdd, qdd_c, qddd, qddd_c = integ_2_3(\n",
    "    q = q,\n",
    "    q_c = q_c,\n",
    "    qd0 = qd_ej[0],\n",
    "    qdd0 = np.array([5.]),\n",
    "    qddd0 = np.array([10.]),\n",
    "    h = 1,\n",
    ")"
   ]
  },
  {
   "cell_type": "markdown",
   "id": "13b50046",
   "metadata": {},
   "source": [
    "np.round(qdd_c, 2), np.round(qdd, 2)"
   ]
  },
  {
   "cell_type": "markdown",
   "id": "78ad01de",
   "metadata": {},
   "source": [
    "np.round(qddd_c, 2), np.round(qddd, 2)"
   ]
  },
  {
   "cell_type": "markdown",
   "id": "eab154be",
   "metadata": {},
   "source": [
    "(integrate_hs(\n",
    "    x0= np.array([5.]),\n",
    "    xd_arr=qddd,\n",
    "    xdc_arr=qddd_c,\n",
    "    h = 1\n",
    "), \n",
    "hs_central_points(\n",
    "    x_arr= qdd, \n",
    "    x_d_arr=qddd,\n",
    "    h=1\n",
    "))"
   ]
  },
  {
   "cell_type": "markdown",
   "id": "449340cb",
   "metadata": {},
   "source": [
    "x = np.concatenate((q, qd, qdd), axis=1)\n",
    "xd = np.concatenate((qd, qdd, qddd), axis=1)\n",
    "x_c = np.concatenate((q_c, qd_c, qdd_c), axis=1)\n",
    "xd_c = np.concatenate((qd_c, qdd_c, qdd_c), axis=1)\n",
    "\n",
    "np.round(x), np.round(xd), np.round(x_c), np.round(xd_c)"
   ]
  },
  {
   "cell_type": "code",
   "execution_count": 221,
   "id": "57880249",
   "metadata": {},
   "outputs": [
    {
     "data": {
      "text/plain": [
       "(array([[ 0.        ,  0.5       ,  0.        ],\n",
       "        [-0.41666667,  1.        , -0.41666667],\n",
       "        [ 0.21666667,  0.        ,  0.21666667]]),\n",
       " array([[ 0.5       ,  0.        ,  0.5       ],\n",
       "        [ 1.        , -0.41666667,  1.        ],\n",
       "        [ 0.        ,  0.21666667,  0.        ]]),\n",
       " array([[-0.27083333, -1.        , -0.27083333],\n",
       "        [ 0.025     ,  0.7       ,  0.025     ]]),\n",
       " array([[-1.        , -0.27083333, -1.        ],\n",
       "        [ 0.7       ,  0.025     ,  0.7       ]]))"
      ]
     },
     "execution_count": 221,
     "metadata": {},
     "output_type": "execute_result"
    }
   ],
   "source": [
    "x_1 = np.concatenate((q, qd_ej, q), axis=1)\n",
    "xd_1 = np.concatenate((qd_ej, q, qd_ej), axis=1)\n",
    "x_c_1 = np.concatenate((q_c, qd_c_ej, q_c), axis=1)\n",
    "xd_c_1 = np.concatenate((qd_c_ej, q_c, qd_c_ej), axis=1)\n",
    "\n",
    "x_1, xd_1, x_c_1, xd_c_1"
   ]
  },
  {
   "cell_type": "markdown",
   "id": "59474312",
   "metadata": {},
   "source": [
    "### HS scheme: Order 3"
   ]
  },
  {
   "cell_type": "code",
   "execution_count": 222,
   "id": "ca63ab17",
   "metadata": {},
   "outputs": [
    {
     "data": {
      "text/plain": [
       "(array([[ 0.        ,  0.        , -0.2       ],\n",
       "        [-0.02916667,  0.05      ,  0.21666667],\n",
       "        [-0.01583333, -0.13333333, -0.41666667]]),\n",
       " array([[-0.02213542, -0.06354167,  0.07083333],\n",
       "        [ 0.00302083,  0.04166667, -0.225     ]]),\n",
       " array([[ 0.        , -0.2       , -0.5       ],\n",
       "        [ 0.05      ,  0.21666667, -1.        ],\n",
       "        [-0.13333333, -0.41666667,  0.        ]]),\n",
       " array([[-0.06354167,  0.07083333,  1.        ],\n",
       "        [ 0.04166667, -0.225     , -0.7       ]]))"
      ]
     },
     "execution_count": 222,
     "metadata": {},
     "output_type": "execute_result"
    }
   ],
   "source": [
    "x0= np.array([0.,0.,-0.2])\n",
    "qd_ej = np.array([\n",
    "    [-0.5,],\n",
    "    [-1,],\n",
    "    [0.,],\n",
    "])\n",
    "qd_c_ej = np.array([\n",
    "    [1.,],\n",
    "    [-0.7,],\n",
    "])\n",
    " \n",
    "x, x_c, xd, xd_c = hs_integ(\n",
    "    x0= x0,\n",
    "    a_arr= qd_ej,\n",
    "    a_c_arr= qd_c_ej,\n",
    "    dt= 1)\n",
    "\n",
    "\n",
    "q = x[:,:1]\n",
    "q_c = x_c[:,:1]\n",
    "qd = x[:,1:2]\n",
    "qd_c = x_c[:,1:2]\n",
    "x, x_c, xd, xd_c"
   ]
  },
  {
   "cell_type": "markdown",
   "id": "ed075c47",
   "metadata": {},
   "source": [
    "### Trapz scheme: Order 1"
   ]
  },
  {
   "cell_type": "code",
   "execution_count": 223,
   "id": "0cf9fbc8",
   "metadata": {},
   "outputs": [
    {
     "data": {
      "text/plain": [
       "(array([[ 0.  ],\n",
       "        [-0.25],\n",
       "        [-0.6 ]]),\n",
       " array([[ 0.0625],\n",
       "        [-0.5875]]))"
      ]
     },
     "execution_count": 223,
     "metadata": {},
     "output_type": "execute_result"
    }
   ],
   "source": [
    "qd_ej_t = np.array([\n",
    "    [0.5,],\n",
    "    [-1,],\n",
    "    [0.3,],\n",
    "])\n",
    "\n",
    "qd_trapz_c_t =  (qd_ej_t[:-1] + qd_ej_t[1:])/2\n",
    "q_t = integrate_hs(\n",
    "    x0= q0,\n",
    "    xd_arr=qd_ej_t,\n",
    "    xdc_arr=qd_trapz_c_t,\n",
    "    h = 1\n",
    ")\n",
    "\n",
    "q_c_t = hs_central_points(\n",
    "    x_arr= q_t, \n",
    "    x_d_arr=qd_ej_t,\n",
    "    h=1\n",
    ")\n",
    "q_t, q_c_t"
   ]
  },
  {
   "cell_type": "code",
   "execution_count": 224,
   "id": "eeb27f3f",
   "metadata": {},
   "outputs": [
    {
     "data": {
      "text/plain": [
       "(array([[ 0.  ,  0.5 ,  0.  ],\n",
       "        [-0.25, -1.  , -0.25],\n",
       "        [-0.6 ,  0.3 , -0.6 ]]),\n",
       " array([[ 0.5 ,  0.  ,  0.5 ],\n",
       "        [-1.  , -0.25, -1.  ],\n",
       "        [ 0.3 , -0.6 ,  0.3 ]]),\n",
       " array([[ 0.0625, -0.25  ,  0.0625],\n",
       "        [-0.5875, -0.35  , -0.5875]]),\n",
       " array([[-0.25  ,  0.0625, -0.25  ],\n",
       "        [-0.35  , -0.5875, -0.35  ]]))"
      ]
     },
     "execution_count": 224,
     "metadata": {},
     "output_type": "execute_result"
    }
   ],
   "source": [
    "x_1_t = np.concatenate((q_t, qd_ej_t, q_t), axis=1)\n",
    "xd_1_t = np.concatenate((qd_ej_t, q_t, qd_ej_t), axis=1)\n",
    "x_c_1_t = np.concatenate((q_c_t, qd_trapz_c_t, q_c_t), axis=1)\n",
    "xd_c_1_t = np.concatenate((qd_trapz_c_t, q_c_t, qd_trapz_c_t), axis=1)\n",
    "\n",
    "x_1_t, xd_1_t, x_c_1_t, xd_c_1_t"
   ]
  },
  {
   "cell_type": "markdown",
   "id": "62722716",
   "metadata": {},
   "source": [
    "### Trapz scheme: Order 3"
   ]
  },
  {
   "cell_type": "code",
   "execution_count": 225,
   "id": "f278badf",
   "metadata": {},
   "outputs": [
    {
     "data": {
      "text/plain": [
       "(array([[ 8.33333300e-02,  1.33333330e-01, -3.50000000e-01],\n",
       "        [ 4.58333267e-02, -1.50000003e-01, -5.55111512e-17],\n",
       "        [-9.99999999e-09,  9.99999967e-02,  2.50000000e-01]]),\n",
       " array([[ 0.10338541, -0.05208334, -0.3375    ],\n",
       "        [-0.01223959, -0.05625   ,  0.3125    ]]),\n",
       " array([[ 1.33333330e-01, -3.50000000e-01, -3.00000000e-01],\n",
       "        [-1.50000003e-01, -5.55111512e-17,  1.00000000e+00],\n",
       "        [ 9.99999967e-02,  2.50000000e-01, -5.00000000e-01]]),\n",
       " array([[-0.05208334, -0.3375    ,  0.35      ],\n",
       "        [-0.05625   ,  0.3125    ,  0.25      ]]))"
      ]
     },
     "execution_count": 225,
     "metadata": {},
     "output_type": "execute_result"
    }
   ],
   "source": [
    "x0= np.array([0.08333333, 0.13333333, -0.35 ])\n",
    "qd_ej = np.array([\n",
    "    [-0.3,],\n",
    "    [1,],\n",
    "    [-0.5,],\n",
    "])\n",
    "\n",
    "a_trapz_c =  (qd_ej[:-1] + qd_ej[1:])/2\n",
    " \n",
    "x_t, x_c_t, xd_t, xd_c_t = hs_integ(\n",
    "    x0= x0,\n",
    "    a_arr= qd_ej,\n",
    "    a_c_arr= a_trapz_c,\n",
    "    dt= 1)\n",
    "\n",
    "\n",
    "q_t = x_t[:,:1]\n",
    "q_c_t = x_c_t[:,:1]\n",
    "qd_t = x_t[:,1:2]\n",
    "qd_c_t = x_c_t[:,1:2]\n",
    "x_t, x_c_t, xd_t, xd_c_t"
   ]
  },
  {
   "cell_type": "markdown",
   "id": "5d7093d0",
   "metadata": {},
   "source": [
    "# Clasificación de datos según caso"
   ]
  },
  {
   "cell_type": "code",
   "execution_count": 235,
   "id": "8abbc085",
   "metadata": {},
   "outputs": [],
   "source": [
    "order = 1\n",
    "scheme = 'hsn_parab'#'trapz_n'#\n",
    "params =[]\n",
    "\n",
    "if 'trap' in scheme:\n",
    "    if order == 3:\n",
    "        q_sol = q_t\n",
    "        q_sol_c = q_c_t\n",
    "        x_sol = x_t\n",
    "        x_sol_c = x_c_t\n",
    "        x_sol_d = xd_t\n",
    "        x_sol_d_c = xd_c_t\n",
    "        v = qd_t\n",
    "        v_c = qd_c_t\n",
    "    else:\n",
    "        q_sol = x_1_t\n",
    "        q_sol_c = x_c_1_t\n",
    "        x_sol = x_1_t\n",
    "        x_sol_c = x_c_1_t\n",
    "        x_sol_d = xd_1_t\n",
    "        x_sol_d_c = xd_c_1_t\n",
    "        v = xd_1_t\n",
    "        v_c = xd_c_1_t\n",
    "else:\n",
    "    if order == 3:\n",
    "        q_sol = q\n",
    "        q_sol_c = q_c\n",
    "        x_sol = x\n",
    "        x_sol_c = x_c\n",
    "        x_sol_d = xd\n",
    "        x_sol_d_c = xd_c\n",
    "        v = qd\n",
    "        v_c = qd_c\n",
    "    else:\n",
    "        q_sol = x_1\n",
    "        q_sol_c = x_c_1\n",
    "        x_sol = x_1\n",
    "        x_sol_c = x_c_1\n",
    "        x_sol_d = xd_1\n",
    "        x_sol_d_c = xd_c_1\n",
    "        v = xd_1\n",
    "        v_c = xd_c_1\n",
    "    \n",
    "_res = {\n",
    "    #'N':2,\n",
    "    't':np.array([0.,1.,2.]),\n",
    "    't_c': np.array([0.5, 1.5]),\n",
    "    'x': x_sol,\n",
    "    'x_d':x_sol_d,\n",
    "    'x_c':x_sol_c,\n",
    "    'x_d_c':x_sol_d_c,\n",
    "    'q': q_sol,\n",
    "    'q_c':q_sol_c,\n",
    "    'v':v,\n",
    "    'v_c':v_c,\n",
    "    'solve_order':order,\n",
    "    'scheme_mode':'equispaced',\n",
    "    'scheme': scheme,\n",
    "    'params':params,\n",
    "    'u':v,\n",
    "    'u_c': v_c\n",
    "}\n",
    "\n",
    "if 'hs' in scheme:\n",
    "    title_scheme = 'HS-'\n",
    "else:\n",
    "    title_scheme = 'TZ-'\n",
    "    \n",
    "scheme_col = scheme\n",
    "if order == 1:\n",
    "    if 'hs' in scheme:\n",
    "        scheme_col = 'hs'\n",
    "    else:\n",
    "        scheme_col = 'trapz'\n",
    "\n",
    "color = sch_to_color(scheme_col)"
   ]
  },
  {
   "cell_type": "code",
   "execution_count": 236,
   "id": "a8ecb18a",
   "metadata": {
    "scrolled": true
   },
   "outputs": [
    {
     "data": {
      "image/png": "[encoded data removed]",
      "text/latex": [
       "$\\displaystyle \\left( 15.6, \\  7.7\\right)$"
      ],
      "text/plain": [
       "(15.6, 7.7)"
      ]
     },
     "execution_count": 236,
     "metadata": {},
     "output_type": "execute_result"
    }
   ],
   "source": [
    "n_col = 2\n",
    "model = 'impl_diff'\n",
    "\n",
    "plot_n = 1013\n",
    "t_interp = np.linspace(0, 2, plot_n)\n",
    "#tau_interp = np.linspace(-1,1,plot_n)\n",
    "dt = (_res['t'][-1]-_res['t'][0])/n_col\n",
    "\n",
    "\n",
    "interpolations = interpolation(\n",
    "    _res,\n",
    "    problem_order = 3,\n",
    "    scheme_order=3,\n",
    "    x_interp=None,\n",
    "    u_interp=None,\n",
    "    n_interp=plot_n,\n",
    ")\n",
    "\n",
    "\n",
    "q_interp =interpolations['q']#[:, :3]\n",
    "v_interp =interpolations['v']#[:, 3:6]\n",
    "a_interp =interpolations['a']#[:, 6:]\n",
    "j_interp =interpolations['jerk']#[:, 6:]\n",
    "w_interp =interpolations['u']\n",
    "\n",
    "q_d_interp = interpolations['q_d']#[:, :3]\n",
    "q_dd_interp = interpolations['q_d_d']#[:, :3]\n",
    "q_ddd_interp = interpolations['q_d_d_d']#[:, :3]\n",
    "\n",
    "\n",
    "\n",
    "if model == 'impl_diff':\n",
    "    _res_a = _res['x'][:,-1:]\n",
    "    _res_j = _res['x_d'][:,-1:]\n",
    "    _res_a_c = _res['x_c'][:,-1:]\n",
    "    _res_j_c = _res['x_d_c'][:,-1:]\n",
    "else:\n",
    "    raise ValueError()\n",
    "    \n",
    "\n",
    "\n",
    "#if 'hs' in scheme:\n",
    "jerk_impulses = get_jerk_impulse(\n",
    "    v = _res['x_d'][:,:1],\n",
    "    v_c = _res['x_d_c'][:,:1],\n",
    "    h = 2/n_col\n",
    ")\n",
    "\n",
    "jerk_heights = get_jerk_heights(\n",
    "    v = _res['x_d'][:,:1],\n",
    "    v_c = _res['x_d_c'][:,:1],\n",
    "    h = 2/n_col\n",
    ")\n",
    "\n",
    "slope_pos = end_parab_slope(\n",
    "    v = _res['x_d'][:,:1],\n",
    "    v_c = _res['x_d_c'][:,:1],\n",
    "    h = 2/n_col\n",
    ")\n",
    "    \n",
    "jerk_scale = np.max(q_ddd_interp[:,:1]) - np.min(q_ddd_interp[:,:1])\n",
    "impulse_scale = np.max(np.abs(jerk_impulses))\n",
    "scale_factor = max(0.2 * jerk_scale/impulse_scale, 0.01)\n",
    "jerk_scale, impulse_scale"
   ]
  },
  {
   "cell_type": "code",
   "execution_count": 237,
   "id": "4bfe2f2e",
   "metadata": {},
   "outputs": [
    {
     "data": {
      "image/png": "[encoded data removed]",
      "text/latex": [
       "$\\displaystyle 1.0$"
      ],
      "text/plain": [
       "1.0"
      ]
     },
     "execution_count": 237,
     "metadata": {},
     "output_type": "execute_result"
    }
   ],
   "source": [
    "dt"
   ]
  },
  {
   "cell_type": "code",
   "execution_count": 238,
   "id": "2f17e3a8",
   "metadata": {},
   "outputs": [],
   "source": [
    "def hideticks():\n",
    "    plt.tick_params(\n",
    "        axis='both',          # changes apply to the x-axis\n",
    "        which='both',      # both major and minor ticks are affected\n",
    "        bottom=False,      # ticks along the bottom edge are off\n",
    "        top=False,         # ticks along the top edge are off\n",
    "        left = False,\n",
    "        labelleft = False,\n",
    "        labelbottom=False) # labels along the bottom edge are off"
   ]
  },
  {
   "cell_type": "code",
   "execution_count": null,
   "id": "52e311fa",
   "metadata": {},
   "outputs": [],
   "source": []
  },
  {
   "cell_type": "code",
   "execution_count": 239,
   "id": "4b7c2f58",
   "metadata": {},
   "outputs": [],
   "source": [
    "save = True#False\n",
    "save_format = 'pdf'\n",
    "marker_size = 30\n",
    "line_width = 4\n",
    "titlesize = 50\n",
    "plt.rcParams['axes.titlepad'] = 20  # pad is in points"
   ]
  },
  {
   "cell_type": "code",
   "execution_count": null,
   "id": "744c599c",
   "metadata": {},
   "outputs": [],
   "source": []
  },
  {
   "cell_type": "code",
   "execution_count": 240,
   "id": "506a75f3",
   "metadata": {},
   "outputs": [
    {
     "data": {
      "image/png": "[encoded data removed]",
      "text/plain": [
       "<Figure size 1400x800 with 1 Axes>"
      ]
     },
     "metadata": {},
     "output_type": "display_data"
    }
   ],
   "source": [
    "plt.figure(figsize=[14,8])\n",
    "labels= ['q(t)', r'$\\theta$(t)']\n",
    "for ii in range(1):\n",
    "    plt.plot(t_interp, q_interp[:,ii], c = color, lw = line_width, label = labels[ii])\n",
    "    plt.plot(_res['t'],_res['q'][:,ii], 'o', c = color, ms =marker_size)\n",
    "    if 'hs' in scheme: \n",
    "        plt.plot(_res['t_c'],_res['q_c'][:,ii],\n",
    "                 'o', mec = color, ms =marker_size, mfc = 'w',\n",
    "                # label = labels[ii] + '_c'\n",
    "                )\n",
    "#plt.plot(t_ref, q_ref, ':')\n",
    "\n",
    "\n",
    "\n",
    "#save = True#False#\n",
    "\n",
    "    \n",
    "#plt.grid()\n",
    "#plt.legend()\n",
    "plt.title(r'q(t)' + f', {title_scheme}{order}', fontsize=titlesize)\n",
    "hideticks()\n",
    "plt.tight_layout(pad=0.0)\n",
    "\n",
    "if save:\n",
    "        save_fig(\n",
    "            problem_name = problem_name,\n",
    "            graph_name = 'q',\n",
    "            schemes_printed = [scheme],\n",
    "            save_format = save_format,\n",
    "            N = n_col,\n",
    "            q_counter = None,\n",
    "            add = f'HS{order}'\n",
    "        )"
   ]
  },
  {
   "cell_type": "code",
   "execution_count": 241,
   "id": "a50bd34b",
   "metadata": {},
   "outputs": [
    {
     "data": {
      "image/png": "[encoded data removed]",
      "text/plain": [
       "<Figure size 1400x800 with 1 Axes>"
      ]
     },
     "metadata": {},
     "output_type": "display_data"
    }
   ],
   "source": [
    "plt.figure(figsize=[14,8])\n",
    "labels= [r'$\\dot{q}$(t)', r'$\\dot{\\theta}$(t)']\n",
    "for ii in range(1):\n",
    "    plt.plot(t_interp, q_d_interp[:,ii], c = color, lw = line_width, label = labels[ii])\n",
    "    plt.plot(_res['t'],_res['v'][:,ii], 'o', c = color, ms =marker_size)\n",
    "    if 'hs' in scheme: \n",
    "        plt.plot(_res['t_c'],_res['v_c'][:,ii],\n",
    "                 'o', mec = color, ms =marker_size, mfc = 'w',\n",
    "                #  label = labels[ii] + '_c'\n",
    "                )\n",
    "       \n",
    "\n",
    "    \n",
    "    \n",
    "#plt.plot(t_ref, v_ref, ':')\n",
    "#plt.grid()\n",
    "#plt.legend()\n",
    "\n",
    "hideticks()\n",
    "plt.title(r'$\\dot{q}$(t)' + f', {title_scheme}{order}', fontsize=titlesize)\n",
    "plt.tight_layout(pad=0.0)\n",
    "\n",
    "\n",
    "#save = True#False#\n",
    "if save:\n",
    "        save_fig(\n",
    "            problem_name = problem_name,\n",
    "            graph_name = 'q_dot',\n",
    "            schemes_printed = [scheme],\n",
    "            save_format = save_format,\n",
    "            N = n_col,\n",
    "            q_counter = None,\n",
    "            add = f'HS{order}'\n",
    "        )"
   ]
  },
  {
   "cell_type": "code",
   "execution_count": 242,
   "id": "33c09994",
   "metadata": {},
   "outputs": [
    {
     "data": {
      "image/png": "[encoded data removed]",
      "text/plain": [
       "<Figure size 1400x800 with 1 Axes>"
      ]
     },
     "metadata": {},
     "output_type": "display_data"
    }
   ],
   "source": [
    "plt.figure(figsize=[14,8])\n",
    "labels= [r'$\\ddot{q}$(t)', r'$\\ddot{\\theta}$(t)']\n",
    "for ii in range(1):\n",
    "    plot_by_segments(\n",
    "        t_arr = t_interp,\n",
    "        y_plot = q_dd_interp[:,ii],\n",
    "        label = labels[ii],\n",
    "        N = n_col,\n",
    "        end_t = 2,\n",
    "        plot_dict = {\n",
    "            'c': color,\n",
    "            'lw':line_width,\n",
    "        }\n",
    "    )\n",
    "    if False:\n",
    "        for kk in range(len(jerk_impulses)):\n",
    "            plt.arrow(\n",
    "                _res['t'][1+kk],\n",
    "                slope_pos[kk,ii],\n",
    "                0,\n",
    "                jerk_impulses[kk,ii],\n",
    "                color = 'w',\n",
    "                width = 0.01,\n",
    "                length_includes_head=True,\n",
    "                head_length = 0.4*abs(jerk_impulses[kk,ii]),\n",
    "                ec = color\n",
    "            )\n",
    "    #plt.plot(t_interp, q_dd_interp[:,ii], c = 'grey')\n",
    "    if order == 3:\n",
    "        plt.plot(_res['t'],_res_a[:,ii], 'o', ms =marker_size, c = color,label = labels[ii])\n",
    "        if 'hs' in scheme: \n",
    "            plt.plot(_res['t_c'],_res_a_c[:,ii],\n",
    "                     'o', mec = color, ms =marker_size, mfc = 'w',\n",
    "                     label = labels[ii] + '_c')\n",
    "    else:\n",
    "           \n",
    "        plt.plot(t_interp, q_dd_interp[:,ii], c = color, ls= ':',lw = line_width*0.75)\n",
    "        \n",
    "        \n",
    "if 'trap' in scheme and order == 1:\n",
    "    plt.ylim([-2.5, 2.3])\n",
    "\n",
    "\n",
    "\n",
    "#plt.plot(t_ref, a_ref, ':', c='k', label = 'HS3 ref sol')\n",
    "#plt.grid()\n",
    "#plt.legend()\n",
    "\n",
    "hideticks()\n",
    "\n",
    "plt.title(r'$\\ddot{q}$(t)' + f', {title_scheme}{order}', fontsize=titlesize)\n",
    "plt.tight_layout(pad=0.0)\n",
    "\n",
    "#save = True#False#\n",
    "if save:\n",
    "    save_fig(\n",
    "        problem_name = problem_name,\n",
    "        graph_name = 'q_dot_dot',\n",
    "        schemes_printed = [scheme],\n",
    "        save_format = save_format,\n",
    "        N = n_col,\n",
    "        q_counter = None,\n",
    "        add = f'HS{order}'\n",
    "    )"
   ]
  },
  {
   "cell_type": "code",
   "execution_count": 243,
   "id": "7c3b9534",
   "metadata": {},
   "outputs": [
    {
     "data": {
      "image/png": "[encoded data removed]",
      "text/plain": [
       "<Figure size 1400x800 with 1 Axes>"
      ]
     },
     "metadata": {},
     "output_type": "display_data"
    }
   ],
   "source": [
    "plt.figure(figsize=[14,8])\n",
    "labels= [r'$\\dddot{q}$(t)', r'$\\dddot{\\theta}$(t)']\n",
    "for ii in range(1):\n",
    "    #plt.plot(t_interp, q_ddd_interp[:,ii], c = 'grey')\n",
    "    plot_by_segments(\n",
    "        t_arr = t_interp,\n",
    "        y_plot = q_ddd_interp[:,ii],\n",
    "        label = labels[ii],\n",
    "        N = n_col,\n",
    "        end_t = 2,\n",
    "        plot_dict = {\n",
    "            'c': color,\n",
    "            'lw':line_width,\n",
    "        }\n",
    "    )\n",
    "    \n",
    "    if order ==1 :\n",
    "        for kk in range(len(jerk_impulses)):\n",
    "            plt.arrow(\n",
    "                _res['t'][1+kk],\n",
    "                jerk_heights[kk,ii],\n",
    "                0,\n",
    "                2*scale_factor*jerk_impulses[kk,ii],\n",
    "                color = 'w',\n",
    "                width = 0.04,\n",
    "                length_includes_head=True,\n",
    "                head_length = scale_factor*0.4*abs(jerk_impulses[kk,ii]),\n",
    "                ec = color,\n",
    "                lw = line_width/2\n",
    "            )\n",
    "        if 'hs' in scheme:\n",
    "            plt.ylim([-5,18])\n",
    "        else:\n",
    "            plt.ylim([-0.02,0.07])\n",
    "        plt.plot(t_interp, q_ddd_interp[:,ii], c = color, ls= ':',lw = line_width*0.75)\n",
    "    \n",
    "    if order == 3:\n",
    "        plt.plot(_res['t'],_res_j[:,ii], 'o', c = color, ms =marker_size, label = labels[ii])\n",
    "        if 'hs' in scheme: \n",
    "            plt.plot(_res['t_c'],_res_j_c[:,ii],\n",
    "                     'o', mec = color, ms =marker_size, mfc = 'w',\n",
    "                     label = labels[ii] + '_c')\n",
    "\n",
    "        \n",
    "#plt.plot(t_ref, j_ref, ':')\n",
    "#plt.grid()\n",
    "#plt.legend()\n",
    "\n",
    "hideticks()\n",
    "\n",
    "plt.title(r'$\\dddot{q}$(t)' + f', {title_scheme}{order}', fontsize=titlesize)\n",
    "plt.tight_layout(pad=0.0)\n",
    "\n",
    "#save = True#False#\n",
    "if save:\n",
    "        save_fig(\n",
    "            problem_name = problem_name,\n",
    "            graph_name = 'q_dot_dot_dot',\n",
    "            schemes_printed = [scheme],\n",
    "            save_format = save_format,\n",
    "            N = n_col,\n",
    "            q_counter = None,\n",
    "            add = f'HS{order}'\n",
    "        )"
   ]
  },
  {
   "cell_type": "code",
   "execution_count": null,
   "id": "0be1539d",
   "metadata": {},
   "outputs": [],
   "source": []
  },
  {
   "cell_type": "code",
   "execution_count": null,
   "id": "46416512",
   "metadata": {},
   "outputs": [],
   "source": []
  },
  {
   "cell_type": "code",
   "execution_count": null,
   "id": "af39e709",
   "metadata": {},
   "outputs": [],
   "source": []
  }
 ],
 "metadata": {
  "kernelspec": {
   "display_name": "Python 3 (ipykernel)",
   "language": "python",
   "name": "python3"
  },
  "language_info": {
   "codemirror_mode": {
    "name": "ipython",
    "version": 3
   },
   "file_extension": ".py",
   "mimetype": "text/x-python",
   "name": "python",
   "nbconvert_exporter": "python",
   "pygments_lexer": "ipython3",
   "version": "3.9.15"
  }
 },
 "nbformat": 4,
 "nbformat_minor": 5
}
