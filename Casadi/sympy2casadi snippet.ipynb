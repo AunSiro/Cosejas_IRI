{
 "cells": [
  {
   "cell_type": "code",
   "execution_count": 5,
   "metadata": {},
   "outputs": [],
   "source": [
    "def sympy2casadi(sympy_expr,sympy_var,casadi_var):\n",
    "    import casadi\n",
    "    assert casadi_var.is_vector()\n",
    "    if casadi_var.shape[1]>1:\n",
    "        casadi_var = casadi_var.T\n",
    "    casadi_var = casadi.vertsplit(casadi_var)\n",
    "    from sympy.utilities.lambdify import lambdify\n",
    "\n",
    "    mapping = {'ImmutableDenseMatrix': casadi.blockcat,\n",
    "             'MutableDenseMatrix': casadi.blockcat,\n",
    "             'Abs':casadi.fabs\n",
    "            }\n",
    "    #f = lambdify(sympy_expr,sympy_var,modules=[mapping, casadi])\n",
    "    f = lambdify(sympy_var,sympy_expr,modules=[mapping, casadi])\n",
    "    print(casadi_var)\n",
    "    return f(*casadi_var)\n",
    "\n",
    "import sympy\n",
    "x,y = sympy.symbols(\"x y\")\n",
    "import casadi\n",
    "X = casadi.SX.sym(\"x\")\n",
    "Y = casadi.SX.sym(\"y\")\n",
    "\n",
    "xy = sympy.Matrix([x,y])\n",
    "e = sympy.Matrix([x*sympy.sqrt(y),sympy.sin(x+y),abs(x-y)])\n",
    "XY = casadi.vertcat(X,Y)"
   ]
  },
  {
   "cell_type": "code",
   "execution_count": 6,
   "metadata": {},
   "outputs": [
    {
     "name": "stdout",
     "output_type": "stream",
     "text": [
      "[SX(x), SX(y)]\n"
     ]
    },
    {
     "data": {
      "text/plain": [
       "SX([(x*sqrt(y)), sin((x+y)), fabs((x-y))])"
      ]
     },
     "execution_count": 6,
     "metadata": {},
     "output_type": "execute_result"
    }
   ],
   "source": [
    "sympy2casadi(e, xy, XY)"
   ]
  }
 ],
 "metadata": {
  "kernelspec": {
   "display_name": "Python 3",
   "language": "python",
   "name": "python3"
  },
  "language_info": {
   "codemirror_mode": {
    "name": "ipython",
    "version": 3
   },
   "file_extension": ".py",
   "mimetype": "text/x-python",
   "name": "python",
   "nbconvert_exporter": "python",
   "pygments_lexer": "ipython3",
   "version": "3.7.3"
  }
 },
 "nbformat": 4,
 "nbformat_minor": 2
}
