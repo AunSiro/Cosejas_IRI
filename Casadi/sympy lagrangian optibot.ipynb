{
 "cells": [
  {
   "cell_type": "code",
   "execution_count": null,
   "id": "7827551d",
   "metadata": {},
   "outputs": [],
   "source": [
    "import numpy as np\n",
    "import matplotlib.pyplot as plt\n",
    "from mpl_toolkits import mplot3d\n",
    "\n",
    "from numpy import logical_and as npand\n",
    "from numpy import logical_or as npor\n",
    "import matplotlib"
   ]
  },
  {
   "cell_type": "code",
   "execution_count": null,
   "id": "2993dffa",
   "metadata": {},
   "outputs": [],
   "source": [
    "from sympy import (symbols, pi, I, E, cos, sin, exp, tan, simplify, expand, factor, collect,\n",
    "                   apart, cancel, expand_trig, diff, Derivative, Function, integrate, limit,\n",
    "                   series, Eq, solve, dsolve, Matrix, N, preorder_traversal, Float, solve_linear_system,\n",
    "                   eye, zeros, lambdify, Symbol,hessian, sqrt)\n",
    "from sympy.physics.mechanics import dynamicsymbols, init_vprinting"
   ]
  },
  {
   "cell_type": "code",
   "execution_count": null,
   "id": "f92656a1",
   "metadata": {},
   "outputs": [],
   "source": [
    "init_vprinting()"
   ]
  },
  {
   "cell_type": "code",
   "execution_count": null,
   "id": "fd276857",
   "metadata": {},
   "outputs": [],
   "source": [
    "from sympy.physics.mechanics import ReferenceFrame, Point, LagrangesMethod, Lagrangian, inertia, RigidBody, dot"
   ]
  },
  {
   "cell_type": "code",
   "execution_count": null,
   "id": "a01f6829",
   "metadata": {},
   "outputs": [],
   "source": [
    "N = ReferenceFrame('N')\n",
    "origen = Point('origen')\n",
    "origen.set_vel(N, 0)\n"
   ]
  },
  {
   "cell_type": "code",
   "execution_count": null,
   "id": "111f15d6",
   "metadata": {},
   "outputs": [],
   "source": [
    "t = symbols('t')\n",
    "t"
   ]
  },
  {
   "cell_type": "code",
   "execution_count": null,
   "id": "6481509b",
   "metadata": {},
   "outputs": [],
   "source": [
    "x, y, psi = dynamicsymbols('x y psi')\n",
    "x, y, psi"
   ]
  },
  {
   "cell_type": "code",
   "execution_count": null,
   "id": "850e7c36",
   "metadata": {},
   "outputs": [],
   "source": [
    "fi0, fi1, fi2, fi3 = dynamicsymbols('phi:4')\n",
    "fi0, fi1, fi2, fi3"
   ]
  },
  {
   "cell_type": "code",
   "execution_count": null,
   "id": "83e1522d",
   "metadata": {},
   "outputs": [],
   "source": [
    "CM = origen.locatenew('CM', x*N.x + y*N.y)\n",
    "CM.set_vel(N, CM.pos_from(origen).dt(N))"
   ]
  },
  {
   "cell_type": "code",
   "execution_count": null,
   "id": "22acb2a8",
   "metadata": {},
   "outputs": [],
   "source": [
    "B = N.orientnew('B', 'Axis', (psi, N.z))"
   ]
  },
  {
   "cell_type": "code",
   "execution_count": null,
   "id": "8826f16a",
   "metadata": {},
   "outputs": [],
   "source": [
    "m_r, m_w, i_r, i_w, l0, l1, r = symbols('m_r m_w i_r i_w l0 l1 r')"
   ]
  },
  {
   "cell_type": "code",
   "execution_count": null,
   "id": "316d76eb",
   "metadata": {},
   "outputs": [],
   "source": [
    "I_r = inertia(B, 0, 0, i_r)\n",
    "body = RigidBody('Body', CM, B, m_r, (I_r,CM))"
   ]
  },
  {
   "cell_type": "code",
   "execution_count": null,
   "id": "c5135b17",
   "metadata": {},
   "outputs": [],
   "source": [
    "wheel_params = [\n",
    "    [45,  l0,  l1, fi0],\n",
    "    [-45, l0, -l1, fi1],\n",
    "    [-45, -l0, l1, fi2],\n",
    "    [45, -l0, -l1, fi3]\n",
    "]"
   ]
  },
  {
   "cell_type": "code",
   "execution_count": null,
   "id": "0fd92373",
   "metadata": {},
   "outputs": [],
   "source": [
    "wheel_axes = []\n",
    "wheel_centers = []\n",
    "I_w = inertia(B, 0, i_w, 0)\n",
    "wheel_bodies = []\n",
    "for ii in range(4):\n",
    "    wheel_axis = B.orientnew(f'W{ii}', 'Axis', (wheel_params[ii][3], B.y))\n",
    "    wheel_axes.append(wheel_axis)\n",
    "    wheel_center = CM.locatenew(f'CMW{ii}', wheel_params[ii][1]*B.x + wheel_params[ii][2]*B.y)\n",
    "    wheel_center.set_vel(N, wheel_center.v2pt_theory(CM, N, B))\n",
    "    wheel_centers.append(wheel_center)\n",
    "    wheel_body = RigidBody(f'Wheel{ii}', wheel_center, wheel_axis, 0, (I_w,wheel_center))\n",
    "    wheel_bodies.append(wheel_body)\n",
    "wheel_axes, wheel_centers, wheel_bodies"
   ]
  },
  {
   "cell_type": "code",
   "execution_count": null,
   "id": "1e7719d8",
   "metadata": {},
   "outputs": [],
   "source": [
    "lag_f = simplify(Lagrangian(N, body, *wheel_bodies))\n",
    "lag_f"
   ]
  },
  {
   "cell_type": "markdown",
   "id": "4448ba64",
   "metadata": {},
   "source": [
    "## Restrictions:"
   ]
  },
  {
   "cell_type": "code",
   "execution_count": null,
   "id": "f67709b2",
   "metadata": {},
   "outputs": [],
   "source": [
    "from optibot.symbolic import integerize"
   ]
  },
  {
   "cell_type": "code",
   "execution_count": null,
   "id": "eb0ea7dc",
   "metadata": {},
   "outputs": [],
   "source": [
    "non_hol_rest = []\n",
    "for ii in range(4):\n",
    "    angle = np.radians(wheel_params[ii][0])\n",
    "    aux_syst = B.orientnew('aux', 'Axis', (angle, B.z))\n",
    "    contact_p = wheel_centers[ii].locatenew('contact_p', -r*N.z)\n",
    "    contact_p.set_vel(N, contact_p.v2pt_theory(wheel_centers[ii], N, wheel_axes[ii]))\n",
    "    raw_restr = dot(contact_p.vel(N),aux_syst.y)\n",
    "    non_hol_rest.append(simplify(integerize((2/2**0.5)* raw_restr)))"
   ]
  },
  {
   "cell_type": "code",
   "execution_count": null,
   "id": "5d771937",
   "metadata": {},
   "outputs": [],
   "source": [
    "Matrix(non_hol_rest)"
   ]
  },
  {
   "cell_type": "markdown",
   "id": "e63a2eba",
   "metadata": {},
   "source": [
    "## Lagrange system"
   ]
  },
  {
   "cell_type": "code",
   "execution_count": null,
   "id": "c05f81b4",
   "metadata": {},
   "outputs": [],
   "source": [
    "FL = []\n",
    "for ii in range(4):\n",
    "    u = symbols(f'u{ii}')\n",
    "    FL.append((wheel_axes[ii], u*B.y))"
   ]
  },
  {
   "cell_type": "code",
   "execution_count": null,
   "id": "1ae17cc5",
   "metadata": {},
   "outputs": [],
   "source": [
    "from optibot.symbolic import SimpLagrangesMethod"
   ]
  },
  {
   "cell_type": "code",
   "execution_count": null,
   "id": "178dd225",
   "metadata": {},
   "outputs": [],
   "source": [
    "LM_simp = SimpLagrangesMethod(lag_f, [x, y, psi, fi0, fi1, fi2, fi3] ,\n",
    "                              forcelist=FL, frame=N, nonhol_coneqs=non_hol_rest)"
   ]
  },
  {
   "cell_type": "code",
   "execution_count": null,
   "id": "99470d6a",
   "metadata": {},
   "outputs": [],
   "source": [
    "LM_simp.Q"
   ]
  },
  {
   "cell_type": "code",
   "execution_count": null,
   "id": "5eb27d25",
   "metadata": {},
   "outputs": [],
   "source": [
    "LM_simp.M"
   ]
  },
  {
   "cell_type": "code",
   "execution_count": null,
   "id": "01c1e6c5",
   "metadata": {},
   "outputs": [],
   "source": [
    "LM_simp.phi_q"
   ]
  },
  {
   "cell_type": "code",
   "execution_count": null,
   "id": "fdf1f8df",
   "metadata": {},
   "outputs": [],
   "source": [
    "LM_simp.H"
   ]
  },
  {
   "cell_type": "code",
   "execution_count": null,
   "id": "06b86ab4",
   "metadata": {
    "scrolled": true
   },
   "outputs": [],
   "source": [
    "LM_simp.K"
   ]
  },
  {
   "cell_type": "code",
   "execution_count": null,
   "id": "f921c3e8",
   "metadata": {},
   "outputs": [],
   "source": [
    "LM_simp.Fa"
   ]
  },
  {
   "cell_type": "code",
   "execution_count": null,
   "id": "458867c8",
   "metadata": {},
   "outputs": [],
   "source": [
    "LM_simp.RHS_reduced"
   ]
  },
  {
   "cell_type": "code",
   "execution_count": null,
   "id": "5ca16429",
   "metadata": {},
   "outputs": [],
   "source": [
    "LM_simp.calculate_RHS()"
   ]
  },
  {
   "cell_type": "code",
   "execution_count": null,
   "id": "8cb8ff80",
   "metadata": {},
   "outputs": [],
   "source": [
    "LM_simp.calculate_RHS_full()"
   ]
  },
  {
   "cell_type": "markdown",
   "id": "4771de2e",
   "metadata": {},
   "source": [
    "### Reference: based on Lagranges Method"
   ]
  },
  {
   "cell_type": "code",
   "execution_count": null,
   "id": "5af91a44",
   "metadata": {},
   "outputs": [],
   "source": [
    "LM = LagrangesMethod(lag_f, [x, y, psi, fi0, fi1, fi2, fi3] , forcelist=FL, frame=N, nonhol_coneqs=non_hol_rest)"
   ]
  },
  {
   "cell_type": "code",
   "execution_count": null,
   "id": "d994fb16",
   "metadata": {},
   "outputs": [],
   "source": [
    "LM.form_lagranges_equations()"
   ]
  },
  {
   "cell_type": "markdown",
   "id": "cb18bcb7",
   "metadata": {},
   "source": [
    "### Reference: also works without constraints"
   ]
  },
  {
   "cell_type": "code",
   "execution_count": null,
   "id": "b83f75cf",
   "metadata": {},
   "outputs": [],
   "source": [
    "LM_simp_no_const = SimpLagrangesMethod(lag_f, [x, y, psi, fi0, fi1, fi2, fi3] ,\n",
    "                              forcelist=FL, frame=N, nonhol_coneqs=None)"
   ]
  },
  {
   "cell_type": "code",
   "execution_count": null,
   "id": "1b9f2bcf",
   "metadata": {},
   "outputs": [],
   "source": [
    "LM_simp_no_const.calculate_RHS_full()"
   ]
  },
  {
   "cell_type": "code",
   "execution_count": null,
   "id": "426302cb",
   "metadata": {},
   "outputs": [],
   "source": []
  },
  {
   "cell_type": "code",
   "execution_count": null,
   "id": "d8d1fd04",
   "metadata": {},
   "outputs": [],
   "source": []
  },
  {
   "cell_type": "code",
   "execution_count": null,
   "id": "ea3cc3a2",
   "metadata": {},
   "outputs": [],
   "source": []
  },
  {
   "cell_type": "code",
   "execution_count": null,
   "id": "c6363a2f",
   "metadata": {},
   "outputs": [],
   "source": []
  }
 ],
 "metadata": {
  "kernelspec": {
   "display_name": "Python 3",
   "language": "python",
   "name": "python3"
  },
  "language_info": {
   "codemirror_mode": {
    "name": "ipython",
    "version": 3
   },
   "file_extension": ".py",
   "mimetype": "text/x-python",
   "name": "python",
   "nbconvert_exporter": "python",
   "pygments_lexer": "ipython3",
   "version": "3.9.5"
  }
 },
 "nbformat": 4,
 "nbformat_minor": 5
}
