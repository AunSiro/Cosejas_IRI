{
 "cells": [
  {
   "cell_type": "code",
   "execution_count": null,
   "id": "7827551d",
   "metadata": {},
   "outputs": [],
   "source": [
    "import numpy as np\n",
    "import matplotlib.pyplot as plt\n",
    "from mpl_toolkits import mplot3d\n",
    "\n",
    "from numpy import logical_and as npand\n",
    "from numpy import logical_or as npor\n",
    "import matplotlib"
   ]
  },
  {
   "cell_type": "code",
   "execution_count": null,
   "id": "2993dffa",
   "metadata": {},
   "outputs": [],
   "source": [
    "from sympy import (symbols, pi, I, E, cos, sin, exp, tan, simplify, expand, factor, collect,\n",
    "                   apart, cancel, expand_trig, diff, Derivative, Function, integrate, limit,\n",
    "                   series, Eq, solve, dsolve, Matrix, N, preorder_traversal, Float, solve_linear_system,\n",
    "                   eye, zeros, lambdify, Symbol,hessian, sqrt, evalf)\n",
    "from sympy.physics.mechanics import dynamicsymbols, init_vprinting"
   ]
  },
  {
   "cell_type": "code",
   "execution_count": null,
   "id": "f92656a1",
   "metadata": {},
   "outputs": [],
   "source": [
    "init_vprinting()"
   ]
  },
  {
   "cell_type": "code",
   "execution_count": null,
   "id": "fd276857",
   "metadata": {},
   "outputs": [],
   "source": [
    "from sympy.physics.mechanics import ReferenceFrame, Point, LagrangesMethod, Lagrangian, inertia, RigidBody, dot"
   ]
  },
  {
   "cell_type": "code",
   "execution_count": null,
   "id": "a01f6829",
   "metadata": {},
   "outputs": [],
   "source": [
    "N = ReferenceFrame('N')\n",
    "origen = Point('origen')\n",
    "origen.set_vel(N, 0)\n"
   ]
  },
  {
   "cell_type": "code",
   "execution_count": null,
   "id": "111f15d6",
   "metadata": {},
   "outputs": [],
   "source": [
    "t = symbols('t')\n",
    "t"
   ]
  },
  {
   "cell_type": "code",
   "execution_count": null,
   "id": "6481509b",
   "metadata": {},
   "outputs": [],
   "source": [
    "x, y, psi = dynamicsymbols('x y psi')\n",
    "x, y, psi"
   ]
  },
  {
   "cell_type": "code",
   "execution_count": null,
   "id": "850e7c36",
   "metadata": {},
   "outputs": [],
   "source": [
    "fi0, fi1, fi2, fi3 = dynamicsymbols('phi:4')\n",
    "fi0, fi1, fi2, fi3"
   ]
  },
  {
   "cell_type": "code",
   "execution_count": null,
   "id": "83e1522d",
   "metadata": {},
   "outputs": [],
   "source": [
    "CM = origen.locatenew('CM', x*N.x + y*N.y)\n",
    "CM.set_vel(N, CM.pos_from(origen).dt(N))"
   ]
  },
  {
   "cell_type": "code",
   "execution_count": null,
   "id": "22acb2a8",
   "metadata": {},
   "outputs": [],
   "source": [
    "B = N.orientnew('B', 'Axis', (psi, N.z))"
   ]
  },
  {
   "cell_type": "code",
   "execution_count": null,
   "id": "8826f16a",
   "metadata": {},
   "outputs": [],
   "source": [
    "m_r, m_w, i_r, i_w, l0, l1, r = symbols('m_r m_w i_r i_w l0 l1 r')"
   ]
  },
  {
   "cell_type": "code",
   "execution_count": null,
   "id": "316d76eb",
   "metadata": {},
   "outputs": [],
   "source": [
    "I_r = inertia(B, 0, 0, i_r)\n",
    "body = RigidBody('Body', CM, B, m_r, (I_r,CM))"
   ]
  },
  {
   "cell_type": "code",
   "execution_count": null,
   "id": "c5135b17",
   "metadata": {},
   "outputs": [],
   "source": [
    "wheel_params = [\n",
    "    [45,  l0,  l1, fi0],\n",
    "    [-45, l0, -l1, fi1],\n",
    "    [-45, -l0, l1, fi2],\n",
    "    [45, -l0, -l1, fi3]\n",
    "]"
   ]
  },
  {
   "cell_type": "code",
   "execution_count": null,
   "id": "0fd92373",
   "metadata": {},
   "outputs": [],
   "source": [
    "wheel_axes = []\n",
    "wheel_centers = []\n",
    "I_w = inertia(B, 0, i_w, 0)\n",
    "wheel_bodies = []\n",
    "for ii in range(4):\n",
    "    wheel_axis = B.orientnew(f'W{ii}', 'Axis', (wheel_params[ii][3], B.y))\n",
    "    wheel_axes.append(wheel_axis)\n",
    "    wheel_center = CM.locatenew(f'CMW{ii}', wheel_params[ii][1]*B.x + wheel_params[ii][2]*B.y)\n",
    "    wheel_center.set_vel(N, wheel_center.v2pt_theory(CM, N, B))\n",
    "    wheel_centers.append(wheel_center)\n",
    "    wheel_body = RigidBody(f'Wheel{ii}', wheel_center, wheel_axis, 0, (I_w,wheel_center))\n",
    "    wheel_bodies.append(wheel_body)\n",
    "wheel_axes, wheel_centers, wheel_bodies"
   ]
  },
  {
   "cell_type": "code",
   "execution_count": null,
   "id": "1e7719d8",
   "metadata": {},
   "outputs": [],
   "source": [
    "lag_f = simplify(Lagrangian(N, body, *wheel_bodies))\n",
    "lag_f"
   ]
  },
  {
   "cell_type": "markdown",
   "id": "4448ba64",
   "metadata": {},
   "source": [
    "## Restrictions:"
   ]
  },
  {
   "cell_type": "code",
   "execution_count": null,
   "id": "f67709b2",
   "metadata": {},
   "outputs": [],
   "source": [
    "from optibot.symbolic import integerize"
   ]
  },
  {
   "cell_type": "code",
   "execution_count": null,
   "id": "eb0ea7dc",
   "metadata": {},
   "outputs": [],
   "source": [
    "non_hol_rest = []\n",
    "for ii in range(4):\n",
    "    angle = np.radians(wheel_params[ii][0])\n",
    "    aux_syst = B.orientnew('aux', 'Axis', (angle, B.z))\n",
    "    contact_p = wheel_centers[ii].locatenew('contact_p', -r*N.z)\n",
    "    contact_p.set_vel(N, contact_p.v2pt_theory(wheel_centers[ii], N, wheel_axes[ii]))\n",
    "    raw_restr = dot(contact_p.vel(N),aux_syst.y)\n",
    "    non_hol_rest.append(simplify(integerize((2/2**0.5)* raw_restr)))"
   ]
  },
  {
   "cell_type": "code",
   "execution_count": null,
   "id": "5d771937",
   "metadata": {},
   "outputs": [],
   "source": [
    "Matrix(non_hol_rest)"
   ]
  },
  {
   "cell_type": "markdown",
   "id": "e63a2eba",
   "metadata": {},
   "source": [
    "## Lagrange system"
   ]
  },
  {
   "cell_type": "code",
   "execution_count": null,
   "id": "c05f81b4",
   "metadata": {},
   "outputs": [],
   "source": [
    "FL = []\n",
    "for ii in range(4):\n",
    "    u = symbols(f'u{ii}')\n",
    "    FL.append((wheel_axes[ii], u*B.y))"
   ]
  },
  {
   "cell_type": "code",
   "execution_count": null,
   "id": "1ae17cc5",
   "metadata": {},
   "outputs": [],
   "source": [
    "from optibot.symbolic import SimpLagrangesMethod"
   ]
  },
  {
   "cell_type": "code",
   "execution_count": null,
   "id": "178dd225",
   "metadata": {},
   "outputs": [],
   "source": [
    "LM_simp = SimpLagrangesMethod(lag_f, [x, y, psi, fi0, fi1, fi2, fi3] ,\n",
    "                              forcelist=FL, frame=N, nonhol_coneqs=non_hol_rest)"
   ]
  },
  {
   "cell_type": "code",
   "execution_count": null,
   "id": "99470d6a",
   "metadata": {
    "scrolled": true
   },
   "outputs": [],
   "source": [
    "LM_simp.Q"
   ]
  },
  {
   "cell_type": "code",
   "execution_count": null,
   "id": "5eb27d25",
   "metadata": {},
   "outputs": [],
   "source": [
    "LM_simp.M"
   ]
  },
  {
   "cell_type": "code",
   "execution_count": null,
   "id": "01c1e6c5",
   "metadata": {},
   "outputs": [],
   "source": [
    "LM_simp.phi_q"
   ]
  },
  {
   "cell_type": "code",
   "execution_count": null,
   "id": "fdf1f8df",
   "metadata": {},
   "outputs": [],
   "source": [
    "LM_simp.H"
   ]
  },
  {
   "cell_type": "code",
   "execution_count": null,
   "id": "06b86ab4",
   "metadata": {
    "scrolled": true
   },
   "outputs": [],
   "source": [
    "LM_simp.K"
   ]
  },
  {
   "cell_type": "code",
   "execution_count": null,
   "id": "f921c3e8",
   "metadata": {},
   "outputs": [],
   "source": [
    "LM_simp.Fa"
   ]
  },
  {
   "cell_type": "code",
   "execution_count": null,
   "id": "458867c8",
   "metadata": {},
   "outputs": [],
   "source": [
    "LM_simp.RHS_reduced"
   ]
  },
  {
   "cell_type": "code",
   "execution_count": null,
   "id": "5ca16429",
   "metadata": {
    "scrolled": true
   },
   "outputs": [],
   "source": [
    "LM_simp.calculate_RHS()"
   ]
  },
  {
   "cell_type": "code",
   "execution_count": null,
   "id": "8cb8ff80",
   "metadata": {},
   "outputs": [],
   "source": [
    "LM_simp.calculate_RHS_full()"
   ]
  },
  {
   "cell_type": "markdown",
   "id": "4771de2e",
   "metadata": {},
   "source": [
    "### Reference: based on Lagranges Method"
   ]
  },
  {
   "cell_type": "code",
   "execution_count": null,
   "id": "5af91a44",
   "metadata": {},
   "outputs": [],
   "source": [
    "LM = LagrangesMethod(lag_f, [x, y, psi, fi0, fi1, fi2, fi3] , forcelist=FL, frame=N, nonhol_coneqs=non_hol_rest)"
   ]
  },
  {
   "cell_type": "code",
   "execution_count": null,
   "id": "d994fb16",
   "metadata": {},
   "outputs": [],
   "source": [
    "LM.form_lagranges_equations()"
   ]
  },
  {
   "cell_type": "markdown",
   "id": "cb18bcb7",
   "metadata": {},
   "source": [
    "### Reference: also works without constraints"
   ]
  },
  {
   "cell_type": "code",
   "execution_count": null,
   "id": "b83f75cf",
   "metadata": {},
   "outputs": [],
   "source": [
    "LM_simp_no_const = SimpLagrangesMethod(lag_f, [x, y, psi, fi0, fi1, fi2, fi3] ,\n",
    "                              forcelist=FL, frame=N, nonhol_coneqs=None)"
   ]
  },
  {
   "cell_type": "code",
   "execution_count": null,
   "id": "1b9f2bcf",
   "metadata": {},
   "outputs": [],
   "source": [
    "LM_simp_no_const.calculate_RHS_full()"
   ]
  },
  {
   "cell_type": "markdown",
   "id": "f4a2075a",
   "metadata": {},
   "source": [
    "## Transformation into numeric functions"
   ]
  },
  {
   "cell_type": "code",
   "execution_count": null,
   "id": "d8d1fd04",
   "metadata": {},
   "outputs": [],
   "source": [
    "from optibot.symbolic import print_funcs_RHS"
   ]
  },
  {
   "cell_type": "code",
   "execution_count": null,
   "id": "ea3cc3a2",
   "metadata": {},
   "outputs": [],
   "source": [
    "print_funcs_RHS(LM_simp.RHS_reduced[3:],[x, y, psi])"
   ]
  },
  {
   "cell_type": "code",
   "execution_count": null,
   "id": "e159f4d0",
   "metadata": {},
   "outputs": [],
   "source": [
    "from optibot.numpy import unpack\n",
    "def F(x, u, params):\n",
    "    x, y, psi, x_dot, y_dot, psi_dot = unpack(x)\n",
    "    u_0, u_1, u_2, u_3 = unpack(u)\n",
    "    i_r, i_w, l0, l1, m_r, r = params\n",
    "    result = [x_dot, y_dot, psi_dot,]\n",
    "    result.append((-4*i_w*psi_dot*y_dot + sqrt(2)*r*u_0*sin(psi + pi/4) + sqrt(2)*r*u_1*cos(psi + pi/4) + sqrt(2)*r*u_2*cos(psi + pi/4) + sqrt(2)*r*u_3*sin(psi + pi/4))/(4*i_w + m_r*r**2))\n",
    "    result.append((4*i_w*psi_dot*x_dot - sqrt(2)*r*u_0*cos(psi + pi/4) + sqrt(2)*r*u_1*sin(psi + pi/4) + sqrt(2)*r*u_2*sin(psi + pi/4) - sqrt(2)*r*u_3*cos(psi + pi/4))/(4*i_w + m_r*r**2))\n",
    "    result.append(r*(-l0*u_0 + l0*u_1 - l0*u_2 + l0*u_3 - l1*u_0 + l1*u_1 - l1*u_2 + l1*u_3)/(i_r*r**2 + 4*i_w*l0**2 + 8*i_w*l0*l1 + 4*i_w*l1**2))\n",
    "\n",
    "    return result"
   ]
  },
  {
   "cell_type": "code",
   "execution_count": null,
   "id": "3e951daa",
   "metadata": {},
   "outputs": [],
   "source": [
    "R = []\n",
    "for exp in F([1,1,1,1,1,1],[1,1,1,1],[1,1,1,1,1,1]):\n",
    "    try:\n",
    "        R.append(exp.evalf())\n",
    "    except:\n",
    "        R.append(exp)\n",
    "R"
   ]
  },
  {
   "cell_type": "code",
   "execution_count": null,
   "id": "eb51d353",
   "metadata": {},
   "outputs": [],
   "source": [
    "from optibot.numpy import RHS2numpy"
   ]
  },
  {
   "cell_type": "code",
   "execution_count": null,
   "id": "df81abf3",
   "metadata": {},
   "outputs": [],
   "source": [
    "np_func = RHS2numpy(LM_simp.RHS_reduced[3:],[x, y, psi])"
   ]
  },
  {
   "cell_type": "code",
   "execution_count": null,
   "id": "2becef89",
   "metadata": {
    "scrolled": true
   },
   "outputs": [],
   "source": [
    "np_func([1,1,1,1,1,1],[1,1,1,1],[1,1,1,1,1,1])"
   ]
  },
  {
   "cell_type": "markdown",
   "id": "c85e874c",
   "metadata": {},
   "source": [
    "## Integración con Casadi"
   ]
  },
  {
   "cell_type": "code",
   "execution_count": null,
   "id": "a69a4633",
   "metadata": {},
   "outputs": [],
   "source": [
    "import casadi as cas"
   ]
  },
  {
   "cell_type": "code",
   "execution_count": null,
   "id": "7750ac74",
   "metadata": {},
   "outputs": [],
   "source": [
    "from optibot.casadi import RHS2casF"
   ]
  },
  {
   "cell_type": "code",
   "execution_count": null,
   "id": "8c9e50bd",
   "metadata": {},
   "outputs": [],
   "source": [
    "from optibot.schemes import euler_restr, trapz_restr, trapz_mod_restr, hs_mod_restr, hs_restr\n",
    "from optibot.casadi import restriction2casadi"
   ]
  },
  {
   "cell_type": "code",
   "execution_count": null,
   "id": "ea3c72dd",
   "metadata": {},
   "outputs": [],
   "source": [
    "F_cas_simp = RHS2casF(LM_simp.RHS_reduced[3:],[x, y, psi])"
   ]
  },
  {
   "cell_type": "code",
   "execution_count": null,
   "id": "bca6d940",
   "metadata": {
    "scrolled": true
   },
   "outputs": [],
   "source": [
    "F_cas_simp([1,1,1,1,1,1],[1,1,1,1],[1,1,1,1,1,1])"
   ]
  },
  {
   "cell_type": "code",
   "execution_count": null,
   "id": "7b76b510",
   "metadata": {},
   "outputs": [],
   "source": [
    "N = 200"
   ]
  },
  {
   "cell_type": "code",
   "execution_count": null,
   "id": "44a4f85c",
   "metadata": {},
   "outputs": [],
   "source": [
    "opti = cas.Opti()\n",
    "opti.solver('ipopt')"
   ]
  },
  {
   "cell_type": "code",
   "execution_count": null,
   "id": "804912a9",
   "metadata": {},
   "outputs": [],
   "source": [
    "X = opti.variable(N+1,6)\n",
    "U = opti.variable(N+1,4)\n",
    "T = opti.parameter()\n",
    "u_m = opti.parameter(4)\n",
    "Params = opti.parameter(6)"
   ]
  },
  {
   "cell_type": "code",
   "execution_count": null,
   "id": "5057b055",
   "metadata": {},
   "outputs": [],
   "source": [
    "cost = cas.sum2(cas.sum1(U**2))\n",
    "#cost = cas.sum1(cas.cos(X[:,1])) + cas.sum1(X[:,0]**2)\n",
    "#cost = cas.sum1(cas.cos(X[:,1]))\n",
    "opti.minimize(cost)"
   ]
  },
  {
   "cell_type": "code",
   "execution_count": null,
   "id": "dafcc108",
   "metadata": {},
   "outputs": [],
   "source": [
    "opti.subject_to(X[0,:].T == [0, 0, 0, 0, 0, 0])\n",
    "opti.subject_to(X[-1,:].T == [2, 1.5, 1, 0, 0, 0])\n",
    "opti.subject_to(U[0,:].T == [0, 0, 0, 0])\n",
    "opti.subject_to(U[-1,:].T == [0, 0, 0, 0])"
   ]
  },
  {
   "cell_type": "code",
   "execution_count": null,
   "id": "32427640",
   "metadata": {},
   "outputs": [],
   "source": [
    "#restriction = restriction2casadi(euler_restr, F_cas, 3, 4, 6)\n",
    "restriction = restriction2casadi(trapz_restr, F_cas_simp, 3, 4, 6)\n",
    "#restriction = restriction2casadi(hs_restr, F_cas, 3, 4, 6)"
   ]
  },
  {
   "cell_type": "code",
   "execution_count": null,
   "id": "fa03e6b7",
   "metadata": {},
   "outputs": [],
   "source": [
    "for ii in range(N):\n",
    "    opti.subject_to(restriction(X[ii,:], X[ii+1,:], U[ii,:], U[ii+1,:],T/N, Params)==0)\n",
    "    opti.subject_to(opti.bounded(-u_m[0],U[ii, 0],u_m[0]))\n",
    "    opti.subject_to(opti.bounded(-u_m[1],U[ii, 1],u_m[1]))\n",
    "    opti.subject_to(opti.bounded(-u_m[2],U[ii, 2],u_m[2]))\n",
    "    opti.subject_to(opti.bounded(-u_m[3],U[ii, 3],u_m[3]))"
   ]
  },
  {
   "cell_type": "code",
   "execution_count": null,
   "id": "a0f4aac3",
   "metadata": {},
   "outputs": [],
   "source": [
    "opti.set_value(T, 12)\n",
    "max_par = 2.0\n",
    "opti.set_value(u_m, [max_par for ii in range(4)])\n",
    "\n",
    "m_r = 15.75\n",
    "l0 = 0.2096\n",
    "l1 = 0.2096\n",
    "i_r = 0.461\n",
    "i_w = 0.00266\n",
    "r = 0.0667\n",
    "\n",
    "opti.set_value(Params, [i_r, i_w, l0, l1, m_r, r])"
   ]
  },
  {
   "cell_type": "code",
   "execution_count": null,
   "id": "5bd9d2b0",
   "metadata": {},
   "outputs": [],
   "source": [
    "sol = opti.solve()"
   ]
  },
  {
   "cell_type": "code",
   "execution_count": null,
   "id": "9e11c910",
   "metadata": {},
   "outputs": [],
   "source": [
    "xx_simp = sol.value(X)\n",
    "uu_simp = sol.value(U) "
   ]
  },
  {
   "cell_type": "code",
   "execution_count": null,
   "id": "718c2771",
   "metadata": {
    "scrolled": false
   },
   "outputs": [],
   "source": [
    "plt.figure(figsize=[15,10])\n",
    "for ii in range(3):\n",
    "    plt.plot(xx_simp[:,ii])"
   ]
  },
  {
   "cell_type": "code",
   "execution_count": null,
   "id": "2dfdd52a",
   "metadata": {},
   "outputs": [],
   "source": [
    "plt.figure(figsize=[15,10])\n",
    "for ii in range(4):\n",
    "    plt.plot(uu_simp[:,ii])"
   ]
  },
  {
   "cell_type": "code",
   "execution_count": null,
   "id": "75f58c65",
   "metadata": {},
   "outputs": [],
   "source": [
    "from optibot.schemes import integrate_euler, integrate_hs, integrate_trapz, integrate_rk4"
   ]
  },
  {
   "cell_type": "code",
   "execution_count": null,
   "id": "53135791",
   "metadata": {},
   "outputs": [],
   "source": [
    "compr_sol_simp = integrate_trapz(\n",
    "    xx_simp[0,:],\n",
    "    uu_simp,\n",
    "    np_func,\n",
    "    sol.value(T)/N,\n",
    "    [i_r, i_w, l0, l1, m_r, r]\n",
    ")"
   ]
  },
  {
   "cell_type": "code",
   "execution_count": null,
   "id": "1daf9901",
   "metadata": {
    "scrolled": false
   },
   "outputs": [],
   "source": [
    "plt.figure(figsize=[15,10])\n",
    "for ii in range(3):\n",
    "    plt.plot(compr_sol_simp[:,ii])"
   ]
  },
  {
   "cell_type": "code",
   "execution_count": null,
   "id": "9918690c",
   "metadata": {},
   "outputs": [],
   "source": []
  }
 ],
 "metadata": {
  "kernelspec": {
   "display_name": "Python 3",
   "language": "python",
   "name": "python3"
  },
  "language_info": {
   "codemirror_mode": {
    "name": "ipython",
    "version": 3
   },
   "file_extension": ".py",
   "mimetype": "text/x-python",
   "name": "python",
   "nbconvert_exporter": "python",
   "pygments_lexer": "ipython3",
   "version": "3.9.5"
  }
 },
 "nbformat": 4,
 "nbformat_minor": 5
}
