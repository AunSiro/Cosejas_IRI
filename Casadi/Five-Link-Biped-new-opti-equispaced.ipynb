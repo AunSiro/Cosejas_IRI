{
 "cells": [
  {
   "cell_type": "code",
   "execution_count": null,
   "id": "b1f6cd9b",
   "metadata": {},
   "outputs": [],
   "source": [
    "import numpy as np\n",
    "import matplotlib.pyplot as plt\n",
    "import pickle"
   ]
  },
  {
   "cell_type": "code",
   "execution_count": null,
   "id": "9cf02b82",
   "metadata": {},
   "outputs": [],
   "source": [
    "from sympy import (symbols, simplify)\n",
    "from sympy.physics.mechanics import dynamicsymbols, init_vprinting\n",
    "from sympy.physics.mechanics import Lagrangian, ReferenceFrame, Point, Particle,inertia, RigidBody, angular_momentum"
   ]
  },
  {
   "cell_type": "code",
   "execution_count": null,
   "id": "bf1ec76d",
   "metadata": {},
   "outputs": [],
   "source": [
    "from optibot.symbolic import lagrange, diff_to_symb, SimpLagrangesMethod\n",
    "from optibot.numpy import unpack"
   ]
  },
  {
   "cell_type": "code",
   "execution_count": null,
   "id": "072a034c",
   "metadata": {},
   "outputs": [],
   "source": [
    "init_vprinting()"
   ]
  },
  {
   "cell_type": "markdown",
   "id": "adaeac40",
   "metadata": {},
   "source": [
    "### Symbolic Problem Modelling"
   ]
  },
  {
   "cell_type": "code",
   "execution_count": null,
   "id": "48219687",
   "metadata": {},
   "outputs": [],
   "source": [
    "m0, m1, m2, m3, m4, l0, l1, l2, l3, l4, t, g = symbols('m_0:5 l_0:5 t g')\n",
    "I0, I1, I2, I3, I4, d0, d1, d2, d3, d4 = symbols('I_0:5 d_0:5')\n",
    "q0, q1, q2, q3, q4 = dynamicsymbols('q_0:5')\n",
    "m0, m1, m2, m3, m4, l0, l1, l2, l3, l4, t, g, I0, I1, I2, I3, I4, d0, d1, d2, d3, d4, q0, q1, q2, q3, q4"
   ]
  },
  {
   "cell_type": "code",
   "execution_count": null,
   "id": "572b34fb",
   "metadata": {},
   "outputs": [],
   "source": [
    "N_in = ReferenceFrame('N')\n",
    "P0 = Point('P0')\n",
    "P0.set_vel(N_in, 0)\n",
    "\n",
    "N0 = N_in.orientnew('N0', 'Axis', [q0, N_in.z])\n",
    "P1 = P0.locatenew('P1', l0 * N0.y)\n",
    "P1.set_vel(N_in, P1.pos_from(P0).dt(N_in))\n",
    "CM0 = P0.locatenew('CM0', (l0-d0) * N0.y)\n",
    "CM0.set_vel(N_in, CM0.pos_from(P0).dt(N_in))\n",
    "I_0 = inertia(N0, 0, 0, I0)\n",
    "body0 = RigidBody('Stance_Tibia', CM0, N0, m0, (I_0,CM0))\n",
    "body0.potential_energy = m0 * g * CM0.pos_from(P0).dot(N_in.y)\n",
    "\n",
    "\n",
    "N1 = N_in.orientnew('N1', 'Axis', [q1, N_in.z])\n",
    "P2 = P1.locatenew('P2', l1 * N1.y)\n",
    "P2.set_vel(N_in, P2.pos_from(P0).dt(N_in))\n",
    "CM1 = P1.locatenew('CM1', (l1-d1) * N1.y)\n",
    "CM1.set_vel(N_in, CM1.pos_from(P0).dt(N_in))\n",
    "I_1 = inertia(N1, 0, 0, I1)\n",
    "body1 = RigidBody('Stance_Femur', CM1, N1, m1, (I_1,CM1))\n",
    "body1.potential_energy = m1 * g * CM1.pos_from(P0).dot(N_in.y)\n",
    "\n",
    "\n",
    "N2 = N_in.orientnew('N2', 'Axis', [q2, N_in.z])\n",
    "P3 = P2.locatenew('P3', l2 * N2.y)\n",
    "P3.set_vel(N_in, P3.pos_from(P0).dt(N_in))\n",
    "CM2 = P2.locatenew('CM2', d2 * N2.y)\n",
    "CM2.set_vel(N_in, CM2.pos_from(P0).dt(N_in))\n",
    "I_2 = inertia(N2, 0, 0, I2)\n",
    "body2 = RigidBody('Torso', CM2, N2, m2, (I_2,CM2))\n",
    "body2.potential_energy = m2 * g * CM2.pos_from(P0).dot(N_in.y)\n",
    "\n",
    "\n",
    "N3 = N_in.orientnew('N3', 'Axis', [q3, N_in.z])\n",
    "P4 = P2.locatenew('P4', -l3 * N3.y)\n",
    "P4.set_vel(N_in, P4.pos_from(P0).dt(N_in))\n",
    "CM3 = P2.locatenew('CM3', -d3 * N3.y)\n",
    "CM3.set_vel(N_in, CM3.pos_from(P0).dt(N_in))\n",
    "I_3 = inertia(N3, 0, 0, I3)\n",
    "body3 = RigidBody('Swing_Femur', CM3, N3, m3, (I_3,CM3))\n",
    "body3.potential_energy = m3 * g * CM3.pos_from(P0).dot(N_in.y)\n",
    "\n",
    "\n",
    "N4 = N_in.orientnew('N4', 'Axis', [q4, N_in.z])\n",
    "P5 = P4.locatenew('P5', -l4 * N4.y)\n",
    "P5.set_vel(N_in, P5.pos_from(P0).dt(N_in))\n",
    "CM4 = P4.locatenew('CM4', -d4 * N4.y)\n",
    "CM4.set_vel(N_in, CM4.pos_from(P0).dt(N_in))\n",
    "I_4 = inertia(N4, 0, 0, I4)\n",
    "body4 = RigidBody('Swing_Tibia', CM4, N4, m4, (I_4,CM4))\n",
    "body4.potential_energy = m4 * g * CM4.pos_from(P0).dot(N_in.y)"
   ]
  },
  {
   "cell_type": "code",
   "execution_count": null,
   "id": "95980f54",
   "metadata": {},
   "outputs": [],
   "source": [
    "Lag_simp = Lagrangian(N_in, body0, body1, body2, body3, body4)"
   ]
  },
  {
   "cell_type": "code",
   "execution_count": null,
   "id": "1e7fe237",
   "metadata": {},
   "outputs": [],
   "source": [
    "from optibot.symbolic import ImplicitLagrangesMethod"
   ]
  },
  {
   "cell_type": "code",
   "execution_count": null,
   "id": "2f931cee",
   "metadata": {},
   "outputs": [],
   "source": [
    "u0, u1, u2, u3, u4 = symbols('u_:5')\n",
    "FL = [\n",
    "    (N0, (u0-u1) * N_in.z),\n",
    "    (N1, (u1-u2) * N_in.z),\n",
    "    (N2, (u2-u3) * N_in.z),\n",
    "    (N3, (u3-u4) * N_in.z),\n",
    "    (N4, u4 * N_in.z)\n",
    "]\n",
    "LM_small = ImplicitLagrangesMethod(Lag_simp, [q0, q1, q2, q3, q4], forcelist=FL, frame=N_in)"
   ]
  },
  {
   "cell_type": "markdown",
   "id": "3a448e9d",
   "metadata": {},
   "source": [
    "_leq = LM_small.form_lagranges_equations()"
   ]
  },
  {
   "cell_type": "markdown",
   "id": "c3c7c811",
   "metadata": {
    "scrolled": true
   },
   "source": [
    "impl_x = LM_small.implicit_dynamics_x"
   ]
  },
  {
   "cell_type": "markdown",
   "id": "9bb01d91",
   "metadata": {},
   "source": [
    "impl_q = LM_small.implicit_dynamics_q"
   ]
  },
  {
   "cell_type": "markdown",
   "id": "d2765f1f",
   "metadata": {},
   "source": [
    "from optibot.casadi import implicit_dynamic_q_to_casadi_function, implicit_dynamic_x_to_casadi_function\n",
    "from optibot.symbolic import find_arguments"
   ]
  },
  {
   "cell_type": "markdown",
   "id": "ee165810",
   "metadata": {},
   "source": [
    "import casadi as cas"
   ]
  },
  {
   "cell_type": "markdown",
   "id": "a5b38642",
   "metadata": {
    "scrolled": true
   },
   "source": [
    "imp_dyn_x_f_cas = implicit_dynamic_x_to_casadi_function(impl_x, list(dynamicsymbols('x_0:10')), verbose=True)"
   ]
  },
  {
   "cell_type": "markdown",
   "id": "ae4e5262",
   "metadata": {
    "scrolled": true
   },
   "source": [
    "imp_dyn_x_f_cas = implicit_dynamic_x_to_casadi_function(impl_x, 10, verbose=True)"
   ]
  },
  {
   "cell_type": "markdown",
   "id": "977f8d69",
   "metadata": {},
   "source": [
    "imp_dyn_q_f_cas = implicit_dynamic_q_to_casadi_function(impl_q, list(LM_small.q), verbose=True)"
   ]
  },
  {
   "cell_type": "markdown",
   "id": "a81cbe75",
   "metadata": {},
   "source": [
    "Lag_num = Lag_simp.subs([\n",
    "    [m0,3.2],\n",
    "    [m1,6.8],\n",
    "    [m2,20],\n",
    "    [m3,6.8],\n",
    "    [m4,3.2],\n",
    "    [l0,0.4],\n",
    "    [l1,0.4],\n",
    "    [l2,0.625],\n",
    "    [l3,0.4],\n",
    "    [l4,0.4],\n",
    "    [I0,0.93],\n",
    "    [I1,1.08],\n",
    "    [I2,2.22],\n",
    "    [I3,1.08],\n",
    "    [I4,0.93],\n",
    "    [d0,1.128],\n",
    "    [d1,0.163],\n",
    "    [d2,0.2],\n",
    "    [d3,0.163],\n",
    "    [d4,0.128],\n",
    "    [g, 9.81]\n",
    "])\n",
    "Lag_num"
   ]
  },
  {
   "cell_type": "code",
   "execution_count": null,
   "id": "a8e75ad7",
   "metadata": {},
   "outputs": [],
   "source": [
    "from optibot.symbolic import diff_to_symb_expr"
   ]
  },
  {
   "cell_type": "code",
   "execution_count": null,
   "id": "62c52025",
   "metadata": {
    "scrolled": true
   },
   "outputs": [],
   "source": [
    "feet_x = P5.pos_from(P0).dot(N_in.x)\n",
    "feet_x = diff_to_symb_expr(feet_x)\n",
    "feet_x"
   ]
  },
  {
   "cell_type": "code",
   "execution_count": null,
   "id": "99ab5029",
   "metadata": {},
   "outputs": [],
   "source": [
    "feet_y = P5.pos_from(P0).dot(N_in.y)\n",
    "feet_y = diff_to_symb_expr(feet_y)\n",
    "feet_y"
   ]
  },
  {
   "cell_type": "code",
   "execution_count": null,
   "id": "828f68d3",
   "metadata": {},
   "outputs": [],
   "source": [
    "feet_y_vel = P5.vel(N_in).dot(N_in.y)   #pos_from(P0).dot(N_in.y)\n",
    "feet_y_vel = diff_to_symb_expr(feet_y_vel)\n",
    "feet_y_vel"
   ]
  },
  {
   "cell_type": "code",
   "execution_count": null,
   "id": "ce528447",
   "metadata": {},
   "outputs": [],
   "source": [
    "cm_pos = m0*CM0.pos_from(P0)\n",
    "cm_pos += m1*CM1.pos_from(P0)\n",
    "cm_pos += m2*CM2.pos_from(P0)\n",
    "cm_pos += m3*CM3.pos_from(P0)\n",
    "cm_pos += m4*CM4.pos_from(P0)\n",
    "cm_pos = cm_pos/(m0+m1+m2+m3+m4)\n",
    "\n",
    "sys_CM = P0.locatenew('Sys_CM', cm_pos)\n",
    "sys_CM_x = simplify(sys_CM.pos_from(P0).dot(N_in.x))\n",
    "sys_CM_y = simplify(sys_CM.pos_from(P0).dot(N_in.y))"
   ]
  },
  {
   "cell_type": "code",
   "execution_count": null,
   "id": "afd00d20",
   "metadata": {},
   "outputs": [],
   "source": [
    "from sympy import lambdify"
   ]
  },
  {
   "cell_type": "code",
   "execution_count": null,
   "id": "bbab5a63",
   "metadata": {},
   "outputs": [],
   "source": [
    "import casadi as cas\n",
    "from optibot.casadi import sympy2casadi"
   ]
  },
  {
   "cell_type": "code",
   "execution_count": null,
   "id": "dc652dcb",
   "metadata": {},
   "outputs": [],
   "source": [
    "sym_x = dynamicsymbols('q_0:5')\n",
    "sym_x = sym_x + [ii.diff() for ii in sym_x]\n",
    "sym_x = [diff_to_symb(ii) for ii in sym_x]\n",
    "sym_params = list(symbols('I_0:5 d_0:5 g l_0:2 l_3 m_0:5'))\n",
    "sym_add_params = [symbols('l_4'),]\n",
    "sym_vars = sym_x + sym_params + sym_add_params\n",
    "\n",
    "print(len(sym_vars), sym_vars)"
   ]
  },
  {
   "cell_type": "code",
   "execution_count": null,
   "id": "ec81e447",
   "metadata": {},
   "outputs": [],
   "source": [
    "cas_x_args = cas.MX.sym(\"x\", len(sym_x))\n",
    "cas_params = cas.MX.sym(\"p\", len(sym_params))\n",
    "cas_add_params = cas.MX.sym(\"p_add\", len(sym_add_params))\n",
    "cas_all_vars = [cas_x_args[ii] for ii in range(len(sym_x))]\n",
    "cas_all_vars += [cas_params[ii] for ii in range(len(sym_params))]\n",
    "cas_all_vars += [cas_add_params[ii] for ii in range(len(sym_add_params))]\n",
    "print(len(cas_all_vars), cas_all_vars)"
   ]
  },
  {
   "cell_type": "code",
   "execution_count": null,
   "id": "5322ec96",
   "metadata": {},
   "outputs": [],
   "source": [
    "_cas_expr_temp_x = sympy2casadi(feet_x, sym_vars, cas_all_vars)\n",
    "feet_x_cas = cas.Function(\n",
    "        \"Feet_x\",\n",
    "        [cas_x_args, cas_params, cas_add_params],\n",
    "        [_cas_expr_temp_x,],\n",
    "        [\"x\", \"params\", \"additional_params\"],\n",
    "        [\"feet_x_position\"],\n",
    "    )"
   ]
  },
  {
   "cell_type": "code",
   "execution_count": null,
   "id": "78ab102b",
   "metadata": {},
   "outputs": [],
   "source": [
    "_cas_expr_temp_y = sympy2casadi(feet_y, sym_vars, cas_all_vars)\n",
    "feet_y_cas = cas.Function(\n",
    "        \"Feet_y\",\n",
    "        [cas_x_args, cas_params, cas_add_params],\n",
    "        [_cas_expr_temp_y,],\n",
    "        [\"x\", \"params\", \"additional_params\"],\n",
    "        [\"feet_y_position\"],\n",
    "    )"
   ]
  },
  {
   "cell_type": "code",
   "execution_count": null,
   "id": "6f0cfbd3",
   "metadata": {},
   "outputs": [],
   "source": [
    "_cas_expr_temp_y_vel = sympy2casadi(feet_y_vel, sym_vars, cas_all_vars)\n",
    "feet_y_vel_cas = cas.Function(\n",
    "        \"Feet_y_vel\",\n",
    "        [cas_x_args, cas_params, cas_add_params],\n",
    "        [_cas_expr_temp_y_vel,],\n",
    "        [\"x\", \"params\", \"additional_params\"],\n",
    "        [\"feet_y_speed\"],\n",
    "    )"
   ]
  },
  {
   "cell_type": "code",
   "execution_count": null,
   "id": "271543e2",
   "metadata": {},
   "outputs": [],
   "source": [
    "def simetric_cond_casadi(n = 5):\n",
    "    x1 = cas.MX.sym('x_1', 2*n)\n",
    "    x2 = cas.MX.sym('x_2', 2*n)\n",
    "    cond = [x1[ii] - x2[n-1-ii] for ii in range(n)]\n",
    "    cas_funcs = cas.horzcat(*cond)\n",
    "    return cas.Function(\n",
    "        \"Sim_cond\",\n",
    "        [x1, x2],\n",
    "        [cas_funcs,],\n",
    "        [\"x_1\", \"x2\"],\n",
    "        [\"residue\"],\n",
    "    )"
   ]
  },
  {
   "cell_type": "code",
   "execution_count": null,
   "id": "9dc41926",
   "metadata": {},
   "outputs": [],
   "source": [
    "simetric_5_links = simetric_cond_casadi(5)\n",
    "simetric_5_links"
   ]
  },
  {
   "cell_type": "code",
   "execution_count": null,
   "id": "3a8b731f",
   "metadata": {},
   "outputs": [],
   "source": [
    "bodies = [body0, body1, body2, body3, body4]\n",
    "points_right = [P0, P1, P2, P2, P4]\n",
    "points_left = [P5, P4, P2, P2, P1]\n",
    "subs_key = list(zip(dynamicsymbols('q_0:5'),dynamicsymbols('q_p_0:5')))\n",
    "\n",
    "impact_eqs = []\n",
    "for ii in range(5):\n",
    "    print('calculating eq', ii)\n",
    "    print('\\tleft side')\n",
    "    left_side = angular_momentum(points_left[ii], N_in, *bodies[:5-ii]).dot(N_in.z)\n",
    "    left_side = simplify(left_side)\n",
    "    print('\\tright side')\n",
    "    right_side = angular_momentum(points_right[ii], N_in, *bodies[ii:]).dot(N_in.z)\n",
    "    right_side = simplify(right_side).subs(subs_key)\n",
    "    impact_eqs.append(left_side-right_side)\n",
    "#impact_eqs"
   ]
  },
  {
   "cell_type": "markdown",
   "id": "39811667",
   "metadata": {},
   "source": [
    "for ii in range(5):\n",
    "    print(points_left[ii],bodies[:5-ii])\n",
    "for ii in range(5):\n",
    "    print(points_right[ii],bodies[ii:])"
   ]
  },
  {
   "cell_type": "code",
   "execution_count": null,
   "id": "1a75f77f",
   "metadata": {},
   "outputs": [],
   "source": [
    "def impact_cond_casadi(eqs, x1_sym, x2_sym, sym_params, sym_add_params):\n",
    "    x1_sym = [diff_to_symb(ii) for ii in x1_sym]\n",
    "    x2_sym = [diff_to_symb(ii) for ii in x2_sym]\n",
    "    eqs = [diff_to_symb_expr(ii) for ii in eqs]\n",
    "\n",
    "    all_vars = x1_sym + x2_sym + sym_params + sym_add_params\n",
    "    n = len(x1_sym)\n",
    "    cas_x1 = cas.MX.sym('x_1', n)\n",
    "    cas_x2 = cas.MX.sym('x_2', n)\n",
    "    cas_params = cas.MX.sym(\"p\", len(sym_params))\n",
    "    cas_add_params = cas.MX.sym(\"p_add\", len(sym_add_params))\n",
    "    cas_all_vars = [cas_x1[ii] for ii in range(n)]\n",
    "    cas_all_vars += [cas_x2[ii] for ii in range(n)]\n",
    "    cas_all_vars += [cas_params[ii] for ii in range(len(sym_params))]\n",
    "    cas_all_vars += [cas_add_params[ii] for ii in range(len(sym_add_params))]\n",
    "    \n",
    "    cas_funcs = []\n",
    "    for function in eqs:\n",
    "        cas_funcs.append(sympy2casadi(function, all_vars, cas_all_vars))\n",
    "    cas_funcs = cas.horzcat(*cas_funcs)\n",
    "    return cas.Function(\n",
    "        \"Sim_cond\",\n",
    "        [cas_x1, cas_x2, cas_params, cas_add_params],\n",
    "        [cas_funcs,],\n",
    "        [\"x_1\", \"x2\", 'params', 'additional_params'],\n",
    "        [\"residue\"],\n",
    "    )"
   ]
  },
  {
   "cell_type": "code",
   "execution_count": null,
   "id": "ac93f537",
   "metadata": {},
   "outputs": [],
   "source": [
    "sym_x = dynamicsymbols('q_0:5')\n",
    "sym_x = sym_x + [ii.diff() for ii in sym_x]\n",
    "subs_key = list(zip(dynamicsymbols('q_0:5'),dynamicsymbols('q_p_0:5')))\n",
    "sym_x_2 = [ii.subs(subs_key) for ii in sym_x]\n",
    "impact_cond_cas_f = impact_cond_casadi(impact_eqs, sym_x,  sym_x_2, sym_params, sym_add_params)"
   ]
  },
  {
   "cell_type": "code",
   "execution_count": null,
   "id": "c582149f",
   "metadata": {},
   "outputs": [],
   "source": [
    "sys_cm_np = lambdify([sym_x, sym_params], [sys_CM_x, sys_CM_y],'numpy')"
   ]
  },
  {
   "cell_type": "code",
   "execution_count": null,
   "id": "8edb4b5d",
   "metadata": {},
   "outputs": [],
   "source": [
    "ang_mom_p0 = angular_momentum(P0, N_in, *bodies).dot(N_in.z)\n",
    "ang_mom_p0_np = lambdify([sym_x, sym_params], ang_mom_p0,'numpy')"
   ]
  },
  {
   "cell_type": "code",
   "execution_count": null,
   "id": "8321b26d",
   "metadata": {},
   "outputs": [],
   "source": [
    "ang_mom_p5 = angular_momentum(P5, N_in, *bodies).dot(N_in.z)\n",
    "ang_mom_p5_np = lambdify([sym_x, sym_params, sym_add_params], ang_mom_p5,'numpy')"
   ]
  },
  {
   "cell_type": "code",
   "execution_count": null,
   "id": "a0c745d9",
   "metadata": {},
   "outputs": [],
   "source": [
    "P5_static = P5.locatenew('P5_static', 0 * N_in.y)\n",
    "P5_static.set_vel(N_in, 0 * N_in.y)"
   ]
  },
  {
   "cell_type": "code",
   "execution_count": null,
   "id": "4ca1b8cc",
   "metadata": {},
   "outputs": [],
   "source": [
    "ang_mom_p5_static = angular_momentum(P5_static, N_in, *bodies).dot(N_in.z)\n",
    "ang_mom_p5_static_np = lambdify([sym_x, sym_params, sym_add_params], ang_mom_p5_static,'numpy')"
   ]
  },
  {
   "cell_type": "code",
   "execution_count": null,
   "id": "e7ee45fb",
   "metadata": {},
   "outputs": [],
   "source": [
    "from sympy.physics.mechanics import kinetic_energy, potential_energy"
   ]
  },
  {
   "cell_type": "code",
   "execution_count": null,
   "id": "265729fc",
   "metadata": {},
   "outputs": [],
   "source": [
    "system_energy = potential_energy(*bodies) + kinetic_energy(N_in, *bodies)"
   ]
  },
  {
   "cell_type": "code",
   "execution_count": null,
   "id": "03bd4e11",
   "metadata": {},
   "outputs": [],
   "source": [
    "system_energy_np = lambdify([sym_x, sym_params], system_energy,'numpy')"
   ]
  },
  {
   "cell_type": "code",
   "execution_count": null,
   "id": "12ac30f7",
   "metadata": {},
   "outputs": [],
   "source": [
    "LM_small.form_lagranges_equations()\n",
    "mass_matrix_np = lambdify([sym_x, sym_params], LM_small.mass_matrix,'numpy')"
   ]
  },
  {
   "cell_type": "code",
   "execution_count": null,
   "id": "a6678011",
   "metadata": {},
   "outputs": [],
   "source": [
    "sym_u = symbols('u_:5')\n",
    "#F_impl_np = lambdify([sym_x, sym_u, symbols('placeholder'), sym_params], LM_small.forcing,'numpy')\n",
    "F_impl_np = lambdify([sym_x, sym_u, sym_params], LM_small.forcing,'numpy')"
   ]
  },
  {
   "cell_type": "markdown",
   "id": "c0f69168",
   "metadata": {},
   "source": [
    "### Casadi optimization"
   ]
  },
  {
   "cell_type": "code",
   "execution_count": null,
   "id": "ed677222",
   "metadata": {},
   "outputs": [],
   "source": [
    "I_0_n, I_1_n, I_2_n, I_3_n, I_4_n = 0.93, 1.08, 2.22, 1.08, 0.93\n",
    "d_0_n, d_1_n, d_2_n, d_3_n, d_4_n = 0.128, 0.163, 0.2, 0.163, 0.128\n",
    "g_n = 9.81\n",
    "l_0_n, l_1_n, l_2_n, l_3_n, l_4_n = 0.4, 0.4, 0.625, 0.4, 0.4\n",
    "m_0_n, m_1_n, m_2_n, m_3_n, m_4_n = 3.2, 6.8, 20, 6.8, 3.2\n",
    "params = [\n",
    "    I_0_n, I_1_n, I_2_n, I_3_n, I_4_n,\n",
    "    d_0_n, d_1_n, d_2_n, d_3_n, d_4_n,\n",
    "    g_n,\n",
    "    l_0_n, l_1_n, l_3_n,\n",
    "    m_0_n, m_1_n, m_2_n, m_3_n, m_4_n\n",
    "]\n",
    "additional_params = [l_4_n,]"
   ]
  },
  {
   "cell_type": "code",
   "execution_count": null,
   "id": "1728d9d1",
   "metadata": {},
   "outputs": [],
   "source": [
    "from optibot.opti import Opti_Problem\n",
    "import time\n",
    "from functools import lru_cache"
   ]
  },
  {
   "cell_type": "code",
   "execution_count": null,
   "id": "f71f875f",
   "metadata": {},
   "outputs": [],
   "source": [
    "@lru_cache(maxsize=None)\n",
    "def five_link(scheme, N, ini_guess='lin', solve_repetitions = 1, t_end = 0.7, step_length = 0.5, verbose = False, silent = True):\n",
    "    _opti = Opti_Problem(\n",
    "        LM=LM_small,\n",
    "        params = params,\n",
    "        scheme = scheme,\n",
    "        ini_guess= ini_guess,\n",
    "        t_end = t_end,\n",
    "        verbose=verbose,\n",
    "        silent=silent,\n",
    "    )\n",
    "    _opti.dynamic_setup()\n",
    "    _opti.opti_setup(N)\n",
    "    _guess = [-0.3, 0.7, 0, -0.5, -0.6]\n",
    "    _opti.initial_guess(_guess, _guess[::-1])\n",
    "    _opti.u_sq_cost()\n",
    "    _opti.apply_scheme()\n",
    "    opti = _opti.opti\n",
    "    X = _opti.opti_arrs['x']\n",
    "    U = _opti.opti_arrs['u']\n",
    "    X_s = _opti.opti_points['x_s']\n",
    "    X_e = _opti.opti_points['x_e']\n",
    "    N = _opti.N\n",
    "    #Periodic gait constraint:\n",
    "    opti.subject_to(simetric_5_links(X_s, X_e) == 0)\n",
    "    opti.subject_to(impact_cond_cas_f(X_e, X_s, params, additional_params) == 0)\n",
    "    #Step size constraint:\n",
    "    opti.subject_to(feet_x_cas(X[-1,:], params, additional_params) == step_length)\n",
    "    opti.subject_to(feet_y_cas(X[-1,:], params, additional_params) == 0)\n",
    "    #Small Feet Conditions:\n",
    "    opti.subject_to(U[:,0] == 0)\n",
    "    if 'parab' in scheme:\n",
    "        U_c = _opti.opti_arrs['u_c']\n",
    "        opti.subject_to(U_c[:,0] == 0)\n",
    "    opti.subject_to(feet_y_vel_cas(X_s, params, additional_params)>0)\n",
    "    opti.subject_to(feet_y_vel_cas(X_e, params, additional_params)<0)\n",
    "    #Feet over ground Restrictions:\n",
    "    for ii in range(1,N):\n",
    "        opti.subject_to(feet_y_cas(X[ii,:], params, additional_params) > 0)\n",
    "    _opti.chrono_solve(solve_repetitions=solve_repetitions,)\n",
    "    return _opti.results"
   ]
  },
  {
   "cell_type": "code",
   "execution_count": null,
   "id": "251a8fc3",
   "metadata": {},
   "outputs": [],
   "source": [
    "_res = five_link('trapz', 16, 'lin', silent=False, verbose=True)"
   ]
  },
  {
   "cell_type": "markdown",
   "id": "8af81c26",
   "metadata": {},
   "source": [
    "from optibot.casadi import accelrestriction2casadi\n",
    "from optibot.schemes import (euler_accel_restr, trapz_accel_restr, trapz_mod_accel_restr,\n",
    "                             hs_mod_accel_restr, hs_accel_restr, hs_half_x)"
   ]
  },
  {
   "cell_type": "code",
   "execution_count": null,
   "id": "3b325e71",
   "metadata": {
    "scrolled": false
   },
   "outputs": [],
   "source": [
    "_res.keys()"
   ]
  },
  {
   "cell_type": "code",
   "execution_count": null,
   "id": "56a478df",
   "metadata": {},
   "outputs": [],
   "source": [
    "plt.figure(figsize=[14,10])\n",
    "labels= ['stance anckle', 'stance knee', 'stance hip', 'swing hip', 'swing knee']\n",
    "for ii in range(5):\n",
    "    plt.plot(_res['t'],_res['q'][:,ii], marker = 'o', label = labels[ii])\n",
    "#    plt.plot(_res['t_c'],_res['q_c'][:,ii], 'o', label = labels[ii] + ' u_c')\n",
    "plt.grid()\n",
    "plt.legend()"
   ]
  },
  {
   "cell_type": "markdown",
   "id": "eab55d97",
   "metadata": {},
   "source": [
    "plt.figure(figsize=[14,10])\n",
    "labels= ['stance tibia', 'stance femur', 'torso', 'swing femur', 'swing tibia']\n",
    "for ii in range(5):\n",
    "    plt.plot(T_sol_arr, X_sol[:,ii], marker = 'o', label = labels[ii])\n",
    "    plt.plot(T_c_arr,X_c_sol[:,ii], 'o', label = labels[ii] + ' x_c')\n",
    "plt.grid()\n",
    "plt.legend()"
   ]
  },
  {
   "cell_type": "code",
   "execution_count": null,
   "id": "8b133395",
   "metadata": {},
   "outputs": [],
   "source": [
    "def chain_to_draw(x,params):\n",
    "    [\n",
    "    I_0_n, I_1_n, I_2_n, I_3_n, I_4_n,\n",
    "    d_0_n, d_1_n, d_2_n, d_3_n, d_4_n,\n",
    "    g_n,\n",
    "    l_0_n, l_1_n, l_3_n,\n",
    "    m_0_n, m_1_n, m_2_n, m_3_n, m_4_n\n",
    "    ] = params\n",
    "    points_x = [0, ]\n",
    "    points_y = [0, ]\n",
    "    points_x.append(points_x[-1] - l_0_n*np.sin(x[0]))\n",
    "    points_x.append(points_x[-1] - l_1_n*np.sin(x[1]))\n",
    "    points_x.append(points_x[-1] - l_2_n*np.sin(x[2]))\n",
    "    points_x.append(points_x[-2])\n",
    "    points_x.append(points_x[-1] + l_3_n*np.sin(x[3]))\n",
    "    points_x.append(points_x[-1] + l_4_n*np.sin(x[4]))\n",
    "    \n",
    "    \n",
    "    points_y.append(points_y[-1] + l_0_n*np.cos(x[0]))\n",
    "    points_y.append(points_y[-1] + l_1_n*np.cos(x[1]))\n",
    "    points_y.append(points_y[-1] + l_2_n*np.cos(x[2]))\n",
    "    points_y.append(points_y[-2])\n",
    "    points_y.append(points_y[-1] - l_3_n*np.cos(x[3]))\n",
    "    points_y.append(points_y[-1] - l_4_n*np.cos(x[4]))\n",
    "    \n",
    "    return points_x, points_y"
   ]
  },
  {
   "cell_type": "code",
   "execution_count": null,
   "id": "ce54d361",
   "metadata": {
    "scrolled": false
   },
   "outputs": [],
   "source": [
    "plt.figure(figsize=[15,15])\n",
    "plt.grid()\n",
    "for ii in range(0, 1, 1):\n",
    "    points_x, points_y = chain_to_draw(_res['x'][ii], params)\n",
    "    plt.plot(points_x, points_y, marker = 'o', lw=4, ms=12, color = plt.cm.viridis(ii/1))\n",
    "    \n",
    "\n",
    "plt.gca().set_aspect('equal')"
   ]
  },
  {
   "cell_type": "code",
   "execution_count": null,
   "id": "990872d5",
   "metadata": {},
   "outputs": [],
   "source": []
  },
  {
   "cell_type": "markdown",
   "id": "bbdf47ce",
   "metadata": {},
   "source": [
    "total_mass = m_0_n + m_1_n + m_2_n + m_3_n + m_4_n\n",
    "ang_mom_arr = [ang_mom_p0_np(X_sol[ii,:],params) for ii in range(N+1)]\n",
    "ang_mom_swing_foot_arr = [ang_mom_p5_np(X_sol[ii,:],params, additional_params) for ii in range(N+1)]\n",
    "ang_mom_swing_foot_static_arr = [ang_mom_p5_static_np(X_sol[ii,:],params, additional_params) for ii in range(N+1)]\n",
    "cm_torque_arr = [total_mass * -g_n * sys_cm_np(X_sol[ii,:], params)[0] for ii in range(N+1)]\n",
    "ang_mom_arr_deriv = np.gradient(ang_mom_arr, T_sol_arr)"
   ]
  },
  {
   "cell_type": "markdown",
   "id": "7cda7bb6",
   "metadata": {},
   "source": [
    "plt.figure(figsize=[15,10])\n",
    "\n",
    "plt.plot(T_sol_arr, ang_mom_arr, label = 'angular moment around stance foot')\n",
    "plt.plot(T_sol_arr, ang_mom_swing_foot_arr, label = 'angular moment around swing foot')\n",
    "plt.plot(T_sol_arr, ang_mom_swing_foot_static_arr, label = 'angular moment around static point at swing foot')\n",
    "plt.plot(T_sol_arr, cm_torque_arr)\n",
    "plt.plot(T_sol_arr, ang_mom_arr_deriv)\n",
    "plt.grid()\n",
    "plt.legend()"
   ]
  },
  {
   "cell_type": "markdown",
   "id": "aea36240",
   "metadata": {},
   "source": [
    "system_energy_arr = [system_energy_np(X_sol[ii,:],params) for ii in range(N+1)]\n",
    "system_energy_arr_deriv = np.gradient(system_energy_arr, T_sol_arr)\n",
    "joint_angles = -X_sol[:,:4]+X_sol[:,1:5]\n",
    "joint_speeds = -X_sol[:,5:9]+X_sol[:,6:10]\n",
    "external_power = np.sum(joint_speeds*U_sol[:,1:], axis=1)"
   ]
  },
  {
   "cell_type": "markdown",
   "id": "c097a67e",
   "metadata": {},
   "source": [
    "plt.figure(figsize=[15,10])\n",
    "\n",
    "plt.plot(T_sol_arr, system_energy_arr)\n",
    "plt.plot(T_sol_arr, system_energy_arr_deriv)\n",
    "plt.plot(T_sol_arr, external_power)\n",
    "plt.grid()"
   ]
  },
  {
   "cell_type": "markdown",
   "id": "3b57dc22",
   "metadata": {},
   "source": [
    "x_guess = X_sol.copy()\n",
    "x_guess[:,:5] = q_guess\n",
    "x_guess[:,5:] = q_dot_guess"
   ]
  },
  {
   "cell_type": "markdown",
   "id": "9f3c4949",
   "metadata": {
    "scrolled": false
   },
   "source": [
    "plt.figure(figsize=[15,15])\n",
    "plt.grid()\n",
    "for ii in range(N+1):\n",
    "    points_x, points_y = chain_to_draw(x_guess[ii], params)\n",
    "    plt.plot(points_x, points_y, color = plt.cm.viridis(ii/26))\n",
    "    \n",
    "\n",
    "plt.gca().set_aspect('equal')"
   ]
  },
  {
   "cell_type": "code",
   "execution_count": null,
   "id": "2c13008e",
   "metadata": {},
   "outputs": [],
   "source": [
    "from optibot.schemes import interpolated_array, interpolated_array_derivative\n",
    "from optibot.analysis import dynamic_error_implicit"
   ]
  },
  {
   "cell_type": "markdown",
   "id": "fa01779e",
   "metadata": {
    "scrolled": false
   },
   "source": [
    "n_graph = 1000\n",
    "t_arr = np.linspace(0,2,n_graph)\n",
    "dyn_err_q_hs_lin, dyn_err_v_hs_lin, dyn_err_2_a_hs_lin, dyn_err_2_b_hs_lin = dynamic_error_implicit(\n",
    "    x_arr=X_sol,\n",
    "    u_arr=U_sol,\n",
    "    t_end=T_sol,\n",
    "    params = params,\n",
    "    F = F_impl_np,\n",
    "    M = mass_matrix_np,\n",
    "    lambda_arr = None,\n",
    "    scheme = 'hs_parab', \n",
    "    u_scheme='parab',\n",
    "    scheme_params={'u_c':U_c_sol,\n",
    "                  'x_dot_c': X_dot_c_sol,\n",
    "                  'x_c': X_c_sol},\n",
    "    n_interp= n_graph)\n",
    "\n",
    "\n",
    "for ii in range(5):\n",
    "    plt.figure(figsize=[14,8])\n",
    "    plt.plot(t_arr,-dyn_err_q_hs_lin[:,ii], '-', label = f'q {ii}')\n",
    "    plt.plot(np.linspace(0,2,26), np.zeros(26), 'ok')\n",
    "    plt.legend()\n",
    "    plt.grid()\n"
   ]
  },
  {
   "cell_type": "markdown",
   "id": "ac83f720",
   "metadata": {
    "scrolled": false
   },
   "source": [
    "for ii in range(5):\n",
    "    plt.figure(figsize=[14,8])\n",
    "    plt.plot(t_arr,dyn_err_v_hs_lin[:,ii], '-', label = f'q {ii}')\n",
    "    plt.plot(np.linspace(0,2,26), np.zeros(26), 'ok')\n",
    "    plt.legend()\n",
    "    plt.grid()\n",
    "    plt.figure(figsize=[14,8])\n"
   ]
  },
  {
   "cell_type": "markdown",
   "id": "8d280956",
   "metadata": {
    "scrolled": false
   },
   "source": [
    "for ii in range(5):\n",
    "    plt.figure(figsize=[14,8])\n",
    "    plt.plot(t_arr,dyn_err_2_b_hs_lin[:,ii], '-', label = f'q {ii}')\n",
    "    plt.plot(np.linspace(0,2,26), np.zeros(26), 'ok')\n",
    "    plt.legend()\n",
    "    plt.grid()\n",
    "    plt.figure(figsize=[14,8])\n"
   ]
  },
  {
   "cell_type": "markdown",
   "id": "13728f2a",
   "metadata": {},
   "source": [
    "## Sistematic comparative"
   ]
  },
  {
   "cell_type": "code",
   "execution_count": null,
   "id": "665d6f96",
   "metadata": {},
   "outputs": [],
   "source": [
    "from functools import lru_cache"
   ]
  },
  {
   "cell_type": "code",
   "execution_count": null,
   "id": "0cd0d41e",
   "metadata": {},
   "outputs": [],
   "source": [
    "def sch_to_lab(sch):\n",
    "    label_dict = {\n",
    "        'hs': 'HS-1-Toputto',\n",
    "        'hs_mod': 'HS-2-Toputto',\n",
    "        'hs_parab': 'HS-1',\n",
    "        'hs_mod_parab': 'HS-2',\n",
    "        'trapz':'TZ-1',\n",
    "        'trapz_mod':'TZ-2'\n",
    "    }\n",
    "    return label_dict[sch]\n",
    "\n",
    "def sch_to_long_label(sch):\n",
    "    titles = ['Hermite Simpson',\n",
    "          '2nd order Hermite Simpson',\n",
    "          'Trapezoidal',\n",
    "          '2nd order Trapezoidal',\n",
    "          'Hermite Simpson (Toputto)',\n",
    "          '2nd order Hermite Simpson (Toputto)',]\n",
    "    schemes = ['hs_parab', 'hs_mod_parab','trapz', 'trapz_mod', 'hs', 'hs_mod']\n",
    "    lname_dict = {}\n",
    "    for ii in range(6):\n",
    "        lname_dict[schemes[ii]] = titles[ii]\n",
    "    return lname_dict[sch]\n",
    "        \n",
    "\n",
    "def sch_to_color(sch):\n",
    "    color_dict = {}\n",
    "    for ii, sc_name in enumerate(['hs_parab', 'trapz_mod', 'trapz', 'hs_mod_parab','hs', 'hs_mod']):\n",
    "        color_dict[sc_name] = f'C{ii}'\n",
    "    return color_dict[sch]\n",
    "\n",
    "def scheme_kwargs(sch, longlabel=False):\n",
    "    kwargs = {'marker' :'o', 'c':sch_to_color(sch)}\n",
    "    if longlabel:\n",
    "        kwargs['label'] = sch_to_long_label(sch)\n",
    "    else:\n",
    "        kwargs['label'] = sch_to_lab(sch)\n",
    "    return kwargs"
   ]
  },
  {
   "cell_type": "code",
   "execution_count": null,
   "id": "11cfb8cd",
   "metadata": {},
   "outputs": [],
   "source": [
    "plt.rcParams.update({'font.size': 15})\n",
    "oct_fig_size = [10,6]"
   ]
  },
  {
   "cell_type": "code",
   "execution_count": null,
   "id": "478c3d14",
   "metadata": {},
   "outputs": [],
   "source": [
    "# If Loading a saved run:\n",
    "with open('biped_results.pkl', 'rb') as f:\n",
    "    results = pickle.load(f)\n",
    "schemes = ['trapz', 'trapz_mod', 'hs_parab', 'hs_mod_parab',]"
   ]
  },
  {
   "cell_type": "code",
   "execution_count": null,
   "id": "422b213d",
   "metadata": {},
   "outputs": [],
   "source": [
    "#schemes = ['LG','LG2']#'D2', 'LGL', \n",
    "schemes =['trapz', 'trapz_mod', 'hs_parab', 'hs_mod_parab',] #'hs', 'hs_mod',\n",
    "\n",
    "initials = ['lin']#, 'funcs']\n",
    "solve_repetitions = 10\n",
    "N_arr = [20, 25, 30, 40, 50, 60, 80, 100, 120, 160, 200]#,50,55]#\n",
    "\n",
    "results = {}\n",
    "\n",
    "for scheme in schemes:\n",
    "    key = scheme\n",
    "    print('Problem:', key)\n",
    "    results[key] = {'N_arr':N_arr}\n",
    "    for N in N_arr:\n",
    "        print(f'\\tN = {N} , ', time.strftime('%H:%M:%S ', time.localtime(time.time())))\n",
    "        results[key][N] = five_link(\n",
    "            N = N,\n",
    "            scheme = scheme,\n",
    "            solve_repetitions = solve_repetitions,\n",
    "            t_end = 0.7,\n",
    "            step_length = 0.5)\n"
   ]
  },
  {
   "cell_type": "markdown",
   "id": "03c5b0f8",
   "metadata": {},
   "source": [
    "schemes = ['LGL']#'D2', 'LGL', \n",
    "initials = ['lin']#, 'funcs']\n",
    "solve_repetitions = 1\n",
    "N_arr = [4,5,6,7,8,9,10,11,12,13,14,15,16,17,18,19,20,21,22,23,24,25,30]#,35,40,45]#,50,55]#\n",
    "\n",
    "\n",
    "for scheme in schemes:\n",
    "    key = scheme\n",
    "    print('Problem:', key)\n",
    "    results[key] = {'N_arr':N_arr}\n",
    "    for N in N_arr:\n",
    "        print(f'\\tN = {N} , ', time.strftime('%H:%M:%S ', time.localtime(time.time())))\n",
    "        results[key][N] = five_link(\n",
    "            N = N,\n",
    "            scheme = scheme,\n",
    "            solve_repetitions = solve_repetitions,\n",
    "            t_end = 0.7,\n",
    "            step_length = 0.5)\n"
   ]
  },
  {
   "cell_type": "markdown",
   "id": "3cd1b1ec",
   "metadata": {},
   "source": [
    "schemes = ['LG','LG2', 'LGL']#'D2', 'LGL', "
   ]
  },
  {
   "cell_type": "code",
   "execution_count": null,
   "id": "4d8d44d9",
   "metadata": {},
   "outputs": [],
   "source": [
    "for scheme in schemes:\n",
    "    key = scheme\n",
    "    _c = []\n",
    "    _cpudt = []\n",
    "    _iters = []\n",
    "    for N in results[key]['N_arr']:\n",
    "        _c.append(results[key][N]['cost'])\n",
    "        _cpudt.append(results[key][N]['cpudt'])\n",
    "        _iters.append(results[key][N]['iter_count'])\n",
    "    results[key]['cost'] = np.array(_c)\n",
    "    results[key]['cpudt'] = np.array(_cpudt)\n",
    "    results[key]['iter_count'] = np.array(_iters)"
   ]
  },
  {
   "cell_type": "code",
   "execution_count": null,
   "id": "1c47fcc1",
   "metadata": {},
   "outputs": [],
   "source": [
    "import matplotlib\n",
    "matplotlib.rcParams['pdf.fonttype'] = 42\n",
    "matplotlib.rcParams['ps.fonttype'] = 42\n",
    "plt.rcParams.update({'font.size': 15})\n",
    "oct_fig_size = [10,6]"
   ]
  },
  {
   "cell_type": "code",
   "execution_count": null,
   "id": "37bf9bf1",
   "metadata": {},
   "outputs": [],
   "source": [
    "#titles = ['LG','LG2']#'D2', 'LGL', \n",
    "schemes =['trapz', 'trapz_mod', 'hs_parab', 'hs_mod_parab',]\n",
    "plt.figure(figsize=oct_fig_size)\n",
    "for ii in range(len(schemes)):\n",
    "    key = schemes[ii]\n",
    "    plt.plot(\n",
    "        results[key]['N_arr'],\n",
    "        results[key][f'cpudt'],\n",
    "        **scheme_kwargs(key, longlabel=False)\n",
    "    )\n",
    "plt.grid()\n",
    "plt.legend()\n",
    "#plt.yscale('log')\n",
    "plt.title('Bipedal walking: Optimization time')\n",
    "plt.xlabel('Number of intervals')\n",
    "plt.ylabel('Time (s)')\n",
    "plt.tight_layout(pad = 0.0)\n",
    "plt.savefig('2d_order/5_link_optimization_vs_interval_number.pdf', format='pdf')"
   ]
  },
  {
   "cell_type": "code",
   "execution_count": null,
   "id": "3ff23f37",
   "metadata": {},
   "outputs": [],
   "source": [
    "plt.figure(figsize=oct_fig_size)\n",
    "for ii in range(len(schemes)):\n",
    "    key = schemes[ii]\n",
    "    plt.plot(\n",
    "        results[key]['N_arr'],\n",
    "        results[key]['iter_count'],\n",
    "        marker = 'o',\n",
    "        c = f'C{ii}',\n",
    "        label = sch_to_lab(schemes[ii]),\n",
    "        alpha = 0.5)\n",
    "plt.grid()\n",
    "plt.legend()\n",
    "#plt.yscale('log')\n",
    "plt.title('Biped Optimization iterations')\n",
    "plt.ylabel('Number of iterations')\n",
    "plt.xlabel('Number of intervals')\n",
    "plt.tight_layout(pad = 0.0)"
   ]
  },
  {
   "cell_type": "code",
   "execution_count": null,
   "id": "a996064f",
   "metadata": {},
   "outputs": [],
   "source": [
    "plt.figure(figsize=oct_fig_size)\n",
    "for ii in range(len(schemes)):\n",
    "    key = schemes[ii]\n",
    "    plt.plot(\n",
    "        results[key]['N_arr'],\n",
    "        results[key][f'cpudt']/results[key]['iter_count'],\n",
    "        marker = 'o',\n",
    "        c = f'C{ii}',\n",
    "        label = sch_to_lab(schemes[ii]),\n",
    "        alpha = 1)\n",
    "plt.grid()\n",
    "plt.legend()\n",
    "#plt.yscale('log')\n",
    "plt.title('Biped Time per iterations')\n",
    "plt.ylabel('Time per iteration(s)')\n",
    "plt.xlabel('Number of intervals')\n",
    "plt.tight_layout(pad = 0.0)"
   ]
  },
  {
   "cell_type": "code",
   "execution_count": null,
   "id": "3f4c0c81",
   "metadata": {
    "scrolled": false
   },
   "outputs": [],
   "source": [
    "plt.figure(figsize=oct_fig_size)\n",
    "for scheme in schemes:\n",
    "    key = scheme\n",
    "    plt.plot(results[key]['N_arr'], results[key]['cost'][:], marker = 'o', label = scheme)\n",
    "plt.yscale('log')\n",
    "plt.grid()\n",
    "plt.legend()"
   ]
  },
  {
   "cell_type": "markdown",
   "id": "61cca712",
   "metadata": {},
   "source": [
    "bip_hs = five_link(N = 200,\n",
    "        scheme = 'hs_parab',\n",
    "        solve_repetitions = solve_repetitions,\n",
    "        t_end = 0.7,\n",
    "        step_length = 0.5)\n",
    "xx_hs = bip_hs['x']\n",
    "xx_d_hs = bip_hs['x_d']\n",
    "xx_c_hs = bip_hs['x_c']\n",
    "xx_d_c_hs = bip_hs['x_d_c']\n",
    "uu_hs = bip_hs['u']\n",
    "uu_c_hs = bip_hs['u_c']\n",
    "cpudt_hs = bip_hs['cpudt']\n",
    "sol_cost_hs = bip_hs['cost']"
   ]
  },
  {
   "cell_type": "markdown",
   "id": "18f2fe15",
   "metadata": {},
   "source": [
    "goal = sol_cost_hs"
   ]
  },
  {
   "cell_type": "markdown",
   "id": "9cc5e861",
   "metadata": {},
   "source": [
    "goal"
   ]
  },
  {
   "cell_type": "code",
   "execution_count": null,
   "id": "7bd9b3fb",
   "metadata": {},
   "outputs": [],
   "source": [
    "from optibot.analysis import generate_G, dynamic_error_implicit, quad_problem\n",
    "from optibot.schemes import reduce_F,expand_F, expand_G"
   ]
  },
  {
   "cell_type": "code",
   "execution_count": null,
   "id": "f65e75fe",
   "metadata": {},
   "outputs": [],
   "source": [
    "G_nump = generate_G(F_impl = F_impl_np,\n",
    "           M = mass_matrix_np,)\n",
    "\n",
    "def G_nump_q(q,v,u,params):\n",
    "    q = np.array(q)\n",
    "    v = np.array(v)\n",
    "    x = np.concatenate((q,v), axis = -1)\n",
    "    return G_nump(x,u,params)\n",
    "\n",
    "def G_flat(*args, **kwargs):\n",
    "    x = G_nump(*args, **kwargs)\n",
    "    return x.flatten()\n",
    "\n",
    "F_nump = expand_F(G_flat)"
   ]
  },
  {
   "cell_type": "code",
   "execution_count": null,
   "id": "96962668",
   "metadata": {},
   "outputs": [],
   "source": [
    "schemes = ['hs_parab', 'hs_mod_parab','trapz', 'trapz_mod']#'hs', 'hs_mod', \n",
    "\n",
    "\n",
    "n_graph = 2000\n",
    "t_arr = np.linspace(0,0.7,n_graph)\n",
    "for scheme in schemes:\n",
    "    key = scheme\n",
    "    if 'parab' in scheme:\n",
    "        u_scheme = 'parab'\n",
    "    else:\n",
    "        u_scheme = 'lin'\n",
    "    print('Problem:', key)\n",
    "    N_arr = results[key]['N_arr']\n",
    "    for N in N_arr:\n",
    "        print(f'\\tN = {N}')\n",
    "        if 'hs' in scheme:\n",
    "            scheme_params={'u_c':results[key][N]['u_c'],\n",
    "                          'x_dot_c': results[key][N]['x_d_c'],\n",
    "                          'x_c': results[key][N]['x_c']}\n",
    "        else:\n",
    "            scheme_params={}\n",
    "        dyn_err_q, dyn_err_v, _, dyn_err_2 = dynamic_error_implicit(\n",
    "            x_arr=results[key][N]['x'],\n",
    "            u_arr=results[key][N]['u'],\n",
    "            t_end=results[key][N]['t'][-1],\n",
    "            params = params,\n",
    "            F_impl = F_impl_np,\n",
    "            M = mass_matrix_np,\n",
    "            scheme = scheme, \n",
    "            u_scheme = u_scheme,\n",
    "            scheme_params=scheme_params,\n",
    "            n_interp= n_graph)\n",
    "        results[key][N]['dyn_err_q'] = dyn_err_q\n",
    "        results[key][N]['dyn_err_v'] = dyn_err_v\n",
    "        results[key][N]['dyn_err_2'] = dyn_err_2"
   ]
  },
  {
   "cell_type": "code",
   "execution_count": null,
   "id": "d0384aee",
   "metadata": {},
   "outputs": [],
   "source": [
    "import matplotlib\n",
    "matplotlib.rcParams['pdf.fonttype'] = 42\n",
    "matplotlib.rcParams['ps.fonttype'] = 42\n",
    "plt.rcParams.update({'font.size': 15})\n",
    "oct_fig_size = [10,6]"
   ]
  },
  {
   "cell_type": "markdown",
   "id": "75f69bcf",
   "metadata": {
    "scrolled": false
   },
   "source": [
    "schemes = ['hs_parab','hs_mod_parab', 'trapz', 'trapz_mod']\n",
    "titles = ['Hermite Simpson','2nd order Hermite Simpson', 'Trapezoidal', '2nd order Trapezoidal']\n",
    "colors = ['b', 'orange', 'g', 'r', 'purple']\n",
    "n_int = len(t_arr)\n",
    "N = 25\n",
    "interv_n = (N * t_arr)/results[scheme][N]['t']\n",
    "for kk in range(len(schemes)):\n",
    "    scheme = schemes[kk]\n",
    "    plt.figure(figsize=[14,8])\n",
    "    for ii in range(5):\n",
    "        cut_p = 0\n",
    "        for ll in range(1,N+1):\n",
    "            jj = np.searchsorted(interv_n, ll)\n",
    "            plt.plot(t_arr[cut_p:jj],results[scheme][N]['dyn_err_q'][cut_p:jj,ii], '-', c = colors[ii], label = f'$q_{ii+1}$' if cut_p == 0 else None)\n",
    "            cut_p = jj\n",
    "    plt.plot(np.linspace(0,results[scheme][N]['t'],N+1), np.zeros(N+1), 'ok')\n",
    "    plt.legend()\n",
    "    plt.grid()\n",
    "    if kk == 1:\n",
    "        plt.ylim([-0.00001, 0.00001])\n",
    "    elif kk == 3:\n",
    "        plt.ylim([-0.001, 0.001])\n",
    "    plt.title(r'First order dynamic error $\\varepsilon^{[1]}_{q_i}$,'+f' {titles[kk]} scheme')\n",
    "    plt.xlabel('Time(s)')\n",
    "    plt.ylabel('Dynamic error $(rad/s)$')\n",
    "    plt.tight_layout(pad = 0.0)\n",
    "    sch_type = titles[kk].replace(' ','_')\n",
    "    plt.savefig(f'5_link_First_Order_Dynamic_Error_{sch_type}_scheme.eps', format='eps')\n"
   ]
  },
  {
   "cell_type": "markdown",
   "id": "0e9d594c",
   "metadata": {
    "scrolled": false
   },
   "source": [
    "schemes = ['hs_parab','hs_mod_parab', 'trapz', 'trapz_mod']\n",
    "titles = ['Hermite Simpson','2nd order Hermite Simpson', 'Trapezoidal', '2nd order Trapezoidal']\n",
    "colors = ['b', 'orange', 'g', 'r', 'purple']\n",
    "n_int = len(t_arr)\n",
    "N = 25\n",
    "interv_n = (N * t_arr)/results[scheme][N]['t']\n",
    "for kk in range(len(schemes)):\n",
    "    scheme = schemes[kk]\n",
    "    plt.figure(figsize=[14,8])\n",
    "    for ii in range(5):\n",
    "        cut_p = 0\n",
    "        for ll in range(1,N+1):\n",
    "            jj = np.searchsorted(interv_n, ll)\n",
    "            plt.plot(t_arr[cut_p:jj],results[scheme][N]['dyn_err_2'][cut_p:jj,ii], '-', c = colors[ii], label = f'$q_{ii+1}$' if cut_p == 0 else None)\n",
    "            cut_p = jj\n",
    "    plt.plot(results[scheme][N]['t_array'], np.zeros(N+1), 'ok', label = 'knot & collocation points')\n",
    "    if 'hs' in scheme:\n",
    "        plt.plot(results[scheme][N]['t_c_array'], np.zeros(N), 'ow', markeredgecolor='b', label = 'collocation points')\n",
    "        plt.ylim([-0.08, 0.08])\n",
    "    else:\n",
    "        plt.ylim([-1.75, 1.75])\n",
    "    plt.legend()\n",
    "    plt.grid()\n",
    "    plt.title(r'Second order dynamic error $\\varepsilon^{{[2]}}_{{q_i}}$,'+f' {titles[kk]} scheme')\n",
    "    plt.xlabel('Time(s)')\n",
    "    plt.ylabel('Dynamic error $(rad/s^2)$')\n",
    "    plt.tight_layout(pad = 0.0)\n",
    "    sch_type = titles[kk].replace(' ','_')\n",
    "    plt.savefig(f'5_link_Second_Order_Dynamic_Error_{sch_type}_scheme.eps', format='eps')\n"
   ]
  },
  {
   "cell_type": "code",
   "execution_count": null,
   "id": "a48d8285",
   "metadata": {},
   "outputs": [],
   "source": [
    "def arr_mod(x):\n",
    "    x_1 = np.sum(x*x, axis=1)\n",
    "    return np.sqrt(x_1)\n",
    "def arr_sum(x):\n",
    "    return np.sum(np.abs(x), axis = 1)\n",
    "def arr_max(x):\n",
    "    return np.max(np.abs(x), axis = 1)"
   ]
  },
  {
   "cell_type": "code",
   "execution_count": null,
   "id": "9d0bc6dc",
   "metadata": {
    "scrolled": false
   },
   "outputs": [],
   "source": [
    "schemes = ['hs_mod_parab','hs_parab']#, 'trapz', 'trapz_mod']\n",
    "titles = ['2nd order Hermite Simpson','Hermite Simpson']#, 'Trapezoidal', 'Modified Trapezoidal']\n",
    "colors = ['b', 'orange', 'g', 'r', 'purple']\n",
    "funcs = [arr_sum,]#arr_mod,  arr_max\n",
    "func_tittles = ['Module of', 'Sum of absolute', 'Maximum of absolute']\n",
    "y_max_list = [0.12, 0.2, 0.09]\n",
    "n_int = len(t_arr)\n",
    "N = 25\n",
    "interv_n = (N * t_arr)/results[scheme][N]['t'][-1]\n",
    "for ii in range(1):\n",
    "    plt.figure(figsize=oct_fig_size)\n",
    "    for kk in [1,0]:\n",
    "        scheme = schemes[kk]\n",
    "        cut_p = 0\n",
    "        for ll in range(1,N+1):\n",
    "            jj = np.searchsorted(interv_n, ll)\n",
    "            y_plot = funcs[ii](results[scheme][N]['dyn_err_2'])\n",
    "            plt.plot(\n",
    "                t_arr[cut_p:jj],\n",
    "                y_plot[cut_p:jj],\n",
    "                '-', c = sch_to_color(scheme),\n",
    "                label = sch_to_lab(scheme) if cut_p == 0 else None)\n",
    "            cut_p = jj\n",
    "    plt.plot(results[scheme][N]['t'], np.zeros(N+1), 'ok', ms=5, label = 'knot & collocation points')\n",
    "    plt.plot(results[scheme][N]['t_c'], np.zeros(N), 'ow', ms=5, markeredgecolor='k', label = 'collocation points')\n",
    "    plt.legend()\n",
    "    plt.grid()\n",
    "    #plt.ylim([-0.01,y_max_list[ii]])\n",
    "    plt.title(r'Bipedal walking: Dynamic error $\\varepsilon^{[2]}$,'+f' N = {N}')\n",
    "    plt.xlabel('Time(s)')\n",
    "    plt.ylabel('Dynamic error $(rad/s^2)$')\n",
    "    plt.tight_layout(pad = 0.0)\n",
    "    sch_type = func_tittles[ii].replace(' ','_')\n",
    "    #plt.yscale('log')\n",
    "    #plt.savefig(f'2d_order/5_link_HS_N{N}_second_order_dynamic_error.pdf', format='pdf')\n",
    "    \n"
   ]
  },
  {
   "cell_type": "code",
   "execution_count": null,
   "id": "9abccdf5",
   "metadata": {
    "scrolled": false
   },
   "outputs": [],
   "source": [
    "schemes = ['trapz', 'trapz_mod']#, 'trapz', 'trapz_mod']\n",
    "titles = ['Trapezoidal', '2nd order Trapezoidal']#, 'Trapezoidal', 'Modified Trapezoidal']\n",
    "funcs = [arr_sum,]#arr_mod,  arr_max\n",
    "#func_tittles = ['Module of', 'Sum of absolute', 'Maximum of absolute']\n",
    "y_max_list = [0.12, 0.2, 0.09]\n",
    "n_int = len(t_arr)\n",
    "N = 50\n",
    "interv_n = (N * t_arr)/results[scheme][N]['t'][-1]\n",
    "for ii in range(1):\n",
    "    plt.figure(figsize=oct_fig_size)\n",
    "    for kk in range(2):\n",
    "        scheme = schemes[kk]\n",
    "        cut_p = 0\n",
    "        for ll in range(1,N+1):\n",
    "            jj = np.searchsorted(interv_n, ll)\n",
    "            y_plot = funcs[ii](results[scheme][N]['dyn_err_2'])\n",
    "            plt.plot(\n",
    "                t_arr[cut_p:jj],\n",
    "                y_plot[cut_p:jj],\n",
    "                '-', c = sch_to_color(scheme),\n",
    "                label = sch_to_lab(scheme) if cut_p == 0 else None)\n",
    "            cut_p = jj\n",
    "    plt.plot(results[scheme][N]['t'], np.zeros(N+1), 'ok',ms=5, label = 'knot & collocation points')\n",
    "    #plt.plot(results[scheme][N]['t_c_array'], np.zeros(N), 'ow', markeredgecolor='k', label = 'collocation points')\n",
    "    plt.legend()\n",
    "    plt.grid()\n",
    "    #plt.ylim([-0.01,y_max_list[ii]])\n",
    "    plt.title(r'Bipedal walking: Dynamic error $\\varepsilon^{[2]}$,'+f' N = {N}')\n",
    "    plt.xlabel('Time(s)')\n",
    "    plt.ylabel('Dynamic error $(rad/s^2)$')\n",
    "    plt.tight_layout(pad = 0.0)\n",
    "    sch_type = func_tittles[ii].replace(' ','_')\n",
    "    #plt.yscale('log')\n",
    "    #plt.savefig(f'2d_order/5_link_Trapezoidal_N{N}_second_order_dynamic_error.pdf', format='pdf')\n",
    "    \n"
   ]
  },
  {
   "cell_type": "markdown",
   "id": "5c48d684",
   "metadata": {},
   "source": [
    "def state_error(t_arr, dyn_err, N,):\n",
    "    n_int = len(t_arr)\n",
    "    interv_n = (N * t_arr)//2\n",
    "    err = []\n",
    "    cut_p = 0\n",
    "    for ii in range(1,N+1):\n",
    "        jj = np.searchsorted(interv_n, ii)\n",
    "        err_point = np.trapz(np.abs(dyn_err[cut_p:jj+1]), t_arr[cut_p:jj+1], axis=0)\n",
    "        err.append(err_point)\n",
    "        cut_p = jj\n",
    "    err = np.array(err, dtype = float)\n",
    "    return err\n",
    "\n",
    "def total_state_error(t_arr, dyn_err):\n",
    "    errors = np.trapz(dyn_err, t_arr, axis=0)\n",
    "    return errors\n",
    "\n",
    "\n",
    "def total_state_error_abs(t_arr, dyn_err):\n",
    "    errors = np.trapz(np.abs(dyn_err), t_arr, axis=0)\n",
    "    return errors"
   ]
  },
  {
   "cell_type": "code",
   "execution_count": null,
   "id": "b96703ae",
   "metadata": {},
   "outputs": [],
   "source": [
    "def total_state_error(t_arr, dyn_err):\n",
    "    errors = np.trapz(np.abs(dyn_err), t_arr, axis=0)\n",
    "    return errors"
   ]
  },
  {
   "cell_type": "code",
   "execution_count": null,
   "id": "ac8084aa",
   "metadata": {},
   "outputs": [],
   "source": [
    "\n",
    "\n",
    "schemes = ['hs_parab', 'hs_mod_parab','trapz', 'trapz_mod']\n",
    "\n",
    "t_arr = np.linspace(0,0.7,n_graph)\n",
    "for scheme in schemes:\n",
    "    key = scheme\n",
    "    print('Problem:', key)\n",
    "    N_arr = results[key]['N_arr']\n",
    "    for N in N_arr:\n",
    "        print(f'\\tN = {N}')\n",
    "        for letter in 'qv2':\n",
    "            results[key][N][f'integ_dyn_err_{letter}']= total_state_error(t_arr, results[scheme][N][f'dyn_err_{letter}'])\n",
    "            results[key][N][f'module_dyn_err_{letter}']= np.sqrt(np.dot(results[key][N][f'integ_dyn_err_{letter}'], results[key][N][f'integ_dyn_err_{letter}']))\n",
    "            results[key][N][f'sum_dyn_err_{letter}'] = np.sum(results[key][N][f'integ_dyn_err_{letter}'])"
   ]
  },
  {
   "cell_type": "code",
   "execution_count": null,
   "id": "260e1907",
   "metadata": {},
   "outputs": [],
   "source": [
    "def integ_state_error(t_arr, dyn_err):\n",
    "    int_x = np.zeros_like(dyn_err)\n",
    "    arr_len = dyn_err.shape[0]\n",
    "    for ii in range(1,arr_len):\n",
    "        int_x[ii,:] = np.trapz(dyn_err[:ii+1,:], t_arr[:ii+1], axis=0)\n",
    "    return int_x"
   ]
  },
  {
   "cell_type": "code",
   "execution_count": null,
   "id": "fee3daf4",
   "metadata": {
    "scrolled": false
   },
   "outputs": [],
   "source": [
    "schemes = ['hs_parab', 'hs_mod_parab','trapz', 'trapz_mod']#'hs', 'hs_mod', \n",
    "\n",
    "t_arr = np.linspace(0,0.7,n_graph)\n",
    "for scheme in schemes:\n",
    "    key = scheme\n",
    "    print('Problem:', key)\n",
    "    N_arr = results[key]['N_arr']\n",
    "    for N in N_arr:\n",
    "        #print(f'\\tN = {N}')\n",
    "        for letter in 'qv2':\n",
    "            results[key][N][f'integ_dyn_err_{letter}']= total_state_error(t_arr, results[scheme][N][f'dyn_err_{letter}'])\n",
    "            results[key][N][f'module_dyn_err_{letter}']= np.sqrt(np.dot(results[key][N][f'integ_dyn_err_{letter}'], results[key][N][f'integ_dyn_err_{letter}']))\n",
    "            results[key][N][f'sum_dyn_err_{letter}'] = np.sum(np.abs(results[key][N][f'integ_dyn_err_{letter}']))\n",
    "        "
   ]
  },
  {
   "cell_type": "markdown",
   "id": "4747077c",
   "metadata": {},
   "source": [
    "schemes = ['trapz', 'trapz_mod']#['hs_parab', 'hs_mod_parab',]##'hs', 'hs_mod', \n",
    "\n",
    "\n",
    "for scheme in schemes:\n",
    "    key = scheme\n",
    "    print('Problem:', key)\n",
    "    N_arr = results[key]['N_arr']\n",
    "    if 'parab' in scheme:\n",
    "        u_scheme = 'parab'\n",
    "    else:\n",
    "        u_scheme = 'lin'\n",
    "    \n",
    "    for N in N_arr:\n",
    "        print(f'\\tN = {N}')\n",
    "        \n",
    "        if 'hs' in scheme:\n",
    "            scheme_params={'u_c':results[key][N]['u_c'],\n",
    "                          'x_dot_c': results[key][N]['x_d_c'],\n",
    "                          'x_c': results[key][N]['x_c']}\n",
    "        else:\n",
    "            scheme_params={}\n",
    "            \n",
    "        results[key][N]['sum_dyn_err_2'] = np.sum(quad_problem(\n",
    "            x_arr = results[key][N]['x'],\n",
    "            u_arr = results[key][N]['u'],\n",
    "            t_arr = results[key][N]['t'],\n",
    "            params = params,\n",
    "            F = F_nump,\n",
    "            scheme = scheme,\n",
    "            u_scheme = u_scheme,\n",
    "            scheme_params = scheme_params))"
   ]
  },
  {
   "cell_type": "markdown",
   "id": "f53c3fe0",
   "metadata": {},
   "source": [
    "schemes = ['hs_parab', 'hs_mod_parab','trapz', 'trapz_mod']#'hs', 'hs_mod', \n",
    "\n",
    "t_arr = np.linspace(0,0.7,n_graph)\n",
    "for scheme in schemes:\n",
    "    key = scheme\n",
    "    print('Problem:', key)\n",
    "    N_arr = results[key]['N_arr']\n",
    "    for N in N_arr:\n",
    "        print(f'\\tN = {N}')\n",
    "        results[key][N]['integ_err_2'] = integ_state_error(t_arr, results[key][N]['dyn_err_2'])\n",
    "        results[key][N]['twice_integ_err_2'] = integ_state_error(t_arr, results[key][N]['integ_err_2'])\n",
    "        "
   ]
  },
  {
   "cell_type": "markdown",
   "id": "5fe19de2",
   "metadata": {
    "scrolled": false
   },
   "source": [
    "sch = [['hs_parab','hs_mod_parab'],['trapz', 'trapz_mod']]\n",
    "tit = [['Hermite Simpson','2nd order Hermite Simpson'],['Trapezoidal', '2nd order Trapezoidal']]\n",
    "colors = [f'C{ii}' for ii in [1,0,2,3]]\n",
    "n_int = len(t_arr)\n",
    "N_hh = [25,50]\n",
    "t_end = 0.7\n",
    "for hh in range(2):\n",
    "    schemes = sch[hh]\n",
    "    titles = tit[hh]\n",
    "    N = N_hh[hh]\n",
    "    interv_n = (N * t_arr)/2\n",
    "    for ii in range(5):\n",
    "        plt.figure(figsize=oct_fig_size)\n",
    "        for kk in range(len(schemes)):\n",
    "            scheme = schemes[kk]\n",
    "            key = scheme\n",
    "            cut_p = 0\n",
    "            for ll in range(1,N+1):\n",
    "                jj = np.searchsorted(interv_n, ll)\n",
    "                plt.plot(t_arr[cut_p:jj],results[key][N]['integ_err_2'][cut_p:jj,ii], '-', c = colors[2*hh+kk], label = titles[kk] if cut_p == 0 else None)\n",
    "                cut_p = jj\n",
    "        plt.plot(np.linspace(0,t_end,N+1), np.zeros(N+1), 'ok', label = 'knot & collocation points')\n",
    "        if hh == 0:\n",
    "            plt.plot(np.linspace(0,t_end,2*N+1)[1::2], np.zeros(N), 'ow', markeredgecolor='k', label = 'collocation points')\n",
    "        plt.legend()\n",
    "        plt.grid()\n",
    "        #plt.ylim([-0.00022, 0.00022])\n",
    "        plt.title(r'Integrated Second order dynamic error $\\int_{0}^{t}\\varepsilon^{[2]}_{q_'+f'{ii+1}}}'+r'(\\tau) d\\tau$,'+f'\\n{titles[0]} schemes, N = {N}')\n",
    "        plt.xlabel('Time(s)')\n",
    "        units = 'm/s' if ii == 0 else'rad/s'\n",
    "        plt.ylabel(f'Dynamic error $({units})$')\n",
    "        plt.tight_layout(pad = 0.0)\n",
    "        sch_type = titles[0].replace(' ','_')\n",
    "        #plt.savefig(f'Biped_Integrated_Second_Order_Dynamic_Error_q_{ii+1}_{sch_type}_schemes_N_{N}.png', format='png')"
   ]
  },
  {
   "cell_type": "markdown",
   "id": "b1d3594a",
   "metadata": {
    "scrolled": false
   },
   "source": [
    "sch = [['hs_parab','hs_mod_parab'],['trapz', 'trapz_mod']]\n",
    "tit = [['Hermite Simpson','2nd order Hermite Simpson'],['Trapezoidal', '2nd order Trapezoidal']]\n",
    "colors = [f'C{ii}' for ii in [1,0,2,3]]\n",
    "n_int = len(t_arr)\n",
    "N_hh = [25,50]\n",
    "t_end = 0.7\n",
    "for hh in range(2):\n",
    "    schemes = sch[hh]\n",
    "    titles = tit[hh]\n",
    "    N = N_hh[hh]\n",
    "    interv_n = (N * t_arr)/2\n",
    "    for ii in range(5):\n",
    "        plt.figure(figsize=oct_fig_size)\n",
    "        for kk in range(len(schemes)):\n",
    "            scheme = schemes[kk]\n",
    "            key = scheme\n",
    "            cut_p = 0\n",
    "            for ll in range(1,N+1):\n",
    "                jj = np.searchsorted(interv_n, ll)\n",
    "                plt.plot(t_arr[cut_p:jj],results[key][N]['twice_integ_err_2'][cut_p:jj,ii], '-', c = colors[2*hh+kk], label = titles[kk] if cut_p == 0 else None)\n",
    "                cut_p = jj\n",
    "        plt.plot(np.linspace(0,t_end,N+1), np.zeros(N+1), 'ok', label = 'knot & collocation points')\n",
    "        if hh == 0:\n",
    "            plt.plot(np.linspace(0,t_end,2*N+1)[1::2], np.zeros(N), 'ow', markeredgecolor='k', label = 'collocation points')\n",
    "        plt.legend()\n",
    "        plt.grid()\n",
    "        #plt.ylim([-0.00022, 0.00022])\n",
    "        plt.title(r'Twice integrated second order dynamic error $\\int_{0}^{t}\\int_{0}^{\\xi}\\varepsilon^{[2]}_{q_'+f'{ii+1}}}'+r'(\\tau) d\\tau d\\xi$,'+f'\\n{titles[0]} schemes, N = {N}')\n",
    "        plt.xlabel('Time(s)')\n",
    "        units = 'm' if ii == 0 else'rad'\n",
    "        plt.ylabel(f'Dynamic error $({units})$')\n",
    "        plt.tight_layout(pad = 0.0)\n",
    "        sch_type = titles[0].replace(' ','_')\n",
    "       # plt.savefig(f'Biped_Twice_Integrated_Second_Order_Dynamic_Error_q_{ii+1}_{sch_type}_schemes_N_{N}.png', format='png')"
   ]
  },
  {
   "cell_type": "markdown",
   "id": "374d5598",
   "metadata": {
    "scrolled": false
   },
   "source": [
    "schemes = ['hs_mod_parab','hs_parab']#, 'trapz', 'trapz_mod']\n",
    "titles = ['2nd order Hermite Simpson','Hermite Simpson']#, 'Trapezoidal', 'Modified Trapezoidal']\n",
    "colors = ['b', 'orange', 'g', 'r', 'purple']\n",
    "funcs = [arr_sum,]#arr_mod,  arr_max\n",
    "func_tittles = ['Module of', 'Sum of absolute', 'Maximum of absolute']\n",
    "y_max_list = [0.12, 0.2, 0.09]\n",
    "n_int = len(t_arr)\n",
    "N = 25\n",
    "interv_n = (N * t_arr)/results[scheme][N]['t'][-1]\n",
    "for ii in range(1):\n",
    "    plt.figure(figsize=oct_fig_size)\n",
    "    for kk in [1,0]:\n",
    "        scheme = schemes[kk]\n",
    "        cut_p = 0\n",
    "        for ll in range(1,N+1):\n",
    "            jj = np.searchsorted(interv_n, ll)\n",
    "            y_plot = funcs[ii](results[scheme][N]['integ_err_2'])\n",
    "            plt.plot(t_arr[cut_p:jj],y_plot[cut_p:jj], '-', c = f'C{kk}', label = titles[kk] if cut_p == 0 else None)\n",
    "            cut_p = jj\n",
    "    plt.plot(results[scheme][N]['t'], np.zeros(N+1), 'ok', label = 'knot & collocation points')\n",
    "    plt.plot(results[scheme][N]['t_c'], np.zeros(N), 'ow', markeredgecolor='k', label = 'collocation points')\n",
    "    plt.legend()\n",
    "    plt.grid()\n",
    "    #plt.ylim([-0.01,y_max_list[ii]])\n",
    "    plt.title(r'Sum of absolute Integrated Second order dynamic error $\\Sigma |\\int_{0}^{t}\\varepsilon^{[2]}_{q_'+f'{ii+1}}}'+r'(\\tau) d\\tau|$,'+f' HS schemes, N = {N}')\n",
    "    plt.xlabel('Time(s)')\n",
    "    plt.ylabel('Dynamic error $(rad/s)$')\n",
    "    plt.tight_layout(pad = 0.0)\n",
    "    sch_type = func_tittles[ii].replace(' ','_')\n",
    "    #plt.savefig(f'5_link_HS_N{N}_integrated_second_order_dynamic_error.png', format='png')\n",
    "    \n"
   ]
  },
  {
   "cell_type": "markdown",
   "id": "33fd9dbd",
   "metadata": {
    "scrolled": false
   },
   "source": [
    "schemes = ['trapz', 'trapz_mod']#\n",
    "titles = ['Trapezoidal', 'Modified Trapezoidal']#\n",
    "colors = ['b', 'orange', 'g', 'r', 'purple']\n",
    "funcs = [arr_sum,]#arr_mod,  arr_max\n",
    "func_tittles = ['Module of', 'Sum of absolute', 'Maximum of absolute']\n",
    "y_max_list = [0.12, 0.2, 0.09]\n",
    "n_int = len(t_arr)\n",
    "N = 25\n",
    "interv_n = (N * t_arr)/results[scheme][N]['t'][-1]\n",
    "for ii in range(1):\n",
    "    plt.figure(figsize=oct_fig_size)\n",
    "    for kk in [1,0]:\n",
    "        scheme = schemes[kk]\n",
    "        cut_p = 0\n",
    "        for ll in range(1,N+1):\n",
    "            jj = np.searchsorted(interv_n, ll)\n",
    "            y_plot = funcs[ii](results[scheme][N]['integ_err_2'])\n",
    "            plt.plot(t_arr[cut_p:jj],y_plot[cut_p:jj], '-', c = f'C{kk+2}', label = titles[kk] if cut_p == 0 else None)\n",
    "            cut_p = jj\n",
    "    plt.plot(results[scheme][N]['t'], np.zeros(N+1), 'ok', label = 'knot & collocation points')\n",
    "    #plt.plot(results[scheme][N]['t_c'], np.zeros(N), 'ow', markeredgecolor='k', label = 'collocation points')\n",
    "    plt.legend()\n",
    "    plt.grid()\n",
    "    #plt.ylim([-0.01,y_max_list[ii]])\n",
    "    plt.title(r'Sum of absolute Integrated Second order dynamic error $\\Sigma |\\int_{0}^{t}\\varepsilon^{[2]}_{q_'+f'{ii+1}}}'+r'(\\tau) d\\tau|$,'+f' Trapz schemes, N = {N}')\n",
    "    plt.xlabel('Time(s)')\n",
    "    plt.ylabel('Dynamic error $(rad/s)$')\n",
    "    plt.tight_layout(pad = 0.0)\n",
    "    sch_type = func_tittles[ii].replace(' ','_')\n",
    "   #plt.savefig(f'5_link_Trapz_N{N}_integrated_second_order_dynamic_error.png', format='png')\n",
    "    \n"
   ]
  },
  {
   "cell_type": "markdown",
   "id": "ff90cc56",
   "metadata": {
    "scrolled": false
   },
   "source": [
    "schemes = ['hs_mod_parab','hs_parab']#, 'trapz', 'trapz_mod']\n",
    "titles = ['2nd order Hermite Simpson','Hermite Simpson']#, 'Trapezoidal', 'Modified Trapezoidal']\n",
    "colors = ['b', 'orange', 'g', 'r', 'purple']\n",
    "funcs = [arr_sum,]#arr_mod,  arr_max\n",
    "func_tittles = ['Module of', 'Sum of absolute', 'Maximum of absolute']\n",
    "y_max_list = [0.12, 0.2, 0.09]\n",
    "n_int = len(t_arr)\n",
    "N = 25\n",
    "interv_n = (N * t_arr)/results[scheme][N]['t'][-1]\n",
    "for ii in range(1):\n",
    "    plt.figure(figsize=oct_fig_size)\n",
    "    for kk in [1,0]:\n",
    "        scheme = schemes[kk]\n",
    "        cut_p = 0\n",
    "        for ll in range(1,N+1):\n",
    "            jj = np.searchsorted(interv_n, ll)\n",
    "            y_plot = funcs[ii](results[scheme][N]['twice_integ_err_2'])\n",
    "            plt.plot(t_arr[cut_p:jj],y_plot[cut_p:jj], '-', c = f'C{kk}', label = titles[kk] if cut_p == 0 else None)\n",
    "            cut_p = jj\n",
    "    plt.plot(results[scheme][N]['t'], np.zeros(N+1), 'ok', label = 'knot & collocation points')\n",
    "    plt.plot(results[scheme][N]['t_c'], np.zeros(N), 'ow', markeredgecolor='k', label = 'collocation points')\n",
    "    plt.legend()\n",
    "    plt.grid()\n",
    "    #plt.ylim([-0.01,y_max_list[ii]])\n",
    "    plt.title(r'Sum of absolute twice integrated second order dynamic error $\\Sigma |\\int_{0}^{t}\\int_{0}^{\\xi}\\varepsilon^{[2]}_{q_'+f'{ii+1}}}'+r'(\\tau) d\\tau d\\xi|$,'+f' HS schemes, N = {N}')\n",
    "    plt.xlabel('Time(s)')\n",
    "    plt.ylabel('Dynamic error $(rad)$')\n",
    "    plt.tight_layout(pad = 0.0)\n",
    "    sch_type = func_tittles[ii].replace(' ','_')\n",
    " #plt.savefig(f'5_link_HS_N{N}_twice_integrated_second_order_dynamic_error.png', format='png')\n",
    "    \n"
   ]
  },
  {
   "cell_type": "markdown",
   "id": "d6768487",
   "metadata": {
    "scrolled": false
   },
   "source": [
    "schemes = ['trapz', 'trapz_mod']#\n",
    "titles = ['Trapezoidal', 'Modified Trapezoidal']#\n",
    "colors = ['b', 'orange', 'g', 'r', 'purple']\n",
    "funcs = [arr_sum,]#arr_mod,  arr_max\n",
    "func_tittles = ['Module of', 'Sum of absolute', 'Maximum of absolute']\n",
    "y_max_list = [0.12, 0.2, 0.09]\n",
    "n_int = len(t_arr)\n",
    "N = 25\n",
    "interv_n = (N * t_arr)/results[scheme][N]['t'][-1]\n",
    "for ii in range(1):\n",
    "    plt.figure(figsize=oct_fig_size)\n",
    "    for kk in [1,0]:\n",
    "        scheme = schemes[kk]\n",
    "        cut_p = 0\n",
    "        for ll in range(1,N+1):\n",
    "            jj = np.searchsorted(interv_n, ll)\n",
    "            y_plot = funcs[ii](results[scheme][N]['twice_integ_err_2'])\n",
    "            plt.plot(t_arr[cut_p:jj],y_plot[cut_p:jj], '-', c = f'C{kk+2}', label = titles[kk] if cut_p == 0 else None)\n",
    "            cut_p = jj\n",
    "    plt.plot(results[scheme][N]['t'], np.zeros(N+1), 'ok', label = 'knot & collocation points')\n",
    "    #plt.plot(results[scheme][N]['t_c'], np.zeros(N), 'ow', markeredgecolor='k', label = 'collocation points')\n",
    "    plt.legend()\n",
    "    plt.grid()\n",
    "    #plt.ylim([-0.01,y_max_list[ii]])\n",
    "    plt.title(r'Sum of absolute twice integrated second order dynamic error $\\Sigma |\\int_{0}^{t}\\int_{0}^{\\xi}\\varepsilon^{[2]}_{q_'+f'{ii+1}}}'+r'(\\tau) d\\tau d\\xi|$,'+f' Trapz schemes, N = {N}')\n",
    "    plt.xlabel('Time(s)')\n",
    "    plt.ylabel('Dynamic error $(rad)$')\n",
    "    plt.tight_layout(pad = 0.0)\n",
    "    sch_type = func_tittles[ii].replace(' ','_')\n",
    "   #plt.savefig(f'5_link_Trapz_N{N}_twice_integrated_second_order_dynamic_error.png', format='png')\n",
    "    \n"
   ]
  },
  {
   "cell_type": "markdown",
   "id": "5a059c71",
   "metadata": {},
   "source": [
    "schemes = ['hs_parab', 'hs_mod_parab','trapz', 'trapz_mod']#'hs', 'hs_mod', \n",
    "\n",
    "t_arr = np.linspace(0,0.7,n_graph)\n",
    "for scheme in schemes:\n",
    "    key = scheme\n",
    "    print('Problem:', key)\n",
    "    N_arr = results[key]['N_arr']\n",
    "    _sum = []\n",
    "    for N in N_arr:\n",
    "        results[key][N]['twice_integ_dyn_err_2'] = results[key][N]['twice_integ_err_2'][-1,:]\n",
    "        results[key][N][f'sum_twice_dyn_err_2'] = np.sum(np.abs(results[key][N]['twice_integ_dyn_err_2']))\n",
    "        _sum.append(results[key][N][f'sum_twice_dyn_err_2'])\n",
    "    results[key][f'sum_twice_dyn_err_2_array'] = np.array(_sum)"
   ]
  },
  {
   "cell_type": "code",
   "execution_count": null,
   "id": "4ae21888",
   "metadata": {},
   "outputs": [],
   "source": [
    "for scheme in schemes:\n",
    "    key = scheme\n",
    "    print('Problem:', key)\n",
    "    N_arr = results[key]['N_arr']\n",
    "    \n",
    "    for letter in 'qv2':\n",
    "        list_mod = []\n",
    "        list_sum = []\n",
    "        for N in N_arr:\n",
    "            #print(f'\\tN = {N}')\n",
    "            list_mod.append(results[key][N][f'module_dyn_err_{letter}'])\n",
    "            list_sum.append(np.sum(results[key][N][f'sum_dyn_err_{letter}']))\n",
    "        results[key][f'module_dyn_err_{letter}_array'] = np.array(list_mod)\n",
    "        results[key][f'sum_dyn_err_{letter}_array'] = np.array(list_sum)"
   ]
  },
  {
   "cell_type": "code",
   "execution_count": null,
   "id": "d3ab743e",
   "metadata": {},
   "outputs": [],
   "source": [
    "for scheme in results.keys():\n",
    "    if 'hs' in scheme:\n",
    "        n_coll = np.array(results[scheme]['N_arr'])*2-1\n",
    "        results[scheme]['N_coll_arr'] = n_coll\n",
    "    else:\n",
    "        results[scheme]['N_coll_arr'] = results[scheme]['N_arr']\n",
    "    print(scheme, results[scheme]['N_arr'],results[scheme]['N_coll_arr'])"
   ]
  },
  {
   "cell_type": "markdown",
   "id": "31d39bbc",
   "metadata": {},
   "source": [
    "schemes = ['hs_mod_parab','hs_parab', 'trapz', 'trapz_mod']\n",
    "titles = ['2nd order Hermite Simpson', 'Hermite Simpson','Trapezoidal', '2nd order Trapezoidal']\n",
    "plt.figure(figsize=[14,8])\n",
    "for ii in range(4):\n",
    "    key = schemes[ii]\n",
    "    plt.plot(results[key]['N_arr'], results[key][f'module_dyn_err_2_array'], marker = 'o',label = titles[ii])\n",
    "plt.grid()\n",
    "plt.legend()\n",
    "plt.yscale('log')\n",
    "plt.title('Module second order dynamic error')\n",
    "plt.xlabel('Number of intervals')\n",
    "plt.ylabel('Dynamic error ($rad/s^2$)')\n",
    "plt.savefig(f'5_link_Module_second_order_dynamic_error_vs_interval_number.eps', format='eps')"
   ]
  },
  {
   "cell_type": "markdown",
   "id": "532a1fc2",
   "metadata": {
    "scrolled": false
   },
   "source": [
    "schemes_graph = ['hs_mod_parab', 'hs_parab', 'trapz', 'trapz_mod']\n",
    "titles = ['2nd order Hermite Simpson', 'Hermite Simpson','Trapezoidal', '2nd order Trapezoidal']\n",
    "colors = [f'C{ii}' for ii in range(9)]\n",
    "data_array = ['err_q_acum','err_v_acum','err_2_b_acum','cpudt']\n",
    "initial = 'lin'\n",
    "\n",
    "\n",
    "data_key = data_array[2]\n",
    "for qq in range(5):\n",
    "    #plt.figure(figsize=[10,6])\n",
    "    #plt.title(f'Biped second order dynamic error $|E^{{*[2]}}_{{q_{qq+1}}}|$')\n",
    "    for ii in [2,3,1,0]:\n",
    "        scheme = schemes_graph[ii]\n",
    "        key = scheme #+ '_' + initial\n",
    "        print(titles[ii], f'Error 2 q_{qq+1}:')\n",
    "        for nn in results[key]['N_arr']:\n",
    "            print('\\tN:', nn, 'Error:', results[key][nn]['integ_dyn_err_2'][qq])\n",
    "        N_arr = results[key]['N_arr']\n",
    "    #    if len(results[key][data_key].shape) == 1:\n",
    "    #        plt.plot(N_arr,np.abs(results[key][data_key]), marker = 'o', c = f'C{ii}',label = titles[ii])\n",
    "    #    else:\n",
    "    #        plt.plot(N_arr,np.abs(results[key][data_key][:,qq]), marker = 'o', c = f'C{ii}',label = titles[ii])\n",
    "    #plt.yscale('log')\n",
    "    #plt.xlabel('Number of intervals')\n",
    "    #plt.grid()\n",
    "    #plt.legend()\n",
    "    units = 'm/s' if qq == 0 else'rad/s'\n",
    "    #plt.ylabel(f'Dynamic error $({units})$')\n",
    "    #plt.tight_layout(pad = 0.0)\n",
    "    #plt.savefig(f'Cartpole_Integrated_Second_Order_Dynamic_Error_q_{qq+1}_vs_N.pdf', format='pdf')\n"
   ]
  },
  {
   "cell_type": "markdown",
   "id": "7750c990",
   "metadata": {
    "scrolled": false
   },
   "source": [
    "schemes_graph = ['hs_mod_parab', 'hs_parab', 'trapz', 'trapz_mod']\n",
    "titles = ['2nd order Hermite Simpson', 'Hermite Simpson','Trapezoidal', '2nd order Trapezoidal']\n",
    "colors = [f'C{ii}' for ii in range(9)]\n",
    "data_array = ['err_q_acum','err_v_acum','err_2_b_acum','cpudt']\n",
    "initial = 'lin'\n",
    "\n",
    "\n",
    "data_key = data_array[2]\n",
    "for qq in range(5):\n",
    "    #plt.figure(figsize=[10,6])\n",
    "    #plt.title(f'Biped second order dynamic error $|E^{{*[2]}}_{{q_{qq+1}}}|$')\n",
    "    for ii in [2,3,1,0]:\n",
    "        scheme = schemes_graph[ii]\n",
    "        key = scheme #+ '_' + initial\n",
    "        print(titles[ii], f'Error 2 q_{qq+1}:')\n",
    "        for nn in results[key]['N_arr']:\n",
    "            print('\\tN:', nn, 'Error:', results[key][nn]['twice_integ_dyn_err_2'][qq])\n",
    "        N_arr = results[key]['N_arr']\n",
    "    #    if len(results[key][data_key].shape) == 1:\n",
    "    #        plt.plot(N_arr,np.abs(results[key][data_key]), marker = 'o', c = f'C{ii}',label = titles[ii])\n",
    "    #    else:\n",
    "    #        plt.plot(N_arr,np.abs(results[key][data_key][:,qq]), marker = 'o', c = f'C{ii}',label = titles[ii])\n",
    "    #plt.yscale('log')\n",
    "    #plt.xlabel('Number of intervals')\n",
    "    #plt.grid()\n",
    "    #plt.legend()\n",
    "    units = 'm/s' if qq == 0 else'rad/s'\n",
    "    #plt.ylabel(f'Dynamic error $({units})$')\n",
    "    #plt.tight_layout(pad = 0.0)\n",
    "    #plt.savefig(f'Cartpole_Integrated_Second_Order_Dynamic_Error_q_{qq+1}_vs_N.pdf', format='pdf')\n"
   ]
  },
  {
   "cell_type": "code",
   "execution_count": null,
   "id": "4a95ef19",
   "metadata": {},
   "outputs": [],
   "source": [
    "results['trapz']['sum_dyn_err_2_array']"
   ]
  },
  {
   "cell_type": "code",
   "execution_count": null,
   "id": "1a442d4d",
   "metadata": {},
   "outputs": [],
   "source": [
    "results['trapz_mod']['sum_dyn_err_2_array']"
   ]
  },
  {
   "cell_type": "code",
   "execution_count": null,
   "id": "ad11764a",
   "metadata": {},
   "outputs": [],
   "source": [
    "schemes = ['trapz', 'trapz_mod','hs_parab', 'hs_mod_parab',]\n",
    "plt.figure(figsize=oct_fig_size)\n",
    "for key in schemes:\n",
    "    plt.plot(results[key]['N_arr'],\n",
    "             results[key][f'sum_dyn_err_2_array'],\n",
    "             **scheme_kwargs(key, longlabel=False))\n",
    "plt.grid()\n",
    "plt.legend()\n",
    "plt.yscale('log')\n",
    "plt.title(r'Bipedal walking: Dynamic error $E^{[2]}$')\n",
    "plt.xlabel('Number of intervals')\n",
    "plt.ylabel('Dynamic error ($rad/s$)')\n",
    "plt.tight_layout(pad = 0.0)\n",
    "#plt.savefig(f'2d_order/5_link_Sum_second_order_dynamic_error_vs_interval_number.pdf', format='pdf')"
   ]
  },
  {
   "cell_type": "markdown",
   "id": "5c01b48c",
   "metadata": {},
   "source": [
    "schemes = ['hs_mod_parab','hs_parab', 'trapz', 'trapz_mod']\n",
    "titles = ['2nd order Hermite Simpson', 'Hermite Simpson','Trapezoidal', '2nd order Trapezoidal']\n",
    "plt.figure(figsize=oct_fig_size)\n",
    "for ii in [2,3,1,0]:\n",
    "    key = schemes[ii]\n",
    "    plt.plot(results[key]['N_arr'], results[key][f'sum_twice_dyn_err_2_array'], marker = 'o', c = f'C{ii}',label = titles[ii])\n",
    "plt.grid()\n",
    "plt.legend()\n",
    "plt.yscale('log')\n",
    "plt.title('5-link biped twice integrated second order dynamic error $\\Sigma |EE^{*[2]}_i|$')\n",
    "plt.xlabel('Number of intervals')\n",
    "plt.ylabel('Dynamic error ($rad$)')\n",
    "plt.tight_layout(pad = 0.0)\n",
    "#plt.savefig(f'5_link_Sum_twice_integ_second_order_dynamic_error_vs_interval_number.png', format='png')"
   ]
  },
  {
   "cell_type": "markdown",
   "id": "a99573b8",
   "metadata": {},
   "source": [
    "schemes = ['hs_mod_parab','hs_parab', 'trapz', 'trapz_mod']\n",
    "titles = ['Modified Hermite Simpson', 'Hermite Simpson','Trapezoidal', 'Modified Trapezoidal']\n",
    "plt.figure(figsize=[14,8])\n",
    "for ii in range(4):\n",
    "    key = schemes[ii]\n",
    "    plt.plot(results[key]['N_coll_arr'], results[key][f'sum_dyn_err_2_array'], marker = 'o',label = titles[ii])\n",
    "plt.grid()\n",
    "plt.legend()\n",
    "plt.yscale('log')\n",
    "plt.title('Added second order dynamic error')\n",
    "plt.xlabel('Number of collocation points')\n",
    "plt.ylabel('Dynamic error ($rad/s^2$)')\n",
    "plt.savefig(f'5_link_Sum_second_order_dynamic_error_vs_collocation_points_number.eps', format='eps')"
   ]
  },
  {
   "cell_type": "code",
   "execution_count": null,
   "id": "503b9b89",
   "metadata": {},
   "outputs": [],
   "source": [
    "for scheme in schemes:\n",
    "    key = scheme\n",
    "    print('Problem:', key)\n",
    "    N_arr = results[key]['N_arr']\n",
    "    list_cpudt = []\n",
    "    for N in N_arr:\n",
    "        #print(f'\\tN = {N}')\n",
    "        list_cpudt.append(results[key][N]['cpudt'])\n",
    "    results[key]['cpudt_array'] = np.array(list_cpudt)"
   ]
  },
  {
   "cell_type": "markdown",
   "id": "281dcb68",
   "metadata": {},
   "source": [
    "# Save results\n",
    "with open('biped_results.pkl', 'wb') as f:\n",
    "    pickle.dump(results, f)\n"
   ]
  },
  {
   "cell_type": "code",
   "execution_count": null,
   "id": "6fc2d3aa",
   "metadata": {},
   "outputs": [],
   "source": [
    "schemes = ['hs_mod_parab','hs_parab', 'trapz', 'trapz_mod']\n",
    "titles = ['2nd order Hermite Simpson', 'Hermite Simpson','Trapezoidal', '2nd order Trapezoidal']\n",
    "plt.figure(figsize=oct_fig_size)\n",
    "for ii in [2,3,1,0]:\n",
    "    key = schemes[ii]\n",
    "    plt.plot(results[key]['N_arr'], results[key][f'cpudt_array'],\n",
    "             **scheme_kwargs(key, longlabel=False))\n",
    "plt.grid()\n",
    "plt.legend()\n",
    "#plt.yscale('log')\n",
    "plt.title('Bipedal walking optimization time')\n",
    "plt.xlabel('Number of intervals')\n",
    "plt.ylabel('Time (s)')\n",
    "plt.tight_layout(pad = 0.0)\n",
    "#plt.savefig(f'2d_order/5_link_optimization_vs_interval_number.pdf', format='pdf')"
   ]
  },
  {
   "cell_type": "markdown",
   "id": "30f0d674",
   "metadata": {},
   "source": [
    "schemes = ['hs_mod_parab','hs_parab', 'trapz', 'trapz_mod']\n",
    "titles = ['Modified Hermite Simpson', 'Hermite Simpson','Trapezoidal', 'Modified Trapezoidal']\n",
    "plt.figure(figsize=[14,8])\n",
    "for ii in range(4):\n",
    "    key = schemes[ii]\n",
    "    plt.plot(results[key]['N_coll_arr'], results[key][f'cpudt_array'], marker = 'o',label = titles[ii])\n",
    "plt.grid()\n",
    "plt.legend()\n",
    "#plt.yscale('log')\n",
    "plt.title('optimization time')\n",
    "plt.xlabel('Number of collocation points')\n",
    "plt.ylabel('time (s)')\n",
    "plt.savefig(f'5 link optimization vs collocation points number.eps', format='eps')"
   ]
  },
  {
   "cell_type": "code",
   "execution_count": null,
   "id": "12222ba2",
   "metadata": {},
   "outputs": [],
   "source": [
    "for scheme in ['hs_mod_parab', 'hs_parab', 'trapz', 'trapz_mod']:\n",
    "    key = scheme\n",
    "    for N in [25,50]:#results[key]['N_arr']:\n",
    "        print('scheme:', scheme, 'N:', N,'\\n\\ttime:', results[key][N][f'cpudt'],\n",
    "              '\\n\\tErr 1:', results[key][N]['sum_dyn_err_q'], '\\n\\tErr 2:', results[key][N]['sum_dyn_err_2'])"
   ]
  },
  {
   "cell_type": "markdown",
   "id": "267c7b22",
   "metadata": {},
   "source": [
    "## Animation"
   ]
  },
  {
   "cell_type": "code",
   "execution_count": null,
   "id": "24c3fa78",
   "metadata": {},
   "outputs": [],
   "source": [
    "from matplotlib import animation, rc\n",
    "import matplotlib.patches as patches\n",
    "from matplotlib.transforms import Affine2D\n",
    "from IPython.display import HTML"
   ]
  },
  {
   "cell_type": "code",
   "execution_count": null,
   "id": "d72b22c3",
   "metadata": {},
   "outputs": [],
   "source": [
    "matplotlib.rcParams['animation.embed_limit'] = 200"
   ]
  },
  {
   "cell_type": "code",
   "execution_count": null,
   "id": "a4f98a49",
   "metadata": {},
   "outputs": [],
   "source": [
    "def body_tray(X, params):\n",
    "    res = []\n",
    "    for ii in range(X.shape[0]):\n",
    "        res.append(list(chain_to_draw(X[ii,:], params)))\n",
    "    return np.array(res)"
   ]
  },
  {
   "cell_type": "code",
   "execution_count": null,
   "id": "ab473eb1",
   "metadata": {},
   "outputs": [],
   "source": [
    "def loop_body_tray(X, params):\n",
    "    point_tray = body_tray(X, params)\n",
    "    point_tray_loop = np.append(\n",
    "        point_tray,\n",
    "        np.expand_dims(\n",
    "            np.array(list(chain_to_draw(X[0,[4,3,2,1,0,5,6,7,8,9]],params)))\n",
    "            ,0),\n",
    "        0)\n",
    "    return point_tray_loop"
   ]
  },
  {
   "cell_type": "code",
   "execution_count": null,
   "id": "064c6630",
   "metadata": {},
   "outputs": [],
   "source": [
    "def create_anim(X, U, params, n_loops = 1):\n",
    "    [\n",
    "    I_0_n, I_1_n, I_2_n, I_3_n, I_4_n,\n",
    "    d_0_n, d_1_n, d_2_n, d_3_n, d_4_n,\n",
    "    g_n,\n",
    "    l_0_n, l_1_n, l_3_n,\n",
    "    m_0_n, m_1_n, m_2_n, m_3_n, m_4_n\n",
    "    ] = params\n",
    "    \n",
    "    N = X.shape[0]\n",
    "    fig, ax = plt.subplots()\n",
    "    draw_width = 14\n",
    "    draw_height = 14\n",
    "    \n",
    "    fig.set_dpi(300)\n",
    "    fig.set_size_inches([draw_width,draw_height])\n",
    "    ax.set_xlim(( -1, 1))\n",
    "    ax.set_ylim(( -0.2, 1.8))\n",
    "    \n",
    "    body, = ax.plot([], [], lw=4, ms = 12, marker = 'o')\n",
    "    trail, = ax.plot([], [], lw=1, color = 'k')\n",
    "    old_trail, = ax.plot([], [], lw=1, color = 'k')\n",
    "    next_trail, = ax.plot([], [], lw=1, color = 'k')\n",
    "    \n",
    "    \n",
    "    point_tray = body_tray(X, params)\n",
    "    point_tray_loop = loop_body_tray(X, params)\n",
    "    #sys_cm_point, = ax.plot([], [], 'go', ms=12)\n",
    "    #line_sys_cm, = ax.plot([], [], 'k:', lw=1)\n",
    "    \n",
    "    print_vars = [X[:,ii] for ii in range(5)]+[np.linspace(0, N-1, N, dtype=int)]\n",
    "    print_var_names = [f'q_{ii}' for ii in range(5)]+['step']\n",
    "    texts = []\n",
    "    ii = 0.8\n",
    "    for arr in print_vars:\n",
    "        texts.append(ax.text(-0.8, ii, \"\", fontsize = 12))\n",
    "        ii -= 0.2\n",
    "    \n",
    "    ax.grid()\n",
    "    \n",
    "    def init():\n",
    "        body.set_data([], [])\n",
    "        trail.set_data(point_tray_loop[0,0,-1], point_tray_loop[0,1,-1])\n",
    "        old_trail.set_data(point_tray_loop[:,0,-1]-0.5, point_tray_loop[:,1,-1])\n",
    "        #next_trail.set_data(point_tray_loop[:,0,-1]+0.5, point_tray_loop[:,1,-1])\n",
    "        #sys_cm_point.set_data([], [])\n",
    "        #line_sys_cm.set_data([], [])\n",
    "        return (body,)\n",
    "    \n",
    "    def animate(i):\n",
    "        margin_x = -0.25 + i * 0.5/N\n",
    "        trail.set_data(point_tray_loop[0:i+1,0,-1], point_tray_loop[0:i+1,1,-1])\n",
    "        #sys_cm_coords = sys_cm_np(X[i,:], params)\n",
    "        #sys_cm_point.set_data(sys_cm_coords)\n",
    "        #line_sys_cm.set_data([0, sys_cm_coords[0]], [0, sys_cm_coords[1]])\n",
    "        \n",
    "        ax.set_xlim(( -1+ margin_x, 1+ margin_x))\n",
    "        points_x, points_y = point_tray[i,:,:]\n",
    "        body.set_data(points_x, points_y) \n",
    "        \n",
    "        for ii in range(len(texts)):\n",
    "            text = texts[ii]\n",
    "            name = print_var_names[ii]\n",
    "            arr = print_vars[ii]\n",
    "            text.set_position((-0.9 + margin_x, 1.7 - 0.05*ii))\n",
    "            if name == 'step':\n",
    "                text.set_text(\"$step$ = \" + str(arr[i]))\n",
    "            else:\n",
    "                text.set_text(\"$\" + name + \"$ = %.3f\" % arr[i])\n",
    "        return (body,)\n",
    "    iterable_frames = sum([[jj for jj in range(N)]for kk in range(n_loops)], start = [])\n",
    "    anim = animation.FuncAnimation(fig, animate, init_func=init,\n",
    "                               frames=iterable_frames, interval=20, \n",
    "                               blit=True)\n",
    "    return anim\n",
    "\n",
    "\n",
    "\n"
   ]
  },
  {
   "cell_type": "code",
   "execution_count": null,
   "id": "f8bceb50",
   "metadata": {
    "scrolled": false
   },
   "outputs": [],
   "source": [
    "anim = create_anim(results['hs_mod_parab'][25]['x'][:-1,:],results['hs_mod_parab'][25]['u'], params, 20)"
   ]
  },
  {
   "cell_type": "code",
   "execution_count": null,
   "id": "58a76b44",
   "metadata": {},
   "outputs": [],
   "source": [
    "HTML(anim.to_jshtml())"
   ]
  },
  {
   "cell_type": "code",
   "execution_count": null,
   "id": "7548391e",
   "metadata": {},
   "outputs": [],
   "source": [
    "f = r\"biped_animation_hd.mp4\" \n",
    "writervideo = animation.FFMpegWriter(fps=25//0.7) \n",
    "anim.save(f, writer=writervideo)"
   ]
  },
  {
   "cell_type": "code",
   "execution_count": null,
   "id": "cc3cc1c9",
   "metadata": {},
   "outputs": [],
   "source": []
  },
  {
   "cell_type": "code",
   "execution_count": null,
   "id": "056bf6ca",
   "metadata": {},
   "outputs": [],
   "source": [
    "def __create_anim_simp(X, U, params):\n",
    "    [\n",
    "    I_0_n, I_1_n, I_2_n, I_3_n, I_4_n,\n",
    "    d_0_n, d_1_n, d_2_n, d_3_n, d_4_n,\n",
    "    g_n,\n",
    "    l_0_n, l_1_n, l_3_n,\n",
    "    m_0_n, m_1_n, m_2_n, m_3_n, m_4_n\n",
    "    ] = params\n",
    "    \n",
    "    N = X.shape[0]\n",
    "    fig, ax = plt.subplots()\n",
    "    \n",
    "    y_scale = 1\n",
    "    min_x_cart = np.min(X[:,0])\n",
    "    max_x_cart = np.max(X[:,0])\n",
    "    cart_displ = max_x_cart-min_x_cart\n",
    "    size_x = 2*y_scale + cart_displ\n",
    "    size_y = 2*y_scale\n",
    "    draw_width = 14\n",
    "    draw_height = draw_width / size_x * size_y\n",
    "    \n",
    "    x_0 = X[:,0]\n",
    "    y_0 = np.zeros_like(x_0)\n",
    "    x_1 = x_0 + l_3*np.sin(X[:,1])\n",
    "    y_1 = y_0 - l_3*np.cos(X[:,1])\n",
    "    \n",
    "    x_cm = (m_0 * x_0 + m_2 * x_1)/(m_0 + m_2)\n",
    "    y_cm = (m_0 * y_0 + m_2 * y_1)/(m_0 + m_2)\n",
    "\n",
    "    fig.set_size_inches([draw_width,draw_height])\n",
    "    ax.set_xlim(( min_x_cart-y_scale, max_x_cart+y_scale))\n",
    "    ax.set_ylim(( -y_scale, y_scale))\n",
    "\n",
    "    circle1 = plt.Circle((0, 0), l_3, color='b', ls = \":\", fill=False)\n",
    "    ax.add_artist(circle1)\n",
    "    ax.plot([min_x_cart - l_3, max_x_cart + l_3], [0,0], 'k', lw=1, ls = ':')\n",
    "\n",
    "    line1, = ax.plot([], [], lw=2)\n",
    "    line3, = ax.plot([], [], 'k', lw=1, ls = ':')\n",
    "    line_cm, = ax.plot([], [], 'g', lw=1, ls = ':')\n",
    "    point0, = ax.plot([], [], marker='o', markersize=15, color=\"red\")\n",
    "    point1, = ax.plot([], [], marker='o', markersize=15, color=\"red\")\n",
    "    point_cm, = ax.plot([], [], marker='o', markersize=10, color=\"green\")\n",
    "    u_max = max(np.max(np.abs(U[:,0])),1e-15)\n",
    "    arrow_w = 0.05*l_3\n",
    "    arrow_l = 0.2*l_3\n",
    "    u_arrow = patches.Arrow(0, 0, 0, -arrow_l, color = 'gray',width = arrow_w)\n",
    "    ax.add_patch(u_arrow)\n",
    "    \n",
    "    print_vars = [X[:,0], X[:,1], U[:,0], U[:,1], np.linspace(0, N-1, N, dtype=int)]\n",
    "    print_var_names = ['q_0', 'q_1', 'u_0', 'u_1', 'step']\n",
    "    texts = []\n",
    "    ii = 0\n",
    "    for arr in print_vars:\n",
    "        texts.append(ax.text(0.2, ii, \"\", fontsize = 12))\n",
    "        ii -= 0.08*l_3\n",
    "    \n",
    "    def init():\n",
    "        line1.set_data([], [])\n",
    "        line3.set_data([], [])\n",
    "        line_cm.set_data([], [])\n",
    "        point1.set_data([], [])\n",
    "        circle1.center = (0, 0)\n",
    "        return (line1,)\n",
    "    def animate(i):\n",
    "        circle1.center = (x_0[i], y_0[i])\n",
    "        point0.set_data(x_0[i], y_0[i])\n",
    "        line1.set_data([x_0[i], x_1[i]], [y_0[i], y_1[i]])    \n",
    "        point1.set_data(x_1[i], y_1[i])\n",
    "        point_cm.set_data(x_cm[i], y_cm[i])\n",
    "        line3.set_data(x_1[:i], y_1[:i])\n",
    "        line_cm.set_data(x_cm[:i], y_cm[:i])\n",
    "        trans = Affine2D()\n",
    "        u_arrow._patch_transform = trans.scale(U[i,0] * arrow_l / u_max, arrow_w).translate(x_0[i],0)\n",
    "        for ii in range(len(texts)):\n",
    "            text = texts[ii]\n",
    "            name = print_var_names[ii]\n",
    "            arr = print_vars[ii]\n",
    "            text.set_text(\"$\" + name + \"$ = %.6f\" % arr[i])\n",
    "        return (line1,u_arrow)\n",
    "    anim = animation.FuncAnimation(fig, animate, init_func=init,\n",
    "                               frames=N, interval=20, \n",
    "                               blit=True)\n",
    "    return anim"
   ]
  }
 ],
 "metadata": {
  "kernelspec": {
   "display_name": "Python 3 (ipykernel)",
   "language": "python",
   "name": "python3"
  },
  "language_info": {
   "codemirror_mode": {
    "name": "ipython",
    "version": 3
   },
   "file_extension": ".py",
   "mimetype": "text/x-python",
   "name": "python",
   "nbconvert_exporter": "python",
   "pygments_lexer": "ipython3",
   "version": "3.9.15"
  }
 },
 "nbformat": 4,
 "nbformat_minor": 5
}
