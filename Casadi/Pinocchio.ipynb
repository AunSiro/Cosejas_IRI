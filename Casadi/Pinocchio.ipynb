{
 "cells": [
  {
   "cell_type": "code",
   "execution_count": null,
   "id": "ed1e7a4b",
   "metadata": {},
   "outputs": [],
   "source": [
    "import numpy as np\n",
    "from pinocchio.utils import eye, rand, zero, skew, cross, rotate\n",
    "import pinocchio as pin"
   ]
  },
  {
   "cell_type": "code",
   "execution_count": null,
   "id": "878cf017",
   "metadata": {},
   "outputs": [],
   "source": [
    "# Position\n",
    "R = eye(3); p = zero(3)\n",
    "M0 = pin.SE3(R, p)\n",
    "M = pin.SE3.Random()\n",
    "M.translation = p; M.rotation = R\n",
    "M"
   ]
  },
  {
   "cell_type": "code",
   "execution_count": null,
   "id": "0c8d2836",
   "metadata": {},
   "outputs": [],
   "source": [
    "# Velocities\n",
    "v = zero(3); w = zero(3)\n",
    "nu0 = pin.Motion(v, w)\n",
    "nu = pin.Motion.Random()\n",
    "nu.linear = v; nu.angular = w\n",
    "nu"
   ]
  },
  {
   "cell_type": "code",
   "execution_count": null,
   "id": "d9a83a8d",
   "metadata": {},
   "outputs": [],
   "source": [
    "# Forces\n",
    "f = zero(3); tau = zero(3)\n",
    "phi0 = pin.Force(f, tau)\n",
    "phi = pin.Force.Random()\n",
    "phi.linear = f; phi.angular = tau\n",
    "phi"
   ]
  },
  {
   "cell_type": "code",
   "execution_count": null,
   "id": "bc12acc4",
   "metadata": {},
   "outputs": [],
   "source": [
    "from example_robot_data import load"
   ]
  },
  {
   "cell_type": "code",
   "execution_count": null,
   "id": "8f940b21",
   "metadata": {},
   "outputs": [],
   "source": [
    "robot = load('panda')"
   ]
  },
  {
   "cell_type": "markdown",
   "id": "c3a113fd",
   "metadata": {},
   "source": [
    "from pinocchio.robot_wrapper import RobotWrapper\n",
    "#URDF = 'ur5_gripper.urdf'\n",
    "#URDF = '/opt/openrobots/share/ur5_description/urdf/ur5_gripper.urdf'\n",
    "URDF = '/opt/anaconda3/envs/siro/share/example-robot-data/robots/ur_description/urdf/ur5_gripper.urdf'\n",
    "robot = RobotWrapper.BuildFromURDF(URDF)\n"
   ]
  },
  {
   "cell_type": "code",
   "execution_count": null,
   "id": "d920a002",
   "metadata": {},
   "outputs": [],
   "source": [
    "# Get index of end effector\n",
    " \n",
    "idx = 2#robot.index('wrist_3_joint')\n",
    "q = zero(robot.nq)\n",
    "\n",
    "# Compute and get the placement of joint number idx\n",
    " \n",
    "placement = robot.placement(q, idx)\n",
    "# Be carreful, Python always returns references to values.\n",
    "# You can often .copy() the object to avoid side effects\n",
    "# Only get the placement\n",
    "placement = robot.data.oMi[idx].copy()\n",
    "placement"
   ]
  },
  {
   "cell_type": "code",
   "execution_count": null,
   "id": "bd89622e",
   "metadata": {
    "scrolled": false
   },
   "outputs": [],
   "source": [
    "robot.initViewer(loadModel=True)"
   ]
  },
  {
   "cell_type": "code",
   "execution_count": null,
   "id": "c8b3ba59",
   "metadata": {},
   "outputs": [],
   "source": [
    "from pinocchio.visualize import MeshcatVisualizer\n",
    "import pinocchio as pin"
   ]
  },
  {
   "cell_type": "code",
   "execution_count": null,
   "id": "0e7a40f6",
   "metadata": {},
   "outputs": [],
   "source": [
    "\n",
    "import sys\n",
    "import os\n",
    "from os.path import dirname, join, abspath\n",
    " \n",
    "# Load the URDF model.\n",
    "# Conversion with str seems to be necessary when executing this file with ipython\n",
    "pinocchio_model_dir = '/opt/anaconda3/envs/siro/share/'\n",
    " \n",
    "model_path = join(pinocchio_model_dir,\"example-robot-data/robots\")\n",
    "mesh_dir = pinocchio_model_dir\n",
    "urdf_filename = \"talos_reduced.urdf\"\n",
    "urdf_model_path = join(join(model_path,\"talos_data/robots\"),urdf_filename)\n",
    "\n",
    "#model, collision_model, visual_model = pin.buildModelsFromUrdf(urdf_model_path, mesh_dir, pin.JointModelFreeFlyer())"
   ]
  },
  {
   "cell_type": "code",
   "execution_count": null,
   "id": "a5bb785e",
   "metadata": {},
   "outputs": [],
   "source": [
    "viz = MeshcatVisualizer(robot.model, robot.collision_model, robot.visual_model)"
   ]
  },
  {
   "cell_type": "code",
   "execution_count": null,
   "id": "bb5d2ebc",
   "metadata": {},
   "outputs": [],
   "source": [
    "# Start a new MeshCat server and client.\n",
    "# Note: the server can also be started separately using the \"meshcat-server\" command in a terminal:\n",
    "# this enables the server to remain active after the current script ends.\n",
    "#\n",
    "# Option open=True pens the visualizer.\n",
    "# Note: the visualizer can also be opened seperately by visiting the provided URL.\n",
    "try:\n",
    "    viz.initViewer(open=False)\n",
    "except ImportError as err:\n",
    "    print(\"Error while initializing the viewer. It seems you should install Python meshcat\")\n",
    "    print(err)\n",
    "    sys.exit(0)"
   ]
  },
  {
   "cell_type": "code",
   "execution_count": null,
   "id": "834a7848",
   "metadata": {},
   "outputs": [],
   "source": [
    "viz.viewer.jupyter_cell()"
   ]
  },
  {
   "cell_type": "code",
   "execution_count": null,
   "id": "aae19cb7",
   "metadata": {},
   "outputs": [],
   "source": [
    " \n",
    "# Load the robot in the viewer.\n",
    "viz.loadViewerModel()"
   ]
  },
  {
   "cell_type": "code",
   "execution_count": null,
   "id": "8338bac5",
   "metadata": {},
   "outputs": [],
   "source": [
    "qr = np.random.rand(9)\n",
    "qr[-2:]=0\n",
    "viz.display(qr)"
   ]
  },
  {
   "cell_type": "code",
   "execution_count": null,
   "id": "f1640736",
   "metadata": {},
   "outputs": [],
   "source": [
    "# Display a robot configuration.\n",
    "q0 = pin.neutral(robot.model)\n",
    "viz.display(q0)"
   ]
  },
  {
   "cell_type": "markdown",
   "id": "2b031f79",
   "metadata": {},
   "source": [
    "viz.displayCollisions(True)\n",
    "viz.displayVisuals(False)"
   ]
  },
  {
   "cell_type": "code",
   "execution_count": null,
   "id": "35166360",
   "metadata": {},
   "outputs": [],
   "source": [
    "viz.displayCollisions(False)\n",
    "viz.displayVisuals(True)"
   ]
  },
  {
   "cell_type": "markdown",
   "id": "bc9a8295",
   "metadata": {},
   "source": [
    "\n",
    "\n",
    "mesh = robot.visual_model.geometryObjects[0].geometry\n",
    "mesh.buildConvexRepresentation(True)\n",
    "convex = mesh.convex\n",
    "\n",
    "if convex is not None:\n",
    "    placement = pin.SE3.Identity()\n",
    "    placement.translation[0] = 2.\n",
    "    geometry = pin.GeometryObject(\"convex\",0,convex,placement)\n",
    "    geometry.meshColor = np.ones((4))\n",
    "    robot.visual_model.addGeometryObject(geometry)"
   ]
  },
  {
   "cell_type": "markdown",
   "id": "0a0ca39e",
   "metadata": {},
   "source": [
    "# Display another robot.\n",
    "viz2 = MeshcatVisualizer(robot.model, robot.collision_model, robot.visual_model)\n",
    "viz2.initViewer(viz.viewer)\n",
    "viz2.loadViewerModel(rootNodeName = \"pinocchio2\")\n",
    "q = q0.copy()\n",
    "q[0] = 1.0\n",
    "viz2.display(q)"
   ]
  },
  {
   "cell_type": "markdown",
   "id": "0116af4e",
   "metadata": {},
   "source": [
    "viz.clean()"
   ]
  },
  {
   "cell_type": "code",
   "execution_count": null,
   "id": "6b6d35b6",
   "metadata": {},
   "outputs": [],
   "source": [
    "from roboticstoolbox.models.DH import Panda"
   ]
  },
  {
   "cell_type": "code",
   "execution_count": null,
   "id": "bc4df955",
   "metadata": {},
   "outputs": [],
   "source": [
    "panda = Panda()\n",
    "\n",
    "# Centers of masses of Panda not yet implemented in Robotic Toolbox\n",
    "r_arr = np.array(\n",
    "    [\n",
    "        [3.875e-03, 2.081e-03, 0],\n",
    "        [-3.141e-03, -2.872e-02, 3.495e-03],\n",
    "        [2.7518e-02, 3.9252e-02, -6.6502e-02],\n",
    "        [-5.317e-02, 1.04419e-01, 2.7454e-02],\n",
    "        [-1.1953e-02, 4.1065e-02, -3.8437e-02],\n",
    "        [6.0149e-02, -1.4117e-02, -1.0517e-02],\n",
    "        [1.0517e-02, -4.252e-03, -4.5403e-02],\n",
    "    ]\n",
    ")\n",
    "\n",
    "for ii, link in enumerate(panda.links):\n",
    "    link.r = r_arr[ii, :]"
   ]
  },
  {
   "cell_type": "code",
   "execution_count": null,
   "id": "76b8ff60",
   "metadata": {},
   "outputs": [],
   "source": [
    "for ii, link in enumerate(panda.links):\n",
    "    print(ii,link.I)"
   ]
  },
  {
   "cell_type": "code",
   "execution_count": null,
   "id": "ae4ed388",
   "metadata": {},
   "outputs": [],
   "source": [
    "link.r"
   ]
  },
  {
   "cell_type": "code",
   "execution_count": null,
   "id": "85849dff",
   "metadata": {},
   "outputs": [],
   "source": [
    "def link_2_params(link):\n",
    "    m = link.m\n",
    "    mc_x, mc_y, mc_z = link.r\n",
    "    I_xx = link.I[0,0]\n",
    "    I_xy = link.I[0,1]\n",
    "    I_xz = link.I[0,2]\n",
    "    I_yy = link.I[1,1]\n",
    "    I_yz = link.I[1,2]\n",
    "    I_zz = link.I[2,2]\n",
    "    return np.array([m, mc_x, mc_y, mc_z, I_xx, I_xy, I_yy, I_xz, I_yz, I_zz])"
   ]
  },
  {
   "cell_type": "code",
   "execution_count": null,
   "id": "82aaa847",
   "metadata": {},
   "outputs": [],
   "source": [
    "link.I"
   ]
  },
  {
   "cell_type": "code",
   "execution_count": null,
   "id": "0c97da6b",
   "metadata": {},
   "outputs": [],
   "source": [
    "_i1 = robot.model.inertias[0]"
   ]
  },
  {
   "cell_type": "code",
   "execution_count": null,
   "id": "57686c66",
   "metadata": {},
   "outputs": [],
   "source": [
    "for ii in range(7):\n",
    "    robot.model.inertias[ii+1] = robot.model.inertias[ii+1].FromDynamicParameters(link_2_params(panda.links[ii]))"
   ]
  },
  {
   "cell_type": "code",
   "execution_count": null,
   "id": "7a5ed02b",
   "metadata": {},
   "outputs": [],
   "source": [
    "_i1"
   ]
  },
  {
   "cell_type": "code",
   "execution_count": null,
   "id": "88eb6864",
   "metadata": {},
   "outputs": [],
   "source": [
    "for name, inert in zip(robot.model.names, robot.model.inertias):\n",
    "    print(name, inert)"
   ]
  },
  {
   "cell_type": "code",
   "execution_count": null,
   "id": "be74b324",
   "metadata": {},
   "outputs": [],
   "source": [
    "pin.forwardKinematics(robot.model, robot.data, qr)"
   ]
  },
  {
   "cell_type": "code",
   "execution_count": null,
   "id": "d7586c3c",
   "metadata": {},
   "outputs": [],
   "source": [
    "for name, oMi in zip(robot.model.names, robot.data.oMi):\n",
    "    print((\"{:<24} : {: .2f} {: .2f} {: .2f}\"\n",
    "          .format( name, *oMi.translation.T.flat )))"
   ]
  },
  {
   "cell_type": "code",
   "execution_count": null,
   "id": "bd3c4a42",
   "metadata": {},
   "outputs": [],
   "source": [
    "robot.forwardKinematics(qr)"
   ]
  },
  {
   "cell_type": "code",
   "execution_count": null,
   "id": "69422078",
   "metadata": {},
   "outputs": [],
   "source": [
    "qr"
   ]
  },
  {
   "cell_type": "code",
   "execution_count": null,
   "id": "12048d59",
   "metadata": {},
   "outputs": [],
   "source": [
    "v = zero(9)"
   ]
  },
  {
   "cell_type": "code",
   "execution_count": null,
   "id": "e12a0179",
   "metadata": {},
   "outputs": [],
   "source": [
    "tau = zero(9)"
   ]
  },
  {
   "cell_type": "code",
   "execution_count": null,
   "id": "eecd85e7",
   "metadata": {},
   "outputs": [],
   "source": [
    "pin.crba(robot.model, robot.data, qr)"
   ]
  },
  {
   "cell_type": "code",
   "execution_count": null,
   "id": "ba0126b5",
   "metadata": {
    "scrolled": true
   },
   "outputs": [],
   "source": [
    "pin.rnea(robot.model, robot.data, qr, v, tau)"
   ]
  },
  {
   "cell_type": "code",
   "execution_count": null,
   "id": "91601ce9",
   "metadata": {
    "scrolled": true
   },
   "outputs": [],
   "source": [
    "pin.aba(robot.model, robot.data, qr, v, tau)"
   ]
  },
  {
   "cell_type": "code",
   "execution_count": null,
   "id": "ecd76c3e",
   "metadata": {},
   "outputs": [],
   "source": [
    "robot.data.J"
   ]
  },
  {
   "cell_type": "code",
   "execution_count": null,
   "id": "95d480c5",
   "metadata": {},
   "outputs": [],
   "source": []
  },
  {
   "cell_type": "code",
   "execution_count": null,
   "id": "25fdf0e0",
   "metadata": {},
   "outputs": [],
   "source": []
  },
  {
   "cell_type": "code",
   "execution_count": null,
   "id": "639432e0",
   "metadata": {},
   "outputs": [],
   "source": []
  },
  {
   "cell_type": "code",
   "execution_count": null,
   "id": "de1575c5",
   "metadata": {},
   "outputs": [],
   "source": []
  }
 ],
 "metadata": {
  "kernelspec": {
   "display_name": "Python 3 (ipykernel)",
   "language": "python",
   "name": "python3"
  },
  "language_info": {
   "codemirror_mode": {
    "name": "ipython",
    "version": 3
   },
   "file_extension": ".py",
   "mimetype": "text/x-python",
   "name": "python",
   "nbconvert_exporter": "python",
   "pygments_lexer": "ipython3",
   "version": "3.9.15"
  }
 },
 "nbformat": 4,
 "nbformat_minor": 5
}
