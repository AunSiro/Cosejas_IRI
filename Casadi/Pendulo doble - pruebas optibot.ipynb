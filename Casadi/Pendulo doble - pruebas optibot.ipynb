{
 "cells": [
  {
   "cell_type": "markdown",
   "metadata": {},
   "source": [
    "# Step 1: mechanics with Euler-Lagrange"
   ]
  },
  {
   "cell_type": "code",
   "execution_count": null,
   "metadata": {},
   "outputs": [],
   "source": [
    "import numpy as np\n",
    "import matplotlib.pyplot as plt\n",
    "from mpl_toolkits import mplot3d\n",
    "\n",
    "from numpy import logical_and as npand\n",
    "from numpy import logical_or as npor\n",
    "import matplotlib"
   ]
  },
  {
   "cell_type": "code",
   "execution_count": null,
   "metadata": {},
   "outputs": [],
   "source": [
    "from sympy import (symbols, pi, I, E, cos, sin, exp, tan, simplify, expand, factor, collect,\n",
    "                   apart, cancel, expand_trig, diff, Derivative, Function, integrate, limit,\n",
    "                   series, Eq, solve, dsolve, Matrix, N, preorder_traversal, Float, solve_linear_system,\n",
    "                   eye, zeros, lambdify, Symbol)\n",
    "from sympy.physics.mechanics import dynamicsymbols, init_vprinting"
   ]
  },
  {
   "cell_type": "code",
   "execution_count": null,
   "metadata": {},
   "outputs": [],
   "source": [
    "from matplotlib import animation, rc\n",
    "from IPython.display import HTML"
   ]
  },
  {
   "cell_type": "code",
   "execution_count": null,
   "metadata": {},
   "outputs": [],
   "source": [
    "matplotlib.rcParams['animation.embed_limit'] = 200"
   ]
  },
  {
   "cell_type": "code",
   "execution_count": null,
   "metadata": {},
   "outputs": [],
   "source": [
    "init_vprinting()"
   ]
  },
  {
   "cell_type": "code",
   "execution_count": null,
   "metadata": {},
   "outputs": [],
   "source": [
    "m0, m1, l0, l1, t, g = symbols('m_0 m_1 l_0 l_1 t g')"
   ]
  },
  {
   "cell_type": "code",
   "execution_count": null,
   "metadata": {},
   "outputs": [],
   "source": [
    "q0, q1 = dynamicsymbols('q_0 q_1')\n",
    "q0, q1"
   ]
  },
  {
   "cell_type": "code",
   "execution_count": null,
   "metadata": {},
   "outputs": [],
   "source": [
    "qdot0 = q0.diff(t)\n",
    "qdot1 = q1.diff(t)\n",
    "qdot0, qdot1"
   ]
  },
  {
   "cell_type": "code",
   "execution_count": null,
   "metadata": {},
   "outputs": [],
   "source": [
    "qdotdot0 = qdot0.diff(t)\n",
    "qdotdot1 = qdot1.diff(t)\n",
    "qdotdot0, qdotdot1"
   ]
  },
  {
   "cell_type": "code",
   "execution_count": null,
   "metadata": {},
   "outputs": [],
   "source": [
    "T = m0*l0**2*qdot0**2/2 + m1*(l0**2*qdot0**2 + l1**2*qdot1**2 + 2*l0*l1*qdot0*qdot1*cos(q1-q0))/2\n",
    "T"
   ]
  },
  {
   "cell_type": "code",
   "execution_count": null,
   "metadata": {},
   "outputs": [],
   "source": [
    "U = -m0*g*cos(q0)*l0 - m1*g*(l0*cos(q0)+l1*cos(q1))\n",
    "U"
   ]
  },
  {
   "cell_type": "code",
   "execution_count": null,
   "metadata": {},
   "outputs": [],
   "source": [
    "from optibot.symbolic import get_lagr_eqs, lagr_to_RHS, print_funcs"
   ]
  },
  {
   "cell_type": "code",
   "execution_count": null,
   "metadata": {},
   "outputs": [],
   "source": [
    "lag_eqs = get_lagr_eqs(T, U, 2)\n",
    "lag_eqs"
   ]
  },
  {
   "cell_type": "code",
   "execution_count": null,
   "metadata": {},
   "outputs": [],
   "source": [
    "RHS = lagr_to_RHS(lag_eqs)\n",
    "RHS"
   ]
  },
  {
   "cell_type": "code",
   "execution_count": null,
   "metadata": {},
   "outputs": [],
   "source": [
    "import casadi as cas"
   ]
  },
  {
   "cell_type": "code",
   "execution_count": null,
   "metadata": {},
   "outputs": [],
   "source": [
    "from optibot.casadi import RHS2casF"
   ]
  },
  {
   "cell_type": "code",
   "execution_count": null,
   "metadata": {
    "scrolled": false
   },
   "outputs": [],
   "source": [
    "F_cas = RHS2casF(RHS, 2)"
   ]
  },
  {
   "cell_type": "code",
   "execution_count": null,
   "metadata": {},
   "outputs": [],
   "source": [
    "F_cas([1,0,1,1], [0,0], [1,1,1,1,1])"
   ]
  },
  {
   "cell_type": "code",
   "execution_count": null,
   "metadata": {},
   "outputs": [],
   "source": [
    "F_cas"
   ]
  },
  {
   "cell_type": "code",
   "execution_count": null,
   "metadata": {},
   "outputs": [],
   "source": [
    "from optibot.numpy import RHS2numpy"
   ]
  },
  {
   "cell_type": "code",
   "execution_count": null,
   "metadata": {},
   "outputs": [],
   "source": [
    "F_nump = RHS2numpy(RHS, 2)"
   ]
  },
  {
   "cell_type": "code",
   "execution_count": null,
   "metadata": {},
   "outputs": [],
   "source": [
    "F_nump([1,0,1,1], [0,0], [1,1,1,1,1])"
   ]
  },
  {
   "cell_type": "code",
   "execution_count": null,
   "metadata": {},
   "outputs": [],
   "source": [
    "F_nump"
   ]
  },
  {
   "cell_type": "code",
   "execution_count": null,
   "metadata": {},
   "outputs": [],
   "source": [
    "from optibot.symbolic import diff_to_symb"
   ]
  },
  {
   "cell_type": "code",
   "execution_count": null,
   "metadata": {},
   "outputs": [],
   "source": [
    "E=T+U\n",
    "\n",
    "print_funcs([diff_to_symb(E, 2),], 2)"
   ]
  },
  {
   "cell_type": "code",
   "execution_count": null,
   "metadata": {},
   "outputs": [],
   "source": []
  },
  {
   "cell_type": "code",
   "execution_count": null,
   "metadata": {},
   "outputs": [],
   "source": []
  },
  {
   "cell_type": "code",
   "execution_count": null,
   "metadata": {},
   "outputs": [],
   "source": [
    "from optibot.numpy import unpack\n",
    "def energ(x,params):\n",
    "    q_0, q_1, v_0, v_1 = unpack(x)\n",
    "    m_0, l_0, m_1, g, l_1 = params\n",
    "    result = -g*l_0*m_0*np.cos(q_0)\n",
    "    result += - g*m_1*(l_0*np.cos(q_0) + l_1*np.cos(q_1)) \n",
    "    result += l_0**2*m_0*v_0**2/2\n",
    "    result += m_1*(l_0**2*v_0**2 + 2*l_0*l_1*v_0*v_1*np.cos(q_0 - q_1) + l_1**2*v_1**2)/2\n",
    "\n",
    "    return result\n",
    "\n"
   ]
  },
  {
   "cell_type": "code",
   "execution_count": null,
   "metadata": {},
   "outputs": [],
   "source": [
    "def create_anim(X, U):\n",
    "    fig, ax = plt.subplots()\n",
    "\n",
    "    fig.set_size_inches([8,8])\n",
    "    ax.set_xlim(( -2.5, 2.5))\n",
    "    ax.set_ylim(( -2.5, 2.5))\n",
    "\n",
    "    circle1 = plt.Circle((0, 0), 2, color='b', ls = \":\", fill=False)\n",
    "    circle2 = plt.Circle((0, 0), 1, color='b', ls = \":\", fill=False)\n",
    "    ax.add_artist(circle1)\n",
    "    ax.add_artist(circle2)\n",
    "\n",
    "    line1, = ax.plot([], [], lw=2)\n",
    "    line2, = ax.plot([], [], lw=2)\n",
    "    line3, = ax.plot([], [], 'k', lw=1, ls = ':')\n",
    "    point1, = ax.plot([], [], marker='o', markersize=15, color=\"red\")\n",
    "    point2, = ax.plot([], [], marker='o', markersize=15, color=\"red\")\n",
    "    text = ax.text(0.2, 0, \"\", fontsize = 12)\n",
    "    text_2 = ax.text(0.2, -0.15, \"\", fontsize = 12)\n",
    "    text_3 = ax.text(0.2, -0.30, \"\", fontsize = 12)\n",
    "    \n",
    "    trayectory = [[0,-2],]\n",
    "    \n",
    "    def init():\n",
    "        line1.set_data([], [])\n",
    "        line2.set_data([], [])\n",
    "        line3.set_data([], [])\n",
    "        point1.set_data([], [])\n",
    "        point2.set_data([], [])\n",
    "        text.set_text('')\n",
    "        return (line1,line2,)\n",
    "    def animate(i):\n",
    "        x1 = [0, np.sin(X[i,0])]\n",
    "        y1 = [0, -np.cos(X[i,0])]\n",
    "        x2 = [x1[1], x1[1]+np.sin(X[i,1])]\n",
    "        y2 = [y1[1], y1[1]-np.cos(X[i,1])]\n",
    "        trayectory.append([x2[1], y2[1]])\n",
    "        line1.set_data(x1, y1)    \n",
    "        point1.set_data(x1[1], y1[1])\n",
    "        line2.set_data(x2, y2)    \n",
    "        point2.set_data(x2[1], y2[1])\n",
    "        tray = np.array(trayectory)\n",
    "        line3.set_data(tray[:,0], tray[:,1])    \n",
    "        text.set_text(\"U = %.6f\" % U[i,0])\n",
    "        text_2.set_text(r\"$\\dot{\\theta}_0$\" + \" = %.6f\" % X[i,0])\n",
    "        text_3.set_text(r\"$\\dot{\\theta}_1$\" + \" = %.6f\" % X[i,1])\n",
    "        return (line1,line2,)\n",
    "    N = X.shape[0]\n",
    "    anim = animation.FuncAnimation(fig, animate, init_func=init,\n",
    "                               frames=N, interval=20, \n",
    "                               blit=True)\n",
    "    return anim"
   ]
  },
  {
   "cell_type": "code",
   "execution_count": null,
   "metadata": {},
   "outputs": [],
   "source": [
    "from optibot.schemes import euler_restr, trapz_restr, trapz_mod_restr, hs_mod_restr, hs_restr\n",
    "from optibot.casadi import restriction2casadi"
   ]
  },
  {
   "cell_type": "code",
   "execution_count": null,
   "metadata": {},
   "outputs": [],
   "source": [
    "N = 300"
   ]
  },
  {
   "cell_type": "code",
   "execution_count": null,
   "metadata": {},
   "outputs": [],
   "source": [
    "new_X = np.zeros([N+1,4],dtype = 'float')\n",
    "new_X[:,0]= np.linspace(0, cas.pi, N+1)\n",
    "new_X[:,2]= np.linspace(0, cas.pi, N+1)\n",
    "new_X[:,1]= cas.pi/N\n",
    "new_X[:,3]= cas.pi/N\n",
    "new_U = np.zeros([N+1,2],dtype = 'float')"
   ]
  },
  {
   "cell_type": "code",
   "execution_count": null,
   "metadata": {},
   "outputs": [],
   "source": [
    "opti = cas.Opti()\n",
    "opti.solver('ipopt')"
   ]
  },
  {
   "cell_type": "code",
   "execution_count": null,
   "metadata": {},
   "outputs": [],
   "source": [
    "X = opti.variable(N+1,4)\n",
    "U = opti.variable(N+1,2)\n",
    "T = opti.parameter()\n",
    "u_m = opti.parameter(2)"
   ]
  },
  {
   "cell_type": "code",
   "execution_count": null,
   "metadata": {},
   "outputs": [],
   "source": [
    "#M = opti.parameter(2)\n",
    "#L = opti.parameter(2)\n",
    "#G = opti.parameter()\n",
    "Params = opti.parameter(5)"
   ]
  },
  {
   "cell_type": "code",
   "execution_count": null,
   "metadata": {},
   "outputs": [],
   "source": [
    "#cost = cas.sum1(2+cas.cos(X[:,0])+cas.cos(X[:,1]))*T\n",
    "cost = cas.sum1(2+cas.cos(X[:,1]))*T\n",
    "opti.minimize(cost)"
   ]
  },
  {
   "cell_type": "code",
   "execution_count": null,
   "metadata": {},
   "outputs": [],
   "source": [
    "opti.subject_to(X[0,:].T == [0, 0, 0, 0])\n",
    "opti.subject_to(cas.cos(X[-1,0]) < -0.9999)\n",
    "opti.subject_to(cas.cos(X[-1,1]) < -0.9999)\n",
    "opti.subject_to(opti.bounded(-0.001,X[-1,2],0.001))\n",
    "opti.subject_to(opti.bounded(-0.001,X[-1,3],0.001))\n",
    "opti.subject_to(U[-1,:].T == [0,0])"
   ]
  },
  {
   "cell_type": "code",
   "execution_count": null,
   "metadata": {},
   "outputs": [],
   "source": [
    "#restriction = restriction2casadi(euler_restr, F_cas, 2, 5)\n",
    "#restriction = restriction2casadi(trapz_restr, F_cas, 2, 5)\n",
    "restriction = restriction2casadi(hs_restr, F_cas, 2, 5)"
   ]
  },
  {
   "cell_type": "code",
   "execution_count": null,
   "metadata": {
    "scrolled": false
   },
   "outputs": [],
   "source": [
    "for ii in range(N):\n",
    "    opti.subject_to(restriction(X[ii,:], X[ii+1,:], U[ii,:], U[ii+1,:],T/N, Params)==0)\n",
    "    opti.subject_to(opti.bounded(-u_m[0],U[ii, 0],u_m[0]))\n",
    "    opti.subject_to(opti.bounded(-u_m[1],U[ii, 1],u_m[1]))"
   ]
  },
  {
   "cell_type": "code",
   "execution_count": null,
   "metadata": {},
   "outputs": [],
   "source": [
    "opti.set_initial(X[:,0], np.linspace(0, cas.pi, N+1))\n",
    "opti.set_initial(X[:,2], np.linspace(0, cas.pi, N+1))\n",
    "opti.set_initial(X[:,1], cas.pi/N)\n",
    "opti.set_initial(X[:,3], cas.pi/N)\n",
    "opti.set_initial(U, np.zeros([N+1,2],dtype = 'float'))"
   ]
  },
  {
   "cell_type": "code",
   "execution_count": null,
   "metadata": {},
   "outputs": [],
   "source": [
    "opti.set_initial(X, new_X)\n",
    "opti.set_initial(U, new_U)"
   ]
  },
  {
   "cell_type": "code",
   "execution_count": null,
   "metadata": {},
   "outputs": [],
   "source": [
    "opti.set_value(T, 60)\n",
    "max_par = 0.4\n",
    "opti.set_value(u_m, [max_par, 0])\n",
    "opti.set_value(Params, [1,1,1,1,1])"
   ]
  },
  {
   "cell_type": "code",
   "execution_count": null,
   "metadata": {
    "scrolled": true
   },
   "outputs": [],
   "source": [
    "sol = opti.solve()"
   ]
  },
  {
   "cell_type": "code",
   "execution_count": null,
   "metadata": {},
   "outputs": [],
   "source": [
    "xx = sol.value(X)\n",
    "uu = sol.value(U)\n",
    "ene = energ(xx, [1,1,1,1,1])\n",
    "ene = np.array(ene)\n",
    "pot = uu[:,0] * xx[:,2] * sol.value(T)/N\n",
    "work = [ene[0]]\n",
    "for ii in pot:\n",
    "    work.append(work[-1] + ii)\n",
    "work = np.array(work)    "
   ]
  },
  {
   "cell_type": "code",
   "execution_count": null,
   "metadata": {},
   "outputs": [],
   "source": [
    "plt.figure(figsize=[14,10])\n",
    "plt.plot(xx[:,0], 'b')\n",
    "plt.plot(xx[:,2], 'b:')\n",
    "plt.plot(xx[:,1], 'orange')\n",
    "plt.plot(xx[:,3], 'orange', ls = ':')\n",
    "plt.plot(uu[:,0], 'g:')\n",
    "plt.plot(uu[:,1], 'r:')"
   ]
  },
  {
   "cell_type": "code",
   "execution_count": null,
   "metadata": {},
   "outputs": [],
   "source": [
    "plt.figure(figsize=[14,10])\n",
    "plt.plot(xx[:,2], 'orange')\n",
    "plt.plot(ene.flatten(), 'r:')\n",
    "plt.plot(uu[:,0], 'g:')\n",
    "plt.plot(uu[:,0] * xx[:,2], 'b:')\n",
    "plt.plot(work, 'b-', linewidth = 1)\n",
    "plt.hlines([0,np.pi, -np.pi], 0, N, 'k', 'dotted')"
   ]
  },
  {
   "cell_type": "code",
   "execution_count": null,
   "metadata": {},
   "outputs": [],
   "source": [
    "pot_ene = []\n",
    "for ii in range(len(ene)-1):\n",
    "    pot_ene.append(ene[ii+1]-ene[ii])\n",
    "pot_ene = np.array(pot_ene)"
   ]
  },
  {
   "cell_type": "code",
   "execution_count": null,
   "metadata": {},
   "outputs": [],
   "source": [
    "plt.figure(figsize=[14,10])\n",
    "#plt.plot(xx[:,2], 'orange')\n",
    "#plt.plot(ene.flatten(), 'r:')\n",
    "plt.plot(pot, 'g:')\n",
    "plt.plot(pot_ene, 'r:')\n",
    "#plt.plot(-uu[:,0] * xx[:,2], 'b:')\n",
    "#plt.plot(work, 'b-', linewidth = 1)\n",
    "plt.hlines([0,], 0, N, 'k', 'dotted')"
   ]
  },
  {
   "cell_type": "code",
   "execution_count": null,
   "metadata": {},
   "outputs": [],
   "source": []
  },
  {
   "cell_type": "code",
   "execution_count": null,
   "metadata": {},
   "outputs": [],
   "source": [
    "new_X = xx\n",
    "new_U = uu"
   ]
  },
  {
   "cell_type": "code",
   "execution_count": null,
   "metadata": {},
   "outputs": [],
   "source": []
  },
  {
   "cell_type": "code",
   "execution_count": null,
   "metadata": {
    "scrolled": false
   },
   "outputs": [],
   "source": [
    "anim = create_anim(xx,uu)"
   ]
  },
  {
   "cell_type": "code",
   "execution_count": null,
   "metadata": {},
   "outputs": [],
   "source": [
    "HTML(anim.to_jshtml())"
   ]
  },
  {
   "cell_type": "code",
   "execution_count": null,
   "metadata": {},
   "outputs": [],
   "source": []
  },
  {
   "cell_type": "code",
   "execution_count": null,
   "metadata": {},
   "outputs": [],
   "source": []
  },
  {
   "cell_type": "code",
   "execution_count": null,
   "metadata": {},
   "outputs": [],
   "source": []
  },
  {
   "cell_type": "code",
   "execution_count": null,
   "metadata": {},
   "outputs": [],
   "source": []
  },
  {
   "cell_type": "code",
   "execution_count": null,
   "metadata": {},
   "outputs": [],
   "source": [
    "new_t_array = np.linspace(0, sol.value(T), 3*N)"
   ]
  },
  {
   "cell_type": "code",
   "execution_count": null,
   "metadata": {},
   "outputs": [],
   "source": [
    "from optibot.schemes import interpolated_array"
   ]
  },
  {
   "cell_type": "code",
   "execution_count": null,
   "metadata": {},
   "outputs": [],
   "source": [
    "def interpolated_array(X, U, F, h, t_array, params, scheme=\"hs_scipy\"):\n",
    "    N = t_array.size\n",
    "    new_X = zeros(N)\n",
    "    if X.shape[0] == U.shape[0] + 1:\n",
    "        U = extend_array(U)\n",
    "    if X.shape[0] != U.shape[0]:\n",
    "        raise ValueError(\"X and U have incompatible sizes\")\n",
    "    old_t_array = np.linspace(0, (X.shape[0] - 1) * h, X.shape[0])\n",
    "    if t_array[-1] - old_t_array[-1] > h * 1e-9:\n",
    "        raise ValueError(\"Proposed time array extends outside interpolation\")\n",
    "    # print(Q.size, U.size, old_t_array.size, Q, U, old_t_array)\n",
    "    new_U = np.interp(t_array, old_t_array, U)\n",
    "    if scheme == \"hs_scipy\":\n",
    "        X_interp = hermite(old_t_array, X, F(X, U, params))\n",
    "        new_X = X_interp(t_array)\n",
    "    else:\n",
    "        for ii in range(N):\n",
    "            new_X[ii] = newpoint(X, U, F, h, t_array[ii], params, scheme)\n",
    "    return new_X, new_U\n"
   ]
  },
  {
   "cell_type": "code",
   "execution_count": null,
   "metadata": {},
   "outputs": [],
   "source": [
    "new_X, new_U = interpolated_array(xx, uu, F_nump, sol.value(T)/N, new_t_array, sol.value(Params))"
   ]
  },
  {
   "cell_type": "code",
   "execution_count": null,
   "metadata": {},
   "outputs": [],
   "source": [
    "\n",
    "np.interp(t_array, old_t_array, U)"
   ]
  },
  {
   "cell_type": "code",
   "execution_count": null,
   "metadata": {
    "scrolled": true
   },
   "outputs": [],
   "source": [
    "xx.shape"
   ]
  },
  {
   "cell_type": "code",
   "execution_count": null,
   "metadata": {},
   "outputs": [],
   "source": [
    "uu.shape"
   ]
  },
  {
   "cell_type": "code",
   "execution_count": null,
   "metadata": {},
   "outputs": [],
   "source": []
  }
 ],
 "metadata": {
  "kernelspec": {
   "display_name": "Python 3",
   "language": "python",
   "name": "python3"
  },
  "language_info": {
   "codemirror_mode": {
    "name": "ipython",
    "version": 3
   },
   "file_extension": ".py",
   "mimetype": "text/x-python",
   "name": "python",
   "nbconvert_exporter": "python",
   "pygments_lexer": "ipython3",
   "version": "3.9.5"
  }
 },
 "nbformat": 4,
 "nbformat_minor": 2
}
