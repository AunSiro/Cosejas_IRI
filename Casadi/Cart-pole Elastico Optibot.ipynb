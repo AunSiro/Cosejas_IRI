{
 "cells": [
  {
   "cell_type": "markdown",
   "metadata": {},
   "source": [
    "# Step 1: mechanics with Euler-Lagrange"
   ]
  },
  {
   "cell_type": "code",
   "execution_count": 1,
   "metadata": {},
   "outputs": [],
   "source": [
    "import numpy as np\n",
    "import matplotlib.pyplot as plt\n",
    "from mpl_toolkits import mplot3d\n",
    "\n",
    "from numpy import logical_and as npand\n",
    "from numpy import logical_or as npor\n",
    "import matplotlib"
   ]
  },
  {
   "cell_type": "code",
   "execution_count": 2,
   "metadata": {},
   "outputs": [],
   "source": [
    "from sympy import (symbols, pi, I, E, cos, sin, exp, tan, simplify, expand, factor, collect,\n",
    "                   apart, cancel, expand_trig, diff, Derivative, Function, integrate, limit,\n",
    "                   series, Eq, solve, dsolve, Matrix, N, preorder_traversal, Float, solve_linear_system,\n",
    "                   eye, zeros, lambdify, Symbol,hessian)\n",
    "from sympy.physics.mechanics import dynamicsymbols, init_vprinting"
   ]
  },
  {
   "cell_type": "code",
   "execution_count": 3,
   "metadata": {},
   "outputs": [],
   "source": [
    "from sympy.physics.mechanics import LagrangesMethod, Lagrangian, ReferenceFrame, Point, Particle"
   ]
  },
  {
   "cell_type": "code",
   "execution_count": 4,
   "metadata": {},
   "outputs": [],
   "source": [
    "from matplotlib import animation, rc\n",
    "import matplotlib.patches as patches\n",
    "from matplotlib.transforms import Affine2D\n",
    "from IPython.display import HTML"
   ]
  },
  {
   "cell_type": "code",
   "execution_count": 5,
   "metadata": {},
   "outputs": [],
   "source": [
    "from optibot.symbolic import lagrange, diff_to_symb\n",
    "from optibot.numpy import unpack"
   ]
  },
  {
   "cell_type": "code",
   "execution_count": 6,
   "metadata": {},
   "outputs": [],
   "source": [
    "matplotlib.rcParams['animation.embed_limit'] = 200"
   ]
  },
  {
   "cell_type": "code",
   "execution_count": 7,
   "metadata": {},
   "outputs": [],
   "source": [
    "init_vprinting()"
   ]
  },
  {
   "cell_type": "code",
   "execution_count": 8,
   "metadata": {},
   "outputs": [],
   "source": [
    "m0, m1, m2, l1, l2, l3, t, g, k = symbols('m_0 m_1 m_2 l_1 l_2 l_3 t g k')"
   ]
  },
  {
   "cell_type": "code",
   "execution_count": 9,
   "metadata": {},
   "outputs": [
    {
     "data": {
      "image/png": "[encoded data removed]",
      "text/latex": [
       "$\\displaystyle \\left( q_{0}, \\  q_{1}, \\  q_{2}\\right)$"
      ],
      "text/plain": [
       "(q₀, q₁, q₂)"
      ]
     },
     "execution_count": 9,
     "metadata": {},
     "output_type": "execute_result"
    }
   ],
   "source": [
    "q0, q1, q2 = dynamicsymbols('q_0 q_1 q_2')\n",
    "q0, q1, q2"
   ]
  },
  {
   "cell_type": "code",
   "execution_count": 10,
   "metadata": {},
   "outputs": [],
   "source": [
    "N = ReferenceFrame('N')\n",
    "pN = Point('N*')\n",
    "pN.set_vel(N, 0)\n",
    "\n",
    "P = pN.locatenew('P', q0 * N.x)\n",
    "P.set_vel(N, q0.diff(t) * N.x)\n",
    "cart_part = Particle('CartPart', P, m0)\n",
    "cart_part.potential_energy = m0 * g * P.pos_from(pN).dot(N.y)\n",
    "\n",
    "N1 = N.orientnew('N1', 'Axis', [q1, N.z])\n",
    "P1 = P.locatenew('P1', -l1*N1.y)\n",
    "P1.set_vel(N, P1.pos_from(pN).dt(N))\n",
    "\n",
    "pend_part_1 = Particle('PendPart', P1, m1)\n",
    "pend_part_1.potential_energy = (m1 * g * P1.pos_from(pN).dot(N.y) + k*(q1-q2)**2/2)\n",
    "\n",
    "N2 = N.orientnew('N2', 'Axis', [q2, N.z])\n",
    "P2 = P1.locatenew('P2', -l2*N2.y)\n",
    "P2.set_vel(N, P2.pos_from(pN).dt(N))\n",
    "\n",
    "pend_part_2 = Particle('PendPart', P2, m2)\n",
    "pend_part_2.potential_energy = m2 * g * P2.pos_from(pN).dot(N.y)"
   ]
  },
  {
   "cell_type": "code",
   "execution_count": 11,
   "metadata": {},
   "outputs": [
    {
     "data": {
      "image/png": "[encoded data removed]",
      "text/latex": [
       "$\\displaystyle g l_{1} m_{1} \\cos{\\left(q_{1} \\right)} + g m_{2} \\left(l_{1} \\cos{\\left(q_{1} \\right)} + l_{2} \\cos{\\left(q_{2} \\right)}\\right) - \\frac{k \\left(q_{1} - q_{2}\\right)^{2}}{2} + \\frac{l_{1}^{2} m_{1} \\dot{q}_{1}^{2}}{2} + \\frac{l_{1}^{2} m_{2} \\dot{q}_{1}^{2}}{2} + l_{1} l_{2} m_{2} \\cos{\\left(q_{1} - q_{2} \\right)} \\dot{q}_{1} \\dot{q}_{2} + l_{1} m_{1} \\cos{\\left(q_{1} \\right)} \\dot{q}_{0} \\dot{q}_{1} + l_{1} m_{2} \\cos{\\left(q_{1} \\right)} \\dot{q}_{0} \\dot{q}_{1} + \\frac{l_{2}^{2} m_{2} \\dot{q}_{2}^{2}}{2} + l_{2} m_{2} \\cos{\\left(q_{2} \\right)} \\dot{q}_{0} \\dot{q}_{2} + \\frac{m_{0} \\dot{q}_{0}^{2}}{2} + \\frac{m_{1} \\dot{q}_{0}^{2}}{2} + \\frac{m_{2} \\dot{q}_{0}^{2}}{2}$"
      ],
      "text/plain": [
       "                                                              2     2      2  \n",
       "                                                   k⋅(q₁ - q₂)    l₁ ⋅m₁⋅q₁̇  \n",
       "g⋅l₁⋅m₁⋅cos(q₁) + g⋅m₂⋅(l₁⋅cos(q₁) + l₂⋅cos(q₂)) - ──────────── + ────────── +\n",
       "                                                        2             2       \n",
       "\n",
       "   2      2                                                                   \n",
       "  l₁ ⋅m₂⋅q₁̇                                                                  \n",
       " ────────── + l₁⋅l₂⋅m₂⋅cos(q₁ - q₂)⋅q₁̇⋅q₂̇ + l₁⋅m₁⋅cos(q₁)⋅q₀̇⋅q₁̇ + l₁⋅m₂⋅co\n",
       "     2                                                                        \n",
       "\n",
       "            2      2                              2        2        2\n",
       "            l₂ ⋅m₂⋅q₂̇                          m₀⋅q₀̇    m₁⋅q₀̇    m₂⋅q₀̇ \n",
       "s(q₁)⋅q₀̇⋅q₁̇ + ────────── + l₂⋅m₂⋅cos(q₂)⋅q₀̇⋅q₂̇ + ────── + ────── + ──────\n",
       "              2                                2        2        2   "
      ]
     },
     "execution_count": 11,
     "metadata": {},
     "output_type": "execute_result"
    }
   ],
   "source": [
    "Lag = simplify(Lagrangian(N, cart_part, pend_part_1, pend_part_2))\n",
    "Lag"
   ]
  },
  {
   "cell_type": "code",
   "execution_count": 12,
   "metadata": {},
   "outputs": [],
   "source": [
    "u0, u1, u2 = symbols('u_0 u_1 u_2')\n",
    "FL = [(P, u0 * N.x), (N1, u1 * N.z), (N2, u2 * N.z)]\n",
    "#LM_ej = LagrangesMethod(Lag, [q0, q1, q2], forcelist=FL, frame=N)"
   ]
  },
  {
   "cell_type": "code",
   "execution_count": 13,
   "metadata": {},
   "outputs": [],
   "source": [
    "from optibot.symbolic import SimpLagrangesMethod"
   ]
  },
  {
   "cell_type": "code",
   "execution_count": 14,
   "metadata": {
    "scrolled": true
   },
   "outputs": [],
   "source": [
    "LM_simp = SimpLagrangesMethod(Lag, [q0, q1, q2], forcelist=FL, frame=N)"
   ]
  },
  {
   "cell_type": "code",
   "execution_count": 15,
   "metadata": {},
   "outputs": [
    {
     "data": {
      "image/png": "[encoded data removed]",
      "text/latex": [
       "$\\displaystyle \\left[\\begin{matrix}- l_{1} m_{1} \\sin{\\left(q_{1} \\right)} \\dot{q}_{1}^{2} + l_{1} m_{1} \\cos{\\left(q_{1} \\right)} \\ddot{q}_{1} - l_{1} m_{2} \\sin{\\left(q_{1} \\right)} \\dot{q}_{1}^{2} + l_{1} m_{2} \\cos{\\left(q_{1} \\right)} \\ddot{q}_{1} - l_{2} m_{2} \\sin{\\left(q_{2} \\right)} \\dot{q}_{2}^{2} + l_{2} m_{2} \\cos{\\left(q_{2} \\right)} \\ddot{q}_{2} + m_{0} \\ddot{q}_{0} + m_{1} \\ddot{q}_{0} + m_{2} \\ddot{q}_{0} - u_{0}\\\\g l_{1} m_{1} \\sin{\\left(q_{1} \\right)} + g l_{1} m_{2} \\sin{\\left(q_{1} \\right)} + \\frac{k \\left(2 q_{1} - 2 q_{2}\\right)}{2} + l_{1}^{2} m_{1} \\ddot{q}_{1} + l_{1}^{2} m_{2} \\ddot{q}_{1} - l_{1} l_{2} m_{2} \\left(\\dot{q}_{1} - \\dot{q}_{2}\\right) \\sin{\\left(q_{1} - q_{2} \\right)} \\dot{q}_{2} + l_{1} l_{2} m_{2} \\sin{\\left(q_{1} - q_{2} \\right)} \\dot{q}_{1} \\dot{q}_{2} + l_{1} l_{2} m_{2} \\cos{\\left(q_{1} - q_{2} \\right)} \\ddot{q}_{2} + l_{1} m_{1} \\cos{\\left(q_{1} \\right)} \\ddot{q}_{0} + l_{1} m_{2} \\cos{\\left(q_{1} \\right)} \\ddot{q}_{0} - u_{1}\\\\g l_{2} m_{2} \\sin{\\left(q_{2} \\right)} + \\frac{k \\left(- 2 q_{1} + 2 q_{2}\\right)}{2} - l_{1} l_{2} m_{2} \\left(\\dot{q}_{1} - \\dot{q}_{2}\\right) \\sin{\\left(q_{1} - q_{2} \\right)} \\dot{q}_{1} - l_{1} l_{2} m_{2} \\sin{\\left(q_{1} - q_{2} \\right)} \\dot{q}_{1} \\dot{q}_{2} + l_{1} l_{2} m_{2} \\cos{\\left(q_{1} - q_{2} \\right)} \\ddot{q}_{1} + l_{2}^{2} m_{2} \\ddot{q}_{2} + l_{2} m_{2} \\cos{\\left(q_{2} \\right)} \\ddot{q}_{0} - u_{2}\\end{matrix}\\right]$"
      ],
      "text/plain": [
       "⎡                                                   2                         \n",
       "⎢                                 - l₁⋅m₁⋅sin(q₁)⋅q₁̇  + l₁⋅m₁⋅cos(q₁)⋅q₁̈ - l\n",
       "⎢                                                                             \n",
       "⎢                                    k⋅(2⋅q₁ - 2⋅q₂)     2           2        \n",
       "⎢g⋅l₁⋅m₁⋅sin(q₁) + g⋅l₁⋅m₂⋅sin(q₁) + ─────────────── + l₁ ⋅m₁⋅q₁̈ + l₁ ⋅m₂⋅q₁̈\n",
       "⎢                                           2                                 \n",
       "⎢                                                                             \n",
       "⎢                                          k⋅(-2⋅q₁ + 2⋅q₂)                   \n",
       "⎢                        g⋅l₂⋅m₂⋅sin(q₂) + ──────────────── - l₁⋅l₂⋅m₂⋅(q₁̇ - \n",
       "⎣                                                 2                           \n",
       "\n",
       "             2                                      2                         \n",
       "₁⋅m₂⋅sin(q₁)⋅q₁̇  + l₁⋅m₂⋅cos(q₁)⋅q₁̈ - l₂⋅m₂⋅sin(q₂)⋅q₂̇  + l₂⋅m₂⋅cos(q₂)⋅q₂̈\n",
       "                                                                              \n",
       "                                                                              \n",
       " - l₁⋅l₂⋅m₂⋅(q₁̇ - q₂̇)⋅sin(q₁ - q₂)⋅q₂̇ + l₁⋅l₂⋅m₂⋅sin(q₁ - q₂)⋅q₁̇⋅q₂̇ + l₁⋅\n",
       "                                                                              \n",
       "                                                                              \n",
       "                                                                              \n",
       "q₂̇)⋅sin(q₁ - q₂)⋅q₁̇ - l₁⋅l₂⋅m₂⋅sin(q₁ - q₂)⋅q₁̇⋅q₂̇ + l₁⋅l₂⋅m₂⋅cos(q₁ - q₂)⋅\n",
       "                                                                              \n",
       "\n",
       "                                                         ⎤\n",
       " + m₀⋅q₀̈ + m₁⋅q₀̈ + m₂⋅q₀̈ - u₀                                  ⎥\n",
       "                                                         ⎥\n",
       "                                                         ⎥\n",
       "l₂⋅m₂⋅cos(q₁ - q₂)⋅q₂̈ + l₁⋅m₁⋅cos(q₁)⋅q₀̈ + l₁⋅m₂⋅cos(q₁)⋅q₀̈ - u₁⎥\n",
       "                                                         ⎥\n",
       "                                                         ⎥\n",
       "  2                                                      ⎥\n",
       "q₁̈ + l₂ ⋅m₂⋅q₂̈ + l₂⋅m₂⋅cos(q₂)⋅q₀̈ - u₂                        ⎥\n",
       "                                                         ⎦"
      ]
     },
     "execution_count": 15,
     "metadata": {},
     "output_type": "execute_result"
    }
   ],
   "source": [
    "LM_simp.form_lagranges_equations()"
   ]
  },
  {
   "cell_type": "code",
   "execution_count": 16,
   "metadata": {},
   "outputs": [
    {
     "name": "stdout",
     "output_type": "stream",
     "text": [
      "Generating M_inv\n",
      "simplifying M_inv\n",
      "simplifying RHS\n",
      "Model completed\n"
     ]
    },
    {
     "data": {
      "image/png": "[encoded data removed]",
      "text/latex": [
       "$\\displaystyle \\left[\\begin{matrix}\\dot{q}_{0}\\\\\\dot{q}_{1}\\\\\\dot{q}_{2}\\\\\\frac{l_{1} l_{2} \\left(m_{1} - m_{2} \\cos^{2}{\\left(q_{1} - q_{2} \\right)} + m_{2}\\right) \\left(l_{1} m_{1} \\sin{\\left(q_{1} \\right)} \\dot{q}_{1}^{2} + l_{1} m_{2} \\sin{\\left(q_{1} \\right)} \\dot{q}_{1}^{2} + l_{2} m_{2} \\sin{\\left(q_{2} \\right)} \\dot{q}_{2}^{2} + u_{0}\\right) \\left(2 m_{0} m_{1} - m_{0} m_{2} \\cos{\\left(2 q_{1} - 2 q_{2} \\right)} + m_{0} m_{2} - m_{1}^{2} \\cos{\\left(2 q_{1} \\right)} + m_{1}^{2} - m_{1} m_{2} \\cos{\\left(2 q_{1} \\right)} + m_{1} m_{2}\\right) - 2 l_{1} \\left(m_{1} + m_{2}\\right) \\left(- g l_{2} m_{2} \\sin{\\left(q_{2} \\right)} + k q_{1} - k q_{2} + l_{1} l_{2} m_{2} \\sin{\\left(q_{1} - q_{2} \\right)} \\dot{q}_{1}^{2} + u_{2}\\right) \\left(m_{0} m_{1} + m_{0} m_{2} \\sin^{2}{\\left(q_{1} \\right)} - 2 m_{0} m_{2} \\sin{\\left(q_{1} \\right)} \\sin{\\left(q_{2} \\right)} \\cos{\\left(q_{1} - q_{2} \\right)} + m_{0} m_{2} \\sin^{2}{\\left(q_{2} \\right)} + m_{1}^{2} \\sin^{2}{\\left(q_{1} \\right)} + m_{1} m_{2} \\sin^{2}{\\left(q_{1} \\right)}\\right) \\sin{\\left(q_{1} - q_{2} \\right)} \\sin{\\left(q_{1} \\right)} + l_{2} \\left(m_{1} \\cos{\\left(q_{1} \\right)} - m_{2} \\cos{\\left(q_{1} - q_{2} \\right)} \\cos{\\left(q_{2} \\right)} + m_{2} \\cos{\\left(q_{1} \\right)}\\right) \\left(g l_{1} m_{1} \\sin{\\left(q_{1} \\right)} + g l_{1} m_{2} \\sin{\\left(q_{1} \\right)} + k q_{1} - k q_{2} + l_{1} l_{2} m_{2} \\sin{\\left(q_{1} - q_{2} \\right)} \\dot{q}_{2}^{2} - u_{1}\\right) \\left(2 m_{0} m_{1} - m_{0} m_{2} \\cos{\\left(2 q_{1} - 2 q_{2} \\right)} + m_{0} m_{2} - m_{1}^{2} \\cos{\\left(2 q_{1} \\right)} + m_{1}^{2} - m_{1} m_{2} \\cos{\\left(2 q_{1} \\right)} + m_{1} m_{2}\\right)}{l_{1} l_{2} \\left(m_{0} m_{1} + m_{0} m_{2} \\sin^{2}{\\left(q_{1} \\right)} - 2 m_{0} m_{2} \\sin{\\left(q_{1} \\right)} \\sin{\\left(q_{2} \\right)} \\cos{\\left(q_{1} - q_{2} \\right)} + m_{0} m_{2} \\sin^{2}{\\left(q_{2} \\right)} + m_{1}^{2} \\sin^{2}{\\left(q_{1} \\right)} + m_{1} m_{2} \\sin^{2}{\\left(q_{1} \\right)}\\right) \\left(2 m_{0} m_{1} - m_{0} m_{2} \\cos{\\left(2 q_{1} - 2 q_{2} \\right)} + m_{0} m_{2} - m_{1}^{2} \\cos{\\left(2 q_{1} \\right)} + m_{1}^{2} - m_{1} m_{2} \\cos{\\left(2 q_{1} \\right)} + m_{1} m_{2}\\right)}\\\\- \\frac{l_{1} l_{2} \\left(m_{1} \\cos{\\left(q_{1} \\right)} - m_{2} \\cos{\\left(q_{1} - q_{2} \\right)} \\cos{\\left(q_{2} \\right)} + m_{2} \\cos{\\left(q_{1} \\right)}\\right) \\left(l_{1} m_{1} \\sin{\\left(q_{1} \\right)} \\dot{q}_{1}^{2} + l_{1} m_{2} \\sin{\\left(q_{1} \\right)} \\dot{q}_{1}^{2} + l_{2} m_{2} \\sin{\\left(q_{2} \\right)} \\dot{q}_{2}^{2} + u_{0}\\right) + l_{1} \\left(m_{0} \\cos{\\left(q_{1} - q_{2} \\right)} + m_{1} \\sin{\\left(q_{1} \\right)} \\sin{\\left(q_{2} \\right)} + m_{2} \\sin{\\left(q_{1} \\right)} \\sin{\\left(q_{2} \\right)}\\right) \\left(- g l_{2} m_{2} \\sin{\\left(q_{2} \\right)} + k q_{1} - k q_{2} + l_{1} l_{2} m_{2} \\sin{\\left(q_{1} - q_{2} \\right)} \\dot{q}_{1}^{2} + u_{2}\\right) + l_{2} \\left(m_{0} + m_{1} + m_{2} \\sin^{2}{\\left(q_{2} \\right)}\\right) \\left(g l_{1} m_{1} \\sin{\\left(q_{1} \\right)} + g l_{1} m_{2} \\sin{\\left(q_{1} \\right)} + k q_{1} - k q_{2} + l_{1} l_{2} m_{2} \\sin{\\left(q_{1} - q_{2} \\right)} \\dot{q}_{2}^{2} - u_{1}\\right)}{l_{1}^{2} l_{2} \\left(m_{0} m_{1} + m_{0} m_{2} \\sin^{2}{\\left(q_{1} \\right)} - 2 m_{0} m_{2} \\sin{\\left(q_{1} \\right)} \\sin{\\left(q_{2} \\right)} \\cos{\\left(q_{1} - q_{2} \\right)} + m_{0} m_{2} \\sin^{2}{\\left(q_{2} \\right)} + m_{1}^{2} \\sin^{2}{\\left(q_{1} \\right)} + m_{1} m_{2} \\sin^{2}{\\left(q_{1} \\right)}\\right)}\\\\\\frac{- g l_{1} l_{2} m_{0} m_{1} m_{2} \\sin{\\left(2 q_{1} - q_{2} \\right)} + g l_{1} l_{2} m_{0} m_{1} m_{2} \\sin{\\left(q_{2} \\right)} - g l_{1} l_{2} m_{0} m_{2}^{2} \\sin{\\left(2 q_{1} - q_{2} \\right)} + g l_{1} l_{2} m_{0} m_{2}^{2} \\sin{\\left(q_{2} \\right)} - 2 k l_{1} m_{0} m_{1} q_{1} + 2 k l_{1} m_{0} m_{1} q_{2} - 2 k l_{1} m_{0} m_{2} q_{1} + 2 k l_{1} m_{0} m_{2} q_{2} + k l_{1} m_{1}^{2} q_{1} \\cos{\\left(2 q_{1} \\right)} - k l_{1} m_{1}^{2} q_{1} - k l_{1} m_{1}^{2} q_{2} \\cos{\\left(2 q_{1} \\right)} + k l_{1} m_{1}^{2} q_{2} + 2 k l_{1} m_{1} m_{2} q_{1} \\cos{\\left(2 q_{1} \\right)} - 2 k l_{1} m_{1} m_{2} q_{1} - 2 k l_{1} m_{1} m_{2} q_{2} \\cos{\\left(2 q_{1} \\right)} + 2 k l_{1} m_{1} m_{2} q_{2} + k l_{1} m_{2}^{2} q_{1} \\cos{\\left(2 q_{1} \\right)} - k l_{1} m_{2}^{2} q_{1} - k l_{1} m_{2}^{2} q_{2} \\cos{\\left(2 q_{1} \\right)} + k l_{1} m_{2}^{2} q_{2} - 2 k l_{2} m_{0} m_{2} q_{1} \\cos{\\left(q_{1} - q_{2} \\right)} + 2 k l_{2} m_{0} m_{2} q_{2} \\cos{\\left(q_{1} - q_{2} \\right)} - k l_{2} m_{1} m_{2} q_{1} \\cos{\\left(q_{1} - q_{2} \\right)} + k l_{2} m_{1} m_{2} q_{1} \\cos{\\left(q_{1} + q_{2} \\right)} + k l_{2} m_{1} m_{2} q_{2} \\cos{\\left(q_{1} - q_{2} \\right)} - k l_{2} m_{1} m_{2} q_{2} \\cos{\\left(q_{1} + q_{2} \\right)} - k l_{2} m_{2}^{2} q_{1} \\cos{\\left(q_{1} - q_{2} \\right)} + k l_{2} m_{2}^{2} q_{1} \\cos{\\left(q_{1} + q_{2} \\right)} + k l_{2} m_{2}^{2} q_{2} \\cos{\\left(q_{1} - q_{2} \\right)} - k l_{2} m_{2}^{2} q_{2} \\cos{\\left(q_{1} + q_{2} \\right)} - 2 l_{1}^{2} l_{2} m_{0} m_{1} m_{2} \\sin{\\left(q_{1} - q_{2} \\right)} \\dot{q}_{1}^{2} - 2 l_{1}^{2} l_{2} m_{0} m_{2}^{2} \\sin{\\left(q_{1} - q_{2} \\right)} \\dot{q}_{1}^{2} - l_{1} l_{2}^{2} m_{0} m_{2}^{2} \\sin{\\left(2 q_{1} - 2 q_{2} \\right)} \\dot{q}_{2}^{2} - l_{1} l_{2} m_{1} m_{2} u_{0} \\cos{\\left(2 q_{1} - q_{2} \\right)} + l_{1} l_{2} m_{1} m_{2} u_{0} \\cos{\\left(q_{2} \\right)} - l_{1} l_{2} m_{2}^{2} u_{0} \\cos{\\left(2 q_{1} - q_{2} \\right)} + l_{1} l_{2} m_{2}^{2} u_{0} \\cos{\\left(q_{2} \\right)} - 2 l_{1} m_{0} m_{1} u_{2} - 2 l_{1} m_{0} m_{2} u_{2} + l_{1} m_{1}^{2} u_{2} \\cos{\\left(2 q_{1} \\right)} - l_{1} m_{1}^{2} u_{2} + 2 l_{1} m_{1} m_{2} u_{2} \\cos{\\left(2 q_{1} \\right)} - 2 l_{1} m_{1} m_{2} u_{2} + l_{1} m_{2}^{2} u_{2} \\cos{\\left(2 q_{1} \\right)} - l_{1} m_{2}^{2} u_{2} + 2 l_{2} m_{0} m_{2} u_{1} \\cos{\\left(q_{1} - q_{2} \\right)} + l_{2} m_{1} m_{2} u_{1} \\cos{\\left(q_{1} - q_{2} \\right)} - l_{2} m_{1} m_{2} u_{1} \\cos{\\left(q_{1} + q_{2} \\right)} + l_{2} m_{2}^{2} u_{1} \\cos{\\left(q_{1} - q_{2} \\right)} - l_{2} m_{2}^{2} u_{1} \\cos{\\left(q_{1} + q_{2} \\right)}}{l_{1} l_{2}^{2} m_{2} \\left(- 2 m_{0} m_{1} + m_{0} m_{2} \\cos{\\left(2 q_{1} - 2 q_{2} \\right)} - m_{0} m_{2} + m_{1}^{2} \\cos{\\left(2 q_{1} \\right)} - m_{1}^{2} + m_{1} m_{2} \\cos{\\left(2 q_{1} \\right)} - m_{1} m_{2}\\right)}\\end{matrix}\\right]$"
      ],
      "text/plain": [
       "⎡                                                                             \n",
       "⎢                                                                             \n",
       "⎢                                                                             \n",
       "⎢                                                                             \n",
       "⎢                                                                             \n",
       "⎢                                                                             \n",
       "⎢                                                                             \n",
       "⎢                                                                             \n",
       "⎢                                                                             \n",
       "⎢                                                                             \n",
       "⎢                                                                             \n",
       "⎢                                                                             \n",
       "⎢                                                                             \n",
       "⎢                                                                             \n",
       "⎢                                                                             \n",
       "⎢                                                                             \n",
       "⎢                                                                             \n",
       "⎢                                                                             \n",
       "⎢                                                                           2 \n",
       "⎢-g⋅l₁⋅l₂⋅m₀⋅m₁⋅m₂⋅sin(2⋅q₁ - q₂) + g⋅l₁⋅l₂⋅m₀⋅m₁⋅m₂⋅sin(q₂) - g⋅l₁⋅l₂⋅m₀⋅m₂ ⋅\n",
       "⎢─────────────────────────────────────────────────────────────────────────────\n",
       "⎢                                                                             \n",
       "⎣                                                                             \n",
       "\n",
       "                                                                              \n",
       "                                                                              \n",
       "                                                                              \n",
       "                                                                              \n",
       "                                                                              \n",
       "                                                                              \n",
       "                                                                              \n",
       "                                                                              \n",
       "                                                                              \n",
       "                                                                              \n",
       "                                                                              \n",
       "                                                                              \n",
       "                                                                              \n",
       "                                                                              \n",
       "                                                                              \n",
       "                                                                              \n",
       "                                                                              \n",
       "                                                                              \n",
       "                              2                                               \n",
       "sin(2⋅q₁ - q₂) + g⋅l₁⋅l₂⋅m₀⋅m₂ ⋅sin(q₂) - 2⋅k⋅l₁⋅m₀⋅m₁⋅q₁ + 2⋅k⋅l₁⋅m₀⋅m₁⋅q₂ - \n",
       "──────────────────────────────────────────────────────────────────────────────\n",
       "                                                                              \n",
       "                                                                              \n",
       "\n",
       "                                                                              \n",
       "                                                                              \n",
       "                                                                              \n",
       "                                                                              \n",
       "                                                                              \n",
       "                                                                              \n",
       "                                                                              \n",
       "                                                                              \n",
       "                                                                              \n",
       "                                                                              \n",
       "                                                                              \n",
       "                                                                              \n",
       "                                                                              \n",
       "                                                                              \n",
       "                                                                              \n",
       "                                                                              \n",
       "                                                                              \n",
       "                                                                              \n",
       "                                           2                       2          \n",
       "2⋅k⋅l₁⋅m₀⋅m₂⋅q₁ + 2⋅k⋅l₁⋅m₀⋅m₂⋅q₂ + k⋅l₁⋅m₁ ⋅q₁⋅cos(2⋅q₁) - k⋅l₁⋅m₁ ⋅q₁ - k⋅l₁\n",
       "──────────────────────────────────────────────────────────────────────────────\n",
       "                                                                              \n",
       "                                                                              \n",
       "\n",
       "                                                                              \n",
       "                                                                              \n",
       "                                                                              \n",
       "                                                                              \n",
       "                                                                              \n",
       "                                                                              \n",
       "                                                            ⎛           2     \n",
       "                                                      l₁⋅l₂⋅⎝m₁ - m₂⋅cos (q₁ -\n",
       "                                                      ────────────────────────\n",
       "                                                                              \n",
       "                                                                              \n",
       "                                                                              \n",
       "                                                                              \n",
       "                                                                              \n",
       "                                                                              \n",
       "                                                                              \n",
       "                                                                              \n",
       "                                                                              \n",
       "   2                       2                                                  \n",
       "⋅m₁ ⋅q₂⋅cos(2⋅q₁) + k⋅l₁⋅m₁ ⋅q₂ + 2⋅k⋅l₁⋅m₁⋅m₂⋅q₁⋅cos(2⋅q₁) - 2⋅k⋅l₁⋅m₁⋅m₂⋅q₁ \n",
       "──────────────────────────────────────────────────────────────────────────────\n",
       "                                                                              \n",
       "                                                                              \n",
       "\n",
       "                                                                              \n",
       "                                                                              \n",
       "                                                                              \n",
       "                                                                              \n",
       "                                                                              \n",
       "                                                                              \n",
       "         ⎞ ⎛                2                   2                   2     ⎞ ⎛ \n",
       " q₂) + m₂⎠⋅⎝l₁⋅m₁⋅sin(q₁)⋅q₁̇  + l₁⋅m₂⋅sin(q₁)⋅q₁̇  + l₂⋅m₂⋅sin(q₂)⋅q₂̇  + u₀⎠\n",
       "──────────────────────────────────────────────────────────────────────────────\n",
       "                                                                              \n",
       "                                                                              \n",
       "                                                                              \n",
       "                                                                              \n",
       "                                                                              \n",
       "                                                                              \n",
       "                                                                              \n",
       "                                                                              \n",
       "                                                                              \n",
       "                                                       2                      \n",
       "- 2⋅k⋅l₁⋅m₁⋅m₂⋅q₂⋅cos(2⋅q₁) + 2⋅k⋅l₁⋅m₁⋅m₂⋅q₂ + k⋅l₁⋅m₂ ⋅q₁⋅cos(2⋅q₁) - k⋅l₁⋅m\n",
       "──────────────────────────────────────────────────────────────────────────────\n",
       "                                                                              \n",
       "                                                                              \n",
       "\n",
       "                                                                              \n",
       "                                                                              \n",
       "                                                                              \n",
       "                                                                              \n",
       "                                                                              \n",
       "                                                                              \n",
       "                                            2               2                 \n",
       "⋅⎝2⋅m₀⋅m₁ - m₀⋅m₂⋅cos(2⋅q₁ - 2⋅q₂) + m₀⋅m₂ - m₁ ⋅cos(2⋅q₁) + m₁  - m₁⋅m₂⋅cos(2\n",
       "──────────────────────────────────────────────────────────────────────────────\n",
       "                                                                              \n",
       "                                                                              \n",
       "                                                                              \n",
       "                                 ⎛                                            \n",
       "                                -⎝l₁⋅l₂⋅(m₁⋅cos(q₁) - m₂⋅cos(q₁ - q₂)⋅cos(q₂) \n",
       "                                ──────────────────────────────────────────────\n",
       "                                                                              \n",
       "                                                                              \n",
       "                                                                              \n",
       " 2             2                       2                                      \n",
       "₂ ⋅q₁ - k⋅l₁⋅m₂ ⋅q₂⋅cos(2⋅q₁) + k⋅l₁⋅m₂ ⋅q₂ - 2⋅k⋅l₂⋅m₀⋅m₂⋅q₁⋅cos(q₁ - q₂) + 2\n",
       "──────────────────────────────────────────────────────────────────────────────\n",
       "                                                                              \n",
       "                                                                              \n",
       "\n",
       "                                                                              \n",
       "                                                                              \n",
       "                                                                              \n",
       "                                                                              \n",
       "                                                                              \n",
       "                                                                              \n",
       "         ⎞                  ⎛                                                 \n",
       "⋅q₁) + m₁⋅m₂⎠ - 2⋅l₁⋅(m₁ + m₂)⋅⎝-g⋅l₂⋅m₂⋅sin(q₂) + k⋅q₁ - k⋅q₂ + l₁⋅l₂⋅m₂⋅sin(\n",
       "──────────────────────────────────────────────────────────────────────────────\n",
       "                                        ⎛                 2                   \n",
       "                                  l₁⋅l₂⋅⎝m₀⋅m₁ + m₀⋅m₂⋅sin (q₁) - 2⋅m₀⋅m₂⋅sin(\n",
       "                                                                              \n",
       "              ⎛                2                   2                   2     ⎞\n",
       "+ m₂⋅cos(q₁))⋅⎝l₁⋅m₁⋅sin(q₁)⋅q₁̇  + l₁⋅m₂⋅sin(q₁)⋅q₁̇  + l₂⋅m₂⋅sin(q₂)⋅q₂̇  + \n",
       "──────────────────────────────────────────────────────────────────────────────\n",
       "                                                                              \n",
       "                                                                              \n",
       "                                                                              \n",
       "                                                                              \n",
       "⋅k⋅l₂⋅m₀⋅m₂⋅q₂⋅cos(q₁ - q₂) - k⋅l₂⋅m₁⋅m₂⋅q₁⋅cos(q₁ - q₂) + k⋅l₂⋅m₁⋅m₂⋅q₁⋅cos(q\n",
       "──────────────────────────────────────────────────────────────────────────────\n",
       "                                                                              \n",
       "                                                                              \n",
       "\n",
       "                                                            q₀̇               \n",
       "                                                                              \n",
       "                                                            q₁̇               \n",
       "                                                                              \n",
       "                                                            q₂̇               \n",
       "                                                                              \n",
       "        2     ⎞ ⎛                 2                                           \n",
       "q₁ - q₂)⋅q₁̇  + u₂⎠⋅⎝m₀⋅m₁ + m₀⋅m₂⋅sin (q₁) - 2⋅m₀⋅m₂⋅sin(q₁)⋅sin(q₂)⋅cos(q₁ -\n",
       "──────────────────────────────────────────────────────────────────────────────\n",
       "                                    2         2    2                2    ⎞ ⎛  \n",
       "q₁)⋅sin(q₂)⋅cos(q₁ - q₂) + m₀⋅m₂⋅sin (q₂) + m₁ ⋅sin (q₁) + m₁⋅m₂⋅sin (q₁)⎠⋅⎝2⋅\n",
       "                                                                              \n",
       "                                                                  ⎛           \n",
       "u₀⎠ + l₁⋅(m₀⋅cos(q₁ - q₂) + m₁⋅sin(q₁)⋅sin(q₂) + m₂⋅sin(q₁)⋅sin(q₂))⋅⎝-g⋅l₂⋅m₂\n",
       "──────────────────────────────────────────────────────────────────────────────\n",
       "   2    ⎛                 2                                                   \n",
       " l₁ ⋅l₂⋅⎝m₀⋅m₁ + m₀⋅m₂⋅sin (q₁) - 2⋅m₀⋅m₂⋅sin(q₁)⋅sin(q₂)⋅cos(q₁ - q₂) + m₀⋅m₂\n",
       "                                                                              \n",
       "                                                                           2  \n",
       "₁ + q₂) + k⋅l₂⋅m₁⋅m₂⋅q₂⋅cos(q₁ - q₂) - k⋅l₂⋅m₁⋅m₂⋅q₂⋅cos(q₁ + q₂) - k⋅l₂⋅m₂ ⋅q\n",
       "──────────────────────────────────────────────────────────────────────────────\n",
       "               2    ⎛                                              2          \n",
       "          l₁⋅l₂ ⋅m₂⋅⎝-2⋅m₀⋅m₁ + m₀⋅m₂⋅cos(2⋅q₁ - 2⋅q₂) - m₀⋅m₂ + m₁ ⋅cos(2⋅q₁)\n",
       "\n",
       "                                                                              \n",
       "                                                                              \n",
       "                                                                              \n",
       "                                                                              \n",
       "                                                                              \n",
       "                                                                              \n",
       "            2         2    2                2    ⎞                            \n",
       " q₂) + m₀⋅m₂⋅sin (q₂) + m₁ ⋅sin (q₁) + m₁⋅m₂⋅sin (q₁)⎠⋅sin(q₁ - q₂)⋅sin(q₁) + \n",
       "──────────────────────────────────────────────────────────────────────────────\n",
       "                                           2               2                  \n",
       "m₀⋅m₁ - m₀⋅m₂⋅cos(2⋅q₁ - 2⋅q₂) + m₀⋅m₂ - m₁ ⋅cos(2⋅q₁) + m₁  - m₁⋅m₂⋅cos(2⋅q₁)\n",
       "                                                                              \n",
       "                                              2     ⎞      ⎛                2 \n",
       "⋅sin(q₂) + k⋅q₁ - k⋅q₂ + l₁⋅l₂⋅m₂⋅sin(q₁ - q₂)⋅q₁̇  + u₂⎠ + l₂⋅⎝m₀ + m₁ + m₂⋅s\n",
       "──────────────────────────────────────────────────────────────────────────────\n",
       "    2         2    2                2    ⎞                                    \n",
       "⋅sin (q₂) + m₁ ⋅sin (q₁) + m₁⋅m₂⋅sin (q₁)⎠                                    \n",
       "                                                                              \n",
       "                        2                          2                          \n",
       "₁⋅cos(q₁ - q₂) + k⋅l₂⋅m₂ ⋅q₁⋅cos(q₁ + q₂) + k⋅l₂⋅m₂ ⋅q₂⋅cos(q₁ - q₂) - k⋅l₂⋅m₂\n",
       "──────────────────────────────────────────────────────────────────────────────\n",
       "     2                          ⎞                                             \n",
       " - m₁  + m₁⋅m₂⋅cos(2⋅q₁) - m₁⋅m₂⎠                                             \n",
       "\n",
       "                                                                              \n",
       "                                                                              \n",
       "                                                                              \n",
       "                                                                              \n",
       "                                                                              \n",
       "                                                                              \n",
       "                                                   ⎛                          \n",
       "l₂⋅(m₁⋅cos(q₁) - m₂⋅cos(q₁ - q₂)⋅cos(q₂) + m₂⋅cos(q₁))⋅⎝g⋅l₁⋅m₁⋅sin(q₁) + g⋅l₁\n",
       "──────────────────────────────────────────────────────────────────────────────\n",
       "        ⎞                                                                     \n",
       " + m₁⋅m₂⎠                                                                     \n",
       "                                                                              \n",
       "   ⎞ ⎛                                                                        \n",
       "in (q₂)⎠⋅⎝g⋅l₁⋅m₁⋅sin(q₁) + g⋅l₁⋅m₂⋅sin(q₁) + k⋅q₁ - k⋅q₂ + l₁⋅l₂⋅m₂⋅sin(q₁ - \n",
       "──────────────────────────────────────────────────────────────────────────────\n",
       "                                                                              \n",
       "                                                                              \n",
       "                                                                              \n",
       "2                       2                            2       2         2      \n",
       " ⋅q₂⋅cos(q₁ + q₂) - 2⋅l₁ ⋅l₂⋅m₀⋅m₁⋅m₂⋅sin(q₁ - q₂)⋅q₁̇  - 2⋅l₁ ⋅l₂⋅m₀⋅m₂ ⋅sin(\n",
       "──────────────────────────────────────────────────────────────────────────────\n",
       "                                                                              \n",
       "                                                                              \n",
       "\n",
       "                                                                              \n",
       "                                                                              \n",
       "                                                                              \n",
       "                                                                              \n",
       "                                                                              \n",
       "                                                                              \n",
       "                                                2     ⎞ ⎛                     \n",
       "⋅m₂⋅sin(q₁) + k⋅q₁ - k⋅q₂ + l₁⋅l₂⋅m₂⋅sin(q₁ - q₂)⋅q₂̇  - u₁⎠⋅⎝2⋅m₀⋅m₁ - m₀⋅m₂⋅\n",
       "──────────────────────────────────────────────────────────────────────────────\n",
       "                                                                              \n",
       "                                                                              \n",
       "                                                                              \n",
       "  2     ⎞⎞                                                                    \n",
       "q₂)⋅q₂̇  - u₁⎠⎠                                                               \n",
       "───────────                                                                   \n",
       "                                                                              \n",
       "                                                                              \n",
       "                                                                              \n",
       "          2        2      2                    2                              \n",
       "q₁ - q₂)⋅q₁̇  - l₁⋅l₂ ⋅m₀⋅m₂ ⋅sin(2⋅q₁ - 2⋅q₂)⋅q₂̇  - l₁⋅l₂⋅m₁⋅m₂⋅u₀⋅cos(2⋅q₁ \n",
       "──────────────────────────────────────────────────────────────────────────────\n",
       "                                                                              \n",
       "                                                                              \n",
       "\n",
       "                                                                              \n",
       "                                                                              \n",
       "                                                                              \n",
       "                                                                              \n",
       "                                                                              \n",
       "                                                                              \n",
       "                        2               2                          ⎞          \n",
       "cos(2⋅q₁ - 2⋅q₂) + m₀⋅m₂ - m₁ ⋅cos(2⋅q₁) + m₁  - m₁⋅m₂⋅cos(2⋅q₁) + m₁⋅m₂⎠     \n",
       "────────────────────────────────────────────────────────────────────          \n",
       "                                                                              \n",
       "                                                                              \n",
       "                                                                              \n",
       "                                                                              \n",
       "                                                                              \n",
       "                                                                              \n",
       "                                                                              \n",
       "                                                                              \n",
       "                                                                              \n",
       "                                      2                             2         \n",
       "- q₂) + l₁⋅l₂⋅m₁⋅m₂⋅u₀⋅cos(q₂) - l₁⋅l₂⋅m₂ ⋅u₀⋅cos(2⋅q₁ - q₂) + l₁⋅l₂⋅m₂ ⋅u₀⋅co\n",
       "──────────────────────────────────────────────────────────────────────────────\n",
       "                                                                              \n",
       "                                                                              \n",
       "\n",
       "                                                                              \n",
       "                                                                              \n",
       "                                                                              \n",
       "                                                                              \n",
       "                                                                              \n",
       "                                                                              \n",
       "                                                                              \n",
       "                                                                              \n",
       "                                                                              \n",
       "                                                                              \n",
       "                                                                              \n",
       "                                                                              \n",
       "                                                                              \n",
       "                                                                              \n",
       "                                                                              \n",
       "                                                                              \n",
       "                                                                              \n",
       "                                                                              \n",
       "                                          2                     2             \n",
       "s(q₂) - 2⋅l₁⋅m₀⋅m₁⋅u₂ - 2⋅l₁⋅m₀⋅m₂⋅u₂ + l₁⋅m₁ ⋅u₂⋅cos(2⋅q₁) - l₁⋅m₁ ⋅u₂ + 2⋅l₁\n",
       "──────────────────────────────────────────────────────────────────────────────\n",
       "                                                                              \n",
       "                                                                              \n",
       "\n",
       "                                                                              \n",
       "                                                                              \n",
       "                                                                              \n",
       "                                                                              \n",
       "                                                                              \n",
       "                                                                              \n",
       "                                                                              \n",
       "                                                                              \n",
       "                                                                              \n",
       "                                                                              \n",
       "                                                                              \n",
       "                                                                              \n",
       "                                                                              \n",
       "                                                                              \n",
       "                                                                              \n",
       "                                                                              \n",
       "                                                                              \n",
       "                                                                              \n",
       "                                        2                     2               \n",
       "⋅m₁⋅m₂⋅u₂⋅cos(2⋅q₁) - 2⋅l₁⋅m₁⋅m₂⋅u₂ + l₁⋅m₂ ⋅u₂⋅cos(2⋅q₁) - l₁⋅m₂ ⋅u₂ + 2⋅l₂⋅m\n",
       "──────────────────────────────────────────────────────────────────────────────\n",
       "                                                                              \n",
       "                                                                              \n",
       "\n",
       "                                                                              \n",
       "                                                                              \n",
       "                                                                              \n",
       "                                                                              \n",
       "                                                                              \n",
       "                                                                              \n",
       "                                                                              \n",
       "                                                                              \n",
       "                                                                              \n",
       "                                                                              \n",
       "                                                                              \n",
       "                                                                              \n",
       "                                                                              \n",
       "                                                                              \n",
       "                                                                              \n",
       "                                                                              \n",
       "                                                                              \n",
       "                                                                              \n",
       "                                                                              \n",
       "₀⋅m₂⋅u₁⋅cos(q₁ - q₂) + l₂⋅m₁⋅m₂⋅u₁⋅cos(q₁ - q₂) - l₂⋅m₁⋅m₂⋅u₁⋅cos(q₁ + q₂) + l\n",
       "──────────────────────────────────────────────────────────────────────────────\n",
       "                                                                              \n",
       "                                                                              \n",
       "\n",
       "                                            ⎤\n",
       "                                           ⎥\n",
       "                                            ⎥\n",
       "                                           ⎥\n",
       "                                            ⎥\n",
       "                                           ⎥\n",
       "                                           ⎥\n",
       "                                                ⎥\n",
       "                                           ⎥\n",
       "                                           ⎥\n",
       "                                           ⎥\n",
       "                                           ⎥\n",
       "                                           ⎥\n",
       "                                                ⎥\n",
       "                                           ⎥\n",
       "                                           ⎥\n",
       "                                           ⎥\n",
       "                                           ⎥\n",
       " 2                        2                ⎥\n",
       "₂⋅m₂ ⋅u₁⋅cos(q₁ - q₂) - l₂⋅m₂ ⋅u₁⋅cos(q₁ + q₂)⎥\n",
       "───────────────────────────────────────────⎥\n",
       "                                           ⎥\n",
       "                                           ⎦"
      ]
     },
     "execution_count": 16,
     "metadata": {},
     "output_type": "execute_result"
    }
   ],
   "source": [
    "RHS = LM_simp.rhs\n",
    "RHS"
   ]
  },
  {
   "cell_type": "code",
   "execution_count": 16,
   "metadata": {},
   "outputs": [],
   "source": [
    "from optibot.symbolic import get_lagr_eqs, lagr_to_RHS, print_funcs"
   ]
  },
  {
   "cell_type": "code",
   "execution_count": 17,
   "metadata": {},
   "outputs": [],
   "source": [
    "N = ReferenceFrame('N')\n",
    "pN = Point('N*')\n",
    "pN.set_vel(N, 0)\n",
    "\n",
    "P = pN.locatenew('P', q0 * N.x)\n",
    "P.set_vel(N, q0.diff(t) * N.x)\n",
    "cart_part = Particle('CartPart', P, m0)\n",
    "cart_part.potential_energy = m0 * g * P.pos_from(pN).dot(N.y)\n",
    "\n",
    "N2 = N.orientnew('N2', 'Axis', [q1, N.z])\n",
    "P1 = P.locatenew('P1', -l3*N2.y)\n",
    "P1.set_vel(N, P1.pos_from(pN).dt(N))\n",
    "\n",
    "pend_part = Particle('PendPart', P1, m2)\n",
    "pend_part.potential_energy = m2 * g * P1.pos_from(pN).dot(N.y)"
   ]
  },
  {
   "cell_type": "code",
   "execution_count": 18,
   "metadata": {},
   "outputs": [
    {
     "data": {
      "image/png": "[encoded data removed]",
      "text/latex": [
       "$\\displaystyle g l_{3} m_{2} \\cos{\\left(q_{1} \\right)} + \\frac{l_{3}^{2} m_{2} \\dot{q}_{1}^{2}}{2} + l_{3} m_{2} \\cos{\\left(q_{1} \\right)} \\dot{q}_{0} \\dot{q}_{1} + \\frac{m_{0} \\dot{q}_{0}^{2}}{2} + \\frac{m_{2} \\dot{q}_{0}^{2}}{2}$"
      ],
      "text/plain": [
       "                    2      2                              2        2\n",
       "                  l₃ ⋅m₂⋅q₁̇                          m₀⋅q₀̇    m₂⋅q₀̇ \n",
       "g⋅l₃⋅m₂⋅cos(q₁) + ────────── + l₃⋅m₂⋅cos(q₁)⋅q₀̇⋅q₁̇ + ────── + ──────\n",
       "                      2                                2        2   "
      ]
     },
     "execution_count": 18,
     "metadata": {},
     "output_type": "execute_result"
    }
   ],
   "source": [
    "Lag_simp = Lagrangian(N, cart_part, pend_part)\n",
    "Lag_simp"
   ]
  },
  {
   "cell_type": "code",
   "execution_count": 19,
   "metadata": {},
   "outputs": [],
   "source": [
    "u0, u1 = symbols('u_0, u_1')\n",
    "FL = [(P, u0 * N.x), (N2, u1 * N.z)]\n",
    "LM_small = SimpLagrangesMethod(Lag_simp, [q0, q1], forcelist=FL, frame=N)"
   ]
  },
  {
   "cell_type": "code",
   "execution_count": 20,
   "metadata": {},
   "outputs": [
    {
     "name": "stdout",
     "output_type": "stream",
     "text": [
      "Generating M_inv\n",
      "simplifying M_inv\n",
      "simplifying RHS\n",
      "Model completed\n"
     ]
    },
    {
     "data": {
      "image/png": "[encoded data removed]",
      "text/latex": [
       "$\\displaystyle \\left[\\begin{matrix}\\dot{q}_{0}\\\\\\dot{q}_{1}\\\\\\frac{l_{3} \\left(l_{3} m_{2} \\sin{\\left(q_{1} \\right)} \\dot{q}_{1}^{2} + u_{0}\\right) + \\left(g l_{3} m_{2} \\sin{\\left(q_{1} \\right)} - u_{1}\\right) \\cos{\\left(q_{1} \\right)}}{l_{3} \\left(m_{0} + m_{2} \\sin^{2}{\\left(q_{1} \\right)}\\right)}\\\\- \\frac{l_{3} m_{2} \\left(l_{3} m_{2} \\sin{\\left(q_{1} \\right)} \\dot{q}_{1}^{2} + u_{0}\\right) \\cos{\\left(q_{1} \\right)} + \\left(m_{0} + m_{2}\\right) \\left(g l_{3} m_{2} \\sin{\\left(q_{1} \\right)} - u_{1}\\right)}{l_{3}^{2} m_{2} \\left(m_{0} + m_{2} \\sin^{2}{\\left(q_{1} \\right)}\\right)}\\end{matrix}\\right]$"
      ],
      "text/plain": [
       "⎡                                     q₀̇                                     \n",
       "⎢                                                                             \n",
       "⎢                                     q₁̇                                     \n",
       "⎢                                                                             \n",
       "⎢           ⎛                2     ⎞                                          \n",
       "⎢        l₃⋅⎝l₃⋅m₂⋅sin(q₁)⋅q₁̇  + u₀⎠ + (g⋅l₃⋅m₂⋅sin(q₁) - u₁)⋅cos(q₁)        \n",
       "⎢        ────────────────────────────────────────────────────────────         \n",
       "⎢                              ⎛           2    ⎞                             \n",
       "⎢                           l₃⋅⎝m₀ + m₂⋅sin (q₁)⎠                             \n",
       "⎢                                                                             \n",
       "⎢ ⎛      ⎛                2     ⎞                                           ⎞ \n",
       "⎢-⎝l₃⋅m₂⋅⎝l₃⋅m₂⋅sin(q₁)⋅q₁̇  + u₀⎠⋅cos(q₁) + (m₀ + m₂)⋅(g⋅l₃⋅m₂⋅sin(q₁) - u₁)⎠\n",
       "⎢─────────────────────────────────────────────────────────────────────────────\n",
       "⎢                            2    ⎛           2    ⎞                          \n",
       "⎣                          l₃ ⋅m₂⋅⎝m₀ + m₂⋅sin (q₁)⎠                          \n",
       "\n",
       " ⎤\n",
       "⎥\n",
       " ⎥\n",
       "⎥\n",
       "⎥\n",
       " ⎥\n",
       "⎥\n",
       "⎥\n",
       "⎥\n",
       "⎥\n",
       "⎥\n",
       " ⎥\n",
       "⎥\n",
       "⎥\n",
       "⎦"
      ]
     },
     "execution_count": 20,
     "metadata": {},
     "output_type": "execute_result"
    }
   ],
   "source": [
    "LM_small.form_lagranges_equations()\n",
    "RHS_small = simplify(LM_small.rhs)\n",
    "RHS_small"
   ]
  },
  {
   "cell_type": "code",
   "execution_count": 21,
   "metadata": {},
   "outputs": [
    {
     "data": {
      "image/png": "[encoded data removed]",
      "text/latex": [
       "$\\displaystyle - l_{3} m_{2} \\sin{\\left(q_{1} \\right)} \\dot{q}_{1}^{2} + l_{3} m_{2} \\cos{\\left(q_{1} \\right)} \\ddot{q}_{1} + m_{0} \\ddot{q}_{0} + m_{2} \\ddot{q}_{0} - u_{0}$"
      ],
      "text/plain": [
       "                  2                                        \n",
       "- l₃⋅m₂⋅sin(q₁)⋅q₁̇  + l₃⋅m₂⋅cos(q₁)⋅q₁̈ + m₀⋅q₀̈ + m₂⋅q₀̈ - u₀"
      ]
     },
     "execution_count": 21,
     "metadata": {},
     "output_type": "execute_result"
    }
   ],
   "source": [
    "LM_small.eom[0]"
   ]
  },
  {
   "cell_type": "code",
   "execution_count": 22,
   "metadata": {},
   "outputs": [
    {
     "name": "stdout",
     "output_type": "stream",
     "text": [
      "def F(x, u, params, ):\n",
      "    q_0, q_1, v_0, v_1 = unpack(x)\n",
      "    u_0 = unpack(u)\n",
      "    a_0, a_1, l_3, m_0, m_2 = params\n",
      "    result = a_0*m_0 + a_0*m_2 + a_1*l_3*m_2*np.cos(q_1) - l_3*m_2*v_1**2*np.sin(q_1) - u_0\n",
      "\n",
      "    return result\n",
      "\n"
     ]
    },
    {
     "data": {
      "text/plain": [
       "'def F(x, u, params, ):\\n    q_0, q_1, v_0, v_1 = unpack(x)\\n    u_0 = unpack(u)\\n    a_0, a_1, l_3, m_0, m_2 = params\\n    result = a_0*m_0 + a_0*m_2 + a_1*l_3*m_2*np.cos(q_1) - l_3*m_2*v_1**2*np.sin(q_1) - u_0\\n\\n    return result\\n'"
      ]
     },
     "execution_count": 22,
     "metadata": {},
     "output_type": "execute_result"
    }
   ],
   "source": [
    "print_funcs([LM_small.eom[0]], 2)"
   ]
  },
  {
   "cell_type": "code",
   "execution_count": 23,
   "metadata": {},
   "outputs": [
    {
     "name": "stdout",
     "output_type": "stream",
     "text": [
      "def F(x, u, params, ):\n",
      "    q_0, q_1, v_0, v_1 = unpack(x)\n",
      "    u_1 = unpack(u)\n",
      "    a_0, a_1, g, l_3, m_2 = params\n",
      "    result = a_0*l_3*m_2*np.cos(q_1) + a_1*l_3**2*m_2 + g*l_3*m_2*np.sin(q_1) - u_1\n",
      "\n",
      "    return result\n",
      "\n"
     ]
    },
    {
     "data": {
      "text/plain": [
       "'def F(x, u, params, ):\\n    q_0, q_1, v_0, v_1 = unpack(x)\\n    u_1 = unpack(u)\\n    a_0, a_1, g, l_3, m_2 = params\\n    result = a_0*l_3*m_2*np.cos(q_1) + a_1*l_3**2*m_2 + g*l_3*m_2*np.sin(q_1) - u_1\\n\\n    return result\\n'"
      ]
     },
     "execution_count": 23,
     "metadata": {},
     "output_type": "execute_result"
    }
   ],
   "source": [
    "print_funcs([LM_small.eom[1]], 2)"
   ]
  },
  {
   "cell_type": "code",
   "execution_count": 24,
   "metadata": {},
   "outputs": [],
   "source": [
    "def lagr_f_simp_0(x, params, ):\n",
    "    q_0, q_1, v_0, v_1 = unpack(x)\n",
    "    a_0, a_1, l_3, m_0, m_2 = params\n",
    "    result = a_0*m_0 + a_0*m_2 + a_1*l_3*m_2*np.cos(q_1) - l_3*m_2*v_1**2*np.sin(q_1)\n",
    "\n",
    "    return result\n",
    "\n",
    "def lagr_f_simp_1(x, params, ):\n",
    "    q_0, q_1, v_0, v_1 = unpack(x)\n",
    "    a_0, a_1, g, l_3, m_2 = params\n",
    "    result = a_0*l_3*m_2*np.cos(q_1) + a_1*l_3**2*m_2 + g*l_3*m_2*np.sin(q_1)\n",
    "\n",
    "    return result\n",
    "\n"
   ]
  },
  {
   "cell_type": "markdown",
   "metadata": {},
   "source": [
    "## Casadi"
   ]
  },
  {
   "cell_type": "code",
   "execution_count": 25,
   "metadata": {},
   "outputs": [],
   "source": [
    "import casadi as cas"
   ]
  },
  {
   "cell_type": "code",
   "execution_count": 26,
   "metadata": {},
   "outputs": [],
   "source": [
    "from optibot.casadi import RHS2casF"
   ]
  },
  {
   "cell_type": "code",
   "execution_count": 27,
   "metadata": {},
   "outputs": [],
   "source": [
    "from optibot.numpy import RHS2numpy, trapz_integrate, num_derivative"
   ]
  },
  {
   "cell_type": "code",
   "execution_count": 28,
   "metadata": {},
   "outputs": [],
   "source": [
    "from optibot.schemes import euler_restr, trapz_restr, trapz_mod_restr, hs_mod_restr, hs_restr\n",
    "from optibot.casadi import restriction2casadi"
   ]
  },
  {
   "cell_type": "code",
   "execution_count": 29,
   "metadata": {},
   "outputs": [],
   "source": [
    "from optibot.schemes import integrate_euler, integrate_hs, integrate_trapz, integrate_rk4"
   ]
  },
  {
   "cell_type": "markdown",
   "metadata": {},
   "source": [
    "### Cartpole simple"
   ]
  },
  {
   "cell_type": "code",
   "execution_count": 30,
   "metadata": {},
   "outputs": [],
   "source": [
    "def create_anim_simp(X, U, params):\n",
    "    g, l_3, m_0, m_2 = params\n",
    "    N = X.shape[0]\n",
    "    fig, ax = plt.subplots()\n",
    "    \n",
    "    y_scale = l_3 * 1.25\n",
    "    min_x_cart = np.min(X[:,0])\n",
    "    max_x_cart = np.max(X[:,0])\n",
    "    cart_displ = max_x_cart-min_x_cart\n",
    "    size_x = 2*y_scale + cart_displ\n",
    "    size_y = 2*y_scale\n",
    "    draw_width = 14\n",
    "    draw_height = draw_width / size_x * size_y\n",
    "    \n",
    "    x_0 = X[:,0]\n",
    "    y_0 = np.zeros_like(x_0)\n",
    "    x_1 = x_0 + l_3*np.sin(X[:,1])\n",
    "    y_1 = y_0 - l_3*np.cos(X[:,1])\n",
    "    \n",
    "    x_cm = (m_0 * x_0 + m_2 * x_1)/(m_0 + m_2)\n",
    "    y_cm = (m_0 * y_0 + m_2 * y_1)/(m_0 + m_2)\n",
    "\n",
    "    fig.set_size_inches([draw_width,draw_height])\n",
    "    ax.set_xlim(( min_x_cart-y_scale, max_x_cart+y_scale))\n",
    "    ax.set_ylim(( -y_scale, y_scale))\n",
    "\n",
    "    circle1 = plt.Circle((0, 0), l_3, color='b', ls = \":\", fill=False)\n",
    "    ax.add_artist(circle1)\n",
    "    ax.plot([min_x_cart - l_3, max_x_cart + l_3], [0,0], 'k', lw=1, ls = ':')\n",
    "\n",
    "    line1, = ax.plot([], [], lw=2)\n",
    "    line3, = ax.plot([], [], 'k', lw=1, ls = ':')\n",
    "    line_cm, = ax.plot([], [], 'g', lw=1, ls = ':')\n",
    "    point0, = ax.plot([], [], marker='o', markersize=15, color=\"red\")\n",
    "    point1, = ax.plot([], [], marker='o', markersize=15, color=\"red\")\n",
    "    point_cm, = ax.plot([], [], marker='o', markersize=10, color=\"green\")\n",
    "    u_max = max(np.max(np.abs(U[:,0])),1e-15)\n",
    "    arrow_w = 0.05*l_3\n",
    "    arrow_l = 0.2*l_3\n",
    "    u_arrow = patches.Arrow(0, 0, 0, -arrow_l, color = 'gray',width = arrow_w)\n",
    "    ax.add_patch(u_arrow)\n",
    "    \n",
    "    print_vars = [X[:,0], X[:,1], U[:,0], U[:,1], np.linspace(0, N-1, N, dtype=int)]\n",
    "    print_var_names = ['q_0', 'q_1', 'u_0', 'u_1', 'step']\n",
    "    texts = []\n",
    "    ii = 0\n",
    "    for arr in print_vars:\n",
    "        texts.append(ax.text(0.2, ii, \"\", fontsize = 12))\n",
    "        ii -= 0.08*l_3\n",
    "    \n",
    "    def init():\n",
    "        line1.set_data([], [])\n",
    "        line3.set_data([], [])\n",
    "        line_cm.set_data([], [])\n",
    "        point1.set_data([], [])\n",
    "        circle1.center = (0, 0)\n",
    "        return (line1,)\n",
    "    def animate(i):\n",
    "        circle1.center = (x_0[i], y_0[i])\n",
    "        point0.set_data(x_0[i], y_0[i])\n",
    "        line1.set_data([x_0[i], x_1[i]], [y_0[i], y_1[i]])    \n",
    "        point1.set_data(x_1[i], y_1[i])\n",
    "        point_cm.set_data(x_cm[i], y_cm[i])\n",
    "        line3.set_data(x_1[:i], y_1[:i])\n",
    "        line_cm.set_data(x_cm[:i], y_cm[:i])\n",
    "        trans = Affine2D()\n",
    "        u_arrow._patch_transform = trans.scale(U[i,0] * arrow_l / u_max, arrow_w).translate(x_0[i],0)\n",
    "        for ii in range(len(texts)):\n",
    "            text = texts[ii]\n",
    "            name = print_var_names[ii]\n",
    "            arr = print_vars[ii]\n",
    "            text.set_text(\"$\" + name + \"$ = %.6f\" % arr[i])\n",
    "        return (line1,u_arrow)\n",
    "    anim = animation.FuncAnimation(fig, animate, init_func=init,\n",
    "                               frames=N, interval=20, \n",
    "                               blit=True)\n",
    "    return anim"
   ]
  },
  {
   "cell_type": "code",
   "execution_count": 31,
   "metadata": {
    "scrolled": false
   },
   "outputs": [
    {
     "name": "stdout",
     "output_type": "stream",
     "text": [
      "Function Arguments:\n",
      "\tx: [q_0, q_1, v_0, v_1]\n",
      "\tu: [u_0, u_1]\n",
      "\tparams: [g, l_3, m_0, m_2]\n",
      "\n"
     ]
    }
   ],
   "source": [
    "F_cas_simp = RHS2casF(RHS_small[2:], 2)"
   ]
  },
  {
   "cell_type": "code",
   "execution_count": 32,
   "metadata": {
    "scrolled": true
   },
   "outputs": [
    {
     "data": {
      "text/plain": [
       "DM([[1, 1, 1.02795, -0.396876]])"
      ]
     },
     "execution_count": 32,
     "metadata": {},
     "output_type": "execute_result"
    }
   ],
   "source": [
    "F_cas_simp([1,1,1,1], [1,1], [1,1,1,1])"
   ]
  },
  {
   "cell_type": "code",
   "execution_count": 33,
   "metadata": {},
   "outputs": [
    {
     "name": "stdout",
     "output_type": "stream",
     "text": [
      "Function Arguments:\n",
      "\tx: [q_0, q_1, v_0, v_1]\n",
      "\tu: [u_0, u_1]\n",
      "\tparams: [g, l_3, m_0, m_2]\n",
      "\n"
     ]
    }
   ],
   "source": [
    "F_nump_simp = RHS2numpy(RHS_small[2:], 2)"
   ]
  },
  {
   "cell_type": "code",
   "execution_count": 34,
   "metadata": {
    "scrolled": true
   },
   "outputs": [
    {
     "data": {
      "text/plain": [
       "array([ 1.        ,  1.        ,  1.02795194, -0.39687579])"
      ]
     },
     "execution_count": 34,
     "metadata": {},
     "output_type": "execute_result"
    }
   ],
   "source": [
    "F_nump_simp([1,1,1,1], [1,1], [1,1,1,1])"
   ]
  },
  {
   "cell_type": "markdown",
   "metadata": {},
   "source": [
    "### Generate initial solution"
   ]
  },
  {
   "cell_type": "code",
   "execution_count": 35,
   "metadata": {},
   "outputs": [],
   "source": [
    "from optibot.schemes import trapz_step, hs_mod_step"
   ]
  },
  {
   "cell_type": "code",
   "execution_count": 36,
   "metadata": {},
   "outputs": [
    {
     "data": {
      "text/plain": [
       "array([2.50136095e-04, 3.14242667e+00, 5.00544287e-02, 1.66938870e-01])"
      ]
     },
     "execution_count": 36,
     "metadata": {},
     "output_type": "execute_result"
    }
   ],
   "source": [
    "x_0 = np.array([0, np.pi, 0, 0])\n",
    "f_max = 1\n",
    "u_0 = np.array([f_max, 0])\n",
    "\n",
    "m_0, m_2 = [0.2, 0.4]\n",
    "l_3 = 0.3\n",
    "g = 9.8\n",
    "params = [g, l_3, m_0, m_2]\n",
    "\n",
    "dt = 0.01\n",
    "\n",
    "#x_1 = trapz_step(x_0, u_0, u_0, F_nump_simp, dt, params)\n",
    "x_1 = hs_mod_step(x_0, u_0, u_0, F_nump_simp, dt, params)\n",
    "x_1"
   ]
  },
  {
   "cell_type": "code",
   "execution_count": 37,
   "metadata": {},
   "outputs": [],
   "source": [
    "x = [x_0, x_1,]\n",
    "u = [u_0, u_0,]\n",
    "\n",
    "for ii in range(799):\n",
    "    x_i = x[-1]\n",
    "    u_i = u[-1]\n",
    "    nat_x_n = hs_mod_step(x_i, u_i, np.array([0.,0.]), F_nump_simp, dt, params)\n",
    "    v_med = (x_i[2] + nat_x_n[2])/2\n",
    "    u_n = np.array([-f_max*np.sign(v_med), 0.])\n",
    "    x_n = trapz_step(x_i, u_i, u_n, F_nump_simp, dt, params)\n",
    "    x.append(x_n)\n",
    "    u.append(u_n)\n",
    "x = np.array(x)\n",
    "u = np.array(u)\n",
    "    "
   ]
  },
  {
   "cell_type": "markdown",
   "metadata": {},
   "source": [
    "anim_simp = create_anim_simp(x,u,[g, l_3, m_0, m_2])"
   ]
  },
  {
   "cell_type": "markdown",
   "metadata": {},
   "source": [
    "HTML(anim_simp.to_jshtml())"
   ]
  },
  {
   "cell_type": "code",
   "execution_count": 38,
   "metadata": {},
   "outputs": [],
   "source": [
    "N = 800\n",
    "\n",
    "opti = cas.Opti()\n",
    "p_opts = {\"expand\":True}\n",
    "s_opts = {\"max_iter\": 10000, 'tol': 1e-16}#, 'linear_solver' : \"MA27\"}\n",
    "opti.solver(\"ipopt\",p_opts,\n",
    "                    s_opts)\n",
    "\n",
    "X = opti.variable(N+1,4)\n",
    "U = opti.variable(N+1,2)\n",
    "T = opti.parameter()\n",
    "u_m = opti.parameter(2)\n",
    "\n",
    "Params = opti.parameter(4)\n",
    "\n",
    "#cost = cas.sum1(2+cas.cos(X[:,0])+cas.cos(X[:,1]))*T\n",
    "cost = cas.sum1(-cas.cos(X[:,1])) + cas.sum1(X[:,0]**2) + cas.sum1(cas.sin(X[:,1])**2)\n",
    "#cost = cas.sum1(cas.cos(X[:,1]))\n",
    "#cost = T\n",
    "opti.minimize(cost)\n",
    "\n",
    "opti.subject_to(X[0,:].T == [0, np.pi, 0, 0])\n",
    "opti.subject_to(opti.bounded(-0.0001,X[-1,0],0.0001))\n",
    "opti.subject_to(cas.cos(X[-1,1]) > 0.9999)\n",
    "opti.subject_to(opti.bounded(-0.0001,X[-1,2],0.0001))\n",
    "opti.subject_to(opti.bounded(-0.0001,X[-1,3],0.0001))\n",
    "opti.subject_to(U[-1,:].T == [0, 0])\n",
    "\n",
    "#restriction = restriction2casadi(euler_restr, F_cas, 2, 2, 4)\n",
    "#restriction = restriction2casadi(trapz_restr, F_cas_simp, 2, 2, 4)\n",
    "restriction = restriction2casadi(trapz_mod_restr, F_cas_simp, 2, 2, 4)\n",
    "\n",
    "for ii in range(N):\n",
    "    opti.subject_to(restriction(X[ii,:], X[ii+1,:], U[ii,:], U[ii+1,:],T/N, Params)==0)\n",
    "    opti.subject_to(opti.bounded(-u_m[0],U[ii, 0],u_m[0]))\n",
    "    opti.subject_to(opti.bounded(-u_m[1],U[ii, 1],u_m[1]))\n",
    "\n",
    "opti.set_initial(X, x)\n",
    "opti.set_initial(U, u)"
   ]
  },
  {
   "cell_type": "code",
   "execution_count": 39,
   "metadata": {},
   "outputs": [],
   "source": [
    "opti.set_value(T, dt*(N+1))\n",
    "max_par_1 = 0.0\n",
    "max_f = 1.0\n",
    "opti.set_value(u_m, [max_f, max_par_1])\n",
    "\n",
    "m_0, m_2 = [0.2, 0.4]\n",
    "l_3 = 0.3\n",
    "g = 9.8\n",
    "\n",
    "opti.set_value(Params, [g, l_3, m_0, m_2])"
   ]
  },
  {
   "cell_type": "code",
   "execution_count": 40,
   "metadata": {
    "scrolled": true
   },
   "outputs": [
    {
     "name": "stdout",
     "output_type": "stream",
     "text": [
      "\n",
      "******************************************************************************\n",
      "This program contains Ipopt, a library for large-scale nonlinear optimization.\n",
      " Ipopt is released as open source code under the Eclipse Public License (EPL).\n",
      "         For more information visit https://github.com/coin-or/Ipopt\n",
      "******************************************************************************\n",
      "\n",
      "This is Ipopt version 3.13.4, running with linear solver mumps.\n",
      "NOTE: Other linear solvers might be more efficient (see Ipopt documentation).\n",
      "\n",
      "Number of nonzeros in equality constraint Jacobian...:    30406\n",
      "Number of nonzeros in inequality constraint Jacobian.:      804\n",
      "Number of nonzeros in Lagrangian Hessian.............:     4806\n",
      "\n",
      "Total number of variables............................:     4806\n",
      "                     variables with only lower bounds:        0\n",
      "                variables with lower and upper bounds:        0\n",
      "                     variables with only upper bounds:        0\n",
      "Total number of equality constraints.................:     4006\n",
      "Total number of inequality constraints...............:      804\n",
      "        inequality constraints with only lower bounds:        1\n",
      "   inequality constraints with lower and upper bounds:      803\n",
      "        inequality constraints with only upper bounds:        0\n",
      "\n",
      "iter    objective    inf_pr   inf_du lg(mu)  ||d||  lg(rg) alpha_du alpha_pr  ls\n",
      "   0 -1.3162351e+02 1.00e+00 5.12e-01  -1.0 0.00e+00    -  0.00e+00 0.00e+00   0\n",
      "   1 -1.3184742e+02 9.98e-01 4.15e+01  -1.0 3.40e+00    -  8.34e-02 2.00e-03f  1\n",
      "   2 -1.4114444e+02 8.29e-01 1.98e+01  -1.0 3.24e+00    -  2.04e-01 1.69e-01f  1\n",
      "   3 -1.6819692e+02 3.57e-01 6.95e+01  -1.0 3.13e+00    -  2.71e-01 5.70e-01f  1\n",
      "   4 -1.7857942e+02 9.25e-01 4.77e+01  -1.0 4.20e+00    -  3.04e-01 8.27e-01f  1\n",
      "   5 -1.7922220e+02 8.18e-01 7.71e+01  -1.0 1.89e+01    -  1.02e-01 2.84e-01f  1\n",
      "   6 -1.9377093e+02 5.73e-01 5.07e+01  -1.0 1.06e+01  -2.0 3.38e-01 3.73e-01f  1\n",
      "   7 -1.9426263e+02 1.11e+00 6.82e+01  -1.0 2.62e+01  -2.5 1.34e-01 1.59e-01f  1\n",
      "   8 -2.0441188e+02 8.71e-01 5.38e+01  -1.0 1.80e+01    -  1.75e-01 2.31e-01f  1\n",
      "   9 -2.0852600e+02 9.15e-01 5.56e+01  -1.0 2.73e+01    -  1.33e-01 1.23e-01f  1\n",
      "iter    objective    inf_pr   inf_du lg(mu)  ||d||  lg(rg) alpha_du alpha_pr  ls\n",
      "  10 -2.2064318e+02 7.91e-01 6.44e+01  -1.0 1.24e+01    -  2.33e-01 2.20e-01f  1\n",
      "  11 -2.2259180e+02 9.49e-01 7.32e+01  -1.0 2.27e+01    -  1.17e-01 1.32e-01f  1\n",
      "  12 -2.3085808e+02 7.69e-01 7.44e+01  -1.0 1.30e+01    -  2.16e-01 2.07e-01f  1\n",
      "  13 -2.3379336e+02 8.76e-01 8.55e+01  -1.0 1.89e+01    -  7.80e-02 1.48e-01f  1\n",
      "  14 -2.3735783e+02 6.83e-01 6.79e+01  -1.0 1.25e+01    -  1.17e-01 1.24e-01f  1\n",
      "  15 -2.4080916e+02 5.22e-01 5.53e+01  -1.0 6.86e+00    -  1.72e-01 1.83e-01f  1\n",
      "  16 -2.4295053e+02 3.61e-01 4.32e+01  -1.0 5.09e+00    -  2.24e-01 2.09e-01f  1\n",
      "  17 -2.4356907e+02 2.74e-01 3.96e+01  -1.0 6.12e+00    -  2.26e-01 1.58e-01f  1\n",
      "  18 -2.4337605e+02 2.52e-01 3.30e+01  -1.0 1.57e+01    -  1.39e-01 7.29e-02h  1\n",
      "  19 -2.4262801e+02 2.48e-01 3.38e+01  -1.0 1.25e+02    -  5.64e-03 1.14e-02h  1\n",
      "iter    objective    inf_pr   inf_du lg(mu)  ||d||  lg(rg) alpha_du alpha_pr  ls\n",
      "  20 -2.4502767e+02 3.44e-01 8.91e+01  -1.0 4.21e+00    -  3.54e-01 4.43e-01f  1\n",
      "  21 -2.4605902e+02 3.61e-01 8.65e+01  -1.0 1.76e+01  -2.1 1.23e-01 5.60e-02f  1\n",
      "  22 -2.4770368e+02 2.63e-01 1.27e+02  -1.0 5.26e+00  -1.6 7.14e-01 2.77e-01f  1\n",
      "  23 -2.4825570e+02 2.81e-01 1.23e+02  -1.0 7.53e+01  -2.1 1.39e-02 2.08e-02f  1\n",
      "  24 -2.5068858e+02 3.71e-01 1.04e+02  -1.0 1.20e+01  -2.6 1.22e-01 1.33e-01f  1\n",
      "  25 -2.5289875e+02 3.54e-01 1.12e+02  -1.0 1.46e+01  -2.2 1.78e-01 8.59e-02f  1\n",
      "  26 -2.5675620e+02 3.88e-01 1.14e+02  -1.0 3.34e+00  -1.7 7.34e-01 6.86e-01f  1\n",
      "  27 -2.6056601e+02 3.86e-01 1.02e+02  -1.0 5.49e+00  -2.2 2.73e-01 2.03e-01f  1\n",
      "  28 -2.6229324e+02 2.93e-01 7.20e+01  -1.0 4.59e+00  -1.8 7.40e-01 2.62e-01f  1\n",
      "  29 -2.6234816e+02 2.34e-01 7.21e+01  -1.0 2.28e+00  -1.4 1.00e+00 8.50e-01h  1\n",
      "iter    objective    inf_pr   inf_du lg(mu)  ||d||  lg(rg) alpha_du alpha_pr  ls\n",
      "  30 -2.6444935e+02 4.82e-01 1.48e+02  -1.0 3.22e+00  -1.8 5.35e-01 6.74e-01f  1\n",
      "  31 -2.6938415e+02 4.92e-01 1.49e+02  -1.0 4.98e+01    -  3.56e-02 2.07e-02f  1\n",
      "  32 -2.7379809e+02 4.50e-01 1.30e+02  -1.0 7.06e+00  -2.3 1.50e-01 1.41e-01f  1\n",
      "  33 -2.7547845e+02 3.81e-01 1.02e+02  -1.0 5.30e+00  -1.9 4.33e-01 1.78e-01f  1\n",
      "  34 -2.7492447e+02 2.35e-01 4.94e+01  -1.0 3.54e+00  -1.5 1.00e+00 4.12e-01h  1\n",
      "  35 -2.7644278e+02 5.73e-01 1.69e+02  -1.0 6.63e+00  -1.9 1.36e-01 3.66e-01f  1\n",
      "  36 -2.8290145e+02 4.97e-01 1.31e+02  -1.0 6.04e+00  -2.4 2.63e-01 2.61e-01f  1\n",
      "  37 -2.8523413e+02 3.95e-01 1.03e+02  -1.0 6.87e+00  -2.0 2.50e-01 1.60e-01f  1\n",
      "  38 -2.8494759e+02 3.66e-01 8.59e+01  -1.0 4.34e+00  -1.6 3.29e-01 4.67e-01h  1\n",
      "  39 -2.8702623e+02 3.72e-01 8.08e+01  -1.0 1.36e+01  -2.0 1.06e-01 5.64e-02f  1\n",
      "iter    objective    inf_pr   inf_du lg(mu)  ||d||  lg(rg) alpha_du alpha_pr  ls\n",
      "  40 -2.8716983e+02 2.96e-01 5.94e+01  -1.0 6.78e+00  -1.6 4.08e-01 1.88e-01f  1\n",
      "  41 -2.8459214e+02 2.99e-01 9.59e+01  -1.0 2.79e+00  -1.2 1.00e+00 7.34e-01h  1\n",
      "  42 -2.8536125e+02 2.96e-01 7.18e+01  -1.0 4.70e+00  -1.7 2.75e-01 2.44e-01f  2\n",
      "  43 -2.8747470e+02 2.91e-01 6.37e+01  -1.0 1.30e+02  -2.1 1.17e-02 8.46e-03f  1\n",
      "  44 -2.8762100e+02 3.00e-01 7.46e+01  -1.0 3.79e+00  -1.7 3.15e-01 4.57e-01f  1\n",
      "  45 -2.8927121e+02 2.98e-01 7.18e+01  -1.0 5.94e+00  -2.2 2.36e-01 1.17e-01f  1\n",
      "  46 -2.8964379e+02 2.46e-01 5.15e+01  -1.0 4.80e+00  -1.8 5.98e-01 2.88e-01f  1\n",
      "  47 -2.9227922e+02 3.38e-01 6.73e+01  -1.0 3.74e+01  -2.2 1.27e-02 4.03e-02f  1\n",
      "  48 -2.9727931e+02 3.79e-01 8.75e+01  -1.0 2.41e+01  -2.7 5.41e-02 5.62e-02f  1\n",
      "  49 -3.0143838e+02 3.89e-01 7.90e+01  -1.0 1.47e+01  -2.3 5.43e-02 7.38e-02f  1\n",
      "iter    objective    inf_pr   inf_du lg(mu)  ||d||  lg(rg) alpha_du alpha_pr  ls\n",
      "  50 -3.0256637e+02 3.21e-01 6.34e+01  -1.0 5.92e+00  -1.9 2.86e-01 1.82e-01f  1\n",
      "  51 -3.0159586e+02 2.43e-01 5.01e+01  -1.0 4.23e+00  -1.4 7.06e-01 2.95e-01h  1\n",
      "  52 -3.0267183e+02 2.83e-01 5.15e+01  -1.0 3.39e+01  -1.9 5.94e-02 4.36e-02f  1\n",
      "  53 -2.9929866e+02 6.34e-01 1.77e+02  -1.0 4.11e+00  -1.5 5.40e-01 7.26e-01h  1\n",
      "  54 -3.0134957e+02 5.37e-01 1.47e+02  -1.0 6.93e+00  -2.0 3.47e-01 1.75e-01F  1\n",
      "  55 -3.0183585e+02 3.73e-01 8.26e+01  -1.0 3.82e+00  -1.5 7.43e-01 3.85e-01f  1\n",
      "  56 -3.0348847e+02 3.70e-01 6.93e+01  -1.0 4.14e+01  -2.0 4.79e-02 3.63e-02f  1\n",
      "  57 -3.0246907e+02 3.21e-01 4.45e+01  -1.0 3.74e+00  -1.6 2.79e-01 1.59e-01H  1\n",
      "  58 -3.0160200e+02 2.64e-01 3.74e+01  -1.0 1.10e+01  -2.1 1.00e+00 1.69e-01h  1\n",
      "  59 -3.0164972e+02 2.18e-01 3.87e+01  -1.0 3.23e+00    -  4.26e-01 2.81e-01f  2\n",
      "iter    objective    inf_pr   inf_du lg(mu)  ||d||  lg(rg) alpha_du alpha_pr  ls\n",
      "  60 -3.0296530e+02 2.06e-01 5.33e+01  -1.0 9.49e+00    -  6.46e-02 7.95e-02f  2\n",
      "  61 -3.0425153e+02 1.97e-01 5.71e+01  -1.0 2.38e+01  -2.5 7.76e-02 4.53e-02f  1\n",
      "  62 -3.0652882e+02 2.21e-01 5.89e+01  -1.0 3.11e+01  -3.0 3.02e-02 3.02e-02f  1\n",
      "  63 -3.0616504e+02 2.06e-01 5.75e+01  -1.0 5.09e+00  -1.7 3.68e-01 2.54e-01f  1\n",
      "  64 -3.0755842e+02 2.74e-01 7.69e+01  -1.0 7.68e+00  -2.2 1.55e-01 1.72e-01f  1\n",
      "  65 -3.0782678e+02 2.50e-01 6.33e+01  -1.0 5.26e+00  -1.7 5.70e-01 2.21e-01f  1\n",
      "  66 -3.0520839e+02 4.00e-01 1.12e+02  -1.0 2.28e+00  -1.3 1.00e+00 1.00e+00h  1\n",
      "  67 -3.0655383e+02 3.13e-01 8.68e+01  -1.0 2.71e+00  -1.8 5.68e-01 3.21e-01f  2\n",
      "  68 -3.0611428e+02 1.54e-01 3.65e+01  -1.0 2.07e+00  -1.4 1.00e+00 6.42e-01h  1\n",
      "  69 -3.0061408e+02 6.92e-02 3.14e+01  -1.0 2.43e+00  -1.8 1.00e+00 1.00e+00H  1\n",
      "iter    objective    inf_pr   inf_du lg(mu)  ||d||  lg(rg) alpha_du alpha_pr  ls\n",
      "  70 -3.0145054e+02 3.63e-02 3.57e+01  -1.0 1.49e+00    -  1.00e+00 4.78e-01f  2\n",
      "  71 -3.0128997e+02 3.43e-02 3.76e+01  -1.0 1.16e+01    -  2.34e-01 6.16e-02H  1\n",
      "  72 -3.0223996e+02 4.31e-02 3.97e+01  -1.0 2.32e+00    -  4.25e-01 2.20e-01f  2\n",
      "  73 -3.0293303e+02 5.73e-02 4.42e+01  -1.0 5.62e+01    -  9.11e-03 1.73e-02f  1\n",
      "  74 -3.0313431e+02 4.59e-02 2.68e+01  -1.0 3.28e+00  -1.4 1.00e+00 4.86e-01f  1\n",
      "  75 -3.0392196e+02 5.95e-02 3.31e+01  -1.0 4.96e+00    -  2.94e-01 9.33e-02f  3\n",
      "  76 -3.0389874e+02 5.27e-02 3.40e+01  -1.0 6.27e+00  -1.9 3.85e-01 1.13e-01H  1\n",
      "  77 -3.0454604e+02 6.16e-02 3.70e+01  -1.0 6.17e+00    -  1.14e-01 5.55e-02f  3\n",
      "  78 -3.0530823e+02 8.16e-02 4.46e+01  -1.0 2.61e+01  -2.4 3.50e-02 4.76e-02f  1\n",
      "  79 -3.0514070e+02 4.07e-02 1.77e+01  -1.0 2.78e+00  -1.0 1.00e+00 6.50e-01f  1\n",
      "iter    objective    inf_pr   inf_du lg(mu)  ||d||  lg(rg) alpha_du alpha_pr  ls\n",
      "  80 -3.0601504e+02 6.08e-02 2.30e+01  -1.0 6.39e+00    -  3.02e-01 8.53e-02f  3\n"
     ]
    },
    {
     "name": "stdout",
     "output_type": "stream",
     "text": [
      "  81 -3.0577456e+02 2.35e-01 7.36e+01  -1.0 1.55e+00  -1.5 1.00e+00 1.00e+00f  1\n",
      "  82 -3.1024667e+02 3.13e-01 1.09e+02  -1.0 6.14e+00    -  2.88e-01 2.25e-01f  1\n",
      "  83 -3.1330619e+02 2.58e-01 8.38e+01  -1.0 3.40e+00  -2.0 3.68e-01 2.95e-01f  1\n",
      "  84 -3.1696155e+02 2.71e-01 7.42e+01  -1.0 1.13e+01  -2.5 9.06e-02 8.79e-02f  1\n",
      "  85 -3.1977584e+02 2.75e-01 6.55e+01  -1.0 6.18e+00  -2.1 1.78e-01 2.02e-01f  1\n",
      "  86 -3.1998525e+02 3.33e-01 9.09e+01  -1.0 2.73e+00  -1.6 6.36e-01 7.55e-01f  1\n",
      "  87 -3.2239008e+02 3.09e-01 8.82e+01  -1.0 9.20e+00  -2.1 1.40e-01 8.54e-02f  1\n",
      "  88 -3.2315686e+02 2.77e-01 6.68e+01  -1.0 3.33e+00  -1.7 4.12e-01 4.29e-01f  1\n",
      "  89 -3.2573575e+02 2.99e-01 7.09e+01  -1.0 7.08e+00  -2.2 1.74e-01 1.63e-01f  1\n",
      "iter    objective    inf_pr   inf_du lg(mu)  ||d||  lg(rg) alpha_du alpha_pr  ls\n",
      "  90 -3.2630138e+02 2.50e-01 5.50e+01  -1.0 3.98e+00  -1.7 6.22e-01 2.50e-01f  1\n",
      "  91 -3.2847765e+02 2.54e-01 5.48e+01  -1.0 1.42e+02  -2.2 6.39e-03 9.96e-03f  1\n",
      "  92 -3.2519677e+02 2.74e-01 5.66e+01  -1.0 4.09e+00  -1.8 2.18e-01 2.21e-01H  1\n",
      "  93 -3.2395074e+02 2.69e-01 5.59e+01  -1.0 5.78e+01    -  8.55e-02 3.09e-02h  1\n",
      "  94 -3.2465652e+02 2.51e-01 5.18e+01  -1.0 7.80e+00    -  1.43e-01 8.78e-02f  1\n",
      "  95 -3.2565960e+02 2.52e-01 5.27e+01  -1.0 7.36e+01    -  7.10e-02 2.39e-02f  1\n",
      "  96 -3.2622668e+02 2.38e-01 5.14e+01  -1.0 1.52e+01    -  4.50e-01 1.10e-01f  1\n",
      "  97 -3.2721490e+02 2.37e-01 5.73e+01  -1.0 1.77e+01    -  1.34e-01 1.03e-01f  1\n",
      "  98 -3.2854583e+02 2.14e-01 7.96e+01  -1.0 3.97e+00    -  7.34e-01 2.70e-01f  1\n",
      "  99 -3.2983426e+02 2.52e-01 8.74e+01  -1.0 7.62e+00  -2.3 1.16e-01 1.83e-01f  1\n",
      "iter    objective    inf_pr   inf_du lg(mu)  ||d||  lg(rg) alpha_du alpha_pr  ls\n",
      " 100 -3.3012376e+02 2.36e-01 7.77e+01  -1.0 3.33e+00  -1.8 8.89e-01 3.87e-01f  1\n",
      " 101 -3.3294513e+02 3.13e-01 8.37e+01  -1.0 2.78e+01  -2.3 2.16e-02 4.84e-02f  1\n",
      " 102 -3.3412735e+02 2.79e-01 7.58e+01  -1.0 3.74e+00  -1.9 6.22e-01 3.06e-01f  1\n",
      " 103 -3.3298587e+02 3.04e-01 9.14e+01  -1.0 2.78e+00  -1.5 1.00e+00 6.69e-01h  1\n",
      " 104 -3.3484435e+02 3.40e-01 9.96e+01  -1.0 4.05e+00  -1.9 3.65e-01 3.98e-01f  2\n",
      " 105 -3.3802215e+02 3.49e-01 9.55e+01  -1.0 1.33e+01  -2.4 1.23e-01 7.01e-02f  1\n",
      " 106 -3.4009433e+02 2.82e-01 6.90e+01  -1.0 5.25e+00  -2.0 1.98e-01 2.18e-01f  1\n",
      " 107 -3.4375576e+02 3.25e-01 7.26e+01  -1.0 6.47e+01  -2.5 1.59e-02 1.46e-02f  1\n",
      " 108 -3.4629218e+02 3.07e-01 6.25e+01  -1.0 8.74e+00  -2.0 1.20e-01 1.38e-01f  1\n",
      " 109 -3.4612890e+02 2.60e-01 5.31e+01  -1.0 4.24e+00  -1.6 5.09e-01 3.02e-01h  1\n",
      "iter    objective    inf_pr   inf_du lg(mu)  ||d||  lg(rg) alpha_du alpha_pr  ls\n",
      " 110 -3.4843996e+02 3.02e-01 6.18e+01  -1.0 3.87e+01  -2.1 3.88e-02 3.13e-02f  1\n",
      " 111 -3.4805103e+02 3.89e-01 9.28e+01  -1.0 4.90e+00  -1.7 3.17e-01 3.86e-01h  1\n",
      " 112 -3.5124645e+02 4.02e-01 8.49e+01  -1.0 2.41e+01  -2.1 4.87e-02 4.08e-02f  1\n",
      " 113 -3.5204275e+02 3.85e-01 7.28e+01  -1.0 5.02e+00  -1.7 3.40e-01 3.54e-01f  1\n",
      " 114 -3.5543751e+02 3.84e-01 8.04e+01  -1.0 1.75e+01  -2.2 7.12e-02 5.96e-02f  1\n",
      " 115 -3.5635974e+02 3.40e-01 6.44e+01  -1.0 5.81e+00  -1.8 4.30e-01 2.02e-01f  1\n",
      " 116 -3.5441998e+02 2.87e-01 7.24e+01  -1.0 3.37e+00  -1.3 1.00e+00 5.54e-01h  1\n",
      " 117 -3.5563417e+02 4.60e-01 1.15e+02  -1.0 5.41e+00  -1.8 2.70e-01 3.75e-01f  1\n",
      " 118 -3.5855178e+02 3.87e-01 1.04e+02  -1.0 4.74e+00  -2.3 3.28e-01 1.96e-01f  1\n",
      " 119 -3.5913960e+02 3.00e-01 7.56e+01  -1.0 3.97e+00  -1.9 3.65e-01 3.18e-01f  1\n",
      "iter    objective    inf_pr   inf_du lg(mu)  ||d||  lg(rg) alpha_du alpha_pr  ls\n",
      " 120 -3.6132064e+02 3.04e-01 6.53e+01  -1.0 8.36e+00  -2.3 1.35e-01 1.30e-01f  1\n",
      " 121 -3.6079016e+02 3.33e-01 8.61e+01  -1.0 4.11e+00  -1.9 3.49e-01 4.18e-01h  1\n",
      " 122 -3.6320594e+02 3.36e-01 8.04e+01  -1.0 1.27e+01  -2.4 7.93e-02 7.12e-02f  1\n",
      " 123 -3.6237942e+02 2.59e-01 6.44e+01  -1.0 3.57e+00  -2.0 3.61e-01 2.62e-01h  1\n",
      " 124 -3.6323433e+02 2.63e-01 6.02e+01  -1.0 1.21e+01  -2.4 7.86e-02 1.03e-01f  1\n",
      " 125 -3.6127531e+02 2.45e-01 5.58e+01  -1.0 5.06e+00    -  3.19e-01 6.90e-02h  3\n",
      " 126 -3.6087944e+02 2.44e-01 5.56e+01  -1.0 1.98e+01    -  1.48e-02 3.87e-03h  5\n",
      " 127 -3.5992771e+02 2.41e-01 5.38e+01  -1.0 4.95e+01  -2.0 2.36e-02 1.91e-02h  2\n",
      " 128 -3.5798964e+02 1.54e-01 4.08e+01  -1.0 2.37e+00  -1.6 9.73e-01 4.32e-01h  1\n",
      " 129 -3.5692254e+02 1.49e-01 3.97e+01  -1.0 3.76e+00    -  2.66e-01 6.06e-02h  2\n",
      "iter    objective    inf_pr   inf_du lg(mu)  ||d||  lg(rg) alpha_du alpha_pr  ls\n",
      " 130 -3.5679945e+02 1.49e-01 3.97e+01  -1.0 6.79e+01  -2.1 6.14e-03 1.79e-03f  4\n",
      " 131 -3.5466878e+02 1.10e-01 2.91e+01  -1.0 6.16e+00  -1.6 1.00e+00 2.95e-01h  1\n",
      " 132 -3.5302102e+02 9.48e-02 2.61e+01  -1.0 1.68e+00    -  1.00e+00 1.89e-01h  3\n",
      " 133 -3.5187043e+02 9.09e-02 2.61e+01  -1.0 2.53e+00    -  4.02e-01 9.83e-02h  4\n",
      " 134 -3.4919721e+02 6.36e-02 2.18e+01  -1.0 1.39e+00  -2.1 1.00e+00 5.00e-01h  2\n",
      " 135 -3.4729499e+02 6.32e-02 2.34e+01  -1.0 7.62e-01    -  1.00e+00 1.00e+00h  1\n",
      " 136 -3.4879758e+02 6.33e-02 2.25e+01  -1.0 1.23e+00  -2.6 1.00e+00 4.65e-01f  2\n",
      " 137 -3.4928677e+02 3.40e-03 1.38e+00  -1.0 5.71e-01  -2.2 1.00e+00 1.00e+00h  1\n",
      " 138 -3.4921453e+02 3.00e-03 1.23e+00  -1.0 4.10e-01    -  1.00e+00 5.00e-01h  2\n",
      " 139 -3.4917236e+02 2.41e-03 9.86e-01  -1.0 3.44e-01    -  1.00e+00 5.00e-01h  2\n",
      "iter    objective    inf_pr   inf_du lg(mu)  ||d||  lg(rg) alpha_du alpha_pr  ls\n",
      " 140 -3.5781384e+02 9.97e-02 6.12e+01  -1.7 2.31e+00    -  5.97e-01 6.73e-01f  1\n",
      " 141 -3.6600433e+02 3.46e-02 2.08e+01  -1.7 1.47e+00    -  8.08e-01 8.42e-01f  1\n",
      " 142 -3.6806523e+02 7.41e-03 6.93e+00  -1.7 7.57e-01    -  1.00e+00 8.32e-01f  1\n",
      " 143 -3.6836455e+02 8.77e-03 3.44e+00  -1.7 9.41e-01  -2.6 1.00e+00 9.74e-01f  1\n",
      " 144 -3.6841721e+02 1.65e-03 6.44e-01  -1.7 5.51e-01    -  1.00e+00 1.00e+00f  1\n",
      " 145 -3.6841018e+02 1.06e-04 4.09e-02  -1.7 9.11e-02    -  1.00e+00 1.00e+00h  1\n",
      " 146 -3.7257993e+02 1.12e-02 4.10e+01  -2.5 8.36e-01    -  6.84e-01 9.23e-01f  1\n",
      " 147 -3.7367226e+02 1.37e-03 1.38e+01  -2.5 6.45e-01    -  7.45e-01 1.00e+00f  1\n",
      " 148 -3.7374383e+02 6.64e-05 1.34e-03  -2.5 3.33e-01    -  1.00e+00 1.00e+00h  1\n",
      " 149 -3.7459963e+02 6.76e-04 6.22e+00  -3.8 6.07e-01    -  7.18e-01 9.51e-01f  1\n",
      "iter    objective    inf_pr   inf_du lg(mu)  ||d||  lg(rg) alpha_du alpha_pr  ls\n",
      " 150 -3.7468216e+02 1.68e-04 5.55e-02  -3.8 2.46e-01    -  9.90e-01 9.03e-01h  1\n",
      " 151 -3.7469559e+02 1.87e-05 8.28e-04  -3.8 3.44e-01    -  1.00e+00 1.00e+00f  1\n",
      " 152 -3.7474850e+02 1.60e-05 1.89e-01  -5.7 2.03e-01    -  8.41e-01 9.68e-01f  1\n",
      " 153 -3.7475090e+02 1.30e-06 1.63e-02  -5.7 5.23e-01    -  9.31e-01 1.00e+00h  1\n",
      " 154 -3.7475098e+02 5.01e-07 3.15e-06  -5.7 2.56e-01    -  1.00e+00 1.00e+00h  1\n",
      " 155 -3.7475164e+02 1.72e-07 2.00e-03  -8.6 2.09e-01    -  8.27e-01 9.36e-01h  1\n",
      " 156 -3.7475168e+02 1.36e-07 6.21e-04  -8.6 2.02e-01    -  7.81e-01 9.36e-01h  1\n",
      " 157 -3.7475169e+02 4.68e-08 1.42e-04  -8.6 1.89e-01    -  7.96e-01 1.00e+00f  1\n",
      " 158 -3.7475169e+02 5.85e-09 1.19e-08  -8.6 6.59e-02    -  1.00e+00 1.00e+00h  1\n",
      " 159 -3.7475169e+02 1.96e-10 2.23e-06 -12.9 1.60e-02    -  9.54e-01 1.00e+00h  1\n",
      "iter    objective    inf_pr   inf_du lg(mu)  ||d||  lg(rg) alpha_du alpha_pr  ls\n",
      " 160 -3.7475169e+02 3.26e-13 2.15e-08 -12.9 7.03e-04    -  9.97e-01 1.00e+00h  1\n",
      " 161 -3.7475169e+02 3.55e-15 4.91e-13 -12.9 1.12e-05    -  1.00e+00 1.00e+00h  1\n",
      "In iteration 161, 296 Slacks too small, adjusting variable bounds\n",
      " 162 -3.7475169e+02 3.55e-15 5.58e-11 -17.0 4.90e-05    -  9.57e-01 1.00e+00h  1\n",
      "In iteration 162, 296 Slacks too small, adjusting variable bounds\n",
      " 163 -3.7475169e+02 3.55e-15 3.30e-13 -17.0 1.76e-05    -  9.99e-01 1.00e+00h  1\n",
      "In iteration 163, 296 Slacks too small, adjusting variable bounds\n",
      " 164 -3.7475169e+02 3.55e-15 5.63e-13 -17.0 2.43e-07    -  1.00e+00 5.00e-01h  2\n",
      "In iteration 164, 296 Slacks too small, adjusting variable bounds\n",
      " 165 -3.7475169e+02 3.55e-15 4.22e-13 -17.0 1.22e-07    -  1.00e+00 2.50e-01h  3\n",
      " 166 -3.7475169e+02 3.55e-15 3.99e-13 -17.0 9.12e-08    -  1.00e+00 1.00e+00s 22\n",
      "\n",
      "Number of Iterations....: 166\n",
      "\n",
      "                                   (scaled)                 (unscaled)\n",
      "Objective...............:  -3.7475168825662109e+02   -3.7475168825662109e+02\n",
      "Dual infeasibility......:   3.9901415505028126e-13    3.9901415505028126e-13\n",
      "Constraint violation....:   3.5527136788005009e-15    3.5527136788005009e-15\n",
      "Complementarity.........:   1.7812293042572630e-17    1.7812293042572630e-17\n",
      "Overall NLP error.......:   3.9901415505028126e-13    3.9901415505028126e-13\n",
      "\n",
      "\n",
      "Number of objective function evaluations             = 271\n",
      "Number of objective gradient evaluations             = 168\n",
      "Number of equality constraint evaluations            = 271\n",
      "Number of inequality constraint evaluations          = 271\n",
      "Number of equality constraint Jacobian evaluations   = 168\n",
      "Number of inequality constraint Jacobian evaluations = 168\n",
      "Number of Lagrangian Hessian evaluations             = 167\n",
      "Total CPU secs in IPOPT (w/o function evaluations)   =      3.298\n",
      "Total CPU secs in NLP function evaluations           =      0.430\n",
      "\n",
      "EXIT: Solved To Acceptable Level.\n",
      "      solver  :   t_proc      (avg)   t_wall      (avg)    n_eval\n",
      "       nlp_f  |   6.53ms ( 24.10us)   6.56ms ( 24.21us)       271\n",
      "       nlp_g  |  78.32ms (289.01us)  78.41ms (289.32us)       271\n",
      "    nlp_grad  | 934.00us (934.00us) 935.09us (935.09us)         1\n",
      "  nlp_grad_f  |   9.14ms ( 54.10us)   9.20ms ( 54.42us)       169\n",
      "  nlp_hess_l  | 202.30ms (  1.21ms) 202.34ms (  1.21ms)       167\n",
      "   nlp_jac_g  | 123.44ms (730.44us) 123.62ms (731.47us)       169\n",
      "       total  |   3.84 s (  3.84 s)   3.84 s (  3.84 s)         1\n"
     ]
    }
   ],
   "source": [
    "sol = opti.solve()"
   ]
  },
  {
   "cell_type": "code",
   "execution_count": null,
   "metadata": {},
   "outputs": [],
   "source": [
    "xx_simp = sol.value(X)\n",
    "uu_simp = sol.value(U) "
   ]
  },
  {
   "cell_type": "code",
   "execution_count": null,
   "metadata": {},
   "outputs": [],
   "source": []
  },
  {
   "cell_type": "code",
   "execution_count": null,
   "metadata": {},
   "outputs": [],
   "source": []
  },
  {
   "cell_type": "code",
   "execution_count": null,
   "metadata": {},
   "outputs": [],
   "source": [
    "new_X_simp = xx_simp\n",
    "new_U_simp = uu_simp"
   ]
  },
  {
   "cell_type": "code",
   "execution_count": null,
   "metadata": {},
   "outputs": [],
   "source": []
  },
  {
   "cell_type": "code",
   "execution_count": null,
   "metadata": {},
   "outputs": [],
   "source": []
  },
  {
   "cell_type": "code",
   "execution_count": null,
   "metadata": {
    "scrolled": false
   },
   "outputs": [],
   "source": [
    "#anim_simp = create_anim_simp(xx_simp,uu_simp,[g, l_3, m_0, m_2])"
   ]
  },
  {
   "cell_type": "code",
   "execution_count": null,
   "metadata": {
    "scrolled": false
   },
   "outputs": [],
   "source": [
    "#HTML(anim_simp.to_jshtml())"
   ]
  },
  {
   "cell_type": "code",
   "execution_count": null,
   "metadata": {},
   "outputs": [],
   "source": [
    "_n = 360\n",
    "_n_int = 40\n",
    "print(new_X_simp[_n:_n+_n_int,:])"
   ]
  },
  {
   "cell_type": "code",
   "execution_count": null,
   "metadata": {},
   "outputs": [],
   "source": [
    "print(new_X_simp[_n:_n+_n_int,0]**2 + 1 \n",
    "      - np.cos(new_X_simp[_n:_n+_n_int,1]) \n",
    "      + new_X_simp[_n:_n+_n_int,2]**2 \n",
    "      + new_X_simp[_n:_n+_n_int,3]**2)"
   ]
  },
  {
   "cell_type": "code",
   "execution_count": null,
   "metadata": {},
   "outputs": [],
   "source": [
    "_n = 0\n",
    "_n_int = 430\n",
    "plt.figure(figsize=[12,8])\n",
    "plt.plot(new_X_simp[_n:_n+_n_int,0]**2 + 1 \n",
    "      - np.cos(new_X_simp[_n:_n+_n_int,1]) \n",
    "      + new_X_simp[_n:_n+_n_int,2]**2 \n",
    "      + new_X_simp[_n:_n+_n_int,3]**2)\n",
    "plt.grid()"
   ]
  },
  {
   "cell_type": "code",
   "execution_count": null,
   "metadata": {},
   "outputs": [],
   "source": [
    "_n = 0\n",
    "_n_int = 430\n",
    "plt.figure(figsize=[12,8])\n",
    "plt.plot(new_X_simp[_n:_n+_n_int,0]**2 + 1 \n",
    "      - np.cos(new_X_simp[_n:_n+_n_int,1]) \n",
    "      + new_X_simp[_n:_n+_n_int,2]**2 \n",
    "      + new_X_simp[_n:_n+_n_int,3]**2)\n",
    "plt.ylim([0,1])\n",
    "plt.grid()"
   ]
  },
  {
   "cell_type": "code",
   "execution_count": null,
   "metadata": {},
   "outputs": [],
   "source": [
    "_n = 0\n",
    "_n_int = 430\n",
    "plt.figure(figsize=[12,8])\n",
    "plt.plot(new_X_simp[_n:_n+_n_int,0]**2 + 1 \n",
    "      - np.cos(new_X_simp[_n:_n+_n_int,1]) \n",
    "      + new_X_simp[_n:_n+_n_int,2]**2 \n",
    "      + new_X_simp[_n:_n+_n_int,3]**2)\n",
    "plt.ylim([0,0.1])\n",
    "plt.grid()"
   ]
  },
  {
   "cell_type": "code",
   "execution_count": null,
   "metadata": {},
   "outputs": [],
   "source": [
    "n_cut = 385\n",
    "n_adicc = 50\n",
    "N = 800"
   ]
  },
  {
   "cell_type": "code",
   "execution_count": null,
   "metadata": {},
   "outputs": [],
   "source": [
    "new_X_simp = xx_simp[:n_cut, :]\n",
    "new_U_simp = uu_simp[:n_cut, :]"
   ]
  },
  {
   "cell_type": "code",
   "execution_count": null,
   "metadata": {},
   "outputs": [],
   "source": [
    "new_X_simp = new_X_simp[::-1, :]\n",
    "new_U_simp = new_U_simp[::-1, :]"
   ]
  },
  {
   "cell_type": "code",
   "execution_count": null,
   "metadata": {},
   "outputs": [],
   "source": [
    "new_X_simp[:,1] = new_X_simp[:,1] - 2*np.pi"
   ]
  },
  {
   "cell_type": "code",
   "execution_count": null,
   "metadata": {},
   "outputs": [],
   "source": [
    "from optibot.schemes import interpolated_array"
   ]
  },
  {
   "cell_type": "code",
   "execution_count": null,
   "metadata": {},
   "outputs": [],
   "source": [
    "new_t_array = np.linspace(0, (n_cut-1)*dt, N-n_adicc+1)\n",
    "new_X_interp, new_U_interp = interpolated_array(new_X_simp, new_U_simp, F_nump_simp, dt,\n",
    "                                  new_t_array, [g, l_3, m_0, m_2], 'hs_mod')"
   ]
  },
  {
   "cell_type": "code",
   "execution_count": null,
   "metadata": {},
   "outputs": [],
   "source": [
    "new_U_interp_comp = np.concatenate((new_U_interp, np.zeros([n_adicc,2])))"
   ]
  },
  {
   "cell_type": "code",
   "execution_count": null,
   "metadata": {},
   "outputs": [],
   "source": [
    "new_U_interp_comp.shape"
   ]
  },
  {
   "cell_type": "code",
   "execution_count": null,
   "metadata": {},
   "outputs": [],
   "source": [
    "compr_sol_simp = integrate_trapz(\n",
    "    new_X_interp[0,:],\n",
    "    new_U_interp_comp,\n",
    "    F_nump_simp,\n",
    "    new_t_array[-1]/(N-n_adicc),\n",
    "    [g, l_3, m_0, m_2]\n",
    ")"
   ]
  },
  {
   "cell_type": "code",
   "execution_count": null,
   "metadata": {
    "scrolled": false
   },
   "outputs": [],
   "source": [
    "#anim_simp = create_anim_simp(compr_sol_simp[:-1,:],new_U_interp_comp,[g, l_3, m_0, m_2])"
   ]
  },
  {
   "cell_type": "code",
   "execution_count": null,
   "metadata": {
    "scrolled": false
   },
   "outputs": [],
   "source": [
    "#HTML(anim_simp.to_jshtml())"
   ]
  },
  {
   "cell_type": "code",
   "execution_count": null,
   "metadata": {},
   "outputs": [],
   "source": []
  },
  {
   "cell_type": "code",
   "execution_count": null,
   "metadata": {},
   "outputs": [],
   "source": [
    "opti = cas.Opti()\n",
    "opti.solver('ipopt')\n",
    "\n",
    "X = opti.variable(N+1,4)\n",
    "U = opti.variable(N+1,2)\n",
    "T = opti.parameter()\n",
    "u_m = opti.parameter(2)\n",
    "\n",
    "Params = opti.parameter(4)\n",
    "\n",
    "#cost = cas.sum1(2+cas.cos(X[:,0])+cas.cos(X[:,1]))*T\n",
    "#cost = cas.sum1(cas.cos(X[:,1])) + cas.sum1(X[:,0]**2) + cas.sum1(cas.sin(X[:,1])**2)\n",
    "cost = cas.sum1(cas.cos(X[:,1]))\n",
    "#cost = T\n",
    "opti.minimize(cost)\n",
    "\n",
    "opti.subject_to(X[0,:].T == [0, 0, 0, 0])\n",
    "opti.subject_to(opti.bounded(-0.0001,X[-1,0],0.0001))\n",
    "opti.subject_to(cas.cos(X[-1,1]) < -0.9999)\n",
    "opti.subject_to(opti.bounded(-0.0001,X[-1,2],0.0001))\n",
    "opti.subject_to(opti.bounded(-0.0001,X[-1,3],0.0001))\n",
    "opti.subject_to(opti.bounded(-u_m, U[-1, :].T, u_m))\n",
    "\n",
    "#restriction = restriction2casadi(euler_restr, F_cas, 2, 2, 4)\n",
    "restriction = restriction2casadi(trapz_restr, F_cas_simp, 2, 2, 4)\n",
    "#restriction = restriction2casadi(hs_restr, F_cas, 2, 2, 4)\n",
    "\n",
    "for ii in range(N):\n",
    "    opti.subject_to(restriction(X[ii,:], X[ii+1,:], U[ii,:], U[ii+1,:],T/N, Params)==0)\n",
    "    opti.subject_to(opti.bounded(-u_m, U[ii, :].T,u_m))\n",
    "\n",
    "opti.set_initial(X, compr_sol_simp[:-1, :])\n",
    "opti.set_initial(U, new_U_interp_comp)"
   ]
  },
  {
   "cell_type": "code",
   "execution_count": null,
   "metadata": {},
   "outputs": [],
   "source": [
    "opti.set_value(T, (n_cut-1 + n_adicc*n_cut/N)*dt)\n",
    "max_par_1 = 0.0\n",
    "max_f = 1.0\n",
    "opti.set_value(u_m, [max_f, max_par_1])\n",
    "\n",
    "m_0, m_2 = [0.2, 0.4]\n",
    "l_3 = 0.3\n",
    "g = 9.8\n",
    "\n",
    "opti.set_value(Params, [g, l_3, m_0, m_2])"
   ]
  },
  {
   "cell_type": "code",
   "execution_count": null,
   "metadata": {
    "scrolled": true
   },
   "outputs": [],
   "source": [
    "sol = opti.solve()"
   ]
  },
  {
   "cell_type": "code",
   "execution_count": null,
   "metadata": {},
   "outputs": [],
   "source": [
    "xx_new = sol.value(X)\n",
    "uu_new = sol.value(U) "
   ]
  },
  {
   "cell_type": "code",
   "execution_count": null,
   "metadata": {},
   "outputs": [],
   "source": [
    "xx_new"
   ]
  },
  {
   "cell_type": "code",
   "execution_count": null,
   "metadata": {},
   "outputs": [],
   "source": []
  },
  {
   "cell_type": "code",
   "execution_count": null,
   "metadata": {
    "scrolled": false
   },
   "outputs": [],
   "source": [
    "#anim_simp = create_anim_simp(xx_new,uu_new,[g, l_3, m_0, m_2])"
   ]
  },
  {
   "cell_type": "code",
   "execution_count": null,
   "metadata": {
    "scrolled": false
   },
   "outputs": [],
   "source": [
    "#HTML(anim_simp.to_jshtml())"
   ]
  },
  {
   "cell_type": "code",
   "execution_count": null,
   "metadata": {},
   "outputs": [],
   "source": []
  },
  {
   "cell_type": "code",
   "execution_count": null,
   "metadata": {},
   "outputs": [],
   "source": [
    "opti = cas.Opti()\n",
    "p_opts = {\"expand\":True}\n",
    "s_opts = {\"max_iter\": 10000, 'tol': 1e-12}\n",
    "opti.solver(\"ipopt\",p_opts,\n",
    "                    s_opts)"
   ]
  },
  {
   "cell_type": "code",
   "execution_count": null,
   "metadata": {},
   "outputs": [],
   "source": [
    "X = opti.variable(N+1,4)\n",
    "U = opti.variable(N+1,2)\n",
    "H = opti.variable(N)\n",
    "u_m = opti.parameter(2)"
   ]
  },
  {
   "cell_type": "code",
   "execution_count": null,
   "metadata": {},
   "outputs": [],
   "source": [
    "#M = opti.parameter(2)\n",
    "#L = opti.parameter(2)\n",
    "#G = opti.parameter()\n",
    "Params = opti.parameter(4)"
   ]
  },
  {
   "cell_type": "code",
   "execution_count": null,
   "metadata": {},
   "outputs": [],
   "source": [
    "#cost = cas.sum1(2+cas.cos(X[:,0])+cas.cos(X[:,1]))*T\n",
    "#cost = cas.sum1(cas.cos(X[:,1])) + cas.sum1(X[:,0]**2)\n",
    "#cost = cas.sum1(cas.cos(X[:,1]))\n",
    "cost = cas.sum1(H)\n",
    "opti.minimize(cost)"
   ]
  },
  {
   "cell_type": "code",
   "execution_count": null,
   "metadata": {},
   "outputs": [],
   "source": [
    "opti.subject_to(X[0,:].T == [0, 0, 0, 0])\n",
    "opti.subject_to(opti.bounded(-0.0001,X[-1,0],0.0001))\n",
    "opti.subject_to(cas.cos(X[-1,1]) < -0.9999)\n",
    "opti.subject_to(opti.bounded(-0.0001,X[-1,2],0.0001))\n",
    "opti.subject_to(opti.bounded(-0.0001,X[-1,3],0.0001))\n",
    "opti.subject_to(opti.bounded(-u_m, U[-1, :].T, u_m))"
   ]
  },
  {
   "cell_type": "code",
   "execution_count": null,
   "metadata": {},
   "outputs": [],
   "source": [
    "#restriction = restriction2casadi(euler_restr, F_cas_simp, 2, 2, 4)\n",
    "restriction = restriction2casadi(trapz_restr, F_cas_simp, 2, 2, 4)\n",
    "#restriction = restriction2casadi(hs_restr, F_cas, 2, 2, 4)"
   ]
  },
  {
   "cell_type": "code",
   "execution_count": null,
   "metadata": {
    "scrolled": false
   },
   "outputs": [],
   "source": [
    "for ii in range(N):\n",
    "    opti.subject_to(restriction(X[ii,:], X[ii+1,:], U[ii,:], U[ii+1,:],H[ii], Params)==0)\n",
    "    #opti.subject_to(opti.bounded(-1e-6, restriction(X[ii,:], X[ii+1,:], U[ii,:], U[ii+1,:],H[ii], Params),1e-6))\n",
    "    opti.subject_to(opti.bounded(-u_m, U[ii, :].T,u_m))\n",
    "for ii in range(N-1):\n",
    "    opti.subject_to(H[ii] == H[ii+1])"
   ]
  },
  {
   "cell_type": "code",
   "execution_count": null,
   "metadata": {},
   "outputs": [],
   "source": [
    "compr_sol_simp.shape"
   ]
  },
  {
   "cell_type": "code",
   "execution_count": null,
   "metadata": {},
   "outputs": [],
   "source": [
    "opti.set_initial(X, compr_sol_simp[:-1, :])\n",
    "opti.set_initial(U, new_U_interp_comp)"
   ]
  },
  {
   "cell_type": "code",
   "execution_count": null,
   "metadata": {},
   "outputs": [],
   "source": [
    "opti.set_initial(H, (n_cut-1)*dt/(N-n_adicc-1))\n",
    "\n",
    "opti.subject_to(H > 0.5/N)\n",
    "opti.subject_to(H < 10/N)\n",
    "\n",
    "max_par_1 = 0.0\n",
    "max_f = 1.0\n",
    "opti.set_value(u_m, [max_f, max_par_1])\n",
    "\n",
    "m_0, m_2 = [0.2, 0.4]\n",
    "l_3 = 0.3\n",
    "g = 9.8\n",
    "\n",
    "opti.set_value(Params, [g, l_3, m_0, m_2])"
   ]
  },
  {
   "cell_type": "code",
   "execution_count": null,
   "metadata": {
    "scrolled": true
   },
   "outputs": [],
   "source": [
    "sol = opti.solve()"
   ]
  },
  {
   "cell_type": "markdown",
   "metadata": {},
   "source": [
    "opti.debug.show_infeasibilities()"
   ]
  },
  {
   "cell_type": "markdown",
   "metadata": {},
   "source": [
    "\n",
    "spar_hs_mod = sol.value(cas.jacobian(opti.g,opti.x)).toarray()\n",
    "plt.figure(figsize = [14,14])\n",
    "plt.spy(spar_hs_mod)"
   ]
  },
  {
   "cell_type": "code",
   "execution_count": null,
   "metadata": {},
   "outputs": [],
   "source": [
    "xx_simp_t = sol.value(X)\n",
    "uu_simp_t = sol.value(U) "
   ]
  },
  {
   "cell_type": "code",
   "execution_count": null,
   "metadata": {},
   "outputs": [],
   "source": []
  },
  {
   "cell_type": "code",
   "execution_count": null,
   "metadata": {},
   "outputs": [],
   "source": [
    "new_X_simp = xx_simp_t\n",
    "new_U_simp = uu_simp_t"
   ]
  },
  {
   "cell_type": "code",
   "execution_count": null,
   "metadata": {},
   "outputs": [],
   "source": []
  },
  {
   "cell_type": "code",
   "execution_count": null,
   "metadata": {
    "scrolled": false
   },
   "outputs": [],
   "source": [
    "anim_simp = create_anim_simp(xx_simp_t,uu_simp_t,[g, l_3, m_0, m_2])"
   ]
  },
  {
   "cell_type": "code",
   "execution_count": null,
   "metadata": {
    "scrolled": false
   },
   "outputs": [],
   "source": [
    "HTML(anim_simp.to_jshtml())"
   ]
  },
  {
   "cell_type": "code",
   "execution_count": null,
   "metadata": {},
   "outputs": [],
   "source": [
    "opt_T = float(cas.sum1(sol.value(H)))\n",
    "opt_T"
   ]
  },
  {
   "cell_type": "code",
   "execution_count": null,
   "metadata": {},
   "outputs": [],
   "source": [
    "N*(n_cut-1)*dt/(N-n_adicc-1)"
   ]
  },
  {
   "cell_type": "code",
   "execution_count": null,
   "metadata": {},
   "outputs": [],
   "source": [
    "plt.plot(new_U_simp)"
   ]
  },
  {
   "cell_type": "code",
   "execution_count": null,
   "metadata": {},
   "outputs": [],
   "source": []
  },
  {
   "cell_type": "code",
   "execution_count": null,
   "metadata": {},
   "outputs": [],
   "source": []
  },
  {
   "cell_type": "code",
   "execution_count": null,
   "metadata": {},
   "outputs": [],
   "source": []
  },
  {
   "cell_type": "markdown",
   "metadata": {},
   "source": [
    "lagr_f_simp_0(compr_sol_simp[324], [a_0, a_1, l_3, m_0, m_2], )\n"
   ]
  },
  {
   "cell_type": "markdown",
   "metadata": {},
   "source": [
    "lagr_f_simp_1(compr_sol_simp[324], [a_0, a_1, g, l_3, m_2], )"
   ]
  },
  {
   "cell_type": "markdown",
   "metadata": {},
   "source": [
    "### Interpolation"
   ]
  },
  {
   "cell_type": "code",
   "execution_count": null,
   "metadata": {},
   "outputs": [],
   "source": [
    "from optibot.schemes import interpolated_array"
   ]
  },
  {
   "cell_type": "code",
   "execution_count": null,
   "metadata": {},
   "outputs": [],
   "source": [
    "from optibot.numpy import trapz_integrate, num_derivative"
   ]
  },
  {
   "cell_type": "code",
   "execution_count": null,
   "metadata": {},
   "outputs": [],
   "source": [
    "new_t_array = np.linspace(0, opt_T, 2*N)"
   ]
  },
  {
   "cell_type": "code",
   "execution_count": null,
   "metadata": {},
   "outputs": [],
   "source": [
    "h = opt_T/N\n",
    "\n",
    "old_t_array = np.linspace(0, (xx_simp_t.shape[0] - 1) * h, xx_simp_t.shape[0])"
   ]
  },
  {
   "cell_type": "code",
   "execution_count": null,
   "metadata": {
    "scrolled": true
   },
   "outputs": [],
   "source": [
    "new_X_interp, new_U_interp = interpolated_array(xx_simp_t, uu_simp_t, F_nump_simp, h,\n",
    "                                  new_t_array, [g, l_3, m_0, m_2], 'trapz')"
   ]
  },
  {
   "cell_type": "code",
   "execution_count": null,
   "metadata": {},
   "outputs": [],
   "source": [
    "accelerations = F_nump_simp(xx_simp_t, uu_simp_t,[g, l_3, m_0, m_2])\n",
    "accelerations"
   ]
  },
  {
   "cell_type": "code",
   "execution_count": null,
   "metadata": {},
   "outputs": [],
   "source": [
    "aa = 2\n",
    "plt.figure(figsize=[50,20])\n",
    "plt.plot(old_t_array,np.array(xx_simp_t)[:,aa]/2, label = f'soluc integrada con trapz, componente{aa}')\n",
    "plt.plot(old_t_array,accelerations[:,aa]/40, label = f'aceleraciones, componente{aa}')\n",
    "plt.plot(old_t_array,accelerations[:,0]/2, label = f'aceleraciones, componente 0')\n",
    "#plt.plot(old_t_array,np.array(compr_sol_simp)[:-1,0], label = f'soluc integrada, componente 0')\n",
    "#plt.plot(new_t_array,new_X_interp[:,aa], label = f'soluc interpolada, componente{aa}')\n",
    "plt.plot([0, old_t_array[-1] + l_3], [0,0], 'k', lw=1, ls = ':')\n",
    "plt.legend()"
   ]
  },
  {
   "cell_type": "code",
   "execution_count": null,
   "metadata": {},
   "outputs": [],
   "source": [
    "aa = 2\n",
    "plt.figure(figsize=[50,20])\n",
    "plt.plot(old_t_array,np.array(xx_simp_t)[:,aa], label = f'soluc integrada con trapz, componente{aa}')\n",
    "plt.plot(old_t_array,xx_simp[:,aa], label = f'soluc de Casadi, componente{aa}')\n",
    "plt.plot(old_t_array,xx_simp[:,0], label = f'soluc de Casadi, componente 0')\n",
    "plt.plot(new_t_array,new_X_interp[:,aa], label = f'soluc interpolada, componente{aa}')\n",
    "plt.legend()"
   ]
  },
  {
   "cell_type": "code",
   "execution_count": null,
   "metadata": {},
   "outputs": [],
   "source": [
    "plt.figure(figsize=[50,20])\n",
    "plt.plot(new_t_array[900:1000], new_X_interp[900:1000,0], 'b')\n",
    "plt.plot(old_t_array[450:500], np.array(compr_sol_simp)[450:500,0], 'r:')\n",
    "plt.plot(old_t_array[450:500], np.array(compr_sol_simp)[450:500,0], 'ko')"
   ]
  },
  {
   "cell_type": "code",
   "execution_count": null,
   "metadata": {},
   "outputs": [],
   "source": [
    "plt.figure(figsize=[50,20])\n",
    "aa = 2\n",
    "plt.plot(new_t_array[100:200], new_X_interp[100:200,aa], 'b')\n",
    "plt.plot(old_t_array[50:100], np.array(compr_sol_simp)[50:100,aa], 'r:')\n",
    "plt.plot(old_t_array[50:100], xx_simp[50:100,aa], 'g:')\n",
    "plt.plot(old_t_array[50:100], np.array(compr_sol_simp)[50:100,aa], 'ko')"
   ]
  },
  {
   "cell_type": "markdown",
   "metadata": {},
   "source": [
    "### Cartpole con articulación elástica"
   ]
  },
  {
   "cell_type": "code",
   "execution_count": null,
   "metadata": {},
   "outputs": [],
   "source": [
    "def create_anim(X, U, params):\n",
    "    g, k, l_1, l_2, m_0, m_1, m_2 = params\n",
    "    l_3 = l_1 + l_2\n",
    "    N = X.shape[0]\n",
    "    fig, ax = plt.subplots()\n",
    "    \n",
    "    y_scale = (l_3) * 1.25\n",
    "    min_x_cart = np.min(X[:,0])\n",
    "    max_x_cart = np.max(X[:,0])\n",
    "    cart_displ = max_x_cart-min_x_cart\n",
    "    size_x = 2*y_scale + cart_displ\n",
    "    size_y = 2*y_scale\n",
    "    draw_width = 14\n",
    "    draw_height = draw_width / size_x * size_y\n",
    "    \n",
    "    x_0 = X[:,0]\n",
    "    y_0 = np.zeros_like(x_0)\n",
    "    x_1 = x_0 + l_1*np.sin(X[:,1])\n",
    "    y_1 = y_0 - l_1*np.cos(X[:,1])\n",
    "    x_2 = x_1 + l_2*np.sin(X[:,2])\n",
    "    y_2 = y_1 - l_2*np.cos(X[:,2])\n",
    "    \n",
    "    x_cm = (m_0 * x_0 + m_1 * x_1 + m_2 * x_2)/(m_0 + m_1 + m_2)\n",
    "    y_cm = (m_0 * y_0 + m_1 * y_1 + m_2 * y_2)/(m_0 + m_1 + m_2)\n",
    "\n",
    "    fig.set_size_inches([draw_width,draw_height])\n",
    "    ax.set_xlim(( min_x_cart-y_scale, max_x_cart+y_scale))\n",
    "    ax.set_ylim(( -y_scale, y_scale))\n",
    "\n",
    "\n",
    "    circle1 = plt.Circle((0, 0), l_3, color='b', ls = \":\", fill=False)\n",
    "    circle2 = plt.Circle((0, 0), l_1, color='b', ls = \":\", fill=False)\n",
    "    ax.add_artist(circle1)\n",
    "    ax.add_artist(circle2)\n",
    "    ax.plot([min_x_cart - l_1-l_2, max_x_cart + l_3], [0,0], 'k', lw=1, ls = ':')\n",
    "\n",
    "    line1, = ax.plot([], [], lw=2)\n",
    "    line2, = ax.plot([], [], lw=2)\n",
    "    line3, = ax.plot([], [], 'k', lw=1, ls = ':')\n",
    "    line_cm, = ax.plot([], [], 'g', lw=1, ls = ':')\n",
    "    point0, = ax.plot([], [], marker='o', markersize=15, color=\"red\")\n",
    "    point1, = ax.plot([], [], marker='o', markersize=15, color=\"red\")\n",
    "    point2, = ax.plot([], [], marker='o', markersize=15, color=\"red\")\n",
    "    point_cm, = ax.plot([], [], marker='o', markersize=10, color=\"green\")\n",
    "    u_max = max(np.max(np.abs(U[:,0])),1e-15)\n",
    "    arrow_w = 0.05*l_3\n",
    "    arrow_l = 0.2*l_3\n",
    "    u_arrow = patches.Arrow(0, 0, 0, -arrow_l, color = 'gray',width = arrow_w)\n",
    "    ax.add_patch(u_arrow)\n",
    "    \n",
    "    print_vars = [X[:,0], X[:,1], X[:,2], U[:,0], U[:,1], U[:,2], np.linspace(0, N-1, N, dtype=int)]\n",
    "    print_var_names = ['q_0', 'q_1', 'q_2', 'u_0', 'u_1', 'u_2', 'step']\n",
    "    texts = []\n",
    "    ii = 0\n",
    "    for arr in print_vars:\n",
    "        texts.append(ax.text(0.2, ii, \"\", fontsize = 12))\n",
    "        ii -= 0.08*l_3\n",
    "    \n",
    "    def init():\n",
    "        line1.set_data([], [])\n",
    "        line2.set_data([], [])\n",
    "        line3.set_data([], [])\n",
    "        line_cm.set_data([], [])\n",
    "        point1.set_data([], [])\n",
    "        point2.set_data([], [])\n",
    "        circle1.center = (0, 0)\n",
    "        circle2.center = (0, 0)\n",
    "        return (line1,line2,)\n",
    "    def animate(i):\n",
    "        circle1.center = (x_0[i], y_0[i])\n",
    "        circle2.center = (x_0[i], y_0[i])\n",
    "        point0.set_data(x_0[i], y_0[i])  \n",
    "        point1.set_data(x_1[i], y_1[i])   \n",
    "        point2.set_data(x_2[i], y_2[i])\n",
    "        point_cm.set_data(x_cm[i], y_cm[i])\n",
    "        line1.set_data([x_0[i], x_1[i]], [y_0[i], y_1[i]])\n",
    "        line2.set_data([x_1[i], x_2[i]], [y_1[i], y_2[i]])\n",
    "        line3.set_data(x_2[:i], y_2[:i])\n",
    "        line_cm.set_data(x_cm[:i], y_cm[:i])\n",
    "        trans = Affine2D()\n",
    "        u_arrow._patch_transform = trans.scale(U[i,0] * arrow_l / u_max, arrow_w).translate(x_0[i],0)\n",
    "        for ii in range(len(texts)):\n",
    "            text = texts[ii]\n",
    "            name = print_var_names[ii]\n",
    "            arr = print_vars[ii]\n",
    "            text.set_text(\"$\" + name + \"$ = %.6f\" % arr[i])\n",
    "        return (line1,line2,)\n",
    "    anim = animation.FuncAnimation(fig, animate, init_func=init,\n",
    "                               frames=N, interval=20, \n",
    "                               blit=True)\n",
    "    return anim"
   ]
  },
  {
   "cell_type": "code",
   "execution_count": null,
   "metadata": {
    "scrolled": false
   },
   "outputs": [],
   "source": [
    "F_cas = RHS2casF(RHS[3:], 3)"
   ]
  },
  {
   "cell_type": "code",
   "execution_count": null,
   "metadata": {},
   "outputs": [],
   "source": [
    "F_cas([1,0,1,1,1,1], [0,0,0], [1,1,1,1,1,1,1])"
   ]
  },
  {
   "cell_type": "code",
   "execution_count": null,
   "metadata": {},
   "outputs": [],
   "source": [
    "F_cas"
   ]
  },
  {
   "cell_type": "code",
   "execution_count": null,
   "metadata": {},
   "outputs": [],
   "source": [
    "F_nump = RHS2numpy(RHS[3:], 3)"
   ]
  },
  {
   "cell_type": "code",
   "execution_count": null,
   "metadata": {},
   "outputs": [],
   "source": [
    "F_nump([1,0,1,1,1,1], [0,0,0], [1,1,1,1,1,1,1])"
   ]
  },
  {
   "cell_type": "code",
   "execution_count": null,
   "metadata": {},
   "outputs": [],
   "source": [
    "F_nump"
   ]
  },
  {
   "cell_type": "markdown",
   "metadata": {},
   "source": [
    "from optibot.symbolic import diff_to_symb"
   ]
  },
  {
   "cell_type": "markdown",
   "metadata": {},
   "source": [
    "E=T+U\n",
    "\n",
    "print_funcs([diff_to_symb(E, 3),], 3)"
   ]
  },
  {
   "cell_type": "code",
   "execution_count": null,
   "metadata": {},
   "outputs": [],
   "source": [
    "from optibot.numpy import unpack\n",
    "def energ(x,params):\n",
    "    q_0, q_1, q_2, v_0, v_1, v_2 = unpack(x)\n",
    "    g, k, l_1, l_2, m_0, m_1, m_2 = params\n",
    "    result = g*(-l_1*m_1*np.cos(q_1) + m_2*(-l_1*np.cos(q_1) - l_2*np.cos(q_2))) + k*(q_1 - q_2)**2/2 + m_0*v_0**2/2 + m_1*(l_1**2*v_1**2 + 2*l_1*v_0*v_1*np.cos(q_1) + v_0**2)/2 + m_2*(l_1**2*v_1**2 + 2*l_1*l_2*v_1*v_2*np.cos(q_1 - q_2) + 2*l_1*v_0*v_1*np.cos(q_1) + l_2**2*v_2**2 + 2*l_2*v_0*v_2*np.cos(q_2) + v_0**2)/2\n",
    "    \n",
    "    return result"
   ]
  },
  {
   "cell_type": "code",
   "execution_count": null,
   "metadata": {},
   "outputs": [],
   "source": [
    "N = 800"
   ]
  },
  {
   "cell_type": "code",
   "execution_count": null,
   "metadata": {},
   "outputs": [],
   "source": [
    "new_X = np.zeros([(2*N)+1,6],dtype = 'float')\n",
    "new_X[:-1,0]= new_X_interp[:,0]\n",
    "new_X[:-1,1]= new_X_interp[:,1]\n",
    "new_X[:-1,2]= new_X_interp[:,1]\n",
    "new_X[:-1,3]= new_X_interp[:,2]\n",
    "new_X[:-1,4]= new_X_interp[:,3]\n",
    "new_X[:-1,5]= new_X_interp[:,3]\n",
    "new_U = np.zeros([(2*N)+1,3],dtype = 'float')\n",
    "new_U[:-1,0]= new_U_interp[:,0]\n",
    "new_X[:-1,0]= new_X_interp[:,0]"
   ]
  },
  {
   "cell_type": "code",
   "execution_count": null,
   "metadata": {
    "scrolled": false
   },
   "outputs": [],
   "source": [
    "uu_prueba = new_U\n",
    "m_0, m_1, m_2 = [0.2, 0.2, 0.2]\n",
    "l_1, l_2 = [0.2, 0.2]\n",
    "k = 5\n",
    "g = 9.8\n",
    "dt = opt_T*1.25/(2*N)\n",
    "xx_prueba = integrate_hs(\n",
    "    new_X[0,:],\n",
    "    uu_prueba,\n",
    "    F_nump,\n",
    "    dt,\n",
    "    [g, k, l_1, l_2, m_0, m_1, m_2]\n",
    ")"
   ]
  },
  {
   "cell_type": "code",
   "execution_count": null,
   "metadata": {},
   "outputs": [],
   "source": []
  },
  {
   "cell_type": "code",
   "execution_count": null,
   "metadata": {},
   "outputs": [],
   "source": [
    "opti = cas.Opti()\n",
    "p_opts = {\"expand\":True}\n",
    "s_opts = {\"max_iter\": 3000}#, 'tol': 1e-16,}# 'linear_solver' : \"MA86\"}\n",
    "opti.solver(\"ipopt\",p_opts,\n",
    "                    s_opts)"
   ]
  },
  {
   "cell_type": "code",
   "execution_count": null,
   "metadata": {},
   "outputs": [],
   "source": [
    "X = opti.variable((2*N)+1,6)\n",
    "U = opti.variable((2*N)+1,3)\n",
    "#T = opti.parameter()\n",
    "H = opti.variable(2*N)\n",
    "u_m = opti.parameter(3)\n",
    "Params = opti.parameter(7)"
   ]
  },
  {
   "cell_type": "code",
   "execution_count": null,
   "metadata": {},
   "outputs": [],
   "source": [
    "#cost = cas.sum1(2+cas.cos(X[:,0])+cas.cos(X[:,1]))*T\n",
    "#cost = cas.sum1(cas.cos(X[:,1])) + cas.sum1(X[:,0]**2) + \n",
    "cost = cas.sum1(H*(X[1:,1]-X[1:,2])**2)\n",
    "#cost = cas.sum1(cas.cos(X[:,1]))\n",
    "opti.minimize(cost)"
   ]
  },
  {
   "cell_type": "code",
   "execution_count": null,
   "metadata": {},
   "outputs": [],
   "source": [
    "opti.subject_to(X[0,:].T == [0, 0, 0, 0, 0, 0])\n",
    "opti.subject_to(opti.bounded(-0.0001,X[-1,0],0.0001))\n",
    "opti.subject_to(cas.cos(X[-1,1]) < -0.9999)\n",
    "opti.subject_to(cas.cos(X[-1,2]) < -0.9999)\n",
    "opti.subject_to(opti.bounded(-0.0001,X[-1,3],0.0001))\n",
    "opti.subject_to(opti.bounded(-0.0001,X[-1,4],0.0001))\n",
    "opti.subject_to(opti.bounded(-0.0001,X[-1,5],0.0001))\n",
    "opti.subject_to(U[-1,:].T == [0, 0, 0])"
   ]
  },
  {
   "cell_type": "code",
   "execution_count": null,
   "metadata": {},
   "outputs": [],
   "source": [
    "#restriction = restriction2casadi(euler_restr, F_cas, 3, 3, 7)\n",
    "restriction = restriction2casadi(trapz_restr, F_cas, 3, 3, 7)\n",
    "#restriction = restriction2casadi(hs_restr, F_cas, 3, 3, 7)"
   ]
  },
  {
   "cell_type": "code",
   "execution_count": null,
   "metadata": {
    "scrolled": false
   },
   "outputs": [],
   "source": [
    "for ii in range(2*N):\n",
    "    opti.subject_to(restriction(X[ii,:], X[ii+1,:], U[ii,:], U[ii+1,:],H[ii], Params)==0)\n",
    "    opti.subject_to(opti.bounded(-u_m, U[ii, :].T,u_m))\n",
    "for ii in range((2*N)-1):\n",
    "    opti.subject_to(H[ii] == H[ii+1])\n",
    "opti.subject_to(opti.bounded(0, H, opt_T/N))"
   ]
  },
  {
   "cell_type": "markdown",
   "metadata": {},
   "source": [
    "opti.set_initial(X[:,1], np.linspace(0, cas.pi, (2*N)+1))\n",
    "opti.set_initial(X[:,2], np.linspace(0, cas.pi, (2*N)+1))\n",
    "opti.set_initial(X[:,4], cas.pi/(2*N))\n",
    "opti.set_initial(X[:,5], cas.pi/(2*N))\n",
    "opti.set_initial(U, np.zeros([(2*N)+1,3],dtype = 'float'))"
   ]
  },
  {
   "cell_type": "code",
   "execution_count": null,
   "metadata": {},
   "outputs": [],
   "source": [
    "opti.set_initial(X, new_X)\n",
    "opti.set_initial(U, new_U)"
   ]
  },
  {
   "cell_type": "code",
   "execution_count": null,
   "metadata": {},
   "outputs": [],
   "source": [
    "opti.set_initial(H, opt_T*1.25/(2*N))\n",
    "max_par_1 = 0.0\n",
    "max_par_2 = 0.0\n",
    "max_f = 2.0\n",
    "opti.set_value(u_m, [max_f, max_par_1, max_par_2])\n",
    "\n",
    "m_0, m_1, m_2 = [0.2, 0.2, 0.2]\n",
    "l_1, l_2 = [0.2, 0.2]\n",
    "k = 5\n",
    "g = 9.8\n",
    "\n",
    "opti.set_value(Params, [g, k, l_1, l_2, m_0, m_1, m_2])"
   ]
  },
  {
   "cell_type": "code",
   "execution_count": null,
   "metadata": {
    "scrolled": true
   },
   "outputs": [],
   "source": [
    "sol = opti.solve()"
   ]
  },
  {
   "cell_type": "code",
   "execution_count": null,
   "metadata": {},
   "outputs": [],
   "source": [
    "xx = sol.value(X)\n",
    "uu = sol.value(U)\n",
    "ene = energ(xx, [g, k, l_1, l_2, m_0, m_1, m_2])\n",
    "ene = np.array(ene)\n",
    "pot = np.sum(uu[:,:] * xx[:,3:], axis=1) "
   ]
  },
  {
   "cell_type": "code",
   "execution_count": null,
   "metadata": {},
   "outputs": [],
   "source": [
    "opt_T_angle = float(cas.sum1(sol.value(H)))\n",
    "work = trapz_integrate(pot, np.linspace(0, opt_T_angle, (2*N)+1)) + ene[0] "
   ]
  },
  {
   "cell_type": "code",
   "execution_count": null,
   "metadata": {},
   "outputs": [],
   "source": [
    "plt.figure(figsize=[14,10])\n",
    "plt.plot(xx[:,0], 'b')\n",
    "plt.plot(xx[:,3], 'b:')\n",
    "plt.plot(xx[:,1], 'orange')\n",
    "plt.plot(xx[:,4], 'orange', ls = ':')\n",
    "plt.plot(uu[:,0], 'g:')\n",
    "plt.plot(uu[:,1], 'r:')"
   ]
  },
  {
   "cell_type": "code",
   "execution_count": null,
   "metadata": {},
   "outputs": [],
   "source": [
    "plt.figure(figsize=[14,10])\n",
    "#plt.plot(xx[:,2], 'orange')\n",
    "plt.plot(ene, 'r:')\n",
    "#plt.plot(uu[:,0], 'g:')\n",
    "#plt.plot(uu[:,0] * xx[:,2], 'b:')\n",
    "plt.plot(work, 'b-', linewidth = 1)\n",
    "#plt.hlines([0,np.pi, -np.pi], 0, N, 'k', 'dotted')"
   ]
  },
  {
   "cell_type": "code",
   "execution_count": null,
   "metadata": {},
   "outputs": [],
   "source": [
    "pot_ene = []\n",
    "for ii in range(len(ene)-1):\n",
    "    pot_ene.append(ene[ii+1]-ene[ii])\n",
    "pot_ene = np.array(pot_ene)"
   ]
  },
  {
   "cell_type": "code",
   "execution_count": null,
   "metadata": {},
   "outputs": [],
   "source": [
    "pot_ene = num_derivative(ene, opt_T_angle / (2*N))"
   ]
  },
  {
   "cell_type": "code",
   "execution_count": null,
   "metadata": {},
   "outputs": [],
   "source": [
    "plt.figure(figsize=[14,10])\n",
    "#plt.plot(xx[:,2], 'orange')\n",
    "#plt.plot(ene.flatten(), 'r:')\n",
    "plt.plot(pot, 'g:')\n",
    "plt.plot(pot_ene, 'r:')\n",
    "#plt.plot(-uu[:,0] * xx[:,2], 'b:')\n",
    "#plt.plot(work, 'b-', linewidth = 1)\n",
    "plt.hlines([0,], 0, 2*N, 'k', 'dotted')"
   ]
  },
  {
   "cell_type": "code",
   "execution_count": null,
   "metadata": {},
   "outputs": [],
   "source": []
  },
  {
   "cell_type": "code",
   "execution_count": null,
   "metadata": {},
   "outputs": [],
   "source": [
    "new_X = xx\n",
    "new_U = uu"
   ]
  },
  {
   "cell_type": "code",
   "execution_count": null,
   "metadata": {},
   "outputs": [],
   "source": []
  },
  {
   "cell_type": "code",
   "execution_count": null,
   "metadata": {
    "scrolled": false
   },
   "outputs": [],
   "source": [
    "m_0, m_1, m_2 = [0.2, 0.2, 0.2]\n",
    "l_1, l_2 = [0.2, 0.2]\n",
    "k = 5\n",
    "g = 9.8\n",
    "\n",
    "anim_min_ang = create_anim(xx,uu,[g, k, l_1, l_2, m_0, m_1, m_2])"
   ]
  },
  {
   "cell_type": "code",
   "execution_count": null,
   "metadata": {},
   "outputs": [],
   "source": []
  },
  {
   "cell_type": "code",
   "execution_count": null,
   "metadata": {},
   "outputs": [],
   "source": []
  },
  {
   "cell_type": "code",
   "execution_count": null,
   "metadata": {},
   "outputs": [],
   "source": []
  },
  {
   "cell_type": "code",
   "execution_count": null,
   "metadata": {},
   "outputs": [],
   "source": [
    "opti = cas.Opti()\n",
    "p_opts = {\"expand\":True}\n",
    "s_opts = {\"max_iter\": 3000}#, 'tol': 1e-16,}# 'linear_solver' : \"MA86\"}\n",
    "opti.solver(\"ipopt\",p_opts,\n",
    "                    s_opts)"
   ]
  },
  {
   "cell_type": "code",
   "execution_count": null,
   "metadata": {},
   "outputs": [],
   "source": [
    "X = opti.variable((2*N)+1,6)\n",
    "U = opti.variable((2*N)+1,3)\n",
    "#T = opti.parameter()\n",
    "H = opti.variable(2*N)\n",
    "u_m = opti.parameter(3)\n",
    "Params = opti.parameter(7)"
   ]
  },
  {
   "cell_type": "code",
   "execution_count": null,
   "metadata": {},
   "outputs": [],
   "source": [
    "#cost = cas.sum1(2+cas.cos(X[:,0])+cas.cos(X[:,1]))*T\n",
    "#cost = cas.sum1(cas.cos(X[:,1])) + cas.sum1(X[:,0]**2) + \n",
    "cost = cas.sum1(H)\n",
    "#cost = cas.sum1(cas.cos(X[:,1]))\n",
    "opti.minimize(cost)"
   ]
  },
  {
   "cell_type": "code",
   "execution_count": null,
   "metadata": {},
   "outputs": [],
   "source": [
    "opti.subject_to(X[0,:].T == [0, 0, 0, 0, 0, 0])\n",
    "opti.subject_to(opti.bounded(-0.0001,X[-1,0],0.0001))\n",
    "opti.subject_to(cas.cos(X[-1,1]) < -0.9999)\n",
    "opti.subject_to(cas.cos(X[-1,2]) < -0.9999)\n",
    "opti.subject_to(opti.bounded(-0.0001,X[-1,3],0.0001))\n",
    "opti.subject_to(opti.bounded(-0.0001,X[-1,4],0.0001))\n",
    "opti.subject_to(opti.bounded(-0.0001,X[-1,5],0.0001))\n",
    "opti.subject_to(U[-1,:].T == [0, 0, 0])"
   ]
  },
  {
   "cell_type": "code",
   "execution_count": null,
   "metadata": {},
   "outputs": [],
   "source": [
    "#restriction = restriction2casadi(euler_restr, F_cas, 3, 3, 7)\n",
    "restriction = restriction2casadi(trapz_restr, F_cas, 3, 3, 7)\n",
    "#restriction = restriction2casadi(hs_restr, F_cas, 3, 3, 7)"
   ]
  },
  {
   "cell_type": "code",
   "execution_count": null,
   "metadata": {
    "scrolled": false
   },
   "outputs": [],
   "source": [
    "for ii in range(2*N):\n",
    "    opti.subject_to(restriction(X[ii,:], X[ii+1,:], U[ii,:], U[ii+1,:],H[ii], Params)==0)\n",
    "    opti.subject_to(opti.bounded(-u_m, U[ii, :].T,u_m))\n",
    "for ii in range((2*N)-1):\n",
    "    opti.subject_to(H[ii] == H[ii+1])\n",
    "opti.subject_to(H > 0)"
   ]
  },
  {
   "cell_type": "code",
   "execution_count": null,
   "metadata": {},
   "outputs": [],
   "source": [
    "opti.set_initial(X[:,1], np.linspace(0, cas.pi, (2*N)+1))\n",
    "opti.set_initial(X[:,2], np.linspace(0, cas.pi, (2*N)+1))\n",
    "opti.set_initial(X[:,4], cas.pi/(2*N))\n",
    "opti.set_initial(X[:,5], cas.pi/(2*N))\n",
    "opti.set_initial(U, np.zeros([(2*N)+1,3],dtype = 'float'))"
   ]
  },
  {
   "cell_type": "code",
   "execution_count": null,
   "metadata": {},
   "outputs": [],
   "source": [
    "opti.set_initial(X, new_X)\n",
    "opti.set_initial(U, new_U)"
   ]
  },
  {
   "cell_type": "code",
   "execution_count": null,
   "metadata": {},
   "outputs": [],
   "source": [
    "opti.set_initial(H, opt_T*1.25/(2*N))\n",
    "max_par_1 = 0.0\n",
    "max_par_2 = 0.0\n",
    "max_f = 2.0\n",
    "opti.set_value(u_m, [max_f, max_par_1, max_par_2])\n",
    "\n",
    "m_0, m_1, m_2 = [0.2, 0.2, 0.2]\n",
    "l_1, l_2 = [0.2, 0.2]\n",
    "k = 5\n",
    "g = 9.8\n",
    "\n",
    "opti.set_value(Params, [g, k, l_1, l_2, m_0, m_1, m_2])"
   ]
  },
  {
   "cell_type": "code",
   "execution_count": null,
   "metadata": {
    "scrolled": true
   },
   "outputs": [],
   "source": [
    "sol = opti.solve()"
   ]
  },
  {
   "cell_type": "code",
   "execution_count": null,
   "metadata": {},
   "outputs": [],
   "source": [
    "xx_t = sol.value(X)\n",
    "uu_t = sol.value(U)\n",
    "ene_t = energ(xx, [g, k, l_1, l_2, m_0, m_1, m_2])\n",
    "ene_t = np.array(ene_t)\n",
    "pot_t = np.sum(uu_t[:,:] * xx_t[:,3:], axis=1) "
   ]
  },
  {
   "cell_type": "code",
   "execution_count": null,
   "metadata": {},
   "outputs": [],
   "source": []
  },
  {
   "cell_type": "code",
   "execution_count": null,
   "metadata": {},
   "outputs": [],
   "source": []
  },
  {
   "cell_type": "code",
   "execution_count": null,
   "metadata": {},
   "outputs": [],
   "source": []
  },
  {
   "cell_type": "code",
   "execution_count": null,
   "metadata": {
    "scrolled": false
   },
   "outputs": [],
   "source": [
    "m_0, m_1, m_2 = [0.2, 0.2, 0.2]\n",
    "l_1, l_2 = [0.2, 0.2]\n",
    "k = 5\n",
    "g = 9.8\n",
    "\n",
    "anim_min_t = create_anim(xx_t,uu_t,[g, k, l_1, l_2, m_0, m_1, m_2])"
   ]
  },
  {
   "cell_type": "code",
   "execution_count": null,
   "metadata": {},
   "outputs": [],
   "source": [
    "HTML(anim_min_ang.to_jshtml())"
   ]
  },
  {
   "cell_type": "code",
   "execution_count": null,
   "metadata": {},
   "outputs": [],
   "source": [
    "HTML(anim_min_t.to_jshtml())"
   ]
  },
  {
   "cell_type": "code",
   "execution_count": null,
   "metadata": {},
   "outputs": [],
   "source": [
    "opt_T_2 = float(cas.sum1(sol.value(H)))\n",
    "opt_T_2"
   ]
  },
  {
   "cell_type": "code",
   "execution_count": null,
   "metadata": {},
   "outputs": [],
   "source": [
    "opt_T_angle"
   ]
  },
  {
   "cell_type": "code",
   "execution_count": null,
   "metadata": {},
   "outputs": [],
   "source": [
    "np.argmax(np.abs(xx_t[:,2]-xx_t[:,1]))"
   ]
  },
  {
   "cell_type": "code",
   "execution_count": null,
   "metadata": {},
   "outputs": [],
   "source": [
    "plt.figure(figsize=[20,12])\n",
    "plt.plot(np.linspace(0, opt_T_angle, 2*N +1),xx[:,2]-xx[:,1], '.')\n",
    "plt.plot(np.linspace(0, opt_T_2, 2*N +1),xx_t[:,2]-xx_t[:,1])\n",
    "plt.hlines(0, 0, opt_T_angle, 'k',linestyles='dotted')\n",
    "plt.vlines([opt_T_2, opt_T_angle],-0.1, 0.1, 'k',linestyles='dotted')\n",
    "plt.grid()"
   ]
  },
  {
   "cell_type": "code",
   "execution_count": null,
   "metadata": {},
   "outputs": [],
   "source": []
  },
  {
   "cell_type": "code",
   "execution_count": null,
   "metadata": {},
   "outputs": [],
   "source": []
  },
  {
   "cell_type": "markdown",
   "metadata": {},
   "source": [
    "## Pruebas de casos especiales del sistema"
   ]
  },
  {
   "cell_type": "code",
   "execution_count": null,
   "metadata": {},
   "outputs": [],
   "source": [
    "m_0, m_1, m_2 = [0.2, 0.2, 0.2]\n",
    "l_1, l_2 = [0.2, 0.2]\n",
    "k = 5\n",
    "g = 9.8\n",
    "dt = 0.005"
   ]
  },
  {
   "cell_type": "code",
   "execution_count": null,
   "metadata": {},
   "outputs": [],
   "source": [
    "uu_prueba = np.zeros([200, 3])\n",
    "xx_prueba_eu = integrate_euler(\n",
    "    np.array([0, 1, 1.1,0,0,0]),\n",
    "    uu_prueba,\n",
    "    F_nump,\n",
    "    dt,\n",
    "    [g, k, l_1, l_2, m_0, m_1, m_2]\n",
    ")"
   ]
  },
  {
   "cell_type": "code",
   "execution_count": null,
   "metadata": {
    "scrolled": false
   },
   "outputs": [],
   "source": [
    "anim_prueba_eu = create_anim(np.array(xx_prueba_eu)[:-1],uu_prueba,[g, k, l_1, l_2, m_0, m_1, m_2])"
   ]
  },
  {
   "cell_type": "code",
   "execution_count": null,
   "metadata": {},
   "outputs": [],
   "source": [
    "HTML(anim_prueba_eu.to_jshtml())"
   ]
  },
  {
   "cell_type": "code",
   "execution_count": null,
   "metadata": {},
   "outputs": [],
   "source": [
    "m_0, m_1, m_2 = [0.2, 0.2, 0.2]\n",
    "l_1, l_2 = [0.2, 0.2]\n",
    "k = 25\n",
    "g = 9.8\n",
    "dt = 0.005"
   ]
  },
  {
   "cell_type": "code",
   "execution_count": null,
   "metadata": {},
   "outputs": [],
   "source": [
    "uu_prueba = np.zeros([200, 3])\n",
    "xx_prueba = integrate_hs(\n",
    "    np.array([0, 1, 1.1,0,0,0]),\n",
    "    uu_prueba,\n",
    "    F_nump,\n",
    "    dt,\n",
    "    [g, k, l_1, l_2, m_0, m_1, m_2]\n",
    ")"
   ]
  },
  {
   "cell_type": "code",
   "execution_count": null,
   "metadata": {
    "scrolled": false
   },
   "outputs": [],
   "source": [
    "anim_prueba = create_anim(np.array(xx_prueba)[:-1],uu_prueba,[g, k, l_1, l_2, m_0, m_1, m_2])"
   ]
  },
  {
   "cell_type": "code",
   "execution_count": null,
   "metadata": {},
   "outputs": [],
   "source": [
    "HTML(anim_prueba.to_jshtml())"
   ]
  },
  {
   "cell_type": "code",
   "execution_count": null,
   "metadata": {},
   "outputs": [],
   "source": []
  },
  {
   "cell_type": "code",
   "execution_count": null,
   "metadata": {},
   "outputs": [],
   "source": []
  },
  {
   "cell_type": "code",
   "execution_count": null,
   "metadata": {},
   "outputs": [],
   "source": []
  },
  {
   "cell_type": "code",
   "execution_count": null,
   "metadata": {},
   "outputs": [],
   "source": []
  }
 ],
 "metadata": {
  "kernelspec": {
   "display_name": "Python 3",
   "language": "python",
   "name": "python3"
  },
  "language_info": {
   "codemirror_mode": {
    "name": "ipython",
    "version": 3
   },
   "file_extension": ".py",
   "mimetype": "text/x-python",
   "name": "python",
   "nbconvert_exporter": "python",
   "pygments_lexer": "ipython3",
   "version": "3.9.5"
  }
 },
 "nbformat": 4,
 "nbformat_minor": 2
}
