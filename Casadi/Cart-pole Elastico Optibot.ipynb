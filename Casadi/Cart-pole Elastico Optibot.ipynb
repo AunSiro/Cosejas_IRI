{
 "cells": [
  {
   "cell_type": "markdown",
   "metadata": {},
   "source": [
    "# Step 1: mechanics with Euler-Lagrange"
   ]
  },
  {
   "cell_type": "code",
   "execution_count": null,
   "metadata": {},
   "outputs": [],
   "source": [
    "import numpy as np\n",
    "import matplotlib.pyplot as plt\n",
    "from mpl_toolkits import mplot3d\n",
    "\n",
    "from numpy import logical_and as npand\n",
    "from numpy import logical_or as npor\n",
    "import matplotlib"
   ]
  },
  {
   "cell_type": "code",
   "execution_count": null,
   "metadata": {},
   "outputs": [],
   "source": [
    "from sympy import (symbols, pi, I, E, cos, sin, exp, tan, simplify, expand, factor, collect,\n",
    "                   apart, cancel, expand_trig, diff, Derivative, Function, integrate, limit,\n",
    "                   series, Eq, solve, dsolve, Matrix, N, preorder_traversal, Float, solve_linear_system,\n",
    "                   eye, zeros, lambdify, Symbol,hessian)\n",
    "from sympy.physics.mechanics import dynamicsymbols, init_vprinting"
   ]
  },
  {
   "cell_type": "code",
   "execution_count": null,
   "metadata": {},
   "outputs": [],
   "source": [
    "from sympy.physics.mechanics import LagrangesMethod, Lagrangian, ReferenceFrame, Point, Particle"
   ]
  },
  {
   "cell_type": "code",
   "execution_count": null,
   "metadata": {},
   "outputs": [],
   "source": [
    "from matplotlib import animation, rc\n",
    "import matplotlib.patches as patches\n",
    "from matplotlib.transforms import Affine2D\n",
    "from IPython.display import HTML"
   ]
  },
  {
   "cell_type": "code",
   "execution_count": null,
   "metadata": {},
   "outputs": [],
   "source": [
    "from optibot.symbolic import lagrange, diff_to_symb\n",
    "from optibot.numpy import unpack"
   ]
  },
  {
   "cell_type": "code",
   "execution_count": null,
   "metadata": {},
   "outputs": [],
   "source": [
    "matplotlib.rcParams['animation.embed_limit'] = 200"
   ]
  },
  {
   "cell_type": "code",
   "execution_count": null,
   "metadata": {},
   "outputs": [],
   "source": [
    "init_vprinting()"
   ]
  },
  {
   "cell_type": "code",
   "execution_count": null,
   "metadata": {},
   "outputs": [],
   "source": [
    "m0, m1, m2, l1, l2, l3, t, g, k = symbols('m_0 m_1 m_2 l_1 l_2 l_3 t g k')"
   ]
  },
  {
   "cell_type": "code",
   "execution_count": null,
   "metadata": {},
   "outputs": [],
   "source": [
    "q0, q1, q2 = dynamicsymbols('q_0 q_1 q_2')\n",
    "q0, q1, q2"
   ]
  },
  {
   "cell_type": "code",
   "execution_count": null,
   "metadata": {},
   "outputs": [],
   "source": [
    "N = ReferenceFrame('N')\n",
    "pN = Point('N*')\n",
    "pN.set_vel(N, 0)\n",
    "\n",
    "P = pN.locatenew('P', q0 * N.x)\n",
    "P.set_vel(N, q0.diff(t) * N.x)\n",
    "cart_part = Particle('CartPart', P, m0)\n",
    "cart_part.potential_energy = m0 * g * P.pos_from(pN).dot(N.y)\n",
    "\n",
    "N1 = N.orientnew('N1', 'Axis', [q1, N.z])\n",
    "P1 = P.locatenew('P1', -l1*N1.y)\n",
    "P1.set_vel(N, P1.pos_from(pN).dt(N))\n",
    "\n",
    "pend_part_1 = Particle('PendPart', P1, m1)\n",
    "pend_part_1.potential_energy = (m1 * g * P1.pos_from(pN).dot(N.y) + k*(q1-q2)**2/2)\n",
    "\n",
    "N2 = N.orientnew('N2', 'Axis', [q2, N.z])\n",
    "P2 = P1.locatenew('P2', -l2*N2.y)\n",
    "P2.set_vel(N, P2.pos_from(pN).dt(N))\n",
    "\n",
    "pend_part_2 = Particle('PendPart', P2, m2)\n",
    "pend_part_2.potential_energy = m2 * g * P2.pos_from(pN).dot(N.y)"
   ]
  },
  {
   "cell_type": "code",
   "execution_count": null,
   "metadata": {},
   "outputs": [],
   "source": [
    "Lag = simplify(Lagrangian(N, cart_part, pend_part_1, pend_part_2))\n",
    "Lag"
   ]
  },
  {
   "cell_type": "code",
   "execution_count": null,
   "metadata": {},
   "outputs": [],
   "source": [
    "u0, u1, u2 = symbols('u_0 u_1 u_2')\n",
    "FL = [(P, u0 * N.x), (N1, u1 * N.z), (N2, u2 * N.z)]\n",
    "#LM_ej = LagrangesMethod(Lag, [q0, q1, q2], forcelist=FL, frame=N)"
   ]
  },
  {
   "cell_type": "code",
   "execution_count": null,
   "metadata": {},
   "outputs": [],
   "source": [
    "from optibot.symbolic import SimpLagrangesMethod"
   ]
  },
  {
   "cell_type": "code",
   "execution_count": null,
   "metadata": {
    "scrolled": true
   },
   "outputs": [],
   "source": [
    "LM_simp = SimpLagrangesMethod(Lag, [q0, q1, q2], forcelist=FL, frame=N)"
   ]
  },
  {
   "cell_type": "code",
   "execution_count": null,
   "metadata": {},
   "outputs": [],
   "source": [
    "LM_simp.form_lagranges_equations()"
   ]
  },
  {
   "cell_type": "code",
   "execution_count": null,
   "metadata": {},
   "outputs": [],
   "source": [
    "RHS = LM_simp.rhs\n",
    "RHS"
   ]
  },
  {
   "cell_type": "code",
   "execution_count": null,
   "metadata": {},
   "outputs": [],
   "source": [
    "from optibot.symbolic import get_lagr_eqs, lagr_to_RHS, print_funcs"
   ]
  },
  {
   "cell_type": "code",
   "execution_count": null,
   "metadata": {},
   "outputs": [],
   "source": [
    "N = ReferenceFrame('N')\n",
    "pN = Point('N*')\n",
    "pN.set_vel(N, 0)\n",
    "\n",
    "P = pN.locatenew('P', q0 * N.x)\n",
    "P.set_vel(N, q0.diff(t) * N.x)\n",
    "cart_part = Particle('CartPart', P, m0)\n",
    "cart_part.potential_energy = m0 * g * P.pos_from(pN).dot(N.y)\n",
    "\n",
    "N2 = N.orientnew('N2', 'Axis', [q1, N.z])\n",
    "P1 = P.locatenew('P1', -l3*N2.y)\n",
    "P1.set_vel(N, P1.pos_from(pN).dt(N))\n",
    "\n",
    "pend_part = Particle('PendPart', P1, m2)\n",
    "pend_part.potential_energy = m2 * g * P1.pos_from(pN).dot(N.y)"
   ]
  },
  {
   "cell_type": "code",
   "execution_count": null,
   "metadata": {},
   "outputs": [],
   "source": [
    "Lag_simp = Lagrangian(N, cart_part, pend_part)\n",
    "Lag_simp"
   ]
  },
  {
   "cell_type": "code",
   "execution_count": null,
   "metadata": {},
   "outputs": [],
   "source": [
    "u0, u1 = symbols('u_0, u_1')\n",
    "FL = [(P, u0 * N.x), (N2, u1 * N.z)]\n",
    "LM_small = SimpLagrangesMethod(Lag_simp, [q0, q1], forcelist=FL, frame=N)"
   ]
  },
  {
   "cell_type": "code",
   "execution_count": null,
   "metadata": {},
   "outputs": [],
   "source": [
    "LM_small.form_lagranges_equations()\n",
    "RHS_small = simplify(LM_small.rhs)\n",
    "RHS_small"
   ]
  },
  {
   "cell_type": "code",
   "execution_count": null,
   "metadata": {},
   "outputs": [],
   "source": [
    "LM_small.eom[0]"
   ]
  },
  {
   "cell_type": "code",
   "execution_count": null,
   "metadata": {},
   "outputs": [],
   "source": [
    "print_funcs([LM_small.eom[0]], 2)"
   ]
  },
  {
   "cell_type": "code",
   "execution_count": null,
   "metadata": {},
   "outputs": [],
   "source": [
    "print_funcs([LM_small.eom[1]], 2)"
   ]
  },
  {
   "cell_type": "code",
   "execution_count": null,
   "metadata": {},
   "outputs": [],
   "source": [
    "def lagr_f_simp_0(x, params, ):\n",
    "    q_0, q_1, v_0, v_1 = unpack(x)\n",
    "    a_0, a_1, l_3, m_0, m_2 = params\n",
    "    result = a_0*m_0 + a_0*m_2 + a_1*l_3*m_2*np.cos(q_1) - l_3*m_2*v_1**2*np.sin(q_1)\n",
    "\n",
    "    return result\n",
    "\n",
    "def lagr_f_simp_1(x, params, ):\n",
    "    q_0, q_1, v_0, v_1 = unpack(x)\n",
    "    a_0, a_1, g, l_3, m_2 = params\n",
    "    result = a_0*l_3*m_2*np.cos(q_1) + a_1*l_3**2*m_2 + g*l_3*m_2*np.sin(q_1)\n",
    "\n",
    "    return result\n",
    "\n"
   ]
  },
  {
   "cell_type": "markdown",
   "metadata": {},
   "source": [
    "## Casadi"
   ]
  },
  {
   "cell_type": "code",
   "execution_count": null,
   "metadata": {},
   "outputs": [],
   "source": [
    "import casadi as cas"
   ]
  },
  {
   "cell_type": "code",
   "execution_count": null,
   "metadata": {},
   "outputs": [],
   "source": [
    "from optibot.casadi import RHS2casF"
   ]
  },
  {
   "cell_type": "code",
   "execution_count": null,
   "metadata": {},
   "outputs": [],
   "source": [
    "from optibot.numpy import RHS2numpy, trapz_integrate, num_derivative"
   ]
  },
  {
   "cell_type": "code",
   "execution_count": null,
   "metadata": {},
   "outputs": [],
   "source": [
    "from optibot.schemes import euler_restr, trapz_restr, trapz_mod_restr, hs_mod_restr, hs_restr\n",
    "from optibot.casadi import restriction2casadi"
   ]
  },
  {
   "cell_type": "code",
   "execution_count": null,
   "metadata": {},
   "outputs": [],
   "source": [
    "from optibot.schemes import integrate_euler, integrate_hs, integrate_trapz, integrate_rk4"
   ]
  },
  {
   "cell_type": "markdown",
   "metadata": {},
   "source": [
    "### Cartpole simple"
   ]
  },
  {
   "cell_type": "code",
   "execution_count": null,
   "metadata": {},
   "outputs": [],
   "source": [
    "def create_anim_simp(X, U, params):\n",
    "    g, l_3, m_0, m_2 = params\n",
    "    N = X.shape[0]\n",
    "    fig, ax = plt.subplots()\n",
    "    \n",
    "    y_scale = l_3 * 1.25\n",
    "    min_x_cart = np.min(X[:,0])\n",
    "    max_x_cart = np.max(X[:,0])\n",
    "    cart_displ = max_x_cart-min_x_cart\n",
    "    size_x = 2*y_scale + cart_displ\n",
    "    size_y = 2*y_scale\n",
    "    draw_width = 14\n",
    "    draw_height = draw_width / size_x * size_y\n",
    "    \n",
    "    x_0 = X[:,0]\n",
    "    y_0 = np.zeros_like(x_0)\n",
    "    x_1 = x_0 + l_3*np.sin(X[:,1])\n",
    "    y_1 = y_0 - l_3*np.cos(X[:,1])\n",
    "    \n",
    "    x_cm = (m_0 * x_0 + m_2 * x_1)/(m_0 + m_2)\n",
    "    y_cm = (m_0 * y_0 + m_2 * y_1)/(m_0 + m_2)\n",
    "\n",
    "    fig.set_size_inches([draw_width,draw_height])\n",
    "    ax.set_xlim(( min_x_cart-y_scale, max_x_cart+y_scale))\n",
    "    ax.set_ylim(( -y_scale, y_scale))\n",
    "\n",
    "    circle1 = plt.Circle((0, 0), l_3, color='b', ls = \":\", fill=False)\n",
    "    ax.add_artist(circle1)\n",
    "    ax.plot([min_x_cart - l_3, max_x_cart + l_3], [0,0], 'k', lw=1, ls = ':')\n",
    "\n",
    "    line1, = ax.plot([], [], lw=2)\n",
    "    line3, = ax.plot([], [], 'k', lw=1, ls = ':')\n",
    "    line_cm, = ax.plot([], [], 'g', lw=1, ls = ':')\n",
    "    point0, = ax.plot([], [], marker='o', markersize=15, color=\"red\")\n",
    "    point1, = ax.plot([], [], marker='o', markersize=15, color=\"red\")\n",
    "    point_cm, = ax.plot([], [], marker='o', markersize=10, color=\"green\")\n",
    "    u_max = max(np.max(np.abs(U[:,0])),1e-15)\n",
    "    arrow_w = 0.05*l_3\n",
    "    arrow_l = 0.2*l_3\n",
    "    u_arrow = patches.Arrow(0, 0, 0, -arrow_l, color = 'gray',width = arrow_w)\n",
    "    ax.add_patch(u_arrow)\n",
    "    \n",
    "    print_vars = [X[:,0], X[:,1], U[:,0], U[:,1], np.linspace(0, N-1, N, dtype=int)]\n",
    "    print_var_names = ['q_0', 'q_1', 'u_0', 'u_1', 'step']\n",
    "    texts = []\n",
    "    ii = 0\n",
    "    for arr in print_vars:\n",
    "        texts.append(ax.text(0.2, ii, \"\", fontsize = 12))\n",
    "        ii -= 0.08*l_3\n",
    "    \n",
    "    def init():\n",
    "        line1.set_data([], [])\n",
    "        line3.set_data([], [])\n",
    "        line_cm.set_data([], [])\n",
    "        point1.set_data([], [])\n",
    "        circle1.center = (0, 0)\n",
    "        return (line1,)\n",
    "    def animate(i):\n",
    "        circle1.center = (x_0[i], y_0[i])\n",
    "        point0.set_data(x_0[i], y_0[i])\n",
    "        line1.set_data([x_0[i], x_1[i]], [y_0[i], y_1[i]])    \n",
    "        point1.set_data(x_1[i], y_1[i])\n",
    "        point_cm.set_data(x_cm[i], y_cm[i])\n",
    "        line3.set_data(x_1[:i], y_1[:i])\n",
    "        line_cm.set_data(x_cm[:i], y_cm[:i])\n",
    "        trans = Affine2D()\n",
    "        u_arrow._patch_transform = trans.scale(U[i,0] * arrow_l / u_max, arrow_w).translate(x_0[i],0)\n",
    "        for ii in range(len(texts)):\n",
    "            text = texts[ii]\n",
    "            name = print_var_names[ii]\n",
    "            arr = print_vars[ii]\n",
    "            text.set_text(\"$\" + name + \"$ = %.6f\" % arr[i])\n",
    "        return (line1,u_arrow)\n",
    "    anim = animation.FuncAnimation(fig, animate, init_func=init,\n",
    "                               frames=N, interval=20, \n",
    "                               blit=True)\n",
    "    return anim"
   ]
  },
  {
   "cell_type": "code",
   "execution_count": null,
   "metadata": {
    "scrolled": false
   },
   "outputs": [],
   "source": [
    "F_cas_simp = RHS2casF(RHS_small[2:], 2)"
   ]
  },
  {
   "cell_type": "code",
   "execution_count": null,
   "metadata": {
    "scrolled": true
   },
   "outputs": [],
   "source": [
    "F_cas_simp([1,1,1,1], [1,1], [1,1,1,1])"
   ]
  },
  {
   "cell_type": "code",
   "execution_count": null,
   "metadata": {},
   "outputs": [],
   "source": [
    "F_nump_simp = RHS2numpy(RHS_small[2:], 2)"
   ]
  },
  {
   "cell_type": "code",
   "execution_count": null,
   "metadata": {
    "scrolled": true
   },
   "outputs": [],
   "source": [
    "F_nump_simp([1,1,1,1], [1,1], [1,1,1,1])"
   ]
  },
  {
   "cell_type": "markdown",
   "metadata": {},
   "source": [
    "### Generate initial solution"
   ]
  },
  {
   "cell_type": "code",
   "execution_count": null,
   "metadata": {},
   "outputs": [],
   "source": [
    "from optibot.schemes import trapz_step, hs_mod_step"
   ]
  },
  {
   "cell_type": "code",
   "execution_count": null,
   "metadata": {},
   "outputs": [],
   "source": [
    "x_0 = np.array([0, np.pi, 0, 0])\n",
    "f_max = 1\n",
    "u_0 = np.array([f_max, 0])\n",
    "\n",
    "m_0, m_2 = [0.2, 0.4]\n",
    "l_3 = 0.3\n",
    "g = 9.8\n",
    "params = [g, l_3, m_0, m_2]\n",
    "\n",
    "dt = 0.01\n",
    "\n",
    "#x_1 = trapz_step(x_0, u_0, u_0, F_nump_simp, dt, params)\n",
    "x_1 = hs_mod_step(x_0, u_0, u_0, F_nump_simp, dt, params)\n",
    "x_1"
   ]
  },
  {
   "cell_type": "code",
   "execution_count": null,
   "metadata": {},
   "outputs": [],
   "source": [
    "x = [x_0, x_1,]\n",
    "u = [u_0, u_0,]\n",
    "\n",
    "for ii in range(799):\n",
    "    x_i = x[-1]\n",
    "    u_i = u[-1]\n",
    "    nat_x_n = hs_mod_step(x_i, u_i, np.array([0.,0.]), F_nump_simp, dt, params)\n",
    "    v_med = (x_i[2] + nat_x_n[2])/2\n",
    "    u_n = np.array([-f_max*np.sign(v_med), 0.])\n",
    "    x_n = trapz_step(x_i, u_i, u_n, F_nump_simp, dt, params)\n",
    "    x.append(x_n)\n",
    "    u.append(u_n)\n",
    "x = np.array(x)\n",
    "u = np.array(u)\n",
    "    "
   ]
  },
  {
   "cell_type": "code",
   "execution_count": null,
   "metadata": {},
   "outputs": [],
   "source": [
    "anim_simp = create_anim_simp(x,u,[g, l_3, m_0, m_2])"
   ]
  },
  {
   "cell_type": "code",
   "execution_count": null,
   "metadata": {},
   "outputs": [],
   "source": [
    "HTML(anim_simp.to_jshtml())"
   ]
  },
  {
   "cell_type": "code",
   "execution_count": null,
   "metadata": {},
   "outputs": [],
   "source": [
    "N = 800\n",
    "\n",
    "opti = cas.Opti()\n",
    "p_opts = {\"expand\":True}\n",
    "s_opts = {\"max_iter\": 10000, 'tol': 1e-16,}# 'linear_solver' : \"MA86\"}\n",
    "opti.solver(\"ipopt\",p_opts,\n",
    "                    s_opts)\n",
    "\n",
    "X = opti.variable(N+1,4)\n",
    "U = opti.variable(N+1,2)\n",
    "T = opti.parameter()\n",
    "u_m = opti.parameter(2)\n",
    "\n",
    "Params = opti.parameter(4)\n",
    "\n",
    "#cost = cas.sum1(2+cas.cos(X[:,0])+cas.cos(X[:,1]))*T\n",
    "cost = cas.sum1(-cas.cos(X[:,1])) + cas.sum1(X[:,0]**2) + cas.sum1(cas.sin(X[:,1])**2)\n",
    "#cost = cas.sum1(cas.cos(X[:,1]))\n",
    "#cost = T\n",
    "opti.minimize(cost)\n",
    "\n",
    "opti.subject_to(X[0,:].T == [0, np.pi, 0, 0])\n",
    "opti.subject_to(opti.bounded(-0.0001,X[-1,0],0.0001))\n",
    "opti.subject_to(cas.cos(X[-1,1]) > 0.9999)\n",
    "opti.subject_to(opti.bounded(-0.0001,X[-1,2],0.0001))\n",
    "opti.subject_to(opti.bounded(-0.0001,X[-1,3],0.0001))\n",
    "opti.subject_to(U[-1,:].T == [0, 0])\n",
    "\n",
    "#restriction = restriction2casadi(euler_restr, F_cas, 2, 2, 4)\n",
    "#restriction = restriction2casadi(trapz_restr, F_cas_simp, 2, 2, 4)\n",
    "restriction = restriction2casadi(trapz_mod_restr, F_cas_simp, 2, 2, 4)\n",
    "\n",
    "for ii in range(N):\n",
    "    opti.subject_to(restriction(X[ii,:], X[ii+1,:], U[ii,:], U[ii+1,:],T/N, Params)==0)\n",
    "    opti.subject_to(opti.bounded(-u_m[0],U[ii, 0],u_m[0]))\n",
    "    opti.subject_to(opti.bounded(-u_m[1],U[ii, 1],u_m[1]))\n",
    "\n",
    "opti.set_initial(X, x)\n",
    "opti.set_initial(U, u)"
   ]
  },
  {
   "cell_type": "code",
   "execution_count": null,
   "metadata": {},
   "outputs": [],
   "source": [
    "opti.set_value(T, dt*(N+1))\n",
    "max_par_1 = 0.0\n",
    "max_f = 1.0\n",
    "opti.set_value(u_m, [max_f, max_par_1])\n",
    "\n",
    "m_0, m_2 = [0.2, 0.4]\n",
    "l_3 = 0.3\n",
    "g = 9.8\n",
    "\n",
    "opti.set_value(Params, [g, l_3, m_0, m_2])"
   ]
  },
  {
   "cell_type": "code",
   "execution_count": null,
   "metadata": {
    "scrolled": true
   },
   "outputs": [],
   "source": [
    "sol = opti.solve()"
   ]
  },
  {
   "cell_type": "code",
   "execution_count": null,
   "metadata": {},
   "outputs": [],
   "source": [
    "xx_simp = sol.value(X)\n",
    "uu_simp = sol.value(U) "
   ]
  },
  {
   "cell_type": "code",
   "execution_count": null,
   "metadata": {},
   "outputs": [],
   "source": []
  },
  {
   "cell_type": "code",
   "execution_count": null,
   "metadata": {},
   "outputs": [],
   "source": []
  },
  {
   "cell_type": "code",
   "execution_count": null,
   "metadata": {},
   "outputs": [],
   "source": [
    "new_X_simp = xx_simp\n",
    "new_U_simp = uu_simp"
   ]
  },
  {
   "cell_type": "code",
   "execution_count": null,
   "metadata": {},
   "outputs": [],
   "source": []
  },
  {
   "cell_type": "code",
   "execution_count": null,
   "metadata": {},
   "outputs": [],
   "source": []
  },
  {
   "cell_type": "code",
   "execution_count": null,
   "metadata": {
    "scrolled": false
   },
   "outputs": [],
   "source": [
    "anim_simp = create_anim_simp(xx_simp,uu_simp,[g, l_3, m_0, m_2])"
   ]
  },
  {
   "cell_type": "code",
   "execution_count": null,
   "metadata": {
    "scrolled": false
   },
   "outputs": [],
   "source": [
    "HTML(anim_simp.to_jshtml())"
   ]
  },
  {
   "cell_type": "code",
   "execution_count": null,
   "metadata": {},
   "outputs": [],
   "source": [
    "_n = 360\n",
    "_n_int = 40\n",
    "print(new_X_simp[_n:_n+_n_int,:])"
   ]
  },
  {
   "cell_type": "code",
   "execution_count": null,
   "metadata": {},
   "outputs": [],
   "source": [
    "print(new_X_simp[_n:_n+_n_int,0]**2 + 1 \n",
    "      - np.cos(new_X_simp[_n:_n+_n_int,1]) \n",
    "      + new_X_simp[_n:_n+_n_int,2]**2 \n",
    "      + new_X_simp[_n:_n+_n_int,3]**2)"
   ]
  },
  {
   "cell_type": "code",
   "execution_count": null,
   "metadata": {},
   "outputs": [],
   "source": [
    "_n = 0\n",
    "_n_int = 430\n",
    "plt.figure(figsize=[12,8])\n",
    "plt.plot(new_X_simp[_n:_n+_n_int,0]**2 + 1 \n",
    "      - np.cos(new_X_simp[_n:_n+_n_int,1]) \n",
    "      + new_X_simp[_n:_n+_n_int,2]**2 \n",
    "      + new_X_simp[_n:_n+_n_int,3]**2)\n",
    "plt.grid()"
   ]
  },
  {
   "cell_type": "code",
   "execution_count": null,
   "metadata": {},
   "outputs": [],
   "source": [
    "_n = 0\n",
    "_n_int = 430\n",
    "plt.figure(figsize=[12,8])\n",
    "plt.plot(new_X_simp[_n:_n+_n_int,0]**2 + 1 \n",
    "      - np.cos(new_X_simp[_n:_n+_n_int,1]) \n",
    "      + new_X_simp[_n:_n+_n_int,2]**2 \n",
    "      + new_X_simp[_n:_n+_n_int,3]**2)\n",
    "plt.ylim([0,1])\n",
    "plt.grid()"
   ]
  },
  {
   "cell_type": "code",
   "execution_count": null,
   "metadata": {},
   "outputs": [],
   "source": [
    "_n = 0\n",
    "_n_int = 430\n",
    "plt.figure(figsize=[12,8])\n",
    "plt.plot(new_X_simp[_n:_n+_n_int,0]**2 + 1 \n",
    "      - np.cos(new_X_simp[_n:_n+_n_int,1]) \n",
    "      + new_X_simp[_n:_n+_n_int,2]**2 \n",
    "      + new_X_simp[_n:_n+_n_int,3]**2)\n",
    "plt.ylim([0,0.1])\n",
    "plt.grid()"
   ]
  },
  {
   "cell_type": "code",
   "execution_count": null,
   "metadata": {},
   "outputs": [],
   "source": [
    "n_cut = 385\n",
    "n_adicc = 50\n",
    "N = 800"
   ]
  },
  {
   "cell_type": "code",
   "execution_count": null,
   "metadata": {},
   "outputs": [],
   "source": [
    "new_X_simp = xx_simp[:n_cut, :]\n",
    "new_U_simp = uu_simp[:n_cut, :]"
   ]
  },
  {
   "cell_type": "code",
   "execution_count": null,
   "metadata": {},
   "outputs": [],
   "source": [
    "new_X_simp = new_X_simp[::-1, :]\n",
    "new_U_simp = new_U_simp[::-1, :]"
   ]
  },
  {
   "cell_type": "code",
   "execution_count": null,
   "metadata": {},
   "outputs": [],
   "source": [
    "new_X_simp[:,1] = new_X_simp[:,1] - 2*np.pi"
   ]
  },
  {
   "cell_type": "code",
   "execution_count": null,
   "metadata": {},
   "outputs": [],
   "source": [
    "from optibot.schemes import interpolated_array"
   ]
  },
  {
   "cell_type": "code",
   "execution_count": null,
   "metadata": {},
   "outputs": [],
   "source": [
    "new_t_array = np.linspace(0, (n_cut-1)*dt, N-n_adicc+1)\n",
    "new_X_interp, new_U_interp = interpolated_array(new_X_simp, new_U_simp, F_nump_simp, dt,\n",
    "                                  new_t_array, [g, l_3, m_0, m_2], 'hs_mod')"
   ]
  },
  {
   "cell_type": "code",
   "execution_count": null,
   "metadata": {},
   "outputs": [],
   "source": [
    "new_U_interp_comp = np.concatenate((new_U_interp, np.zeros([n_adicc,2])))"
   ]
  },
  {
   "cell_type": "code",
   "execution_count": null,
   "metadata": {},
   "outputs": [],
   "source": [
    "new_U_interp_comp.shape"
   ]
  },
  {
   "cell_type": "code",
   "execution_count": null,
   "metadata": {},
   "outputs": [],
   "source": [
    "compr_sol_simp = integrate_trapz(\n",
    "    new_X_interp[0,:],\n",
    "    new_U_interp_comp,\n",
    "    F_nump_simp,\n",
    "    new_t_array[-1]/(N-n_adicc),\n",
    "    [g, l_3, m_0, m_2]\n",
    ")"
   ]
  },
  {
   "cell_type": "code",
   "execution_count": null,
   "metadata": {
    "scrolled": false
   },
   "outputs": [],
   "source": [
    "anim_simp = create_anim_simp(compr_sol_simp[:-1,:],new_U_interp_comp,[g, l_3, m_0, m_2])"
   ]
  },
  {
   "cell_type": "code",
   "execution_count": null,
   "metadata": {
    "scrolled": false
   },
   "outputs": [],
   "source": [
    "HTML(anim_simp.to_jshtml())"
   ]
  },
  {
   "cell_type": "code",
   "execution_count": null,
   "metadata": {},
   "outputs": [],
   "source": []
  },
  {
   "cell_type": "code",
   "execution_count": null,
   "metadata": {},
   "outputs": [],
   "source": [
    "opti = cas.Opti()\n",
    "opti.solver('ipopt')\n",
    "\n",
    "X = opti.variable(N+1,4)\n",
    "U = opti.variable(N+1,2)\n",
    "T = opti.parameter()\n",
    "u_m = opti.parameter(2)\n",
    "\n",
    "Params = opti.parameter(4)\n",
    "\n",
    "#cost = cas.sum1(2+cas.cos(X[:,0])+cas.cos(X[:,1]))*T\n",
    "#cost = cas.sum1(cas.cos(X[:,1])) + cas.sum1(X[:,0]**2) + cas.sum1(cas.sin(X[:,1])**2)\n",
    "cost = cas.sum1(cas.cos(X[:,1]))\n",
    "#cost = T\n",
    "opti.minimize(cost)\n",
    "\n",
    "opti.subject_to(X[0,:].T == [0, 0, 0, 0])\n",
    "opti.subject_to(opti.bounded(-0.0001,X[-1,0],0.0001))\n",
    "opti.subject_to(cas.cos(X[-1,1]) < -0.9999)\n",
    "opti.subject_to(opti.bounded(-0.0001,X[-1,2],0.0001))\n",
    "opti.subject_to(opti.bounded(-0.0001,X[-1,3],0.0001))\n",
    "opti.subject_to(opti.bounded(-u_m, U[-1, :].T, u_m))\n",
    "\n",
    "#restriction = restriction2casadi(euler_restr, F_cas, 2, 2, 4)\n",
    "restriction = restriction2casadi(trapz_restr, F_cas_simp, 2, 2, 4)\n",
    "#restriction = restriction2casadi(hs_restr, F_cas, 2, 2, 4)\n",
    "\n",
    "for ii in range(N):\n",
    "    opti.subject_to(restriction(X[ii,:], X[ii+1,:], U[ii,:], U[ii+1,:],T/N, Params)==0)\n",
    "    opti.subject_to(opti.bounded(-u_m, U[ii, :].T,u_m))\n",
    "\n",
    "opti.set_initial(X, compr_sol_simp[:-1, :])\n",
    "opti.set_initial(U, new_U_interp_comp)"
   ]
  },
  {
   "cell_type": "code",
   "execution_count": null,
   "metadata": {},
   "outputs": [],
   "source": [
    "opti.set_value(T, (n_cut-1 + n_adicc*n_cut/N)*dt)\n",
    "max_par_1 = 0.0\n",
    "max_f = 1.0\n",
    "opti.set_value(u_m, [max_f, max_par_1])\n",
    "\n",
    "m_0, m_2 = [0.2, 0.4]\n",
    "l_3 = 0.3\n",
    "g = 9.8\n",
    "\n",
    "opti.set_value(Params, [g, l_3, m_0, m_2])"
   ]
  },
  {
   "cell_type": "code",
   "execution_count": null,
   "metadata": {
    "scrolled": true
   },
   "outputs": [],
   "source": [
    "sol = opti.solve()"
   ]
  },
  {
   "cell_type": "code",
   "execution_count": null,
   "metadata": {},
   "outputs": [],
   "source": [
    "xx_new = sol.value(X)\n",
    "uu_new = sol.value(U) "
   ]
  },
  {
   "cell_type": "code",
   "execution_count": null,
   "metadata": {},
   "outputs": [],
   "source": [
    "xx_new"
   ]
  },
  {
   "cell_type": "code",
   "execution_count": null,
   "metadata": {},
   "outputs": [],
   "source": []
  },
  {
   "cell_type": "code",
   "execution_count": null,
   "metadata": {
    "scrolled": false
   },
   "outputs": [],
   "source": [
    "anim_simp = create_anim_simp(xx_new,uu_new,[g, l_3, m_0, m_2])"
   ]
  },
  {
   "cell_type": "code",
   "execution_count": null,
   "metadata": {
    "scrolled": false
   },
   "outputs": [],
   "source": [
    "HTML(anim_simp.to_jshtml())"
   ]
  },
  {
   "cell_type": "code",
   "execution_count": null,
   "metadata": {},
   "outputs": [],
   "source": []
  },
  {
   "cell_type": "code",
   "execution_count": null,
   "metadata": {},
   "outputs": [],
   "source": [
    "opti = cas.Opti()\n",
    "p_opts = {\"expand\":True}\n",
    "s_opts = {\"max_iter\": 10000, 'tol': 1e-12}\n",
    "opti.solver(\"ipopt\",p_opts,\n",
    "                    s_opts)"
   ]
  },
  {
   "cell_type": "code",
   "execution_count": null,
   "metadata": {},
   "outputs": [],
   "source": [
    "X = opti.variable(N+1,4)\n",
    "U = opti.variable(N+1,2)\n",
    "H = opti.variable(N)\n",
    "u_m = opti.parameter(2)"
   ]
  },
  {
   "cell_type": "code",
   "execution_count": null,
   "metadata": {},
   "outputs": [],
   "source": [
    "#M = opti.parameter(2)\n",
    "#L = opti.parameter(2)\n",
    "#G = opti.parameter()\n",
    "Params = opti.parameter(4)"
   ]
  },
  {
   "cell_type": "code",
   "execution_count": null,
   "metadata": {},
   "outputs": [],
   "source": [
    "#cost = cas.sum1(2+cas.cos(X[:,0])+cas.cos(X[:,1]))*T\n",
    "#cost = cas.sum1(cas.cos(X[:,1])) + cas.sum1(X[:,0]**2)\n",
    "#cost = cas.sum1(cas.cos(X[:,1]))\n",
    "cost = cas.sum1(H)\n",
    "opti.minimize(cost)"
   ]
  },
  {
   "cell_type": "code",
   "execution_count": null,
   "metadata": {},
   "outputs": [],
   "source": [
    "opti.subject_to(X[0,:].T == [0, 0, 0, 0])\n",
    "opti.subject_to(opti.bounded(-0.0001,X[-1,0],0.0001))\n",
    "opti.subject_to(cas.cos(X[-1,1]) < -0.9999)\n",
    "opti.subject_to(opti.bounded(-0.0001,X[-1,2],0.0001))\n",
    "opti.subject_to(opti.bounded(-0.0001,X[-1,3],0.0001))\n",
    "opti.subject_to(opti.bounded(-u_m, U[-1, :].T, u_m))"
   ]
  },
  {
   "cell_type": "code",
   "execution_count": null,
   "metadata": {},
   "outputs": [],
   "source": [
    "#restriction = restriction2casadi(euler_restr, F_cas_simp, 2, 2, 4)\n",
    "restriction = restriction2casadi(trapz_restr, F_cas_simp, 2, 2, 4)\n",
    "#restriction = restriction2casadi(hs_restr, F_cas, 2, 2, 4)"
   ]
  },
  {
   "cell_type": "code",
   "execution_count": null,
   "metadata": {
    "scrolled": false
   },
   "outputs": [],
   "source": [
    "for ii in range(N):\n",
    "    opti.subject_to(restriction(X[ii,:], X[ii+1,:], U[ii,:], U[ii+1,:],H[ii], Params)==0)\n",
    "    #opti.subject_to(opti.bounded(-1e-6, restriction(X[ii,:], X[ii+1,:], U[ii,:], U[ii+1,:],H[ii], Params),1e-6))\n",
    "    opti.subject_to(opti.bounded(-u_m, U[ii, :].T,u_m))\n",
    "for ii in range(N-1):\n",
    "    opti.subject_to(H[ii] == H[ii+1])"
   ]
  },
  {
   "cell_type": "code",
   "execution_count": null,
   "metadata": {},
   "outputs": [],
   "source": [
    "compr_sol_simp.shape"
   ]
  },
  {
   "cell_type": "code",
   "execution_count": null,
   "metadata": {},
   "outputs": [],
   "source": [
    "opti.set_initial(X, compr_sol_simp[:-1, :])\n",
    "opti.set_initial(U, new_U_interp_comp)"
   ]
  },
  {
   "cell_type": "code",
   "execution_count": null,
   "metadata": {},
   "outputs": [],
   "source": [
    "opti.set_initial(H, (n_cut-1)*dt/(N-n_adicc-1))\n",
    "\n",
    "opti.subject_to(H > 0.5/N)\n",
    "opti.subject_to(H < 10/N)\n",
    "\n",
    "max_par_1 = 0.0\n",
    "max_f = 1.0\n",
    "opti.set_value(u_m, [max_f, max_par_1])\n",
    "\n",
    "m_0, m_2 = [0.2, 0.4]\n",
    "l_3 = 0.3\n",
    "g = 9.8\n",
    "\n",
    "opti.set_value(Params, [g, l_3, m_0, m_2])"
   ]
  },
  {
   "cell_type": "code",
   "execution_count": null,
   "metadata": {
    "scrolled": true
   },
   "outputs": [],
   "source": [
    "sol = opti.solve()"
   ]
  },
  {
   "cell_type": "markdown",
   "metadata": {},
   "source": [
    "opti.debug.show_infeasibilities()"
   ]
  },
  {
   "cell_type": "code",
   "execution_count": null,
   "metadata": {},
   "outputs": [],
   "source": [
    "\n",
    "spar_hs_mod = sol.value(cas.jacobian(opti.g,opti.x)).toarray()\n",
    "plt.figure(figsize = [14,14])\n",
    "plt.spy(spar_hs_mod)"
   ]
  },
  {
   "cell_type": "code",
   "execution_count": null,
   "metadata": {},
   "outputs": [],
   "source": [
    "xx_simp_t = sol.value(X)\n",
    "uu_simp_t = sol.value(U) "
   ]
  },
  {
   "cell_type": "code",
   "execution_count": null,
   "metadata": {},
   "outputs": [],
   "source": []
  },
  {
   "cell_type": "code",
   "execution_count": null,
   "metadata": {},
   "outputs": [],
   "source": [
    "new_X_simp = xx_simp_t\n",
    "new_U_simp = uu_simp_t"
   ]
  },
  {
   "cell_type": "code",
   "execution_count": null,
   "metadata": {},
   "outputs": [],
   "source": []
  },
  {
   "cell_type": "code",
   "execution_count": null,
   "metadata": {
    "scrolled": false
   },
   "outputs": [],
   "source": [
    "anim_simp = create_anim_simp(xx_simp_t,uu_simp_t,[g, l_3, m_0, m_2])"
   ]
  },
  {
   "cell_type": "code",
   "execution_count": null,
   "metadata": {
    "scrolled": false
   },
   "outputs": [],
   "source": [
    "HTML(anim_simp.to_jshtml())"
   ]
  },
  {
   "cell_type": "code",
   "execution_count": null,
   "metadata": {},
   "outputs": [],
   "source": [
    "opt_T = float(cas.sum1(sol.value(H)))\n",
    "opt_T"
   ]
  },
  {
   "cell_type": "code",
   "execution_count": null,
   "metadata": {},
   "outputs": [],
   "source": [
    "N*(n_cut-1)*dt/(N-n_adicc-1)"
   ]
  },
  {
   "cell_type": "code",
   "execution_count": null,
   "metadata": {},
   "outputs": [],
   "source": []
  },
  {
   "cell_type": "code",
   "execution_count": null,
   "metadata": {},
   "outputs": [],
   "source": []
  },
  {
   "cell_type": "code",
   "execution_count": null,
   "metadata": {},
   "outputs": [],
   "source": []
  },
  {
   "cell_type": "code",
   "execution_count": null,
   "metadata": {},
   "outputs": [],
   "source": []
  },
  {
   "cell_type": "markdown",
   "metadata": {},
   "source": [
    "lagr_f_simp_0(compr_sol_simp[324], [a_0, a_1, l_3, m_0, m_2], )\n"
   ]
  },
  {
   "cell_type": "markdown",
   "metadata": {},
   "source": [
    "lagr_f_simp_1(compr_sol_simp[324], [a_0, a_1, g, l_3, m_2], )"
   ]
  },
  {
   "cell_type": "markdown",
   "metadata": {},
   "source": [
    "### Interpolation"
   ]
  },
  {
   "cell_type": "code",
   "execution_count": null,
   "metadata": {},
   "outputs": [],
   "source": [
    "from optibot.schemes import interpolated_array"
   ]
  },
  {
   "cell_type": "code",
   "execution_count": null,
   "metadata": {},
   "outputs": [],
   "source": [
    "from optibot.numpy import trapz_integrate, num_derivative"
   ]
  },
  {
   "cell_type": "code",
   "execution_count": null,
   "metadata": {},
   "outputs": [],
   "source": [
    "new_t_array = np.linspace(0, opt_T, 2*N)"
   ]
  },
  {
   "cell_type": "code",
   "execution_count": null,
   "metadata": {},
   "outputs": [],
   "source": [
    "h = opt_T/N\n",
    "\n",
    "old_t_array = np.linspace(0, (xx_simp_t.shape[0] - 1) * h, xx_simp_t.shape[0])"
   ]
  },
  {
   "cell_type": "code",
   "execution_count": null,
   "metadata": {
    "scrolled": true
   },
   "outputs": [],
   "source": [
    "new_X_interp, new_U_interp = interpolated_array(xx_simp_t, uu_simp_t, F_nump_simp, h,\n",
    "                                  new_t_array, [g, l_3, m_0, m_2], 'trapz')"
   ]
  },
  {
   "cell_type": "code",
   "execution_count": null,
   "metadata": {},
   "outputs": [],
   "source": [
    "accelerations = F_nump_simp(xx_simp_t, uu_simp_t,[g, l_3, m_0, m_2])\n",
    "accelerations"
   ]
  },
  {
   "cell_type": "code",
   "execution_count": null,
   "metadata": {},
   "outputs": [],
   "source": [
    "aa = 2\n",
    "plt.figure(figsize=[50,20])\n",
    "plt.plot(old_t_array,np.array(xx_simp_t)[:,aa]/2, label = f'soluc integrada con trapz, componente{aa}')\n",
    "plt.plot(old_t_array,accelerations[:,aa]/40, label = f'aceleraciones, componente{aa}')\n",
    "plt.plot(old_t_array,accelerations[:,0]/2, label = f'aceleraciones, componente 0')\n",
    "#plt.plot(old_t_array,np.array(compr_sol_simp)[:-1,0], label = f'soluc integrada, componente 0')\n",
    "#plt.plot(new_t_array,new_X_interp[:,aa], label = f'soluc interpolada, componente{aa}')\n",
    "plt.plot([0, old_t_array[-1] + l_3], [0,0], 'k', lw=1, ls = ':')\n",
    "plt.legend()"
   ]
  },
  {
   "cell_type": "code",
   "execution_count": null,
   "metadata": {},
   "outputs": [],
   "source": [
    "aa = 2\n",
    "plt.figure(figsize=[50,20])\n",
    "plt.plot(old_t_array,np.array(xx_simp_t)[:,aa], label = f'soluc integrada con trapz, componente{aa}')\n",
    "plt.plot(old_t_array,xx_simp[:,aa], label = f'soluc de Casadi, componente{aa}')\n",
    "plt.plot(old_t_array,xx_simp[:,0], label = f'soluc de Casadi, componente 0')\n",
    "plt.plot(new_t_array,new_X_interp[:,aa], label = f'soluc interpolada, componente{aa}')\n",
    "plt.legend()"
   ]
  },
  {
   "cell_type": "code",
   "execution_count": null,
   "metadata": {},
   "outputs": [],
   "source": [
    "plt.figure(figsize=[50,20])\n",
    "plt.plot(new_t_array[900:1000], new_X_interp[900:1000,0], 'b')\n",
    "plt.plot(old_t_array[450:500], np.array(compr_sol_simp)[450:500,0], 'r:')\n",
    "plt.plot(old_t_array[450:500], np.array(compr_sol_simp)[450:500,0], 'ko')"
   ]
  },
  {
   "cell_type": "code",
   "execution_count": null,
   "metadata": {},
   "outputs": [],
   "source": [
    "plt.figure(figsize=[50,20])\n",
    "aa = 2\n",
    "plt.plot(new_t_array[100:200], new_X_interp[100:200,aa], 'b')\n",
    "plt.plot(old_t_array[50:100], np.array(compr_sol_simp)[50:100,aa], 'r:')\n",
    "plt.plot(old_t_array[50:100], xx_simp[50:100,aa], 'g:')\n",
    "plt.plot(old_t_array[50:100], np.array(compr_sol_simp)[50:100,aa], 'ko')"
   ]
  },
  {
   "cell_type": "markdown",
   "metadata": {},
   "source": [
    "### Cartpole con articulación elástica"
   ]
  },
  {
   "cell_type": "code",
   "execution_count": null,
   "metadata": {},
   "outputs": [],
   "source": [
    "def create_anim(X, U, params):\n",
    "    g, k, l_1, l_2, m_0, m_1, m_2 = params\n",
    "    l_3 = l_1 + l_2\n",
    "    N = X.shape[0]\n",
    "    fig, ax = plt.subplots()\n",
    "    \n",
    "    y_scale = (l_3) * 1.25\n",
    "    min_x_cart = np.min(X[:,0])\n",
    "    max_x_cart = np.max(X[:,0])\n",
    "    cart_displ = max_x_cart-min_x_cart\n",
    "    size_x = 2*y_scale + cart_displ\n",
    "    size_y = 2*y_scale\n",
    "    draw_width = 14\n",
    "    draw_height = draw_width / size_x * size_y\n",
    "    \n",
    "    x_0 = X[:,0]\n",
    "    y_0 = np.zeros_like(x_0)\n",
    "    x_1 = x_0 + l_1*np.sin(X[:,1])\n",
    "    y_1 = y_0 - l_1*np.cos(X[:,1])\n",
    "    x_2 = x_1 + l_2*np.sin(X[:,2])\n",
    "    y_2 = y_1 - l_2*np.cos(X[:,2])\n",
    "    \n",
    "    x_cm = (m_0 * x_0 + m_1 * x_1 + m_2 * x_2)/(m_0 + m_1 + m_2)\n",
    "    y_cm = (m_0 * y_0 + m_1 * y_1 + m_2 * y_2)/(m_0 + m_1 + m_2)\n",
    "\n",
    "    fig.set_size_inches([draw_width,draw_height])\n",
    "    ax.set_xlim(( min_x_cart-y_scale, max_x_cart+y_scale))\n",
    "    ax.set_ylim(( -y_scale, y_scale))\n",
    "\n",
    "\n",
    "    circle1 = plt.Circle((0, 0), l_3, color='b', ls = \":\", fill=False)\n",
    "    circle2 = plt.Circle((0, 0), l_1, color='b', ls = \":\", fill=False)\n",
    "    ax.add_artist(circle1)\n",
    "    ax.add_artist(circle2)\n",
    "    ax.plot([min_x_cart - l_1-l_2, max_x_cart + l_3], [0,0], 'k', lw=1, ls = ':')\n",
    "\n",
    "    line1, = ax.plot([], [], lw=2)\n",
    "    line2, = ax.plot([], [], lw=2)\n",
    "    line3, = ax.plot([], [], 'k', lw=1, ls = ':')\n",
    "    line_cm, = ax.plot([], [], 'g', lw=1, ls = ':')\n",
    "    point0, = ax.plot([], [], marker='o', markersize=15, color=\"red\")\n",
    "    point1, = ax.plot([], [], marker='o', markersize=15, color=\"red\")\n",
    "    point2, = ax.plot([], [], marker='o', markersize=15, color=\"red\")\n",
    "    point_cm, = ax.plot([], [], marker='o', markersize=10, color=\"green\")\n",
    "    u_max = max(np.max(np.abs(U[:,0])),1e-15)\n",
    "    arrow_w = 0.05*l_3\n",
    "    arrow_l = 0.2*l_3\n",
    "    u_arrow = patches.Arrow(0, 0, 0, -arrow_l, color = 'gray',width = arrow_w)\n",
    "    ax.add_patch(u_arrow)\n",
    "    \n",
    "    print_vars = [X[:,0], X[:,1], X[:,2], U[:,0], U[:,1], U[:,2], np.linspace(0, N-1, N, dtype=int)]\n",
    "    print_var_names = ['q_0', 'q_1', 'q_2', 'u_0', 'u_1', 'u_2', 'step']\n",
    "    texts = []\n",
    "    ii = 0\n",
    "    for arr in print_vars:\n",
    "        texts.append(ax.text(0.2, ii, \"\", fontsize = 12))\n",
    "        ii -= 0.08*l_3\n",
    "    \n",
    "    def init():\n",
    "        line1.set_data([], [])\n",
    "        line2.set_data([], [])\n",
    "        line3.set_data([], [])\n",
    "        line_cm.set_data([], [])\n",
    "        point1.set_data([], [])\n",
    "        point2.set_data([], [])\n",
    "        circle1.center = (0, 0)\n",
    "        circle2.center = (0, 0)\n",
    "        return (line1,line2,)\n",
    "    def animate(i):\n",
    "        circle1.center = (x_0[i], y_0[i])\n",
    "        circle2.center = (x_0[i], y_0[i])\n",
    "        point0.set_data(x_0[i], y_0[i])  \n",
    "        point1.set_data(x_1[i], y_1[i])   \n",
    "        point2.set_data(x_2[i], y_2[i])\n",
    "        point_cm.set_data(x_cm[i], y_cm[i])\n",
    "        line1.set_data([x_0[i], x_1[i]], [y_0[i], y_1[i]])\n",
    "        line2.set_data([x_1[i], x_2[i]], [y_1[i], y_2[i]])\n",
    "        line3.set_data(x_2[:i], y_2[:i])\n",
    "        line_cm.set_data(x_cm[:i], y_cm[:i])\n",
    "        trans = Affine2D()\n",
    "        u_arrow._patch_transform = trans.scale(U[i,0] * arrow_l / u_max, arrow_w).translate(x_0[i],0)\n",
    "        for ii in range(len(texts)):\n",
    "            text = texts[ii]\n",
    "            name = print_var_names[ii]\n",
    "            arr = print_vars[ii]\n",
    "            text.set_text(\"$\" + name + \"$ = %.6f\" % arr[i])\n",
    "        return (line1,line2,)\n",
    "    anim = animation.FuncAnimation(fig, animate, init_func=init,\n",
    "                               frames=N, interval=20, \n",
    "                               blit=True)\n",
    "    return anim"
   ]
  },
  {
   "cell_type": "code",
   "execution_count": null,
   "metadata": {
    "scrolled": false
   },
   "outputs": [],
   "source": [
    "F_cas = RHS2casF(RHS[3:], 3)"
   ]
  },
  {
   "cell_type": "code",
   "execution_count": null,
   "metadata": {},
   "outputs": [],
   "source": [
    "F_cas([1,0,1,1,1,1], [0,0,0], [1,1,1,1,1,1,1])"
   ]
  },
  {
   "cell_type": "code",
   "execution_count": null,
   "metadata": {},
   "outputs": [],
   "source": [
    "F_cas"
   ]
  },
  {
   "cell_type": "code",
   "execution_count": null,
   "metadata": {},
   "outputs": [],
   "source": [
    "F_nump = RHS2numpy(RHS[3:], 3)"
   ]
  },
  {
   "cell_type": "code",
   "execution_count": null,
   "metadata": {},
   "outputs": [],
   "source": [
    "F_nump([1,0,1,1,1,1], [0,0,0], [1,1,1,1,1,1,1])"
   ]
  },
  {
   "cell_type": "code",
   "execution_count": null,
   "metadata": {},
   "outputs": [],
   "source": [
    "F_nump"
   ]
  },
  {
   "cell_type": "markdown",
   "metadata": {},
   "source": [
    "from optibot.symbolic import diff_to_symb"
   ]
  },
  {
   "cell_type": "markdown",
   "metadata": {},
   "source": [
    "E=T+U\n",
    "\n",
    "print_funcs([diff_to_symb(E, 3),], 3)"
   ]
  },
  {
   "cell_type": "code",
   "execution_count": null,
   "metadata": {},
   "outputs": [],
   "source": [
    "from optibot.numpy import unpack\n",
    "def energ(x,params):\n",
    "    q_0, q_1, q_2, v_0, v_1, v_2 = unpack(x)\n",
    "    g, k, l_1, l_2, m_0, m_1, m_2 = params\n",
    "    result = g*(-l_1*m_1*np.cos(q_1) + m_2*(-l_1*np.cos(q_1) - l_2*np.cos(q_2))) + k*(q_1 - q_2)**2/2 + m_0*v_0**2/2 + m_1*(l_1**2*v_1**2 + 2*l_1*v_0*v_1*np.cos(q_1) + v_0**2)/2 + m_2*(l_1**2*v_1**2 + 2*l_1*l_2*v_1*v_2*np.cos(q_1 - q_2) + 2*l_1*v_0*v_1*np.cos(q_1) + l_2**2*v_2**2 + 2*l_2*v_0*v_2*np.cos(q_2) + v_0**2)/2\n",
    "    \n",
    "    return result"
   ]
  },
  {
   "cell_type": "code",
   "execution_count": null,
   "metadata": {},
   "outputs": [],
   "source": [
    "N = 800"
   ]
  },
  {
   "cell_type": "code",
   "execution_count": null,
   "metadata": {},
   "outputs": [],
   "source": [
    "new_X = np.zeros([(2*N)+1,6],dtype = 'float')\n",
    "new_X[:-1,0]= new_X_interp[:,0]\n",
    "new_X[:-1,1]= new_X_interp[:,1]\n",
    "new_X[:-1,2]= new_X_interp[:,1]\n",
    "new_X[:-1,3]= new_X_interp[:,2]\n",
    "new_X[:-1,4]= new_X_interp[:,3]\n",
    "new_X[:-1,5]= new_X_interp[:,3]\n",
    "new_U = np.zeros([(2*N)+1,3],dtype = 'float')\n",
    "new_U[:-1,0]= new_U_interp[:,0]\n",
    "new_X[:-1,0]= new_X_interp[:,0]"
   ]
  },
  {
   "cell_type": "code",
   "execution_count": null,
   "metadata": {
    "scrolled": false
   },
   "outputs": [],
   "source": [
    "uu_prueba = new_U\n",
    "m_0, m_1, m_2 = [0.2, 0.2, 0.2]\n",
    "l_1, l_2 = [0.2, 0.2]\n",
    "k = 5\n",
    "g = 9.8\n",
    "dt = opt_T*1.25/(2*N)\n",
    "xx_prueba = integrate_hs(\n",
    "    new_X[0,:],\n",
    "    uu_prueba,\n",
    "    F_nump,\n",
    "    dt,\n",
    "    [g, k, l_1, l_2, m_0, m_1, m_2]\n",
    ")"
   ]
  },
  {
   "cell_type": "code",
   "execution_count": null,
   "metadata": {},
   "outputs": [],
   "source": []
  },
  {
   "cell_type": "code",
   "execution_count": null,
   "metadata": {},
   "outputs": [],
   "source": [
    "opti = cas.Opti()\n",
    "p_opts = {\"expand\":True}\n",
    "s_opts = {\"max_iter\": 3000}#, 'tol': 1e-16,}# 'linear_solver' : \"MA86\"}\n",
    "opti.solver(\"ipopt\",p_opts,\n",
    "                    s_opts)"
   ]
  },
  {
   "cell_type": "code",
   "execution_count": null,
   "metadata": {},
   "outputs": [],
   "source": [
    "X = opti.variable((2*N)+1,6)\n",
    "U = opti.variable((2*N)+1,3)\n",
    "T = opti.parameter()\n",
    "#H = opt_T * 1.25/(2*N)\n",
    "u_m = opti.parameter(3)\n",
    "Params = opti.parameter(7)"
   ]
  },
  {
   "cell_type": "code",
   "execution_count": null,
   "metadata": {},
   "outputs": [],
   "source": [
    "#cost = cas.sum1(2+cas.cos(X[:,0])+cas.cos(X[:,1]))*T\n",
    "#cost = cas.sum1(cas.cos(X[:,1])) + cas.sum1(X[:,0]**2) + \n",
    "cost = cas.sum1((X[:,1]-X[:,2])**2)\n",
    "#cost = cas.sum1(cas.cos(X[:,1]))\n",
    "opti.minimize(cost)"
   ]
  },
  {
   "cell_type": "code",
   "execution_count": null,
   "metadata": {},
   "outputs": [],
   "source": [
    "opti.subject_to(X[0,:].T == [0, 0, 0, 0, 0, 0])\n",
    "opti.subject_to(opti.bounded(-0.0001,X[-1,0],0.0001))\n",
    "opti.subject_to(cas.cos(X[-1,1]) < -0.9999)\n",
    "opti.subject_to(cas.cos(X[-1,2]) < -0.9999)\n",
    "opti.subject_to(opti.bounded(-0.0001,X[-1,3],0.0001))\n",
    "opti.subject_to(opti.bounded(-0.0001,X[-1,4],0.0001))\n",
    "opti.subject_to(opti.bounded(-0.0001,X[-1,5],0.0001))\n",
    "opti.subject_to(U[-1,:].T == [0, 0, 0])"
   ]
  },
  {
   "cell_type": "code",
   "execution_count": null,
   "metadata": {},
   "outputs": [],
   "source": [
    "#restriction = restriction2casadi(euler_restr, F_cas, 3, 3, 7)\n",
    "restriction = restriction2casadi(trapz_restr, F_cas, 3, 3, 7)\n",
    "#restriction = restriction2casadi(hs_restr, F_cas, 3, 3, 7)"
   ]
  },
  {
   "cell_type": "code",
   "execution_count": null,
   "metadata": {
    "scrolled": false
   },
   "outputs": [],
   "source": [
    "for ii in range(2*N):\n",
    "    opti.subject_to(restriction(X[ii,:], X[ii+1,:], U[ii,:], U[ii+1,:],T/(2*N), Params)==0)\n",
    "    opti.subject_to(opti.bounded(-u_m, U[ii, :].T,u_m))"
   ]
  },
  {
   "cell_type": "markdown",
   "metadata": {},
   "source": [
    "opti.set_initial(X[:,1], np.linspace(0, cas.pi, (2*N)+1))\n",
    "opti.set_initial(X[:,2], np.linspace(0, cas.pi, (2*N)+1))\n",
    "opti.set_initial(X[:,4], cas.pi/(2*N))\n",
    "opti.set_initial(X[:,5], cas.pi/(2*N))\n",
    "opti.set_initial(U, np.zeros([(2*N)+1,3],dtype = 'float'))"
   ]
  },
  {
   "cell_type": "code",
   "execution_count": null,
   "metadata": {},
   "outputs": [],
   "source": [
    "opti.set_initial(X, new_X)\n",
    "opti.set_initial(U, new_U)"
   ]
  },
  {
   "cell_type": "code",
   "execution_count": null,
   "metadata": {},
   "outputs": [],
   "source": [
    "opti.set_value(T, opt_T*1.25)\n",
    "max_par_1 = 0.0\n",
    "max_par_2 = 0.0\n",
    "max_f = 1.0\n",
    "opti.set_value(u_m, [max_f, max_par_1, max_par_2])\n",
    "\n",
    "m_0, m_1, m_2 = [0.2, 0.2, 0.2]\n",
    "l_1, l_2 = [0.2, 0.2]\n",
    "k = 5\n",
    "g = 9.8\n",
    "\n",
    "opti.set_value(Params, [g, k, l_1, l_2, m_0, m_1, m_2])"
   ]
  },
  {
   "cell_type": "code",
   "execution_count": null,
   "metadata": {
    "scrolled": true
   },
   "outputs": [],
   "source": [
    "sol = opti.solve()"
   ]
  },
  {
   "cell_type": "code",
   "execution_count": null,
   "metadata": {},
   "outputs": [],
   "source": [
    "xx = sol.value(X)\n",
    "uu = sol.value(U)\n",
    "ene = energ(xx, [g, k, l_1, l_2, m_0, m_1, m_2])\n",
    "ene = np.array(ene)\n",
    "pot = np.sum(uu[:,:] * xx[:,3:], axis=1) "
   ]
  },
  {
   "cell_type": "code",
   "execution_count": null,
   "metadata": {},
   "outputs": [],
   "source": [
    "\n",
    "work = trapz_integrate(pot, np.linspace(0, sol.value(T), (2*N)+1)) + ene[0] "
   ]
  },
  {
   "cell_type": "code",
   "execution_count": null,
   "metadata": {},
   "outputs": [],
   "source": [
    "plt.figure(figsize=[14,10])\n",
    "plt.plot(xx[:,0], 'b')\n",
    "plt.plot(xx[:,3], 'b:')\n",
    "plt.plot(xx[:,1], 'orange')\n",
    "plt.plot(xx[:,4], 'orange', ls = ':')\n",
    "plt.plot(uu[:,0], 'g:')\n",
    "plt.plot(uu[:,1], 'r:')"
   ]
  },
  {
   "cell_type": "code",
   "execution_count": null,
   "metadata": {},
   "outputs": [],
   "source": [
    "plt.figure(figsize=[14,10])\n",
    "#plt.plot(xx[:,2], 'orange')\n",
    "plt.plot(ene, 'r:')\n",
    "#plt.plot(uu[:,0], 'g:')\n",
    "#plt.plot(uu[:,0] * xx[:,2], 'b:')\n",
    "plt.plot(work, 'b-', linewidth = 1)\n",
    "#plt.hlines([0,np.pi, -np.pi], 0, N, 'k', 'dotted')"
   ]
  },
  {
   "cell_type": "code",
   "execution_count": null,
   "metadata": {},
   "outputs": [],
   "source": [
    "pot_ene = []\n",
    "for ii in range(len(ene)-1):\n",
    "    pot_ene.append(ene[ii+1]-ene[ii])\n",
    "pot_ene = np.array(pot_ene)"
   ]
  },
  {
   "cell_type": "code",
   "execution_count": null,
   "metadata": {},
   "outputs": [],
   "source": [
    "pot_ene = num_derivative(ene, sol.value(T) / (2*N))"
   ]
  },
  {
   "cell_type": "code",
   "execution_count": null,
   "metadata": {},
   "outputs": [],
   "source": [
    "plt.figure(figsize=[14,10])\n",
    "#plt.plot(xx[:,2], 'orange')\n",
    "#plt.plot(ene.flatten(), 'r:')\n",
    "plt.plot(pot, 'g:')\n",
    "plt.plot(pot_ene, 'r:')\n",
    "#plt.plot(-uu[:,0] * xx[:,2], 'b:')\n",
    "#plt.plot(work, 'b-', linewidth = 1)\n",
    "plt.hlines([0,], 0, 2*N, 'k', 'dotted')"
   ]
  },
  {
   "cell_type": "code",
   "execution_count": null,
   "metadata": {},
   "outputs": [],
   "source": []
  },
  {
   "cell_type": "code",
   "execution_count": null,
   "metadata": {},
   "outputs": [],
   "source": [
    "new_X = xx\n",
    "new_U = uu"
   ]
  },
  {
   "cell_type": "code",
   "execution_count": null,
   "metadata": {},
   "outputs": [],
   "source": []
  },
  {
   "cell_type": "code",
   "execution_count": null,
   "metadata": {},
   "outputs": [],
   "source": []
  },
  {
   "cell_type": "code",
   "execution_count": null,
   "metadata": {
    "scrolled": false
   },
   "outputs": [],
   "source": [
    "m_0, m_1, m_2 = [0.2, 0.2, 0.2]\n",
    "l_1, l_2 = [0.2, 0.2]\n",
    "k = 5\n",
    "g = 9.8\n",
    "\n",
    "anim = create_anim(xx,uu,[g, k, l_1, l_2, m_0, m_1, m_2])"
   ]
  },
  {
   "cell_type": "code",
   "execution_count": null,
   "metadata": {},
   "outputs": [],
   "source": [
    "HTML(anim.to_jshtml())"
   ]
  },
  {
   "cell_type": "code",
   "execution_count": null,
   "metadata": {},
   "outputs": [],
   "source": []
  },
  {
   "cell_type": "code",
   "execution_count": null,
   "metadata": {},
   "outputs": [],
   "source": []
  },
  {
   "cell_type": "code",
   "execution_count": null,
   "metadata": {},
   "outputs": [],
   "source": []
  },
  {
   "cell_type": "code",
   "execution_count": null,
   "metadata": {},
   "outputs": [],
   "source": [
    "opti = cas.Opti()\n",
    "p_opts = {\"expand\":True}\n",
    "s_opts = {\"max_iter\": 3000}#, 'tol': 1e-16,}# 'linear_solver' : \"MA86\"}\n",
    "opti.solver(\"ipopt\",p_opts,\n",
    "                    s_opts)"
   ]
  },
  {
   "cell_type": "code",
   "execution_count": null,
   "metadata": {},
   "outputs": [],
   "source": [
    "X = opti.variable((2*N)+1,6)\n",
    "U = opti.variable((2*N)+1,3)\n",
    "#T = opti.parameter()\n",
    "H = opti.variable(2*N)\n",
    "u_m = opti.parameter(3)\n",
    "Params = opti.parameter(7)"
   ]
  },
  {
   "cell_type": "code",
   "execution_count": null,
   "metadata": {},
   "outputs": [],
   "source": [
    "#cost = cas.sum1(2+cas.cos(X[:,0])+cas.cos(X[:,1]))*T\n",
    "#cost = cas.sum1(cas.cos(X[:,1])) + cas.sum1(X[:,0]**2) + \n",
    "cost = cas.sum1(H)\n",
    "#cost = cas.sum1(cas.cos(X[:,1]))\n",
    "opti.minimize(cost)"
   ]
  },
  {
   "cell_type": "code",
   "execution_count": null,
   "metadata": {},
   "outputs": [],
   "source": [
    "opti.subject_to(X[0,:].T == [0, 0, 0, 0, 0, 0])\n",
    "opti.subject_to(opti.bounded(-0.0001,X[-1,0],0.0001))\n",
    "opti.subject_to(cas.cos(X[-1,1]) < -0.9999)\n",
    "opti.subject_to(cas.cos(X[-1,2]) < -0.9999)\n",
    "opti.subject_to(opti.bounded(-0.0001,X[-1,3],0.0001))\n",
    "opti.subject_to(opti.bounded(-0.0001,X[-1,4],0.0001))\n",
    "opti.subject_to(opti.bounded(-0.0001,X[-1,5],0.0001))\n",
    "opti.subject_to(U[-1,:].T == [0, 0, 0])"
   ]
  },
  {
   "cell_type": "code",
   "execution_count": null,
   "metadata": {},
   "outputs": [],
   "source": [
    "#restriction = restriction2casadi(euler_restr, F_cas, 3, 3, 7)\n",
    "restriction = restriction2casadi(trapz_restr, F_cas, 3, 3, 7)\n",
    "#restriction = restriction2casadi(hs_restr, F_cas, 3, 3, 7)"
   ]
  },
  {
   "cell_type": "code",
   "execution_count": null,
   "metadata": {
    "scrolled": false
   },
   "outputs": [],
   "source": [
    "for ii in range(2*N):\n",
    "    opti.subject_to(restriction(X[ii,:], X[ii+1,:], U[ii,:], U[ii+1,:],H[ii], Params)==0)\n",
    "    opti.subject_to(opti.bounded(-u_m, U[ii, :].T,u_m))\n",
    "for ii in range((2*N)-1):\n",
    "    opti.subject_to(H[ii] == H[ii+1])\n",
    "opti.subject_to(H > 0)"
   ]
  },
  {
   "cell_type": "code",
   "execution_count": null,
   "metadata": {},
   "outputs": [],
   "source": [
    "opti.set_initial(X[:,1], np.linspace(0, cas.pi, (2*N)+1))\n",
    "opti.set_initial(X[:,2], np.linspace(0, cas.pi, (2*N)+1))\n",
    "opti.set_initial(X[:,4], cas.pi/(2*N))\n",
    "opti.set_initial(X[:,5], cas.pi/(2*N))\n",
    "opti.set_initial(U, np.zeros([(2*N)+1,3],dtype = 'float'))"
   ]
  },
  {
   "cell_type": "code",
   "execution_count": null,
   "metadata": {},
   "outputs": [],
   "source": [
    "opti.set_initial(X, new_X)\n",
    "opti.set_initial(U, new_U)"
   ]
  },
  {
   "cell_type": "code",
   "execution_count": null,
   "metadata": {},
   "outputs": [],
   "source": [
    "opti.set_initial(H, opt_T*1.25/(2*N))\n",
    "max_par_1 = 0.0\n",
    "max_par_2 = 0.0\n",
    "max_f = 1.0\n",
    "opti.set_value(u_m, [max_f, max_par_1, max_par_2])\n",
    "\n",
    "m_0, m_1, m_2 = [0.2, 0.2, 0.2]\n",
    "l_1, l_2 = [0.2, 0.2]\n",
    "k = 5\n",
    "g = 9.8\n",
    "\n",
    "opti.set_value(Params, [g, k, l_1, l_2, m_0, m_1, m_2])"
   ]
  },
  {
   "cell_type": "code",
   "execution_count": null,
   "metadata": {
    "scrolled": true
   },
   "outputs": [],
   "source": [
    "sol = opti.solve()"
   ]
  },
  {
   "cell_type": "code",
   "execution_count": null,
   "metadata": {},
   "outputs": [],
   "source": [
    "xx = sol.value(X)\n",
    "uu = sol.value(U)\n",
    "ene = energ(xx, [g, k, l_1, l_2, m_0, m_1, m_2])\n",
    "ene = np.array(ene)\n",
    "pot = np.sum(uu[:,:] * xx[:,3:], axis=1) "
   ]
  },
  {
   "cell_type": "code",
   "execution_count": null,
   "metadata": {},
   "outputs": [],
   "source": []
  },
  {
   "cell_type": "code",
   "execution_count": null,
   "metadata": {},
   "outputs": [],
   "source": []
  },
  {
   "cell_type": "code",
   "execution_count": null,
   "metadata": {},
   "outputs": [],
   "source": []
  },
  {
   "cell_type": "code",
   "execution_count": null,
   "metadata": {
    "scrolled": false
   },
   "outputs": [],
   "source": [
    "m_0, m_1, m_2 = [0.2, 0.2, 0.2]\n",
    "l_1, l_2 = [0.2, 0.2]\n",
    "k = 5\n",
    "g = 9.8\n",
    "\n",
    "anim_min_t = create_anim(xx,uu,[g, k, l_1, l_2, m_0, m_1, m_2])"
   ]
  },
  {
   "cell_type": "code",
   "execution_count": null,
   "metadata": {},
   "outputs": [],
   "source": [
    "HTML(anim_min_t.to_jshtml())"
   ]
  },
  {
   "cell_type": "code",
   "execution_count": null,
   "metadata": {},
   "outputs": [],
   "source": [
    "opt_T_2 = float(cas.sum1(sol.value(H)))\n",
    "opt_T_2"
   ]
  },
  {
   "cell_type": "code",
   "execution_count": null,
   "metadata": {},
   "outputs": [],
   "source": [
    "opt_T*1.25"
   ]
  },
  {
   "cell_type": "code",
   "execution_count": null,
   "metadata": {},
   "outputs": [],
   "source": []
  },
  {
   "cell_type": "code",
   "execution_count": null,
   "metadata": {},
   "outputs": [],
   "source": []
  },
  {
   "cell_type": "code",
   "execution_count": null,
   "metadata": {},
   "outputs": [],
   "source": [
    "m_0, m_1, m_2 = [0.2, 0.2, 0.2]\n",
    "l_1, l_2 = [0.2, 0.2]\n",
    "k = 5\n",
    "g = 9.8\n",
    "dt = 0.005"
   ]
  },
  {
   "cell_type": "code",
   "execution_count": null,
   "metadata": {},
   "outputs": [],
   "source": [
    "uu_prueba = np.zeros([200, 3])\n",
    "xx_prueba_eu = integrate_euler(\n",
    "    np.array([0, 1, 1.1,0,0,0]),\n",
    "    uu_prueba,\n",
    "    F_nump,\n",
    "    dt,\n",
    "    [g, k, l_1, l_2, m_0, m_1, m_2]\n",
    ")"
   ]
  },
  {
   "cell_type": "code",
   "execution_count": null,
   "metadata": {
    "scrolled": false
   },
   "outputs": [],
   "source": [
    "anim_prueba_eu = create_anim(np.array(xx_prueba_eu)[:-1],uu_prueba,[g, k, l_1, l_2, m_0, m_1, m_2])"
   ]
  },
  {
   "cell_type": "code",
   "execution_count": null,
   "metadata": {},
   "outputs": [],
   "source": [
    "HTML(anim_prueba_eu.to_jshtml())"
   ]
  },
  {
   "cell_type": "code",
   "execution_count": null,
   "metadata": {},
   "outputs": [],
   "source": [
    "m_0, m_1, m_2 = [0.2, 0.2, 0.2]\n",
    "l_1, l_2 = [0.2, 0.2]\n",
    "k = 25\n",
    "g = 9.8\n",
    "dt = 0.005"
   ]
  },
  {
   "cell_type": "code",
   "execution_count": null,
   "metadata": {},
   "outputs": [],
   "source": [
    "uu_prueba = np.zeros([200, 3])\n",
    "xx_prueba = integrate_hs(\n",
    "    np.array([0, 1, 1.1,0,0,0]),\n",
    "    uu_prueba,\n",
    "    F_nump,\n",
    "    dt,\n",
    "    [g, k, l_1, l_2, m_0, m_1, m_2]\n",
    ")"
   ]
  },
  {
   "cell_type": "code",
   "execution_count": null,
   "metadata": {
    "scrolled": false
   },
   "outputs": [],
   "source": [
    "anim_prueba = create_anim(np.array(xx_prueba)[:-1],uu_prueba,[g, k, l_1, l_2, m_0, m_1, m_2])"
   ]
  },
  {
   "cell_type": "code",
   "execution_count": null,
   "metadata": {},
   "outputs": [],
   "source": [
    "HTML(anim_prueba.to_jshtml())"
   ]
  },
  {
   "cell_type": "code",
   "execution_count": null,
   "metadata": {},
   "outputs": [],
   "source": []
  },
  {
   "cell_type": "code",
   "execution_count": null,
   "metadata": {},
   "outputs": [],
   "source": []
  },
  {
   "cell_type": "code",
   "execution_count": null,
   "metadata": {},
   "outputs": [],
   "source": []
  },
  {
   "cell_type": "code",
   "execution_count": null,
   "metadata": {},
   "outputs": [],
   "source": []
  }
 ],
 "metadata": {
  "kernelspec": {
   "display_name": "Python 3",
   "language": "python",
   "name": "python3"
  },
  "language_info": {
   "codemirror_mode": {
    "name": "ipython",
    "version": 3
   },
   "file_extension": ".py",
   "mimetype": "text/x-python",
   "name": "python",
   "nbconvert_exporter": "python",
   "pygments_lexer": "ipython3",
   "version": "3.9.5"
  }
 },
 "nbformat": 4,
 "nbformat_minor": 2
}
