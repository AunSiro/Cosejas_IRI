{
 "cells": [
  {
   "cell_type": "code",
   "execution_count": null,
   "id": "e4433cc5",
   "metadata": {},
   "outputs": [],
   "source": [
    "import numpy as np\n",
    "import matplotlib.pyplot as plt"
   ]
  },
  {
   "cell_type": "code",
   "execution_count": null,
   "id": "c7096244",
   "metadata": {},
   "outputs": [],
   "source": [
    "from sympy import (symbols, simplify)\n",
    "from sympy.physics.mechanics import dynamicsymbols, init_vprinting\n",
    "from sympy.physics.mechanics import Lagrangian, ReferenceFrame, Point, Particle,inertia, RigidBody, angular_momentum"
   ]
  },
  {
   "cell_type": "code",
   "execution_count": null,
   "id": "b6d761c8",
   "metadata": {},
   "outputs": [],
   "source": [
    "from optibot.symbolic import lagrange, diff_to_symb, SimpLagrangesMethod\n",
    "from optibot.numpy import unpack"
   ]
  },
  {
   "cell_type": "code",
   "execution_count": null,
   "id": "3f5badd9",
   "metadata": {},
   "outputs": [],
   "source": [
    "fixed = {\n",
    "    0:0.,\n",
    "    2:0.,\n",
    "    4:0.,\n",
    "    5:0.,\n",
    "    6:1.,\n",
    "}"
   ]
  },
  {
   "cell_type": "code",
   "execution_count": null,
   "id": "39165c9e",
   "metadata": {},
   "outputs": [],
   "source": [
    "_a = [{} for j in range(7)]\n",
    "\n",
    "for ii in fixed:\n",
    "    _a[ii]['q']=fixed[ii]\n",
    "    \n",
    "_a"
   ]
  },
  {
   "cell_type": "code",
   "execution_count": null,
   "id": "78fc2ba1",
   "metadata": {},
   "outputs": [],
   "source": [
    "init_vprinting()"
   ]
  },
  {
   "cell_type": "code",
   "execution_count": null,
   "id": "f65f3d1f",
   "metadata": {},
   "outputs": [],
   "source": [
    "from optibot.robots import Panda_Simp"
   ]
  },
  {
   "cell_type": "code",
   "execution_count": null,
   "id": "9e977b85",
   "metadata": {},
   "outputs": [],
   "source": [
    "panda = Panda_Simp(replacedict_list=_a)"
   ]
  },
  {
   "cell_type": "code",
   "execution_count": null,
   "id": "8ad1cc7b",
   "metadata": {},
   "outputs": [],
   "source": [
    "plt.style.use('default')"
   ]
  },
  {
   "cell_type": "code",
   "execution_count": null,
   "id": "4b710403",
   "metadata": {},
   "outputs": [],
   "source": [
    "from optibot.opti import Opti_Problem\n",
    "import time"
   ]
  },
  {
   "cell_type": "code",
   "execution_count": null,
   "id": "7afee0eb",
   "metadata": {},
   "outputs": [],
   "source": [
    "t0 = time.time()\n",
    "print('start time:',time.strftime('%H:%M:%S ', time.localtime(t0)))\n",
    "\n",
    "for ii in range(1000000):\n",
    "    _ = ii**2**0.9232\n",
    "\n",
    "\n",
    "t1 = time.time()\n",
    "print('end time:',time.strftime('%H:%M:%S ', time.localtime(t1)))\n",
    "dt = t1-t0\n",
    "print('dt: ',dt, time.strftime('%H:%M:%S ',time.gmtime(dt)))"
   ]
  },
  {
   "cell_type": "code",
   "execution_count": null,
   "id": "74f578b5",
   "metadata": {},
   "outputs": [],
   "source": []
  },
  {
   "cell_type": "markdown",
   "id": "e4508b35",
   "metadata": {},
   "source": [
    "#### Warning: next cell can take several minutes to run (the first time)"
   ]
  },
  {
   "cell_type": "code",
   "execution_count": null,
   "id": "dbc04913",
   "metadata": {},
   "outputs": [],
   "source": [
    "t0 = time.time()\n",
    "print('start time:',time.strftime('%H:%M:%S ', time.localtime(t0)))\n",
    "\n",
    "N = 25\n",
    "verbose = True\n",
    "silent = False\n",
    "ini_guess = 'lin'\n",
    "t_end = 2\n",
    "params = []\n",
    "scheme = 'hs_parab'\n",
    "\n",
    "_opti = Opti_Problem(\n",
    "    LM=panda,\n",
    "    params = params,\n",
    "    scheme = scheme,\n",
    "    ini_guess= ini_guess,\n",
    "    t_end = t_end,\n",
    "    verbose=verbose,\n",
    "    silent=silent,\n",
    ")\n",
    "_opti.dynamic_setup()\n",
    "_opti.opti_setup(N)\n",
    "\n",
    "t1 = time.time()\n",
    "print('end time:',time.strftime('%H:%M:%S ', time.localtime(t1)))\n",
    "dt = t1-t0\n",
    "print('dt: ',dt, time.strftime('%H:%M:%S ',time.gmtime(dt)))"
   ]
  },
  {
   "cell_type": "code",
   "execution_count": null,
   "id": "7a7509ae",
   "metadata": {},
   "outputs": [],
   "source": [
    "_opti.apply_scheme()"
   ]
  },
  {
   "cell_type": "code",
   "execution_count": null,
   "id": "df1b93b3",
   "metadata": {},
   "outputs": [],
   "source": [
    "_opti.opti_points"
   ]
  },
  {
   "cell_type": "code",
   "execution_count": null,
   "id": "2539b77a",
   "metadata": {},
   "outputs": [],
   "source": [
    "panda.robot.qlim"
   ]
  },
  {
   "cell_type": "code",
   "execution_count": null,
   "id": "e83f0269",
   "metadata": {},
   "outputs": [],
   "source": [
    "pose_0 = np.array([0.,  1., 0., -1., 0., 0., 1. ])\n",
    "pose_1 = np.array([0., -1., 0., -2., 0., 0., 1. ])"
   ]
  },
  {
   "cell_type": "code",
   "execution_count": null,
   "id": "9702bf6a",
   "metadata": {},
   "outputs": [],
   "source": [
    "np.expand_dims(pose_0, 0).shape"
   ]
  },
  {
   "cell_type": "code",
   "execution_count": null,
   "id": "36fc1f9d",
   "metadata": {},
   "outputs": [],
   "source": [
    "pose_0.shape"
   ]
  },
  {
   "cell_type": "code",
   "execution_count": null,
   "id": "7b06a3a9",
   "metadata": {},
   "outputs": [],
   "source": [
    "q_s = _opti.opti_points['q_s']\n",
    "q_e = _opti.opti_points['q_e']\n",
    "v_s = _opti.opti_points['v_s']\n",
    "v_e = _opti.opti_points['v_e']\n",
    "\n",
    "_opti.opti.subject_to(q_s == np.expand_dims(pose_0, 0))\n",
    "_opti.opti.subject_to(q_e == np.expand_dims(pose_1, 0))\n",
    "\n",
    "_opti.opti.subject_to(v_s == 0)\n",
    "_opti.opti.subject_to(v_e == 0)\n",
    "\n",
    "_opti.initial_guess(pose_0, pose_1)"
   ]
  },
  {
   "cell_type": "code",
   "execution_count": null,
   "id": "095b7968",
   "metadata": {},
   "outputs": [],
   "source": [
    "_opti.u_sq_cost()"
   ]
  },
  {
   "cell_type": "code",
   "execution_count": null,
   "id": "2e7a230c",
   "metadata": {},
   "outputs": [],
   "source": [
    "q_arr = _opti.opti_arrs['q']\n",
    "q_arr_c = _opti.opti_arrs['q_c']\n",
    "v_arr = _opti.opti_arrs['v']\n",
    "v_arr_c = _opti.opti_arrs['v_c']\n",
    "u_arr = _opti.opti_arrs['u']\n",
    "u_arr_c = _opti.opti_arrs['u_c']\n",
    "q_arr.shape"
   ]
  },
  {
   "cell_type": "code",
   "execution_count": null,
   "id": "6a06fcc6",
   "metadata": {},
   "outputs": [],
   "source": [
    "panda.robot.qlim"
   ]
  },
  {
   "cell_type": "code",
   "execution_count": null,
   "id": "75888000",
   "metadata": {},
   "outputs": [],
   "source": [
    "qlim = panda.robot.qlim\n",
    "for ii in fixed:\n",
    "    qlim[:,ii] = fixed[ii]\n",
    "qlim"
   ]
  },
  {
   "cell_type": "code",
   "execution_count": null,
   "id": "98add45b",
   "metadata": {},
   "outputs": [],
   "source": [
    "q_dot_max = np.zeros(7)\n",
    "q_dot_max[0:4] = 2.1750\n",
    "q_dot_max[4:7] = 2.6100\n",
    "q_dot_max"
   ]
  },
  {
   "cell_type": "code",
   "execution_count": null,
   "id": "f917c7ac",
   "metadata": {},
   "outputs": [],
   "source": [
    "tau_max = np.zeros(7)\n",
    "tau_max[0:4] = 87\n",
    "tau_max[4:7] = 12\n",
    "tau_max"
   ]
  },
  {
   "cell_type": "code",
   "execution_count": null,
   "id": "edadeab4",
   "metadata": {},
   "outputs": [],
   "source": [
    "tau_max = np.zeros(2)\n",
    "tau_max[:] = 87\n",
    "tau_max"
   ]
  },
  {
   "cell_type": "code",
   "execution_count": null,
   "id": "f714c909",
   "metadata": {},
   "outputs": [],
   "source": [
    "for ii in range(7):\n",
    "    _opti.opti.subject_to(qlim[:,ii][0] <= q_arr[:,ii])\n",
    "    _opti.opti.subject_to(qlim[:,ii][1] >= q_arr[:,ii])\n",
    "    _opti.opti.subject_to(qlim[:,ii][0] <= q_arr_c[:,ii])\n",
    "    _opti.opti.subject_to(qlim[:,ii][1] >= q_arr_c[:,ii])\n",
    "    \n",
    "    _opti.opti.subject_to(-q_dot_max[ii] <= v_arr[:,ii])\n",
    "    _opti.opti.subject_to( q_dot_max[ii] >= v_arr[:,ii])\n",
    "    _opti.opti.subject_to(-q_dot_max[ii] <= v_arr_c[:,ii])\n",
    "    _opti.opti.subject_to( q_dot_max[ii] >= v_arr_c[:,ii])\n",
    "    \n",
    "for ii in range(2):\n",
    "    _opti.opti.subject_to(-tau_max[ii] <= u_arr[:,ii])\n",
    "    _opti.opti.subject_to( tau_max[ii] >= u_arr[:,ii])\n",
    "    _opti.opti.subject_to(-tau_max[ii] <= u_arr_c[:,ii])\n",
    "    _opti.opti.subject_to( tau_max[ii] >= u_arr_c[:,ii])"
   ]
  },
  {
   "cell_type": "code",
   "execution_count": null,
   "id": "6ffd3247",
   "metadata": {},
   "outputs": [],
   "source": [
    "t0 = time.time()\n",
    "print('start time:',time.strftime('%H:%M:%S ', time.localtime(t0)))\n",
    "\n",
    "_opti.chrono_solve(1)\n",
    "\n",
    "t1 = time.time()\n",
    "print('end time:',time.strftime('%H:%M:%S ', time.localtime(t1)))\n",
    "dt = t1-t0\n",
    "print('dt: ',dt, time.strftime('%H:%M:%S ',time.gmtime(dt)))"
   ]
  },
  {
   "cell_type": "code",
   "execution_count": null,
   "id": "280e9f43",
   "metadata": {},
   "outputs": [],
   "source": [
    "_opti.results['cpudt'],time.strftime('%H:%M:%S ',time.gmtime(_opti.results['cpudt']))"
   ]
  },
  {
   "cell_type": "code",
   "execution_count": null,
   "id": "9ba2376c",
   "metadata": {},
   "outputs": [],
   "source": [
    "%matplotlib inline"
   ]
  },
  {
   "cell_type": "code",
   "execution_count": null,
   "id": "3a7a9a19",
   "metadata": {},
   "outputs": [],
   "source": [
    "plt.figure(figsize=[16,10])\n",
    "plt.plot(_opti.results['t'],_opti.results['q'],marker='o')\n",
    "plt.plot(_opti.results['t_c'],_opti.results['q_c'],'o')\n",
    "plt.grid()"
   ]
  },
  {
   "cell_type": "code",
   "execution_count": null,
   "id": "90490479",
   "metadata": {},
   "outputs": [],
   "source": [
    "plt.figure(figsize=[16,10])\n",
    "plt.plot(_opti.results['t'],_opti.results['v'],marker='o')\n",
    "plt.plot(_opti.results['t_c'],_opti.results['v_c'],'o')\n",
    "plt.grid()"
   ]
  },
  {
   "cell_type": "code",
   "execution_count": null,
   "id": "ced74a32",
   "metadata": {},
   "outputs": [],
   "source": [
    "plt.figure(figsize=[16,10])\n",
    "plt.plot(_opti.results['t'],_opti.results['u'],marker='o')\n",
    "plt.plot(_opti.results['t_c'],_opti.results['u_c'],'o')\n",
    "plt.grid()"
   ]
  },
  {
   "cell_type": "code",
   "execution_count": null,
   "id": "ca5dc70c",
   "metadata": {},
   "outputs": [],
   "source": [
    "from roboticstoolbox.models.DH import Panda as PD"
   ]
  },
  {
   "cell_type": "code",
   "execution_count": null,
   "id": "1c5159cc",
   "metadata": {},
   "outputs": [],
   "source": [
    "pd = PD()"
   ]
  },
  {
   "cell_type": "code",
   "execution_count": null,
   "id": "7afc68e0",
   "metadata": {},
   "outputs": [],
   "source": [
    "pd"
   ]
  },
  {
   "cell_type": "code",
   "execution_count": null,
   "id": "cd4af177",
   "metadata": {},
   "outputs": [],
   "source": [
    "pd.fkine(_opti.results['q'])"
   ]
  },
  {
   "cell_type": "code",
   "execution_count": null,
   "id": "072468fb",
   "metadata": {},
   "outputs": [],
   "source": [
    "%matplotlib notebook\n",
    "%config NotebookBackend.figure_format = 'retina'"
   ]
  },
  {
   "cell_type": "code",
   "execution_count": null,
   "id": "ffd1c034",
   "metadata": {},
   "outputs": [],
   "source": [
    "pd.plot(_opti.results['q'])"
   ]
  },
  {
   "cell_type": "code",
   "execution_count": null,
   "id": "3ce107e2",
   "metadata": {},
   "outputs": [],
   "source": []
  },
  {
   "cell_type": "code",
   "execution_count": null,
   "id": "5c959421",
   "metadata": {},
   "outputs": [],
   "source": []
  },
  {
   "cell_type": "code",
   "execution_count": null,
   "id": "9ed40bd9",
   "metadata": {},
   "outputs": [],
   "source": []
  },
  {
   "cell_type": "code",
   "execution_count": null,
   "id": "d0a2f019",
   "metadata": {},
   "outputs": [],
   "source": []
  },
  {
   "cell_type": "code",
   "execution_count": null,
   "id": "158ba9e3",
   "metadata": {},
   "outputs": [],
   "source": []
  },
  {
   "cell_type": "code",
   "execution_count": null,
   "id": "ecf5434c",
   "metadata": {},
   "outputs": [],
   "source": []
  }
 ],
 "metadata": {
  "kernelspec": {
   "display_name": "Python 3 (ipykernel)",
   "language": "python",
   "name": "python3"
  },
  "language_info": {
   "codemirror_mode": {
    "name": "ipython",
    "version": 3
   },
   "file_extension": ".py",
   "mimetype": "text/x-python",
   "name": "python",
   "nbconvert_exporter": "python",
   "pygments_lexer": "ipython3",
   "version": "3.9.5"
  }
 },
 "nbformat": 4,
 "nbformat_minor": 5
}
