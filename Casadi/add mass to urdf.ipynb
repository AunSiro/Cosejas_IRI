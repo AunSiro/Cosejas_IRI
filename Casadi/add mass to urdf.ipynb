{
 "cells": [
  {
   "cell_type": "code",
   "execution_count": null,
   "id": "efa60816",
   "metadata": {},
   "outputs": [],
   "source": [
    "from roboticstoolbox.models.DH import Panda\n",
    "import numpy as np"
   ]
  },
  {
   "cell_type": "code",
   "execution_count": null,
   "id": "fb6e5a21",
   "metadata": {},
   "outputs": [],
   "source": [
    "panda = Panda()\n",
    "\n",
    "# Centers of masses of Panda not yet implemented in Robotic Toolbox\n",
    "r_arr = np.array(\n",
    "    [\n",
    "        [3.875e-03, 2.081e-03, 0],\n",
    "        [-3.141e-03, -2.872e-02, 3.495e-03],\n",
    "        [2.7518e-02, 3.9252e-02, -6.6502e-02],\n",
    "        [-5.317e-02, 1.04419e-01, 2.7454e-02],\n",
    "        [-1.1953e-02, 4.1065e-02, -3.8437e-02],\n",
    "        [6.0149e-02, -1.4117e-02, -1.0517e-02],\n",
    "        [1.0517e-02, -4.252e-03, -4.5403e-02],\n",
    "    ]\n",
    ")\n",
    "\n",
    "for ii, link in enumerate(panda.links):\n",
    "    link.r = r_arr[ii, :]"
   ]
  },
  {
   "cell_type": "code",
   "execution_count": null,
   "id": "df41c66f",
   "metadata": {},
   "outputs": [],
   "source": [
    "def link_2_params(link):\n",
    "    m = link.m\n",
    "    mc_x, mc_y, mc_z = link.r\n",
    "    I_xx = link.I[0,0]\n",
    "    I_xy = link.I[0,1]\n",
    "    I_xz = link.I[0,2]\n",
    "    I_yy = link.I[1,1]\n",
    "    I_yz = link.I[1,2]\n",
    "    I_zz = link.I[2,2]\n",
    "    return np.array([m, mc_x, mc_y, mc_z, I_xx, I_xy, I_yy, I_xz, I_yz, I_zz])"
   ]
  },
  {
   "cell_type": "code",
   "execution_count": null,
   "id": "43092a76",
   "metadata": {},
   "outputs": [],
   "source": [
    "def link_2_params_xml(link):\n",
    "    m = link.m\n",
    "    mc_x, mc_y, mc_z = link.r\n",
    "    I_xx = link.I[0,0]\n",
    "    I_xy = link.I[0,1]\n",
    "    I_xz = link.I[0,2]\n",
    "    I_yy = link.I[1,1]\n",
    "    I_yz = link.I[1,2]\n",
    "    I_zz = link.I[2,2]\n",
    "    return str(m), f'{mc_x} {mc_y} {mc_z}', str(I_xx), str(I_xy), str(I_xz), str(I_yy), str(I_yz), str(I_zz)"
   ]
  },
  {
   "cell_type": "code",
   "execution_count": null,
   "id": "76d724dc",
   "metadata": {},
   "outputs": [],
   "source": [
    "panda"
   ]
  },
  {
   "cell_type": "code",
   "execution_count": null,
   "id": "2887d338",
   "metadata": {
    "scrolled": true
   },
   "outputs": [],
   "source": [
    "for ii, link in enumerate(panda.links):\n",
    "    print(ii,link_2_params(link))"
   ]
  },
  {
   "cell_type": "code",
   "execution_count": null,
   "id": "9b286c0e",
   "metadata": {},
   "outputs": [],
   "source": []
  },
  {
   "cell_type": "code",
   "execution_count": null,
   "id": "b03cc5de",
   "metadata": {},
   "outputs": [],
   "source": [
    "import xml.etree.ElementTree as ET"
   ]
  },
  {
   "cell_type": "code",
   "execution_count": null,
   "id": "50c2dbba",
   "metadata": {},
   "outputs": [],
   "source": [
    "tree = ET.parse('urdf/panda.urdf')\n",
    "root = tree.getroot()"
   ]
  },
  {
   "cell_type": "code",
   "execution_count": null,
   "id": "f5e2d303",
   "metadata": {},
   "outputs": [],
   "source": [
    "'1'.isdigit()"
   ]
  },
  {
   "cell_type": "code",
   "execution_count": null,
   "id": "4963f114",
   "metadata": {},
   "outputs": [],
   "source": [
    "for ii,child in enumerate(root):\n",
    "    if child.tag == 'link':\n",
    "        link_n = child.attrib['name'][-1]\n",
    "        if link_n.isdigit():\n",
    "            link_n = int(link_n)\n",
    "        else:\n",
    "            link_n = 100\n",
    "        print(link_n, child.tag, child.attrib)\n",
    "        for jj,subchild in enumerate(child):\n",
    "            if subchild.tag == 'inertial':\n",
    "                print('\\t', jj, subchild.tag, subchild.attrib)\n",
    "                if link_n < 8:\n",
    "                    m, xyz, I_xx, I_xy, I_xz, I_yy, I_yz, I_zz = link_2_params_xml(panda.links[link_n-1])\n",
    "                for kk,subsubchild in enumerate(subchild):\n",
    "                    if subsubchild.tag == 'mass' and link_n < 8:\n",
    "                        subsubchild.attrib['value'] = m\n",
    "                    if subsubchild.tag == 'origin' and link_n < 8:\n",
    "                        subsubchild.attrib['xyz'] = xyz\n",
    "                    if subsubchild.tag == 'inertia' and link_n < 8:\n",
    "                        subsubchild.attrib['ixx'] = I_xx\n",
    "                        subsubchild.attrib['ixy'] = I_xy\n",
    "                        subsubchild.attrib['ixz'] = I_xz\n",
    "                        subsubchild.attrib['iyy'] = I_yy\n",
    "                        subsubchild.attrib['iyz'] = I_yz\n",
    "                        subsubchild.attrib['izz'] = I_zz\n",
    "                    print('\\t\\t', kk, subsubchild.tag, subsubchild.attrib)\n",
    "                    #if subsubchild.tag == 'mass' and link_n < 8:\n",
    "                    #    print('next mass: ',m)\n",
    "                    #if subsubchild.tag == 'origin' and link_n < 8:\n",
    "                    #    print('next xyz: ',xyz)"
   ]
  },
  {
   "cell_type": "code",
   "execution_count": null,
   "id": "f43d1d87",
   "metadata": {},
   "outputs": [],
   "source": [
    "tree.write('urdf/panda2.urdf')"
   ]
  },
  {
   "cell_type": "code",
   "execution_count": null,
   "id": "485c5cec",
   "metadata": {},
   "outputs": [],
   "source": []
  }
 ],
 "metadata": {
  "kernelspec": {
   "display_name": "Python 3 (ipykernel)",
   "language": "python",
   "name": "python3"
  },
  "language_info": {
   "codemirror_mode": {
    "name": "ipython",
    "version": 3
   },
   "file_extension": ".py",
   "mimetype": "text/x-python",
   "name": "python",
   "nbconvert_exporter": "python",
   "pygments_lexer": "ipython3",
   "version": "3.9.15"
  }
 },
 "nbformat": 4,
 "nbformat_minor": 5
}
