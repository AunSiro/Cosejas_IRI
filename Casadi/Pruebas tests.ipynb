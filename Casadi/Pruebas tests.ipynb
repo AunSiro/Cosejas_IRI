{
 "cells": [
  {
   "cell_type": "code",
   "execution_count": null,
   "id": "5e2eb475",
   "metadata": {},
   "outputs": [],
   "source": [
    "import numpy as np\n",
    "import matplotlib.pyplot as plt\n",
    "from mpl_toolkits import mplot3d\n",
    "\n",
    "from numpy import logical_and as npand\n",
    "from numpy import logical_or as npor\n",
    "import matplotlib"
   ]
  },
  {
   "cell_type": "code",
   "execution_count": null,
   "id": "bebf98fc",
   "metadata": {},
   "outputs": [],
   "source": [
    "from sympy import (symbols, pi, I, E, cos, sin, exp, tan, simplify, expand, factor, collect,\n",
    "                   apart, cancel, expand_trig, diff, Derivative, Function, integrate, limit,\n",
    "                   series, Eq, solve, dsolve, Matrix, N, preorder_traversal, Float, solve_linear_system,\n",
    "                   eye, zeros, lambdify, Symbol,hessian)\n",
    "from sympy.physics.mechanics import dynamicsymbols, init_vprinting"
   ]
  },
  {
   "cell_type": "code",
   "execution_count": null,
   "id": "87b05640",
   "metadata": {},
   "outputs": [],
   "source": [
    "from matplotlib import animation, rc\n",
    "import matplotlib.patches as patches\n",
    "from matplotlib.transforms import Affine2D\n",
    "from IPython.display import HTML"
   ]
  },
  {
   "cell_type": "code",
   "execution_count": null,
   "id": "4ec67388",
   "metadata": {},
   "outputs": [],
   "source": [
    "from optibot.schemes import interpolated_array,trap_interp, trapz_step, integrate_trapz"
   ]
  },
  {
   "cell_type": "code",
   "execution_count": null,
   "id": "c7bed626",
   "metadata": {},
   "outputs": [],
   "source": [
    "from optibot.numpy import trapz_integrate, num_derivative"
   ]
  },
  {
   "cell_type": "code",
   "execution_count": null,
   "id": "9068c469",
   "metadata": {},
   "outputs": [],
   "source": [
    "from optibot.schemes import is2d\n",
    "def F_ej(x,u,params):\n",
    "    if is2d(x):\n",
    "        f = np.zeros_like(x)\n",
    "        f[:,0] = x[:,2]\n",
    "        f[:,1] = x[:,3]\n",
    "        f[:,2] = u[:,0]\n",
    "        f[:,3] = u[:,1]\n",
    "    else:\n",
    "        f = np.zeros_like(x)\n",
    "        f[0] = x[2]\n",
    "        f[1] = x[3]\n",
    "        f[2] = u[0]\n",
    "        f[3] = u[1]\n",
    "    return f"
   ]
  },
  {
   "cell_type": "code",
   "execution_count": null,
   "id": "9ec569ff",
   "metadata": {},
   "outputs": [],
   "source": [
    "_x_0 = np.array([0.,0.,0.,0.])\n",
    "_ej_u = np.array([[1.,1.],[1.,1.]])\n",
    "_x_1 = trapz_step(_x_0, _ej_u[0], _ej_u[1], F_ej, 1., [0.,])"
   ]
  },
  {
   "cell_type": "code",
   "execution_count": null,
   "id": "71b59476",
   "metadata": {},
   "outputs": [],
   "source": [
    "_x_1"
   ]
  },
  {
   "cell_type": "code",
   "execution_count": null,
   "id": "65478fe1",
   "metadata": {},
   "outputs": [],
   "source": [
    "_ej_x = np.array([_x_0, _x_1])\n",
    "\n",
    "_ej_x"
   ]
  },
  {
   "cell_type": "code",
   "execution_count": null,
   "id": "0c7b0685",
   "metadata": {},
   "outputs": [],
   "source": [
    "_X_interp, _U_interp = interpolated_array(_ej_x, _ej_u, F_ej, 1.,\n",
    "                                  np.array([0,0.5,1]), [1], 'trapz')\n",
    "_X_interp"
   ]
  },
  {
   "cell_type": "code",
   "execution_count": null,
   "id": "e195a05f",
   "metadata": {},
   "outputs": [],
   "source": [
    "_ej_u_2 = np.sin(np.linspace([0,0], [20,20], 51))\n",
    "_ej_x_2 = np.array(integrate_trapz(\n",
    "    _x_0,\n",
    "    _ej_u_2,\n",
    "    F_ej,\n",
    "    0.1,\n",
    "    [1,]\n",
    "))[:-1]\n",
    "_ej_x_2.shape"
   ]
  },
  {
   "cell_type": "code",
   "execution_count": null,
   "id": "3cf68b55",
   "metadata": {},
   "outputs": [],
   "source": [
    "_ej_x_interp, _ej_u_interp = interpolated_array(_ej_x_2, _ej_u_2, F_ej, 0.1,\n",
    "                                  np.linspace(0, 5,101), [1,], 'trapz')"
   ]
  },
  {
   "cell_type": "code",
   "execution_count": null,
   "id": "47db067a",
   "metadata": {},
   "outputs": [],
   "source": [
    "plt.figure(figsize=[50,20])\n",
    "aa = 2\n",
    "ej_t_array = np.linspace(0, 5,51)\n",
    "new_ej_t_array = np.linspace(0, 5,101)\n",
    "plt.plot(new_ej_t_array, _ej_x_interp[:,aa], 'b')\n",
    "plt.plot(ej_t_array, _ej_x_2[:,aa], 'r:')\n",
    "plt.plot(ej_t_array, _ej_x_2[:,aa], 'g:')\n",
    "plt.plot(ej_t_array, _ej_x_2[:,aa], 'ko')\n",
    "plt.vlines(new_ej_t_array, -0.1, 0.6)"
   ]
  },
  {
   "cell_type": "code",
   "execution_count": null,
   "id": "1489eac6",
   "metadata": {},
   "outputs": [],
   "source": [
    "h = 0.1"
   ]
  },
  {
   "cell_type": "code",
   "execution_count": null,
   "id": "d9c4e1fb",
   "metadata": {
    "scrolled": true
   },
   "outputs": [],
   "source": [
    "accelerations = F_ej(_ej_x_2, _ej_u_2,[1,])\n",
    "accelerations"
   ]
  },
  {
   "cell_type": "code",
   "execution_count": null,
   "id": "4a9f6796",
   "metadata": {},
   "outputs": [],
   "source": [
    "_err_1 = accelerations[:,2] - num_derivative(accelerations[:,0], h)\n",
    "_err_2 = accelerations[:,0] - _ej_x_2[:,2]\n",
    "_err_3 = _ej_x_2[:,2] - num_derivative(_ej_x_2[:,0],h)"
   ]
  },
  {
   "cell_type": "code",
   "execution_count": null,
   "id": "e72a1120",
   "metadata": {},
   "outputs": [],
   "source": [
    "plt.figure(figsize=[15,7])\n",
    "plt.plot(ej_t_array,_err_1, label = f'error 1')\n",
    "plt.plot(ej_t_array,_err_2, label = f'error 2')\n",
    "plt.plot(ej_t_array,_err_3, label = f'error 3')\n",
    "plt.plot([0, ej_t_array[-1]], [0,0], 'k', lw=1, ls = ':')\n",
    "plt.legend()"
   ]
  },
  {
   "cell_type": "code",
   "execution_count": null,
   "id": "89b23692",
   "metadata": {},
   "outputs": [],
   "source": [
    "_err_4 = trapz_integrate(accelerations[:,2], ej_t_array) - accelerations[:,0]\n",
    "_err_5 = trapz_integrate(_ej_x_2[:,2], ej_t_array) - _ej_x_2[:,0]"
   ]
  },
  {
   "cell_type": "code",
   "execution_count": null,
   "id": "96a727d7",
   "metadata": {},
   "outputs": [],
   "source": [
    "plt.figure(figsize=[15,7])\n",
    "plt.plot(ej_t_array,_err_4, label = f'error 4')\n",
    "plt.plot(ej_t_array,_err_5, label = f'error 5')\n",
    "plt.plot([0, ej_t_array[-1]], [0,0], 'k', lw=1, ls = ':')\n",
    "plt.legend()"
   ]
  },
  {
   "cell_type": "code",
   "execution_count": null,
   "id": "27602520",
   "metadata": {},
   "outputs": [],
   "source": []
  },
  {
   "cell_type": "code",
   "execution_count": null,
   "id": "f1cf0b5f",
   "metadata": {},
   "outputs": [],
   "source": []
  }
 ],
 "metadata": {
  "kernelspec": {
   "display_name": "Python 3",
   "language": "python",
   "name": "python3"
  },
  "language_info": {
   "codemirror_mode": {
    "name": "ipython",
    "version": 3
   },
   "file_extension": ".py",
   "mimetype": "text/x-python",
   "name": "python",
   "nbconvert_exporter": "python",
   "pygments_lexer": "ipython3",
   "version": "3.9.5"
  }
 },
 "nbformat": 4,
 "nbformat_minor": 5
}
