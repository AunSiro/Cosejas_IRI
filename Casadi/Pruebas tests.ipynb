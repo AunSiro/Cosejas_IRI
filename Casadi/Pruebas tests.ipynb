{
 "cells": [
  {
   "cell_type": "code",
   "execution_count": null,
   "id": "5e2eb475",
   "metadata": {},
   "outputs": [],
   "source": [
    "import numpy as np\n",
    "import matplotlib.pyplot as plt\n",
    "from mpl_toolkits import mplot3d\n",
    "\n",
    "from numpy import logical_and as npand\n",
    "from numpy import logical_or as npor\n",
    "import matplotlib"
   ]
  },
  {
   "cell_type": "code",
   "execution_count": null,
   "id": "bebf98fc",
   "metadata": {},
   "outputs": [],
   "source": [
    "from sympy import (symbols, pi, I, E, cos, sin, exp, tan, simplify, expand, factor, collect,\n",
    "                   apart, cancel, expand_trig, diff, Derivative, Function, integrate, limit,\n",
    "                   series, Eq, solve, dsolve, Matrix, N, preorder_traversal, Float, solve_linear_system,\n",
    "                   eye, zeros, lambdify, Symbol,hessian)\n",
    "from sympy.physics.mechanics import dynamicsymbols, init_vprinting"
   ]
  },
  {
   "cell_type": "code",
   "execution_count": null,
   "id": "87b05640",
   "metadata": {},
   "outputs": [],
   "source": [
    "from matplotlib import animation, rc\n",
    "import matplotlib.patches as patches\n",
    "from matplotlib.transforms import Affine2D\n",
    "from IPython.display import HTML"
   ]
  },
  {
   "cell_type": "code",
   "execution_count": null,
   "id": "4ec67388",
   "metadata": {},
   "outputs": [],
   "source": [
    "from optibot.schemes import interpolated_array,trap_interp, trapz_step, integrate_trapz"
   ]
  },
  {
   "cell_type": "code",
   "execution_count": null,
   "id": "c7bed626",
   "metadata": {},
   "outputs": [],
   "source": [
    "from optibot.numpy import trapz_integrate, num_derivative"
   ]
  },
  {
   "cell_type": "code",
   "execution_count": null,
   "id": "9068c469",
   "metadata": {},
   "outputs": [],
   "source": [
    "from optibot.schemes import is2d\n",
    "def F_ej(x,u,params):\n",
    "    if is2d(x):\n",
    "        f = np.zeros_like(x)\n",
    "        f[:,0] = x[:,2]\n",
    "        f[:,1] = x[:,3]\n",
    "        f[:,2] = u[:,0]\n",
    "        f[:,3] = u[:,1]\n",
    "    else:\n",
    "        f = np.zeros_like(x)\n",
    "        f[0] = x[2]\n",
    "        f[1] = x[3]\n",
    "        f[2] = u[0]\n",
    "        f[3] = u[1]\n",
    "    return f"
   ]
  },
  {
   "cell_type": "code",
   "execution_count": null,
   "id": "9ec569ff",
   "metadata": {},
   "outputs": [],
   "source": [
    "_x_0 = np.array([0.,0.,0.,0.])\n",
    "_ej_u = np.array([[1.,1.],[1.,1.]])\n",
    "_x_1 = trapz_step(_x_0, _ej_u[0], _ej_u[1], F_ej, 1., [0.,])"
   ]
  },
  {
   "cell_type": "code",
   "execution_count": null,
   "id": "71b59476",
   "metadata": {},
   "outputs": [],
   "source": [
    "_x_1"
   ]
  },
  {
   "cell_type": "code",
   "execution_count": null,
   "id": "65478fe1",
   "metadata": {},
   "outputs": [],
   "source": [
    "_ej_x = np.array([_x_0, _x_1])\n",
    "\n",
    "_ej_x"
   ]
  },
  {
   "cell_type": "code",
   "execution_count": null,
   "id": "0c7b0685",
   "metadata": {},
   "outputs": [],
   "source": [
    "_X_interp, _U_interp = interpolated_array(_ej_x, _ej_u, F_ej, 1.,\n",
    "                                  np.array([0,0.5,1]), [1], 'trapz')\n",
    "_X_interp"
   ]
  },
  {
   "cell_type": "code",
   "execution_count": null,
   "id": "e195a05f",
   "metadata": {},
   "outputs": [],
   "source": [
    "_ej_u_2 = np.sin(np.linspace([0,0], [20,20], 51))\n",
    "_ej_x_2 = np.array(integrate_trapz(\n",
    "    _x_0,\n",
    "    _ej_u_2,\n",
    "    F_ej,\n",
    "    0.1,\n",
    "    [1,]\n",
    "))[:-1]\n",
    "_ej_x_2.shape"
   ]
  },
  {
   "cell_type": "code",
   "execution_count": null,
   "id": "3cf68b55",
   "metadata": {},
   "outputs": [],
   "source": [
    "_ej_x_interp, _ej_u_interp = interpolated_array(_ej_x_2, _ej_u_2, F_ej, 0.1,\n",
    "                                  np.linspace(0, 5,101), [1,], 'trapz')"
   ]
  },
  {
   "cell_type": "code",
   "execution_count": null,
   "id": "47db067a",
   "metadata": {},
   "outputs": [],
   "source": [
    "plt.figure(figsize=[50,20])\n",
    "aa = 2\n",
    "ej_t_array = np.linspace(0, 5,51)\n",
    "new_ej_t_array = np.linspace(0, 5,101)\n",
    "plt.plot(new_ej_t_array, _ej_x_interp[:,aa], 'b')\n",
    "plt.plot(ej_t_array, _ej_x_2[:,aa], 'r:')\n",
    "plt.plot(ej_t_array, _ej_x_2[:,aa], 'g:')\n",
    "plt.plot(ej_t_array, _ej_x_2[:,aa], 'ko')\n",
    "plt.vlines(new_ej_t_array, -0.1, 0.6)"
   ]
  },
  {
   "cell_type": "code",
   "execution_count": null,
   "id": "1489eac6",
   "metadata": {},
   "outputs": [],
   "source": [
    "h = 0.1"
   ]
  },
  {
   "cell_type": "code",
   "execution_count": null,
   "id": "d9c4e1fb",
   "metadata": {
    "scrolled": true
   },
   "outputs": [],
   "source": [
    "accelerations = F_ej(_ej_x_2, _ej_u_2,[1,])\n",
    "accelerations"
   ]
  },
  {
   "cell_type": "code",
   "execution_count": null,
   "id": "4a9f6796",
   "metadata": {},
   "outputs": [],
   "source": [
    "_err_1 = accelerations[:,2] - num_derivative(accelerations[:,0], h)\n",
    "_err_2 = accelerations[:,0] - _ej_x_2[:,2]\n",
    "_err_3 = _ej_x_2[:,2] - num_derivative(_ej_x_2[:,0],h)"
   ]
  },
  {
   "cell_type": "code",
   "execution_count": null,
   "id": "e72a1120",
   "metadata": {},
   "outputs": [],
   "source": [
    "plt.figure(figsize=[15,7])\n",
    "plt.plot(ej_t_array,_err_1, label = f'error 1')\n",
    "plt.plot(ej_t_array,_err_2, label = f'error 2')\n",
    "plt.plot(ej_t_array,_err_3, label = f'error 3')\n",
    "plt.plot([0, ej_t_array[-1]], [0,0], 'k', lw=1, ls = ':')\n",
    "plt.legend()"
   ]
  },
  {
   "cell_type": "code",
   "execution_count": null,
   "id": "89b23692",
   "metadata": {},
   "outputs": [],
   "source": [
    "_err_4 = trapz_integrate(accelerations[:,2], ej_t_array) - accelerations[:,0]\n",
    "_err_5 = trapz_integrate(_ej_x_2[:,2], ej_t_array) - _ej_x_2[:,0]"
   ]
  },
  {
   "cell_type": "code",
   "execution_count": null,
   "id": "96a727d7",
   "metadata": {},
   "outputs": [],
   "source": [
    "plt.figure(figsize=[15,7])\n",
    "plt.plot(ej_t_array,_err_4, label = f'error 4')\n",
    "plt.plot(ej_t_array,_err_5, label = f'error 5')\n",
    "plt.plot([0, ej_t_array[-1]], [0,0], 'k', lw=1, ls = ':')\n",
    "plt.legend()"
   ]
  },
  {
   "cell_type": "code",
   "execution_count": null,
   "id": "27602520",
   "metadata": {},
   "outputs": [],
   "source": []
  },
  {
   "cell_type": "code",
   "execution_count": null,
   "id": "f1cf0b5f",
   "metadata": {},
   "outputs": [],
   "source": [
    "import casadi as cas\n",
    "import numpy as np"
   ]
  },
  {
   "cell_type": "code",
   "execution_count": null,
   "id": "f8352466",
   "metadata": {},
   "outputs": [],
   "source": [
    "import optibot.schemes as sch"
   ]
  },
  {
   "cell_type": "code",
   "execution_count": null,
   "id": "0c621718",
   "metadata": {},
   "outputs": [],
   "source": [
    "import functools\n",
    "from numpy import array, expand_dims\n",
    "from optibot.schemes import vec_len, euler_step\n",
    "from scipy.optimize import root\n",
    "from copy import copy\n",
    "\n",
    "def coherent_dimensions(func):\n",
    "    '''\n",
    "    Adapts input variables to ensure that they are compatible\n",
    "    with functions of structure integrate_x(x_0, u, F, dt, params)\n",
    "\n",
    "    Parameters\n",
    "    ----------\n",
    "    func : Function\n",
    "        Integration function whose structure is F(x_0, u, F, dt, params).\n",
    "    -------\n",
    "    Function\n",
    "        The same function, but with additional comprobations\n",
    "        that the input variables are coherent.\n",
    "\n",
    "    '''\n",
    "    @functools.wraps(func)\n",
    "    def wrapper_decorator(x_0, u, F, dt, params):\n",
    "        x_0 = array(x_0, dtype=float)\n",
    "        u = array(u, dtype=float)\n",
    "        \n",
    "        # If u was a number, it will produce errors later\n",
    "        # while trying to iterate over it. We have to to convert it\n",
    "        # into a 1D array of lenght 1 \n",
    "        if u.size == 1 and u.shape == ():\n",
    "            u = expand_dims(u, axis=0)\n",
    "            \n",
    "        # x_0 is the initial state and must be 1D:\n",
    "        if not (len(x_0.shape) == 1 or (len(x_0.shape) == 2 and x_0.shape[0] == 1)):\n",
    "            raise ValueError(\n",
    "                f\"x_0 must be a 1D array, but instead its shape is {x_0.shape}\"\n",
    "            )\n",
    "        # If x_0 is a 2D array of one line, we have to convert it\n",
    "        # to a normal 1D array so that the integration is coherent.\n",
    "        if len(x_0.shape) == 2:\n",
    "            x_0 = x_0[0]\n",
    "        # If u is 1D but the problem has more than 1 q,\n",
    "        # it means that it corresponds to only one step\n",
    "        if len(u.shape) == 1 and x_0.shape[0] != 2:\n",
    "            u = expand_dims(u, axis=0)\n",
    "        value = func(x_0, u, F, dt, params)\n",
    "        return value\n",
    "\n",
    "    return wrapper_decorator\n",
    "\n",
    "def trapz_mod_opti_step(x_n, x, u, u_n, F, dt, params):\n",
    "    dim = vec_len(x) // 2\n",
    "    f = F(x, u, params)[dim:]\n",
    "    f_n = F(x_n, u_n, params)[dim:]\n",
    "    res = copy(x)\n",
    "    res[dim:] = x[dim:] + dt / 2 * (f + f_n) - x_n[dim:]\n",
    "    res[:dim] = x[:dim] + dt * x[dim:] + dt ** 2 / 6 * (f_n + 2 * f) - x_n[:dim]\n",
    "    return res\n",
    "\n",
    "\n",
    "def trapz_mod_step(x, u, u_n, F, dt, params):\n",
    "    x_0 = euler_step(x, u, F, dt, params)\n",
    "    x_n = root(trapz_mod_opti_step, x_0, (x, u, u_n, F, dt, params))\n",
    "    return x_n.x\n",
    "\n",
    "@coherent_dimensions\n",
    "def integrate_trapz_mod(x_0, u, F, dt, params):\n",
    "    x = [\n",
    "        x_0,\n",
    "    ]\n",
    "    for ii in range(0, vec_len(u) - 1):\n",
    "        #print('x: ', x[-1],'u: ', u[ii], 'un: ', u[ii + 1])\n",
    "        x_i = trapz_mod_step(x[-1], u[ii], u[ii + 1], F, dt, params)\n",
    "        #print('x_i: ', x_i)\n",
    "        x.append(x_i)\n",
    "    #print('x: ', x[-1],'u: ', u[-1], 'un: ', u[-1])\n",
    "    x_i = trapz_mod_step(x[-1], u[-1], u[-1], F, dt, params)\n",
    "    x.append(x_i)\n",
    "    return array(x)"
   ]
  },
  {
   "cell_type": "code",
   "execution_count": null,
   "id": "829a4671",
   "metadata": {},
   "outputs": [],
   "source": [
    "cases = [\n",
    "    [[0,1], 1],\n",
    "    [[0,1], [0,1]],\n",
    "    [[[0,1],], [0,1]],\n",
    "    [[0,0,1,1], [0,1]],\n",
    "    [[0,0,1,1], [[0,1],[2,3]]],\n",
    "]"
   ]
  },
  {
   "cell_type": "code",
   "execution_count": null,
   "id": "9c55ddd8",
   "metadata": {},
   "outputs": [],
   "source": [
    "F = sch.expand_F(lambda x, u, params: u, mode=\"numpy\")\n",
    "params = []"
   ]
  },
  {
   "cell_type": "code",
   "execution_count": null,
   "id": "4af69c13",
   "metadata": {},
   "outputs": [],
   "source": [
    "sch.trapz_mod_opti_step(\n",
    "    np.array([0.5, 1.]),\n",
    "    np.array([0., 1.]),\n",
    "    np.array([0.]),\n",
    "    np.array([1.]),\n",
    "    F,\n",
    "    0.5,\n",
    "    params\n",
    ")"
   ]
  },
  {
   "cell_type": "code",
   "execution_count": null,
   "id": "a57c2c92",
   "metadata": {},
   "outputs": [],
   "source": [
    "for x_test, u_test in cases:\n",
    "    #print('\\n\\nCase\\nx_0: ',x_test, '\\nu: ', u_test, '\\n\\n')\n",
    "    res = sch.integrate_hs_mod(x_test, u_test, F, 0.5, params)\n",
    "    print('[', end='')\n",
    "    for ii in res:\n",
    "        print('[', end='')\n",
    "        for jj in ii:\n",
    "            print(jj, ',', end='')\n",
    "        print('],', end='')\n",
    "    print('],')"
   ]
  },
  {
   "cell_type": "code",
   "execution_count": null,
   "id": "4268943d",
   "metadata": {},
   "outputs": [],
   "source": [
    "integrate_funcs = [sch.trap_interp,\n",
    "                       sch.trap_mod_interp, sch.hs_interp, sch.hs_mod_interp]"
   ]
  },
  {
   "cell_type": "code",
   "execution_count": null,
   "id": "1af59493",
   "metadata": {},
   "outputs": [],
   "source": [
    "import casadi as cas\n",
    "import numpy as np\n",
    "import matplotlib.pyplot as plt"
   ]
  },
  {
   "cell_type": "code",
   "execution_count": null,
   "id": "7542b67e",
   "metadata": {},
   "outputs": [],
   "source": [
    "import optibot.schemes as sch"
   ]
  },
  {
   "cell_type": "code",
   "execution_count": null,
   "id": "7e232381",
   "metadata": {},
   "outputs": [],
   "source": [
    "def generate_restrictions_parameters():\n",
    "    schemes = ['trapz', 'trapz_mod', 'hs', 'hs_mod', 'hs_scipy']\n",
    "    integrate_funcs = [sch.integrate_trapz, sch.integrate_trapz_mod, sch.integrate_hs, sch.integrate_hs_mod, sch.integrate_hs]\n",
    "    x_0 =[np.array([0.,1.]), np.array([0.,1.,2.,3.])]\n",
    "    u = [np.array([3.,4.]), np.array([[4., 5.],[6., 7.]])]\n",
    "    \n",
    "    test_cases = []\n",
    "    for ii in range(len(schemes)):\n",
    "        fun = schemes[ii]\n",
    "        int_fun = integrate_funcs[ii]\n",
    "        for jj in range(len(x_0)):\n",
    "            x_0_case = x_0[jj]\n",
    "            u_case = u[jj]\n",
    "            test_cases.append((fun, int_fun, x_0_case, u_case))\n",
    "    return test_cases"
   ]
  },
  {
   "cell_type": "code",
   "execution_count": null,
   "id": "b50f78ea",
   "metadata": {},
   "outputs": [],
   "source": [
    "test_cases = generate_restrictions_parameters()"
   ]
  },
  {
   "cell_type": "code",
   "execution_count": null,
   "id": "8fa463e3",
   "metadata": {
    "scrolled": false
   },
   "outputs": [],
   "source": [
    "test_cases = generate_restrictions_parameters()\n",
    "for ii in range(len(test_cases)):\n",
    "    scheme, func_int, x_0, U = test_cases[ii]\n",
    "    print(f'F_test {ii}: {scheme}, F_int: {func_int.__name__}, x_0: {x_0}, u: {U}')\n",
    "    F = sch.expand_F(lambda x, u, params: u)\n",
    "    h = 0.5\n",
    "    t_array = np.array([h, h*1.5, (2*h)-1e-8])\n",
    "    params = []\n",
    "    X = func_int(x_0, U, F, h, params)\n",
    "    interp_X, interp_U = sch.interpolated_array(X, U, F, h, t_array, params, scheme)\n",
    "    print('\\nInterpolated:', interp_X[0] - X[1], interp_X[2] - X[2],'\\n', interp_X[1],'\\n')"
   ]
  },
  {
   "cell_type": "code",
   "execution_count": null,
   "id": "0a4c0ded",
   "metadata": {},
   "outputs": [],
   "source": [
    "np.concatenate([np.array([0.34895833,2]), np.array([1.8125,3])])"
   ]
  },
  {
   "cell_type": "code",
   "execution_count": null,
   "id": "500e1069",
   "metadata": {
    "scrolled": true
   },
   "outputs": [],
   "source": [
    "F((np.array([0.34895833]), np.array([1.8125])),3.5, params)"
   ]
  },
  {
   "cell_type": "code",
   "execution_count": null,
   "id": "0059e2b8",
   "metadata": {},
   "outputs": [],
   "source": [
    "sch.hs_midpoint(x_0, x_n, u[0], u[1], tau, F, dt, params)"
   ]
  },
  {
   "cell_type": "code",
   "execution_count": null,
   "id": "96134524",
   "metadata": {},
   "outputs": [],
   "source": [
    "residue"
   ]
  },
  {
   "cell_type": "code",
   "execution_count": null,
   "id": "69275346",
   "metadata": {},
   "outputs": [],
   "source": []
  },
  {
   "cell_type": "code",
   "execution_count": null,
   "id": "4a6cb12e",
   "metadata": {},
   "outputs": [],
   "source": []
  },
  {
   "cell_type": "code",
   "execution_count": null,
   "id": "10d47e26",
   "metadata": {},
   "outputs": [],
   "source": []
  },
  {
   "cell_type": "code",
   "execution_count": null,
   "id": "f1dd503a",
   "metadata": {},
   "outputs": [],
   "source": []
  },
  {
   "cell_type": "code",
   "execution_count": null,
   "id": "a5fe2a62",
   "metadata": {},
   "outputs": [],
   "source": []
  }
 ],
 "metadata": {
  "kernelspec": {
   "display_name": "Python 3",
   "language": "python",
   "name": "python3"
  },
  "language_info": {
   "codemirror_mode": {
    "name": "ipython",
    "version": 3
   },
   "file_extension": ".py",
   "mimetype": "text/x-python",
   "name": "python",
   "nbconvert_exporter": "python",
   "pygments_lexer": "ipython3",
   "version": "3.9.5"
  }
 },
 "nbformat": 4,
 "nbformat_minor": 5
}
