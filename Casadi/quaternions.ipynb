{
 "cells": [
  {
   "cell_type": "code",
   "execution_count": null,
   "id": "0e67f796",
   "metadata": {},
   "outputs": [],
   "source": [
    "import numpy as np\n",
    "import matplotlib.pyplot as plt"
   ]
  },
  {
   "cell_type": "code",
   "execution_count": null,
   "id": "db39ac06",
   "metadata": {},
   "outputs": [],
   "source": [
    "import matplotlib"
   ]
  },
  {
   "cell_type": "code",
   "execution_count": null,
   "id": "1f5e660b",
   "metadata": {},
   "outputs": [],
   "source": [
    "from sympy import (symbols, simplify)\n",
    "from sympy.physics.mechanics import dynamicsymbols, init_vprinting\n",
    "from sympy.physics.mechanics import Lagrangian, ReferenceFrame, Point, Particle,inertia, RigidBody"
   ]
  },
  {
   "cell_type": "code",
   "execution_count": null,
   "id": "6d56bf29",
   "metadata": {},
   "outputs": [],
   "source": [
    "from optibot.symbolic import lagrange, diff_to_symb, SimpLagrangesMethod\n",
    "from optibot.numpy import unpack"
   ]
  },
  {
   "cell_type": "code",
   "execution_count": null,
   "id": "1c277203",
   "metadata": {},
   "outputs": [],
   "source": [
    "from optibot.pseudospectral import (base_points, coll_points, matrix_D_bary, bary_poly, \n",
    "                                    LG_diff_end_p_fun, dynamic_error_pseudospectral, lagrangePolynomial,\n",
    "                                    LG_diff_end_p_fun_cas)"
   ]
  },
  {
   "cell_type": "code",
   "execution_count": null,
   "id": "2385886a",
   "metadata": {},
   "outputs": [],
   "source": [
    "from functools import lru_cache"
   ]
  },
  {
   "cell_type": "code",
   "execution_count": null,
   "id": "9070f2c5",
   "metadata": {},
   "outputs": [],
   "source": [
    "import casadi as cas"
   ]
  },
  {
   "cell_type": "code",
   "execution_count": null,
   "id": "d85c7d64",
   "metadata": {},
   "outputs": [],
   "source": [
    "init_vprinting()"
   ]
  },
  {
   "cell_type": "markdown",
   "id": "fccbc8e5",
   "metadata": {},
   "source": [
    "### Symbolic Problem Modelling"
   ]
  },
  {
   "cell_type": "code",
   "execution_count": null,
   "id": "fc5863b2",
   "metadata": {},
   "outputs": [],
   "source": [
    "def quaternion(theta, vect):\n",
    "    vect = np.array(vect)\n",
    "    mod = np.sqrt(np.sum(vect**2))\n",
    "    vect = vect/mod\n",
    "    quat = np.zeros(4)\n",
    "    quat[0] = np.cos(theta/2)\n",
    "    quat[1:] = np.sin(theta/2)*vect\n",
    "    return quat"
   ]
  },
  {
   "cell_type": "code",
   "execution_count": null,
   "id": "7c03913c",
   "metadata": {},
   "outputs": [],
   "source": [
    "quaternion(1, [1,2,0])"
   ]
  },
  {
   "cell_type": "code",
   "execution_count": null,
   "id": "2baa25a9",
   "metadata": {},
   "outputs": [],
   "source": [
    "_q = cas.SX.sym(\"q\", 4)"
   ]
  },
  {
   "cell_type": "code",
   "execution_count": null,
   "id": "71982b70",
   "metadata": {},
   "outputs": [],
   "source": [
    "_W = cas.SX.zeros(3,4)\n",
    "_W[0,0] = -_q[1]\n",
    "_W[0,1] = _q[0]\n",
    "_W[0,2] = _q[3]\n",
    "_W[0,3] = -_q[2]\n",
    "_W[1,0] = -_q[2]\n",
    "_W[1,1] = -_q[3]\n",
    "_W[1,2] = _q[0]\n",
    "_W[1,3] = _q[1]\n",
    "_W[2,0] = -_q[3]\n",
    "_W[2,1] = _q[2]\n",
    "_W[2,2] = -_q[1]\n",
    "_W[2,3] = _q[0]\n",
    "_W"
   ]
  },
  {
   "cell_type": "code",
   "execution_count": null,
   "id": "fa589667",
   "metadata": {},
   "outputs": [],
   "source": [
    "W_cas = cas.Function(\n",
    "        \"W\",\n",
    "        [_q],\n",
    "        [_W,],\n",
    "        [\"q\"],\n",
    "        [\"W\"],\n",
    "    )"
   ]
  },
  {
   "cell_type": "code",
   "execution_count": null,
   "id": "9c8441bf",
   "metadata": {},
   "outputs": [],
   "source": [
    "_R = cas.SX.zeros(3,3)\n",
    "_R[0,0] = _q[0]**2 + _q[1]**2 - _q[2]**2 - _q[3]**2\n",
    "_R[0,1] = 2 * (_q[1]*_q[2] - _q[0]*_q[3])\n",
    "_R[0,2] = 2 * (_q[1]*_q[3] + _q[0]*_q[2])\n",
    "_R[1,0] = 2 * (_q[1]*_q[2] + _q[0]*_q[3])\n",
    "_R[1,1] = _q[0]**2 - _q[1]**2 + _q[2]**2 - _q[3]**2\n",
    "_R[1,2] = 2 * (_q[2]*_q[3] - _q[0]*_q[1])\n",
    "_R[2,0] = 2 * (_q[1]*_q[3] - _q[0]*_q[2])\n",
    "_R[2,1] = 2 * (_q[3]*_q[2] + _q[0]*_q[1])\n",
    "_R[2,2] = _q[0]**2 - _q[1]**2 - _q[2]**2 + _q[3]**2\n",
    "_R"
   ]
  },
  {
   "cell_type": "code",
   "execution_count": null,
   "id": "5fe10511",
   "metadata": {},
   "outputs": [],
   "source": [
    "_mod_q_sq = _q.T @ _q"
   ]
  },
  {
   "cell_type": "code",
   "execution_count": null,
   "id": "5f5a6313",
   "metadata": {},
   "outputs": [],
   "source": [
    "R_cas_no_unit = cas.Function(\n",
    "        \"R\",\n",
    "        [_q],\n",
    "        [1 / _mod_q_sq * _R],\n",
    "        [\"q\"],\n",
    "        [\"R\"],\n",
    "    )"
   ]
  },
  {
   "cell_type": "code",
   "execution_count": null,
   "id": "02d41896",
   "metadata": {
    "scrolled": true
   },
   "outputs": [],
   "source": [
    "R_cas_no_unit(_q)"
   ]
  },
  {
   "cell_type": "code",
   "execution_count": null,
   "id": "40904cd7",
   "metadata": {},
   "outputs": [],
   "source": [
    "_I_diag = cas.SX.eye(3)\n",
    "_I_diag_vals = cas.SX.sym(\"I\", 3)\n",
    "_I_diag[0,0] = _I_diag_vals[0]\n",
    "_I_diag[1,1] = _I_diag_vals[1]\n",
    "_I_diag[2,2] = _I_diag_vals[2]\n",
    "\n",
    "_I_diag"
   ]
  },
  {
   "cell_type": "code",
   "execution_count": null,
   "id": "f8cac99f",
   "metadata": {},
   "outputs": [],
   "source": [
    "I_cas_diag = cas.Function(\n",
    "        \"I\",\n",
    "        [_I_diag_vals],\n",
    "        [_I_diag],\n",
    "        [\"I values\"],\n",
    "        [\"I\"],\n",
    "    )"
   ]
  },
  {
   "cell_type": "code",
   "execution_count": null,
   "id": "b8f25938",
   "metadata": {},
   "outputs": [],
   "source": [
    "_cross_mat = cas.SX(3,3)\n",
    "_cross_mat[0,1] = -_I_diag_vals[2]\n",
    "_cross_mat[0,2] = _I_diag_vals[1]\n",
    "_cross_mat[1,0] = _I_diag_vals[2]\n",
    "_cross_mat[1,2] = -_I_diag_vals[0]\n",
    "_cross_mat[2,0] = -_I_diag_vals[1]\n",
    "_cross_mat[2,1] = _I_diag_vals[0]\n",
    "_cross_mat"
   ]
  },
  {
   "cell_type": "code",
   "execution_count": null,
   "id": "9868ec40",
   "metadata": {},
   "outputs": [],
   "source": [
    "cross_mat_cas = cas.Function(\n",
    "        \"M_x\",\n",
    "        [_I_diag_vals],\n",
    "        [_cross_mat],\n",
    "        [\"vector\"],\n",
    "        [\"Cross product matrix\"],\n",
    "    )"
   ]
  },
  {
   "cell_type": "code",
   "execution_count": null,
   "id": "d18f4e5f",
   "metadata": {},
   "outputs": [],
   "source": [
    "_q_dot = cas.SX.sym(\"q_d\", 4)"
   ]
  },
  {
   "cell_type": "code",
   "execution_count": null,
   "id": "b99e7bef",
   "metadata": {},
   "outputs": [],
   "source": [
    "_omega = 2/_mod_q_sq*_W@_q_dot\n",
    "_omega"
   ]
  },
  {
   "cell_type": "code",
   "execution_count": null,
   "id": "04854dbc",
   "metadata": {},
   "outputs": [],
   "source": [
    "omega_cas = cas.Function(\n",
    "        \"w\",\n",
    "        [_q, _q_dot],\n",
    "        [_omega],\n",
    "        [\"q\", \"q_d\"],\n",
    "        [\"omega\"],\n",
    "    )"
   ]
  },
  {
   "cell_type": "code",
   "execution_count": null,
   "id": "3289edbf",
   "metadata": {},
   "outputs": [],
   "source": [
    "_omega_expl = cas.SX.sym(\"w\", 3)\n",
    "_q_dot_omega = 1/2*_W.T @ _omega_expl\n",
    "\n",
    "q_dot_omega_cas = cas.Function(\n",
    "        \"q_d\",\n",
    "        [_q, _omega_expl],\n",
    "        [_q_dot_omega],\n",
    "        [\"q\", \"omega\"],\n",
    "        [\"q_d\"],\n",
    "    )"
   ]
  },
  {
   "cell_type": "code",
   "execution_count": null,
   "id": "3ddb9af7",
   "metadata": {},
   "outputs": [],
   "source": [
    "e3_x = cross_mat_cas([0,0,1])\n",
    "e3 = cas.SX(3,1)\n",
    "e3[2] = 1\n",
    "_u = cas.SX.sym(\"u\", 3)\n",
    "_params = cas.SX.sym(\"param\", 6)\n",
    "_m, _g, _h, _Ix, _Iy, _Iz = cas.vertsplit(_params)\n",
    "_I_diag_vals = _params[3:6]\n",
    "_I_inv = cas.inv(I_cas_diag(_I_diag_vals))"
   ]
  },
  {
   "cell_type": "code",
   "execution_count": null,
   "id": "11a25690",
   "metadata": {},
   "outputs": [],
   "source": [
    "_omega_d = _I_inv @ (_u + _m*_g*_h* e3_x@R_cas_no_unit(_q).T@e3 - cross_mat_cas(_omega)@I_cas_diag(_I_diag_vals)@_omega)"
   ]
  },
  {
   "cell_type": "code",
   "execution_count": null,
   "id": "45fc67b7",
   "metadata": {},
   "outputs": [],
   "source": [
    "_omega_d.shape"
   ]
  },
  {
   "cell_type": "code",
   "execution_count": null,
   "id": "858ea496",
   "metadata": {},
   "outputs": [],
   "source": [
    "_q_d_d = 1/2*W_cas(_q_dot).T@_omega + 1/2*W_cas(_q).T@_omega_d"
   ]
  },
  {
   "cell_type": "code",
   "execution_count": null,
   "id": "716d59f8",
   "metadata": {},
   "outputs": [],
   "source": [
    "_q_d_d.shape"
   ]
  },
  {
   "cell_type": "code",
   "execution_count": null,
   "id": "10ae1ad0",
   "metadata": {},
   "outputs": [],
   "source": [
    "q_d_d_cas = cas.Function(\n",
    "        \"q_dot_dot\",\n",
    "        [_q, _q_dot, _u, _params],\n",
    "        [_q_d_d],\n",
    "        [\"q\", \"q_d\", \"u\", \"params\"],\n",
    "        [\"q_dot_dot\"],\n",
    "    )\n",
    "q_d_d_cas.__name__ = q_d_d_cas.name()"
   ]
  },
  {
   "cell_type": "code",
   "execution_count": null,
   "id": "b4acc320",
   "metadata": {},
   "outputs": [],
   "source": [
    "q_d_d_cas([0,0,0,1], [1,1,1,1], [0,1,1], [1,1,1,1,1,1]).shape"
   ]
  },
  {
   "cell_type": "code",
   "execution_count": null,
   "id": "e49f22f5",
   "metadata": {},
   "outputs": [],
   "source": [
    "def quat_to_cart(q):\n",
    "    return params[2]*np.array(R_cas_no_unit(q))@np.array([0,0,1])\n",
    "\n",
    "def quat_to_cart_arr(q_arr):\n",
    "    l = q_arr.shape[0]\n",
    "    res = np.zeros([l,3])\n",
    "    for ii in range(l):\n",
    "        res[ii,:] = quat_to_cart(q_arr[ii,:])\n",
    "    return res\n",
    "\n",
    "\n",
    "def omega_arr(q_arr, q_d_arr):\n",
    "    l = q_arr.shape[0]\n",
    "    res = np.zeros([l,3])\n",
    "    for ii in range(l):\n",
    "        res[ii,:] = omega_cas(q_arr[ii,:],q_d_arr[ii,:]).T\n",
    "    return res"
   ]
  },
  {
   "cell_type": "code",
   "execution_count": null,
   "id": "cb749e53",
   "metadata": {},
   "outputs": [],
   "source": [
    "def _energ(q, qdot, params):\n",
    "    [m_n, g_n, h_n, Ix, Iy,Iz] = params \n",
    "    I =I_cas_diag([Ix, Iy, Iz])\n",
    "    omeg = omega_cas(q, qdot)\n",
    "    r_mat = R_cas_no_unit(q)\n",
    "    i_iner = r_mat @ I @r_mat.T\n",
    "    t = 0.5* omeg.T @i_iner @omeg\n",
    "    z = quat_to_cart(q)[2]\n",
    "    v = m_n * g_n * (-z)\n",
    "    return (t+v), t, v\n",
    "\n",
    "def energy_arr(q_arr, qdot_arr, params):\n",
    "    l = q_arr.shape[0]\n",
    "    res = np.zeros([l,3])\n",
    "    for ii in range(l):\n",
    "        _e = _energ(q_arr[ii,:], qdot_arr[ii,:], params)\n",
    "        for jj in range(3):\n",
    "            res[ii,jj] = _e[jj]\n",
    "    return res"
   ]
  },
  {
   "cell_type": "code",
   "execution_count": null,
   "id": "e619b602",
   "metadata": {},
   "outputs": [],
   "source": [
    "m_n = 1\n",
    "h_n = 1\n",
    "g_n = 1\n",
    "Ix = 1\n",
    "Iy = 1\n",
    "Iz = 0.5\n",
    "params = (m_n, g_n, h_n, Ix, Iy,Iz)"
   ]
  },
  {
   "cell_type": "code",
   "execution_count": null,
   "id": "d5e2ae9b",
   "metadata": {},
   "outputs": [],
   "source": [
    "_energ(quaternion(0.5, [1,2,0]), [1,0,0,1], params)"
   ]
  },
  {
   "cell_type": "markdown",
   "id": "5ebbaa6a",
   "metadata": {},
   "source": [
    "## Numerico con Numba para que corra deprisa"
   ]
  },
  {
   "cell_type": "code",
   "execution_count": null,
   "id": "7efa5368",
   "metadata": {},
   "outputs": [],
   "source": [
    "from numba import njit, prange"
   ]
  },
  {
   "cell_type": "code",
   "execution_count": null,
   "id": "07479dfa",
   "metadata": {},
   "outputs": [],
   "source": [
    "@njit\n",
    "def nquaternion(theta, vect):\n",
    "    mod = np.sqrt(np.sum(vect**2))\n",
    "    vect = vect/mod\n",
    "    quat = np.zeros(4)\n",
    "    quat[0] = np.cos(theta/2)\n",
    "    quat[1:] = np.sin(theta/2)*vect\n",
    "    return quat"
   ]
  },
  {
   "cell_type": "code",
   "execution_count": null,
   "id": "14d0cbd1",
   "metadata": {},
   "outputs": [],
   "source": [
    "@njit\n",
    "def W_num(_q):\n",
    "    _W = np.zeros((3,4))\n",
    "    _W[0,0] = -_q[1]\n",
    "    _W[0,1] = _q[0]\n",
    "    _W[0,2] = _q[3]\n",
    "    _W[0,3] = -_q[2]\n",
    "    _W[1,0] = -_q[2]\n",
    "    _W[1,1] = -_q[3]\n",
    "    _W[1,2] = _q[0]\n",
    "    _W[1,3] = _q[1]\n",
    "    _W[2,0] = -_q[3]\n",
    "    _W[2,1] = _q[2]\n",
    "    _W[2,2] = -_q[1]\n",
    "    _W[2,3] = _q[0]\n",
    "    return _W"
   ]
  },
  {
   "cell_type": "code",
   "execution_count": null,
   "id": "3a2f1a02",
   "metadata": {},
   "outputs": [],
   "source": [
    "@njit\n",
    "def R_num_no_unit(_q):\n",
    "    _R = np.zeros((3,3))\n",
    "    _R[0,0] = _q[0]**2 + _q[1]**2 - _q[2]**2 - _q[3]**2\n",
    "    _R[0,1] = 2 * (_q[1]*_q[2] - _q[0]*_q[3])\n",
    "    _R[0,2] = 2 * (_q[1]*_q[3] + _q[0]*_q[2])\n",
    "    _R[1,0] = 2 * (_q[1]*_q[2] + _q[0]*_q[3])\n",
    "    _R[1,1] = _q[0]**2 - _q[1]**2 + _q[2]**2 - _q[3]**2\n",
    "    _R[1,2] = 2 * (_q[2]*_q[3] - _q[0]*_q[1])\n",
    "    _R[2,0] = 2 * (_q[1]*_q[3] - _q[0]*_q[2])\n",
    "    _R[2,1] = 2 * (_q[3]*_q[2] + _q[0]*_q[1])\n",
    "    _R[2,2] = _q[0]**2 - _q[1]**2 - _q[2]**2 + _q[3]**2\n",
    "    _mod_q_sq = _q.T @ _q\n",
    "    return 1 / _mod_q_sq * _R"
   ]
  },
  {
   "cell_type": "code",
   "execution_count": null,
   "id": "4d48dab2",
   "metadata": {},
   "outputs": [],
   "source": [
    "@njit\n",
    "def I_num_diag(_I_diag_vals):\n",
    "    _I_diag = np.eye(3)\n",
    "    _I_diag[0,0] = _I_diag_vals[0]\n",
    "    _I_diag[1,1] = _I_diag_vals[1]\n",
    "    _I_diag[2,2] = _I_diag_vals[2]\n",
    "\n",
    "    return _I_diag"
   ]
  },
  {
   "cell_type": "code",
   "execution_count": null,
   "id": "a2cbeee4",
   "metadata": {},
   "outputs": [],
   "source": [
    "@njit\n",
    "def cross_mat_num(vect):\n",
    "    _cross_mat = np.zeros((3,3))\n",
    "    _cross_mat[0,1] = -vect[2]\n",
    "    _cross_mat[0,2] = vect[1]\n",
    "    _cross_mat[1,0] = vect[2]\n",
    "    _cross_mat[1,2] = -vect[0]\n",
    "    _cross_mat[2,0] = -vect[1]\n",
    "    _cross_mat[2,1] = vect[0]\n",
    "\n",
    "    return _cross_mat"
   ]
  },
  {
   "cell_type": "code",
   "execution_count": null,
   "id": "2d676002",
   "metadata": {},
   "outputs": [],
   "source": [
    "@njit\n",
    "def omega_num(_q, _q_dot):\n",
    "    _mod_q_sq = _q.T @ _q\n",
    "    _W = W_num(_q)\n",
    "    _omega = 2/_mod_q_sq*_W@_q_dot\n",
    "    return _omega\n",
    "\n",
    "@njit\n",
    "def q_dot_omega_num(_q, _omega_expl):\n",
    "    _W = W_num(_q)\n",
    "    _q_dot_omega = 1/2*_W.T @ _omega_expl\n",
    "    return _q_dot_omega"
   ]
  },
  {
   "cell_type": "code",
   "execution_count": null,
   "id": "60e56d30",
   "metadata": {},
   "outputs": [],
   "source": [
    "@njit\n",
    "def omega_d_num(_q, _q_dot, _u, _params):\n",
    "    e3 = np.array((0,0,1.))\n",
    "    e3_x = cross_mat_num(e3)\n",
    "    _m, _g, _h, _Ix, _Iy, _Iz = _params\n",
    "    _I_diag_vals = np.array(_params[3:6])\n",
    "    _I = I_num_diag(_I_diag_vals)\n",
    "    _I_inv = np.linalg.inv(_I)\n",
    "    _omega = omega_num(_q, _q_dot)\n",
    "    \n",
    "    _t1 = _u + _m*_g*_h* e3_x@R_num_no_unit(_q).T@e3\n",
    "    _t3 = - cross_mat_num(_omega)@_I@_omega\n",
    "    _omega_d = _I_inv @ (_t1 + _t3)\n",
    "    \n",
    "    return _omega_d\n",
    "\n",
    "@njit\n",
    "def q_d_d_num(_q, _q_dot, _u, _params):\n",
    "    _omega_d = omega_d_num(_q, _q_dot, _u, _params)\n",
    "    _omega = omega_num(_q, _q_dot)\n",
    "    \n",
    "    _q_d_d = 1/2*W_num(_q_dot).T@_omega + 1/2*W_num(_q).T@_omega_d\n",
    "    \n",
    "    return _q_d_d"
   ]
  },
  {
   "cell_type": "code",
   "execution_count": null,
   "id": "fd68c6f3",
   "metadata": {},
   "outputs": [],
   "source": [
    "@njit\n",
    "def quat_to_cart_n(q, params):\n",
    "    return params[2]*R_num_no_unit(q)@np.array([0.,0,1])\n",
    "\n",
    "@njit(parallel = True)\n",
    "def quat_to_cart_arr(q_arr, params):\n",
    "    l = q_arr.shape[0]\n",
    "    res = np.zeros((l,3))\n",
    "    for ii in prange(l):\n",
    "        res[ii,:] = quat_to_cart_n(q_arr[ii,:], params)\n",
    "    return res\n",
    "\n",
    "\n",
    "@njit(parallel = True)\n",
    "def omega_arr(q_arr, q_d_arr):\n",
    "    l = q_arr.shape[0]\n",
    "    res = np.zeros((l,3))\n",
    "    for ii in prange(l):\n",
    "        res[ii,:] = omega_num(q_arr[ii,:],q_d_arr[ii,:])\n",
    "    return res"
   ]
  },
  {
   "cell_type": "code",
   "execution_count": null,
   "id": "2d50dd34",
   "metadata": {},
   "outputs": [],
   "source": [
    "@njit\n",
    "def _energ(q, qdot, params):\n",
    "    (m_n, g_n, h_n, Ix, Iy,Iz) = params \n",
    "    I =I_num_diag((Ix, Iy, Iz))\n",
    "    omeg = omega_num(q, qdot)\n",
    "    r_mat = R_num_no_unit(q)\n",
    "    t = 0.5* omeg.T @I @omeg\n",
    "    z = quat_to_cart_n(q, params)[2]\n",
    "    v = m_n * g_n * (-z)\n",
    "    return (t+v), t, v\n",
    "\n",
    "@njit(parallel = True)\n",
    "def energy_arr(q_arr, qdot_arr, params):\n",
    "    l = q_arr.shape[0]\n",
    "    res = np.zeros((l,3))\n",
    "    for ii in prange(l):\n",
    "        _e = _energ(q_arr[ii,:], qdot_arr[ii,:], params)\n",
    "        for jj in prange(3):\n",
    "            res[ii,jj] = _e[jj]\n",
    "    return res"
   ]
  },
  {
   "cell_type": "markdown",
   "id": "12836fef",
   "metadata": {},
   "source": [
    "## Integración a las bravas"
   ]
  },
  {
   "cell_type": "code",
   "execution_count": null,
   "id": "000939ce",
   "metadata": {},
   "outputs": [],
   "source": [
    "from optibot.schemes import expand_G"
   ]
  },
  {
   "cell_type": "code",
   "execution_count": null,
   "id": "30d185c4",
   "metadata": {},
   "outputs": [],
   "source": [
    "x_d_cas = expand_G(q_d_d_cas, 'casadi')\n",
    "def embudo(x, u, p):\n",
    "    sol = x_d_cas(x,u,p)\n",
    "    sol = np.array(sol).flatten()\n",
    "    return sol\n",
    "\n",
    "\n",
    "@njit\n",
    "def x_d_num(x, u, params):\n",
    "    q = x[:4]\n",
    "    v = x[4:]\n",
    "    qdd = q_d_d_num(q, v, u, params)\n",
    "    xd = np.zeros(8)\n",
    "    xd[:4] = v\n",
    "    xd[4:] = qdd\n",
    "    return xd"
   ]
  },
  {
   "cell_type": "code",
   "execution_count": null,
   "id": "1f815a56",
   "metadata": {},
   "outputs": [],
   "source": [
    "x0 = np.zeros(8)\n",
    "th0 = 0\n",
    "q0 = quaternion(th0, [1,0,0])\n",
    "qd0 = q_dot_omega_cas(q0, [1.5,0,1])\n",
    "x0[:4] = q0\n",
    "x0[4:] = qd0.T"
   ]
  },
  {
   "cell_type": "code",
   "execution_count": null,
   "id": "98238f0b",
   "metadata": {},
   "outputs": [],
   "source": [
    "x_d_num(x0, np.zeros(3), params)"
   ]
  },
  {
   "cell_type": "code",
   "execution_count": null,
   "id": "be4fbdbc",
   "metadata": {},
   "outputs": [],
   "source": [
    "x_d_cas(x0, np.zeros(3), params)"
   ]
  },
  {
   "cell_type": "code",
   "execution_count": null,
   "id": "42f0ef67",
   "metadata": {},
   "outputs": [],
   "source": [
    "embudo(x0, [0,1,1],params)"
   ]
  },
  {
   "cell_type": "code",
   "execution_count": null,
   "id": "0978631a",
   "metadata": {},
   "outputs": [],
   "source": [
    "from optibot.schemes import (integrate_trapz, integrate_trapz_mod, integrate_rk4, integrate_hs, \n",
    "                             integrate_hs_mod, interpolated_array,\n",
    "                             coherent_dimensions, trapz_step, rk4_step, hs_step, vec_len)\n",
    "from scipy.interpolate import interp1d"
   ]
  },
  {
   "cell_type": "code",
   "execution_count": null,
   "id": "22eeef0e",
   "metadata": {},
   "outputs": [],
   "source": [
    "def energy_fluctuations(q_arr, v_arr, t_arr, params):\n",
    "    t_e = energy_arr(q_arr, v_arr, params)[:,0]\n",
    "    dE = np.max(t_e) - np.min(t_e)\n",
    "    \n",
    "    _t_e = t_e[1:]-t_e[:-1]\n",
    "    _t_e_1 = np.sign(_t_e)\n",
    "    _t_e_2 = _t_e_1[1:] - _t_e_1[:-1]\n",
    "\n",
    "    _maxis = []\n",
    "    _minis = []\n",
    "    for jj in range(len(_t_e_2)):\n",
    "        if _t_e_2[jj] > 1:\n",
    "            _minis.append(jj+1)\n",
    "        elif _t_e_2[jj] < -1:\n",
    "            _maxis.append(jj+1)\n",
    "    \n",
    "    _max_x = []\n",
    "    _max_y = []\n",
    "    _min_x = []\n",
    "    _min_y = []\n",
    "\n",
    "    for ii in _maxis:\n",
    "        _max_x.append(t_arr[ii])\n",
    "        _max_y.append(t_e[ii])\n",
    "    for ii in _minis:\n",
    "        _min_x.append(t_arr[ii])\n",
    "        _min_y.append(t_e[ii])\n",
    "            \n",
    "    if len(_maxis)<3 or len(_minis)<3:\n",
    "        maxinterp = None\n",
    "        mininterp = None\n",
    "        mean_amplitude = None\n",
    "        tendency = None\n",
    "        d_tendency = None\n",
    "    else:\n",
    "        \n",
    "\n",
    "        maxinterp = interp1d(_max_x, _max_y, kind = 'cubic', fill_value='extrapolate')\n",
    "        mininterp = interp1d(_min_x, _min_y, kind = 'cubic', fill_value='extrapolate')\n",
    "        tendency = (maxinterp(t_arr)+mininterp(t_arr))/2\n",
    "        mean_amplitude = np.mean(maxinterp(t_arr)-mininterp(t_arr))\n",
    "        d_tendency = np.max(tendency) - np.min(tendency)\n",
    "    \n",
    "    data = {\n",
    "        'total_energy':t_e,\n",
    "        'delta_energy':dE,\n",
    "        'max_interp':maxinterp,\n",
    "        'min_interp':mininterp,\n",
    "        'tendency':tendency,\n",
    "        'delta_tendency': d_tendency,\n",
    "        'mean_amplitude':mean_amplitude,\n",
    "        'max_x':_max_x,\n",
    "        'max_y':_max_y,\n",
    "        'min_x':_min_x,\n",
    "        'min_y':_min_y\n",
    "    }\n",
    "    return data"
   ]
  },
  {
   "cell_type": "code",
   "execution_count": null,
   "id": "20e6ca64",
   "metadata": {},
   "outputs": [],
   "source": [
    "def free_pendulum(x0, params, n, dt, integrator_f):\n",
    "    x_arr = integrator_f(\n",
    "        x_0=x0,\n",
    "        u = np.zeros([n,3]),\n",
    "        F = x_d_num,\n",
    "        dt = dt,\n",
    "        params=params\n",
    "    )\n",
    "    q_arr = x_arr[:,:4]\n",
    "    v_arr = x_arr[:,4:]\n",
    "    t_arr = np.linspace(0,n*dt,n+1)\n",
    "    energ_data = energy_fluctuations(q_arr, v_arr, t_arr, params)\n",
    "    data = {\n",
    "        'q':q_arr,\n",
    "        'v':v_arr,\n",
    "        't':t_arr,\n",
    "        'e':energ_data,\n",
    "    }\n",
    "    return data"
   ]
  },
  {
   "cell_type": "code",
   "execution_count": null,
   "id": "3a0ca3bd",
   "metadata": {},
   "outputs": [],
   "source": [
    "x_arr = integrate_trapz(\n",
    "    x_0=x0,\n",
    "    u = np.zeros([10000,3]),\n",
    "    F = x_d_num,\n",
    "    dt = 0.01,\n",
    "    params=params\n",
    ")\n",
    "q_arr = x_arr[:,:4]\n",
    "v_arr = x_arr[:,4:]"
   ]
  },
  {
   "cell_type": "markdown",
   "id": "b9ba6f13",
   "metadata": {},
   "source": [
    "t_interp = np.linspace(0,2,250)\n",
    "x_interp, u_interp = interpolated_array(\n",
    "    x_arr,\n",
    "    np.zeros([10000,3]),\n",
    "    0.1,\n",
    "    t_interp,\n",
    "    params,\n",
    "    F=embudo,\n",
    "    X_dot=None,\n",
    "    scheme=\"trapz\",\n",
    "    u_scheme=\"lin\",\n",
    "    scheme_params={},\n",
    ")\n",
    "q_interp = x_interp[:,:4]\n",
    "plt.figure(figsize=[14,6])\n",
    "plt.plot(np.linspace(0,100,10001),np.sum(q_arr**2, axis = 1), 'o' )\n",
    "plt.plot(t_interp, np.sum(q_interp**2, axis = 1))\n",
    "plt.grid()"
   ]
  },
  {
   "cell_type": "markdown",
   "id": "228a2b97",
   "metadata": {},
   "source": [
    "t_interp = np.linspace(0,2,250)\n",
    "x_interp, u_interp = interpolated_array(\n",
    "    x_arr,\n",
    "    np.zeros([20,3]),\n",
    "    0.1,\n",
    "    t_interp,\n",
    "    params,\n",
    "    F=embudo,\n",
    "    X_dot=None,\n",
    "    scheme=\"trapz\",\n",
    "    u_scheme=\"lin\",\n",
    "    scheme_params={},\n",
    ")\n",
    "q_interp = x_interp[:,:4]\n",
    "plt.figure(figsize=[14,6])\n",
    "plt.plot(np.linspace(0,2,21),q_arr, 'o' )\n",
    "plt.plot(t_interp, q_interp)\n",
    "plt.grid()"
   ]
  },
  {
   "cell_type": "code",
   "execution_count": null,
   "id": "50271b57",
   "metadata": {
    "scrolled": false
   },
   "outputs": [],
   "source": [
    "pend_trapz = free_pendulum(x0, params, 10000, 0.01, integrate_trapz)\n",
    "t_arr = pend_trapz['t']\n",
    "_data = pend_trapz['e']"
   ]
  },
  {
   "cell_type": "code",
   "execution_count": null,
   "id": "8246b643",
   "metadata": {},
   "outputs": [],
   "source": [
    "plt.figure(figsize=[14,6])\n",
    "plt.plot(t_arr,_data['total_energy'], marker = '')\n",
    "plt.plot(_data['max_x'], _data['max_y'], 'o')\n",
    "plt.plot(_data['min_x'], _data['min_y'], 'o')\n",
    "plt.plot(t_arr,_data['max_interp'](t_arr))\n",
    "plt.plot(t_arr,_data['min_interp'](t_arr))\n",
    "plt.plot(t_arr,_data['tendency'])\n",
    "plt.grid()"
   ]
  },
  {
   "cell_type": "code",
   "execution_count": null,
   "id": "be67fe7f",
   "metadata": {
    "scrolled": false
   },
   "outputs": [],
   "source": [
    "plt.figure(figsize=[14,6])\n",
    "q_arr = pend_trapz['q']\n",
    "v_arr = pend_trapz['v']\n",
    "plt.plot(np.linspace(0,100,10001),omega_arr(q_arr, v_arr)[:,:], marker = '')\n",
    "plt.grid()\n",
    "#_w_m = (2*m_n*g_n*h_n*(1-np.cos(th0))/Ix)**0.5\n",
    "#plt.hlines(_w_m, 0, 100, linestyles='dashed')"
   ]
  },
  {
   "cell_type": "code",
   "execution_count": null,
   "id": "eb93224d",
   "metadata": {},
   "outputs": [],
   "source": [
    "plt.figure(figsize=[14,6])\n",
    "cart_arr = quat_to_cart_arr(q_arr, np.array(params))\n",
    "plt.plot(t_arr,cart_arr, marker = '')\n",
    "plt.grid()"
   ]
  },
  {
   "cell_type": "code",
   "execution_count": null,
   "id": "228a5f55",
   "metadata": {},
   "outputs": [],
   "source": [
    "%matplotlib notebook"
   ]
  },
  {
   "cell_type": "code",
   "execution_count": null,
   "id": "cee8f014",
   "metadata": {
    "scrolled": true
   },
   "outputs": [],
   "source": [
    "ax = plt.axes(projection='3d')\n",
    "\n",
    "ax.plot3D(cart_arr[:,0], cart_arr[:,1], cart_arr[:,2], 'gray', marker = '')"
   ]
  },
  {
   "cell_type": "code",
   "execution_count": null,
   "id": "d3408adb",
   "metadata": {},
   "outputs": [],
   "source": [
    "%matplotlib inline"
   ]
  },
  {
   "cell_type": "code",
   "execution_count": null,
   "id": "e792d9a0",
   "metadata": {},
   "outputs": [],
   "source": []
  },
  {
   "cell_type": "code",
   "execution_count": null,
   "id": "01b77868",
   "metadata": {},
   "outputs": [],
   "source": []
  },
  {
   "cell_type": "markdown",
   "id": "847b0017",
   "metadata": {},
   "source": [
    "## Metodos de integración y error de energía"
   ]
  },
  {
   "cell_type": "code",
   "execution_count": null,
   "id": "11097d48",
   "metadata": {},
   "outputs": [],
   "source": [
    "scheme_data = {\n",
    "    'trapz':{\n",
    "        'name':'trapezoidal',\n",
    "        'integ_f': integrate_trapz\n",
    "    },\n",
    "    'trapz_mod':{\n",
    "        'name':'trapezoidal second order',\n",
    "        'integ_f': integrate_trapz_mod\n",
    "    },\n",
    "    'rk4':{\n",
    "        'name':'Runge Kutta 4',\n",
    "        'integ_f': integrate_rk4\n",
    "    },\n",
    "    'hs':{\n",
    "        'name':'Hermite Simpson',\n",
    "        'integ_f': integrate_hs\n",
    "    },\n",
    "    'hs_mod':{\n",
    "        'name':'Hermite Simpson Second Order',\n",
    "        'integ_f': integrate_hs_mod\n",
    "    },\n",
    "}"
   ]
  },
  {
   "cell_type": "code",
   "execution_count": null,
   "id": "02bda920",
   "metadata": {},
   "outputs": [],
   "source": [
    "schemes_qqdot = ['trapz', 'trapz_mod', 'rk4', 'hs', 'hs_mod']\n",
    "n = 10000\n",
    "dt = 0.01\n",
    "\n",
    "results_qqdot = {}\n",
    "\n",
    "for scheme in schemes_qqdot:\n",
    "    print('calculating scheme', scheme_data[scheme]['name'])\n",
    "    integ_f = scheme_data[scheme]['integ_f']\n",
    "    results_qqdot[scheme] = free_pendulum(x0, params, n, dt, integ_f)"
   ]
  },
  {
   "cell_type": "code",
   "execution_count": null,
   "id": "6d6ec5b5",
   "metadata": {},
   "outputs": [],
   "source": [
    "for scheme in schemes_qqdot:\n",
    "    print(scheme_data[scheme]['name'])\n",
    "    print('\\tDelta energy:', results_qqdot[scheme]['e']['delta_energy'])\n",
    "    print('\\tDelta tendency:', results_qqdot[scheme]['e']['delta_tendency'])"
   ]
  },
  {
   "cell_type": "code",
   "execution_count": null,
   "id": "ccdd90b5",
   "metadata": {},
   "outputs": [],
   "source": [
    "\n",
    "plt.figure(figsize=[14,10])\n",
    "for scheme in schemes_qqdot:\n",
    "    t_arr = results_qqdot[scheme]['t']\n",
    "    en_arr = results_qqdot[scheme]['e']['total_energy']\n",
    "    en_diff = np.abs(en_arr-en_arr[0])\n",
    "    plt.plot(t_arr, en_diff, label = scheme_data[scheme]['name'])\n",
    "plt.legend()\n",
    "plt.grid()\n",
    "plt.ylim(1e-13, 1e-1)\n",
    "plt.yscale('log')"
   ]
  },
  {
   "cell_type": "code",
   "execution_count": null,
   "id": "22a03259",
   "metadata": {},
   "outputs": [],
   "source": [
    "\n",
    "plt.figure(figsize=[14,10])\n",
    "for scheme in schemes_qqdot:\n",
    "    t_arr = results_qqdot[scheme]['t']\n",
    "    if results_qqdot[scheme]['e']['tendency'] is None:\n",
    "        en_arr = results_qqdot[scheme]['e']['total_energy']\n",
    "    else:\n",
    "        en_arr = results_qqdot[scheme]['e']['tendency']\n",
    "    en_diff = np.abs(en_arr-en_arr[0])\n",
    "    plt.plot(t_arr, en_diff, label = scheme_data[scheme]['name'])\n",
    "plt.legend()\n",
    "plt.grid()\n",
    "plt.ylim(1e-13, 1e-1)\n",
    "plt.yscale('log')"
   ]
  },
  {
   "cell_type": "code",
   "execution_count": null,
   "id": "69db4780",
   "metadata": {},
   "outputs": [],
   "source": []
  },
  {
   "cell_type": "code",
   "execution_count": null,
   "id": "7d9b1a86",
   "metadata": {},
   "outputs": [],
   "source": []
  },
  {
   "cell_type": "markdown",
   "id": "7b56634b",
   "metadata": {},
   "source": [
    "## interpolaciones y desviación"
   ]
  },
  {
   "cell_type": "code",
   "execution_count": null,
   "id": "5a49d71e",
   "metadata": {},
   "outputs": [],
   "source": []
  },
  {
   "cell_type": "code",
   "execution_count": null,
   "id": "83b1e93b",
   "metadata": {},
   "outputs": [],
   "source": []
  },
  {
   "cell_type": "code",
   "execution_count": null,
   "id": "85d9e048",
   "metadata": {},
   "outputs": [],
   "source": [
    "x_arr = integrate_rk4(\n",
    "    x_0=x0,\n",
    "    u = np.zeros([20,3]),\n",
    "    F = x_d_num,\n",
    "    dt = 0.1,\n",
    "    params=params\n",
    ")\n",
    "q_arr = x_arr[:,:4]\n",
    "v_arr = x_arr[:,4:]"
   ]
  },
  {
   "cell_type": "code",
   "execution_count": null,
   "id": "b790a572",
   "metadata": {},
   "outputs": [],
   "source": [
    "t_interp = np.linspace(0,2,250)\n",
    "x_interp, u_interp = interpolated_array(\n",
    "    x_arr,\n",
    "    np.zeros([20,3]),\n",
    "    0.1,\n",
    "    t_interp,\n",
    "    params,\n",
    "    F=embudo,\n",
    "    X_dot=None,\n",
    "    scheme=\"hs_scipy\",\n",
    "    u_scheme=\"lin\",\n",
    "    scheme_params={},\n",
    ")\n",
    "q_interp = x_interp[:,:4]\n",
    "plt.figure(figsize=[14,6])\n",
    "plt.plot(np.linspace(0,2,21),np.sum(q_arr**2, axis = 1), 'o' )\n",
    "plt.plot(t_interp, np.sum(q_interp**2, axis = 1))\n",
    "plt.grid()"
   ]
  },
  {
   "cell_type": "code",
   "execution_count": null,
   "id": "ac088a28",
   "metadata": {},
   "outputs": [],
   "source": [
    "x_arr = integrate_hs(\n",
    "    x_0=x0,\n",
    "    u = np.zeros([20,3]),\n",
    "    F = x_d_num,\n",
    "    dt = 0.1,\n",
    "    params=params\n",
    ")\n",
    "q_arr = x_arr[:,:4]\n",
    "v_arr = x_arr[:,4:]"
   ]
  },
  {
   "cell_type": "code",
   "execution_count": null,
   "id": "bf280da0",
   "metadata": {},
   "outputs": [],
   "source": [
    "t_interp = np.linspace(0,2,250)\n",
    "x_interp, u_interp = interpolated_array(\n",
    "    x_arr,\n",
    "    np.zeros([20,3]),\n",
    "    0.1,\n",
    "    t_interp,\n",
    "    params,\n",
    "    F=x_d_num,\n",
    "    X_dot=None,\n",
    "    scheme=\"hs\",\n",
    "    u_scheme=\"lin\",\n",
    "    scheme_params={},\n",
    ")\n",
    "q_interp = x_interp[:,:4]\n",
    "plt.figure(figsize=[14,6])\n",
    "plt.plot(np.linspace(0,2,21),np.sum(q_arr**2, axis = 1), 'o' )\n",
    "plt.plot(t_interp, np.sum(q_interp**2, axis = 1))\n",
    "plt.grid()"
   ]
  },
  {
   "cell_type": "markdown",
   "id": "f35e7528",
   "metadata": {},
   "source": [
    "## Normalizando a cada paso"
   ]
  },
  {
   "cell_type": "code",
   "execution_count": null,
   "id": "9e6ba1b4",
   "metadata": {},
   "outputs": [],
   "source": [
    "def normalize_x(x):\n",
    "    x = np.array(x)\n",
    "    q = x[:4]\n",
    "    mod = np.sqrt(np.sum(q**2))\n",
    "    q = q/mod\n",
    "    x[:4] = q\n",
    "    return x"
   ]
  },
  {
   "cell_type": "code",
   "execution_count": null,
   "id": "a03ffb5f",
   "metadata": {},
   "outputs": [],
   "source": [
    "@coherent_dimensions\n",
    "def integrate_trapz_normalized(x_0, u, F, dt, params):\n",
    "    x = [\n",
    "        x_0,\n",
    "    ]\n",
    "    for ii in range(0, vec_len(u) - 1):\n",
    "        x_i = trapz_step(x[-1], u[ii], u[ii + 1], F, dt, params)\n",
    "        x_i = normalize_x(x_i)\n",
    "        x.append(x_i)\n",
    "    x_i = trapz_step(x[-1], u[-1], u[-1], F, dt, params)\n",
    "    x_i = normalize_x(x_i)\n",
    "    x.append(x_i)\n",
    "    return np.array(x)\n",
    "\n",
    "x_arr = integrate_trapz_normalized(\n",
    "    x_0=x0,\n",
    "    u = np.zeros([20,3]),\n",
    "    F = x_d_num,\n",
    "    dt = 0.1,\n",
    "    params=params\n",
    ")\n",
    "q_arr = x_arr[:,:4]\n",
    "v_arr = x_arr[:,4:]"
   ]
  },
  {
   "cell_type": "code",
   "execution_count": null,
   "id": "9519ca2c",
   "metadata": {},
   "outputs": [],
   "source": [
    "t_interp = np.linspace(0,2,250)\n",
    "x_interp, u_interp = interpolated_array(\n",
    "    x_arr,\n",
    "    np.zeros([20,3]),\n",
    "    0.1,\n",
    "    t_interp,\n",
    "    params,\n",
    "    F=x_d_num,\n",
    "    X_dot=None,\n",
    "    scheme=\"trapz\",\n",
    "    u_scheme=\"lin\",\n",
    "    scheme_params={},\n",
    ")\n",
    "q_interp = x_interp[:,:4]\n",
    "plt.figure(figsize=[14,6])\n",
    "plt.plot(np.linspace(0,2,21),np.sum(q_arr**2, axis = 1), 'o' )\n",
    "plt.plot(t_interp, np.sum(q_interp**2, axis = 1))\n",
    "plt.grid()"
   ]
  },
  {
   "cell_type": "code",
   "execution_count": null,
   "id": "ec9ca1df",
   "metadata": {},
   "outputs": [],
   "source": [
    "@coherent_dimensions\n",
    "def integrate_rk4_normalized(x_0, u, F, dt, params):\n",
    "    x = [\n",
    "        x_0,\n",
    "    ]\n",
    "    for ii in range(vec_len(u)):\n",
    "        x_i = rk4_step(x[-1], u[ii], F, dt, params)\n",
    "        x_i = normalize_x(x_i)\n",
    "        x.append(x_i)\n",
    "    return np.array(x)\n",
    "\n",
    "x_arr = integrate_rk4_normalized(\n",
    "    x_0=x0,\n",
    "    u = np.zeros([20,3]),\n",
    "    F = x_d_num,\n",
    "    dt = 0.1,\n",
    "    params=params\n",
    ")\n",
    "q_arr = x_arr[:,:4]\n",
    "v_arr = x_arr[:,4:]"
   ]
  },
  {
   "cell_type": "code",
   "execution_count": null,
   "id": "6556c6f6",
   "metadata": {},
   "outputs": [],
   "source": [
    "t_interp = np.linspace(0,2,400)\n",
    "x_interp, u_interp = interpolated_array(\n",
    "    x_arr,\n",
    "    np.zeros([20,3]),\n",
    "    0.1,\n",
    "    t_interp,\n",
    "    params,\n",
    "    F=x_d_num,\n",
    "    X_dot=None,\n",
    "    scheme=\"hs\",\n",
    "    u_scheme=\"lin\",\n",
    "    scheme_params={},\n",
    ")\n",
    "q_interp = x_interp[:,:4]\n",
    "plt.figure(figsize=[14,6])\n",
    "plt.plot(np.linspace(0,2,21),np.sum(q_arr**2, axis = 1), 'o' )\n",
    "plt.plot(t_interp, np.sum(q_interp**2, axis = 1))\n",
    "plt.grid()"
   ]
  },
  {
   "cell_type": "code",
   "execution_count": null,
   "id": "e51084fc",
   "metadata": {},
   "outputs": [],
   "source": [
    "@coherent_dimensions\n",
    "def integrate_hs_normalized(x_0, u, F, dt, params):\n",
    "    x = [\n",
    "        x_0,\n",
    "    ]\n",
    "    for ii in range(0, vec_len(u) - 1):\n",
    "        x_i = hs_step(x[-1], u[ii], u[ii + 1], F, dt, params)\n",
    "        x_i = normalize_x(x_i)\n",
    "        x.append(x_i)\n",
    "    x_i = hs_step(x[-1], u[-1], u[-1], F, dt, params)\n",
    "    x_i = normalize_x(x_i)\n",
    "    x.append(x_i)\n",
    "    return np.array(x)\n",
    "\n",
    "\n",
    "x_arr = integrate_hs_normalized(\n",
    "    x_0=x0,\n",
    "    u = np.zeros([20,3]),\n",
    "    F = x_d_num,\n",
    "    dt = 0.1,\n",
    "    params=params\n",
    ")\n",
    "q_arr = x_arr[:,:4]\n",
    "v_arr = x_arr[:,4:]"
   ]
  },
  {
   "cell_type": "code",
   "execution_count": null,
   "id": "1aee5a42",
   "metadata": {},
   "outputs": [],
   "source": [
    "t_interp = np.linspace(0,2,400)\n",
    "x_interp, u_interp = interpolated_array(\n",
    "    x_arr,\n",
    "    np.zeros([20,3]),\n",
    "    0.1,\n",
    "    t_interp,\n",
    "    params,\n",
    "    F=x_d_num,\n",
    "    X_dot=None,\n",
    "    scheme=\"hs\",\n",
    "    u_scheme=\"lin\",\n",
    "    scheme_params={},\n",
    ")\n",
    "q_interp = x_interp[:,:4]\n",
    "plt.figure(figsize=[14,6])\n",
    "plt.plot(np.linspace(0,2,21),np.sum(q_arr**2, axis = 1), 'o' )\n",
    "plt.plot(t_interp, np.sum(q_interp**2, axis = 1))\n",
    "plt.grid()"
   ]
  },
  {
   "cell_type": "code",
   "execution_count": null,
   "id": "b7a4c21b",
   "metadata": {},
   "outputs": [],
   "source": []
  },
  {
   "cell_type": "code",
   "execution_count": null,
   "id": "6ecc6c16",
   "metadata": {},
   "outputs": [],
   "source": []
  },
  {
   "cell_type": "markdown",
   "id": "c6fa1168",
   "metadata": {},
   "source": [
    "## New opti"
   ]
  },
  {
   "cell_type": "code",
   "execution_count": null,
   "id": "8d794cbf",
   "metadata": {},
   "outputs": [],
   "source": [
    "from optibot.opti import Opti_Problem\n",
    "import time"
   ]
  },
  {
   "cell_type": "markdown",
   "id": "aba84b15",
   "metadata": {},
   "source": [
    "def sph_prob(scheme, N, ini_guess = 'lin', solve_repetitions = 1, t_end = 2, silent = False, ):\n",
    "    _opti = Opti_Problem(\n",
    "        LM=q_d_d_cas,\n",
    "        params = params,\n",
    "        scheme = scheme,\n",
    "        ini_guess= ini_guess,\n",
    "        t_end = t_end,\n",
    "        silent= silent,\n",
    "    )\n",
    "    _opti.dynamic_setup()\n",
    "    _opti.opti_setup(N)\n",
    "    _opti.initial_guess([0,0], [1, np.pi])\n",
    "    _opti.u_sq_cost()\n",
    "    _opti.apply_scheme()\n",
    "    \n",
    "    X_s = _opti.opti_points['x_s']\n",
    "    X_e = _opti.opti_points['x_e']\n",
    "\n",
    "    _opti.opti.subject_to(X_s.T == [0,0,0,0])\n",
    "    _opti.opti.subject_to(X_e.T == [1, np.pi,0,0])\n",
    "    _opti.chrono_solve(solve_repetitions=solve_repetitions,)\n",
    "    return _opti.results"
   ]
  },
  {
   "cell_type": "markdown",
   "id": "f9ea8906",
   "metadata": {},
   "source": [
    "_opti = Opti_Problem(\n",
    "        LM=q_d_d_cas,\n",
    "        params = params,\n",
    "        scheme = 'trapz_mod',\n",
    "        ini_guess= 'lin',\n",
    "        t_end = 0.1,\n",
    "        silent= False,\n",
    "        verbose = True\n",
    "    )\n",
    "\n",
    "_opti.dynamic_setup(func_kind='g_q', n_q = 4, n_u = 3)\n",
    "_opti.opti_setup(20)\n",
    "\n",
    "q0 = quaternion(1, [1,2,0])\n",
    "q1 = quaternion(1, [1,0,2])\n",
    "_opti.initial_guess(q0,q1)\n",
    "\n",
    "_opti.u_sq_cost()\n",
    "_opti.apply_scheme()\n",
    "\n",
    "q_s = _opti.opti_points['q_s']\n",
    "v_s = _opti.opti_points['v_s']\n",
    "\n",
    "_opti.opti.subject_to(q_s.T == q0)\n",
    "_opti.opti.subject_to(v_s.T == 0)\n",
    "\n",
    "\n",
    "q_e = _opti.opti_points['q_e']\n",
    "v_e = _opti.opti_points['v_e']\n",
    "\n",
    "_opti.opti.subject_to(q_e.T == q1)\n",
    "_opti.opti.subject_to(v_e.T == 0)\n",
    "\n",
    "U = _opti.opti_arrs['u']\n",
    "#_opti.opti.subject_to(U == 0.5)\n",
    "\n",
    "_opti.chrono_solve(solve_repetitions=1,)"
   ]
  },
  {
   "cell_type": "markdown",
   "id": "3c7bbdad",
   "metadata": {
    "scrolled": true
   },
   "source": [
    "plt.plot(_opti.opti.debug.value(_opti.opti_arrs['q']))"
   ]
  },
  {
   "cell_type": "markdown",
   "id": "3724e4fb",
   "metadata": {
    "scrolled": true
   },
   "source": [
    "plt.plot(_opti.opti.debug.value(_opti.opti_arrs['u']))"
   ]
  },
  {
   "cell_type": "code",
   "execution_count": null,
   "id": "f141ddb4",
   "metadata": {},
   "outputs": [],
   "source": []
  },
  {
   "cell_type": "markdown",
   "id": "55c3ee43",
   "metadata": {},
   "source": [
    "## con c variable"
   ]
  },
  {
   "cell_type": "code",
   "execution_count": null,
   "id": "50a10a9e",
   "metadata": {},
   "outputs": [],
   "source": [
    "_u_cvar = cas.SX.sym(\"u\", 4)\n",
    "_omega_d_cvar = _I_inv @ (_u_cvar[0:3] + _m*_g*_h* e3_x@R_cas_no_unit(_q).T@e3 - cross_mat_cas(_omega)@I_cas_diag(_I_diag_vals).T@_omega)"
   ]
  },
  {
   "cell_type": "code",
   "execution_count": null,
   "id": "62b8da58",
   "metadata": {},
   "outputs": [],
   "source": [
    "_q_d_d_cvar = 1/2*W_cas(_q_dot).T@_omega + 1/2*W_cas(_q).T@_omega_d_cvar + _u_cvar[3]*_q_dot"
   ]
  },
  {
   "cell_type": "code",
   "execution_count": null,
   "id": "218bf0de",
   "metadata": {},
   "outputs": [],
   "source": [
    "q_d_d_cas_cvar = cas.Function(\n",
    "        \"q_dot_dot\",\n",
    "        [_q, _q_dot, _u_cvar, _params],\n",
    "        [_q_d_d_cvar],\n",
    "        [\"q\", \"q_d\", \"u\", \"params\"],\n",
    "        [\"q_dot_dot\"],\n",
    "    )\n",
    "q_d_d_cas_cvar.__name__ = q_d_d_cas_cvar.name()"
   ]
  },
  {
   "cell_type": "code",
   "execution_count": null,
   "id": "602f190f",
   "metadata": {},
   "outputs": [],
   "source": [
    "N_step = 50\n",
    "t_end = 5\n",
    "_opti = Opti_Problem(\n",
    "        LM=q_d_d_cas_cvar,\n",
    "        params = params,\n",
    "        scheme = 'hs_mod',\n",
    "        ini_guess= 'lin',\n",
    "        t_end = t_end,\n",
    "        silent= False,\n",
    "        verbose = True\n",
    "    )\n",
    "\n",
    "_opti.dynamic_setup(func_kind='g_q', n_q = 4, n_u = 4)\n",
    "_opti.opti_setup(N_step)\n",
    "\n",
    "q0 = quaternion(1, [1,2,0])\n",
    "q1 = quaternion(1, [1,2,0])\n",
    "_opti.initial_guess(q0,q1)\n",
    "\n",
    "#_opti.u_sq_cost()\n",
    "\n",
    "_opti.apply_scheme()\n",
    "\n",
    "\n",
    "U = _opti.opti_arrs['u']\n",
    "_opti.opti.subject_to(U[:,:3] == 0)\n",
    "\n",
    "q_s = _opti.opti_points['q_s']\n",
    "v_s = _opti.opti_points['v_s']\n",
    "q_arr_cas = _opti.opti_arrs['q']\n",
    "\n",
    "_opti.opti.subject_to(q_s.T == q0)\n",
    "_opti.opti.subject_to(v_s.T == 0)\n",
    "\n",
    "_opti.opti.subject_to(cas.sum2(q_arr_cas[1:,:]**2) == 1)\n",
    "\n",
    "_opti.chrono_solve(solve_repetitions=1,)"
   ]
  },
  {
   "cell_type": "code",
   "execution_count": null,
   "id": "1e0124db",
   "metadata": {},
   "outputs": [],
   "source": [
    "%matplotlib inline"
   ]
  },
  {
   "cell_type": "code",
   "execution_count": null,
   "id": "78d2ec2b",
   "metadata": {},
   "outputs": [],
   "source": [
    "plt.figure(figsize=[14,6])\n",
    "plt.plot(_opti.results['u'][:,-1])\n",
    "plt.grid()"
   ]
  },
  {
   "cell_type": "code",
   "execution_count": null,
   "id": "03d82730",
   "metadata": {},
   "outputs": [],
   "source": [
    "plt.plot(_opti.results['u'][:,:-1])"
   ]
  },
  {
   "cell_type": "code",
   "execution_count": null,
   "id": "ec898f79",
   "metadata": {},
   "outputs": [],
   "source": [
    "plt.figure(figsize=[14,6])\n",
    "plt.plot(_opti.results['q'], marker = 'o')"
   ]
  },
  {
   "cell_type": "code",
   "execution_count": null,
   "id": "0dce65b9",
   "metadata": {},
   "outputs": [],
   "source": [
    "plt.figure(figsize=[14,6])\n",
    "plt.plot(_opti.results['v'], marker = 'o')"
   ]
  },
  {
   "cell_type": "code",
   "execution_count": null,
   "id": "418e56c5",
   "metadata": {},
   "outputs": [],
   "source": [
    "plt.plot(np.sum(_opti.results['q']**2, axis=1), marker = 'o')"
   ]
  },
  {
   "cell_type": "code",
   "execution_count": null,
   "id": "6e4ffb5c",
   "metadata": {},
   "outputs": [],
   "source": [
    "x_d_cas_cvar = expand_G(q_d_d_cas_cvar, 'casadi')\n",
    "def embudo_cvar(x, u, p):\n",
    "    sol = x_d_cas_cvar(x,u,p)\n",
    "    sol = np.array(sol).flatten()\n",
    "    return sol"
   ]
  },
  {
   "cell_type": "code",
   "execution_count": null,
   "id": "94b25725",
   "metadata": {},
   "outputs": [],
   "source": [
    "nn = _opti.results['x'].shape[0]\n",
    "t_interp = np.linspace(0,2,500)\n",
    "x_interp, u_interp = interpolated_array(\n",
    "    _opti.results['x'],\n",
    "    _opti.results['u'],\n",
    "    2/(nn-1),\n",
    "    t_interp,\n",
    "    params,\n",
    "    F=embudo_cvar,\n",
    "    X_dot=None,\n",
    "    scheme=\"hs\",\n",
    "    u_scheme=\"lin\",\n",
    "    scheme_params={},\n",
    ")\n",
    "q_interp = x_interp[:,:4]\n",
    "plt.figure(figsize=[14,6])\n",
    "plt.plot(np.linspace(0,2,nn),np.sum(_opti.results['q']**2, axis = 1), 'o' )\n",
    "plt.plot(t_interp, np.sum(q_interp**2, axis = 1))\n",
    "plt.grid()"
   ]
  },
  {
   "cell_type": "code",
   "execution_count": null,
   "id": "460ad1b6",
   "metadata": {},
   "outputs": [],
   "source": [
    "plt.figure(figsize=[14,6])\n",
    "q_arr = _opti.results['q']\n",
    "v_arr = _opti.results['v']\n",
    "cart_arr = quat_to_cart_arr(q_arr, params)\n",
    "plt.plot(np.linspace(0,t_end,51),cart_arr, marker='o')\n",
    "plt.grid()"
   ]
  },
  {
   "cell_type": "code",
   "execution_count": null,
   "id": "80f78be5",
   "metadata": {
    "scrolled": false
   },
   "outputs": [],
   "source": [
    "plt.figure(figsize=[14,6])\n",
    "plt.plot(np.linspace(0,t_end,51),energy_arr(q_arr, v_arr, params)[:,:], marker = '')\n",
    "plt.grid()"
   ]
  },
  {
   "cell_type": "code",
   "execution_count": null,
   "id": "a76781a1",
   "metadata": {},
   "outputs": [],
   "source": [
    "%matplotlib notebook"
   ]
  },
  {
   "cell_type": "code",
   "execution_count": null,
   "id": "ae0daf69",
   "metadata": {
    "scrolled": false
   },
   "outputs": [],
   "source": [
    "plt.figure(figsize=[10,10])\n",
    "ax = plt.axes(projection='3d')\n",
    "\n",
    "ax.plot3D(cart_arr[:,0], cart_arr[:,1], cart_arr[:,2], 'gray', marker = 'o')"
   ]
  },
  {
   "cell_type": "code",
   "execution_count": null,
   "id": "1f70de17",
   "metadata": {},
   "outputs": [],
   "source": [
    "%matplotlib inline"
   ]
  },
  {
   "cell_type": "code",
   "execution_count": null,
   "id": "69cf8124",
   "metadata": {},
   "outputs": [],
   "source": []
  },
  {
   "cell_type": "code",
   "execution_count": null,
   "id": "aa12ad4d",
   "metadata": {},
   "outputs": [],
   "source": []
  },
  {
   "cell_type": "code",
   "execution_count": null,
   "id": "8e10b00b",
   "metadata": {},
   "outputs": [],
   "source": []
  },
  {
   "cell_type": "code",
   "execution_count": null,
   "id": "48969583",
   "metadata": {},
   "outputs": [],
   "source": []
  },
  {
   "cell_type": "code",
   "execution_count": null,
   "id": "2a944452",
   "metadata": {},
   "outputs": [],
   "source": []
  },
  {
   "cell_type": "code",
   "execution_count": null,
   "id": "3ce8b4a1",
   "metadata": {},
   "outputs": [],
   "source": []
  },
  {
   "cell_type": "code",
   "execution_count": null,
   "id": "00394c71",
   "metadata": {},
   "outputs": [],
   "source": []
  },
  {
   "cell_type": "code",
   "execution_count": null,
   "id": "a3ff39ae",
   "metadata": {},
   "outputs": [],
   "source": []
  }
 ],
 "metadata": {
  "kernelspec": {
   "display_name": "Python 3 (ipykernel)",
   "language": "python",
   "name": "python3"
  },
  "language_info": {
   "codemirror_mode": {
    "name": "ipython",
    "version": 3
   },
   "file_extension": ".py",
   "mimetype": "text/x-python",
   "name": "python",
   "nbconvert_exporter": "python",
   "pygments_lexer": "ipython3",
   "version": "3.9.5"
  }
 },
 "nbformat": 4,
 "nbformat_minor": 5
}
