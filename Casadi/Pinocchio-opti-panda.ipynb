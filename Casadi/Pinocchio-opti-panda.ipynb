{
 "cells": [
  {
   "cell_type": "code",
   "execution_count": null,
   "id": "1aa8fe91",
   "metadata": {},
   "outputs": [],
   "source": [
    "import numpy as np\n",
    "from pinocchio.utils import eye, rand, zero, skew, cross, rotate\n",
    "import pinocchio as pin"
   ]
  },
  {
   "cell_type": "code",
   "execution_count": null,
   "id": "bc12acc4",
   "metadata": {},
   "outputs": [],
   "source": [
    "from example_robot_data import load"
   ]
  },
  {
   "cell_type": "code",
   "execution_count": null,
   "id": "1da7fdcc",
   "metadata": {},
   "outputs": [],
   "source": [
    "import example_robot_data\n",
    "print(example_robot_data.__file__)"
   ]
  },
  {
   "cell_type": "code",
   "execution_count": null,
   "id": "8f940b21",
   "metadata": {},
   "outputs": [],
   "source": [
    "robot = load('panda')"
   ]
  },
  {
   "cell_type": "code",
   "execution_count": null,
   "id": "c8b3ba59",
   "metadata": {},
   "outputs": [],
   "source": [
    "from pinocchio.visualize import MeshcatVisualizer\n",
    "import pinocchio as pin"
   ]
  },
  {
   "cell_type": "markdown",
   "id": "6b76dc76",
   "metadata": {},
   "source": [
    "for name, inert in zip(robot.model.names, robot.model.inertias):\n",
    "    print(name, inert)"
   ]
  },
  {
   "cell_type": "code",
   "execution_count": null,
   "id": "0ee1683b",
   "metadata": {},
   "outputs": [],
   "source": [
    "qr = np.random.rand(9)"
   ]
  },
  {
   "cell_type": "code",
   "execution_count": null,
   "id": "be74b324",
   "metadata": {},
   "outputs": [],
   "source": [
    "pin.forwardKinematics(robot.model, robot.data, qr)"
   ]
  },
  {
   "cell_type": "code",
   "execution_count": null,
   "id": "d7586c3c",
   "metadata": {},
   "outputs": [],
   "source": [
    "for name, oMi in zip(robot.model.names, robot.data.oMi):\n",
    "    print((\"{:<24} : {: .2f} {: .2f} {: .2f}\"\n",
    "          .format( name, *oMi.translation.T.flat )))"
   ]
  },
  {
   "cell_type": "code",
   "execution_count": null,
   "id": "bd3c4a42",
   "metadata": {},
   "outputs": [],
   "source": [
    "robot.forwardKinematics(qr)"
   ]
  },
  {
   "cell_type": "code",
   "execution_count": null,
   "id": "e12a0179",
   "metadata": {},
   "outputs": [],
   "source": [
    "v = zero(9)\n",
    "tau = zero(9)"
   ]
  },
  {
   "cell_type": "code",
   "execution_count": null,
   "id": "d78ba36a",
   "metadata": {},
   "outputs": [],
   "source": [
    "# Create a list of joints to lock\n",
    "jointsToLock = ['panda_finger_joint1','panda_finger_joint2']\n",
    " \n",
    "# Get the ID of all existing joints\n",
    "jointsToLockIDs = []\n",
    "for jn in jointsToLock:\n",
    "    if robot.model.existJointName(jn):\n",
    "        jointsToLockIDs.append(robot.model.getJointId(jn))\n",
    "    else:\n",
    "        print('Warning: joint ' + str(jn) + ' does not belong to the model!')"
   ]
  },
  {
   "cell_type": "code",
   "execution_count": null,
   "id": "d9704a9d",
   "metadata": {},
   "outputs": [],
   "source": [
    "jointsToLockIDs"
   ]
  },
  {
   "cell_type": "code",
   "execution_count": null,
   "id": "a6784271",
   "metadata": {},
   "outputs": [],
   "source": [
    "reduced_robot = robot.buildReducedRobot(list_of_joints_to_lock=jointsToLockIDs)"
   ]
  },
  {
   "cell_type": "code",
   "execution_count": null,
   "id": "ffb51714",
   "metadata": {},
   "outputs": [],
   "source": [
    "#qr = np.random.rand(6)\n",
    "qr = zero(6)\n",
    "v = zero(6)\n",
    "tau = zero(6)"
   ]
  },
  {
   "cell_type": "code",
   "execution_count": null,
   "id": "f849aa9c",
   "metadata": {},
   "outputs": [],
   "source": [
    "qr = np.random.rand(7)\n",
    "v = zero(7)\n",
    "tau = zero(7)"
   ]
  },
  {
   "cell_type": "code",
   "execution_count": null,
   "id": "68236cce",
   "metadata": {},
   "outputs": [],
   "source": [
    "pin.crba(reduced_robot.model, reduced_robot.data, qr)"
   ]
  },
  {
   "cell_type": "code",
   "execution_count": null,
   "id": "39052e6b",
   "metadata": {
    "scrolled": true
   },
   "outputs": [],
   "source": [
    "pin.rnea(reduced_robot.model, reduced_robot.data, qr, v, tau)"
   ]
  },
  {
   "cell_type": "code",
   "execution_count": null,
   "id": "cc5aac5c",
   "metadata": {
    "scrolled": false
   },
   "outputs": [],
   "source": [
    "pin.rnea(reduced_robot.model, reduced_robot.data, qr, v, tau)"
   ]
  },
  {
   "cell_type": "code",
   "execution_count": null,
   "id": "6b17be38",
   "metadata": {
    "scrolled": false
   },
   "outputs": [],
   "source": [
    "pin.aba(reduced_robot.model, reduced_robot.data, qr, v, tau)"
   ]
  },
  {
   "cell_type": "code",
   "execution_count": null,
   "id": "4fa14068",
   "metadata": {
    "scrolled": false
   },
   "outputs": [],
   "source": [
    "pin.aba(reduced_robot.model, reduced_robot.data, qr, v, tau)"
   ]
  },
  {
   "cell_type": "code",
   "execution_count": null,
   "id": "68703ccc",
   "metadata": {},
   "outputs": [],
   "source": [
    "from roboticstoolbox.models.DH import Panda\n",
    "\n",
    "panda = Panda()"
   ]
  },
  {
   "cell_type": "code",
   "execution_count": null,
   "id": "631a2140",
   "metadata": {},
   "outputs": [],
   "source": [
    "tau"
   ]
  },
  {
   "cell_type": "code",
   "execution_count": null,
   "id": "d7e1ccd8",
   "metadata": {},
   "outputs": [],
   "source": [
    "panda.accel(qr, v, tau)"
   ]
  },
  {
   "cell_type": "code",
   "execution_count": null,
   "id": "a36776e1",
   "metadata": {},
   "outputs": [],
   "source": [
    "panda.rne(qr, v, tau)"
   ]
  },
  {
   "cell_type": "code",
   "execution_count": null,
   "id": "3aa0f19b",
   "metadata": {},
   "outputs": [],
   "source": []
  },
  {
   "cell_type": "code",
   "execution_count": null,
   "id": "ab0161b9",
   "metadata": {},
   "outputs": [],
   "source": []
  },
  {
   "cell_type": "code",
   "execution_count": null,
   "id": "22e0751d",
   "metadata": {},
   "outputs": [],
   "source": []
  },
  {
   "cell_type": "code",
   "execution_count": null,
   "id": "eabee42d",
   "metadata": {},
   "outputs": [],
   "source": []
  },
  {
   "cell_type": "code",
   "execution_count": null,
   "id": "84d2edd4",
   "metadata": {},
   "outputs": [],
   "source": []
  },
  {
   "cell_type": "code",
   "execution_count": null,
   "id": "41e7bc00",
   "metadata": {},
   "outputs": [],
   "source": []
  },
  {
   "cell_type": "markdown",
   "id": "cd9cc201",
   "metadata": {},
   "source": [
    "## Casadi"
   ]
  },
  {
   "cell_type": "code",
   "execution_count": null,
   "id": "1280c664",
   "metadata": {},
   "outputs": [],
   "source": [
    "import casadi as cas"
   ]
  },
  {
   "cell_type": "code",
   "execution_count": null,
   "id": "af04b9b2",
   "metadata": {},
   "outputs": [],
   "source": [
    "import pinocchio.casadi as cpin"
   ]
  },
  {
   "cell_type": "code",
   "execution_count": null,
   "id": "297815cf",
   "metadata": {},
   "outputs": [],
   "source": [
    "qr"
   ]
  },
  {
   "cell_type": "code",
   "execution_count": null,
   "id": "fe726cfb",
   "metadata": {},
   "outputs": [],
   "source": [
    "c_model = cpin.Model(reduced_robot.model)\n",
    "c_data  = c_model.createData()"
   ]
  },
  {
   "cell_type": "code",
   "execution_count": null,
   "id": "2c44f618",
   "metadata": {
    "scrolled": true
   },
   "outputs": [],
   "source": [
    "cpin.aba(c_model, c_data, cas.SX(qr), cas.SX(v), cas.SX(tau))"
   ]
  },
  {
   "cell_type": "code",
   "execution_count": null,
   "id": "83d7e225",
   "metadata": {
    "scrolled": true
   },
   "outputs": [],
   "source": [
    "cpin.rnea(c_model, c_data, cas.SX(qr), cas.SX(v), cas.SX(tau))"
   ]
  },
  {
   "cell_type": "code",
   "execution_count": null,
   "id": "1260ad58",
   "metadata": {},
   "outputs": [],
   "source": [
    "n_q = 7\n",
    "q_s = cas.SX.sym(\"q\", n_q)\n",
    "v_s = cas.SX.sym(\"v\", n_q)\n",
    "tau_s = cas.SX.sym(\"tau\", n_q)\n",
    "params = cas.SX.sym(\"p\", 0)"
   ]
  },
  {
   "cell_type": "code",
   "execution_count": null,
   "id": "d1d82648",
   "metadata": {},
   "outputs": [],
   "source": [
    "tau_s"
   ]
  },
  {
   "cell_type": "code",
   "execution_count": null,
   "id": "873c3876",
   "metadata": {
    "scrolled": true
   },
   "outputs": [],
   "source": [
    "acc_s = cpin.aba(c_model, c_data, q_s, v_s, tau_s)\n",
    "u_s = cpin.rnea(c_model, c_data, q_s, v_s, tau_s)"
   ]
  },
  {
   "cell_type": "code",
   "execution_count": null,
   "id": "11bb14de",
   "metadata": {},
   "outputs": [],
   "source": [
    "dynam_g_q = cas.Function(\n",
    "            \"dynamics_g_q\",\n",
    "            [q_s.T, v_s.T, tau_s.T, params],\n",
    "            [acc_s],\n",
    "            [\"q\", \"q_dot\", \"u\", \"params\"],\n",
    "            [\"accel\"],\n",
    "        )\n",
    "\n",
    "dynam_inv = cas.Function(\n",
    "            \"inverse_dynamics\",\n",
    "            [q_s.T, v_s.T, tau_s.T, params],\n",
    "            [u_s],\n",
    "            [\"q\", \"q_dot\", \"a\", \"params\"],\n",
    "            [\"tau\"],\n",
    "        )"
   ]
  },
  {
   "cell_type": "code",
   "execution_count": null,
   "id": "c8d58087",
   "metadata": {},
   "outputs": [],
   "source": [
    "dynam_g_q.__name__ = 'panda pinocchio function'"
   ]
  },
  {
   "cell_type": "code",
   "execution_count": null,
   "id": "d53ed364",
   "metadata": {},
   "outputs": [],
   "source": [
    "from optibot.opti import Opti_Problem\n",
    "import time\n",
    "import matplotlib.pyplot as plt"
   ]
  },
  {
   "cell_type": "code",
   "execution_count": null,
   "id": "f837ef46",
   "metadata": {},
   "outputs": [],
   "source": [
    "from optibot.schemes import interpolated_array, interpolated_array_derivative, expand_G, interp_2d\n",
    "from optibot.analysis import dynamic_error_implicit, dynamic_error"
   ]
  },
  {
   "cell_type": "code",
   "execution_count": null,
   "id": "46c503bb",
   "metadata": {},
   "outputs": [],
   "source": [
    "dynam_f_x = expand_G(dynam_g_q, mode = 'casadi')\n",
    "\n",
    "def dynam_f_x_t(x, u, params):\n",
    "    return dynam_f_x(x, u, params).T\n",
    "\n",
    "def dynam_f_x_np(x, u, params):\n",
    "    return np.array(dynam_f_x(x, u, params)).flatten()"
   ]
  },
  {
   "cell_type": "code",
   "execution_count": null,
   "id": "85e8982f",
   "metadata": {},
   "outputs": [],
   "source": [
    "plt.style.use('default')"
   ]
  },
  {
   "cell_type": "markdown",
   "id": "610f0732",
   "metadata": {},
   "source": [
    "## Opti problem"
   ]
  },
  {
   "cell_type": "code",
   "execution_count": null,
   "id": "c9f21125",
   "metadata": {},
   "outputs": [],
   "source": [
    "def arr_sum(x):\n",
    "    return np.sum(np.abs(x), axis = 1)\n",
    "\n",
    "oct_fig_size = [10,6]"
   ]
  },
  {
   "cell_type": "code",
   "execution_count": null,
   "id": "6a1d11ff",
   "metadata": {},
   "outputs": [],
   "source": [
    "def panda_interp(results, scheme, n_graph = 2000):\n",
    "    \n",
    "    t_end = results['t'][-1]\n",
    "    t_arr = np.linspace(0,t_end,n_graph)\n",
    "    N = results['x'].shape[0]-1\n",
    "    \n",
    "    if 'hs'in scheme:\n",
    "        scheme_params = {'u_c':results['u_c'],\n",
    "                      'x_dot_c': results['x_d_c'],\n",
    "                      'x_c': results['x_c']}\n",
    "    else:\n",
    "        scheme_params ={}\n",
    "    \n",
    "    if 'parab' in scheme:\n",
    "        u_scheme = 'parab'\n",
    "    else:\n",
    "        u_scheme = 'lin'\n",
    "\n",
    "    x_int, u_int = interpolated_array(\n",
    "        X = results['x'],\n",
    "        U = results['u'],\n",
    "        h = t_end/N,\n",
    "        t_array= t_arr,\n",
    "        params=(),\n",
    "        X_dot=results['x_d'],\n",
    "        scheme=scheme,\n",
    "        u_scheme=u_scheme,\n",
    "        scheme_params=scheme_params,\n",
    "    )\n",
    "    return x_int, u_int\n",
    "    \n",
    "def panda_results_plot(results, scheme, n_graph = 2000):\n",
    "    t_end = results['t'][-1]\n",
    "    t_arr = np.linspace(0,t_end,n_graph)\n",
    "    \n",
    "    x_int, u_int = panda_interp(results, scheme, n_graph = 2000)\n",
    "    \n",
    "    q_int = x_int[:,:7]\n",
    "    v_int = x_int[:,7:]\n",
    "    plt.figure(figsize=[16,10])\n",
    "    plt.plot(results['t'],results['q'],'o')\n",
    "    if 'hs'in scheme:\n",
    "        plt.plot(results['t_c'],results['q_c'],'o')\n",
    "\n",
    "    #plt.plot(results['t'],q_init,'o')\n",
    "    for ii in range(7):\n",
    "        plt.plot(t_arr, q_int[:,ii], label = 'q_'+str(ii))\n",
    "    plt.grid()\n",
    "    plt.legend()\n",
    "    \n",
    "def panda_results_plot_v(results, scheme, n_graph = 2000):\n",
    "    t_end = results['t'][-1]\n",
    "    t_arr = np.linspace(0,t_end,n_graph)\n",
    "    \n",
    "    x_int, u_int = panda_interp(results, scheme, n_graph = 2000)\n",
    "    \n",
    "    q_int = x_int[:,:7]\n",
    "    v_int = x_int[:,7:]\n",
    "    plt.figure(figsize=[16,10])\n",
    "    plt.plot(results['t'],results['v'],'o')\n",
    "    if 'hs'in scheme:\n",
    "        plt.plot(results['t_c'],results['v_c'],'o')\n",
    "\n",
    "    #plt.plot(results['t'],q_init,'o')\n",
    "    for ii in range(7):\n",
    "        plt.plot(t_arr, v_int[:,ii], label = 'v_'+str(ii))\n",
    "    plt.grid()\n",
    "    plt.legend()\n",
    "\n",
    "def panda_results_plot_u(results, scheme, n_graph = 2000):\n",
    "    t_end = results['t'][-1]\n",
    "    t_arr = np.linspace(0,t_end,n_graph)\n",
    "    \n",
    "    x_int, u_int = panda_interp(results, scheme, n_graph = 2000)\n",
    "    \n",
    "    q_int = x_int[:,:7]\n",
    "    v_int = x_int[:,7:]\n",
    "    plt.figure(figsize=[16,10])\n",
    "    plt.plot(results['t'],results['u'],'o')\n",
    "    if 'hs'in scheme:\n",
    "        plt.plot(results['t_c'],results['u_c'],'o')\n",
    "\n",
    "    #plt.plot(results['t'],q_init,'o')\n",
    "    for ii in range(7):\n",
    "        plt.plot(t_arr, u_int[:,ii], label = 'u_'+str(ii))\n",
    "    plt.grid()\n",
    "    \n",
    "def plot_init_arrays(results, waypoints, n_graph = 2000):\n",
    "    t_end = results['t'][-1]\n",
    "    t_arr = results['t']\n",
    "    N = results['x'].shape[0]-1\n",
    "    q_init, v_init, a_init, u_init = init_arrays(N, t_end, waypoints)\n",
    "    plt.plot(t_arr, q_init, marker = 'o')"
   ]
  },
  {
   "cell_type": "code",
   "execution_count": null,
   "id": "65c81ecb",
   "metadata": {},
   "outputs": [],
   "source": [
    "def set_fixed_positions(_opti, pose_0, pose_1, v_mult = 1, v_x_end = 1, v_z_end = 0, block_wrist=True):\n",
    "    \n",
    "    from roboticstoolbox.models.DH import Panda\n",
    "    panda = Panda()\n",
    "    \n",
    "    jacmat = panda.jacob0(q = pose_1, half = 'trans')\n",
    "\n",
    "    q_s = _opti.opti_points['q_s']\n",
    "    q_e = _opti.opti_points['q_e']\n",
    "    v_s = _opti.opti_points['v_s']\n",
    "    v_e = _opti.opti_points['v_e']\n",
    "    \n",
    "    q_arr = _opti.opti_arrs['q']\n",
    "\n",
    "    v_eff_cart_e = cas.MX(jacmat)@v_e.T\n",
    "\n",
    "    _opti.opti.subject_to(q_s == np.expand_dims(pose_0, 0))\n",
    "    _opti.opti.subject_to(q_e == np.expand_dims(pose_1, 0))\n",
    "    \n",
    "    # Bloquear Muñeca\n",
    "    if block_wrist:\n",
    "        wrist_arr = np.linspace(pose_0[-1], pose_1[-1], _opti.N +1)\n",
    "        _opti.opti.subject_to(q_arr[:,-1] == wrist_arr)\n",
    "        try: \n",
    "            q_c_arr = _opti.opti_arrs['q_c']\n",
    "            wrist_arr_c = (wrist_arr[1:]+wrist_arr[:-1])/2\n",
    "            _opti.opti.subject_to(q_c_arr[:,-1] == wrist_arr_c)\n",
    "        except KeyError:\n",
    "            pass\n",
    "\n",
    "    _opti.opti.subject_to(v_s == 0)\n",
    "    #_opti.opti.subject_to(v_e == 0)\n",
    "    _opti.opti.subject_to(v_eff_cart_e[1] == 0)\n",
    "    _opti.opti.subject_to(v_eff_cart_e[2] == v_z_end)\n",
    "    if v_mult == 0:\n",
    "        _opti.opti.subject_to(v_eff_cart_e[0] == v_x_end)\n",
    "    \n",
    "    return v_eff_cart_e"
   ]
  },
  {
   "cell_type": "code",
   "execution_count": null,
   "id": "d203867a",
   "metadata": {},
   "outputs": [],
   "source": [
    "#def "
   ]
  },
  {
   "cell_type": "code",
   "execution_count": null,
   "id": "fafa83eb",
   "metadata": {},
   "outputs": [],
   "source": [
    "def trans_concatenate(*arr_list):\n",
    "    new_arr_list = [np.expand_dims(ii, 0) for ii in arr_list]\n",
    "    return np.concatenate(new_arr_list, axis = 0)\n",
    "    "
   ]
  },
  {
   "cell_type": "code",
   "execution_count": null,
   "id": "23451c2b",
   "metadata": {},
   "outputs": [],
   "source": [
    "def init_arrays(N, t_end, poses):\n",
    "    u_init = np.zeros([N+1, 7])\n",
    "    \n",
    "    if type(poses) not in (list, tuple) :\n",
    "        poses = [poses, poses] #poses sólo era pose inicial y final\n",
    "    poses_arr = trans_concatenate(*poses)\n",
    "    \n",
    "    old_tau_arr = np.linspace(0,t_end,poses_arr.shape[0])\n",
    "    new_tau_arr = np.linspace(0,t_end,N+1)\n",
    "    \n",
    "    q_init = interp_2d(new_tau_arr, old_tau_arr, poses_arr)\n",
    "    v_init = np.gradient(q_init, new_tau_arr, axis=0)\n",
    "    a_init = np.gradient(v_init, new_tau_arr, axis=0)\n",
    "        \n",
    "    for ii in range(N+1):\n",
    "        u_init[ii,:] = dynam_inv(q_init[ii,:], v_init[ii,:], a_init[ii,:],()).T\n",
    "        \n",
    "    return q_init, v_init, a_init, u_init"
   ]
  },
  {
   "cell_type": "code",
   "execution_count": null,
   "id": "59d02d46",
   "metadata": {},
   "outputs": [],
   "source": [
    "def integ_cuart(a, b, c, h):\n",
    "    (1/15)*h*(2*a**2 + 2*a*b - a*c + 8*b**2 + 2*b*c + 2*c**2)\n",
    "\n",
    "def integ_cuart_arr(u, u_c, dt, N):\n",
    "    #Reparar función, error al hacer a*c\n",
    "    h = dt/N\n",
    "    integ = integ_cuart(u[:-1,:], u_c, u[1:], h)\n",
    "    return cas.sum2(cas.sum1(integ))\n",
    "    \n",
    "def integ_parab(U, U_c, dt, N):\n",
    "    return dt * cas.sum2(\n",
    "            (\n",
    "                4 * cas.sum1(U_c[:, :] ** 2)\n",
    "                + cas.sum1(U[:, :] ** 2)\n",
    "                + cas.sum1(U[1:-1, :] ** 2)\n",
    "            )\n",
    "            / (3 *N)\n",
    "        )\n",
    "def integr_equi(_opti, arr_name):\n",
    "    \n",
    "    U = _opti.opti_arrs[arr_name]\n",
    "    dt = _opti.t_end - _opti.t_start\n",
    "    try:\n",
    "        U_c = _opti.opti_arrs[arr_name+'_c']\n",
    "        cost = integ_parab(U, U_c, dt,  _opti.N)\n",
    "        #print('U_c:', U_c)\n",
    "    except KeyError:\n",
    "        cost = dt * cas.sum2(\n",
    "            (cas.sum1(U[:, :] ** 2) + cas.sum1(U[1:-1, :] ** 2)) / _opti.N\n",
    "        )\n",
    "    return cost\n",
    "\n",
    "def horz_v_cost(_opti, v_eff_cart_e, N, acc_mult = 0.03, u_mult = 0.03, v_mult = 1., dq_mult = 0, qdot_mult = 0):\n",
    "    acc_int = integr_equi(_opti, 'a')\n",
    "    u_int = integr_equi(_opti, 'u')\n",
    "    #dq_int = integr_equi(_opti, 'u')\n",
    "    qdot_int = integr_equi(_opti, 'v')\n",
    "    cost = -v_eff_cart_e[0] * v_mult + acc_int*acc_mult + u_int*u_mult\n",
    "    _opti.cost = cost\n",
    "    _opti.opti.minimize(cost)"
   ]
  },
  {
   "cell_type": "code",
   "execution_count": null,
   "id": "6ac0ff2c",
   "metadata": {},
   "outputs": [],
   "source": [
    "def robot_limits(_opti, tau_safety_factor = 0.5, speed_safety_factor = 0.5):\n",
    "    \n",
    "    from roboticstoolbox.models.DH import Panda\n",
    "    panda = Panda()\n",
    "    \n",
    "    q_arr = _opti.opti_arrs['q']\n",
    "    v_arr = _opti.opti_arrs['v']\n",
    "    u_arr = _opti.opti_arrs['u']\n",
    "\n",
    "    q_dot_max = np.zeros(7)\n",
    "    q_dot_max[0:4] = 2.1750\n",
    "    q_dot_max[4:7] = 2.6100\n",
    "\n",
    "    tau_max = np.zeros(7)\n",
    "    tau_max[0:4] = 87\n",
    "    tau_max[4:7] = 12\n",
    "\n",
    "    q_dot_max = q_dot_max*speed_safety_factor\n",
    "    tau_max = tau_max*tau_safety_factor\n",
    "\n",
    "    for ii in range(7):\n",
    "        _opti.opti.subject_to(panda.qlim[:,ii][0] <= q_arr[:,ii])\n",
    "        _opti.opti.subject_to(panda.qlim[:,ii][1] >= q_arr[:,ii])\n",
    "\n",
    "        _opti.opti.subject_to(-q_dot_max[ii] <= v_arr[:,ii])\n",
    "        _opti.opti.subject_to( q_dot_max[ii] >= v_arr[:,ii])\n",
    "\n",
    "\n",
    "        _opti.opti.subject_to(-tau_max[ii] <= u_arr[:,ii])\n",
    "        _opti.opti.subject_to( tau_max[ii] >= u_arr[:,ii])\n",
    "    try: \n",
    "        q_arr_c = _opti.opti_arrs['q_c']\n",
    "        v_arr_c = _opti.opti_arrs['v_c']\n",
    "        u_arr_c = _opti.opti_arrs['u_c']\n",
    "        \n",
    "        for ii in range(7):\n",
    "            _opti.opti.subject_to(panda.qlim[:,ii][0] <= q_arr_c[:,ii])\n",
    "            _opti.opti.subject_to(panda.qlim[:,ii][1] >= q_arr_c[:,ii])\n",
    "\n",
    "            _opti.opti.subject_to(-q_dot_max[ii] <= v_arr_c[:,ii])\n",
    "            _opti.opti.subject_to( q_dot_max[ii] >= v_arr_c[:,ii])\n",
    "\n",
    "            _opti.opti.subject_to(-tau_max[ii] <= u_arr_c[:,ii])\n",
    "            _opti.opti.subject_to( tau_max[ii] >= u_arr_c[:,ii])\n",
    "        \n",
    "    except KeyError:\n",
    "        pass"
   ]
  },
  {
   "cell_type": "code",
   "execution_count": null,
   "id": "821728c4",
   "metadata": {},
   "outputs": [],
   "source": [
    "def panda_throw(\n",
    "    scheme,\n",
    "    N,\n",
    "    dynam_g_q=dynam_g_q,\n",
    "    ini_guess='custom',\n",
    "    solve_repetitions = 1,\n",
    "    t_end = 3,\n",
    "    verbose = False,\n",
    "    silent = True,\n",
    "    waypoints = np.array([ 0.,  -np.pi/4,  0, -np.pi/2,  0., np.pi/4,  0. ]),\n",
    "    acc_mult = 0.03,\n",
    "    u_mult = 0.03,\n",
    "    v_mult = 1.,\n",
    "    tau_safety_factor = 0.5, \n",
    "    speed_safety_factor = 0.5,\n",
    "    v_x_end = 0.877,\n",
    "    v_z_end = 0.,\n",
    "    block_wrist = True,\n",
    "):\n",
    "    \n",
    "    _opti = Opti_Problem(\n",
    "        LM=dynam_g_q,\n",
    "        params = (),\n",
    "        scheme = scheme,\n",
    "        ini_guess= ini_guess,\n",
    "        t_end = t_end,\n",
    "        verbose=verbose,\n",
    "        silent=silent,\n",
    "        )\n",
    "    \n",
    "    _opti.dynamic_setup('g_q',7,7)\n",
    "    _opti.opti_setup(N, tol = 1e-13)\n",
    "    _opti.apply_scheme()\n",
    "    \n",
    "    v_eff_cart_e = set_fixed_positions(_opti, pose_0, pose_1, v_mult, v_x_end, v_z_end, block_wrist)\n",
    "\n",
    "    q_init, v_init, a_init, u_init = init_arrays(N, t_end, waypoints)\n",
    "    if ini_guess == 'custom':\n",
    "        _opti.initial_guess(q_init, v_init, a_init, u_init)\n",
    "    elif ini_guess == 'zero':\n",
    "        _opti.initial_guess()\n",
    "    else:\n",
    "        raise NotImplementedError('implementar cond inits para este caso')\n",
    "    \n",
    "    horz_v_cost(_opti, v_eff_cart_e, N, acc_mult = acc_mult, u_mult = u_mult, v_mult = v_mult)\n",
    "    #_opti.u_sq_cost()\n",
    "    \n",
    "    robot_limits(_opti,\n",
    "                 tau_safety_factor = tau_safety_factor,\n",
    "                 speed_safety_factor = speed_safety_factor)\n",
    "    \n",
    "    _opti.chrono_solve(solve_repetitions=solve_repetitions,)\n",
    "    return _opti.results"
   ]
  },
  {
   "cell_type": "code",
   "execution_count": null,
   "id": "03528c03",
   "metadata": {},
   "outputs": [],
   "source": [
    "def end_eff(q_arr, tool_l = 0.103):\n",
    "    from roboticstoolbox.models.DH import Panda\n",
    "    panda = Panda()\n",
    "    panda.tool.t[2] = tool_l\n",
    "    \n",
    "    l = q_arr.shape[0]\n",
    "    result = np.zeros([l,3])\n",
    "    for ii in range(l):\n",
    "        config = panda.fkine(q_arr[ii,:])\n",
    "        result[ii,:] = config.t\n",
    "    return result\n",
    "\n",
    "def tray_nodes(q_arr, tool_l = 0.103):\n",
    "    from roboticstoolbox.models.DH import Panda\n",
    "    panda = Panda()\n",
    "    panda.tool.t[2] = tool_l\n",
    "    \n",
    "    l = q_arr.shape[0]\n",
    "    result = np.zeros([9,l,3])\n",
    "    for ii in range(l):\n",
    "        config = panda.fkine_all(q_arr[ii,:])\n",
    "        for jj in range(8):\n",
    "            result[jj,ii,:] = config[jj].t\n",
    "    result[-1,:,:] = end_eff(q_arr, tool_l)\n",
    "    return result"
   ]
  },
  {
   "cell_type": "code",
   "execution_count": null,
   "id": "27da34f0",
   "metadata": {},
   "outputs": [],
   "source": [
    "ref_s3 = panda.fkine(np.zeros(7))\n",
    "ref_s3"
   ]
  },
  {
   "cell_type": "code",
   "execution_count": null,
   "id": "d332122c",
   "metadata": {},
   "outputs": [],
   "source": [
    "panda.qlim"
   ]
  },
  {
   "cell_type": "code",
   "execution_count": null,
   "id": "d6340300",
   "metadata": {},
   "outputs": [],
   "source": [
    "# Problema 1\n",
    "pose_0 = np.array([ 0.,  -np.pi/4,  0, -np.pi/2,  0., np.pi/4,  0. ])\n",
    "pose_1 = np.array([ 0.,  -np.pi/4,  0, -np.pi/2,  0., np.pi/4,  0. ])\n",
    "pose_c = np.array([ 0.,  -np.pi/2,  0, -np.pi/1.2,  0., 0.,  0. ])\n",
    "# Problema 2\n",
    "pose_0 = np.array([ -np.pi/4,  0.3,  0, -2.5,  0., 2.8,  0. ])\n",
    "pose_1 = np.array([ -np.pi/4, -0.1,  0, -1.3,  0., 1.2,  0. ])\n",
    "pose_c = np.array([ -3*np.pi/4, -1. ,  0, -2.5,  0., 0.,  0. ])\n",
    "# Problema 3\n",
    "pose_0 = np.array([ 160.,  52.4,  0, -65.3,  0., 108.2,  45. ])*np.pi/180\n",
    "pose_1 = np.array([ 0.,  -72.1,  0, -74.,  0., 151.5,  45. ])*np.pi/180\n",
    "pose_c = np.array([ -24.1,  52.4,  0, -65.3,  0., 108.2,  45. ])*np.pi/180\n",
    "# Problema 4\n",
    "pose_0 = np.array([ 0.,  -35.,  0, -63.,  0., 162.,  45. ])*np.pi/180\n",
    "pose_1 = np.array([ 0.,  -35.,  0, -63.,  0., 162.,  45.  ])*np.pi/180\n",
    "pose_c = np.array([ 1.70784554, -1.63272005, -1.61000295, -2.52716051,  1.48143068,  1.81098497,  0.78539816])\n",
    "pose_q1 = np.array([ 1.51967946, -0.81165248, -0.20204314, -1.85077598,  0.56798175,  2.39457482,  0.78539816])\n",
    "pose_q3 = np.array([-0.07808835, -1.7664135 , -2.84682931, -0.85613278,  1.00210382,  2.08492597,  0.78539747])"
   ]
  },
  {
   "cell_type": "markdown",
   "id": "0e4726da",
   "metadata": {},
   "source": [
    "_x_interp, u_interp = panda_interp(_results, _scheme, n_graph = _n_graph)\n",
    "_x_interp[500,:7]"
   ]
  },
  {
   "cell_type": "markdown",
   "id": "a031128d",
   "metadata": {},
   "source": [
    "panda_results_plot(_results, scheme = _scheme)\n",
    "plot_init_arrays(_results, [pose_0, pose_q1, pose_c, pose_q3, pose_1])\n",
    "\n",
    "#plot_init_arrays(_results, pose_0, pose_1, pose_c, pose_q1 = None, pose_q3=None)"
   ]
  },
  {
   "cell_type": "code",
   "execution_count": null,
   "id": "425937f3",
   "metadata": {},
   "outputs": [],
   "source": [
    "panda.fkine(pose_0)"
   ]
  },
  {
   "cell_type": "code",
   "execution_count": null,
   "id": "558846b9",
   "metadata": {},
   "outputs": [],
   "source": [
    "panda.fkine(pose_1)"
   ]
  },
  {
   "cell_type": "code",
   "execution_count": null,
   "id": "2627ca9c",
   "metadata": {},
   "outputs": [],
   "source": [
    "panda.fkine(pose_c)"
   ]
  },
  {
   "cell_type": "code",
   "execution_count": null,
   "id": "98729879",
   "metadata": {},
   "outputs": [],
   "source": [
    "def panda_with_mass(m_end):\n",
    "    robot = load('panda')\n",
    "    robot.model.inertias[9].mass = m_end\n",
    "    jointsToLock = ['panda_finger_joint1','panda_finger_joint2']\n",
    "    jointsToLockIDs = [robot.model.getJointId(jn) for jn in jointsToLock]\n",
    "    reduced_robot = robot.buildReducedRobot(list_of_joints_to_lock=jointsToLockIDs)\n",
    "    \n",
    "    c_model = cpin.Model(reduced_robot.model)\n",
    "    c_data  = c_model.createData()\n",
    "    \n",
    "    n_q = 7\n",
    "    q_s = cas.SX.sym(\"q\", n_q)\n",
    "    v_s = cas.SX.sym(\"v\", n_q)\n",
    "    tau_s = cas.SX.sym(\"tau\", n_q)\n",
    "    params = cas.SX.sym(\"p\", 0)\n",
    "    \n",
    "    acc_s = cpin.aba(c_model, c_data, q_s, v_s, tau_s)\n",
    "    u_s = cpin.rnea(c_model, c_data, q_s, v_s, tau_s)\n",
    "    \n",
    "    dynam_g_q = cas.Function(\n",
    "                \"dynamics_g_q\",\n",
    "                [q_s.T, v_s.T, tau_s.T, params],\n",
    "                [acc_s],\n",
    "                [\"q\", \"q_dot\", \"u\", \"params\"],\n",
    "                [\"accel\"],\n",
    "            )\n",
    "\n",
    "    dynam_inv = cas.Function(\n",
    "                \"inverse_dynamics\",\n",
    "                [q_s.T, v_s.T, tau_s.T, params],\n",
    "                [u_s],\n",
    "                [\"q\", \"q_dot\", \"a\", \"params\"],\n",
    "                [\"tau\"],\n",
    "            )\n",
    "    dynam_g_q.__name__ = 'panda pinocchio function'\n",
    "    dynam_f_x = expand_G(dynam_g_q, mode = 'casadi')\n",
    "\n",
    "    def dynam_f_x_t(x, u, params):\n",
    "        return dynam_f_x(x, u, params).T\n",
    "\n",
    "    def dynam_f_x_np(x, u, params):\n",
    "        return np.array(dynam_f_x(x, u, params)).flatten()\n",
    "    return dynam_g_q, dynam_inv, dynam_f_x"
   ]
  },
  {
   "cell_type": "code",
   "execution_count": null,
   "id": "dd0aaffa",
   "metadata": {},
   "outputs": [],
   "source": [
    "def get_waypoints(N_waypoints, results, scheme):\n",
    "    _x_interp, u_interp = panda_interp(results, scheme, n_graph = 2000)\n",
    "    old_tau_arr = np.linspace(0,1,2000)\n",
    "    new_tau_arr = np.linspace(0,1,N_waypoints)\n",
    "    \n",
    "    way_arr = interp_2d(new_tau_arr, old_tau_arr, _x_interp[:,:7])\n",
    "    return [way_arr[ii,:] for ii in range(N_waypoints)]"
   ]
  },
  {
   "cell_type": "markdown",
   "id": "de289420",
   "metadata": {},
   "source": [
    "### Problema interesante:\n",
    "    \n",
    "    \n",
    "    acc_mult = 0.01,\n",
    "    u_mult = 0.1,\n",
    "    v_mult = 0,\n",
    "    tau_safety_factor = 0.5, \n",
    "    speed_safety_factor = 100.,\n",
    "    v_x_end = -5\n",
    "    v_z_end = 1\n",
    "    \n",
    "    o\n",
    "    \n",
    "    v_z_end = 0\n",
    "    \n",
    "    o\n",
    "    \n",
    "    \n",
    "    _scheme,\n",
    "    _N,\n",
    "    t_end = 1,\n",
    "    ini_guess='zero',\n",
    "    dynam_g_q=dynam_g_q,\n",
    "    pose_0=pose_0,\n",
    "    pose_1=pose_1,\n",
    "    pose_c=pose_c,\n",
    "    verbose=True,\n",
    "    silent=False,\n",
    "    acc_mult = 0.1,\n",
    "    u_mult = 1,\n",
    "    v_mult = 0,\n",
    "    tau_safety_factor = 0.5, \n",
    "    speed_safety_factor = 100.,\n",
    "    v_x_end = 10,\n",
    "    v_z_end = 0,"
   ]
  },
  {
   "cell_type": "code",
   "execution_count": null,
   "id": "8d5c0eb9",
   "metadata": {},
   "outputs": [],
   "source": [
    "from numpy import array"
   ]
  },
  {
   "cell_type": "code",
   "execution_count": null,
   "id": "bd3af149",
   "metadata": {},
   "outputs": [],
   "source": [
    "_waypoints=[pose_0, pose_q1, pose_c, pose_q3, pose_1]"
   ]
  },
  {
   "cell_type": "code",
   "execution_count": null,
   "id": "f4b552ba",
   "metadata": {},
   "outputs": [],
   "source": [
    "_waypoints=[\n",
    "    np.array([-2.53248555e-18, -6.10865238e-01,  2.03330713e-18, -1.09955743e+00, -1.92375017e-17,  2.82743339e+00,  7.85398163e-01]),\n",
    "    np.array([ 0.30583642, -0.75883029, -0.0123181 , -1.45006794,  0.14921203,  2.77335844,  0.78539816]),\n",
    "    np.array([ 0.71864944, -1.10033124, -0.14982473, -2.11463378,  0.50155305,  2.49920923,  0.78539816]),\n",
    "    np.array([ 0.8683679 , -1.49151222, -0.54356741, -2.68868848,  0.91885907,  2.21167765,  0.78539816]),\n",
    "    np.array([ 0.68549687, -1.71073009, -1.44017257, -2.96921424,  1.17315848,  2.12817671,  0.78539816]),\n",
    "    np.array([ 0.2057914 , -1.76279983, -2.51395443, -2.79104403,  1.17153408,  2.23499779,  0.78539816]),\n",
    "    np.array([-0.62735565, -1.7588055 , -2.89729679, -2.05852038,  0.75166333,  2.52090991,  0.78539816]),\n",
    "    np.array([-1.08140563, -1.73649547, -2.39463151, -1.56691404, -0.1384569 ,  2.71148205,  0.78539816]),\n",
    "    np.array([-1.17087851, -1.56442135, -1.71222247, -1.67380114, -0.80884129,  3.11987876,  0.78539816]),\n",
    "    np.array([-0.8036383 , -1.40529462, -0.71376265, -1.70380909, -0.52998094,  3.74259331,  0.78539816]),\n",
    "    np.array([ 2.53248554e-18, -6.10865238e-01,  8.42091408e-16, -1.09955743e+00,  2.79786631e-16,  2.82743339e+00,  7.85398163e-01])\n",
    "]"
   ]
  },
  {
   "cell_type": "code",
   "execution_count": null,
   "id": "ff86bd5d",
   "metadata": {},
   "outputs": [],
   "source": [
    "_waypoints = [\n",
    "    array([ 2.59721776e-27, -6.10865238e-01, -6.59678098e-27, -1.09955743e+00, -7.01956440e-28,  2.82743339e+00,  7.85398163e-01]),\n",
    "    array([ 0.03318641, -0.65533581, -0.01895189, -1.19384492,  0.0193124 ,  2.80970588,  0.78539816]),\n",
    "    array([ 0.10479664, -0.77204482, -0.06537078, -1.43521564,  0.07237986,  2.76265939,  0.78539816]),\n",
    "    array([ 0.18009345, -0.93363446, -0.12948023, -1.75623983,  0.15242625,  2.696461  ,  0.78539816]),\n",
    "    array([ 0.23741408, -1.11446825, -0.21774093, -2.09791078,  0.25391364,  2.62159785,  0.78539816]),\n",
    "    array([ 0.2655529 , -1.2953805 , -0.35152742, -2.42138342,  0.37231145,  2.54823617,  0.78539816]),\n",
    "    array([ 0.2576012 , -1.46088376, -0.56556902, -2.70159918,  0.50463561,  2.48683514,  0.78539816]),\n",
    "    array([ 0.21148571, -1.59449722, -0.89314686, -2.91493985,  0.64925608,  2.44844793,  0.78539816]),\n",
    "    array([ 0.13672932, -1.68383298, -1.32415222, -3.0402065 ,  0.80116289,  2.44165337,  0.78539816]),\n",
    "    array([ 0.04676345, -1.73216169, -1.79663581, -3.07179854,  0.94791124,  2.4703197 ,  0.78539816]),\n",
    "    array([-0.0586584 , -1.75395693, -2.24228862, -3.01373081,  1.07484951,  2.53567791,  0.78539816]),\n",
    "    array([-0.18911152, -1.76183318, -2.59819928, -2.86858801,  1.16968866,  2.63439689,  0.78539816]),\n",
    "    array([-0.34977632, -1.76280002, -2.81937401, -2.65151017,  1.22425032,  2.76237975,  0.78539816]),\n",
    "    array([-0.53161718, -1.76260011, -2.89753408, -2.39169664,  1.23492679,  2.91463068,  0.78539816]),\n",
    "    array([-0.71440901, -1.76177053, -2.84742554, -2.13749741,  1.2004481 ,  3.07743144,  0.78539816]),\n",
    "    array([-0.88343718, -1.76252107, -2.68273543, -1.94279383,  1.12771601,  3.23973502,  0.78539816]),\n",
    "    array([-1.02226671, -1.76150882, -2.43540217, -1.84753994,  1.02769241,  3.39501595,  0.78539816]),\n",
    "    array([-1.11399809, -1.74618373, -2.14954398, -1.8594025 ,  0.91012187,  3.532767  ,  0.78539816]),\n",
    "    array([-1.15037095, -1.70947985, -1.84928773, -1.93513174,  0.78041306,  3.64115524,  0.78539816]),\n",
    "    array([-1.12560729, -1.65969944, -1.52453308, -2.00373744,  0.63976651,  3.71292849,  0.78539816]),\n",
    "    array([-1.02527927, -1.60174537, -1.16097953, -2.00727425,  0.48994007,  3.74788071,  0.78539816]),\n",
    "    array([-0.83229856, -1.51079687, -0.76444648, -1.92179173,  0.33677671,  3.74770129,  0.78539816]),\n",
    "    array([-0.55784722, -1.32967451, -0.37803996, -1.75424496,  0.19177555,  3.66280047,  0.78539819]),\n",
    "    array([-0.25971695, -1.02179992, -0.09231741, -1.50482242,  0.07251543,  3.39122445,  0.78539704]),\n",
    "    array([-2.23060949e-27, -6.10865238e-01,  4.70899401e-26, -1.09955743e+00,  1.59972053e-26,  2.82743339e+00,  7.85398163e-01])\n",
    "]"
   ]
  },
  {
   "cell_type": "code",
   "execution_count": null,
   "id": "88c7a86a",
   "metadata": {},
   "outputs": [],
   "source": [
    "_waypoints = [\n",
    "    array([ 6.42660183e-27, -6.10865238e-01, -1.53053032e-27, -1.09955743e+00, -1.39449201e-27,  2.82743339e+00,  7.85398163e-01]),\n",
    "    array([ 0.04245906, -0.61968777,  0.00902092, -1.12432694,  0.01100683,  2.81296085,  0.78539816]),\n",
    "    array([ 0.15366427, -0.64496264,  0.02684135, -1.19521903,  0.04322195,  2.77154599,  0.78539816]),\n",
    "    array([ 0.31107744, -0.68531655,  0.03832707, -1.30654762,  0.09546256,  2.70642776,  0.78539816]),\n",
    "    array([ 0.49415494, -0.74047999,  0.03320941, -1.45085159,  0.16586955,  2.62137469,  0.78539816]),\n",
    "    array([ 0.68463911, -0.81068297,  0.00852096, -1.61882239,  0.2516379 ,  2.52074817,  0.78539816]),\n",
    "    array([ 0.8670274 , -0.89562534, -0.03426528, -1.80046969,  0.34930084,  2.40934613,  0.78539816]),\n",
    "    array([ 1.02896628, -0.99395888, -0.09343319, -1.98671319,  0.45512398,  2.29220823,  0.78539816]),\n",
    "    array([ 1.16139019, -1.10321484, -0.17002875, -2.17035125,  0.56542493,  2.17448609,  0.78539816]),\n",
    "    array([ 1.25818925, -1.21970736, -0.26923768, -2.34588682,  0.67678551,  2.06148713,  0.78539816]),\n",
    "    array([ 1.31557358, -1.33820076, -0.40032756, -2.50855928,  0.7862367 ,  1.95881556,  0.78539816]),\n",
    "    array([ 1.33195124, -1.45171987, -0.57464149, -2.65324125,  0.89138819,  1.87243682,  0.78539816]),\n",
    "    array([ 1.30856815, -1.55242794, -0.80075152, -2.77379672,  0.99036017,  1.80832795,  0.78539816]),\n",
    "    array([ 1.24964799, -1.63406816, -1.07849915, -2.86343658,  1.08125724,  1.77175794,  0.78539816]),\n",
    "    array([ 1.16004566, -1.69419746, -1.39751979, -2.9158191 ,  1.1613279 ,  1.76699961,  0.78539816]),\n",
    "    array([ 1.04151662, -1.7337793 , -1.74200651, -2.92519035,  1.2263871 ,  1.79803104,  0.78539816]),\n",
    "    array([ 0.89119226, -1.75527362, -2.09374725, -2.8842203 ,  1.27064732,  1.86908845,  0.78539816]),\n",
    "    array([ 0.70298171, -1.76244745, -2.42655748, -2.78107757,  1.28661286,  1.98355503,  0.78539816]),\n",
    "    array([ 0.47099578, -1.76278757, -2.69839493, -2.59983794,  1.26553811,  2.141858  ,  0.78539816]),\n",
    "    array([ 0.20133493, -1.76277101, -2.86238635, -2.33389024,  1.19943405,  2.33856214,  0.78539816]),\n",
    "    array([-0.06926113, -1.76240612, -2.89561892, -2.00668912,  1.08306179,  2.55879058,  0.78539816]),\n",
    "    array([-0.29483952, -1.76232405, -2.80129196, -1.67352391,  0.92019126,  2.78796891,  0.78539816]),\n",
    "    array([-0.46160495, -1.76243591, -2.57568749, -1.39142662,  0.72598615,  3.02446125,  0.78539816]),\n",
    "    array([-0.56703955, -1.74873447, -2.2279302 , -1.21715571,  0.51860561,  3.2595955 ,  0.78539816]),\n",
    "    array([-0.61820556, -1.71702087, -1.79340075, -1.17523544,  0.31779552,  3.47669855,  0.78539816]),\n",
    "    array([-0.612058  , -1.67793162, -1.31147097, -1.24504198,  0.14127475,  3.65123455,  0.78539816]),\n",
    "    array([-0.52742614, -1.61078892, -0.82572032, -1.38029015,  0.00465149,  3.74717798,  0.78539817]),\n",
    "    array([-0.36428597, -1.44658239, -0.39452858, -1.50164084, -0.07699137,  3.71555427,  0.78539786]),\n",
    "    array([-0.17073583, -1.11955823, -0.09901446, -1.47846914, -0.08560006,  3.45742816,  0.785401  ]),\n",
    "    array([-6.42663782e-27, -6.10865238e-01, -4.80906483e-25, -1.09955743e+00, -2.75420204e-26,  2.82743339e+00,  7.85398163e-01])\n",
    "]"
   ]
  },
  {
   "cell_type": "code",
   "execution_count": null,
   "id": "03660a7b",
   "metadata": {
    "scrolled": true
   },
   "outputs": [],
   "source": [
    "_scheme = 'hs_mod_parab'\n",
    "_N = 40\n",
    "dynam_g_q, dynam_inv, dynam_f_x = panda_with_mass(0)\n",
    "_results = panda_throw(\n",
    "    _scheme,\n",
    "    _N,\n",
    "    t_end = 1,\n",
    "    ini_guess='custom',\n",
    "    dynam_g_q=dynam_g_q,\n",
    "    waypoints=_waypoints,\n",
    "    verbose=True,\n",
    "    silent=False,\n",
    "    acc_mult = 0.001,\n",
    "    u_mult = 0.01,\n",
    "    v_mult = 0,\n",
    "    tau_safety_factor = 1, \n",
    "    speed_safety_factor = 100.,\n",
    "    v_x_end = 10,\n",
    "    v_z_end = 0,\n",
    "    block_wrist=True\n",
    ")"
   ]
  },
  {
   "cell_type": "code",
   "execution_count": null,
   "id": "5a6cfb62",
   "metadata": {
    "scrolled": false
   },
   "outputs": [],
   "source": [
    "panda_results_plot(_results, scheme = _scheme)\n",
    "plot_init_arrays(_results, waypoints=_waypoints)"
   ]
  },
  {
   "cell_type": "code",
   "execution_count": null,
   "id": "af44ac46",
   "metadata": {},
   "outputs": [],
   "source": [
    "jacmat = panda.jacob0(q = _results['q'][-1,:], half = 'trans')\n",
    "v_eff_cart_e = jacmat@_results['v'][-1,:]\n",
    "v_eff_cart_e"
   ]
  },
  {
   "cell_type": "code",
   "execution_count": null,
   "id": "55e6491c",
   "metadata": {},
   "outputs": [],
   "source": [
    "jacmat = panda.jacob0(q = _results['q'][-2,:], half = 'trans')\n",
    "v_eff_cart_e = jacmat@_results['v'][-2,:]\n",
    "v_eff_cart_e"
   ]
  },
  {
   "cell_type": "code",
   "execution_count": null,
   "id": "efd997d2",
   "metadata": {},
   "outputs": [],
   "source": [
    "jacmat = panda.jacob0(q = _results['q'][-3,:], half = 'trans')\n",
    "v_eff_cart_e = jacmat@_results['v'][-3,:]\n",
    "v_eff_cart_e"
   ]
  },
  {
   "cell_type": "code",
   "execution_count": null,
   "id": "6eaff0b4",
   "metadata": {},
   "outputs": [],
   "source": [
    "def cart_v(q_p, qdot):\n",
    "    jacmat = panda.jacob0(q = q_p, half = 'trans')\n",
    "    return jacmat@ qdot"
   ]
  },
  {
   "cell_type": "code",
   "execution_count": null,
   "id": "efed4c65",
   "metadata": {},
   "outputs": [],
   "source": [
    "_n_graph = 2000 # A higher number here will provide more exact results but take longer to run\n",
    "_t_end = 1\n",
    "t_arr = np.linspace(0,_t_end,_n_graph)\n",
    "_x_interp, u_interp = panda_interp(_results, _scheme, n_graph = _n_graph)\n",
    "\n",
    "_q_interp = _x_interp[:,:7]\n",
    "_v_interp = _x_interp[:,7:]"
   ]
  },
  {
   "cell_type": "code",
   "execution_count": null,
   "id": "db4c6818",
   "metadata": {},
   "outputs": [],
   "source": [
    "_v_cart = np.ones([_n_graph, 3])\n",
    "for ii in range(_n_graph):\n",
    "    #print('q:',_q_interp[ii,:],'\\nv:', _v_interp[ii,:])\n",
    "    _v_cart[ii,:] = cart_v(_q_interp[ii,:], _v_interp[ii,:])"
   ]
  },
  {
   "cell_type": "code",
   "execution_count": null,
   "id": "f0759f8c",
   "metadata": {
    "scrolled": false
   },
   "outputs": [],
   "source": [
    "plt.figure(figsize=[12,6])\n",
    "compon = ['x','y','z']\n",
    "for ii in range(3):\n",
    "    plt.plot(t_arr,_v_cart[:,ii], label = compon[ii])\n",
    "plt.legend()\n",
    "plt.grid()"
   ]
  },
  {
   "cell_type": "markdown",
   "id": "9b7e2762",
   "metadata": {},
   "source": [
    "_waypoints=get_waypoints(30, _results, _scheme)"
   ]
  },
  {
   "cell_type": "code",
   "execution_count": null,
   "id": "0a8e777a",
   "metadata": {},
   "outputs": [],
   "source": [
    "_scheme = 'hs_mod'\n",
    "_N = 15\n",
    "dynam_g_q, dynam_inv, dynam_f_x = panda_with_mass(0)\n",
    "_results = panda_throw(\n",
    "    _scheme,\n",
    "    _N,\n",
    "    t_end = 1,\n",
    "    ini_guess='custom',\n",
    "    dynam_g_q=dynam_g_q,\n",
    "    waypoints=_waypoints,\n",
    "    verbose=True,\n",
    "    silent=False,\n",
    "    acc_mult = 0.01,\n",
    "    u_mult = 0.1,\n",
    "    v_mult = 0,\n",
    "    tau_safety_factor = 1., \n",
    "    speed_safety_factor = 100.,\n",
    "    v_x_end = 10,\n",
    "    v_z_end = 0,\n",
    "    block_wrist=True\n",
    ")"
   ]
  },
  {
   "cell_type": "code",
   "execution_count": null,
   "id": "af809838",
   "metadata": {
    "scrolled": false
   },
   "outputs": [],
   "source": [
    "panda_results_plot(_results, scheme = _scheme)\n",
    "plot_init_arrays(_results, waypoints=_waypoints)"
   ]
  },
  {
   "cell_type": "code",
   "execution_count": null,
   "id": "c2037a2c",
   "metadata": {},
   "outputs": [],
   "source": [
    "panda_results_plot_u(_results, scheme = _scheme)"
   ]
  },
  {
   "cell_type": "code",
   "execution_count": null,
   "id": "aa5214ae",
   "metadata": {},
   "outputs": [],
   "source": [
    "_results.keys()"
   ]
  },
  {
   "cell_type": "code",
   "execution_count": null,
   "id": "c4648516",
   "metadata": {},
   "outputs": [],
   "source": [
    "_results['cost']"
   ]
  },
  {
   "cell_type": "code",
   "execution_count": null,
   "id": "96fca305",
   "metadata": {},
   "outputs": [],
   "source": [
    "_x_interp, u_interp = panda_interp(_results, _scheme, n_graph = _n_graph)\n",
    "_x_interp[1500,:7]"
   ]
  },
  {
   "cell_type": "code",
   "execution_count": null,
   "id": "f527b3fa",
   "metadata": {},
   "outputs": [],
   "source": [
    "_n_graph = 2000\n",
    "_x_interp, u_interp = panda_interp(_results, _scheme, n_graph = _n_graph)\n",
    "cart_tray = tray_nodes(_x_interp[:,:7])"
   ]
  },
  {
   "cell_type": "code",
   "execution_count": null,
   "id": "e427d8e5",
   "metadata": {},
   "outputs": [],
   "source": [
    "_x_interp_anim, _ = panda_interp(_results, _scheme, n_graph = 200)\n",
    "np.savetxt('panda_q_traj.txt', _x_interp_anim)\n",
    "cart_v(_x_interp_anim[-1,:7],_x_interp_anim[-1,7:])"
   ]
  },
  {
   "cell_type": "code",
   "execution_count": null,
   "id": "2406a0a5",
   "metadata": {},
   "outputs": [],
   "source": [
    "for i in range(0,2000,250):\n",
    "    _p = i/2000\n",
    "    _c = 0.5-0.4*_p\n",
    "    plt.plot(cart_tray[:,i,0],cart_tray[:,i,2], color = str(_c))\n",
    "plt.plot(cart_tray[:,-1,0],cart_tray[:,-1,2], color = '0.1')"
   ]
  },
  {
   "cell_type": "code",
   "execution_count": null,
   "id": "e8e5adfd",
   "metadata": {},
   "outputs": [],
   "source": [
    "plt.figure(figsize=[10,10])\n",
    "plt.plot(cart_tray[-1,:,0],cart_tray[-1,:,2])\n",
    "\n",
    "for i in range(0,2000,500):\n",
    "    _p = i/2000\n",
    "    _c = 0.5-0.4*_p\n",
    "    plt.plot(cart_tray[:,i,0],cart_tray[:,i,2], color = str(_c))\n",
    "plt.plot(cart_tray[:,-1,0],cart_tray[:,-1,2], color = '0.1')\n",
    "\n",
    "plt.gca().set_aspect('equal')"
   ]
  },
  {
   "cell_type": "code",
   "execution_count": null,
   "id": "d1e57814",
   "metadata": {},
   "outputs": [],
   "source": [
    "plt.plot(cart_tray[-1,:,0],cart_tray[-1,:,1])\n",
    "\n",
    "for i in range(0,2000,500):\n",
    "    _p = i/2000\n",
    "    _c = 0.5-0.4*_p\n",
    "    plt.plot(cart_tray[:,i,0],cart_tray[:,i,1], color = str(_c))\n",
    "plt.plot(cart_tray[:,-1,0],cart_tray[:,-1,1], color = '0.1')\n",
    "\n",
    "plt.gca().set_aspect('equal')"
   ]
  },
  {
   "cell_type": "code",
   "execution_count": null,
   "id": "2fef1d28",
   "metadata": {},
   "outputs": [],
   "source": [
    "plt.plot(_results['t'],_results['a'])"
   ]
  },
  {
   "cell_type": "code",
   "execution_count": null,
   "id": "57fd9a12",
   "metadata": {},
   "outputs": [],
   "source": [
    "n_graph = 2000 # A higher number here will provide more exact results but take longer to run\n",
    "_t_end = 1\n",
    "t_arr = np.linspace(0,_t_end,n_graph)\n",
    "if 'parab' in _scheme:\n",
    "    u_scheme = 'parab'\n",
    "else:\n",
    "    u_scheme = 'lin'\n",
    "    \n",
    "if 'hs'in _scheme:\n",
    "        _scheme_params = {'u_c':_results['u_c'],\n",
    "                      'x_dot_c': _results['x_d_c'],\n",
    "                      'x_c': _results['x_c']}\n",
    "else:\n",
    "    _scheme_params ={}\n",
    "\n",
    "_dyn_err_q, _dyn_err_v, _, _dyn_err_2 = dynamic_error(\n",
    "            x_arr=_results['x'],\n",
    "            u_arr=_results['u'],\n",
    "            t_end=_t_end,\n",
    "            params = (),\n",
    "            F = dynam_f_x_t,\n",
    "            X_dot=_results['x_d'],\n",
    "            scheme=_scheme,\n",
    "            u_scheme=u_scheme,\n",
    "            scheme_params=_scheme_params,\n",
    "            n_interp= n_graph)"
   ]
  },
  {
   "cell_type": "code",
   "execution_count": null,
   "id": "c3e2e4a8",
   "metadata": {},
   "outputs": [],
   "source": [
    "\n",
    "colors = [f'C{ii}'for ii in range(10)]\n",
    "interv_n = (_N * t_arr)/_t_end\n",
    "plt.figure(figsize=[14,8])\n",
    "for ii in range(n_q):\n",
    "    cut_p = 0\n",
    "    for ll in range(1,_N+1):\n",
    "        jj = np.searchsorted(interv_n, ll)\n",
    "        plt.plot(t_arr[cut_p:jj],_dyn_err_2[cut_p:jj,ii], '-', c = colors[ii], label = f'$q_{ii+1}$' if cut_p == 0 else None)\n",
    "        cut_p = jj\n",
    "plt.plot(np.linspace(0,_t_end,_N+1), np.zeros(_N+1), 'ok')\n",
    "    \n",
    "if 'hs'in _scheme:\n",
    "    plt.plot(_results['t_c'], np.zeros(_N), 'ow', markeredgecolor='b', label = 'collocation points')\n",
    "plt.legend()\n",
    "plt.grid()\n",
    "#plt.ylim([-0.00001, 0.00001])\n",
    "\n",
    "plt.title(r'Second order dynamic error $\\varepsilon^{[2]}_{q_i}$,'+f'{_scheme} scheme')\n",
    "plt.xlabel('Time(s)')\n",
    "plt.ylabel('Dynamic error $(rad/s)$')\n",
    "plt.tight_layout(pad = 0.0)"
   ]
  },
  {
   "cell_type": "code",
   "execution_count": null,
   "id": "fe238f38",
   "metadata": {},
   "outputs": [],
   "source": [
    "\n",
    "colors = [f'C{ii}'for ii in range(10)]\n",
    "interv_n = (_N * t_arr)/_t_end\n",
    "plt.figure(figsize=[14,8])\n",
    "for ii in range(n_q):\n",
    "    cut_p = 0\n",
    "    for ll in range(1,_N+1):\n",
    "        jj = np.searchsorted(interv_n, ll)\n",
    "        plt.plot(t_arr[cut_p:jj],np.abs(_dyn_err_2[cut_p:jj,ii]), '-', c = colors[ii], label = f'$q_{ii+1}$' if cut_p == 0 else None)\n",
    "        cut_p = jj\n",
    "        \n",
    "plt.plot(t_arr, arr_sum(_dyn_err_2))\n",
    "plt.plot(np.linspace(0,_t_end,_N+1), np.zeros(_N+1), 'ok')\n",
    "    \n",
    "if 'hs'in _scheme:\n",
    "    plt.plot(_results['t_c'], np.zeros(_N), 'ow', markeredgecolor='b', label = 'collocation points')\n",
    "plt.legend()\n",
    "plt.grid()\n",
    "#plt.ylim([-0.00001, 0.00001])\n",
    "\n",
    "plt.title(r'Second order dynamic error $\\varepsilon^{[2]}_{q_i}$,'+f'{_scheme} scheme')\n",
    "plt.xlabel('Time(s)')\n",
    "plt.ylabel('Dynamic error $(rad/s)$')\n",
    "plt.tight_layout(pad = 0.0)"
   ]
  },
  {
   "cell_type": "markdown",
   "id": "8e9e95d5",
   "metadata": {},
   "source": [
    "## Sistematic comparative"
   ]
  },
  {
   "cell_type": "code",
   "execution_count": null,
   "id": "51e1c1e7",
   "metadata": {
    "scrolled": false
   },
   "outputs": [],
   "source": [
    "schemes = ['hs_parab', 'hs_mod_parab','trapz', 'trapz_mod']#, 'hs', 'hs_mod']\n",
    "solve_repetitions = 4\n",
    "N_arr = [20, 25, 30, 40, 50, 60, 70, 80, 100, 125, 150, 175, 200]#, 225, 250, 275, 300]\n",
    "results = {}\n",
    "end_mass = 0\n",
    "\n",
    "dynam_g_q, dynam_inv, dynam_f_x = panda_with_mass(end_mass)\n",
    "for scheme in schemes:\n",
    "    key = scheme\n",
    "    print('Problem:', key)\n",
    "    results[key] = {'N_arr':N_arr}\n",
    "    for N in N_arr:\n",
    "        print(f'\\tN = {N}')\n",
    "        results[key][N] = panda_throw(\n",
    "            scheme,\n",
    "            N,\n",
    "            solve_repetitions=solve_repetitions,\n",
    "            t_end = 1,\n",
    "            ini_guess='custom',\n",
    "            dynam_g_q=dynam_g_q,\n",
    "            waypoints=_waypoints,\n",
    "            verbose=False,\n",
    "            silent=True,\n",
    "            acc_mult = 0.01,\n",
    "            u_mult = 0.1,\n",
    "            v_mult = 0,\n",
    "            tau_safety_factor = 1., \n",
    "            speed_safety_factor = 100.,\n",
    "            v_x_end = 10,\n",
    "            v_z_end = 0,\n",
    "            block_wrist=True\n",
    "        )"
   ]
  },
  {
   "cell_type": "code",
   "execution_count": null,
   "id": "2a68b307",
   "metadata": {},
   "outputs": [],
   "source": [
    "plt.figure(figsize = [12, 8])\n",
    "for scheme in schemes:\n",
    "    key = scheme\n",
    "    N_arr = results[key]['N_arr']\n",
    "    \n",
    "    for N in N_arr:\n",
    "        \n",
    "        t_plot = results[key][N]['t']\n",
    "        q_plot = results[key][N]['q']\n",
    "        for ii in range(7):\n",
    "            plt.plot(t_plot, q_plot[:,ii], c = f'C{ii}', alpha = 0.1)\n",
    "plt.grid()\n",
    "plt.title('Trajectory Superposition')"
   ]
  },
  {
   "cell_type": "code",
   "execution_count": null,
   "id": "c7f36c26",
   "metadata": {},
   "outputs": [],
   "source": [
    "plt.figure(figsize = [12, 8])\n",
    "for scheme in schemes:\n",
    "    key = scheme\n",
    "    N_arr = results[key]['N_arr']\n",
    "    \n",
    "    for N in N_arr:\n",
    "        \n",
    "        t_plot = results[key][N]['t']\n",
    "        q_plot = results[key][N]['v']\n",
    "        for ii in range(7):\n",
    "            plt.plot(t_plot, q_plot[:,ii], c = f'C{ii}', alpha = 0.1)\n",
    "plt.grid()\n",
    "plt.title('Trajectory Superposition')"
   ]
  },
  {
   "cell_type": "code",
   "execution_count": null,
   "id": "9b9232af",
   "metadata": {},
   "outputs": [],
   "source": [
    "plt.figure(figsize = [12, 8])\n",
    "for scheme in schemes:\n",
    "    key = scheme\n",
    "    N_arr = results[key]['N_arr']\n",
    "    \n",
    "    for N in N_arr:\n",
    "        \n",
    "        t_plot = results[key][N]['t']\n",
    "        q_plot = results[key][N]['u']\n",
    "        for ii in range(7):\n",
    "            plt.plot(t_plot, q_plot[:,ii], c = f'C{ii}', alpha = 0.1)\n",
    "plt.grid()\n",
    "plt.title('Trajectory Superposition')"
   ]
  },
  {
   "cell_type": "code",
   "execution_count": null,
   "id": "25beb16c",
   "metadata": {},
   "outputs": [],
   "source": [
    "key = 'hs_parab'\n",
    "panda_results_plot(results[key][50], key)\n",
    "#plot_init_arrays(_results, waypoints=_waypoints)"
   ]
  },
  {
   "cell_type": "code",
   "execution_count": null,
   "id": "99b74f35",
   "metadata": {},
   "outputs": [],
   "source": [
    "from optibot.schemes import integrate_rk4"
   ]
  },
  {
   "cell_type": "code",
   "execution_count": null,
   "id": "41d7f6c0",
   "metadata": {},
   "outputs": [],
   "source": [
    "def integrate_rk4_u(results, scheme, n_graph = 2000):\n",
    "    \n",
    "    t_end = results['t'][-1]\n",
    "    t_arr = np.linspace(0,t_end,n_graph)\n",
    "    N = results['x'].shape[0]-1\n",
    "    \n",
    "    if 'hs'in scheme:\n",
    "        scheme_params = {'u_c':results['u_c'],\n",
    "                      'x_dot_c': results['x_d_c'],\n",
    "                      'x_c': results['x_c']}\n",
    "    else:\n",
    "        scheme_params ={}\n",
    "\n",
    "    x_int, u_int = interpolated_array(\n",
    "        X = results['x'],\n",
    "        U = results['u'],\n",
    "        h = t_end/N,\n",
    "        t_array= t_arr,\n",
    "        params=(),\n",
    "        X_dot=results['x_d'],\n",
    "        scheme=scheme,\n",
    "        u_scheme='lin',\n",
    "        scheme_params=scheme_params,\n",
    "    )\n",
    "    \n",
    "    dt = t_end/(n_graph-1)\n",
    "    x_0 = results['x'][0,:]\n",
    "    x_int = integrate_rk4(x_0, u_int, dynam_f_x_np, dt, ())\n",
    "    return x_int"
   ]
  },
  {
   "cell_type": "code",
   "execution_count": null,
   "id": "2fc37170",
   "metadata": {},
   "outputs": [],
   "source": [
    "from optibot.schemes import (trapz_accel_restr, trapz_mod_accel_restr, \n",
    "                             hs_accel_restr, hs_mod_accel_restr)"
   ]
  },
  {
   "cell_type": "code",
   "execution_count": null,
   "id": "c3692e54",
   "metadata": {},
   "outputs": [],
   "source": [
    "rest_dic = {\n",
    "    'hs_parab':hs_accel_restr,\n",
    "    'hs_mod_parab':hs_accel_restr,\n",
    "    'trapz':trapz_accel_restr,\n",
    "    'trapz_mod':trapz_mod_accel_restr,\n",
    "    'hs':hs_accel_restr,\n",
    "    'hs_mod':hs_mod_accel_restr\n",
    "}"
   ]
  },
  {
   "cell_type": "code",
   "execution_count": null,
   "id": "a37d9eed",
   "metadata": {},
   "outputs": [],
   "source": [
    "def scheme_error(results, scheme):\n",
    "    restr = rest_dic[scheme]\n",
    "    x_arr = results['x']\n",
    "    a_arr = results['a']\n",
    "    t_end = results['t'][-1]\n",
    "    N = results['x'].shape[0]-1\n",
    "    dt = t_end/N\n",
    "        \n",
    "    error = np.ones([N,n_q*2])\n",
    "    \n",
    "    for ii in range(N):\n",
    "        \n",
    "        x = x_arr[ii,:]\n",
    "        x_n = x_arr[ii+1,:]\n",
    "        a = a_arr[ii,:]\n",
    "        a_n = a_arr[ii+1,:]\n",
    "        \n",
    "        if 'hs'in scheme:\n",
    "            scheme_params = results['a_c'][ii,:]\n",
    "        else:\n",
    "            scheme_params = []\n",
    "        error[ii,:] = restr(x, x_n, a, a_n, dt, scheme_params)\n",
    "    return error"
   ]
  },
  {
   "cell_type": "code",
   "execution_count": null,
   "id": "8706ba64",
   "metadata": {},
   "outputs": [],
   "source": [
    "key = 'hs_mod_parab'\n",
    "N = 25\n",
    "n_graph = 2000\n",
    "results[key][N].keys()"
   ]
  },
  {
   "cell_type": "code",
   "execution_count": null,
   "id": "bb95e8ee",
   "metadata": {},
   "outputs": [],
   "source": [
    "_sch_err = scheme_error(results[key][N], key)"
   ]
  },
  {
   "cell_type": "code",
   "execution_count": null,
   "id": "a1fa8fe7",
   "metadata": {},
   "outputs": [],
   "source": [
    "results[key][N]['t']"
   ]
  },
  {
   "cell_type": "code",
   "execution_count": null,
   "id": "4dce8151",
   "metadata": {
    "scrolled": false
   },
   "outputs": [],
   "source": [
    "\n",
    "N = 25\n",
    "t_i = (results[key][N]['t'][1:] + results[key][N]['t'][:-1])/2\n",
    "for key in schemes:\n",
    "    plt.figure(figsize=[6,2])\n",
    "    _sch_err = scheme_error(results[key][N], key)\n",
    "    plt.plot(t_i,_sch_err)\n",
    "    plt.title(f'scheme error: {key}')"
   ]
  },
  {
   "cell_type": "markdown",
   "id": "f9a22a74",
   "metadata": {},
   "source": [
    "N = 15"
   ]
  },
  {
   "cell_type": "markdown",
   "id": "cc013ef2",
   "metadata": {
    "scrolled": false
   },
   "source": [
    "_ = plt.plot(results['hs_parab'][N]['x']-results['hs_mod_parab'][N]['x'],'.')"
   ]
  },
  {
   "cell_type": "markdown",
   "id": "e06f08e5",
   "metadata": {
    "scrolled": false
   },
   "source": [
    "_ = plt.plot(results['hs_parab'][N]['x']-results['hs'][N]['x'],'.')"
   ]
  },
  {
   "cell_type": "markdown",
   "id": "c206c652",
   "metadata": {},
   "source": [
    "_ = plt.plot(results['hs_parab'][N]['x'], '.')"
   ]
  },
  {
   "cell_type": "markdown",
   "id": "87d7dcf1",
   "metadata": {},
   "source": [
    "_ = plt.plot(results['hs_parab'][N]['t'],results['hs_parab'][N]['a'], '.')\n",
    "_ = plt.plot(results['hs_parab'][N]['t_c'],results['hs_parab'][N]['x_d_c'][:,n_q:], '.')"
   ]
  },
  {
   "cell_type": "code",
   "execution_count": null,
   "id": "79e476b9",
   "metadata": {},
   "outputs": [],
   "source": [
    "n_graph = 2000 # A higher number here will provide more exact results but take longer to run\n",
    "\n",
    "for scheme in schemes:\n",
    "    key = scheme\n",
    "    if 'parab' in scheme:\n",
    "        u_scheme = 'parab'\n",
    "    else:\n",
    "        u_scheme = 'lin'\n",
    "    print('Problem:', key)\n",
    "    N_arr = results[key]['N_arr']\n",
    "    \n",
    "    for N in N_arr:\n",
    "        print(f'\\tN = {N}')\n",
    "        \n",
    "        t_end = results[key][N]['t'][-1]\n",
    "        t_arr = np.linspace(0,t_end,n_graph)\n",
    "        \n",
    "        \n",
    "        if 'hs'in scheme:\n",
    "            scheme_params = {'u_c':results[key][N]['u_c'],\n",
    "                          'x_dot_c': results[key][N]['x_d_c'],\n",
    "                          'x_c': results[key][N]['x_c']}\n",
    "        else:\n",
    "            scheme_params ={}\n",
    "            \n",
    "        dyn_err_q, dyn_err_v, _, dyn_err_2 = dynamic_error(\n",
    "            x_arr=results[key][N]['x'],\n",
    "            u_arr=results[key][N]['u'],\n",
    "            t_end=results[key][N]['t'][-1],\n",
    "            params = (),\n",
    "            F = dynam_f_x_t,\n",
    "            X_dot=results[key][N]['x_d'],\n",
    "            scheme = scheme, \n",
    "            u_scheme = u_scheme,\n",
    "            scheme_params= scheme_params,\n",
    "            n_interp= n_graph)\n",
    "            \n",
    "        results[key][N]['dyn_err_q'] = dyn_err_q\n",
    "        results[key][N]['dyn_err_v'] = dyn_err_v\n",
    "        results[key][N]['dyn_err_2'] = dyn_err_2"
   ]
  },
  {
   "cell_type": "code",
   "execution_count": null,
   "id": "67e810b5",
   "metadata": {},
   "outputs": [],
   "source": [
    "schemes_graph = ['hs_mod_parab','hs_parab']\n",
    "titles = ['2nd order Hermite Simpson','Hermite Simpson']#, 'Trapezoidal', 'Modified Trapezoidal']\n",
    "colors = ['b', 'orange', 'g', 'r', 'purple']\n",
    "funcs = [arr_sum,]#arr_mod,  arr_max\n",
    "#func_tittles = ['Module of', 'Sum of absolute', 'Maximum of absolute']\n",
    "y_max_list = [0.12, 0.2, 0.09]\n",
    "n_int = len(t_arr)\n",
    "N = 25\n",
    "interv_n = (N * t_arr)/results[schemes_graph[0]][N]['t'][-1]\n",
    "for ii in range(1):\n",
    "    plt.figure(figsize=oct_fig_size)\n",
    "    for kk in [1,0]:\n",
    "        scheme = schemes_graph[kk]\n",
    "        print(scheme)\n",
    "        cut_p = 0\n",
    "        for ll in range(1,N+1):\n",
    "            jj = np.searchsorted(interv_n, ll)\n",
    "            y_plot = funcs[ii](results[scheme][N]['dyn_err_2'])\n",
    "            plt.plot(t_arr[cut_p:jj],y_plot[cut_p:jj], '-', c = f'C{kk}', label = titles[kk] if cut_p == 0 else None)\n",
    "            cut_p = jj\n",
    "    plt.plot(results[scheme][N]['t'], np.zeros(N+1), 'ok', label = 'knot & collocation points')\n",
    "    plt.plot(results[scheme][N]['t_c'], np.zeros(N), 'ow', markeredgecolor='k', label = 'collocation points')\n",
    "    plt.legend()\n",
    "    plt.grid()\n",
    "    #plt.ylim([-0.01,y_max_list[ii]])\n",
    "    plt.title(r'Second order dynamic error $\\varepsilon^{[2]}$,'+f' N = {N}')\n",
    "    plt.xlabel('Time(s)')\n",
    "    plt.ylabel('Dynamic error $(rad/s^2)$')\n",
    "    plt.tight_layout(pad = 0.0)"
   ]
  },
  {
   "cell_type": "markdown",
   "id": "aa5767e2",
   "metadata": {},
   "source": [
    "schemes_graph = ['hs_mod','hs']\n",
    "titles = ['2nd order Hermite Simpson','Hermite Simpson']#, 'Trapezoidal', 'Modified Trapezoidal']\n",
    "colors = ['b', 'orange', 'g', 'r', 'purple']\n",
    "funcs = [arr_sum,]#arr_mod,  arr_max\n",
    "#func_tittles = ['Module of', 'Sum of absolute', 'Maximum of absolute']\n",
    "y_max_list = [0.12, 0.2, 0.09]\n",
    "n_int = len(t_arr)\n",
    "N = 15\n",
    "interv_n = (N * t_arr)/results[schemes_graph[0]][N]['t'][-1]\n",
    "for ii in range(1):\n",
    "    plt.figure(figsize=oct_fig_size)\n",
    "    for kk in [1,0]:\n",
    "        scheme = schemes_graph[kk]\n",
    "        print(scheme)\n",
    "        cut_p = 0\n",
    "        for ll in range(1,N+1):\n",
    "            jj = np.searchsorted(interv_n, ll)\n",
    "            y_plot = funcs[ii](results[scheme][N]['dyn_err_2'])\n",
    "            plt.plot(t_arr[cut_p:jj],y_plot[cut_p:jj], '-', c = f'C{kk}', label = titles[kk] if cut_p == 0 else None)\n",
    "            cut_p = jj\n",
    "    plt.plot(results[scheme][N]['t'], np.zeros(N+1), 'ok', label = 'knot & collocation points')\n",
    "    plt.plot(results[scheme][N]['t_c'], np.zeros(N), 'ow', markeredgecolor='k', label = 'collocation points')\n",
    "    plt.legend()\n",
    "    plt.grid()\n",
    "    #plt.ylim([-0.01,y_max_list[ii]])\n",
    "    plt.title(r'Second order dynamic error $\\varepsilon^{[2]}$,'+f' N = {N}')\n",
    "    plt.xlabel('Time(s)')\n",
    "    plt.ylabel('Dynamic error $(rad/s^2)$')\n",
    "    plt.tight_layout(pad = 0.0)"
   ]
  },
  {
   "cell_type": "code",
   "execution_count": null,
   "id": "3562b037",
   "metadata": {},
   "outputs": [],
   "source": [
    "results[scheme][50]['t'].shape"
   ]
  },
  {
   "cell_type": "code",
   "execution_count": null,
   "id": "6ef1e6c0",
   "metadata": {},
   "outputs": [],
   "source": [
    "N"
   ]
  },
  {
   "cell_type": "code",
   "execution_count": null,
   "id": "91773a38",
   "metadata": {},
   "outputs": [],
   "source": [
    "schemes_graph = ['trapz', 'trapz_mod']\n",
    "titles = ['Trapezoidal', '2nd order Trapezoidal']\n",
    "funcs = [arr_sum,]#arr_mod,  arr_max\n",
    "y_max_list = [0.12, 0.2, 0.09]\n",
    "n_int = len(t_arr)\n",
    "N = 20\n",
    "interv_n = (N * t_arr)/results[scheme][N]['t'][-1]\n",
    "for ii in range(1):\n",
    "    plt.figure(figsize=oct_fig_size)\n",
    "    for kk in range(2):\n",
    "        scheme = schemes_graph[kk]\n",
    "        cut_p = 0\n",
    "        for ll in range(1,N+1):\n",
    "            jj = np.searchsorted(interv_n, ll)\n",
    "            y_plot = funcs[ii](results[scheme][N]['dyn_err_2'])\n",
    "            plt.plot(t_arr[cut_p:jj],y_plot[cut_p:jj], '-', c = f'C{kk+2}', label = titles[kk] if cut_p == 0 else None)\n",
    "            cut_p = jj\n",
    "    plt.plot(results[scheme][N]['t'], np.zeros(N+1), 'ok', label = 'knot & collocation points')\n",
    "    plt.legend()\n",
    "    plt.grid()\n",
    "    plt.title(r'Second order dynamic error $\\varepsilon^{[2]}$,'+f' N = {N}')\n",
    "    plt.xlabel('Time(s)')\n",
    "    plt.ylabel('Dynamic error $(rad/s^2)$')\n",
    "    plt.tight_layout(pad = 0.0)"
   ]
  },
  {
   "cell_type": "code",
   "execution_count": null,
   "id": "46f060a9",
   "metadata": {},
   "outputs": [],
   "source": []
  },
  {
   "cell_type": "code",
   "execution_count": null,
   "id": "3fbff972",
   "metadata": {},
   "outputs": [],
   "source": []
  },
  {
   "cell_type": "code",
   "execution_count": null,
   "id": "abd19e92",
   "metadata": {},
   "outputs": [],
   "source": [
    "def total_state_error(t_arr, dyn_err):\n",
    "    errors = np.trapz(np.abs(dyn_err), t_arr, axis=0)\n",
    "    return errors"
   ]
  },
  {
   "cell_type": "code",
   "execution_count": null,
   "id": "a329b588",
   "metadata": {
    "scrolled": true
   },
   "outputs": [],
   "source": [
    "for scheme in schemes:\n",
    "    key = scheme\n",
    "    print('Problem:', key)\n",
    "    N_arr = results[key]['N_arr']\n",
    "    for N in N_arr:\n",
    "        print(f'\\tN = {N}')\n",
    "        for letter in 'qv2':\n",
    "            results[key][N][f'integ_dyn_err_{letter}']= total_state_error(t_arr, results[scheme][N][f'dyn_err_{letter}'])\n",
    "            results[key][N][f'module_dyn_err_{letter}']= np.sqrt(np.dot(results[key][N][f'integ_dyn_err_{letter}'], results[key][N][f'integ_dyn_err_{letter}']))\n",
    "            results[key][N][f'sum_dyn_err_{letter}'] = np.sum(results[key][N][f'integ_dyn_err_{letter}'])"
   ]
  },
  {
   "cell_type": "code",
   "execution_count": null,
   "id": "b82c8079",
   "metadata": {},
   "outputs": [],
   "source": [
    "for scheme in schemes:\n",
    "    key = scheme\n",
    "    print('Problem:', key)\n",
    "    N_arr = results[key]['N_arr']\n",
    "    \n",
    "    for letter in 'qv2':\n",
    "        list_mod = []\n",
    "        list_sum = []\n",
    "        for N in N_arr:\n",
    "            #print(f'\\tN = {N}')\n",
    "            list_mod.append(results[key][N][f'module_dyn_err_{letter}'])\n",
    "            list_sum.append(results[key][N][f'sum_dyn_err_{letter}'])\n",
    "        results[key][f'module_dyn_err_{letter}_array'] = np.array(list_mod)\n",
    "        results[key][f'sum_dyn_err_{letter}_array'] = np.array(list_sum)"
   ]
  },
  {
   "cell_type": "code",
   "execution_count": null,
   "id": "1aedfbd4",
   "metadata": {},
   "outputs": [],
   "source": [
    "# For each scheme, the number of collocation points can be obtained\n",
    "for scheme in results.keys():\n",
    "    if 'hs' in scheme:\n",
    "        n_coll = np.array(results[scheme]['N_arr'])*2-1\n",
    "        results[scheme]['N_coll_arr'] = n_coll\n",
    "    else:\n",
    "        results[scheme]['N_coll_arr'] = results[scheme]['N_arr']"
   ]
  },
  {
   "cell_type": "code",
   "execution_count": null,
   "id": "7e08877a",
   "metadata": {},
   "outputs": [],
   "source": [
    "schemes"
   ]
  },
  {
   "cell_type": "code",
   "execution_count": null,
   "id": "7607010e",
   "metadata": {},
   "outputs": [],
   "source": [
    "titles = ['Hermite Simpson parab',\n",
    "          '2nd order Hermite Simpson parab',\n",
    "          'Trapezoidal',\n",
    "          '2nd order Trapezoidal',\n",
    "          'Hermite Simpson',\n",
    "          '2nd order Hermite Simpson',]\n",
    "plt.figure(figsize=oct_fig_size)\n",
    "for ii in [2,3,0,1]:\n",
    "    key = schemes[ii]\n",
    "    plt.plot(results[key]['N_arr'], results[key][f'sum_dyn_err_2_array'],'-', marker = 'o', c = f'C{ii}',label = titles[ii])\n",
    "plt.grid()\n",
    "plt.legend()\n",
    "plt.yscale('log')\n",
    "plt.title('Second order dynamic error $E^{[2]}$')\n",
    "plt.xlabel('Number of intervals')\n",
    "plt.ylabel('Dynamic error ($rad/s$)')\n",
    "plt.tight_layout(pad = 0.0)"
   ]
  },
  {
   "cell_type": "code",
   "execution_count": null,
   "id": "27e0ffd1",
   "metadata": {},
   "outputs": [],
   "source": []
  },
  {
   "cell_type": "code",
   "execution_count": null,
   "id": "1b548b5a",
   "metadata": {},
   "outputs": [],
   "source": [
    "for scheme in schemes:\n",
    "    key = scheme\n",
    "    print('Problem:', key)\n",
    "    N_arr = results[key]['N_arr']\n",
    "    list_cpudt = []\n",
    "    list_cost = []\n",
    "    for N in N_arr:\n",
    "        #print(f'\\tN = {N}')\n",
    "        list_cpudt.append(results[key][N]['cpudt'])\n",
    "        list_cost.append(results[key][N]['cost'])\n",
    "    results[key]['cpudt_array'] = np.array(list_cpudt)\n",
    "    results[key]['cost_array'] = np.array(list_cost)"
   ]
  },
  {
   "cell_type": "code",
   "execution_count": null,
   "id": "1ac23ada",
   "metadata": {},
   "outputs": [],
   "source": [
    "results[key][N]['cpudt']"
   ]
  },
  {
   "cell_type": "code",
   "execution_count": null,
   "id": "92441ad8",
   "metadata": {},
   "outputs": [],
   "source": [
    "results[key][f'cpudt_array'].shape"
   ]
  },
  {
   "cell_type": "code",
   "execution_count": null,
   "id": "33f4d793",
   "metadata": {},
   "outputs": [],
   "source": [
    "plt.figure(figsize=oct_fig_size)\n",
    "for ii in [2,3,1,0]:\n",
    "    key = schemes[ii]\n",
    "    plt.plot(results[key]['N_arr'], results[key][f'cpudt_array'], marker = 'o', c = f'C{ii}', label = titles[ii])\n",
    "plt.grid()\n",
    "plt.legend()\n",
    "#plt.yscale('log')\n",
    "plt.title('Optimization time')\n",
    "plt.xlabel('Number of intervals')\n",
    "plt.ylabel('Time (s)')\n",
    "plt.tight_layout(pad = 0.0)"
   ]
  },
  {
   "cell_type": "code",
   "execution_count": null,
   "id": "4fa99325",
   "metadata": {},
   "outputs": [],
   "source": [
    "plt.figure(figsize=oct_fig_size)\n",
    "for ii in [2,3,1,0]:\n",
    "    key = schemes[ii]\n",
    "    plt.plot(results[key][f'cpudt_array'],results[key][f'sum_dyn_err_2_array'], marker = 'o', c = f'C{ii}', label = titles[ii])\n",
    "plt.grid()\n",
    "plt.legend()\n",
    "plt.yscale('log')\n",
    "plt.xscale('log')\n",
    "plt.title('Error vs time')\n",
    "plt.ylabel('Error')\n",
    "plt.xlabel('Time (s)')\n",
    "plt.tight_layout(pad = 0.0)"
   ]
  },
  {
   "cell_type": "code",
   "execution_count": null,
   "id": "d3aacdff",
   "metadata": {},
   "outputs": [],
   "source": [
    "plt.figure(figsize=oct_fig_size)\n",
    "for ii in [2,3,1,0]:\n",
    "    key = schemes[ii]\n",
    "    plt.plot(results[key]['N_arr'], results[key][f'cost_array'], marker = 'o', c = f'C{ii}', label = titles[ii])\n",
    "plt.grid()\n",
    "plt.legend()\n",
    "#plt.yscale('log')\n",
    "plt.title('Solution Cost')\n",
    "plt.xlabel('Number of intervals')\n",
    "plt.ylabel('cost')\n",
    "plt.tight_layout(pad = 0.0)\n",
    "#plt.ylim([0, 1100])"
   ]
  },
  {
   "cell_type": "code",
   "execution_count": null,
   "id": "70846d40",
   "metadata": {},
   "outputs": [],
   "source": []
  },
  {
   "cell_type": "code",
   "execution_count": null,
   "id": "d7fb7fab",
   "metadata": {},
   "outputs": [],
   "source": [
    "# Here we print the data shown in Table III of the paper\n",
    "\n",
    "for scheme in ['hs_mod_parab', 'hs_parab', 'trapz', 'trapz_mod']:\n",
    "    key = scheme\n",
    "    for N in [25,50]:#results[key]['N_arr']:\n",
    "        print('scheme:', scheme, 'N:', N,'\\n\\ttime:', results[key][N][f'cpudt'],\n",
    "              '\\n\\tErr 1:', results[key][N]['sum_dyn_err_q'], '\\n\\tErr 2:', results[key][N]['sum_dyn_err_2'])"
   ]
  },
  {
   "cell_type": "code",
   "execution_count": null,
   "id": "25fdf0e0",
   "metadata": {},
   "outputs": [],
   "source": []
  },
  {
   "cell_type": "code",
   "execution_count": null,
   "id": "639432e0",
   "metadata": {},
   "outputs": [],
   "source": []
  },
  {
   "cell_type": "code",
   "execution_count": null,
   "id": "de1575c5",
   "metadata": {},
   "outputs": [],
   "source": []
  },
  {
   "cell_type": "code",
   "execution_count": null,
   "id": "73901a6f",
   "metadata": {},
   "outputs": [],
   "source": []
  },
  {
   "cell_type": "code",
   "execution_count": null,
   "id": "97902088",
   "metadata": {},
   "outputs": [],
   "source": []
  },
  {
   "cell_type": "code",
   "execution_count": null,
   "id": "fd5fbeff",
   "metadata": {},
   "outputs": [],
   "source": []
  },
  {
   "cell_type": "code",
   "execution_count": null,
   "id": "9523c65c",
   "metadata": {},
   "outputs": [],
   "source": []
  },
  {
   "cell_type": "code",
   "execution_count": null,
   "id": "6ac3dc23",
   "metadata": {},
   "outputs": [],
   "source": []
  },
  {
   "cell_type": "code",
   "execution_count": null,
   "id": "4ed7d68a",
   "metadata": {},
   "outputs": [],
   "source": []
  },
  {
   "cell_type": "code",
   "execution_count": null,
   "id": "a3fd2bb4",
   "metadata": {},
   "outputs": [],
   "source": []
  },
  {
   "cell_type": "code",
   "execution_count": null,
   "id": "22eeb61c",
   "metadata": {},
   "outputs": [],
   "source": []
  }
 ],
 "metadata": {
  "kernelspec": {
   "display_name": "Python 3 (ipykernel)",
   "language": "python",
   "name": "python3"
  },
  "language_info": {
   "codemirror_mode": {
    "name": "ipython",
    "version": 3
   },
   "file_extension": ".py",
   "mimetype": "text/x-python",
   "name": "python",
   "nbconvert_exporter": "python",
   "pygments_lexer": "ipython3",
   "version": "3.9.15"
  }
 },
 "nbformat": 4,
 "nbformat_minor": 5
}
