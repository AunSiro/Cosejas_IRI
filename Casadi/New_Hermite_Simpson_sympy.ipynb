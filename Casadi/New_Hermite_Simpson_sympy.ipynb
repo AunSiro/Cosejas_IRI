{
 "cells": [
  {
   "cell_type": "code",
   "execution_count": 1,
   "metadata": {},
   "outputs": [],
   "source": [
    "import numpy as np\n",
    "import matplotlib.pyplot as plt\n",
    "from mpl_toolkits import mplot3d\n",
    "\n",
    "from numpy import logical_and as npand\n",
    "from numpy import logical_or as npor\n",
    "import matplotlib"
   ]
  },
  {
   "cell_type": "code",
   "execution_count": 2,
   "metadata": {},
   "outputs": [],
   "source": [
    "from sympy import (symbols, pi, I, E, cos, sin, exp, tan, simplify, expand, factor, collect,\n",
    "                   apart, cancel, expand_trig, diff, Derivative, Function, integrate, limit,\n",
    "                   series, Eq, solve, dsolve, Matrix, N, preorder_traversal, Float, solve_linear_system,\n",
    "                   eye, zeros, lambdify)\n",
    "from sympy.physics.mechanics import dynamicsymbols, init_vprinting"
   ]
  },
  {
   "cell_type": "code",
   "execution_count": 3,
   "metadata": {},
   "outputs": [],
   "source": [
    "init_vprinting()"
   ]
  },
  {
   "cell_type": "code",
   "execution_count": 4,
   "metadata": {},
   "outputs": [
    {
     "data": {
      "image/png": "[encoded data removed]",
      "text/latex": [
       "$\\displaystyle \\left( h, \\  f_{k}, \\  f_{k+1/2}, \\  f_{k+1}, \\  t\\right)$"
      ],
      "text/plain": [
       "(h, fₖ, f_{k+1/2}, f_{k+1}, t)"
      ]
     },
     "execution_count": 4,
     "metadata": {},
     "output_type": "execute_result"
    }
   ],
   "source": [
    "h, fk, fc, fn, t = symbols('h f_k f_{k+1/2} f_{k+1} t')\n",
    "\n",
    "h, fk, fc, fn, t"
   ]
  },
  {
   "cell_type": "code",
   "execution_count": 5,
   "metadata": {},
   "outputs": [
    {
     "data": {
      "image/png": "[encoded data removed]",
      "text/latex": [
       "$\\displaystyle \\frac{2 f_{k} \\left(- h + t\\right) \\left(- \\frac{h}{2} + t\\right)}{h^{2}} - \\frac{4 f_{k+1/2} t \\left(- h + t\\right)}{h^{2}} + \\frac{2 f_{k+1} t \\left(- \\frac{h}{2} + t\\right)}{h^{2}}$"
      ],
      "text/plain": [
       "              ⎛  h    ⎞                                        ⎛  h    ⎞\n",
       "2⋅fₖ⋅(-h + t)⋅⎜- ─ + t⎟                            2⋅f_{k+1}⋅t⋅⎜- ─ + t⎟\n",
       "              ⎝  2    ⎠   4⋅f_{k+1/2}⋅t⋅(-h + t)               ⎝  2    ⎠\n",
       "─────────────────────── - ────────────────────── + ─────────────────────\n",
       "            2                        2                        2         \n",
       "           h                        h                        h          "
      ]
     },
     "execution_count": 5,
     "metadata": {},
     "output_type": "execute_result"
    }
   ],
   "source": [
    "x_dot = 2/h**2*(t-h/2)*(t-h)*fk - 4/h**2*t*(t-h)*fc + 2/h**2*t*(t-h/2)*fn\n",
    "x_dot"
   ]
  },
  {
   "cell_type": "code",
   "execution_count": 6,
   "metadata": {},
   "outputs": [
    {
     "data": {
      "image/png": "[encoded data removed]",
      "text/latex": [
       "$\\displaystyle f_{k} t + v_{k} + \\frac{t^{2} \\left(- 3 f_{k} + 4 f_{k+1/2} - f_{k+1}\\right)}{2 h} + \\frac{t^{3} \\left(2 f_{k} - 4 f_{k+1/2} + 2 f_{k+1}\\right)}{3 h^{2}}$"
      ],
      "text/plain": [
       "             2                                    3                           \n",
       "            t ⋅(-3⋅fₖ + 4⋅f_{k+1/2} - f_{k+1})   t ⋅(2⋅fₖ - 4⋅f_{k+1/2} + 2⋅f_\n",
       "fₖ⋅t + vₖ + ────────────────────────────────── + ─────────────────────────────\n",
       "                           2⋅h                                      2         \n",
       "                                                                 3⋅h          \n",
       "\n",
       "      \n",
       "{k+1})\n",
       "──────\n",
       "      \n",
       "      "
      ]
     },
     "execution_count": 6,
     "metadata": {},
     "output_type": "execute_result"
    }
   ],
   "source": [
    "vk = symbols('v_k')\n",
    "x = integrate(x_dot, t) + vk\n",
    "x"
   ]
  },
  {
   "cell_type": "code",
   "execution_count": 7,
   "metadata": {},
   "outputs": [
    {
     "data": {
      "image/png": "[encoded data removed]",
      "text/latex": [
       "$\\displaystyle \\frac{f_{k} t^{2}}{2} + q_{k} + t v_{k} + \\frac{t^{3} \\left(- 3 f_{k} + 4 f_{k+1/2} - f_{k+1}\\right)}{6 h} + \\frac{t^{4} \\left(f_{k} - 2 f_{k+1/2} + f_{k+1}\\right)}{6 h^{2}}$"
      ],
      "text/plain": [
       "    2                3                                    4                   \n",
       "fₖ⋅t                t ⋅(-3⋅fₖ + 4⋅f_{k+1/2} - f_{k+1})   t ⋅(fₖ - 2⋅f_{k+1/2} \n",
       "───── + qₖ + t⋅vₖ + ────────────────────────────────── + ─────────────────────\n",
       "  2                                6⋅h                                    2   \n",
       "                                                                       6⋅h    \n",
       "\n",
       "          \n",
       "+ f_{k+1})\n",
       "──────────\n",
       "          \n",
       "          "
      ]
     },
     "execution_count": 7,
     "metadata": {},
     "output_type": "execute_result"
    }
   ],
   "source": [
    "qk = symbols('q_k')\n",
    "q = integrate(x, t) + qk\n",
    "q"
   ]
  },
  {
   "cell_type": "code",
   "execution_count": 8,
   "metadata": {},
   "outputs": [
    {
     "data": {
      "image/png": "[encoded data removed]",
      "text/latex": [
       "$\\displaystyle \\frac{f_{k} h^{2}}{6} + \\frac{f_{k+1/2} h^{2}}{3} + h v_{k} + q_{k}$"
      ],
      "text/plain": [
       "    2              2            \n",
       "fₖ⋅h    f_{k+1/2}⋅h             \n",
       "───── + ──────────── + h⋅vₖ + qₖ\n",
       "  6          3                  "
      ]
     },
     "execution_count": 8,
     "metadata": {},
     "output_type": "execute_result"
    }
   ],
   "source": [
    "qn_exp = simplify(q.subs(t,h))\n",
    "qn_exp"
   ]
  },
  {
   "cell_type": "code",
   "execution_count": 9,
   "metadata": {},
   "outputs": [
    {
     "data": {
      "image/png": "[encoded data removed]",
      "text/latex": [
       "$\\displaystyle \\frac{- f_{k} h^{2} - 6 h v_{k} - 6 q_{k} + 6 q_{k+1}}{2 h^{2}}$"
      ],
      "text/plain": [
       "      2                            \n",
       "- fₖ⋅h  - 6⋅h⋅vₖ - 6⋅qₖ + 6⋅q_{k+1}\n",
       "───────────────────────────────────\n",
       "                   2               \n",
       "                2⋅h                "
      ]
     },
     "execution_count": 9,
     "metadata": {},
     "output_type": "execute_result"
    }
   ],
   "source": [
    "qn = symbols('q_{k+1}')\n",
    "qn_eq = qn_exp - qn\n",
    "fc_exp = simplify(solve(qn_eq, fc)[0])\n",
    "fc_exp"
   ]
  },
  {
   "cell_type": "markdown",
   "metadata": {},
   "source": [
    "$$ f_{k+1/2} = \\frac{- f_{k} h^{2} - 6 h v_{k} - 6 q_{k} + 6 q_{k+1}}{2 h^{2}}$$"
   ]
  },
  {
   "cell_type": "code",
   "execution_count": 10,
   "metadata": {},
   "outputs": [
    {
     "data": {
      "image/png": "[encoded data removed]",
      "text/latex": [
       "$\\displaystyle \\frac{f_{k} h^{2}}{24} - \\frac{f_{k+1} h^{2}}{96} + \\frac{5 h v_{k}}{16} + \\frac{13 q_{k}}{16} + \\frac{3 q_{k+1}}{16}$"
      ],
      "text/plain": [
       "    2            2                             \n",
       "fₖ⋅h    f_{k+1}⋅h    5⋅h⋅vₖ   13⋅qₖ   3⋅q_{k+1}\n",
       "───── - ────────── + ────── + ───── + ─────────\n",
       "  24        96         16       16        16   "
      ]
     },
     "execution_count": 10,
     "metadata": {},
     "output_type": "execute_result"
    }
   ],
   "source": [
    "qc_expr = simplify(q.subs(t,h/2).subs(fc,fc_exp))\n",
    "qc_expr"
   ]
  },
  {
   "cell_type": "code",
   "execution_count": 21,
   "metadata": {},
   "outputs": [],
   "source": [
    "def legendre(taus, j):\n",
    "    N = len(taus)\n",
    "    L = 1\n",
    "    i_range = [ii for ii in range(N)]\n",
    "    i_range.pop(j)\n",
    "    for i in i_range:\n",
    "        L *= (t - taus[i])/(taus[j]-taus[i])\n",
    "    return expand(L)"
   ]
  },
  {
   "cell_type": "code",
   "execution_count": 23,
   "metadata": {},
   "outputs": [
    {
     "data": {
      "image/png": "[encoded data removed]",
      "text/latex": [
       "$\\displaystyle \\left[ 0, \\  \\frac{h}{2}, \\  h\\right]$"
      ],
      "text/plain": [
       "⎡   h   ⎤\n",
       "⎢0, ─, h⎥\n",
       "⎣   2   ⎦"
      ]
     },
     "execution_count": 23,
     "metadata": {},
     "output_type": "execute_result"
    }
   ],
   "source": [
    "taus = [0, h/2, h]\n",
    "taus"
   ]
  },
  {
   "cell_type": "code",
   "execution_count": 24,
   "metadata": {},
   "outputs": [
    {
     "data": {
      "image/png": "[encoded data removed]",
      "text/latex": [
       "$\\displaystyle 1 - \\frac{3 t}{h} + \\frac{2 t^{2}}{h^{2}}$"
      ],
      "text/plain": [
       "             2\n",
       "    3⋅t   2⋅t \n",
       "1 - ─── + ────\n",
       "     h      2 \n",
       "           h  "
      ]
     },
     "execution_count": 24,
     "metadata": {},
     "output_type": "execute_result"
    }
   ],
   "source": [
    "legendre(taus, 0)"
   ]
  },
  {
   "cell_type": "code",
   "execution_count": 25,
   "metadata": {
    "scrolled": true
   },
   "outputs": [
    {
     "data": {
      "image/png": "[encoded data removed]",
      "text/latex": [
       "$\\displaystyle f_{k} \\left(1 - \\frac{3 t}{h} + \\frac{2 t^{2}}{h^{2}}\\right) + f_{k+1/2} \\left(\\frac{4 t}{h} - \\frac{4 t^{2}}{h^{2}}\\right) + f_{k+1} \\left(- \\frac{t}{h} + \\frac{2 t^{2}}{h^{2}}\\right)$"
      ],
      "text/plain": [
       "   ⎛             2⎞             ⎛         2⎞           ⎛         2⎞\n",
       "   ⎜    3⋅t   2⋅t ⎟             ⎜4⋅t   4⋅t ⎟           ⎜  t   2⋅t ⎟\n",
       "fₖ⋅⎜1 - ─── + ────⎟ + f_{k+1/2}⋅⎜─── - ────⎟ + f_{k+1}⋅⎜- ─ + ────⎟\n",
       "   ⎜     h      2 ⎟             ⎜ h      2 ⎟           ⎜  h     2 ⎟\n",
       "   ⎝           h  ⎠             ⎝       h  ⎠           ⎝       h  ⎠"
      ]
     },
     "execution_count": 25,
     "metadata": {},
     "output_type": "execute_result"
    }
   ],
   "source": [
    "f_arr = [fk, fc, fn]\n",
    "pol_f = 0\n",
    "for ii in range(3):\n",
    "    ff = f_arr[ii]\n",
    "    pol_f+= ff*legendre(taus, ii)\n",
    "pol_f"
   ]
  },
  {
   "cell_type": "code",
   "execution_count": 33,
   "metadata": {},
   "outputs": [
    {
     "data": {
      "image/png": "[encoded data removed]",
      "text/latex": [
       "$\\displaystyle f_{k} + t^{2} \\left(\\frac{2 f_{k}}{h^{2}} - \\frac{4 f_{k+1/2}}{h^{2}} + \\frac{2 f_{k+1}}{h^{2}}\\right) + t \\left(- \\frac{3 f_{k}}{h} + \\frac{4 f_{k+1/2}}{h} - \\frac{f_{k+1}}{h}\\right)$"
      ],
      "text/plain": [
       "      2 ⎛2⋅fₖ   4⋅f_{k+1/2}   2⋅f_{k+1}⎞     ⎛  3⋅fₖ   4⋅f_{k+1/2}   f_{k+1}⎞\n",
       "fₖ + t ⋅⎜──── - ─────────── + ─────────⎟ + t⋅⎜- ──── + ─────────── - ───────⎟\n",
       "        ⎜  2          2            2   ⎟     ⎝   h          h           h   ⎠\n",
       "        ⎝ h          h            h    ⎠                                     "
      ]
     },
     "execution_count": 33,
     "metadata": {},
     "output_type": "execute_result"
    }
   ],
   "source": [
    "pol_f.expand().collect(t)"
   ]
  },
  {
   "cell_type": "code",
   "execution_count": 31,
   "metadata": {},
   "outputs": [
    {
     "data": {
      "image/png": "[encoded data removed]",
      "text/latex": [
       "$\\displaystyle f_{k} t + t^{3} \\left(\\frac{2 f_{k}}{3 h^{2}} - \\frac{4 f_{k+1/2}}{3 h^{2}} + \\frac{2 f_{k+1}}{3 h^{2}}\\right) + t^{2} \\left(- \\frac{3 f_{k}}{2 h} + \\frac{2 f_{k+1/2}}{h} - \\frac{f_{k+1}}{2 h}\\right) + v_{k}$"
      ],
      "text/plain": [
       "        3 ⎛2⋅fₖ   4⋅f_{k+1/2}   2⋅f_{k+1}⎞    2 ⎛  3⋅fₖ   2⋅f_{k+1/2}   f_{k+1\n",
       "fₖ⋅t + t ⋅⎜──── - ─────────── + ─────────⎟ + t ⋅⎜- ──── + ─────────── - ──────\n",
       "          ⎜   2          2            2  ⎟      ⎝  2⋅h         h          2⋅h \n",
       "          ⎝3⋅h        3⋅h          3⋅h   ⎠                                    \n",
       "\n",
       "}⎞     \n",
       "─⎟ + vₖ\n",
       " ⎠     \n",
       "       "
      ]
     },
     "execution_count": 31,
     "metadata": {},
     "output_type": "execute_result"
    }
   ],
   "source": [
    "pol_v = pol_f.integrate(t).expand().collect(t) + vk\n",
    "pol_v"
   ]
  },
  {
   "cell_type": "code",
   "execution_count": 32,
   "metadata": {},
   "outputs": [
    {
     "data": {
      "image/png": "[encoded data removed]",
      "text/latex": [
       "$\\displaystyle \\frac{f_{k} t^{2}}{2} + q_{k} + t^{4} \\left(\\frac{f_{k}}{6 h^{2}} - \\frac{f_{k+1/2}}{3 h^{2}} + \\frac{f_{k+1}}{6 h^{2}}\\right) + t^{3} \\left(- \\frac{f_{k}}{2 h} + \\frac{2 f_{k+1/2}}{3 h} - \\frac{f_{k+1}}{6 h}\\right) + t v_{k}$"
      ],
      "text/plain": [
       "    2                                                                         \n",
       "fₖ⋅t          4 ⎛ fₖ    f_{k+1/2}   f_{k+1}⎞    3 ⎛   fₖ   2⋅f_{k+1/2}   f_{k+\n",
       "───── + qₖ + t ⋅⎜──── - ───────── + ───────⎟ + t ⋅⎜- ─── + ─────────── - ─────\n",
       "  2             ⎜   2         2          2 ⎟      ⎝  2⋅h       3⋅h         6⋅h\n",
       "                ⎝6⋅h       3⋅h        6⋅h  ⎠                                  \n",
       "\n",
       "          \n",
       "1}⎞       \n",
       "──⎟ + t⋅vₖ\n",
       "  ⎠       \n",
       "          "
      ]
     },
     "execution_count": 32,
     "metadata": {},
     "output_type": "execute_result"
    }
   ],
   "source": [
    "pol_q = pol_v.integrate(t).expand().collect(t) + qk\n",
    "pol_q"
   ]
  },
  {
   "cell_type": "code",
   "execution_count": 36,
   "metadata": {},
   "outputs": [
    {
     "data": {
      "image/png": "[encoded data removed]",
      "text/latex": [
       "$\\displaystyle \\frac{7 f_{k} h^{2}}{96} + \\frac{f_{k+1/2} h^{2}}{16} - \\frac{f_{k+1} h^{2}}{96} + \\frac{h v_{k}}{2} + q_{k}$"
      ],
      "text/plain": [
       "      2              2            2            \n",
       "7⋅fₖ⋅h    f_{k+1/2}⋅h    f_{k+1}⋅h    h⋅vₖ     \n",
       "─────── + ──────────── - ────────── + ──── + qₖ\n",
       "   96          16            96        2       "
      ]
     },
     "execution_count": 36,
     "metadata": {},
     "output_type": "execute_result"
    }
   ],
   "source": [
    "q_c_exp = pol_q.subs(t, h/2).simplify()\n",
    "q_c_exp"
   ]
  },
  {
   "cell_type": "code",
   "execution_count": 39,
   "metadata": {},
   "outputs": [
    {
     "data": {
      "image/png": "[encoded data removed]",
      "text/latex": [
       "$\\displaystyle h^{2} \\left(\\frac{f_{k}}{24} - \\frac{f_{k+1}}{96}\\right) + \\frac{5 h v_{k}}{16} + \\frac{13 q_{k}}{16} + \\frac{3 q_{k+1}}{16}$"
      ],
      "text/plain": [
       " 2 ⎛fₖ   f_{k+1}⎞   5⋅h⋅vₖ   13⋅qₖ   3⋅q_{k+1}\n",
       "h ⋅⎜── - ───────⎟ + ────── + ───── + ─────────\n",
       "   ⎝24      96  ⎠     16       16        16   "
      ]
     },
     "execution_count": 39,
     "metadata": {},
     "output_type": "execute_result"
    }
   ],
   "source": [
    "q_c_exp.subs(fc,fc_exp).collect(h)"
   ]
  },
  {
   "cell_type": "code",
   "execution_count": null,
   "metadata": {},
   "outputs": [],
   "source": []
  }
 ],
 "metadata": {
  "kernelspec": {
   "display_name": "Python 3",
   "language": "python",
   "name": "python3"
  },
  "language_info": {
   "codemirror_mode": {
    "name": "ipython",
    "version": 3
   },
   "file_extension": ".py",
   "mimetype": "text/x-python",
   "name": "python",
   "nbconvert_exporter": "python",
   "pygments_lexer": "ipython3",
   "version": "3.9.5"
  }
 },
 "nbformat": 4,
 "nbformat_minor": 2
}
