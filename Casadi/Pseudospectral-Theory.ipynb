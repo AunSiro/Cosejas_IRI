{
 "cells": [
  {
   "cell_type": "markdown",
   "id": "d53698fa",
   "metadata": {},
   "source": [
    "## Importación de paquetes"
   ]
  },
  {
   "cell_type": "code",
   "execution_count": null,
   "id": "f104375d",
   "metadata": {},
   "outputs": [],
   "source": [
    "import numpy as np\n",
    "import matplotlib.pyplot as plt\n",
    "from mpl_toolkits import mplot3d\n",
    "\n",
    "from numpy import logical_and as npand\n",
    "from numpy import logical_or as npor\n",
    "import matplotlib\n",
    "\n",
    "from sympy import (symbols, pi, I, E, cos, sin, exp, tan, simplify, expand, factor, collect,\n",
    "                   apart, cancel, expand_trig, diff, Derivative, Function, integrate, limit,\n",
    "                   series, Eq, solve, dsolve, Matrix, N, preorder_traversal, Float, solve_linear_system,\n",
    "                   eye, zeros, lambdify, Symbol,hessian, acos)\n",
    "from sympy.physics.mechanics import dynamicsymbols, init_vprinting\n",
    "from sympy.physics.mechanics import ReferenceFrame, Point, LagrangesMethod\n",
    "from sympy import legendre_poly\n",
    "\n",
    "from functools import lru_cache"
   ]
  },
  {
   "cell_type": "markdown",
   "id": "e514ce68",
   "metadata": {},
   "source": [
    "## Inicializar espacio de trabajo"
   ]
  },
  {
   "cell_type": "code",
   "execution_count": null,
   "id": "b14540ac",
   "metadata": {},
   "outputs": [],
   "source": [
    "init_vprinting()"
   ]
  },
  {
   "cell_type": "code",
   "execution_count": null,
   "id": "4bb927f3",
   "metadata": {},
   "outputs": [],
   "source": [
    "x, t = symbols('x t')"
   ]
  },
  {
   "cell_type": "markdown",
   "id": "9ba4b22b",
   "metadata": {},
   "source": [
    "## Probando Polinomios de Legendre"
   ]
  },
  {
   "cell_type": "code",
   "execution_count": null,
   "id": "167f8b47",
   "metadata": {},
   "outputs": [],
   "source": [
    "legendre_poly(20)"
   ]
  },
  {
   "cell_type": "code",
   "execution_count": null,
   "id": "22d7c4ce",
   "metadata": {},
   "outputs": [],
   "source": [
    "N = 100\n",
    "prec = 20\n",
    "for ii in legendre_poly(N, polys = True).real_roots():\n",
    "    pass\n",
    "    #print(ii.evalf(n = prec))"
   ]
  },
  {
   "cell_type": "code",
   "execution_count": null,
   "id": "0b32000b",
   "metadata": {},
   "outputs": [],
   "source": [
    "N = 100\n",
    "prec = 20\n",
    "for ii in legendre_poly(N, polys = True).diff().real_roots():\n",
    "    pass\n",
    "    #print(ii.evalf(n = prec))"
   ]
  },
  {
   "cell_type": "markdown",
   "id": "5df4a7d1",
   "metadata": {},
   "source": [
    "## Funciones que generan N collocation points"
   ]
  },
  {
   "cell_type": "code",
   "execution_count": null,
   "id": "bc23f5e0",
   "metadata": {},
   "outputs": [],
   "source": [
    "@lru_cache\n",
    "def LG(N, precission = 20):\n",
    "    return [ii.evalf(n = precission) for ii in legendre_poly(N, polys = True).real_roots()]\n",
    "@lru_cache\n",
    "def LGR(N, precission = 20):\n",
    "    pol = legendre_poly(N, polys = True) + legendre_poly(N-1, polys = True)\n",
    "    return [ii.evalf(n = precission) for ii in pol.real_roots()]\n",
    "@lru_cache\n",
    "def LGL(N, precission = 20):\n",
    "    root_list = [ii.evalf(n = precission) for ii in legendre_poly(N-1, polys = True).diff().real_roots()]\n",
    "    return [-1.,] + root_list + [1.,]\n",
    "@lru_cache\n",
    "def LGLm(N, precission = 20):\n",
    "    return LGL(N+2, precission)[1:-1]\n",
    "@lru_cache\n",
    "def LG_1(N, precission = 20):\n",
    "    return [-1] + LG(N-1, precission)\n",
    "@lru_cache\n",
    "def LG2(N, precission = 20):\n",
    "    return [-1]+LG(N-2, precission)+[1]"
   ]
  },
  {
   "cell_type": "markdown",
   "id": "f510b5c7",
   "metadata": {},
   "source": [
    "## Bases de Polinomios de Lagrange (simbólico)"
   ]
  },
  {
   "cell_type": "code",
   "execution_count": null,
   "id": "ff8fc884",
   "metadata": {},
   "outputs": [],
   "source": [
    "#### CREDIT: https://gist.github.com/folkertdev/084c53887c49a6248839 ####\n",
    "\n",
    "from operator import mul\n",
    "from functools import reduce, lru_cache\n",
    "from itertools import chain\n",
    "\n",
    "# sympy symbols\n",
    "x = symbols('x')\n",
    "\n",
    "# convenience functions\n",
    "product = lambda *args: reduce(mul, *(list(args) + [1]))\n",
    "\n",
    "\n",
    "# this product may be reusable (when creating many functions on the same domain)\n",
    "# therefore, cache the result\n",
    "@lru_cache(16)\n",
    "def lag_pol(labels, j):\n",
    "    def gen(labels, j):\n",
    "        k = len(labels)\n",
    "        current = labels[j]\n",
    "        for m in labels:\n",
    "            if m == current:\n",
    "                continue\n",
    "            yield (x - m) / (current - m)\n",
    "    return expand(product(gen(labels, j)))\n",
    "\n",
    "\n",
    "def lagrangePolynomial(xs, ys):\n",
    "    # based on https://en.wikipedia.org/wiki/Lagrange_polynomial#Example_1\n",
    "    k = len(xs)\n",
    "    total = 0\n",
    "\n",
    "    # use tuple, needs to be hashable to cache\n",
    "    xs = tuple(xs)\n",
    "\n",
    "    for j, current in enumerate(ys):\n",
    "        t = current * lag_pol(xs, j)\n",
    "        total += t\n",
    "\n",
    "    return total"
   ]
  },
  {
   "cell_type": "code",
   "execution_count": null,
   "id": "e8c4f46c",
   "metadata": {},
   "outputs": [],
   "source": [
    "a, b, c = symbols('a b c')\n",
    "abcpol = lagrangePolynomial([-1, 0, 1], [a, b, c])\n",
    "abcpol"
   ]
  },
  {
   "cell_type": "code",
   "execution_count": null,
   "id": "8036c609",
   "metadata": {},
   "outputs": [],
   "source": [
    "h = symbols('h')\n",
    "\n",
    "_parab_interp = lagrangePolynomial([0, h/2, h],[a,b,c])\n",
    "_parab_interp.factor().collect(x)"
   ]
  },
  {
   "cell_type": "code",
   "execution_count": null,
   "id": "74077cc3",
   "metadata": {},
   "outputs": [],
   "source": [
    "@lru_cache\n",
    "def phi_LGL(N, i):\n",
    "    return lag_pol(tuple(LGL(N)), i)\n",
    "@lru_cache\n",
    "def phi_LG_1(N, i):\n",
    "    return lag_pol(tuple(LG_1(N)), i)\n",
    "@lru_cache\n",
    "def phi_LG2(N, i, precission = 20):\n",
    "    return lag_pol(tuple(LG2(N, precission)), i)"
   ]
  },
  {
   "cell_type": "code",
   "execution_count": null,
   "id": "466a6dee",
   "metadata": {},
   "outputs": [],
   "source": [
    "jj = phi_LGL(3,0)\n",
    "jj"
   ]
  },
  {
   "cell_type": "code",
   "execution_count": null,
   "id": "df301f28",
   "metadata": {},
   "outputs": [],
   "source": [
    "jj.evalf(subs = {x:1})"
   ]
  },
  {
   "cell_type": "code",
   "execution_count": null,
   "id": "4b812b67",
   "metadata": {},
   "outputs": [],
   "source": [
    "def LGL_abcpol(N, precission = 20):\n",
    "    letters = [symbols(ii) for ii in 'abcdefghijklmnopqrsuvw']\n",
    "    return lagrangePolynomial(LGL(N, precission), letters[:N])\n",
    "\n",
    "def LG_1_abcpol(N, precission = 20):\n",
    "    letters = [symbols(ii) for ii in 'abcdefghijklmnopqrsuvw']\n",
    "    return lagrangePolynomial(LG_1(N, precission), letters[:N])\n",
    "\n",
    "def LG2_abcpol(N, precission = 20):\n",
    "    letters = [symbols(ii) for ii in 'abcdefghijklmnopqrsuvw']\n",
    "    return lagrangePolynomial(LG2(N, precission), letters[:N])\n"
   ]
  },
  {
   "cell_type": "code",
   "execution_count": null,
   "id": "93fb73fd",
   "metadata": {},
   "outputs": [],
   "source": [
    "@lru_cache\n",
    "def LG_1_end_p_fun(N, precission = 20):\n",
    "    coefs = symbols(f'c_0:{N}')\n",
    "    pol_lag = lagrangePolynomial(LG_1(N, precission), coefs)\n",
    "    res = pol_lag.subs(x, 1)\n",
    "    return lambdify(coefs, res)\n",
    "\n",
    "@lru_cache\n",
    "def LG_1_diff_end_p_fun(N, precission = 20):\n",
    "    coefs = symbols(f'c_0:{N}')\n",
    "    pol_lag = lagrangePolynomial(LG_1(N, precission), coefs)\n",
    "    res = pol_lag.diff(x).subs(x, 1)\n",
    "    return lambdify(coefs, res)"
   ]
  },
  {
   "cell_type": "markdown",
   "id": "48a4ce88",
   "metadata": {},
   "source": [
    "## Matrices de Derivación y Barycentric coordinates"
   ]
  },
  {
   "cell_type": "code",
   "execution_count": null,
   "id": "bc1b18da",
   "metadata": {},
   "outputs": [],
   "source": [
    "@lru_cache\n",
    "def get_taus(n, scheme, precission = 20):\n",
    "    if scheme == 'LGL' or scheme == 'D2':\n",
    "        taus = LGL(n, precission)\n",
    "    elif scheme == 'LG':\n",
    "        taus = LG_1(n, precission)\n",
    "    elif scheme == 'LG2':\n",
    "        taus = LG2(n, precission)\n",
    "    elif scheme == 'LGLm':\n",
    "        taus = LGL(n, precission)\n",
    "    return taus"
   ]
  },
  {
   "cell_type": "code",
   "execution_count": null,
   "id": "c19ca9b1",
   "metadata": {},
   "outputs": [],
   "source": [
    "@lru_cache\n",
    "def v_coef(n, i, scheme = 'LGL', precission = 20):\n",
    "    taus = get_taus(n+1, scheme, precission)\n",
    "    prod_coef = [ii for ii in range(n+1)]\n",
    "    prod_coef.pop(i)\n",
    "    v_i = 1.0\n",
    "    for jj in prod_coef:\n",
    "        v_i *= (taus[i]-taus[jj])\n",
    "    return 1./v_i"
   ]
  },
  {
   "cell_type": "code",
   "execution_count": null,
   "id": "4ab18a3c",
   "metadata": {},
   "outputs": [],
   "source": [
    "@lru_cache\n",
    "def matrix_D_bary(n, scheme = 'LGL', precission = 20):\n",
    "    taus = get_taus(n+1, scheme, precission)\n",
    "    M = zeros(n+1)\n",
    "    v_arr = [v_coef(n, ii, scheme, precission) for ii in range(n+1)]\n",
    "    for i in range(n+1):\n",
    "        j_range = [j for j in range(n+1)]\n",
    "        j_range.pop(i)\n",
    "        for j in j_range:\n",
    "            M[i, j] = (v_arr[j]/v_arr[i])/(taus[i]-taus[j])\n",
    "    for j in range(n+1):\n",
    "        M[j,j] = -sum(M[j,:])\n",
    "    return M"
   ]
  },
  {
   "cell_type": "code",
   "execution_count": null,
   "id": "e0a33180",
   "metadata": {},
   "outputs": [],
   "source": [
    "def v_sum(t_arr, i):\n",
    "    n = len(t_arr)\n",
    "    prod_coef = [ii for ii in range(n)]\n",
    "    prod_coef.pop(i)\n",
    "    v_i = 1.0\n",
    "    for jj in prod_coef:\n",
    "        v_i *= (t_arr[i]-t_arr[jj])\n",
    "    return 1./v_i\n",
    "\n",
    "def bary_poly(t_arr, y_arr):\n",
    "    n = len(t_arr)\n",
    "    v_arr = [v_sum(t_arr, ii) for ii in range(n)]\n",
    "    sup = 0\n",
    "    for i in range(n):\n",
    "        sup+= v_arr[i]*y_arr[i]/(t-t_arr[i])\n",
    "    inf = 0\n",
    "    for i in range(n):\n",
    "        inf+= v_arr[i]/(t-t_arr[i])\n",
    "    poly_fun = lambdify([t,], sup/inf)\n",
    "    \n",
    "    def new_poly(t):\n",
    "        t = np.array(t, dtype='float64')\n",
    "        cond_list = [t == t_i for t_i in t_arr]\n",
    "        func_list = list(y_arr)\n",
    "        func_list.append(poly_fun)\n",
    "        return np.piecewise(t, cond_list, func_list)\n",
    "        \n",
    "    return new_poly\n",
    "    "
   ]
  },
  {
   "cell_type": "code",
   "execution_count": null,
   "id": "b2bb416e",
   "metadata": {},
   "outputs": [],
   "source": [
    "matrix_D_bary(3,)"
   ]
  },
  {
   "cell_type": "code",
   "execution_count": null,
   "id": "62f83564",
   "metadata": {},
   "outputs": [],
   "source": [
    "import casadi as cas"
   ]
  },
  {
   "cell_type": "code",
   "execution_count": null,
   "id": "5084ef8a",
   "metadata": {},
   "outputs": [],
   "source": [
    "from optibot.casadi import sympy2casadi"
   ]
  },
  {
   "cell_type": "code",
   "execution_count": null,
   "id": "0d718714",
   "metadata": {},
   "outputs": [],
   "source": [
    "@lru_cache\n",
    "def LG_1_end_p_fun_cas(N, precission = 20):\n",
    "    coefs = symbols(f'c_0:{N}')\n",
    "    pol_lag = lagrangePolynomial(LG_1(N, precission), coefs)\n",
    "    res = pol_lag.subs(x, 1)\n",
    "    x_cas = cas.SX.sym('x', N)\n",
    "    res_cas = sympy2casadi(res, coefs, cas.vertsplit(x_cas))\n",
    "    return cas.Function(\n",
    "    \"dynamics_x\",\n",
    "    [x_cas],\n",
    "    [res_cas])\n",
    "\n",
    "@lru_cache\n",
    "def LG_1_diff_end_p_fun_cas(N, precission = 20):\n",
    "    coefs = symbols(f'c_0:{N}')\n",
    "    pol_lag = lagrangePolynomial(LG_1(N, precission), coefs)\n",
    "    res = pol_lag.diff(x).subs(x, 1)\n",
    "    x_cas = cas.SX.sym('x', N)\n",
    "    res_cas = sympy2casadi(res, coefs, cas.vertsplit(x_cas))\n",
    "    return cas.Function(\n",
    "    \"dynamics_x\",\n",
    "    [x_cas],\n",
    "    [res_cas])"
   ]
  },
  {
   "cell_type": "code",
   "execution_count": null,
   "id": "f343b3e5",
   "metadata": {},
   "outputs": [],
   "source": [
    "from optibot.pseudospectral import LG_end_p_fun_cas, LG_diff_end_p_fun_cas"
   ]
  },
  {
   "cell_type": "markdown",
   "id": "ab44a555",
   "metadata": {},
   "source": [
    "## Problema de ejemplo: bloque que desliza\n",
    "\n",
    "$$\\dot x_1 = x_2$$\n",
    "$$\\dot x_2 = u $$\n",
    "\n",
    "Minimizar $t_f$ sujeto a:\n",
    "\n",
    "$t_0 = 0\\$\n",
    "\n",
    "$x_2(0) = x_2(t_f) = 0$\n",
    "\n",
    "$x_1(0) = 0\\ ,\\ x_1(t_f) = 1$\n",
    "\n",
    "$ u_{min} < u(t) < u_{max}$"
   ]
  },
  {
   "cell_type": "code",
   "execution_count": null,
   "id": "4a213ee1",
   "metadata": {},
   "outputs": [],
   "source": [
    "LG_1_end_p_fun(3, 20)(*np.array([1,2,3]))"
   ]
  },
  {
   "cell_type": "code",
   "execution_count": null,
   "id": "88f86be8",
   "metadata": {},
   "outputs": [],
   "source": [
    "from scipy.interpolate import CubicHermiteSpline as hermite\n",
    "\n",
    "@lru_cache\n",
    "def get_taus(n, scheme, precission = 20):\n",
    "    if scheme == 'LGL' or scheme == 'D2':\n",
    "        taus = LGL(n, precission)\n",
    "    elif scheme == 'LG':\n",
    "        taus = LG_1(n, precission)\n",
    "    elif scheme == 'LG2':\n",
    "        taus = LG2(n, precission)\n",
    "    elif scheme == 'LGLm':\n",
    "        taus = LGL(n, precission)\n",
    "    return taus\n",
    "\n",
    "def find_der_polyline(x_n, xp, yp):\n",
    "    n = np.searchsorted(xp, x_n)\n",
    "    n = np.where(n-1>0, n-1, 0)\n",
    "    deriv_arr = (yp[1:] - yp[:-1])/(xp[1:] - xp[:-1])\n",
    "    return deriv_arr[n]\n",
    "\n",
    "def get_pol_u(scheme, N, uu): \n",
    "    if scheme == 'LG2':\n",
    "        pol_u = bary_poly(LG(N-2), uu)\n",
    "    elif scheme == 'LG':\n",
    "        pol_u = bary_poly(LG(N-1), uu)\n",
    "    elif scheme == 'LGLm':\n",
    "        pol_u = bary_poly(LGLm(N-2), uu)\n",
    "    elif scheme == 'LGL' or 'D2':\n",
    "        pol_u = bary_poly(LGL(N), uu)\n",
    "    return pol_u\n",
    "\n",
    "def get_pol_x(scheme, qq, vv, t0, t1):\n",
    "    N = len(qq)\n",
    "    tau_x = get_taus(N, scheme)\n",
    "    qq_d = 2/(t1 - t0) * matrix_D_bary(N-1, scheme)@qq\n",
    "    vv_d = 2/(t1 - t0) * matrix_D_bary(N-1, scheme)@vv\n",
    "\n",
    "    pol_q = bary_poly(tau_x, qq)\n",
    "    pol_v = bary_poly(tau_x, vv)\n",
    "    pol_q_d = bary_poly(tau_x, qq_d)\n",
    "    pol_v_d = bary_poly(tau_x, vv_d)\n",
    "    return pol_q, pol_v, pol_q_d, pol_v_d\n",
    "\n",
    "def extend_x_arrays(qq, vv, scheme):\n",
    "    N = len(qq)\n",
    "    if scheme == 'LG':\n",
    "        tau_x = LG_1(N) + [1]\n",
    "        endp_f = LG_1_end_p_fun(N, 20)\n",
    "        qq_1 = float(endp_f(*qq))\n",
    "        vv_1 = float(endp_f(*vv))\n",
    "        qq = np.array(list(qq) + [qq_1,],dtype='float64')\n",
    "        vv = np.array(list(vv) + [vv_1,],dtype='float64')\n",
    "    else:\n",
    "        tau_x = get_taus(N, scheme)\n",
    "    return tau_x, qq, vv\n",
    "\n",
    "def extend_u_array(uu, scheme, N):\n",
    "    tau_u = get_taus(N, scheme)\n",
    "    if scheme == 'LG2':\n",
    "        uu = np.array([uu[0]] + list(uu) + [uu[-1]],dtype='float64')\n",
    "    elif scheme == 'LG':\n",
    "        tau_u = LG_1(N) + [1]\n",
    "        uu = np.array([uu[0]] + list(uu) + [uu[-1]],dtype='float64')\n",
    "    elif scheme == 'LGLm':\n",
    "        uu = np.array([uu[0]] + list(uu) + [uu[-1]])\n",
    "    return tau_u, uu\n",
    "\n",
    "def get_hermite_x(qq, vv, aa, tau_x, t0, t1):\n",
    "    N = len(qq)\n",
    "    coll_p = t_0 + (1 + np.array(tau_x,dtype='float64'))*(t1 - t0)/2\n",
    "    her_q = hermite(coll_p, qq, vv)\n",
    "    her_v = hermite(coll_p, vv, aa)\n",
    "    her_q_d = her_q.derivative()\n",
    "    her_v_d = her_v.derivative()\n",
    "    return her_q, her_v, her_q_d, her_v_d\n",
    "\n",
    "def error_transcr(qq, vv, uu, scheme, t0, t1, u_interp = 'pol', x_interp = 'pol', problem='bloq'):\n",
    "    N = len(qq)\n",
    "    scheme_opts = ['LG', 'LGL', 'D2', 'LG2', 'LGLm']\n",
    "    if scheme not in scheme_opts:\n",
    "        NameError(f'Invalid scheme.\\n valid options are {scheme_opts}')\n",
    "    t_arr = np.linspace(-1, 1, 1000)\n",
    "    if u_interp == 'pol':\n",
    "        pol_u = get_pol_u(scheme, N, uu)\n",
    "        u_arr = pol_u(t_arr)\n",
    "    elif u_interp == 'lin':\n",
    "        tau_u, uu = extend_u_array(uu, scheme, N)\n",
    "        u_arr = np.interp(t_arr, tau_u, uu)\n",
    "    elif u_interp == 'smooth':\n",
    "        tau_u, uu = extend_u_array(uu, scheme, N)\n",
    "        uu_dot = np.gradient(uu, tau_u)\n",
    "        u_arr = hermite(tau_u, uu, uu_dot)(t_arr)\n",
    "    else:\n",
    "        raise NameError('Invalid interpolation method for u.\\n valid options are \"pol\", \"lin\", \"smooth\"') \n",
    "        \n",
    "    if x_interp == 'pol':\n",
    "        tau_x = get_taus(N, scheme)\n",
    "        pol_q, pol_v, pol_q_d, pol_v_d = get_pol_x(scheme, qq, vv, t0, t1)\n",
    "        q_arr = pol_q(t_arr)\n",
    "        v_arr = pol_v(t_arr)\n",
    "        q_arr_d = pol_q_d(t_arr)\n",
    "        v_arr_d = pol_v_d(t_arr)\n",
    "    elif x_interp == 'lin':\n",
    "        tau_x, qq, vv = extend_x_arrays(qq, vv, scheme)\n",
    "        q_arr = np.interp(t_arr, tau_x, qq)\n",
    "        v_arr = np.interp(t_arr, tau_x, vv)\n",
    "        coll_p = t_0 + (1 + np.array(tau_x,dtype='float64'))*(t1 - t0)/2\n",
    "        t_arr_lin = np.linspace(t0, t1, 1000)\n",
    "        q_arr_d = find_der_polyline(t_arr_lin, coll_p, qq)\n",
    "        v_arr_d = find_der_polyline(t_arr_lin, coll_p, vv)\n",
    "    elif x_interp == 'Hermite':\n",
    "        tau_x, qq, vv = extend_x_arrays(qq, vv, scheme)\n",
    "        if problem == 'bloq':\n",
    "            aa = uu\n",
    "        elif problem == 'pend':\n",
    "            aa = uu - np.sin(qq)\n",
    "        her_q, her_v, her_q_d, her_v_d = get_hermite_x(qq, vv, aa, tau_x, t0, t1)\n",
    "        t_arr_lin = np.linspace(t0, t1, 1000)\n",
    "        q_arr = her_q(t_arr_lin)\n",
    "        v_arr = her_v(t_arr_lin)\n",
    "        q_arr_d = her_q_d(t_arr_lin)\n",
    "        v_arr_d = her_v_d(t_arr_lin)\n",
    "    else:\n",
    "        raise NameError('Invalid interpolation method for x.\\n valid options are \"pol\", \"lin\", \"Hermite\"') \n",
    "    \n",
    "    if problem == 'bloq':\n",
    "        err_q = (q_arr_d-v_arr)**2\n",
    "        err_v = (v_arr_d-u_arr)**2\n",
    "    elif problem == 'pend':\n",
    "        err_q = (q_arr_d-v_arr)**2\n",
    "        err_v = (v_arr_d-(u_arr - np.sin(q_arr)))**2\n",
    "    else:\n",
    "        raise NameError('Invalid problem name') \n",
    "    \n",
    "    err_q_num = np.trapz(err_q, t_arr)* (t1-t0)/2\n",
    "    err_v_num = np.trapz(err_v, t_arr)* (t1-t0)/2\n",
    "    \n",
    "    \n",
    "    return err_q_num, err_v_num, err_q_num + err_v_num "
   ]
  },
  {
   "cell_type": "code",
   "execution_count": null,
   "id": "5f5d829f",
   "metadata": {},
   "outputs": [],
   "source": [
    "import time"
   ]
  },
  {
   "cell_type": "code",
   "execution_count": null,
   "id": "a668119d",
   "metadata": {},
   "outputs": [],
   "source": [
    "solve_repetitions = 30"
   ]
  },
  {
   "cell_type": "markdown",
   "id": "a166bf5c",
   "metadata": {},
   "source": [
    "#### LGL: función objetivo alternativa\n",
    "\n",
    "$u(\\tau)$ está definida como el polinomio de grado N-1 que pasa por los N valores calculados de $U^N$. Encontrar cómo obtener $\\int_{-1}^{1}{u(\\tau)^2}$ en función de $U^N$"
   ]
  },
  {
   "cell_type": "code",
   "execution_count": null,
   "id": "1f0b5f3d",
   "metadata": {},
   "outputs": [],
   "source": [
    "def obj_f_u_LGL(N, precission = 20):\n",
    "    coefs = symbols(f'c_0:{N}')\n",
    "    pol_lag = lagrangePolynomial(LGL(N, precission), coefs)\n",
    "    res = integrate(pol_lag ** 2, [x, -1, 1])\n",
    "    return lambdify(coefs, res)\n",
    "\n",
    "def obj_f_u_LG2(N, precission = 20):\n",
    "    coefs = symbols(f'c_0:{N}')\n",
    "    pol_lag = lagrangePolynomial(LG(N, precission), coefs)\n",
    "    res = integrate(pol_lag ** 2, [x, -1, 1])\n",
    "    return lambdify(coefs, res)"
   ]
  },
  {
   "cell_type": "markdown",
   "id": "6d89966b",
   "metadata": {},
   "source": [
    "### Formulación clásica $\\dot x = f(x,u)$"
   ]
  },
  {
   "cell_type": "code",
   "execution_count": null,
   "id": "ee1c6968",
   "metadata": {},
   "outputs": [],
   "source": [
    "x_sym = cas.SX.sym('x', 2)\n",
    "x_dot_sym = cas.SX.sym('x_dot', 2)\n",
    "u_sym = cas.SX.sym('u',1)\n",
    "\n",
    "dynam_f_x = cas.Function(\n",
    "    \"dynamics_x\",\n",
    "    [x_sym, x_dot_sym, u_sym],\n",
    "    [x_dot_sym[1]-u_sym]\n",
    ")"
   ]
  },
  {
   "cell_type": "code",
   "execution_count": null,
   "id": "4d8faf4c",
   "metadata": {},
   "outputs": [],
   "source": [
    "N = 7\n",
    "opti = cas.Opti()\n",
    "opti.solver('ipopt')"
   ]
  },
  {
   "cell_type": "code",
   "execution_count": null,
   "id": "1656efce",
   "metadata": {},
   "outputs": [],
   "source": [
    "x_opti = opti.variable(N, 2)\n",
    "u_opti = opti.variable(N)\n",
    "tau_arr = LGL(N, 20)\n",
    "t_f = opti.variable(1)\n",
    "t_0 = 0\n",
    "u_lim = opti.parameter(1)"
   ]
  },
  {
   "cell_type": "code",
   "execution_count": null,
   "id": "a05db976",
   "metadata": {},
   "outputs": [],
   "source": [
    "D_mat = sympy2casadi(matrix_D_bary(N-1, 'LGL',20), [], [])\n",
    "x_dot_opti = (2/t_f - t_0) * D_mat@x_opti\n",
    "\n",
    "#cost = cas.sum1(u_opti**2)\n",
    "#f_obj = obj_f_u_LGL(N)\n",
    "#cost = f_obj(*cas.vertsplit(u_opti))\n",
    "cost = t_f\n",
    "opti.minimize(cost)"
   ]
  },
  {
   "cell_type": "code",
   "execution_count": null,
   "id": "db62de05",
   "metadata": {},
   "outputs": [],
   "source": [
    "opti.subject_to(x_opti[0,:].T == [0., 0.])\n",
    "opti.subject_to(x_opti[-1,:].T == [1. ,0.])\n",
    "opti.subject_to(t_f > 0)\n",
    "\n",
    "for ii in range(N):\n",
    "    opti.subject_to(dynam_f_x(x_opti[ii,:], x_dot_opti[ii,:], u_opti[ii,:])==0)\n",
    "    opti.subject_to(x_opti[ii,1] == x_dot_opti[ii,0])\n",
    "    opti.subject_to(u_opti[ii] <= u_lim[0])\n",
    "    opti.subject_to(-u_lim[0] <= u_opti[ii])\n",
    "\n",
    "opti.set_value(u_lim, 1.)\n",
    "opti.set_initial(t_f, 1.)"
   ]
  },
  {
   "cell_type": "code",
   "execution_count": null,
   "id": "0a507593",
   "metadata": {},
   "outputs": [],
   "source": [
    "cput0 = time.time()\n",
    "for ii in range(solve_repetitions):\n",
    "    sol = opti.solve()\n",
    "cput1 = time.time()\n",
    "cpudt_LGL = (cput1-cput0)/solve_repetitions"
   ]
  },
  {
   "cell_type": "code",
   "execution_count": null,
   "id": "f9241a5f",
   "metadata": {},
   "outputs": [],
   "source": [
    "xx_sol_LGL = sol.value(x_opti)\n",
    "uu_sol_LGL = sol.value(u_opti)\n",
    "t_f_LGL = sol.value(t_f)\n",
    "\n",
    "t_arr_LGL = t_0 + (1 + np.array(tau_arr))*(t_f_LGL - t_0)/2\n",
    "\n",
    "q_pol_LGL = lagrangePolynomial(t_arr_LGL, xx_sol_LGL[:,0])\n",
    "v_pol_LGL = lagrangePolynomial(t_arr_LGL, xx_sol_LGL[:,1])\n",
    "u_pol_LGL = lagrangePolynomial(t_arr_LGL, uu_sol_LGL[:])\n",
    "\n",
    "q_interp_f_LGL = lambdify([x,],q_pol_LGL)\n",
    "v_interp_f_LGL = lambdify([x,],v_pol_LGL)\n",
    "u_interp_f_LGL = lambdify([x,],u_pol_LGL)"
   ]
  },
  {
   "cell_type": "code",
   "execution_count": null,
   "id": "154691bf",
   "metadata": {},
   "outputs": [],
   "source": [
    "t_arr_LGL"
   ]
  },
  {
   "cell_type": "code",
   "execution_count": null,
   "id": "66d8f369",
   "metadata": {},
   "outputs": [],
   "source": [
    "plt.figure(figsize=[12,10])\n",
    "plt.plot(t_arr_LGL, xx_sol_LGL[:,0], 'ro', label = 'position')\n",
    "plt.plot(t_arr_LGL, xx_sol_LGL[:,1], 'bo', label = 'speed')\n",
    "plt.plot(t_arr_LGL, uu_sol_LGL[:], 'go', label = 'control')\n",
    "N_interp = 300\n",
    "t_int_arr_LGL = np.linspace(t_0, t_f_LGL, N_interp)\n",
    "plt.plot(t_int_arr_LGL, q_interp_f_LGL(t_int_arr_LGL), 'r')\n",
    "plt.plot(t_int_arr_LGL, v_interp_f_LGL(t_int_arr_LGL), 'b')\n",
    "plt.plot(t_int_arr_LGL, u_interp_f_LGL(t_int_arr_LGL), 'g')\n",
    "plt.grid()\n",
    "plt.legend()"
   ]
  },
  {
   "cell_type": "code",
   "execution_count": null,
   "id": "21ce83c0",
   "metadata": {},
   "outputs": [],
   "source": [
    "#u_sq_LGL = u_interp_f_LGL(t_int_arr)**2\n",
    "#quality_LGL = np.trapz(u_sq_LGL, t_int_arr)\n",
    "quality_LGL = t_f_LGL\n",
    "quality_LGL"
   ]
  },
  {
   "cell_type": "code",
   "execution_count": null,
   "id": "4a5ebb29",
   "metadata": {},
   "outputs": [],
   "source": [
    "cpudt_LGL*1000"
   ]
  },
  {
   "cell_type": "markdown",
   "id": "1e715e2b",
   "metadata": {},
   "source": [
    "trun_err_LGL = error_transcr(q_pol_LGL, v_pol_LGL, u_pol_LGL, t_0, t_f_LGL)\n",
    "trun_err_LGL"
   ]
  },
  {
   "cell_type": "markdown",
   "id": "1f4a043c",
   "metadata": {},
   "source": [
    "### Formulación $D^2$ de Ross, Rea y Fahroo"
   ]
  },
  {
   "cell_type": "code",
   "execution_count": null,
   "id": "80bd03d1",
   "metadata": {},
   "outputs": [],
   "source": [
    "q_sym = cas.SX.sym('q', 1)\n",
    "q_dot_sym = cas.SX.sym('q_dot', 1)\n",
    "q_dot_dot_sym = cas.SX.sym('q_dot_dot', 1)\n",
    "u_sym = cas.SX.sym('u',1)\n",
    "\n",
    "dynam_f_q = cas.Function(\n",
    "    \"dynamics\",\n",
    "    [q_sym, q_dot_sym, q_dot_dot_sym, u_sym],\n",
    "    [q_dot_dot_sym-u_sym]\n",
    ")"
   ]
  },
  {
   "cell_type": "code",
   "execution_count": null,
   "id": "81c91f79",
   "metadata": {},
   "outputs": [],
   "source": [
    "N = 9\n",
    "opti = cas.Opti()\n",
    "opti.solver('ipopt')"
   ]
  },
  {
   "cell_type": "code",
   "execution_count": null,
   "id": "fb1cf8ff",
   "metadata": {},
   "outputs": [],
   "source": [
    "x_opti = opti.variable(N)\n",
    "u_opti = opti.variable(N)\n",
    "tau_arr = LGL(N, 20)\n",
    "t_f = opti.variable(1)\n",
    "t_0 = 0\n",
    "u_lim = opti.parameter(1)"
   ]
  },
  {
   "cell_type": "code",
   "execution_count": null,
   "id": "d593b8aa",
   "metadata": {},
   "outputs": [],
   "source": [
    "D_mat = sympy2casadi(matrix_D_bary(N-1, 'D2',20), [], [])\n",
    "x_dot_opti = (2/t_f - t_0) * D_mat@x_opti\n",
    "x_dot_dot_opti = (2/t_f - t_0) * D_mat@x_dot_opti\n",
    "\n",
    "#cost = cas.sum1(u_opti**2)\n",
    "#f_obj = obj_f_u_LGL(N)\n",
    "#cost = f_obj(*cas.vertsplit(u_opti))\n",
    "cost = t_f\n",
    "opti.minimize(cost)"
   ]
  },
  {
   "cell_type": "code",
   "execution_count": null,
   "id": "42416093",
   "metadata": {},
   "outputs": [],
   "source": [
    "opti.subject_to(x_opti[0] == [0.])\n",
    "opti.subject_to(x_opti[-1] == [1.])\n",
    "opti.subject_to(x_dot_opti[0] == [0.])\n",
    "opti.subject_to(x_dot_opti[-1] == [0.])\n",
    "opti.subject_to(t_f > 0)\n",
    "\n",
    "for ii in range(N):\n",
    "    opti.subject_to(dynam_f_q(x_opti[ii], x_dot_opti[ii], x_dot_dot_opti[ii], u_opti[ii,:])==0)\n",
    "    opti.subject_to(u_opti[ii] <= u_lim[0])\n",
    "    opti.subject_to(-u_lim[0] <= u_opti[ii])\n",
    "\n",
    "opti.set_value(u_lim, 1.)\n",
    "opti.set_initial(t_f, 1.)"
   ]
  },
  {
   "cell_type": "code",
   "execution_count": null,
   "id": "5fac89fb",
   "metadata": {},
   "outputs": [],
   "source": [
    "cput0 = time.time()\n",
    "for ii in range(solve_repetitions):\n",
    "    sol = opti.solve()\n",
    "cput1 = time.time()\n",
    "cpudt_D2 = (cput1-cput0)/solve_repetitions"
   ]
  },
  {
   "cell_type": "code",
   "execution_count": null,
   "id": "3c37000b",
   "metadata": {},
   "outputs": [],
   "source": [
    "xx_sol_D2 = sol.value(x_opti)\n",
    "uu_sol_D2 = sol.value(u_opti)\n",
    "vv_sol_D2 = sol.value(x_dot_opti)\n",
    "t_f_D2 = sol.value(t_f)\n",
    "\n",
    "t_arr_D2 = t_0 + (1 + np.array(tau_arr))*(t_f_D2 - t_0)/2\n",
    "\n",
    "q_pol_D2 = lagrangePolynomial(t_arr_D2, xx_sol_D2[:])\n",
    "v_pol_D2 = lagrangePolynomial(t_arr_D2, xx_sol_D2[:]).diff(x)\n",
    "u_pol_D2 = lagrangePolynomial(t_arr_D2, uu_sol_D2[:])\n",
    "\n",
    "q_interp_f_D2 = lambdify([x,],q_pol_D2)\n",
    "v_interp_f_D2 = lambdify([x,],v_pol_D2)\n",
    "u_interp_f_D2 = lambdify([x,],u_pol_D2)"
   ]
  },
  {
   "cell_type": "code",
   "execution_count": null,
   "id": "79f89d1a",
   "metadata": {},
   "outputs": [],
   "source": [
    "plt.figure(figsize=[12,10])\n",
    "plt.plot(t_arr_D2, xx_sol_D2[:], 'ro', label = 'position')\n",
    "plt.plot(t_arr_D2, vv_sol_D2[:], 'bo', label = 'speed')\n",
    "plt.plot(t_arr_D2, uu_sol_D2[:], 'go', label = 'control')\n",
    "N_interp = 300\n",
    "t_int_arr_D2 = np.linspace(t_0, t_f_D2, N_interp)\n",
    "plt.plot(t_int_arr_D2, q_interp_f_D2(t_int_arr_D2), 'r')\n",
    "plt.plot(t_int_arr_D2, v_interp_f_D2(t_int_arr_D2), 'b')\n",
    "plt.plot(t_int_arr_D2, u_interp_f_D2(t_int_arr_D2), 'g')\n",
    "plt.grid()\n",
    "plt.legend()"
   ]
  },
  {
   "cell_type": "code",
   "execution_count": null,
   "id": "6e9096f0",
   "metadata": {},
   "outputs": [],
   "source": [
    "#u_sq_D2 = u_interp_f_D2(t_int_arr)**2\n",
    "#quality_D2 = np.trapz(u_sq_D2, t_int_arr)\n",
    "quality_D2 = t_f_D2\n",
    "quality_D2"
   ]
  },
  {
   "cell_type": "code",
   "execution_count": null,
   "id": "9b2d7ef3",
   "metadata": {},
   "outputs": [],
   "source": [
    "cpudt_D2*1000"
   ]
  },
  {
   "cell_type": "markdown",
   "id": "aefe0c1b",
   "metadata": {},
   "source": [
    "trun_err_D2 = error_transcr(q_pol_D2, v_pol_D2, u_pol_D2, t_0, t_f_D2)\n",
    "trun_err_D2"
   ]
  },
  {
   "cell_type": "markdown",
   "id": "21f2dd9a",
   "metadata": {},
   "source": [
    "## Nuevo esquema LG2"
   ]
  },
  {
   "cell_type": "code",
   "execution_count": null,
   "id": "19945bf3",
   "metadata": {},
   "outputs": [],
   "source": [
    "q_sym = cas.SX.sym('q', 1)\n",
    "q_dot_sym = cas.SX.sym('q_dot', 1)\n",
    "q_dot_dot_sym = cas.SX.sym('q_dot_dot', 1)\n",
    "u_sym = cas.SX.sym('u',1)\n",
    "\n",
    "dynam_f = cas.Function(\n",
    "    \"dynamics\",\n",
    "    [q_sym, q_dot_sym, q_dot_dot_sym, u_sym],\n",
    "    [q_dot_dot_sym-u_sym]\n",
    ")"
   ]
  },
  {
   "cell_type": "code",
   "execution_count": null,
   "id": "f58a910f",
   "metadata": {},
   "outputs": [],
   "source": [
    "N = 7\n",
    "opti = cas.Opti()\n",
    "opti.solver('ipopt')"
   ]
  },
  {
   "cell_type": "code",
   "execution_count": null,
   "id": "5ccce9eb",
   "metadata": {},
   "outputs": [],
   "source": [
    "x_opti = opti.variable(N+2)\n",
    "u_opti = opti.variable(N)\n",
    "tau_arr_LG2 = LG2(N+2, 20)\n",
    "t_f = opti.variable(1)\n",
    "t_0 = 0\n",
    "u_lim = opti.parameter(1)"
   ]
  },
  {
   "cell_type": "code",
   "execution_count": null,
   "id": "d82fe78f",
   "metadata": {},
   "outputs": [],
   "source": [
    "D_mat = sympy2casadi(matrix_D_bary(N+1, \"LG2\",20), [], [])\n",
    "x_dot_opti = (2/t_f - t_0) * D_mat@x_opti\n",
    "x_dot_dot_opti = (2/t_f - t_0) * D_mat@x_dot_opti\n",
    "\n",
    "#cost = cas.sum1(u_opti**2)\n",
    "#f_obj = obj_f_u_LG2(N)\n",
    "#cost = f_obj(*cas.vertsplit(u_opti))\n",
    "cost = t_f\n",
    "opti.minimize(cost)"
   ]
  },
  {
   "cell_type": "code",
   "execution_count": null,
   "id": "de024c20",
   "metadata": {},
   "outputs": [],
   "source": [
    "opti.subject_to(x_opti[0] == [0.])\n",
    "opti.subject_to(x_opti[-1] == [1.])\n",
    "opti.subject_to(x_dot_opti[0] == [0.])\n",
    "opti.subject_to(x_dot_opti[-1] == [0.])\n",
    "opti.subject_to(t_f > 0)\n",
    "\n",
    "for ii in range(1, N+1):\n",
    "    opti.subject_to(dynam_f_q(x_opti[ii], x_dot_opti[ii], x_dot_dot_opti[ii], u_opti[ii-1,:])==0)\n",
    "    opti.subject_to(u_opti[ii-1] <= u_lim[0])\n",
    "    opti.subject_to(-u_lim[0] <= u_opti[ii-1])\n",
    "\n",
    "opti.set_value(u_lim, 1.)\n",
    "opti.set_initial(t_f, 1.)"
   ]
  },
  {
   "cell_type": "code",
   "execution_count": null,
   "id": "1dabee1e",
   "metadata": {},
   "outputs": [],
   "source": [
    "cput0 = time.time()\n",
    "for ii in range(solve_repetitions):\n",
    "    sol = opti.solve()\n",
    "cput1 = time.time()\n",
    "cpudt_LG2 = (cput1-cput0)/solve_repetitions"
   ]
  },
  {
   "cell_type": "code",
   "execution_count": null,
   "id": "e8f4ac34",
   "metadata": {},
   "outputs": [],
   "source": [
    "xx_sol_LG2 = sol.value(x_opti)\n",
    "uu_sol_LG2 = sol.value(u_opti)\n",
    "vv_sol_LG2 = sol.value(x_dot_opti)\n",
    "t_f_LG2 = sol.value(t_f)\n",
    "\n",
    "t_arr_LG2 = t_0 + (1 + np.array(tau_arr_LG2))*(t_f_D2 - t_0)/2\n",
    "coll_p_t = t_0 + (1 + np.array(LG(N)))*(t_f_LG2 - t_0)/2\n",
    "\n",
    "q_pol_LG2 = lagrangePolynomial(t_arr_LG2, xx_sol_LG2[:])\n",
    "v_pol_LG2 = lagrangePolynomial(t_arr_LG2, xx_sol_LG2[:]).diff(x)\n",
    "u_pol_LG2 = lagrangePolynomial(coll_p_t, uu_sol_LG2[:])\n",
    "\n",
    "q_interp_f_LG2 = lambdify([x,],q_pol_LG2)\n",
    "v_interp_f_LG2 = lambdify([x,],v_pol_LG2)\n",
    "u_interp_f_LG2 = lambdify([x,],u_pol_LG2)"
   ]
  },
  {
   "cell_type": "code",
   "execution_count": null,
   "id": "97253bbe",
   "metadata": {},
   "outputs": [],
   "source": [
    "plt.figure(figsize=[12,10])\n",
    "plt.plot(t_arr_LG2, xx_sol_LG2[:], 'ro', label = 'position')\n",
    "plt.plot(t_arr_LG2, vv_sol_LG2[:], 'bo', label = 'speed')\n",
    "plt.plot(coll_p_t, uu_sol_LG2[:], 'go', label = 'control')\n",
    "N_interp = 300\n",
    "t_int_arr_LG2 = np.linspace(t_0, t_f_LG2, N_interp)\n",
    "plt.plot(t_int_arr_LG2, q_interp_f_LG2(t_int_arr_LG2), 'r')\n",
    "plt.plot(t_int_arr_LG2, v_interp_f_LG2(t_int_arr_LG2), 'b')\n",
    "plt.plot(t_int_arr_LG2, u_interp_f_LG2(t_int_arr_LG2), 'g')\n",
    "plt.grid()\n",
    "plt.legend()"
   ]
  },
  {
   "cell_type": "code",
   "execution_count": null,
   "id": "1739e922",
   "metadata": {},
   "outputs": [],
   "source": [
    "#u_sq_LG2 = u_interp_f_LG2(t_int_arr)**2\n",
    "#quality_LG2 = np.trapz(u_sq_LG2, t_int_arr)\n",
    "quality_LG2 = t_f_LG2\n",
    "quality_LG2"
   ]
  },
  {
   "cell_type": "code",
   "execution_count": null,
   "id": "67b48d77",
   "metadata": {},
   "outputs": [],
   "source": [
    "cpudt_LG2*1000"
   ]
  }
 ],
 "metadata": {
  "kernelspec": {
   "display_name": "Python 3 (ipykernel)",
   "language": "python",
   "name": "python3"
  },
  "language_info": {
   "codemirror_mode": {
    "name": "ipython",
    "version": 3
   },
   "file_extension": ".py",
   "mimetype": "text/x-python",
   "name": "python",
   "nbconvert_exporter": "python",
   "pygments_lexer": "ipython3",
   "version": "3.9.5"
  }
 },
 "nbformat": 4,
 "nbformat_minor": 5
}
