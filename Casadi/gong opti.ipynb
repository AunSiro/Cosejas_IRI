{
 "cells": [
  {
   "cell_type": "code",
   "execution_count": 1,
   "id": "453ff3b4",
   "metadata": {},
   "outputs": [],
   "source": [
    "import numpy as np\n",
    "import matplotlib.pyplot as plt\n",
    "import matplotlib"
   ]
  },
  {
   "cell_type": "markdown",
   "id": "66940a1e",
   "metadata": {},
   "source": [
    "## Gong problem:\n",
    "\n",
    "Object of mass m, subject to force F(t) and friction $\\alpha$v(t), moving from A to B in a given time with the least amount of work.\n",
    "\n",
    "That is:\n",
    "\n",
    "Minimize $\\int_{t_0}^{t_f} \\dot{q}(t)F(t)dt$\n",
    "\n",
    "subject to:\n",
    "\n",
    "$\\ddot{q}(t) = -\\dot{q}(t) + F(t)$\n",
    "\n",
    "$(q_0, \\dot{q}_0, t_0) = (0,1,0)$\n",
    "\n",
    "$(q_f, \\dot{q}_f, t_f) = (1,1,1)$\n",
    "\n",
    "#### Theorical Solution:\n",
    "\n",
    "$q(t) = t$\n",
    "\n",
    "$\\dot{q}(t) = 1$\n",
    "\n",
    "$F(t) = 1$"
   ]
  },
  {
   "cell_type": "code",
   "execution_count": 2,
   "id": "baeb3c26",
   "metadata": {},
   "outputs": [],
   "source": [
    "def g_q(q, qdot, u, params=None):\n",
    "    return u-qdot"
   ]
  },
  {
   "cell_type": "code",
   "execution_count": 3,
   "id": "ea75be53",
   "metadata": {},
   "outputs": [],
   "source": [
    "from chords.opti import Opti_Problem\n",
    "from chords.piecewise import expand_G\n",
    "import time\n",
    "from functools import lru_cache\n",
    "import casadi as cas"
   ]
  },
  {
   "cell_type": "code",
   "execution_count": 4,
   "id": "0a24e155",
   "metadata": {},
   "outputs": [],
   "source": [
    "params = []"
   ]
  },
  {
   "cell_type": "code",
   "execution_count": 5,
   "id": "8ce64b0c",
   "metadata": {},
   "outputs": [],
   "source": [
    "f_x_cas = expand_G(g_q, 'casadi')"
   ]
  },
  {
   "cell_type": "code",
   "execution_count": 6,
   "id": "0896d794",
   "metadata": {},
   "outputs": [
    {
     "data": {
      "text/plain": [
       "4"
      ]
     },
     "execution_count": 6,
     "metadata": {},
     "output_type": "execute_result"
    }
   ],
   "source": [
    "g_q(1,-1,3)"
   ]
  },
  {
   "cell_type": "code",
   "execution_count": 7,
   "id": "8a83c5a3",
   "metadata": {},
   "outputs": [
    {
     "data": {
      "text/plain": [
       "DM([-1, 4])"
      ]
     },
     "execution_count": 7,
     "metadata": {},
     "output_type": "execute_result"
    }
   ],
   "source": [
    "f_x_cas(np.array([1,-1]), 3, [])"
   ]
  },
  {
   "cell_type": "code",
   "execution_count": 8,
   "id": "01749192",
   "metadata": {},
   "outputs": [
    {
     "name": "stdout",
     "output_type": "stream",
     "text": [
      "Dynamics detected: Function\n"
     ]
    }
   ],
   "source": [
    "_opti = Opti_Problem(\n",
    "        LM=f_x_cas,\n",
    "        params = params,\n",
    "        scheme = 'LG',\n",
    "        ini_guess= 'lin',\n",
    "        t_end = 1,\n",
    "        verbose=True,\n",
    "        silent=False,\n",
    "    )"
   ]
  },
  {
   "cell_type": "code",
   "execution_count": 9,
   "id": "a0f2c266",
   "metadata": {},
   "outputs": [],
   "source": [
    "_opti.dynamic_setup('f_x', 1, 1)"
   ]
  },
  {
   "cell_type": "code",
   "execution_count": 10,
   "id": "d982ba43",
   "metadata": {
    "scrolled": false
   },
   "outputs": [],
   "source": [
    "_opti.opti_setup(20)\n",
    "_opti.apply_scheme()\n",
    "opti = _opti.opti\n",
    "\n",
    "V = _opti.opti_arrs['v_like_u']\n",
    "U = _opti.opti_arrs['u']\n",
    "X_s = _opti.opti_points['x_s']\n",
    "X_e = _opti.opti_points['x_e']"
   ]
  },
  {
   "cell_type": "code",
   "execution_count": 11,
   "id": "390ce454",
   "metadata": {},
   "outputs": [],
   "source": [
    "_opti.initial_guess([0], [1])"
   ]
  },
  {
   "cell_type": "code",
   "execution_count": 12,
   "id": "57f0f880",
   "metadata": {},
   "outputs": [
    {
     "data": {
      "text/plain": [
       "(20, 1)"
      ]
     },
     "execution_count": 12,
     "metadata": {},
     "output_type": "execute_result"
    }
   ],
   "source": [
    "U.shape"
   ]
  },
  {
   "cell_type": "code",
   "execution_count": 13,
   "id": "902b8e09",
   "metadata": {},
   "outputs": [
    {
     "data": {
      "text/plain": [
       "(20, 1)"
      ]
     },
     "execution_count": 13,
     "metadata": {},
     "output_type": "execute_result"
    }
   ],
   "source": [
    "V.shape"
   ]
  },
  {
   "cell_type": "markdown",
   "id": "28977432",
   "metadata": {},
   "source": [
    "def casadi_prod(*arrs):\n",
    "    arr_lists = []\n",
    "    for arr in arrs:\n",
    "        arr_lists.append(cas.vertsplit(arr))\n",
    "    prod = []\n",
    "    for ii in range(len(arr_lists[0])):\n",
    "        pp = 1\n",
    "        for jj in range(len(arr_lists)):\n",
    "            print(ii,jj)\n",
    "            pp = pp*arr_lists[jj][ii]\n",
    "        prod.append(pp)\n",
    "    return cas.vertcat(*prod)"
   ]
  },
  {
   "cell_type": "code",
   "execution_count": 14,
   "id": "b5e3bf3a",
   "metadata": {},
   "outputs": [],
   "source": [
    "from chords.pseudospectral import v_coef"
   ]
  },
  {
   "cell_type": "markdown",
   "id": "5792250c",
   "metadata": {},
   "source": [
    "v_coef(N+1, 0, scheme, 16, 2)"
   ]
  },
  {
   "cell_type": "code",
   "execution_count": 15,
   "id": "e629277f",
   "metadata": {},
   "outputs": [],
   "source": [
    "@lru_cache(maxsize=None)\n",
    "def casadi_gong(scheme, N, ini_guess='lin', solve_repetitions = 1, t_end = 1, verbose = False, silent = True):\n",
    "    _opti = Opti_Problem(\n",
    "        LM=f_x_cas,\n",
    "        params = params,\n",
    "        scheme = scheme,\n",
    "        ini_guess= ini_guess,\n",
    "        t_end = t_end,\n",
    "        verbose=verbose,\n",
    "        silent=silent,\n",
    "    )\n",
    "    _opti.dynamic_setup('f_x', 1, 1)\n",
    "    _opti.opti_setup(N)\n",
    "    if ini_guess == 'lin':\n",
    "        _opti.initial_guess([0], [1])\n",
    "    \n",
    "    _opti.apply_scheme()\n",
    "    opti = _opti.opti\n",
    "    \n",
    "    V = _opti.opti_arrs['v_like_u']\n",
    "    U = _opti.opti_arrs['u']\n",
    "    X_s = _opti.opti_points['x_s']\n",
    "    X_e = _opti.opti_points['x_e']\n",
    "    if 'parab' in scheme:\n",
    "        U_c = _opti.opti_arrs['u_c']\n",
    "        V_c = _opti.opti_arrs['v_c']\n",
    "    cost_arr = V*U\n",
    "    if 'parab' in scheme:\n",
    "        cost_arr_c = V_c * U_c\n",
    "        _opti.quad_cost(cost_arr, cost_arr_c)\n",
    "    else:\n",
    "        _opti.quad_cost(cost_arr)\n",
    "        \n",
    "   # Initial and final conditions\n",
    "    opti.subject_to(X_s.T == [0, 1])\n",
    "    opti.subject_to(X_e.T == [1, 1])\n",
    "    \n",
    "    # Appliying restrictions and action boundaries\n",
    "    u_max = 2\n",
    "    u_min = 0\n",
    "    for ii in range(N):\n",
    "        if 'parab' in scheme:\n",
    "            opti.subject_to(opti.bounded(u_min, U_c[ii,:] ,u_max))\n",
    "        \n",
    "        opti.subject_to(opti.bounded(u_min,U[ii,:],u_max))\n",
    "    opti.subject_to(opti.bounded(u_min,U[-1, :],u_max))\n",
    "    \n",
    "    _opti.chrono_solve(solve_repetitions=solve_repetitions,)\n",
    "    return _opti.results"
   ]
  },
  {
   "cell_type": "code",
   "execution_count": 16,
   "id": "ff6deb9a",
   "metadata": {
    "scrolled": false
   },
   "outputs": [
    {
     "name": "stdout",
     "output_type": "stream",
     "text": [
      "\n",
      "******************************************************************************\n",
      "This program contains Ipopt, a library for large-scale nonlinear optimization.\n",
      " Ipopt is released as open source code under the Eclipse Public License (EPL).\n",
      "         For more information visit https://github.com/coin-or/Ipopt\n",
      "******************************************************************************\n",
      "\n"
     ]
    }
   ],
   "source": [
    "scheme = 'LGL'\n",
    "N = 60\n",
    "\n",
    "\n",
    "_res = casadi_gong(\n",
    "    scheme = scheme,\n",
    "    N = N,\n",
    "    ini_guess='lin',\n",
    "    solve_repetitions = 1,\n",
    "    t_end = 1,\n",
    "    verbose = False,\n",
    "    silent = True\n",
    ")"
   ]
  },
  {
   "cell_type": "code",
   "execution_count": 17,
   "id": "02e997a9",
   "metadata": {},
   "outputs": [
    {
     "data": {
      "text/plain": [
       "(-0.1, 1.1)"
      ]
     },
     "execution_count": 17,
     "metadata": {},
     "output_type": "execute_result"
    },
    {
     "data": {
      "image/png": "[encoded data removed]",
      "text/plain": [
       "<Figure size 1400x800 with 1 Axes>"
      ]
     },
     "metadata": {},
     "output_type": "display_data"
    }
   ],
   "source": [
    "plt.figure(figsize=[14,8])\n",
    "labels= ['q']\n",
    "plt.plot(_res['t'],_res['q'][:], marker = 'o', label = 'q')\n",
    "if 'parab' in scheme:\n",
    "    plt.plot(_res['t_c'],_res['q_c'][:], 'o', label = 'q' + '_c')\n",
    "plt.grid()\n",
    "plt.legend()\n",
    "plt.ylim(-0.1, 1.1)"
   ]
  },
  {
   "cell_type": "code",
   "execution_count": 18,
   "id": "9d90bf8f",
   "metadata": {},
   "outputs": [
    {
     "data": {
      "text/plain": [
       "(-0.1, 1.1)"
      ]
     },
     "execution_count": 18,
     "metadata": {},
     "output_type": "execute_result"
    },
    {
     "data": {
      "image/png": "[encoded data removed]",
      "text/plain": [
       "<Figure size 1400x800 with 1 Axes>"
      ]
     },
     "metadata": {},
     "output_type": "display_data"
    }
   ],
   "source": [
    "plt.figure(figsize=[14,8])\n",
    "labels= ['v']\n",
    "plt.plot(_res['t'],_res['v'][:], marker = 'o', label = 'v')\n",
    "if 'parab' in scheme:\n",
    "    plt.plot(_res['t_c'],_res['v_c'][:], 'o', label = 'v' + '_c')\n",
    "plt.grid()\n",
    "plt.legend()\n",
    "plt.ylim(-0.1, 1.1)"
   ]
  },
  {
   "cell_type": "code",
   "execution_count": 19,
   "id": "85507cf3",
   "metadata": {},
   "outputs": [
    {
     "data": {
      "text/plain": [
       "(-0.1, 2.1)"
      ]
     },
     "execution_count": 19,
     "metadata": {},
     "output_type": "execute_result"
    },
    {
     "data": {
      "image/png": "[encoded data removed]",
      "text/plain": [
       "<Figure size 1400x800 with 1 Axes>"
      ]
     },
     "metadata": {},
     "output_type": "display_data"
    }
   ],
   "source": [
    "plt.figure(figsize=[14,8])\n",
    "labels= ['u']\n",
    "plt.plot(_res['t_col'],_res['u'][:], marker = '.', label = 'u')\n",
    "if 'parab' in scheme:\n",
    "    plt.plot(_res['t_c'],_res['u_c'][:], '.', label = 'u' + '_c')\n",
    "plt.grid()\n",
    "plt.legend()\n",
    "plt.ylim(-0.1, 2.1)"
   ]
  },
  {
   "cell_type": "code",
   "execution_count": null,
   "id": "5600a89c",
   "metadata": {},
   "outputs": [],
   "source": []
  },
  {
   "cell_type": "code",
   "execution_count": null,
   "id": "7f98c249",
   "metadata": {},
   "outputs": [],
   "source": []
  },
  {
   "cell_type": "code",
   "execution_count": null,
   "id": "28a6d45c",
   "metadata": {},
   "outputs": [],
   "source": []
  },
  {
   "cell_type": "code",
   "execution_count": null,
   "id": "70821ca1",
   "metadata": {},
   "outputs": [],
   "source": []
  },
  {
   "cell_type": "code",
   "execution_count": null,
   "id": "18631221",
   "metadata": {},
   "outputs": [],
   "source": []
  },
  {
   "cell_type": "code",
   "execution_count": null,
   "id": "e4afcfc5",
   "metadata": {},
   "outputs": [],
   "source": []
  },
  {
   "cell_type": "code",
   "execution_count": null,
   "id": "4d5c7aa5",
   "metadata": {},
   "outputs": [],
   "source": []
  }
 ],
 "metadata": {
  "kernelspec": {
   "display_name": "Python 3 (ipykernel)",
   "language": "python",
   "name": "python3"
  },
  "language_info": {
   "codemirror_mode": {
    "name": "ipython",
    "version": 3
   },
   "file_extension": ".py",
   "mimetype": "text/x-python",
   "name": "python",
   "nbconvert_exporter": "python",
   "pygments_lexer": "ipython3",
   "version": "3.9.15"
  }
 },
 "nbformat": 4,
 "nbformat_minor": 5
}
