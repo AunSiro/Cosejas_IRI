{
 "cells": [
  {
   "cell_type": "markdown",
   "metadata": {},
   "source": [
    "# Optimizing trayectories of Omnibot"
   ]
  },
  {
   "cell_type": "code",
   "execution_count": null,
   "metadata": {},
   "outputs": [],
   "source": [
    "import numpy as np\n",
    "import matplotlib.pyplot as plt\n",
    "from mpl_toolkits import mplot3d\n",
    "\n",
    "from numpy import logical_and as npand\n",
    "from numpy import logical_or as npor\n",
    "plt.rcParams.update({'font.size': 15})"
   ]
  },
  {
   "cell_type": "code",
   "execution_count": null,
   "metadata": {},
   "outputs": [],
   "source": [
    "from sympy import (symbols, pi, I, E, cos, sin, exp, tan, simplify, expand, factor, collect,\n",
    "                   apart, cancel, expand_trig, diff, Derivative, Function, integrate, limit,\n",
    "                   series, Eq, solve, dsolve, Matrix, N, preorder_traversal, Float, solve_linear_system,\n",
    "                   eye, zeros, lambdify)\n",
    "from sympy.physics.mechanics import dynamicsymbols, init_vprinting"
   ]
  },
  {
   "cell_type": "code",
   "execution_count": null,
   "metadata": {},
   "outputs": [],
   "source": [
    "init_vprinting()"
   ]
  },
  {
   "cell_type": "markdown",
   "metadata": {},
   "source": [
    "### Using the symbolic formulas to generate the numeric model"
   ]
  },
  {
   "cell_type": "code",
   "execution_count": null,
   "metadata": {},
   "outputs": [],
   "source": [
    "def generic_omnibot_mats(n = 4, null_beta = True, equal_r = True):\n",
    "    t, r, d, s = symbols('t r d s')\n",
    "    alpha, beta= dynamicsymbols('alpha beta')\n",
    "    \n",
    "    W = Matrix([\n",
    "        [r, cos(alpha)],\n",
    "        [0, sin(alpha)]\n",
    "    ])\n",
    "    T = Matrix([\n",
    "        [cos(beta), -sin(beta)],\n",
    "        [sin(beta), cos(beta)]\n",
    "    ])\n",
    "    A = Matrix([\n",
    "        [1, 0, -d],\n",
    "        [0, 1, s]\n",
    "    ])\n",
    "    WTA= W.inv()@T.inv()@A\n",
    "    WTA.simplify()\n",
    "    r_n = WTA[0,:]\n",
    "    s_n = WTA[1,:]\n",
    "    \n",
    "    R_list = []\n",
    "    S_list = []\n",
    "    \n",
    "    for ii in range(n):\n",
    "        r_ii = r_n.subs(alpha, symbols('alpha_'+str(ii+1)))\n",
    "        r_ii = r_ii.subs(d, symbols('d_'+str(ii+1)))\n",
    "        r_ii = r_ii.subs(s, symbols('s_'+str(ii+1)))\n",
    "        s_ii = s_n.subs(alpha, symbols('alpha_'+str(ii+1)))\n",
    "        s_ii = s_ii.subs(d, symbols('d_'+str(ii+1)))\n",
    "        s_ii = s_ii.subs(s, symbols('s_'+str(ii+1)))\n",
    "        if not equal_r:\n",
    "            r_ii = r_ii.subs(r, symbols('r_'+str(ii+1)))\n",
    "            s_ii = s_ii.subs(r, symbols('r_'+str(ii+1)))\n",
    "        if null_beta:\n",
    "            r_ii = r_ii.subs(beta, 0)\n",
    "            s_ii = s_ii.subs(beta, 0)\n",
    "        else:\n",
    "            r_ii = r_ii.subs(beta, symbols('beta_'+str(ii+1)))\n",
    "            s_ii = s_ii.subs(beta, symbols('beta_'+str(ii+1)))\n",
    "            \n",
    "        S_list.append(s_ii)\n",
    "        R_list.append(r_ii)\n",
    "    \n",
    "    R = Matrix(R_list)\n",
    "    S = Matrix(S_list)\n",
    "    return R, S"
   ]
  },
  {
   "cell_type": "code",
   "execution_count": null,
   "metadata": {},
   "outputs": [],
   "source": [
    "def integerize(expr):\n",
    "    expr2 = expr\n",
    "    for a in preorder_traversal(expr):\n",
    "        if isinstance(a, Float):\n",
    "            expr2 = expr2.subs(a, round(a))\n",
    "    return expr2\n",
    "\n",
    "def roundize(expr,n = 4):\n",
    "    expr2 = expr\n",
    "    for a in preorder_traversal(expr):\n",
    "        if isinstance(a, Float):\n",
    "            expr2 = expr2.subs(a, round(a,n))\n",
    "    return expr2"
   ]
  },
  {
   "cell_type": "code",
   "execution_count": null,
   "metadata": {},
   "outputs": [],
   "source": [
    "def dejabot_mats():\n",
    "    R, S = generic_omnibot_mats()\n",
    "    L, l = symbols('L l')\n",
    "    for ii in range(4):\n",
    "        alpha = pi/4 * (1 - 2 * ((int((ii+1)/2))%2))\n",
    "        s = L * (1 - 2 * ((int((ii)/2))%2))\n",
    "        d = l * (1 - 2 * (ii%2))\n",
    "        R[ii,:] = R[ii,:].subs(symbols('alpha_'+str(ii+1)), alpha)\n",
    "        R[ii,:] = R[ii,:].subs(symbols('s_'+str(ii+1)), s)\n",
    "        R[ii,:] = R[ii,:].subs(symbols('d_'+str(ii+1)), d)\n",
    "        S[ii,:] = S[ii,:].subs(symbols('alpha_'+str(ii+1)), alpha)\n",
    "        S[ii,:] = S[ii,:].subs(symbols('s_'+str(ii+1)), s)\n",
    "        S[ii,:] = S[ii,:].subs(symbols('d_'+str(ii+1)), d)\n",
    "    return integerize(R), integerize(S)"
   ]
  },
  {
   "cell_type": "code",
   "execution_count": null,
   "metadata": {},
   "outputs": [],
   "source": [
    "t, r, d, s, m, I_z, I_w, l, L = symbols('t r d s m I_z I_w l L')\n",
    "x, y, alpha, beta, sigma, psi, theta= dynamicsymbols('x y alpha beta sigma psi theta')\n",
    "psi_dot = psi.diff()\n",
    "x, y, alpha, beta, sigma, psi, psi_dot, theta, t, r, d, s, m, I_z, I_w, l, L"
   ]
  },
  {
   "cell_type": "code",
   "execution_count": null,
   "metadata": {},
   "outputs": [],
   "source": [
    "q = [x, y, psi] + [dynamicsymbols(f'phi_{i+1}') for i in range(4)]\n",
    "q_r = Matrix([x, y, psi])\n",
    "q = Matrix(q)\n",
    "Gamma = [dynamicsymbols(f'tau_{i+1}') for i in range(4)]\n",
    "Gamma = Matrix(Gamma)\n",
    "\n",
    "q, Gamma"
   ]
  },
  {
   "cell_type": "code",
   "execution_count": null,
   "metadata": {},
   "outputs": [],
   "source": [
    "M_w = eye(4)*I_w\n",
    "M_r = Matrix([\n",
    "    [m, 0, 0],\n",
    "    [0, m, 0],\n",
    "    [0, 0, I_z]\n",
    "])\n",
    "R_psi = Matrix([\n",
    "    [cos(psi), -sin(psi), 0],\n",
    "    [sin(psi), cos(psi), 0],\n",
    "    [0, 0, 1]\n",
    "])\n",
    "R, S = dejabot_mats()\n",
    "\n",
    "M_r, M_w, R_psi, R"
   ]
  },
  {
   "cell_type": "code",
   "execution_count": null,
   "metadata": {},
   "outputs": [],
   "source": [
    "H = M_r + R_psi@R.T@M_w@R@R_psi.T\n",
    "H = simplify(H)\n",
    "K = R_psi@R.T@M_w@R@R_psi.diff().T\n",
    "K = simplify(K)\n",
    "F_a = R_psi@R.T@Gamma\n",
    "F_a_0 = F_a[0].factor(sin(psi), cos(psi))\n",
    "F_a_1 = F_a[1].factor(sin(psi), cos(psi))\n",
    "F_a_2 = F_a[2].factor()\n",
    "F_a = Matrix([F_a_0, F_a_1, F_a_2])\n",
    "A = R_psi@R.T\n",
    "H_inv = simplify(H.inv())\n",
    "H, K, F_a, A"
   ]
  },
  {
   "cell_type": "code",
   "execution_count": null,
   "metadata": {},
   "outputs": [],
   "source": [
    "get_h_raw = lambdify([m, I_w, I_z, l, L, r], H)\n",
    "get_k_raw = lambdify([I_w, r, psi_dot], K)\n",
    "get_a_raw = lambdify([psi, l, L, r], A)\n",
    "get_h_inv_raw = lambdify([m, I_w, I_z, l, L, r], H_inv)"
   ]
  },
  {
   "cell_type": "markdown",
   "metadata": {},
   "source": [
    "## Energy and Direction Study"
   ]
  },
  {
   "cell_type": "markdown",
   "metadata": {},
   "source": [
    "![Esquema de Omnibot](images_dejabot/Omnibot_con_gamma.png)"
   ]
  },
  {
   "cell_type": "markdown",
   "metadata": {},
   "source": [
    "#### Parameter encoding in functions:\n",
    "$$Geom = [l, L, r]$$\n",
    "$$Mass = [m, I_w,I_z]$$\n",
    "$$q = [x, y, \\psi]$$ where q is $q_r$"
   ]
  },
  {
   "cell_type": "code",
   "execution_count": null,
   "metadata": {},
   "outputs": [],
   "source": [
    "def get_h(geom, mass):\n",
    "    l, L, r = geom\n",
    "    m, I_w, I_z = mass\n",
    "    return get_h_raw(m, I_w, I_z, l, L, r)\n",
    "\n",
    "def get_k(geom, mass, q_dot):\n",
    "    l, L, r = geom\n",
    "    m, I_w, I_z = mass\n",
    "    x_dot, y_dot, psi_dot = q_dot\n",
    "    return get_k_raw(I_w, r, psi_dot)\n",
    "\n",
    "def get_a(geom, q):\n",
    "    l, L, r = geom\n",
    "    x, y, psi = q\n",
    "    return get_a_raw(psi, l, L, r)\n",
    "\n",
    "def get_h_inv(geom, mass):\n",
    "    l, L, r = geom\n",
    "    m, I_w, I_z = mass\n",
    "    return get_h_inv_raw(m, I_w, I_z, l, L, r)\n"
   ]
  },
  {
   "cell_type": "code",
   "execution_count": null,
   "metadata": {
    "scrolled": true
   },
   "outputs": [],
   "source": [
    "geom = [0.2096, 0.2096, 0.0667]\n",
    "mass = [15.75, 0.00266, 0.461]\n",
    "q_0 = np.array([0, 0, 0])"
   ]
  },
  {
   "cell_type": "code",
   "execution_count": null,
   "metadata": {
    "scrolled": true
   },
   "outputs": [],
   "source": [
    "A_arr = get_a(geom, q_0)\n",
    "A_arr"
   ]
  },
  {
   "cell_type": "markdown",
   "metadata": {},
   "source": [
    "### Relationship between the speeds of the wheels and the speed of the center of mass"
   ]
  },
  {
   "cell_type": "code",
   "execution_count": null,
   "metadata": {},
   "outputs": [],
   "source": [
    "gamma_arr = np.linspace(0, np.pi, 200)\n",
    "x_speed = np.cos(gamma_arr)\n",
    "y_speed = np.sin(gamma_arr)\n",
    "psi_speed = np.zeros_like(x_speed)\n",
    "\n",
    "speed_vect = np.array([x_speed, y_speed, psi_speed])\n",
    "wheel_speed_vect = A_arr.T @ speed_vect"
   ]
  },
  {
   "cell_type": "code",
   "execution_count": null,
   "metadata": {
    "scrolled": false
   },
   "outputs": [],
   "source": [
    "plt.figure(figsize=[10,8])\n",
    "plt.plot(gamma_arr, wheel_speed_vect[0,:], label = 'Wheels 1 and 4')#ruedas 1 y 4\n",
    "plt.plot(gamma_arr, wheel_speed_vect[1,:], label = 'Wheels 2 and 3') #ruedas \n",
    "plt.hlines([0, wheel_speed_vect[0,0], -wheel_speed_vect[0,0]], 0, np.pi, 'k', 'dotted')\n",
    "plt.vlines(np.pi*np.array([0.25, 0.5, 0.75]), -22, 22, 'k', 'dotted')\n",
    "plt.legend()\n",
    "plt.xlabel('$\\gamma$, in radians')\n",
    "plt.ylabel('$\\phi_i$, in radians/s')"
   ]
  },
  {
   "cell_type": "code",
   "execution_count": null,
   "metadata": {},
   "outputs": [],
   "source": [
    "plt.figure(figsize=[10,8])\n",
    "plt.plot(gamma_arr, wheel_speed_vect[0,:], label = 'Wheels 1 and 4')#ruedas 1 y 4\n",
    "plt.plot(gamma_arr, wheel_speed_vect[1,:], label = 'Wheels 2 and 3') #ruedas \n",
    "plt.plot(gamma_arr, x_speed*21, '--', label = 'x speed(not to scale)')\n",
    "plt.plot(gamma_arr, y_speed*21, '--', label = 'y speed(not to scale)')\n",
    "plt.hlines([0, wheel_speed_vect[0,0], -wheel_speed_vect[0,0]], 0, np.pi, 'k', 'dotted')\n",
    "plt.vlines(np.pi*np.array([0.25, 0.5, 0.75]), -22, 22, 'k', 'dotted')\n",
    "plt.legend()\n",
    "plt.xlabel('$\\gamma$, in radians')\n",
    "plt.ylabel('$\\phi_i$, in radians/s')"
   ]
  },
  {
   "cell_type": "code",
   "execution_count": null,
   "metadata": {
    "scrolled": false
   },
   "outputs": [],
   "source": [
    "plt.figure(figsize=[10,6])\n",
    "plt.plot(gamma_arr, np.abs(wheel_speed_vect[0,:]), label = 'Wheels 1 and 4')#ruedas 1 y 4\n",
    "plt.plot(gamma_arr, np.abs(wheel_speed_vect[1,:]), label = 'Wheels 2 and 3') #ruedas \n",
    "plt.hlines([0, wheel_speed_vect[0,0]], 0, np.pi, 'k', 'dotted')\n",
    "plt.vlines(np.pi*np.array([0.25, 0.5, 0.75]), 0, 22, 'k', 'dotted')\n",
    "plt.legend()\n",
    "plt.xlabel('$\\gamma$, in radians')\n",
    "plt.ylabel('$abs(\\phi_i)$, in radians/s')"
   ]
  },
  {
   "cell_type": "markdown",
   "metadata": {},
   "source": [
    "For $\\gamma$ between 0 and $\\pi/2$, wheels 2 and 3 are the limit. Between $\\pi/2$ and $\\pi$, wheels 1 and 4 are the limit.\n"
   ]
  },
  {
   "cell_type": "markdown",
   "metadata": {},
   "source": [
    "Movimiento estacionario: $$\\dot{q_r} = v_r\\left[\\begin{matrix}\\operatorname{cos}\\left(\\gamma\\right)\\\\\\operatorname{sin}\\left(\\gamma\\right)\\\\0\\end{matrix}\\right]$$"
   ]
  },
  {
   "cell_type": "code",
   "execution_count": null,
   "metadata": {},
   "outputs": [],
   "source": [
    "gamma = symbols('gamma')\n",
    "v_r = symbols('v_r')\n",
    "q_d_unit = Matrix([cos(gamma), sin(gamma), 0])\n",
    "q_d_r_sta = v_r * q_d_unit.copy()\n",
    "q_d_r_sta"
   ]
  },
  {
   "cell_type": "code",
   "execution_count": null,
   "metadata": {
    "scrolled": true
   },
   "outputs": [],
   "source": [
    "q_d_w_sta = simplify(R @ q_d_r_sta)\n",
    "q_d_w_sta"
   ]
  },
  {
   "cell_type": "code",
   "execution_count": null,
   "metadata": {
    "scrolled": false
   },
   "outputs": [],
   "source": [
    "w_1_phi_dot, w_2_phi_dot,_,_ =  q_d_w_sta\n",
    "w_1_phi_dot, w_2_phi_dot"
   ]
  },
  {
   "cell_type": "code",
   "execution_count": null,
   "metadata": {},
   "outputs": [],
   "source": [
    "phi_dot_max = 2 * np.pi * 7000/(49*60)\n",
    "def max_speed_dir(gamma):\n",
    "    '''Valid for gamma between 0 and pi'''\n",
    "    phi_dot_max = 2 * np.pi * 7000/(49*60)\n",
    "    r = 0.0667\n",
    "    v_r_w_1 = np.abs(phi_dot_max * r/(2**0.5 * np.sin(gamma + (np.pi/4))))\n",
    "    v_r_w_2 = np.abs(phi_dot_max * r/(2**0.5 * np.cos(gamma + (np.pi/4))))\n",
    "    v_r = np.where(gamma > np.pi/2, v_r_w_2, v_r_w_1)\n",
    "    return v_r"
   ]
  },
  {
   "cell_type": "code",
   "execution_count": null,
   "metadata": {},
   "outputs": [],
   "source": [
    "plt.figure(figsize=[10,6])\n",
    "plt.plot(gamma_arr, max_speed_dir(gamma_arr), label = 'Wheels 2 and 3') #ruedas \n",
    "#plt.hlines([0, wheel_speed_vect[0,0]], 0, np.pi, 'k', 'dotted')\n",
    "plt.vlines(np.pi*np.array([0.25, 0.5, 0.75]), 0, 1, 'k', 'dotted')\n",
    "plt.xlabel('$\\gamma$, in radians')\n",
    "plt.ylabel('max $v_r$, in m/s')\n",
    "plt.grid()"
   ]
  },
  {
   "cell_type": "markdown",
   "metadata": {},
   "source": [
    "###  Energy spent with acceleration in a constant direction"
   ]
  },
  {
   "cell_type": "markdown",
   "metadata": {},
   "source": [
    "  Speed = v(t)\n",
    " \n",
    " Acceleration $= a(t) = \\dot{v}(t)$"
   ]
  },
  {
   "cell_type": "code",
   "execution_count": null,
   "metadata": {},
   "outputs": [],
   "source": [
    "a, v = dynamicsymbols('a v')\n",
    "q_d_d_unif = a * Matrix([cos(gamma), sin(gamma), 0])\n",
    "q_d_unif = v * Matrix([cos(gamma), sin(gamma), 0])\n",
    "q_d_d_unif, q_d_unif"
   ]
  },
  {
   "cell_type": "code",
   "execution_count": null,
   "metadata": {},
   "outputs": [],
   "source": [
    "R_inv = simplify(R.pinv())\n",
    "R_inv"
   ]
  },
  {
   "cell_type": "code",
   "execution_count": null,
   "metadata": {},
   "outputs": [],
   "source": [
    "Gamma_unif = simplify(R_inv.T @ R_psi.T @ H @ q_d_d_unif)\n",
    "Gamma_unif.subs(psi, 0)"
   ]
  },
  {
   "cell_type": "code",
   "execution_count": null,
   "metadata": {},
   "outputs": [],
   "source": [
    "H"
   ]
  },
  {
   "cell_type": "code",
   "execution_count": null,
   "metadata": {},
   "outputs": [],
   "source": [
    "q_d_w_unif = R @ q_d_unif\n",
    "q_d_w_unif"
   ]
  },
  {
   "cell_type": "code",
   "execution_count": null,
   "metadata": {},
   "outputs": [],
   "source": [
    "power_unif = simplify(Gamma_unif.subs(psi, 0).T @ q_d_w_unif)\n",
    "power_unif"
   ]
  },
  {
   "cell_type": "code",
   "execution_count": null,
   "metadata": {},
   "outputs": [],
   "source": [
    "power_unif.subs(a, v.diff())"
   ]
  },
  {
   "cell_type": "code",
   "execution_count": null,
   "metadata": {},
   "outputs": [],
   "source": [
    "energy = integrate(power_unif.subs(a, v.diff()), t)\n",
    "expand(energy)"
   ]
  },
  {
   "cell_type": "markdown",
   "metadata": {},
   "source": [
    "## Electric considerations"
   ]
  },
  {
   "cell_type": "markdown",
   "metadata": {},
   "source": [
    " Electric Motor Model\n",
    "\n",
    "$$ V = K_m \\dot{\\phi_{mot}} + Ri$$\n",
    "$$ \\tau_m = N K_ei\\mu_{trans} - \\tau_r$$\n",
    "\n",
    "$$ \\dot{\\phi}_{mot} = N \\dot{\\phi}$$\n",
    "$$ \\tau_r = a \\dot{\\phi} + b·sign(\\dot{\\phi}) $$"
   ]
  },
  {
   "cell_type": "code",
   "execution_count": null,
   "metadata": {},
   "outputs": [],
   "source": [
    "a, b, k_e, k_m, n, r_e = symbols('a b K_e K_m N R_e')\n",
    "a, b, k_e, k_m, n, r_e"
   ]
  },
  {
   "cell_type": "code",
   "execution_count": null,
   "metadata": {},
   "outputs": [],
   "source": [
    "from sympy.functions import sign"
   ]
  },
  {
   "cell_type": "code",
   "execution_count": null,
   "metadata": {},
   "outputs": [],
   "source": [
    "from sympy import sqrt"
   ]
  },
  {
   "cell_type": "markdown",
   "metadata": {},
   "source": [
    "Movimiento estacionario: $$\\dot{q_r} = v_r\\left[\\begin{matrix}\\operatorname{cos}\\left(\\gamma\\right)\\\\\\operatorname{sin}\\left(\\gamma\\right)\\\\0\\end{matrix}\\right]$$"
   ]
  },
  {
   "cell_type": "code",
   "execution_count": null,
   "metadata": {
    "scrolled": true
   },
   "outputs": [],
   "source": [
    "q_d_r_sta = v_r * Matrix([cos(gamma), sin(gamma), 0])\n",
    "q_d_w_sta = simplify(R @ q_d_r_sta)\n",
    "q_d_r_sta, q_d_w_sta"
   ]
  },
  {
   "cell_type": "code",
   "execution_count": null,
   "metadata": {},
   "outputs": [],
   "source": [
    "phi = dynamicsymbols('\\phi')\n",
    "n = symbols('n')\n",
    "mu = symbols('\\mu')\n",
    "phi_dot = diff(phi)\n",
    "phi, phi_dot, mu"
   ]
  },
  {
   "cell_type": "code",
   "execution_count": null,
   "metadata": {},
   "outputs": [],
   "source": [
    "i = (a * phi_dot + b * sign(phi_dot))/(k_e * mu * n)\n",
    "i"
   ]
  },
  {
   "cell_type": "code",
   "execution_count": null,
   "metadata": {},
   "outputs": [],
   "source": [
    "v = k_m * n * phi_dot + r_e * i\n",
    "v"
   ]
  },
  {
   "cell_type": "code",
   "execution_count": null,
   "metadata": {},
   "outputs": [],
   "source": [
    "pow_e = expand(i*v)\n",
    "pow_e"
   ]
  },
  {
   "cell_type": "code",
   "execution_count": null,
   "metadata": {},
   "outputs": [],
   "source": [
    "#pow_e = pow_e.replace(sign(phi_dot)**2, 1)\n",
    "#pow_e_simp = collect(pow_e.replace(sign(phi_dot), 1), phi_dot)\n",
    "pow_e_simp = collect(pow_e, phi_dot)\n",
    "pow_e_simp"
   ]
  },
  {
   "cell_type": "code",
   "execution_count": null,
   "metadata": {},
   "outputs": [],
   "source": [
    "pow_e_simp_num = pow_e_simp.subs(a, 0.01).subs(b, 0.4).subs(k_e, 0.0337).subs(k_m, 0.03148).subs(r_e, 1.84615).subs(n, 49).subs(mu, 0.6)\n",
    "roundize(pow_e_simp_num,3)"
   ]
  },
  {
   "cell_type": "code",
   "execution_count": null,
   "metadata": {},
   "outputs": [],
   "source": [
    "pow_e_simp_f = lambdify([phi_dot], pow_e_simp_num)"
   ]
  },
  {
   "cell_type": "code",
   "execution_count": null,
   "metadata": {},
   "outputs": [],
   "source": [
    "x = np.linspace(0, 2 * np.pi * 7000/(49*60), 300)\n",
    "plt.figure(figsize=[10,8])\n",
    "p=pow_e_simp_f(x)\n",
    "plt.plot(x, p)  \n",
    "plt.xlabel('$\\dot{\\phi}$, rads/s')\n",
    "plt.ylabel('Electric power, W')\n",
    "plt.grid(True)"
   ]
  },
  {
   "cell_type": "code",
   "execution_count": null,
   "metadata": {},
   "outputs": [],
   "source": [
    "q_d_w_sta"
   ]
  },
  {
   "cell_type": "code",
   "execution_count": null,
   "metadata": {},
   "outputs": [],
   "source": [
    "total_p = 0\n",
    "for iii in range(4):\n",
    "    total_p += pow_e_simp_num.subs(phi_dot, q_d_w_sta[iii])\n",
    "total_p = simplify(total_p.subs(sqrt(2),2**0.5).subs(r, 0.0667))\n",
    "roundize(total_p, 2)"
   ]
  },
  {
   "cell_type": "code",
   "execution_count": null,
   "metadata": {},
   "outputs": [],
   "source": [
    "total_p_fun = lambdify([gamma, v_r], total_p)"
   ]
  },
  {
   "cell_type": "markdown",
   "metadata": {},
   "source": [
    "$v_{r,max}$ is the max speed in worse direction: $\\gamma = \\pi/4$\n",
    "\n",
    "In directions parallel to the axes, speed can be greater."
   ]
  },
  {
   "cell_type": "code",
   "execution_count": null,
   "metadata": {},
   "outputs": [],
   "source": [
    "_v = q_d_w_sta[0].subs(gamma, -pi/4)\n",
    "_v"
   ]
  },
  {
   "cell_type": "code",
   "execution_count": null,
   "metadata": {},
   "outputs": [],
   "source": [
    "v_r_num = 2 * np.pi * 7000/(49*60) * 0.0667 /(2**0.5)\n",
    "v_r_num"
   ]
  },
  {
   "cell_type": "code",
   "execution_count": null,
   "metadata": {},
   "outputs": [],
   "source": [
    "percent = [0.25, 0.5, 0.75, 1]\n",
    "gamma_arr = np.linspace(0, np.pi, 200)\n",
    "plt.figure(figsize = [10,8])\n",
    "for per in percent:\n",
    "    plt.plot(gamma_arr,total_p_fun(gamma_arr, v_r_num* per), label = '$v_r$ = '+ str(per) + '$v_{r,max}$')\n",
    "plt.vlines(np.pi*np.array([0.25, 0.5, 0.75]), 0, 36, 'k', 'dotted')\n",
    "plt.grid()\n",
    "plt.legend()\n",
    "plt.xlabel('$\\gamma$, in radians')\n",
    "plt.ylabel('Total power, in W')"
   ]
  },
  {
   "cell_type": "markdown",
   "metadata": {},
   "source": [
    "## Electric Motor Model\n",
    "\n",
    "$$ V = K_m \\dot{\\phi} + Ri$$\n",
    "$$ \\tau_m = K_ei - \\tau_r$$"
   ]
  },
  {
   "cell_type": "code",
   "execution_count": null,
   "metadata": {},
   "outputs": [],
   "source": [
    "def friction(a, b, phi_dot, V, eps_phi = 0.01):\n",
    "    fric_wet = a * phi_dot\n",
    "    fric_dry = np.where(npor(\n",
    "        phi_dot>eps_phi,\n",
    "        npand(\n",
    "            np.abs(phi_dot)<=eps_phi,\n",
    "            V > 0)\n",
    "    ),b, 0)\n",
    "    fric_dry = np.where(npor(\n",
    "        phi_dot< -eps_phi,\n",
    "        npand(\n",
    "            np.abs(phi_dot)<=eps_phi,\n",
    "            V < 0)\n",
    "    ),-b, fric_dry)\n",
    "    return fric_wet + fric_dry"
   ]
  },
  {
   "cell_type": "code",
   "execution_count": null,
   "metadata": {},
   "outputs": [],
   "source": [
    "def create_motor_model(i_7000 = 0.5):\n",
    "    V = 24\n",
    "    R = 24/13\n",
    "    K_m = (V - R*i_7000)/(2 * np.pi*7000/60)\n",
    "    t_rat = 4300*9.8/(100*1000)    #570*9.8/(100*1000)\n",
    "    phi_rat = 0                    #5900*np.pi*2/60\n",
    "    i_rat = (V - K_m*phi_rat)/R\n",
    "    K_e = t_rat/(i_rat-i_7000)\n",
    "    t_r = -t_rat + K_e * i_rat\n",
    "    print(f'K_m = {K_m}, K_e = {K_e}, R = {R}, i_rat = {i_rat}, t_r = {t_r}')\n",
    "    def motor_model(phi_dot, V = 24):\n",
    "        i = (V - K_m*phi_dot)/R\n",
    "        t = K_e * i - friction(0,t_r, phi_dot, V)\n",
    "        p = t * phi_dot\n",
    "        ef = p / (i * V)\n",
    "        return t, i, p, ef\n",
    "    def simp_motor_model(phi_dot, V = 24):\n",
    "        i = (V - K_m*phi_dot)/R\n",
    "        t = K_e * i - friction(0,t_r, phi_dot, V)\n",
    "        return t\n",
    "    return motor_model, simp_motor_model"
   ]
  },
  {
   "cell_type": "code",
   "execution_count": null,
   "metadata": {
    "scrolled": false
   },
   "outputs": [],
   "source": [
    "x = np.linspace(0, 2 * np.pi * 7000/60, 300)\n",
    "n = x * 30 / np.pi\n",
    "motor_model = create_motor_model(0.5)[0]\n",
    "t, i, p, ef = motor_model(x)\n",
    "t = t *100000/9.8\n",
    "\n",
    "fig, ax1 = plt.subplots()\n",
    "\n",
    "ax1.plot(t,n)\n",
    "ax1.set_ylim([0,7000])\n",
    "ax1.set_xlim([0,4400])\n",
    "\n",
    "ax2 = ax1.twinx()\n",
    "ax2.plot(t,i)\n",
    "ax2.set_ylim([0,13])\n",
    "\n",
    "ax3 = ax1.twinx()\n",
    "ax3.plot(t,p)\n",
    "ax3.spines[\"right\"].set_position((\"axes\", 1.1))\n",
    "ax3.set_ylim([0,80])\n",
    "\n",
    "ax4 = ax1.twinx()\n",
    "ax4.plot(t,ef)\n",
    "ax4.spines[\"right\"].set_position((\"axes\", 1.2))\n",
    "ax4.set_ylim([0,1])\n",
    "plt.grid()\n",
    "plt.title('Motor Curves')\n",
    "\n",
    "plt.grid(True)"
   ]
  },
  {
   "cell_type": "markdown",
   "metadata": {},
   "source": [
    "### Comparison with manufacturer original motor curves:\n",
    "![Original curves](images_dejabot/curvas_motor.png)"
   ]
  },
  {
   "cell_type": "markdown",
   "metadata": {},
   "source": [
    "Expanded curves outside normal regime:"
   ]
  },
  {
   "cell_type": "code",
   "execution_count": null,
   "metadata": {
    "scrolled": false
   },
   "outputs": [],
   "source": [
    "x = np.linspace(-2 * np.pi * 7000/60, 4 * np.pi * 7000/60, 300)\n",
    "n = x * 30 / np.pi\n",
    "motor_model = create_motor_model(0.5)[0]\n",
    "t, i, p, ef = motor_model(x)\n",
    "t = t *100000/9.8\n",
    "\n",
    "fig, ax1 = plt.subplots()\n",
    "\n",
    "ax1.plot(t,n, 'r')\n",
    "ax1.set_ylim([-14000,14000])\n",
    "ax1.set_xlim([-4400,8800])\n",
    "\n",
    "ax2 = ax1.twinx()\n",
    "ax2.plot(t,i)\n",
    "ax2.set_ylim([-26,26])\n",
    "\n",
    "ax3 = ax1.twinx()\n",
    "ax3.plot(t,p)\n",
    "ax3.spines[\"right\"].set_position((\"axes\", 1.1))\n",
    "ax3.set_ylim([-80,80])\n",
    "\n",
    "ax4 = ax1.twinx()\n",
    "ax4.plot(t,ef, 'g')\n",
    "ax4.spines[\"right\"].set_position((\"axes\", 1.2))\n",
    "ax4.set_ylim([-2,2])\n",
    "plt.grid()\n",
    "\n",
    "plt.grid(True)"
   ]
  },
  {
   "cell_type": "markdown",
   "metadata": {},
   "source": [
    "Adapted Curves with reductor gears:"
   ]
  },
  {
   "cell_type": "markdown",
   "metadata": {},
   "source": [
    "## Electric Motor Model\n",
    "\n",
    "$$ V = K_m \\dot{\\phi_{mot}} + Ri$$\n",
    "$$ \\tau_m = N K_ei\\mu_{trans} - \\tau_r$$\n",
    "\n",
    "$$ \\dot{\\phi}_{mot} = N \\dot{\\phi}$$\n",
    "$$ \\tau_r = a \\dot{\\phi} + b·sign(\\dot{\\phi}) $$"
   ]
  },
  {
   "cell_type": "code",
   "execution_count": null,
   "metadata": {},
   "outputs": [],
   "source": [
    "def create_motoreduct_model(i_7000 = 0.5, N = 49, eff = 0.6, a = 0.01, b = 0.4):\n",
    "    V = 24\n",
    "    R = 24/13\n",
    "    K_m = (V - R*i_7000)/(2 * np.pi*7000/60)\n",
    "    t_rat = 4300*9.8/(100*1000)    #570*9.8/(100*1000)\n",
    "    phi_rat = 0                    #5900*np.pi*2/60\n",
    "    i_rat = (V - K_m*phi_rat)/R\n",
    "    K_e = t_rat/(i_rat-i_7000)\n",
    "    \n",
    "    print(f'K_m = {K_m}, K_e = {K_e}, R = {R}, i_rat = {i_rat}')\n",
    "    eps_phi = 0.1\n",
    "    \n",
    "    def motoreduct_model(phi_dot, V = 24):\n",
    "        phi_dot_motor = phi_dot * N\n",
    "        i = (V - K_m*phi_dot_motor)/R\n",
    "        t = K_e * i * N * eff - friction(a, b, phi_dot, V, eps_phi)\n",
    "        p = t * phi_dot\n",
    "        ef = p / (i * V)\n",
    "        return t, i, p, ef\n",
    "    def simp_motoreduct_model(phi_dot, V = 24):\n",
    "        phi_dot_motor = phi_dot * N\n",
    "        i = (V - K_m*phi_dot_motor)/R\n",
    "        t = K_e * i * N * eff - friction(a, b, phi_dot, V, eps_phi)\n",
    "        return t\n",
    "    return motoreduct_model, simp_motoreduct_model"
   ]
  },
  {
   "cell_type": "code",
   "execution_count": null,
   "metadata": {
    "scrolled": true
   },
   "outputs": [],
   "source": [
    "x = np.linspace(0, 2 * np.pi * 7000/(49*60), 300)\n",
    "n = x * 30 / np.pi\n",
    "motor_model = create_motoreduct_model(0.5)[0]\n",
    "t, i, p, ef = motor_model(x)\n",
    "t = t *100000/9.8\n",
    "\n",
    "fig, ax1 = plt.subplots()\n",
    "\n",
    "ax1.plot(t,n)\n",
    "ax1.set_ylim([0,150])\n",
    "ax1.set_xlim([0,130000])\n",
    "\n",
    "ax2 = ax1.twinx()\n",
    "ax2.plot(t,i)\n",
    "ax2.set_ylim([0,13])\n",
    "\n",
    "ax3 = ax1.twinx()\n",
    "ax3.plot(t,p)\n",
    "ax3.spines[\"right\"].set_position((\"axes\", 1.1))\n",
    "ax3.set_ylim([0,80])\n",
    "\n",
    "ax4 = ax1.twinx()\n",
    "ax4.plot(t,ef)\n",
    "ax4.spines[\"right\"].set_position((\"axes\", 1.2))\n",
    "ax4.set_ylim([0,1])\n",
    "#plt.grid()\n",
    "\n",
    "ax5 = ax1.twinx()\n",
    "ax5.spines[\"right\"].set_position((\"axes\", -0.2))\n",
    "ax5.set_ylim([0, x[-1]*0.0667])\n",
    "\n",
    "plt.grid(True)"
   ]
  },
  {
   "cell_type": "code",
   "execution_count": null,
   "metadata": {},
   "outputs": [],
   "source": [
    "def torq_lims(phi_dot, v_max = 24, motor = create_motoreduct_model()[1]):\n",
    "    t_max = motor(phi_dot, v_max)\n",
    "    t_min = motor(phi_dot, -v_max)\n",
    "    \n",
    "    return t_max, t_min"
   ]
  },
  {
   "cell_type": "code",
   "execution_count": null,
   "metadata": {},
   "outputs": [],
   "source": [
    "def vect_torq_lims(geom, q, q_dot):\n",
    "    a = get_a(geom, q)\n",
    "    phi_dot = a.T@q_dot\n",
    "    #print(f'phi_dot: {np.round(phi_dot,3)}')\n",
    "    t_max = []\n",
    "    t_min = []\n",
    "    for wheel in phi_dot:\n",
    "        maxt, mint = torq_lims(wheel)\n",
    "        t_max.append(maxt)\n",
    "        t_min.append(mint)\n",
    "    t_max = np.array(t_max)\n",
    "    t_min = np.array(t_min)\n",
    "    \n",
    "    return (t_max, t_min)"
   ]
  },
  {
   "cell_type": "markdown",
   "metadata": {},
   "source": [
    "### Simplified expression linking maximum and mínimum torque as function of speed"
   ]
  },
  {
   "cell_type": "code",
   "execution_count": null,
   "metadata": {},
   "outputs": [],
   "source": [
    "phi_arr = np.linspace(-20, 20, 500)\n",
    "max_t, min_t = torq_lims(phi_arr)\n",
    "t_v_med, t_min_v_med = torq_lims(phi_arr, v_max= 12)\n",
    "t_v_0, _ = torq_lims(phi_arr, v_max= 0)\n",
    "max_t_nodry, min_t_nodry = torq_lims(phi_arr, motor = create_motoreduct_model(b=0)[1])\n",
    "t_v_med_nodry, t_min_v_med_nodry = torq_lims(phi_arr, v_max= 12, motor = create_motoreduct_model(b=0)[1])\n",
    "t_v_0_nodry, _ = torq_lims(phi_arr, v_max= 0, motor = create_motoreduct_model(b=0)[1])"
   ]
  },
  {
   "cell_type": "code",
   "execution_count": null,
   "metadata": {},
   "outputs": [],
   "source": [
    "plt.figure(figsize=[15,12])\n",
    "n_arr = phi_arr * 30 / np.pi \n",
    "plt.plot(n_arr, max_t*100/9.8, label = 'par máximo, modelo completo')\n",
    "plt.plot(n_arr, min_t*100/9.8, label = 'par mínimo, modelo completo')\n",
    "plt.plot(n_arr, max_t_nodry*100/9.8, label = 'par máximo, sin fricción seca')\n",
    "plt.plot(n_arr, min_t_nodry*100/9.8, label = 'par mínimo, sin fricción seca')\n",
    "plt.plot(n_arr, t_v_med*100/9.8, label = 'par a 12 V, modelo completo')\n",
    "plt.plot(n_arr, t_min_v_med*100/9.8, label = 'par a -12 V, modelo completo')\n",
    "plt.plot(n_arr, t_v_med_nodry*100/9.8, label = 'par a 12 V, sin fricción seca')\n",
    "plt.plot(n_arr, t_min_v_med_nodry*100/9.8, label = 'par a -12 V, sin fricción seca')\n",
    "plt.plot(n_arr, t_v_0*100/9.8, label = 'par a 0 V, modelo completo')\n",
    "plt.plot(n_arr, t_v_0_nodry*100/9.8, label = 'par a 0 V, sin fricción seca')\n",
    "plt.hlines(0, -200, 200, 'k', 'dotted')\n",
    "plt.vlines(0, -300, 300, 'k', 'dotted')\n",
    "plt.grid\n",
    "plt.xlabel('velocidad del motor, RPM')\n",
    "plt.ylabel('par motor, Kg·cm')\n",
    "plt.legend()"
   ]
  },
  {
   "cell_type": "code",
   "execution_count": null,
   "metadata": {},
   "outputs": [],
   "source": [
    "def cutpoint(x1, x2, y1, y2):\n",
    "    a = (y1-y2)/(x1-x2)\n",
    "    b = y1 - a * x1\n",
    "    return -b/a"
   ]
  },
  {
   "cell_type": "code",
   "execution_count": null,
   "metadata": {},
   "outputs": [],
   "source": [
    "cut1 = cutpoint(phi_arr[260], phi_arr[499], max_t[260], max_t[499])\n",
    "cut2 = cutpoint(phi_arr[260], phi_arr[499], max_t_nodry[260], max_t_nodry[499])\n",
    "corr_factor = cut2/cut1\n",
    "corr_factor"
   ]
  },
  {
   "cell_type": "code",
   "execution_count": null,
   "metadata": {},
   "outputs": [],
   "source": [
    "cut1"
   ]
  },
  {
   "cell_type": "code",
   "execution_count": null,
   "metadata": {},
   "outputs": [],
   "source": [
    "new_a = 0.4/cut1 + 0.01\n",
    "new_a"
   ]
  },
  {
   "cell_type": "code",
   "execution_count": null,
   "metadata": {},
   "outputs": [],
   "source": [
    "friction(0.01, 0.4, cut1, 24)"
   ]
  },
  {
   "cell_type": "code",
   "execution_count": null,
   "metadata": {},
   "outputs": [],
   "source": [
    "friction(new_a , 0.0, cut1, 24)"
   ]
  },
  {
   "cell_type": "markdown",
   "metadata": {},
   "source": [
    "new_a = (corr_factor -1)* 0.0314812 / 1.846154 + corr_factor* 0.01\n",
    "new_a"
   ]
  },
  {
   "cell_type": "code",
   "execution_count": null,
   "metadata": {},
   "outputs": [],
   "source": [
    "max_t_new_m, min_t_new_m = torq_lims(phi_arr, motor = create_motoreduct_model(b=0, a=new_a)[1])\n",
    "t_v_med_new_m, t_min_v_med_new_m = torq_lims(phi_arr, v_max= 12, motor = create_motoreduct_model(b=0, a=new_a)[1])\n",
    "t_v_0_new_m, _ = torq_lims(phi_arr, v_max= 0, motor = create_motoreduct_model(b=0, a=new_a)[1])"
   ]
  },
  {
   "cell_type": "code",
   "execution_count": null,
   "metadata": {},
   "outputs": [],
   "source": [
    "plt.figure(figsize=[15,12])\n",
    "n_arr = phi_arr * 30 / np.pi \n",
    "plt.plot(n_arr, max_t*100/9.8, label = 'par máximo, modelo completo')\n",
    "plt.plot(n_arr, min_t*100/9.8, label = 'par mínimo, modelo completo')\n",
    "plt.plot(n_arr, max_t_new_m*100/9.8, label = 'par máximo, modificado')\n",
    "plt.plot(n_arr, min_t_new_m*100/9.8, label = 'par mínimo, modificado')\n",
    "plt.plot(n_arr, t_v_med*100/9.8, label = 'par a 12 V, modelo completo')\n",
    "plt.plot(n_arr, t_min_v_med*100/9.8, label = 'par a -12 V, modelo completo')\n",
    "plt.plot(n_arr, t_v_med_new_m*100/9.8, label = 'par a 12 V, modificado')\n",
    "plt.plot(n_arr, t_min_v_med_new_m*100/9.8, label = 'par a -12 V, modificado')\n",
    "plt.plot(n_arr, t_v_0*100/9.8, label = 'par a 0 V, modelo completo')\n",
    "plt.plot(n_arr, t_v_0_new_m*100/9.8, label = 'par a 0 V, modificado')\n",
    "plt.hlines(0, -200, 200, 'k', 'dotted')\n",
    "plt.vlines(0, -300, 300, 'k', 'dotted')\n",
    "plt.grid\n",
    "plt.xlabel('velocidad del motor, RPM')\n",
    "plt.ylabel('par motor, Kg·cm')\n",
    "plt.legend()"
   ]
  },
  {
   "cell_type": "code",
   "execution_count": null,
   "metadata": {},
   "outputs": [],
   "source": [
    "max_t_no_f, min_t_no_f = torq_lims(phi_arr, motor = create_motoreduct_model(b=0, a=0)[1])\n",
    "t_v_med_no_f, t_min_v_med_no_f = torq_lims(phi_arr, v_max= 12, motor = create_motoreduct_model(b=0, a=0)[1])\n",
    "t_v_0_no_f, _ = torq_lims(phi_arr, v_max= 0, motor = create_motoreduct_model(b=0, a=0)[1])"
   ]
  },
  {
   "cell_type": "code",
   "execution_count": null,
   "metadata": {},
   "outputs": [],
   "source": [
    "plt.figure(figsize=[15,12])\n",
    "n_arr = phi_arr * 30 / np.pi \n",
    "plt.plot(n_arr, max_t*100/9.8, label = 'par máximo, modelo completo')\n",
    "plt.plot(n_arr, min_t*100/9.8, label = 'par mínimo, modelo completo')\n",
    "plt.plot(n_arr, max_t_no_f*100/9.8, label = 'par máximo, sin rozamiento')\n",
    "plt.plot(n_arr, min_t_no_f*100/9.8, label = 'par mínimo, sin rozamiento')\n",
    "plt.plot(n_arr, t_v_med*100/9.8, label = 'par a 12 V, modelo completo')\n",
    "plt.plot(n_arr, t_min_v_med*100/9.8, label = 'par a -12 V, modelo completo')\n",
    "plt.plot(n_arr, t_v_med_no_f*100/9.8, label = 'par a 12 V, sin rozamiento')\n",
    "plt.plot(n_arr, t_min_v_med_no_f*100/9.8, label = 'par a -12 V, sin rozamiento')\n",
    "plt.plot(n_arr, t_v_0*100/9.8, label = 'par a 0 V, modelo completo')\n",
    "plt.plot(n_arr, t_v_0_no_f*100/9.8, label = 'par a 0 V, sin rozamiento')\n",
    "plt.hlines(0, -200, 200, 'k', 'dotted')\n",
    "plt.vlines(0, -300, 300, 'k', 'dotted')\n",
    "plt.grid\n",
    "plt.xlabel('velocidad del motor, RPM')\n",
    "plt.ylabel('par motor, Kg·cm')\n",
    "plt.legend()"
   ]
  }
 ],
 "metadata": {
  "kernelspec": {
   "display_name": "Python 3",
   "language": "python",
   "name": "python3"
  },
  "language_info": {
   "codemirror_mode": {
    "name": "ipython",
    "version": 3
   },
   "file_extension": ".py",
   "mimetype": "text/x-python",
   "name": "python",
   "nbconvert_exporter": "python",
   "pygments_lexer": "ipython3",
   "version": "3.7.7"
  }
 },
 "nbformat": 4,
 "nbformat_minor": 2
}
