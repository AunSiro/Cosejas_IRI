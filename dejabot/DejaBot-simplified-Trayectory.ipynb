{
 "cells": [
  {
   "cell_type": "markdown",
   "metadata": {},
   "source": [
    "# Optimizing trayectories of Omnibot"
   ]
  },
  {
   "cell_type": "code",
   "execution_count": null,
   "metadata": {},
   "outputs": [],
   "source": [
    "import numpy as np\n",
    "import matplotlib.pyplot as plt\n",
    "from mpl_toolkits import mplot3d\n",
    "\n",
    "from numpy import logical_and as npand\n",
    "from numpy import logical_or as npor"
   ]
  },
  {
   "cell_type": "code",
   "execution_count": null,
   "metadata": {},
   "outputs": [],
   "source": [
    "from sympy import (symbols, pi, I, E, cos, sin, exp, tan, simplify, expand, factor, collect,\n",
    "                   apart, cancel, expand_trig, diff, Derivative, Function, integrate, limit,\n",
    "                   series, Eq, solve, dsolve, Matrix, N, preorder_traversal, Float, solve_linear_system,\n",
    "                   eye, zeros, lambdify)\n",
    "from sympy.physics.mechanics import dynamicsymbols, init_vprinting"
   ]
  },
  {
   "cell_type": "code",
   "execution_count": null,
   "metadata": {},
   "outputs": [],
   "source": [
    "init_vprinting()"
   ]
  },
  {
   "cell_type": "markdown",
   "metadata": {},
   "source": [
    "### Using the symbolic formulas to generate the numeric model"
   ]
  },
  {
   "cell_type": "code",
   "execution_count": null,
   "metadata": {},
   "outputs": [],
   "source": [
    "def generic_omnibot_mats(n = 4, null_beta = True, equal_r = True):\n",
    "    t, r, d, s = symbols('t r d s')\n",
    "    alpha, beta= dynamicsymbols('alpha beta')\n",
    "    \n",
    "    W = Matrix([\n",
    "        [r, cos(alpha)],\n",
    "        [0, sin(alpha)]\n",
    "    ])\n",
    "    T = Matrix([\n",
    "        [cos(beta), -sin(beta)],\n",
    "        [sin(beta), cos(beta)]\n",
    "    ])\n",
    "    A = Matrix([\n",
    "        [1, 0, -d],\n",
    "        [0, 1, s]\n",
    "    ])\n",
    "    WTA= W.inv()@T.inv()@A\n",
    "    WTA.simplify()\n",
    "    r_n = WTA[0,:]\n",
    "    s_n = WTA[1,:]\n",
    "    \n",
    "    R_list = []\n",
    "    S_list = []\n",
    "    \n",
    "    for ii in range(n):\n",
    "        r_ii = r_n.subs(alpha, symbols('alpha_'+str(ii+1)))\n",
    "        r_ii = r_ii.subs(d, symbols('d_'+str(ii+1)))\n",
    "        r_ii = r_ii.subs(s, symbols('s_'+str(ii+1)))\n",
    "        s_ii = s_n.subs(alpha, symbols('alpha_'+str(ii+1)))\n",
    "        s_ii = s_ii.subs(d, symbols('d_'+str(ii+1)))\n",
    "        s_ii = s_ii.subs(s, symbols('s_'+str(ii+1)))\n",
    "        if not equal_r:\n",
    "            r_ii = r_ii.subs(r, symbols('r_'+str(ii+1)))\n",
    "            s_ii = s_ii.subs(r, symbols('r_'+str(ii+1)))\n",
    "        if null_beta:\n",
    "            r_ii = r_ii.subs(beta, 0)\n",
    "            s_ii = s_ii.subs(beta, 0)\n",
    "        else:\n",
    "            r_ii = r_ii.subs(beta, symbols('beta_'+str(ii+1)))\n",
    "            s_ii = s_ii.subs(beta, symbols('beta_'+str(ii+1)))\n",
    "            \n",
    "        S_list.append(s_ii)\n",
    "        R_list.append(r_ii)\n",
    "    \n",
    "    R = Matrix(R_list)\n",
    "    S = Matrix(S_list)\n",
    "    return R, S"
   ]
  },
  {
   "cell_type": "code",
   "execution_count": null,
   "metadata": {},
   "outputs": [],
   "source": [
    "def integerize(expr):\n",
    "    expr2 = expr\n",
    "    for a in preorder_traversal(expr):\n",
    "        if isinstance(a, Float):\n",
    "            expr2 = expr2.subs(a, round(a))\n",
    "    return expr2\n",
    "\n",
    "def roundize(expr,n = 4):\n",
    "    expr2 = expr\n",
    "    for a in preorder_traversal(expr):\n",
    "        if isinstance(a, Float):\n",
    "            expr2 = expr2.subs(a, round(a,n))\n",
    "    return expr2"
   ]
  },
  {
   "cell_type": "code",
   "execution_count": null,
   "metadata": {},
   "outputs": [],
   "source": [
    "def dejabot_mats():\n",
    "    R, S = generic_omnibot_mats()\n",
    "    L, l = symbols('L l')\n",
    "    for ii in range(4):\n",
    "        alpha = pi/4 * (1 - 2 * ((int((ii+1)/2))%2))\n",
    "        s = L * (1 - 2 * ((int((ii)/2))%2))\n",
    "        d = l * (1 - 2 * (ii%2))\n",
    "        R[ii,:] = R[ii,:].subs(symbols('alpha_'+str(ii+1)), alpha)\n",
    "        R[ii,:] = R[ii,:].subs(symbols('s_'+str(ii+1)), s)\n",
    "        R[ii,:] = R[ii,:].subs(symbols('d_'+str(ii+1)), d)\n",
    "        S[ii,:] = S[ii,:].subs(symbols('alpha_'+str(ii+1)), alpha)\n",
    "        S[ii,:] = S[ii,:].subs(symbols('s_'+str(ii+1)), s)\n",
    "        S[ii,:] = S[ii,:].subs(symbols('d_'+str(ii+1)), d)\n",
    "    return integerize(R), integerize(S)"
   ]
  },
  {
   "cell_type": "code",
   "execution_count": null,
   "metadata": {},
   "outputs": [],
   "source": [
    "t, r, d, s, m, I_z, I_w, l, L = symbols('t r d s m I_z I_w l L')\n",
    "x, y, alpha, beta, sigma, psi, theta= dynamicsymbols('x y alpha beta sigma psi theta')\n",
    "psi_dot = psi.diff()\n",
    "x, y, alpha, beta, sigma, psi, psi_dot, theta, t, r, d, s, m, I_z, I_w, l, L"
   ]
  },
  {
   "cell_type": "code",
   "execution_count": null,
   "metadata": {},
   "outputs": [],
   "source": [
    "q = [x, y, psi] + [dynamicsymbols(f'phi_{i+1}') for i in range(4)]\n",
    "q_r = Matrix([x, y, psi])\n",
    "q = Matrix(q)\n",
    "Gamma = [dynamicsymbols(f'tau_{i+1}') for i in range(4)]\n",
    "Gamma = Matrix(Gamma)\n",
    "\n",
    "q, Gamma"
   ]
  },
  {
   "cell_type": "code",
   "execution_count": null,
   "metadata": {},
   "outputs": [],
   "source": [
    "M_w = eye(4)*I_w\n",
    "M_r = Matrix([\n",
    "    [m, 0, 0],\n",
    "    [0, m, 0],\n",
    "    [0, 0, I_z]\n",
    "])\n",
    "R_psi = Matrix([\n",
    "    [cos(psi), -sin(psi), 0],\n",
    "    [sin(psi), cos(psi), 0],\n",
    "    [0, 0, 1]\n",
    "])\n",
    "R, S = dejabot_mats()\n",
    "\n",
    "M_r, M_w, R_psi, R"
   ]
  },
  {
   "cell_type": "code",
   "execution_count": null,
   "metadata": {},
   "outputs": [],
   "source": [
    "H = M_r + R_psi@R.T@M_w@R@R_psi.T\n",
    "H = simplify(H)\n",
    "K = R_psi@R.T@M_w@R@R_psi.diff().T\n",
    "K = simplify(K)\n",
    "F_a = R_psi@R.T@Gamma\n",
    "F_a_0 = F_a[0].factor(sin(psi), cos(psi))\n",
    "F_a_1 = F_a[1].factor(sin(psi), cos(psi))\n",
    "F_a_2 = F_a[2].factor()\n",
    "F_a = Matrix([F_a_0, F_a_1, F_a_2])\n",
    "A = R_psi@R.T\n",
    "H_inv = simplify(H.inv())\n",
    "H, K, F_a, A"
   ]
  },
  {
   "cell_type": "code",
   "execution_count": null,
   "metadata": {},
   "outputs": [],
   "source": [
    "get_h_raw = lambdify([m, I_w, I_z, l, L, r], H)\n",
    "get_k_raw = lambdify([I_w, r, psi_dot], K)\n",
    "get_a_raw = lambdify([psi, l, L, r], A)\n",
    "get_h_inv_raw = lambdify([m, I_w, I_z, l, L, r], H_inv)"
   ]
  },
  {
   "cell_type": "markdown",
   "metadata": {},
   "source": [
    "## Electric Motor Model\n",
    "\n",
    "$$ V = K_m \\dot{\\phi} + Ri$$\n",
    "$$ \\tau_m = K_ei - \\tau_r$$"
   ]
  },
  {
   "cell_type": "code",
   "execution_count": null,
   "metadata": {},
   "outputs": [],
   "source": [
    "def friction(a, b, phi_dot, V, eps_phi = 0.01):\n",
    "    fric_wet = a * phi_dot\n",
    "    fric_dry = np.where(npor(\n",
    "        phi_dot>eps_phi,\n",
    "        npand(\n",
    "            np.abs(phi_dot)<=eps_phi,\n",
    "            V > 0)\n",
    "    ),b, 0)\n",
    "    fric_dry = np.where(npor(\n",
    "        phi_dot< -eps_phi,\n",
    "        npand(\n",
    "            np.abs(phi_dot)<=eps_phi,\n",
    "            V < 0)\n",
    "    ),-b, fric_dry)\n",
    "    return fric_wet + fric_dry"
   ]
  },
  {
   "cell_type": "code",
   "execution_count": null,
   "metadata": {},
   "outputs": [],
   "source": [
    "def create_motor_model(i_7000 = 0.5):\n",
    "    V = 24\n",
    "    R = 24/13\n",
    "    K_m = (V - R*i_7000)/(2 * np.pi*7000/60)\n",
    "    t_rat = 4300*9.8/(100*1000)    #570*9.8/(100*1000)\n",
    "    phi_rat = 0                    #5900*np.pi*2/60\n",
    "    i_rat = (V - K_m*phi_rat)/R\n",
    "    K_e = t_rat/(i_rat-i_7000)\n",
    "    t_r = -t_rat + K_e * i_rat\n",
    "    print(f'K_m = {K_m}, K_e = {K_e}, R = {R}, i_rat = {i_rat}, t_r = {t_r}')\n",
    "    def motor_model(phi_dot, V = 24):\n",
    "        i = (V - K_m*phi_dot)/R\n",
    "        t = K_e * i - friction(0,t_r, phi_dot, V)\n",
    "        p = t * phi_dot\n",
    "        ef = p / (i * V)\n",
    "        return t, i, p, ef\n",
    "    def simp_motor_model(phi_dot, V = 24):\n",
    "        i = (V - K_m*phi_dot)/R\n",
    "        t = K_e * i - friction(0,t_r, phi_dot, V)\n",
    "        return t\n",
    "    return motor_model, simp_motor_model"
   ]
  },
  {
   "cell_type": "code",
   "execution_count": null,
   "metadata": {
    "scrolled": false
   },
   "outputs": [],
   "source": [
    "x = np.linspace(0, 2 * np.pi * 7000/60, 300)\n",
    "n = x * 30 / np.pi\n",
    "motor_model = create_motor_model(0.5)[0]\n",
    "t, i, p, ef = motor_model(x)\n",
    "t = t *100000/9.8\n",
    "\n",
    "fig, ax1 = plt.subplots()\n",
    "\n",
    "ax1.plot(t,n)\n",
    "ax1.set_ylim([0,7000])\n",
    "ax1.set_xlim([0,4400])\n",
    "\n",
    "ax2 = ax1.twinx()\n",
    "ax2.plot(t,i)\n",
    "ax2.set_ylim([0,13])\n",
    "\n",
    "ax3 = ax1.twinx()\n",
    "ax3.plot(t,p)\n",
    "ax3.spines[\"right\"].set_position((\"axes\", 1.1))\n",
    "ax3.set_ylim([0,80])\n",
    "\n",
    "ax4 = ax1.twinx()\n",
    "ax4.plot(t,ef)\n",
    "ax4.spines[\"right\"].set_position((\"axes\", 1.2))\n",
    "ax4.set_ylim([0,1])\n",
    "plt.grid()\n",
    "plt.title('Motor Curves')\n",
    "\n",
    "plt.grid(True)"
   ]
  },
  {
   "cell_type": "markdown",
   "metadata": {},
   "source": [
    "### Comparison with manufacturer original motor curves:\n",
    "![Original curves](images_dejabot/curvas_motor.png)"
   ]
  },
  {
   "cell_type": "markdown",
   "metadata": {},
   "source": [
    "Expanded curves outside normal regime:"
   ]
  },
  {
   "cell_type": "code",
   "execution_count": null,
   "metadata": {
    "scrolled": false
   },
   "outputs": [],
   "source": [
    "x = np.linspace(-2 * np.pi * 7000/60, 4 * np.pi * 7000/60, 300)\n",
    "n = x * 30 / np.pi\n",
    "motor_model = create_motor_model(0.5)[0]\n",
    "t, i, p, ef = motor_model(x)\n",
    "t = t *100000/9.8\n",
    "\n",
    "fig, ax1 = plt.subplots()\n",
    "\n",
    "ax1.plot(t,n, 'r')\n",
    "ax1.set_ylim([-14000,14000])\n",
    "ax1.set_xlim([-4400,8800])\n",
    "\n",
    "ax2 = ax1.twinx()\n",
    "ax2.plot(t,i)\n",
    "ax2.set_ylim([-26,26])\n",
    "\n",
    "ax3 = ax1.twinx()\n",
    "ax3.plot(t,p)\n",
    "ax3.spines[\"right\"].set_position((\"axes\", 1.1))\n",
    "ax3.set_ylim([-80,80])\n",
    "\n",
    "ax4 = ax1.twinx()\n",
    "ax4.plot(t,ef, 'g')\n",
    "ax4.spines[\"right\"].set_position((\"axes\", 1.2))\n",
    "ax4.set_ylim([-2,2])\n",
    "plt.grid()\n",
    "\n",
    "plt.grid(True)"
   ]
  },
  {
   "cell_type": "markdown",
   "metadata": {},
   "source": [
    "Adapted Curves with reductor gears:"
   ]
  },
  {
   "cell_type": "code",
   "execution_count": null,
   "metadata": {},
   "outputs": [],
   "source": [
    "def create_motoreduct_model(i_7000 = 0.5, N = 49, eff = 0.6, a = 0.01, b = 0.4):\n",
    "    V = 24\n",
    "    R = 24/13\n",
    "    K_m = (V - R*i_7000)/(2 * np.pi*7000/60)\n",
    "    t_rat = 4300*9.8/(100*1000)    #570*9.8/(100*1000)\n",
    "    phi_rat = 0                    #5900*np.pi*2/60\n",
    "    i_rat = (V - K_m*phi_rat)/R\n",
    "    K_e = t_rat/(i_rat-i_7000)\n",
    "    \n",
    "    print(f'K_m = {K_m}, K_e = {K_e}, R = {R}, i_rat = {i_rat}')\n",
    "    eps_phi = 0.1\n",
    "    \n",
    "    def motoreduct_model(phi_dot, V = 24):\n",
    "        phi_dot_motor = phi_dot * N\n",
    "        i = (V - K_m*phi_dot_motor)/R\n",
    "        t = K_e * i * N * eff - friction(a, b, phi_dot, V, eps_phi)\n",
    "        p = t * phi_dot\n",
    "        ef = p / (i * V)\n",
    "        return t, i, p, ef\n",
    "    def simp_motoreduct_model(phi_dot, V = 24):\n",
    "        phi_dot_motor = phi_dot * N\n",
    "        i = (V - K_m*phi_dot_motor)/R\n",
    "        t = K_e * i * N * eff - friction(a, b, phi_dot, V, eps_phi)\n",
    "        return t\n",
    "    return motoreduct_model, simp_motoreduct_model"
   ]
  },
  {
   "cell_type": "code",
   "execution_count": null,
   "metadata": {
    "scrolled": false
   },
   "outputs": [],
   "source": [
    "x = np.linspace(0, 2 * np.pi * 7000/(49*60), 300)\n",
    "n = x * 30 / np.pi\n",
    "motor_model = create_motoreduct_model(0.5)[0]\n",
    "t, i, p, ef = motor_model(x)\n",
    "t = t *100000/9.8\n",
    "\n",
    "fig, ax1 = plt.subplots()\n",
    "\n",
    "ax1.plot(t,n)\n",
    "ax1.set_ylim([0,150])\n",
    "ax1.set_xlim([0,130000])\n",
    "\n",
    "ax2 = ax1.twinx()\n",
    "ax2.plot(t,i)\n",
    "ax2.set_ylim([0,13])\n",
    "\n",
    "ax3 = ax1.twinx()\n",
    "ax3.plot(t,p)\n",
    "ax3.spines[\"right\"].set_position((\"axes\", 1.1))\n",
    "ax3.set_ylim([0,80])\n",
    "\n",
    "ax4 = ax1.twinx()\n",
    "ax4.plot(t,ef)\n",
    "ax4.spines[\"right\"].set_position((\"axes\", 1.2))\n",
    "ax4.set_ylim([0,1])\n",
    "#plt.grid()\n",
    "\n",
    "ax5 = ax1.twinx()\n",
    "ax5.spines[\"right\"].set_position((\"axes\", -0.2))\n",
    "ax5.set_ylim([0, x[-1]*0.0667])\n",
    "\n",
    "plt.grid(True)"
   ]
  },
  {
   "cell_type": "code",
   "execution_count": null,
   "metadata": {},
   "outputs": [],
   "source": [
    "def torq_lims(phi_dot, v_max = 24, motor = create_motoreduct_model()[1]):\n",
    "    t_max = motor(phi_dot, v_max)\n",
    "    t_min = motor(phi_dot, -v_max)\n",
    "    \n",
    "    return t_max, t_min"
   ]
  },
  {
   "cell_type": "code",
   "execution_count": null,
   "metadata": {},
   "outputs": [],
   "source": [
    "def vect_torq_lims(geom, q, q_dot):\n",
    "    a = get_a(geom, q)\n",
    "    phi_dot = a.T@q_dot\n",
    "    #print(f'phi_dot: {np.round(phi_dot,3)}')\n",
    "    t_max = []\n",
    "    t_min = []\n",
    "    for wheel in phi_dot:\n",
    "        maxt, mint = torq_lims(wheel)\n",
    "        t_max.append(maxt)\n",
    "        t_min.append(mint)\n",
    "    t_max = np.array(t_max)\n",
    "    t_min = np.array(t_min)\n",
    "    \n",
    "    return (t_max, t_min)"
   ]
  },
  {
   "cell_type": "markdown",
   "metadata": {},
   "source": [
    "### Simplified expression linking maximum and mínimum torque as function of speed"
   ]
  },
  {
   "cell_type": "code",
   "execution_count": null,
   "metadata": {},
   "outputs": [],
   "source": [
    "plt.plot(x,t)"
   ]
  },
  {
   "cell_type": "code",
   "execution_count": null,
   "metadata": {},
   "outputs": [],
   "source": [
    "phi_arr = np.linspace(-20, 20, 500)\n",
    "max_t, min_t = torq_lims(phi_arr)\n",
    "t_v_med, t_min_v_med = torq_lims(phi_arr, v_max= 12)\n",
    "t_v_0, _ = torq_lims(phi_arr, v_max= 0)\n",
    "max_t_nodry, min_t_nodry = torq_lims(phi_arr, motor = create_motoreduct_model(b=0)[1])\n",
    "t_v_med_nodry, t_min_v_med_nodry = torq_lims(phi_arr, v_max= 12, motor = create_motoreduct_model(b=0)[1])\n",
    "t_v_0_nodry, _ = torq_lims(phi_arr, v_max= 0, motor = create_motoreduct_model(b=0)[1])"
   ]
  },
  {
   "cell_type": "code",
   "execution_count": null,
   "metadata": {},
   "outputs": [],
   "source": [
    "plt.rcParams.update({'font.size': 15})"
   ]
  },
  {
   "cell_type": "code",
   "execution_count": null,
   "metadata": {},
   "outputs": [],
   "source": [
    "plt.figure(figsize=[15,12])\n",
    "n_arr = phi_arr * 30 / np.pi \n",
    "plt.plot(n_arr, max_t*100/9.8, label = 'par máximo, modelo completo')\n",
    "plt.plot(n_arr, min_t*100/9.8, label = 'par mínimo, modelo completo')\n",
    "plt.plot(n_arr, max_t_nodry*100/9.8, label = 'par máximo, sin fricción seca')\n",
    "plt.plot(n_arr, min_t_nodry*100/9.8, label = 'par mínimo, sin fricción seca')\n",
    "plt.plot(n_arr, t_v_med*100/9.8, label = 'par a 12 V, modelo completo')\n",
    "plt.plot(n_arr, t_min_v_med*100/9.8, label = 'par a -12 V, modelo completo')\n",
    "plt.plot(n_arr, t_v_med_nodry*100/9.8, label = 'par a 12 V, sin fricción seca')\n",
    "plt.plot(n_arr, t_min_v_med_nodry*100/9.8, label = 'par a -12 V, sin fricción seca')\n",
    "plt.plot(n_arr, t_v_0*100/9.8, label = 'par a 0 V, modelo completo')\n",
    "plt.plot(n_arr, t_v_0_nodry*100/9.8, label = 'par a 0 V, sin fricción seca')\n",
    "plt.hlines(0, -200, 200, 'k', 'dotted')\n",
    "plt.vlines(0, -300, 300, 'k', 'dotted')\n",
    "plt.grid\n",
    "plt.xlabel('velocidad del motor, RPM')\n",
    "plt.ylabel('par motor, Kg·cm')\n",
    "plt.legend()"
   ]
  },
  {
   "cell_type": "code",
   "execution_count": null,
   "metadata": {},
   "outputs": [],
   "source": [
    "def cutpoint(x1, x2, y1, y2):\n",
    "    a = (y1-y2)/(x1-x2)\n",
    "    b = y1 - a * x1\n",
    "    return -b/a"
   ]
  },
  {
   "cell_type": "code",
   "execution_count": null,
   "metadata": {},
   "outputs": [],
   "source": [
    "cut1 = cutpoint(phi_arr[260], phi_arr[499], max_t[260], max_t[499])\n",
    "cut2 = cutpoint(phi_arr[260], phi_arr[499], max_t_nodry[260], max_t_nodry[499])\n",
    "corr_factor = cut2/cut1\n",
    "corr_factor"
   ]
  },
  {
   "cell_type": "code",
   "execution_count": null,
   "metadata": {},
   "outputs": [],
   "source": [
    "new_a = 0.4/cut1 + 0.01\n",
    "new_a"
   ]
  },
  {
   "cell_type": "code",
   "execution_count": null,
   "metadata": {},
   "outputs": [],
   "source": [
    "friction(0.01, 0.4, cut1, 24)"
   ]
  },
  {
   "cell_type": "code",
   "execution_count": null,
   "metadata": {},
   "outputs": [],
   "source": [
    "friction(new_a , 0.0, cut1, 24)"
   ]
  },
  {
   "cell_type": "markdown",
   "metadata": {},
   "source": [
    "new_a = (corr_factor -1)* 0.0314812 / 1.846154 + corr_factor* 0.01\n",
    "new_a"
   ]
  },
  {
   "cell_type": "code",
   "execution_count": null,
   "metadata": {},
   "outputs": [],
   "source": [
    "max_t_new_m, min_t_new_m = torq_lims(phi_arr, motor = create_motoreduct_model(b=0, a=new_a)[1])\n",
    "t_v_med_new_m, t_min_v_med_new_m = torq_lims(phi_arr, v_max= 12, motor = create_motoreduct_model(b=0, a=new_a)[1])\n",
    "t_v_0_new_m, _ = torq_lims(phi_arr, v_max= 0, motor = create_motoreduct_model(b=0, a=new_a)[1])"
   ]
  },
  {
   "cell_type": "code",
   "execution_count": null,
   "metadata": {},
   "outputs": [],
   "source": [
    "plt.figure(figsize=[15,12])\n",
    "n_arr = phi_arr * 30 / np.pi \n",
    "plt.plot(n_arr, max_t*100/9.8, label = 'par máximo, modelo completo')\n",
    "plt.plot(n_arr, min_t*100/9.8, label = 'par mínimo, modelo completo')\n",
    "plt.plot(n_arr, max_t_new_m*100/9.8, label = 'par máximo, modificado')\n",
    "plt.plot(n_arr, min_t_new_m*100/9.8, label = 'par mínimo, modificado')\n",
    "plt.plot(n_arr, t_v_med*100/9.8, label = 'par a 12 V, modelo completo')\n",
    "plt.plot(n_arr, t_min_v_med*100/9.8, label = 'par a -12 V, modelo completo')\n",
    "plt.plot(n_arr, t_v_med_new_m*100/9.8, label = 'par a 12 V, modificado')\n",
    "plt.plot(n_arr, t_min_v_med_new_m*100/9.8, label = 'par a -12 V, modificado')\n",
    "plt.plot(n_arr, t_v_0*100/9.8, label = 'par a 0 V, modelo completo')\n",
    "plt.plot(n_arr, t_v_0_new_m*100/9.8, label = 'par a 0 V, modificado')\n",
    "plt.hlines(0, -200, 200, 'k', 'dotted')\n",
    "plt.vlines(0, -300, 300, 'k', 'dotted')\n",
    "plt.grid\n",
    "plt.xlabel('velocidad del motor, RPM')\n",
    "plt.ylabel('par motor, Kg·cm')\n",
    "plt.legend()"
   ]
  },
  {
   "cell_type": "code",
   "execution_count": null,
   "metadata": {},
   "outputs": [],
   "source": [
    "max_t_no_f, min_t_no_f = torq_lims(phi_arr, motor = create_motoreduct_model(b=0, a=0)[1])\n",
    "t_v_med_no_f, t_min_v_med_no_f = torq_lims(phi_arr, v_max= 12, motor = create_motoreduct_model(b=0, a=0)[1])\n",
    "t_v_0_no_f, _ = torq_lims(phi_arr, v_max= 0, motor = create_motoreduct_model(b=0, a=0)[1])"
   ]
  },
  {
   "cell_type": "code",
   "execution_count": null,
   "metadata": {},
   "outputs": [],
   "source": [
    "plt.figure(figsize=[15,12])\n",
    "n_arr = phi_arr * 30 / np.pi \n",
    "plt.plot(n_arr, max_t*100/9.8, label = 'par máximo, modelo completo')\n",
    "plt.plot(n_arr, min_t*100/9.8, label = 'par mínimo, modelo completo')\n",
    "plt.plot(n_arr, max_t_no_f*100/9.8, label = 'par máximo, sin rozamiento')\n",
    "plt.plot(n_arr, min_t_no_f*100/9.8, label = 'par mínimo, sin rozamiento')\n",
    "plt.plot(n_arr, t_v_med*100/9.8, label = 'par a 12 V, modelo completo')\n",
    "plt.plot(n_arr, t_min_v_med*100/9.8, label = 'par a -12 V, modelo completo')\n",
    "plt.plot(n_arr, t_v_med_no_f*100/9.8, label = 'par a 12 V, sin rozamiento')\n",
    "plt.plot(n_arr, t_min_v_med_no_f*100/9.8, label = 'par a -12 V, sin rozamiento')\n",
    "plt.plot(n_arr, t_v_0*100/9.8, label = 'par a 0 V, modelo completo')\n",
    "plt.plot(n_arr, t_v_0_no_f*100/9.8, label = 'par a 0 V, sin rozamiento')\n",
    "plt.hlines(0, -200, 200, 'k', 'dotted')\n",
    "plt.vlines(0, -300, 300, 'k', 'dotted')\n",
    "plt.grid\n",
    "plt.xlabel('velocidad del motor, RPM')\n",
    "plt.ylabel('par motor, Kg·cm')\n",
    "plt.legend()"
   ]
  },
  {
   "cell_type": "code",
   "execution_count": null,
   "metadata": {},
   "outputs": [],
   "source": [
    "R, R_psi"
   ]
  },
  {
   "cell_type": "code",
   "execution_count": null,
   "metadata": {},
   "outputs": [],
   "source": [
    "phy_sim = dynamicsymbols('varphi')\n",
    "phy_sim.diff()"
   ]
  },
  {
   "cell_type": "code",
   "execution_count": null,
   "metadata": {},
   "outputs": [],
   "source": [
    "cm2 = symbols('C_{m2}')\n",
    "cm2"
   ]
  },
  {
   "cell_type": "code",
   "execution_count": null,
   "metadata": {},
   "outputs": [],
   "source": [
    "AAA = R_psi @ R.T @ R @ R_psi.T\n",
    "simplify(AAA@q_r)"
   ]
  },
  {
   "cell_type": "code",
   "execution_count": null,
   "metadata": {},
   "outputs": [],
   "source": [
    "simplify(R.T@R @ q_r)"
   ]
  },
  {
   "cell_type": "markdown",
   "metadata": {},
   "source": [
    "## Parameter encoding in functions:\n",
    "$$Geom = [l, L, r]$$\n",
    "$$Mass = [m, I_w,I_z]$$\n",
    "$$q = [x, y, \\psi]$$ where q is $q_r$"
   ]
  },
  {
   "cell_type": "code",
   "execution_count": null,
   "metadata": {},
   "outputs": [],
   "source": [
    "def get_h(geom, mass):\n",
    "    l, L, r = geom\n",
    "    m, I_w, I_z = mass\n",
    "    return get_h_raw(m, I_w, I_z, l, L, r)\n",
    "\n",
    "def get_k(geom, mass, q_dot):\n",
    "    l, L, r = geom\n",
    "    m, I_w, I_z = mass\n",
    "    x_dot, y_dot, psi_dot = q_dot\n",
    "    return get_k_raw(I_w, r, psi_dot)\n",
    "\n",
    "def get_a(geom, q):\n",
    "    l, L, r = geom\n",
    "    x, y, psi = q\n",
    "    return get_a_raw(psi, l, L, r)\n",
    "\n",
    "def get_h_inv(geom, mass):\n",
    "    l, L, r = geom\n",
    "    m, I_w, I_z = mass\n",
    "    return get_h_inv_raw(m, I_w, I_z, l, L, r)\n"
   ]
  },
  {
   "cell_type": "code",
   "execution_count": null,
   "metadata": {
    "scrolled": true
   },
   "outputs": [],
   "source": [
    "geom = [0.2096, 0.2096, 0.0667]\n",
    "mass = [15.75, 0.00266, 0.461]\n",
    "q_0 = np.array([0, 0, 0])\n",
    "q_dot_0 = np.array([0, 0, 0])\n",
    "vect_torq_lims(geom, q_0, q_dot_0+[0.9,0,0])"
   ]
  },
  {
   "cell_type": "markdown",
   "metadata": {},
   "source": [
    "## Bot class creation"
   ]
  },
  {
   "cell_type": "code",
   "execution_count": null,
   "metadata": {},
   "outputs": [],
   "source": [
    "class Bot:\n",
    "    def __init__(self, geom, mass, q_init, q_dot_init, u_func):\n",
    "        self.geom = geom\n",
    "        self.mass = mass\n",
    "        self.q = q_init\n",
    "        self.q_dot = q_dot_init\n",
    "        self.get_u = u_func\n",
    "        self.t = 0\n",
    "        self.H = get_h(geom, mass)\n",
    "        self.H_inv = get_h_inv(geom, mass)\n",
    "        \n",
    "    def get_a(self):\n",
    "        return get_a(self.geom, self.q)\n",
    "    \n",
    "    def get_k(self):\n",
    "        return get_k(self.geom, self.mass, self.q_dot)\n",
    "    \n",
    "    def vect_torq_lims(self):\n",
    "        return vect_torq_lims(self.geom, self.q, self.q_dot)\n",
    "    \n",
    "    def max_q_sec_dir(self, alpha, beta, print_status = False):\n",
    "        t_max, t_min = self.vect_torq_lims()\n",
    "        A = self.get_a()\n",
    "        B = np.linalg.pinv(A)\n",
    "        q_sec = np.array([np.cos(alpha)*np.cos(beta), np.sin(alpha)*np.cos(beta),np.sin(beta)])\n",
    "        v_1 = B@self.H@q_sec\n",
    "        v_2 = B@self.get_k()@self.q_dot\n",
    "        a_max = []\n",
    "        for ii in range(4):\n",
    "            a_1 = (t_max[ii]-v_2[ii])/v_1[ii]\n",
    "            a_2 = (t_min[ii]-v_2[ii])/v_1[ii]\n",
    "            a_max.append(max(a_1, a_2))\n",
    "        if print_status:\n",
    "            print(f'alpha = {np.round(alpha,3)}, \\n\\tv1 = {np.round(v_1,3)} \\n\\ta_max = {np.round(a_max,3)}')\n",
    "        return min(a_max)\n",
    "        \n",
    "    \n",
    "    def q_sec_lims(self):\n",
    "        torq_lims = self.vect_torq_lims()\n",
    "        q_sec_max = self.H_inv@(self.get_a()@torq_lims[0]-self.get_k()@self.q_dot)\n",
    "        q_sec_min = self.H_inv@(self.get_a()@torq_lims[1]-self.get_k()@self.q_dot)\n",
    "        return q_sec_max, q_sec_min\n",
    "    \n",
    "    def step(self, d_t, envir = None):\n",
    "        u = self.get_u(self, d_t, envir)\n",
    "        self.q = self.q + d_t * self.q_dot + 0.5 * u * d_t**2\n",
    "        self.q_dot = self.q_dot + d_t * u\n",
    "        self.t = self.t + d_t"
   ]
  },
  {
   "cell_type": "code",
   "execution_count": null,
   "metadata": {},
   "outputs": [],
   "source": [
    "geom = [0.2096, 0.2096, 0.0667]\n",
    "mass = [15.75, 0.00266, 0.461]\n",
    "q_0 = np.array([0, 0, 0])\n",
    "q_dot_0 = np.array([0, 0, 0])\n",
    "def dummy_u(bot, dt, envir):\n",
    "    if envir:\n",
    "        return(np.array(envir))\n",
    "    #print(f't = {round(t,3)}, q = {q}, q_dot = {q_dot}')\n",
    "    return(np.array([0,1,0]))\n",
    "dejabot = Bot(geom, mass, q_0, q_dot_0, dummy_u)"
   ]
  },
  {
   "cell_type": "markdown",
   "metadata": {},
   "source": [
    "## Bot class characteristics and capacities"
   ]
  },
  {
   "cell_type": "code",
   "execution_count": null,
   "metadata": {},
   "outputs": [],
   "source": [
    "#dejabot.step(0.1)\n",
    "print(f'q_dot: {dejabot.q_dot}\\nq: {dejabot.q}')\n",
    "x = np.linspace(0,1*2*np.pi, 401)\n",
    "y = []\n",
    "for ii in x:\n",
    "    y.append(dejabot.max_q_sec_dir(ii, 0, False)/41.3)\n",
    "y = np.array(y)\n",
    "psi = dejabot.q[2]\n",
    "w,h = plt.figaspect(1)\n",
    "plt.figure(figsize = [w,h])\n",
    "plt.plot(y*np.cos(x), y*np.sin(x), 'r')\n",
    "plt.plot(y*np.cos(x-psi), y*np.sin(x-psi), 'b:')\n",
    "plt.grid()"
   ]
  },
  {
   "cell_type": "code",
   "execution_count": null,
   "metadata": {},
   "outputs": [],
   "source": [
    "%matplotlib notebook"
   ]
  },
  {
   "cell_type": "code",
   "execution_count": null,
   "metadata": {},
   "outputs": [],
   "source": [
    "fig = plt.figure()\n",
    "ax = plt.axes(projection=\"3d\")\n",
    "\n",
    "alpha = np.linspace(0,2*np.pi, 50)\n",
    "beta = np.linspace(-np.pi,np.pi, 50)\n",
    "dist = []\n",
    "for aa in alpha:\n",
    "    for bb in beta:\n",
    "        dist.append([dejabot.max_q_sec_dir(aa, bb, False), aa,bb])\n",
    "dist = np.array(dist)\n",
    "\n",
    "z_points = dist[:,0] * np.sin(dist[:,2])\n",
    "x_points = dist[:,0] * np.cos(dist[:,1]) * np.cos(dist[:,2])\n",
    "y_points = dist[:,0] * np.sin(dist[:,1]) * np.cos(dist[:,2])\n",
    "ax.scatter3D(x_points, y_points, z_points, s = 10);\n"
   ]
  },
  {
   "cell_type": "code",
   "execution_count": null,
   "metadata": {},
   "outputs": [],
   "source": [
    "%matplotlib inline"
   ]
  },
  {
   "cell_type": "code",
   "execution_count": null,
   "metadata": {},
   "outputs": [],
   "source": [
    "for dt in [0.01, 0.02, 0.03, 0.04, 0.05]:\n",
    "    dejabot = Bot(geom, mass, q_0, q_dot_0, dummy_u)\n",
    "    q_acum = [dejabot.q_dot[0],]\n",
    "    for i in np.arange(0, 0.5+dt, dt):\n",
    "        F = dejabot.max_q_sec_dir(np.pi/2, 0, False)\n",
    "        dejabot.step(dt,[F,0,0])\n",
    "        q_acum.append(dejabot.q_dot[0])\n",
    "    q_acum = np.array(q_acum)\n",
    "    plt.plot(np.arange(0, 0.5+ 2 *dt, dt), q_acum, label = 'dt = '+str(dt))\n",
    "    #print(f'F: {F}\\nq_dot: {dejabot.q_dot}\\nq: {dejabot.q}')\n",
    "plt.legend()\n",
    "plt.grid()"
   ]
  },
  {
   "cell_type": "code",
   "execution_count": null,
   "metadata": {},
   "outputs": [],
   "source": [
    "def calc_alpha(q, goal):\n",
    "    if abs(goal[0]-q[0])==0:\n",
    "        alpha = np.pi/2\n",
    "    else:\n",
    "        alpha = np.arctan((goal[1]-q[1])/(goal[0]-q[0]))\n",
    "    if (goal[0]-q[0]) < 0:\n",
    "        alpha = alpha + np.pi\n",
    "    return alpha"
   ]
  },
  {
   "cell_type": "markdown",
   "metadata": {},
   "source": [
    "## Gradient Descent approach"
   ]
  },
  {
   "cell_type": "code",
   "execution_count": null,
   "metadata": {},
   "outputs": [],
   "source": [
    "goal = [0,1,0]\n",
    "obstacles = []\n",
    "envir = [goal, obstacles]\n",
    "def simple_grad_desc(bot, dt, envir):\n",
    "    q = bot.q\n",
    "    goal, obstacles = envir\n",
    "    alpha = calc_alpha(q, goal)\n",
    "    a = bot.max_q_sec_dir(alpha, 0, False)\n",
    "    u = [a*np.cos(alpha), a*np.sin(alpha),0]\n",
    "    \n",
    "    #print(f'alpha = {round(alpha,3)}, goal-q = {np.round(np.array(goal)-q,4)}, u = {np.round(u,4)}')\n",
    "    \n",
    "    return(np.array(u))"
   ]
  },
  {
   "cell_type": "code",
   "execution_count": null,
   "metadata": {},
   "outputs": [],
   "source": [
    "goal = [-1,0,0]\n",
    "obstacles = []\n",
    "envir = [goal, obstacles]\n",
    "dt = 0.01\n",
    "n = 450\n",
    "dejabot = Bot(geom, mass, q_0, q_dot_0, simple_grad_desc)\n",
    "x_acum = [dejabot.q[0],]\n",
    "x_dot_acum = [dejabot.q[0],]\n",
    "y_acum = [dejabot.q[1],]\n",
    "u_hist = [dejabot.get_u(dejabot, dt, envir)]\n",
    "alpha_hist = [calc_alpha(dejabot.q, goal)]\n",
    "for i in range(n):\n",
    "    dejabot.step(dt,envir)\n",
    "    x_acum.append(dejabot.q[0])\n",
    "    y_acum.append(dejabot.q[1])\n",
    "    x_dot_acum.append(dejabot.q_dot[0])\n",
    "    u_hist.append(dejabot.get_u(dejabot, dt, envir))\n",
    "    alpha_hist.append(calc_alpha(dejabot.q, goal))\n",
    "x_acum = np.array(x_acum)\n",
    "y_acum = np.array(y_acum)\n",
    "x_dot_acum = np.array(x_dot_acum)\n",
    "u_hist = np.array(u_hist)\n",
    "alpha_hist = np.array(alpha_hist)\n",
    "plt.plot(np.arange(n+1), x_acum, label = 'x')\n",
    "#plt.plot(np.arange(n+1), y_acum, label = 'y')\n",
    "plt.plot(np.arange(n+1), x_dot_acum, label = 'x_dot')\n",
    "plt.plot(np.arange(n+1), u_hist[:,0]*0.01, label = 'u_x')\n",
    "plt.plot(np.arange(n+1), alpha_hist/np.pi, label = 'alpha')\n",
    "plt.legend()\n",
    "plt.grid()\n",
    "#print(f'F: {F}\\nq_dot: {dejabot.q_dot}\\nq: {dejabot.q}')"
   ]
  },
  {
   "cell_type": "code",
   "execution_count": null,
   "metadata": {},
   "outputs": [],
   "source": [
    "plt.plot(x_acum, y_acum)"
   ]
  },
  {
   "cell_type": "code",
   "execution_count": null,
   "metadata": {},
   "outputs": [],
   "source": [
    "def max_speed_dir(bot, alpha, max_motor_rpm = 7000, N = 49):\n",
    "    A = bot.get_a()\n",
    "    v = np.array([np.cos(alpha), np.sin(alpha),0])\n",
    "    D = A.T@v\n",
    "    b = []\n",
    "    for ii in range(4):\n",
    "        b_m = max_motor_rpm/(30*49*D[ii])\n",
    "        b.append(abs(b_m))\n",
    "    return min(b)"
   ]
  },
  {
   "cell_type": "code",
   "execution_count": null,
   "metadata": {},
   "outputs": [],
   "source": [
    "geom = [0.2096, 0.2096, 0.0667]\n",
    "mass = [15.75, 0.00266, 0.461]\n",
    "q_0 = np.array([0, 0, 0])\n",
    "q_dot_0 = np.array([0, 0, 0])\n",
    "def dummy_u(bot, dt, envir):\n",
    "    if envir:\n",
    "        return(np.array(envir))\n",
    "    #print(f't = {round(t,3)}, q = {q}, q_dot = {q_dot}')\n",
    "    return(np.array([0,1,0]))\n",
    "dejabot = Bot(geom, mass, q_0, q_dot_0, dummy_u)\n",
    "\n",
    "print(f'q_dot: {dejabot.q_dot}\\nq: {dejabot.q}')\n",
    "x = np.linspace(0,2*np.pi, 401)\n",
    "y = []\n",
    "for ii in x:\n",
    "    y.append(max_speed_dir(dejabot, ii))\n",
    "y = np.array(y)\n",
    "psi = dejabot.q[2]\n",
    "w,h = plt.figaspect(1)\n",
    "plt.figure(figsize = [w,h])\n",
    "plt.plot(y*np.cos(x), y*np.sin(x), 'r')\n",
    "plt.plot(y*np.cos(x+psi), y*np.sin(x+psi), 'b:')\n",
    "plt.grid()"
   ]
  },
  {
   "cell_type": "code",
   "execution_count": null,
   "metadata": {},
   "outputs": [],
   "source": [
    "goal = [0,1,0]\n",
    "obstacles = []\n",
    "envir = [goal, obstacles]\n",
    "def better_grad_desc(bot, dt, envir, print_m = False):\n",
    "    q = bot.q\n",
    "    goal, obstacles = envir\n",
    "    alpha = calc_alpha(q, goal)\n",
    "    v_unit = np.array([np.cos(alpha), np.sin(alpha),0])\n",
    "    max_speed = max_speed_dir(bot, alpha)\n",
    "    dist = np.linalg.norm(np.matrix(goal)-q)\n",
    "    \n",
    "    one_step_speed = dist/dt\n",
    "    speed = min(max_speed,  one_step_speed)\n",
    "    q_dot = bot.q_dot\n",
    "    delta_v = speed*v_unit - q_dot\n",
    "    \n",
    "    beta = calc_alpha([0,0,0], delta_v)\n",
    "    max_acc = bot.max_q_sec_dir(beta, 0, False)\n",
    "    one_step_accel = np.linalg.norm(delta_v)/dt\n",
    "    accel = min(max_acc, one_step_accel)\n",
    "    \n",
    "    u = [accel*np.cos(beta), accel*np.sin(beta),0]\n",
    "    if print_m:\n",
    "        print(f'delta_v = {np.round(delta_v,4)}, beta = {np.round(beta*180/np.pi,4)}, a = {np.round(max_acc,4)} u = {np.round(u,4)}')\n",
    "    \n",
    "    return(np.array(u))"
   ]
  },
  {
   "cell_type": "code",
   "execution_count": null,
   "metadata": {},
   "outputs": [],
   "source": [
    "goal = [1,1,0]\n",
    "obstacles = []\n",
    "envir = [goal, obstacles]\n",
    "dt = 0.005\n",
    "n = 450\n",
    "q_0 = np.array([0, 0, 0])\n",
    "q_dot_0 = np.array([-0.1, -0.2, 0])\n",
    "dejabot = Bot(geom, mass, q_0, q_dot_0, better_grad_desc)\n",
    "x_acum = [dejabot.q[0],]\n",
    "x_dot_acum = [dejabot.q[0],]\n",
    "y_acum = [dejabot.q[1],]\n",
    "u_hist = [dejabot.get_u(dejabot, dt, envir)]\n",
    "alpha_hist = [calc_alpha(dejabot.q, goal)]\n",
    "for i in range(n):\n",
    "    dejabot.step(dt,envir)\n",
    "    x_acum.append(dejabot.q[0])\n",
    "    y_acum.append(dejabot.q[1])\n",
    "    x_dot_acum.append(dejabot.q_dot[0])\n",
    "    u_hist.append(dejabot.get_u(dejabot, dt, envir, False))\n",
    "    alpha_hist.append(calc_alpha(dejabot.q, goal))\n",
    "x_acum = np.array(x_acum)\n",
    "y_acum = np.array(y_acum)\n",
    "x_dot_acum = np.array(x_dot_acum)\n",
    "u_hist = np.array(u_hist)\n",
    "alpha_hist = np.array(alpha_hist)\n",
    "plt.plot(np.arange(n+1), x_acum, label = 'x')\n",
    "plt.plot(np.arange(n+1), y_acum, label = 'y')\n",
    "plt.plot(np.arange(n+1), x_dot_acum, label = 'x_dot')\n",
    "plt.plot(np.arange(n+1), u_hist[:,0]*0.01, label = 'u_x')\n",
    "plt.plot(np.arange(n+1), alpha_hist/np.pi, label = 'alpha')\n",
    "plt.legend()\n",
    "plt.grid()"
   ]
  },
  {
   "cell_type": "code",
   "execution_count": null,
   "metadata": {
    "scrolled": true
   },
   "outputs": [],
   "source": [
    "plt.plot(x_acum, y_acum, marker = '.', markersize = 3)"
   ]
  },
  {
   "cell_type": "code",
   "execution_count": null,
   "metadata": {},
   "outputs": [],
   "source": [
    "def calc_field_value(q, envir):\n",
    "    goal, obstacles = envir\n",
    "    x, y, psi = q\n",
    "    z = ((goal[0]-x)**2 + (goal[1]-y)**2)**0.5\n",
    "    for obs in obstacles:\n",
    "        dist = ((obs[0]-x)**2 + (obs[1]-y)**2)**0.5\n",
    "        z = z + np.where(dist <= obs[2], 2, 1.5/((dist - obs[2] + 0.025)*40)**4)\n",
    "    return z"
   ]
  },
  {
   "cell_type": "code",
   "execution_count": null,
   "metadata": {},
   "outputs": [],
   "source": [
    "x = np.linspace(0,1,100)\n",
    "y = x\n",
    "xx,yy = np.meshgrid(x, y)\n",
    "zz = calc_field_value([xx,yy,0], envir)"
   ]
  },
  {
   "cell_type": "code",
   "execution_count": null,
   "metadata": {
    "scrolled": true
   },
   "outputs": [],
   "source": [
    "plt.imshow(zz, origin = 'lower')\n",
    "plt.colorbar()"
   ]
  },
  {
   "cell_type": "code",
   "execution_count": null,
   "metadata": {},
   "outputs": [],
   "source": [
    "def first_der_grad_dir(q, ds, func, envir):\n",
    "    x, y, psi = q\n",
    "    dx = np.array([ds,0,0])\n",
    "    dy = np.array([0,ds,0])\n",
    "    dfx = func(q+dx, envir) - func(q, envir)\n",
    "    dfy = func(q+dy, envir) - func(q, envir)\n",
    "    #print (f'x:{x} dx: {dx} f(q){func(q, envir)} f(q+dx){func(q+dx, envir)} dfx: {dfx}')\n",
    "    alpha = calc_alpha([0,0], [-dfx, -dfy])\n",
    "    return alpha"
   ]
  },
  {
   "cell_type": "code",
   "execution_count": null,
   "metadata": {},
   "outputs": [],
   "source": [
    "goal = [1,1,0]\n",
    "obstacles = [\n",
    "    [0.5, 0.3, 0.1],\n",
    "    [0, 0.6, 0.02]\n",
    "]\n",
    "envir = [goal, obstacles]\n",
    "def better_grad_desc(bot, dt, envir, print_m = False):\n",
    "    q = bot.q\n",
    "    goal, obstacles = envir\n",
    "    q_dot = bot.q_dot\n",
    "    next_q = q + q_dot*dt #not taking on account acceleration, unknown at this point\n",
    "    \n",
    "    alpha = first_der_grad_dir(next_q, dt*0.005, calc_field_value, envir)\n",
    "    v_unit = np.array([np.cos(alpha), np.sin(alpha),0])\n",
    "    max_speed = max_speed_dir(bot, alpha)\n",
    "    dist = np.linalg.norm(np.matrix(goal)-next_q)\n",
    "    \n",
    "    one_step_speed = dist/dt\n",
    "    speed = min(max_speed,  one_step_speed)\n",
    "    delta_v = speed*v_unit - q_dot\n",
    "    \n",
    "    beta = calc_alpha([0,0,0], delta_v)\n",
    "    max_acc = bot.max_q_sec_dir(beta, 0, False)\n",
    "    one_step_accel = np.linalg.norm(delta_v)/dt\n",
    "    accel = min(max_acc, one_step_accel)\n",
    "    \n",
    "    u = [accel*np.cos(beta), accel*np.sin(beta),0]\n",
    "    if print_m:\n",
    "        print(f'delta_v = {np.round(delta_v,4)}, beta = {np.round(beta*180/np.pi,4)}, a = {np.round(max_acc,4)} u = {np.round(u,4)}')\n",
    "    \n",
    "    return(np.array(u))"
   ]
  },
  {
   "cell_type": "code",
   "execution_count": null,
   "metadata": {},
   "outputs": [],
   "source": [
    "goal = [1,1,0]\n",
    "obstacles = [\n",
    "    [0.6, 0.4, 0.15],\n",
    "    [0, 0.6, 0.02],\n",
    "    [0.7, 0.85, 0.08]\n",
    "]\n",
    "envir = [goal, obstacles]\n",
    "dt = 0.1\n",
    "n = 700\n",
    "q_0 = np.array([0, 0, 0])\n",
    "q_dot_0 = np.array([0, 0, 0])\n",
    "dejabot = Bot(geom, mass, q_0, q_dot_0, better_grad_desc)\n",
    "x_acum = [dejabot.q[0],]\n",
    "x_dot_acum = [dejabot.q[0],]\n",
    "y_acum = [dejabot.q[1],]\n",
    "u_hist = [dejabot.get_u(dejabot, dt, envir)]\n",
    "alpha_hist = [first_der_grad_dir(dejabot.q, dt*0.005, calc_field_value, envir)]\n",
    "for i in range(n):\n",
    "    dejabot.step(dt,envir)\n",
    "    x_acum.append(dejabot.q[0])\n",
    "    y_acum.append(dejabot.q[1])\n",
    "    x_dot_acum.append(dejabot.q_dot[0])\n",
    "    #print('\\nq = ', np.round(dejabot.q, 4),'q_dot = ', np.round(dejabot.q_dot, 4))\n",
    "    u_hist.append(dejabot.get_u(dejabot, dt, envir, False))\n",
    "    alpha_hist.append(calc_alpha(dejabot.q, goal))\n",
    "x_acum = np.array(x_acum)\n",
    "y_acum = np.array(y_acum)\n",
    "x_dot_acum = np.array(x_dot_acum)\n",
    "u_hist = np.array(u_hist)\n",
    "alpha_hist = np.array(alpha_hist)\n",
    "plt.plot(np.arange(n+1), x_acum, label = 'x')\n",
    "plt.plot(np.arange(n+1), y_acum, label = 'y')\n",
    "#plt.plot(np.arange(n+1), x_dot_acum, label = 'x_dot')\n",
    "#plt.plot(np.arange(n+1), u_hist[:,0]*0.01, label = 'u_x')\n",
    "#plt.plot(np.arange(n+1), alpha_hist/np.pi, label = 'alpha')\n",
    "plt.legend()\n",
    "plt.grid()"
   ]
  },
  {
   "cell_type": "code",
   "execution_count": null,
   "metadata": {
    "scrolled": false
   },
   "outputs": [],
   "source": [
    "plt.figure(figsize = [12,10])\n",
    "x = np.linspace(-0.1,1.1,100)\n",
    "y = x\n",
    "xx,yy = np.meshgrid(x, y)\n",
    "zz = calc_field_value([xx,yy,0], envir)\n",
    "plt.imshow(zz, extent=[-0.1,1.1,-0.1,1.1], origin = 'lower')\n",
    "plt.plot(x_acum, y_acum,'r', marker = '.', markersize = 2)\n",
    "plt.colorbar()"
   ]
  },
  {
   "cell_type": "markdown",
   "metadata": {},
   "source": [
    "## Simulation stop criteria"
   ]
  },
  {
   "cell_type": "code",
   "execution_count": null,
   "metadata": {},
   "outputs": [],
   "source": [
    "def stop_cond_pos(bot, envir, eps_q = 0.001, eps_q_dot = 0.1):\n",
    "    q = bot.q\n",
    "    goal, obstacles = envir\n",
    "    q_dot = bot.q_dot\n",
    "    \n",
    "    c1 = np.linalg.norm(np.matrix(goal)-q)\n",
    "    c2 = np.linalg.norm(q_dot)\n",
    "    \n",
    "    #print(f'c1 = {c1}, c2 = {c2}')\n",
    "    if c1<eps_q and c2<eps_q_dot:\n",
    "        return True\n",
    "    else:\n",
    "        return False    "
   ]
  },
  {
   "cell_type": "code",
   "execution_count": null,
   "metadata": {},
   "outputs": [],
   "source": [
    "def simulation(bot, envir, dt = 0.01, n = 1000,\n",
    "               q_0 = np.array([0, 0, 0]), q_dot_0 = np.array([0, 0, 0]),\n",
    "               print_u = False, print_state = False):\n",
    "    x_acum = [bot.q[0],]\n",
    "    x_dot_acum = [bot.q[0],]\n",
    "    y_acum = [bot.q[1],]\n",
    "    u_hist = [bot.get_u(bot, dt, envir)]\n",
    "    alpha_hist = [first_der_grad_dir(bot.q, dt*0.005, calc_field_value, envir)]\n",
    "    for i in range(n):\n",
    "        bot.step(dt,envir)\n",
    "        x_acum.append(bot.q[0])\n",
    "        y_acum.append(bot.q[1])\n",
    "        x_dot_acum.append(bot.q_dot[0])\n",
    "        if print_state:\n",
    "            print('\\nq = ', np.round(bot.q, 4),'q_dot = ', np.round(bot.q_dot, 4))\n",
    "        u_hist.append(bot.get_u(bot, dt, envir, print_u))\n",
    "        alpha_hist.append(calc_alpha(bot.q, goal))\n",
    "        if stop_cond_pos(bot, envir):\n",
    "            break\n",
    "    x_acum = np.array(x_acum)\n",
    "    y_acum = np.array(y_acum)\n",
    "    x_dot_acum = np.array(x_dot_acum)\n",
    "    u_hist = np.array(u_hist)\n",
    "    alpha_hist = np.array(alpha_hist)\n",
    "    \n",
    "    return x_acum, y_acum, x_dot_acum, u_hist, alpha_hist"
   ]
  },
  {
   "cell_type": "code",
   "execution_count": null,
   "metadata": {},
   "outputs": [],
   "source": [
    "goal = [1,1,0]\n",
    "obstacles = [\n",
    "    [0.6, 0.4, 0.15],\n",
    "    [0, 0.6, 0.02],\n",
    "    [0.7, 0.85, 0.08]\n",
    "]\n",
    "envir = [goal, obstacles]\n",
    "dt = 0.1\n",
    "n = 1000\n",
    "q_0 = np.array([0, 0, 0])\n",
    "q_dot_0 = np.array([0, 0, 0])\n",
    "dejabot = Bot(geom, mass, q_0, q_dot_0, better_grad_desc)\n",
    "\n",
    "results = simulation(dejabot, envir, dt, n, q_0, q_dot_0, print_u = False, print_state = False)\n",
    "x_acum, y_acum, x_dot_acum, u_hist, alpha_hist = results\n",
    "\n",
    "plt.plot(np.arange(len(x_acum)), x_acum, label = 'x')\n",
    "plt.plot(np.arange(len(x_acum)), y_acum, label = 'y')\n",
    "#plt.plot(np.arange(n+1), x_dot_acum, label = 'x_dot')\n",
    "#plt.plot(np.arange(n+1), u_hist[:,0]*0.01, label = 'u_x')\n",
    "#plt.plot(np.arange(n+1), alpha_hist/np.pi, label = 'alpha')\n",
    "plt.legend()\n",
    "plt.grid()"
   ]
  },
  {
   "cell_type": "code",
   "execution_count": null,
   "metadata": {},
   "outputs": [],
   "source": [
    "plt.figure(figsize = [12,10])\n",
    "x = np.linspace(-0.1,1.1,100)\n",
    "y = x\n",
    "xx,yy = np.meshgrid(x, y)\n",
    "zz = calc_field_value([xx,yy,0], envir)\n",
    "plt.imshow(zz, extent=[-0.1,1.1,-0.1,1.1], origin = 'lower')\n",
    "plt.plot(x_acum, y_acum,'r', marker = '.', markersize = 2)\n",
    "plt.colorbar()"
   ]
  },
  {
   "cell_type": "code",
   "execution_count": null,
   "metadata": {},
   "outputs": [],
   "source": []
  },
  {
   "cell_type": "code",
   "execution_count": null,
   "metadata": {},
   "outputs": [],
   "source": []
  }
 ],
 "metadata": {
  "kernelspec": {
   "display_name": "Python 3",
   "language": "python",
   "name": "python3"
  },
  "language_info": {
   "codemirror_mode": {
    "name": "ipython",
    "version": 3
   },
   "file_extension": ".py",
   "mimetype": "text/x-python",
   "name": "python",
   "nbconvert_exporter": "python",
   "pygments_lexer": "ipython3",
   "version": "3.7.7"
  }
 },
 "nbformat": 4,
 "nbformat_minor": 2
}
