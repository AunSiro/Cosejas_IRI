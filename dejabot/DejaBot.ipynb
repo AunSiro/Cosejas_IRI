{
 "cells": [
  {
   "cell_type": "markdown",
   "metadata": {},
   "source": [
    "# Kinetodynamic model of Omnibot"
   ]
  },
  {
   "cell_type": "markdown",
   "metadata": {},
   "source": [
    "### Imports and prparations"
   ]
  },
  {
   "cell_type": "code",
   "execution_count": null,
   "metadata": {},
   "outputs": [],
   "source": [
    "from sympy import init_printing"
   ]
  },
  {
   "cell_type": "code",
   "execution_count": null,
   "metadata": {},
   "outputs": [],
   "source": [
    "import numpy as np\n",
    "import matplotlib.pyplot as plt"
   ]
  },
  {
   "cell_type": "code",
   "execution_count": null,
   "metadata": {},
   "outputs": [],
   "source": [
    "from math import modf"
   ]
  },
  {
   "cell_type": "code",
   "execution_count": null,
   "metadata": {},
   "outputs": [],
   "source": [
    "from sympy import (symbols, pi, I, E, cos, sin, exp, tan, simplify, expand, factor, collect,\n",
    "                   apart, cancel, expand_trig, diff, Derivative, Function, integrate, limit,\n",
    "                   series, Eq, solve, dsolve, Matrix, N, preorder_traversal, Float, solve_linear_system,\n",
    "                   eye, zeros, BlockMatrix)\n",
    "from sympy.physics.mechanics import dynamicsymbols, init_vprinting"
   ]
  },
  {
   "cell_type": "code",
   "execution_count": null,
   "metadata": {},
   "outputs": [],
   "source": [
    "init_vprinting()"
   ]
  },
  {
   "cell_type": "markdown",
   "metadata": {},
   "source": [
    "![Esquema de la rueda del Omnibot](images_dejabot/rueda.png)"
   ]
  },
  {
   "cell_type": "markdown",
   "metadata": {},
   "source": [
    "![Alt text](images_dejabot/sist_body.png)"
   ]
  },
  {
   "cell_type": "markdown",
   "metadata": {},
   "source": [
    "## Kinematics"
   ]
  },
  {
   "cell_type": "code",
   "execution_count": null,
   "metadata": {},
   "outputs": [],
   "source": [
    "t, r, d, s = symbols('t r d s')\n",
    "alpha, beta, sigma, psi, theta= dynamicsymbols('alpha beta sigma psi theta')\n",
    "alpha, beta, sigma, psi, theta, t, r, d, s"
   ]
  },
  {
   "cell_type": "code",
   "execution_count": null,
   "metadata": {},
   "outputs": [],
   "source": [
    "v_j = Matrix([sigma*cos(alpha), sigma*sin(alpha),0])\n",
    "om_wheel = Matrix([0, theta.diff(t), psi.diff(t)])\n",
    "jc = Matrix([0,0,r])\n",
    "\n",
    "v_j, om_wheel, jc"
   ]
  },
  {
   "cell_type": "code",
   "execution_count": null,
   "metadata": {},
   "outputs": [],
   "source": [
    "v_b_prim = v_j + om_wheel.cross(jc)\n",
    "v_b_prim"
   ]
  },
  {
   "cell_type": "markdown",
   "metadata": {},
   "source": [
    "### 2D\n",
    "Keeping only the x y components:"
   ]
  },
  {
   "cell_type": "code",
   "execution_count": null,
   "metadata": {},
   "outputs": [],
   "source": [
    "W = Matrix([\n",
    "    [r, cos(alpha)],\n",
    "    [0, sin(alpha)]\n",
    "])\n",
    "T = Matrix([\n",
    "    [cos(beta), -sin(beta)],\n",
    "    [sin(beta), cos(beta)]\n",
    "])\n",
    "\n",
    "W,T"
   ]
  },
  {
   "cell_type": "code",
   "execution_count": null,
   "metadata": {},
   "outputs": [],
   "source": [
    "A = Matrix([\n",
    "    [1, 0, -d],\n",
    "    [0, 1, s]\n",
    "])\n",
    "A"
   ]
  },
  {
   "cell_type": "code",
   "execution_count": null,
   "metadata": {},
   "outputs": [],
   "source": [
    "WTA= W.inv()@T.inv()@A\n",
    "WTA.simplify()\n",
    "WTA"
   ]
  },
  {
   "cell_type": "markdown",
   "metadata": {},
   "source": [
    "## Generic Omnibot R&S Model"
   ]
  },
  {
   "cell_type": "code",
   "execution_count": null,
   "metadata": {},
   "outputs": [],
   "source": [
    "def generic_omnibot_mats(n = 4, null_beta = True, equal_r = True):\n",
    "    t, r, d, s = symbols('t r d s')\n",
    "    alpha, beta= dynamicsymbols('alpha beta')\n",
    "    \n",
    "    W = Matrix([\n",
    "        [r, cos(alpha)],\n",
    "        [0, sin(alpha)]\n",
    "    ])\n",
    "    T = Matrix([\n",
    "        [cos(beta), -sin(beta)],\n",
    "        [sin(beta), cos(beta)]\n",
    "    ])\n",
    "    A = Matrix([\n",
    "        [1, 0, -d],\n",
    "        [0, 1, s]\n",
    "    ])\n",
    "    WTA= W.inv()@T.inv()@A\n",
    "    WTA.simplify()\n",
    "    r_n = WTA[0,:]\n",
    "    s_n = WTA[1,:]\n",
    "    \n",
    "    R_list = []\n",
    "    S_list = []\n",
    "    \n",
    "    for ii in range(n):\n",
    "        r_ii = r_n.subs(alpha, symbols('alpha_'+str(ii+1)))\n",
    "        r_ii = r_ii.subs(d, symbols('d_'+str(ii+1)))\n",
    "        r_ii = r_ii.subs(s, symbols('s_'+str(ii+1)))\n",
    "        s_ii = s_n.subs(alpha, symbols('alpha_'+str(ii+1)))\n",
    "        s_ii = s_ii.subs(d, symbols('d_'+str(ii+1)))\n",
    "        s_ii = s_ii.subs(s, symbols('s_'+str(ii+1)))\n",
    "        if not equal_r:\n",
    "            r_ii = r_ii.subs(r, symbols('r_'+str(ii+1)))\n",
    "            s_ii = s_ii.subs(r, symbols('r_'+str(ii+1)))\n",
    "        if null_beta:\n",
    "            r_ii = r_ii.subs(beta, 0)\n",
    "            s_ii = s_ii.subs(beta, 0)\n",
    "        else:\n",
    "            r_ii = r_ii.subs(beta, symbols('beta_'+str(ii+1)))\n",
    "            s_ii = s_ii.subs(beta, symbols('beta_'+str(ii+1)))\n",
    "            \n",
    "        S_list.append(s_ii)\n",
    "        R_list.append(r_ii)\n",
    "    \n",
    "    R = Matrix(R_list)\n",
    "    S = Matrix(S_list)\n",
    "    return R, S"
   ]
  },
  {
   "cell_type": "code",
   "execution_count": null,
   "metadata": {
    "scrolled": true
   },
   "outputs": [],
   "source": [
    "generic_omnibot_mats(6, null_beta=False )"
   ]
  },
  {
   "cell_type": "code",
   "execution_count": null,
   "metadata": {},
   "outputs": [],
   "source": [
    "def integerize(expr):\n",
    "    expr2 = expr\n",
    "    for a in preorder_traversal(expr):\n",
    "        if isinstance(a, Float):\n",
    "            dec, _ = modf(a)\n",
    "            if abs(dec) < 0.0001:\n",
    "                expr2 = expr2.subs(a, round(a))\n",
    "    return expr2"
   ]
  },
  {
   "cell_type": "code",
   "execution_count": null,
   "metadata": {},
   "outputs": [],
   "source": [
    "def roundize(expr,n = 4):\n",
    "    expr2 = expr\n",
    "    for a in preorder_traversal(expr):\n",
    "        if isinstance(a, Float):\n",
    "            expr2 = expr2.subs(a, round(a,n))\n",
    "    return expr2"
   ]
  },
  {
   "cell_type": "markdown",
   "metadata": {},
   "source": [
    "### Omnibot with 4 wheels at 45 deg"
   ]
  },
  {
   "cell_type": "code",
   "execution_count": null,
   "metadata": {},
   "outputs": [],
   "source": [
    "def dejabot_mats():\n",
    "    R, S = generic_omnibot_mats()\n",
    "    L, l = symbols('L l')\n",
    "    for ii in range(4):\n",
    "        alpha = pi/4 * (1 - 2 * ((int((ii+1)/2))%2))\n",
    "        s = L * (1 - 2 * ((int((ii)/2))%2))\n",
    "        d = l * (1 - 2 * (ii%2))\n",
    "        R[ii,:] = R[ii,:].subs(symbols('alpha_'+str(ii+1)), alpha)\n",
    "        R[ii,:] = R[ii,:].subs(symbols('s_'+str(ii+1)), s)\n",
    "        R[ii,:] = R[ii,:].subs(symbols('d_'+str(ii+1)), d)\n",
    "        S[ii,:] = S[ii,:].subs(symbols('alpha_'+str(ii+1)), alpha)\n",
    "        S[ii,:] = S[ii,:].subs(symbols('s_'+str(ii+1)), s)\n",
    "        S[ii,:] = S[ii,:].subs(symbols('d_'+str(ii+1)), d)\n",
    "    return integerize(R), integerize(S)"
   ]
  },
  {
   "cell_type": "code",
   "execution_count": null,
   "metadata": {},
   "outputs": [],
   "source": [
    "R, S = dejabot_mats()\n",
    "R, S"
   ]
  },
  {
   "cell_type": "code",
   "execution_count": null,
   "metadata": {},
   "outputs": [],
   "source": [
    "R*r"
   ]
  },
  {
   "cell_type": "code",
   "execution_count": null,
   "metadata": {},
   "outputs": [],
   "source": [
    "def omnibot_wheel_mov(R, V = Matrix([symbols('v_1'), symbols('v_2'), dynamicsymbols('psi').diff(t)])):\n",
    "    if not isinstance(R, Matrix):\n",
    "        R = Matrix(R)\n",
    "    if not isinstance(V, Matrix):\n",
    "        V = Matrix(V)\n",
    "    return R@V"
   ]
  },
  {
   "cell_type": "code",
   "execution_count": null,
   "metadata": {},
   "outputs": [],
   "source": [
    "omnibot_wheel_mov(R, [1,1,dynamicsymbols('psi').diff(t)])"
   ]
  },
  {
   "cell_type": "markdown",
   "metadata": {},
   "source": [
    "### Calculating robot coordinates from wheel movement"
   ]
  },
  {
   "cell_type": "markdown",
   "metadata": {},
   "source": [
    "#### From 3 wheels"
   ]
  },
  {
   "cell_type": "code",
   "execution_count": null,
   "metadata": {},
   "outputs": [],
   "source": [
    "def mu_from_3_wheels(R):\n",
    "    if not isinstance(R, Matrix):\n",
    "        R = Matrix(R)\n",
    "    R_sq = R[:3,:]\n",
    "    mu = R_sq.inv()\n",
    "    mu.simplify()\n",
    "    return mu"
   ]
  },
  {
   "cell_type": "code",
   "execution_count": null,
   "metadata": {},
   "outputs": [],
   "source": [
    "mu = mu_from_3_wheels(R)"
   ]
  },
  {
   "cell_type": "code",
   "execution_count": null,
   "metadata": {},
   "outputs": [],
   "source": [
    "mu"
   ]
  },
  {
   "cell_type": "code",
   "execution_count": null,
   "metadata": {},
   "outputs": [],
   "source": [
    "simplify(R[:3,:]@mu_from_3_wheels(R))"
   ]
  },
  {
   "cell_type": "code",
   "execution_count": null,
   "metadata": {},
   "outputs": [],
   "source": [
    "wheels = omnibot_wheel_mov(R)"
   ]
  },
  {
   "cell_type": "code",
   "execution_count": null,
   "metadata": {},
   "outputs": [],
   "source": [
    "simplify(mu_from_3_wheels(R)@Matrix(wheels[:3]))"
   ]
  },
  {
   "cell_type": "markdown",
   "metadata": {},
   "source": [
    "#### Least squares method"
   ]
  },
  {
   "cell_type": "code",
   "execution_count": null,
   "metadata": {},
   "outputs": [],
   "source": [
    "def mu_from_least_sq(R):\n",
    "    return simplify(R.pinv())"
   ]
  },
  {
   "cell_type": "code",
   "execution_count": null,
   "metadata": {},
   "outputs": [],
   "source": [
    "simplify(mu_from_least_sq(R)@wheels)"
   ]
  },
  {
   "cell_type": "markdown",
   "metadata": {},
   "source": [
    "### 3-wheeled equilateral Omnibot"
   ]
  },
  {
   "cell_type": "code",
   "execution_count": null,
   "metadata": {},
   "outputs": [],
   "source": [
    "def tribot_mats(alpha = pi/2):\n",
    "    R,S = generic_omnibot_mats(3, null_beta=False)\n",
    "    l = symbols('l')\n",
    "    for ii in range(3):\n",
    "        beta = (ii * pi/3)+pi/2\n",
    "        s = l * sin(beta)\n",
    "        d = l * cos(beta)\n",
    "        R[ii,:] = R[ii,:].subs(symbols('alpha_'+str(ii+1)), alpha)\n",
    "        R[ii,:] = R[ii,:].subs(symbols('beta_'+str(ii+1)), beta)\n",
    "        R[ii,:] = R[ii,:].subs(symbols('s_'+str(ii+1)), s)\n",
    "        R[ii,:] = R[ii,:].subs(symbols('d_'+str(ii+1)), d)\n",
    "        S[ii,:] = S[ii,:].subs(symbols('alpha_'+str(ii+1)), alpha)\n",
    "        S[ii,:] = S[ii,:].subs(symbols('beta_'+str(ii+1)), beta)\n",
    "        S[ii,:] = S[ii,:].subs(symbols('s_'+str(ii+1)), s)\n",
    "        S[ii,:] = S[ii,:].subs(symbols('d_'+str(ii+1)), d)\n",
    "    return roundize(R),roundize(S)"
   ]
  },
  {
   "cell_type": "code",
   "execution_count": null,
   "metadata": {},
   "outputs": [],
   "source": [
    "R_3, S_3 = tribot_mats()"
   ]
  },
  {
   "cell_type": "code",
   "execution_count": null,
   "metadata": {},
   "outputs": [],
   "source": [
    "simplify(R_3)*r"
   ]
  },
  {
   "cell_type": "code",
   "execution_count": null,
   "metadata": {},
   "outputs": [],
   "source": [
    "wheels_3 = omnibot_wheel_mov(R_3)\n",
    "wheels_3"
   ]
  },
  {
   "cell_type": "code",
   "execution_count": null,
   "metadata": {},
   "outputs": [],
   "source": [
    "mu_3_w = mu_from_3_wheels(R_3)\n",
    "roundize(mu_3_w)"
   ]
  },
  {
   "cell_type": "code",
   "execution_count": null,
   "metadata": {},
   "outputs": [],
   "source": [
    "mu_3_ls = mu_from_least_sq(R_3)\n",
    "roundize(mu_3_ls)"
   ]
  },
  {
   "cell_type": "code",
   "execution_count": null,
   "metadata": {},
   "outputs": [],
   "source": [
    "integerize(simplify(mu_from_3_wheels(R_3)@Matrix(wheels_3)))"
   ]
  },
  {
   "cell_type": "code",
   "execution_count": null,
   "metadata": {},
   "outputs": [],
   "source": [
    "integerize(simplify(mu_from_least_sq(R_3)@Matrix(wheels_3)))"
   ]
  },
  {
   "cell_type": "markdown",
   "metadata": {},
   "source": [
    "#### Comparing speed relations forward-lateral"
   ]
  },
  {
   "cell_type": "code",
   "execution_count": null,
   "metadata": {},
   "outputs": [],
   "source": [
    "def simetric_omnibot_mats():\n",
    "    R, S = generic_omnibot_mats()\n",
    "    L, l = symbols('L l')\n",
    "    for ii in range(4):\n",
    "        alpha = symbols('alpha') * (1 - 2 * ((int((ii+1)/2))%2))\n",
    "        s = L * (1 - 2 * ((int((ii)/2))%2))\n",
    "        d = l * (1 - 2 * (ii%2))\n",
    "        R[ii,:] = R[ii,:].subs(symbols('alpha_'+str(ii+1)), alpha)\n",
    "        R[ii,:] = R[ii,:].subs(symbols('s_'+str(ii+1)), s)\n",
    "        R[ii,:] = R[ii,:].subs(symbols('d_'+str(ii+1)), d)\n",
    "        S[ii,:] = S[ii,:].subs(symbols('alpha_'+str(ii+1)), alpha)\n",
    "        S[ii,:] = S[ii,:].subs(symbols('s_'+str(ii+1)), s)\n",
    "        S[ii,:] = S[ii,:].subs(symbols('d_'+str(ii+1)), d)\n",
    "    return integerize(R), integerize(S)"
   ]
  },
  {
   "cell_type": "code",
   "execution_count": null,
   "metadata": {},
   "outputs": [],
   "source": [
    "R,S = simetric_omnibot_mats()\n",
    "R,S"
   ]
  },
  {
   "cell_type": "code",
   "execution_count": null,
   "metadata": {},
   "outputs": [],
   "source": [
    "forw_wheels = omnibot_wheel_mov(R, [1,0,0])\n",
    "lat_wheels = omnibot_wheel_mov(R, [0,1,0])\n",
    "lat_wheels.simplify()\n",
    "\n",
    "forw_wheels, lat_wheels"
   ]
  },
  {
   "cell_type": "code",
   "execution_count": null,
   "metadata": {},
   "outputs": [],
   "source": [
    "forw_mov = simplify(mu_from_least_sq(R)@Matrix([1,1,1,1]))\n",
    "lat_mov  = simplify(mu_from_least_sq(R)@Matrix([-1,1,1,-1]))\n",
    "forw_mov, lat_mov"
   ]
  },
  {
   "cell_type": "code",
   "execution_count": null,
   "metadata": {
    "scrolled": false
   },
   "outputs": [],
   "source": [
    "x = np.linspace(0, 80)\n",
    "y = np.tan(np.pi * x / 180)\n",
    "plt.figure(figsize=[12,8])\n",
    "plt.plot(x,y)\n",
    "plt.title('Lateral distance advance depending on alpha')\n",
    "plt.xlabel('alpha, in degrees')\n",
    "plt.ylabel('distance after 1 radian, measured in wheel radius')\n",
    "plt.grid()\n"
   ]
  },
  {
   "cell_type": "markdown",
   "metadata": {},
   "source": [
    "### Looking for the wheel rotation vector that results in no displacement"
   ]
  },
  {
   "cell_type": "code",
   "execution_count": null,
   "metadata": {},
   "outputs": [],
   "source": [
    "R, S = dejabot_mats()\n",
    "R, S"
   ]
  },
  {
   "cell_type": "markdown",
   "metadata": {},
   "source": [
    "Obtenemos $\\mu$ de los mínimos cuadrados"
   ]
  },
  {
   "cell_type": "code",
   "execution_count": null,
   "metadata": {},
   "outputs": [],
   "source": [
    "min_matr = mu_from_least_sq(R)@Matrix(symbols('theta_1 theta_2 theta_3 theta_4'))\n",
    "min_matr"
   ]
  },
  {
   "cell_type": "markdown",
   "metadata": {},
   "source": [
    "This vector must be equal to zero, which gives us these equations:"
   ]
  },
  {
   "cell_type": "code",
   "execution_count": null,
   "metadata": {},
   "outputs": [],
   "source": [
    "v = simplify(min_matr/r*4)\n",
    "M = Matrix([\n",
    "    v[0],\n",
    "    v[1],\n",
    "    simplify(v[2]*(symbols('L')+symbols('l')))\n",
    "])\n",
    "expand(M/symbols('theta_1'))"
   ]
  },
  {
   "cell_type": "markdown",
   "metadata": {},
   "source": [
    "Si \n",
    "$$ A = \\theta_2/\\theta_1$$\n",
    "\n",
    "$$B = \\theta_3/\\theta_1$$\n",
    "\n",
    "$$C = \\theta_4/\\theta_1$$"
   ]
  },
  {
   "cell_type": "code",
   "execution_count": null,
   "metadata": {},
   "outputs": [],
   "source": [
    "M = Matrix([\n",
    "    [1, 1, 1, -1],\n",
    "    [1, 1, -1, 1],\n",
    "    [1, -1, 1, 1]\n",
    "])\n",
    "M"
   ]
  },
  {
   "cell_type": "code",
   "execution_count": null,
   "metadata": {},
   "outputs": [],
   "source": [
    "M[0,:]+M[1,:]"
   ]
  },
  {
   "cell_type": "markdown",
   "metadata": {},
   "source": [
    "B = -A"
   ]
  },
  {
   "cell_type": "code",
   "execution_count": null,
   "metadata": {},
   "outputs": [],
   "source": [
    "M[0,:]+M[2,:]"
   ]
  },
  {
   "cell_type": "markdown",
   "metadata": {},
   "source": [
    "C = -A"
   ]
  },
  {
   "cell_type": "markdown",
   "metadata": {},
   "source": [
    "Por lo tanto:\n",
    "\n",
    "$A - 2A = -1$\n",
    "\n",
    "$A = 1$\n",
    "\n",
    "Es decir:\n",
    "\n",
    "$\\theta_1 = \\theta_2$\n",
    "\n",
    "$\\theta_1 = -\\theta_3$\n",
    "\n",
    "$\\theta_1 = -\\theta_4$\n",
    "\n",
    "En otras palabras, cualquier vector de movimiento de las ruedas de forma $x[1,1,-1,-1]$ no produce movimiento:\n",
    "\n",
    "### Matrix kernel $\\mu$ is [1,1,-1,-1]"
   ]
  },
  {
   "cell_type": "code",
   "execution_count": null,
   "metadata": {},
   "outputs": [],
   "source": [
    "a = symbols('a')\n",
    "mu_from_least_sq(R)@Matrix([a,a,-a,-a])"
   ]
  },
  {
   "cell_type": "markdown",
   "metadata": {},
   "source": [
    "## Least squares checks"
   ]
  },
  {
   "cell_type": "code",
   "execution_count": null,
   "metadata": {},
   "outputs": [],
   "source": [
    "a,b,c,d,e,f,g,h,i,j,k,l = symbols('a b c d e f g h i j k l')"
   ]
  },
  {
   "cell_type": "code",
   "execution_count": null,
   "metadata": {},
   "outputs": [],
   "source": [
    "Y = Matrix([\n",
    "    [a,b,c,d],\n",
    "    [e,f,g,h],\n",
    "    [i,j,k,l]\n",
    "])\n",
    "Y"
   ]
  },
  {
   "cell_type": "code",
   "execution_count": null,
   "metadata": {},
   "outputs": [],
   "source": [
    "D = symbols('D')\n",
    "R = Matrix([\n",
    "    [1, -1, -D],\n",
    "    [1, 1, D],\n",
    "    [1, 1, -D],\n",
    "    [1, -1, D]\n",
    "])\n",
    "R"
   ]
  },
  {
   "cell_type": "code",
   "execution_count": null,
   "metadata": {},
   "outputs": [],
   "source": [
    "Y@R"
   ]
  },
  {
   "cell_type": "markdown",
   "metadata": {},
   "source": [
    "Dado que este sistema debe ser $YR = [0]$, obtenemos 3 sistemas de 3 ecuaciones iguales:\n",
    "\n",
    "a+b+c+d = 0\n",
    "\n",
    "-a+b+c-d = 0\n",
    "\n",
    "-a+b-c+d = 0\n",
    "\n",
    "de(1)+(2):\n",
    "\n",
    "b+c=0 por lo que b = -c\n",
    "\n",
    "de (1)+(3):\n",
    "\n",
    "b+d=0 por lo que b = -d\n",
    "\n",
    "(1): a + b - b - b = 0\n",
    "\n",
    "a-b = 0 por lo que a = b"
   ]
  },
  {
   "cell_type": "code",
   "execution_count": null,
   "metadata": {},
   "outputs": [],
   "source": [
    "Y = Matrix([\n",
    "    [a,a,-a,-a],\n",
    "    [e,e,-e,-e],\n",
    "    [i,i,-i,-i]\n",
    "])\n",
    "Y"
   ]
  },
  {
   "cell_type": "code",
   "execution_count": null,
   "metadata": {},
   "outputs": [],
   "source": [
    "Y@R"
   ]
  },
  {
   "cell_type": "code",
   "execution_count": null,
   "metadata": {},
   "outputs": [],
   "source": [
    "R"
   ]
  },
  {
   "cell_type": "code",
   "execution_count": null,
   "metadata": {},
   "outputs": [],
   "source": [
    "def diffs_wheels(wheels,R,a,e,i):\n",
    "    mu = mu_from_least_sq(R)\n",
    "    Y = Matrix([\n",
    "        [a,a,-a,-a],\n",
    "        [e,e,-e,-e],\n",
    "        [i,i,-i,-i]\n",
    "    ])\n",
    "    X = mu + Y\n",
    "    v = X @ wheels\n",
    "    ideal_w = R @ v\n",
    "    return ideal_w - wheels"
   ]
  },
  {
   "cell_type": "code",
   "execution_count": null,
   "metadata": {},
   "outputs": [],
   "source": [
    "error = diffs_wheels(Matrix(symbols('t1 t2 t3 t4')), R, a, e, i)"
   ]
  },
  {
   "cell_type": "code",
   "execution_count": null,
   "metadata": {},
   "outputs": [],
   "source": [
    "error = simplify(error)\n",
    "E1 = error[0]\n",
    "E1"
   ]
  },
  {
   "cell_type": "code",
   "execution_count": null,
   "metadata": {},
   "outputs": [],
   "source": [
    "E1_b = collect(E1, symbols('t1 t2 t3 t4'))\n",
    "E1_b"
   ]
  },
  {
   "cell_type": "code",
   "execution_count": null,
   "metadata": {},
   "outputs": [],
   "source": [
    "E1_b.subs((-D*i+a-e), symbols('z'))"
   ]
  },
  {
   "cell_type": "markdown",
   "metadata": {},
   "source": [
    "Fila 1: Error = $$-Di+a-e-1/4$$"
   ]
  },
  {
   "cell_type": "code",
   "execution_count": null,
   "metadata": {},
   "outputs": [],
   "source": [
    "error[1].collect(symbols('t1 t2 t3 t4'))"
   ]
  },
  {
   "cell_type": "code",
   "execution_count": null,
   "metadata": {},
   "outputs": [],
   "source": [
    "error[2].collect(symbols('t1 t2 t3 t4'))"
   ]
  },
  {
   "cell_type": "code",
   "execution_count": null,
   "metadata": {},
   "outputs": [],
   "source": [
    "error[3].collect(symbols('t1 t2 t3 t4'))"
   ]
  },
  {
   "cell_type": "markdown",
   "metadata": {},
   "source": [
    "$$-Di+a-e-1/4$$\n",
    "$$Di+a+e-1/4$$\n",
    "$$-Di+a+e+1/4$$\n",
    "$$Di+a-e+1/4$$"
   ]
  },
  {
   "cell_type": "code",
   "execution_count": null,
   "metadata": {},
   "outputs": [],
   "source": [
    "tot_err = ((-D*i+a-e-1/4)**2 + \n",
    "           (D*i+a+e-1/4)**2 + \n",
    "           (-D*i+a+e+1/4)**2 + \n",
    "           (D*i+a-e+1/4)**2)\n",
    "tot_err = simplify(tot_err)\n",
    "tot_err"
   ]
  },
  {
   "cell_type": "markdown",
   "metadata": {},
   "source": [
    "### Alternative formulation which lands us at the same result:"
   ]
  },
  {
   "cell_type": "code",
   "execution_count": null,
   "metadata": {},
   "outputs": [],
   "source": [
    "X = Y+mu_from_least_sq(R)\n",
    "X"
   ]
  },
  {
   "cell_type": "code",
   "execution_count": null,
   "metadata": {},
   "outputs": [],
   "source": [
    "simplify((R@X-eye(4))@Matrix(symbols('t1 t2 t3 t4')))"
   ]
  },
  {
   "cell_type": "markdown",
   "metadata": {},
   "source": [
    "# Euler-Lagrange Dynamics"
   ]
  },
  {
   "cell_type": "code",
   "execution_count": null,
   "metadata": {},
   "outputs": [],
   "source": [
    "m, I_z, I_w =symbols('m I_z I_w')"
   ]
  },
  {
   "cell_type": "code",
   "execution_count": null,
   "metadata": {},
   "outputs": [],
   "source": [
    "x, y, psi = dynamicsymbols('x y psi')\n",
    "q = [x, y, psi] + [dynamicsymbols(f'phi_{i+1}') for i in range(4)]\n",
    "q"
   ]
  },
  {
   "cell_type": "code",
   "execution_count": null,
   "metadata": {},
   "outputs": [],
   "source": [
    "M_w = eye(4)*I_w\n",
    "M_w"
   ]
  },
  {
   "cell_type": "code",
   "execution_count": null,
   "metadata": {},
   "outputs": [],
   "source": [
    "M_r = Matrix([\n",
    "    [m, 0, 0],\n",
    "    [0, m, 0],\n",
    "    [0, 0, I_z]\n",
    "])\n",
    "M_r"
   ]
  },
  {
   "cell_type": "code",
   "execution_count": null,
   "metadata": {},
   "outputs": [],
   "source": [
    "Gamma = [dynamicsymbols(f'tau_{i+1}') for i in range(4)]\n",
    "Gamma = Matrix(Gamma)\n",
    "Gamma"
   ]
  },
  {
   "cell_type": "code",
   "execution_count": null,
   "metadata": {},
   "outputs": [],
   "source": [
    "R_psi = Matrix([\n",
    "    [cos(psi), -sin(psi), 0],\n",
    "    [sin(psi), cos(psi), 0],\n",
    "    [0, 0, 1]\n",
    "])\n",
    "R_psi"
   ]
  },
  {
   "cell_type": "code",
   "execution_count": null,
   "metadata": {},
   "outputs": [],
   "source": [
    "R, S = dejabot_mats()\n",
    "R"
   ]
  },
  {
   "cell_type": "code",
   "execution_count": null,
   "metadata": {},
   "outputs": [],
   "source": [
    "H = M_r + R_psi@R.T@M_w@R@R_psi.T\n",
    "H = simplify(H)\n",
    "H"
   ]
  },
  {
   "cell_type": "code",
   "execution_count": null,
   "metadata": {},
   "outputs": [],
   "source": [
    "K = R_psi@R.T@M_w@R@R_psi.diff().T\n",
    "K = simplify(K)\n",
    "K"
   ]
  },
  {
   "cell_type": "code",
   "execution_count": null,
   "metadata": {},
   "outputs": [],
   "source": [
    "F_a = R_psi@R.T@Gamma\n",
    "F_a"
   ]
  },
  {
   "cell_type": "code",
   "execution_count": null,
   "metadata": {},
   "outputs": [],
   "source": [
    "F_a_0 = F_a[0].factor(sin(psi), cos(psi))\n",
    "F_a_0"
   ]
  },
  {
   "cell_type": "code",
   "execution_count": null,
   "metadata": {},
   "outputs": [],
   "source": [
    "F_a_1 = F_a[1].factor(sin(psi), cos(psi))\n",
    "F_a_1"
   ]
  },
  {
   "cell_type": "code",
   "execution_count": null,
   "metadata": {},
   "outputs": [],
   "source": [
    "L, l = symbols('L l')\n",
    "F_a_2 = F_a[2].factor()\n",
    "F_a_2"
   ]
  },
  {
   "cell_type": "code",
   "execution_count": null,
   "metadata": {},
   "outputs": [],
   "source": [
    "F_a = Matrix([F_a_0, F_a_1, F_a_2])\n",
    "F_a"
   ]
  },
  {
   "cell_type": "code",
   "execution_count": null,
   "metadata": {},
   "outputs": [],
   "source": [
    "A = R_psi@R.T\n",
    "A"
   ]
  },
  {
   "cell_type": "code",
   "execution_count": null,
   "metadata": {},
   "outputs": [],
   "source": [
    "B = A.pinv()\n",
    "B = simplify(B)\n",
    "B"
   ]
  },
  {
   "cell_type": "code",
   "execution_count": null,
   "metadata": {},
   "outputs": [],
   "source": [
    "simplify(H.inv())"
   ]
  },
  {
   "cell_type": "code",
   "execution_count": null,
   "metadata": {},
   "outputs": [],
   "source": []
  }
 ],
 "metadata": {
  "kernelspec": {
   "display_name": "Python 3",
   "language": "python",
   "name": "python3"
  },
  "language_info": {
   "codemirror_mode": {
    "name": "ipython",
    "version": 3
   },
   "file_extension": ".py",
   "mimetype": "text/x-python",
   "name": "python",
   "nbconvert_exporter": "python",
   "pygments_lexer": "ipython3",
   "version": "3.7.3"
  }
 },
 "nbformat": 4,
 "nbformat_minor": 2
}
