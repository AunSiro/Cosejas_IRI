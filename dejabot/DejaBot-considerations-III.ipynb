{
 "cells": [
  {
   "cell_type": "markdown",
   "metadata": {},
   "source": [
    "# Optimizing trayectories of Omnibot"
   ]
  },
  {
   "cell_type": "code",
   "execution_count": null,
   "metadata": {},
   "outputs": [],
   "source": [
    "import numpy as np\n",
    "import matplotlib.pyplot as plt\n",
    "from mpl_toolkits import mplot3d\n",
    "\n",
    "from numpy import logical_and as npand\n",
    "from numpy import logical_or as npor\n",
    "plt.rcParams.update({'font.size': 15})"
   ]
  },
  {
   "cell_type": "code",
   "execution_count": null,
   "metadata": {},
   "outputs": [],
   "source": [
    "from sympy import (symbols, pi, I, E, cos, sin, exp, tan, simplify, expand, factor, collect,\n",
    "                   apart, cancel, expand_trig, diff, Derivative, Function, integrate, limit,\n",
    "                   series, Eq, solve, dsolve, Matrix, N, preorder_traversal, Float, solve_linear_system,\n",
    "                   eye, zeros, lambdify)\n",
    "from sympy.physics.mechanics import dynamicsymbols, init_vprinting"
   ]
  },
  {
   "cell_type": "code",
   "execution_count": null,
   "metadata": {},
   "outputs": [],
   "source": [
    "from sympy import sqrt"
   ]
  },
  {
   "cell_type": "code",
   "execution_count": null,
   "metadata": {},
   "outputs": [],
   "source": [
    "init_vprinting()"
   ]
  },
  {
   "cell_type": "markdown",
   "metadata": {},
   "source": [
    "### Using the symbolic formulas to generate the numeric model"
   ]
  },
  {
   "cell_type": "code",
   "execution_count": null,
   "metadata": {},
   "outputs": [],
   "source": [
    "def generic_omnibot_mats(n = 4, null_beta = True, equal_r = True):\n",
    "    t, r, d, s = symbols('t r d s')\n",
    "    alpha, beta= dynamicsymbols('alpha beta')\n",
    "    \n",
    "    W = Matrix([\n",
    "        [r, cos(alpha)],\n",
    "        [0, sin(alpha)]\n",
    "    ])\n",
    "    T = Matrix([\n",
    "        [cos(beta), -sin(beta)],\n",
    "        [sin(beta), cos(beta)]\n",
    "    ])\n",
    "    A = Matrix([\n",
    "        [1, 0, -d],\n",
    "        [0, 1, s]\n",
    "    ])\n",
    "    WTA= W.inv()@T.inv()@A\n",
    "    WTA.simplify()\n",
    "    r_n = WTA[0,:]\n",
    "    s_n = WTA[1,:]\n",
    "    \n",
    "    R_list = []\n",
    "    S_list = []\n",
    "    \n",
    "    for ii in range(n):\n",
    "        r_ii = r_n.subs(alpha, symbols('alpha_'+str(ii+1)))\n",
    "        r_ii = r_ii.subs(d, symbols('d_'+str(ii+1)))\n",
    "        r_ii = r_ii.subs(s, symbols('s_'+str(ii+1)))\n",
    "        s_ii = s_n.subs(alpha, symbols('alpha_'+str(ii+1)))\n",
    "        s_ii = s_ii.subs(d, symbols('d_'+str(ii+1)))\n",
    "        s_ii = s_ii.subs(s, symbols('s_'+str(ii+1)))\n",
    "        if not equal_r:\n",
    "            r_ii = r_ii.subs(r, symbols('r_'+str(ii+1)))\n",
    "            s_ii = s_ii.subs(r, symbols('r_'+str(ii+1)))\n",
    "        if null_beta:\n",
    "            r_ii = r_ii.subs(beta, 0)\n",
    "            s_ii = s_ii.subs(beta, 0)\n",
    "        else:\n",
    "            r_ii = r_ii.subs(beta, symbols('beta_'+str(ii+1)))\n",
    "            s_ii = s_ii.subs(beta, symbols('beta_'+str(ii+1)))\n",
    "            \n",
    "        S_list.append(s_ii)\n",
    "        R_list.append(r_ii)\n",
    "    \n",
    "    R = Matrix(R_list)\n",
    "    S = Matrix(S_list)\n",
    "    return R, S"
   ]
  },
  {
   "cell_type": "code",
   "execution_count": null,
   "metadata": {},
   "outputs": [],
   "source": [
    "def integerize(expr):\n",
    "    expr2 = expr\n",
    "    for a in preorder_traversal(expr):\n",
    "        if isinstance(a, Float):\n",
    "            expr2 = expr2.subs(a, round(a))\n",
    "    return expr2\n",
    "\n",
    "def roundize(expr,n = 4):\n",
    "    expr2 = expr\n",
    "    for a in preorder_traversal(expr):\n",
    "        if isinstance(a, Float):\n",
    "            expr2 = expr2.subs(a, round(a,n))\n",
    "    return expr2"
   ]
  },
  {
   "cell_type": "code",
   "execution_count": null,
   "metadata": {},
   "outputs": [],
   "source": [
    "def dejabot_mats():\n",
    "    R, S = generic_omnibot_mats()\n",
    "    L, l = symbols('L l')\n",
    "    for ii in range(4):\n",
    "        alpha = pi/4 * (1 - 2 * ((int((ii+1)/2))%2))\n",
    "        s = L * (1 - 2 * ((int((ii)/2))%2))\n",
    "        d = l * (1 - 2 * (ii%2))\n",
    "        R[ii,:] = R[ii,:].subs(symbols('alpha_'+str(ii+1)), alpha)\n",
    "        R[ii,:] = R[ii,:].subs(symbols('s_'+str(ii+1)), s)\n",
    "        R[ii,:] = R[ii,:].subs(symbols('d_'+str(ii+1)), d)\n",
    "        S[ii,:] = S[ii,:].subs(symbols('alpha_'+str(ii+1)), alpha)\n",
    "        S[ii,:] = S[ii,:].subs(symbols('s_'+str(ii+1)), s)\n",
    "        S[ii,:] = S[ii,:].subs(symbols('d_'+str(ii+1)), d)\n",
    "    return integerize(R), integerize(S)"
   ]
  },
  {
   "cell_type": "code",
   "execution_count": null,
   "metadata": {},
   "outputs": [],
   "source": [
    "def dejabot_mats_2():\n",
    "    R, S = generic_omnibot_mats(null_beta=False)\n",
    "    L, l = symbols('L_2 l_2')\n",
    "    s_list = [l, L, -L, l]\n",
    "    d_list = [L, l, -l, -L]\n",
    "    for ii in range(4):\n",
    "        alpha = pi/4 * (1 - 2 * ((int((ii+1)/2))%2))\n",
    "        s = s_list[ii]\n",
    "        d = d_list[ii]\n",
    "        R[ii,:] = R[ii,:].subs(symbols('alpha_'+str(ii+1)), alpha)\n",
    "        R[ii,:] = R[ii,:].subs(symbols('s_'+str(ii+1)), s)\n",
    "        R[ii,:] = R[ii,:].subs(symbols('d_'+str(ii+1)), d)\n",
    "        R[ii,:] = R[ii,:].subs(symbols('beta_'+str(ii+1)), pi/4)\n",
    "        S[ii,:] = S[ii,:].subs(symbols('alpha_'+str(ii+1)), alpha)\n",
    "        S[ii,:] = S[ii,:].subs(symbols('s_'+str(ii+1)), s)\n",
    "        S[ii,:] = S[ii,:].subs(symbols('d_'+str(ii+1)), d)\n",
    "        S[ii,:] = S[ii,:].subs(symbols('beta_'+str(ii+1)), pi/4)\n",
    "    return integerize(R), integerize(S)"
   ]
  },
  {
   "cell_type": "code",
   "execution_count": null,
   "metadata": {},
   "outputs": [],
   "source": [
    "t, r, d, s, m, I_z, I_w, l, L, L_2 = symbols('t r d s m I_z I_w l L L_2')\n",
    "x, y, alpha, beta, sigma, psi, theta= dynamicsymbols('x y alpha beta sigma psi theta')\n",
    "psi_dot = psi.diff()\n",
    "x, y, alpha, beta, sigma, psi, psi_dot, theta, t, r, d, s, m, I_z, I_w, l, L, L_2"
   ]
  },
  {
   "cell_type": "code",
   "execution_count": null,
   "metadata": {},
   "outputs": [],
   "source": [
    "q = [x, y, psi] + [dynamicsymbols(f'phi_{i+1}') for i in range(4)]\n",
    "q_r = Matrix([x, y, psi])\n",
    "q = Matrix(q)\n",
    "Gamma = [dynamicsymbols(f'tau_{i+1}') for i in range(4)]\n",
    "Gamma = Matrix(Gamma)\n",
    "\n",
    "q, Gamma"
   ]
  },
  {
   "cell_type": "code",
   "execution_count": null,
   "metadata": {},
   "outputs": [],
   "source": [
    "M_w = eye(4)*I_w\n",
    "M_r = Matrix([\n",
    "    [m, 0, 0],\n",
    "    [0, m, 0],\n",
    "    [0, 0, I_z]\n",
    "])\n",
    "R_psi = Matrix([\n",
    "    [cos(psi), -sin(psi), 0],\n",
    "    [sin(psi), cos(psi), 0],\n",
    "    [0, 0, 1]\n",
    "])\n",
    "R, S = dejabot_mats_2()\n",
    "\n",
    "M_r, M_w, R_psi, R"
   ]
  },
  {
   "cell_type": "code",
   "execution_count": null,
   "metadata": {},
   "outputs": [],
   "source": [
    "H = M_r + R_psi@R.T@M_w@R@R_psi.T\n",
    "H = simplify(H)\n",
    "K = R_psi@R.T@M_w@R@R_psi.diff().T\n",
    "K = simplify(K)\n",
    "F_a = R_psi@R.T@Gamma\n",
    "F_a_0 = F_a[0].factor(sin(psi), cos(psi))\n",
    "F_a_1 = F_a[1].factor(sin(psi), cos(psi))\n",
    "F_a_2 = F_a[2].factor()\n",
    "F_a = Matrix([F_a_0, F_a_1, F_a_2])\n",
    "#A = R_psi@R.T COMPROBAR\n",
    "H_inv = simplify(H.inv())\n",
    "R_inv = simplify(R.pinv())\n",
    "H, K, F_a, R_inv#A"
   ]
  },
  {
   "cell_type": "code",
   "execution_count": null,
   "metadata": {},
   "outputs": [],
   "source": [
    "get_h_raw = lambdify([m, I_w, I_z, L_2, r], H)\n",
    "get_k_raw = lambdify([I_w, r, psi_dot], K)\n",
    "#get_a_raw = lambdify([psi, L_2, r], A)\n",
    "get_h_inv_raw = lambdify([m, I_w, I_z, L_2, r], H_inv)"
   ]
  },
  {
   "cell_type": "markdown",
   "metadata": {},
   "source": [
    "## Energy and Direction Study"
   ]
  },
  {
   "cell_type": "markdown",
   "metadata": {},
   "source": [
    "![Esquema de Omnibot](images_dejabot/Omnibot_con_gamma.png)"
   ]
  },
  {
   "cell_type": "markdown",
   "metadata": {},
   "source": [
    "#### Parameter encoding in functions:\n",
    "$$Geom = [l, L, r]$$\n",
    "$$Mass = [m, I_w,I_z]$$\n",
    "$$q = [x, y, \\psi]$$ where q is $q_r$"
   ]
  },
  {
   "cell_type": "code",
   "execution_count": null,
   "metadata": {
    "scrolled": true
   },
   "outputs": [],
   "source": [
    "geom = [0.2096, 0.2096, 0.0667]\n",
    "mass = [15.75, 0.00266, 0.461]\n",
    "q_0 = np.array([0, 0, 0])"
   ]
  },
  {
   "cell_type": "code",
   "execution_count": null,
   "metadata": {},
   "outputs": [],
   "source": [
    "def get_h(geom, mass):\n",
    "    l, L, r = geom\n",
    "    m, I_w, I_z = mass\n",
    "    L_2 = (L+l)/(2**0.5)\n",
    "    return get_h_raw(m, I_w, I_z, L_2, r)\n",
    "\n",
    "def get_k(geom, mass, q_dot):\n",
    "    l, L, r = geom\n",
    "    m, I_w, I_z = mass\n",
    "    x_dot, y_dot, psi_dot = q_dot\n",
    "    return get_k_raw(I_w, r, psi_dot)\n",
    "\n",
    "def get_a(geom, q):\n",
    "    l, L, r = geom\n",
    "    x, y, psi = q\n",
    "    L_2 = (L+l)/(2**0.5)\n",
    "    return get_a_raw(psi, L_2, r)\n",
    "\n",
    "def get_h_inv(geom, mass):\n",
    "    l, L, r = geom\n",
    "    m, I_w, I_z = mass\n",
    "    L_2 = (L+l)/(2**0.5)\n",
    "    return get_h_inv_raw(m, I_w, I_z, L_2, r)\n"
   ]
  },
  {
   "cell_type": "code",
   "execution_count": null,
   "metadata": {},
   "outputs": [],
   "source": [
    "# L_2:\n",
    "2**0.5 * 0.2096"
   ]
  },
  {
   "cell_type": "code",
   "execution_count": null,
   "metadata": {
    "scrolled": true
   },
   "outputs": [],
   "source": [
    "#A_arr = get_a(geom, q_0)\n",
    "#A_arr"
   ]
  },
  {
   "cell_type": "code",
   "execution_count": null,
   "metadata": {},
   "outputs": [],
   "source": [
    "simplify(R*r/(sqrt(2)))"
   ]
  },
  {
   "cell_type": "markdown",
   "metadata": {},
   "source": [
    "#### Lets work with in coordinate system 2"
   ]
  },
  {
   "cell_type": "code",
   "execution_count": null,
   "metadata": {},
   "outputs": [],
   "source": [
    "w, w_1, w_2, a, a_1, a_2 = symbols('w w_1 w_2 a a_1 a_2')\n",
    "q_d = Matrix([w_1, w_2, psi.diff()])\n",
    "q_d_d = Matrix([a_1, a_2, psi.diff(t,2)])\n",
    "q_d_d, q_d"
   ]
  },
  {
   "cell_type": "code",
   "execution_count": null,
   "metadata": {},
   "outputs": [],
   "source": [
    "q_d_w = simplify(R @ q_d)\n",
    "q_d_w"
   ]
  },
  {
   "cell_type": "code",
   "execution_count": null,
   "metadata": {},
   "outputs": [],
   "source": [
    "simplify(q_d_w*r/(sqrt(2)))"
   ]
  },
  {
   "cell_type": "code",
   "execution_count": null,
   "metadata": {},
   "outputs": [],
   "source": [
    "def max_speed_axes_2(psi_dot):\n",
    "    L_2 = 0.29642\n",
    "    r = 0.0667\n",
    "    phi_dot_max = 2 * np.pi * 7000/(49*60)\n",
    "    return(phi_dot_max * r/(2**0.5) - np.abs(L_2 * psi_dot))"
   ]
  },
  {
   "cell_type": "code",
   "execution_count": null,
   "metadata": {},
   "outputs": [],
   "source": [
    "phi_dot_max = 2 * np.pi * 7000/(49*60)\n",
    "psi_dot_max = phi_dot_max * 0.0667/(2**0.5 * 0.29642)\n",
    "psi_dot_max"
   ]
  },
  {
   "cell_type": "code",
   "execution_count": null,
   "metadata": {},
   "outputs": [],
   "source": [
    "from matplotlib import cm"
   ]
  },
  {
   "cell_type": "code",
   "execution_count": null,
   "metadata": {},
   "outputs": [],
   "source": [
    "percent = [0, 0.25, 0.5, 0.75, 0.95]\n",
    "viridis = cm.get_cmap('viridis', 12)\n",
    "\n",
    "fig, ax = plt.subplots(figsize = [8,8])\n",
    "ax.set_title('Speed Envelope', picker=True)\n",
    "\n",
    "ax.set_xlim([-0.8, 0.8])\n",
    "ax.set_ylim([-0.8, 0.8])\n",
    "ax.set_xlabel('$w_1$, m/s')\n",
    "ax.set_ylabel('$w_2$, m/s')\n",
    "\n",
    "for ii in percent:\n",
    "    psi_val = ii * psi_dot_max\n",
    "    mx_spd = max_speed_axes_2(psi_val)\n",
    "\n",
    "    x_coord = [mx_spd, mx_spd, -mx_spd, -mx_spd, mx_spd]\n",
    "    y_coord = [mx_spd, -mx_spd, -mx_spd, mx_spd, mx_spd]\n",
    "    plt.plot(x_coord, y_coord, color = viridis(ii), label = str(ii)+'$\\dot{\\psi}_{max}$')\n",
    "plt.grid()\n",
    "plt.legend()"
   ]
  },
  {
   "cell_type": "markdown",
   "metadata": {},
   "source": [
    "## Electric considerations"
   ]
  },
  {
   "cell_type": "markdown",
   "metadata": {},
   "source": [
    "Complete Electric Motor Model\n",
    "\n",
    "$$ V = K_m N\\dot{\\phi} + Ri$$\n",
    "$$ \\tau_m = N K_ei\\mu_{trans} - \\tau_r$$\n",
    "$$ \\tau_r = a \\dot{\\phi} + b·sign(\\dot{\\phi}) $$\n",
    "\n",
    "Simplified Electric Motor Model\n",
    "\n",
    "$$ V = K_m N\\dot{\\phi} + Ri$$\n",
    "$$ \\tau_m = N K_ei$$"
   ]
  },
  {
   "cell_type": "code",
   "execution_count": null,
   "metadata": {},
   "outputs": [],
   "source": [
    "a, b, k_e, k_m, n, r_e, tau_m = symbols('a b K_e K_m N R_e tau_m')\n",
    "\n",
    "a, b, k_e, k_m, n, r_e,tau_m"
   ]
  },
  {
   "cell_type": "code",
   "execution_count": null,
   "metadata": {},
   "outputs": [],
   "source": [
    "from sympy.functions import sign"
   ]
  },
  {
   "cell_type": "markdown",
   "metadata": {},
   "source": [
    "Movimiento en uniforme en ejes 2: : $$\\vec{w} = \\left[\\begin{matrix}w_1\\\\w_2\\\\0\\end{matrix}\\right]$$"
   ]
  },
  {
   "cell_type": "code",
   "execution_count": null,
   "metadata": {
    "scrolled": true
   },
   "outputs": [],
   "source": [
    "q_d, q_d_w"
   ]
  },
  {
   "cell_type": "code",
   "execution_count": null,
   "metadata": {},
   "outputs": [],
   "source": [
    "phi = dynamicsymbols('\\phi')\n",
    "mu = symbols('\\mu')\n",
    "phi_dot = diff(phi)\n",
    "phi, phi_dot, mu"
   ]
  },
  {
   "cell_type": "code",
   "execution_count": null,
   "metadata": {},
   "outputs": [],
   "source": [
    "i = tau_m/(k_e * n) # * mu\n",
    "i"
   ]
  },
  {
   "cell_type": "code",
   "execution_count": null,
   "metadata": {},
   "outputs": [],
   "source": [
    "v = k_m * n * phi_dot + r_e * i\n",
    "v"
   ]
  },
  {
   "cell_type": "code",
   "execution_count": null,
   "metadata": {},
   "outputs": [],
   "source": [
    "pow_e = expand(i*v)\n",
    "pow_e"
   ]
  },
  {
   "cell_type": "code",
   "execution_count": null,
   "metadata": {},
   "outputs": [],
   "source": [
    "pow_e_simp_num_nofric = pow_e.subs(k_e, 0.0337).subs(k_m, 0.03148).subs(r_e, 1.84615).subs(n, 49)\n",
    "roundize(pow_e_simp_num_nofric,3)"
   ]
  },
  {
   "cell_type": "code",
   "execution_count": null,
   "metadata": {},
   "outputs": [],
   "source": [
    "pow_e_simp_f = lambdify([phi_dot, tau_m], pow_e_simp_num_nofric)"
   ]
  },
  {
   "cell_type": "markdown",
   "metadata": {},
   "source": [
    "### Max and min torque as $f(\\dot\\phi)$ with simplified model"
   ]
  },
  {
   "cell_type": "code",
   "execution_count": null,
   "metadata": {},
   "outputs": [],
   "source": [
    "v_max = symbols('V_{max}')\n",
    "v_max"
   ]
  },
  {
   "cell_type": "code",
   "execution_count": null,
   "metadata": {},
   "outputs": [],
   "source": [
    "i_v_max = (v_max - k_m * n *  phi_dot)/r_e\n",
    "i_v_max"
   ]
  },
  {
   "cell_type": "code",
   "execution_count": null,
   "metadata": {},
   "outputs": [],
   "source": [
    "tau_m_v_max = expand(n * k_e * i_v_max)\n",
    "tau_m_v_max"
   ]
  },
  {
   "cell_type": "code",
   "execution_count": null,
   "metadata": {},
   "outputs": [],
   "source": [
    "tau_m_v_max_num_simp = tau_m_v_max.subs(k_e, 0.0337).subs(k_m, 0.03148).subs(r_e, 1.84615).subs(n, 49).subs(v_max, 24)\n",
    "roundize(tau_m_v_max_num_simp,3)"
   ]
  },
  {
   "cell_type": "code",
   "execution_count": null,
   "metadata": {},
   "outputs": [],
   "source": [
    "tau_m_v_min_num_simp = tau_m_v_max.subs(k_e, 0.0337).subs(k_m, 0.03148).subs(r_e, 1.84615).subs(n, 49).subs(v_max, -24)\n",
    "roundize(tau_m_v_min_num_simp,3)"
   ]
  },
  {
   "cell_type": "code",
   "execution_count": null,
   "metadata": {},
   "outputs": [],
   "source": [
    "tau_m_v_zero_num_simp = tau_m_v_max.subs(k_e, 0.0337).subs(k_m, 0.03148).subs(r_e, 1.84615).subs(n, 49).subs(v_max, 0)\n",
    "roundize(tau_m_v_zero_num_simp,3)"
   ]
  },
  {
   "cell_type": "code",
   "execution_count": null,
   "metadata": {},
   "outputs": [],
   "source": [
    "tau_m_v_max_f = lambdify([phi_dot], tau_m_v_max_num_simp)\n",
    "tau_m_v_min_f = lambdify([phi_dot], tau_m_v_min_num_simp)\n",
    "tau_m_v_zero_f = lambdify([phi_dot], tau_m_v_zero_num_simp)"
   ]
  },
  {
   "cell_type": "code",
   "execution_count": null,
   "metadata": {},
   "outputs": [],
   "source": [
    "phi_dot_max_no_fricc = 15.558955475455715\n",
    "tau_m_v_max_f(phi_dot_max_no_fricc), tau_m_v_min_f(-phi_dot_max_no_fricc)"
   ]
  },
  {
   "cell_type": "code",
   "execution_count": null,
   "metadata": {},
   "outputs": [],
   "source": [
    "NN = 100\n",
    "phi_dot_arr_simp = np.linspace(0, phi_dot_max_no_fricc, NN)\n",
    "_1 = np.ones([NN,1])\n",
    "phi_dot_mat_simp = _1 @ np.expand_dims(phi_dot_arr_simp,0)\n",
    "tau_m_mat_simp = np.zeros_like(phi_dot_mat_simp)\n",
    "for ii in range(NN):\n",
    "    tau_m_mat_simp[:,ii] = np.linspace(tau_m_v_min_f(phi_dot_arr_simp[ii]), tau_m_v_max_f(phi_dot_arr_simp[ii]), NN)\n",
    "pow_e_mat_simp = pow_e_simp_f(phi_dot_mat_simp, tau_m_mat_simp)"
   ]
  },
  {
   "cell_type": "code",
   "execution_count": null,
   "metadata": {},
   "outputs": [],
   "source": [
    "fig, ax = plt.subplots(figsize = [8,12])\n",
    "ax.set_title('Potencia eléctrica del motor sin rozamiento', picker=True)\n",
    "ax.contourf(phi_dot_mat_simp, tau_m_mat_simp, pow_e_mat_simp, levels = 30)\n",
    "CS = ax.contour(phi_dot_mat_simp, tau_m_mat_simp, pow_e_mat_simp, colors = 'k',\n",
    "#               colors = ['w','w','w','w','w','k','k','k','k','k'], \n",
    "               levels = [-50,-20,-10,0,10,20,50,100,150,200,300,400,500]\n",
    "#                levels = 20\n",
    "               )\n",
    "ax.clabel(CS, inline=1, fontsize=10, fmt = '%i W')\n",
    "plt.plot(phi_dot_mat_simp[-1,:],tau_m_mat_simp[-1,:], 'k')\n",
    "plt.plot(phi_dot_mat_simp[0,:],tau_m_mat_simp[0,:], 'k')\n",
    "\n",
    "ax.set_xlabel('$\\dot{\\phi}$')\n",
    "ax.set_ylabel('$\\\\tau_m$')"
   ]
  },
  {
   "cell_type": "markdown",
   "metadata": {},
   "source": [
    "### Comparación con modelo completo"
   ]
  },
  {
   "cell_type": "code",
   "execution_count": null,
   "metadata": {
    "scrolled": true
   },
   "outputs": [],
   "source": [
    "i = (tau_m + a * phi_dot + b * sign(phi_dot))/(k_e * mu * n)\n",
    "i"
   ]
  },
  {
   "cell_type": "code",
   "execution_count": null,
   "metadata": {},
   "outputs": [],
   "source": [
    "v = k_m * n * phi_dot + r_e * i\n",
    "v"
   ]
  },
  {
   "cell_type": "code",
   "execution_count": null,
   "metadata": {
    "scrolled": true
   },
   "outputs": [],
   "source": [
    "pow_e = expand(i*v)\n",
    "pow_e"
   ]
  },
  {
   "cell_type": "code",
   "execution_count": null,
   "metadata": {},
   "outputs": [],
   "source": [
    "#pow_e = pow_e.replace(sign(phi_dot)**2, 1)\n",
    "#pow_e_simp = collect(pow_e.replace(sign(phi_dot), 1), phi_dot)\n",
    "pow_e_simp = collect(pow_e, phi_dot)\n",
    "pow_e_simp"
   ]
  },
  {
   "cell_type": "code",
   "execution_count": null,
   "metadata": {
    "scrolled": true
   },
   "outputs": [],
   "source": [
    "pow_e_simp_num = pow_e_simp.subs(a, 0.01).subs(b, 0.4).subs(k_e, 0.0337).subs(k_m, 0.03148).subs(r_e, 1.84615).subs(n, 49).subs(mu, 0.6)\n",
    "roundize(pow_e_simp_num,3)"
   ]
  },
  {
   "cell_type": "code",
   "execution_count": null,
   "metadata": {},
   "outputs": [],
   "source": [
    "pow_e_f = lambdify([phi_dot, tau_m], pow_e_simp_num)"
   ]
  },
  {
   "cell_type": "markdown",
   "metadata": {},
   "source": [
    "### Max torque as $f(\\dot\\phi)$ with complete model"
   ]
  },
  {
   "cell_type": "code",
   "execution_count": null,
   "metadata": {},
   "outputs": [],
   "source": [
    "i_v_max = (v_max - k_m * n *  phi_dot)/r_e\n",
    "i_v_max"
   ]
  },
  {
   "cell_type": "code",
   "execution_count": null,
   "metadata": {},
   "outputs": [],
   "source": [
    "tau_r = a * phi_dot + b * sign(phi_dot)\n",
    "tau_r"
   ]
  },
  {
   "cell_type": "code",
   "execution_count": null,
   "metadata": {
    "scrolled": true
   },
   "outputs": [],
   "source": [
    "tau_m_v_max = expand(n * k_e * i_v_max * mu - tau_r)\n",
    "tau_m_v_max"
   ]
  },
  {
   "cell_type": "code",
   "execution_count": null,
   "metadata": {},
   "outputs": [],
   "source": [
    "tau_m_v_max_num = tau_m_v_max.subs(k_e, 0.0337).subs(k_m, 0.03148).subs(r_e, 1.84615).subs(n, 49).subs(a, 0.01).subs(b, 0.4).subs(mu, 0.6).subs(v_max, 24)\n",
    "roundize(tau_m_v_max_num,3)"
   ]
  },
  {
   "cell_type": "code",
   "execution_count": null,
   "metadata": {},
   "outputs": [],
   "source": [
    "tau_m_v_min_num = tau_m_v_max.subs(k_e, 0.0337).subs(k_m, 0.03148).subs(r_e, 1.84615).subs(n, 49).subs(v_max, -24).subs(a, 0.01).subs(b, 0.4).subs(mu, 0.6)\n",
    "roundize(tau_m_v_min_num,3)"
   ]
  },
  {
   "cell_type": "code",
   "execution_count": null,
   "metadata": {},
   "outputs": [],
   "source": [
    "tau_m_v_zero_num = tau_m_v_max.subs(k_e, 0.0337).subs(k_m, 0.03148).subs(r_e, 1.84615).subs(n, 49).subs(v_max, 0).subs(a, 0.01).subs(b, 0.4).subs(mu, 0.6)\n",
    "roundize(tau_m_v_zero_num,3)"
   ]
  },
  {
   "cell_type": "code",
   "execution_count": null,
   "metadata": {},
   "outputs": [],
   "source": [
    "tau_m_v_max_f_comp = lambdify([phi_dot], tau_m_v_max_num)\n",
    "tau_m_v_min_f_comp = lambdify([phi_dot], tau_m_v_min_num)\n",
    "tau_m_v_zero_f_comp = lambdify([phi_dot], tau_m_v_zero_num)"
   ]
  },
  {
   "cell_type": "code",
   "execution_count": null,
   "metadata": {},
   "outputs": [],
   "source": [
    "phi_dot_max = 14.895826088293878\n",
    "tau_m_v_max_f_comp(phi_dot_max),tau_m_v_min_f_comp(-phi_dot_max)"
   ]
  },
  {
   "cell_type": "code",
   "execution_count": null,
   "metadata": {},
   "outputs": [],
   "source": [
    "NN = 100\n",
    "phi_dot_arr = np.linspace(0, phi_dot_max, NN)\n",
    "_1 = np.ones([NN,1])\n",
    "phi_dot_mat = _1 @ np.expand_dims(phi_dot_arr,0)\n",
    "tau_m_mat = np.zeros_like(phi_dot_mat)\n",
    "for ii in range(NN):\n",
    "    tau_m_mat[:,ii] = np.linspace(tau_m_v_min_f_comp(phi_dot_arr[ii]), tau_m_v_max_f_comp(phi_dot_arr[ii]), NN)\n",
    "pow_e_mat = pow_e_f(phi_dot_mat, tau_m_mat)"
   ]
  },
  {
   "cell_type": "code",
   "execution_count": null,
   "metadata": {},
   "outputs": [],
   "source": [
    "fig, ax = plt.subplots(figsize = [8,12])\n",
    "ax.set_title('Potencia eléctrica del motor con rozamiento', picker=True)\n",
    "ax.contourf(phi_dot_mat, tau_m_mat, pow_e_mat, levels = 30)\n",
    "CS = ax.contour(phi_dot_mat, tau_m_mat, pow_e_mat,  colors = 'k',\n",
    "#               colors = ['w','w','w','w','w','k','k','k','k','k'], \n",
    "               levels = [-50,-20,-10,0,10,20,50,100,150,200,300,400,500]\n",
    "#                levels = 20\n",
    "               )\n",
    "ax.clabel(CS, inline=1, fontsize=10, fmt = '%i W')\n",
    "plt.plot(phi_dot_mat[0,:],tau_m_mat[0,:], 'k')\n",
    "plt.plot(phi_dot_mat[-1,:],tau_m_mat[-1,:], 'k')\n",
    "\n",
    "ax.set_xlabel('$\\dot{\\phi}$')\n",
    "ax.set_ylabel('$\\\\tau_m$')"
   ]
  },
  {
   "cell_type": "code",
   "execution_count": null,
   "metadata": {
    "scrolled": false
   },
   "outputs": [],
   "source": [
    "plt.figure(figsize = [15,12])\n",
    "\n",
    "ax = plt.subplot(1,2,1)\n",
    "ax.set_title('Motor electric power, without friction', picker=True)\n",
    "#ax.contourf(phi_dot_mat_simp, tau_m_mat_simp, pow_e_mat_simp, levels = 30)\n",
    "plt.plot(phi_dot_mat_simp[0,:],tau_m_mat_simp[0,:], 'k')\n",
    "plt.plot(phi_dot_mat_simp[-1,:],tau_m_mat_simp[-1,:], 'k')\n",
    "CS = ax.contour(phi_dot_mat_simp, tau_m_mat_simp, pow_e_mat_simp, \n",
    "#               colors = ['w','w','w','w','w','k','k','k','k','k'], \n",
    "               levels = [-50,-20,0,20,50,100,150,200,300,400,500])\n",
    "ax.clabel(CS, inline=1, fontsize=10, fmt = '%i W')\n",
    "\n",
    "ax.set_xlabel('$\\dot{\\phi}, rad/s$')\n",
    "ax.set_ylabel('$\\\\tau_m, Nm$')\n",
    "ax.set_xlim([0, 16])\n",
    "ax.set_ylim([-45, 22.5])\n",
    "plt.grid()\n",
    "\n",
    "ax = plt.subplot(1,2,2)\n",
    "ax.set_title('Motor electric power, with friction', picker=True)\n",
    "#ax.contourf(phi_dot_mat, tau_m_mat, pow_e_mat, levels = 30)\n",
    "CS = ax.contour(phi_dot_mat, tau_m_mat, pow_e_mat, \n",
    "#               colors = ['w','w','w','w','w','k','k','k','k','k'], \n",
    "               levels = [-50,-20,0,20,50,100,150,200,300,400,500])\n",
    "ax.clabel(CS, inline=1, fontsize=10, fmt = '%i W')\n",
    "plt.plot(phi_dot_mat[0,:],tau_m_mat[0,:], 'k')\n",
    "plt.plot(phi_dot_mat[-1,:],tau_m_mat[-1,:], 'k')\n",
    "\n",
    "ax.set_xlabel('$\\dot{\\phi}, rad/s$')\n",
    "ax.set_ylabel('$\\\\tau_m, Nm$')\n",
    "ax.set_xlim([0, 16])\n",
    "ax.set_ylim([-45, 22.5])\n",
    "plt.grid()\n"
   ]
  },
  {
   "cell_type": "markdown",
   "metadata": {},
   "source": [
    "## Situación y ecuación principal\n",
    "\n",
    "$$ Ha+Kw=R^T\\Gamma$$\n",
    "Si $\\dot\\psi = 0$:\n",
    "$$ Ha = R^T\\Gamma$$\n",
    "$$ \\Gamma = R^{-1T}Ha$$"
   ]
  },
  {
   "cell_type": "code",
   "execution_count": null,
   "metadata": {},
   "outputs": [],
   "source": [
    "q_d_d"
   ]
  },
  {
   "cell_type": "code",
   "execution_count": null,
   "metadata": {},
   "outputs": [],
   "source": [
    "R_inv.T"
   ]
  },
  {
   "cell_type": "code",
   "execution_count": null,
   "metadata": {},
   "outputs": [],
   "source": [
    "H"
   ]
  },
  {
   "cell_type": "code",
   "execution_count": null,
   "metadata": {},
   "outputs": [],
   "source": [
    "gamma = R_inv.T @ H @ q_d_d.subs( psi.diff(t,2),0)\n",
    "gamma"
   ]
  },
  {
   "cell_type": "markdown",
   "metadata": {},
   "source": [
    "## Potencia eléctrica en función de la velocidad de las ruedas"
   ]
  },
  {
   "cell_type": "code",
   "execution_count": null,
   "metadata": {
    "scrolled": true
   },
   "outputs": [],
   "source": [
    "q_d_w.subs( psi.diff(t,1),0)"
   ]
  },
  {
   "cell_type": "code",
   "execution_count": null,
   "metadata": {
    "scrolled": true
   },
   "outputs": [],
   "source": [
    "roundize(pow_e_simp_num_nofric,3)"
   ]
  },
  {
   "cell_type": "code",
   "execution_count": null,
   "metadata": {},
   "outputs": [],
   "source": [
    "total_p = 0\n",
    "for iii in range(4):\n",
    "    total_p += pow_e_simp_num_nofric.subs(phi_dot, q_d_w[iii]).subs( psi.diff(t,1),0).subs(tau_m, gamma[iii])\n",
    "total_p = simplify(total_p.subs(sqrt(2),2**0.5).subs(r, 0.0667).subs(L_2, 0.29642).subs(m,15.75).subs(I_w, 0.00266))\n",
    "roundize(total_p, 2)"
   ]
  },
  {
   "cell_type": "code",
   "execution_count": null,
   "metadata": {},
   "outputs": [],
   "source": [
    "total_pow_e_f_simp = lambdify([w_1, w_2, a_1, a_2], total_p)"
   ]
  },
  {
   "cell_type": "markdown",
   "metadata": {},
   "source": [
    "### Comparación con el modelo con rozamiento"
   ]
  },
  {
   "cell_type": "code",
   "execution_count": null,
   "metadata": {},
   "outputs": [],
   "source": [
    "roundize(pow_e_simp_num,3)"
   ]
  },
  {
   "cell_type": "code",
   "execution_count": null,
   "metadata": {
    "scrolled": true
   },
   "outputs": [],
   "source": [
    "total_p_confric = 0\n",
    "for iii in range(4):\n",
    "    total_p_confric += pow_e_simp_num.subs(phi_dot, q_d_w[iii]).subs(psi.diff(t,1),0).subs(tau_m, gamma[iii])\n",
    "total_p_confric = simplify(total_p_confric.subs(sqrt(2),2**0.5).subs(r, 0.0667).subs(L_2, 0.29642).subs(m,15.75).subs(I_w, 0.00266))\n",
    "roundize(total_p_confric, 2)"
   ]
  },
  {
   "cell_type": "code",
   "execution_count": null,
   "metadata": {},
   "outputs": [],
   "source": [
    "total_pow_e_f = lambdify([w_1, w_2, a_1, a_2], total_p_confric)"
   ]
  },
  {
   "cell_type": "markdown",
   "metadata": {},
   "source": [
    "### Model modified:\n",
    "\n",
    "\n",
    "$$ V = K_m N\\dot{\\phi} + Ri$$\n",
    "$$ \\tau_m = N K_ei\\mu_{trans} - \\tau_r$$\n",
    "$$ \\tau_r = a \\dot{\\phi} + b·sign(\\dot{\\phi}) $$\n",
    "$$ P_{e}=\\begin{cases}\n",
    "               Vi \\text{  if  } Vi\\geq 0\\\\\n",
    "               0 \\text{  if  } Vi < 0\n",
    "            \\end{cases}$$"
   ]
  },
  {
   "cell_type": "code",
   "execution_count": null,
   "metadata": {},
   "outputs": [],
   "source": [
    "def only_positive(fun):\n",
    "    def wrap(*args, **kwargs):\n",
    "        result = fun(*args, **kwargs)\n",
    "        result_fixed = np.where(result >=0, result, 0)\n",
    "        return result_fixed\n",
    "    return wrap"
   ]
  },
  {
   "cell_type": "code",
   "execution_count": null,
   "metadata": {},
   "outputs": [],
   "source": [
    "def ejemplo(x):\n",
    "    return x\n",
    "\n",
    "ejemplo_2 = only_positive(ejemplo)\n",
    "for i in range(10):\n",
    "    print(ejemplo_2(i-5))"
   ]
  },
  {
   "cell_type": "code",
   "execution_count": null,
   "metadata": {},
   "outputs": [],
   "source": [
    "gamma"
   ]
  },
  {
   "cell_type": "code",
   "execution_count": null,
   "metadata": {},
   "outputs": [],
   "source": [
    "pow_e_simp_num"
   ]
  },
  {
   "cell_type": "code",
   "execution_count": null,
   "metadata": {
    "scrolled": true
   },
   "outputs": [],
   "source": [
    "def total_pow_e_f_mod(w1, w2, a1, a2):\n",
    "    p = 0\n",
    "    for iii in range(4):\n",
    "        p_motor = pow_e_simp_num.subs(phi_dot, q_d_w[iii]).subs(psi.diff(t,1),0).subs(tau_m, gamma[iii])\n",
    "        p_motor = simplify(p_motor.subs(sqrt(2),2**0.5).subs(r, 0.0667).subs(L_2, 0.29642).subs(m,15.75).subs(I_w, 0.00266))\n",
    "        p_motor_f = only_positive(lambdify([w_1, w_2, a_1, a_2], p_motor))\n",
    "        p += p_motor_f(w1, w2, a1, a2)\n",
    "    return p"
   ]
  },
  {
   "cell_type": "markdown",
   "metadata": {},
   "source": [
    "### Max and min acceleration\n",
    "\n",
    "$$Ha = R^T\\Gamma$$\n",
    "$$a = H^{-1}R^T\\Gamma$$"
   ]
  },
  {
   "cell_type": "code",
   "execution_count": null,
   "metadata": {},
   "outputs": [],
   "source": [
    "H_inv"
   ]
  },
  {
   "cell_type": "code",
   "execution_count": null,
   "metadata": {},
   "outputs": [],
   "source": [
    "q_d_w.subs( psi.diff(t,1),0)"
   ]
  },
  {
   "cell_type": "code",
   "execution_count": null,
   "metadata": {},
   "outputs": [],
   "source": [
    "tau_m_v_max_num_simp"
   ]
  },
  {
   "cell_type": "code",
   "execution_count": null,
   "metadata": {
    "scrolled": true
   },
   "outputs": [],
   "source": [
    "max_gamma_simp = Matrix([0,0,0,0])\n",
    "min_gamma_simp = Matrix([0,0,0,0])\n",
    "zero_gamma_simp = Matrix([0,0,0,0])\n",
    "for iii in range(4):\n",
    "    max_gamma_simp[iii] = tau_m_v_max_num_simp.subs(phi_dot, q_d_w.subs( psi.diff(t,1),0)[iii]).subs(sqrt(2),2**0.5).subs(r, 0.0667)\n",
    "    min_gamma_simp[iii] = tau_m_v_min_num_simp.subs(phi_dot, q_d_w.subs( psi.diff(t,1),0)[iii]).subs(sqrt(2),2**0.5).subs(r, 0.0667)\n",
    "    zero_gamma_simp[iii] = tau_m_v_zero_num_simp.subs(phi_dot, q_d_w.subs( psi.diff(t,1),0)[iii]).subs(sqrt(2),2**0.5).subs(r, 0.0667)\n",
    "roundize(max_gamma_simp,3),roundize(min_gamma_simp,3),roundize(zero_gamma_simp,3)"
   ]
  },
  {
   "cell_type": "code",
   "execution_count": null,
   "metadata": {},
   "outputs": [],
   "source": [
    "max_a_simp = H_inv@R.T@max_gamma_simp\n",
    "min_a_simp = H_inv@R.T@min_gamma_simp\n",
    "zero_a_simp = H_inv@R.T@zero_gamma_simp\n",
    "max_a_simp = max_a_simp.subs(sqrt(2),2**0.5).subs(r, 0.0667).subs(m,15.75).subs(I_w, 0.00266)\n",
    "min_a_simp = min_a_simp.subs(sqrt(2),2**0.5).subs(r, 0.0667).subs(m,15.75).subs(I_w, 0.00266)\n",
    "zero_a_simp = zero_a_simp.subs(sqrt(2),2**0.5).subs(r, 0.0667).subs(m,15.75).subs(I_w, 0.00266)\n",
    "roundize(max_a_simp,3),roundize(min_a_simp,3),roundize(zero_a_simp,3)"
   ]
  },
  {
   "cell_type": "code",
   "execution_count": null,
   "metadata": {},
   "outputs": [],
   "source": [
    "max_a_simp_f = lambdify([w_1],max_a_simp[0])\n",
    "min_a_simp_f = lambdify([w_1],min_a_simp[0])\n",
    "zero_a_simp_f = lambdify([w_1],zero_a_simp[0])"
   ]
  },
  {
   "cell_type": "code",
   "execution_count": null,
   "metadata": {},
   "outputs": [],
   "source": [
    "max_speed_ax_simp = phi_dot_max_no_fricc*0.0667/(2**0.5)\n",
    "max_speed_ax_simp, max_a_simp[0].subs(w_1, max_speed_ax_simp)"
   ]
  },
  {
   "cell_type": "code",
   "execution_count": null,
   "metadata": {},
   "outputs": [],
   "source": [
    "NN = 100\n",
    "speed_arr_simp = np.linspace(0, max_speed_ax_simp, NN)\n",
    "_1 = np.ones([NN,1])\n",
    "speed_mat_simp = _1 @ np.expand_dims(speed_arr_simp,0)\n",
    "acc_mat_simp = np.zeros_like(speed_mat_simp)\n",
    "for ii in range(NN):\n",
    "    acc_mat_simp[:,ii] = np.linspace(min_a_simp_f(speed_arr_simp[ii]), max_a_simp_f(speed_arr_simp[ii]), NN)\n",
    "total_pow_e_mat_simp = total_pow_e_f_simp(speed_mat_simp,0,acc_mat_simp,0)"
   ]
  },
  {
   "cell_type": "code",
   "execution_count": null,
   "metadata": {},
   "outputs": [],
   "source": [
    "fig, ax = plt.subplots(figsize = [8,12])\n",
    "ax.set_title('Potencia eléctrica total sin rozamiento', picker=True)\n",
    "ax.contourf(speed_mat_simp, acc_mat_simp, total_pow_e_mat_simp, levels = 30)\n",
    "CS = ax.contour(speed_mat_simp, acc_mat_simp, total_pow_e_mat_simp, colors = 'k',\n",
    "#               colors = ['w','w','w','w','w','k','k','k','k','k'], \n",
    "               levels = [-100,-50,-20,0,20,50,100,200,300,400,600,800,1000]\n",
    "#                levels = 20\n",
    "               )\n",
    "ax.clabel(CS, inline=1, fontsize=10, fmt = '%i W')\n",
    "#plt.plot(phi_dot_mat_simp[-1,:],tau_m_mat_simp[-1,:], 'k')\n",
    "#plt.plot(phi_dot_mat_simp[0,:],tau_m_mat_simp[0,:], 'k')\n",
    "\n",
    "ax.set_xlabel('$w_1, m/s$')\n",
    "ax.set_ylabel('$a_1, m/s^2$')"
   ]
  },
  {
   "cell_type": "markdown",
   "metadata": {},
   "source": [
    "### Comparación con modelo completo"
   ]
  },
  {
   "cell_type": "code",
   "execution_count": null,
   "metadata": {
    "scrolled": true
   },
   "outputs": [],
   "source": [
    "tau_m_v_max_num"
   ]
  },
  {
   "cell_type": "code",
   "execution_count": null,
   "metadata": {},
   "outputs": [],
   "source": [
    "max_gamma = Matrix([0,0,0,0])\n",
    "min_gamma = Matrix([0,0,0,0])\n",
    "zero_gamma = Matrix([0,0,0,0])\n",
    "for iii in range(4):\n",
    "    max_gamma[iii] = tau_m_v_max_num.subs(phi_dot, q_d_w.subs( psi.diff(t,1),0)[iii]).subs(sqrt(2),2**0.5).subs(r, 0.0667)\n",
    "    min_gamma[iii] = tau_m_v_min_num.subs(phi_dot, q_d_w.subs( psi.diff(t,1),0)[iii]).subs(sqrt(2),2**0.5).subs(r, 0.0667)\n",
    "    zero_gamma[iii] = tau_m_v_zero_num.subs(phi_dot, q_d_w.subs( psi.diff(t,1),0)[iii]).subs(sqrt(2),2**0.5).subs(r, 0.0667)\n",
    "roundize(max_gamma,3),roundize(min_gamma,3),roundize(zero_gamma,3)"
   ]
  },
  {
   "cell_type": "code",
   "execution_count": null,
   "metadata": {
    "scrolled": true
   },
   "outputs": [],
   "source": [
    "max_a = H_inv@R.T@max_gamma\n",
    "min_a = H_inv@R.T@min_gamma\n",
    "zero_a = H_inv@R.T@zero_gamma\n",
    "max_a = max_a.subs(sqrt(2),2**0.5).subs(r, 0.0667).subs(m,15.75).subs(I_w, 0.00266)\n",
    "min_a = min_a.subs(sqrt(2),2**0.5).subs(r, 0.0667).subs(m,15.75).subs(I_w, 0.00266)\n",
    "zero_a = zero_a.subs(sqrt(2),2**0.5).subs(r, 0.0667).subs(m,15.75).subs(I_w, 0.00266)\n",
    "roundize(max_a,3),roundize(min_a,3),roundize(zero_a,3)"
   ]
  },
  {
   "cell_type": "code",
   "execution_count": null,
   "metadata": {},
   "outputs": [],
   "source": [
    "max_a_f = lambdify([w_1],max_a[0])\n",
    "min_a_f = lambdify([w_1],min_a[0])\n",
    "zero_a_f = lambdify([w_1],zero_a[0])"
   ]
  },
  {
   "cell_type": "code",
   "execution_count": null,
   "metadata": {},
   "outputs": [],
   "source": [
    "max_speed_ax = phi_dot_max*0.0667/(2**0.5)\n",
    "max_speed_ax, max_a[0].subs(w_1, max_speed_ax)"
   ]
  },
  {
   "cell_type": "code",
   "execution_count": null,
   "metadata": {},
   "outputs": [],
   "source": [
    "phi_dot_max"
   ]
  },
  {
   "cell_type": "code",
   "execution_count": null,
   "metadata": {},
   "outputs": [],
   "source": [
    "NN = 300\n",
    "speed_arr = np.linspace(0, max_speed_ax, NN)\n",
    "_1 = np.ones([NN,1])\n",
    "speed_mat = _1 @ np.expand_dims(speed_arr,0)\n",
    "acc_mat = np.zeros_like(speed_mat)\n",
    "for ii in range(NN):\n",
    "    acc_mat[:,ii] = np.linspace(min_a_f(speed_arr[ii]), max_a_f(speed_arr[ii]), NN)\n",
    "total_pow_e_mat = total_pow_e_f(speed_mat,0,acc_mat,0)\n",
    "total_pow_e_mat_mod = total_pow_e_f_mod(speed_mat,0,acc_mat,0)"
   ]
  },
  {
   "cell_type": "code",
   "execution_count": null,
   "metadata": {
    "scrolled": false
   },
   "outputs": [],
   "source": [
    "plt.figure(figsize = [18,12])\n",
    "\n",
    "ax = plt.subplot(1,3,1)\n",
    "ax.set_title('Total electric power, without friction', picker=True)\n",
    "#ax.contourf(phi_dot_mat_simp, tau_m_mat_simp, pow_e_mat_simp, levels = 30)\n",
    "plt.plot(speed_mat_simp[0,:],acc_mat_simp[0,:], 'k')\n",
    "plt.plot(speed_mat_simp[-1,:],acc_mat_simp[-1,:], 'k')\n",
    "CS = ax.contour(speed_mat_simp, acc_mat_simp, total_pow_e_mat_simp, \n",
    "#               colors = ['w','w','w','w','w','k','k','k','k','k'], \n",
    "               levels = [-100,-50,-20,0,20,50,100,200,300,400,600,800,1000])\n",
    "ax.clabel(CS, inline=1, fontsize=10, fmt = '%i W')\n",
    "\n",
    "ax.set_xlabel('$w_1, m/s$')\n",
    "ax.set_ylabel('$a_1, m/s^2$')\n",
    "ax.set_xlim([0, 0.75])\n",
    "ax.set_ylim([-105, 55])\n",
    "plt.grid()\n",
    "\n",
    "ax = plt.subplot(1,3,2)\n",
    "ax.set_title('Total electric power, with friction', picker=True)\n",
    "#ax.contourf(phi_dot_mat_simp, tau_m_mat_simp, pow_e_mat_simp, levels = 30)\n",
    "plt.plot(speed_mat[0,:],acc_mat[0,:], 'k')\n",
    "plt.plot(speed_mat[-1,:],acc_mat[-1,:], 'k')\n",
    "CS = ax.contour(speed_mat, acc_mat, total_pow_e_mat, \n",
    "#               colors = ['w','w','w','w','w','k','k','k','k','k'], \n",
    "               levels = [-100,-50,0,50,100,200,300,400,600,800,1000])\n",
    "ax.clabel(CS, inline=1, fontsize=10, fmt = '%i W')\n",
    "\n",
    "ax.set_xlabel('$w_1, m/s$')\n",
    "#ax.set_ylabel('$a_1, m/s^2$')\n",
    "ax.set_xlim([0, 0.75])\n",
    "ax.set_ylim([-105, 55])\n",
    "plt.grid()\n",
    "\n",
    "\n",
    "ax = plt.subplot(1,3,3)\n",
    "ax.set_title('Total electric power, mod model', picker=True)\n",
    "#ax.contourf(phi_dot_mat_simp, tau_m_mat_simp, pow_e_mat_simp, levels = 30)\n",
    "plt.plot(speed_mat[0,:],acc_mat[0,:], 'k')\n",
    "plt.plot(speed_mat[-1,:],acc_mat[-1,:], 'k')\n",
    "CS = ax.contour(speed_mat, acc_mat, total_pow_e_mat_mod, \n",
    "#               colors = ['w','w','w','w','w','k','k','k','k','k'], \n",
    "               levels = [-100,-50,0,50,100,200,300,400,600,800,1000])\n",
    "ax.clabel(CS, inline=1, fontsize=10, fmt = '%i W')\n",
    "\n",
    "ax.set_xlabel('$w_1, m/s$')\n",
    "#ax.set_ylabel('$a_1, m/s^2$')\n",
    "ax.set_xlim([0, 0.75])\n",
    "ax.set_ylim([-105, 55])\n",
    "plt.grid()\n"
   ]
  },
  {
   "cell_type": "code",
   "execution_count": null,
   "metadata": {},
   "outputs": [],
   "source": []
  },
  {
   "cell_type": "code",
   "execution_count": null,
   "metadata": {},
   "outputs": [],
   "source": []
  },
  {
   "cell_type": "markdown",
   "metadata": {},
   "source": [
    "## Acceleration from static\n",
    "\n",
    "$$\\vec{w} = \\vec{0}$$"
   ]
  },
  {
   "cell_type": "code",
   "execution_count": null,
   "metadata": {},
   "outputs": [],
   "source": [
    "roundize(total_p_confric.subs(w_1,0).subs(w_2,0), 2)"
   ]
  },
  {
   "cell_type": "code",
   "execution_count": null,
   "metadata": {},
   "outputs": [],
   "source": [
    "roundize(total_p.subs(w_1,0).subs(w_2,0), 2)"
   ]
  },
  {
   "cell_type": "code",
   "execution_count": null,
   "metadata": {},
   "outputs": [],
   "source": [
    "from matplotlib.collections import PatchCollection\n",
    "from matplotlib.patches import Rectangle, Circle"
   ]
  },
  {
   "cell_type": "code",
   "execution_count": null,
   "metadata": {},
   "outputs": [],
   "source": [
    "def cuadrado(x_cent, y_cent, lado, fill=False, linestyle = ':'):\n",
    "    return Rectangle((x_cent-lado/2, y_cent - lado/2), lado, lado, fill=fill, linestyle = linestyle)"
   ]
  },
  {
   "cell_type": "code",
   "execution_count": null,
   "metadata": {},
   "outputs": [],
   "source": [
    "NN = 100\n",
    "max_a_val_simp = max_a_simp_f(0)\n",
    "acc_array_simp = np.linspace(-max_a_val_simp, max_a_val_simp, NN)\n",
    "acc_XX_simp, acc_YY_simp = np.meshgrid(acc_array_simp, acc_array_simp)\n",
    "total_pow_e_mat_simp = total_pow_e_f_simp(0,0,acc_XX_simp,acc_YY_simp)\n",
    "\n",
    "max_a_val = max_a_f(0)\n",
    "acc_array = np.linspace(-max_a_val, max_a_val, NN)\n",
    "acc_XX, acc_YY = np.meshgrid(acc_array, acc_array)\n",
    "total_pow_e_mat = total_pow_e_f(0,0,acc_XX,acc_YY)\n",
    "total_pow_e_mat_mod = total_pow_e_f_mod(0,0,acc_XX,acc_YY)\n",
    "\n",
    "plt.figure(figsize = [22,7])\n",
    "xlims = [-52, 52]\n",
    "ylims = [-52, 52]\n",
    "\n",
    "ax = plt.subplot(1,3,1)\n",
    "ax.set_title('Total electric power, without friction', picker=True)\n",
    "#ax.contourf(phi_dot_mat_simp, tau_m_mat_simp, pow_e_mat_simp, levels = 30)\n",
    "#plt.plot(speed_mat_simp[0,:],acc_mat_simp[0,:], 'k')\n",
    "#plt.plot(speed_mat_simp[-1,:],acc_mat_simp[-1,:], 'k')\n",
    "CS = ax.contour(acc_XX_simp,acc_YY_simp, total_pow_e_mat_simp, \n",
    "#               colors = ['w','w','w','w','w','k','k','k','k','k'], \n",
    "               levels = 12) #[0,10, 20,50,100,200,300,400])\n",
    "ax.clabel(CS, inline=1, fontsize=10, fmt = '%i W')\n",
    "\n",
    "ax.set_xlabel('$a_1, m/s^2$')\n",
    "ax.set_ylabel('$a_2, m/s^2$')\n",
    "ax.set_xlim(xlims)\n",
    "ax.set_ylim(ylims)\n",
    "rect = cuadrado(0,0, 2* max_a_val_simp)\n",
    "ax.add_patch(rect)\n",
    "plt.grid()\n",
    "\n",
    "\n",
    "ax = plt.subplot(1,3,2)\n",
    "ax.set_title('Total electric power, with friction', picker=True)\n",
    "#ax.contourf(phi_dot_mat_simp, tau_m_mat_simp, pow_e_mat_simp, levels = 30)\n",
    "#plt.plot(speed_mat_simp[0,:],acc_mat_simp[0,:], 'k')\n",
    "#plt.plot(speed_mat_simp[-1,:],acc_mat_simp[-1,:], 'k')\n",
    "CS = ax.contour(acc_XX,acc_YY, total_pow_e_mat, \n",
    "#               colors = ['w','w','w','w','w','k','k','k','k','k'], \n",
    "               levels = 12) #[0,10, 20,50,100,200,300,400])\n",
    "ax.clabel(CS, inline=1, fontsize=10, fmt = '%i W')\n",
    "\n",
    "ax.set_xlabel('$a_1, m/s^2$')\n",
    "ax.set_ylabel('$a_2, m/s^2$')\n",
    "ax.set_xlim(xlims)\n",
    "ax.set_ylim(ylims)\n",
    "rect = cuadrado(0,0, 2* max_a_val)\n",
    "ax.add_patch(rect)\n",
    "plt.grid()\n",
    "\n",
    "\n",
    "ax = plt.subplot(1,3,3)\n",
    "ax.set_title('Total electric power, modified model', picker=True)\n",
    "#ax.contourf(phi_dot_mat_simp, tau_m_mat_simp, pow_e_mat_simp, levels = 30)\n",
    "#plt.plot(speed_mat_simp[0,:],acc_mat_simp[0,:], 'k')\n",
    "#plt.plot(speed_mat_simp[-1,:],acc_mat_simp[-1,:], 'k')\n",
    "CS = ax.contour(acc_XX,acc_YY, total_pow_e_mat_mod, \n",
    "#               colors = ['w','w','w','w','w','k','k','k','k','k'], \n",
    "               levels = 12) #[0,10, 20,50,100,200,300,400])\n",
    "ax.clabel(CS, inline=1, fontsize=10, fmt = '%i W')\n",
    "\n",
    "ax.set_xlabel('$a_1, m/s^2$')\n",
    "ax.set_ylabel('$a_2, m/s^2$')\n",
    "ax.set_xlim(xlims)\n",
    "ax.set_ylim(ylims)\n",
    "rect = cuadrado(0,0, 2* max_a_val)\n",
    "ax.add_patch(rect)\n",
    "plt.grid()"
   ]
  },
  {
   "cell_type": "markdown",
   "metadata": {},
   "source": [
    "### Moving at half speed in $w_1$"
   ]
  },
  {
   "cell_type": "code",
   "execution_count": null,
   "metadata": {},
   "outputs": [],
   "source": [
    "NN = 101\n",
    "speed_simp = max_speed_ax_simp/2\n",
    "max_a_val_simp = max_a_simp_f(speed_simp)\n",
    "min_a_val_simp = min_a_simp_f(speed_simp)\n",
    "max_a_lat_val_simp = max_a_simp_f(0)\n",
    "acc_array_x_simp = np.linspace(min_a_val_simp, max_a_val_simp, NN)\n",
    "acc_array_y_simp = np.linspace(-max_a_lat_val_simp, max_a_lat_val_simp, NN)\n",
    "acc_XX_simp, acc_YY_simp = np.meshgrid(acc_array_x_simp, acc_array_y_simp)\n",
    "total_pow_e_mat_simp = total_pow_e_f_simp(speed_simp,0,acc_XX_simp,acc_YY_simp)\n",
    "\n",
    "plt.figure(figsize = [22,6.5])\n",
    "xlims = [-78, 28]\n",
    "ylims = [-52, 52]\n",
    "\n",
    "ax = plt.subplot(1,3,1)\n",
    "ax.set_title('Total electric power, without friction', picker=True)\n",
    "#ax.contourf(phi_dot_mat_simp, tau_m_mat_simp, pow_e_mat_simp, levels = 30)\n",
    "#plt.plot(speed_mat_simp[0,:],acc_mat_simp[0,:], 'k')\n",
    "#plt.plot(speed_mat_simp[-1,:],acc_mat_simp[-1,:], 'k')\n",
    "CS = ax.contour(acc_XX_simp,acc_YY_simp, total_pow_e_mat_simp, \n",
    "#               colors = ['w','w','w','w','w','k','k','k','k','k'], \n",
    "               levels = 12) #[0,10, 20,50,100,200,300,400])\n",
    "ax.clabel(CS, inline=1, fontsize=10, fmt = '%i W')\n",
    "\n",
    "ax.set_xlabel('$a_1, m/s^2$')\n",
    "ax.set_ylabel('$a_2, m/s^2$')\n",
    "ax.set_xlim(xlims)\n",
    "ax.set_ylim(ylims)\n",
    "orig_x = zero_a_simp_f(speed_simp)\n",
    "rect = cuadrado(orig_x,0, 2* max_a_simp_f(0))\n",
    "ax.add_patch(rect)\n",
    "plt.plot(orig_x,0, 'ok')\n",
    "plt.grid()\n",
    "\n",
    "\n",
    "\n",
    "speed = max_speed_ax/2\n",
    "max_a_val = max_a_f(speed)\n",
    "min_a_val = min_a_f(speed)\n",
    "max_a_lat_val = max_a_f(0)\n",
    "acc_array_x = np.linspace(min_a_val, max_a_val, NN)\n",
    "acc_array_y = np.linspace(-max_a_lat_val, max_a_lat_val, NN)\n",
    "acc_XX, acc_YY = np.meshgrid(acc_array_x, acc_array_y)\n",
    "total_pow_e_mat = total_pow_e_f(speed,0,acc_XX,acc_YY)\n",
    "total_pow_e_mat_mod = total_pow_e_f_mod(speed,0,acc_XX,acc_YY)\n",
    "\n",
    "ax = plt.subplot(1,3,2)\n",
    "ax.set_title('Total electric power, with friction', picker=True)\n",
    "#ax.contourf(phi_dot_mat_simp, tau_m_mat_simp, pow_e_mat_simp, levels = 30)\n",
    "#plt.plot(speed_mat_simp[0,:],acc_mat_simp[0,:], 'k')\n",
    "#plt.plot(speed_mat_simp[-1,:],acc_mat_simp[-1,:], 'k')\n",
    "CS = ax.contour(acc_XX,acc_YY, total_pow_e_mat, \n",
    "#               colors = ['w','w','w','w','w','k','k','k','k','k'], \n",
    "               levels = 12) #[0,10, 20,50,100,200,300,400])\n",
    "ax.clabel(CS, inline=1, fontsize=10, fmt = '%i W')\n",
    "\n",
    "ax.set_xlabel('$a_1, m/s^2$')\n",
    "ax.set_ylabel('$a_2, m/s^2$')\n",
    "ax.set_xlim(xlims)\n",
    "ax.set_ylim(ylims)\n",
    "orig_x = zero_a_f(speed)\n",
    "rect = cuadrado(orig_x,0, 2* max_a_f(0))\n",
    "ax.add_patch(rect)\n",
    "plt.plot(orig_x,0, 'ok')\n",
    "plt.grid()\n",
    "\n",
    "ax = plt.subplot(1,3,3)\n",
    "ax.set_title('Total electric power, modified model', picker=True)\n",
    "#ax.contourf(phi_dot_mat_simp, tau_m_mat_simp, pow_e_mat_simp, levels = 30)\n",
    "#plt.plot(speed_mat_simp[0,:],acc_mat_simp[0,:], 'k')\n",
    "#plt.plot(speed_mat_simp[-1,:],acc_mat_simp[-1,:], 'k')\n",
    "CS = ax.contour(acc_XX,acc_YY, total_pow_e_mat_mod, \n",
    "#               colors = ['w','w','w','w','w','k','k','k','k','k'], \n",
    "               levels = 12) #[0,10, 20,50,100,200,300,400])\n",
    "ax.clabel(CS, inline=1, fontsize=10, fmt = '%i W')\n",
    "\n",
    "ax.set_xlabel('$a_1, m/s^2$')\n",
    "ax.set_ylabel('$a_2, m/s^2$')\n",
    "ax.set_xlim(xlims)\n",
    "ax.set_ylim(ylims)\n",
    "orig_x = zero_a_f(speed)\n",
    "rect = cuadrado(orig_x,0, 2* max_a_f(0))\n",
    "ax.add_patch(rect)\n",
    "plt.plot(orig_x,0, 'ok')\n",
    "plt.grid()"
   ]
  },
  {
   "cell_type": "markdown",
   "metadata": {},
   "source": [
    "### Moving at half speed in $w_1$ and $w_2$"
   ]
  },
  {
   "cell_type": "code",
   "execution_count": null,
   "metadata": {},
   "outputs": [],
   "source": [
    "NN = 100\n",
    "speed_simp = max_speed_ax_simp/2\n",
    "max_a_val_simp = max_a_simp_f(speed_simp)\n",
    "min_a_val_simp = min_a_simp_f(speed_simp)\n",
    "#max_a_lat_val_simp = max_a_simp_f(0)\n",
    "acc_array_x_simp = np.linspace(min_a_val_simp, max_a_val_simp, NN)\n",
    "acc_array_y_simp = np.linspace(min_a_val_simp, max_a_val_simp, NN)\n",
    "acc_XX_simp, acc_YY_simp = np.meshgrid(acc_array_x_simp, acc_array_y_simp)\n",
    "total_pow_e_mat_simp = total_pow_e_f_simp(speed_simp,speed_simp,acc_XX_simp,acc_YY_simp)\n",
    "\n",
    "plt.figure(figsize = [22,7])\n",
    "xlims = [-78, 28]\n",
    "ylims = [-78, 28]\n",
    "\n",
    "ax = plt.subplot(1,3,1)\n",
    "ax.set_title('Total electric power, without friction', picker=True)\n",
    "#ax.contourf(phi_dot_mat_simp, tau_m_mat_simp, pow_e_mat_simp, levels = 30)\n",
    "#plt.plot(speed_mat_simp[0,:],acc_mat_simp[0,:], 'k')\n",
    "#plt.plot(speed_mat_simp[-1,:],acc_mat_simp[-1,:], 'k')\n",
    "CS = ax.contour(acc_XX_simp,acc_YY_simp, total_pow_e_mat_simp, \n",
    "#               colors = ['w','w','w','w','w','k','k','k','k','k'], \n",
    "               levels = 12) #[0,10, 20,50,100,200,300,400])\n",
    "ax.clabel(CS, inline=1, fontsize=10, fmt = '%i W')\n",
    "\n",
    "ax.set_xlabel('$a_1, m/s^2$')\n",
    "ax.set_ylabel('$a_2, m/s^2$')\n",
    "ax.set_xlim(xlims)\n",
    "ax.set_ylim(ylims)\n",
    "orig_x = zero_a_simp_f(speed_simp)\n",
    "rect = cuadrado(orig_x,orig_x, 2* max_a_simp_f(0))\n",
    "ax.add_patch(rect)\n",
    "plt.plot(orig_x,orig_x, 'ok')\n",
    "plt.grid()\n",
    "\n",
    "\n",
    "\n",
    "speed = max_speed_ax/2\n",
    "max_a_val = max_a_f(speed)\n",
    "min_a_val = min_a_f(speed)\n",
    "max_a_lat_val = max_a_f(0)\n",
    "acc_array_x = np.linspace(min_a_val, max_a_val, NN)\n",
    "acc_array_y = np.linspace(min_a_val, max_a_val, NN)\n",
    "acc_XX, acc_YY = np.meshgrid(acc_array_x, acc_array_y)\n",
    "total_pow_e_mat = total_pow_e_f(speed,speed,acc_XX,acc_YY)\n",
    "total_pow_e_mat_mod = total_pow_e_f_mod(speed,speed,acc_XX,acc_YY)\n",
    "\n",
    "ax = plt.subplot(1,3,2)\n",
    "ax.set_title('Total electric power, with friction', picker=True)\n",
    "#ax.contourf(phi_dot_mat_simp, tau_m_mat_simp, pow_e_mat_simp, levels = 30)\n",
    "#plt.plot(speed_mat_simp[0,:],acc_mat_simp[0,:], 'k')\n",
    "#plt.plot(speed_mat_simp[-1,:],acc_mat_simp[-1,:], 'k')\n",
    "CS = ax.contour(acc_XX,acc_YY, total_pow_e_mat, \n",
    "#               colors = ['w','w','w','w','w','k','k','k','k','k'], \n",
    "               levels = 12) #[0,10, 20,50,100,200,300,400])\n",
    "ax.clabel(CS, inline=1, fontsize=10, fmt = '%i W')\n",
    "\n",
    "ax.set_xlabel('$a_1, m/s^2$')\n",
    "ax.set_ylabel('$a_2, m/s^2$')\n",
    "ax.set_xlim(xlims)\n",
    "ax.set_ylim(ylims)\n",
    "orig_x = zero_a_f(speed)\n",
    "rect = cuadrado(orig_x,orig_x, 2* max_a_f(0))\n",
    "ax.add_patch(rect)\n",
    "plt.plot(orig_x,orig_x, 'ok')\n",
    "plt.grid()\n",
    "\n",
    "ax = plt.subplot(1,3,3)\n",
    "ax.set_title('Total electric power, modified model', picker=True)\n",
    "#ax.contourf(phi_dot_mat_simp, tau_m_mat_simp, pow_e_mat_simp, levels = 30)\n",
    "#plt.plot(speed_mat_simp[0,:],acc_mat_simp[0,:], 'k')\n",
    "#plt.plot(speed_mat_simp[-1,:],acc_mat_simp[-1,:], 'k')\n",
    "CS = ax.contour(acc_XX,acc_YY, total_pow_e_mat_mod, \n",
    "#               colors = ['w','w','w','w','w','k','k','k','k','k'], \n",
    "               levels = 12) #[0,10, 20,50,100,200,300,400])\n",
    "ax.clabel(CS, inline=1, fontsize=10, fmt = '%i W')\n",
    "\n",
    "ax.set_xlabel('$a_1, m/s^2$')\n",
    "ax.set_ylabel('$a_2, m/s^2$')\n",
    "ax.set_xlim(xlims)\n",
    "ax.set_ylim(ylims)\n",
    "orig_x = zero_a_f(speed)\n",
    "rect = cuadrado(orig_x,orig_x, 2* max_a_f(0))\n",
    "ax.add_patch(rect)\n",
    "plt.plot(orig_x,orig_x, 'ok')\n",
    "plt.grid()"
   ]
  },
  {
   "cell_type": "markdown",
   "metadata": {},
   "source": [
    "# Incluyendo giro"
   ]
  },
  {
   "cell_type": "markdown",
   "metadata": {},
   "source": [
    "## Situación y ecuación principal\n",
    "\n",
    "$$ Ha+Kw=R^T\\Gamma$$\n",
    "$$ \\Gamma = R^{-T}(Ha+Kw)$$"
   ]
  },
  {
   "cell_type": "code",
   "execution_count": null,
   "metadata": {
    "scrolled": true
   },
   "outputs": [],
   "source": [
    "K, H, q_d, q_d_d"
   ]
  },
  {
   "cell_type": "code",
   "execution_count": null,
   "metadata": {},
   "outputs": [],
   "source": [
    "gamma_rot = simplify(R_inv.T @ (H @ q_d_d + K @ q_d))\n",
    "gamma_rot"
   ]
  },
  {
   "cell_type": "code",
   "execution_count": null,
   "metadata": {},
   "outputs": [],
   "source": [
    "gamma_rot_num = gamma_rot.subs(sqrt(2),2**0.5).subs(r, 0.0667).subs(m,15.75).subs(I_w, 0.00266).subs(L_2, 0.29642).subs(m,15.75).subs(I_z, 0.461)\n",
    "roundize(gamma_rot_num,3)"
   ]
  },
  {
   "cell_type": "code",
   "execution_count": null,
   "metadata": {},
   "outputs": [],
   "source": [
    "q_d_w"
   ]
  },
  {
   "cell_type": "code",
   "execution_count": null,
   "metadata": {
    "scrolled": true
   },
   "outputs": [],
   "source": [
    "q_d_w_num = q_d_w.subs(sqrt(2),2**0.5).subs(r, 0.0667).subs(L_2, 0.29642)\n",
    "roundize(q_d_w_num,2)"
   ]
  },
  {
   "cell_type": "code",
   "execution_count": null,
   "metadata": {
    "scrolled": true
   },
   "outputs": [],
   "source": [
    "roundize(pow_e_simp_num_nofric,3)"
   ]
  },
  {
   "cell_type": "code",
   "execution_count": null,
   "metadata": {
    "scrolled": true
   },
   "outputs": [],
   "source": [
    "roundize(pow_e_simp_num,3)"
   ]
  },
  {
   "cell_type": "code",
   "execution_count": null,
   "metadata": {},
   "outputs": [],
   "source": [
    "total_p = 0\n",
    "for iii in range(4):\n",
    "    total_p += pow_e_simp_num_nofric.subs(phi_dot, q_d_w_num[iii]).subs(tau_m, gamma_rot_num[iii])\n",
    "total_p = simplify(total_p)\n",
    "roundize(total_p, 2)"
   ]
  },
  {
   "cell_type": "code",
   "execution_count": null,
   "metadata": {
    "scrolled": true
   },
   "outputs": [],
   "source": [
    "total_p_confric = 0\n",
    "for iii in range(4):\n",
    "    total_p_confric += pow_e_simp_num.subs(phi_dot, q_d_w_num[iii]).subs(tau_m, gamma_rot_num[iii])\n",
    "total_p_confric = simplify(total_p_confric)\n",
    "roundize(total_p_confric, 2)"
   ]
  },
  {
   "cell_type": "code",
   "execution_count": null,
   "metadata": {
    "scrolled": true
   },
   "outputs": [],
   "source": [
    "def total_pow_e_f_mod(w1, w2, a1, a2):\n",
    "    p = 0\n",
    "    for iii in range(4):\n",
    "        p_motor = pow_e_simp_num.subs(phi_dot, q_d_w[iii]).subs(psi.diff(t,1),0).subs(tau_m, gamma[iii])\n",
    "        p_motor = simplify(p_motor.subs(sqrt(2),2**0.5).subs(r, 0.0667).subs(L_2, 0.29642).subs(m,15.75).subs(I_w, 0.00266))\n",
    "        p_motor_f = only_positive(lambdify([w_1, w_2, a_1, a_2], p_motor))\n",
    "        p += p_motor_f(w1, w2, a1, a2)\n",
    "    return p"
   ]
  },
  {
   "cell_type": "markdown",
   "metadata": {},
   "source": [
    "### Maximas aceleraciones: t max y min f(phidot)"
   ]
  },
  {
   "cell_type": "code",
   "execution_count": null,
   "metadata": {},
   "outputs": [],
   "source": [
    "gamma_impl = Matrix([symbols('tau_'+str(ii+1)) for ii in range(4)])\n",
    "gamma_impl"
   ]
  },
  {
   "cell_type": "code",
   "execution_count": null,
   "metadata": {},
   "outputs": [],
   "source": [
    "a_f_gamma = simplify(H_inv@(R.T @ gamma_impl - K@q_d))\n",
    "a_f_gamma"
   ]
  },
  {
   "cell_type": "markdown",
   "metadata": {},
   "source": [
    "Simple model"
   ]
  },
  {
   "cell_type": "code",
   "execution_count": null,
   "metadata": {
    "scrolled": true
   },
   "outputs": [],
   "source": [
    "max_gamma_simp = Matrix([0,0,0,0])\n",
    "min_gamma_simp = Matrix([0,0,0,0])\n",
    "zero_gamma_simp = Matrix([0,0,0,0])\n",
    "for iii in range(4):\n",
    "    max_gamma_simp[iii] = tau_m_v_max_num_simp.subs(phi_dot, q_d_w_num[iii])\n",
    "    min_gamma_simp[iii] = tau_m_v_min_num_simp.subs(phi_dot, q_d_w_num[iii])\n",
    "    zero_gamma_simp[iii] = tau_m_v_zero_num_simp.subs(phi_dot, q_d_w_num[iii])\n",
    "roundize(max_gamma_simp,3),roundize(min_gamma_simp,3),roundize(zero_gamma_simp,3)"
   ]
  },
  {
   "cell_type": "code",
   "execution_count": null,
   "metadata": {},
   "outputs": [],
   "source": [
    "max_a_simp = H_inv@(R.T@max_gamma_simp - K@q_d)\n",
    "min_a_simp = H_inv@(R.T@min_gamma_simp - K@q_d)\n",
    "zero_a_simp = H_inv@(R.T@zero_gamma_simp - K@q_d)\n",
    "max_a_simp = max_a_simp.subs(sqrt(2),2**0.5).subs(r, 0.0667).subs(m,15.75).subs(I_w, 0.00266).subs(L_2, 0.29642).subs(I_z, 0.461)\n",
    "min_a_simp = min_a_simp.subs(sqrt(2),2**0.5).subs(r, 0.0667).subs(m,15.75).subs(I_w, 0.00266).subs(L_2, 0.29642).subs(I_z, 0.461)\n",
    "zero_a_simp = zero_a_simp.subs(sqrt(2),2**0.5).subs(r, 0.0667).subs(m,15.75).subs(I_w, 0.00266).subs(L_2, 0.29642).subs(I_z, 0.461)\n",
    "roundize(max_a_simp,3),roundize(min_a_simp,3),roundize(zero_a_simp,3)"
   ]
  },
  {
   "cell_type": "code",
   "execution_count": null,
   "metadata": {},
   "outputs": [],
   "source": [
    "max_a_simp_f_rot = lambdify([w_1, w_2, psi.diff(t)],max_a_simp[0])\n",
    "min_a_simp_f_rot = lambdify([w_1, w_2, psi.diff(t)],min_a_simp[0])\n",
    "zero_a_simp_f_rot = lambdify([w_1, w_2, psi.diff(t)],zero_a_simp[0])"
   ]
  },
  {
   "cell_type": "code",
   "execution_count": null,
   "metadata": {},
   "outputs": [],
   "source": [
    "max_a_simp[0]-min_a_simp[0],max_a_simp[1]-min_a_simp[1]"
   ]
  },
  {
   "cell_type": "code",
   "execution_count": null,
   "metadata": {
    "scrolled": true
   },
   "outputs": [],
   "source": [
    "max_gamma = Matrix([0,0,0,0])\n",
    "min_gamma = Matrix([0,0,0,0])\n",
    "zero_gamma = Matrix([0,0,0,0])\n",
    "for iii in range(4):\n",
    "    max_gamma[iii] = tau_m_v_max_num.subs(phi_dot, q_d_w_num[iii])\n",
    "    min_gamma[iii] = tau_m_v_min_num.subs(phi_dot, q_d_w_num[iii])\n",
    "    zero_gamma[iii] = tau_m_v_zero_num.subs(phi_dot, q_d_w_num[iii])\n",
    "roundize(max_gamma,3),roundize(min_gamma,3),roundize(zero_gamma,3)"
   ]
  },
  {
   "cell_type": "code",
   "execution_count": null,
   "metadata": {},
   "outputs": [],
   "source": [
    "max_a = H_inv@(R.T@max_gamma - K@q_d)\n",
    "min_a = H_inv@(R.T@min_gamma - K@q_d)\n",
    "zero_a = H_inv@(R.T@zero_gamma - K@q_d)\n",
    "max_a = simplify(max_a.subs(sqrt(2),2**0.5).subs(r, 0.0667).subs(m,15.75).subs(I_w, 0.00266).subs(L_2, 0.29642).subs(I_z, 0.461))\n",
    "min_a = simplify(min_a.subs(sqrt(2),2**0.5).subs(r, 0.0667).subs(m,15.75).subs(I_w, 0.00266).subs(L_2, 0.29642).subs(I_z, 0.461))\n",
    "zero_a = simplify(zero_a.subs(sqrt(2),2**0.5).subs(r, 0.0667).subs(m,15.75).subs(I_w, 0.00266).subs(L_2, 0.29642).subs(I_z, 0.461))\n",
    "roundize(max_a,3),roundize(min_a,3),roundize(zero_a,3)"
   ]
  },
  {
   "cell_type": "code",
   "execution_count": null,
   "metadata": {},
   "outputs": [],
   "source": [
    "max_a_f_rot = lambdify([w_1, w_2, psi.diff(t)],max_a[0])\n",
    "min_a_f_rot = lambdify([w_1, w_2, psi.diff(t)],min_a[0])\n",
    "zero_a_f_rot = lambdify([w_1, w_2, psi.diff(t)],zero_a[0])"
   ]
  },
  {
   "cell_type": "code",
   "execution_count": null,
   "metadata": {},
   "outputs": [],
   "source": [
    "max_a[0]-min_a[0],max_a[1]-min_a[1]"
   ]
  },
  {
   "cell_type": "code",
   "execution_count": null,
   "metadata": {},
   "outputs": [],
   "source": []
  },
  {
   "cell_type": "code",
   "execution_count": null,
   "metadata": {},
   "outputs": [],
   "source": []
  },
  {
   "cell_type": "code",
   "execution_count": null,
   "metadata": {},
   "outputs": [],
   "source": []
  },
  {
   "cell_type": "code",
   "execution_count": null,
   "metadata": {},
   "outputs": [],
   "source": []
  },
  {
   "cell_type": "code",
   "execution_count": null,
   "metadata": {},
   "outputs": [],
   "source": []
  },
  {
   "cell_type": "code",
   "execution_count": null,
   "metadata": {},
   "outputs": [],
   "source": []
  },
  {
   "cell_type": "code",
   "execution_count": null,
   "metadata": {},
   "outputs": [],
   "source": []
  },
  {
   "cell_type": "code",
   "execution_count": null,
   "metadata": {},
   "outputs": [],
   "source": []
  },
  {
   "cell_type": "code",
   "execution_count": null,
   "metadata": {},
   "outputs": [],
   "source": []
  },
  {
   "cell_type": "code",
   "execution_count": null,
   "metadata": {},
   "outputs": [],
   "source": []
  },
  {
   "cell_type": "markdown",
   "metadata": {},
   "source": [
    "## Consumo de energía para alcanzar una velocidad"
   ]
  },
  {
   "cell_type": "code",
   "execution_count": null,
   "metadata": {},
   "outputs": [],
   "source": [
    "total_p_confric"
   ]
  },
  {
   "cell_type": "code",
   "execution_count": null,
   "metadata": {},
   "outputs": [],
   "source": [
    "total_p"
   ]
  },
  {
   "cell_type": "markdown",
   "metadata": {},
   "source": [
    "### Si no hay giro, a y w son las derivadas de x2"
   ]
  },
  {
   "cell_type": "code",
   "execution_count": null,
   "metadata": {
    "scrolled": true
   },
   "outputs": [],
   "source": [
    "x_2, y_2 = dynamicsymbols('x_2, y_2')\n"
   ]
  },
  {
   "cell_type": "code",
   "execution_count": null,
   "metadata": {},
   "outputs": [],
   "source": [
    "x_2_d = x_2.diff()\n",
    "x_2_dd = x_2_d.diff()\n",
    "y_2_d = y_2.diff()\n",
    "y_2_dd = y_2_d.diff()\n",
    "x_2_dd, y_2_dd"
   ]
  },
  {
   "cell_type": "code",
   "execution_count": null,
   "metadata": {},
   "outputs": [],
   "source": [
    "total_p_simp_irr = total_p.subs({a_1:x_2_dd, a_2:y_2_dd, w_1:x_2_d, w_2:y_2_d})\n",
    "total_p_simp_irr"
   ]
  },
  {
   "cell_type": "code",
   "execution_count": null,
   "metadata": {},
   "outputs": [],
   "source": [
    "integrate(total_p_simp_irr, t)"
   ]
  },
  {
   "cell_type": "markdown",
   "metadata": {},
   "source": [
    "### Supongamos aceleración constante"
   ]
  },
  {
   "cell_type": "code",
   "execution_count": null,
   "metadata": {},
   "outputs": [],
   "source": [
    "total_p_simp_irr = total_p.subs({w_1:a_1*t, w_2:a_2*t})\n",
    "total_p_simp_irr"
   ]
  },
  {
   "cell_type": "code",
   "execution_count": null,
   "metadata": {},
   "outputs": [],
   "source": [
    "__p = simplify(integrate(total_p_simp_irr, t)).subs(a_1**2 + a_2**2, a**2)\n",
    "__p"
   ]
  },
  {
   "cell_type": "code",
   "execution_count": null,
   "metadata": {},
   "outputs": [],
   "source": [
    "v_f = symbols('v_f')\n",
    "roundize(expand(__p.subs(t, v_f/a)),3)"
   ]
  },
  {
   "cell_type": "markdown",
   "metadata": {},
   "source": [
    "Modelo completo"
   ]
  },
  {
   "cell_type": "code",
   "execution_count": null,
   "metadata": {
    "scrolled": true
   },
   "outputs": [],
   "source": [
    "total_p_irr = total_p_confric.subs({w_1:a_1*t, w_2:a_2*t})\n",
    "total_p_irr"
   ]
  },
  {
   "cell_type": "code",
   "execution_count": null,
   "metadata": {},
   "outputs": [],
   "source": [
    "integrate(total_p_simp_irr, t)"
   ]
  },
  {
   "cell_type": "markdown",
   "metadata": {},
   "source": [
    "si a_1>0 y a_2 >0"
   ]
  },
  {
   "cell_type": "code",
   "execution_count": null,
   "metadata": {},
   "outputs": [],
   "source": [
    "simplify(total_p_irr.subs({sign(a_1*t): 1,sign(a_2*t): 1}))"
   ]
  },
  {
   "cell_type": "code",
   "execution_count": null,
   "metadata": {
    "scrolled": false
   },
   "outputs": [],
   "source": [
    "__p2 =simplify(integrate(simplify(total_p_irr.subs({sign(a_1*t): 1,sign(a_2*t): 1})),t)).subs(a_1**2, a**2 - a_2**2)\n",
    "__p2"
   ]
  },
  {
   "cell_type": "code",
   "execution_count": null,
   "metadata": {},
   "outputs": [],
   "source": [
    "v_f = symbols('v_f')\n",
    "__p3 = collect(expand(__p2.subs(t, v_f/a)), v_f)\n",
    "roundize(__p3, 3)"
   ]
  },
  {
   "cell_type": "code",
   "execution_count": null,
   "metadata": {},
   "outputs": [],
   "source": [
    "g = symbols('\\gamma')\n",
    "g"
   ]
  },
  {
   "cell_type": "code",
   "execution_count": null,
   "metadata": {},
   "outputs": [],
   "source": [
    "roundize(__p3.subs({a_1:a*cos(g), a_2:a*sin(g)}), 3)"
   ]
  },
  {
   "cell_type": "code",
   "execution_count": null,
   "metadata": {},
   "outputs": [],
   "source": []
  },
  {
   "cell_type": "code",
   "execution_count": null,
   "metadata": {},
   "outputs": [],
   "source": []
  },
  {
   "cell_type": "code",
   "execution_count": null,
   "metadata": {},
   "outputs": [],
   "source": []
  },
  {
   "cell_type": "code",
   "execution_count": null,
   "metadata": {},
   "outputs": [],
   "source": []
  },
  {
   "cell_type": "code",
   "execution_count": null,
   "metadata": {},
   "outputs": [],
   "source": []
  },
  {
   "cell_type": "code",
   "execution_count": null,
   "metadata": {},
   "outputs": [],
   "source": []
  },
  {
   "cell_type": "code",
   "execution_count": null,
   "metadata": {},
   "outputs": [],
   "source": []
  },
  {
   "cell_type": "code",
   "execution_count": null,
   "metadata": {},
   "outputs": [],
   "source": [
    "phi_dot_max = 2 * np.pi * 7000/(49*60)\n",
    "phi_dot_max"
   ]
  },
  {
   "cell_type": "code",
   "execution_count": null,
   "metadata": {},
   "outputs": [],
   "source": [
    "total_p_fun = lambdify([x_2.diff(), y_2.diff()], total_p)"
   ]
  },
  {
   "cell_type": "code",
   "execution_count": null,
   "metadata": {
    "scrolled": false
   },
   "outputs": [],
   "source": [
    "percent = [0, 0.25, 0.5, 0.75]\n",
    "\n",
    "\n",
    "#plt.figure(figsize = [10,8])\n",
    "\n",
    "psi_val = percent[0]\n",
    "mx_spd = max_speed_axes_2(psi_val)\n",
    "speed_arr = np.linspace(-mx_spd, mx_spd, 200)\n",
    "xx_speed, yy_speed = np.meshgrid(speed_arr, speed_arr)\n",
    "xy_power = total_p_fun(xx_speed, yy_speed)\n",
    "\n",
    "fig, ax = plt.subplots(figsize = [8,8])\n",
    "ax.set_title('Potencia eléctrica total, $\\dot{\\psi} = 0$', picker=True)\n",
    "CS = ax.contour(speed_arr, speed_arr, xy_power)\n",
    "ax.clabel(CS, inline=1, fontsize=10, fmt = '%i W')\n",
    "ax.set_xlim([-0.8, 0.8])\n",
    "ax.set_ylim([-0.8, 0.8])\n",
    "ax.set_xlabel('$\\dot{x}_2$, m/s')\n",
    "ax.set_ylabel('$\\dot{y}_2$, m/s')\n",
    "rect = Rectangle((-mx_spd,-mx_spd), 2*mx_spd, 2*mx_spd, fill=False, linestyle = ':')\n",
    "#pc = PatchCollection(errorboxes, facecolor=facecolor, alpha=alpha,edgecolor=edgecolor)\n",
    "\n",
    "ax.add_patch(rect)\n",
    "#plt.contour(speed_arr, speed_arr, xy_power)\n",
    "\n",
    "#for per in percent:\n",
    "#    plt.plot(gamma_arr,total_p_fun(gamma_arr, v_r_num* per), label = '$v_r$ = '+ str(per) + '$v_{r,max}$')\n",
    "#plt.vlines(np.pi*np.array([0.25, 0.5, 0.75]), 0, 36, 'k', 'dotted')\n",
    "plt.grid()\n",
    "#plt.legend()\n",
    "#plt.xlabel('$\\gamma$, in radians')\n",
    "#plt.ylabel('Total power, in W')"
   ]
  },
  {
   "cell_type": "markdown",
   "metadata": {},
   "source": [
    "# Projection on axes 2"
   ]
  },
  {
   "cell_type": "code",
   "execution_count": null,
   "metadata": {},
   "outputs": [],
   "source": [
    "H"
   ]
  },
  {
   "cell_type": "code",
   "execution_count": null,
   "metadata": {},
   "outputs": [],
   "source": [
    "simplify(R_psi.T @ H @ R_psi)"
   ]
  },
  {
   "cell_type": "code",
   "execution_count": null,
   "metadata": {},
   "outputs": [],
   "source": [
    "K"
   ]
  },
  {
   "cell_type": "code",
   "execution_count": null,
   "metadata": {},
   "outputs": [],
   "source": [
    "simplify(R_psi.T @ K @ R_psi)"
   ]
  },
  {
   "cell_type": "code",
   "execution_count": null,
   "metadata": {},
   "outputs": [],
   "source": [
    "q_d_2 = Matrix([x_2, y_2, psi]).diff()\n",
    "q_d_d_2 = q_d_2.diff()\n",
    "q_d_d_2, q_d_2"
   ]
  },
  {
   "cell_type": "markdown",
   "metadata": {},
   "source": [
    "Case without acceleration: $\\ddot{q}_2 = 0$"
   ]
  },
  {
   "cell_type": "code",
   "execution_count": null,
   "metadata": {
    "scrolled": true
   },
   "outputs": [],
   "source": [
    "K @ q_d_2"
   ]
  },
  {
   "cell_type": "code",
   "execution_count": null,
   "metadata": {},
   "outputs": [],
   "source": [
    "Gamma_unif_2 = simplify(R_inv.T @ K @ q_d_2)\n",
    "Gamma_unif_2"
   ]
  },
  {
   "cell_type": "code",
   "execution_count": null,
   "metadata": {},
   "outputs": [],
   "source": [
    "Gamma_unif_2*r/sqrt(2)/I_w"
   ]
  },
  {
   "cell_type": "code",
   "execution_count": null,
   "metadata": {},
   "outputs": [],
   "source": []
  },
  {
   "cell_type": "code",
   "execution_count": null,
   "metadata": {},
   "outputs": [],
   "source": [
    "i = (tau_m + a * phi_dot + b * sign(phi_dot))/(k_e * mu * n)\n",
    "i"
   ]
  },
  {
   "cell_type": "code",
   "execution_count": null,
   "metadata": {},
   "outputs": [],
   "source": [
    "v = k_m * n * phi_dot + r_e * i\n",
    "v"
   ]
  },
  {
   "cell_type": "code",
   "execution_count": null,
   "metadata": {},
   "outputs": [],
   "source": [
    "pow_e = expand(i*v)\n",
    "pow_e"
   ]
  },
  {
   "cell_type": "code",
   "execution_count": null,
   "metadata": {},
   "outputs": [],
   "source": [
    "#pow_e = pow_e.replace(sign(phi_dot)**2, 1)\n",
    "#pow_e_simp = collect(pow_e.replace(sign(phi_dot), 1), phi_dot)\n",
    "pow_e_simp = collect(pow_e, phi_dot)\n",
    "pow_e_simp"
   ]
  },
  {
   "cell_type": "code",
   "execution_count": null,
   "metadata": {},
   "outputs": [],
   "source": [
    "pow_e_simp_num = pow_e_simp.subs(a, 0.01).subs(b, 0.4).subs(k_e, 0.0337).subs(k_m, 0.03148).subs(r_e, 1.84615).subs(n, 49).subs(mu, 0.6)\n",
    "roundize(pow_e_simp_num,3)"
   ]
  },
  {
   "cell_type": "code",
   "execution_count": null,
   "metadata": {},
   "outputs": [],
   "source": [
    "q_d_w_2 = simplify(R @ q_d_2)\n",
    "q_d_w_2"
   ]
  },
  {
   "cell_type": "code",
   "execution_count": null,
   "metadata": {},
   "outputs": [],
   "source": [
    "I_w"
   ]
  },
  {
   "cell_type": "code",
   "execution_count": null,
   "metadata": {},
   "outputs": [],
   "source": [
    "total_p = 0\n",
    "for iii in range(4):\n",
    "    total_p += pow_e_simp_num.subs(phi_dot, q_d_w_2[iii]).subs(tau_m, Gamma_unif_2[iii]).subs(I_w, 0.00266)\n",
    "total_p = simplify(total_p.subs(sqrt(2),2**0.5).subs(r, 0.0667).subs(L_2, 0.29642))\n",
    "roundize(total_p, 2)"
   ]
  },
  {
   "cell_type": "code",
   "execution_count": null,
   "metadata": {},
   "outputs": [],
   "source": [
    "total_p_fun = lambdify([x_2.diff(), y_2.diff(), psi_dot], total_p)"
   ]
  },
  {
   "cell_type": "code",
   "execution_count": null,
   "metadata": {
    "scrolled": false
   },
   "outputs": [],
   "source": [
    "percent = [0.1, 0.25, 0.5, 0.75]\n",
    "\n",
    "\n",
    "plt.figure(figsize = [15,16])\n",
    "\n",
    "for iii in range(4):\n",
    "    psi_val = percent[iii]*psi_dot_max\n",
    "    mx_spd = max_speed_axes_2(psi_val)\n",
    "    speed_arr = np.linspace(-mx_spd, mx_spd, 200)\n",
    "    xx_speed, yy_speed = np.meshgrid(speed_arr, speed_arr)\n",
    "    xy_power = total_p_fun(xx_speed, yy_speed, psi_val)\n",
    "\n",
    "    ax = plt.subplot(2,2,iii+1)\n",
    "    title = 'Potencia eléctrica total, $\\dot{\\psi} = '+ str(percent[iii])+'\\dot{\\psi}_{max}$'\n",
    "    ax.set_title(title, picker=True)\n",
    "    CS = ax.contour(speed_arr, speed_arr, xy_power)\n",
    "    ax.clabel(CS, inline=1, fontsize=10, fmt = '%1.2f W')\n",
    "    ax.set_xlim([-0.8, 0.8])\n",
    "    ax.set_ylim([-0.8, 0.8])\n",
    "    rect = Rectangle((-mx_spd,-mx_spd), 2*mx_spd, 2*mx_spd, fill=False, linestyle = ':')\n",
    "    #pc = PatchCollection(errorboxes, facecolor=facecolor, alpha=alpha,edgecolor=edgecolor)\n",
    "\n",
    "    ax.add_patch(rect)\n",
    "    #plt.contour(speed_arr, speed_arr, xy_power)\n",
    "\n",
    "    #for per in percent:\n",
    "    #    plt.plot(gamma_arr,total_p_fun(gamma_arr, v_r_num* per), label = '$v_r$ = '+ str(per) + '$v_{r,max}$')\n",
    "    #plt.vlines(np.pi*np.array([0.25, 0.5, 0.75]), 0, 36, 'k', 'dotted')\n",
    "    plt.grid()\n",
    "#plt.legend()\n",
    "#plt.xlabel('$\\gamma$, in radians')\n",
    "#plt.ylabel('Total power, in W')"
   ]
  },
  {
   "cell_type": "code",
   "execution_count": null,
   "metadata": {},
   "outputs": [],
   "source": [
    "6%5"
   ]
  },
  {
   "cell_type": "code",
   "execution_count": null,
   "metadata": {},
   "outputs": [],
   "source": [
    "percent = np.linspace(0, 1, 21)\n",
    "viridis = cm.get_cmap('viridis', 12)\n",
    "plt.figure(figsize = [10,8])\n",
    "for iii in range(len(percent)):\n",
    "    psi_val = percent[iii]*psi_dot_max\n",
    "    mx_spd = max_speed_axes_2(psi_val)\n",
    "    speed_arr = np.linspace(0, mx_spd, 200)\n",
    "    x_power = total_p_fun(speed_arr, 0, psi_val)\n",
    "    if iii%5 == 0:\n",
    "        title = '$\\dot{\\psi} = '+ str(round(percent[iii],2))+'\\dot{\\psi}_{max}$'\n",
    "        plt.plot(speed_arr, x_power, color = viridis(iii/len(percent)),label = title)\n",
    "    else:\n",
    "        plt.plot(speed_arr, x_power, color = viridis(iii/len(percent)))\n",
    "plt.legend()\n",
    "plt.title('Power when $\\dot{y_2}=0$')\n",
    "plt.xlabel('$\\dot{x}_2$, m/s')\n",
    "plt.ylabel('power, W')\n",
    "plt.grid()"
   ]
  },
  {
   "cell_type": "code",
   "execution_count": null,
   "metadata": {},
   "outputs": [],
   "source": [
    "percent = np.linspace(0, 1, 21)\n",
    "viridis = cm.get_cmap('viridis', 12)\n",
    "plt.figure(figsize = [10,8])\n",
    "for iii in range(len(percent)):\n",
    "    psi_val = percent[iii]*psi_dot_max\n",
    "    mx_spd = max_speed_axes_2(psi_val)\n",
    "    speed_arr = np.linspace(0, mx_spd, 200)\n",
    "    x_power = total_p_fun(speed_arr, speed_arr, psi_val)\n",
    "    if iii%5 == 0:\n",
    "        title = '$\\dot{\\psi} = '+ str(round(percent[iii],2))+'\\dot{\\psi}_{max}$'\n",
    "        plt.plot(speed_arr, x_power, color = viridis(iii/len(percent)),label = title)\n",
    "    else:\n",
    "        plt.plot(speed_arr, x_power, color = viridis(iii/len(percent)))\n",
    "plt.legend()\n",
    "plt.title('Power when $\\dot{x_2}=\\dot{y_2}$')\n",
    "plt.xlabel('$\\dot{x}_2$, m/s')\n",
    "plt.ylabel('power, W')\n",
    "plt.grid()"
   ]
  },
  {
   "cell_type": "markdown",
   "metadata": {},
   "source": [
    "## Electric Motor Model\n",
    "\n",
    "$$ V = K_m \\dot{\\phi} + Ri$$\n",
    "$$ \\tau_m = K_ei - \\tau_r$$"
   ]
  },
  {
   "cell_type": "code",
   "execution_count": null,
   "metadata": {},
   "outputs": [],
   "source": [
    "def friction(a, b, phi_dot, V, eps_phi = 0.01):\n",
    "    fric_wet = a * phi_dot\n",
    "    fric_dry = np.where(npor(\n",
    "        phi_dot>eps_phi,\n",
    "        npand(\n",
    "            np.abs(phi_dot)<=eps_phi,\n",
    "            V > 0)\n",
    "    ),b, 0)\n",
    "    fric_dry = np.where(npor(\n",
    "        phi_dot< -eps_phi,\n",
    "        npand(\n",
    "            np.abs(phi_dot)<=eps_phi,\n",
    "            V < 0)\n",
    "    ),-b, fric_dry)\n",
    "    return fric_wet + fric_dry"
   ]
  },
  {
   "cell_type": "code",
   "execution_count": null,
   "metadata": {},
   "outputs": [],
   "source": [
    "def create_motor_model(i_7000 = 0.5):\n",
    "    V = 24\n",
    "    R = 24/13\n",
    "    K_m = (V - R*i_7000)/(2 * np.pi*7000/60)\n",
    "    t_rat = 4300*9.8/(100*1000)    #570*9.8/(100*1000)\n",
    "    phi_rat = 0                    #5900*np.pi*2/60\n",
    "    i_rat = (V - K_m*phi_rat)/R\n",
    "    K_e = t_rat/(i_rat-i_7000)\n",
    "    t_r = -t_rat + K_e * i_rat\n",
    "    print(f'K_m = {K_m}, K_e = {K_e}, R = {R}, i_rat = {i_rat}, t_r = {t_r}')\n",
    "    def motor_model(phi_dot, V = 24):\n",
    "        i = (V - K_m*phi_dot)/R\n",
    "        t = K_e * i - friction(0,t_r, phi_dot, V)\n",
    "        p = t * phi_dot\n",
    "        ef = p / (i * V)\n",
    "        return t, i, p, ef\n",
    "    def simp_motor_model(phi_dot, V = 24):\n",
    "        i = (V - K_m*phi_dot)/R\n",
    "        t = K_e * i - friction(0,t_r, phi_dot, V)\n",
    "        return t\n",
    "    return motor_model, simp_motor_model"
   ]
  },
  {
   "cell_type": "code",
   "execution_count": null,
   "metadata": {
    "scrolled": false
   },
   "outputs": [],
   "source": [
    "x = np.linspace(0, 2 * np.pi * 7000/60, 300)\n",
    "n = x * 30 / np.pi\n",
    "motor_model = create_motor_model(0.5)[0]\n",
    "t, i, p, ef = motor_model(x)\n",
    "t = t *100000/9.8\n",
    "\n",
    "fig, ax1 = plt.subplots()\n",
    "\n",
    "ax1.plot(t,n)\n",
    "ax1.set_ylim([0,7000])\n",
    "ax1.set_xlim([0,4400])\n",
    "\n",
    "ax2 = ax1.twinx()\n",
    "ax2.plot(t,i)\n",
    "ax2.set_ylim([0,13])\n",
    "\n",
    "ax3 = ax1.twinx()\n",
    "ax3.plot(t,p)\n",
    "ax3.spines[\"right\"].set_position((\"axes\", 1.1))\n",
    "ax3.set_ylim([0,80])\n",
    "\n",
    "ax4 = ax1.twinx()\n",
    "ax4.plot(t,ef)\n",
    "ax4.spines[\"right\"].set_position((\"axes\", 1.2))\n",
    "ax4.set_ylim([0,1])\n",
    "plt.grid()\n",
    "plt.title('Motor Curves')\n",
    "\n",
    "plt.grid(True)"
   ]
  },
  {
   "cell_type": "markdown",
   "metadata": {},
   "source": [
    "### Comparison with manufacturer original motor curves:\n",
    "![Original curves](images_dejabot/curvas_motor.png)"
   ]
  },
  {
   "cell_type": "markdown",
   "metadata": {},
   "source": [
    "Expanded curves outside normal regime:"
   ]
  },
  {
   "cell_type": "code",
   "execution_count": null,
   "metadata": {
    "scrolled": false
   },
   "outputs": [],
   "source": [
    "x = np.linspace(-2 * np.pi * 7000/60, 4 * np.pi * 7000/60, 300)\n",
    "n = x * 30 / np.pi\n",
    "motor_model = create_motor_model(0.5)[0]\n",
    "t, i, p, ef = motor_model(x)\n",
    "t = t *100000/9.8\n",
    "\n",
    "fig, ax1 = plt.subplots()\n",
    "\n",
    "ax1.plot(t,n, 'r')\n",
    "ax1.set_ylim([-14000,14000])\n",
    "ax1.set_xlim([-4400,8800])\n",
    "\n",
    "ax2 = ax1.twinx()\n",
    "ax2.plot(t,i)\n",
    "ax2.set_ylim([-26,26])\n",
    "\n",
    "ax3 = ax1.twinx()\n",
    "ax3.plot(t,p)\n",
    "ax3.spines[\"right\"].set_position((\"axes\", 1.1))\n",
    "ax3.set_ylim([-80,80])\n",
    "\n",
    "ax4 = ax1.twinx()\n",
    "ax4.plot(t,ef, 'g')\n",
    "ax4.spines[\"right\"].set_position((\"axes\", 1.2))\n",
    "ax4.set_ylim([-2,2])\n",
    "plt.grid()\n",
    "\n",
    "plt.grid(True)"
   ]
  },
  {
   "cell_type": "markdown",
   "metadata": {},
   "source": [
    "Adapted Curves with reductor gears:"
   ]
  },
  {
   "cell_type": "markdown",
   "metadata": {},
   "source": [
    "## Electric Motor Model\n",
    "\n",
    "$$ V = K_m \\dot{\\phi_{mot}} + Ri$$\n",
    "$$ \\tau_m = N K_ei\\mu_{trans} - \\tau_r$$\n",
    "\n",
    "$$ \\dot{\\phi}_{mot} = N \\dot{\\phi}$$\n",
    "$$ \\tau_r = a \\dot{\\phi} + b·sign(\\dot{\\phi}) $$"
   ]
  },
  {
   "cell_type": "code",
   "execution_count": null,
   "metadata": {},
   "outputs": [],
   "source": [
    "def create_motoreduct_model(i_7000 = 0.5, N = 49, eff = 0.6, a = 0.01, b = 0.4):\n",
    "    V = 24\n",
    "    R = 24/13\n",
    "    K_m = (V - R*i_7000)/(2 * np.pi*7000/60)\n",
    "    t_rat = 4300*9.8/(100*1000)    #570*9.8/(100*1000)\n",
    "    phi_rat = 0                    #5900*np.pi*2/60\n",
    "    i_rat = (V - K_m*phi_rat)/R\n",
    "    K_e = t_rat/(i_rat-i_7000)\n",
    "    \n",
    "    print(f'K_m = {K_m}, K_e = {K_e}, R = {R}, i_rat = {i_rat}')\n",
    "    eps_phi = 0.1\n",
    "    \n",
    "    def motoreduct_model(phi_dot, V = 24):\n",
    "        phi_dot_motor = phi_dot * N\n",
    "        i = (V - K_m*phi_dot_motor)/R\n",
    "        t = K_e * i * N * eff - friction(a, b, phi_dot, V, eps_phi)\n",
    "        p = t * phi_dot\n",
    "        ef = p / (i * V)\n",
    "        return t, i, p, ef\n",
    "    def simp_motoreduct_model(phi_dot, V = 24):\n",
    "        phi_dot_motor = phi_dot * N\n",
    "        i = (V - K_m*phi_dot_motor)/R\n",
    "        t = K_e * i * N * eff - friction(a, b, phi_dot, V, eps_phi)\n",
    "        return t\n",
    "    return motoreduct_model, simp_motoreduct_model"
   ]
  },
  {
   "cell_type": "code",
   "execution_count": null,
   "metadata": {
    "scrolled": true
   },
   "outputs": [],
   "source": [
    "x = np.linspace(0, 2 * np.pi * 7000/(49*60), 300)\n",
    "n = x * 30 / np.pi\n",
    "motor_model = create_motoreduct_model(0.5)[0]\n",
    "t, i, p, ef = motor_model(x)\n",
    "t = t *100000/9.8\n",
    "\n",
    "fig, ax1 = plt.subplots()\n",
    "\n",
    "ax1.plot(t,n)\n",
    "ax1.set_ylim([0,150])\n",
    "ax1.set_xlim([0,130000])\n",
    "\n",
    "ax2 = ax1.twinx()\n",
    "ax2.plot(t,i)\n",
    "ax2.set_ylim([0,13])\n",
    "\n",
    "ax3 = ax1.twinx()\n",
    "ax3.plot(t,p)\n",
    "ax3.spines[\"right\"].set_position((\"axes\", 1.1))\n",
    "ax3.set_ylim([0,80])\n",
    "\n",
    "ax4 = ax1.twinx()\n",
    "ax4.plot(t,ef)\n",
    "ax4.spines[\"right\"].set_position((\"axes\", 1.2))\n",
    "ax4.set_ylim([0,1])\n",
    "#plt.grid()\n",
    "\n",
    "ax5 = ax1.twinx()\n",
    "ax5.spines[\"right\"].set_position((\"axes\", -0.2))\n",
    "ax5.set_ylim([0, x[-1]*0.0667])\n",
    "\n",
    "plt.grid(True)"
   ]
  },
  {
   "cell_type": "code",
   "execution_count": null,
   "metadata": {},
   "outputs": [],
   "source": [
    "def torq_lims(phi_dot, v_max = 24, motor = create_motoreduct_model()[1]):\n",
    "    t_max = motor(phi_dot, v_max)\n",
    "    t_min = motor(phi_dot, -v_max)\n",
    "    \n",
    "    return t_max, t_min"
   ]
  },
  {
   "cell_type": "code",
   "execution_count": null,
   "metadata": {},
   "outputs": [],
   "source": [
    "def vect_torq_lims(geom, q, q_dot):\n",
    "    a = get_a(geom, q)\n",
    "    phi_dot = a.T@q_dot\n",
    "    #print(f'phi_dot: {np.round(phi_dot,3)}')\n",
    "    t_max = []\n",
    "    t_min = []\n",
    "    for wheel in phi_dot:\n",
    "        maxt, mint = torq_lims(wheel)\n",
    "        t_max.append(maxt)\n",
    "        t_min.append(mint)\n",
    "    t_max = np.array(t_max)\n",
    "    t_min = np.array(t_min)\n",
    "    \n",
    "    return (t_max, t_min)"
   ]
  },
  {
   "cell_type": "markdown",
   "metadata": {},
   "source": [
    "### Simplified expression linking maximum and mínimum torque as function of speed"
   ]
  },
  {
   "cell_type": "code",
   "execution_count": null,
   "metadata": {},
   "outputs": [],
   "source": [
    "phi_arr = np.linspace(-20, 20, 500)\n",
    "max_t, min_t = torq_lims(phi_arr)\n",
    "t_v_med, t_min_v_med = torq_lims(phi_arr, v_max= 12)\n",
    "t_v_0, _ = torq_lims(phi_arr, v_max= 0)\n",
    "max_t_nodry, min_t_nodry = torq_lims(phi_arr, motor = create_motoreduct_model(b=0)[1])\n",
    "t_v_med_nodry, t_min_v_med_nodry = torq_lims(phi_arr, v_max= 12, motor = create_motoreduct_model(b=0)[1])\n",
    "t_v_0_nodry, _ = torq_lims(phi_arr, v_max= 0, motor = create_motoreduct_model(b=0)[1])"
   ]
  },
  {
   "cell_type": "code",
   "execution_count": null,
   "metadata": {},
   "outputs": [],
   "source": [
    "plt.figure(figsize=[15,12])\n",
    "n_arr = phi_arr * 30 / np.pi \n",
    "plt.plot(n_arr, max_t*100/9.8, label = 'par máximo, modelo completo')\n",
    "plt.plot(n_arr, min_t*100/9.8, label = 'par mínimo, modelo completo')\n",
    "plt.plot(n_arr, max_t_nodry*100/9.8, label = 'par máximo, sin fricción seca')\n",
    "plt.plot(n_arr, min_t_nodry*100/9.8, label = 'par mínimo, sin fricción seca')\n",
    "plt.plot(n_arr, t_v_med*100/9.8, label = 'par a 12 V, modelo completo')\n",
    "plt.plot(n_arr, t_min_v_med*100/9.8, label = 'par a -12 V, modelo completo')\n",
    "plt.plot(n_arr, t_v_med_nodry*100/9.8, label = 'par a 12 V, sin fricción seca')\n",
    "plt.plot(n_arr, t_min_v_med_nodry*100/9.8, label = 'par a -12 V, sin fricción seca')\n",
    "plt.plot(n_arr, t_v_0*100/9.8, label = 'par a 0 V, modelo completo')\n",
    "plt.plot(n_arr, t_v_0_nodry*100/9.8, label = 'par a 0 V, sin fricción seca')\n",
    "plt.hlines(0, -200, 200, 'k', 'dotted')\n",
    "plt.vlines(0, -300, 300, 'k', 'dotted')\n",
    "plt.grid\n",
    "plt.xlabel('velocidad del motor, RPM')\n",
    "plt.ylabel('par motor, Kg·cm')\n",
    "plt.legend()"
   ]
  },
  {
   "cell_type": "code",
   "execution_count": null,
   "metadata": {},
   "outputs": [],
   "source": [
    "def cutpoint(x1, x2, y1, y2):\n",
    "    a = (y1-y2)/(x1-x2)\n",
    "    b = y1 - a * x1\n",
    "    return -b/a"
   ]
  },
  {
   "cell_type": "code",
   "execution_count": null,
   "metadata": {},
   "outputs": [],
   "source": [
    "cut1 = cutpoint(phi_arr[260], phi_arr[499], max_t[260], max_t[499])\n",
    "cut2 = cutpoint(phi_arr[260], phi_arr[499], max_t_nodry[260], max_t_nodry[499])\n",
    "corr_factor = cut2/cut1\n",
    "corr_factor"
   ]
  },
  {
   "cell_type": "code",
   "execution_count": null,
   "metadata": {},
   "outputs": [],
   "source": [
    "cut1"
   ]
  },
  {
   "cell_type": "code",
   "execution_count": null,
   "metadata": {},
   "outputs": [],
   "source": [
    "new_a = 0.4/cut1 + 0.01\n",
    "new_a"
   ]
  },
  {
   "cell_type": "code",
   "execution_count": null,
   "metadata": {},
   "outputs": [],
   "source": [
    "friction(0.01, 0.4, cut1, 24)"
   ]
  },
  {
   "cell_type": "code",
   "execution_count": null,
   "metadata": {},
   "outputs": [],
   "source": [
    "friction(new_a , 0.0, cut1, 24)"
   ]
  },
  {
   "cell_type": "markdown",
   "metadata": {},
   "source": [
    "new_a = (corr_factor -1)* 0.0314812 / 1.846154 + corr_factor* 0.01\n",
    "new_a"
   ]
  },
  {
   "cell_type": "code",
   "execution_count": null,
   "metadata": {},
   "outputs": [],
   "source": [
    "max_t_new_m, min_t_new_m = torq_lims(phi_arr, motor = create_motoreduct_model(b=0, a=new_a)[1])\n",
    "t_v_med_new_m, t_min_v_med_new_m = torq_lims(phi_arr, v_max= 12, motor = create_motoreduct_model(b=0, a=new_a)[1])\n",
    "t_v_0_new_m, _ = torq_lims(phi_arr, v_max= 0, motor = create_motoreduct_model(b=0, a=new_a)[1])"
   ]
  },
  {
   "cell_type": "code",
   "execution_count": null,
   "metadata": {},
   "outputs": [],
   "source": [
    "plt.figure(figsize=[15,12])\n",
    "n_arr = phi_arr * 30 / np.pi \n",
    "plt.plot(n_arr, max_t*100/9.8, label = 'par máximo, modelo completo')\n",
    "plt.plot(n_arr, min_t*100/9.8, label = 'par mínimo, modelo completo')\n",
    "plt.plot(n_arr, max_t_new_m*100/9.8, label = 'par máximo, modificado')\n",
    "plt.plot(n_arr, min_t_new_m*100/9.8, label = 'par mínimo, modificado')\n",
    "plt.plot(n_arr, t_v_med*100/9.8, label = 'par a 12 V, modelo completo')\n",
    "plt.plot(n_arr, t_min_v_med*100/9.8, label = 'par a -12 V, modelo completo')\n",
    "plt.plot(n_arr, t_v_med_new_m*100/9.8, label = 'par a 12 V, modificado')\n",
    "plt.plot(n_arr, t_min_v_med_new_m*100/9.8, label = 'par a -12 V, modificado')\n",
    "plt.plot(n_arr, t_v_0*100/9.8, label = 'par a 0 V, modelo completo')\n",
    "plt.plot(n_arr, t_v_0_new_m*100/9.8, label = 'par a 0 V, modificado')\n",
    "plt.hlines(0, -200, 200, 'k', 'dotted')\n",
    "plt.vlines(0, -300, 300, 'k', 'dotted')\n",
    "plt.grid\n",
    "plt.xlabel('velocidad del motor, RPM')\n",
    "plt.ylabel('par motor, Kg·cm')\n",
    "plt.legend()"
   ]
  },
  {
   "cell_type": "code",
   "execution_count": null,
   "metadata": {},
   "outputs": [],
   "source": [
    "max_t_no_f, min_t_no_f = torq_lims(phi_arr, motor = create_motoreduct_model(b=0, a=0)[1])\n",
    "t_v_med_no_f, t_min_v_med_no_f = torq_lims(phi_arr, v_max= 12, motor = create_motoreduct_model(b=0, a=0)[1])\n",
    "t_v_0_no_f, _ = torq_lims(phi_arr, v_max= 0, motor = create_motoreduct_model(b=0, a=0)[1])"
   ]
  },
  {
   "cell_type": "code",
   "execution_count": null,
   "metadata": {},
   "outputs": [],
   "source": [
    "plt.figure(figsize=[15,12])\n",
    "n_arr = phi_arr * 30 / np.pi \n",
    "plt.plot(n_arr, max_t*100/9.8, label = 'par máximo, modelo completo')\n",
    "plt.plot(n_arr, min_t*100/9.8, label = 'par mínimo, modelo completo')\n",
    "plt.plot(n_arr, max_t_no_f*100/9.8, label = 'par máximo, sin rozamiento')\n",
    "plt.plot(n_arr, min_t_no_f*100/9.8, label = 'par mínimo, sin rozamiento')\n",
    "plt.plot(n_arr, t_v_med*100/9.8, label = 'par a 12 V, modelo completo')\n",
    "plt.plot(n_arr, t_min_v_med*100/9.8, label = 'par a -12 V, modelo completo')\n",
    "plt.plot(n_arr, t_v_med_no_f*100/9.8, label = 'par a 12 V, sin rozamiento')\n",
    "plt.plot(n_arr, t_min_v_med_no_f*100/9.8, label = 'par a -12 V, sin rozamiento')\n",
    "plt.plot(n_arr, t_v_0*100/9.8, label = 'par a 0 V, modelo completo')\n",
    "plt.plot(n_arr, t_v_0_no_f*100/9.8, label = 'par a 0 V, sin rozamiento')\n",
    "plt.hlines(0, -200, 200, 'k', 'dotted')\n",
    "plt.vlines(0, -300, 300, 'k', 'dotted')\n",
    "plt.grid\n",
    "plt.xlabel('velocidad del motor, RPM')\n",
    "plt.ylabel('par motor, Kg·cm')\n",
    "plt.legend()"
   ]
  }
 ],
 "metadata": {
  "kernelspec": {
   "display_name": "Python 3",
   "language": "python",
   "name": "python3"
  },
  "language_info": {
   "codemirror_mode": {
    "name": "ipython",
    "version": 3
   },
   "file_extension": ".py",
   "mimetype": "text/x-python",
   "name": "python",
   "nbconvert_exporter": "python",
   "pygments_lexer": "ipython3",
   "version": "3.7.7"
  }
 },
 "nbformat": 4,
 "nbformat_minor": 2
}
